{
 "metadata": {
  "name": "",
  "signature": "sha256:39bb4c2cf0833c926d2800c99093bb279b83a22869ab9f99a2a0e96afbbe96f7"
 },
 "nbformat": 3,
 "nbformat_minor": 0,
 "worksheets": [
  {
   "cells": [
    {
     "cell_type": "code",
     "collapsed": false,
     "input": [],
     "language": "python",
     "metadata": {},
     "outputs": [],
     "prompt_number": 0
    },
    {
     "cell_type": "markdown",
     "metadata": {},
     "source": [
      "#Minianalysis: Last year used vs. X years into future\n",
      "\n",
      "\"\"\"\n",
      "\n",
      "filename: lastYearUsed_vs_x_Years_Into_Future.py\n",
      "\n",
      "description: Take models run on the last year of GSS an article used and compare them vs that model on future \n",
      "             waves of GSS. Each difference in outcomes counts as one observation, i.e. many observations\n",
      "             per article.\n",
      "\n",
      "inputs:\n",
      "\n",
      "outputs:\n",
      "\n",
      "@author: Misha\n",
      "\n",
      "\"\"\""
     ]
    },
    {
     "cell_type": "code",
     "collapsed": false,
     "input": [
      "import pandas as pd\n",
      "\n",
      "from __future__ import division\n",
      "#import cPickle as cp\n",
      "import sys\n",
      "sys.path.append('../')    \n",
      "import GSSUtility as GU\n",
      "\n",
      "import numpy as np\n",
      "import statsmodels.formula.api as smf \n",
      "import random\n",
      "from scipy.stats import pearsonr, ttest_ind, ttest_rel\n",
      "\n",
      "import time\n",
      "from collections import Counter\n",
      "from collections import defaultdict\n",
      "\n",
      "import seaborn"
     ],
     "language": "python",
     "metadata": {},
     "outputs": [],
     "prompt_number": 7
    },
    {
     "cell_type": "code",
     "collapsed": false,
     "input": [
      "if __name__ == \"__main__\":    \n",
      "\n",
      "    pathToData = '../../Data/'\n",
      "    dataCont = GU.dataContainer(pathToData)\n",
      "    \n",
      "    articlesToUse = GU.filterArticles(dataCont.articleClasses, GSSYearsUsed=True, GSSYearsPossible=True, centralIVs=True)            \n",
      "    print 'len of articleClasses:', len(articlesToUse)\n",
      "#     raw_input('...')\n",
      "    \n",
      "    # define the storage containers for outputs\n",
      "    group1 = 'on_last_year_of_data'\n",
      "    group2 = 'on_future_year'    \n",
      "    output = defaultdict(dict)\n",
      "    groups = [group1, group2]\n",
      "    outcomes = ['propSig', 'paramSizesNormed', 'Rs', 'adjRs', 'pvalues', 'numTotal', \\\n",
      "                'propSig_CentralVars', 'paramSizesNormed_CentralVars', 'pvalues_CentralVars']\n",
      "    \n",
      "    for yr in range(43):\n",
      "#         output[yr] = {}\n",
      "        output[yr]['metadata'] = {}\n",
      "        output[yr]['metadata']['last_GSS_year_used'] = []\n",
      "        output[yr]['metadata']['future_GSS_year'] = []\n",
      "        output[yr]['metadata']['articleID'] = []\n",
      "        for group in groups:\n",
      "            output[yr][group] = {}\n",
      "            for outcome in outcomes:\n",
      "                output[yr][group][outcome] = []\n",
      "            \n",
      "           \n",
      "#     for article in random.sample(articlesToUse, 50):\n",
      "    for article in articlesToUse:\n",
      "    #for article in [a for a in articlesToUse if a.articleID == 6755]:\n",
      "    \n",
      "        print 'Processing article:', article.articleID\n",
      " \n",
      "        '''             \n",
      "        # define the outcomes I'm interseted in for the two groups. td = \"temp data\" \n",
      "        # and initialize them for both groups\n",
      "        td = defaultdict(dict)\n",
      "        for group in groups:             \n",
      "            td[group]['numTotal'] = 0.0\n",
      "    #        td[group]['coeffsSig'] = []\n",
      "            td[group]['numSig'] = 0.0   # proportions of significant coeffs\n",
      "    #        td[group]['paramSizes'] = []\n",
      "            td[group]['paramSizesNormed'] = []\n",
      "            td[group]['Rs'] = []\n",
      "            td[group]['adjRs'] = []\n",
      "            td[group]['pvalues'] = []\n",
      "        '''\n",
      "        RHS = article.IVs + article.controls\n",
      "        \n",
      "        for DV in article.DVs:\n",
      "            \n",
      "            # the 3 lines below is the model estimated on the last year of data used, and stays constant when i put it into\n",
      "            # the output data structure. the loop below only goes over \"future possible years\"\n",
      "            maxYearUsed = max(article.GSSYearsUsed)          \n",
      "            resOnDataUsed = GU.runModel(dataCont, maxYearUsed, DV, RHS) # models run on max year of data used\n",
      "            if not resOnDataUsed: continue\n",
      "\n",
      "            # get column names of 'central variables'; this is tricky because some hve been dummy-fied                \n",
      "            centralVars = []            \n",
      "            for civ in article.centralIVs:\n",
      "                if 'standardize(%s, ddof=1)' % (civ) in resOnDataUsed.params.index:\n",
      "                    centralVars.append('standardize(%s, ddof=1)' % (civ))\n",
      "                else: \n",
      "                    for col in results[0].params.index:\n",
      "                        if 'C(' + civ + ')' in col:\n",
      "                            centralVars.append(col)\n",
      "                    \n",
      "            # The reasoning for the condition below is that authors make two types of arguments for \"central\" variables, \n",
      "            # (1) that the central variable is really important, p < 0.05, or (2) that the central variable is not important (p > 0.05). \n",
      "            # What we want to test by replacing the variable with a cognate are arguments of type (1). \n",
      "            # Arguments of type (2) are important and testable too, but if we test all of these together, we will obscure both effects.\n",
      "            # So the condition below ensures that at least one of the central variables was found to be \"important\" in the original \n",
      "            # article.\n",
      "            # This throws away 67 observations.\n",
      "            if np.all(resOnDataUsed.pvalues[centralVars] > 0.05): \n",
      "                print 'All \"central\" IVs are p > 0.05. Skipping.'\n",
      "                continue\n",
      "\n",
      "            # Now do future years\n",
      "            futureYearsPossible = [yr for yr in article.GSSYearsPossible if yr > maxYearUsed]\n",
      "            for futureYear in futureYearsPossible:\n",
      "                resOnFutureYear = GU.runModel(dataCont, futureYear, DV, RHS) # models run on min year of future data\n",
      "                if not resOnFutureYear: continue\n",
      "\n",
      "                # Checks on which results to record                \n",
      "                if len(resOnDataUsed.params) != len(resOnFutureYear.params):\n",
      "                    print 'The number of variables in original model is different from the number in cognate model. Skipping.'                    \n",
      "                    continue\n",
      "                \n",
      "                results = [resOnDataUsed, resOnFutureYear]\n",
      "     \n",
      "#                 print 'IVs:', article.IVs\n",
      "#                 print 'centralVars:', centralVars\n",
      "                \n",
      "                for i in range(2):                 \n",
      "                    output[futureYear - maxYearUsed][groups[i]]['Rs'].append(results[i].rsquared) \n",
      "                    output[futureYear - maxYearUsed][groups[i]]['adjRs'].append(results[i].rsquared_adj) \n",
      "                    output[futureYear - maxYearUsed][groups[i]]['propSig'].append(float(len([p for p in results[i].pvalues[1:] if p < 0.05]))/len(results[i].params[1:])) \n",
      "                    output[futureYear - maxYearUsed][groups[i]]['paramSizesNormed'].append(np.mean(results[i].params[1:].abs())) \n",
      "                    '''\n",
      "                    if np.isnan(np.mean( td[group]['paramSizesNormed'])).any():\n",
      "                        print results[i].summary()\n",
      "                        raise\n",
      "                    '''\n",
      "                    output[futureYear - maxYearUsed][groups[i]]['pvalues'].append(np.mean( results[i].pvalues[1:]))\n",
      "                    output[futureYear - maxYearUsed][groups[i]]['numTotal'].append( 1 ) #divide by len of R^2 array to get a mean of variables estimated PER model                           \n",
      "                    output[futureYear - maxYearUsed][groups[i]]['pvalues_CentralVars'].append(np.mean(results[i].pvalues[centralVars]))               \n",
      "                    output[futureYear - maxYearUsed][groups[i]]['propSig_CentralVars'].append(float(len([p for p in results[i].pvalues[centralVars] if p < 0.05])) \\\n",
      "                                                            /len(results[i].params[centralVars])) \n",
      "                    output[futureYear - maxYearUsed][groups[i]]['paramSizesNormed_CentralVars'].append(np.mean(results[i].params[centralVars].abs()))                \n",
      "                \n",
      "                # Now fill out metadata. It's not in the loop above because it's the same for both groups\n",
      "                output[futureYear - maxYearUsed]['metadata']['last_GSS_year_used'].append(maxYearUsed)\n",
      "                output[futureYear - maxYearUsed]['metadata']['future_GSS_year'].append(futureYear)\n",
      "                output[futureYear - maxYearUsed]['metadata']['articleID'].append(article.articleID)                 \n",
      "\n",
      "#     print 'TTests'\n",
      "\n",
      "#     for year in range(43):\n",
      "#         for outcome in outcomes:\n",
      "#             print year            \n",
      "#             print 'Means of group1 and group2:', np.mean(output[year][group1][outcome]), np.mean(output[year][group2][outcome]), \\\n",
      "#                     'Paired T-test of ' + outcome, ttest_rel(output[year][group1][outcome], output[year][group2][outcome])"
     ],
     "language": "python",
     "metadata": {},
     "outputs": [
      {
       "output_type": "stream",
       "stream": "stdout",
       "text": [
        "len of articleClasses: 407\n",
        "Processing article: 9\n",
        "Processing article: 18\n",
        "Dropping column MARITAL because it is constant\n",
        "Processing article: 21\n",
        "Dropping column RELIG because it is constant\n",
        "Dropping column RELIG because it is constant\n",
        "Processing article: 22\n",
        "Processing article: 59\n",
        "Processing article:"
       ]
      },
      {
       "output_type": "stream",
       "stream": "stdout",
       "text": [
        " 98\n",
        "Processing article: 117\n",
        "Dropping column RELIG because it is constant\n",
        "Dropping column RELIG because it is constant\n",
        "Dropping column RELIG because it is constant\n",
        "Processing article: 122\n",
        "Processing article: 123\n",
        "Dropping column RELIG because it is constant\n",
        "Dropping column RELIG because it is constant\n",
        "Dropping column RELIG because it is constant\n",
        "Processing article: 175\n",
        "Processing article: 224\n",
        "Processing article:"
       ]
      },
      {
       "output_type": "stream",
       "stream": "stdout",
       "text": [
        " 324\n",
        "Processing article: 325\n",
        "Processing article: 348\n",
        "Processing article: 356\n",
        "All \"central\" IVs are p > 0.05. Skipping."
       ]
      },
      {
       "output_type": "stream",
       "stream": "stdout",
       "text": [
        "\n",
        "All \"central\" IVs are p > 0.05. Skipping."
       ]
      },
      {
       "output_type": "stream",
       "stream": "stdout",
       "text": [
        "\n",
        "All \"central\" IVs are p > 0.05. Skipping."
       ]
      },
      {
       "output_type": "stream",
       "stream": "stdout",
       "text": [
        "\n",
        "All \"central\" IVs are p > 0.05. Skipping."
       ]
      },
      {
       "output_type": "stream",
       "stream": "stdout",
       "text": [
        "\n",
        "All \"central\" IVs are p > 0.05. Skipping."
       ]
      },
      {
       "output_type": "stream",
       "stream": "stdout",
       "text": [
        "\n",
        "Processing article: 358\n",
        "Processing article:"
       ]
      },
      {
       "output_type": "stream",
       "stream": "stdout",
       "text": [
        " 396\n",
        "Processing article: 436\n",
        "Processing article: 486\n",
        "Dropping column RELIG because it is constant\n",
        "Dropping column RELIG because it is constant\n",
        "Dropping column RELIG because it is constant\n",
        "Dropping column RELIG because it is constant\n",
        "Dropping column RELIG because it is constant\n",
        "Dropping column RELIG because it is constant\n",
        "Dropping column RELIG because it is constant\n",
        "Dropping column RELIG because it is constant\n",
        "Dropping column RELIG because it is constant\n",
        "Dropping column RELIG because it is constant\n",
        "Dropping column RELIG because it is constant\n",
        "Dropping column"
       ]
      },
      {
       "output_type": "stream",
       "stream": "stdout",
       "text": [
        " RELIG because it is constant\n",
        "Dropping column RELIG because it is constant\n",
        "Dropping column RELIG because it is constant\n",
        "Dropping column RELIG because it is constant\n",
        "Processing article: 509\n",
        "Processing article: 536\n",
        "Processing article:"
       ]
      },
      {
       "output_type": "stream",
       "stream": "stdout",
       "text": [
        " 593\n",
        "Processing article: 633\n",
        "Processing article: 635\n",
        "Processing article: 636\n",
        "Processing article: 646\n",
        "Processing article:"
       ]
      },
      {
       "output_type": "stream",
       "stream": "stdout",
       "text": [
        " 655\n",
        "All \"central\" IVs are p > 0.05. Skipping."
       ]
      },
      {
       "output_type": "stream",
       "stream": "stdout",
       "text": [
        "\n",
        "Processing article: 657\n",
        "Not enough observations. Skipping...\n",
        "Processing article: 686\n",
        "Processing article:"
       ]
      },
      {
       "output_type": "stream",
       "stream": "stdout",
       "text": [
        " 715\n",
        "Dropping column RELIG because it is constant\n",
        "Dropping column RELIG because it is constant\n",
        "Processing article: 716\n",
        "Dropping column RELIG because it is constant\n",
        "Dropping column RELIG16 because it is constant\n",
        "Dropping column DENOM because it is constant\n",
        "Dropping column DENOM16 because it is constant\n",
        "Dropping column RELIG because it is constant\n",
        "Dropping column RELIG16 because it is constant\n",
        "Dropping column DENOM because it is constant\n",
        "Dropping column DENOM16 because it is constant\n",
        "Dropping column RELIG because it is constant\n",
        "Dropping column RELIG16 because it is constant\n",
        "Dropping column DENOM because it is constant\n",
        "Dropping column DENOM16 because it is constant\n",
        "Processing article: 730\n",
        "Processing article: 739\n",
        "Processing article:"
       ]
      },
      {
       "output_type": "stream",
       "stream": "stdout",
       "text": [
        " 742\n",
        "Processing article:"
       ]
      },
      {
       "output_type": "stream",
       "stream": "stdout",
       "text": [
        " 756\n",
        "Processing article: 763\n",
        "Processing article: 829\n",
        "Dropping column MARITAL because it is constant\n",
        "Processing article: 835\n",
        "All \"central\" IVs are p > 0.05. Skipping."
       ]
      },
      {
       "output_type": "stream",
       "stream": "stdout",
       "text": [
        "\n",
        "Processing article: 861\n",
        "Processing article:"
       ]
      },
      {
       "output_type": "stream",
       "stream": "stdout",
       "text": [
        " 905\n",
        "All \"central\" IVs are p > 0.05. Skipping."
       ]
      },
      {
       "output_type": "stream",
       "stream": "stdout",
       "text": [
        "\n",
        "Processing article:"
       ]
      },
      {
       "output_type": "stream",
       "stream": "stdout",
       "text": [
        " 932\n",
        "Processing article: 1006\n",
        "Processing article: 1037\n",
        "Processing article:"
       ]
      },
      {
       "output_type": "stream",
       "stream": "stdout",
       "text": [
        " 1043\n",
        "Processing article: 1079\n",
        "Processing article: 1118\n",
        "Processing article:"
       ]
      },
      {
       "output_type": "stream",
       "stream": "stdout",
       "text": [
        " 1162\n",
        "All \"central\" IVs are p > 0.05. Skipping."
       ]
      },
      {
       "output_type": "stream",
       "stream": "stdout",
       "text": [
        "\n",
        "Processing article: 1179\n",
        "Dropping column RELIG because it is constant\n",
        "Processing article: 1182\n",
        "Processing article: 1183\n",
        "Dropping column RELIG because it is constant\n",
        "Dropping column RELIG because it is constant\n",
        "Dropping column RELIG because it is constant\n",
        "Dropping column RELIG because it is constant\n",
        "Dropping column RELIG because it is constant\n",
        "Dropping column RELIG because it is constant\n",
        "Processing article: 1210\n",
        "Processing article: 1211\n",
        "Processing article: 1212\n",
        "Dropping column RELIG because it is constant\n",
        "Dropping column DENOM because it is constant\n",
        "Processing article: 1281\n",
        "All \"central\" IVs are p > 0.05. Skipping."
       ]
      },
      {
       "output_type": "stream",
       "stream": "stdout",
       "text": [
        "\n",
        "Processing article: 1307\n",
        "Dropping column RELIG because it is constant\n",
        "Processing article: 1310\n",
        "Processing article: 1311\n",
        "All \"central\" IVs are p > 0.05. Skipping."
       ]
      },
      {
       "output_type": "stream",
       "stream": "stdout",
       "text": [
        "\n",
        "Processing article:"
       ]
      },
      {
       "output_type": "stream",
       "stream": "stdout",
       "text": [
        " 1313\n",
        "Processing article: 1315\n",
        "Processing article: 1340\n",
        "Not enough observations. Skipping...\n",
        "Dropping column RELIG because it is constant\n",
        "Dropping column DENOM because it is constant\n",
        "Not enough observations. Skipping...\n",
        "Processing article: 1341\n",
        "Dropping column RELIG because it is constant\n",
        "Dropping column DENOM because it is constant\n",
        "Dropping column RELIG because it is constant\n",
        "Dropping column DENOM because it is constant\n",
        "Processing article: 1355\n",
        "All \"central\" IVs are p > 0.05. Skipping."
       ]
      },
      {
       "output_type": "stream",
       "stream": "stdout",
       "text": [
        "\n",
        "Processing article: 1361\n",
        "Dropping column EVWORK because it is constant\n",
        "Processing article: 1362\n",
        "Processing article: 1365\n",
        "Dropping column RELIG because it is constant\n",
        "Dropping column DENOM because it is constant\n",
        "Dropping column RELIG because it is constant\n",
        "Dropping column DENOM because it is constant\n",
        "Dropping column RELIG because it is constant\n",
        "Dropping column DENOM because it is constant\n",
        "Dropping column RELIG because it is constant\n",
        "Dropping column DENOM because it is constant\n",
        "Dropping column RELIG because it is constant\n",
        "Dropping column DENOM because it is constant\n",
        "Dropping column RELIG because it is constant\n",
        "Dropping column DENOM because it is constant\n",
        "Processing article: 1370\n",
        "Processing article: 1390\n",
        "Dropping column"
       ]
      },
      {
       "output_type": "stream",
       "stream": "stdout",
       "text": [
        " RELIG because it is constant\n",
        "Dropping column RELIG because it is constant\n",
        "Dropping column RELIG because it is constant\n",
        "Dropping column RELIG because it is constant\n",
        "Dropping column RELIG because it is constant\n",
        "Dropping column RELIG because it is constant\n",
        "Processing article: 1404\n",
        "Processing article:"
       ]
      },
      {
       "output_type": "stream",
       "stream": "stdout",
       "text": [
        " 1474\n",
        "Not enough observations. Skipping...\n",
        "Processing article: 1482\n",
        "All \"central\" IVs are p > 0.05. Skipping.\n",
        "All \"central\" IVs are p > 0.05. Skipping."
       ]
      },
      {
       "output_type": "stream",
       "stream": "stdout",
       "text": [
        "\n",
        "Processing article: 1484\n",
        "Dropping column MARITAL because it is constant\n",
        "Processing article: 1501\n",
        "Processing article: 1502\n",
        "All \"central\" IVs are p > 0.05. Skipping."
       ]
      },
      {
       "output_type": "stream",
       "stream": "stdout",
       "text": [
        "\n",
        "Processing article: 1510\n",
        "Processing article: 1530\n",
        "All \"central\" IVs are p > 0.05. Skipping."
       ]
      },
      {
       "output_type": "stream",
       "stream": "stdout",
       "text": [
        "\n",
        "All \"central\" IVs are p > 0.05. Skipping."
       ]
      },
      {
       "output_type": "stream",
       "stream": "stdout",
       "text": [
        "\n",
        "All \"central\" IVs are p > 0.05. Skipping."
       ]
      },
      {
       "output_type": "stream",
       "stream": "stdout",
       "text": [
        "\n",
        "All \"central\" IVs are p > 0.05. Skipping."
       ]
      },
      {
       "output_type": "stream",
       "stream": "stdout",
       "text": [
        "\n",
        "All \"central\" IVs are p > 0.05. Skipping."
       ]
      },
      {
       "output_type": "stream",
       "stream": "stdout",
       "text": [
        "\n",
        "All \"central\" IVs are p > 0.05. Skipping."
       ]
      },
      {
       "output_type": "stream",
       "stream": "stdout",
       "text": [
        "\n",
        "Processing article: 1533\n",
        "Processing article:"
       ]
      },
      {
       "output_type": "stream",
       "stream": "stdout",
       "text": [
        " 1547\n",
        "Processing article:"
       ]
      },
      {
       "output_type": "stream",
       "stream": "stdout",
       "text": [
        " 1565\n",
        "All \"central\" IVs are p > 0.05. Skipping."
       ]
      },
      {
       "output_type": "stream",
       "stream": "stdout",
       "text": [
        "\n",
        "Processing article:"
       ]
      },
      {
       "output_type": "stream",
       "stream": "stdout",
       "text": [
        " 1569\n",
        "Dropping column RELIG because it is constant\n",
        "Dropping column RELIG because it is constant\n",
        "Dropping column RELIG because it is constant\n",
        "Dropping column RELIG because it is constant\n",
        "Dropping column RELIG because it is constant\n",
        "Dropping column RELIG because it is constant\n",
        "Processing article: 1570\n",
        "All \"central\" IVs are p > 0.05. Skipping."
       ]
      },
      {
       "output_type": "stream",
       "stream": "stdout",
       "text": [
        "\n",
        "Processing article: 1609\n",
        "Not enough observations. Skipping...\n",
        "Not enough observations. Skipping...\n",
        "Not enough observations. Skipping...\n",
        "Not enough observations. Skipping...\n",
        "Not enough observations. Skipping...\n",
        "Not enough observations. Skipping...\n",
        "Not enough observations. Skipping..."
       ]
      },
      {
       "output_type": "stream",
       "stream": "stdout",
       "text": [
        "\n",
        "Not enough observations. Skipping...\n",
        "Not enough observations. Skipping...\n",
        "Processing article: 1611\n",
        "Processing article:"
       ]
      },
      {
       "output_type": "stream",
       "stream": "stdout",
       "text": [
        " 1612\n",
        "Processing article:"
       ]
      },
      {
       "output_type": "stream",
       "stream": "stdout",
       "text": [
        " 1619\n",
        "Processing article: 1648\n",
        "Dropping column MARITAL because it is constant\n",
        "Processing article: 1649\n",
        "Dropping column MARITAL because it is constant\n",
        "Processing article: 1659\n",
        "Processing article: 1684\n",
        "Dropping column MARITAL because it is constant\n",
        "Processing article: 1685\n",
        "Processing article: 1686\n",
        "Processing article: 1692\n",
        "Dropping column HIT because it is constant\n",
        "Dropping column"
       ]
      },
      {
       "output_type": "stream",
       "stream": "stdout",
       "text": [
        " HIT because it is constant\n",
        "Dropping column HIT because it is constant\n",
        "Dropping column"
       ]
      },
      {
       "output_type": "stream",
       "stream": "stdout",
       "text": [
        " HIT because it is constant\n",
        "Dropping column HIT because it is constant\n",
        "Dropping column"
       ]
      },
      {
       "output_type": "stream",
       "stream": "stdout",
       "text": [
        " HIT because it is constant\n",
        "Processing article: 1703\n",
        "Dropping column RELIG because it is constant\n",
        "Dropping column RELIG because it is constant\n",
        "Dropping column RELIG because it is constant\n",
        "Dropping column RELIG because it is constant\n",
        "Dropping column"
       ]
      },
      {
       "output_type": "stream",
       "stream": "stdout",
       "text": [
        " RELIG because it is constant\n",
        "Dropping column RELIG because it is constant\n",
        "Dropping column RELIG because it is constant\n",
        "Dropping column RELIG because it is constant\n",
        "Dropping column RELIG because it is constant\n",
        "Dropping column RELIG because it is constant\n",
        "Processing article: 1717\n",
        "Processing article: 1793\n",
        "Dropping column MARITAL because it is constant\n",
        "no IVs available. Skipping.\n",
        "Processing article: 1796\n",
        "Processing article: 1797\n",
        "Processing article:"
       ]
      },
      {
       "output_type": "stream",
       "stream": "stdout",
       "text": [
        " 1813\n",
        "Processing article: 1814\n",
        "Processing article:"
       ]
      },
      {
       "output_type": "stream",
       "stream": "stdout",
       "text": [
        " 1855\n",
        "Processing article: 1859\n",
        "Processing article: 1891\n",
        "Processing article:"
       ]
      },
      {
       "output_type": "stream",
       "stream": "stdout",
       "text": [
        " 1899\n",
        "Dropping column WKSUB because it is constant\n",
        "Dropping column WKSUP because it is constant\n",
        "Processing article: 1928\n",
        "Processing article:"
       ]
      },
      {
       "output_type": "stream",
       "stream": "stdout",
       "text": [
        " 1937\n",
        "Processing article: 1938\n",
        "Processing article: 1946\n",
        "Dropping column RELIG because it is constant\n",
        "Dropping column DENOM because it is constant\n",
        "Dropping column RELIG because it is constant\n",
        "Dropping column DENOM because it is constant\n",
        "Dropping column RELIG because it is constant\n",
        "Dropping column"
       ]
      },
      {
       "output_type": "stream",
       "stream": "stdout",
       "text": [
        " DENOM because it is constant\n",
        "Dropping column RELIG because it is constant\n",
        "Dropping column DENOM because it is constant\n",
        "Dropping column RELIG because it is constant\n",
        "Dropping column DENOM because it is constant\n",
        "Dropping column RELIG because it is constant\n",
        "Dropping column DENOM because it is constant\n",
        "Processing article: 1954\n",
        "Processing article: 1957\n",
        "Processing article: 1962\n",
        "Processing article:"
       ]
      },
      {
       "output_type": "stream",
       "stream": "stdout",
       "text": [
        " 1964\n",
        "Processing article: 1973\n",
        "Processing article: 1994\n",
        "Processing article: 2001\n",
        "Processing article:"
       ]
      },
      {
       "output_type": "stream",
       "stream": "stdout",
       "text": [
        " 2003\n",
        "Processing article: 2037\n",
        "Processing article: 2045\n",
        "Processing article:"
       ]
      },
      {
       "output_type": "stream",
       "stream": "stdout",
       "text": [
        " 2051\n",
        "Processing article: 2092\n",
        "Processing article:"
       ]
      },
      {
       "output_type": "stream",
       "stream": "stdout",
       "text": [
        " 2111\n",
        "Processing article: 2134\n",
        "Processing article: 2135\n",
        "Processing article: 2146\n",
        "Processing article: 2149\n",
        "Processing article: 2163\n",
        "Dropping column MARITAL because it is constant\n",
        "Processing article:"
       ]
      },
      {
       "output_type": "stream",
       "stream": "stdout",
       "text": [
        " 2179\n",
        "Processing article: 2205\n",
        "Processing article: 2207\n",
        "Processing article: 2231\n",
        "Processing article: 2235\n",
        "Processing article:"
       ]
      },
      {
       "output_type": "stream",
       "stream": "stdout",
       "text": [
        " 2243\n",
        "Processing article: 2253\n",
        "Processing article: 2255\n",
        "Processing article: 2285\n",
        "All \"central\" IVs are p > 0.05. Skipping."
       ]
      },
      {
       "output_type": "stream",
       "stream": "stdout",
       "text": [
        "\n",
        "All \"central\" IVs are p > 0.05. Skipping."
       ]
      },
      {
       "output_type": "stream",
       "stream": "stdout",
       "text": [
        "\n",
        "Processing article: 2291\n",
        "Processing article: 2308\n",
        "Dropping column RELIG because it is constant\n",
        "Dropping column RELIG because it is constant\n",
        "Dropping column RELIG because it is constant\n",
        "Dropping column RELIG because it is constant\n",
        "Processing article: 2312\n",
        "Processing article: 2345\n",
        "Processing article:"
       ]
      },
      {
       "output_type": "stream",
       "stream": "stdout",
       "text": [
        " 2354\n",
        "Processing article: 2429\n",
        "Dropping column RELIG because it is constant\n",
        "Dropping column RELIG because it is constant\n",
        "Dropping column RELIG because it is constant\n",
        "Dropping column RELIG because it is constant\n",
        "Dropping column RELIG because it is constant\n",
        "Dropping column RELIG because it is constant\n",
        "Dropping column RELIG because it is constant\n",
        "Dropping column RELIG because it is constant\n",
        "Dropping column RELIG because it is constant\n",
        "Dropping column RELIG because it is constant\n",
        "Dropping column"
       ]
      },
      {
       "output_type": "stream",
       "stream": "stdout",
       "text": [
        " RELIG because it is constant\n",
        "Dropping column RELIG because it is constant\n",
        "Dropping column RELIG because it is constant\n",
        "Processing article: 2430\n",
        "Dropping column RELIG because it is constant\n",
        "Dropping column RELIG because it is constant\n",
        "Dropping column RELIG because it is constant\n",
        "Dropping column RELIG because it is constant\n",
        "Dropping column RELIG because it is constant\n",
        "Dropping column RELIG because it is constant\n",
        "Dropping column RELIG because it is constant\n",
        "Dropping column RELIG because it is constant\n",
        "Dropping column RELIG because it is constant\n",
        "Dropping column RELIG because it is constant\n",
        "Dropping column RELIG because it is constant\n",
        "Processing article: 2436\n",
        "Dropping column"
       ]
      },
      {
       "output_type": "stream",
       "stream": "stdout",
       "text": [
        " MARITAL because it is constant\n",
        "Dropping column"
       ]
      },
      {
       "output_type": "stream",
       "stream": "stdout",
       "text": [
        " MARITAL because it is constant\n",
        "Dropping column"
       ]
      },
      {
       "output_type": "stream",
       "stream": "stdout",
       "text": [
        " MARITAL because it is constant\n",
        "Dropping column"
       ]
      },
      {
       "output_type": "stream",
       "stream": "stdout",
       "text": [
        " MARITAL because it is constant\n",
        "Dropping column"
       ]
      },
      {
       "output_type": "stream",
       "stream": "stdout",
       "text": [
        " MARITAL because it is constant\n",
        "Dropping column"
       ]
      },
      {
       "output_type": "stream",
       "stream": "stdout",
       "text": [
        " MARITAL because it is constant\n",
        "Dropping column"
       ]
      },
      {
       "output_type": "stream",
       "stream": "stdout",
       "text": [
        " MARITAL because it is constant\n",
        "Dropping column"
       ]
      },
      {
       "output_type": "stream",
       "stream": "stdout",
       "text": [
        " MARITAL because it is constant\n",
        "Dropping column"
       ]
      },
      {
       "output_type": "stream",
       "stream": "stdout",
       "text": [
        " MARITAL because it is constant\n",
        "Dropping column"
       ]
      },
      {
       "output_type": "stream",
       "stream": "stdout",
       "text": [
        " MARITAL because it is constant\n",
        "Dropping column"
       ]
      },
      {
       "output_type": "stream",
       "stream": "stdout",
       "text": [
        " MARITAL because it is constant\n",
        "Dropping column"
       ]
      },
      {
       "output_type": "stream",
       "stream": "stdout",
       "text": [
        " MARITAL because it is constant\n",
        "Processing article:"
       ]
      },
      {
       "output_type": "stream",
       "stream": "stdout",
       "text": [
        " 2446\n",
        "Processing article:"
       ]
      },
      {
       "output_type": "stream",
       "stream": "stdout",
       "text": [
        " 2465\n",
        "Processing article:"
       ]
      },
      {
       "output_type": "stream",
       "stream": "stdout",
       "text": [
        " 2466\n",
        "All \"central\" IVs are p > 0.05. Skipping."
       ]
      },
      {
       "output_type": "stream",
       "stream": "stdout",
       "text": [
        "\n",
        "Processing article: 2470\n",
        "All \"central\" IVs are p > 0.05. Skipping."
       ]
      },
      {
       "output_type": "stream",
       "stream": "stdout",
       "text": [
        "\n",
        "All \"central\" IVs are p > 0.05. Skipping."
       ]
      },
      {
       "output_type": "stream",
       "stream": "stdout",
       "text": [
        "\n",
        "All \"central\" IVs are p > 0.05. Skipping."
       ]
      },
      {
       "output_type": "stream",
       "stream": "stdout",
       "text": [
        "\n",
        "All \"central\" IVs are p > 0.05. Skipping."
       ]
      },
      {
       "output_type": "stream",
       "stream": "stdout",
       "text": [
        "\n",
        "All \"central\" IVs are p > 0.05. Skipping."
       ]
      },
      {
       "output_type": "stream",
       "stream": "stdout",
       "text": [
        "\n",
        "Processing article: 2475\n",
        "All \"central\" IVs are p > 0.05. Skipping."
       ]
      },
      {
       "output_type": "stream",
       "stream": "stdout",
       "text": [
        "\n",
        "All \"central\" IVs are p > 0.05. Skipping."
       ]
      },
      {
       "output_type": "stream",
       "stream": "stdout",
       "text": [
        "\n",
        "All \"central\" IVs are p > 0.05. Skipping."
       ]
      },
      {
       "output_type": "stream",
       "stream": "stdout",
       "text": [
        "\n",
        "All \"central\" IVs are p > 0.05. Skipping."
       ]
      },
      {
       "output_type": "stream",
       "stream": "stdout",
       "text": [
        "\n",
        "All \"central\" IVs are p > 0.05. Skipping."
       ]
      },
      {
       "output_type": "stream",
       "stream": "stdout",
       "text": [
        "\n",
        "All \"central\" IVs are p > 0.05. Skipping."
       ]
      },
      {
       "output_type": "stream",
       "stream": "stdout",
       "text": [
        "\n",
        "All \"central\" IVs are p > 0.05. Skipping."
       ]
      },
      {
       "output_type": "stream",
       "stream": "stdout",
       "text": [
        "\n",
        "All \"central\" IVs are p > 0.05. Skipping."
       ]
      },
      {
       "output_type": "stream",
       "stream": "stdout",
       "text": [
        "\n",
        "All \"central\" IVs are p > 0.05. Skipping."
       ]
      },
      {
       "output_type": "stream",
       "stream": "stdout",
       "text": [
        "\n",
        "All \"central\" IVs are p > 0.05. Skipping."
       ]
      },
      {
       "output_type": "stream",
       "stream": "stdout",
       "text": [
        "\n",
        "All \"central\" IVs are p > 0.05. Skipping."
       ]
      },
      {
       "output_type": "stream",
       "stream": "stdout",
       "text": [
        "\n",
        "Processing article: 2506\n",
        "Processing article:"
       ]
      },
      {
       "output_type": "stream",
       "stream": "stdout",
       "text": [
        " 2514\n",
        "Processing article: 2515\n",
        "Dropping column ERAREAD because it is constant\n",
        "Dropping column MARITAL because it is constant\n",
        "Processing article: 2523\n",
        "Processing article: 2548\n",
        "Processing article:"
       ]
      },
      {
       "output_type": "stream",
       "stream": "stdout",
       "text": [
        " 2554\n",
        "Processing article: 2576\n",
        "Processing article: 2581\n",
        "Not enough observations. Skipping..."
       ]
      },
      {
       "output_type": "stream",
       "stream": "stdout",
       "text": [
        "\n",
        "All \"central\" IVs are p > 0.05. Skipping."
       ]
      },
      {
       "output_type": "stream",
       "stream": "stdout",
       "text": [
        "\n",
        "Not enough observations. Skipping..."
       ]
      },
      {
       "output_type": "stream",
       "stream": "stdout",
       "text": [
        "\n",
        "Not enough observations. Skipping..."
       ]
      },
      {
       "output_type": "stream",
       "stream": "stdout",
       "text": [
        "\n",
        "All \"central\" IVs are p > 0.05. Skipping."
       ]
      },
      {
       "output_type": "stream",
       "stream": "stdout",
       "text": [
        "\n",
        "Not enough observations. Skipping..."
       ]
      },
      {
       "output_type": "stream",
       "stream": "stdout",
       "text": [
        "\n",
        "Not enough observations. Skipping..."
       ]
      },
      {
       "output_type": "stream",
       "stream": "stdout",
       "text": [
        "\n",
        "Not enough observations. Skipping..."
       ]
      },
      {
       "output_type": "stream",
       "stream": "stdout",
       "text": [
        "\n",
        "Not enough observations. Skipping..."
       ]
      },
      {
       "output_type": "stream",
       "stream": "stdout",
       "text": [
        "\n",
        "Not enough observations. Skipping..."
       ]
      },
      {
       "output_type": "stream",
       "stream": "stdout",
       "text": [
        "\n",
        "All \"central\" IVs are p > 0.05. Skipping."
       ]
      },
      {
       "output_type": "stream",
       "stream": "stdout",
       "text": [
        "\n",
        "Processing article: 2586\n",
        "Processing article: 2591\n",
        "Processing article: 2594\n",
        "Processing article: 2606\n",
        "Processing article: 2608\n",
        "Processing article: 2611\n",
        "Processing article:"
       ]
      },
      {
       "output_type": "stream",
       "stream": "stdout",
       "text": [
        " 2612\n",
        "Processing article: 2617\n",
        "Processing article: 2642\n",
        "Processing article: 2648\n",
        "Processing article: 2665\n",
        "All \"central\" IVs are p > 0.05. Skipping.\n",
        "All \"central\" IVs are p > 0.05. Skipping."
       ]
      },
      {
       "output_type": "stream",
       "stream": "stdout",
       "text": [
        "\n",
        "All \"central\" IVs are p > 0.05. Skipping.\n",
        "All \"central\" IVs are p > 0.05. Skipping."
       ]
      },
      {
       "output_type": "stream",
       "stream": "stdout",
       "text": [
        "\n",
        "Processing article: 2671\n",
        "Processing article:"
       ]
      },
      {
       "output_type": "stream",
       "stream": "stdout",
       "text": [
        " 2697\n",
        "All \"central\" IVs are p > 0.05. Skipping."
       ]
      },
      {
       "output_type": "stream",
       "stream": "stdout",
       "text": [
        "\n",
        "All \"central\" IVs are p > 0.05. Skipping."
       ]
      },
      {
       "output_type": "stream",
       "stream": "stdout",
       "text": [
        "\n",
        "All \"central\" IVs are p > 0.05. Skipping."
       ]
      },
      {
       "output_type": "stream",
       "stream": "stdout",
       "text": [
        "\n",
        "Processing article: 2740\n",
        "Processing article: 2753\n",
        "Dropping column RELIG because it is constant\n",
        "Dropping column RELIG16 because it is constant\n",
        "Dropping column MARITAL because it is constant\n",
        "Dropping column DENOM because it is constant\n",
        "Dropping column DENOM16 because it is constant\n",
        "Dropping column RELIG because it is constant\n",
        "Dropping column RELIG16 because it is constant\n",
        "Dropping column MARITAL because it is constant\n",
        "Dropping column DENOM because it is constant\n",
        "Dropping column DENOM16 because it is constant\n",
        "Dropping column RELIG because it is constant\n",
        "Dropping column RELIG16 because it is constant\n",
        "Dropping column MARITAL because it is constant\n",
        "Dropping column DENOM because it is constant\n",
        "Dropping column DENOM16 because it is constant\n",
        "Dropping column"
       ]
      },
      {
       "output_type": "stream",
       "stream": "stdout",
       "text": [
        " RELIG because it is constant\n",
        "Dropping column RELIG16 because it is constant\n",
        "Dropping column MARITAL because it is constant\n",
        "Dropping column DENOM because it is constant\n",
        "Dropping column DENOM16 because it is constant\n",
        "Dropping column RELIG because it is constant\n",
        "Dropping column RELIG16 because it is constant\n",
        "Dropping column MARITAL because it is constant\n",
        "Dropping column DENOM because it is constant\n",
        "Dropping column DENOM16 because it is constant\n",
        "Dropping column RELIG because it is constant\n",
        "Dropping column RELIG16 because it is constant\n",
        "Dropping column MARITAL because it is constant\n",
        "Dropping column DENOM because it is constant\n",
        "Dropping column DENOM16 because it is constant\n",
        "Dropping column RELIG because it is constant\n",
        "Dropping column RELIG16 because it is constant\n",
        "Dropping column MARITAL because it is constant\n",
        "Dropping column DENOM because it is constant\n",
        "Dropping column DENOM16 because it is constant\n",
        "Processing article: 2783\n",
        "Dropping column YEAR because it is constant\n",
        "Either the  params or the R^2 is too high. Skipping."
       ]
      },
      {
       "output_type": "stream",
       "stream": "stdout",
       "text": [
        "\n",
        "Dropping column YEAR because it is constant\n",
        "Either the  params or the R^2 is too high. Skipping."
       ]
      },
      {
       "output_type": "stream",
       "stream": "stdout",
       "text": [
        "\n",
        "Processing article: 2789\n",
        "Processing article: 2800\n",
        "Dropping column MARITAL because it is constant\n",
        "Processing article: 2801\n",
        "Processing article: 2802\n",
        "Processing article: 2822\n",
        "Processing article: 2841\n",
        "Processing article:"
       ]
      },
      {
       "output_type": "stream",
       "stream": "stdout",
       "text": [
        " 2853\n",
        "Processing article: 2877\n",
        "All \"central\" IVs are p > 0.05. Skipping."
       ]
      },
      {
       "output_type": "stream",
       "stream": "stdout",
       "text": [
        "\n",
        "Processing article:"
       ]
      },
      {
       "output_type": "stream",
       "stream": "stdout",
       "text": [
        " 2884\n",
        "Processing article: 2892\n",
        "Processing article: 2898\n",
        "Dropping column RELIG because it is constant\n",
        "Processing article: 2902\n",
        "Processing article: 2943\n",
        "Processing article: 2952\n",
        "Processing article: 2974\n",
        "Processing article: 3016\n",
        "Dropping column DENOM16 because it is constant\n",
        "Processing article:"
       ]
      },
      {
       "output_type": "stream",
       "stream": "stdout",
       "text": [
        " 3036\n",
        "Processing article: 3037\n",
        "Processing article: 3092\n",
        "Dropping column MARITAL because it is constant\n",
        "Processing article: 3094\n",
        "Dropping column MARITAL because it is constant\n",
        "Processing article: 3141\n",
        "Processing article: 3164\n",
        "Processing article:"
       ]
      },
      {
       "output_type": "stream",
       "stream": "stdout",
       "text": [
        " 3191\n",
        "Processing article: 3231\n",
        "Processing article: 3250\n",
        "Dropping column RELIG because it is constant\n",
        "Dropping column WKSUP because it is constant\n",
        "Dropping column RELIG because it is constant\n",
        "Dropping column WKSUP because it is constant\n",
        "Dropping column RELIG because it is constant\n",
        "Dropping column WKSUP because it is constant\n",
        "Dropping column RELIG because it is constant\n",
        "Dropping column WKSUP because it is constant\n",
        "Dropping column RELIG because it is constant\n",
        "Dropping column WKSUP because it is constant\n",
        "Dropping column RELIG because it is constant\n",
        "Dropping column WKSUP because it is constant\n",
        "Dropping column RELIG because it is constant\n",
        "Dropping column WKSUP because it is constant\n",
        "Dropping column RELIG because it is constant\n",
        "Dropping column WKSUP because it is constant\n",
        "Dropping column"
       ]
      },
      {
       "output_type": "stream",
       "stream": "stdout",
       "text": [
        " RELIG because it is constant\n",
        "Dropping column WKSUP because it is constant\n",
        "Dropping column RELIG because it is constant\n",
        "Dropping column WKSUP because it is constant\n",
        "Dropping column RELIG because it is constant\n",
        "Dropping column WKSUP because it is constant\n",
        "Dropping column RELIG because it is constant\n",
        "Dropping column WKSUP because it is constant\n",
        "Dropping column RELIG because it is constant\n",
        "Dropping column WKSUP because it is constant\n",
        "Dropping column RELIG because it is constant\n",
        "Dropping column WKSUP because it is constant\n",
        "Dropping column RELIG because it is constant\n",
        "Dropping column WKSUP because it is constant\n",
        "Processing article: 3268\n",
        "Dropping column MARITAL because it is constant\n",
        "Processing article: 3287\n",
        "Processing article:"
       ]
      },
      {
       "output_type": "stream",
       "stream": "stdout",
       "text": [
        " 3298\n",
        "All \"central\" IVs are p > 0.05. Skipping.\n",
        "All \"central\" IVs are p > 0.05. Skipping."
       ]
      },
      {
       "output_type": "stream",
       "stream": "stdout",
       "text": [
        "\n",
        "All \"central\" IVs are p > 0.05. Skipping.\n",
        "All \"central\" IVs are p > 0.05. Skipping."
       ]
      },
      {
       "output_type": "stream",
       "stream": "stdout",
       "text": [
        "\n",
        "All \"central\" IVs are p > 0.05. Skipping.\n",
        "All \"central\" IVs are p > 0.05. Skipping."
       ]
      },
      {
       "output_type": "stream",
       "stream": "stdout",
       "text": [
        "\n",
        "All \"central\" IVs are p > 0.05. Skipping.\n",
        "All \"central\" IVs are p > 0.05. Skipping."
       ]
      },
      {
       "output_type": "stream",
       "stream": "stdout",
       "text": [
        "\n",
        "All \"central\" IVs are p > 0.05. Skipping.\n",
        "All \"central\" IVs are p > 0.05. Skipping."
       ]
      },
      {
       "output_type": "stream",
       "stream": "stdout",
       "text": [
        "\n",
        "All \"central\" IVs are p > 0.05. Skipping.\n",
        "All \"central\" IVs are p > 0.05. Skipping."
       ]
      },
      {
       "output_type": "stream",
       "stream": "stdout",
       "text": [
        "\n",
        "Processing article: 3300\n",
        "All \"central\" IVs are p > 0.05. Skipping."
       ]
      },
      {
       "output_type": "stream",
       "stream": "stdout",
       "text": [
        "\n",
        "All \"central\" IVs are p > 0.05. Skipping."
       ]
      },
      {
       "output_type": "stream",
       "stream": "stdout",
       "text": [
        "\n",
        "All \"central\" IVs are p > 0.05. Skipping."
       ]
      },
      {
       "output_type": "stream",
       "stream": "stdout",
       "text": [
        "\n",
        "Processing article: 3313\n",
        "Processing article: 3350\n",
        "Processing article: 3400\n",
        "Processing article:"
       ]
      },
      {
       "output_type": "stream",
       "stream": "stdout",
       "text": [
        " 3444\n",
        "Dropping column RELIG because it is constant\n",
        "Dropping column RELIG because it is constant\n",
        "Dropping column RELIG because it is constant\n",
        "Processing article: 3445\n",
        "Dropping column RELIG because it is constant\n",
        "Dropping column DENOM because it is constant\n",
        "Dropping column RELIG because it is constant\n",
        "Dropping column DENOM because it is constant\n",
        "Dropping column RELIG because it is constant\n",
        "Dropping column DENOM because it is constant\n",
        "Processing article: 3450\n",
        "Processing article:"
       ]
      },
      {
       "output_type": "stream",
       "stream": "stdout",
       "text": [
        " 3489\n",
        "Processing article: 3501\n",
        "Dropping column MARITAL because it is constant\n",
        "Dropping column MARITAL because it is constant\n",
        "Dropping column MARITAL because it is constant\n",
        "Dropping column MARITAL because it is constant\n",
        "Processing article: 3567\n",
        "Dropping column YEAR because it is constant\n",
        "Dropping column RELIG because it is constant\n",
        "Dropping column YEAR because it is constant\n",
        "Dropping column RELIG because it is constant\n",
        "Dropping column YEAR because it is constant\n",
        "Dropping column RELIG because it is constant\n",
        "Processing article: 3568\n",
        "Processing article: 3594\n",
        "Processing article:"
       ]
      },
      {
       "output_type": "stream",
       "stream": "stdout",
       "text": [
        " 3605\n",
        "Dropping column RELIG because it is constant\n",
        "Processing article: 3606\n",
        "Processing article: 3607\n",
        "Processing article: 3676\n",
        "Processing article: 3690\n",
        "Processing article:"
       ]
      },
      {
       "output_type": "stream",
       "stream": "stdout",
       "text": [
        " 3729\n",
        "Processing article: 3743\n",
        "Dropping column RELIG because it is constant\n",
        "Dropping column DENOM because it is constant\n",
        "Dropping column RELIG because it is constant\n",
        "Dropping column DENOM because it is constant\n",
        "Dropping column RELIG because it is constant\n",
        "Dropping column DENOM because it is constant\n",
        "Dropping column RELIG because it is constant\n",
        "Dropping column DENOM because it is constant\n",
        "Dropping column RELIG because it is constant\n",
        "Dropping column DENOM because it is constant\n",
        "Dropping column RELIG because it is constant\n",
        "Dropping column DENOM because it is constant\n",
        "Dropping column RELIG because it is constant\n",
        "Dropping column DENOM because it is constant\n",
        "Processing article: 3758\n",
        "Dropping column RELIG because it is constant\n",
        "Dropping column DENOM because it is constant\n",
        "Dropping column RELIG because it is constant\n",
        "Dropping column DENOM because it is constant\n",
        "Dropping column"
       ]
      },
      {
       "output_type": "stream",
       "stream": "stdout",
       "text": [
        " RELIG because it is constant\n",
        "Dropping column DENOM because it is constant\n",
        "Dropping column RELIG because it is constant\n",
        "Dropping column DENOM because it is constant\n",
        "Dropping column RELIG because it is constant\n",
        "Dropping column DENOM because it is constant\n",
        "Dropping column RELIG because it is constant\n",
        "Dropping column DENOM because it is constant\n",
        "Dropping column RELIG because it is constant\n",
        "Dropping column DENOM because it is constant\n",
        "Dropping column RELIG because it is constant\n",
        "Dropping column DENOM because it is constant\n",
        "Dropping column RELIG because it is constant\n",
        "Dropping column DENOM because it is constant\n",
        "Dropping column RELIG because it is constant\n",
        "Dropping column DENOM because it is constant\n",
        "Dropping column RELIG because it is constant\n",
        "Dropping column DENOM because it is constant\n",
        "Dropping column RELIG because it is constant\n",
        "Dropping column DENOM because it is constant\n",
        "Dropping column RELIG because it is constant\n",
        "Dropping column DENOM because it is constant\n",
        "Dropping column RELIG because it is constant\n",
        "Dropping column DENOM because it is constant\n",
        "Dropping column RELIG because it is constant\n",
        "Dropping column DENOM because it is constant\n",
        "Dropping column RELIG because it is constant\n",
        "Dropping column DENOM because it is constant\n",
        "Dropping column RELIG because it is constant\n",
        "Dropping column DENOM because it is constant\n",
        "Dropping column RELIG because it is constant\n",
        "Dropping column DENOM because it is constant\n",
        "Dropping column"
       ]
      },
      {
       "output_type": "stream",
       "stream": "stdout",
       "text": [
        " RELIG because it is constant\n",
        "Dropping column DENOM because it is constant\n",
        "Dropping column RELIG because it is constant\n",
        "Dropping column DENOM because it is constant\n",
        "Dropping column RELIG because it is constant\n",
        "Dropping column DENOM because it is constant\n",
        "Dropping column RELIG because it is constant\n",
        "Dropping column DENOM because it is constant\n",
        "Dropping column RELIG because it is constant\n",
        "Dropping column DENOM because it is constant\n",
        "Dropping column RELIG because it is constant\n",
        "Dropping column DENOM because it is constant\n",
        "Processing article: 3793\n",
        "Processing article: 3831\n",
        "Processing article: 3846\n",
        "Processing article: 3887\n",
        "Processing article:"
       ]
      },
      {
       "output_type": "stream",
       "stream": "stdout",
       "text": [
        " 3895\n",
        "Processing article: 3952\n",
        "Processing article: 3959\n",
        "Processing article:"
       ]
      },
      {
       "output_type": "stream",
       "stream": "stdout",
       "text": [
        " 3966\n",
        "Processing article: 4055\n",
        "Processing article: 4110\n",
        "Processing article: 4112\n",
        "All \"central\" IVs are p > 0.05. Skipping."
       ]
      },
      {
       "output_type": "stream",
       "stream": "stdout",
       "text": [
        "\n",
        "Processing article: 4124\n",
        "Processing article: 4131\n",
        "The number of variables in original model is different from the number in cognate model. Skipping."
       ]
      },
      {
       "output_type": "stream",
       "stream": "stdout",
       "text": [
        "\n",
        "The number of variables in original model is different from the number in cognate model. Skipping."
       ]
      },
      {
       "output_type": "stream",
       "stream": "stdout",
       "text": [
        "\n",
        "The number of variables in original model is different from the number in cognate model. Skipping.\n",
        "The number of variables in original model is different from the number in cognate model. Skipping."
       ]
      },
      {
       "output_type": "stream",
       "stream": "stdout",
       "text": [
        "\n",
        "The number of variables in original model is different from the number in cognate model. Skipping."
       ]
      },
      {
       "output_type": "stream",
       "stream": "stdout",
       "text": [
        "\n",
        "The number of variables in original model is different from the number in cognate model. Skipping.\n",
        "The number of variables in original model is different from the number in cognate model. Skipping."
       ]
      },
      {
       "output_type": "stream",
       "stream": "stdout",
       "text": [
        "\n",
        "The number of variables in original model is different from the number in cognate model. Skipping."
       ]
      },
      {
       "output_type": "stream",
       "stream": "stdout",
       "text": [
        "\n",
        "The number of variables in original model is different from the number in cognate model. Skipping."
       ]
      },
      {
       "output_type": "stream",
       "stream": "stdout",
       "text": [
        "\n",
        "The number of variables in original model is different from the number in cognate model. Skipping."
       ]
      },
      {
       "output_type": "stream",
       "stream": "stdout",
       "text": [
        "\n",
        "The number of variables in original model is different from the number in cognate model. Skipping."
       ]
      },
      {
       "output_type": "stream",
       "stream": "stdout",
       "text": [
        "\n",
        "The number of variables in original model is different from the number in cognate model. Skipping.\n",
        "The number of variables in original model is different from the number in cognate model. Skipping."
       ]
      },
      {
       "output_type": "stream",
       "stream": "stdout",
       "text": [
        "\n",
        "The number of variables in original model is different from the number in cognate model. Skipping."
       ]
      },
      {
       "output_type": "stream",
       "stream": "stdout",
       "text": [
        "\n",
        "The number of variables in original model is different from the number in cognate model. Skipping."
       ]
      },
      {
       "output_type": "stream",
       "stream": "stdout",
       "text": [
        "\n",
        "The number of variables in original model is different from the number in cognate model. Skipping."
       ]
      },
      {
       "output_type": "stream",
       "stream": "stdout",
       "text": [
        "\n",
        "The number of variables in original model is different from the number in cognate model. Skipping."
       ]
      },
      {
       "output_type": "stream",
       "stream": "stdout",
       "text": [
        "\n",
        "The number of variables in original model is different from the number in cognate model. Skipping."
       ]
      },
      {
       "output_type": "stream",
       "stream": "stdout",
       "text": [
        "\n",
        "The number of variables in original model is different from the number in cognate model. Skipping."
       ]
      },
      {
       "output_type": "stream",
       "stream": "stdout",
       "text": [
        "\n",
        "The number of variables in original model is different from the number in cognate model. Skipping.\n",
        "The number of variables in original model is different from the number in cognate model. Skipping."
       ]
      },
      {
       "output_type": "stream",
       "stream": "stdout",
       "text": [
        "\n",
        "The number of variables in original model is different from the number in cognate model. Skipping."
       ]
      },
      {
       "output_type": "stream",
       "stream": "stdout",
       "text": [
        "\n",
        "The number of variables in original model is different from the number in cognate model. Skipping.\n",
        "The number of variables in original model is different from the number in cognate model. Skipping."
       ]
      },
      {
       "output_type": "stream",
       "stream": "stdout",
       "text": [
        "\n",
        "The number of variables in original model is different from the number in cognate model. Skipping."
       ]
      },
      {
       "output_type": "stream",
       "stream": "stdout",
       "text": [
        "\n",
        "The number of variables in original model is different from the number in cognate model. Skipping."
       ]
      },
      {
       "output_type": "stream",
       "stream": "stdout",
       "text": [
        "\n",
        "The number of variables in original model is different from the number in cognate model. Skipping."
       ]
      },
      {
       "output_type": "stream",
       "stream": "stdout",
       "text": [
        "\n",
        "The number of variables in original model is different from the number in cognate model. Skipping."
       ]
      },
      {
       "output_type": "stream",
       "stream": "stdout",
       "text": [
        "\n",
        "The number of variables in original model is different from the number in cognate model. Skipping.\n",
        "The number of variables in original model is different from the number in cognate model. Skipping."
       ]
      },
      {
       "output_type": "stream",
       "stream": "stdout",
       "text": [
        "\n",
        "The number of variables in original model is different from the number in cognate model. Skipping."
       ]
      },
      {
       "output_type": "stream",
       "stream": "stdout",
       "text": [
        "\n",
        "The number of variables in original model is different from the number in cognate model. Skipping."
       ]
      },
      {
       "output_type": "stream",
       "stream": "stdout",
       "text": [
        "\n",
        "The number of variables in original model is different from the number in cognate model. Skipping."
       ]
      },
      {
       "output_type": "stream",
       "stream": "stdout",
       "text": [
        "\n",
        "The number of variables in original model is different from the number in cognate model. Skipping."
       ]
      },
      {
       "output_type": "stream",
       "stream": "stdout",
       "text": [
        "\n",
        "The number of variables in original model is different from the number in cognate model. Skipping."
       ]
      },
      {
       "output_type": "stream",
       "stream": "stdout",
       "text": [
        "\n",
        "The number of variables in original model is different from the number in cognate model. Skipping."
       ]
      },
      {
       "output_type": "stream",
       "stream": "stdout",
       "text": [
        "\n",
        "The number of variables in original model is different from the number in cognate model. Skipping.\n",
        "The number of variables in original model is different from the number in cognate model. Skipping."
       ]
      },
      {
       "output_type": "stream",
       "stream": "stdout",
       "text": [
        "\n",
        "The number of variables in original model is different from the number in cognate model. Skipping."
       ]
      },
      {
       "output_type": "stream",
       "stream": "stdout",
       "text": [
        "\n",
        "The number of variables in original model is different from the number in cognate model. Skipping.\n",
        "The number of variables in original model is different from the number in cognate model. Skipping."
       ]
      },
      {
       "output_type": "stream",
       "stream": "stdout",
       "text": [
        "\n",
        "The number of variables in original model is different from the number in cognate model. Skipping."
       ]
      },
      {
       "output_type": "stream",
       "stream": "stdout",
       "text": [
        "\n",
        "The number of variables in original model is different from the number in cognate model. Skipping."
       ]
      },
      {
       "output_type": "stream",
       "stream": "stdout",
       "text": [
        "\n",
        "The number of variables in original model is different from the number in cognate model. Skipping."
       ]
      },
      {
       "output_type": "stream",
       "stream": "stdout",
       "text": [
        "\n",
        "The number of variables in original model is different from the number in cognate model. Skipping."
       ]
      },
      {
       "output_type": "stream",
       "stream": "stdout",
       "text": [
        "\n",
        "The number of variables in original model is different from the number in cognate model. Skipping.\n",
        "The number of variables in original model is different from the number in cognate model. Skipping."
       ]
      },
      {
       "output_type": "stream",
       "stream": "stdout",
       "text": [
        "\n",
        "The number of variables in original model is different from the number in cognate model. Skipping."
       ]
      },
      {
       "output_type": "stream",
       "stream": "stdout",
       "text": [
        "\n",
        "The number of variables in original model is different from the number in cognate model. Skipping."
       ]
      },
      {
       "output_type": "stream",
       "stream": "stdout",
       "text": [
        "\n",
        "The number of variables in original model is different from the number in cognate model. Skipping."
       ]
      },
      {
       "output_type": "stream",
       "stream": "stdout",
       "text": [
        "\n",
        "The number of variables in original model is different from the number in cognate model. Skipping."
       ]
      },
      {
       "output_type": "stream",
       "stream": "stdout",
       "text": [
        "\n",
        "Processing article: 4133\n",
        "Processing article: 4134\n",
        "Not enough observations. Skipping...\n",
        "Processing article: 4160\n",
        "Processing article:"
       ]
      },
      {
       "output_type": "stream",
       "stream": "stdout",
       "text": [
        " 4173\n",
        "Processing article: 4266\n",
        "Either the  params or the R^2 is too high. Skipping."
       ]
      },
      {
       "output_type": "stream",
       "stream": "stdout",
       "text": [
        "\n",
        "Either the  params or the R^2 is too high. Skipping."
       ]
      },
      {
       "output_type": "stream",
       "stream": "stdout",
       "text": [
        "\n",
        "Either the  params or the R^2 is too high. Skipping."
       ]
      },
      {
       "output_type": "stream",
       "stream": "stdout",
       "text": [
        "\n",
        "Either the  params or the R^2 is too high. Skipping."
       ]
      },
      {
       "output_type": "stream",
       "stream": "stdout",
       "text": [
        "\n",
        "Processing article: 4274\n",
        "Dropping column RELIG because it is constant\n",
        "Processing article: 4291\n",
        "All \"central\" IVs are p > 0.05. Skipping."
       ]
      },
      {
       "output_type": "stream",
       "stream": "stdout",
       "text": [
        "\n",
        "Processing article: 4297\n",
        "Processing article: 4302\n",
        "All \"central\" IVs are p > 0.05. Skipping."
       ]
      },
      {
       "output_type": "stream",
       "stream": "stdout",
       "text": [
        "\n",
        "Processing article: 4310\n",
        "All \"central\" IVs are p > 0.05. Skipping."
       ]
      },
      {
       "output_type": "stream",
       "stream": "stdout",
       "text": [
        "\n",
        "Processing article: 4363\n",
        "Processing article: 4374\n",
        "Processing article: 4397\n",
        "Processing article: 4400\n",
        "Processing article: 4434\n",
        "Processing article: 4441\n",
        "Processing article:"
       ]
      },
      {
       "output_type": "stream",
       "stream": "stdout",
       "text": [
        " 4454\n",
        "Processing article: 4483\n",
        "Processing article: 4528\n",
        "Processing article: 4580\n",
        "Processing article: 4596\n",
        "Processing article: 4599\n",
        "Processing article: 4614\n",
        "Dropping column FAMILY16 because it is constant\n",
        "Processing article: 4617\n",
        "Processing article:"
       ]
      },
      {
       "output_type": "stream",
       "stream": "stdout",
       "text": [
        " 4618\n",
        "Processing article: 4619\n",
        "Processing article: 4620\n",
        "Processing article:"
       ]
      },
      {
       "output_type": "stream",
       "stream": "stdout",
       "text": [
        " 4665\n",
        "All \"central\" IVs are p > 0.05. Skipping."
       ]
      },
      {
       "output_type": "stream",
       "stream": "stdout",
       "text": [
        "\n",
        "All \"central\" IVs are p > 0.05. Skipping."
       ]
      },
      {
       "output_type": "stream",
       "stream": "stdout",
       "text": [
        "\n",
        "All \"central\" IVs are p > 0.05. Skipping.\n",
        "All \"central\" IVs are p > 0.05. Skipping."
       ]
      },
      {
       "output_type": "stream",
       "stream": "stdout",
       "text": [
        "\n",
        "All \"central\" IVs are p > 0.05. Skipping."
       ]
      },
      {
       "output_type": "stream",
       "stream": "stdout",
       "text": [
        "\n",
        "All \"central\" IVs are p > 0.05. Skipping.\n",
        "Processing article:"
       ]
      },
      {
       "output_type": "stream",
       "stream": "stdout",
       "text": [
        " 4684\n",
        "Dropping column RELIG because it is constant\n",
        "Dropping column RELIG because it is constant\n",
        "Dropping column RELIG because it is constant\n",
        "Dropping column RELIG because it is constant\n",
        "Dropping column RELIG because it is constant\n",
        "Processing article: 4715\n",
        "Processing article:"
       ]
      },
      {
       "output_type": "stream",
       "stream": "stdout",
       "text": [
        " 4769\n",
        "Processing article: 4790\n",
        "Processing article: 4811\n",
        "Processing article:"
       ]
      },
      {
       "output_type": "stream",
       "stream": "stdout",
       "text": [
        " 4828\n",
        "Processing article: 4854\n",
        "Processing article: 4880\n",
        "Processing article:"
       ]
      },
      {
       "output_type": "stream",
       "stream": "stdout",
       "text": [
        " 4924\n",
        "Processing article:"
       ]
      },
      {
       "output_type": "stream",
       "stream": "stdout",
       "text": [
        " 4929\n",
        "Processing article:"
       ]
      },
      {
       "output_type": "stream",
       "stream": "stdout",
       "text": [
        " 4936\n",
        "Processing article: 4948\n",
        "Processing article: 4950\n",
        "Processing article: 4954\n",
        "Processing article:"
       ]
      },
      {
       "output_type": "stream",
       "stream": "stdout",
       "text": [
        " 4961\n",
        "Processing article: 4979\n",
        "Processing article:"
       ]
      },
      {
       "output_type": "stream",
       "stream": "stdout",
       "text": [
        " 4980\n",
        "Processing article: 4981\n",
        "Processing article: 4987\n",
        "Processing article:"
       ]
      },
      {
       "output_type": "stream",
       "stream": "stdout",
       "text": [
        " 5003\n",
        "All \"central\" IVs are p > 0.05. Skipping."
       ]
      },
      {
       "output_type": "stream",
       "stream": "stdout",
       "text": [
        "\n",
        "All \"central\" IVs are p > 0.05. Skipping."
       ]
      },
      {
       "output_type": "stream",
       "stream": "stdout",
       "text": [
        "\n",
        "Processing article:"
       ]
      },
      {
       "output_type": "stream",
       "stream": "stdout",
       "text": [
        " 5015\n",
        "All \"central\" IVs are p > 0.05. Skipping."
       ]
      },
      {
       "output_type": "stream",
       "stream": "stdout",
       "text": [
        "\n",
        "All \"central\" IVs are p > 0.05. Skipping."
       ]
      },
      {
       "output_type": "stream",
       "stream": "stdout",
       "text": [
        "\n",
        "Processing article: 5039\n",
        "All \"central\" IVs are p > 0.05. Skipping."
       ]
      },
      {
       "output_type": "stream",
       "stream": "stdout",
       "text": [
        "\n",
        "Processing article: 5055\n",
        "Processing article: 5088\n",
        "All \"central\" IVs are p > 0.05. Skipping."
       ]
      },
      {
       "output_type": "stream",
       "stream": "stdout",
       "text": [
        "\n",
        "Processing article: 5091\n",
        "Dropping column RELIG because it is constant\n",
        "Dropping column RELIG because it is constant\n",
        "Dropping column RELIG because it is constant\n",
        "Dropping column RELIG because it is constant\n",
        "Dropping column RELIG because it is constant\n",
        "Dropping column RELIG because it is constant\n",
        "Dropping column RELIG because it is constant\n",
        "Dropping column RELIG because it is constant\n",
        "Dropping column RELIG because it is constant\n",
        "Dropping column RELIG because it is constant\n",
        "Dropping column RELIG because it is constant\n",
        "Dropping column RELIG because it is constant\n",
        "Dropping column RELIG because it is constant\n",
        "Dropping column RELIG because it is constant\n",
        "Processing article: 5093\n",
        "Processing article:"
       ]
      },
      {
       "output_type": "stream",
       "stream": "stdout",
       "text": [
        " 5096\n",
        "Processing article:"
       ]
      },
      {
       "output_type": "stream",
       "stream": "stdout",
       "text": [
        " 5170\n",
        "Processing article:"
       ]
      },
      {
       "output_type": "stream",
       "stream": "stdout",
       "text": [
        " 5216\n",
        "Processing article: 5226\n",
        "Processing article: 5242\n",
        "All \"central\" IVs are p > 0.05. Skipping."
       ]
      },
      {
       "output_type": "stream",
       "stream": "stdout",
       "text": [
        "\n",
        "All \"central\" IVs are p > 0.05. Skipping."
       ]
      },
      {
       "output_type": "stream",
       "stream": "stdout",
       "text": [
        "\n",
        "All \"central\" IVs are p > 0.05. Skipping."
       ]
      },
      {
       "output_type": "stream",
       "stream": "stdout",
       "text": [
        "\n",
        "All \"central\" IVs are p > 0.05. Skipping."
       ]
      },
      {
       "output_type": "stream",
       "stream": "stdout",
       "text": [
        "\n",
        "All \"central\" IVs are p > 0.05. Skipping.\n",
        "All \"central\" IVs are p > 0.05. Skipping."
       ]
      },
      {
       "output_type": "stream",
       "stream": "stdout",
       "text": [
        "\n",
        "All \"central\" IVs are p > 0.05. Skipping."
       ]
      },
      {
       "output_type": "stream",
       "stream": "stdout",
       "text": [
        "\n",
        "All \"central\" IVs are p > 0.05. Skipping."
       ]
      },
      {
       "output_type": "stream",
       "stream": "stdout",
       "text": [
        "\n",
        "All \"central\" IVs are p > 0.05. Skipping.\n",
        "All \"central\" IVs are p > 0.05. Skipping."
       ]
      },
      {
       "output_type": "stream",
       "stream": "stdout",
       "text": [
        "\n",
        "All \"central\" IVs are p > 0.05. Skipping."
       ]
      },
      {
       "output_type": "stream",
       "stream": "stdout",
       "text": [
        "\n",
        "All \"central\" IVs are p > 0.05. Skipping."
       ]
      },
      {
       "output_type": "stream",
       "stream": "stdout",
       "text": [
        "\n",
        "All \"central\" IVs are p > 0.05. Skipping."
       ]
      },
      {
       "output_type": "stream",
       "stream": "stdout",
       "text": [
        "\n",
        "All \"central\" IVs are p > 0.05. Skipping."
       ]
      },
      {
       "output_type": "stream",
       "stream": "stdout",
       "text": [
        "\n",
        "All \"central\" IVs are p > 0.05. Skipping.\n",
        "All \"central\" IVs are p > 0.05. Skipping."
       ]
      },
      {
       "output_type": "stream",
       "stream": "stdout",
       "text": [
        "\n",
        "All \"central\" IVs are p > 0.05. Skipping."
       ]
      },
      {
       "output_type": "stream",
       "stream": "stdout",
       "text": [
        "\n",
        "All \"central\" IVs are p > 0.05. Skipping."
       ]
      },
      {
       "output_type": "stream",
       "stream": "stdout",
       "text": [
        "\n",
        "All \"central\" IVs are p > 0.05. Skipping."
       ]
      },
      {
       "output_type": "stream",
       "stream": "stdout",
       "text": [
        "\n",
        "All \"central\" IVs are p > 0.05. Skipping.\n",
        "All \"central\" IVs are p > 0.05. Skipping."
       ]
      },
      {
       "output_type": "stream",
       "stream": "stdout",
       "text": [
        "\n",
        "All \"central\" IVs are p > 0.05. Skipping."
       ]
      },
      {
       "output_type": "stream",
       "stream": "stdout",
       "text": [
        "\n",
        "All \"central\" IVs are p > 0.05. Skipping."
       ]
      },
      {
       "output_type": "stream",
       "stream": "stdout",
       "text": [
        "\n",
        "All \"central\" IVs are p > 0.05. Skipping."
       ]
      },
      {
       "output_type": "stream",
       "stream": "stdout",
       "text": [
        "\n",
        "All \"central\" IVs are p > 0.05. Skipping.\n",
        "All \"central\" IVs are p > 0.05. Skipping."
       ]
      },
      {
       "output_type": "stream",
       "stream": "stdout",
       "text": [
        "\n",
        "All \"central\" IVs are p > 0.05. Skipping."
       ]
      },
      {
       "output_type": "stream",
       "stream": "stdout",
       "text": [
        "\n",
        "All \"central\" IVs are p > 0.05. Skipping."
       ]
      },
      {
       "output_type": "stream",
       "stream": "stdout",
       "text": [
        "\n",
        "All \"central\" IVs are p > 0.05. Skipping."
       ]
      },
      {
       "output_type": "stream",
       "stream": "stdout",
       "text": [
        "\n",
        "All \"central\" IVs are p > 0.05. Skipping."
       ]
      },
      {
       "output_type": "stream",
       "stream": "stdout",
       "text": [
        "\n",
        "All \"central\" IVs are p > 0.05. Skipping."
       ]
      },
      {
       "output_type": "stream",
       "stream": "stdout",
       "text": [
        "\n",
        "All \"central\" IVs are p > 0.05. Skipping."
       ]
      },
      {
       "output_type": "stream",
       "stream": "stdout",
       "text": [
        "\n",
        "All \"central\" IVs are p > 0.05. Skipping.\n",
        "Processing article:"
       ]
      },
      {
       "output_type": "stream",
       "stream": "stdout",
       "text": [
        " 5243\n",
        "All \"central\" IVs are p > 0.05. Skipping."
       ]
      },
      {
       "output_type": "stream",
       "stream": "stdout",
       "text": [
        "\n",
        "Processing article: 5283\n",
        "Dropping column RELIG because it is constant\n",
        "Processing article: 5295\n",
        "Processing article: 5360\n",
        "Processing article:"
       ]
      },
      {
       "output_type": "stream",
       "stream": "stdout",
       "text": [
        " 5374\n",
        "Dropping column RELIG because it is constant\n",
        "Dropping column MARITAL because it is constant\n",
        "Dropping column RELIG because it is constant\n",
        "Dropping column MARITAL because it is constant\n",
        "Dropping column RELIG because it is constant\n",
        "Dropping column MARITAL because it is constant\n",
        "Processing article: 5377\n",
        "Dropping column RELIG because it is constant\n",
        "Dropping column MARITAL because it is constant\n",
        "Dropping column RELIG because it is constant\n",
        "Dropping column MARITAL because it is constant\n",
        "Processing article: 5390\n",
        "Processing article: 5407\n",
        "Processing article:"
       ]
      },
      {
       "output_type": "stream",
       "stream": "stdout",
       "text": [
        " 5419\n",
        "Processing article: 5454\n",
        "Processing article:"
       ]
      },
      {
       "output_type": "stream",
       "stream": "stdout",
       "text": [
        " 5455\n",
        "Processing article: 5465\n",
        "Dropping column RELIG because it is constant\n",
        "Dropping column DENOM because it is constant\n",
        "Dropping column RELIG because it is constant\n",
        "Dropping column DENOM because it is constant\n",
        "Dropping column RELIG because it is constant\n",
        "Dropping column DENOM because it is constant\n",
        "Processing article: 5493\n",
        "Dropping column RELIG16 because it is constant\n",
        "Dropping column MARITAL because it is constant\n",
        "Dropping column SPREL because it is constant\n",
        "Dropping column RELIG16 because it is constant\n",
        "Dropping column MARITAL because it is constant\n",
        "Dropping column SPREL because it is constant\n",
        "Processing article: 5542\n",
        "Processing article: 5547\n",
        "Dropping column RELIG because it is constant\n",
        "Processing article: 5548\n",
        "Processing article: 5549\n",
        "Dropping column RELIG because it is constant\n",
        "Processing article: 5556\n",
        "All \"central\" IVs are p > 0.05. Skipping."
       ]
      },
      {
       "output_type": "stream",
       "stream": "stdout",
       "text": [
        "\n",
        "Processing article: 5565\n",
        "Processing article: 5577\n",
        "Processing article:"
       ]
      },
      {
       "output_type": "stream",
       "stream": "stdout",
       "text": [
        " 5625\n",
        "Dropping column RELIG because it is constant\n",
        "Dropping column RELIG because it is constant\n",
        "Dropping column RELIG because it is constant\n",
        "Dropping column RELIG because it is constant\n",
        "Dropping column RELIG because it is constant\n",
        "Dropping column RELIG because it is constant\n",
        "Processing article: 5658\n",
        "Processing article:"
       ]
      },
      {
       "output_type": "stream",
       "stream": "stdout",
       "text": [
        " 5674\n",
        "Processing article: 5750\n",
        "Processing article: 5754\n",
        "Dropping column RELIG because it is constant\n",
        "Processing article: 5832\n",
        "Processing article: 5833\n",
        "Processing article: 5862\n",
        "Processing article:"
       ]
      },
      {
       "output_type": "stream",
       "stream": "stdout",
       "text": [
        " 5877\n",
        "Dropping column RELIG because it is constant\n",
        "Dropping column RELIG because it is constant\n",
        "Processing article: 5926\n",
        "Processing article:"
       ]
      },
      {
       "output_type": "stream",
       "stream": "stdout",
       "text": [
        " 5944\n",
        "Processing article: 5949\n",
        "All \"central\" IVs are p > 0.05. Skipping."
       ]
      },
      {
       "output_type": "stream",
       "stream": "stdout",
       "text": [
        "\n",
        "All \"central\" IVs are p > 0.05. Skipping."
       ]
      },
      {
       "output_type": "stream",
       "stream": "stdout",
       "text": [
        "\n",
        "All \"central\" IVs are p > 0.05. Skipping."
       ]
      },
      {
       "output_type": "stream",
       "stream": "stdout",
       "text": [
        "\n",
        "Processing article: 5985\n",
        "Processing article:"
       ]
      },
      {
       "output_type": "stream",
       "stream": "stdout",
       "text": [
        " 6136\n",
        "Processing article: 6156\n",
        "Processing article: 6160\n",
        "Dropping column WKSUB because it is constant\n",
        "Dropping column WKSUB because it is constant\n",
        "Dropping column WKSUB because it is constant\n",
        "Processing article: 6161\n",
        "Dropping column WKSUB because it is constant\n",
        "Dropping column WKSUP because it is constant\n",
        "Dropping column WKSUB because it is constant\n",
        "Dropping column WKSUP because it is constant\n",
        "Processing article: 6188\n",
        "Dropping column RELIG because it is constant\n",
        "Processing article:"
       ]
      },
      {
       "output_type": "stream",
       "stream": "stdout",
       "text": [
        " 6190\n",
        "Dropping column RELIG because it is constant\n",
        "Processing article: 6191\n",
        "Dropping column RELIG because it is constant\n",
        "Dropping column RELIG because it is constant\n",
        "Dropping column RELIG because it is constant\n",
        "Dropping column RELIG because it is constant\n",
        "Dropping column RELIG because it is constant\n",
        "Processing article: 6197\n",
        "Not enough observations. Skipping...\n",
        "Processing article: 6202\n",
        "Processing article:"
       ]
      },
      {
       "output_type": "stream",
       "stream": "stdout",
       "text": [
        " 6285\n",
        "Processing article:"
       ]
      },
      {
       "output_type": "stream",
       "stream": "stdout",
       "text": [
        " 6332\n",
        "Dropping column RELIG16 because it is constant\n",
        "Dropping column DENOM16 because it is constant\n",
        "Dropping column RELIG because it is constant\n",
        "Dropping column DENOM because it is constant\n",
        "Dropping column RELIG16 because it is constant\n",
        "Dropping column DENOM16 because it is constant\n",
        "Dropping column RELIG because it is constant\n",
        "Dropping column DENOM because it is constant\n",
        "Dropping column RELIG16 because it is constant\n",
        "Dropping column DENOM16 because it is constant\n",
        "Dropping column RELIG because it is constant\n",
        "Dropping column DENOM because it is constant\n",
        "Processing article: 6333\n",
        "Dropping column RELIG16 because it is constant\n",
        "Dropping column DENOM16 because it is constant\n",
        "Dropping column SPREL because it is constant\n",
        "Dropping column SPDEN because it is constant\n",
        "Dropping column RELIG because it is constant\n",
        "Dropping column DENOM because it is constant\n",
        "Dropping column MARITAL because it is constant\n",
        "Processing article: 6336\n",
        "Dropping column RELIG because it is constant\n",
        "Processing article: 6340\n",
        "Processing article: 6345\n",
        "Dropping column"
       ]
      },
      {
       "output_type": "stream",
       "stream": "stdout",
       "text": [
        " RELIG16 because it is constant\n",
        "Dropping column DENOM16 because it is constant\n",
        "Dropping column RELIG16 because it is constant\n",
        "Dropping column DENOM16 because it is constant\n",
        "Dropping column RELIG16 because it is constant\n",
        "Dropping column DENOM16 because it is constant\n",
        "Processing article: 6363\n",
        "Processing article: 6364\n",
        "Processing article:"
       ]
      },
      {
       "output_type": "stream",
       "stream": "stdout",
       "text": [
        " 6439\n",
        "Dropping column RELIG because it is constant\n",
        "Dropping column RELIG because it is constant\n",
        "Dropping column RELIG because it is constant\n",
        "Dropping column RELIG because it is constant\n",
        "Dropping column RELIG because it is constant\n",
        "Dropping column RELIG because it is constant\n",
        "Dropping column RELIG because it is constant\n",
        "Dropping column RELIG because it is constant\n",
        "Dropping column RELIG because it is constant\n",
        "Dropping column RELIG because it is constant\n",
        "Dropping column RELIG because it is constant\n",
        "Dropping column"
       ]
      },
      {
       "output_type": "stream",
       "stream": "stdout",
       "text": [
        " RELIG because it is constant\n",
        "Dropping column RELIG because it is constant\n",
        "Dropping column RELIG because it is constant\n",
        "Dropping column RELIG because it is constant\n",
        "Dropping column RELIG because it is constant\n",
        "Dropping column RELIG because it is constant\n",
        "Processing article: 6460\n",
        "Processing article:"
       ]
      },
      {
       "output_type": "stream",
       "stream": "stdout",
       "text": [
        " 6464\n",
        "Dropping column RELIG because it is constant\n",
        "Dropping column RELIG because it is constant\n",
        "Dropping column RELIG because it is constant\n",
        "Processing article: 6521\n",
        "All \"central\" IVs are p > 0.05. Skipping."
       ]
      },
      {
       "output_type": "stream",
       "stream": "stdout",
       "text": [
        "\n",
        "All \"central\" IVs are p > 0.05. Skipping."
       ]
      },
      {
       "output_type": "stream",
       "stream": "stdout",
       "text": [
        "\n",
        "All \"central\" IVs are p > 0.05. Skipping."
       ]
      },
      {
       "output_type": "stream",
       "stream": "stdout",
       "text": [
        "\n",
        "Processing article: 6536\n",
        "Dropping column RELIG because it is constant\n",
        "Dropping column RELIG because it is constant\n",
        "Dropping column RELIG because it is constant\n",
        "Dropping column RELIG because it is constant\n",
        "Dropping column RELIG because it is constant\n",
        "Dropping column RELIG because it is constant\n",
        "Processing article: 6537\n",
        "Processing article:"
       ]
      },
      {
       "output_type": "stream",
       "stream": "stdout",
       "text": [
        " 6538\n",
        "Dropping column RELIG because it is constant\n",
        "Processing article: 6540\n",
        "Dropping column HIT because it is constant\n",
        "Dropping column HIT because it is constant\n",
        "Dropping column HIT because it is constant\n",
        "Processing article: 6546\n",
        "Processing article: 6553\n",
        "All \"central\" IVs are p > 0.05. Skipping."
       ]
      },
      {
       "output_type": "stream",
       "stream": "stdout",
       "text": [
        "\n",
        "All \"central\" IVs are p > 0.05. Skipping."
       ]
      },
      {
       "output_type": "stream",
       "stream": "stdout",
       "text": [
        "\n",
        "All \"central\" IVs are p > 0.05. Skipping."
       ]
      },
      {
       "output_type": "stream",
       "stream": "stdout",
       "text": [
        "\n",
        "All \"central\" IVs are p > 0.05. Skipping."
       ]
      },
      {
       "output_type": "stream",
       "stream": "stdout",
       "text": [
        "\n",
        "All \"central\" IVs are p > 0.05. Skipping."
       ]
      },
      {
       "output_type": "stream",
       "stream": "stdout",
       "text": [
        "\n",
        "All \"central\" IVs are p > 0.05. Skipping."
       ]
      },
      {
       "output_type": "stream",
       "stream": "stdout",
       "text": [
        "\n",
        "All \"central\" IVs are p > 0.05. Skipping."
       ]
      },
      {
       "output_type": "stream",
       "stream": "stdout",
       "text": [
        "\n",
        "All \"central\" IVs are p > 0.05. Skipping."
       ]
      },
      {
       "output_type": "stream",
       "stream": "stdout",
       "text": [
        "\n",
        "All \"central\" IVs are p > 0.05. Skipping."
       ]
      },
      {
       "output_type": "stream",
       "stream": "stdout",
       "text": [
        "\n",
        "Processing article: 6555\n",
        "Processing article: 6592\n",
        "Processing article: 6604\n",
        "Processing article:"
       ]
      },
      {
       "output_type": "stream",
       "stream": "stdout",
       "text": [
        " 6642\n",
        "Processing article: 6664\n",
        "Dropping column MARITAL because it is constant\n",
        "Processing article: 6679\n",
        "Processing article: 6712\n",
        "Processing article:"
       ]
      },
      {
       "output_type": "stream",
       "stream": "stdout",
       "text": [
        " 6724\n",
        "Processing article: 6725\n",
        "Processing article:"
       ]
      },
      {
       "output_type": "stream",
       "stream": "stdout",
       "text": [
        " 6731\n",
        "Processing article: 6732\n",
        "Processing article:"
       ]
      },
      {
       "output_type": "stream",
       "stream": "stdout",
       "text": [
        " 6734\n",
        "Processing article: 6746\n",
        "Dropping column WKSUB because it is constant\n",
        "Dropping column WKSUP because it is constant\n",
        "Dropping column MARITAL because it is constant\n",
        "Processing article: 6755\n",
        "Dropping column DENOM because it is constant\n",
        "Dropping column DENOM because it is constant\n",
        "Dropping column DENOM because it is constant\n",
        "Dropping column DENOM because it is constant\n",
        "Processing article: 6759\n",
        "Processing article:"
       ]
      },
      {
       "output_type": "stream",
       "stream": "stdout",
       "text": [
        " 6774\n",
        "Processing article: 6776\n",
        "Processing article: 6777\n",
        "Processing article: 6779\n",
        "Processing article:"
       ]
      },
      {
       "output_type": "stream",
       "stream": "stdout",
       "text": [
        " 6806\n",
        "Processing article:"
       ]
      },
      {
       "output_type": "stream",
       "stream": "stdout",
       "text": [
        " 6824\n",
        "Processing article: 6825\n",
        "Processing article: 6840\n",
        "Processing article: 6841\n",
        "Processing article: 6842\n",
        "Processing article: 6871\n",
        "Processing article:"
       ]
      },
      {
       "output_type": "stream",
       "stream": "stdout",
       "text": [
        " 6872\n",
        "Processing article:"
       ]
      },
      {
       "output_type": "stream",
       "stream": "stdout",
       "text": [
        " 6877\n",
        "Processing article: 6922\n",
        "Processing article: 6973\n",
        "Dropping column RELIG16 because it is constant\n",
        "Dropping column DENOM16 because it is constant\n",
        "Dropping column DENOM because it is constant\n",
        "Dropping column"
       ]
      },
      {
       "output_type": "stream",
       "stream": "stdout",
       "text": [
        " RELIG because it is constant\n",
        "Processing article: 6992\n",
        "Processing article: 6998\n",
        "Processing article:"
       ]
      },
      {
       "output_type": "stream",
       "stream": "stdout",
       "text": [
        " 7081\n",
        "All \"central\" IVs are p > 0.05. Skipping."
       ]
      },
      {
       "output_type": "stream",
       "stream": "stdout",
       "text": [
        "\n",
        "Processing article: 7181\n",
        "Processing article: 7235\n",
        "Dropping column WKSUP because it is constant\n",
        "Dropping column WKSUB because it is constant\n",
        "All \"central\" IVs are p > 0.05. Skipping.\n",
        "Dropping column WKSUP because it is constant\n",
        "Dropping column WKSUB because it is constant\n",
        "All \"central\" IVs are p > 0.05. Skipping.\n",
        "Processing article: 7264\n",
        "Dropping column"
       ]
      },
      {
       "output_type": "stream",
       "stream": "stdout",
       "text": [
        " MARITAL because it is constant\n",
        "Processing article: 7270\n",
        "Processing article:"
       ]
      },
      {
       "output_type": "stream",
       "stream": "stdout",
       "text": [
        " 7282\n",
        "Processing article:"
       ]
      },
      {
       "output_type": "stream",
       "stream": "stdout",
       "text": [
        " 7320\n",
        "Processing article: 7384\n",
        "Dropping column RELIG because it is constant\n",
        "Processing article: 7431\n",
        "Dropping column RELIG because it is constant\n",
        "Dropping column RELIG because it is constant\n",
        "Processing article: 7432\n",
        "Processing article: 7433\n",
        "Processing article: 7449\n",
        "Dropping column RELIG16 because it is constant\n",
        "Dropping column DENOM16 because it is constant\n",
        "Dropping column RELIG16 because it is constant\n",
        "Dropping column DENOM16 because it is constant\n",
        "Dropping column RELIG16 because it is constant\n",
        "Dropping column DENOM16 because it is constant\n",
        "Processing article: 7507\n",
        "Dropping column"
       ]
      },
      {
       "output_type": "stream",
       "stream": "stdout",
       "text": [
        " RELIG because it is constant\n",
        "Dropping column RELIG because it is constant\n",
        "Dropping column RELIG because it is constant\n",
        "Dropping column RELIG because it is constant\n",
        "Processing article: 7525\n",
        "Dropping column RELIG because it is constant\n",
        "Dropping column RELIG16 because it is constant\n",
        "Dropping column BORN because it is constant\n",
        "Dropping column DENOM16 because it is constant\n",
        "Dropping column DENOM because it is constant\n",
        "Processing article: 7567\n",
        "Dropping column RELIG16 because it is constant\n",
        "Dropping column MARITAL because it is constant\n",
        "Dropping column RELIG16 because it is constant\n",
        "Dropping column MARITAL because it is constant\n",
        "Dropping column RELIG16 because it is constant\n",
        "Dropping column MARITAL because it is constant\n",
        "Dropping column RELIG16 because it is constant\n",
        "Dropping column MARITAL because it is constant\n",
        "Dropping column DENOM16 because it is constant\n",
        "Processing article: 7594\n",
        "Processing article:"
       ]
      },
      {
       "output_type": "stream",
       "stream": "stdout",
       "text": [
        " 7638\n",
        "Processing article: 7641\n",
        "Dropping column MARITAL because it is constant\n",
        "Processing article: 7652\n",
        "Processing article:"
       ]
      },
      {
       "output_type": "stream",
       "stream": "stdout",
       "text": [
        " 7713\n",
        "Processing article: 7718\n",
        "Processing article: 7733\n",
        "Processing article: 7746\n",
        "Processing article: 7790\n",
        "Dropping column RELIG because it is constant\n",
        "Dropping column DENOM because it is constant\n",
        "Dropping column SPREL because it is constant\n",
        "Dropping column MARITAL because it is constant\n",
        "Processing article: 7791\n",
        "Dropping column RELIG because it is constant\n",
        "Dropping column MARITAL because it is constant\n"
       ]
      }
     ],
     "prompt_number": 8
    },
    {
     "cell_type": "code",
     "collapsed": false,
     "input": [
      "# info on the articles used\n",
      "all_articles = []\n",
      "for yr in range(43):\n",
      "    all_articles.extend(output[yr]['metadata']['articleID'])\n",
      "print 'Num of unique articles used:', len(set(all_articles))"
     ],
     "language": "python",
     "metadata": {},
     "outputs": [
      {
       "output_type": "stream",
       "stream": "stdout",
       "text": [
        "Num of unique articles used: 62\n"
       ]
      }
     ],
     "prompt_number": 20
    },
    {
     "cell_type": "code",
     "collapsed": false,
     "input": [
      "output[0]['metadata']['articleID']"
     ],
     "language": "python",
     "metadata": {},
     "outputs": [
      {
       "metadata": {},
       "output_type": "pyout",
       "prompt_number": 12,
       "text": [
        "[]"
       ]
      }
     ],
     "prompt_number": 12
    },
    {
     "cell_type": "markdown",
     "metadata": {},
     "source": [
      "#Plot outcomes x years into future\n",
      "\n",
      "Notes\n",
      "--\n",
      "An important **question** is why the actual outcomes show time-trends (see below). I don't know the answer, but I'm not very concerned because the x-axis here is NOT time. It's the difference between last year of GSS used and a future year.\n",
      "\n",
      "A clue is that the sample size that goes into computing each mean (blue dot) decreases with the time-difference (see plot below). But **I don't know why this would matter.**\n",
      "\n"
     ]
    },
    {
     "cell_type": "markdown",
     "metadata": {},
     "source": [
      "First, plot the actual outcomes (not *differences*)\n",
      "--"
     ]
    },
    {
     "cell_type": "code",
     "collapsed": false,
     "input": [
      "# group1 = 'on_last_year_of_data'\n",
      "# group2 = 'on_future_year'    \n",
      "\n",
      "YEARS = range(43)\n",
      "results={}\n",
      "\n",
      "outcomeMap = {'propSig':\"Proportion of Stat. Sign. Coeff's\", \n",
      "              'paramSizesNormed':\"Standard. Size of Coeff's\",\n",
      "              'Rs':'R_squared', \n",
      "              'adjRs':'Adjusted R_squared',\n",
      "              'pvalues':\"Average P-Value of Coeff's\",\n",
      "              'propSig_CentralVars':\"Cent. Var's: Proportion of Stat. Sign. Coeff's\",\n",
      "              'paramSizesNormed_CentralVars':\"Cent. Var's: Standard. Size of Coeff's\", \n",
      "              'pvalues_CentralVars':\"Cent. Var's: Average P-Value of Coeff's\"}\n",
      "\n",
      "\n",
      "f, axarr = plt.subplots(4, 2, sharex=True)\n",
      "axarr = axarr.flatten()\n",
      "f.set_size_inches(9,11)\n",
      "\n",
      "# just re-arranging the list of outcomes so they get plotted in the order i want\n",
      "outcomes_ordered = ['propSig', 'propSig_CentralVars',\n",
      "              'paramSizesNormed', 'paramSizesNormed_CentralVars', \n",
      "              'pvalues','pvalues_CentralVars',\n",
      "               'Rs', 'adjRs']\n",
      "\n",
      "for i, outcome in enumerate(outcomes_ordered):\n",
      "    \n",
      "    onGp1 = [np.array(output[year][group1][outcome]) for year in YEARS]  \n",
      "    onGp2 = [np.array(output[year][group2][outcome]) for year in YEARS]  \n",
      "\n",
      "    yerr = [2*np.std(x) for x in yearlyDiffs]\n",
      "    meansGp1 = [np.mean(x) for x in onGp1]\n",
      "    meansGp2 = [np.mean(x) for x in onGp2]\n",
      "        \n",
      "    xGp1, yGp1, xGp2, yGp2 = [], [], [], [] \n",
      "    for yr in YEARS:\n",
      "         xGp1.extend([yr]*len(onGp1[yr]))\n",
      "         yGp1.extend(onGp1[yr])\n",
      "         xGp2.extend([yr]*len(onGp2[yr]))\n",
      "         yGp2.extend(onGp2[yr])\n",
      "\n",
      "    axarr[i].plot(YEARS, meansGp1, '.', color='red', alpha=0.7)\n",
      "    axarr[i].plot(YEARS, meansGp2, '.', color='blue', alpha=0.7)\n",
      "    axarr[i].set_title(outcomeMap[outcome], fontsize=14)\n",
      "    \n",
      "    # add regression line\n",
      "    formula = outcome+'~years'\n",
      "#     result = smf.rlm(formula, data=pd.DataFrame({'years':x, outcome:y}).dropna(axis=0), missing='drop').fit()\n",
      "    resultGp1 = smf.ols(formula, data=pd.DataFrame({'years':xGp1, outcome:yGp1}).dropna(axis=0), missing='drop').fit()\n",
      "    resultGp2 = smf.ols(formula, data=pd.DataFrame({'years':xGp2, outcome:yGp2}).dropna(axis=0), missing='drop').fit()\n",
      "    axarr[i].plot(YEARS, np.array(YEARS)*resultGp1.params[1] + resultGp1.params[0], 'r--', label='OnLastYearUsed')\n",
      "    axarr[i].plot(YEARS, np.array(YEARS)*resultGp2.params[1] + resultGp2.params[0], 'b--', label='OnFutureYear')\n",
      "\n",
      "    # add the slope and its p-value\n",
      "    axarr[i].annotate('slope=' + str(np.around(resultGp1.params[1],4))+ ', p=' + str(np.around(resultGp1.pvalues[1],3)), \n",
      "                      xy=(0, 0), xycoords='axes fraction', fontsize=12, ha='left', va='bottom', \n",
      "                      xytext=(5,5), textcoords='offset points')\n",
      "    \n",
      "    # print the intercept and its p-value for my inspection, not on the figure\n",
      "    print 'intercept:'+str(result.params[0])+', '+str(result.pvalues[0])\n",
      "\n",
      "# add title and common x-label\n",
      "f.text(0.5, 0.05, 'Years after publication', ha='center',  va='bottom',fontsize=14)\n",
      "f.text(0.5, 1-0.05, 'Outcomes x-Years Into Future', ha='center', fontsize=20)\n",
      "f.text(0.5, 1-0.075, 'Red: on last year used, Blue: on future year', ha='center', fontsize=18, style='italic', color='red')\n",
      "\n",
      "savefig('../../Images/2014-10-06-TWO-CURVES-outcomes_last_year_vs_x_years_into_future_all_8.png')"
     ],
     "language": "python",
     "metadata": {},
     "outputs": [
      {
       "ename": "NameError",
       "evalue": "name 'yearlyDiffs' is not defined",
       "output_type": "pyerr",
       "traceback": [
        "\u001b[1;31m---------------------------------------------------------------------------\u001b[0m\n\u001b[1;31mNameError\u001b[0m                                 Traceback (most recent call last)",
        "\u001b[1;32m<ipython-input-6-256d5973d0de>\u001b[0m in \u001b[0;36m<module>\u001b[1;34m()\u001b[0m\n\u001b[0;32m     30\u001b[0m     \u001b[0monGp2\u001b[0m \u001b[1;33m=\u001b[0m \u001b[1;33m[\u001b[0m\u001b[0mnp\u001b[0m\u001b[1;33m.\u001b[0m\u001b[0marray\u001b[0m\u001b[1;33m(\u001b[0m\u001b[0moutput\u001b[0m\u001b[1;33m[\u001b[0m\u001b[0myear\u001b[0m\u001b[1;33m]\u001b[0m\u001b[1;33m[\u001b[0m\u001b[0mgroup2\u001b[0m\u001b[1;33m]\u001b[0m\u001b[1;33m[\u001b[0m\u001b[0moutcome\u001b[0m\u001b[1;33m]\u001b[0m\u001b[1;33m)\u001b[0m \u001b[1;32mfor\u001b[0m \u001b[0myear\u001b[0m \u001b[1;32min\u001b[0m \u001b[0mYEARS\u001b[0m\u001b[1;33m]\u001b[0m\u001b[1;33m\u001b[0m\u001b[0m\n\u001b[0;32m     31\u001b[0m \u001b[1;33m\u001b[0m\u001b[0m\n\u001b[1;32m---> 32\u001b[1;33m     \u001b[0myerr\u001b[0m \u001b[1;33m=\u001b[0m \u001b[1;33m[\u001b[0m\u001b[1;36m2\u001b[0m\u001b[1;33m*\u001b[0m\u001b[0mnp\u001b[0m\u001b[1;33m.\u001b[0m\u001b[0mstd\u001b[0m\u001b[1;33m(\u001b[0m\u001b[0mx\u001b[0m\u001b[1;33m)\u001b[0m \u001b[1;32mfor\u001b[0m \u001b[0mx\u001b[0m \u001b[1;32min\u001b[0m \u001b[0myearlyDiffs\u001b[0m\u001b[1;33m]\u001b[0m\u001b[1;33m\u001b[0m\u001b[0m\n\u001b[0m\u001b[0;32m     33\u001b[0m     \u001b[0mmeansGp1\u001b[0m \u001b[1;33m=\u001b[0m \u001b[1;33m[\u001b[0m\u001b[0mnp\u001b[0m\u001b[1;33m.\u001b[0m\u001b[0mmean\u001b[0m\u001b[1;33m(\u001b[0m\u001b[0mx\u001b[0m\u001b[1;33m)\u001b[0m \u001b[1;32mfor\u001b[0m \u001b[0mx\u001b[0m \u001b[1;32min\u001b[0m \u001b[0monGp1\u001b[0m\u001b[1;33m]\u001b[0m\u001b[1;33m\u001b[0m\u001b[0m\n\u001b[0;32m     34\u001b[0m     \u001b[0mmeansGp2\u001b[0m \u001b[1;33m=\u001b[0m \u001b[1;33m[\u001b[0m\u001b[0mnp\u001b[0m\u001b[1;33m.\u001b[0m\u001b[0mmean\u001b[0m\u001b[1;33m(\u001b[0m\u001b[0mx\u001b[0m\u001b[1;33m)\u001b[0m \u001b[1;32mfor\u001b[0m \u001b[0mx\u001b[0m \u001b[1;32min\u001b[0m \u001b[0monGp2\u001b[0m\u001b[1;33m]\u001b[0m\u001b[1;33m\u001b[0m\u001b[0m\n",
        "\u001b[1;31mNameError\u001b[0m: name 'yearlyDiffs' is not defined"
       ]
      },
      {
       "metadata": {},
       "output_type": "display_data",
       "png": "[encoded data removed]",
       "text": [
        "<matplotlib.figure.Figure at 0x539fcd0>"
       ]
      }
     ],
     "prompt_number": 6
    },
    {
     "cell_type": "markdown",
     "metadata": {},
     "source": [
      "NOTE: \n",
      "--\n",
      "**the x-axis in the graphs above is difficult is tricky because it doesn't show chronological time**\n",
      "\n",
      "And I've already looked at trends in outcomes over time and didn't find any trends!"
     ]
    },
    {
     "cell_type": "markdown",
     "metadata": {},
     "source": [
      "Plot number of points at each time period\n",
      "--"
     ]
    },
    {
     "cell_type": "code",
     "collapsed": false,
     "input": [
      "SIZES = [len(x) for x in onGp1]\n",
      "plot(YEARS, SIZES)\n",
      "title('Number of models at each time-difference (for graphs above)')\n",
      "xlabel('Years after publication')\n"
     ],
     "language": "python",
     "metadata": {},
     "outputs": []
    },
    {
     "cell_type": "markdown",
     "metadata": {},
     "source": [
      "Average 'last year used' and 'future_gss_year' vs time-gap\n",
      "--"
     ]
    },
    {
     "cell_type": "code",
     "collapsed": false,
     "input": [
      "MAX_YEAR_USED = [np.mean(output[year]['metadata']['last_GSS_year_used']) for year in YEARS]\n",
      "FUTURE_GSS_YEAR = [np.mean(output[year]['metadata']['future_GSS_year']) for year in YEARS]\n",
      "plot(YEARS, MAX_YEAR_USED, label='last GSS year used')\n",
      "plot(YEARS, FUTURE_GSS_YEAR, label='future GSS year')\n",
      "title('avg last year used, avg future year VS time-gap')\n",
      "legend()\n",
      "# savefig('../../Images/2014-10-06-avg last year used vs avg future year vs time gap.png')"
     ],
     "language": "python",
     "metadata": {},
     "outputs": [
      {
       "metadata": {},
       "output_type": "pyout",
       "prompt_number": 43,
       "text": [
        "<matplotlib.legend.Legend at 0x10feb510>"
       ]
      },
      {
       "metadata": {},
       "output_type": "display_data",
       "png": "[encoded data removed]",
       "text": [
        "<matplotlib.figure.Figure at 0x81b7510>"
       ]
      }
     ],
     "prompt_number": 43
    },
    {
     "cell_type": "markdown",
     "metadata": {},
     "source": [
      "#NEW CODE: Plot the *differences* \n"
     ]
    },
    {
     "cell_type": "code",
     "collapsed": false,
     "input": [
      "# group1 = 'on_last_year_of_data'\n",
      "# group2 = 'on_future_year'    \n",
      "\n",
      "#ax.errorbar(x, y, yerr=yerr, fmt='o')\n",
      "\n",
      "#fig, axs = plt.subplots(nrows=len(outcomes), ncols=1, sharex=True)\n",
      "\n",
      "#fig = pl.figure(figsize=(3,8))\n",
      "#fig = plt.figure(1, figsize=(8,25))\n",
      "\n",
      "YEARS = range(43)\n",
      "results={}\n",
      "\n",
      "outcomeMap = {'propSig':\"Proportion of Stat. Sign. Coeff's\", \n",
      "              'paramSizesNormed':\"Standard. Size of Coeff's\",\n",
      "              'Rs':'R_squared', \n",
      "              'adjRs':'Adjusted R_squared',\n",
      "              'pvalues':\"Average P-Value of Coeff's\",\n",
      "              'propSig_CentralVars':\"Cent. Var's: Proportion of Stat. Sign. Coeff's\",\n",
      "              'paramSizesNormed_CentralVars':\"Cent. Var's: Standard. Size of Coeff's\", \n",
      "              'pvalues_CentralVars':\"Cent. Var's: Average P-Value of Coeff's\"}\n",
      "\n",
      "\n",
      "f, axarr = plt.subplots(4, 2, sharex=True)\n",
      "axarr = axarr.flatten()\n",
      "f.set_size_inches(9,11)\n",
      "\n",
      "# just re-arranging the list of outcomes so they get plotted in the order i want\n",
      "outcomes_ordered = ['propSig', 'propSig_CentralVars',\n",
      "              'paramSizesNormed', 'paramSizesNormed_CentralVars', \n",
      "              'pvalues','pvalues_CentralVars',\n",
      "               'Rs', 'adjRs']\n",
      "\n",
      "for i, outcome in enumerate(outcomes_ordered):\n",
      "    \n",
      "    yearlyDiffs = [np.array(output[year][group2][outcome]) - np.array(output[year][group1][outcome]) for year in YEARS]  \n",
      "    yerr = [2*np.std(x)/np.sqrt(len(x)) for x in yearlyDiffs]\n",
      "    means = [np.mean(x) for x in yearlyDiffs]\n",
      "    \n",
      "    x, y = [], []  \n",
      "    for yr in YEARS:\n",
      "         x.extend([yr]*len(yearlyDiffs[yr]))\n",
      "         y.extend(yearlyDiffs[yr])\n",
      "#          y_means.append(np.mean(output[yr][group2][outcome]))\n",
      "\n",
      "    #         for diffy in yearlyDiffs[j]:\n",
      "#             x.append(j)\n",
      "#             y.append(diffy)    \n",
      "            \n",
      "    # note, i'm plotting means because plotting each point makes the plot crowded,\n",
      "    # but i'm calculating the regression line on the un-aggregated data!    \n",
      "#     plot(years, means, '.', alpha=0.8)  \n",
      "\n",
      "    # i am not plotting the line below because it changes the y-axis and it's hard to see any trend!!!\n",
      "#     axarr[i].plot(x, y, '.', alpha=0.1)\n",
      "#            errorbar(years, means, yerr=yerr)\n",
      "\n",
      "#     ylabel('Change in ' + outcomeMap[outcome])\n",
      "\n",
      "    axarr[i].plot(YEARS, means, '.')\n",
      "    axarr[i].set_title(outcomeMap[outcome], fontsize=14)\n",
      "    \n",
      "    # add regression line\n",
      "    formula = outcome+'~years'\n",
      "#     result = smf.rlm(formula, data=pd.DataFrame({'years':x, outcome:y}).dropna(axis=0), missing='drop').fit()\n",
      "    result = smf.ols(formula, data=pd.DataFrame({'years':x, outcome:y}).dropna(axis=0), missing='drop').fit()\n",
      "    axarr[i].plot(YEARS, np.array(YEARS)*result.params[1] + result.params[0], 'r--')\n",
      "\n",
      "    # add the slope and its p-value\n",
      "    axarr[i].annotate('slope=' + str(np.around(result.params[1],4))+ ', p=' + str(np.around(result.pvalues[1],3)), \n",
      "                      xy=(0, 0), xycoords='axes fraction', fontsize=12, ha='left', va='bottom', \n",
      "                      xytext=(5,5), textcoords='offset points')\n",
      "    \n",
      "    # print the intercept and its p-value for my inspection, not on the figure\n",
      "    print 'intercept:'+str(result.params[0])+', '+str(result.pvalues[0])\n",
      "\n",
      "# add title and common x-label\n",
      "f.text(0.5, 0.05, 'Years after publication', ha='center',  va='bottom',fontsize=14)\n",
      "f.text(0.5, 1-0.05, 'Outcomes x-Years Into Future', ha='center', fontsize=20)\n",
      "\n",
      "# savefig('../../Images/9-29-2014--outcomes_last_year_vs_x_years_into_future_all_8.png')"
     ],
     "language": "python",
     "metadata": {},
     "outputs": []
    },
    {
     "cell_type": "markdown",
     "metadata": {},
     "source": [
      "OLD CODE: Second, plot the *differences* in outcomes between last_year_used and future_year\n",
      "--"
     ]
    },
    {
     "cell_type": "code",
     "collapsed": false,
     "input": [
      "# group1 = 'on_last_year_of_data'\n",
      "# group2 = 'on_future_year'    \n",
      "\n",
      "#ax.errorbar(x, y, yerr=yerr, fmt='o')\n",
      "\n",
      "#fig, axs = plt.subplots(nrows=len(outcomes), ncols=1, sharex=True)\n",
      "\n",
      "#fig = pl.figure(figsize=(3,8))\n",
      "#fig = plt.figure(1, figsize=(8,25))\n",
      "YEARS = range(43)\n",
      "results={}\n",
      "\n",
      "outcomeMap = {'propSig':\"Proportion of Stat. Sign. Coeff's\", \n",
      "              'paramSizesNormed':\"Standard. Size of Coeff's\",\n",
      "              'Rs':'R_squared', \n",
      "              'adjRs':'Adjusted R_squared',\n",
      "              'pvalues':\"Average P-Value of Coeff's\",\n",
      "              'propSig_CentralVars':\"Cent. Var's: Proportion of Stat. Sign. Coeff's\",\n",
      "              'paramSizesNormed_CentralVars':\"Cent. Var's: Standard. Size of Coeff's\", \n",
      "              'pvalues_CentralVars':\"Cent. Var's: Average P-Value of Coeff's\"}\n",
      "\n",
      "\n",
      "f, axarr = plt.subplots(4, 2, sharex=True)\n",
      "axarr = axarr.flatten()\n",
      "f.set_size_inches(9,11)\n",
      "\n",
      "# just re-arranging the list of outcomes so they get plotted in the order i want\n",
      "outcomes_ordered = ['propSig', 'propSig_CentralVars',\n",
      "              'paramSizesNormed', 'paramSizesNormed_CentralVars', \n",
      "              'pvalues','pvalues_CentralVars',\n",
      "               'Rs', 'adjRs']\n",
      "\n",
      "for i, outcome in enumerate(outcomes_ordered):\n",
      "    \n",
      "    yearlyDiffs = [np.array(output[year][group2][outcome]) - np.array(output[year][group1][outcome]) for year in YEARS]  \n",
      "    yerr = [2*np.std(x)/np.sqrt(len(x)) for x in yearlyDiffs]\n",
      "    means = [np.mean(x) for x in yearlyDiffs]\n",
      "    \n",
      "    x, y = [], []  \n",
      "    for yr in YEARS:\n",
      "         x.extend([yr]*len(yearlyDiffs[yr]))\n",
      "         y.extend(yearlyDiffs[yr])\n",
      "#          y_means.append(np.mean(output[yr][group2][outcome]))\n",
      "\n",
      "    #         for diffy in yearlyDiffs[j]:\n",
      "#             x.append(j)\n",
      "#             y.append(diffy)    \n",
      "            \n",
      "    # note, i'm plotting means because plotting each point makes the plot crowded,\n",
      "    # but i'm calculating the regression line on the un-aggregated data!    \n",
      "#     plot(years, means, '.', alpha=0.8)  \n",
      "\n",
      "    # i am not plotting the line below because it changes the y-axis and it's hard to see any trend!!!\n",
      "#     axarr[i].plot(x, y, '.', alpha=0.1)\n",
      "#            errorbar(years, means, yerr=yerr)\n",
      "\n",
      "#     ylabel('Change in ' + outcomeMap[outcome])\n",
      "\n",
      "    axarr[i].plot(YEARS, means, '.')\n",
      "    axarr[i].set_title(outcomeMap[outcome], fontsize=14)\n",
      "    \n",
      "    # add regression line\n",
      "    formula = outcome+'~years'\n",
      "#     result = smf.rlm(formula, data=pd.DataFrame({'years':x, outcome:y}).dropna(axis=0), missing='drop').fit()\n",
      "    result = smf.ols(formula, data=pd.DataFrame({'years':x, outcome:y}).dropna(axis=0), missing='drop').fit()\n",
      "    axarr[i].plot(YEARS, np.array(YEARS)*result.params[1] + result.params[0], 'r--')\n",
      "\n",
      "    # add the slope and its p-value\n",
      "    axarr[i].annotate('slope=' + str(np.around(result.params[1],4))+ ', p=' + str(np.around(result.pvalues[1],3)), \n",
      "                      xy=(0, 0), xycoords='axes fraction', fontsize=12, ha='left', va='bottom', \n",
      "                      xytext=(5,5), textcoords='offset points')\n",
      "    \n",
      "    # print the intercept and its p-value for my inspection, not on the figure\n",
      "    print 'intercept:'+str(result.params[0])+', '+str(result.pvalues[0])\n",
      "\n",
      "# add title and common x-label\n",
      "f.text(0.5, 0.05, 'Years after publication', ha='center',  va='bottom',fontsize=14)\n",
      "f.text(0.5, 1-0.05, 'Outcomes x-Years Into Future', ha='center', fontsize=20)\n",
      "\n",
      "# savefig('../../Images/9-29-2014--outcomes_last_year_vs_x_years_into_future_all_8.png')"
     ],
     "language": "python",
     "metadata": {},
     "outputs": [
      {
       "ename": "TypeError",
       "evalue": "There is no line property \"yerr\"",
       "output_type": "pyerr",
       "traceback": [
        "\u001b[1;31m---------------------------------------------------------------------------\u001b[0m\n\u001b[1;31mTypeError\u001b[0m                                 Traceback (most recent call last)",
        "\u001b[1;32m<ipython-input-6-0da21b6130ba>\u001b[0m in \u001b[0;36m<module>\u001b[1;34m()\u001b[0m\n\u001b[0;32m     57\u001b[0m \u001b[1;31m#     ylabel('Change in ' + outcomeMap[outcome])\u001b[0m\u001b[1;33m\u001b[0m\u001b[1;33m\u001b[0m\u001b[0m\n\u001b[0;32m     58\u001b[0m \u001b[1;33m\u001b[0m\u001b[0m\n\u001b[1;32m---> 59\u001b[1;33m     \u001b[0maxarr\u001b[0m\u001b[1;33m[\u001b[0m\u001b[0mi\u001b[0m\u001b[1;33m]\u001b[0m\u001b[1;33m.\u001b[0m\u001b[0mplot\u001b[0m\u001b[1;33m(\u001b[0m\u001b[0mYEARS\u001b[0m\u001b[1;33m,\u001b[0m \u001b[0mmeans\u001b[0m\u001b[1;33m,\u001b[0m \u001b[1;34m'.'\u001b[0m\u001b[1;33m,\u001b[0m \u001b[0myerr\u001b[0m\u001b[1;33m=\u001b[0m\u001b[0myerr\u001b[0m\u001b[1;33m)\u001b[0m\u001b[1;33m\u001b[0m\u001b[0m\n\u001b[0m\u001b[0;32m     60\u001b[0m     \u001b[0maxarr\u001b[0m\u001b[1;33m[\u001b[0m\u001b[0mi\u001b[0m\u001b[1;33m]\u001b[0m\u001b[1;33m.\u001b[0m\u001b[0mset_title\u001b[0m\u001b[1;33m(\u001b[0m\u001b[0moutcomeMap\u001b[0m\u001b[1;33m[\u001b[0m\u001b[0moutcome\u001b[0m\u001b[1;33m]\u001b[0m\u001b[1;33m,\u001b[0m \u001b[0mfontsize\u001b[0m\u001b[1;33m=\u001b[0m\u001b[1;36m14\u001b[0m\u001b[1;33m)\u001b[0m\u001b[1;33m\u001b[0m\u001b[0m\n\u001b[0;32m     61\u001b[0m \u001b[1;33m\u001b[0m\u001b[0m\n",
        "\u001b[1;32m/usr/local/lib/python2.7/site-packages/matplotlib-1.3.1-py2.7-linux-x86_64.egg/matplotlib/axes.pyc\u001b[0m in \u001b[0;36mplot\u001b[1;34m(self, *args, **kwargs)\u001b[0m\n\u001b[0;32m   4135\u001b[0m         \u001b[0mlines\u001b[0m \u001b[1;33m=\u001b[0m \u001b[1;33m[\u001b[0m\u001b[1;33m]\u001b[0m\u001b[1;33m\u001b[0m\u001b[0m\n\u001b[0;32m   4136\u001b[0m \u001b[1;33m\u001b[0m\u001b[0m\n\u001b[1;32m-> 4137\u001b[1;33m         \u001b[1;32mfor\u001b[0m \u001b[0mline\u001b[0m \u001b[1;32min\u001b[0m \u001b[0mself\u001b[0m\u001b[1;33m.\u001b[0m\u001b[0m_get_lines\u001b[0m\u001b[1;33m(\u001b[0m\u001b[1;33m*\u001b[0m\u001b[0margs\u001b[0m\u001b[1;33m,\u001b[0m \u001b[1;33m**\u001b[0m\u001b[0mkwargs\u001b[0m\u001b[1;33m)\u001b[0m\u001b[1;33m:\u001b[0m\u001b[1;33m\u001b[0m\u001b[0m\n\u001b[0m\u001b[0;32m   4138\u001b[0m             \u001b[0mself\u001b[0m\u001b[1;33m.\u001b[0m\u001b[0madd_line\u001b[0m\u001b[1;33m(\u001b[0m\u001b[0mline\u001b[0m\u001b[1;33m)\u001b[0m\u001b[1;33m\u001b[0m\u001b[0m\n\u001b[0;32m   4139\u001b[0m             \u001b[0mlines\u001b[0m\u001b[1;33m.\u001b[0m\u001b[0mappend\u001b[0m\u001b[1;33m(\u001b[0m\u001b[0mline\u001b[0m\u001b[1;33m)\u001b[0m\u001b[1;33m\u001b[0m\u001b[0m\n",
        "\u001b[1;32m/usr/local/lib/python2.7/site-packages/matplotlib-1.3.1-py2.7-linux-x86_64.egg/matplotlib/axes.pyc\u001b[0m in \u001b[0;36m_grab_next_args\u001b[1;34m(self, *args, **kwargs)\u001b[0m\n\u001b[0;32m    315\u001b[0m                 \u001b[1;32mreturn\u001b[0m\u001b[1;33m\u001b[0m\u001b[0m\n\u001b[0;32m    316\u001b[0m             \u001b[1;32mif\u001b[0m \u001b[0mlen\u001b[0m\u001b[1;33m(\u001b[0m\u001b[0mremaining\u001b[0m\u001b[1;33m)\u001b[0m \u001b[1;33m<=\u001b[0m \u001b[1;36m3\u001b[0m\u001b[1;33m:\u001b[0m\u001b[1;33m\u001b[0m\u001b[0m\n\u001b[1;32m--> 317\u001b[1;33m                 \u001b[1;32mfor\u001b[0m \u001b[0mseg\u001b[0m \u001b[1;32min\u001b[0m \u001b[0mself\u001b[0m\u001b[1;33m.\u001b[0m\u001b[0m_plot_args\u001b[0m\u001b[1;33m(\u001b[0m\u001b[0mremaining\u001b[0m\u001b[1;33m,\u001b[0m \u001b[0mkwargs\u001b[0m\u001b[1;33m)\u001b[0m\u001b[1;33m:\u001b[0m\u001b[1;33m\u001b[0m\u001b[0m\n\u001b[0m\u001b[0;32m    318\u001b[0m                     \u001b[1;32myield\u001b[0m \u001b[0mseg\u001b[0m\u001b[1;33m\u001b[0m\u001b[0m\n\u001b[0;32m    319\u001b[0m                 \u001b[1;32mreturn\u001b[0m\u001b[1;33m\u001b[0m\u001b[0m\n",
        "\u001b[1;32m/usr/local/lib/python2.7/site-packages/matplotlib-1.3.1-py2.7-linux-x86_64.egg/matplotlib/axes.pyc\u001b[0m in \u001b[0;36m_plot_args\u001b[1;34m(self, tup, kwargs)\u001b[0m\n\u001b[0;32m    303\u001b[0m         \u001b[0mncx\u001b[0m\u001b[1;33m,\u001b[0m \u001b[0mncy\u001b[0m \u001b[1;33m=\u001b[0m \u001b[0mx\u001b[0m\u001b[1;33m.\u001b[0m\u001b[0mshape\u001b[0m\u001b[1;33m[\u001b[0m\u001b[1;36m1\u001b[0m\u001b[1;33m]\u001b[0m\u001b[1;33m,\u001b[0m \u001b[0my\u001b[0m\u001b[1;33m.\u001b[0m\u001b[0mshape\u001b[0m\u001b[1;33m[\u001b[0m\u001b[1;36m1\u001b[0m\u001b[1;33m]\u001b[0m\u001b[1;33m\u001b[0m\u001b[0m\n\u001b[0;32m    304\u001b[0m         \u001b[1;32mfor\u001b[0m \u001b[0mj\u001b[0m \u001b[1;32min\u001b[0m \u001b[0mxrange\u001b[0m\u001b[1;33m(\u001b[0m\u001b[0mmax\u001b[0m\u001b[1;33m(\u001b[0m\u001b[0mncx\u001b[0m\u001b[1;33m,\u001b[0m \u001b[0mncy\u001b[0m\u001b[1;33m)\u001b[0m\u001b[1;33m)\u001b[0m\u001b[1;33m:\u001b[0m\u001b[1;33m\u001b[0m\u001b[0m\n\u001b[1;32m--> 305\u001b[1;33m             \u001b[0mseg\u001b[0m \u001b[1;33m=\u001b[0m \u001b[0mfunc\u001b[0m\u001b[1;33m(\u001b[0m\u001b[0mx\u001b[0m\u001b[1;33m[\u001b[0m\u001b[1;33m:\u001b[0m\u001b[1;33m,\u001b[0m \u001b[0mj\u001b[0m \u001b[1;33m%\u001b[0m \u001b[0mncx\u001b[0m\u001b[1;33m]\u001b[0m\u001b[1;33m,\u001b[0m \u001b[0my\u001b[0m\u001b[1;33m[\u001b[0m\u001b[1;33m:\u001b[0m\u001b[1;33m,\u001b[0m \u001b[0mj\u001b[0m \u001b[1;33m%\u001b[0m \u001b[0mncy\u001b[0m\u001b[1;33m]\u001b[0m\u001b[1;33m,\u001b[0m \u001b[0mkw\u001b[0m\u001b[1;33m,\u001b[0m \u001b[0mkwargs\u001b[0m\u001b[1;33m)\u001b[0m\u001b[1;33m\u001b[0m\u001b[0m\n\u001b[0m\u001b[0;32m    306\u001b[0m             \u001b[0mret\u001b[0m\u001b[1;33m.\u001b[0m\u001b[0mappend\u001b[0m\u001b[1;33m(\u001b[0m\u001b[0mseg\u001b[0m\u001b[1;33m)\u001b[0m\u001b[1;33m\u001b[0m\u001b[0m\n\u001b[0;32m    307\u001b[0m         \u001b[1;32mreturn\u001b[0m \u001b[0mret\u001b[0m\u001b[1;33m\u001b[0m\u001b[0m\n",
        "\u001b[1;32m/usr/local/lib/python2.7/site-packages/matplotlib-1.3.1-py2.7-linux-x86_64.egg/matplotlib/axes.pyc\u001b[0m in \u001b[0;36m_makeline\u001b[1;34m(self, x, y, kw, kwargs)\u001b[0m\n\u001b[0;32m    255\u001b[0m                             \u001b[1;33m**\u001b[0m\u001b[0mkw\u001b[0m\u001b[1;33m\u001b[0m\u001b[0m\n\u001b[0;32m    256\u001b[0m                             )\n\u001b[1;32m--> 257\u001b[1;33m         \u001b[0mself\u001b[0m\u001b[1;33m.\u001b[0m\u001b[0mset_lineprops\u001b[0m\u001b[1;33m(\u001b[0m\u001b[0mseg\u001b[0m\u001b[1;33m,\u001b[0m \u001b[1;33m**\u001b[0m\u001b[0mkwargs\u001b[0m\u001b[1;33m)\u001b[0m\u001b[1;33m\u001b[0m\u001b[0m\n\u001b[0m\u001b[0;32m    258\u001b[0m         \u001b[1;32mreturn\u001b[0m \u001b[0mseg\u001b[0m\u001b[1;33m\u001b[0m\u001b[0m\n\u001b[0;32m    259\u001b[0m \u001b[1;33m\u001b[0m\u001b[0m\n",
        "\u001b[1;32m/usr/local/lib/python2.7/site-packages/matplotlib-1.3.1-py2.7-linux-x86_64.egg/matplotlib/axes.pyc\u001b[0m in \u001b[0;36mset_lineprops\u001b[1;34m(self, line, **kwargs)\u001b[0m\n\u001b[0;32m    196\u001b[0m             \u001b[0mfuncName\u001b[0m \u001b[1;33m=\u001b[0m \u001b[1;34m\"set_%s\"\u001b[0m \u001b[1;33m%\u001b[0m \u001b[0mkey\u001b[0m\u001b[1;33m\u001b[0m\u001b[0m\n\u001b[0;32m    197\u001b[0m             \u001b[1;32mif\u001b[0m \u001b[1;32mnot\u001b[0m \u001b[0mhasattr\u001b[0m\u001b[1;33m(\u001b[0m\u001b[0mline\u001b[0m\u001b[1;33m,\u001b[0m \u001b[0mfuncName\u001b[0m\u001b[1;33m)\u001b[0m\u001b[1;33m:\u001b[0m\u001b[1;33m\u001b[0m\u001b[0m\n\u001b[1;32m--> 198\u001b[1;33m                 \u001b[1;32mraise\u001b[0m \u001b[0mTypeError\u001b[0m\u001b[1;33m(\u001b[0m\u001b[1;34m'There is no line property \"%s\"'\u001b[0m \u001b[1;33m%\u001b[0m \u001b[0mkey\u001b[0m\u001b[1;33m)\u001b[0m\u001b[1;33m\u001b[0m\u001b[0m\n\u001b[0m\u001b[0;32m    199\u001b[0m             \u001b[0mfunc\u001b[0m \u001b[1;33m=\u001b[0m \u001b[0mgetattr\u001b[0m\u001b[1;33m(\u001b[0m\u001b[0mline\u001b[0m\u001b[1;33m,\u001b[0m \u001b[0mfuncName\u001b[0m\u001b[1;33m)\u001b[0m\u001b[1;33m\u001b[0m\u001b[0m\n\u001b[0;32m    200\u001b[0m             \u001b[0mfunc\u001b[0m\u001b[1;33m(\u001b[0m\u001b[0mval\u001b[0m\u001b[1;33m)\u001b[0m\u001b[1;33m\u001b[0m\u001b[0m\n",
        "\u001b[1;31mTypeError\u001b[0m: There is no line property \"yerr\""
       ]
      },
      {
       "metadata": {},
       "output_type": "display_data",
       "png": "[encoded data removed]",
       "text": [
        "<matplotlib.figure.Figure at 0x8435fd0>"
       ]
      }
     ],
     "prompt_number": 6
    },
    {
     "cell_type": "markdown",
     "metadata": {},
     "source": [
      "Robustness check\n",
      "--\n",
      "\n",
      "Description: \n",
      "Use *clustered standard errors* to do significance tests.\n",
      "Note: I am not using the 'df_correction' flag in get_robustcov_results() because that's apparently something HLM does, not canonical clustered errors:\n",
      "\"This method of correcting the standard errors to account for the intraclass correlation is a \"weaker\" form of correction than using a multilevel model, which not only accounts for the intraclass correlation, but also corrects the denominator degrees of freedom for the number of clusters.\"\n",
      "source: http://www.ats.ucla.edu/stat/stata/library/cpsu.htm\n",
      "\n",
      "Outcome\n",
      "--\n",
      "All outcomes are still p < 0.05 (!!!) except the time-trends in p-values, which are not p > 0.05. \n"
     ]
    },
    {
     "cell_type": "code",
     "collapsed": false,
     "input": [
      "# group1 = 'on_last_year_of_data'\n",
      "# group2 = 'on_future_year'    \n",
      "\n",
      "#ax.errorbar(x, y, yerr=yerr, fmt='o')\n",
      "\n",
      "#fig, axs = plt.subplots(nrows=len(outcomes), ncols=1, sharex=True)\n",
      "\n",
      "#fig = pl.figure(figsize=(3,8))\n",
      "#fig = plt.figure(1, figsize=(8,25))\n",
      "YEARS = range(43)\n",
      "results={}\n",
      "\n",
      "outcomeMap = {'propSig':\"Proportion of Stat. Sign. Coeff's\", \n",
      "              'paramSizesNormed':\"Standard. Size of Coeff's\",\n",
      "              'Rs':'R_squared', \n",
      "              'adjRs':'Adjusted R_squared',\n",
      "              'pvalues':\"Average P-Value of Coeff's\",\n",
      "              'propSig_CentralVars':\"Cent. Var's: Proportion of Stat. Sign. Coeff's\",\n",
      "              'paramSizesNormed_CentralVars':\"Cent. Var's: Standard. Size of Coeff's\", \n",
      "              'pvalues_CentralVars':\"Cent. Var's: Average P-Value of Coeff's\"}\n",
      "\n",
      "\n",
      "f, axarr = plt.subplots(4, 2, sharex=True)\n",
      "axarr = axarr.flatten()\n",
      "f.set_size_inches(9,11)\n",
      "\n",
      "# just re-arranging the list of outcomes so they get plotted in the order i want\n",
      "outcomes_ordered = ['propSig', 'propSig_CentralVars',\n",
      "              'paramSizesNormed', 'paramSizesNormed_CentralVars', \n",
      "              'pvalues','pvalues_CentralVars',\n",
      "               'Rs', 'adjRs']\n",
      "\n",
      "for i, outcome in enumerate(outcomes_ordered):\n",
      "    \n",
      "    x, y, yerr, means = [], [], [], []  \n",
      "    article_indices = []\n",
      "    \n",
      "    for yr in YEARS:\n",
      "        yearlyDiffs = np.array(output[yr][group2][outcome]) - \\\n",
      "                                np.array(output[yr][group1][outcome])  \n",
      "        x.extend([yr]*len(yearlyDiffs))\n",
      "        y.extend(yearlyDiffs)\n",
      "        means.append(np.mean(yearlyDiffs))\n",
      "        yerr.append(2*np.std(yearlyDiffs))\n",
      "\n",
      "        article_indices.extend(output[yr]['metadata']['articleID'])\n",
      "\n",
      "        #          y_means.append(np.mean(output[yr][group2][outcome]))\n",
      "\n",
      "    #         for diffy in yearlyDiffs[j]:\n",
      "#             x.append(j)\n",
      "#             y.append(diffy)    \n",
      "            \n",
      "    # note, i'm plotting means because plotting each point makes the plot crowded,\n",
      "    # but i'm calculating the regression line on the un-aggregated data!    \n",
      "#     plot(years, means, '.', alpha=0.8)  \n",
      "\n",
      "    # i am not plotting the line below because it changes the y-axis and it's hard to see any trend!!!\n",
      "#     axarr[i].plot(x, y, '.', alpha=0.1)\n",
      "#            errorbar(years, means, yerr=yerr)\n",
      "\n",
      "#     ylabel('Change in ' + outcomeMap[outcome])\n",
      "\n",
      "    axarr[i].plot(YEARS, means, '.')\n",
      "    axarr[i].set_title(outcomeMap[outcome], fontsize=14)\n",
      "    \n",
      "    # add regression line\n",
      "    formula = outcome+'~years'\n",
      "#     result = smf.rlm(formula, data=pd.DataFrame({'years':x, outcome:y}).dropna(axis=0), missing='drop').fit()\n",
      "    result = smf.ols(formula, data=pd.DataFrame({'years':x, outcome:y}).dropna(axis=0), \\\n",
      "                     missing='drop').fit(cov_type='cluster', \\\n",
      "                                         cov_kwds=dict(groups=article_indices))\n",
      "    \n",
      "    axarr[i].plot(YEARS, np.array(YEARS)*result.params[1] + result.params[0], 'r--')\n",
      "\n",
      "# section below no longer necessary because i'm passing keyword args for 'cluster' into the model.fit() method above\n",
      "#     # GET CLUSTERED ERRORS\n",
      "#     robust_results = result.get_robustcov_results(cov_type='cluster', \n",
      "#                                                   groups=article_indices, \n",
      "#                                                   df_correction=True) # try True\n",
      "    \n",
      "    \n",
      "\n",
      "    # add the slope and its p-value\n",
      "    axarr[i].annotate('slope=' + str(np.around(result.params[1],4))+ \\\n",
      "                      ', p=' + str(np.around(result.pvalues[1],3)), \\\n",
      "                      xy=(0, 0), xycoords='axes fraction', fontsize=12, ha='left', va='bottom', \\\n",
      "                      xytext=(5,5), textcoords='offset points')\n",
      "    \n",
      "    # print the intercept and its p-value for my inspection, not on the figure\n",
      "    print 'intercept:'+str(result.params[0])+', '+str(result.pvalues[0])    \n",
      "\n",
      "# add title and common x-label\n",
      "f.text(0.5, 0.05, 'Years after publication', ha='center',  va='bottom',fontsize=14)\n",
      "f.text(0.5, 1-0.05, 'Robustness Test: Outcomes after Publication', ha='center', fontsize=18)\n",
      "f.text(0.5, 1-0.07, 'using Clustered Standard Errors', ha='center', fontsize=18)\n",
      "\n",
      "savefig('../../Images/10-23-2014--robustness_test--outcomes_after_publication_with_clustered_errors.png')"
     ],
     "language": "python",
     "metadata": {},
     "outputs": [
      {
       "output_type": "stream",
       "stream": "stdout",
       "text": [
        "intercept:-0.0445029019115, 0.0173984062965\n",
        "intercept:-0.0824149502679, 0.0112924462386\n",
        "intercept:-0.00361499988026, 0.376681012537\n",
        "intercept:-0.00593348533164, 0.166692784891\n",
        "intercept:0.021833538167, 0.0879553921973"
       ]
      },
      {
       "output_type": "stream",
       "stream": "stdout",
       "text": [
        "\n",
        "intercept:0.0405042247926, 0.0233637103704\n",
        "intercept:0.000468872406361, 0.865988888285\n",
        "intercept:-0.000329075559239, 0.903003714022\n"
       ]
      },
      {
       "metadata": {},
       "output_type": "display_data",
       "png": "[encoded data removed]",
       "text": [
        "<matplotlib.figure.Figure at 0x1913d9d0>"
       ]
      }
     ],
     "prompt_number": 60
    }
   ],
   "metadata": {}
  }
 ]
}