{
 "metadata": {
  "name": "",
  "signature": "sha256:97900c96cd8cc8f690f75e8736a1af63b4ab5064009c74cf3899ead4a8be06f3"
 },
 "nbformat": 3,
 "nbformat_minor": 0,
 "worksheets": [
  {
   "cells": [
    {
     "cell_type": "markdown",
     "metadata": {},
     "source": [
      "# Minianalysis: Did not use all available data\n",
      "\n",
      "Notes\n",
      "--\n",
      "Here I tried putting the output of the estimated models into a Pandas dataframe. During this exercise I discovered that Pandas is very bad at the situation when its elements are lists. And the two groups of observations (models run on year used, and year unused-but-available) have different numbers of model-runs in them, because the two numbers of years are usually not equal). So I averaged over DVs *and* years and put the overall average as the value for the group for a given article. This seems suboptimal, especially averaging over DVs part.\n",
      "\n",
      "Conclusions\n",
      "--\n",
      "As the figure of Output shows, the differences are miniscule, and in the \"unexpected\" direction. So, I'm stopping this minianalysis here for now. (9/9/2014)."
     ]
    },
    {
     "cell_type": "code",
     "collapsed": false,
     "input": [
      "import pandas as pd\n",
      "\n",
      "from __future__ import division\n",
      "#import cPickle as cp\n",
      "import sys\n",
      "sys.path.append('../')    \n",
      "import GSSUtility as GU\n",
      "\n",
      "import numpy as np\n",
      "import statsmodels.formula.api as smf \n",
      "import random\n",
      "from scipy.stats import pearsonr, ttest_ind, ttest_rel\n",
      "\n",
      "import time\n",
      "from collections import Counter\n",
      "from collections import defaultdict\n",
      "#from GSSUtility import *\n"
     ],
     "language": "python",
     "metadata": {},
     "outputs": [],
     "prompt_number": 53
    },
    {
     "cell_type": "code",
     "collapsed": false,
     "input": [],
     "language": "python",
     "metadata": {},
     "outputs": [
      {
       "metadata": {},
       "output_type": "pyout",
       "prompt_number": 125,
       "text": [
        "MultiIndex(levels=[[u'%_of_coeffs_signif.', u'Rs', u'adj_Rs', u'avg_p-value', u'avg_param_size'], [u'group1', u'group2']],\n",
        "           labels=[[0, 0, 4, 4, 1, 1, 2, 2, 3, 3], [0, 1, 0, 1, 0, 1, 0, 1, 0, 1]])"
       ]
      }
     ],
     "prompt_number": 125
    },
    {
     "cell_type": "code",
     "collapsed": false,
     "input": [
      "\"\"\"\n",
      "\n",
      "filename: minianalysis__did_not_use_all_available_data.py\n",
      "\n",
      "description: Compare models run on data used and on earlier data not used\n",
      "inputs:\n",
      "\n",
      "outputs:\n",
      "\n",
      "@author: Misha\n",
      "\n",
      "\"\"\"\n",
      "\n",
      "if __name__ == \"__main__\":    \n",
      "    \n",
      "    pathToData = '../../Data/'\n",
      "    dataCont = GU.dataContainer(pathToData)\n",
      "    \n",
      "    # group1 = models run on original data   \n",
      "    # group2 = models run on unused data (but available at time of publication)\n",
      "    groups = ['group1', 'group2']    \n",
      "    outcomes = ['%_of_coeffs_signif.', 'avg_coeff_size', 'Rs', 'adj_Rs', 'avg_p-value']\n",
      "\n",
      "    output = pd.DataFrame(columns=pd.MultiIndex.from_product([outcomes, groups]), dtype=float)\n",
      "#     output = output.astype(object)\n",
      "#     output.columns\n",
      "    articlesToUse = GU.filterArticles(dataCont.articleClasses, GSSYearsUsed=True, GSSYearsPossible=True, \\\n",
      "                                      unusedGSSYears=True, centralIVs=False)            \n",
      "#     for article in random.sample(articlesToUse, 10):\n",
      "    for article in articlesToUse:\n",
      "    #for article in [a for a in articleClasses if a.articleID == 6755]:\n",
      "    \n",
      "        print 'Processing article No.', article.articleID\n",
      "              \n",
      "        # define the outcomes I'm interseted in for the two groups. td = \"temp data\" \n",
      "        # and initialize them for both groups\n",
      "        td = defaultdict(dict)\n",
      "        for group in groups:             \n",
      "    #        td[group]['coeffsSig'] = []\n",
      "            td[group]['numTotal'] = 0.0   \n",
      "            td[group]['numSig'] = 0.0   # proportions of significant coeffs\n",
      "    #        td[group]['paramSizes'] = []\n",
      "            td[group]['avg_coeff_size'] = []\n",
      "            td[group]['Rs'] = []\n",
      "            td[group]['adj_Rs'] = []\n",
      "            td[group]['avg_p-value'] = []\n",
      "            td[group]['%_of_coeffs_signif.'] = []\n",
      "\n",
      "\n",
      "        RHS = article.IVs + article.controls\n",
      "\n",
      "        for DV in article.DVs:            \n",
      "\n",
      "            # RUN MODELS FROM GROUP 1 ############################################  \n",
      "            # group 1: models on original data\n",
      "            group = 'group1'          \n",
      "            for year in article.GSSYearsUsed:       \n",
      "                print 'Run models on original data'\n",
      "                res_orig = GU.runModel(dataCont, year, DV=DV, IVs=RHS)          \n",
      "                if not res_orig: continue # results will be None if the formula cant be estimated                 \n",
      "                print DV, '~', ' + '.join(RHS), 'on year', year\n",
      "                \n",
      "                # save the (temporary) results                   \n",
      "                td[group]['Rs'].append(res_orig.rsquared)\n",
      "                td[group]['adj_Rs'].append(res_orig.rsquared_adj)\n",
      "                td[group]['numSig'] += float(len([p for p in res_orig.pvalues[1:] if p < 0.05])) # start at 1 because don't want to count the constant\n",
      "                td[group]['avg_coeff_size'].append(np.mean(np.abs(res_orig.params[1:]))) # get the absolute value of the standardized coefficients and take the mean \n",
      "                td[group]['avg_p-value'].append(np.mean(res_orig.pvalues[1:]))\n",
      "                td[group]['numTotal'] += len(res_orig.params[1:])\n",
      "                td[group]['%_of_coeffs_signif.'].append( \n",
      "                      float(len([p for p in res_orig.pvalues[1:] if p < 0.05])) / len(res_orig.params[1:]) )\n",
      "            \n",
      "            # RUN MODELS FROM GROUP 2 ############################################  \n",
      "            # group2: models run on unused (early) data\n",
      "            group = 'group2'\n",
      "            for year in [yr for yr in article.GSSYearsPossible if yr < max(article.GSSYearsUsed)]: # unused early years\n",
      "                print 'Run models on unused early data'\n",
      "                res_unused = GU.runModel(dataCont, year, DV=DV, IVs=RHS)                     \n",
      "                if not res_unused: continue # results will be None if the formula cant be estimated\n",
      "                print DV, '~', ' + '.join(RHS), 'on year', year\n",
      "\n",
      "                # save the (temporary) results                   \n",
      "                td['group2']['Rs'].append(res_unused.rsquared)\n",
      "                td['group2']['adj_Rs'].append(res_unused.rsquared_adj)\n",
      "                td['group2']['numSig'] += float(len([p for p in res_unused.pvalues[1:] if p < 0.05])) # start at 1 because don't want to count the constant\n",
      "                td['group2']['avg_coeff_size'].append(np.mean(np.abs(res_unused.params[-1]))) # get the absolute value of the standardized coefficients and take the mean \n",
      "                td['group2']['avg_p-value'].append(np.mean(res_unused.pvalues[1:]))\n",
      "                td['group2']['numTotal'] += len(res_unused.params[1:])\n",
      "                td[group]['%_of_coeffs_signif.'].append(\n",
      "                           float(len([p for p in res_unused.pvalues[1:] if p < 0.05])) / len(res_unused.params[1:]) )\n",
      "                              \n",
      "#             # Checks on which results to record                \n",
      "#             if len(res_orig.params) != len(res_unused.params):\n",
      "#                 print 'The number of variables in original model is different from the number in cognate model. Skipping.'                    \n",
      "#                 continue\n",
      "       \n",
      "            # The change I'm making is that the block below is now within the for loop\n",
      "            # of \"for DV in article.DVs\". So I'm averaging over years but not DVs                    \n",
      "            # if an article's model isn't run on both group 1 and group 2, skip it        \n",
      "          \n",
      "        if td['group1']['numTotal'] == 0  or td['group2']['numTotal'] == 0: continue\n",
      "            \n",
      "        for group in groups:      \n",
      "            for outcome in outcomes:\n",
      "                output.loc[article.articleID, (outcome, group)] = np.mean(td[group][outcome])\n",
      "#                 output.loc[article.articleID, ('adj_Rs', group)].append( np.mean( td[group]['adj_Rs']) ) \n",
      "#                 output.loc[article.articleID, ('%_of_coeffs_signif.', group)].append( np.mean(td[group]['%_of_coeffs_signif.']) )\n",
      "#                 output.loc[article.articleID, ('avg_coeff_size', group)].append( np.mean( td[group]['avg_coeff_size']) )\n",
      "#                 output.loc[article.articleID, ('avg_p-value', group)].append( np.mean( td[group]['avg_p-value']) )\n",
      "#                 output[group]['numTotal'].append(td[group]['numTotal'] / len(td[group]['Rs'])) #divide by len of R^2 array to get a mean of variables estimated PER model                           \n",
      "        \n",
      "        \n",
      "#     print 'TTests'\n",
      "#     for outcome in outcomes:\n",
      "#         print 'Means of group1 and group2:', np.mean(output['group1'][outcome]), np.mean(output['group2'][outcome]), 'Paired T-test of ' + outcome, ttest_rel(output['group1'][outcome], output['group2'][outcome])\n",
      "\n",
      "#     tempCognateOutput.close()    "
     ],
     "language": "python",
     "metadata": {},
     "outputs": [
      {
       "output_type": "stream",
       "stream": "stdout",
       "text": [
        "Processing article No. 59\n",
        "Run models on original data\n",
        "Run models on unused early data\n",
        "Processing article No. 175\n",
        "Run models on original data\n",
        "Run models on unused early data\n",
        "Run models on unused early data\n",
        "Run models on unused early data\n",
        "Run models on unused early data\n",
        "Processing article No. 348\n",
        "Run models on original data\n",
        "Run models on original data"
       ]
      },
      {
       "output_type": "stream",
       "stream": "stdout",
       "text": [
        "\n",
        "Run models on original data\n",
        "Run models on unused early data\n",
        "Run models on original data\n",
        "Run models on original data\n",
        "Run models on original data\n",
        "Run models on unused early data\n",
        "Run models on original data\n",
        "Run models on original data"
       ]
      },
      {
       "output_type": "stream",
       "stream": "stdout",
       "text": [
        "\n",
        "Run models on original data\n",
        "Run models on unused early data\n",
        "Run models on original data\n",
        "Run models on original data\n",
        "Run models on original data\n",
        "Run models on unused early data\n",
        "Run models on original data\n",
        "Run models on original data\n",
        "Run models on original data"
       ]
      },
      {
       "output_type": "stream",
       "stream": "stdout",
       "text": [
        "\n",
        "Run models on unused early data\n",
        "Run models on original data\n",
        "Run models on original data\n",
        "Run models on original data\n",
        "Run models on unused early data\n",
        "Run models on original data\n",
        "Run models on original data\n",
        "Run models on original data\n",
        "Run models on unused early data"
       ]
      },
      {
       "output_type": "stream",
       "stream": "stdout",
       "text": [
        "\n",
        "Run models on original data\n",
        "Run models on original data\n",
        "Run models on original data\n",
        "Run models on unused early data\n",
        "Processing article No. 358\n",
        "Run models on original data\n",
        "ANOMIA5"
       ]
      },
      {
       "output_type": "stream",
       "stream": "stdout",
       "text": [
        " ~ RACE + EDUC + PRESTIGE + AGE + SIZE on year 1973\n",
        "Run models on original data\n",
        "ANOMIA5"
       ]
      },
      {
       "output_type": "stream",
       "stream": "stdout",
       "text": [
        " ~ RACE + EDUC + PRESTIGE + AGE + SIZE on year 1976\n",
        "Run models on unused early data\n",
        "ANOMIA5"
       ]
      },
      {
       "output_type": "stream",
       "stream": "stdout",
       "text": [
        " ~ RACE + EDUC + PRESTIGE + AGE + SIZE on year 1974\n",
        "Run models on original data\n",
        "ANOMIA6"
       ]
      },
      {
       "output_type": "stream",
       "stream": "stdout",
       "text": [
        " ~ RACE + EDUC + PRESTIGE + AGE + SIZE on year 1973\n",
        "Run models on original data\n",
        "ANOMIA6"
       ]
      },
      {
       "output_type": "stream",
       "stream": "stdout",
       "text": [
        " ~ RACE + EDUC + PRESTIGE + AGE + SIZE on year 1976\n",
        "Run models on unused early data\n",
        "ANOMIA6"
       ]
      },
      {
       "output_type": "stream",
       "stream": "stdout",
       "text": [
        " ~ RACE + EDUC + PRESTIGE + AGE + SIZE on year 1974\n",
        "Run models on original data\n",
        "ANOMIA7"
       ]
      },
      {
       "output_type": "stream",
       "stream": "stdout",
       "text": [
        " ~ RACE + EDUC + PRESTIGE + AGE + SIZE on year 1973\n",
        "Run models on original data\n",
        "ANOMIA7"
       ]
      },
      {
       "output_type": "stream",
       "stream": "stdout",
       "text": [
        " ~ RACE + EDUC + PRESTIGE + AGE + SIZE on year 1976\n",
        "Run models on unused early data\n",
        "ANOMIA7"
       ]
      },
      {
       "output_type": "stream",
       "stream": "stdout",
       "text": [
        " ~ RACE + EDUC + PRESTIGE + AGE + SIZE on year 1974\n",
        "Run models on original data\n",
        "ANOMIA8"
       ]
      },
      {
       "output_type": "stream",
       "stream": "stdout",
       "text": [
        " ~ RACE + EDUC + PRESTIGE + AGE + SIZE on year 1973\n",
        "Run models on original data\n",
        "ANOMIA8"
       ]
      },
      {
       "output_type": "stream",
       "stream": "stdout",
       "text": [
        " ~ RACE + EDUC + PRESTIGE + AGE + SIZE on year 1976\n",
        "Run models on unused early data\n",
        "ANOMIA8"
       ]
      },
      {
       "output_type": "stream",
       "stream": "stdout",
       "text": [
        " ~ RACE + EDUC + PRESTIGE + AGE + SIZE on year 1974\n",
        "Run models on original data\n",
        "ANOMIA9"
       ]
      },
      {
       "output_type": "stream",
       "stream": "stdout",
       "text": [
        " ~ RACE + EDUC + PRESTIGE + AGE + SIZE on year 1973\n",
        "Run models on original data\n",
        "ANOMIA9"
       ]
      },
      {
       "output_type": "stream",
       "stream": "stdout",
       "text": [
        " ~ RACE + EDUC + PRESTIGE + AGE + SIZE on year 1976\n",
        "Run models on unused early data\n",
        "ANOMIA9"
       ]
      },
      {
       "output_type": "stream",
       "stream": "stdout",
       "text": [
        " ~ RACE + EDUC + PRESTIGE + AGE + SIZE on year 1974\n",
        "Processing article No. 396\n",
        "Run models on original data\n",
        "Run models on original data\n",
        "Run models on unused early data\n",
        "Run models on unused early data\n",
        "Run models on unused early data\n",
        "Run models on unused early data\n",
        "Run models on unused early data\n",
        "Run models on unused early data"
       ]
      },
      {
       "output_type": "stream",
       "stream": "stdout",
       "text": [
        "\n",
        "Run models on unused early data\n",
        "Run models on original data\n",
        "Run models on original data\n",
        "Run models on unused early data\n",
        "Run models on unused early data\n",
        "Run models on unused early data\n",
        "Run models on unused early data\n",
        "Run models on unused early data\n",
        "Run models on unused early data\n",
        "Run models on unused early data"
       ]
      },
      {
       "output_type": "stream",
       "stream": "stdout",
       "text": [
        "\n",
        "Processing article No. 686\n",
        "Run models on original data\n",
        "PRESTIGE"
       ]
      },
      {
       "output_type": "stream",
       "stream": "stdout",
       "text": [
        " ~ EDUC on year 1988\n",
        "Run models on unused early data\n",
        "PRESTIGE"
       ]
      },
      {
       "output_type": "stream",
       "stream": "stdout",
       "text": [
        " ~ EDUC on year 1972\n",
        "Run models on unused early data\n",
        "PRESTIGE"
       ]
      },
      {
       "output_type": "stream",
       "stream": "stdout",
       "text": [
        " ~ EDUC on year 1973\n",
        "Run models on unused early data\n",
        "PRESTIGE"
       ]
      },
      {
       "output_type": "stream",
       "stream": "stdout",
       "text": [
        " ~ EDUC on year 1974\n",
        "Run models on unused early data\n",
        "PRESTIGE"
       ]
      },
      {
       "output_type": "stream",
       "stream": "stdout",
       "text": [
        " ~ EDUC on year 1975\n",
        "Run models on unused early data\n",
        "PRESTIGE"
       ]
      },
      {
       "output_type": "stream",
       "stream": "stdout",
       "text": [
        " ~ EDUC on year 1976\n",
        "Run models on unused early data\n",
        "PRESTIGE"
       ]
      },
      {
       "output_type": "stream",
       "stream": "stdout",
       "text": [
        " ~ EDUC on year 1977\n",
        "Run models on unused early data\n",
        "PRESTIGE"
       ]
      },
      {
       "output_type": "stream",
       "stream": "stdout",
       "text": [
        " ~ EDUC on year 1978\n",
        "Run models on unused early data\n",
        "PRESTIGE"
       ]
      },
      {
       "output_type": "stream",
       "stream": "stdout",
       "text": [
        " ~ EDUC on year 1980\n",
        "Run models on unused early data\n",
        "PRESTIGE"
       ]
      },
      {
       "output_type": "stream",
       "stream": "stdout",
       "text": [
        " ~ EDUC on year 1982\n",
        "Run models on unused early data\n",
        "PRESTIGE"
       ]
      },
      {
       "output_type": "stream",
       "stream": "stdout",
       "text": [
        " ~ EDUC on year 1983\n",
        "Run models on unused early data\n",
        "PRESTIGE"
       ]
      },
      {
       "output_type": "stream",
       "stream": "stdout",
       "text": [
        " ~ EDUC on year 1984\n",
        "Run models on unused early data\n",
        "PRESTIGE"
       ]
      },
      {
       "output_type": "stream",
       "stream": "stdout",
       "text": [
        " ~ EDUC on year 1985\n",
        "Run models on unused early data\n",
        "PRESTIGE"
       ]
      },
      {
       "output_type": "stream",
       "stream": "stdout",
       "text": [
        " ~ EDUC on year 1986\n",
        "Run models on unused early data\n",
        "PRESTIGE"
       ]
      },
      {
       "output_type": "stream",
       "stream": "stdout",
       "text": [
        " ~ EDUC on year 1987\n",
        "Processing article No. 706\n",
        "Run models on original data\n",
        "Run models on unused early data\n",
        "Run models on original data\n",
        "Run models on unused early data\n",
        "Run models on original data\n",
        "Run models on unused early data"
       ]
      },
      {
       "output_type": "stream",
       "stream": "stdout",
       "text": [
        "\n",
        "Run models on original data\n",
        "Run models on unused early data\n",
        "Run models on original data\n",
        "Run models on unused early data\n",
        "Run models on original data\n",
        "Run models on unused early data"
       ]
      },
      {
       "output_type": "stream",
       "stream": "stdout",
       "text": [
        "\n",
        "Run models on original data\n",
        "Run models on unused early data\n",
        "Run models on original data\n",
        "Run models on unused early data\n",
        "Run models on original data\n",
        "Run models on unused early data"
       ]
      },
      {
       "output_type": "stream",
       "stream": "stdout",
       "text": [
        "\n",
        "Run models on original data\n",
        "Run models on unused early data\n",
        "Run models on original data\n",
        "Run models on unused early data\n",
        "Run models on original data\n",
        "Run models on unused early data\n",
        "Run models on original data"
       ]
      },
      {
       "output_type": "stream",
       "stream": "stdout",
       "text": [
        "\n",
        "Run models on unused early data\n",
        "Run models on original data\n",
        "Run models on unused early data\n",
        "Run models on original data\n",
        "Run models on unused early data\n",
        "Processing article No. 739\n",
        "Run models on original data\n",
        "Run models on original data"
       ]
      },
      {
       "output_type": "stream",
       "stream": "stdout",
       "text": [
        "\n",
        "Run models on original data\n",
        "Run models on original data\n",
        "Run models on unused early data\n",
        "Run models on original data\n",
        "Run models on original data\n",
        "Run models on original data\n",
        "Run models on original data\n",
        "Run models on unused early data\n",
        "Run models on original data"
       ]
      },
      {
       "output_type": "stream",
       "stream": "stdout",
       "text": [
        "\n",
        "Run models on original data\n",
        "Run models on original data\n",
        "Run models on original data\n",
        "Run models on unused early data\n",
        "Run models on original data\n",
        "Run models on original data\n",
        "Run models on original data\n",
        "Run models on original data\n",
        "Run models on unused early data"
       ]
      },
      {
       "output_type": "stream",
       "stream": "stdout",
       "text": [
        "\n",
        "Run models on original data\n",
        "Run models on original data\n",
        "Run models on original data\n",
        "Run models on original data\n",
        "Run models on unused early data\n",
        "Run models on original data\n",
        "Run models on original data\n",
        "Run models on original data\n",
        "Run models on original data"
       ]
      },
      {
       "output_type": "stream",
       "stream": "stdout",
       "text": [
        "\n",
        "Run models on unused early data\n",
        "Run models on original data\n",
        "Run models on original data\n",
        "Run models on original data\n",
        "Run models on original data\n",
        "Run models on unused early data\n",
        "Run models on original data\n",
        "Run models on original data\n",
        "Run models on original data"
       ]
      },
      {
       "output_type": "stream",
       "stream": "stdout",
       "text": [
        "\n",
        "Run models on original data\n",
        "Run models on unused early data\n",
        "Run models on original data\n",
        "Run models on original data\n",
        "Run models on original data\n",
        "Run models on original data\n",
        "Run models on unused early data\n",
        "Run models on original data\n",
        "Run models on original data"
       ]
      },
      {
       "output_type": "stream",
       "stream": "stdout",
       "text": [
        "\n",
        "Run models on original data\n",
        "Run models on original data\n",
        "Run models on unused early data\n",
        "Run models on original data\n",
        "Run models on original data\n",
        "Run models on original data\n",
        "Run models on original data\n",
        "Run models on unused early data"
       ]
      },
      {
       "output_type": "stream",
       "stream": "stdout",
       "text": [
        "\n",
        "Run models on original data\n",
        "Run models on original data\n",
        "Run models on original data\n",
        "Run models on original data\n",
        "Run models on unused early data\n",
        "Run models on original data\n",
        "Run models on original data\n",
        "Run models on original data"
       ]
      },
      {
       "output_type": "stream",
       "stream": "stdout",
       "text": [
        "\n",
        "Run models on original data\n",
        "Run models on unused early data\n",
        "Run models on original data\n",
        "Run models on original data\n",
        "Run models on original data\n",
        "Run models on original data\n",
        "Run models on unused early data\n",
        "Run models on original data\n",
        "Run models on original data"
       ]
      },
      {
       "output_type": "stream",
       "stream": "stdout",
       "text": [
        "\n",
        "Run models on original data\n",
        "Run models on original data\n",
        "Run models on unused early data\n",
        "Run models on original data\n",
        "Run models on original data\n",
        "Run models on original data\n",
        "Run models on original data\n",
        "Run models on unused early data\n",
        "Run models on original data"
       ]
      },
      {
       "output_type": "stream",
       "stream": "stdout",
       "text": [
        "\n",
        "Run models on original data\n",
        "Run models on original data\n",
        "Run models on original data\n",
        "Run models on unused early data\n",
        "Run models on original data\n",
        "Run models on original data\n",
        "Run models on original data\n",
        "Run models on original data"
       ]
      },
      {
       "output_type": "stream",
       "stream": "stdout",
       "text": [
        "\n",
        "Run models on unused early data\n",
        "Run models on original data\n",
        "Run models on original data\n",
        "Run models on original data\n",
        "Run models on original data\n",
        "Run models on unused early data\n",
        "Run models on original data\n",
        "Run models on original data\n",
        "Run models on original data"
       ]
      },
      {
       "output_type": "stream",
       "stream": "stdout",
       "text": [
        "\n",
        "Run models on original data\n",
        "Run models on unused early data\n",
        "Run models on original data\n",
        "Run models on original data\n",
        "Run models on original data\n",
        "Run models on original data\n",
        "Run models on unused early data\n",
        "Run models on original data\n",
        "Run models on original data"
       ]
      },
      {
       "output_type": "stream",
       "stream": "stdout",
       "text": [
        "\n",
        "Run models on original data\n",
        "Run models on original data\n",
        "Run models on unused early data\n",
        "Processing article No. 742\n",
        "Run models on original data\n",
        "SATFIN"
       ]
      },
      {
       "output_type": "stream",
       "stream": "stdout",
       "text": [
        " ~ AGE on year 1984\n",
        "Run models on original data\n",
        "SATFIN"
       ]
      },
      {
       "output_type": "stream",
       "stream": "stdout",
       "text": [
        " ~ AGE on year 1985\n",
        "Run models on original data\n",
        "SATFIN"
       ]
      },
      {
       "output_type": "stream",
       "stream": "stdout",
       "text": [
        " ~ AGE on year 1986\n",
        "Run models on original data\n",
        "SATFIN"
       ]
      },
      {
       "output_type": "stream",
       "stream": "stdout",
       "text": [
        " ~ AGE on year 1987\n",
        "Run models on original data\n",
        "SATFIN"
       ]
      },
      {
       "output_type": "stream",
       "stream": "stdout",
       "text": [
        " ~ AGE on year 1988\n",
        "Run models on original data\n",
        "SATFIN"
       ]
      },
      {
       "output_type": "stream",
       "stream": "stdout",
       "text": [
        " ~ AGE on year 1989\n",
        "Run models on original data\n",
        "SATFIN"
       ]
      },
      {
       "output_type": "stream",
       "stream": "stdout",
       "text": [
        " ~ AGE on year 1990\n",
        "Run models on original data\n",
        "SATFIN"
       ]
      },
      {
       "output_type": "stream",
       "stream": "stdout",
       "text": [
        " ~ AGE on year 1991\n",
        "Run models on original data\n",
        "SATFIN"
       ]
      },
      {
       "output_type": "stream",
       "stream": "stdout",
       "text": [
        " ~ AGE on year 1993\n",
        "Run models on original data\n",
        "SATFIN"
       ]
      },
      {
       "output_type": "stream",
       "stream": "stdout",
       "text": [
        " ~ AGE on year 1994\n",
        "Run models on unused early data\n",
        "SATFIN"
       ]
      },
      {
       "output_type": "stream",
       "stream": "stdout",
       "text": [
        " ~ AGE on year 1972\n",
        "Run models on unused early data\n",
        "SATFIN"
       ]
      },
      {
       "output_type": "stream",
       "stream": "stdout",
       "text": [
        " ~ AGE on year 1973\n",
        "Run models on unused early data\n",
        "SATFIN"
       ]
      },
      {
       "output_type": "stream",
       "stream": "stdout",
       "text": [
        " ~ AGE on year 1974\n",
        "Run models on unused early data\n",
        "SATFIN"
       ]
      },
      {
       "output_type": "stream",
       "stream": "stdout",
       "text": [
        " ~ AGE on year 1975\n",
        "Run models on unused early data\n",
        "SATFIN"
       ]
      },
      {
       "output_type": "stream",
       "stream": "stdout",
       "text": [
        " ~ AGE on year 1976\n",
        "Run models on unused early data\n",
        "SATFIN"
       ]
      },
      {
       "output_type": "stream",
       "stream": "stdout",
       "text": [
        " ~ AGE on year 1977\n",
        "Run models on unused early data\n",
        "SATFIN"
       ]
      },
      {
       "output_type": "stream",
       "stream": "stdout",
       "text": [
        " ~ AGE on year 1978\n",
        "Run models on unused early data\n",
        "SATFIN"
       ]
      },
      {
       "output_type": "stream",
       "stream": "stdout",
       "text": [
        " ~ AGE on year 1980\n",
        "Run models on unused early data\n",
        "SATFIN"
       ]
      },
      {
       "output_type": "stream",
       "stream": "stdout",
       "text": [
        " ~ AGE on year 1982\n",
        "Run models on unused early data\n",
        "SATFIN"
       ]
      },
      {
       "output_type": "stream",
       "stream": "stdout",
       "text": [
        " ~ AGE on year 1983\n",
        "Run models on original data\n",
        "FINALTER"
       ]
      },
      {
       "output_type": "stream",
       "stream": "stdout",
       "text": [
        " ~ AGE on year 1984\n",
        "Run models on original data\n",
        "FINALTER"
       ]
      },
      {
       "output_type": "stream",
       "stream": "stdout",
       "text": [
        " ~ AGE on year 1985\n",
        "Run models on original data\n",
        "FINALTER"
       ]
      },
      {
       "output_type": "stream",
       "stream": "stdout",
       "text": [
        " ~ AGE on year 1986\n",
        "Run models on original data\n",
        "FINALTER"
       ]
      },
      {
       "output_type": "stream",
       "stream": "stdout",
       "text": [
        " ~ AGE on year 1987\n",
        "Run models on original data\n",
        "FINALTER"
       ]
      },
      {
       "output_type": "stream",
       "stream": "stdout",
       "text": [
        " ~ AGE on year 1988\n",
        "Run models on original data\n",
        "FINALTER"
       ]
      },
      {
       "output_type": "stream",
       "stream": "stdout",
       "text": [
        " ~ AGE on year 1989\n",
        "Run models on original data\n",
        "FINALTER"
       ]
      },
      {
       "output_type": "stream",
       "stream": "stdout",
       "text": [
        " ~ AGE on year 1990\n",
        "Run models on original data\n",
        "FINALTER"
       ]
      },
      {
       "output_type": "stream",
       "stream": "stdout",
       "text": [
        " ~ AGE on year 1991\n",
        "Run models on original data\n",
        "FINALTER"
       ]
      },
      {
       "output_type": "stream",
       "stream": "stdout",
       "text": [
        " ~ AGE on year 1993\n",
        "Run models on original data\n",
        "FINALTER"
       ]
      },
      {
       "output_type": "stream",
       "stream": "stdout",
       "text": [
        " ~ AGE on year 1994\n",
        "Run models on unused early data\n",
        "FINALTER"
       ]
      },
      {
       "output_type": "stream",
       "stream": "stdout",
       "text": [
        " ~ AGE on year 1972\n",
        "Run models on unused early data\n",
        "FINALTER"
       ]
      },
      {
       "output_type": "stream",
       "stream": "stdout",
       "text": [
        " ~ AGE on year 1973\n",
        "Run models on unused early data\n",
        "FINALTER"
       ]
      },
      {
       "output_type": "stream",
       "stream": "stdout",
       "text": [
        " ~ AGE on year 1974\n",
        "Run models on unused early data\n",
        "FINALTER"
       ]
      },
      {
       "output_type": "stream",
       "stream": "stdout",
       "text": [
        " ~ AGE on year 1975\n",
        "Run models on unused early data\n",
        "FINALTER"
       ]
      },
      {
       "output_type": "stream",
       "stream": "stdout",
       "text": [
        " ~ AGE on year 1976\n",
        "Run models on unused early data\n",
        "FINALTER"
       ]
      },
      {
       "output_type": "stream",
       "stream": "stdout",
       "text": [
        " ~ AGE on year 1977\n",
        "Run models on unused early data\n",
        "FINALTER"
       ]
      },
      {
       "output_type": "stream",
       "stream": "stdout",
       "text": [
        " ~ AGE on year 1978\n",
        "Run models on unused early data\n",
        "FINALTER"
       ]
      },
      {
       "output_type": "stream",
       "stream": "stdout",
       "text": [
        " ~ AGE on year 1980\n",
        "Run models on unused early data\n",
        "FINALTER"
       ]
      },
      {
       "output_type": "stream",
       "stream": "stdout",
       "text": [
        " ~ AGE on year 1982\n",
        "Run models on unused early data\n",
        "FINALTER"
       ]
      },
      {
       "output_type": "stream",
       "stream": "stdout",
       "text": [
        " ~ AGE on year 1983\n",
        "Processing article No. 756\n",
        "Run models on original data\n",
        "Run models on original data\n",
        "Run models on unused early data\n",
        "Run models on original data\n",
        "Run models on original data\n",
        "Run models on unused early data\n",
        "Processing article No."
       ]
      },
      {
       "output_type": "stream",
       "stream": "stdout",
       "text": [
        " 801\n",
        "Run models on original data\n",
        "FEPRES"
       ]
      },
      {
       "output_type": "stream",
       "stream": "stdout",
       "text": [
        " ~ SEX on year 1974\n",
        "Run models on original data\n",
        "FEPRES"
       ]
      },
      {
       "output_type": "stream",
       "stream": "stdout",
       "text": [
        " ~ SEX on year 1996\n",
        "Run models on original data\n",
        "FEPRES"
       ]
      },
      {
       "output_type": "stream",
       "stream": "stdout",
       "text": [
        " ~ SEX on year 1998\n",
        "Run models on unused early data\n",
        "FEPRES"
       ]
      },
      {
       "output_type": "stream",
       "stream": "stdout",
       "text": [
        " ~ SEX on year 1975\n",
        "Run models on unused early data\n",
        "FEPRES"
       ]
      },
      {
       "output_type": "stream",
       "stream": "stdout",
       "text": [
        " ~ SEX on year 1977\n",
        "Run models on unused early data\n",
        "FEPRES"
       ]
      },
      {
       "output_type": "stream",
       "stream": "stdout",
       "text": [
        " ~ SEX on year 1978\n",
        "Run models on unused early data\n",
        "FEPRES"
       ]
      },
      {
       "output_type": "stream",
       "stream": "stdout",
       "text": [
        " ~ SEX on year 1982\n",
        "Run models on unused early data\n",
        "FEPRES"
       ]
      },
      {
       "output_type": "stream",
       "stream": "stdout",
       "text": [
        " ~ SEX on year 1983\n",
        "Run models on unused early data\n",
        "FEPRES"
       ]
      },
      {
       "output_type": "stream",
       "stream": "stdout",
       "text": [
        " ~ SEX on year 1985\n",
        "Run models on unused early data\n",
        "FEPRES"
       ]
      },
      {
       "output_type": "stream",
       "stream": "stdout",
       "text": [
        " ~ SEX on year 1986\n",
        "Run models on unused early data\n",
        "FEPRES"
       ]
      },
      {
       "output_type": "stream",
       "stream": "stdout",
       "text": [
        " ~ SEX on year 1988\n",
        "Run models on unused early data\n",
        "FEPRES"
       ]
      },
      {
       "output_type": "stream",
       "stream": "stdout",
       "text": [
        " ~ SEX on year 1989\n",
        "Run models on unused early data\n",
        "FEPRES ~ SEX on year 1990\n",
        "Run models on unused early data"
       ]
      },
      {
       "output_type": "stream",
       "stream": "stdout",
       "text": [
        "\n",
        "FEPRES ~ SEX on year 1991\n",
        "Run models on unused early data"
       ]
      },
      {
       "output_type": "stream",
       "stream": "stdout",
       "text": [
        "\n",
        "FEPRES"
       ]
      },
      {
       "output_type": "stream",
       "stream": "stdout",
       "text": [
        " ~ SEX on year 1993\n",
        "Run models on unused early data\n",
        "FEPRES"
       ]
      },
      {
       "output_type": "stream",
       "stream": "stdout",
       "text": [
        " ~ SEX on year 1994\n",
        "Run models on original data\n",
        "FEPOL ~ SEX on year 1974\n",
        "Run models on original data\n",
        "FEPOL"
       ]
      },
      {
       "output_type": "stream",
       "stream": "stdout",
       "text": [
        " ~ SEX on year 1996\n",
        "Run models on original data\n",
        "FEPOL"
       ]
      },
      {
       "output_type": "stream",
       "stream": "stdout",
       "text": [
        " ~ SEX on year 1998\n",
        "Run models on unused early data\n",
        "FEPOL"
       ]
      },
      {
       "output_type": "stream",
       "stream": "stdout",
       "text": [
        " ~ SEX on year 1975\n",
        "Run models on unused early data\n",
        "FEPOL"
       ]
      },
      {
       "output_type": "stream",
       "stream": "stdout",
       "text": [
        " ~ SEX on year 1977\n",
        "Run models on unused early data\n",
        "FEPOL"
       ]
      },
      {
       "output_type": "stream",
       "stream": "stdout",
       "text": [
        " ~ SEX on year 1978\n",
        "Run models on unused early data\n",
        "FEPOL"
       ]
      },
      {
       "output_type": "stream",
       "stream": "stdout",
       "text": [
        " ~ SEX on year 1982\n",
        "Run models on unused early data\n",
        "FEPOL"
       ]
      },
      {
       "output_type": "stream",
       "stream": "stdout",
       "text": [
        " ~ SEX on year 1983\n",
        "Run models on unused early data\n",
        "FEPOL"
       ]
      },
      {
       "output_type": "stream",
       "stream": "stdout",
       "text": [
        " ~ SEX on year 1985\n",
        "Run models on unused early data\n",
        "FEPOL"
       ]
      },
      {
       "output_type": "stream",
       "stream": "stdout",
       "text": [
        " ~ SEX on year 1986\n",
        "Run models on unused early data\n",
        "FEPOL"
       ]
      },
      {
       "output_type": "stream",
       "stream": "stdout",
       "text": [
        " ~ SEX on year 1988\n",
        "Run models on unused early data\n",
        "FEPOL"
       ]
      },
      {
       "output_type": "stream",
       "stream": "stdout",
       "text": [
        " ~ SEX on year 1989\n",
        "Run models on unused early data\n",
        "FEPOL"
       ]
      },
      {
       "output_type": "stream",
       "stream": "stdout",
       "text": [
        " ~ SEX on year 1990\n",
        "Run models on unused early data\n",
        "FEPOL"
       ]
      },
      {
       "output_type": "stream",
       "stream": "stdout",
       "text": [
        " ~ SEX on year 1991\n",
        "Run models on unused early data\n",
        "FEPOL"
       ]
      },
      {
       "output_type": "stream",
       "stream": "stdout",
       "text": [
        " ~ SEX on year 1993\n",
        "Run models on unused early data\n",
        "FEPOL"
       ]
      },
      {
       "output_type": "stream",
       "stream": "stdout",
       "text": [
        " ~ SEX on year 1994\n",
        "Run models on original data\n",
        "FEHOME"
       ]
      },
      {
       "output_type": "stream",
       "stream": "stdout",
       "text": [
        " ~ SEX on year 1974\n",
        "Run models on original data\n",
        "FEHOME"
       ]
      },
      {
       "output_type": "stream",
       "stream": "stdout",
       "text": [
        " ~ SEX on year 1996\n",
        "Run models on original data\n",
        "FEHOME"
       ]
      },
      {
       "output_type": "stream",
       "stream": "stdout",
       "text": [
        " ~ SEX on year 1998\n",
        "Run models on unused early data\n",
        "FEHOME"
       ]
      },
      {
       "output_type": "stream",
       "stream": "stdout",
       "text": [
        " ~ SEX on year 1975\n",
        "Run models on unused early data\n",
        "FEHOME"
       ]
      },
      {
       "output_type": "stream",
       "stream": "stdout",
       "text": [
        " ~ SEX on year 1977\n",
        "Run models on unused early data\n",
        "FEHOME"
       ]
      },
      {
       "output_type": "stream",
       "stream": "stdout",
       "text": [
        " ~ SEX on year 1978\n",
        "Run models on unused early data\n",
        "FEHOME"
       ]
      },
      {
       "output_type": "stream",
       "stream": "stdout",
       "text": [
        " ~ SEX on year 1982\n",
        "Run models on unused early data\n",
        "FEHOME"
       ]
      },
      {
       "output_type": "stream",
       "stream": "stdout",
       "text": [
        " ~ SEX on year 1983\n",
        "Run models on unused early data\n",
        "FEHOME"
       ]
      },
      {
       "output_type": "stream",
       "stream": "stdout",
       "text": [
        " ~ SEX on year 1985\n",
        "Run models on unused early data\n",
        "FEHOME"
       ]
      },
      {
       "output_type": "stream",
       "stream": "stdout",
       "text": [
        " ~ SEX on year 1986\n",
        "Run models on unused early data\n",
        "FEHOME"
       ]
      },
      {
       "output_type": "stream",
       "stream": "stdout",
       "text": [
        " ~ SEX on year 1988\n",
        "Run models on unused early data\n",
        "FEHOME"
       ]
      },
      {
       "output_type": "stream",
       "stream": "stdout",
       "text": [
        " ~ SEX on year 1989\n",
        "Run models on unused early data\n",
        "FEHOME"
       ]
      },
      {
       "output_type": "stream",
       "stream": "stdout",
       "text": [
        " ~ SEX on year 1990\n",
        "Run models on unused early data\n",
        "FEHOME"
       ]
      },
      {
       "output_type": "stream",
       "stream": "stdout",
       "text": [
        " ~ SEX on year 1991\n",
        "Run models on unused early data\n",
        "FEHOME"
       ]
      },
      {
       "output_type": "stream",
       "stream": "stdout",
       "text": [
        " ~ SEX on year 1993\n",
        "Run models on unused early data\n",
        "FEHOME"
       ]
      },
      {
       "output_type": "stream",
       "stream": "stdout",
       "text": [
        " ~ SEX on year 1994\n",
        "Processing article No. 829\n",
        "Run models on original data\n",
        "Dropping column MARITAL because it is constant\n",
        "Run models on unused early data\n",
        "Dropping column MARITAL because it is constant\n",
        "Run models on unused early data\n",
        "Dropping column MARITAL because it is constant\n",
        "Processing article No. 835\n",
        "Run models on original data\n",
        "HOMOSEX"
       ]
      },
      {
       "output_type": "stream",
       "stream": "stdout",
       "text": [
        " ~ SEX on year 1988\n",
        "Run models on original data\n",
        "HOMOSEX"
       ]
      },
      {
       "output_type": "stream",
       "stream": "stdout",
       "text": [
        " ~ SEX on year 1989\n",
        "Run models on original data\n",
        "HOMOSEX"
       ]
      },
      {
       "output_type": "stream",
       "stream": "stdout",
       "text": [
        " ~ SEX on year 1990\n",
        "Run models on original data\n",
        "HOMOSEX"
       ]
      },
      {
       "output_type": "stream",
       "stream": "stdout",
       "text": [
        " ~ SEX on year 1991\n",
        "Run models on unused early data\n",
        "HOMOSEX"
       ]
      },
      {
       "output_type": "stream",
       "stream": "stdout",
       "text": [
        " ~ SEX on year 1973\n",
        "Run models on unused early data\n",
        "HOMOSEX"
       ]
      },
      {
       "output_type": "stream",
       "stream": "stdout",
       "text": [
        " ~ SEX on year 1974\n",
        "Run models on unused early data\n",
        "HOMOSEX"
       ]
      },
      {
       "output_type": "stream",
       "stream": "stdout",
       "text": [
        " ~ SEX on year 1976\n",
        "Run models on unused early data\n",
        "HOMOSEX"
       ]
      },
      {
       "output_type": "stream",
       "stream": "stdout",
       "text": [
        " ~ SEX on year 1977\n",
        "Run models on unused early data\n",
        "HOMOSEX"
       ]
      },
      {
       "output_type": "stream",
       "stream": "stdout",
       "text": [
        " ~ SEX on year 1980\n",
        "Run models on unused early data\n",
        "HOMOSEX"
       ]
      },
      {
       "output_type": "stream",
       "stream": "stdout",
       "text": [
        " ~ SEX on year 1982\n",
        "Run models on unused early data\n",
        "HOMOSEX"
       ]
      },
      {
       "output_type": "stream",
       "stream": "stdout",
       "text": [
        " ~ SEX on year 1984\n",
        "Run models on unused early data\n",
        "HOMOSEX"
       ]
      },
      {
       "output_type": "stream",
       "stream": "stdout",
       "text": [
        " ~ SEX on year 1985\n",
        "Run models on unused early data\n",
        "HOMOSEX"
       ]
      },
      {
       "output_type": "stream",
       "stream": "stdout",
       "text": [
        " ~ SEX on year 1987\n",
        "Processing article No. 861\n",
        "Run models on original data\n",
        "JOBLOSE"
       ]
      },
      {
       "output_type": "stream",
       "stream": "stdout",
       "text": [
        " ~ AGE + SEX + DEGREE + RACE on year 1994\n",
        "Run models on unused early data\n",
        "JOBLOSE"
       ]
      },
      {
       "output_type": "stream",
       "stream": "stdout",
       "text": [
        " ~ AGE + SEX + DEGREE + RACE on year 1977\n",
        "Run models on unused early data\n",
        "JOBLOSE"
       ]
      },
      {
       "output_type": "stream",
       "stream": "stdout",
       "text": [
        " ~ AGE + SEX + DEGREE + RACE on year 1978\n",
        "Run models on unused early data\n",
        "JOBLOSE"
       ]
      },
      {
       "output_type": "stream",
       "stream": "stdout",
       "text": [
        " ~ AGE + SEX + DEGREE + RACE on year 1982\n",
        "Run models on unused early data\n",
        "JOBLOSE"
       ]
      },
      {
       "output_type": "stream",
       "stream": "stdout",
       "text": [
        " ~ AGE + SEX + DEGREE + RACE on year 1983\n",
        "Run models on unused early data\n",
        "JOBLOSE"
       ]
      },
      {
       "output_type": "stream",
       "stream": "stdout",
       "text": [
        " ~ AGE + SEX + DEGREE + RACE on year 1985\n",
        "Run models on unused early data\n",
        "JOBLOSE"
       ]
      },
      {
       "output_type": "stream",
       "stream": "stdout",
       "text": [
        " ~ AGE + SEX + DEGREE + RACE on year 1986\n",
        "Run models on unused early data\n",
        "JOBLOSE"
       ]
      },
      {
       "output_type": "stream",
       "stream": "stdout",
       "text": [
        " ~ AGE + SEX + DEGREE + RACE on year 1988\n",
        "Run models on unused early data\n",
        "JOBLOSE"
       ]
      },
      {
       "output_type": "stream",
       "stream": "stdout",
       "text": [
        " ~ AGE + SEX + DEGREE + RACE on year 1989\n",
        "Run models on unused early data\n",
        "JOBLOSE"
       ]
      },
      {
       "output_type": "stream",
       "stream": "stdout",
       "text": [
        " ~ AGE + SEX + DEGREE + RACE on year 1990\n",
        "Run models on unused early data\n",
        "JOBLOSE"
       ]
      },
      {
       "output_type": "stream",
       "stream": "stdout",
       "text": [
        " ~ AGE + SEX + DEGREE + RACE on year 1991\n",
        "Run models on unused early data\n",
        "JOBLOSE"
       ]
      },
      {
       "output_type": "stream",
       "stream": "stdout",
       "text": [
        " ~ AGE + SEX + DEGREE + RACE on year 1993\n",
        "Processing article No. 905\n",
        "Run models on original data\n",
        "SPKCOM"
       ]
      },
      {
       "output_type": "stream",
       "stream": "stdout",
       "text": [
        " ~ AGE + RACE + INCOME + EDUC + HEALTH on year 1977\n",
        "Run models on unused early data\n",
        "SPKCOM"
       ]
      },
      {
       "output_type": "stream",
       "stream": "stdout",
       "text": [
        " ~ AGE + RACE + INCOME + EDUC + HEALTH on year 1974\n",
        "Run models on unused early data\n",
        "SPKCOM"
       ]
      },
      {
       "output_type": "stream",
       "stream": "stdout",
       "text": [
        " ~ AGE + RACE + INCOME + EDUC + HEALTH on year 1976\n",
        "Run models on original data\n",
        "SPKATH"
       ]
      },
      {
       "output_type": "stream",
       "stream": "stdout",
       "text": [
        " ~ AGE + RACE + INCOME + EDUC + HEALTH on year 1977\n",
        "Run models on unused early data\n",
        "SPKATH"
       ]
      },
      {
       "output_type": "stream",
       "stream": "stdout",
       "text": [
        " ~ AGE + RACE + INCOME + EDUC + HEALTH on year 1974\n",
        "Run models on unused early data\n",
        "SPKATH"
       ]
      },
      {
       "output_type": "stream",
       "stream": "stdout",
       "text": [
        " ~ AGE + RACE + INCOME + EDUC + HEALTH on year 1976\n",
        "Run models on original data\n",
        "CAPPUN"
       ]
      },
      {
       "output_type": "stream",
       "stream": "stdout",
       "text": [
        " ~ AGE + RACE + INCOME + EDUC + HEALTH on year 1977\n",
        "Run models on unused early data\n",
        "CAPPUN"
       ]
      },
      {
       "output_type": "stream",
       "stream": "stdout",
       "text": [
        " ~ AGE + RACE + INCOME + EDUC + HEALTH on year 1974\n",
        "Run models on unused early data\n",
        "CAPPUN"
       ]
      },
      {
       "output_type": "stream",
       "stream": "stdout",
       "text": [
        " ~ AGE + RACE + INCOME + EDUC + HEALTH on year 1976\n",
        "Run models on original data\n",
        "COURTS"
       ]
      },
      {
       "output_type": "stream",
       "stream": "stdout",
       "text": [
        " ~ AGE + RACE + INCOME + EDUC + HEALTH on year 1977\n",
        "Run models on unused early data\n",
        "COURTS"
       ]
      },
      {
       "output_type": "stream",
       "stream": "stdout",
       "text": [
        " ~ AGE + RACE + INCOME + EDUC + HEALTH on year 1974\n",
        "Run models on unused early data\n",
        "COURTS"
       ]
      },
      {
       "output_type": "stream",
       "stream": "stdout",
       "text": [
        " ~ AGE + RACE + INCOME + EDUC + HEALTH on year 1976\n",
        "Run models on original data\n",
        "XMARSEX"
       ]
      },
      {
       "output_type": "stream",
       "stream": "stdout",
       "text": [
        " ~ AGE + RACE + INCOME + EDUC + HEALTH on year 1977\n",
        "Run models on unused early data\n",
        "XMARSEX"
       ]
      },
      {
       "output_type": "stream",
       "stream": "stdout",
       "text": [
        " ~ AGE + RACE + INCOME + EDUC + HEALTH on year 1974\n",
        "Run models on unused early data\n",
        "XMARSEX"
       ]
      },
      {
       "output_type": "stream",
       "stream": "stdout",
       "text": [
        " ~ AGE + RACE + INCOME + EDUC + HEALTH on year 1976\n",
        "Run models on original data\n",
        "HOMOSEX"
       ]
      },
      {
       "output_type": "stream",
       "stream": "stdout",
       "text": [
        " ~ AGE + RACE + INCOME + EDUC + HEALTH on year 1977\n",
        "Run models on unused early data\n",
        "HOMOSEX"
       ]
      },
      {
       "output_type": "stream",
       "stream": "stdout",
       "text": [
        " ~ AGE + RACE + INCOME + EDUC + HEALTH on year 1974\n",
        "Run models on unused early data\n",
        "HOMOSEX"
       ]
      },
      {
       "output_type": "stream",
       "stream": "stdout",
       "text": [
        " ~ AGE + RACE + INCOME + EDUC + HEALTH on year 1976\n",
        "Run models on original data\n",
        "ANOMIA5"
       ]
      },
      {
       "output_type": "stream",
       "stream": "stdout",
       "text": [
        " ~ AGE + RACE + INCOME + EDUC + HEALTH on year 1977\n",
        "Run models on unused early data\n",
        "ANOMIA5"
       ]
      },
      {
       "output_type": "stream",
       "stream": "stdout",
       "text": [
        " ~ AGE + RACE + INCOME + EDUC + HEALTH on year 1974\n",
        "Run models on unused early data\n",
        "ANOMIA5"
       ]
      },
      {
       "output_type": "stream",
       "stream": "stdout",
       "text": [
        " ~ AGE + RACE + INCOME + EDUC + HEALTH on year 1976\n",
        "Run models on original data\n",
        "ANOMIA6"
       ]
      },
      {
       "output_type": "stream",
       "stream": "stdout",
       "text": [
        " ~ AGE + RACE + INCOME + EDUC + HEALTH on year 1977\n",
        "Run models on unused early data\n",
        "ANOMIA6"
       ]
      },
      {
       "output_type": "stream",
       "stream": "stdout",
       "text": [
        " ~ AGE + RACE + INCOME + EDUC + HEALTH on year 1974\n",
        "Run models on unused early data\n",
        "ANOMIA6"
       ]
      },
      {
       "output_type": "stream",
       "stream": "stdout",
       "text": [
        " ~ AGE + RACE + INCOME + EDUC + HEALTH on year 1976\n",
        "Run models on original data\n",
        "ANOMIA7"
       ]
      },
      {
       "output_type": "stream",
       "stream": "stdout",
       "text": [
        " ~ AGE + RACE + INCOME + EDUC + HEALTH on year 1977\n",
        "Run models on unused early data\n",
        "ANOMIA7"
       ]
      },
      {
       "output_type": "stream",
       "stream": "stdout",
       "text": [
        " ~ AGE + RACE + INCOME + EDUC + HEALTH on year 1974\n",
        "Run models on unused early data\n",
        "ANOMIA7"
       ]
      },
      {
       "output_type": "stream",
       "stream": "stdout",
       "text": [
        " ~ AGE + RACE + INCOME + EDUC + HEALTH on year 1976\n",
        "Processing article No. 906\n",
        "Run models on original data\n",
        "Run models on unused early data\n",
        "Run models on unused early data\n",
        "Processing article No. 932\n",
        "Run models on original data\n",
        "Run models on unused early data\n",
        "Run models on original data\n",
        "Run models on unused early data\n",
        "Run models on original data"
       ]
      },
      {
       "output_type": "stream",
       "stream": "stdout",
       "text": [
        "\n",
        "Run models on unused early data\n",
        "Run models on original data\n",
        "Run models on unused early data\n",
        "Run models on original data\n",
        "Run models on unused early data\n",
        "Processing article No. 1000\n",
        "Run models on original data\n",
        "SEXSEX"
       ]
      },
      {
       "output_type": "stream",
       "stream": "stdout",
       "text": [
        " ~ SEX on year 1990\n",
        "Run models on unused early data\n",
        "SEXSEX"
       ]
      },
      {
       "output_type": "stream",
       "stream": "stdout",
       "text": [
        " ~ SEX on year 1989\n",
        "Run models on original data\n",
        "NUMMEN"
       ]
      },
      {
       "output_type": "stream",
       "stream": "stdout",
       "text": [
        " ~ SEX on year 1990\n",
        "Run models on unused early data\n",
        "NUMMEN"
       ]
      },
      {
       "output_type": "stream",
       "stream": "stdout",
       "text": [
        " ~ SEX on year 1989\n",
        "Processing article No. 1037\n",
        "Run models on original data\n",
        "Run models on original data\n",
        "Run models on original data\n",
        "Run models on original data\n",
        "Run models on original data\n",
        "Run models on original data\n",
        "Run models on unused early data"
       ]
      },
      {
       "output_type": "stream",
       "stream": "stdout",
       "text": [
        "\n",
        "Run models on unused early data\n",
        "Run models on unused early data\n",
        "Run models on unused early data\n",
        "Run models on unused early data\n",
        "Run models on unused early data\n",
        "Run models on unused early data\n",
        "Run models on unused early data\n",
        "Run models on unused early data\n",
        "Run models on original data"
       ]
      },
      {
       "output_type": "stream",
       "stream": "stdout",
       "text": [
        "\n",
        "Run models on original data\n",
        "Run models on original data\n",
        "Run models on original data\n",
        "Run models on original data\n",
        "Run models on original data\n",
        "Run models on unused early data\n",
        "Run models on unused early data\n",
        "Run models on unused early data"
       ]
      },
      {
       "output_type": "stream",
       "stream": "stdout",
       "text": [
        "\n",
        "Run models on unused early data\n",
        "Run models on unused early data\n",
        "Run models on unused early data\n",
        "Run models on unused early data\n",
        "Run models on unused early data\n",
        "Run models on unused early data\n",
        "Run models on original data\n",
        "Run models on original data"
       ]
      },
      {
       "output_type": "stream",
       "stream": "stdout",
       "text": [
        "\n",
        "Run models on original data\n",
        "Run models on original data\n",
        "Run models on original data\n",
        "Run models on original data\n",
        "Run models on unused early data\n",
        "Run models on unused early data\n",
        "Run models on unused early data\n",
        "Run models on unused early data"
       ]
      },
      {
       "output_type": "stream",
       "stream": "stdout",
       "text": [
        "\n",
        "Run models on unused early data\n",
        "Run models on unused early data\n",
        "Run models on unused early data\n",
        "Run models on unused early data\n",
        "Run models on unused early data\n",
        "Run models on original data\n",
        "Run models on original data\n",
        "Run models on original data"
       ]
      },
      {
       "output_type": "stream",
       "stream": "stdout",
       "text": [
        "\n",
        "Run models on original data\n",
        "Run models on original data\n",
        "Run models on original data\n",
        "Run models on unused early data\n",
        "Run models on unused early data\n",
        "Run models on unused early data\n",
        "Run models on unused early data\n",
        "Run models on unused early data"
       ]
      },
      {
       "output_type": "stream",
       "stream": "stdout",
       "text": [
        "\n",
        "Run models on unused early data\n",
        "Run models on unused early data\n",
        "Run models on unused early data\n",
        "Run models on unused early data\n",
        "Run models on original data\n",
        "Run models on original data\n",
        "Run models on original data\n",
        "Run models on original data"
       ]
      },
      {
       "output_type": "stream",
       "stream": "stdout",
       "text": [
        "\n",
        "Run models on original data\n",
        "Run models on original data\n",
        "Run models on unused early data\n",
        "Run models on unused early data\n",
        "Run models on unused early data\n",
        "Run models on unused early data\n",
        "Run models on unused early data\n",
        "Run models on unused early data"
       ]
      },
      {
       "output_type": "stream",
       "stream": "stdout",
       "text": [
        "\n",
        "Run models on unused early data\n",
        "Run models on unused early data\n",
        "Run models on unused early data\n",
        "Run models on original data\n",
        "Run models on original data\n",
        "Run models on original data\n",
        "Run models on original data\n",
        "Run models on original data"
       ]
      },
      {
       "output_type": "stream",
       "stream": "stdout",
       "text": [
        "\n",
        "Run models on original data\n",
        "Run models on unused early data\n",
        "Run models on unused early data\n",
        "Run models on unused early data\n",
        "Run models on unused early data\n",
        "Run models on unused early data\n",
        "Run models on unused early data\n",
        "Run models on unused early data"
       ]
      },
      {
       "output_type": "stream",
       "stream": "stdout",
       "text": [
        "\n",
        "Run models on unused early data\n",
        "Run models on unused early data\n",
        "Processing article No. 1079\n",
        "Run models on original data\n",
        "Run models on unused early data\n",
        "Run models on unused early data\n",
        "Run models on unused early data\n",
        "Processing article No. 1162\n",
        "Run models on original data\n",
        "FEPRES"
       ]
      },
      {
       "output_type": "stream",
       "stream": "stdout",
       "text": [
        " ~ SEX + RACE on year 1978\n",
        "Run models on unused early data\n",
        "FEPRES"
       ]
      },
      {
       "output_type": "stream",
       "stream": "stdout",
       "text": [
        " ~ SEX + RACE on year 1972\n",
        "Run models on unused early data\n",
        "FEPRES"
       ]
      },
      {
       "output_type": "stream",
       "stream": "stdout",
       "text": [
        " ~ SEX + RACE on year 1974\n",
        "Run models on unused early data\n",
        "FEPRES"
       ]
      },
      {
       "output_type": "stream",
       "stream": "stdout",
       "text": [
        " ~ SEX + RACE on year 1975\n",
        "Run models on unused early data\n",
        "FEPRES"
       ]
      },
      {
       "output_type": "stream",
       "stream": "stdout",
       "text": [
        " ~ SEX + RACE on year 1977\n",
        "Processing article No. 1173\n",
        "Run models on original data\n",
        "Run models on original data\n",
        "Run models on original data\n",
        "Run models on unused early data\n",
        "Processing article No. 1179\n",
        "Run models on original data\n",
        "Dropping column RELIG because it is constant\n",
        "Run models on unused early data\n",
        "Dropping column"
       ]
      },
      {
       "output_type": "stream",
       "stream": "stdout",
       "text": [
        " RELIG because it is constant\n",
        "Run models on unused early data\n",
        "Dropping column RELIG because it is constant\n",
        "Run models on unused early data\n",
        "Dropping column RELIG because it is constant\n",
        "Run models on unused early data\n",
        "Dropping column RELIG because it is constant\n",
        "Run models on unused early data\n",
        "Dropping column RELIG because it is constant\n",
        "Run models on unused early data\n",
        "Dropping column RELIG because it is constant\n",
        "Processing article No. 1211\n",
        "Run models on original data\n",
        "Run models on original data\n",
        "Run models on unused early data"
       ]
      },
      {
       "output_type": "stream",
       "stream": "stdout",
       "text": [
        "\n",
        "Run models on unused early data\n",
        "Run models on unused early data\n",
        "Run models on unused early data\n",
        "Run models on unused early data\n",
        "Run models on unused early data\n",
        "Run models on unused early data\n",
        "Run models on unused early data\n",
        "Run models on unused early data\n",
        "Run models on unused early data\n",
        "Run models on unused early data"
       ]
      },
      {
       "output_type": "stream",
       "stream": "stdout",
       "text": [
        "\n",
        "Run models on unused early data\n",
        "Run models on unused early data\n",
        "Run models on unused early data\n",
        "Processing article No. 1212\n",
        "Run models on original data\n",
        "Dropping column RELIG because it is constant\n",
        "Run models on original data\n",
        "Dropping column RELIG because it is constant\n",
        "Run models on original data\n",
        "Dropping column RELIG because it is constant\n",
        "Dropping column DENOM because it is constant\n",
        "Run models on original data\n",
        "Dropping column"
       ]
      },
      {
       "output_type": "stream",
       "stream": "stdout",
       "text": [
        " RELIG because it is constant\n",
        "Dropping column DENOM because it is constant\n",
        "Run models on original data\n",
        "Dropping column RELIG because it is constant\n",
        "Dropping column DENOM because it is constant\n",
        "Run models on original data\n",
        "Dropping column RELIG because it is constant\n",
        "Dropping column DENOM because it is constant\n",
        "Run models on original data\n",
        "Dropping column RELIG because it is constant\n",
        "Dropping column DENOM because it is constant\n",
        "Run models on original data\n",
        "Dropping column RELIG because it is constant\n",
        "Dropping column DENOM because it is constant\n",
        "Run models on unused early data\n",
        "Dropping column RELIG because it is constant\n",
        "Dropping column DENOM because it is constant\n",
        "Run models on unused early data\n",
        "Dropping column RELIG because it is constant\n",
        "Dropping column DENOM because it is constant\n",
        "Run models on unused early data\n",
        "Dropping column"
       ]
      },
      {
       "output_type": "stream",
       "stream": "stdout",
       "text": [
        " RELIG because it is constant\n",
        "Dropping column DENOM because it is constant\n",
        "Run models on unused early data\n",
        "Dropping column RELIG because it is constant\n",
        "Dropping column DENOM because it is constant\n",
        "Run models on unused early data\n",
        "Dropping column RELIG because it is constant\n",
        "Dropping column DENOM because it is constant\n",
        "Processing article No. 1324\n",
        "Run models on original data\n",
        "HAPPY"
       ]
      },
      {
       "output_type": "stream",
       "stream": "stdout",
       "text": [
        " ~ EDUC + SEX + SATHOBBY + SATFAM + SATCITY on year 1976\n",
        "Run models on original data\n",
        "HAPPY"
       ]
      },
      {
       "output_type": "stream",
       "stream": "stdout",
       "text": [
        " ~ EDUC + SEX + SATHOBBY + SATFAM + SATCITY on year 1977\n",
        "Run models on unused early data\n",
        "HAPPY"
       ]
      },
      {
       "output_type": "stream",
       "stream": "stdout",
       "text": [
        " ~ EDUC + SEX + SATHOBBY + SATFAM + SATCITY on year 1973\n",
        "Run models on unused early data\n",
        "HAPPY"
       ]
      },
      {
       "output_type": "stream",
       "stream": "stdout",
       "text": [
        " ~ EDUC + SEX + SATHOBBY + SATFAM + SATCITY on year 1974\n",
        "Run models on unused early data\n",
        "HAPPY"
       ]
      },
      {
       "output_type": "stream",
       "stream": "stdout",
       "text": [
        " ~ EDUC + SEX + SATHOBBY + SATFAM + SATCITY on year 1975\n",
        "Processing article No. 1355\n",
        "Run models on original data\n",
        "COURTS"
       ]
      },
      {
       "output_type": "stream",
       "stream": "stdout",
       "text": [
        " ~ RACE + AGE + EDUC + SEX + FEAR + RACMAR + RACSEG + RACOPEN on year 1987\n",
        "Run models on unused early data\n",
        "COURTS"
       ]
      },
      {
       "output_type": "stream",
       "stream": "stdout",
       "text": [
        " ~ RACE + AGE + EDUC + SEX + FEAR + RACMAR + RACSEG + RACOPEN on year 1976\n",
        "Run models on unused early data\n",
        "COURTS"
       ]
      },
      {
       "output_type": "stream",
       "stream": "stdout",
       "text": [
        " ~ RACE + AGE + EDUC + SEX + FEAR + RACMAR + RACSEG + RACOPEN on year 1980\n",
        "Run models on unused early data\n",
        "COURTS"
       ]
      },
      {
       "output_type": "stream",
       "stream": "stdout",
       "text": [
        " ~ RACE + AGE + EDUC + SEX + FEAR + RACMAR + RACSEG + RACOPEN on year 1984\n",
        "Processing article No. 1361\n",
        "Run models on original data\n",
        "Run models on unused early data\n",
        "Run models on unused early data\n",
        "Run models on unused early data\n",
        "Run models on unused early data\n",
        "Run models on unused early data\n",
        "Run models on unused early data"
       ]
      },
      {
       "output_type": "stream",
       "stream": "stdout",
       "text": [
        "\n",
        "Run models on unused early data\n",
        "Run models on unused early data\n",
        "Run models on unused early data\n",
        "Run models on unused early data\n",
        "Run models on unused early data\n",
        "Run models on original data\n",
        "Dropping column EVWORK because it is constant\n",
        "Run models on unused early data\n",
        "Dropping column"
       ]
      },
      {
       "output_type": "stream",
       "stream": "stdout",
       "text": [
        " EVWORK because it is constant\n",
        "Run models on unused early data\n",
        "Dropping column EVWORK because it is constant\n",
        "Run models on unused early data\n",
        "Dropping column EVWORK because it is constant\n",
        "Run models on unused early data\n",
        "Dropping column EVWORK because it is constant\n",
        "Run models on unused early data\n",
        "Dropping column EVWORK because it is constant\n",
        "Run models on unused early data\n",
        "Dropping column EVWORK because it is constant\n",
        "Run models on unused early data\n",
        "Dropping column EVWORK because it is constant\n",
        "Run models on unused early data\n",
        "Dropping column EVWORK because it is constant\n",
        "Run models on unused early data\n",
        "Dropping column"
       ]
      },
      {
       "output_type": "stream",
       "stream": "stdout",
       "text": [
        " EVWORK because it is constant\n",
        "Run models on unused early data\n",
        "Dropping column EVWORK because it is constant\n",
        "Run models on unused early data\n",
        "Dropping column EVWORK because it is constant\n",
        "Processing article No. 1362\n",
        "Run models on original data\n",
        "Run models on unused early data\n",
        "Run models on unused early data\n",
        "Run models on unused early data\n",
        "Run models on unused early data\n",
        "Run models on unused early data\n",
        "Run models on unused early data"
       ]
      },
      {
       "output_type": "stream",
       "stream": "stdout",
       "text": [
        "\n",
        "Run models on unused early data\n",
        "Run models on unused early data\n",
        "Run models on unused early data\n",
        "Run models on unused early data\n",
        "Run models on unused early data\n",
        "Run models on original data\n",
        "Run models on unused early data\n",
        "Run models on unused early data\n",
        "Run models on unused early data"
       ]
      },
      {
       "output_type": "stream",
       "stream": "stdout",
       "text": [
        "\n",
        "Run models on unused early data\n",
        "Run models on unused early data\n",
        "Run models on unused early data\n",
        "Run models on unused early data\n",
        "Run models on unused early data\n",
        "Run models on unused early data\n",
        "Run models on unused early data\n",
        "Run models on unused early data"
       ]
      },
      {
       "output_type": "stream",
       "stream": "stdout",
       "text": [
        "\n",
        "Run models on original data\n",
        "Run models on unused early data\n",
        "Run models on unused early data\n",
        "Run models on unused early data\n",
        "Run models on unused early data\n",
        "Run models on unused early data\n",
        "Run models on unused early data\n",
        "Run models on unused early data\n",
        "Run models on unused early data"
       ]
      },
      {
       "output_type": "stream",
       "stream": "stdout",
       "text": [
        "\n",
        "Run models on unused early data\n",
        "Run models on unused early data\n",
        "Run models on unused early data\n",
        "Processing article No. 1474\n",
        "Run models on original data\n",
        "Not enough observations. Skipping...\n",
        "Run models on original data\n",
        "Not enough observations. Skipping..."
       ]
      },
      {
       "output_type": "stream",
       "stream": "stdout",
       "text": [
        "\n",
        "Run models on original data\n",
        "Not enough observations. Skipping...\n",
        "Run models on unused early data\n",
        "Not enough observations. Skipping...\n",
        "Processing article No. 1484\n",
        "Run models on original data\n",
        "Run models on unused early data\n",
        "Run models on unused early data"
       ]
      },
      {
       "output_type": "stream",
       "stream": "stdout",
       "text": [
        "\n",
        "Run models on unused early data\n",
        "Run models on original data\n",
        "Dropping column MARITAL because it is constant\n",
        "Run models on unused early data\n",
        "Dropping column MARITAL because it is constant\n",
        "Run models on unused early data\n",
        "Dropping column"
       ]
      },
      {
       "output_type": "stream",
       "stream": "stdout",
       "text": [
        " MARITAL because it is constant\n",
        "Run models on unused early data\n",
        "Dropping column MARITAL because it is constant\n",
        "Run models on original data\n",
        "Run models on unused early data\n",
        "Run models on unused early data\n",
        "Run models on unused early data\n",
        "Run models on original data\n",
        "Run models on unused early data\n",
        "Run models on unused early data\n",
        "Run models on unused early data\n",
        "Run models on original data"
       ]
      },
      {
       "output_type": "stream",
       "stream": "stdout",
       "text": [
        "\n",
        "Run models on unused early data\n",
        "Run models on unused early data\n",
        "Run models on unused early data\n",
        "Run models on original data\n",
        "Run models on unused early data\n",
        "Run models on unused early data\n",
        "Run models on unused early data\n",
        "Run models on original data\n",
        "Run models on unused early data\n",
        "Run models on unused early data"
       ]
      },
      {
       "output_type": "stream",
       "stream": "stdout",
       "text": [
        "\n",
        "Run models on unused early data\n",
        "Run models on original data\n",
        "Run models on unused early data\n",
        "Run models on unused early data\n",
        "Run models on unused early data\n",
        "Run models on original data\n",
        "Run models on unused early data\n",
        "Run models on unused early data\n",
        "Run models on unused early data\n",
        "Run models on original data"
       ]
      },
      {
       "output_type": "stream",
       "stream": "stdout",
       "text": [
        "\n",
        "Run models on unused early data\n",
        "Run models on unused early data\n",
        "Run models on unused early data\n",
        "Processing article No. 1684\n",
        "Run models on original data\n",
        "Dropping column MARITAL because it is constant\n",
        "Run models on unused early data\n",
        "Dropping column MARITAL because it is constant\n",
        "Processing article No. 1692\n",
        "Run models on original data\n",
        "Dropping column HIT because it is constant\n",
        "SMOKE"
       ]
      },
      {
       "output_type": "stream",
       "stream": "stdout",
       "text": [
        " ~ SEX + RELITEN + SATFIN + HIT + HITAGE on year 1988\n",
        "Run models on unused early data\n",
        "Dropping column HIT because it is constant\n",
        "SMOKE"
       ]
      },
      {
       "output_type": "stream",
       "stream": "stdout",
       "text": [
        " ~ SEX + RELITEN + SATFIN + HIT + HITAGE on year 1978\n",
        "Run models on unused early data\n",
        "Dropping column HIT because it is constant\n",
        "SMOKE"
       ]
      },
      {
       "output_type": "stream",
       "stream": "stdout",
       "text": [
        " ~ SEX + RELITEN + SATFIN + HIT + HITAGE on year 1980\n",
        "Run models on unused early data\n",
        "Dropping column HIT because it is constant\n",
        "SMOKE"
       ]
      },
      {
       "output_type": "stream",
       "stream": "stdout",
       "text": [
        " ~ SEX + RELITEN + SATFIN + HIT + HITAGE on year 1983\n",
        "Run models on unused early data\n",
        "Dropping column HIT because it is constant\n",
        "SMOKE"
       ]
      },
      {
       "output_type": "stream",
       "stream": "stdout",
       "text": [
        " ~ SEX + RELITEN + SATFIN + HIT + HITAGE on year 1984\n",
        "Run models on unused early data\n",
        "Dropping column HIT because it is constant\n",
        "SMOKE"
       ]
      },
      {
       "output_type": "stream",
       "stream": "stdout",
       "text": [
        " ~ SEX + RELITEN + SATFIN + HIT + HITAGE on year 1986\n",
        "Run models on unused early data\n",
        "Dropping column HIT because it is constant\n",
        "SMOKE"
       ]
      },
      {
       "output_type": "stream",
       "stream": "stdout",
       "text": [
        " ~ SEX + RELITEN + SATFIN + HIT + HITAGE on year 1987\n",
        "Processing article No. 1703\n",
        "Run models on original data\n",
        "Dropping column RELIG because it is constant\n",
        "Run models on original data\n",
        "Dropping column RELIG because it is constant\n",
        "Run models on original data\n",
        "Dropping column RELIG because it is constant\n",
        "Run models on original data\n",
        "Dropping column RELIG because it is constant\n",
        "Run models on original data\n",
        "Dropping column"
       ]
      },
      {
       "output_type": "stream",
       "stream": "stdout",
       "text": [
        " RELIG because it is constant\n",
        "Run models on original data\n",
        "Dropping column RELIG because it is constant\n",
        "Run models on original data\n",
        "Dropping column RELIG because it is constant\n",
        "Run models on original data\n",
        "Dropping column RELIG because it is constant\n",
        "Run models on original data\n",
        "Dropping column RELIG because it is constant\n",
        "Run models on unused early data\n",
        "Dropping column RELIG because it is constant\n",
        "Run models on original data\n",
        "Dropping column"
       ]
      },
      {
       "output_type": "stream",
       "stream": "stdout",
       "text": [
        " RELIG because it is constant\n",
        "Run models on original data\n",
        "Dropping column RELIG because it is constant\n",
        "Run models on original data\n",
        "Dropping column RELIG because it is constant\n",
        "Run models on original data\n",
        "Dropping column RELIG because it is constant\n",
        "Run models on original data\n",
        "Dropping column RELIG because it is constant\n",
        "Run models on original data\n",
        "Dropping column RELIG because it is constant\n",
        "Run models on original data\n",
        "Dropping column"
       ]
      },
      {
       "output_type": "stream",
       "stream": "stdout",
       "text": [
        " RELIG because it is constant\n",
        "Run models on original data\n",
        "Dropping column RELIG because it is constant\n",
        "Run models on original data\n",
        "Dropping column RELIG because it is constant\n",
        "Run models on unused early data\n",
        "Dropping column RELIG because it is constant\n",
        "Run models on original data\n",
        "Dropping column RELIG because it is constant\n",
        "Run models on original data\n",
        "Dropping column RELIG because it is constant\n",
        "Run models on original data\n",
        "Dropping column"
       ]
      },
      {
       "output_type": "stream",
       "stream": "stdout",
       "text": [
        " RELIG because it is constant\n",
        "Run models on original data\n",
        "Dropping column RELIG because it is constant\n",
        "Run models on original data\n",
        "Dropping column RELIG because it is constant\n",
        "Run models on original data\n",
        "Dropping column RELIG because it is constant\n",
        "Run models on original data\n",
        "Dropping column RELIG because it is constant\n",
        "Run models on original data\n",
        "Dropping column RELIG because it is constant\n",
        "Run models on original data\n",
        "Dropping column"
       ]
      },
      {
       "output_type": "stream",
       "stream": "stdout",
       "text": [
        " RELIG because it is constant\n",
        "Run models on unused early data\n",
        "Dropping column RELIG because it is constant\n",
        "Run models on original data\n",
        "Dropping column RELIG because it is constant\n",
        "Run models on original data\n",
        "Dropping column RELIG because it is constant\n",
        "Run models on original data\n",
        "Dropping column RELIG because it is constant\n",
        "Run models on original data\n",
        "Dropping column RELIG because it is constant\n",
        "Run models on original data\n",
        "Dropping column"
       ]
      },
      {
       "output_type": "stream",
       "stream": "stdout",
       "text": [
        " RELIG because it is constant\n",
        "Run models on original data\n",
        "Dropping column RELIG because it is constant\n",
        "Run models on original data\n",
        "Dropping column RELIG because it is constant\n",
        "Run models on original data\n",
        "Dropping column RELIG because it is constant\n",
        "Run models on original data\n",
        "Dropping column RELIG because it is constant\n",
        "Run models on unused early data\n",
        "Dropping column RELIG because it is constant\n",
        "Run models on original data\n",
        "Dropping column"
       ]
      },
      {
       "output_type": "stream",
       "stream": "stdout",
       "text": [
        " RELIG because it is constant\n",
        "Run models on original data\n",
        "Dropping column RELIG because it is constant\n",
        "Run models on original data\n",
        "Dropping column RELIG because it is constant\n",
        "Run models on original data\n",
        "Dropping column RELIG because it is constant\n",
        "Run models on original data\n",
        "Dropping column RELIG because it is constant\n",
        "Run models on original data\n",
        "Dropping column RELIG because it is constant\n",
        "Run models on original data\n",
        "Dropping column"
       ]
      },
      {
       "output_type": "stream",
       "stream": "stdout",
       "text": [
        " RELIG because it is constant\n",
        "Run models on original data\n",
        "Dropping column RELIG because it is constant\n",
        "Run models on original data\n",
        "Dropping column RELIG because it is constant\n",
        "Run models on unused early data\n",
        "Dropping column RELIG because it is constant\n",
        "Run models on original data\n",
        "Dropping column RELIG because it is constant\n",
        "Run models on original data\n",
        "Dropping column RELIG because it is constant\n",
        "Run models on original data\n",
        "Dropping column"
       ]
      },
      {
       "output_type": "stream",
       "stream": "stdout",
       "text": [
        " RELIG because it is constant\n",
        "Run models on original data\n",
        "Dropping column RELIG because it is constant\n",
        "Run models on original data\n",
        "Dropping column RELIG because it is constant\n",
        "Run models on original data\n",
        "Dropping column RELIG because it is constant\n",
        "Run models on original data\n",
        "Dropping column RELIG because it is constant\n",
        "Run models on original data\n",
        "Dropping column RELIG because it is constant\n",
        "Run models on original data"
       ]
      },
      {
       "output_type": "stream",
       "stream": "stdout",
       "text": [
        "\n",
        "Dropping column RELIG because it is constant\n",
        "Run models on unused early data\n",
        "Dropping column RELIG because it is constant\n",
        "Run models on original data\n",
        "Dropping column RELIG because it is constant\n",
        "Run models on original data\n",
        "Dropping column RELIG because it is constant\n",
        "Run models on original data\n",
        "Dropping column RELIG because it is constant\n",
        "Run models on original data\n",
        "Dropping column RELIG because it is constant\n",
        "Run models on original data"
       ]
      },
      {
       "output_type": "stream",
       "stream": "stdout",
       "text": [
        "\n",
        "Dropping column RELIG because it is constant\n",
        "Run models on original data\n",
        "Dropping column RELIG because it is constant\n",
        "Run models on original data\n",
        "Dropping column RELIG because it is constant\n",
        "Run models on original data\n",
        "Dropping column RELIG because it is constant\n",
        "Run models on original data\n",
        "Dropping column RELIG because it is constant\n",
        "Run models on unused early data\n",
        "Dropping column RELIG because it is constant\n",
        "Run models on original data"
       ]
      },
      {
       "output_type": "stream",
       "stream": "stdout",
       "text": [
        "\n",
        "Dropping column RELIG because it is constant\n",
        "Run models on original data\n",
        "Dropping column RELIG because it is constant\n",
        "Run models on original data\n",
        "Dropping column RELIG because it is constant\n",
        "Run models on original data\n",
        "Dropping column RELIG because it is constant\n",
        "Run models on original data\n",
        "Dropping column RELIG because it is constant\n",
        "Run models on original data\n",
        "Dropping column RELIG because it is constant\n",
        "Run models on original data"
       ]
      },
      {
       "output_type": "stream",
       "stream": "stdout",
       "text": [
        "\n",
        "Dropping column RELIG because it is constant\n",
        "Run models on original data\n",
        "Dropping column RELIG because it is constant\n",
        "Run models on original data\n",
        "Dropping column RELIG because it is constant\n",
        "Run models on unused early data\n",
        "Dropping column RELIG because it is constant\n",
        "Run models on original data\n",
        "Dropping column RELIG because it is constant\n",
        "Run models on original data\n",
        "Dropping column RELIG because it is constant\n",
        "Run models on original data"
       ]
      },
      {
       "output_type": "stream",
       "stream": "stdout",
       "text": [
        "\n",
        "Dropping column RELIG because it is constant\n",
        "Run models on original data\n",
        "Dropping column RELIG because it is constant\n",
        "Run models on original data\n",
        "Dropping column RELIG because it is constant\n",
        "Run models on original data\n",
        "Dropping column RELIG because it is constant\n",
        "Run models on original data\n",
        "Dropping column RELIG because it is constant\n",
        "Run models on original data\n",
        "Dropping column RELIG because it is constant\n",
        "Run models on original data"
       ]
      },
      {
       "output_type": "stream",
       "stream": "stdout",
       "text": [
        "\n",
        "Dropping column RELIG because it is constant\n",
        "Run models on unused early data\n",
        "Dropping column RELIG because it is constant\n",
        "Run models on original data\n",
        "Dropping column RELIG because it is constant\n",
        "Run models on original data\n",
        "Dropping column RELIG because it is constant\n",
        "Run models on original data\n",
        "Dropping column RELIG because it is constant\n",
        "Run models on original data\n",
        "Dropping column RELIG because it is constant\n",
        "Run models on original data"
       ]
      },
      {
       "output_type": "stream",
       "stream": "stdout",
       "text": [
        "\n",
        "Dropping column RELIG because it is constant\n",
        "Run models on original data\n",
        "Dropping column RELIG because it is constant\n",
        "Run models on original data\n",
        "Dropping column RELIG because it is constant\n",
        "Run models on original data\n",
        "Dropping column RELIG because it is constant\n",
        "Run models on original data\n",
        "Dropping column RELIG because it is constant\n",
        "Run models on unused early data\n",
        "Dropping column RELIG because it is constant\n",
        "Processing article No."
       ]
      },
      {
       "output_type": "stream",
       "stream": "stdout",
       "text": [
        " 1717\n",
        "Run models on original data\n",
        "Run models on unused early data\n",
        "Processing article No. 1796\n",
        "Run models on original data\n",
        "Run models on original data\n",
        "Run models on original data\n",
        "Run models on unused early data\n",
        "Processing article No. 1797\n",
        "Run models on original data\n",
        "Run models on original data"
       ]
      },
      {
       "output_type": "stream",
       "stream": "stdout",
       "text": [
        "\n",
        "Run models on original data\n",
        "Run models on unused early data\n",
        "Run models on original data\n",
        "Run models on original data\n",
        "Run models on original data\n",
        "Run models on unused early data\n",
        "Run models on original data\n",
        "Run models on original data"
       ]
      },
      {
       "output_type": "stream",
       "stream": "stdout",
       "text": [
        "\n",
        "Run models on original data\n",
        "Run models on unused early data\n",
        "Run models on original data\n",
        "Run models on original data\n",
        "Run models on original data\n",
        "Run models on unused early data\n",
        "Run models on original data"
       ]
      },
      {
       "output_type": "stream",
       "stream": "stdout",
       "text": [
        "\n",
        "Run models on original data\n",
        "Run models on original data\n",
        "Run models on unused early data\n",
        "Run models on original data\n",
        "Run models on original data\n",
        "Run models on original data\n",
        "Run models on unused early data\n",
        "Run models on original data"
       ]
      },
      {
       "output_type": "stream",
       "stream": "stdout",
       "text": [
        "\n",
        "Run models on original data\n",
        "Run models on original data\n",
        "Run models on unused early data\n",
        "Run models on original data\n",
        "Run models on original data\n",
        "Run models on original data\n",
        "Run models on unused early data\n",
        "Run models on original data"
       ]
      },
      {
       "output_type": "stream",
       "stream": "stdout",
       "text": [
        "\n",
        "Run models on original data\n",
        "Run models on original data\n",
        "Run models on unused early data\n",
        "Run models on original data\n",
        "Run models on original data\n",
        "Run models on original data\n",
        "Run models on unused early data\n",
        "Processing article No."
       ]
      },
      {
       "output_type": "stream",
       "stream": "stdout",
       "text": [
        " 1814\n",
        "Run models on original data\n",
        "Run models on unused early data\n",
        "Run models on original data\n",
        "Run models on unused early data\n",
        "Run models on original data\n",
        "Run models on unused early data\n",
        "Run models on original data\n",
        "Run models on unused early data"
       ]
      },
      {
       "output_type": "stream",
       "stream": "stdout",
       "text": [
        "\n",
        "Run models on original data\n",
        "Run models on unused early data\n",
        "Run models on original data\n",
        "Run models on unused early data\n",
        "Run models on original data\n",
        "Run models on unused early data\n",
        "Run models on original data"
       ]
      },
      {
       "output_type": "stream",
       "stream": "stdout",
       "text": [
        "\n",
        "Run models on unused early data\n",
        "Run models on original data\n",
        "Run models on unused early data\n",
        "Processing article No. 1899\n",
        "Run models on original data\n",
        "Dropping column WKSUB because it is constant\n",
        "Dropping column WKSUP because it is constant\n",
        "Run models on unused early data\n",
        "Dropping column WKSUB because it is constant\n",
        "Dropping column"
       ]
      },
      {
       "output_type": "stream",
       "stream": "stdout",
       "text": [
        " WKSUP because it is constant\n",
        "Processing article No. 1928\n",
        "Run models on original data\n",
        "Run models on unused early data\n",
        "Run models on unused early data\n",
        "Run models on unused early data\n",
        "Run models on original data\n",
        "Run models on unused early data\n",
        "Run models on unused early data\n",
        "Run models on unused early data\n",
        "Run models on original data"
       ]
      },
      {
       "output_type": "stream",
       "stream": "stdout",
       "text": [
        "\n",
        "Run models on unused early data\n",
        "Run models on unused early data\n",
        "Run models on unused early data\n",
        "Run models on original data\n",
        "Run models on unused early data\n",
        "Run models on unused early data\n",
        "Run models on unused early data\n",
        "Run models on original data"
       ]
      },
      {
       "output_type": "stream",
       "stream": "stdout",
       "text": [
        "\n",
        "Run models on unused early data\n",
        "Run models on unused early data\n",
        "Run models on unused early data\n",
        "Run models on original data\n",
        "Run models on unused early data\n",
        "Run models on unused early data\n",
        "Run models on unused early data\n",
        "Run models on original data"
       ]
      },
      {
       "output_type": "stream",
       "stream": "stdout",
       "text": [
        "\n",
        "Run models on unused early data\n",
        "Run models on unused early data\n",
        "Run models on unused early data\n",
        "Run models on original data\n",
        "Run models on unused early data\n",
        "Run models on unused early data\n",
        "Run models on unused early data\n",
        "Run models on original data"
       ]
      },
      {
       "output_type": "stream",
       "stream": "stdout",
       "text": [
        "\n",
        "Run models on unused early data\n",
        "Run models on unused early data\n",
        "Run models on unused early data\n",
        "Run models on original data\n",
        "Run models on unused early data\n",
        "Run models on unused early data\n",
        "Run models on unused early data\n",
        "Run models on original data"
       ]
      },
      {
       "output_type": "stream",
       "stream": "stdout",
       "text": [
        "\n",
        "Run models on unused early data\n",
        "Run models on unused early data\n",
        "Run models on unused early data\n",
        "Run models on original data\n",
        "Run models on unused early data\n",
        "Run models on unused early data\n",
        "Run models on unused early data\n",
        "Run models on original data"
       ]
      },
      {
       "output_type": "stream",
       "stream": "stdout",
       "text": [
        "\n",
        "Run models on unused early data\n",
        "Run models on unused early data\n",
        "Run models on unused early data\n",
        "Run models on original data\n",
        "Run models on unused early data\n",
        "Run models on unused early data\n",
        "Run models on unused early data\n",
        "Run models on original data"
       ]
      },
      {
       "output_type": "stream",
       "stream": "stdout",
       "text": [
        "\n",
        "Run models on unused early data\n",
        "Run models on unused early data\n",
        "Run models on unused early data\n",
        "Run models on original data\n",
        "Run models on unused early data\n",
        "Run models on unused early data\n",
        "Run models on unused early data\n",
        "Run models on original data"
       ]
      },
      {
       "output_type": "stream",
       "stream": "stdout",
       "text": [
        "\n",
        "Run models on unused early data\n",
        "Run models on unused early data\n",
        "Run models on unused early data\n",
        "Run models on original data\n",
        "Run models on unused early data\n",
        "Run models on unused early data\n",
        "Run models on unused early data\n",
        "Run models on original data"
       ]
      },
      {
       "output_type": "stream",
       "stream": "stdout",
       "text": [
        "\n",
        "Run models on unused early data\n",
        "Run models on unused early data\n",
        "Run models on unused early data\n",
        "Run models on original data\n",
        "Run models on unused early data\n",
        "Run models on unused early data"
       ]
      },
      {
       "output_type": "stream",
       "stream": "stdout",
       "text": [
        "\n",
        "Run models on unused early data\n",
        "Processing article No. 1938\n",
        "Run models on original data\n",
        "Run models on unused early data\n",
        "Run models on original data\n",
        "Run models on unused early data\n",
        "Run models on original data\n",
        "Run models on unused early data\n",
        "Run models on original data"
       ]
      },
      {
       "output_type": "stream",
       "stream": "stdout",
       "text": [
        "\n",
        "Run models on unused early data\n",
        "Processing article No. 1946\n",
        "Run models on original data\n",
        "Dropping column RELIG because it is constant\n",
        "Dropping column DENOM because it is constant\n",
        "Run models on unused early data\n",
        "Dropping column RELIG because it is constant\n",
        "Dropping column DENOM because it is constant\n",
        "Run models on original data\n",
        "Dropping column RELIG because it is constant\n",
        "Dropping column DENOM because it is constant\n",
        "Run models on unused early data\n",
        "Dropping column RELIG because it is constant\n",
        "Dropping column"
       ]
      },
      {
       "output_type": "stream",
       "stream": "stdout",
       "text": [
        " DENOM because it is constant\n",
        "Run models on original data\n",
        "Dropping column RELIG because it is constant\n",
        "Dropping column DENOM because it is constant\n",
        "Run models on unused early data\n",
        "Dropping column RELIG because it is constant\n",
        "Dropping column DENOM because it is constant\n",
        "Run models on original data\n",
        "Dropping column RELIG because it is constant\n",
        "Dropping column DENOM because it is constant\n",
        "Run models on unused early data\n",
        "Dropping column RELIG because it is constant\n",
        "Dropping column DENOM because it is constant\n",
        "Run models on original data\n",
        "Dropping column"
       ]
      },
      {
       "output_type": "stream",
       "stream": "stdout",
       "text": [
        " RELIG because it is constant\n",
        "Dropping column DENOM because it is constant\n",
        "Run models on unused early data\n",
        "Dropping column RELIG because it is constant\n",
        "Dropping column DENOM because it is constant\n",
        "Run models on original data\n",
        "Dropping column RELIG because it is constant\n",
        "Dropping column DENOM because it is constant\n",
        "Run models on unused early data\n",
        "Dropping column RELIG because it is constant\n",
        "Dropping column DENOM because it is constant\n",
        "Processing article No. 1954\n",
        "Run models on original data\n",
        "Run models on unused early data\n",
        "Run models on unused early data\n",
        "Run models on unused early data"
       ]
      },
      {
       "output_type": "stream",
       "stream": "stdout",
       "text": [
        "\n",
        "Run models on unused early data\n",
        "Run models on unused early data\n",
        "Run models on unused early data\n",
        "Run models on unused early data\n",
        "Run models on unused early data\n",
        "Run models on unused early data\n",
        "Run models on unused early data\n",
        "Run models on unused early data\n"
       ]
      },
      {
       "output_type": "stream",
       "stream": "stdout",
       "text": [
        "Run models on unused early data\n",
        "Processing article No. 1957\n",
        "Run models on original data\n",
        "Run models on original data\n",
        "Run models on original data\n",
        "Run models on original data\n",
        "Run models on unused early data\n",
        "Processing article No. 1964\n",
        "Run models on original data\n",
        "Run models on original data"
       ]
      },
      {
       "output_type": "stream",
       "stream": "stdout",
       "text": [
        "\n",
        "Run models on original data\n",
        "Run models on original data\n",
        "Run models on original data\n",
        "Run models on original data\n",
        "Run models on original data\n",
        "Run models on original data\n",
        "Run models on original data"
       ]
      },
      {
       "output_type": "stream",
       "stream": "stdout",
       "text": [
        "\n",
        "Run models on original data\n",
        "Run models on original data\n",
        "Run models on original data\n",
        "Run models on original data\n",
        "Run models on original data\n",
        "Run models on original data"
       ]
      },
      {
       "output_type": "stream",
       "stream": "stdout",
       "text": [
        "\n",
        "Run models on original data\n",
        "Run models on original data\n",
        "Run models on original data\n",
        "Run models on original data\n",
        "Run models on original data\n",
        "Run models on unused early data\n",
        "Processing article No. 2045\n",
        "Run models on original data\n",
        "Run models on unused early data"
       ]
      },
      {
       "output_type": "stream",
       "stream": "stdout",
       "text": [
        "\n",
        "Run models on unused early data\n",
        "Run models on unused early data\n",
        "Run models on unused early data\n",
        "Run models on unused early data\n",
        "Run models on unused early data\n",
        "Run models on unused early data\n",
        "Run models on unused early data\n",
        "Run models on original data"
       ]
      },
      {
       "output_type": "stream",
       "stream": "stdout",
       "text": [
        "\n",
        "Run models on unused early data\n",
        "Run models on unused early data\n",
        "Run models on unused early data\n",
        "Run models on unused early data\n",
        "Run models on unused early data\n",
        "Run models on unused early data\n",
        "Run models on unused early data"
       ]
      },
      {
       "output_type": "stream",
       "stream": "stdout",
       "text": [
        "\n",
        "Run models on unused early data\n",
        "Run models on original data\n",
        "Run models on unused early data\n",
        "Run models on unused early data\n",
        "Run models on unused early data\n",
        "Run models on unused early data\n",
        "Run models on unused early data\n",
        "Run models on unused early data"
       ]
      },
      {
       "output_type": "stream",
       "stream": "stdout",
       "text": [
        "\n",
        "Run models on unused early data\n",
        "Run models on unused early data\n",
        "Run models on original data\n",
        "Run models on unused early data\n",
        "Run models on unused early data"
       ]
      },
      {
       "output_type": "stream",
       "stream": "stdout",
       "text": [
        "\n",
        "Run models on unused early data\n",
        "Run models on unused early data\n",
        "Run models on unused early data\n",
        "Run models on unused early data\n",
        "Run models on unused early data\n",
        "Run models on unused early data\n",
        "Run models on original data"
       ]
      },
      {
       "output_type": "stream",
       "stream": "stdout",
       "text": [
        "\n",
        "Run models on unused early data\n",
        "Run models on unused early data\n",
        "Run models on unused early data\n",
        "Run models on unused early data\n",
        "Run models on unused early data\n",
        "Run models on unused early data"
       ]
      },
      {
       "output_type": "stream",
       "stream": "stdout",
       "text": [
        "\n",
        "Run models on unused early data\n",
        "Run models on unused early data\n",
        "Run models on original data\n",
        "Run models on unused early data\n",
        "Run models on unused early data\n",
        "Run models on unused early data"
       ]
      },
      {
       "output_type": "stream",
       "stream": "stdout",
       "text": [
        "\n",
        "Run models on unused early data\n",
        "Run models on unused early data\n",
        "Run models on unused early data\n",
        "Run models on unused early data\n",
        "Run models on unused early data\n",
        "Processing article No."
       ]
      },
      {
       "output_type": "stream",
       "stream": "stdout",
       "text": [
        " 2111\n",
        "Run models on original data\n",
        "Run models on original data\n",
        "Run models on unused early data\n",
        "Run models on unused early data\n",
        "Run models on unused early data"
       ]
      },
      {
       "output_type": "stream",
       "stream": "stdout",
       "text": [
        "\n",
        "Run models on unused early data\n",
        "Run models on unused early data\n",
        "Run models on unused early data"
       ]
      },
      {
       "output_type": "stream",
       "stream": "stdout",
       "text": [
        "\n",
        "Run models on unused early data\n",
        "Run models on unused early data\n",
        "Run models on unused early data\n",
        "Run models on unused early data"
       ]
      },
      {
       "output_type": "stream",
       "stream": "stdout",
       "text": [
        "\n",
        "Run models on unused early data\n",
        "Run models on unused early data\n",
        "Run models on unused early data"
       ]
      },
      {
       "output_type": "stream",
       "stream": "stdout",
       "text": [
        "\n",
        "Processing article No. 2146\n",
        "Run models on original data\n",
        "Run models on original data\n",
        "Run models on unused early data"
       ]
      },
      {
       "output_type": "stream",
       "stream": "stdout",
       "text": [
        "\n",
        "Run models on unused early data\n",
        "Run models on unused early data\n",
        "Run models on unused early data"
       ]
      },
      {
       "output_type": "stream",
       "stream": "stdout",
       "text": [
        "\n",
        "Run models on unused early data\n",
        "Run models on unused early data\n",
        "Run models on unused early data"
       ]
      },
      {
       "output_type": "stream",
       "stream": "stdout",
       "text": [
        "\n",
        "Run models on original data\n",
        "Run models on original data\n",
        "Run models on unused early data\n",
        "Run models on unused early data\n",
        "Run models on unused early data"
       ]
      },
      {
       "output_type": "stream",
       "stream": "stdout",
       "text": [
        "\n",
        "Run models on unused early data\n",
        "Run models on unused early data\n",
        "Run models on unused early data\n",
        "Run models on unused early data\n",
        "Processing article No. 2149\n",
        "Run models on original data\n",
        "Run models on unused early data"
       ]
      },
      {
       "output_type": "stream",
       "stream": "stdout",
       "text": [
        "\n",
        "Run models on unused early data\n",
        "Run models on unused early data\n",
        "Run models on original data\n",
        "Run models on unused early data\n",
        "Run models on unused early data\n",
        "Run models on unused early data\n",
        "Processing article No. 2179\n",
        "Run models on original data\n",
        "Run models on unused early data"
       ]
      },
      {
       "output_type": "stream",
       "stream": "stdout",
       "text": [
        "\n",
        "Run models on unused early data\n",
        "Run models on unused early data\n",
        "Run models on unused early data\n",
        "Run models on unused early data\n",
        "Run models on unused early data\n",
        "Processing article No. 2205\n",
        "Run models on original data\n",
        "Run models on unused early data"
       ]
      },
      {
       "output_type": "stream",
       "stream": "stdout",
       "text": [
        "\n",
        "Run models on unused early data\n",
        "Run models on unused early data\n",
        "Run models on unused early data\n",
        "Run models on unused early data\n",
        "Run models on unused early data\n",
        "Run models on unused early data\n",
        "Run models on unused early data\n",
        "Run models on unused early data\n",
        "Run models on unused early data"
       ]
      },
      {
       "output_type": "stream",
       "stream": "stdout",
       "text": [
        "\n",
        "Run models on unused early data\n",
        "Processing article No. 2231\n",
        "Run models on original data\n",
        "Run models on unused early data\n",
        "Run models on original data\n",
        "Run models on unused early data\n",
        "Run models on original data\n",
        "Run models on unused early data"
       ]
      },
      {
       "output_type": "stream",
       "stream": "stdout",
       "text": [
        "\n",
        "Processing article No. 2256\n",
        "Run models on original data\n",
        "GUNLAW"
       ]
      },
      {
       "output_type": "stream",
       "stream": "stdout",
       "text": [
        " ~ SEX on year 1973\n",
        "Run models on original data\n",
        "GUNLAW"
       ]
      },
      {
       "output_type": "stream",
       "stream": "stdout",
       "text": [
        " ~ SEX on year 1974\n",
        "Run models on original data\n",
        "GUNLAW"
       ]
      },
      {
       "output_type": "stream",
       "stream": "stdout",
       "text": [
        " ~ SEX on year 1975\n",
        "Run models on original data\n",
        "GUNLAW"
       ]
      },
      {
       "output_type": "stream",
       "stream": "stdout",
       "text": [
        " ~ SEX on year 1976\n",
        "Run models on original data\n",
        "GUNLAW"
       ]
      },
      {
       "output_type": "stream",
       "stream": "stdout",
       "text": [
        " ~ SEX on year 1977\n",
        "Run models on original data\n",
        "GUNLAW"
       ]
      },
      {
       "output_type": "stream",
       "stream": "stdout",
       "text": [
        " ~ SEX on year 1980\n",
        "Run models on original data\n",
        "GUNLAW"
       ]
      },
      {
       "output_type": "stream",
       "stream": "stdout",
       "text": [
        " ~ SEX on year 1982\n",
        "Run models on original data\n",
        "GUNLAW"
       ]
      },
      {
       "output_type": "stream",
       "stream": "stdout",
       "text": [
        " ~ SEX on year 1984\n",
        "Run models on original data\n",
        "GUNLAW"
       ]
      },
      {
       "output_type": "stream",
       "stream": "stdout",
       "text": [
        " ~ SEX on year 1985\n",
        "Run models on original data\n",
        "GUNLAW"
       ]
      },
      {
       "output_type": "stream",
       "stream": "stdout",
       "text": [
        " ~ SEX on year 1987\n",
        "Run models on original data\n",
        "GUNLAW"
       ]
      },
      {
       "output_type": "stream",
       "stream": "stdout",
       "text": [
        " ~ SEX on year 1988\n",
        "Run models on original data\n",
        "GUNLAW"
       ]
      },
      {
       "output_type": "stream",
       "stream": "stdout",
       "text": [
        " ~ SEX on year 1989\n",
        "Run models on original data\n",
        "GUNLAW"
       ]
      },
      {
       "output_type": "stream",
       "stream": "stdout",
       "text": [
        " ~ SEX on year 1990\n",
        "Run models on original data\n",
        "GUNLAW"
       ]
      },
      {
       "output_type": "stream",
       "stream": "stdout",
       "text": [
        " ~ SEX on year 1991\n",
        "Run models on original data\n",
        "GUNLAW"
       ]
      },
      {
       "output_type": "stream",
       "stream": "stdout",
       "text": [
        " ~ SEX on year 1993\n",
        "Run models on original data\n",
        "GUNLAW"
       ]
      },
      {
       "output_type": "stream",
       "stream": "stdout",
       "text": [
        " ~ SEX on year 1994\n",
        "Run models on original data\n",
        "GUNLAW"
       ]
      },
      {
       "output_type": "stream",
       "stream": "stdout",
       "text": [
        " ~ SEX on year 1996\n",
        "Run models on original data\n",
        "GUNLAW"
       ]
      },
      {
       "output_type": "stream",
       "stream": "stdout",
       "text": [
        " ~ SEX on year 1998\n",
        "Run models on unused early data\n",
        "GUNLAW"
       ]
      },
      {
       "output_type": "stream",
       "stream": "stdout",
       "text": [
        " ~ SEX on year 1972\n",
        "Processing article No. 2291\n",
        "Run models on original data\n",
        "Run models on original data\n",
        "Run models on unused early data\n",
        "Processing article No. 2345\n",
        "Run models on original data\n",
        "Run models on original data\n",
        "Run models on original data\n",
        "Run models on unused early data"
       ]
      },
      {
       "output_type": "stream",
       "stream": "stdout",
       "text": [
        "\n",
        "Run models on unused early data\n",
        "Run models on original data\n",
        "Run models on original data\n",
        "Run models on original data\n",
        "Run models on unused early data\n",
        "Run models on unused early data\n",
        "Run models on original data\n",
        "Run models on original data\n",
        "Run models on original data\n",
        "Run models on unused early data\n",
        "Run models on unused early data"
       ]
      },
      {
       "output_type": "stream",
       "stream": "stdout",
       "text": [
        "\n",
        "Run models on original data\n",
        "Run models on original data\n",
        "Run models on original data\n",
        "Run models on unused early data\n",
        "Run models on unused early data"
       ]
      },
      {
       "output_type": "stream",
       "stream": "stdout",
       "text": [
        "\n",
        "Run models on original data\n",
        "Run models on original data\n",
        "Run models on original data\n",
        "Run models on unused early data\n",
        "Run models on unused early data"
       ]
      },
      {
       "output_type": "stream",
       "stream": "stdout",
       "text": [
        "\n",
        "Run models on original data\n",
        "Run models on original data\n",
        "Run models on original data\n",
        "Run models on unused early data\n",
        "Run models on unused early data\n",
        "Run models on original data\n",
        "Run models on original data\n",
        "Run models on original data\n",
        "Run models on unused early data\n",
        "Run models on unused early data\n",
        "Run models on original data"
       ]
      },
      {
       "output_type": "stream",
       "stream": "stdout",
       "text": [
        "\n",
        "Run models on original data\n",
        "Run models on original data\n",
        "Run models on unused early data\n",
        "Run models on unused early data\n",
        "Run models on original data\n",
        "Run models on original data\n",
        "Run models on original data\n",
        "Run models on unused early data\n",
        "Run models on unused early data\n",
        "Run models on original data\n",
        "Run models on original data"
       ]
      },
      {
       "output_type": "stream",
       "stream": "stdout",
       "text": [
        "\n",
        "Run models on original data\n",
        "Run models on unused early data\n",
        "Run models on unused early data\n",
        "Run models on original data\n",
        "Run models on original data\n",
        "Run models on original data\n",
        "Run models on unused early data\n",
        "Run models on unused early data\n",
        "Run models on original data\n",
        "Run models on original data\n",
        "Run models on original data"
       ]
      },
      {
       "output_type": "stream",
       "stream": "stdout",
       "text": [
        "\n",
        "Run models on unused early data\n",
        "Run models on unused early data\n",
        "Run models on original data\n",
        "Run models on original data\n",
        "Run models on original data\n",
        "Run models on unused early data\n",
        "Run models on unused early data\n",
        "Run models on original data\n",
        "Run models on original data\n",
        "Run models on original data\n",
        "Run models on unused early data\n",
        "Run models on unused early data"
       ]
      },
      {
       "output_type": "stream",
       "stream": "stdout",
       "text": [
        "\n",
        "Run models on original data\n",
        "Run models on original data\n",
        "Run models on original data\n",
        "Run models on unused early data\n",
        "Run models on unused early data\n",
        "Run models on original data\n",
        "Run models on original data\n",
        "Run models on original data\n",
        "Run models on unused early data\n",
        "Run models on unused early data\n",
        "Run models on original data\n",
        "Run models on original data"
       ]
      },
      {
       "output_type": "stream",
       "stream": "stdout",
       "text": [
        "\n",
        "Run models on original data\n",
        "Run models on unused early data\n",
        "Run models on unused early data\n",
        "Run models on original data\n",
        "Run models on original data\n",
        "Run models on original data\n",
        "Run models on unused early data\n",
        "Run models on unused early data\n",
        "Run models on original data\n",
        "Run models on original data\n",
        "Run models on original data"
       ]
      },
      {
       "output_type": "stream",
       "stream": "stdout",
       "text": [
        "\n",
        "Run models on unused early data\n",
        "Run models on unused early data\n",
        "Run models on original data\n",
        "Run models on original data\n",
        "Run models on original data\n",
        "Run models on unused early data\n",
        "Run models on unused early data\n",
        "Run models on original data\n",
        "Run models on original data\n",
        "Run models on original data\n",
        "Run models on unused early data"
       ]
      },
      {
       "output_type": "stream",
       "stream": "stdout",
       "text": [
        "\n",
        "Run models on unused early data\n",
        "Run models on original data\n",
        "Run models on original data\n",
        "Run models on original data\n",
        "Run models on unused early data\n",
        "Run models on unused early data\n",
        "Run models on original data\n",
        "Run models on original data\n",
        "Run models on original data\n",
        "Run models on unused early data\n",
        "Run models on unused early data"
       ]
      },
      {
       "output_type": "stream",
       "stream": "stdout",
       "text": [
        "\n",
        "Run models on original data\n",
        "Run models on original data\n",
        "Run models on original data\n",
        "Run models on unused early data\n",
        "Run models on unused early data\n",
        "Processing article No. 2429\n",
        "Run models on original data\n",
        "Dropping column RELIG because it is constant\n",
        "Run models on original data\n",
        "Dropping column RELIG because it is constant\n",
        "Run models on original data\n",
        "Dropping column"
       ]
      },
      {
       "output_type": "stream",
       "stream": "stdout",
       "text": [
        " RELIG because it is constant\n",
        "Run models on unused early data\n",
        "Dropping column RELIG because it is constant\n",
        "Run models on unused early data\n",
        "Dropping column RELIG because it is constant\n",
        "Run models on unused early data\n",
        "Dropping column RELIG because it is constant\n",
        "Run models on unused early data\n",
        "Dropping column RELIG because it is constant\n",
        "Run models on unused early data\n",
        "Dropping column RELIG because it is constant\n",
        "Run models on original data\n",
        "Dropping column"
       ]
      },
      {
       "output_type": "stream",
       "stream": "stdout",
       "text": [
        " RELIG because it is constant\n",
        "Run models on original data\n",
        "Dropping column RELIG because it is constant\n",
        "Run models on original data\n",
        "Dropping column RELIG because it is constant\n",
        "Run models on unused early data\n",
        "Dropping column RELIG because it is constant\n",
        "Run models on unused early data\n",
        "Dropping column RELIG because it is constant\n",
        "Run models on unused early data\n",
        "Dropping column RELIG because it is constant\n",
        "Run models on unused early data\n",
        "Dropping column"
       ]
      },
      {
       "output_type": "stream",
       "stream": "stdout",
       "text": [
        " RELIG because it is constant\n",
        "Run models on unused early data\n",
        "Dropping column RELIG because it is constant\n",
        "Run models on original data\n",
        "Dropping column RELIG because it is constant\n",
        "Run models on original data\n",
        "Dropping column RELIG because it is constant\n",
        "Run models on original data\n",
        "Dropping column RELIG because it is constant\n",
        "Run models on unused early data\n",
        "Dropping column RELIG because it is constant\n",
        "Run models on unused early data\n",
        "Dropping column"
       ]
      },
      {
       "output_type": "stream",
       "stream": "stdout",
       "text": [
        " RELIG because it is constant\n",
        "Run models on unused early data\n",
        "Dropping column RELIG because it is constant\n",
        "Run models on unused early data\n",
        "Dropping column RELIG because it is constant\n",
        "Run models on unused early data\n",
        "Dropping column RELIG because it is constant\n",
        "Run models on original data\n",
        "Dropping column RELIG because it is constant\n",
        "Run models on original data\n",
        "Dropping column RELIG because it is constant\n",
        "Run models on original data\n",
        "Dropping column"
       ]
      },
      {
       "output_type": "stream",
       "stream": "stdout",
       "text": [
        " RELIG because it is constant\n",
        "Run models on unused early data\n",
        "Dropping column RELIG because it is constant\n",
        "Run models on unused early data\n",
        "Dropping column RELIG because it is constant\n",
        "Run models on unused early data\n",
        "Dropping column RELIG because it is constant\n",
        "Run models on unused early data\n",
        "Dropping column RELIG because it is constant\n",
        "Run models on unused early data\n",
        "Dropping column RELIG because it is constant\n",
        "Run models on original data\n",
        "Dropping column"
       ]
      },
      {
       "output_type": "stream",
       "stream": "stdout",
       "text": [
        " RELIG because it is constant\n",
        "Run models on original data\n",
        "Dropping column RELIG because it is constant\n",
        "Run models on original data\n",
        "Dropping column RELIG because it is constant\n",
        "Run models on unused early data\n",
        "Dropping column RELIG because it is constant\n",
        "Run models on unused early data\n",
        "Dropping column RELIG because it is constant\n",
        "Run models on unused early data\n",
        "Dropping column RELIG because it is constant\n",
        "Run models on unused early data\n",
        "Dropping column RELIG because it is constant\n",
        "Run models on unused early data"
       ]
      },
      {
       "output_type": "stream",
       "stream": "stdout",
       "text": [
        "\n",
        "Dropping column RELIG because it is constant\n",
        "Run models on original data\n",
        "Dropping column RELIG because it is constant\n",
        "Run models on original data\n",
        "Dropping column RELIG because it is constant\n",
        "Run models on original data\n",
        "Dropping column RELIG because it is constant\n",
        "Run models on unused early data\n",
        "Dropping column RELIG because it is constant\n",
        "Run models on unused early data\n",
        "Dropping column RELIG because it is constant\n",
        "Run models on unused early data"
       ]
      },
      {
       "output_type": "stream",
       "stream": "stdout",
       "text": [
        "\n",
        "Dropping column RELIG because it is constant\n",
        "Run models on unused early data\n",
        "Dropping column RELIG because it is constant\n",
        "Run models on unused early data\n",
        "Dropping column RELIG because it is constant\n",
        "Run models on original data\n",
        "Dropping column RELIG because it is constant\n",
        "Run models on original data\n",
        "Dropping column RELIG because it is constant\n",
        "Run models on original data\n",
        "Dropping column RELIG because it is constant\n",
        "Run models on unused early data"
       ]
      },
      {
       "output_type": "stream",
       "stream": "stdout",
       "text": [
        "\n",
        "Dropping column RELIG because it is constant\n",
        "Run models on unused early data\n",
        "Dropping column RELIG because it is constant\n",
        "Run models on unused early data\n",
        "Dropping column RELIG because it is constant\n",
        "Run models on unused early data\n",
        "Dropping column RELIG because it is constant\n",
        "Run models on unused early data\n",
        "Dropping column RELIG because it is constant\n",
        "Run models on original data\n",
        "Dropping column"
       ]
      },
      {
       "output_type": "stream",
       "stream": "stdout",
       "text": [
        " RELIG because it is constant\n",
        "Run models on original data\n",
        "Dropping column RELIG because it is constant\n",
        "Run models on original data\n",
        "Dropping column RELIG because it is constant\n",
        "Run models on unused early data\n",
        "Dropping column RELIG because it is constant\n",
        "Run models on unused early data\n",
        "Dropping column RELIG because it is constant\n",
        "Run models on unused early data\n",
        "Dropping column RELIG because it is constant\n",
        "Run models on unused early data\n",
        "Dropping column"
       ]
      },
      {
       "output_type": "stream",
       "stream": "stdout",
       "text": [
        " RELIG because it is constant\n",
        "Run models on unused early data\n",
        "Dropping column RELIG because it is constant\n",
        "Run models on original data\n",
        "Dropping column RELIG because it is constant\n",
        "Run models on original data\n",
        "Dropping column RELIG because it is constant\n",
        "Run models on original data\n",
        "Dropping column RELIG because it is constant\n",
        "Run models on unused early data\n",
        "Dropping column RELIG because it is constant\n",
        "Run models on unused early data\n",
        "Dropping column"
       ]
      },
      {
       "output_type": "stream",
       "stream": "stdout",
       "text": [
        " RELIG because it is constant\n",
        "Run models on unused early data\n",
        "Dropping column RELIG because it is constant\n",
        "Run models on unused early data\n",
        "Dropping column RELIG because it is constant\n",
        "Run models on unused early data\n",
        "Dropping column RELIG because it is constant\n",
        "Run models on original data\n",
        "Dropping column RELIG because it is constant\n",
        "Run models on original data\n",
        "Dropping column RELIG because it is constant\n",
        "Run models on original data\n",
        "Dropping column"
       ]
      },
      {
       "output_type": "stream",
       "stream": "stdout",
       "text": [
        " RELIG because it is constant\n",
        "Run models on unused early data\n",
        "Dropping column RELIG because it is constant\n",
        "Run models on unused early data\n",
        "Dropping column RELIG because it is constant\n",
        "Run models on unused early data\n",
        "Dropping column RELIG because it is constant\n",
        "Run models on unused early data\n",
        "Dropping column RELIG because it is constant\n",
        "Run models on unused early data\n",
        "Dropping column RELIG because it is constant\n",
        "Run models on original data\n",
        "Dropping column"
       ]
      },
      {
       "output_type": "stream",
       "stream": "stdout",
       "text": [
        " RELIG because it is constant\n",
        "Run models on original data\n",
        "Dropping column RELIG because it is constant\n",
        "Run models on original data\n",
        "Dropping column RELIG because it is constant\n",
        "Run models on unused early data\n",
        "Dropping column RELIG because it is constant\n",
        "Run models on unused early data\n",
        "Dropping column RELIG because it is constant\n",
        "Run models on unused early data\n",
        "Dropping column RELIG because it is constant\n",
        "Run models on unused early data\n",
        "Dropping column"
       ]
      },
      {
       "output_type": "stream",
       "stream": "stdout",
       "text": [
        " RELIG because it is constant\n",
        "Run models on unused early data\n",
        "Dropping column RELIG because it is constant\n",
        "Run models on original data\n",
        "Dropping column RELIG because it is constant\n",
        "Run models on original data\n",
        "Dropping column RELIG because it is constant\n",
        "Run models on original data\n",
        "Dropping column RELIG because it is constant\n",
        "Run models on unused early data\n",
        "Dropping column RELIG because it is constant\n",
        "Run models on unused early data\n",
        "Dropping column"
       ]
      },
      {
       "output_type": "stream",
       "stream": "stdout",
       "text": [
        " RELIG because it is constant\n",
        "Run models on unused early data\n",
        "Dropping column RELIG because it is constant\n",
        "Run models on unused early data\n",
        "Dropping column RELIG because it is constant\n",
        "Run models on unused early data\n",
        "Dropping column RELIG because it is constant\n",
        "Run models on original data\n",
        "Dropping column RELIG because it is constant\n",
        "Run models on original data\n",
        "Dropping column RELIG because it is constant\n",
        "Run models on original data\n",
        "Dropping column"
       ]
      },
      {
       "output_type": "stream",
       "stream": "stdout",
       "text": [
        " RELIG because it is constant\n",
        "Run models on unused early data\n",
        "Dropping column RELIG because it is constant\n",
        "Run models on unused early data\n",
        "Dropping column RELIG because it is constant\n",
        "Run models on unused early data\n",
        "Dropping column RELIG because it is constant\n",
        "Run models on unused early data\n",
        "Dropping column RELIG because it is constant\n",
        "Run models on unused early data\n",
        "Dropping column RELIG because it is constant\n",
        "Processing article No. 2430\n",
        "Run models on original data\n",
        "Dropping column RELIG because it is constant\n",
        "Run models on original data"
       ]
      },
      {
       "output_type": "stream",
       "stream": "stdout",
       "text": [
        "\n",
        "Dropping column RELIG because it is constant\n",
        "Run models on original data\n",
        "Dropping column RELIG because it is constant\n",
        "Run models on original data\n",
        "Dropping column RELIG because it is constant\n",
        "Run models on original data\n",
        "Dropping column RELIG because it is constant\n",
        "Run models on original data\n",
        "Dropping column RELIG because it is constant\n",
        "Run models on unused early data\n",
        "Dropping column RELIG because it is constant\n",
        "Run models on unused early data\n",
        "Dropping column RELIG because it is constant\n",
        "Run models on original data\n",
        "Dropping column RELIG because it is constant\n",
        "Run models on original data"
       ]
      },
      {
       "output_type": "stream",
       "stream": "stdout",
       "text": [
        "\n",
        "Dropping column RELIG because it is constant\n",
        "Run models on original data\n",
        "Dropping column RELIG because it is constant\n",
        "Run models on original data\n",
        "Dropping column RELIG because it is constant\n",
        "Run models on original data\n",
        "Dropping column RELIG because it is constant\n",
        "Run models on original data\n",
        "Dropping column RELIG because it is constant\n",
        "Run models on unused early data\n",
        "Dropping column RELIG because it is constant\n",
        "Run models on unused early data\n",
        "Dropping column RELIG because it is constant\n",
        "Run models on original data\n",
        "Dropping column RELIG because it is constant\n",
        "Run models on original data\n",
        "Dropping column"
       ]
      },
      {
       "output_type": "stream",
       "stream": "stdout",
       "text": [
        " RELIG because it is constant\n",
        "Run models on original data\n",
        "Dropping column RELIG because it is constant\n",
        "Run models on original data\n",
        "Dropping column RELIG because it is constant\n",
        "Run models on original data\n",
        "Dropping column RELIG because it is constant\n",
        "Run models on original data\n",
        "Dropping column RELIG because it is constant\n",
        "Run models on unused early data\n",
        "Dropping column RELIG because it is constant\n",
        "Run models on unused early data\n",
        "Dropping column RELIG because it is constant\n",
        "Run models on original data\n",
        "Dropping column RELIG because it is constant\n",
        "Run models on original data\n",
        "Dropping column RELIG because it is constant\n",
        "Run models on original data\n",
        "Dropping column"
       ]
      },
      {
       "output_type": "stream",
       "stream": "stdout",
       "text": [
        " RELIG because it is constant\n",
        "Run models on original data\n",
        "Dropping column RELIG because it is constant\n",
        "Run models on original data\n",
        "Dropping column RELIG because it is constant\n",
        "Run models on original data\n",
        "Dropping column RELIG because it is constant\n",
        "Run models on unused early data\n",
        "Dropping column RELIG because it is constant\n",
        "Run models on unused early data\n",
        "Dropping column RELIG because it is constant\n",
        "Run models on original data\n",
        "Dropping column RELIG because it is constant\n",
        "Run models on original data\n",
        "Dropping column RELIG because it is constant\n",
        "Run models on original data\n",
        "Dropping column RELIG because it is constant\n",
        "Run models on original data"
       ]
      },
      {
       "output_type": "stream",
       "stream": "stdout",
       "text": [
        "\n",
        "Dropping column RELIG because it is constant\n",
        "Run models on original data\n",
        "Dropping column RELIG because it is constant\n",
        "Run models on original data\n",
        "Dropping column RELIG because it is constant\n",
        "Run models on unused early data\n",
        "Dropping column RELIG because it is constant\n",
        "Run models on unused early data\n",
        "Dropping column RELIG because it is constant\n",
        "Run models on original data\n",
        "Dropping column RELIG because it is constant\n",
        "Run models on original data\n",
        "Dropping column RELIG because it is constant\n",
        "Run models on original data\n",
        "Dropping column RELIG because it is constant\n",
        "Run models on original data\n",
        "Dropping column"
       ]
      },
      {
       "output_type": "stream",
       "stream": "stdout",
       "text": [
        " RELIG because it is constant\n",
        "Run models on original data\n",
        "Dropping column RELIG because it is constant\n",
        "Run models on original data\n",
        "Dropping column RELIG because it is constant\n",
        "Run models on unused early data\n",
        "Dropping column RELIG because it is constant\n",
        "Run models on unused early data\n",
        "Dropping column RELIG because it is constant\n",
        "Run models on original data\n",
        "Dropping column RELIG because it is constant\n",
        "Run models on original data\n",
        "Dropping column RELIG because it is constant\n",
        "Run models on original data\n",
        "Dropping column RELIG because it is constant\n",
        "Run models on original data\n",
        "Dropping column"
       ]
      },
      {
       "output_type": "stream",
       "stream": "stdout",
       "text": [
        " RELIG because it is constant\n",
        "Run models on original data\n",
        "Dropping column RELIG because it is constant\n",
        "Run models on original data\n",
        "Dropping column RELIG because it is constant\n",
        "Run models on unused early data\n",
        "Dropping column RELIG because it is constant\n",
        "Run models on unused early data\n",
        "Dropping column RELIG because it is constant\n",
        "Run models on original data\n",
        "Dropping column RELIG because it is constant\n",
        "Run models on original data\n",
        "Dropping column RELIG because it is constant\n",
        "Run models on original data\n",
        "Dropping column RELIG because it is constant\n",
        "Run models on original data\n",
        "Dropping column RELIG because it is constant\n",
        "Run models on original data\n",
        "Dropping column"
       ]
      },
      {
       "output_type": "stream",
       "stream": "stdout",
       "text": [
        " RELIG because it is constant\n",
        "Run models on original data\n",
        "Dropping column RELIG because it is constant\n",
        "Run models on unused early data\n",
        "Dropping column RELIG because it is constant\n",
        "Run models on unused early data\n",
        "Dropping column RELIG because it is constant\n",
        "Run models on original data\n",
        "Dropping column RELIG because it is constant\n",
        "Run models on original data\n",
        "Dropping column RELIG because it is constant\n",
        "Run models on original data\n",
        "Dropping column RELIG because it is constant\n",
        "Run models on original data\n",
        "Dropping column RELIG because it is constant\n",
        "Run models on original data\n",
        "Dropping column RELIG because it is constant\n",
        "Run models on original data\n",
        "Dropping column"
       ]
      },
      {
       "output_type": "stream",
       "stream": "stdout",
       "text": [
        " RELIG because it is constant\n",
        "Run models on unused early data\n",
        "Dropping column RELIG because it is constant\n",
        "Run models on unused early data\n",
        "Dropping column RELIG because it is constant\n",
        "Run models on original data\n",
        "Dropping column RELIG because it is constant\n",
        "Run models on original data\n",
        "Dropping column RELIG because it is constant\n",
        "Run models on original data\n",
        "Dropping column RELIG because it is constant\n",
        "Run models on original data\n",
        "Dropping column RELIG because it is constant\n",
        "Run models on original data\n",
        "Dropping column RELIG because it is constant\n",
        "Run models on original data\n",
        "Dropping column RELIG because it is constant\n",
        "Run models on unused early data\n",
        "Dropping column"
       ]
      },
      {
       "output_type": "stream",
       "stream": "stdout",
       "text": [
        " RELIG because it is constant\n",
        "Run models on unused early data\n",
        "Dropping column RELIG because it is constant\n",
        "Run models on original data\n",
        "Dropping column RELIG because it is constant\n",
        "Run models on original data\n",
        "Dropping column RELIG because it is constant\n",
        "Run models on original data\n",
        "Dropping column RELIG because it is constant\n",
        "Run models on original data\n",
        "Dropping column RELIG because it is constant\n",
        "Run models on original data\n",
        "Dropping column RELIG because it is constant\n",
        "Run models on original data\n",
        "Dropping column RELIG because it is constant\n",
        "Run models on unused early data\n",
        "Dropping column RELIG because it is constant\n",
        "Run models on unused early data\n",
        "Dropping column"
       ]
      },
      {
       "output_type": "stream",
       "stream": "stdout",
       "text": [
        " RELIG because it is constant\n",
        "Processing article No. 2523\n",
        "Run models on original data\n",
        "Run models on original data\n",
        "Run models on original data\n",
        "Run models on original data\n",
        "Run models on unused early data\n",
        "Run models on unused early data\n",
        "Run models on unused early data\n",
        "Run models on unused early data\n",
        "Run models on unused early data\n",
        "Run models on unused early data"
       ]
      },
      {
       "output_type": "stream",
       "stream": "stdout",
       "text": [
        "\n",
        "Run models on unused early data\n",
        "Run models on original data\n",
        "Run models on original data\n",
        "Run models on original data\n",
        "Run models on original data\n",
        "Run models on unused early data\n",
        "Run models on unused early data\n",
        "Run models on unused early data"
       ]
      },
      {
       "output_type": "stream",
       "stream": "stdout",
       "text": [
        "\n",
        "Run models on unused early data\n",
        "Run models on unused early data\n",
        "Run models on unused early data\n",
        "Run models on unused early data\n",
        "Run models on original data\n",
        "Run models on original data\n",
        "Run models on original data\n",
        "Run models on original data\n",
        "Run models on unused early data"
       ]
      },
      {
       "output_type": "stream",
       "stream": "stdout",
       "text": [
        "\n",
        "Run models on unused early data\n",
        "Run models on unused early data\n",
        "Run models on unused early data\n",
        "Run models on unused early data\n",
        "Run models on unused early data\n",
        "Run models on unused early data\n",
        "Run models on original data\n",
        "Run models on original data\n",
        "Run models on original data"
       ]
      },
      {
       "output_type": "stream",
       "stream": "stdout",
       "text": [
        "\n",
        "Run models on original data\n",
        "Run models on unused early data\n",
        "Run models on unused early data\n",
        "Run models on unused early data\n",
        "Run models on unused early data\n",
        "Run models on unused early data\n",
        "Run models on unused early data\n",
        "Run models on unused early data\n",
        "Run models on original data"
       ]
      },
      {
       "output_type": "stream",
       "stream": "stdout",
       "text": [
        "\n",
        "Run models on original data\n",
        "Run models on original data\n",
        "Run models on original data\n",
        "Run models on unused early data\n",
        "Run models on unused early data\n",
        "Run models on unused early data\n",
        "Run models on unused early data\n",
        "Run models on unused early data\n",
        "Run models on unused early data\n",
        "Run models on unused early data"
       ]
      },
      {
       "output_type": "stream",
       "stream": "stdout",
       "text": [
        "\n",
        "Run models on original data\n",
        "Run models on original data\n",
        "Run models on original data\n",
        "Run models on original data\n",
        "Run models on unused early data\n",
        "Run models on unused early data\n",
        "Run models on unused early data\n",
        "Run models on unused early data\n",
        "Run models on unused early data"
       ]
      },
      {
       "output_type": "stream",
       "stream": "stdout",
       "text": [
        "\n",
        "Run models on unused early data\n",
        "Run models on unused early data\n",
        "Run models on original data\n",
        "Run models on original data\n",
        "Run models on original data\n",
        "Run models on original data\n",
        "Run models on unused early data\n",
        "Run models on unused early data\n",
        "Run models on unused early data"
       ]
      },
      {
       "output_type": "stream",
       "stream": "stdout",
       "text": [
        "\n",
        "Run models on unused early data\n",
        "Run models on unused early data\n",
        "Run models on unused early data\n",
        "Run models on unused early data\n",
        "Processing article No. 2612\n",
        "Run models on original data\n",
        "Run models on original data\n",
        "Run models on original data\n",
        "Run models on unused early data\n",
        "Run models on unused early data\n",
        "Run models on unused early data"
       ]
      },
      {
       "output_type": "stream",
       "stream": "stdout",
       "text": [
        "\n",
        "Run models on unused early data\n",
        "Run models on unused early data\n",
        "Processing article No. 2617\n",
        "Run models on original data\n",
        "Run models on original data\n",
        "Run models on original data\n",
        "Run models on original data\n",
        "Run models on unused early data\n",
        "Run models on original data\n",
        "Run models on original data\n",
        "Run models on original data\n",
        "Run models on original data\n",
        "Run models on unused early data"
       ]
      },
      {
       "output_type": "stream",
       "stream": "stdout",
       "text": [
        "\n",
        "Processing article No. 2648\n",
        "Run models on original data\n",
        "Run models on unused early data\n",
        "Processing article No. 2697\n",
        "Run models on original data\n",
        "XMARSEX"
       ]
      },
      {
       "output_type": "stream",
       "stream": "stdout",
       "text": [
        " ~ AGE on year 1994\n",
        "Run models on unused early data\n",
        "XMARSEX"
       ]
      },
      {
       "output_type": "stream",
       "stream": "stdout",
       "text": [
        " ~ AGE on year 1988\n",
        "Run models on unused early data\n",
        "XMARSEX"
       ]
      },
      {
       "output_type": "stream",
       "stream": "stdout",
       "text": [
        " ~ AGE on year 1989\n",
        "Run models on unused early data\n",
        "XMARSEX"
       ]
      },
      {
       "output_type": "stream",
       "stream": "stdout",
       "text": [
        " ~ AGE on year 1990\n",
        "Run models on unused early data\n",
        "XMARSEX"
       ]
      },
      {
       "output_type": "stream",
       "stream": "stdout",
       "text": [
        " ~ AGE on year 1991\n",
        "Run models on unused early data\n",
        "XMARSEX"
       ]
      },
      {
       "output_type": "stream",
       "stream": "stdout",
       "text": [
        " ~ AGE on year 1993\n",
        "Run models on original data\n",
        "PREMARSX"
       ]
      },
      {
       "output_type": "stream",
       "stream": "stdout",
       "text": [
        " ~ AGE on year 1994\n",
        "Run models on unused early data\n",
        "PREMARSX"
       ]
      },
      {
       "output_type": "stream",
       "stream": "stdout",
       "text": [
        " ~ AGE on year 1988\n",
        "Run models on unused early data\n",
        "PREMARSX"
       ]
      },
      {
       "output_type": "stream",
       "stream": "stdout",
       "text": [
        " ~ AGE on year 1989\n",
        "Run models on unused early data\n",
        "PREMARSX"
       ]
      },
      {
       "output_type": "stream",
       "stream": "stdout",
       "text": [
        " ~ AGE on year 1990\n",
        "Run models on unused early data\n",
        "PREMARSX"
       ]
      },
      {
       "output_type": "stream",
       "stream": "stdout",
       "text": [
        " ~ AGE on year 1991\n",
        "Run models on unused early data\n",
        "PREMARSX"
       ]
      },
      {
       "output_type": "stream",
       "stream": "stdout",
       "text": [
        " ~ AGE on year 1993\n",
        "Run models on original data\n",
        "POLVIEWS"
       ]
      },
      {
       "output_type": "stream",
       "stream": "stdout",
       "text": [
        " ~ AGE on year 1994\n",
        "Run models on unused early data\n",
        "POLVIEWS"
       ]
      },
      {
       "output_type": "stream",
       "stream": "stdout",
       "text": [
        " ~ AGE on year 1988\n",
        "Run models on unused early data\n",
        "POLVIEWS"
       ]
      },
      {
       "output_type": "stream",
       "stream": "stdout",
       "text": [
        " ~ AGE on year 1989\n",
        "Run models on unused early data\n",
        "POLVIEWS"
       ]
      },
      {
       "output_type": "stream",
       "stream": "stdout",
       "text": [
        " ~ AGE on year 1990\n",
        "Run models on unused early data\n",
        "POLVIEWS"
       ]
      },
      {
       "output_type": "stream",
       "stream": "stdout",
       "text": [
        " ~ AGE on year 1991\n",
        "Run models on unused early data\n",
        "POLVIEWS"
       ]
      },
      {
       "output_type": "stream",
       "stream": "stdout",
       "text": [
        " ~ AGE on year 1993\n",
        "Run models on original data\n",
        "HELPSICK"
       ]
      },
      {
       "output_type": "stream",
       "stream": "stdout",
       "text": [
        " ~ AGE on year 1994\n",
        "Run models on unused early data\n",
        "HELPSICK"
       ]
      },
      {
       "output_type": "stream",
       "stream": "stdout",
       "text": [
        " ~ AGE on year 1988\n",
        "Run models on unused early data\n",
        "HELPSICK"
       ]
      },
      {
       "output_type": "stream",
       "stream": "stdout",
       "text": [
        " ~ AGE on year 1989\n",
        "Run models on unused early data\n",
        "HELPSICK"
       ]
      },
      {
       "output_type": "stream",
       "stream": "stdout",
       "text": [
        " ~ AGE on year 1990\n",
        "Run models on unused early data\n",
        "HELPSICK"
       ]
      },
      {
       "output_type": "stream",
       "stream": "stdout",
       "text": [
        " ~ AGE on year 1991\n",
        "Run models on unused early data\n",
        "HELPSICK"
       ]
      },
      {
       "output_type": "stream",
       "stream": "stdout",
       "text": [
        " ~ AGE on year 1993\n",
        "Run models on original data\n",
        "HELPPOOR"
       ]
      },
      {
       "output_type": "stream",
       "stream": "stdout",
       "text": [
        " ~ AGE on year 1994\n",
        "Run models on unused early data\n",
        "HELPPOOR"
       ]
      },
      {
       "output_type": "stream",
       "stream": "stdout",
       "text": [
        " ~ AGE on year 1988\n",
        "Run models on unused early data\n",
        "HELPPOOR"
       ]
      },
      {
       "output_type": "stream",
       "stream": "stdout",
       "text": [
        " ~ AGE on year 1989\n",
        "Run models on unused early data\n",
        "HELPPOOR"
       ]
      },
      {
       "output_type": "stream",
       "stream": "stdout",
       "text": [
        " ~ AGE on year 1990\n",
        "Run models on unused early data\n",
        "HELPPOOR"
       ]
      },
      {
       "output_type": "stream",
       "stream": "stdout",
       "text": [
        " ~ AGE on year 1991\n",
        "Run models on unused early data\n",
        "HELPPOOR"
       ]
      },
      {
       "output_type": "stream",
       "stream": "stdout",
       "text": [
        " ~ AGE on year 1993\n",
        "Run models on original data\n",
        "PORNLAW"
       ]
      },
      {
       "output_type": "stream",
       "stream": "stdout",
       "text": [
        " ~ AGE on year 1994\n",
        "Run models on unused early data\n",
        "PORNLAW"
       ]
      },
      {
       "output_type": "stream",
       "stream": "stdout",
       "text": [
        " ~ AGE on year 1988\n",
        "Run models on unused early data\n",
        "PORNLAW"
       ]
      },
      {
       "output_type": "stream",
       "stream": "stdout",
       "text": [
        " ~ AGE on year 1989\n",
        "Run models on unused early data\n",
        "PORNLAW"
       ]
      },
      {
       "output_type": "stream",
       "stream": "stdout",
       "text": [
        " ~ AGE on year 1990\n",
        "Run models on unused early data\n",
        "PORNLAW"
       ]
      },
      {
       "output_type": "stream",
       "stream": "stdout",
       "text": [
        " ~ AGE on year 1991\n",
        "Run models on unused early data\n",
        "PORNLAW"
       ]
      },
      {
       "output_type": "stream",
       "stream": "stdout",
       "text": [
        " ~ AGE on year 1993\n",
        "Run models on original data\n",
        "SEXEDUC"
       ]
      },
      {
       "output_type": "stream",
       "stream": "stdout",
       "text": [
        " ~ AGE on year 1994\n",
        "Run models on unused early data\n",
        "SEXEDUC"
       ]
      },
      {
       "output_type": "stream",
       "stream": "stdout",
       "text": [
        " ~ AGE on year 1988\n",
        "Run models on unused early data\n",
        "SEXEDUC"
       ]
      },
      {
       "output_type": "stream",
       "stream": "stdout",
       "text": [
        " ~ AGE on year 1989\n",
        "Run models on unused early data\n",
        "SEXEDUC"
       ]
      },
      {
       "output_type": "stream",
       "stream": "stdout",
       "text": [
        " ~ AGE on year 1990\n",
        "Run models on unused early data\n",
        "SEXEDUC"
       ]
      },
      {
       "output_type": "stream",
       "stream": "stdout",
       "text": [
        " ~ AGE on year 1991\n",
        "Run models on unused early data\n",
        "SEXEDUC"
       ]
      },
      {
       "output_type": "stream",
       "stream": "stdout",
       "text": [
        " ~ AGE on year 1993\n",
        "Run models on original data\n",
        "FEHOME"
       ]
      },
      {
       "output_type": "stream",
       "stream": "stdout",
       "text": [
        " ~ AGE on year 1994\n",
        "Run models on unused early data\n",
        "FEHOME"
       ]
      },
      {
       "output_type": "stream",
       "stream": "stdout",
       "text": [
        " ~ AGE on year 1988\n",
        "Run models on unused early data\n",
        "FEHOME"
       ]
      },
      {
       "output_type": "stream",
       "stream": "stdout",
       "text": [
        " ~ AGE on year 1989\n",
        "Run models on unused early data\n",
        "FEHOME"
       ]
      },
      {
       "output_type": "stream",
       "stream": "stdout",
       "text": [
        " ~ AGE on year 1990\n",
        "Run models on unused early data\n",
        "FEHOME"
       ]
      },
      {
       "output_type": "stream",
       "stream": "stdout",
       "text": [
        " ~ AGE on year 1991\n",
        "Run models on unused early data\n",
        "FEHOME"
       ]
      },
      {
       "output_type": "stream",
       "stream": "stdout",
       "text": [
        " ~ AGE on year 1993\n",
        "Run models on original data\n",
        "FEHELP"
       ]
      },
      {
       "output_type": "stream",
       "stream": "stdout",
       "text": [
        " ~ AGE on year 1994\n",
        "Run models on unused early data\n",
        "FEHELP"
       ]
      },
      {
       "output_type": "stream",
       "stream": "stdout",
       "text": [
        " ~ AGE on year 1988\n",
        "Run models on unused early data\n",
        "FEHELP"
       ]
      },
      {
       "output_type": "stream",
       "stream": "stdout",
       "text": [
        " ~ AGE on year 1989\n",
        "Run models on unused early data\n",
        "FEHELP"
       ]
      },
      {
       "output_type": "stream",
       "stream": "stdout",
       "text": [
        " ~ AGE on year 1990\n",
        "Run models on unused early data\n",
        "FEHELP"
       ]
      },
      {
       "output_type": "stream",
       "stream": "stdout",
       "text": [
        " ~ AGE on year 1991\n",
        "Run models on unused early data\n",
        "FEHELP"
       ]
      },
      {
       "output_type": "stream",
       "stream": "stdout",
       "text": [
        " ~ AGE on year 1993\n",
        "Run models on original data\n",
        "CONSCI"
       ]
      },
      {
       "output_type": "stream",
       "stream": "stdout",
       "text": [
        " ~ AGE on year 1994\n",
        "Run models on unused early data\n",
        "CONSCI"
       ]
      },
      {
       "output_type": "stream",
       "stream": "stdout",
       "text": [
        " ~ AGE on year 1988\n",
        "Run models on unused early data\n",
        "CONSCI"
       ]
      },
      {
       "output_type": "stream",
       "stream": "stdout",
       "text": [
        " ~ AGE on year 1989\n",
        "Run models on unused early data\n",
        "CONSCI"
       ]
      },
      {
       "output_type": "stream",
       "stream": "stdout",
       "text": [
        " ~ AGE on year 1990\n",
        "Run models on unused early data\n",
        "CONSCI"
       ]
      },
      {
       "output_type": "stream",
       "stream": "stdout",
       "text": [
        " ~ AGE on year 1991\n",
        "Run models on unused early data\n",
        "CONSCI"
       ]
      },
      {
       "output_type": "stream",
       "stream": "stdout",
       "text": [
        " ~ AGE on year 1993\n",
        "Run models on original data\n",
        "CONEDUC"
       ]
      },
      {
       "output_type": "stream",
       "stream": "stdout",
       "text": [
        " ~ AGE on year 1994\n",
        "Run models on unused early data\n",
        "CONEDUC"
       ]
      },
      {
       "output_type": "stream",
       "stream": "stdout",
       "text": [
        " ~ AGE on year 1988\n",
        "Run models on unused early data\n",
        "CONEDUC"
       ]
      },
      {
       "output_type": "stream",
       "stream": "stdout",
       "text": [
        " ~ AGE on year 1989\n",
        "Run models on unused early data\n",
        "CONEDUC"
       ]
      },
      {
       "output_type": "stream",
       "stream": "stdout",
       "text": [
        " ~ AGE on year 1990\n",
        "Run models on unused early data\n",
        "CONEDUC"
       ]
      },
      {
       "output_type": "stream",
       "stream": "stdout",
       "text": [
        " ~ AGE on year 1991\n",
        "Run models on unused early data\n",
        "CONEDUC"
       ]
      },
      {
       "output_type": "stream",
       "stream": "stdout",
       "text": [
        " ~ AGE on year 1993\n",
        "Run models on original data\n",
        "CONBUS"
       ]
      },
      {
       "output_type": "stream",
       "stream": "stdout",
       "text": [
        " ~ AGE on year 1994\n",
        "Run models on unused early data\n",
        "CONBUS"
       ]
      },
      {
       "output_type": "stream",
       "stream": "stdout",
       "text": [
        " ~ AGE on year 1988\n",
        "Run models on unused early data\n",
        "CONBUS"
       ]
      },
      {
       "output_type": "stream",
       "stream": "stdout",
       "text": [
        " ~ AGE on year 1989\n",
        "Run models on unused early data\n",
        "CONBUS"
       ]
      },
      {
       "output_type": "stream",
       "stream": "stdout",
       "text": [
        " ~ AGE on year 1990\n",
        "Run models on unused early data\n",
        "CONBUS"
       ]
      },
      {
       "output_type": "stream",
       "stream": "stdout",
       "text": [
        " ~ AGE on year 1991\n",
        "Run models on unused early data\n",
        "CONBUS"
       ]
      },
      {
       "output_type": "stream",
       "stream": "stdout",
       "text": [
        " ~ AGE on year 1993\n",
        "Processing article No. 2952\n",
        "Run models on original data\n",
        "Run models on original data\n",
        "Run models on original data\n",
        "Run models on unused early data\n",
        "Run models on unused early data\n",
        "Run models on unused early data\n",
        "Run models on unused early data\n",
        "Run models on original data"
       ]
      },
      {
       "output_type": "stream",
       "stream": "stdout",
       "text": [
        "\n",
        "Run models on original data\n",
        "Run models on original data\n",
        "Run models on unused early data\n",
        "Run models on unused early data\n",
        "Run models on unused early data\n",
        "Run models on unused early data\n",
        "Processing article No. 3164\n",
        "Run models on original data\n",
        "Run models on original data\n",
        "Run models on unused early data"
       ]
      },
      {
       "output_type": "stream",
       "stream": "stdout",
       "text": [
        "\n",
        "Run models on unused early data\n",
        "Run models on original data\n",
        "Run models on original data\n",
        "Run models on unused early data\n",
        "Run models on unused early data\n",
        "Run models on original data\n",
        "Run models on original data\n",
        "Run models on unused early data"
       ]
      },
      {
       "output_type": "stream",
       "stream": "stdout",
       "text": [
        "\n",
        "Run models on unused early data\n",
        "Run models on original data\n",
        "Run models on original data\n",
        "Run models on unused early data\n",
        "Run models on unused early data\n",
        "Run models on original data\n",
        "Run models on original data\n",
        "Run models on unused early data"
       ]
      },
      {
       "output_type": "stream",
       "stream": "stdout",
       "text": [
        "\n",
        "Run models on unused early data\n",
        "Run models on original data\n",
        "Run models on original data\n",
        "Run models on unused early data\n",
        "Run models on unused early data\n",
        "Processing article No. 3231\n",
        "Run models on original data\n",
        "Run models on original data\n",
        "Run models on unused early data"
       ]
      },
      {
       "output_type": "stream",
       "stream": "stdout",
       "text": [
        "\n",
        "Run models on unused early data\n",
        "Run models on unused early data\n",
        "Run models on unused early data\n",
        "Run models on unused early data\n",
        "Run models on unused early data\n",
        "Processing article No. 3287\n",
        "Run models on original data\n",
        "Run models on original data\n",
        "Run models on original data\n",
        "Run models on original data"
       ]
      },
      {
       "output_type": "stream",
       "stream": "stdout",
       "text": [
        "\n",
        "Run models on original data\n",
        "Run models on unused early data\n",
        "Run models on unused early data\n",
        "Run models on unused early data\n",
        "Run models on original data\n",
        "Run models on original data\n",
        "Run models on original data"
       ]
      },
      {
       "output_type": "stream",
       "stream": "stdout",
       "text": [
        "\n",
        "Run models on original data\n",
        "Run models on original data\n",
        "Run models on unused early data\n",
        "Run models on unused early data\n",
        "Run models on unused early data\n",
        "Run models on original data\n",
        "Run models on original data"
       ]
      },
      {
       "output_type": "stream",
       "stream": "stdout",
       "text": [
        "\n",
        "Run models on original data\n",
        "Run models on original data\n",
        "Run models on original data\n",
        "Run models on unused early data\n",
        "Run models on unused early data\n",
        "Run models on unused early data\n",
        "Run models on original data"
       ]
      },
      {
       "output_type": "stream",
       "stream": "stdout",
       "text": [
        "\n",
        "Run models on original data\n",
        "Run models on original data\n",
        "Run models on original data\n",
        "Run models on original data\n",
        "Run models on unused early data\n",
        "Run models on unused early data\n",
        "Run models on unused early data"
       ]
      },
      {
       "output_type": "stream",
       "stream": "stdout",
       "text": [
        "\n",
        "Run models on original data\n",
        "Run models on original data\n",
        "Run models on original data\n",
        "Run models on original data\n",
        "Run models on original data\n",
        "Run models on unused early data\n",
        "Run models on unused early data\n",
        "Run models on unused early data"
       ]
      },
      {
       "output_type": "stream",
       "stream": "stdout",
       "text": [
        "\n",
        "Run models on original data\n",
        "Run models on original data\n",
        "Run models on original data\n",
        "Run models on original data\n",
        "Run models on original data\n",
        "Run models on unused early data\n",
        "Run models on unused early data"
       ]
      },
      {
       "output_type": "stream",
       "stream": "stdout",
       "text": [
        "\n",
        "Run models on unused early data\n",
        "Processing article No. 3350\n",
        "Run models on original data\n",
        "Run models on unused early data\n",
        "Run models on unused early data\n",
        "Run models on unused early data\n",
        "Run models on unused early data\n",
        "Run models on unused early data\n",
        "Run models on unused early data\n",
        "Run models on unused early data\n",
        "Run models on unused early data\n",
        "Run models on unused early data\n",
        "Run models on original data"
       ]
      },
      {
       "output_type": "stream",
       "stream": "stdout",
       "text": [
        "\n",
        "Run models on unused early data\n",
        "Run models on unused early data\n",
        "Run models on unused early data\n",
        "Run models on unused early data\n",
        "Run models on unused early data\n",
        "Run models on unused early data\n",
        "Run models on unused early data\n",
        "Run models on unused early data\n",
        "Run models on unused early data\n",
        "Run models on original data\n",
        "Run models on unused early data\n",
        "Run models on unused early data"
       ]
      },
      {
       "output_type": "stream",
       "stream": "stdout",
       "text": [
        "\n",
        "Run models on unused early data\n",
        "Run models on unused early data\n",
        "Run models on unused early data\n",
        "Run models on unused early data\n",
        "Run models on unused early data\n",
        "Run models on unused early data\n",
        "Run models on unused early data\n",
        "Run models on original data\n",
        "Run models on unused early data\n",
        "Run models on unused early data\n",
        "Run models on unused early data\n",
        "Run models on unused early data"
       ]
      },
      {
       "output_type": "stream",
       "stream": "stdout",
       "text": [
        "\n",
        "Run models on unused early data\n",
        "Run models on unused early data\n",
        "Run models on unused early data"
       ]
      },
      {
       "output_type": "stream",
       "stream": "stdout",
       "text": [
        "\n",
        "Run models on unused early data\n",
        "Run models on unused early data\n",
        "Run models on original data\n",
        "Run models on unused early data\n",
        "Run models on unused early data"
       ]
      },
      {
       "output_type": "stream",
       "stream": "stdout",
       "text": [
        "\n",
        "Run models on unused early data\n",
        "Run models on unused early data\n",
        "Run models on unused early data\n",
        "Run models on unused early data"
       ]
      },
      {
       "output_type": "stream",
       "stream": "stdout",
       "text": [
        "\n",
        "Run models on unused early data\n",
        "Run models on unused early data\n",
        "Run models on unused early data\n",
        "Run models on original data\n",
        "Run models on unused early data\n",
        "Run models on unused early data\n",
        "Run models on unused early data\n",
        "Run models on unused early data\n",
        "Run models on unused early data"
       ]
      },
      {
       "output_type": "stream",
       "stream": "stdout",
       "text": [
        "\n",
        "Run models on unused early data\n",
        "Run models on unused early data\n",
        "Run models on unused early data\n",
        "Run models on unused early data\n",
        "Processing article No."
       ]
      },
      {
       "output_type": "stream",
       "stream": "stdout",
       "text": [
        " 3573\n",
        "Run models on original data\n",
        "Dropping column RELIG because it is constant\n",
        "Dropping column DENOM because it is constant\n",
        "Run models on unused early data\n",
        "Dropping column RELIG because it is constant\n",
        "Dropping column DENOM because it is constant\n",
        "Run models on unused early data\n",
        "Dropping column RELIG because it is constant\n",
        "Dropping column"
       ]
      },
      {
       "output_type": "stream",
       "stream": "stdout",
       "text": [
        " DENOM because it is constant\n",
        "Run models on unused early data\n",
        "Dropping column RELIG because it is constant\n",
        "Dropping column DENOM because it is constant\n",
        "Run models on original data\n",
        "Dropping column RELIG because it is constant\n",
        "Dropping column DENOM because it is constant\n",
        "Run models on unused early data\n",
        "Dropping column RELIG because it is constant\n",
        "Dropping column DENOM because it is constant\n",
        "Run models on unused early data\n",
        "Dropping column RELIG because it is constant\n",
        "Dropping column DENOM because it is constant\n",
        "Run models on unused early data\n",
        "Dropping column RELIG because it is constant\n",
        "Dropping column DENOM because it is constant\n",
        "Run models on original data\n",
        "Dropping column RELIG because it is constant\n",
        "Dropping column DENOM because it is constant\n",
        "Run models on unused early data\n",
        "Dropping column RELIG because it is constant\n",
        "Dropping column DENOM because it is constant\n",
        "Run models on unused early data\n",
        "Dropping column"
       ]
      },
      {
       "output_type": "stream",
       "stream": "stdout",
       "text": [
        " RELIG because it is constant\n",
        "Dropping column DENOM because it is constant\n",
        "Run models on unused early data\n",
        "Dropping column RELIG because it is constant\n",
        "Dropping column DENOM because it is constant\n",
        "Run models on original data\n",
        "Dropping column RELIG because it is constant\n",
        "Dropping column DENOM because it is constant\n",
        "Run models on unused early data\n",
        "Dropping column"
       ]
      },
      {
       "output_type": "stream",
       "stream": "stdout",
       "text": [
        " RELIG because it is constant\n",
        "Dropping column DENOM because it is constant\n",
        "Run models on unused early data\n",
        "Dropping column RELIG because it is constant\n",
        "Dropping column DENOM because it is constant\n",
        "Run models on unused early data\n",
        "Dropping column RELIG because it is constant\n",
        "Dropping column DENOM because it is constant\n",
        "Run models on original data\n",
        "Dropping column"
       ]
      },
      {
       "output_type": "stream",
       "stream": "stdout",
       "text": [
        " RELIG because it is constant\n",
        "Dropping column DENOM because it is constant\n",
        "Run models on unused early data\n",
        "Dropping column RELIG because it is constant\n",
        "Dropping column DENOM because it is constant\n",
        "Run models on unused early data\n",
        "Dropping column RELIG because it is constant\n",
        "Dropping column DENOM because it is constant\n",
        "Run models on unused early data\n",
        "Dropping column RELIG because it is constant\n",
        "Dropping column DENOM because it is constant\n",
        "Processing article No. 3594\n",
        "Run models on original data\n",
        "SATCITY"
       ]
      },
      {
       "output_type": "stream",
       "stream": "stdout",
       "text": [
        " ~ SIZE on year 1974\n",
        "Run models on unused early data\n",
        "SATCITY"
       ]
      },
      {
       "output_type": "stream",
       "stream": "stdout",
       "text": [
        " ~ SIZE on year 1973\n",
        "Processing article No. 3729\n",
        "Run models on original data\n",
        "Run models on unused early data"
       ]
      },
      {
       "output_type": "stream",
       "stream": "stdout",
       "text": [
        "\n",
        "Run models on unused early data\n",
        "Run models on unused early data\n",
        "Run models on original data"
       ]
      },
      {
       "output_type": "stream",
       "stream": "stdout",
       "text": [
        "\n",
        "Run models on unused early data\n",
        "Run models on unused early data\n",
        "Run models on unused early data"
       ]
      },
      {
       "output_type": "stream",
       "stream": "stdout",
       "text": [
        "\n",
        "Run models on original data\n",
        "Run models on unused early data\n",
        "Run models on unused early data"
       ]
      },
      {
       "output_type": "stream",
       "stream": "stdout",
       "text": [
        "\n",
        "Run models on unused early data\n",
        "Run models on original data\n",
        "Run models on unused early data\n",
        "Run models on unused early data\n",
        "Run models on unused early data\n",
        "Processing article No."
       ]
      },
      {
       "output_type": "stream",
       "stream": "stdout",
       "text": [
        " 3746\n",
        "Run models on original data\n",
        "Run models on unused early data\n",
        "Run models on original data\n",
        "Run models on unused early data\n",
        "Run models on original data\n",
        "Run models on unused early data\n",
        "Run models on original data\n",
        "Run models on unused early data\n",
        "Run models on original data\n",
        "Run models on unused early data"
       ]
      },
      {
       "output_type": "stream",
       "stream": "stdout",
       "text": [
        "\n",
        "Run models on original data\n",
        "Run models on unused early data\n",
        "Run models on original data\n",
        "Run models on unused early data\n",
        "Run models on original data\n",
        "Run models on unused early data\n",
        "Run models on original data\n",
        "Run models on unused early data\n",
        "Processing article No. 3758\n",
        "Run models on original data\n",
        "Dropping column RELIG because it is constant\n",
        "Dropping column"
       ]
      },
      {
       "output_type": "stream",
       "stream": "stdout",
       "text": [
        " DENOM because it is constant\n",
        "Run models on unused early data\n",
        "Dropping column RELIG because it is constant\n",
        "Dropping column DENOM because it is constant\n",
        "Run models on unused early data\n",
        "Dropping column RELIG because it is constant\n",
        "Dropping column DENOM because it is constant\n",
        "Run models on unused early data\n",
        "Dropping column RELIG because it is constant\n",
        "Dropping column DENOM because it is constant\n",
        "Run models on original data\n",
        "Dropping column RELIG because it is constant\n",
        "Dropping column DENOM because it is constant\n",
        "Run models on unused early data\n",
        "Dropping column RELIG because it is constant\n",
        "Dropping column DENOM because it is constant\n",
        "Run models on unused early data\n",
        "Dropping column RELIG because it is constant\n",
        "Dropping column DENOM because it is constant\n",
        "Run models on unused early data\n",
        "Dropping column RELIG because it is constant\n",
        "Dropping column DENOM because it is constant\n",
        "Run models on original data\n",
        "Dropping column RELIG because it is constant\n",
        "Dropping column"
       ]
      },
      {
       "output_type": "stream",
       "stream": "stdout",
       "text": [
        " DENOM because it is constant\n",
        "Run models on unused early data\n",
        "Dropping column RELIG because it is constant\n",
        "Dropping column DENOM because it is constant\n",
        "Run models on unused early data\n",
        "Dropping column RELIG because it is constant\n",
        "Dropping column DENOM because it is constant\n",
        "Run models on unused early data\n",
        "Dropping column RELIG because it is constant\n",
        "Dropping column DENOM because it is constant\n",
        "Run models on original data\n",
        "Dropping column RELIG because it is constant\n",
        "Dropping column DENOM because it is constant\n",
        "Run models on unused early data\n",
        "Dropping column RELIG because it is constant\n",
        "Dropping column DENOM because it is constant\n",
        "Run models on unused early data\n",
        "Dropping column RELIG because it is constant\n",
        "Dropping column DENOM because it is constant\n",
        "Run models on unused early data\n",
        "Dropping column RELIG because it is constant\n",
        "Dropping column DENOM because it is constant\n",
        "Run models on original data\n",
        "Dropping column RELIG because it is constant\n",
        "Dropping column DENOM because it is constant\n",
        "Run models on unused early data"
       ]
      },
      {
       "output_type": "stream",
       "stream": "stdout",
       "text": [
        "\n",
        "Dropping column RELIG because it is constant\n",
        "Dropping column DENOM because it is constant\n",
        "Run models on unused early data\n",
        "Dropping column RELIG because it is constant\n",
        "Dropping column DENOM because it is constant\n",
        "Run models on unused early data\n",
        "Dropping column RELIG because it is constant\n",
        "Dropping column DENOM because it is constant\n",
        "Run models on original data\n",
        "Dropping column RELIG because it is constant\n",
        "Dropping column DENOM because it is constant\n",
        "Run models on unused early data\n",
        "Dropping column RELIG because it is constant\n",
        "Dropping column DENOM because it is constant\n",
        "Run models on unused early data\n",
        "Dropping column RELIG because it is constant\n",
        "Dropping column DENOM because it is constant\n",
        "Run models on unused early data\n",
        "Dropping column RELIG because it is constant\n",
        "Dropping column DENOM because it is constant\n",
        "Run models on original data\n",
        "Dropping column RELIG because it is constant\n",
        "Dropping column DENOM because it is constant\n",
        "Run models on unused early data\n",
        "Dropping column"
       ]
      },
      {
       "output_type": "stream",
       "stream": "stdout",
       "text": [
        " RELIG because it is constant\n",
        "Dropping column DENOM because it is constant\n",
        "Run models on unused early data\n",
        "Dropping column RELIG because it is constant\n",
        "Dropping column DENOM because it is constant\n",
        "Run models on unused early data\n",
        "Dropping column RELIG because it is constant\n",
        "Dropping column DENOM because it is constant\n",
        "Run models on original data\n",
        "Dropping column RELIG because it is constant\n",
        "Dropping column DENOM because it is constant\n",
        "Run models on unused early data\n",
        "Dropping column RELIG because it is constant\n",
        "Dropping column DENOM because it is constant\n",
        "Run models on unused early data\n",
        "Dropping column RELIG because it is constant\n",
        "Dropping column DENOM because it is constant\n",
        "Run models on unused early data\n",
        "Dropping column RELIG because it is constant\n",
        "Dropping column DENOM because it is constant\n",
        "Run models on original data\n",
        "Dropping column RELIG because it is constant\n",
        "Dropping column DENOM because it is constant\n",
        "Run models on unused early data\n",
        "Dropping column RELIG because it is constant\n",
        "Dropping column"
       ]
      },
      {
       "output_type": "stream",
       "stream": "stdout",
       "text": [
        " DENOM because it is constant\n",
        "Run models on unused early data\n",
        "Dropping column RELIG because it is constant\n",
        "Dropping column DENOM because it is constant\n",
        "Run models on unused early data\n",
        "Dropping column RELIG because it is constant\n",
        "Dropping column DENOM because it is constant\n",
        "Run models on original data\n",
        "Dropping column RELIG because it is constant\n",
        "Dropping column DENOM because it is constant\n",
        "Run models on unused early data\n",
        "Dropping column RELIG because it is constant\n",
        "Dropping column DENOM because it is constant\n",
        "Run models on unused early data\n",
        "Dropping column RELIG because it is constant\n",
        "Dropping column DENOM because it is constant\n",
        "Run models on unused early data\n",
        "Dropping column RELIG because it is constant\n",
        "Dropping column DENOM because it is constant\n",
        "Run models on original data\n",
        "Dropping column RELIG because it is constant\n",
        "Dropping column DENOM because it is constant\n",
        "Run models on unused early data\n",
        "Dropping column RELIG because it is constant\n",
        "Dropping column DENOM because it is constant\n",
        "Run models on unused early data"
       ]
      },
      {
       "output_type": "stream",
       "stream": "stdout",
       "text": [
        "\n",
        "Dropping column RELIG because it is constant\n",
        "Dropping column DENOM because it is constant\n",
        "Run models on unused early data\n",
        "Dropping column RELIG because it is constant\n",
        "Dropping column DENOM because it is constant\n",
        "Run models on original data\n",
        "Dropping column RELIG because it is constant\n",
        "Dropping column DENOM because it is constant\n",
        "Run models on unused early data\n",
        "Dropping column RELIG because it is constant\n",
        "Dropping column DENOM because it is constant\n",
        "Run models on unused early data\n",
        "Dropping column RELIG because it is constant\n",
        "Dropping column DENOM because it is constant\n",
        "Run models on unused early data\n",
        "Dropping column RELIG because it is constant\n",
        "Dropping column DENOM because it is constant\n",
        "Run models on original data\n",
        "Dropping column RELIG because it is constant\n",
        "Dropping column DENOM because it is constant\n",
        "Run models on unused early data\n",
        "Dropping column RELIG because it is constant\n",
        "Dropping column DENOM because it is constant\n",
        "Run models on unused early data\n",
        "Dropping column"
       ]
      },
      {
       "output_type": "stream",
       "stream": "stdout",
       "text": [
        " RELIG because it is constant\n",
        "Dropping column DENOM because it is constant\n",
        "Run models on unused early data\n",
        "Dropping column RELIG because it is constant\n",
        "Dropping column DENOM because it is constant\n",
        "Run models on original data\n",
        "Dropping column RELIG because it is constant\n",
        "Dropping column DENOM because it is constant\n",
        "Run models on unused early data\n",
        "Dropping column RELIG because it is constant\n",
        "Dropping column DENOM because it is constant\n",
        "Run models on unused early data\n",
        "Dropping column RELIG because it is constant\n",
        "Dropping column DENOM because it is constant\n",
        "Run models on unused early data\n",
        "Dropping column RELIG because it is constant\n",
        "Dropping column DENOM because it is constant\n",
        "Run models on original data\n",
        "Dropping column RELIG because it is constant\n",
        "Dropping column DENOM because it is constant\n",
        "Run models on unused early data\n",
        "Dropping column RELIG because it is constant\n",
        "Dropping column DENOM because it is constant\n",
        "Run models on unused early data\n",
        "Dropping column"
       ]
      },
      {
       "output_type": "stream",
       "stream": "stdout",
       "text": [
        " RELIG because it is constant\n",
        "Dropping column DENOM because it is constant\n",
        "Run models on unused early data\n",
        "Dropping column RELIG because it is constant\n",
        "Dropping column DENOM because it is constant\n",
        "Run models on original data\n",
        "Dropping column RELIG because it is constant\n",
        "Dropping column DENOM because it is constant\n",
        "Run models on unused early data\n",
        "Dropping column RELIG because it is constant\n",
        "Dropping column DENOM because it is constant\n",
        "Run models on unused early data\n",
        "Dropping column RELIG because it is constant\n",
        "Dropping column DENOM because it is constant\n",
        "Run models on unused early data\n",
        "Dropping column RELIG because it is constant\n",
        "Dropping column DENOM because it is constant\n",
        "Run models on original data\n",
        "Dropping column RELIG because it is constant\n",
        "Dropping column DENOM because it is constant\n",
        "Run models on unused early data\n",
        "Dropping column RELIG because it is constant\n",
        "Dropping column DENOM because it is constant\n",
        "Run models on unused early data\n",
        "Dropping column RELIG because it is constant\n",
        "Dropping column DENOM because it is constant\n",
        "Run models on unused early data\n",
        "Dropping column"
       ]
      },
      {
       "output_type": "stream",
       "stream": "stdout",
       "text": [
        " RELIG because it is constant\n",
        "Dropping column DENOM because it is constant\n",
        "Run models on original data\n",
        "Dropping column RELIG because it is constant\n",
        "Dropping column DENOM because it is constant\n",
        "Run models on unused early data\n",
        "Dropping column RELIG because it is constant\n",
        "Dropping column DENOM because it is constant\n",
        "Run models on unused early data\n",
        "Dropping column RELIG because it is constant\n",
        "Dropping column DENOM because it is constant\n",
        "Run models on unused early data\n",
        "Dropping column RELIG because it is constant\n",
        "Dropping column DENOM because it is constant\n",
        "Run models on original data\n",
        "Dropping column RELIG because it is constant\n",
        "Dropping column DENOM because it is constant\n",
        "Run models on unused early data\n",
        "Dropping column RELIG because it is constant\n",
        "Dropping column DENOM because it is constant\n",
        "Run models on unused early data\n",
        "Dropping column RELIG because it is constant\n",
        "Dropping column DENOM because it is constant\n",
        "Run models on unused early data\n",
        "Dropping column RELIG because it is constant\n",
        "Dropping column DENOM because it is constant\n",
        "Run models on original data\n",
        "Dropping column"
       ]
      },
      {
       "output_type": "stream",
       "stream": "stdout",
       "text": [
        " RELIG because it is constant\n",
        "Dropping column DENOM because it is constant\n",
        "Run models on unused early data\n",
        "Dropping column RELIG because it is constant\n",
        "Dropping column DENOM because it is constant\n",
        "Run models on unused early data\n",
        "Dropping column RELIG because it is constant\n",
        "Dropping column DENOM because it is constant\n",
        "Run models on unused early data\n",
        "Dropping column RELIG because it is constant\n",
        "Dropping column DENOM because it is constant\n",
        "Run models on original data\n",
        "Dropping column RELIG because it is constant\n",
        "Dropping column DENOM because it is constant\n",
        "Run models on unused early data\n",
        "Dropping column RELIG because it is constant\n",
        "Dropping column DENOM because it is constant\n",
        "Run models on unused early data\n",
        "Dropping column RELIG because it is constant\n",
        "Dropping column DENOM because it is constant\n",
        "Run models on unused early data\n",
        "Dropping column RELIG because it is constant\n",
        "Dropping column DENOM because it is constant\n",
        "Run models on original data\n",
        "Dropping column RELIG because it is constant\n",
        "Dropping column DENOM because it is constant\n",
        "Run models on unused early data"
       ]
      },
      {
       "output_type": "stream",
       "stream": "stdout",
       "text": [
        "\n",
        "Dropping column RELIG because it is constant\n",
        "Dropping column DENOM because it is constant\n",
        "Run models on unused early data\n",
        "Dropping column RELIG because it is constant\n",
        "Dropping column DENOM because it is constant\n",
        "Run models on unused early data\n",
        "Dropping column RELIG because it is constant\n",
        "Dropping column DENOM because it is constant\n",
        "Run models on original data\n",
        "Dropping column RELIG because it is constant\n",
        "Dropping column DENOM because it is constant\n",
        "Run models on unused early data\n",
        "Dropping column RELIG because it is constant\n",
        "Dropping column DENOM because it is constant\n",
        "Run models on unused early data\n",
        "Dropping column RELIG because it is constant\n",
        "Dropping column DENOM because it is constant\n",
        "Run models on unused early data\n",
        "Dropping column RELIG because it is constant\n",
        "Dropping column DENOM because it is constant\n",
        "Run models on original data\n",
        "Dropping column RELIG because it is constant\n",
        "Dropping column DENOM because it is constant\n",
        "Run models on unused early data\n",
        "Dropping column RELIG because it is constant\n",
        "Dropping column"
       ]
      },
      {
       "output_type": "stream",
       "stream": "stdout",
       "text": [
        " DENOM because it is constant\n",
        "Run models on unused early data\n",
        "Dropping column RELIG because it is constant\n",
        "Dropping column DENOM because it is constant\n",
        "Run models on unused early data\n",
        "Dropping column RELIG because it is constant\n",
        "Dropping column DENOM because it is constant\n",
        "Processing article No. 3793\n",
        "Run models on original data\n",
        "Run models on original data\n",
        "Run models on original data\n",
        "Run models on original data\n",
        "Run models on original data\n",
        "Run models on original data"
       ]
      },
      {
       "output_type": "stream",
       "stream": "stdout",
       "text": [
        "\n",
        "Run models on original data\n",
        "Run models on original data\n",
        "Run models on original data\n",
        "Run models on original data\n",
        "Run models on unused early data\n",
        "Run models on unused early data\n",
        "Processing article No."
       ]
      },
      {
       "output_type": "stream",
       "stream": "stdout",
       "text": [
        " 3846\n",
        "Run models on original data\n",
        "Run models on unused early data\n",
        "Processing article No. 4112\n",
        "Run models on original data\n",
        "CONEDUC"
       ]
      },
      {
       "output_type": "stream",
       "stream": "stdout",
       "text": [
        " ~ INCOME + EDUC on year 1977\n",
        "Run models on unused early data\n",
        "CONEDUC"
       ]
      },
      {
       "output_type": "stream",
       "stream": "stdout",
       "text": [
        " ~ INCOME + EDUC on year 1973\n",
        "Run models on unused early data\n",
        "CONEDUC"
       ]
      },
      {
       "output_type": "stream",
       "stream": "stdout",
       "text": [
        " ~ INCOME + EDUC on year 1974\n",
        "Run models on unused early data\n",
        "CONEDUC"
       ]
      },
      {
       "output_type": "stream",
       "stream": "stdout",
       "text": [
        " ~ INCOME + EDUC on year 1975\n",
        "Run models on unused early data\n",
        "CONEDUC"
       ]
      },
      {
       "output_type": "stream",
       "stream": "stdout",
       "text": [
        " ~ INCOME + EDUC on year 1976\n",
        "Processing article No. 4291\n",
        "Run models on original data\n",
        "PARTYID"
       ]
      },
      {
       "output_type": "stream",
       "stream": "stdout",
       "text": [
        " ~ AGE on year 1983\n",
        "Run models on original data\n",
        "PARTYID"
       ]
      },
      {
       "output_type": "stream",
       "stream": "stdout",
       "text": [
        " ~ AGE on year 1984\n",
        "Run models on unused early data\n",
        "PARTYID"
       ]
      },
      {
       "output_type": "stream",
       "stream": "stdout",
       "text": [
        " ~ AGE on year 1972\n",
        "Run models on unused early data\n",
        "PARTYID"
       ]
      },
      {
       "output_type": "stream",
       "stream": "stdout",
       "text": [
        " ~ AGE on year 1973\n",
        "Run models on unused early data\n",
        "PARTYID"
       ]
      },
      {
       "output_type": "stream",
       "stream": "stdout",
       "text": [
        " ~ AGE on year 1974\n",
        "Run models on unused early data\n",
        "PARTYID"
       ]
      },
      {
       "output_type": "stream",
       "stream": "stdout",
       "text": [
        " ~ AGE on year 1975\n",
        "Run models on unused early data\n",
        "PARTYID"
       ]
      },
      {
       "output_type": "stream",
       "stream": "stdout",
       "text": [
        " ~ AGE on year 1976\n",
        "Run models on unused early data\n",
        "PARTYID"
       ]
      },
      {
       "output_type": "stream",
       "stream": "stdout",
       "text": [
        " ~ AGE on year 1977\n",
        "Run models on unused early data\n",
        "PARTYID"
       ]
      },
      {
       "output_type": "stream",
       "stream": "stdout",
       "text": [
        " ~ AGE on year 1978\n",
        "Run models on unused early data\n",
        "PARTYID"
       ]
      },
      {
       "output_type": "stream",
       "stream": "stdout",
       "text": [
        " ~ AGE on year 1980\n",
        "Run models on unused early data\n",
        "PARTYID"
       ]
      },
      {
       "output_type": "stream",
       "stream": "stdout",
       "text": [
        " ~ AGE on year 1982\n",
        "Processing article No. 4297\n",
        "Run models on original data\n",
        "Run models on original data\n",
        "Run models on original data\n",
        "Run models on original data\n",
        "Run models on original data\n",
        "Run models on original data\n",
        "Run models on original data\n",
        "Run models on original data"
       ]
      },
      {
       "output_type": "stream",
       "stream": "stdout",
       "text": [
        "\n",
        "Run models on unused early data\n",
        "Processing article No. 4302\n",
        "Run models on original data\n",
        "POLVIEWS"
       ]
      },
      {
       "output_type": "stream",
       "stream": "stdout",
       "text": [
        " ~ EDUC on year 1975\n",
        "Run models on unused early data\n",
        "POLVIEWS"
       ]
      },
      {
       "output_type": "stream",
       "stream": "stdout",
       "text": [
        " ~ EDUC on year 1974\n",
        "Processing article No. 4310\n",
        "Run models on original data\n",
        "PARTYID"
       ]
      },
      {
       "output_type": "stream",
       "stream": "stdout",
       "text": [
        " ~ AGE on year 1983\n",
        "Run models on original data\n",
        "PARTYID"
       ]
      },
      {
       "output_type": "stream",
       "stream": "stdout",
       "text": [
        " ~ AGE on year 1984\n",
        "Run models on unused early data\n",
        "PARTYID"
       ]
      },
      {
       "output_type": "stream",
       "stream": "stdout",
       "text": [
        " ~ AGE on year 1972\n",
        "Run models on unused early data\n",
        "PARTYID"
       ]
      },
      {
       "output_type": "stream",
       "stream": "stdout",
       "text": [
        " ~ AGE on year 1973\n",
        "Run models on unused early data\n",
        "PARTYID"
       ]
      },
      {
       "output_type": "stream",
       "stream": "stdout",
       "text": [
        " ~ AGE on year 1974\n",
        "Run models on unused early data\n",
        "PARTYID"
       ]
      },
      {
       "output_type": "stream",
       "stream": "stdout",
       "text": [
        " ~ AGE on year 1975\n",
        "Run models on unused early data\n",
        "PARTYID"
       ]
      },
      {
       "output_type": "stream",
       "stream": "stdout",
       "text": [
        " ~ AGE on year 1976\n",
        "Run models on unused early data\n",
        "PARTYID"
       ]
      },
      {
       "output_type": "stream",
       "stream": "stdout",
       "text": [
        " ~ AGE on year 1977\n",
        "Run models on unused early data\n",
        "PARTYID"
       ]
      },
      {
       "output_type": "stream",
       "stream": "stdout",
       "text": [
        " ~ AGE on year 1978\n",
        "Run models on unused early data\n",
        "PARTYID"
       ]
      },
      {
       "output_type": "stream",
       "stream": "stdout",
       "text": [
        " ~ AGE on year 1980\n",
        "Run models on unused early data\n",
        "PARTYID"
       ]
      },
      {
       "output_type": "stream",
       "stream": "stdout",
       "text": [
        " ~ AGE on year 1982\n",
        "Processing article No. 4363\n",
        "Run models on original data\n",
        "Run models on original data\n",
        "Run models on unused early data\n",
        "Run models on unused early data\n",
        "Run models on original data\n",
        "Run models on original data\n",
        "Run models on unused early data\n",
        "Run models on unused early data\n",
        "Run models on original data"
       ]
      },
      {
       "output_type": "stream",
       "stream": "stdout",
       "text": [
        "\n",
        "Run models on original data\n",
        "Run models on unused early data\n",
        "Run models on unused early data\n",
        "Run models on original data\n",
        "Run models on original data\n",
        "Run models on unused early data\n",
        "Run models on unused early data\n",
        "Run models on original data\n",
        "Run models on original data\n",
        "Run models on unused early data\n",
        "Run models on unused early data\n",
        "Run models on original data\n",
        "Run models on original data"
       ]
      },
      {
       "output_type": "stream",
       "stream": "stdout",
       "text": [
        "\n",
        "Run models on unused early data\n",
        "Run models on unused early data\n",
        "Run models on original data\n",
        "Run models on original data\n",
        "Run models on unused early data\n",
        "Run models on unused early data\n",
        "Processing article No. 4376\n",
        "Run models on original data\n",
        "NATHEAL"
       ]
      },
      {
       "output_type": "stream",
       "stream": "stdout",
       "text": [
        " ~ SEX + TAX + AGE on year 1982\n",
        "Run models on original data\n",
        "NATHEAL"
       ]
      },
      {
       "output_type": "stream",
       "stream": "stdout",
       "text": [
        " ~ SEX + TAX + AGE on year 1990\n",
        "Run models on original data\n",
        "NATHEAL"
       ]
      },
      {
       "output_type": "stream",
       "stream": "stdout",
       "text": [
        " ~ SEX + TAX + AGE on year 1994\n",
        "Run models on unused early data\n",
        "NATHEAL"
       ]
      },
      {
       "output_type": "stream",
       "stream": "stdout",
       "text": [
        " ~ SEX + TAX + AGE on year 1976\n",
        "Run models on unused early data\n",
        "NATHEAL"
       ]
      },
      {
       "output_type": "stream",
       "stream": "stdout",
       "text": [
        " ~ SEX + TAX + AGE on year 1977\n",
        "Run models on unused early data\n",
        "NATHEAL"
       ]
      },
      {
       "output_type": "stream",
       "stream": "stdout",
       "text": [
        " ~ SEX + TAX + AGE on year 1980\n",
        "Run models on unused early data\n",
        "NATHEAL"
       ]
      },
      {
       "output_type": "stream",
       "stream": "stdout",
       "text": [
        " ~ SEX + TAX + AGE on year 1984\n",
        "Run models on unused early data\n",
        "NATHEAL"
       ]
      },
      {
       "output_type": "stream",
       "stream": "stdout",
       "text": [
        " ~ SEX + TAX + AGE on year 1985\n",
        "Run models on unused early data\n",
        "NATHEAL"
       ]
      },
      {
       "output_type": "stream",
       "stream": "stdout",
       "text": [
        " ~ SEX + TAX + AGE on year 1987\n",
        "Run models on unused early data\n",
        "NATHEAL"
       ]
      },
      {
       "output_type": "stream",
       "stream": "stdout",
       "text": [
        " ~ SEX + TAX + AGE on year 1988\n",
        "Run models on unused early data\n",
        "NATHEAL"
       ]
      },
      {
       "output_type": "stream",
       "stream": "stdout",
       "text": [
        " ~ SEX + TAX + AGE on year 1989\n",
        "Run models on unused early data\n",
        "NATHEAL"
       ]
      },
      {
       "output_type": "stream",
       "stream": "stdout",
       "text": [
        " ~ SEX + TAX + AGE on year 1991\n",
        "Run models on unused early data\n",
        "NATHEAL"
       ]
      },
      {
       "output_type": "stream",
       "stream": "stdout",
       "text": [
        " ~ SEX + TAX + AGE on year 1993\n",
        "Run models on original data\n",
        "NATEDUC"
       ]
      },
      {
       "output_type": "stream",
       "stream": "stdout",
       "text": [
        " ~ SEX + TAX + AGE on year 1982\n",
        "Run models on original data\n",
        "NATEDUC"
       ]
      },
      {
       "output_type": "stream",
       "stream": "stdout",
       "text": [
        " ~ SEX + TAX + AGE on year 1990\n",
        "Run models on original data\n",
        "NATEDUC"
       ]
      },
      {
       "output_type": "stream",
       "stream": "stdout",
       "text": [
        " ~ SEX + TAX + AGE on year 1994\n",
        "Run models on unused early data\n",
        "NATEDUC"
       ]
      },
      {
       "output_type": "stream",
       "stream": "stdout",
       "text": [
        " ~ SEX + TAX + AGE on year 1976\n",
        "Run models on unused early data\n",
        "NATEDUC"
       ]
      },
      {
       "output_type": "stream",
       "stream": "stdout",
       "text": [
        " ~ SEX + TAX + AGE on year 1977\n",
        "Run models on unused early data\n",
        "NATEDUC"
       ]
      },
      {
       "output_type": "stream",
       "stream": "stdout",
       "text": [
        " ~ SEX + TAX + AGE on year 1980\n",
        "Run models on unused early data\n",
        "NATEDUC"
       ]
      },
      {
       "output_type": "stream",
       "stream": "stdout",
       "text": [
        " ~ SEX + TAX + AGE on year 1984\n",
        "Run models on unused early data\n",
        "NATEDUC"
       ]
      },
      {
       "output_type": "stream",
       "stream": "stdout",
       "text": [
        " ~ SEX + TAX + AGE on year 1985\n",
        "Run models on unused early data\n",
        "NATEDUC"
       ]
      },
      {
       "output_type": "stream",
       "stream": "stdout",
       "text": [
        " ~ SEX + TAX + AGE on year 1987\n",
        "Run models on unused early data\n",
        "NATEDUC"
       ]
      },
      {
       "output_type": "stream",
       "stream": "stdout",
       "text": [
        " ~ SEX + TAX + AGE on year 1988\n",
        "Run models on unused early data\n",
        "NATEDUC"
       ]
      },
      {
       "output_type": "stream",
       "stream": "stdout",
       "text": [
        " ~ SEX + TAX + AGE on year 1989\n",
        "Run models on unused early data\n",
        "NATEDUC"
       ]
      },
      {
       "output_type": "stream",
       "stream": "stdout",
       "text": [
        " ~ SEX + TAX + AGE on year 1991\n",
        "Run models on unused early data\n",
        "NATEDUC"
       ]
      },
      {
       "output_type": "stream",
       "stream": "stdout",
       "text": [
        " ~ SEX + TAX + AGE on year 1993\n",
        "Run models on original data\n",
        "NATENVIR"
       ]
      },
      {
       "output_type": "stream",
       "stream": "stdout",
       "text": [
        " ~ SEX + TAX + AGE on year 1982\n",
        "Run models on original data\n",
        "NATENVIR"
       ]
      },
      {
       "output_type": "stream",
       "stream": "stdout",
       "text": [
        " ~ SEX + TAX + AGE on year 1990\n",
        "Run models on original data\n",
        "NATENVIR"
       ]
      },
      {
       "output_type": "stream",
       "stream": "stdout",
       "text": [
        " ~ SEX + TAX + AGE on year 1994\n",
        "Run models on unused early data\n",
        "NATENVIR"
       ]
      },
      {
       "output_type": "stream",
       "stream": "stdout",
       "text": [
        " ~ SEX + TAX + AGE on year 1976\n",
        "Run models on unused early data\n",
        "NATENVIR"
       ]
      },
      {
       "output_type": "stream",
       "stream": "stdout",
       "text": [
        " ~ SEX + TAX + AGE on year 1977\n",
        "Run models on unused early data\n",
        "NATENVIR"
       ]
      },
      {
       "output_type": "stream",
       "stream": "stdout",
       "text": [
        " ~ SEX + TAX + AGE on year 1980\n",
        "Run models on unused early data\n",
        "NATENVIR"
       ]
      },
      {
       "output_type": "stream",
       "stream": "stdout",
       "text": [
        " ~ SEX + TAX + AGE on year 1984\n",
        "Run models on unused early data\n",
        "NATENVIR"
       ]
      },
      {
       "output_type": "stream",
       "stream": "stdout",
       "text": [
        " ~ SEX + TAX + AGE on year 1985\n",
        "Run models on unused early data\n",
        "NATENVIR"
       ]
      },
      {
       "output_type": "stream",
       "stream": "stdout",
       "text": [
        " ~ SEX + TAX + AGE on year 1987\n",
        "Run models on unused early data\n",
        "NATENVIR"
       ]
      },
      {
       "output_type": "stream",
       "stream": "stdout",
       "text": [
        " ~ SEX + TAX + AGE on year 1988\n",
        "Run models on unused early data\n",
        "NATENVIR"
       ]
      },
      {
       "output_type": "stream",
       "stream": "stdout",
       "text": [
        " ~ SEX + TAX + AGE on year 1989\n",
        "Run models on unused early data\n",
        "NATENVIR"
       ]
      },
      {
       "output_type": "stream",
       "stream": "stdout",
       "text": [
        " ~ SEX + TAX + AGE on year 1991\n",
        "Run models on unused early data\n",
        "NATENVIR"
       ]
      },
      {
       "output_type": "stream",
       "stream": "stdout",
       "text": [
        " ~ SEX + TAX + AGE on year 1993\n",
        "Run models on original data\n",
        "NATCRIME"
       ]
      },
      {
       "output_type": "stream",
       "stream": "stdout",
       "text": [
        " ~ SEX + TAX + AGE on year 1982\n",
        "Run models on original data\n",
        "NATCRIME"
       ]
      },
      {
       "output_type": "stream",
       "stream": "stdout",
       "text": [
        " ~ SEX + TAX + AGE on year 1990\n",
        "Run models on original data\n",
        "NATCRIME"
       ]
      },
      {
       "output_type": "stream",
       "stream": "stdout",
       "text": [
        " ~ SEX + TAX + AGE on year 1994\n",
        "Run models on unused early data\n",
        "NATCRIME"
       ]
      },
      {
       "output_type": "stream",
       "stream": "stdout",
       "text": [
        " ~ SEX + TAX + AGE on year 1976\n",
        "Run models on unused early data\n",
        "NATCRIME"
       ]
      },
      {
       "output_type": "stream",
       "stream": "stdout",
       "text": [
        " ~ SEX + TAX + AGE on year 1977\n",
        "Run models on unused early data\n",
        "NATCRIME"
       ]
      },
      {
       "output_type": "stream",
       "stream": "stdout",
       "text": [
        " ~ SEX + TAX + AGE on year 1980\n",
        "Run models on unused early data\n",
        "NATCRIME"
       ]
      },
      {
       "output_type": "stream",
       "stream": "stdout",
       "text": [
        " ~ SEX + TAX + AGE on year 1984\n",
        "Run models on unused early data\n",
        "NATCRIME"
       ]
      },
      {
       "output_type": "stream",
       "stream": "stdout",
       "text": [
        " ~ SEX + TAX + AGE on year 1985\n",
        "Run models on unused early data\n",
        "NATCRIME"
       ]
      },
      {
       "output_type": "stream",
       "stream": "stdout",
       "text": [
        " ~ SEX + TAX + AGE on year 1987\n",
        "Run models on unused early data\n",
        "NATCRIME"
       ]
      },
      {
       "output_type": "stream",
       "stream": "stdout",
       "text": [
        " ~ SEX + TAX + AGE on year 1988\n",
        "Run models on unused early data\n",
        "NATCRIME"
       ]
      },
      {
       "output_type": "stream",
       "stream": "stdout",
       "text": [
        " ~ SEX + TAX + AGE on year 1989\n",
        "Run models on unused early data\n",
        "NATCRIME"
       ]
      },
      {
       "output_type": "stream",
       "stream": "stdout",
       "text": [
        " ~ SEX + TAX + AGE on year 1991\n",
        "Run models on unused early data\n",
        "NATCRIME"
       ]
      },
      {
       "output_type": "stream",
       "stream": "stdout",
       "text": [
        " ~ SEX + TAX + AGE on year 1993\n",
        "Run models on original data\n",
        "NATDRUG"
       ]
      },
      {
       "output_type": "stream",
       "stream": "stdout",
       "text": [
        " ~ SEX + TAX + AGE on year 1982\n",
        "Run models on original data\n",
        "NATDRUG"
       ]
      },
      {
       "output_type": "stream",
       "stream": "stdout",
       "text": [
        " ~ SEX + TAX + AGE on year 1990\n",
        "Run models on original data\n",
        "NATDRUG"
       ]
      },
      {
       "output_type": "stream",
       "stream": "stdout",
       "text": [
        " ~ SEX + TAX + AGE on year 1994\n",
        "Run models on unused early data\n",
        "NATDRUG"
       ]
      },
      {
       "output_type": "stream",
       "stream": "stdout",
       "text": [
        " ~ SEX + TAX + AGE on year 1976\n",
        "Run models on unused early data\n",
        "NATDRUG"
       ]
      },
      {
       "output_type": "stream",
       "stream": "stdout",
       "text": [
        " ~ SEX + TAX + AGE on year 1977\n",
        "Run models on unused early data\n",
        "NATDRUG"
       ]
      },
      {
       "output_type": "stream",
       "stream": "stdout",
       "text": [
        " ~ SEX + TAX + AGE on year 1980\n",
        "Run models on unused early data\n",
        "NATDRUG"
       ]
      },
      {
       "output_type": "stream",
       "stream": "stdout",
       "text": [
        " ~ SEX + TAX + AGE on year 1984\n",
        "Run models on unused early data\n",
        "NATDRUG"
       ]
      },
      {
       "output_type": "stream",
       "stream": "stdout",
       "text": [
        " ~ SEX + TAX + AGE on year 1985\n",
        "Run models on unused early data\n",
        "NATDRUG"
       ]
      },
      {
       "output_type": "stream",
       "stream": "stdout",
       "text": [
        " ~ SEX + TAX + AGE on year 1987\n",
        "Run models on unused early data\n",
        "NATDRUG"
       ]
      },
      {
       "output_type": "stream",
       "stream": "stdout",
       "text": [
        " ~ SEX + TAX + AGE on year 1988\n",
        "Run models on unused early data\n",
        "NATDRUG"
       ]
      },
      {
       "output_type": "stream",
       "stream": "stdout",
       "text": [
        " ~ SEX + TAX + AGE on year 1989\n",
        "Run models on unused early data\n",
        "NATDRUG"
       ]
      },
      {
       "output_type": "stream",
       "stream": "stdout",
       "text": [
        " ~ SEX + TAX + AGE on year 1991\n",
        "Run models on unused early data\n",
        "NATDRUG"
       ]
      },
      {
       "output_type": "stream",
       "stream": "stdout",
       "text": [
        " ~ SEX + TAX + AGE on year 1993\n",
        "Run models on original data\n",
        "NATCITY"
       ]
      },
      {
       "output_type": "stream",
       "stream": "stdout",
       "text": [
        " ~ SEX + TAX + AGE on year 1982\n",
        "Run models on original data\n",
        "NATCITY"
       ]
      },
      {
       "output_type": "stream",
       "stream": "stdout",
       "text": [
        " ~ SEX + TAX + AGE on year 1990\n",
        "Run models on original data\n",
        "NATCITY"
       ]
      },
      {
       "output_type": "stream",
       "stream": "stdout",
       "text": [
        " ~ SEX + TAX + AGE on year 1994\n",
        "Run models on unused early data\n",
        "NATCITY"
       ]
      },
      {
       "output_type": "stream",
       "stream": "stdout",
       "text": [
        " ~ SEX + TAX + AGE on year 1976\n",
        "Run models on unused early data\n",
        "NATCITY"
       ]
      },
      {
       "output_type": "stream",
       "stream": "stdout",
       "text": [
        " ~ SEX + TAX + AGE on year 1977\n",
        "Run models on unused early data\n",
        "NATCITY"
       ]
      },
      {
       "output_type": "stream",
       "stream": "stdout",
       "text": [
        " ~ SEX + TAX + AGE on year 1980\n",
        "Run models on unused early data\n",
        "NATCITY"
       ]
      },
      {
       "output_type": "stream",
       "stream": "stdout",
       "text": [
        " ~ SEX + TAX + AGE on year 1984\n",
        "Run models on unused early data\n",
        "NATCITY"
       ]
      },
      {
       "output_type": "stream",
       "stream": "stdout",
       "text": [
        " ~ SEX + TAX + AGE on year 1985\n",
        "Run models on unused early data\n",
        "NATCITY"
       ]
      },
      {
       "output_type": "stream",
       "stream": "stdout",
       "text": [
        " ~ SEX + TAX + AGE on year 1987\n",
        "Run models on unused early data\n",
        "NATCITY"
       ]
      },
      {
       "output_type": "stream",
       "stream": "stdout",
       "text": [
        " ~ SEX + TAX + AGE on year 1988\n",
        "Run models on unused early data\n",
        "NATCITY"
       ]
      },
      {
       "output_type": "stream",
       "stream": "stdout",
       "text": [
        " ~ SEX + TAX + AGE on year 1989\n",
        "Run models on unused early data\n",
        "NATCITY"
       ]
      },
      {
       "output_type": "stream",
       "stream": "stdout",
       "text": [
        " ~ SEX + TAX + AGE on year 1991\n",
        "Run models on unused early data\n",
        "NATCITY"
       ]
      },
      {
       "output_type": "stream",
       "stream": "stdout",
       "text": [
        " ~ SEX + TAX + AGE on year 1993\n",
        "Run models on original data\n",
        "NATAID"
       ]
      },
      {
       "output_type": "stream",
       "stream": "stdout",
       "text": [
        " ~ SEX + TAX + AGE on year 1982\n",
        "Run models on original data\n",
        "NATAID"
       ]
      },
      {
       "output_type": "stream",
       "stream": "stdout",
       "text": [
        " ~ SEX + TAX + AGE on year 1990\n",
        "Run models on original data\n",
        "NATAID"
       ]
      },
      {
       "output_type": "stream",
       "stream": "stdout",
       "text": [
        " ~ SEX + TAX + AGE on year 1994\n",
        "Run models on unused early data\n",
        "NATAID"
       ]
      },
      {
       "output_type": "stream",
       "stream": "stdout",
       "text": [
        " ~ SEX + TAX + AGE on year 1976\n",
        "Run models on unused early data\n",
        "NATAID"
       ]
      },
      {
       "output_type": "stream",
       "stream": "stdout",
       "text": [
        " ~ SEX + TAX + AGE on year 1977\n",
        "Run models on unused early data\n",
        "NATAID"
       ]
      },
      {
       "output_type": "stream",
       "stream": "stdout",
       "text": [
        " ~ SEX + TAX + AGE on year 1980\n",
        "Run models on unused early data\n",
        "NATAID"
       ]
      },
      {
       "output_type": "stream",
       "stream": "stdout",
       "text": [
        " ~ SEX + TAX + AGE on year 1984\n",
        "Run models on unused early data\n",
        "NATAID"
       ]
      },
      {
       "output_type": "stream",
       "stream": "stdout",
       "text": [
        " ~ SEX + TAX + AGE on year 1985\n",
        "Run models on unused early data\n",
        "NATAID"
       ]
      },
      {
       "output_type": "stream",
       "stream": "stdout",
       "text": [
        " ~ SEX + TAX + AGE on year 1987\n",
        "Run models on unused early data\n",
        "NATAID"
       ]
      },
      {
       "output_type": "stream",
       "stream": "stdout",
       "text": [
        " ~ SEX + TAX + AGE on year 1988\n",
        "Run models on unused early data\n",
        "NATAID"
       ]
      },
      {
       "output_type": "stream",
       "stream": "stdout",
       "text": [
        " ~ SEX + TAX + AGE on year 1989\n",
        "Run models on unused early data\n",
        "NATAID"
       ]
      },
      {
       "output_type": "stream",
       "stream": "stdout",
       "text": [
        " ~ SEX + TAX + AGE on year 1991\n",
        "Run models on unused early data\n",
        "NATAID"
       ]
      },
      {
       "output_type": "stream",
       "stream": "stdout",
       "text": [
        " ~ SEX + TAX + AGE on year 1993\n",
        "Run models on original data\n",
        "NATFARE"
       ]
      },
      {
       "output_type": "stream",
       "stream": "stdout",
       "text": [
        " ~ SEX + TAX + AGE on year 1982\n",
        "Run models on original data\n",
        "NATFARE"
       ]
      },
      {
       "output_type": "stream",
       "stream": "stdout",
       "text": [
        " ~ SEX + TAX + AGE on year 1990\n",
        "Run models on original data\n",
        "NATFARE"
       ]
      },
      {
       "output_type": "stream",
       "stream": "stdout",
       "text": [
        " ~ SEX + TAX + AGE on year 1994\n",
        "Run models on unused early data\n",
        "NATFARE"
       ]
      },
      {
       "output_type": "stream",
       "stream": "stdout",
       "text": [
        " ~ SEX + TAX + AGE on year 1976\n",
        "Run models on unused early data\n",
        "NATFARE"
       ]
      },
      {
       "output_type": "stream",
       "stream": "stdout",
       "text": [
        " ~ SEX + TAX + AGE on year 1977\n",
        "Run models on unused early data\n",
        "NATFARE"
       ]
      },
      {
       "output_type": "stream",
       "stream": "stdout",
       "text": [
        " ~ SEX + TAX + AGE on year 1980\n",
        "Run models on unused early data\n",
        "NATFARE"
       ]
      },
      {
       "output_type": "stream",
       "stream": "stdout",
       "text": [
        " ~ SEX + TAX + AGE on year 1984\n",
        "Run models on unused early data\n",
        "NATFARE"
       ]
      },
      {
       "output_type": "stream",
       "stream": "stdout",
       "text": [
        " ~ SEX + TAX + AGE on year 1985\n",
        "Run models on unused early data\n",
        "NATFARE"
       ]
      },
      {
       "output_type": "stream",
       "stream": "stdout",
       "text": [
        " ~ SEX + TAX + AGE on year 1987\n",
        "Run models on unused early data\n",
        "NATFARE"
       ]
      },
      {
       "output_type": "stream",
       "stream": "stdout",
       "text": [
        " ~ SEX + TAX + AGE on year 1988\n",
        "Run models on unused early data\n",
        "NATFARE"
       ]
      },
      {
       "output_type": "stream",
       "stream": "stdout",
       "text": [
        " ~ SEX + TAX + AGE on year 1989\n",
        "Run models on unused early data\n",
        "NATFARE"
       ]
      },
      {
       "output_type": "stream",
       "stream": "stdout",
       "text": [
        " ~ SEX + TAX + AGE on year 1991\n",
        "Run models on unused early data\n",
        "NATFARE"
       ]
      },
      {
       "output_type": "stream",
       "stream": "stdout",
       "text": [
        " ~ SEX + TAX + AGE on year 1993\n",
        "Run models on original data\n",
        "NATARMS"
       ]
      },
      {
       "output_type": "stream",
       "stream": "stdout",
       "text": [
        " ~ SEX + TAX + AGE on year 1982\n",
        "Run models on original data\n",
        "NATARMS"
       ]
      },
      {
       "output_type": "stream",
       "stream": "stdout",
       "text": [
        " ~ SEX + TAX + AGE on year 1990\n",
        "Run models on original data\n",
        "NATARMS"
       ]
      },
      {
       "output_type": "stream",
       "stream": "stdout",
       "text": [
        " ~ SEX + TAX + AGE on year 1994\n",
        "Run models on unused early data\n",
        "NATARMS"
       ]
      },
      {
       "output_type": "stream",
       "stream": "stdout",
       "text": [
        " ~ SEX + TAX + AGE on year 1976\n",
        "Run models on unused early data\n",
        "NATARMS"
       ]
      },
      {
       "output_type": "stream",
       "stream": "stdout",
       "text": [
        " ~ SEX + TAX + AGE on year 1977\n",
        "Run models on unused early data\n",
        "NATARMS"
       ]
      },
      {
       "output_type": "stream",
       "stream": "stdout",
       "text": [
        " ~ SEX + TAX + AGE on year 1980\n",
        "Run models on unused early data\n",
        "NATARMS"
       ]
      },
      {
       "output_type": "stream",
       "stream": "stdout",
       "text": [
        " ~ SEX + TAX + AGE on year 1984\n",
        "Run models on unused early data\n",
        "NATARMS"
       ]
      },
      {
       "output_type": "stream",
       "stream": "stdout",
       "text": [
        " ~ SEX + TAX + AGE on year 1985\n",
        "Run models on unused early data\n",
        "NATARMS"
       ]
      },
      {
       "output_type": "stream",
       "stream": "stdout",
       "text": [
        " ~ SEX + TAX + AGE on year 1987\n",
        "Run models on unused early data\n",
        "NATARMS"
       ]
      },
      {
       "output_type": "stream",
       "stream": "stdout",
       "text": [
        " ~ SEX + TAX + AGE on year 1988\n",
        "Run models on unused early data\n",
        "NATARMS"
       ]
      },
      {
       "output_type": "stream",
       "stream": "stdout",
       "text": [
        " ~ SEX + TAX + AGE on year 1989\n",
        "Run models on unused early data\n",
        "NATARMS"
       ]
      },
      {
       "output_type": "stream",
       "stream": "stdout",
       "text": [
        " ~ SEX + TAX + AGE on year 1991\n",
        "Run models on unused early data\n",
        "NATARMS"
       ]
      },
      {
       "output_type": "stream",
       "stream": "stdout",
       "text": [
        " ~ SEX + TAX + AGE on year 1993\n",
        "Processing article No. 4434\n",
        "Run models on original data\n",
        "Run models on unused early data\n",
        "Run models on original data\n",
        "Run models on unused early data\n",
        "Run models on original data\n",
        "Run models on unused early data\n",
        "Processing article No. 4441\n",
        "Run models on original data\n",
        "Run models on unused early data\n",
        "Run models on unused early data"
       ]
      },
      {
       "output_type": "stream",
       "stream": "stdout",
       "text": [
        "\n",
        "Run models on unused early data\n",
        "Run models on unused early data\n",
        "Run models on unused early data\n",
        "Run models on unused early data\n",
        "Run models on unused early data\n",
        "Run models on original data\n",
        "Run models on unused early data\n",
        "Run models on unused early data\n",
        "Run models on unused early data\n",
        "Run models on unused early data\n",
        "Run models on unused early data\n",
        "Run models on unused early data\n",
        "Run models on unused early data"
       ]
      },
      {
       "output_type": "stream",
       "stream": "stdout",
       "text": [
        "\n",
        "Run models on original data\n",
        "Run models on unused early data\n",
        "Run models on unused early data\n",
        "Run models on unused early data\n",
        "Run models on unused early data\n",
        "Run models on unused early data\n",
        "Run models on unused early data\n",
        "Run models on unused early data\n",
        "Run models on original data\n",
        "Run models on unused early data"
       ]
      },
      {
       "output_type": "stream",
       "stream": "stdout",
       "text": [
        "\n",
        "Run models on unused early data\n",
        "Run models on unused early data\n",
        "Run models on unused early data\n",
        "Run models on unused early data\n",
        "Run models on unused early data\n",
        "Run models on unused early data\n",
        "Run models on original data\n",
        "Run models on unused early data\n",
        "Run models on unused early data"
       ]
      },
      {
       "output_type": "stream",
       "stream": "stdout",
       "text": [
        "\n",
        "Run models on unused early data\n",
        "Run models on unused early data\n",
        "Run models on unused early data\n",
        "Run models on unused early data\n",
        "Run models on unused early data"
       ]
      },
      {
       "output_type": "stream",
       "stream": "stdout",
       "text": [
        "\n",
        "Run models on original data\n",
        "Run models on unused early data\n",
        "Run models on unused early data\n",
        "Run models on unused early data"
       ]
      },
      {
       "output_type": "stream",
       "stream": "stdout",
       "text": [
        "\n",
        "Run models on unused early data\n",
        "Run models on unused early data\n",
        "Run models on unused early data\n",
        "Run models on unused early data"
       ]
      },
      {
       "output_type": "stream",
       "stream": "stdout",
       "text": [
        "\n",
        "Run models on original data\n",
        "Run models on unused early data\n",
        "Run models on unused early data\n",
        "Run models on unused early data"
       ]
      },
      {
       "output_type": "stream",
       "stream": "stdout",
       "text": [
        "\n",
        "Run models on unused early data\n",
        "Run models on unused early data\n",
        "Run models on unused early data\n",
        "Run models on unused early data\n",
        "Processing article No."
       ]
      },
      {
       "output_type": "stream",
       "stream": "stdout",
       "text": [
        " 4483\n",
        "Run models on original data\n",
        "Run models on unused early data\n",
        "Run models on unused early data\n",
        "Run models on unused early data\n",
        "Run models on unused early data\n",
        "Run models on unused early data"
       ]
      },
      {
       "output_type": "stream",
       "stream": "stdout",
       "text": [
        "\n",
        "Run models on unused early data\n",
        "Run models on unused early data\n",
        "Run models on unused early data\n",
        "Run models on unused early data\n",
        "Run models on unused early data\n",
        "Processing article No. 4528\n",
        "Run models on original data\n",
        "Run models on unused early data\n",
        "Processing article No."
       ]
      },
      {
       "output_type": "stream",
       "stream": "stdout",
       "text": [
        " 4614\n",
        "Run models on original data\n",
        "Dropping column FAMILY16 because it is constant\n",
        "Run models on original data\n",
        "Run models on original data\n",
        "Run models on original data\n",
        "Dropping column FAMILY16 because it is constant\n",
        "Run models on unused early data\n",
        "Not enough observations. Skipping...\n",
        "Run models on unused early data\n",
        "Not enough observations. Skipping..."
       ]
      },
      {
       "output_type": "stream",
       "stream": "stdout",
       "text": [
        "\n",
        "Run models on unused early data\n",
        "Run models on unused early data\n",
        "Processing article No. 4743\n",
        "Run models on original data\n",
        "Dropping column MARITAL because it is constant\n",
        "Run models on unused early data\n",
        "Dropping column MARITAL because it is constant\n",
        "Run models on unused early data\n",
        "Dropping column MARITAL because it is constant\n",
        "Run models on original data\n",
        "Dropping column"
       ]
      },
      {
       "output_type": "stream",
       "stream": "stdout",
       "text": [
        " MARITAL because it is constant\n",
        "Run models on unused early data\n",
        "Dropping column MARITAL because it is constant\n",
        "Run models on unused early data\n",
        "Dropping column MARITAL because it is constant\n",
        "Run models on original data\n",
        "Dropping column MARITAL because it is constant\n",
        "Run models on unused early data\n",
        "Dropping column MARITAL because it is constant\n",
        "Run models on unused early data\n",
        "Dropping column MARITAL because it is constant\n",
        "Run models on original data"
       ]
      },
      {
       "output_type": "stream",
       "stream": "stdout",
       "text": [
        "\n",
        "Dropping column MARITAL because it is constant\n",
        "Run models on unused early data\n",
        "Dropping column MARITAL because it is constant\n",
        "Run models on unused early data\n",
        "Dropping column MARITAL because it is constant\n",
        "Run models on original data\n",
        "Dropping column MARITAL because it is constant\n",
        "Run models on unused early data\n",
        "Dropping column MARITAL because it is constant\n",
        "Run models on unused early data\n",
        "Dropping column"
       ]
      },
      {
       "output_type": "stream",
       "stream": "stdout",
       "text": [
        " MARITAL because it is constant\n",
        "Processing article No. 4828\n",
        "Run models on original data\n",
        "Run models on original data\n",
        "Run models on unused early data\n",
        "Run models on original data\n",
        "Run models on original data\n",
        "Run models on unused early data\n",
        "Run models on original data\n",
        "Run models on original data"
       ]
      },
      {
       "output_type": "stream",
       "stream": "stdout",
       "text": [
        "\n",
        "Run models on unused early data\n",
        "Run models on original data"
       ]
      },
      {
       "output_type": "stream",
       "stream": "stdout",
       "text": [
        "\n",
        "Run models on original data\n",
        "Run models on unused early data\n",
        "Run models on original data"
       ]
      },
      {
       "output_type": "stream",
       "stream": "stdout",
       "text": [
        "\n",
        "Run models on original data\n",
        "Run models on unused early data\n",
        "Run models on original data"
       ]
      },
      {
       "output_type": "stream",
       "stream": "stdout",
       "text": [
        "\n",
        "Run models on original data\n",
        "Run models on unused early data\n",
        "Run models on original data"
       ]
      },
      {
       "output_type": "stream",
       "stream": "stdout",
       "text": [
        "\n",
        "Run models on original data\n",
        "Run models on unused early data\n",
        "Run models on original data"
       ]
      },
      {
       "output_type": "stream",
       "stream": "stdout",
       "text": [
        "\n",
        "Run models on original data\n",
        "Run models on unused early data\n",
        "Run models on original data\n",
        "Run models on original data"
       ]
      },
      {
       "output_type": "stream",
       "stream": "stdout",
       "text": [
        "\n",
        "Run models on unused early data\n",
        "Run models on original data\n",
        "Run models on original data\n",
        "Run models on unused early data"
       ]
      },
      {
       "output_type": "stream",
       "stream": "stdout",
       "text": [
        "\n",
        "Processing article No. 4929\n",
        "Run models on original data\n",
        "FEHOME"
       ]
      },
      {
       "output_type": "stream",
       "stream": "stdout",
       "text": [
        " ~ SEX + RACE + EDUC on year 1985\n",
        "Run models on original data\n",
        "FEHOME"
       ]
      },
      {
       "output_type": "stream",
       "stream": "stdout",
       "text": [
        " ~ SEX + RACE + EDUC on year 1986\n",
        "Run models on unused early data\n",
        "FEHOME"
       ]
      },
      {
       "output_type": "stream",
       "stream": "stdout",
       "text": [
        " ~ SEX + RACE + EDUC on year 1977\n",
        "Run models on original data\n",
        "FEPRES"
       ]
      },
      {
       "output_type": "stream",
       "stream": "stdout",
       "text": [
        " ~ SEX + RACE + EDUC on year 1985\n",
        "Run models on original data\n",
        "FEPRES"
       ]
      },
      {
       "output_type": "stream",
       "stream": "stdout",
       "text": [
        " ~ SEX + RACE + EDUC on year 1986\n",
        "Run models on unused early data\n",
        "FEPRES"
       ]
      },
      {
       "output_type": "stream",
       "stream": "stdout",
       "text": [
        " ~ SEX + RACE + EDUC on year 1977\n",
        "Run models on original data\n",
        "FEPOL"
       ]
      },
      {
       "output_type": "stream",
       "stream": "stdout",
       "text": [
        " ~ SEX + RACE + EDUC on year 1985\n",
        "Run models on original data\n",
        "FEPOL"
       ]
      },
      {
       "output_type": "stream",
       "stream": "stdout",
       "text": [
        " ~ SEX + RACE + EDUC on year 1986\n",
        "Run models on unused early data\n",
        "FEPOL"
       ]
      },
      {
       "output_type": "stream",
       "stream": "stdout",
       "text": [
        " ~ SEX + RACE + EDUC on year 1977\n",
        "Run models on original data\n",
        "FEFAM"
       ]
      },
      {
       "output_type": "stream",
       "stream": "stdout",
       "text": [
        " ~ SEX + RACE + EDUC on year 1985\n",
        "Run models on original data\n",
        "FEFAM"
       ]
      },
      {
       "output_type": "stream",
       "stream": "stdout",
       "text": [
        " ~ SEX + RACE + EDUC on year 1986\n",
        "Run models on unused early data\n",
        "FEFAM"
       ]
      },
      {
       "output_type": "stream",
       "stream": "stdout",
       "text": [
        " ~ SEX + RACE + EDUC on year 1977\n",
        "Run models on original data\n",
        "FEHELP"
       ]
      },
      {
       "output_type": "stream",
       "stream": "stdout",
       "text": [
        " ~ SEX + RACE + EDUC on year 1985\n",
        "Run models on original data\n",
        "FEHELP"
       ]
      },
      {
       "output_type": "stream",
       "stream": "stdout",
       "text": [
        " ~ SEX + RACE + EDUC on year 1986\n",
        "Run models on unused early data\n",
        "FEHELP"
       ]
      },
      {
       "output_type": "stream",
       "stream": "stdout",
       "text": [
        " ~ SEX + RACE + EDUC on year 1977\n",
        "Run models on original data\n",
        "FEWORK"
       ]
      },
      {
       "output_type": "stream",
       "stream": "stdout",
       "text": [
        " ~ SEX + RACE + EDUC on year 1985\n",
        "Run models on original data\n",
        "FEWORK"
       ]
      },
      {
       "output_type": "stream",
       "stream": "stdout",
       "text": [
        " ~ SEX + RACE + EDUC on year 1986\n",
        "Run models on unused early data\n",
        "FEWORK"
       ]
      },
      {
       "output_type": "stream",
       "stream": "stdout",
       "text": [
        " ~ SEX + RACE + EDUC on year 1977\n",
        "Run models on original data\n",
        "FECHLD"
       ]
      },
      {
       "output_type": "stream",
       "stream": "stdout",
       "text": [
        " ~ SEX + RACE + EDUC on year 1985\n",
        "Run models on original data\n",
        "FECHLD"
       ]
      },
      {
       "output_type": "stream",
       "stream": "stdout",
       "text": [
        " ~ SEX + RACE + EDUC on year 1986\n",
        "Run models on unused early data\n",
        "FECHLD"
       ]
      },
      {
       "output_type": "stream",
       "stream": "stdout",
       "text": [
        " ~ SEX + RACE + EDUC on year 1977\n",
        "Run models on original data\n",
        "FEPRESCH"
       ]
      },
      {
       "output_type": "stream",
       "stream": "stdout",
       "text": [
        " ~ SEX + RACE + EDUC on year 1985\n",
        "Run models on original data\n",
        "FEPRESCH"
       ]
      },
      {
       "output_type": "stream",
       "stream": "stdout",
       "text": [
        " ~ SEX + RACE + EDUC on year 1986\n",
        "Run models on unused early data\n",
        "FEPRESCH"
       ]
      },
      {
       "output_type": "stream",
       "stream": "stdout",
       "text": [
        " ~ SEX + RACE + EDUC on year 1977\n",
        "Processing article No. 4961\n",
        "Run models on original data\n",
        "Run models on original data\n",
        "Run models on original data\n",
        "Run models on unused early data\n",
        "Run models on unused early data\n",
        "Run models on unused early data\n",
        "Run models on unused early data\n",
        "Run models on unused early data\n",
        "Run models on unused early data"
       ]
      },
      {
       "output_type": "stream",
       "stream": "stdout",
       "text": [
        "\n",
        "Run models on unused early data\n",
        "Run models on unused early data\n",
        "Run models on unused early data\n",
        "Run models on unused early data\n",
        "Run models on unused early data\n",
        "Run models on unused early data\n",
        "Run models on unused early data\n",
        "Run models on unused early data\n",
        "Run models on unused early data\n",
        "Run models on original data\n",
        "Run models on original data\n",
        "Run models on original data\n",
        "Run models on unused early data"
       ]
      },
      {
       "output_type": "stream",
       "stream": "stdout",
       "text": [
        "\n",
        "Run models on unused early data\n",
        "Run models on unused early data\n",
        "Run models on unused early data\n",
        "Run models on unused early data\n",
        "Run models on unused early data\n",
        "Run models on unused early data\n",
        "Run models on unused early data\n",
        "Run models on unused early data\n",
        "Run models on unused early data\n",
        "Run models on unused early data\n",
        "Run models on unused early data\n",
        "Run models on unused early data\n",
        "Run models on unused early data"
       ]
      },
      {
       "output_type": "stream",
       "stream": "stdout",
       "text": [
        "\n",
        "Run models on unused early data\n",
        "Run models on original data\n",
        "Run models on original data\n",
        "Run models on original data\n",
        "Run models on unused early data\n",
        "Run models on unused early data\n",
        "Run models on unused early data\n",
        "Run models on unused early data\n",
        "Run models on unused early data\n",
        "Run models on unused early data\n",
        "Run models on unused early data\n",
        "Run models on unused early data\n",
        "Run models on unused early data"
       ]
      },
      {
       "output_type": "stream",
       "stream": "stdout",
       "text": [
        "\n",
        "Run models on unused early data\n",
        "Run models on unused early data\n",
        "Run models on unused early data\n",
        "Run models on unused early data\n",
        "Run models on unused early data\n",
        "Run models on unused early data\n",
        "Run models on original data\n",
        "Run models on original data\n",
        "Run models on original data\n",
        "Run models on unused early data\n",
        "Run models on unused early data\n",
        "Run models on unused early data\n",
        "Run models on unused early data"
       ]
      },
      {
       "output_type": "stream",
       "stream": "stdout",
       "text": [
        "\n",
        "Run models on unused early data\n",
        "Run models on unused early data\n",
        "Run models on unused early data\n",
        "Run models on unused early data\n",
        "Run models on unused early data\n",
        "Run models on unused early data\n",
        "Run models on unused early data\n",
        "Run models on unused early data\n",
        "Run models on unused early data\n",
        "Run models on unused early data\n",
        "Run models on unused early data\n",
        "Run models on original data\n",
        "Run models on original data"
       ]
      },
      {
       "output_type": "stream",
       "stream": "stdout",
       "text": [
        "\n",
        "Run models on original data\n",
        "Run models on unused early data\n",
        "Run models on unused early data\n",
        "Run models on unused early data\n",
        "Run models on unused early data\n",
        "Run models on unused early data\n",
        "Run models on unused early data\n",
        "Run models on unused early data\n",
        "Run models on unused early data\n",
        "Run models on unused early data\n",
        "Run models on unused early data\n",
        "Run models on unused early data"
       ]
      },
      {
       "output_type": "stream",
       "stream": "stdout",
       "text": [
        "\n",
        "Run models on unused early data\n",
        "Run models on unused early data\n",
        "Run models on unused early data\n",
        "Run models on unused early data\n",
        "Run models on original data\n",
        "Run models on original data\n",
        "Run models on original data\n",
        "Run models on unused early data\n",
        "Run models on unused early data\n",
        "Run models on unused early data\n",
        "Run models on unused early data\n",
        "Run models on unused early data"
       ]
      },
      {
       "output_type": "stream",
       "stream": "stdout",
       "text": [
        "\n",
        "Run models on unused early data\n",
        "Run models on unused early data\n",
        "Run models on unused early data\n",
        "Run models on unused early data\n",
        "Run models on unused early data\n",
        "Run models on unused early data\n",
        "Run models on unused early data\n",
        "Run models on unused early data\n",
        "Run models on unused early data\n",
        "Run models on unused early data\n",
        "Processing article No. 4980\n",
        "Run models on original data\n",
        "Run models on unused early data\n",
        "Run models on unused early data"
       ]
      },
      {
       "output_type": "stream",
       "stream": "stdout",
       "text": [
        "\n",
        "Run models on unused early data\n",
        "Run models on original data\n",
        "Run models on unused early data\n",
        "Run models on unused early data\n",
        "Run models on unused early data\n",
        "Run models on original data\n",
        "Run models on unused early data\n",
        "Run models on unused early data\n",
        "Run models on unused early data\n",
        "Processing article No. 4981\n",
        "Run models on original data\n",
        "Run models on unused early data"
       ]
      },
      {
       "output_type": "stream",
       "stream": "stdout",
       "text": [
        "\n",
        "Run models on unused early data\n",
        "Run models on original data\n",
        "Run models on unused early data\n",
        "Run models on unused early data\n",
        "Run models on original data\n",
        "Run models on unused early data\n",
        "Run models on unused early data\n",
        "Processing article No. 5015\n",
        "Run models on original data\n",
        "COURTS"
       ]
      },
      {
       "output_type": "stream",
       "stream": "stdout",
       "text": [
        " ~ RACE + EDUC + SEX on year 1987\n",
        "Run models on unused early data\n",
        "COURTS"
       ]
      },
      {
       "output_type": "stream",
       "stream": "stdout",
       "text": [
        " ~ RACE + EDUC + SEX on year 1973\n",
        "Run models on unused early data\n",
        "COURTS"
       ]
      },
      {
       "output_type": "stream",
       "stream": "stdout",
       "text": [
        " ~ RACE + EDUC + SEX on year 1975\n",
        "Run models on unused early data\n",
        "COURTS"
       ]
      },
      {
       "output_type": "stream",
       "stream": "stdout",
       "text": [
        " ~ RACE + EDUC + SEX on year 1976\n",
        "Run models on unused early data\n",
        "COURTS"
       ]
      },
      {
       "output_type": "stream",
       "stream": "stdout",
       "text": [
        " ~ RACE + EDUC + SEX on year 1978\n",
        "Run models on unused early data\n",
        "COURTS"
       ]
      },
      {
       "output_type": "stream",
       "stream": "stdout",
       "text": [
        " ~ RACE + EDUC + SEX on year 1980\n",
        "Run models on unused early data\n",
        "COURTS"
       ]
      },
      {
       "output_type": "stream",
       "stream": "stdout",
       "text": [
        " ~ RACE + EDUC + SEX on year 1983\n",
        "Run models on unused early data\n",
        "COURTS"
       ]
      },
      {
       "output_type": "stream",
       "stream": "stdout",
       "text": [
        " ~ RACE + EDUC + SEX on year 1984\n",
        "Run models on unused early data\n",
        "COURTS"
       ]
      },
      {
       "output_type": "stream",
       "stream": "stdout",
       "text": [
        " ~ RACE + EDUC + SEX on year 1986\n",
        "Run models on original data\n",
        "GRASS"
       ]
      },
      {
       "output_type": "stream",
       "stream": "stdout",
       "text": [
        " ~ RACE + EDUC + SEX on year 1987\n",
        "Run models on unused early data\n",
        "GRASS"
       ]
      },
      {
       "output_type": "stream",
       "stream": "stdout",
       "text": [
        " ~ RACE + EDUC + SEX on year 1973\n",
        "Run models on unused early data\n",
        "GRASS"
       ]
      },
      {
       "output_type": "stream",
       "stream": "stdout",
       "text": [
        " ~ RACE + EDUC + SEX on year 1975\n",
        "Run models on unused early data\n",
        "GRASS"
       ]
      },
      {
       "output_type": "stream",
       "stream": "stdout",
       "text": [
        " ~ RACE + EDUC + SEX on year 1976\n",
        "Run models on unused early data\n",
        "GRASS"
       ]
      },
      {
       "output_type": "stream",
       "stream": "stdout",
       "text": [
        " ~ RACE + EDUC + SEX on year 1978\n",
        "Run models on unused early data\n",
        "GRASS"
       ]
      },
      {
       "output_type": "stream",
       "stream": "stdout",
       "text": [
        " ~ RACE + EDUC + SEX on year 1980\n",
        "Run models on unused early data\n",
        "GRASS"
       ]
      },
      {
       "output_type": "stream",
       "stream": "stdout",
       "text": [
        " ~ RACE + EDUC + SEX on year 1983\n",
        "Run models on unused early data\n",
        "GRASS"
       ]
      },
      {
       "output_type": "stream",
       "stream": "stdout",
       "text": [
        " ~ RACE + EDUC + SEX on year 1984\n",
        "Run models on unused early data\n",
        "GRASS"
       ]
      },
      {
       "output_type": "stream",
       "stream": "stdout",
       "text": [
        " ~ RACE + EDUC + SEX on year 1986\n",
        "Processing article No. 5088\n",
        "Run models on original data\n",
        "POLVIEWS"
       ]
      },
      {
       "output_type": "stream",
       "stream": "stdout",
       "text": [
        " ~ AGE + NATHEAL + NATRACE + NATFARE + GRASS + PORNLAW + FEHOME + ABPOOR on year 1978\n",
        "Run models on unused early data\n",
        "POLVIEWS"
       ]
      },
      {
       "output_type": "stream",
       "stream": "stdout",
       "text": [
        " ~ AGE + NATHEAL + NATRACE + NATFARE + GRASS + PORNLAW + FEHOME + ABPOOR on year 1975\n",
        "Processing article No. 5216\n",
        "Run models on original data\n",
        "Run models on unused early data\n",
        "Run models on unused early data\n",
        "Run models on unused early data\n",
        "Run models on unused early data\n",
        "Run models on unused early data\n",
        "Run models on unused early data\n",
        "Run models on unused early data"
       ]
      },
      {
       "output_type": "stream",
       "stream": "stdout",
       "text": [
        "\n",
        "Run models on unused early data\n",
        "Run models on original data\n",
        "Run models on unused early data\n",
        "Run models on unused early data\n",
        "Run models on unused early data\n",
        "Run models on unused early data\n",
        "Run models on unused early data\n",
        "Run models on unused early data\n",
        "Run models on unused early data"
       ]
      },
      {
       "output_type": "stream",
       "stream": "stdout",
       "text": [
        "\n",
        "Run models on unused early data\n",
        "Run models on original data\n",
        "Run models on unused early data\n",
        "Run models on unused early data\n",
        "Run models on unused early data\n",
        "Run models on unused early data\n",
        "Run models on unused early data\n",
        "Run models on unused early data\n",
        "Run models on unused early data"
       ]
      },
      {
       "output_type": "stream",
       "stream": "stdout",
       "text": [
        "\n",
        "Run models on unused early data\n",
        "Run models on original data\n",
        "Run models on unused early data\n",
        "Run models on unused early data\n",
        "Run models on unused early data\n",
        "Run models on unused early data\n",
        "Run models on unused early data\n",
        "Run models on unused early data\n",
        "Run models on unused early data"
       ]
      },
      {
       "output_type": "stream",
       "stream": "stdout",
       "text": [
        "\n",
        "Run models on unused early data\n",
        "Run models on original data\n",
        "Run models on unused early data\n",
        "Run models on unused early data\n",
        "Run models on unused early data\n",
        "Run models on unused early data"
       ]
      },
      {
       "output_type": "stream",
       "stream": "stdout",
       "text": [
        "\n",
        "Run models on unused early data\n",
        "Run models on unused early data\n",
        "Run models on unused early data"
       ]
      },
      {
       "output_type": "stream",
       "stream": "stdout",
       "text": [
        "\n",
        "Run models on unused early data\n",
        "Run models on original data\n",
        "Run models on unused early data"
       ]
      },
      {
       "output_type": "stream",
       "stream": "stdout",
       "text": [
        "\n",
        "Run models on unused early data\n",
        "Run models on unused early data\n",
        "Run models on unused early data\n",
        "Run models on unused early data"
       ]
      },
      {
       "output_type": "stream",
       "stream": "stdout",
       "text": [
        "\n",
        "Run models on unused early data\n",
        "Run models on unused early data\n",
        "Run models on unused early data\n",
        "Run models on original data\n",
        "Run models on unused early data"
       ]
      },
      {
       "output_type": "stream",
       "stream": "stdout",
       "text": [
        "\n",
        "Run models on unused early data\n",
        "Run models on unused early data\n",
        "Run models on unused early data\n",
        "Run models on unused early data\n",
        "Run models on unused early data\n",
        "Run models on unused early data"
       ]
      },
      {
       "output_type": "stream",
       "stream": "stdout",
       "text": [
        "\n",
        "Run models on unused early data\n",
        "Processing article No. 5226\n",
        "Run models on original data\n",
        "Run models on unused early data\n",
        "Run models on unused early data\n",
        "Run models on unused early data\n",
        "Run models on unused early data\n",
        "Run models on unused early data\n",
        "Run models on unused early data\n",
        "Run models on unused early data\n",
        "Run models on unused early data"
       ]
      },
      {
       "output_type": "stream",
       "stream": "stdout",
       "text": [
        "\n",
        "Run models on original data\n",
        "Run models on unused early data\n",
        "Run models on unused early data\n",
        "Run models on unused early data\n",
        "Run models on unused early data\n",
        "Run models on unused early data\n",
        "Run models on unused early data\n",
        "Run models on unused early data\n",
        "Run models on unused early data\n",
        "Run models on original data"
       ]
      },
      {
       "output_type": "stream",
       "stream": "stdout",
       "text": [
        "\n",
        "Run models on unused early data\n",
        "Run models on unused early data\n",
        "Run models on unused early data\n",
        "Run models on unused early data\n",
        "Run models on unused early data\n",
        "Run models on unused early data\n",
        "Run models on unused early data\n",
        "Run models on unused early data\n",
        "Run models on original data\n",
        "Run models on unused early data"
       ]
      },
      {
       "output_type": "stream",
       "stream": "stdout",
       "text": [
        "\n",
        "Run models on unused early data\n",
        "Run models on unused early data\n",
        "Run models on unused early data\n",
        "Run models on unused early data\n",
        "Run models on unused early data\n",
        "Run models on unused early data\n",
        "Run models on unused early data\n",
        "Run models on original data\n",
        "Run models on unused early data\n",
        "Run models on unused early data\n",
        "Run models on unused early data"
       ]
      },
      {
       "output_type": "stream",
       "stream": "stdout",
       "text": [
        "\n",
        "Run models on unused early data\n",
        "Run models on unused early data\n",
        "Run models on unused early data\n",
        "Run models on unused early data\n",
        "Run models on unused early data\n",
        "Run models on original data\n",
        "Run models on unused early data\n",
        "Run models on unused early data\n",
        "Run models on unused early data\n",
        "Run models on unused early data"
       ]
      },
      {
       "output_type": "stream",
       "stream": "stdout",
       "text": [
        "\n",
        "Run models on unused early data\n",
        "Run models on unused early data\n",
        "Run models on unused early data\n",
        "Run models on unused early data\n",
        "Run models on original data\n",
        "Run models on unused early data\n",
        "Run models on unused early data\n",
        "Run models on unused early data\n",
        "Run models on unused early data\n",
        "Run models on unused early data\n",
        "Run models on unused early data"
       ]
      },
      {
       "output_type": "stream",
       "stream": "stdout",
       "text": [
        "\n",
        "Run models on unused early data\n",
        "Run models on unused early data\n",
        "Run models on original data\n",
        "Run models on unused early data\n",
        "Run models on unused early data\n",
        "Run models on unused early data\n",
        "Run models on unused early data\n",
        "Run models on unused early data\n",
        "Run models on unused early data\n",
        "Run models on unused early data"
       ]
      },
      {
       "output_type": "stream",
       "stream": "stdout",
       "text": [
        "\n",
        "Run models on unused early data\n",
        "Processing article No. 5360\n",
        "Run models on original data\n",
        "CHILDS"
       ]
      },
      {
       "output_type": "stream",
       "stream": "stdout",
       "text": [
        " ~ AGE + SEX + FEPOL + FEHELP + FEFAM on year 1985\n",
        "Run models on unused early data\n",
        "CHILDS"
       ]
      },
      {
       "output_type": "stream",
       "stream": "stdout",
       "text": [
        " ~ AGE + SEX + FEPOL + FEHELP + FEFAM on year 1977\n",
        "Processing article No. 5493\n",
        "Run models on original data\n",
        "Dropping column RELIG16 because it is constant\n",
        "Dropping column MARITAL because it is constant\n",
        "Dropping column SPREL because it is constant\n",
        "Run models on original data\n",
        "Dropping column RELIG16 because it is constant\n",
        "Dropping column MARITAL because it is constant\n",
        "Dropping column SPREL because it is constant\n",
        "Run models on unused early data\n",
        "Dropping column RELIG16 because it is constant\n",
        "Dropping column MARITAL because it is constant\n",
        "Dropping column SPREL because it is constant\n",
        "Run models on unused early data\n",
        "Dropping column RELIG16 because it is constant\n",
        "Dropping column MARITAL because it is constant\n",
        "Dropping column SPREL because it is constant\n",
        "Run models on original data\n",
        "Dropping column RELIG16 because it is constant\n",
        "Dropping column MARITAL because it is constant\n",
        "Dropping column SPREL because it is constant\n",
        "Run models on original data\n",
        "Dropping column"
       ]
      },
      {
       "output_type": "stream",
       "stream": "stdout",
       "text": [
        " RELIG16 because it is constant\n",
        "Dropping column MARITAL because it is constant\n",
        "Dropping column SPREL because it is constant\n",
        "Run models on unused early data\n",
        "Dropping column RELIG16 because it is constant\n",
        "Dropping column MARITAL because it is constant\n",
        "Dropping column SPREL because it is constant\n",
        "Run models on unused early data\n",
        "Dropping column RELIG16 because it is constant\n",
        "Dropping column MARITAL because it is constant\n",
        "Dropping column SPREL because it is constant\n",
        "Processing article No. 5547\n",
        "Run models on original data\n",
        "Dropping column RELIG because it is constant\n",
        "Run models on unused early data\n",
        "Dropping column RELIG because it is constant\n",
        "Processing article No. 5549\n",
        "Run models on original data\n",
        "Dropping column RELIG because it is constant\n",
        "Run models on unused early data\n",
        "Dropping column RELIG because it is constant\n",
        "Processing article No."
       ]
      },
      {
       "output_type": "stream",
       "stream": "stdout",
       "text": [
        " 5577\n",
        "Run models on original data\n",
        "AGED"
       ]
      },
      {
       "output_type": "stream",
       "stream": "stdout",
       "text": [
        " ~ AGE on year 1975\n",
        "Run models on original data\n",
        "AGED"
       ]
      },
      {
       "output_type": "stream",
       "stream": "stdout",
       "text": [
        " ~ AGE on year 1976\n",
        "Run models on original data\n",
        "AGED"
       ]
      },
      {
       "output_type": "stream",
       "stream": "stdout",
       "text": [
        " ~ AGE on year 1978\n",
        "Run models on original data\n",
        "AGED"
       ]
      },
      {
       "output_type": "stream",
       "stream": "stdout",
       "text": [
        " ~ AGE on year 1980\n",
        "Run models on original data\n",
        "AGED"
       ]
      },
      {
       "output_type": "stream",
       "stream": "stdout",
       "text": [
        " ~ AGE on year 1983\n",
        "Run models on unused early data\n",
        "AGED"
       ]
      },
      {
       "output_type": "stream",
       "stream": "stdout",
       "text": [
        " ~ AGE on year 1973\n",
        "Processing article No. 5658\n",
        "Run models on original data\n",
        "HAPPY"
       ]
      },
      {
       "output_type": "stream",
       "stream": "stdout",
       "text": [
        " ~ SEX + DEGREE on year 1973\n",
        "Run models on original data\n",
        "HAPPY"
       ]
      },
      {
       "output_type": "stream",
       "stream": "stdout",
       "text": [
        " ~ SEX + DEGREE on year 1984\n",
        "Run models on unused early data\n",
        "HAPPY"
       ]
      },
      {
       "output_type": "stream",
       "stream": "stdout",
       "text": [
        " ~ SEX + DEGREE on year 1974\n",
        "Run models on unused early data\n",
        "HAPPY"
       ]
      },
      {
       "output_type": "stream",
       "stream": "stdout",
       "text": [
        " ~ SEX + DEGREE on year 1976\n",
        "Run models on unused early data\n",
        "HAPPY"
       ]
      },
      {
       "output_type": "stream",
       "stream": "stdout",
       "text": [
        " ~ SEX + DEGREE on year 1977\n",
        "Run models on unused early data\n",
        "HAPPY"
       ]
      },
      {
       "output_type": "stream",
       "stream": "stdout",
       "text": [
        " ~ SEX + DEGREE on year 1980\n",
        "Run models on unused early data\n",
        "HAPPY"
       ]
      },
      {
       "output_type": "stream",
       "stream": "stdout",
       "text": [
        " ~ SEX + DEGREE on year 1982\n",
        "Run models on original data\n",
        "ANOMIA5"
       ]
      },
      {
       "output_type": "stream",
       "stream": "stdout",
       "text": [
        " ~ SEX + DEGREE on year 1973\n",
        "Run models on original data\n",
        "ANOMIA5"
       ]
      },
      {
       "output_type": "stream",
       "stream": "stdout",
       "text": [
        " ~ SEX + DEGREE on year 1984\n",
        "Run models on unused early data\n",
        "ANOMIA5"
       ]
      },
      {
       "output_type": "stream",
       "stream": "stdout",
       "text": [
        " ~ SEX + DEGREE on year 1974\n",
        "Run models on unused early data\n",
        "ANOMIA5"
       ]
      },
      {
       "output_type": "stream",
       "stream": "stdout",
       "text": [
        " ~ SEX + DEGREE on year 1976\n",
        "Run models on unused early data\n",
        "ANOMIA5"
       ]
      },
      {
       "output_type": "stream",
       "stream": "stdout",
       "text": [
        " ~ SEX + DEGREE on year 1977\n",
        "Run models on unused early data\n",
        "ANOMIA5"
       ]
      },
      {
       "output_type": "stream",
       "stream": "stdout",
       "text": [
        " ~ SEX + DEGREE on year 1980\n",
        "Run models on unused early data\n",
        "ANOMIA5"
       ]
      },
      {
       "output_type": "stream",
       "stream": "stdout",
       "text": [
        " ~ SEX + DEGREE on year 1982\n",
        "Run models on original data\n",
        "ANOMIA6"
       ]
      },
      {
       "output_type": "stream",
       "stream": "stdout",
       "text": [
        " ~ SEX + DEGREE on year 1973\n",
        "Run models on original data\n",
        "ANOMIA6"
       ]
      },
      {
       "output_type": "stream",
       "stream": "stdout",
       "text": [
        " ~ SEX + DEGREE on year 1984\n",
        "Run models on unused early data\n",
        "ANOMIA6"
       ]
      },
      {
       "output_type": "stream",
       "stream": "stdout",
       "text": [
        " ~ SEX + DEGREE on year 1974\n",
        "Run models on unused early data\n",
        "ANOMIA6"
       ]
      },
      {
       "output_type": "stream",
       "stream": "stdout",
       "text": [
        " ~ SEX + DEGREE on year 1976\n",
        "Run models on unused early data\n",
        "ANOMIA6"
       ]
      },
      {
       "output_type": "stream",
       "stream": "stdout",
       "text": [
        " ~ SEX + DEGREE on year 1977\n",
        "Run models on unused early data\n",
        "ANOMIA6"
       ]
      },
      {
       "output_type": "stream",
       "stream": "stdout",
       "text": [
        " ~ SEX + DEGREE on year 1980\n",
        "Run models on unused early data\n",
        "ANOMIA6"
       ]
      },
      {
       "output_type": "stream",
       "stream": "stdout",
       "text": [
        " ~ SEX + DEGREE on year 1982\n",
        "Run models on original data\n",
        "ANOMIA7"
       ]
      },
      {
       "output_type": "stream",
       "stream": "stdout",
       "text": [
        " ~ SEX + DEGREE on year 1973\n",
        "Run models on original data\n",
        "ANOMIA7"
       ]
      },
      {
       "output_type": "stream",
       "stream": "stdout",
       "text": [
        " ~ SEX + DEGREE on year 1984\n",
        "Run models on unused early data\n",
        "ANOMIA7"
       ]
      },
      {
       "output_type": "stream",
       "stream": "stdout",
       "text": [
        " ~ SEX + DEGREE on year 1974\n",
        "Run models on unused early data\n",
        "ANOMIA7"
       ]
      },
      {
       "output_type": "stream",
       "stream": "stdout",
       "text": [
        " ~ SEX + DEGREE on year 1976\n",
        "Run models on unused early data\n",
        "ANOMIA7"
       ]
      },
      {
       "output_type": "stream",
       "stream": "stdout",
       "text": [
        " ~ SEX + DEGREE on year 1977\n",
        "Run models on unused early data\n",
        "ANOMIA7"
       ]
      },
      {
       "output_type": "stream",
       "stream": "stdout",
       "text": [
        " ~ SEX + DEGREE on year 1980\n",
        "Run models on unused early data\n",
        "ANOMIA7"
       ]
      },
      {
       "output_type": "stream",
       "stream": "stdout",
       "text": [
        " ~ SEX + DEGREE on year 1982\n",
        "Processing article No. 5681\n",
        "Run models on original data\n",
        "Run models on unused early data\n",
        "Run models on unused early data\n",
        "Run models on unused early data"
       ]
      },
      {
       "output_type": "stream",
       "stream": "stdout",
       "text": [
        "\n",
        "Run models on unused early data\n",
        "Processing article No. 5944\n",
        "Run models on original data\n",
        "Run models on original data\n",
        "Run models on unused early data"
       ]
      },
      {
       "output_type": "stream",
       "stream": "stdout",
       "text": [
        "\n",
        "Run models on original data\n",
        "Run models on original data\n",
        "Run models on unused early data\n",
        "Run models on original data\n",
        "Run models on original data\n",
        "Run models on unused early data\n",
        "Run models on original data\n",
        "Run models on original data\n",
        "Run models on unused early data"
       ]
      },
      {
       "output_type": "stream",
       "stream": "stdout",
       "text": [
        "\n",
        "Run models on original data\n",
        "Run models on original data\n",
        "Run models on unused early data\n",
        "Run models on original data\n",
        "Run models on original data"
       ]
      },
      {
       "output_type": "stream",
       "stream": "stdout",
       "text": [
        "\n",
        "Run models on unused early data\n",
        "Run models on original data\n",
        "Run models on original data\n",
        "Run models on unused early data\n",
        "Run models on original data\n",
        "Run models on original data\n",
        "Run models on unused early data\n",
        "Run models on original data\n",
        "Run models on original data"
       ]
      },
      {
       "output_type": "stream",
       "stream": "stdout",
       "text": [
        "\n",
        "Run models on unused early data\n",
        "Run models on original data\n",
        "Run models on original data\n",
        "Run models on unused early data\n",
        "Run models on original data\n",
        "Run models on original data\n",
        "Run models on unused early data"
       ]
      },
      {
       "output_type": "stream",
       "stream": "stdout",
       "text": [
        "\n",
        "Run models on original data\n",
        "Run models on original data\n",
        "Run models on unused early data\n",
        "Processing article No."
       ]
      },
      {
       "output_type": "stream",
       "stream": "stdout",
       "text": [
        " 5949\n",
        "Run models on original data\n",
        "FEHOME"
       ]
      },
      {
       "output_type": "stream",
       "stream": "stdout",
       "text": [
        " ~ FORM on year 1983\n",
        "Run models on unused early data\n",
        "FEHOME"
       ]
      },
      {
       "output_type": "stream",
       "stream": "stdout",
       "text": [
        " ~ FORM on year 1974\n",
        "Run models on unused early data\n",
        "FEHOME"
       ]
      },
      {
       "output_type": "stream",
       "stream": "stdout",
       "text": [
        " ~ FORM on year 1978\n",
        "Run models on unused early data\n",
        "FEHOME"
       ]
      },
      {
       "output_type": "stream",
       "stream": "stdout",
       "text": [
        " ~ FORM on year 1982\n",
        "Run models on original data\n",
        "FEPOL"
       ]
      },
      {
       "output_type": "stream",
       "stream": "stdout",
       "text": [
        " ~ FORM on year 1983\n",
        "Run models on unused early data\n",
        "Dropping column FORM because it is constant\n",
        "no IVs available. Skipping.\n",
        "Run models on unused early data\n",
        "FEPOL"
       ]
      },
      {
       "output_type": "stream",
       "stream": "stdout",
       "text": [
        " ~ FORM on year 1978\n",
        "Run models on unused early data\n",
        "Dropping column FORM because it is constant\n",
        "no IVs available. Skipping.\n",
        "Run models on original data\n",
        "FEPRES"
       ]
      },
      {
       "output_type": "stream",
       "stream": "stdout",
       "text": [
        " ~ FORM on year 1983\n",
        "Run models on unused early data\n",
        "FEPRES"
       ]
      },
      {
       "output_type": "stream",
       "stream": "stdout",
       "text": [
        " ~ FORM on year 1974\n",
        "Run models on unused early data\n",
        "FEPRES"
       ]
      },
      {
       "output_type": "stream",
       "stream": "stdout",
       "text": [
        " ~ FORM on year 1978\n",
        "Run models on unused early data\n",
        "FEPRES"
       ]
      },
      {
       "output_type": "stream",
       "stream": "stdout",
       "text": [
        " ~ FORM on year 1982\n",
        "Processing article No. 5985\n",
        "Run models on original data\n",
        "SPENVIRO"
       ]
      },
      {
       "output_type": "stream",
       "stream": "stdout",
       "text": [
        " ~ AGE + SEX + EDUC + INCOME on year 1990\n",
        "Run models on unused early data\n",
        "SPENVIRO"
       ]
      },
      {
       "output_type": "stream",
       "stream": "stdout",
       "text": [
        " ~ AGE + SEX + EDUC + INCOME on year 1985\n",
        "Processing article No. 6156\n",
        "Run models on original data\n",
        "Run models on original data\n",
        "Run models on unused early data\n",
        "Run models on unused early data\n",
        "Run models on unused early data\n",
        "Run models on unused early data\n",
        "Run models on unused early data\n",
        "Run models on unused early data\n",
        "Run models on original data"
       ]
      },
      {
       "output_type": "stream",
       "stream": "stdout",
       "text": [
        "\n",
        "Run models on original data\n",
        "Run models on unused early data\n",
        "Run models on unused early data\n",
        "Run models on unused early data\n",
        "Run models on unused early data\n",
        "Run models on unused early data\n",
        "Run models on unused early data\n",
        "Run models on original data\n",
        "Run models on original data"
       ]
      },
      {
       "output_type": "stream",
       "stream": "stdout",
       "text": [
        "\n",
        "Run models on unused early data\n",
        "Run models on unused early data\n",
        "Run models on unused early data\n",
        "Run models on unused early data\n",
        "Run models on unused early data\n",
        "Run models on unused early data\n",
        "Run models on original data\n",
        "Run models on original data\n",
        "Run models on unused early data\n",
        "Run models on unused early data"
       ]
      },
      {
       "output_type": "stream",
       "stream": "stdout",
       "text": [
        "\n",
        "Run models on unused early data\n",
        "Run models on unused early data\n",
        "Run models on unused early data\n",
        "Run models on unused early data\n",
        "Processing article No. 6161\n",
        "Run models on original data\n",
        "Dropping column WKSUB because it is constant\n",
        "Dropping column WKSUP because it is constant\n",
        "Run models on unused early data\n",
        "Dropping column WKSUB because it is constant\n",
        "Dropping column WKSUP because it is constant\n",
        "Run models on unused early data\n",
        "Dropping column"
       ]
      },
      {
       "output_type": "stream",
       "stream": "stdout",
       "text": [
        " WKSUB because it is constant\n",
        "Dropping column WKSUP because it is constant\n",
        "Run models on original data\n",
        "Dropping column WKSUB because it is constant\n",
        "Dropping column WKSUP because it is constant\n",
        "Run models on unused early data\n",
        "Dropping column WKSUB because it is constant\n",
        "Dropping column WKSUP because it is constant\n",
        "Run models on unused early data\n",
        "Dropping column WKSUB because it is constant\n",
        "Dropping column WKSUP because it is constant\n",
        "Processing article No. 6202\n",
        "Run models on original data\n",
        "ATTEND"
       ]
      },
      {
       "output_type": "stream",
       "stream": "stdout",
       "text": [
        " ~ AGE + DIVORCE + EDUC + POLVIEWS on year 1974\n",
        "Run models on original data\n",
        "ATTEND"
       ]
      },
      {
       "output_type": "stream",
       "stream": "stdout",
       "text": [
        " ~ AGE + DIVORCE + EDUC + POLVIEWS on year 1982\n",
        "Run models on original data\n",
        "ATTEND"
       ]
      },
      {
       "output_type": "stream",
       "stream": "stdout",
       "text": [
        " ~ AGE + DIVORCE + EDUC + POLVIEWS on year 1983\n",
        "Run models on original data\n",
        "ATTEND"
       ]
      },
      {
       "output_type": "stream",
       "stream": "stdout",
       "text": [
        " ~ AGE + DIVORCE + EDUC + POLVIEWS on year 1984\n",
        "Run models on unused early data\n",
        "ATTEND"
       ]
      },
      {
       "output_type": "stream",
       "stream": "stdout",
       "text": [
        " ~ AGE + DIVORCE + EDUC + POLVIEWS on year 1975\n",
        "Run models on unused early data\n",
        "ATTEND"
       ]
      },
      {
       "output_type": "stream",
       "stream": "stdout",
       "text": [
        " ~ AGE + DIVORCE + EDUC + POLVIEWS on year 1976\n",
        "Run models on unused early data\n",
        "ATTEND"
       ]
      },
      {
       "output_type": "stream",
       "stream": "stdout",
       "text": [
        " ~ AGE + DIVORCE + EDUC + POLVIEWS on year 1977\n",
        "Run models on unused early data\n",
        "ATTEND"
       ]
      },
      {
       "output_type": "stream",
       "stream": "stdout",
       "text": [
        " ~ AGE + DIVORCE + EDUC + POLVIEWS on year 1978\n",
        "Run models on unused early data\n",
        "ATTEND"
       ]
      },
      {
       "output_type": "stream",
       "stream": "stdout",
       "text": [
        " ~ AGE + DIVORCE + EDUC + POLVIEWS on year 1980\n",
        "Processing article No. 6285\n",
        "Run models on original data\n",
        "HELPFUL"
       ]
      },
      {
       "output_type": "stream",
       "stream": "stdout",
       "text": [
        " ~ AGE on year 1975\n",
        "Run models on original data\n",
        "HELPFUL"
       ]
      },
      {
       "output_type": "stream",
       "stream": "stdout",
       "text": [
        " ~ AGE on year 1994\n",
        "Run models on unused early data\n",
        "HELPFUL"
       ]
      },
      {
       "output_type": "stream",
       "stream": "stdout",
       "text": [
        " ~ AGE on year 1972\n",
        "Run models on unused early data\n",
        "HELPFUL"
       ]
      },
      {
       "output_type": "stream",
       "stream": "stdout",
       "text": [
        " ~ AGE on year 1973\n",
        "Run models on unused early data\n",
        "HELPFUL"
       ]
      },
      {
       "output_type": "stream",
       "stream": "stdout",
       "text": [
        " ~ AGE on year 1976\n",
        "Run models on unused early data\n",
        "HELPFUL"
       ]
      },
      {
       "output_type": "stream",
       "stream": "stdout",
       "text": [
        " ~ AGE on year 1978\n",
        "Run models on unused early data\n",
        "HELPFUL"
       ]
      },
      {
       "output_type": "stream",
       "stream": "stdout",
       "text": [
        " ~ AGE on year 1980\n",
        "Run models on unused early data\n",
        "HELPFUL"
       ]
      },
      {
       "output_type": "stream",
       "stream": "stdout",
       "text": [
        " ~ AGE on year 1983\n",
        "Run models on unused early data\n",
        "HELPFUL"
       ]
      },
      {
       "output_type": "stream",
       "stream": "stdout",
       "text": [
        " ~ AGE on year 1984\n",
        "Run models on unused early data\n",
        "HELPFUL"
       ]
      },
      {
       "output_type": "stream",
       "stream": "stdout",
       "text": [
        " ~ AGE on year 1986\n",
        "Run models on unused early data\n",
        "HELPFUL"
       ]
      },
      {
       "output_type": "stream",
       "stream": "stdout",
       "text": [
        " ~ AGE on year 1987\n",
        "Run models on unused early data\n",
        "HELPFUL"
       ]
      },
      {
       "output_type": "stream",
       "stream": "stdout",
       "text": [
        " ~ AGE on year 1988\n",
        "Run models on unused early data\n",
        "HELPFUL"
       ]
      },
      {
       "output_type": "stream",
       "stream": "stdout",
       "text": [
        " ~ AGE on year 1989\n",
        "Run models on unused early data\n",
        "HELPFUL"
       ]
      },
      {
       "output_type": "stream",
       "stream": "stdout",
       "text": [
        " ~ AGE on year 1990\n",
        "Run models on unused early data\n",
        "HELPFUL"
       ]
      },
      {
       "output_type": "stream",
       "stream": "stdout",
       "text": [
        " ~ AGE on year 1991\n",
        "Run models on unused early data\n",
        "HELPFUL"
       ]
      },
      {
       "output_type": "stream",
       "stream": "stdout",
       "text": [
        " ~ AGE on year 1993\n",
        "Processing article No. 6332\n",
        "Run models on original data\n",
        "Dropping column RELIG16 because it is constant\n",
        "Dropping column DENOM16 because it is constant\n",
        "Dropping column RELIG because it is constant\n",
        "Dropping column DENOM because it is constant\n",
        "Run models on original data\n",
        "Dropping column RELIG16 because it is constant\n",
        "Dropping column DENOM16 because it is constant\n",
        "Dropping column RELIG because it is constant\n",
        "Dropping column DENOM because it is constant\n",
        "Run models on original data\n",
        "Dropping column RELIG16 because it is constant\n",
        "Dropping column DENOM16 because it is constant\n",
        "Dropping column"
       ]
      },
      {
       "output_type": "stream",
       "stream": "stdout",
       "text": [
        " RELIG because it is constant\n",
        "Dropping column DENOM because it is constant\n",
        "Run models on original data\n",
        "Dropping column RELIG16 because it is constant\n",
        "Dropping column DENOM16 because it is constant\n",
        "Dropping column RELIG because it is constant\n",
        "Dropping column DENOM because it is constant\n",
        "Run models on original data\n",
        "Dropping column RELIG16 because it is constant\n",
        "Dropping column DENOM16 because it is constant\n",
        "Dropping column RELIG because it is constant\n",
        "Dropping column DENOM because it is constant\n",
        "Run models on unused early data\n",
        "Dropping column RELIG16 because it is constant\n",
        "Dropping column DENOM16 because it is constant\n",
        "Dropping column RELIG because it is constant\n",
        "Dropping column DENOM because it is constant\n",
        "Run models on unused early data\n",
        "Dropping column RELIG16 because it is constant\n",
        "Dropping column DENOM16 because it is constant\n",
        "Dropping column RELIG because it is constant\n",
        "Dropping column DENOM because it is constant\n",
        "Run models on unused early data\n",
        "Dropping column"
       ]
      },
      {
       "output_type": "stream",
       "stream": "stdout",
       "text": [
        " RELIG16 because it is constant\n",
        "Dropping column DENOM16 because it is constant\n",
        "Dropping column RELIG because it is constant\n",
        "Dropping column DENOM because it is constant\n",
        "Run models on unused early data\n",
        "Dropping column RELIG16 because it is constant\n",
        "Dropping column DENOM16 because it is constant\n",
        "Dropping column RELIG because it is constant\n",
        "Dropping column DENOM because it is constant\n",
        "Run models on unused early data\n",
        "Dropping column RELIG16 because it is constant\n",
        "Dropping column DENOM16 because it is constant\n",
        "Dropping column RELIG because it is constant\n",
        "Dropping column DENOM because it is constant\n",
        "Run models on unused early data\n",
        "Dropping column RELIG16 because it is constant\n",
        "Dropping column DENOM16 because it is constant\n",
        "Dropping column RELIG because it is constant\n",
        "Dropping column DENOM because it is constant\n",
        "Run models on unused early data\n",
        "Dropping column RELIG16 because it is constant\n",
        "Dropping column"
       ]
      },
      {
       "output_type": "stream",
       "stream": "stdout",
       "text": [
        " DENOM16 because it is constant\n",
        "Dropping column RELIG because it is constant\n",
        "Dropping column DENOM because it is constant\n",
        "Dropping column BORN because it is constant\n",
        "Run models on unused early data\n",
        "Dropping column RELIG16 because it is constant\n",
        "Dropping column DENOM16 because it is constant\n",
        "Dropping column RELIG because it is constant\n",
        "Dropping column DENOM because it is constant\n",
        "Run models on original data\n",
        "Dropping column RELIG16 because it is constant\n",
        "Dropping column DENOM16 because it is constant\n",
        "Dropping column RELIG because it is constant\n",
        "Dropping column DENOM because it is constant\n",
        "Run models on original data\n",
        "Dropping column RELIG16 because it is constant\n",
        "Dropping column DENOM16 because it is constant\n",
        "Dropping column RELIG because it is constant\n",
        "Dropping column DENOM because it is constant\n",
        "Run models on original data\n",
        "Dropping column"
       ]
      },
      {
       "output_type": "stream",
       "stream": "stdout",
       "text": [
        " RELIG16 because it is constant\n",
        "Dropping column DENOM16 because it is constant\n",
        "Dropping column RELIG because it is constant\n",
        "Dropping column DENOM because it is constant\n",
        "Run models on original data\n",
        "Dropping column RELIG16 because it is constant\n",
        "Dropping column DENOM16 because it is constant\n",
        "Dropping column RELIG because it is constant\n",
        "Dropping column DENOM because it is constant\n",
        "Run models on original data\n",
        "Dropping column RELIG16 because it is constant\n",
        "Dropping column DENOM16 because it is constant\n",
        "Dropping column RELIG because it is constant\n",
        "Dropping column DENOM because it is constant\n",
        "Run models on unused early data\n",
        "Dropping column RELIG16 because it is constant\n",
        "Dropping column DENOM16 because it is constant\n",
        "Dropping column RELIG because it is constant\n",
        "Dropping column DENOM because it is constant\n",
        "Run models on unused early data\n",
        "Dropping column RELIG16 because it is constant\n",
        "Dropping column DENOM16 because it is constant\n",
        "Dropping column RELIG because it is constant\n",
        "Dropping column"
       ]
      },
      {
       "output_type": "stream",
       "stream": "stdout",
       "text": [
        " DENOM because it is constant\n",
        "Run models on unused early data\n",
        "Dropping column RELIG16 because it is constant\n",
        "Dropping column DENOM16 because it is constant\n",
        "Dropping column RELIG because it is constant\n",
        "Dropping column DENOM because it is constant\n",
        "Run models on unused early data\n",
        "Dropping column RELIG16 because it is constant\n",
        "Dropping column DENOM16 because it is constant\n",
        "Dropping column RELIG because it is constant\n",
        "Dropping column DENOM because it is constant\n",
        "Run models on unused early data\n",
        "Dropping column RELIG16 because it is constant\n",
        "Dropping column DENOM16 because it is constant\n",
        "Dropping column RELIG because it is constant\n",
        "Dropping column DENOM because it is constant\n",
        "Run models on unused early data\n",
        "Dropping column RELIG16 because it is constant\n",
        "Dropping column DENOM16 because it is constant\n",
        "Dropping column RELIG because it is constant\n",
        "Dropping column DENOM because it is constant\n",
        "Run models on unused early data\n",
        "Dropping column"
       ]
      },
      {
       "output_type": "stream",
       "stream": "stdout",
       "text": [
        " RELIG16 because it is constant\n",
        "Dropping column DENOM16 because it is constant\n",
        "Dropping column RELIG because it is constant\n",
        "Dropping column DENOM because it is constant\n",
        "Run models on unused early data\n",
        "Dropping column RELIG16 because it is constant\n",
        "Dropping column DENOM16 because it is constant\n",
        "Dropping column RELIG because it is constant\n",
        "Dropping column DENOM because it is constant\n",
        "Run models on original data\n",
        "Dropping column RELIG16 because it is constant\n",
        "Dropping column DENOM16 because it is constant\n",
        "Dropping column RELIG because it is constant\n",
        "Dropping column DENOM because it is constant\n",
        "Run models on original data\n",
        "Dropping column RELIG16 because it is constant\n",
        "Dropping column DENOM16 because it is constant\n",
        "Dropping column RELIG because it is constant\n",
        "Dropping column DENOM because it is constant\n",
        "Run models on original data\n",
        "Dropping column RELIG16 because it is constant\n",
        "Dropping column"
       ]
      },
      {
       "output_type": "stream",
       "stream": "stdout",
       "text": [
        " DENOM16 because it is constant\n",
        "Dropping column RELIG because it is constant\n",
        "Dropping column DENOM because it is constant\n",
        "Run models on original data\n",
        "Dropping column RELIG16 because it is constant\n",
        "Dropping column DENOM16 because it is constant\n",
        "Dropping column RELIG because it is constant\n",
        "Dropping column DENOM because it is constant\n",
        "Run models on original data\n",
        "Dropping column RELIG16 because it is constant\n",
        "Dropping column DENOM16 because it is constant\n",
        "Dropping column RELIG because it is constant\n",
        "Dropping column DENOM because it is constant\n",
        "Run models on unused early data\n",
        "Dropping column RELIG16 because it is constant\n",
        "Dropping column DENOM16 because it is constant\n",
        "Dropping column RELIG because it is constant\n",
        "Dropping column DENOM because it is constant\n",
        "Run models on unused early data\n",
        "Dropping column"
       ]
      },
      {
       "output_type": "stream",
       "stream": "stdout",
       "text": [
        " RELIG16 because it is constant\n",
        "Dropping column DENOM16 because it is constant\n",
        "Dropping column RELIG because it is constant\n",
        "Dropping column DENOM because it is constant\n",
        "Run models on unused early data\n",
        "Dropping column RELIG16 because it is constant\n",
        "Dropping column DENOM16 because it is constant\n",
        "Dropping column RELIG because it is constant\n",
        "Dropping column DENOM because it is constant\n",
        "Run models on unused early data\n",
        "Dropping column RELIG16 because it is constant\n",
        "Dropping column DENOM16 because it is constant\n",
        "Dropping column RELIG because it is constant\n",
        "Dropping column DENOM because it is constant\n",
        "Run models on unused early data\n",
        "Dropping column RELIG16 because it is constant\n",
        "Dropping column DENOM16 because it is constant\n",
        "Dropping column RELIG because it is constant\n",
        "Dropping column DENOM because it is constant\n",
        "Run models on unused early data\n",
        "Dropping column"
       ]
      },
      {
       "output_type": "stream",
       "stream": "stdout",
       "text": [
        " RELIG16 because it is constant\n",
        "Dropping column DENOM16 because it is constant\n",
        "Dropping column RELIG because it is constant\n",
        "Dropping column DENOM because it is constant\n",
        "Run models on unused early data\n",
        "Dropping column RELIG16 because it is constant\n",
        "Dropping column DENOM16 because it is constant\n",
        "Dropping column RELIG because it is constant\n",
        "Dropping column DENOM because it is constant\n",
        "Dropping column BORN because it is constant\n",
        "Run models on unused early data\n",
        "Dropping column RELIG16 because it is constant\n",
        "Dropping column DENOM16 because it is constant\n",
        "Dropping column RELIG because it is constant\n",
        "Dropping column DENOM because it is constant\n",
        "Processing article No. 6336\n",
        "Run models on original data\n",
        "Dropping column RELIG because it is constant\n",
        "Run models on original data\n",
        "Dropping column RELIG because it is constant\n",
        "Run models on original data\n",
        "Dropping column"
       ]
      },
      {
       "output_type": "stream",
       "stream": "stdout",
       "text": [
        " RELIG because it is constant\n",
        "Run models on original data\n",
        "Dropping column RELIG because it is constant\n",
        "Run models on original data\n",
        "Dropping column RELIG because it is constant\n",
        "Run models on original data\n",
        "Dropping column RELIG because it is constant\n",
        "Run models on original data\n",
        "Dropping column RELIG because it is constant\n",
        "Run models on unused early data\n",
        "Dropping column RELIG because it is constant\n",
        "Run models on unused early data\n",
        "Dropping column RELIG because it is constant\n",
        "Run models on unused early data\n",
        "Dropping column RELIG because it is constant\n",
        "Run models on unused early data\n",
        "Dropping column"
       ]
      },
      {
       "output_type": "stream",
       "stream": "stdout",
       "text": [
        " RELIG because it is constant\n",
        "Run models on unused early data\n",
        "Dropping column RELIG because it is constant\n",
        "Run models on unused early data\n",
        "Dropping column RELIG because it is constant\n",
        "Run models on unused early data\n",
        "Dropping column RELIG because it is constant\n",
        "Run models on unused early data\n",
        "Dropping column RELIG because it is constant\n",
        "Run models on unused early data\n",
        "Dropping column RELIG because it is constant\n",
        "Run models on unused early data\n",
        "Dropping column RELIG because it is constant\n",
        "Run models on unused early data\n",
        "Dropping column RELIG because it is constant\n",
        "Processing article No. 6340\n",
        "Run models on original data\n",
        "Run models on original data"
       ]
      },
      {
       "output_type": "stream",
       "stream": "stdout",
       "text": [
        "\n",
        "Run models on original data\n",
        "Run models on original data\n",
        "Run models on original data\n",
        "Run models on original data\n",
        "Run models on unused early data\n",
        "Run models on unused early data\n",
        "Run models on unused early data\n",
        "Run models on unused early data"
       ]
      },
      {
       "output_type": "stream",
       "stream": "stdout",
       "text": [
        "\n",
        "Run models on original data\n",
        "Run models on original data\n",
        "Run models on original data\n",
        "Run models on original data\n",
        "Run models on original data\n",
        "Run models on original data\n",
        "Run models on unused early data\n",
        "Run models on unused early data"
       ]
      },
      {
       "output_type": "stream",
       "stream": "stdout",
       "text": [
        "\n",
        "Run models on unused early data\n",
        "Run models on unused early data\n",
        "Processing article No. 6364\n",
        "Run models on original data\n",
        "Run models on unused early data\n",
        "Run models on original data\n",
        "Run models on unused early data"
       ]
      },
      {
       "output_type": "stream",
       "stream": "stdout",
       "text": [
        "\n",
        "Run models on original data\n",
        "Run models on unused early data\n",
        "Run models on original data\n",
        "Run models on unused early data"
       ]
      },
      {
       "output_type": "stream",
       "stream": "stdout",
       "text": [
        "\n",
        "Processing article No. 6464\n",
        "Run models on original data\n",
        "Dropping column RELIG because it is constant\n",
        "Run models on unused early data\n",
        "Dropping column RELIG because it is constant\n",
        "Run models on original data\n",
        "Dropping column RELIG because it is constant\n",
        "Run models on unused early data\n",
        "Dropping column"
       ]
      },
      {
       "output_type": "stream",
       "stream": "stdout",
       "text": [
        " RELIG because it is constant\n",
        "Run models on original data\n",
        "Dropping column RELIG because it is constant\n",
        "Run models on unused early data\n",
        "Dropping column RELIG because it is constant\n",
        "Processing article No. 6521\n",
        "Run models on original data\n",
        "PREMARSX"
       ]
      },
      {
       "output_type": "stream",
       "stream": "stdout",
       "text": [
        " ~ SEX on year 1974\n",
        "Run models on original data\n",
        "PREMARSX"
       ]
      },
      {
       "output_type": "stream",
       "stream": "stdout",
       "text": [
        " ~ SEX on year 1985\n",
        "Run models on original data\n",
        "PREMARSX"
       ]
      },
      {
       "output_type": "stream",
       "stream": "stdout",
       "text": [
        " ~ SEX on year 1994\n",
        "Run models on unused early data\n",
        "PREMARSX"
       ]
      },
      {
       "output_type": "stream",
       "stream": "stdout",
       "text": [
        " ~ SEX on year 1977\n",
        "Run models on unused early data\n",
        "PREMARSX"
       ]
      },
      {
       "output_type": "stream",
       "stream": "stdout",
       "text": [
        " ~ SEX on year 1982\n",
        "Run models on unused early data\n",
        "PREMARSX"
       ]
      },
      {
       "output_type": "stream",
       "stream": "stdout",
       "text": [
        " ~ SEX on year 1988\n",
        "Run models on unused early data\n",
        "PREMARSX"
       ]
      },
      {
       "output_type": "stream",
       "stream": "stdout",
       "text": [
        " ~ SEX on year 1989\n",
        "Run models on unused early data\n",
        "PREMARSX ~ SEX on year 1990\n",
        "Run models on unused early data"
       ]
      },
      {
       "output_type": "stream",
       "stream": "stdout",
       "text": [
        "\n",
        "PREMARSX"
       ]
      },
      {
       "output_type": "stream",
       "stream": "stdout",
       "text": [
        " ~ SEX on year 1991\n",
        "Run models on unused early data\n",
        "PREMARSX"
       ]
      },
      {
       "output_type": "stream",
       "stream": "stdout",
       "text": [
        " ~ SEX on year 1993\n",
        "Run models on original data\n",
        "XMARSEX"
       ]
      },
      {
       "output_type": "stream",
       "stream": "stdout",
       "text": [
        " ~ SEX on year 1974\n",
        "Run models on original data\n",
        "XMARSEX"
       ]
      },
      {
       "output_type": "stream",
       "stream": "stdout",
       "text": [
        " ~ SEX on year 1985\n",
        "Run models on original data\n",
        "XMARSEX"
       ]
      },
      {
       "output_type": "stream",
       "stream": "stdout",
       "text": [
        " ~ SEX on year 1994\n",
        "Run models on unused early data\n",
        "XMARSEX"
       ]
      },
      {
       "output_type": "stream",
       "stream": "stdout",
       "text": [
        " ~ SEX on year 1977\n",
        "Run models on unused early data\n",
        "XMARSEX"
       ]
      },
      {
       "output_type": "stream",
       "stream": "stdout",
       "text": [
        " ~ SEX on year 1982\n",
        "Run models on unused early data\n",
        "XMARSEX"
       ]
      },
      {
       "output_type": "stream",
       "stream": "stdout",
       "text": [
        " ~ SEX on year 1988\n",
        "Run models on unused early data\n",
        "XMARSEX"
       ]
      },
      {
       "output_type": "stream",
       "stream": "stdout",
       "text": [
        " ~ SEX on year 1989\n",
        "Run models on unused early data\n",
        "XMARSEX ~ SEX on year 1990\n",
        "Run models on unused early data"
       ]
      },
      {
       "output_type": "stream",
       "stream": "stdout",
       "text": [
        "\n",
        "XMARSEX ~ SEX on year 1991\n",
        "Run models on unused early data"
       ]
      },
      {
       "output_type": "stream",
       "stream": "stdout",
       "text": [
        "\n",
        "XMARSEX"
       ]
      },
      {
       "output_type": "stream",
       "stream": "stdout",
       "text": [
        " ~ SEX on year 1993\n",
        "Run models on original data\n",
        "HOMOSEX"
       ]
      },
      {
       "output_type": "stream",
       "stream": "stdout",
       "text": [
        " ~ SEX on year 1974\n",
        "Run models on original data\n",
        "HOMOSEX"
       ]
      },
      {
       "output_type": "stream",
       "stream": "stdout",
       "text": [
        " ~ SEX on year 1985\n",
        "Run models on original data\n",
        "HOMOSEX"
       ]
      },
      {
       "output_type": "stream",
       "stream": "stdout",
       "text": [
        " ~ SEX on year 1994\n",
        "Run models on unused early data\n",
        "HOMOSEX"
       ]
      },
      {
       "output_type": "stream",
       "stream": "stdout",
       "text": [
        " ~ SEX on year 1977\n",
        "Run models on unused early data\n",
        "HOMOSEX"
       ]
      },
      {
       "output_type": "stream",
       "stream": "stdout",
       "text": [
        " ~ SEX on year 1982\n",
        "Run models on unused early data\n",
        "HOMOSEX ~ SEX on year 1988\n",
        "Run models on unused early data"
       ]
      },
      {
       "output_type": "stream",
       "stream": "stdout",
       "text": [
        "\n",
        "HOMOSEX"
       ]
      },
      {
       "output_type": "stream",
       "stream": "stdout",
       "text": [
        " ~ SEX on year 1989\n",
        "Run models on unused early data\n",
        "HOMOSEX"
       ]
      },
      {
       "output_type": "stream",
       "stream": "stdout",
       "text": [
        " ~ SEX on year 1990\n",
        "Run models on unused early data\n",
        "HOMOSEX"
       ]
      },
      {
       "output_type": "stream",
       "stream": "stdout",
       "text": [
        " ~ SEX on year 1991\n",
        "Run models on unused early data\n",
        "HOMOSEX"
       ]
      },
      {
       "output_type": "stream",
       "stream": "stdout",
       "text": [
        " ~ SEX on year 1993\n",
        "Processing article No. 6536\n",
        "Run models on original data\n",
        "Dropping column"
       ]
      },
      {
       "output_type": "stream",
       "stream": "stdout",
       "text": [
        " RELIG because it is constant\n",
        "Run models on original data\n",
        "Dropping column RELIG because it is constant\n",
        "Run models on original data\n",
        "Dropping column"
       ]
      },
      {
       "output_type": "stream",
       "stream": "stdout",
       "text": [
        " RELIG because it is constant\n",
        "Run models on original data\n",
        "Dropping column RELIG because it is constant\n",
        "Run models on unused early data\n",
        "Dropping column RELIG because it is constant\n",
        "Run models on unused early data"
       ]
      },
      {
       "output_type": "stream",
       "stream": "stdout",
       "text": [
        "\n",
        "Dropping column RELIG because it is constant\n",
        "Run models on original data\n",
        "Dropping column RELIG because it is constant\n",
        "Run models on original data\n",
        "Dropping column RELIG because it is constant\n",
        "Run models on original data\n",
        "Dropping column"
       ]
      },
      {
       "output_type": "stream",
       "stream": "stdout",
       "text": [
        " RELIG because it is constant\n",
        "Run models on original data\n",
        "Dropping column RELIG because it is constant\n",
        "Run models on unused early data\n",
        "Dropping column RELIG because it is constant\n",
        "Run models on unused early data\n",
        "Dropping column RELIG because it is constant\n",
        "Run models on original data\n",
        "Dropping column RELIG because it is constant\n",
        "Run models on original data\n",
        "Dropping column RELIG because it is constant\n",
        "Run models on original data"
       ]
      },
      {
       "output_type": "stream",
       "stream": "stdout",
       "text": [
        "\n",
        "Dropping column RELIG because it is constant\n",
        "Run models on original data\n",
        "Dropping column RELIG because it is constant\n",
        "Run models on unused early data\n",
        "Dropping column RELIG because it is constant\n",
        "Run models on unused early data\n",
        "Dropping column RELIG because it is constant\n",
        "Run models on original data\n",
        "Dropping column RELIG because it is constant\n",
        "Run models on original data\n",
        "Dropping column RELIG because it is constant\n",
        "Run models on original data\n",
        "Dropping column RELIG because it is constant\n",
        "Run models on original data\n",
        "Dropping column"
       ]
      },
      {
       "output_type": "stream",
       "stream": "stdout",
       "text": [
        " RELIG because it is constant\n",
        "Run models on unused early data\n",
        "Dropping column RELIG because it is constant\n",
        "Run models on unused early data\n",
        "Dropping column RELIG because it is constant\n",
        "Run models on original data\n",
        "Dropping column RELIG because it is constant\n",
        "Run models on original data\n",
        "Dropping column RELIG because it is constant\n",
        "Run models on original data\n",
        "Dropping column RELIG because it is constant\n",
        "Run models on original data\n",
        "Dropping column RELIG because it is constant\n",
        "Run models on unused early data\n",
        "Dropping column RELIG because it is constant\n",
        "Run models on unused early data\n",
        "Dropping column"
       ]
      },
      {
       "output_type": "stream",
       "stream": "stdout",
       "text": [
        " RELIG because it is constant\n",
        "Run models on original data\n",
        "Dropping column RELIG because it is constant\n",
        "Run models on original data\n",
        "Dropping column RELIG because it is constant\n",
        "Run models on original data\n",
        "Dropping column RELIG because it is constant\n",
        "Run models on original data\n",
        "Dropping column RELIG because it is constant\n",
        "Run models on unused early data\n",
        "Dropping column RELIG because it is constant\n",
        "Run models on unused early data\n",
        "Dropping column RELIG because it is constant\n",
        "Processing article No. 6537\n",
        "Run models on original data\n",
        "Run models on original data\n",
        "Run models on unused early data"
       ]
      },
      {
       "output_type": "stream",
       "stream": "stdout",
       "text": [
        "\n",
        "Run models on unused early data\n",
        "Run models on original data\n",
        "Run models on original data\n",
        "Run models on unused early data\n",
        "Run models on unused early data\n",
        "Run models on original data\n",
        "Run models on original data\n",
        "Run models on unused early data"
       ]
      },
      {
       "output_type": "stream",
       "stream": "stdout",
       "text": [
        "\n",
        "Run models on unused early data\n",
        "Run models on original data\n",
        "Run models on original data\n",
        "Run models on unused early data\n",
        "Run models on unused early data\n",
        "Run models on original data\n",
        "Run models on original data\n",
        "Run models on unused early data"
       ]
      },
      {
       "output_type": "stream",
       "stream": "stdout",
       "text": [
        "\n",
        "Run models on unused early data\n",
        "Processing article No. 6540\n",
        "Run models on original data\n",
        "Dropping column HIT because it is constant\n",
        "Run models on unused early data\n",
        "Dropping column HIT because it is constant\n",
        "Run models on original data\n",
        "Dropping column HIT because it is constant\n",
        "Run models on unused early data\n",
        "Dropping column HIT because it is constant\n",
        "Run models on original data\n",
        "Dropping column HIT because it is constant\n",
        "Run models on unused early data\n",
        "Dropping column HIT because it is constant\n",
        "Processing article No. 6604\n",
        "Run models on original data\n",
        "Run models on unused early data"
       ]
      },
      {
       "output_type": "stream",
       "stream": "stdout",
       "text": [
        "\n",
        "Run models on unused early data\n",
        "Run models on unused early data\n",
        "Run models on original data\n",
        "Run models on unused early data\n",
        "Run models on unused early data\n",
        "Run models on unused early data\n",
        "Run models on original data\n",
        "Run models on unused early data\n",
        "Run models on unused early data\n",
        "Run models on unused early data\n",
        "Run models on original data\n",
        "Run models on unused early data"
       ]
      },
      {
       "output_type": "stream",
       "stream": "stdout",
       "text": [
        "\n",
        "Run models on unused early data\n",
        "Run models on unused early data\n",
        "Run models on original data\n",
        "Run models on unused early data\n",
        "Run models on unused early data\n",
        "Run models on unused early data\n",
        "Run models on original data\n",
        "Run models on unused early data\n",
        "Run models on unused early data\n",
        "Run models on unused early data\n",
        "Run models on original data\n",
        "Run models on unused early data"
       ]
      },
      {
       "output_type": "stream",
       "stream": "stdout",
       "text": [
        "\n",
        "Run models on unused early data\n",
        "Run models on unused early data\n",
        "Run models on original data\n",
        "Run models on unused early data\n",
        "Run models on unused early data\n",
        "Run models on unused early data\n",
        "Run models on original data\n",
        "Run models on unused early data\n",
        "Run models on unused early data\n",
        "Run models on unused early data\n",
        "Run models on original data\n",
        "Run models on unused early data"
       ]
      },
      {
       "output_type": "stream",
       "stream": "stdout",
       "text": [
        "\n",
        "Run models on unused early data\n",
        "Run models on unused early data\n",
        "Run models on original data\n",
        "Run models on unused early data\n",
        "Run models on unused early data\n",
        "Run models on unused early data\n",
        "Run models on original data\n",
        "Run models on unused early data\n",
        "Run models on unused early data\n",
        "Run models on unused early data\n",
        "Run models on original data\n",
        "Run models on unused early data"
       ]
      },
      {
       "output_type": "stream",
       "stream": "stdout",
       "text": [
        "\n",
        "Run models on unused early data\n",
        "Run models on unused early data\n",
        "Run models on original data\n",
        "Run models on unused early data\n",
        "Run models on unused early data\n",
        "Run models on unused early data\n",
        "Run models on original data\n",
        "Run models on unused early data\n",
        "Run models on unused early data\n",
        "Run models on unused early data\n",
        "Processing article No. 6664\n",
        "Run models on original data\n",
        "Dropping column"
       ]
      },
      {
       "output_type": "stream",
       "stream": "stdout",
       "text": [
        " MARITAL because it is constant\n",
        "Run models on original data\n",
        "Dropping column MARITAL because it is constant\n",
        "Run models on original data\n",
        "Dropping column MARITAL because it is constant\n",
        "Run models on original data\n",
        "Dropping column MARITAL because it is constant\n",
        "Run models on unused early data\n",
        "Dropping column MARITAL because it is constant\n",
        "Processing article No. 6686\n",
        "Run models on original data\n",
        "Dropping column MARITAL because it is constant\n",
        "Run models on original data\n",
        "Dropping column MARITAL because it is constant\n",
        "Run models on unused early data\n",
        "Dropping column"
       ]
      },
      {
       "output_type": "stream",
       "stream": "stdout",
       "text": [
        " MARITAL because it is constant\n",
        "Run models on unused early data\n",
        "Dropping column MARITAL because it is constant\n",
        "Run models on unused early data\n",
        "Dropping column MARITAL because it is constant\n",
        "Run models on unused early data\n",
        "Dropping column MARITAL because it is constant\n",
        "Processing article No. 6731\n",
        "Run models on original data\n",
        "Run models on original data\n",
        "Run models on unused early data\n",
        "Run models on unused early data\n",
        "Run models on unused early data\n",
        "Run models on original data"
       ]
      },
      {
       "output_type": "stream",
       "stream": "stdout",
       "text": [
        "\n",
        "Run models on original data\n",
        "Run models on unused early data\n",
        "Run models on unused early data\n",
        "Run models on unused early data\n",
        "Processing article No. 6734\n",
        "Run models on original data\n",
        "Run models on original data\n",
        "Run models on original data\n",
        "Run models on original data\n",
        "Run models on original data"
       ]
      },
      {
       "output_type": "stream",
       "stream": "stdout",
       "text": [
        "\n",
        "Run models on original data\n",
        "Run models on unused early data\n",
        "Run models on original data\n",
        "Run models on original data\n",
        "Run models on original data\n",
        "Run models on original data\n",
        "Run models on original data\n",
        "Run models on original data\n",
        "Run models on unused early data"
       ]
      },
      {
       "output_type": "stream",
       "stream": "stdout",
       "text": [
        "\n",
        "Run models on original data\n",
        "Run models on original data\n",
        "Run models on original data\n",
        "Run models on original data\n",
        "Run models on original data\n",
        "Run models on original data\n",
        "Run models on unused early data\n",
        "Run models on original data\n",
        "Run models on original data"
       ]
      },
      {
       "output_type": "stream",
       "stream": "stdout",
       "text": [
        "\n",
        "Run models on original data\n",
        "Run models on original data\n",
        "Run models on original data\n",
        "Run models on original data\n",
        "Run models on unused early data\n",
        "Processing article No. 6825\n",
        "Run models on original data\n",
        "Run models on original data\n",
        "Run models on unused early data\n",
        "Run models on unused early data"
       ]
      },
      {
       "output_type": "stream",
       "stream": "stdout",
       "text": [
        "\n",
        "Run models on unused early data\n",
        "Run models on unused early data\n",
        "Run models on unused early data\n",
        "Run models on unused early data\n",
        "Run models on unused early data\n",
        "Run models on unused early data\n",
        "Run models on original data\n",
        "Run models on original data\n",
        "Run models on unused early data\n",
        "Run models on unused early data\n",
        "Run models on unused early data"
       ]
      },
      {
       "output_type": "stream",
       "stream": "stdout",
       "text": [
        "\n",
        "Run models on unused early data\n",
        "Run models on unused early data\n",
        "Run models on unused early data\n",
        "Run models on unused early data\n",
        "Run models on unused early data\n",
        "Run models on original data\n",
        "Run models on original data\n",
        "Run models on unused early data\n",
        "Run models on unused early data\n",
        "Run models on unused early data\n",
        "Run models on unused early data"
       ]
      },
      {
       "output_type": "stream",
       "stream": "stdout",
       "text": [
        "\n",
        "Run models on unused early data\n",
        "Run models on unused early data\n",
        "Run models on unused early data\n",
        "Run models on unused early data\n",
        "Run models on original data\n",
        "Run models on original data\n",
        "Run models on unused early data\n",
        "Run models on unused early data\n",
        "Run models on unused early data\n",
        "Run models on unused early data\n",
        "Run models on unused early data"
       ]
      },
      {
       "output_type": "stream",
       "stream": "stdout",
       "text": [
        "\n",
        "Run models on unused early data\n",
        "Run models on unused early data\n",
        "Run models on unused early data\n",
        "Run models on original data\n",
        "Run models on original data\n",
        "Run models on unused early data\n",
        "Run models on unused early data\n",
        "Run models on unused early data\n",
        "Run models on unused early data\n",
        "Run models on unused early data\n",
        "Run models on unused early data"
       ]
      },
      {
       "output_type": "stream",
       "stream": "stdout",
       "text": [
        "\n",
        "Run models on unused early data\n",
        "Run models on unused early data\n",
        "Run models on original data\n",
        "Run models on original data\n",
        "Run models on unused early data\n",
        "Run models on unused early data\n",
        "Run models on unused early data\n",
        "Run models on unused early data\n",
        "Run models on unused early data\n",
        "Run models on unused early data\n",
        "Run models on unused early data"
       ]
      },
      {
       "output_type": "stream",
       "stream": "stdout",
       "text": [
        "\n",
        "Run models on unused early data\n",
        "Run models on original data\n",
        "Run models on original data\n",
        "Run models on unused early data\n",
        "Run models on unused early data\n",
        "Run models on unused early data\n",
        "Run models on unused early data\n",
        "Run models on unused early data\n",
        "Run models on unused early data\n",
        "Run models on unused early data\n",
        "Run models on unused early data"
       ]
      },
      {
       "output_type": "stream",
       "stream": "stdout",
       "text": [
        "\n",
        "Run models on original data\n",
        "Run models on original data\n",
        "Run models on unused early data\n",
        "Run models on unused early data\n",
        "Run models on unused early data\n",
        "Run models on unused early data\n",
        "Run models on unused early data\n",
        "Run models on unused early data\n",
        "Run models on unused early data\n",
        "Run models on unused early data"
       ]
      },
      {
       "output_type": "stream",
       "stream": "stdout",
       "text": [
        "\n",
        "Processing article No. 6872\n",
        "Run models on original data\n",
        "WRKSLF"
       ]
      },
      {
       "output_type": "stream",
       "stream": "stdout",
       "text": [
        " ~ SEX + PAWRKSLF + EDUC on year 1977\n",
        "Run models on unused early data\n",
        "WRKSLF"
       ]
      },
      {
       "output_type": "stream",
       "stream": "stdout",
       "text": [
        " ~ SEX + PAWRKSLF + EDUC on year 1972\n",
        "Run models on unused early data\n",
        "WRKSLF"
       ]
      },
      {
       "output_type": "stream",
       "stream": "stdout",
       "text": [
        " ~ SEX + PAWRKSLF + EDUC on year 1973\n",
        "Run models on unused early data\n",
        "WRKSLF"
       ]
      },
      {
       "output_type": "stream",
       "stream": "stdout",
       "text": [
        " ~ SEX + PAWRKSLF + EDUC on year 1974\n",
        "Run models on unused early data\n",
        "WRKSLF"
       ]
      },
      {
       "output_type": "stream",
       "stream": "stdout",
       "text": [
        " ~ SEX + PAWRKSLF + EDUC on year 1976\n",
        "Run models on original data\n",
        "WKSUPS"
       ]
      },
      {
       "output_type": "stream",
       "stream": "stdout",
       "text": [
        " ~ SEX + PAWRKSLF + EDUC on year 1977\n",
        "Run models on unused early data\n",
        "WKSUPS"
       ]
      },
      {
       "output_type": "stream",
       "stream": "stdout",
       "text": [
        " ~ SEX + PAWRKSLF + EDUC on year 1972\n",
        "Run models on unused early data\n",
        "WKSUPS"
       ]
      },
      {
       "output_type": "stream",
       "stream": "stdout",
       "text": [
        " ~ SEX + PAWRKSLF + EDUC on year 1973\n",
        "Run models on unused early data\n",
        "WKSUPS"
       ]
      },
      {
       "output_type": "stream",
       "stream": "stdout",
       "text": [
        " ~ SEX + PAWRKSLF + EDUC on year 1974\n",
        "Run models on unused early data\n",
        "WKSUPS"
       ]
      },
      {
       "output_type": "stream",
       "stream": "stdout",
       "text": [
        " ~ SEX + PAWRKSLF + EDUC on year 1976\n",
        "Run models on original data\n",
        "WKSUP"
       ]
      },
      {
       "output_type": "stream",
       "stream": "stdout",
       "text": [
        " ~ SEX + PAWRKSLF + EDUC on year 1977\n",
        "Run models on unused early data\n",
        "WKSUP"
       ]
      },
      {
       "output_type": "stream",
       "stream": "stdout",
       "text": [
        " ~ SEX + PAWRKSLF + EDUC on year 1972\n",
        "Run models on unused early data\n",
        "WKSUP"
       ]
      },
      {
       "output_type": "stream",
       "stream": "stdout",
       "text": [
        " ~ SEX + PAWRKSLF + EDUC on year 1973\n",
        "Run models on unused early data\n",
        "WKSUP"
       ]
      },
      {
       "output_type": "stream",
       "stream": "stdout",
       "text": [
        " ~ SEX + PAWRKSLF + EDUC on year 1974\n",
        "Run models on unused early data\n",
        "WKSUP"
       ]
      },
      {
       "output_type": "stream",
       "stream": "stdout",
       "text": [
        " ~ SEX + PAWRKSLF + EDUC on year 1976\n",
        "Run models on original data\n",
        "WKSUB"
       ]
      },
      {
       "output_type": "stream",
       "stream": "stdout",
       "text": [
        " ~ SEX + PAWRKSLF + EDUC on year 1977\n",
        "Run models on unused early data\n",
        "WKSUB"
       ]
      },
      {
       "output_type": "stream",
       "stream": "stdout",
       "text": [
        " ~ SEX + PAWRKSLF + EDUC on year 1972\n",
        "Run models on unused early data\n",
        "WKSUB"
       ]
      },
      {
       "output_type": "stream",
       "stream": "stdout",
       "text": [
        " ~ SEX + PAWRKSLF + EDUC on year 1973\n",
        "Run models on unused early data\n",
        "WKSUB"
       ]
      },
      {
       "output_type": "stream",
       "stream": "stdout",
       "text": [
        " ~ SEX + PAWRKSLF + EDUC on year 1974\n",
        "Run models on unused early data\n",
        "WKSUB"
       ]
      },
      {
       "output_type": "stream",
       "stream": "stdout",
       "text": [
        " ~ SEX + PAWRKSLF + EDUC on year 1976\n",
        "Processing article No. 6877\n",
        "Run models on original data\n",
        "Run models on unused early data\n",
        "Run models on unused early data\n",
        "Run models on unused early data\n",
        "Run models on original data\n",
        "Run models on unused early data\n",
        "Run models on unused early data\n",
        "Run models on unused early data\n",
        "Run models on original data\n",
        "Run models on unused early data"
       ]
      },
      {
       "output_type": "stream",
       "stream": "stdout",
       "text": [
        "\n",
        "Run models on unused early data\n",
        "Run models on unused early data\n",
        "Run models on original data\n",
        "Run models on unused early data\n",
        "Run models on unused early data\n",
        "Run models on unused early data\n",
        "Run models on original data\n",
        "Run models on unused early data\n",
        "Run models on unused early data\n",
        "Run models on unused early data\n",
        "Run models on original data"
       ]
      },
      {
       "output_type": "stream",
       "stream": "stdout",
       "text": [
        "\n",
        "Run models on unused early data\n",
        "Run models on unused early data\n",
        "Run models on unused early data\n",
        "Run models on original data\n",
        "Run models on unused early data\n",
        "Run models on unused early data"
       ]
      },
      {
       "output_type": "stream",
       "stream": "stdout",
       "text": [
        "\n",
        "Run models on unused early data\n",
        "Run models on original data\n",
        "Run models on unused early data\n",
        "Run models on unused early data\n",
        "Run models on unused early data\n",
        "Processing article No. 7282\n",
        "Run models on original data\n",
        "ANOMIA1"
       ]
      },
      {
       "output_type": "stream",
       "stream": "stdout",
       "text": [
        " ~ EDUC + SIZE + DOTPRES + ATTEND + POSTLIFE on year 1976\n",
        "Run models on unused early data\n",
        "ANOMIA1"
       ]
      },
      {
       "output_type": "stream",
       "stream": "stdout",
       "text": [
        " ~ EDUC + SIZE + DOTPRES + ATTEND + POSTLIFE on year 1973\n",
        "Run models on original data\n",
        "ANOMIA2"
       ]
      },
      {
       "output_type": "stream",
       "stream": "stdout",
       "text": [
        " ~ EDUC + SIZE + DOTPRES + ATTEND + POSTLIFE on year 1976\n",
        "Run models on unused early data\n",
        "ANOMIA2"
       ]
      },
      {
       "output_type": "stream",
       "stream": "stdout",
       "text": [
        " ~ EDUC + SIZE + DOTPRES + ATTEND + POSTLIFE on year 1973\n",
        "Run models on original data\n",
        "ANOMIA3"
       ]
      },
      {
       "output_type": "stream",
       "stream": "stdout",
       "text": [
        " ~ EDUC + SIZE + DOTPRES + ATTEND + POSTLIFE on year 1976\n",
        "Run models on unused early data\n",
        "ANOMIA3"
       ]
      },
      {
       "output_type": "stream",
       "stream": "stdout",
       "text": [
        " ~ EDUC + SIZE + DOTPRES + ATTEND + POSTLIFE on year 1973\n",
        "Run models on original data\n",
        "ANOMIA4"
       ]
      },
      {
       "output_type": "stream",
       "stream": "stdout",
       "text": [
        " ~ EDUC + SIZE + DOTPRES + ATTEND + POSTLIFE on year 1976\n",
        "Run models on unused early data\n",
        "ANOMIA4"
       ]
      },
      {
       "output_type": "stream",
       "stream": "stdout",
       "text": [
        " ~ EDUC + SIZE + DOTPRES + ATTEND + POSTLIFE on year 1973\n",
        "Run models on original data\n",
        "ANOMIA5"
       ]
      },
      {
       "output_type": "stream",
       "stream": "stdout",
       "text": [
        " ~ EDUC + SIZE + DOTPRES + ATTEND + POSTLIFE on year 1976\n",
        "Run models on unused early data\n",
        "ANOMIA5"
       ]
      },
      {
       "output_type": "stream",
       "stream": "stdout",
       "text": [
        " ~ EDUC + SIZE + DOTPRES + ATTEND + POSTLIFE on year 1973\n",
        "Run models on original data\n",
        "ANOMIA6"
       ]
      },
      {
       "output_type": "stream",
       "stream": "stdout",
       "text": [
        " ~ EDUC + SIZE + DOTPRES + ATTEND + POSTLIFE on year 1976\n",
        "Run models on unused early data\n",
        "ANOMIA6"
       ]
      },
      {
       "output_type": "stream",
       "stream": "stdout",
       "text": [
        " ~ EDUC + SIZE + DOTPRES + ATTEND + POSTLIFE on year 1973\n",
        "Run models on original data\n",
        "ANOMIA7"
       ]
      },
      {
       "output_type": "stream",
       "stream": "stdout",
       "text": [
        " ~ EDUC + SIZE + DOTPRES + ATTEND + POSTLIFE on year 1976\n",
        "Run models on unused early data\n",
        "ANOMIA7"
       ]
      },
      {
       "output_type": "stream",
       "stream": "stdout",
       "text": [
        " ~ EDUC + SIZE + DOTPRES + ATTEND + POSTLIFE on year 1973\n",
        "Run models on original data\n",
        "ANOMIA8"
       ]
      },
      {
       "output_type": "stream",
       "stream": "stdout",
       "text": [
        " ~ EDUC + SIZE + DOTPRES + ATTEND + POSTLIFE on year 1976\n",
        "Run models on unused early data\n",
        "ANOMIA8"
       ]
      },
      {
       "output_type": "stream",
       "stream": "stdout",
       "text": [
        " ~ EDUC + SIZE + DOTPRES + ATTEND + POSTLIFE on year 1973\n",
        "Run models on original data\n",
        "ANOMIA9"
       ]
      },
      {
       "output_type": "stream",
       "stream": "stdout",
       "text": [
        " ~ EDUC + SIZE + DOTPRES + ATTEND + POSTLIFE on year 1976\n",
        "Run models on unused early data\n",
        "ANOMIA9"
       ]
      },
      {
       "output_type": "stream",
       "stream": "stdout",
       "text": [
        " ~ EDUC + SIZE + DOTPRES + ATTEND + POSTLIFE on year 1973\n",
        "Processing article No. 7362\n",
        "Run models on original data\n",
        "Run models on unused early data\n",
        "Dropping column MARITAL because it is constant\n",
        "RWRKNOKD"
       ]
      },
      {
       "output_type": "stream",
       "stream": "stdout",
       "text": [
        " ~ AGE + DEGREE + EDUC + MARITAL + WKSUP on year 1988\n",
        "Run models on original data\n",
        "Run models on unused early data\n",
        "Dropping column MARITAL because it is constant\n",
        "RWRKBABY"
       ]
      },
      {
       "output_type": "stream",
       "stream": "stdout",
       "text": [
        " ~ AGE + DEGREE + EDUC + MARITAL + WKSUP on year 1988\n",
        "Run models on original data\n",
        "Run models on unused early data\n",
        "Dropping column MARITAL because it is constant\n",
        "RWRKSCH "
       ]
      },
      {
       "output_type": "stream",
       "stream": "stdout",
       "text": [
        "~ AGE + DEGREE + EDUC + MARITAL + WKSUP on year 1988\n",
        "Run models on original data\n",
        "Run models on unused early data\n",
        "Dropping column MARITAL because it is constant\n",
        "RWRKGRWN ~ AGE + DEGREE + EDUC + MARITAL + WKSUP on year 1988\n",
        "Processing article No. 7432\n",
        "Run models on original data\n",
        "Run models on original data"
       ]
      },
      {
       "output_type": "stream",
       "stream": "stdout",
       "text": [
        "\n",
        "Run models on original data\n",
        "Run models on original data\n",
        "Run models on original data\n",
        "Run models on original data\n",
        "Run models on original data\n",
        "Run models on original data\n",
        "Run models on original data\n",
        "Run models on unused early data\n",
        "Run models on original data\n",
        "Run models on original data\n",
        "Run models on original data\n",
        "Run models on original data\n",
        "Run models on original data"
       ]
      },
      {
       "output_type": "stream",
       "stream": "stdout",
       "text": [
        "\n",
        "Run models on original data\n",
        "Run models on original data\n",
        "Run models on original data\n",
        "Run models on original data\n",
        "Run models on unused early data\n",
        "Run models on original data\n",
        "Run models on original data\n",
        "Run models on original data\n",
        "Run models on original data\n",
        "Run models on original data\n",
        "Run models on original data\n",
        "Run models on original data\n",
        "Run models on original data\n",
        "Run models on original data"
       ]
      },
      {
       "output_type": "stream",
       "stream": "stdout",
       "text": [
        "\n",
        "Run models on unused early data\n",
        "Run models on original data\n",
        "Run models on original data\n",
        "Run models on original data\n",
        "Run models on original data\n",
        "Run models on original data\n",
        "Run models on original data\n",
        "Run models on original data\n",
        "Run models on original data\n",
        "Run models on original data\n",
        "Run models on unused early data\n",
        "Run models on original data\n",
        "Run models on original data"
       ]
      },
      {
       "output_type": "stream",
       "stream": "stdout",
       "text": [
        "\n",
        "Run models on original data\n",
        "Run models on original data\n",
        "Run models on original data\n",
        "Run models on original data\n",
        "Run models on original data\n",
        "Run models on original data\n",
        "Run models on original data\n",
        "Run models on unused early data\n",
        "Run models on original data\n",
        "Run models on original data\n",
        "Run models on original data\n",
        "Run models on original data\n",
        "Run models on original data\n",
        "Run models on original data"
       ]
      },
      {
       "output_type": "stream",
       "stream": "stdout",
       "text": [
        "\n",
        "Run models on original data\n",
        "Run models on original data\n",
        "Run models on original data\n",
        "Run models on unused early data\n",
        "Processing article No. 7638\n",
        "Run models on original data\n",
        "Run models on original data\n",
        "Run models on unused early data\n",
        "Run models on unused early data\n",
        "Run models on unused early data\n",
        "Run models on unused early data\n",
        "Run models on unused early data"
       ]
      },
      {
       "output_type": "stream",
       "stream": "stdout",
       "text": [
        "\n",
        "Run models on unused early data\n",
        "Processing article No. 7713\n",
        "Run models on original data\n",
        "Run models on original data\n",
        "Run models on original data\n",
        "Run models on original data\n",
        "Run models on unused early data\n",
        "Processing article No. 7746\n",
        "Run models on original data\n",
        "Run models on original data\n",
        "Run models on original data\n",
        "Run models on original data"
       ]
      },
      {
       "output_type": "stream",
       "stream": "stdout",
       "text": [
        "\n",
        "Run models on unused early data\n",
        "Run models on unused early data\n",
        "Run models on unused early data\n",
        "Run models on unused early data\n",
        "Run models on unused early data\n",
        "Run models on unused early data\n"
       ]
      }
     ],
     "prompt_number": 246
    },
    {
     "cell_type": "code",
     "collapsed": false,
     "input": [
      "len(articlesToUse)"
     ],
     "language": "python",
     "metadata": {},
     "outputs": [
      {
       "metadata": {},
       "output_type": "pyout",
       "prompt_number": 248,
       "text": [
        "133"
       ]
      }
     ],
     "prompt_number": 248
    },
    {
     "cell_type": "markdown",
     "metadata": {},
     "source": [
      "#Output"
     ]
    },
    {
     "cell_type": "code",
     "collapsed": false,
     "input": [
      "print output.mean()\n",
      "output.mean().plot(kind='bar')\n",
      "# output.boxplot(column='%_of_coeffs_signif.')"
     ],
     "language": "python",
     "metadata": {},
     "outputs": [
      {
       "output_type": "stream",
       "stream": "stdout",
       "text": [
        "%_of_coeffs_signif.  group1    0.477103\n",
        "                     group2    0.538028\n",
        "avg_coeff_size       group1    0.152826\n",
        "                     group2    0.156753\n",
        "Rs                   group1    0.061095\n",
        "                     group2    0.060106\n",
        "adj_Rs               group1    0.058480\n",
        "                     group2    0.057428\n",
        "avg_p-value          group1    0.222038\n",
        "                     group2    0.208343\n",
        "dtype: float64\n"
       ]
      },
      {
       "metadata": {},
       "output_type": "pyout",
       "prompt_number": 251,
       "text": [
        "<matplotlib.axes.AxesSubplot at 0xa0c6910>"
       ]
      },
      {
       "metadata": {},
       "output_type": "display_data",
       "png": "[encoded data removed]",
       "text": [
        "<matplotlib.figure.Figure at 0x9204a90>"
       ]
      }
     ],
     "prompt_number": 251
    },
    {
     "cell_type": "code",
     "collapsed": false,
     "input": [
      "td"
     ],
     "language": "python",
     "metadata": {},
     "outputs": [
      {
       "metadata": {},
       "output_type": "pyout",
       "prompt_number": 239,
       "text": [
        "defaultdict(<type 'dict'>, {'group1': {'numSig': 0.0, 'numTotal': 0.0, 'avg_p-value': [], 'Rs': [], 'adj_Rs': [], 'avg_coeff_size': [], '%_of_coeffs_signif.': []}, 'group2': {'numSig': 0.0, 'numTotal': 0.0, 'avg_p-value': [], 'Rs': [], 'adj_Rs': [], 'avg_coeff_size': [], '%_of_coeffs_signif.': []}})"
       ]
      }
     ],
     "prompt_number": 239
    },
    {
     "cell_type": "code",
     "collapsed": false,
     "input": [
      "output"
     ],
     "language": "python",
     "metadata": {},
     "outputs": [
      {
       "html": [
        "<div style=\"max-height:1000px;max-width:1500px;overflow:auto;\">\n",
        "<table border=\"1\" class=\"dataframe\">\n",
        "  <thead>\n",
        "    <tr>\n",
        "      <th></th>\n",
        "      <th colspan=\"2\" halign=\"left\">%_of_coeffs_signif.</th>\n",
        "      <th colspan=\"2\" halign=\"left\">avg_coeff_size</th>\n",
        "      <th colspan=\"2\" halign=\"left\">Rs</th>\n",
        "      <th colspan=\"2\" halign=\"left\">adj_Rs</th>\n",
        "      <th colspan=\"2\" halign=\"left\">avg_p-value</th>\n",
        "    </tr>\n",
        "    <tr>\n",
        "      <th></th>\n",
        "      <th>group1</th>\n",
        "      <th>group2</th>\n",
        "      <th>group1</th>\n",
        "      <th>group2</th>\n",
        "      <th>group1</th>\n",
        "      <th>group2</th>\n",
        "      <th>group1</th>\n",
        "      <th>group2</th>\n",
        "      <th>group1</th>\n",
        "      <th>group2</th>\n",
        "    </tr>\n",
        "  </thead>\n",
        "  <tbody>\n",
        "    <tr>\n",
        "      <th>59  </th>\n",
        "      <td> NaN</td>\n",
        "      <td> NaN</td>\n",
        "      <td> NaN</td>\n",
        "      <td> NaN</td>\n",
        "      <td> NaN</td>\n",
        "      <td> NaN</td>\n",
        "      <td> NaN</td>\n",
        "      <td> NaN</td>\n",
        "      <td> NaN</td>\n",
        "      <td> NaN</td>\n",
        "    </tr>\n",
        "    <tr>\n",
        "      <th>175 </th>\n",
        "      <td> NaN</td>\n",
        "      <td> NaN</td>\n",
        "      <td> NaN</td>\n",
        "      <td> NaN</td>\n",
        "      <td> NaN</td>\n",
        "      <td> NaN</td>\n",
        "      <td> NaN</td>\n",
        "      <td> NaN</td>\n",
        "      <td> NaN</td>\n",
        "      <td> NaN</td>\n",
        "    </tr>\n",
        "    <tr>\n",
        "      <th>348 </th>\n",
        "      <td> NaN</td>\n",
        "      <td> NaN</td>\n",
        "      <td> NaN</td>\n",
        "      <td> NaN</td>\n",
        "      <td> NaN</td>\n",
        "      <td> NaN</td>\n",
        "      <td> NaN</td>\n",
        "      <td> NaN</td>\n",
        "      <td> NaN</td>\n",
        "      <td> NaN</td>\n",
        "    </tr>\n",
        "    <tr>\n",
        "      <th>358 </th>\n",
        "      <td> NaN</td>\n",
        "      <td> NaN</td>\n",
        "      <td> NaN</td>\n",
        "      <td> NaN</td>\n",
        "      <td> NaN</td>\n",
        "      <td> NaN</td>\n",
        "      <td> NaN</td>\n",
        "      <td> NaN</td>\n",
        "      <td> NaN</td>\n",
        "      <td> NaN</td>\n",
        "    </tr>\n",
        "    <tr>\n",
        "      <th>396 </th>\n",
        "      <td> NaN</td>\n",
        "      <td> NaN</td>\n",
        "      <td> NaN</td>\n",
        "      <td> NaN</td>\n",
        "      <td> NaN</td>\n",
        "      <td> NaN</td>\n",
        "      <td> NaN</td>\n",
        "      <td> NaN</td>\n",
        "      <td> NaN</td>\n",
        "      <td> NaN</td>\n",
        "    </tr>\n",
        "    <tr>\n",
        "      <th>686 </th>\n",
        "      <td> NaN</td>\n",
        "      <td> NaN</td>\n",
        "      <td> NaN</td>\n",
        "      <td> NaN</td>\n",
        "      <td> NaN</td>\n",
        "      <td> NaN</td>\n",
        "      <td> NaN</td>\n",
        "      <td> NaN</td>\n",
        "      <td> NaN</td>\n",
        "      <td> NaN</td>\n",
        "    </tr>\n",
        "    <tr>\n",
        "      <th>706 </th>\n",
        "      <td> NaN</td>\n",
        "      <td> NaN</td>\n",
        "      <td> NaN</td>\n",
        "      <td> NaN</td>\n",
        "      <td> NaN</td>\n",
        "      <td> NaN</td>\n",
        "      <td> NaN</td>\n",
        "      <td> NaN</td>\n",
        "      <td> NaN</td>\n",
        "      <td> NaN</td>\n",
        "    </tr>\n",
        "    <tr>\n",
        "      <th>739 </th>\n",
        "      <td> NaN</td>\n",
        "      <td> NaN</td>\n",
        "      <td> NaN</td>\n",
        "      <td> NaN</td>\n",
        "      <td> NaN</td>\n",
        "      <td> NaN</td>\n",
        "      <td> NaN</td>\n",
        "      <td> NaN</td>\n",
        "      <td> NaN</td>\n",
        "      <td> NaN</td>\n",
        "    </tr>\n",
        "    <tr>\n",
        "      <th>742 </th>\n",
        "      <td> NaN</td>\n",
        "      <td> NaN</td>\n",
        "      <td> NaN</td>\n",
        "      <td> NaN</td>\n",
        "      <td> NaN</td>\n",
        "      <td> NaN</td>\n",
        "      <td> NaN</td>\n",
        "      <td> NaN</td>\n",
        "      <td> NaN</td>\n",
        "      <td> NaN</td>\n",
        "    </tr>\n",
        "    <tr>\n",
        "      <th>756 </th>\n",
        "      <td> NaN</td>\n",
        "      <td> NaN</td>\n",
        "      <td> NaN</td>\n",
        "      <td> NaN</td>\n",
        "      <td> NaN</td>\n",
        "      <td> NaN</td>\n",
        "      <td> NaN</td>\n",
        "      <td> NaN</td>\n",
        "      <td> NaN</td>\n",
        "      <td> NaN</td>\n",
        "    </tr>\n",
        "    <tr>\n",
        "      <th>801 </th>\n",
        "      <td> NaN</td>\n",
        "      <td> NaN</td>\n",
        "      <td> NaN</td>\n",
        "      <td> NaN</td>\n",
        "      <td> NaN</td>\n",
        "      <td> NaN</td>\n",
        "      <td> NaN</td>\n",
        "      <td> NaN</td>\n",
        "      <td> NaN</td>\n",
        "      <td> NaN</td>\n",
        "    </tr>\n",
        "    <tr>\n",
        "      <th>829 </th>\n",
        "      <td> NaN</td>\n",
        "      <td> NaN</td>\n",
        "      <td> NaN</td>\n",
        "      <td> NaN</td>\n",
        "      <td> NaN</td>\n",
        "      <td> NaN</td>\n",
        "      <td> NaN</td>\n",
        "      <td> NaN</td>\n",
        "      <td> NaN</td>\n",
        "      <td> NaN</td>\n",
        "    </tr>\n",
        "    <tr>\n",
        "      <th>835 </th>\n",
        "      <td> NaN</td>\n",
        "      <td> NaN</td>\n",
        "      <td> NaN</td>\n",
        "      <td> NaN</td>\n",
        "      <td> NaN</td>\n",
        "      <td> NaN</td>\n",
        "      <td> NaN</td>\n",
        "      <td> NaN</td>\n",
        "      <td> NaN</td>\n",
        "      <td> NaN</td>\n",
        "    </tr>\n",
        "    <tr>\n",
        "      <th>861 </th>\n",
        "      <td> NaN</td>\n",
        "      <td> NaN</td>\n",
        "      <td> NaN</td>\n",
        "      <td> NaN</td>\n",
        "      <td> NaN</td>\n",
        "      <td> NaN</td>\n",
        "      <td> NaN</td>\n",
        "      <td> NaN</td>\n",
        "      <td> NaN</td>\n",
        "      <td> NaN</td>\n",
        "    </tr>\n",
        "    <tr>\n",
        "      <th>905 </th>\n",
        "      <td> NaN</td>\n",
        "      <td> NaN</td>\n",
        "      <td> NaN</td>\n",
        "      <td> NaN</td>\n",
        "      <td> NaN</td>\n",
        "      <td> NaN</td>\n",
        "      <td> NaN</td>\n",
        "      <td> NaN</td>\n",
        "      <td> NaN</td>\n",
        "      <td> NaN</td>\n",
        "    </tr>\n",
        "    <tr>\n",
        "      <th>906 </th>\n",
        "      <td> NaN</td>\n",
        "      <td> NaN</td>\n",
        "      <td> NaN</td>\n",
        "      <td> NaN</td>\n",
        "      <td> NaN</td>\n",
        "      <td> NaN</td>\n",
        "      <td> NaN</td>\n",
        "      <td> NaN</td>\n",
        "      <td> NaN</td>\n",
        "      <td> NaN</td>\n",
        "    </tr>\n",
        "    <tr>\n",
        "      <th>932 </th>\n",
        "      <td> NaN</td>\n",
        "      <td> NaN</td>\n",
        "      <td> NaN</td>\n",
        "      <td> NaN</td>\n",
        "      <td> NaN</td>\n",
        "      <td> NaN</td>\n",
        "      <td> NaN</td>\n",
        "      <td> NaN</td>\n",
        "      <td> NaN</td>\n",
        "      <td> NaN</td>\n",
        "    </tr>\n",
        "    <tr>\n",
        "      <th>1000</th>\n",
        "      <td> NaN</td>\n",
        "      <td> NaN</td>\n",
        "      <td> NaN</td>\n",
        "      <td> NaN</td>\n",
        "      <td> NaN</td>\n",
        "      <td> NaN</td>\n",
        "      <td> NaN</td>\n",
        "      <td> NaN</td>\n",
        "      <td> NaN</td>\n",
        "      <td> NaN</td>\n",
        "    </tr>\n",
        "    <tr>\n",
        "      <th>1037</th>\n",
        "      <td> NaN</td>\n",
        "      <td> NaN</td>\n",
        "      <td> NaN</td>\n",
        "      <td> NaN</td>\n",
        "      <td> NaN</td>\n",
        "      <td> NaN</td>\n",
        "      <td> NaN</td>\n",
        "      <td> NaN</td>\n",
        "      <td> NaN</td>\n",
        "      <td> NaN</td>\n",
        "    </tr>\n",
        "    <tr>\n",
        "      <th>1079</th>\n",
        "      <td> NaN</td>\n",
        "      <td> NaN</td>\n",
        "      <td> NaN</td>\n",
        "      <td> NaN</td>\n",
        "      <td> NaN</td>\n",
        "      <td> NaN</td>\n",
        "      <td> NaN</td>\n",
        "      <td> NaN</td>\n",
        "      <td> NaN</td>\n",
        "      <td> NaN</td>\n",
        "    </tr>\n",
        "    <tr>\n",
        "      <th>1162</th>\n",
        "      <td> NaN</td>\n",
        "      <td> NaN</td>\n",
        "      <td> NaN</td>\n",
        "      <td> NaN</td>\n",
        "      <td> NaN</td>\n",
        "      <td> NaN</td>\n",
        "      <td> NaN</td>\n",
        "      <td> NaN</td>\n",
        "      <td> NaN</td>\n",
        "      <td> NaN</td>\n",
        "    </tr>\n",
        "    <tr>\n",
        "      <th>1173</th>\n",
        "      <td> NaN</td>\n",
        "      <td> NaN</td>\n",
        "      <td> NaN</td>\n",
        "      <td> NaN</td>\n",
        "      <td> NaN</td>\n",
        "      <td> NaN</td>\n",
        "      <td> NaN</td>\n",
        "      <td> NaN</td>\n",
        "      <td> NaN</td>\n",
        "      <td> NaN</td>\n",
        "    </tr>\n",
        "    <tr>\n",
        "      <th>1179</th>\n",
        "      <td> NaN</td>\n",
        "      <td> NaN</td>\n",
        "      <td> NaN</td>\n",
        "      <td> NaN</td>\n",
        "      <td> NaN</td>\n",
        "      <td> NaN</td>\n",
        "      <td> NaN</td>\n",
        "      <td> NaN</td>\n",
        "      <td> NaN</td>\n",
        "      <td> NaN</td>\n",
        "    </tr>\n",
        "    <tr>\n",
        "      <th>1211</th>\n",
        "      <td> NaN</td>\n",
        "      <td> NaN</td>\n",
        "      <td> NaN</td>\n",
        "      <td> NaN</td>\n",
        "      <td> NaN</td>\n",
        "      <td> NaN</td>\n",
        "      <td> NaN</td>\n",
        "      <td> NaN</td>\n",
        "      <td> NaN</td>\n",
        "      <td> NaN</td>\n",
        "    </tr>\n",
        "    <tr>\n",
        "      <th>1212</th>\n",
        "      <td> NaN</td>\n",
        "      <td> NaN</td>\n",
        "      <td> NaN</td>\n",
        "      <td> NaN</td>\n",
        "      <td> NaN</td>\n",
        "      <td> NaN</td>\n",
        "      <td> NaN</td>\n",
        "      <td> NaN</td>\n",
        "      <td> NaN</td>\n",
        "      <td> NaN</td>\n",
        "    </tr>\n",
        "    <tr>\n",
        "      <th>1324</th>\n",
        "      <td> NaN</td>\n",
        "      <td> NaN</td>\n",
        "      <td> NaN</td>\n",
        "      <td> NaN</td>\n",
        "      <td> NaN</td>\n",
        "      <td> NaN</td>\n",
        "      <td> NaN</td>\n",
        "      <td> NaN</td>\n",
        "      <td> NaN</td>\n",
        "      <td> NaN</td>\n",
        "    </tr>\n",
        "    <tr>\n",
        "      <th>1355</th>\n",
        "      <td> NaN</td>\n",
        "      <td> NaN</td>\n",
        "      <td> NaN</td>\n",
        "      <td> NaN</td>\n",
        "      <td> NaN</td>\n",
        "      <td> NaN</td>\n",
        "      <td> NaN</td>\n",
        "      <td> NaN</td>\n",
        "      <td> NaN</td>\n",
        "      <td> NaN</td>\n",
        "    </tr>\n",
        "    <tr>\n",
        "      <th>1361</th>\n",
        "      <td> NaN</td>\n",
        "      <td> NaN</td>\n",
        "      <td> NaN</td>\n",
        "      <td> NaN</td>\n",
        "      <td> NaN</td>\n",
        "      <td> NaN</td>\n",
        "      <td> NaN</td>\n",
        "      <td> NaN</td>\n",
        "      <td> NaN</td>\n",
        "      <td> NaN</td>\n",
        "    </tr>\n",
        "    <tr>\n",
        "      <th>1362</th>\n",
        "      <td> NaN</td>\n",
        "      <td> NaN</td>\n",
        "      <td> NaN</td>\n",
        "      <td> NaN</td>\n",
        "      <td> NaN</td>\n",
        "      <td> NaN</td>\n",
        "      <td> NaN</td>\n",
        "      <td> NaN</td>\n",
        "      <td> NaN</td>\n",
        "      <td> NaN</td>\n",
        "    </tr>\n",
        "    <tr>\n",
        "      <th>1474</th>\n",
        "      <td> NaN</td>\n",
        "      <td> NaN</td>\n",
        "      <td> NaN</td>\n",
        "      <td> NaN</td>\n",
        "      <td> NaN</td>\n",
        "      <td> NaN</td>\n",
        "      <td> NaN</td>\n",
        "      <td> NaN</td>\n",
        "      <td> NaN</td>\n",
        "      <td> NaN</td>\n",
        "    </tr>\n",
        "    <tr>\n",
        "      <th>1484</th>\n",
        "      <td> NaN</td>\n",
        "      <td> NaN</td>\n",
        "      <td> NaN</td>\n",
        "      <td> NaN</td>\n",
        "      <td> NaN</td>\n",
        "      <td> NaN</td>\n",
        "      <td> NaN</td>\n",
        "      <td> NaN</td>\n",
        "      <td> NaN</td>\n",
        "      <td> NaN</td>\n",
        "    </tr>\n",
        "    <tr>\n",
        "      <th>1684</th>\n",
        "      <td> NaN</td>\n",
        "      <td> NaN</td>\n",
        "      <td> NaN</td>\n",
        "      <td> NaN</td>\n",
        "      <td> NaN</td>\n",
        "      <td> NaN</td>\n",
        "      <td> NaN</td>\n",
        "      <td> NaN</td>\n",
        "      <td> NaN</td>\n",
        "      <td> NaN</td>\n",
        "    </tr>\n",
        "    <tr>\n",
        "      <th>1692</th>\n",
        "      <td> NaN</td>\n",
        "      <td> NaN</td>\n",
        "      <td> NaN</td>\n",
        "      <td> NaN</td>\n",
        "      <td> NaN</td>\n",
        "      <td> NaN</td>\n",
        "      <td> NaN</td>\n",
        "      <td> NaN</td>\n",
        "      <td> NaN</td>\n",
        "      <td> NaN</td>\n",
        "    </tr>\n",
        "    <tr>\n",
        "      <th>1703</th>\n",
        "      <td> NaN</td>\n",
        "      <td> NaN</td>\n",
        "      <td> NaN</td>\n",
        "      <td> NaN</td>\n",
        "      <td> NaN</td>\n",
        "      <td> NaN</td>\n",
        "      <td> NaN</td>\n",
        "      <td> NaN</td>\n",
        "      <td> NaN</td>\n",
        "      <td> NaN</td>\n",
        "    </tr>\n",
        "    <tr>\n",
        "      <th>1717</th>\n",
        "      <td> NaN</td>\n",
        "      <td> NaN</td>\n",
        "      <td> NaN</td>\n",
        "      <td> NaN</td>\n",
        "      <td> NaN</td>\n",
        "      <td> NaN</td>\n",
        "      <td> NaN</td>\n",
        "      <td> NaN</td>\n",
        "      <td> NaN</td>\n",
        "      <td> NaN</td>\n",
        "    </tr>\n",
        "    <tr>\n",
        "      <th>1796</th>\n",
        "      <td> NaN</td>\n",
        "      <td> NaN</td>\n",
        "      <td> NaN</td>\n",
        "      <td> NaN</td>\n",
        "      <td> NaN</td>\n",
        "      <td> NaN</td>\n",
        "      <td> NaN</td>\n",
        "      <td> NaN</td>\n",
        "      <td> NaN</td>\n",
        "      <td> NaN</td>\n",
        "    </tr>\n",
        "    <tr>\n",
        "      <th>1797</th>\n",
        "      <td> NaN</td>\n",
        "      <td> NaN</td>\n",
        "      <td> NaN</td>\n",
        "      <td> NaN</td>\n",
        "      <td> NaN</td>\n",
        "      <td> NaN</td>\n",
        "      <td> NaN</td>\n",
        "      <td> NaN</td>\n",
        "      <td> NaN</td>\n",
        "      <td> NaN</td>\n",
        "    </tr>\n",
        "    <tr>\n",
        "      <th>1814</th>\n",
        "      <td> NaN</td>\n",
        "      <td> NaN</td>\n",
        "      <td> NaN</td>\n",
        "      <td> NaN</td>\n",
        "      <td> NaN</td>\n",
        "      <td> NaN</td>\n",
        "      <td> NaN</td>\n",
        "      <td> NaN</td>\n",
        "      <td> NaN</td>\n",
        "      <td> NaN</td>\n",
        "    </tr>\n",
        "    <tr>\n",
        "      <th>1899</th>\n",
        "      <td> NaN</td>\n",
        "      <td> NaN</td>\n",
        "      <td> NaN</td>\n",
        "      <td> NaN</td>\n",
        "      <td> NaN</td>\n",
        "      <td> NaN</td>\n",
        "      <td> NaN</td>\n",
        "      <td> NaN</td>\n",
        "      <td> NaN</td>\n",
        "      <td> NaN</td>\n",
        "    </tr>\n",
        "    <tr>\n",
        "      <th>1928</th>\n",
        "      <td> NaN</td>\n",
        "      <td> NaN</td>\n",
        "      <td> NaN</td>\n",
        "      <td> NaN</td>\n",
        "      <td> NaN</td>\n",
        "      <td> NaN</td>\n",
        "      <td> NaN</td>\n",
        "      <td> NaN</td>\n",
        "      <td> NaN</td>\n",
        "      <td> NaN</td>\n",
        "    </tr>\n",
        "    <tr>\n",
        "      <th>1938</th>\n",
        "      <td> NaN</td>\n",
        "      <td> NaN</td>\n",
        "      <td> NaN</td>\n",
        "      <td> NaN</td>\n",
        "      <td> NaN</td>\n",
        "      <td> NaN</td>\n",
        "      <td> NaN</td>\n",
        "      <td> NaN</td>\n",
        "      <td> NaN</td>\n",
        "      <td> NaN</td>\n",
        "    </tr>\n",
        "    <tr>\n",
        "      <th>1946</th>\n",
        "      <td> NaN</td>\n",
        "      <td> NaN</td>\n",
        "      <td> NaN</td>\n",
        "      <td> NaN</td>\n",
        "      <td> NaN</td>\n",
        "      <td> NaN</td>\n",
        "      <td> NaN</td>\n",
        "      <td> NaN</td>\n",
        "      <td> NaN</td>\n",
        "      <td> NaN</td>\n",
        "    </tr>\n",
        "    <tr>\n",
        "      <th>1954</th>\n",
        "      <td> NaN</td>\n",
        "      <td> NaN</td>\n",
        "      <td> NaN</td>\n",
        "      <td> NaN</td>\n",
        "      <td> NaN</td>\n",
        "      <td> NaN</td>\n",
        "      <td> NaN</td>\n",
        "      <td> NaN</td>\n",
        "      <td> NaN</td>\n",
        "      <td> NaN</td>\n",
        "    </tr>\n",
        "    <tr>\n",
        "      <th>1957</th>\n",
        "      <td> NaN</td>\n",
        "      <td> NaN</td>\n",
        "      <td> NaN</td>\n",
        "      <td> NaN</td>\n",
        "      <td> NaN</td>\n",
        "      <td> NaN</td>\n",
        "      <td> NaN</td>\n",
        "      <td> NaN</td>\n",
        "      <td> NaN</td>\n",
        "      <td> NaN</td>\n",
        "    </tr>\n",
        "    <tr>\n",
        "      <th>1964</th>\n",
        "      <td> NaN</td>\n",
        "      <td> NaN</td>\n",
        "      <td> NaN</td>\n",
        "      <td> NaN</td>\n",
        "      <td> NaN</td>\n",
        "      <td> NaN</td>\n",
        "      <td> NaN</td>\n",
        "      <td> NaN</td>\n",
        "      <td> NaN</td>\n",
        "      <td> NaN</td>\n",
        "    </tr>\n",
        "    <tr>\n",
        "      <th>2045</th>\n",
        "      <td> NaN</td>\n",
        "      <td> NaN</td>\n",
        "      <td> NaN</td>\n",
        "      <td> NaN</td>\n",
        "      <td> NaN</td>\n",
        "      <td> NaN</td>\n",
        "      <td> NaN</td>\n",
        "      <td> NaN</td>\n",
        "      <td> NaN</td>\n",
        "      <td> NaN</td>\n",
        "    </tr>\n",
        "    <tr>\n",
        "      <th>2111</th>\n",
        "      <td> NaN</td>\n",
        "      <td> NaN</td>\n",
        "      <td> NaN</td>\n",
        "      <td> NaN</td>\n",
        "      <td> NaN</td>\n",
        "      <td> NaN</td>\n",
        "      <td> NaN</td>\n",
        "      <td> NaN</td>\n",
        "      <td> NaN</td>\n",
        "      <td> NaN</td>\n",
        "    </tr>\n",
        "    <tr>\n",
        "      <th>2146</th>\n",
        "      <td> NaN</td>\n",
        "      <td> NaN</td>\n",
        "      <td> NaN</td>\n",
        "      <td> NaN</td>\n",
        "      <td> NaN</td>\n",
        "      <td> NaN</td>\n",
        "      <td> NaN</td>\n",
        "      <td> NaN</td>\n",
        "      <td> NaN</td>\n",
        "      <td> NaN</td>\n",
        "    </tr>\n",
        "    <tr>\n",
        "      <th>2149</th>\n",
        "      <td> NaN</td>\n",
        "      <td> NaN</td>\n",
        "      <td> NaN</td>\n",
        "      <td> NaN</td>\n",
        "      <td> NaN</td>\n",
        "      <td> NaN</td>\n",
        "      <td> NaN</td>\n",
        "      <td> NaN</td>\n",
        "      <td> NaN</td>\n",
        "      <td> NaN</td>\n",
        "    </tr>\n",
        "    <tr>\n",
        "      <th>2179</th>\n",
        "      <td> NaN</td>\n",
        "      <td> NaN</td>\n",
        "      <td> NaN</td>\n",
        "      <td> NaN</td>\n",
        "      <td> NaN</td>\n",
        "      <td> NaN</td>\n",
        "      <td> NaN</td>\n",
        "      <td> NaN</td>\n",
        "      <td> NaN</td>\n",
        "      <td> NaN</td>\n",
        "    </tr>\n",
        "    <tr>\n",
        "      <th>2205</th>\n",
        "      <td> NaN</td>\n",
        "      <td> NaN</td>\n",
        "      <td> NaN</td>\n",
        "      <td> NaN</td>\n",
        "      <td> NaN</td>\n",
        "      <td> NaN</td>\n",
        "      <td> NaN</td>\n",
        "      <td> NaN</td>\n",
        "      <td> NaN</td>\n",
        "      <td> NaN</td>\n",
        "    </tr>\n",
        "    <tr>\n",
        "      <th>2231</th>\n",
        "      <td> NaN</td>\n",
        "      <td> NaN</td>\n",
        "      <td> NaN</td>\n",
        "      <td> NaN</td>\n",
        "      <td> NaN</td>\n",
        "      <td> NaN</td>\n",
        "      <td> NaN</td>\n",
        "      <td> NaN</td>\n",
        "      <td> NaN</td>\n",
        "      <td> NaN</td>\n",
        "    </tr>\n",
        "    <tr>\n",
        "      <th>2256</th>\n",
        "      <td> NaN</td>\n",
        "      <td> NaN</td>\n",
        "      <td> NaN</td>\n",
        "      <td> NaN</td>\n",
        "      <td> NaN</td>\n",
        "      <td> NaN</td>\n",
        "      <td> NaN</td>\n",
        "      <td> NaN</td>\n",
        "      <td> NaN</td>\n",
        "      <td> NaN</td>\n",
        "    </tr>\n",
        "    <tr>\n",
        "      <th>2291</th>\n",
        "      <td> NaN</td>\n",
        "      <td> NaN</td>\n",
        "      <td> NaN</td>\n",
        "      <td> NaN</td>\n",
        "      <td> NaN</td>\n",
        "      <td> NaN</td>\n",
        "      <td> NaN</td>\n",
        "      <td> NaN</td>\n",
        "      <td> NaN</td>\n",
        "      <td> NaN</td>\n",
        "    </tr>\n",
        "    <tr>\n",
        "      <th>2345</th>\n",
        "      <td> NaN</td>\n",
        "      <td> NaN</td>\n",
        "      <td> NaN</td>\n",
        "      <td> NaN</td>\n",
        "      <td> NaN</td>\n",
        "      <td> NaN</td>\n",
        "      <td> NaN</td>\n",
        "      <td> NaN</td>\n",
        "      <td> NaN</td>\n",
        "      <td> NaN</td>\n",
        "    </tr>\n",
        "    <tr>\n",
        "      <th>2429</th>\n",
        "      <td> NaN</td>\n",
        "      <td> NaN</td>\n",
        "      <td> NaN</td>\n",
        "      <td> NaN</td>\n",
        "      <td> NaN</td>\n",
        "      <td> NaN</td>\n",
        "      <td> NaN</td>\n",
        "      <td> NaN</td>\n",
        "      <td> NaN</td>\n",
        "      <td> NaN</td>\n",
        "    </tr>\n",
        "    <tr>\n",
        "      <th>2430</th>\n",
        "      <td> NaN</td>\n",
        "      <td> NaN</td>\n",
        "      <td> NaN</td>\n",
        "      <td> NaN</td>\n",
        "      <td> NaN</td>\n",
        "      <td> NaN</td>\n",
        "      <td> NaN</td>\n",
        "      <td> NaN</td>\n",
        "      <td> NaN</td>\n",
        "      <td> NaN</td>\n",
        "    </tr>\n",
        "    <tr>\n",
        "      <th>2523</th>\n",
        "      <td> NaN</td>\n",
        "      <td> NaN</td>\n",
        "      <td> NaN</td>\n",
        "      <td> NaN</td>\n",
        "      <td> NaN</td>\n",
        "      <td> NaN</td>\n",
        "      <td> NaN</td>\n",
        "      <td> NaN</td>\n",
        "      <td> NaN</td>\n",
        "      <td> NaN</td>\n",
        "    </tr>\n",
        "    <tr>\n",
        "      <th>2612</th>\n",
        "      <td> NaN</td>\n",
        "      <td> NaN</td>\n",
        "      <td> NaN</td>\n",
        "      <td> NaN</td>\n",
        "      <td> NaN</td>\n",
        "      <td> NaN</td>\n",
        "      <td> NaN</td>\n",
        "      <td> NaN</td>\n",
        "      <td> NaN</td>\n",
        "      <td> NaN</td>\n",
        "    </tr>\n",
        "    <tr>\n",
        "      <th>2617</th>\n",
        "      <td> NaN</td>\n",
        "      <td> NaN</td>\n",
        "      <td> NaN</td>\n",
        "      <td> NaN</td>\n",
        "      <td> NaN</td>\n",
        "      <td> NaN</td>\n",
        "      <td> NaN</td>\n",
        "      <td> NaN</td>\n",
        "      <td> NaN</td>\n",
        "      <td> NaN</td>\n",
        "    </tr>\n",
        "    <tr>\n",
        "      <th></th>\n",
        "      <td>...</td>\n",
        "      <td>...</td>\n",
        "      <td>...</td>\n",
        "      <td>...</td>\n",
        "      <td>...</td>\n",
        "      <td>...</td>\n",
        "      <td>...</td>\n",
        "      <td>...</td>\n",
        "      <td>...</td>\n",
        "      <td>...</td>\n",
        "    </tr>\n",
        "  </tbody>\n",
        "</table>\n",
        "<p>133 rows \u00d7 10 columns</p>\n",
        "</div>"
       ],
       "metadata": {},
       "output_type": "pyout",
       "prompt_number": 194,
       "text": [
        "     %_of_coeffs_signif.        avg_coeff_size            Rs        adj_Rs  \\\n",
        "                  group1 group2         group1 group2 group1 group2 group1   \n",
        "59                   NaN    NaN            NaN    NaN    NaN    NaN    NaN   \n",
        "175                  NaN    NaN            NaN    NaN    NaN    NaN    NaN   \n",
        "348                  NaN    NaN            NaN    NaN    NaN    NaN    NaN   \n",
        "358                  NaN    NaN            NaN    NaN    NaN    NaN    NaN   \n",
        "396                  NaN    NaN            NaN    NaN    NaN    NaN    NaN   \n",
        "686                  NaN    NaN            NaN    NaN    NaN    NaN    NaN   \n",
        "706                  NaN    NaN            NaN    NaN    NaN    NaN    NaN   \n",
        "739                  NaN    NaN            NaN    NaN    NaN    NaN    NaN   \n",
        "742                  NaN    NaN            NaN    NaN    NaN    NaN    NaN   \n",
        "756                  NaN    NaN            NaN    NaN    NaN    NaN    NaN   \n",
        "801                  NaN    NaN            NaN    NaN    NaN    NaN    NaN   \n",
        "829                  NaN    NaN            NaN    NaN    NaN    NaN    NaN   \n",
        "835                  NaN    NaN            NaN    NaN    NaN    NaN    NaN   \n",
        "861                  NaN    NaN            NaN    NaN    NaN    NaN    NaN   \n",
        "905                  NaN    NaN            NaN    NaN    NaN    NaN    NaN   \n",
        "906                  NaN    NaN            NaN    NaN    NaN    NaN    NaN   \n",
        "932                  NaN    NaN            NaN    NaN    NaN    NaN    NaN   \n",
        "1000                 NaN    NaN            NaN    NaN    NaN    NaN    NaN   \n",
        "1037                 NaN    NaN            NaN    NaN    NaN    NaN    NaN   \n",
        "1079                 NaN    NaN            NaN    NaN    NaN    NaN    NaN   \n",
        "1162                 NaN    NaN            NaN    NaN    NaN    NaN    NaN   \n",
        "1173                 NaN    NaN            NaN    NaN    NaN    NaN    NaN   \n",
        "1179                 NaN    NaN            NaN    NaN    NaN    NaN    NaN   \n",
        "1211                 NaN    NaN            NaN    NaN    NaN    NaN    NaN   \n",
        "1212                 NaN    NaN            NaN    NaN    NaN    NaN    NaN   \n",
        "1324                 NaN    NaN            NaN    NaN    NaN    NaN    NaN   \n",
        "1355                 NaN    NaN            NaN    NaN    NaN    NaN    NaN   \n",
        "1361                 NaN    NaN            NaN    NaN    NaN    NaN    NaN   \n",
        "1362                 NaN    NaN            NaN    NaN    NaN    NaN    NaN   \n",
        "1474                 NaN    NaN            NaN    NaN    NaN    NaN    NaN   \n",
        "1484                 NaN    NaN            NaN    NaN    NaN    NaN    NaN   \n",
        "1684                 NaN    NaN            NaN    NaN    NaN    NaN    NaN   \n",
        "1692                 NaN    NaN            NaN    NaN    NaN    NaN    NaN   \n",
        "1703                 NaN    NaN            NaN    NaN    NaN    NaN    NaN   \n",
        "1717                 NaN    NaN            NaN    NaN    NaN    NaN    NaN   \n",
        "1796                 NaN    NaN            NaN    NaN    NaN    NaN    NaN   \n",
        "1797                 NaN    NaN            NaN    NaN    NaN    NaN    NaN   \n",
        "1814                 NaN    NaN            NaN    NaN    NaN    NaN    NaN   \n",
        "1899                 NaN    NaN            NaN    NaN    NaN    NaN    NaN   \n",
        "1928                 NaN    NaN            NaN    NaN    NaN    NaN    NaN   \n",
        "1938                 NaN    NaN            NaN    NaN    NaN    NaN    NaN   \n",
        "1946                 NaN    NaN            NaN    NaN    NaN    NaN    NaN   \n",
        "1954                 NaN    NaN            NaN    NaN    NaN    NaN    NaN   \n",
        "1957                 NaN    NaN            NaN    NaN    NaN    NaN    NaN   \n",
        "1964                 NaN    NaN            NaN    NaN    NaN    NaN    NaN   \n",
        "2045                 NaN    NaN            NaN    NaN    NaN    NaN    NaN   \n",
        "2111                 NaN    NaN            NaN    NaN    NaN    NaN    NaN   \n",
        "2146                 NaN    NaN            NaN    NaN    NaN    NaN    NaN   \n",
        "2149                 NaN    NaN            NaN    NaN    NaN    NaN    NaN   \n",
        "2179                 NaN    NaN            NaN    NaN    NaN    NaN    NaN   \n",
        "2205                 NaN    NaN            NaN    NaN    NaN    NaN    NaN   \n",
        "2231                 NaN    NaN            NaN    NaN    NaN    NaN    NaN   \n",
        "2256                 NaN    NaN            NaN    NaN    NaN    NaN    NaN   \n",
        "2291                 NaN    NaN            NaN    NaN    NaN    NaN    NaN   \n",
        "2345                 NaN    NaN            NaN    NaN    NaN    NaN    NaN   \n",
        "2429                 NaN    NaN            NaN    NaN    NaN    NaN    NaN   \n",
        "2430                 NaN    NaN            NaN    NaN    NaN    NaN    NaN   \n",
        "2523                 NaN    NaN            NaN    NaN    NaN    NaN    NaN   \n",
        "2612                 NaN    NaN            NaN    NaN    NaN    NaN    NaN   \n",
        "2617                 NaN    NaN            NaN    NaN    NaN    NaN    NaN   \n",
        "                     ...    ...            ...    ...    ...    ...    ...   \n",
        "\n",
        "            avg_p-value         \n",
        "     group2      group1 group2  \n",
        "59      NaN         NaN    NaN  \n",
        "175     NaN         NaN    NaN  \n",
        "348     NaN         NaN    NaN  \n",
        "358     NaN         NaN    NaN  \n",
        "396     NaN         NaN    NaN  \n",
        "686     NaN         NaN    NaN  \n",
        "706     NaN         NaN    NaN  \n",
        "739     NaN         NaN    NaN  \n",
        "742     NaN         NaN    NaN  \n",
        "756     NaN         NaN    NaN  \n",
        "801     NaN         NaN    NaN  \n",
        "829     NaN         NaN    NaN  \n",
        "835     NaN         NaN    NaN  \n",
        "861     NaN         NaN    NaN  \n",
        "905     NaN         NaN    NaN  \n",
        "906     NaN         NaN    NaN  \n",
        "932     NaN         NaN    NaN  \n",
        "1000    NaN         NaN    NaN  \n",
        "1037    NaN         NaN    NaN  \n",
        "1079    NaN         NaN    NaN  \n",
        "1162    NaN         NaN    NaN  \n",
        "1173    NaN         NaN    NaN  \n",
        "1179    NaN         NaN    NaN  \n",
        "1211    NaN         NaN    NaN  \n",
        "1212    NaN         NaN    NaN  \n",
        "1324    NaN         NaN    NaN  \n",
        "1355    NaN         NaN    NaN  \n",
        "1361    NaN         NaN    NaN  \n",
        "1362    NaN         NaN    NaN  \n",
        "1474    NaN         NaN    NaN  \n",
        "1484    NaN         NaN    NaN  \n",
        "1684    NaN         NaN    NaN  \n",
        "1692    NaN         NaN    NaN  \n",
        "1703    NaN         NaN    NaN  \n",
        "1717    NaN         NaN    NaN  \n",
        "1796    NaN         NaN    NaN  \n",
        "1797    NaN         NaN    NaN  \n",
        "1814    NaN         NaN    NaN  \n",
        "1899    NaN         NaN    NaN  \n",
        "1928    NaN         NaN    NaN  \n",
        "1938    NaN         NaN    NaN  \n",
        "1946    NaN         NaN    NaN  \n",
        "1954    NaN         NaN    NaN  \n",
        "1957    NaN         NaN    NaN  \n",
        "1964    NaN         NaN    NaN  \n",
        "2045    NaN         NaN    NaN  \n",
        "2111    NaN         NaN    NaN  \n",
        "2146    NaN         NaN    NaN  \n",
        "2149    NaN         NaN    NaN  \n",
        "2179    NaN         NaN    NaN  \n",
        "2205    NaN         NaN    NaN  \n",
        "2231    NaN         NaN    NaN  \n",
        "2256    NaN         NaN    NaN  \n",
        "2291    NaN         NaN    NaN  \n",
        "2345    NaN         NaN    NaN  \n",
        "2429    NaN         NaN    NaN  \n",
        "2430    NaN         NaN    NaN  \n",
        "2523    NaN         NaN    NaN  \n",
        "2612    NaN         NaN    NaN  \n",
        "2617    NaN         NaN    NaN  \n",
        "        ...         ...    ...  \n",
        "\n",
        "[133 rows x 10 columns]"
       ]
      }
     ],
     "prompt_number": 194
    },
    {
     "cell_type": "code",
     "collapsed": false,
     "input": [
      "[(o1, 'group1') for o1 in outcomes]`b"
     ],
     "language": "python",
     "metadata": {},
     "outputs": [
      {
       "metadata": {},
       "output_type": "pyout",
       "prompt_number": 82,
       "text": [
        "[('%_of_coeffs_signif.', 'group1'),\n",
        " ('avg_param_size', 'group1'),\n",
        " ('Rs', 'group1'),\n",
        " ('adj_Rs', 'group1'),\n",
        " ('avg_p-value', 'group1')]"
       ]
      }
     ],
     "prompt_number": 82
    },
    {
     "cell_type": "code",
     "collapsed": false,
     "input": [
      "output = pd.DataFrame(columns=pd.MultiIndex.from_product([outcomes, groups]), index=[a.articleID for a in articlesToUse])\n",
      "\n"
     ],
     "language": "python",
     "metadata": {},
     "outputs": [
      {
       "metadata": {},
       "output_type": "pyout",
       "prompt_number": 166,
       "text": [
        "[]"
       ]
      }
     ],
     "prompt_number": 166
    },
    {
     "cell_type": "code",
     "collapsed": false,
     "input": [
      "for a in random.sample(articlesToUse, 20):\n",
      "    print a.GSSYearsUsed, a.GSSYearsPossible"
     ],
     "language": "python",
     "metadata": {},
     "outputs": [
      {
       "output_type": "stream",
       "stream": "stdout",
       "text": [
        " [1986] [1973, 1974, 1975, 1976, 1977, 1978, 1980, 1982, 1983, 1984, 1985, 1987, 1988, 1989, 1990]\n",
        "[1977, 1980] [1972, 1973, 1974, 1975, 1976, 1978, 1982, 1983, 1984, 1985, 1986, 1987, 1988, 1989, 1990]\n",
        "[1974] [1973, 1976, 1977, 1980, 1982, 1984, 1985, 1987, 1988, 1989, 1990]\n",
        "[1975] [1973, 1976, 1978, 1980, 1983, 1984, 1986, 1987, 1988, 1989, 1990, 1991, 1993, 1994, 1996, 1998, 2000, 2002, 2004, 2006, 2008, 2010, 2012]\n",
        "[1972, 1973, 1974, 1978, 1980, 1984, 1985, 1986] [1975, 1976, 1977, 1982, 1983, 1987, 1988, 1989, 1990, 1991, 1993, 1994, 1996, 1998, 2000, 2002, 2004, 2006, 2008, 2010, 2012]\n",
        "[1977] [1974, 1976, 1980, 1982, 1984, 1985, 1987, 1988, 1989, 1990]\n",
        "[1985, 1986, 1987, 1988, 1989, 1990, 1991] [1972, 1973, 1974, 1975, 1976, 1977, 1978, 1980, 1982, 1983, 1984, 1993, 1994, 1996, 1998, 2000, 2002, 2004, 2006, 2008, 2010, 2012]\n",
        "[1978] [1977, 1980, 1983, 1984, 1986, 1987, 1988, 1989, 1990]\n",
        "[1974] [1973, 1976, 1977, 1980, 1982, 1984, 1985, 1987, 1988, 1989, 1990]\n",
        "[1982, 1985] [1974, 1977, 1988, 1989, 1990]\n",
        "[1974, 1975, 1976, 1977, 1978, 1980, 1982, 1983, 1984] [1973, 1985, 1986, 1987, 1988, 1989, 1990, 1991, 1993, 1994, 1996, 1998, 2000, 2002, 2004, 2006, 2008, 2010, 2012]\n",
        "[1973, 1976] [1974]\n",
        "[1980, 1982] [1973, 1974, 1975, 1976, 1977, 1978, 1983, 1984, 1985, 1986, 1987, 1988, 1989, 1990, 1991, 1993, 1994, 2006]\n",
        "[1977, 1985, 1991] [1986, 1988, 1989, 1990, 1993, 1994, 1996, 1998]\n",
        "[1984, 1987, 1988, 1989] [1980, 1990, 1991, 1993, 1994]\n",
        "[1982, 1983] [1973, 1974, 1975, 1976, 1977, 1978, 1980, 1984, 1985, 1986, 1987, 1988, 1989, 1990, 1991, 1993, 1994, 2012]\n",
        "[1983] [1974, 1978, 1982, 1985, 1986, 1988, 1989, 1990, 1991, 1993, 1994, 1996, 1998]\n",
        "[1987, 1988, 1989, 1990, 1991] [1977, 1978, 1980, 1982, 1983, 1984, 1985, 1986, 1993, 1994, 2006]\n",
        "[1973, 1974, 1975, 1976, 1977, 1978, 1980, 1982, 1983, 1984, 1985, 1986, 1987, 1988, 1989, 1990, 1991, 1993, 1994, 1996] [1972, 1998, 2000, 2002, 2004, 2006, 2008, 2010, 2012]\n",
        "[1975, 1994] [1972, 1973, 1976, 1978, 1980, 1983, 1984, 1986, 1987, 1988, 1989, 1990, 1991, 1993, 1996, 1998, 2000, 2002, 2004, 2006, 2008, 2010, 2012]\n"
       ]
      }
     ],
     "prompt_number": 111
    }
   ],
   "metadata": {}
  }
 ]
}