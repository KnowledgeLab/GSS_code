{
 "metadata": {
  "name": "",
  "signature": "sha256:1589653c9900220d48342acd4c44a96b229ff41aea6b50a8a9d13656cf1ddb1d"
 },
 "nbformat": 3,
 "nbformat_minor": 0,
 "worksheets": [
  {
   "cells": [
    {
     "cell_type": "markdown",
     "metadata": {},
     "source": [
      "# Descriptives for GSS Reproducibility Project\n",
      "\n",
      "Notes\n",
      "--\n",
      "\n",
      "- Command used to dump tables from lanl database on Rhodes to be put on OSDC:\n",
      "        mysqldump -p -P3307 -u misha --socket=/mnt/ide1/mysql/var/mysql.sock1  lanl gss_question > gss_question.sql\n"
     ]
    },
    {
     "cell_type": "code",
     "collapsed": false,
     "input": [],
     "language": "python",
     "metadata": {},
     "outputs": []
    },
    {
     "cell_type": "code",
     "collapsed": false,
     "input": [],
     "language": "python",
     "metadata": {},
     "outputs": []
    },
    {
     "cell_type": "code",
     "collapsed": false,
     "input": [
      "import pandas as pd\n",
      "import seaborn\n",
      "import MySQLdb"
     ],
     "language": "python",
     "metadata": {},
     "outputs": [],
     "prompt_number": 2
    },
    {
     "cell_type": "code",
     "collapsed": false,
     "input": [
      "db = MySQLdb.connect(host='54.187.104.183', user='mteplitskiy', passwd=\"mteplitskiy\", db=\"lanl\")\n",
      "c = db.cursor()\n"
     ],
     "language": "python",
     "metadata": {},
     "outputs": [],
     "prompt_number": 6
    },
    {
     "cell_type": "code",
     "collapsed": false,
     "input": [
      "c.execute('show tables')\n",
      "print c.fetchall()"
     ],
     "language": "python",
     "metadata": {},
     "outputs": [
      {
       "output_type": "stream",
       "stream": "stdout",
       "text": [
        "(('MEDLINE_AFFILIATION',), ('MEDLINE_AFFILIATION_NEW',), ('MEDLINE_AUTHORS',), ('MEDLINE_CHEMICALS',), ('MEDLINE_CHEMICALS_PMID',), ('MEDLINE_CITATION',), ('MEDLINE_COMMENTS',), ('MEDLINE_DATABANKS',), ('MEDLINE_DATABANKS_PMID',), ('MEDLINE_DATES',), ('MEDLINE_GENES',), ('MEDLINE_GENES_PMID',), ('MEDLINE_GRANTS',), ('MEDLINE_GRANTS_PMID',), ('MEDLINE_KEYWORDS',), ('MEDLINE_KEYWORDS_PMID',), ('MEDLINE_MESH_PMID',), ('MEDLINE_TEXT_PMID',), ('MeSH_ActiveMeSHYearList',), ('MeSH_ConceptRelations',), ('MeSH_Concepts',), ('MeSH_Descriptor',), ('MeSH_PreviousIndexing',), ('MeSH_RelatedDescriptor',), ('MeSH_SemanticTypeList',), ('MeSH_TermList',), ('MeSH_TreeIndex',), ('abstract_dependencies',), ('authority09_articles',), ('authority09_variants',), ('g_medline_deps',), ('g_medline_lempos',), ('g_medline_sentences',), ('gerow_table1',), ('temp_Chemicals',), ('temp_Diseases',), ('temp_Methods',), ('temp_pmid_Chemicals2',), ('temp_pmid_Diseases2',), ('temp_pmid_Methods',))\n"
       ]
      }
     ],
     "prompt_number": 13
    }
   ],
   "metadata": {}
  }
 ]
}