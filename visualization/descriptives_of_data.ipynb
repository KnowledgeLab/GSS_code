{
 "metadata": {
  "name": "",
  "signature": "sha256:2e85b270e8c588908043574d9af35e2abc52f998c1452cdb4505d4f5d0e2a74d"
 },
 "nbformat": 3,
 "nbformat_minor": 0,
 "worksheets": [
  {
   "cells": [
    {
     "cell_type": "markdown",
     "metadata": {},
     "source": [
      "# Descriptives for GSS Reproducibility Project\n",
      "\n",
      "Notes\n",
      "--\n",
      "\n",
      "- Command used to dump tables from lanl database on Rhodes to be put on OSDC:\n",
      "        mysqldump -p -P3307 -u misha --socket=/mnt/ide1/mysql/var/mysql.sock1  lanl gss_question > gss_question.sql\n",
      "        \n",
      "# Tables\n",
      "\n",
      "gss_corpus\n",
      "--\n",
      "This is the core table and contains information about all of the articles linked to GSS variables. Some of these are book chapters and things didn't have access to, but most we do. It also has variables that correspond to other datasets used.\n",
      "\n",
      "Core variables:\n",
      "\n",
      "- true_article_id\n",
      "- author_[variables]\n",
      "- title\n",
      "- publication_title\n",
      "- volume\n",
      "- year_published\n",
      "- file name (the PDF, html and/or texts associated with each of the articles examined as it exists in a file: gss_files) \n",
      "- 'doc_type',\n",
      "- 'citation_type',\n",
      "- 'author_1_prefix',\n",
      "- 'author_1_last_name',\n",
      "- 'author_1_first_name',\n",
      "- 'author_1_middle_name',\n",
      " 'author_1_suffix',\n",
      " 'author_2_prefix',\n",
      " 'author_2_first_name',\n",
      " 'author_2_last_name',\n",
      " 'author_2_middle_name',\n",
      " 'author_2_suffix',\n",
      " 'author_3_prefix',\n",
      " 'author_3_first_name',\n",
      " 'author_3_last_name',\n",
      " 'author_3_middle_name',\n",
      " 'author_3_suffix',\n",
      "- 'title',\n",
      " 'pages',\n",
      " 'pub_id',\n",
      "- 'publication_title',\n",
      " 'publisher',\n",
      " 'volume',\n",
      "- 'year_published',\n",
      " 'month_published',\n",
      " 'publisher_country',\n",
      " 'publisher_city',\n",
      " 'state',\n",
      " 'document_name',\n",
      " 'conference',\n",
      " 'editor_first_name',\n",
      " 'editor_mi',\n",
      " 'editor_last_name',\n",
      " 'editor_2_first_name',\n",
      " 'editor_2_mi',\n",
      " 'editor_2_last_name',\n",
      "- 'gss_years',\n",
      "- 'other_datasets',\n",
      "- 'abstract',\n",
      " 'citation',\n",
      " 'brief_type',\n",
      " 'docket_number',\n",
      " 'chapter_name',\n",
      " 'edition',\n",
      " 'isbn',\n",
      "- 'variables',\n",
      " 'report_no',\n",
      "- 'file_name',\n",
      " 'file_url',\n",
      " 'file_id',\n",
      " 'unique_pub_id',\n",
      " 'round',\n",
      " 'batch',\n",
      " 'coder1',\n",
      " 'coder2',\n",
      " 'coder3',\n",
      " 'coder4',\n",
      " 'coder5',\n",
      " 'coder6',\n",
      " 'posterior_PaperCorrect',\n",
      " 'posterior_Central',\n",
      " 'posterior_Analysis',\n",
      " 'posterior_Approach'\n",
      "\n",
      "gss_variables\n",
      "--\n",
      "gss_variable_codes\n",
      "--\n",
      "These describe the variables (and all of the answers/codes associated with each questions and their individual meanings).\n",
      "\n",
      "gss_variable_links\n",
      "--\n",
      "This links the articles in gss_corpus with the variables used within them.\n",
      "\n",
      "Core variables:\n",
      "\t\t\n",
      "- true_article_id\n",
      "- variable\n",
      "\n",
      "gss_question\n",
      "--\n",
      "These are responses to the survey about each article\n",
      "\n",
      "gss_variable_ques\n",
      "--\n",
      "These are responses to the survey about each variable (in each article)"
     ]
    },
    {
     "cell_type": "code",
     "collapsed": false,
     "input": [
      "import pandas as pd\n",
      "import cPickle as cp\n",
      "import sys\n",
      "sys.path.append('../')\n",
      "import GSSUtility as GU\n",
      "import seaborn as sns\n",
      "import MySQLdb\n",
      "from random import sample # numpy has its own np.random.sample which works differently and overwrites \"random.sample\""
     ],
     "language": "python",
     "metadata": {},
     "outputs": [],
     "prompt_number": 65
    },
    {
     "cell_type": "code",
     "collapsed": false,
     "input": [
      "custom_style = {'axes.facecolor': 'white',\n",
      "                'grid.color': '0.15',\n",
      "                'grid.linestyle':'-.'}\n",
      "sns.set_style(\"darkgrid\", rc=custom_style)"
     ],
     "language": "python",
     "metadata": {},
     "outputs": [],
     "prompt_number": 81
    },
    {
     "cell_type": "code",
     "collapsed": false,
     "input": [
      "db = MySQLdb.connect(host='54.187.104.183', user='mteplitskiy', passwd=\"mteplitskiy\", db=\"lanl\")\n",
      "c = db.cursor()\n"
     ],
     "language": "python",
     "metadata": {},
     "outputs": [],
     "prompt_number": 161
    },
    {
     "cell_type": "code",
     "collapsed": false,
     "input": [
      "c.execute('select gss_years, year_published from gss_corpus')\n",
      "df = pd.DataFrame([el for el in c.fetchall()], columns=['gss_years_used', 'year_published'])"
     ],
     "language": "python",
     "metadata": {},
     "outputs": [],
     "prompt_number": 162
    },
    {
     "cell_type": "code",
     "collapsed": false,
     "input": [
      "df.year_published[df.year_published == 0] = nan"
     ],
     "language": "python",
     "metadata": {},
     "outputs": [],
     "prompt_number": 163
    },
    {
     "cell_type": "code",
     "collapsed": false,
     "input": [
      "df[df.year_published.notnull()].gss_years_used.value_counts()"
     ],
     "language": "python",
     "metadata": {},
     "outputs": [
      {
       "metadata": {},
       "output_type": "pyout",
       "prompt_number": 165,
       "text": [
        "              4172\n",
        "1987           116\n",
        "1991           108\n",
        "1988           105\n",
        "1990           105\n",
        "1985           101\n",
        "1977            73\n",
        "1980            68\n",
        "1973            63\n",
        " 1972-1991      62\n",
        "1993            62\n",
        "1972            61\n",
        "1994            57\n",
        " 1972-77        56\n",
        "1996            56\n",
        "...\n",
        "\" 1973-5, 1983-5\"                                               1\n",
        "\" ACT: The new rotation design of the GSS in 1988 revealed 12 order effects out of 500 variables.  Context effects probably occur every 40-60 questions, but more so within scaled questions which did not vary in order.  Questions prone to content effects h    1\n",
        "\" 1985, 1990-94\"                                                1\n",
        " 990-1996                                                       1\n",
        "1972-80                                                         1\n",
        "\" ACT: In 1987, there was no evidence of a subtraction effect in the GSS items on marital and general happiness or between satisfaction if any.  In 1986 and 1987, the happiness of unmarried persons was affected by the placement of the satisfaction item an    1\n",
        " ISSP 1991-93                                                   1\n",
        " 000-2002                                                       1\n",
        "\" 1972, 1973, 1975-1978, 1983, 1984, 1986-1991, 1993, 1994\"     1\n",
        " 1985-87                                                        1\n",
        "\" ACT: Despite its non-random sample, distributions from the DDB Needham survey are similar to the GSS.\"    1\n",
        " 1974-84                                                        1\n",
        "\" ACT: An oversample and a proportional probability sample of blacks have similar distributions for most demographic variables, with slight differences in age and marital status. Such equivalence supports treating all blacks on the 1982 GSS as a single, n    1\n",
        "\" ISSP 1985, 1990\"                                              1\n",
        "\"  1973, 1975-1976, 1978, 1980, 1983-1984, 1986-1989\"           1\n",
        "Length: 1228, dtype: int64"
       ]
      }
     ],
     "prompt_number": 165
    },
    {
     "cell_type": "markdown",
     "metadata": {},
     "source": [
      "According to he below, there seems to be a sizable number of articles published > 2005\n",
      "--"
     ]
    },
    {
     "cell_type": "code",
     "collapsed": false,
     "input": [
      "df[df.year_published.notnull()].groupby('year_published').count()"
     ],
     "language": "python",
     "metadata": {},
     "outputs": [
      {
       "html": [
        "<div style=\"max-height:1000px;max-width:1500px;overflow:auto;\">\n",
        "<table border=\"1\" class=\"dataframe\">\n",
        "  <thead>\n",
        "    <tr style=\"text-align: right;\">\n",
        "      <th></th>\n",
        "      <th>gss_years_used</th>\n",
        "    </tr>\n",
        "    <tr>\n",
        "      <th>year_published</th>\n",
        "      <th></th>\n",
        "    </tr>\n",
        "  </thead>\n",
        "  <tbody>\n",
        "    <tr>\n",
        "      <th>1944</th>\n",
        "      <td>   1</td>\n",
        "    </tr>\n",
        "    <tr>\n",
        "      <th>1972</th>\n",
        "      <td>   2</td>\n",
        "    </tr>\n",
        "    <tr>\n",
        "      <th>1973</th>\n",
        "      <td>   7</td>\n",
        "    </tr>\n",
        "    <tr>\n",
        "      <th>1974</th>\n",
        "      <td>  24</td>\n",
        "    </tr>\n",
        "    <tr>\n",
        "      <th>1975</th>\n",
        "      <td>  52</td>\n",
        "    </tr>\n",
        "    <tr>\n",
        "      <th>1976</th>\n",
        "      <td>  82</td>\n",
        "    </tr>\n",
        "    <tr>\n",
        "      <th>1977</th>\n",
        "      <td>  86</td>\n",
        "    </tr>\n",
        "    <tr>\n",
        "      <th>1978</th>\n",
        "      <td> 147</td>\n",
        "    </tr>\n",
        "    <tr>\n",
        "      <th>1979</th>\n",
        "      <td> 162</td>\n",
        "    </tr>\n",
        "    <tr>\n",
        "      <th>1980</th>\n",
        "      <td> 191</td>\n",
        "    </tr>\n",
        "    <tr>\n",
        "      <th>1981</th>\n",
        "      <td> 205</td>\n",
        "    </tr>\n",
        "    <tr>\n",
        "      <th>1982</th>\n",
        "      <td> 176</td>\n",
        "    </tr>\n",
        "    <tr>\n",
        "      <th>1983</th>\n",
        "      <td> 143</td>\n",
        "    </tr>\n",
        "    <tr>\n",
        "      <th>1984</th>\n",
        "      <td> 171</td>\n",
        "    </tr>\n",
        "    <tr>\n",
        "      <th>1985</th>\n",
        "      <td> 188</td>\n",
        "    </tr>\n",
        "    <tr>\n",
        "      <th>1986</th>\n",
        "      <td> 154</td>\n",
        "    </tr>\n",
        "    <tr>\n",
        "      <th>1987</th>\n",
        "      <td> 167</td>\n",
        "    </tr>\n",
        "    <tr>\n",
        "      <th>1988</th>\n",
        "      <td> 221</td>\n",
        "    </tr>\n",
        "    <tr>\n",
        "      <th>1989</th>\n",
        "      <td> 267</td>\n",
        "    </tr>\n",
        "    <tr>\n",
        "      <th>1990</th>\n",
        "      <td> 292</td>\n",
        "    </tr>\n",
        "    <tr>\n",
        "      <th>1991</th>\n",
        "      <td> 278</td>\n",
        "    </tr>\n",
        "    <tr>\n",
        "      <th>1992</th>\n",
        "      <td> 303</td>\n",
        "    </tr>\n",
        "    <tr>\n",
        "      <th>1993</th>\n",
        "      <td> 347</td>\n",
        "    </tr>\n",
        "    <tr>\n",
        "      <th>1994</th>\n",
        "      <td> 340</td>\n",
        "    </tr>\n",
        "    <tr>\n",
        "      <th>1995</th>\n",
        "      <td> 375</td>\n",
        "    </tr>\n",
        "    <tr>\n",
        "      <th>1996</th>\n",
        "      <td> 391</td>\n",
        "    </tr>\n",
        "    <tr>\n",
        "      <th>1997</th>\n",
        "      <td> 395</td>\n",
        "    </tr>\n",
        "    <tr>\n",
        "      <th>1998</th>\n",
        "      <td> 481</td>\n",
        "    </tr>\n",
        "    <tr>\n",
        "      <th>1999</th>\n",
        "      <td> 605</td>\n",
        "    </tr>\n",
        "    <tr>\n",
        "      <th>2000</th>\n",
        "      <td> 562</td>\n",
        "    </tr>\n",
        "    <tr>\n",
        "      <th>2001</th>\n",
        "      <td> 567</td>\n",
        "    </tr>\n",
        "    <tr>\n",
        "      <th>2002</th>\n",
        "      <td> 477</td>\n",
        "    </tr>\n",
        "    <tr>\n",
        "      <th>2003</th>\n",
        "      <td> 440</td>\n",
        "    </tr>\n",
        "    <tr>\n",
        "      <th>2004</th>\n",
        "      <td> 189</td>\n",
        "    </tr>\n",
        "    <tr>\n",
        "      <th>2005</th>\n",
        "      <td> 174</td>\n",
        "    </tr>\n",
        "    <tr>\n",
        "      <th>2006</th>\n",
        "      <td> 134</td>\n",
        "    </tr>\n",
        "    <tr>\n",
        "      <th>2007</th>\n",
        "      <td>  57</td>\n",
        "    </tr>\n",
        "    <tr>\n",
        "      <th>2008</th>\n",
        "      <td>   8</td>\n",
        "    </tr>\n",
        "  </tbody>\n",
        "</table>\n",
        "</div>"
       ],
       "metadata": {},
       "output_type": "pyout",
       "prompt_number": 6,
       "text": [
        "                gss_years_used\n",
        "year_published                \n",
        "1944                         1\n",
        "1972                         2\n",
        "1973                         7\n",
        "1974                        24\n",
        "1975                        52\n",
        "1976                        82\n",
        "1977                        86\n",
        "1978                       147\n",
        "1979                       162\n",
        "1980                       191\n",
        "1981                       205\n",
        "1982                       176\n",
        "1983                       143\n",
        "1984                       171\n",
        "1985                       188\n",
        "1986                       154\n",
        "1987                       167\n",
        "1988                       221\n",
        "1989                       267\n",
        "1990                       292\n",
        "1991                       278\n",
        "1992                       303\n",
        "1993                       347\n",
        "1994                       340\n",
        "1995                       375\n",
        "1996                       391\n",
        "1997                       395\n",
        "1998                       481\n",
        "1999                       605\n",
        "2000                       562\n",
        "2001                       567\n",
        "2002                       477\n",
        "2003                       440\n",
        "2004                       189\n",
        "2005                       174\n",
        "2006                       134\n",
        "2007                        57\n",
        "2008                         8"
       ]
      }
     ],
     "prompt_number": 6
    },
    {
     "cell_type": "code",
     "collapsed": false,
     "input": [
      "grouped = df[df.year_published.notnull()].groupby('year_published')\n",
      "grouped.get_group(2004)"
     ],
     "language": "python",
     "metadata": {},
     "outputs": [
      {
       "html": [
        "<div style=\"max-height:1000px;max-width:1500px;overflow:auto;\">\n",
        "<table border=\"1\" class=\"dataframe\">\n",
        "  <thead>\n",
        "    <tr style=\"text-align: right;\">\n",
        "      <th></th>\n",
        "      <th>gss_years_used</th>\n",
        "      <th>year_published</th>\n",
        "    </tr>\n",
        "  </thead>\n",
        "  <tbody>\n",
        "    <tr>\n",
        "      <th>102 </th>\n",
        "      <td>                   </td>\n",
        "      <td> 2004</td>\n",
        "    </tr>\n",
        "    <tr>\n",
        "      <th>104 </th>\n",
        "      <td>                   </td>\n",
        "      <td> 2004</td>\n",
        "    </tr>\n",
        "    <tr>\n",
        "      <th>152 </th>\n",
        "      <td>               1998</td>\n",
        "      <td> 2004</td>\n",
        "    </tr>\n",
        "    <tr>\n",
        "      <th>172 </th>\n",
        "      <td>                   </td>\n",
        "      <td> 2004</td>\n",
        "    </tr>\n",
        "    <tr>\n",
        "      <th>180 </th>\n",
        "      <td>                   </td>\n",
        "      <td> 2004</td>\n",
        "    </tr>\n",
        "    <tr>\n",
        "      <th>215 </th>\n",
        "      <td>          1984-2000</td>\n",
        "      <td> 2004</td>\n",
        "    </tr>\n",
        "    <tr>\n",
        "      <th>283 </th>\n",
        "      <td>                   </td>\n",
        "      <td> 2004</td>\n",
        "    </tr>\n",
        "    <tr>\n",
        "      <th>284 </th>\n",
        "      <td>                   </td>\n",
        "      <td> 2004</td>\n",
        "    </tr>\n",
        "    <tr>\n",
        "      <th>338 </th>\n",
        "      <td>           972-2003</td>\n",
        "      <td> 2004</td>\n",
        "    </tr>\n",
        "    <tr>\n",
        "      <th>346 </th>\n",
        "      <td>                   </td>\n",
        "      <td> 2004</td>\n",
        "    </tr>\n",
        "    <tr>\n",
        "      <th>364 </th>\n",
        "      <td>                   </td>\n",
        "      <td> 2004</td>\n",
        "    </tr>\n",
        "    <tr>\n",
        "      <th>412 </th>\n",
        "      <td>                   </td>\n",
        "      <td> 2004</td>\n",
        "    </tr>\n",
        "    <tr>\n",
        "      <th>424 </th>\n",
        "      <td>                   </td>\n",
        "      <td> 2004</td>\n",
        "    </tr>\n",
        "    <tr>\n",
        "      <th>519 </th>\n",
        "      <td>                   </td>\n",
        "      <td> 2004</td>\n",
        "    </tr>\n",
        "    <tr>\n",
        "      <th>566 </th>\n",
        "      <td>                   </td>\n",
        "      <td> 2004</td>\n",
        "    </tr>\n",
        "    <tr>\n",
        "      <th>567 </th>\n",
        "      <td>                   </td>\n",
        "      <td> 2004</td>\n",
        "    </tr>\n",
        "    <tr>\n",
        "      <th>580 </th>\n",
        "      <td>                   </td>\n",
        "      <td> 2004</td>\n",
        "    </tr>\n",
        "    <tr>\n",
        "      <th>622 </th>\n",
        "      <td> \" 974, 1984, 1994\"</td>\n",
        "      <td> 2004</td>\n",
        "    </tr>\n",
        "    <tr>\n",
        "      <th>681 </th>\n",
        "      <td>                   </td>\n",
        "      <td> 2004</td>\n",
        "    </tr>\n",
        "    <tr>\n",
        "      <th>683 </th>\n",
        "      <td>          1990-2000</td>\n",
        "      <td> 2004</td>\n",
        "    </tr>\n",
        "    <tr>\n",
        "      <th>716 </th>\n",
        "      <td>                   </td>\n",
        "      <td> 2004</td>\n",
        "    </tr>\n",
        "    <tr>\n",
        "      <th>776 </th>\n",
        "      <td>                   </td>\n",
        "      <td> 2004</td>\n",
        "    </tr>\n",
        "    <tr>\n",
        "      <th>813 </th>\n",
        "      <td>                   </td>\n",
        "      <td> 2004</td>\n",
        "    </tr>\n",
        "    <tr>\n",
        "      <th>843 </th>\n",
        "      <td>                   </td>\n",
        "      <td> 2004</td>\n",
        "    </tr>\n",
        "    <tr>\n",
        "      <th>947 </th>\n",
        "      <td>           977-2000</td>\n",
        "      <td> 2004</td>\n",
        "    </tr>\n",
        "    <tr>\n",
        "      <th>960 </th>\n",
        "      <td>                   </td>\n",
        "      <td> 2004</td>\n",
        "    </tr>\n",
        "    <tr>\n",
        "      <th>962 </th>\n",
        "      <td>                   </td>\n",
        "      <td> 2004</td>\n",
        "    </tr>\n",
        "    <tr>\n",
        "      <th>998 </th>\n",
        "      <td>                   </td>\n",
        "      <td> 2004</td>\n",
        "    </tr>\n",
        "    <tr>\n",
        "      <th>1082</th>\n",
        "      <td>                   </td>\n",
        "      <td> 2004</td>\n",
        "    </tr>\n",
        "    <tr>\n",
        "      <th>1133</th>\n",
        "      <td>                   </td>\n",
        "      <td> 2004</td>\n",
        "    </tr>\n",
        "    <tr>\n",
        "      <th>...</th>\n",
        "      <td>...</td>\n",
        "      <td>...</td>\n",
        "    </tr>\n",
        "    <tr>\n",
        "      <th>7567</th>\n",
        "      <td>                   </td>\n",
        "      <td> 2004</td>\n",
        "    </tr>\n",
        "    <tr>\n",
        "      <th>7678</th>\n",
        "      <td>                   </td>\n",
        "      <td> 2004</td>\n",
        "    </tr>\n",
        "    <tr>\n",
        "      <th>7719</th>\n",
        "      <td>                   </td>\n",
        "      <td> 2004</td>\n",
        "    </tr>\n",
        "    <tr>\n",
        "      <th>7720</th>\n",
        "      <td>                   </td>\n",
        "      <td> 2004</td>\n",
        "    </tr>\n",
        "    <tr>\n",
        "      <th>7782</th>\n",
        "      <td>               1996</td>\n",
        "      <td> 2004</td>\n",
        "    </tr>\n",
        "    <tr>\n",
        "      <th>7824</th>\n",
        "      <td>                   </td>\n",
        "      <td> 2004</td>\n",
        "    </tr>\n",
        "    <tr>\n",
        "      <th>7826</th>\n",
        "      <td>                   </td>\n",
        "      <td> 2004</td>\n",
        "    </tr>\n",
        "    <tr>\n",
        "      <th>8012</th>\n",
        "      <td>                   </td>\n",
        "      <td> 2004</td>\n",
        "    </tr>\n",
        "    <tr>\n",
        "      <th>8391</th>\n",
        "      <td>                  0</td>\n",
        "      <td> 2004</td>\n",
        "    </tr>\n",
        "    <tr>\n",
        "      <th>8486</th>\n",
        "      <td>                   </td>\n",
        "      <td> 2004</td>\n",
        "    </tr>\n",
        "    <tr>\n",
        "      <th>8589</th>\n",
        "      <td>                   </td>\n",
        "      <td> 2004</td>\n",
        "    </tr>\n",
        "    <tr>\n",
        "      <th>8635</th>\n",
        "      <td>                   </td>\n",
        "      <td> 2004</td>\n",
        "    </tr>\n",
        "    <tr>\n",
        "      <th>8679</th>\n",
        "      <td>                   </td>\n",
        "      <td> 2004</td>\n",
        "    </tr>\n",
        "    <tr>\n",
        "      <th>8751</th>\n",
        "      <td>                   </td>\n",
        "      <td> 2004</td>\n",
        "    </tr>\n",
        "    <tr>\n",
        "      <th>8769</th>\n",
        "      <td>                   </td>\n",
        "      <td> 2004</td>\n",
        "    </tr>\n",
        "    <tr>\n",
        "      <th>8776</th>\n",
        "      <td>                   </td>\n",
        "      <td> 2004</td>\n",
        "    </tr>\n",
        "    <tr>\n",
        "      <th>8777</th>\n",
        "      <td>                   </td>\n",
        "      <td> 2004</td>\n",
        "    </tr>\n",
        "    <tr>\n",
        "      <th>8814</th>\n",
        "      <td>                   </td>\n",
        "      <td> 2004</td>\n",
        "    </tr>\n",
        "    <tr>\n",
        "      <th>8822</th>\n",
        "      <td>                   </td>\n",
        "      <td> 2004</td>\n",
        "    </tr>\n",
        "    <tr>\n",
        "      <th>8824</th>\n",
        "      <td>                   </td>\n",
        "      <td> 2004</td>\n",
        "    </tr>\n",
        "    <tr>\n",
        "      <th>8830</th>\n",
        "      <td>                   </td>\n",
        "      <td> 2004</td>\n",
        "    </tr>\n",
        "    <tr>\n",
        "      <th>8870</th>\n",
        "      <td>                   </td>\n",
        "      <td> 2004</td>\n",
        "    </tr>\n",
        "    <tr>\n",
        "      <th>8905</th>\n",
        "      <td>                   </td>\n",
        "      <td> 2004</td>\n",
        "    </tr>\n",
        "    <tr>\n",
        "      <th>8912</th>\n",
        "      <td>                   </td>\n",
        "      <td> 2004</td>\n",
        "    </tr>\n",
        "    <tr>\n",
        "      <th>9019</th>\n",
        "      <td>                   </td>\n",
        "      <td> 2004</td>\n",
        "    </tr>\n",
        "    <tr>\n",
        "      <th>9021</th>\n",
        "      <td>          1988-2000</td>\n",
        "      <td> 2004</td>\n",
        "    </tr>\n",
        "    <tr>\n",
        "      <th>9022</th>\n",
        "      <td>          1988-2000</td>\n",
        "      <td> 2004</td>\n",
        "    </tr>\n",
        "    <tr>\n",
        "      <th>9039</th>\n",
        "      <td>                   </td>\n",
        "      <td> 2004</td>\n",
        "    </tr>\n",
        "    <tr>\n",
        "      <th>9040</th>\n",
        "      <td>                   </td>\n",
        "      <td> 2004</td>\n",
        "    </tr>\n",
        "    <tr>\n",
        "      <th>9048</th>\n",
        "      <td>                   </td>\n",
        "      <td> 2004</td>\n",
        "    </tr>\n",
        "  </tbody>\n",
        "</table>\n",
        "<p>189 rows \u00d7 2 columns</p>\n",
        "</div>"
       ],
       "metadata": {},
       "output_type": "pyout",
       "prompt_number": 8,
       "text": [
        "          gss_years_used  year_published\n",
        "102                                 2004\n",
        "104                                 2004\n",
        "152                 1998            2004\n",
        "172                                 2004\n",
        "180                                 2004\n",
        "215            1984-2000            2004\n",
        "283                                 2004\n",
        "284                                 2004\n",
        "338             972-2003            2004\n",
        "346                                 2004\n",
        "364                                 2004\n",
        "412                                 2004\n",
        "424                                 2004\n",
        "519                                 2004\n",
        "566                                 2004\n",
        "567                                 2004\n",
        "580                                 2004\n",
        "622   \" 974, 1984, 1994\"            2004\n",
        "681                                 2004\n",
        "683            1990-2000            2004\n",
        "716                                 2004\n",
        "776                                 2004\n",
        "813                                 2004\n",
        "843                                 2004\n",
        "947             977-2000            2004\n",
        "960                                 2004\n",
        "962                                 2004\n",
        "998                                 2004\n",
        "1082                                2004\n",
        "1133                                2004\n",
        "...                  ...             ...\n",
        "7567                                2004\n",
        "7678                                2004\n",
        "7719                                2004\n",
        "7720                                2004\n",
        "7782                1996            2004\n",
        "7824                                2004\n",
        "7826                                2004\n",
        "8012                                2004\n",
        "8391                   0            2004\n",
        "8486                                2004\n",
        "8589                                2004\n",
        "8635                                2004\n",
        "8679                                2004\n",
        "8751                                2004\n",
        "8769                                2004\n",
        "8776                                2004\n",
        "8777                                2004\n",
        "8814                                2004\n",
        "8822                                2004\n",
        "8824                                2004\n",
        "8830                                2004\n",
        "8870                                2004\n",
        "8905                                2004\n",
        "8912                                2004\n",
        "9019                                2004\n",
        "9021           1988-2000            2004\n",
        "9022           1988-2000            2004\n",
        "9039                                2004\n",
        "9040                                2004\n",
        "9048                                2004\n",
        "\n",
        "[189 rows x 2 columns]"
       ]
      }
     ],
     "prompt_number": 8
    },
    {
     "cell_type": "markdown",
     "metadata": {},
     "source": [
      "# Number of variables over time"
     ]
    },
    {
     "cell_type": "code",
     "collapsed": false,
     "input": [
      "path_to_data = '/mnt/ide0/home/misha/GSSproject/Data/'\n",
      "articleClasses = cp.load(open(path_to_data + 'articleClasses.pickle'))\n",
      "df = pd.DataFrame(columns=['aid', 'yearpublished', 'dvs', 'ivs', 'controls', 'total'])\n",
      "for a in articleClasses:\n",
      "    df.loc[a.articleID, :] = np.array([a.articleID, a.yearPublished, a.DVs, a.IVs, a.controls, 0], dtype=object)\n",
      "\n",
      "df = df[df.yearpublished.notnull()]\n",
      "df.yearpublished = df.yearpublished.astype(int)\n",
      "df.aid = df.aid.astype(int)\n",
      "df.index = df.aid\n",
      "    \n",
      "df.dvs = [len(v) for k, v in df.dvs.iteritems()]\n",
      "df.ivs = [len(v) for k, v in df.ivs.iteritems()]\n",
      "df.controls = [len(v) for k, v in df.controls.iteritems()]\n",
      "df.total = df.dvs + df.ivs + df.controls\n",
      "\n",
      "grouped = df.groupby('yearpublished')"
     ],
     "language": "python",
     "metadata": {},
     "outputs": [],
     "prompt_number": 13
    },
    {
     "cell_type": "markdown",
     "metadata": {},
     "source": [
      "# Number of articles per year in our data\n",
      "\n",
      "Note: This is using articleClasses, which consists of only articles that survived a fair amount of filtering. "
     ]
    },
    {
     "cell_type": "code",
     "collapsed": false,
     "input": [
      "grouped['aid'].count().plot(style='s-')\n",
      "# legend(fontsize=15)\n",
      "xlim((1973, 2010))\n",
      "title('Articles per Year', fontsize=18)\n",
      "xlabel('Year published', fontsize=15)\n",
      "ylabel('Number of articles', fontsize=15)\n",
      "# savefig('../../images/9-4-2014--articles-per-year.jpg')"
     ],
     "language": "python",
     "metadata": {},
     "outputs": [
      {
       "metadata": {},
       "output_type": "pyout",
       "prompt_number": 14,
       "text": [
        "<matplotlib.text.Text at 0x493c710>"
       ]
      },
      {
       "metadata": {},
       "output_type": "display_data",
       "png": "[encoded data removed]",
       "text": [
        "<matplotlib.figure.Figure at 0x49247d0>"
       ]
      }
     ],
     "prompt_number": 14
    },
    {
     "cell_type": "code",
     "collapsed": false,
     "input": [
      "\n",
      "# grouped.mean()[['dvs', 'ivs', 'controls', 'total']].plot()\n",
      "means = grouped.mean()\n",
      "\n",
      "# figsize(())\n",
      "pd.rolling_mean(means.dvs, window=3).plot(label=\"Dependent var's\", style='s--') \n",
      "pd.rolling_mean(means.ivs, window=3).plot( label=\"Independent var's\", style='s--')\n",
      "# plot(means.index, means['total'], '--', linewidth=1, label=\"All var's\")\n",
      "legend(fontsize=15)\n",
      "xlim((1974, 2005))\n",
      "title('Variables per Article over Time', fontsize=18)\n",
      "xlabel('Year published', fontsize=15)\n",
      "ylabel('Variables per article', fontsize=15)\n",
      "# savefig('../../images/variables_per_article_over_time.jpg')"
     ],
     "language": "python",
     "metadata": {},
     "outputs": [
      {
       "metadata": {},
       "output_type": "pyout",
       "prompt_number": 3,
       "text": [
        "<matplotlib.text.Text at 0xa001fd0>"
       ]
      },
      {
       "metadata": {},
       "output_type": "display_data",
       "png": "[encoded data removed]",
       "text": [
        "<matplotlib.figure.Figure at 0x9f629d0>"
       ]
      }
     ],
     "prompt_number": 3
    },
    {
     "cell_type": "markdown",
     "metadata": {},
     "source": [
      "#Descriptives of Model Outcomes"
     ]
    },
    {
     "cell_type": "code",
     "collapsed": false,
     "input": [
      "if __name__ == \"__main__\":    \n",
      "    \n",
      "    pathToData = '../../Data/'\n",
      "    dataCont = GU.dataContainer(pathToData)\n",
      "    \n",
      "    articlesToUse = GU.filterArticles(dataCont.articleClasses, GSSYearsUsed=True)            \n",
      "    print 'len of articleClasses:', len(articlesToUse)\n",
      "#     raw_input('...')\n",
      "    \n",
      "    # define the storage containers for outputs\n",
      "    outcomes = ['propSig', 'paramSizesNormed', 'Rs', 'adjRs', 'pvalues',  'numTotal', \\\n",
      "                'propSig_CentralVars', 'paramSizesNormed_CentralVars', 'pvalues_CentralVars']\n",
      "    output = {outcome:[] for outcome in outcomes}\n",
      "    output['article_id'] = []\n",
      "    \n",
      "           \n",
      "#     for article in sample(articlesToUse, 100):\n",
      "    for article in articlesToUse:\n",
      "    #for article in [a for a in articlesToUse if a.articleID == 6755]:\n",
      "   \n",
      "        print 'Processing article:', article.articleID\n",
      "        RHS = article.IVs + article.controls     \n",
      "        \n",
      "        for DV in article.DVs:\n",
      "\n",
      "            for year in article.GSSYearsUsed:\n",
      "                \n",
      "                results = GU.runModel(dataCont, year, DV, RHS) # models run on max year of data used\n",
      "                if not results: continue\n",
      "\n",
      "                centralVars = []            \n",
      "                for civ in article.centralIVs:\n",
      "                    if 'standardize(%s, ddof=1)' % (civ) in results.params.index:\n",
      "                        centralVars.append('standardize(%s, ddof=1)' % (civ))\n",
      "                    else: \n",
      "                        for col in results.params.index:\n",
      "                            if 'C(' + civ + ')' in col:\n",
      "                                centralVars.append(col)\n",
      "\n",
      "\n",
      "                # The reasoning for the condition below is that authors make two types of arguments for \"central\" variables, \n",
      "                # (1) that the central variable is really important, p < 0.05, or (2) that the central variable is not important (p > 0.05). \n",
      "                # What we want to test by replacing the variable with a cognate are arguments of type (1). \n",
      "                # Arguments of type (2) are important and testable too, but if we test all of these together, we will obscure both effects.\n",
      "                # So the condition below ensures that at least one of the central variables was found to be \"important\" in the original \n",
      "                # article.\n",
      "                # This throws away 67 observations.\n",
      "#                 if np.all(results.pvalues[centralVars] > 0.05): \n",
      "#                     print 'All \"central\" IVs are p > 0.05. Skipping.'\n",
      "#                     continue\n",
      "\n",
      "\n",
      "                output['Rs'].append(results.rsquared) \n",
      "                output['adjRs'].append(results.rsquared_adj) \n",
      "                output['propSig'].append(float(len([p for p in results.pvalues[1:] if p < 0.05]))/len(results.params[1:])) \n",
      "                output['paramSizesNormed'].append(np.mean(results.params[1:].abs())) \n",
      "                output['pvalues'].append(np.mean( results.pvalues[1:]))\n",
      "                output['numTotal'].append( 1 ) #divide by len of R^2 array to get a mean of variables estimated PER model                           \n",
      "                if centralVars:\n",
      "                    output['pvalues_CentralVars'].append(np.mean(results.pvalues[centralVars]))               \n",
      "                    output['propSig_CentralVars'].append(float(len([p for p in results.pvalues[centralVars] if p < 0.05])) \\\n",
      "                                                            /len(results.params[centralVars])) \n",
      "                    output['paramSizesNormed_CentralVars'].append(np.mean(results.params[centralVars].abs()))                    \n",
      "                else: \n",
      "                    print 'no central variables'\n",
      "                    output['pvalues_CentralVars'].append(nan)\n",
      "                    output['propSig_CentralVars'].append(nan)\n",
      "                    output['paramSizesNormed_CentralVars'].append(nan)\n",
      "                    \n",
      "                output['article_id'].append(article.articleID) "
     ],
     "language": "python",
     "metadata": {},
     "outputs": [
      {
       "output_type": "stream",
       "stream": "stdout",
       "text": [
        "len of articleClasses: 592\n",
        "Processing article: 9\n",
        "Processing article:"
       ]
      },
      {
       "output_type": "stream",
       "stream": "stdout",
       "text": [
        " 18\n",
        "Dropping column MARITAL because it is constant\n",
        "Dropping column MARITAL because it is constant\n",
        "Dropping column MARITAL because it is constant\n",
        "Dropping column MARITAL because it is constant\n",
        "Dropping column MARITAL because it is constant\n",
        "Dropping column MARITAL because it is constant\n",
        "Processing article:"
       ]
      },
      {
       "output_type": "stream",
       "stream": "stdout",
       "text": [
        " 21\n",
        "Dropping column RELIG because it is constant\n",
        "Dropping column RELIG because it is constant\n",
        "Processing article: 22\n",
        "Processing article: 28\n",
        "Processing article:"
       ]
      },
      {
       "output_type": "stream",
       "stream": "stdout",
       "text": [
        " 54\n",
        "Dropping column EQCLOSE because it is constant\n",
        "Dropping column"
       ]
      },
      {
       "output_type": "stream",
       "stream": "stdout",
       "text": [
        " EQCLOSE because it is constant\n",
        "Dropping column"
       ]
      },
      {
       "output_type": "stream",
       "stream": "stdout",
       "text": [
        " EQCLOSE because it is constant\n",
        "Dropping column"
       ]
      },
      {
       "output_type": "stream",
       "stream": "stdout",
       "text": [
        " EQCLOSE because it is constant\n",
        "Dropping column"
       ]
      },
      {
       "output_type": "stream",
       "stream": "stdout",
       "text": [
        " EQCLOSE because it is constant\n",
        "Dropping column"
       ]
      },
      {
       "output_type": "stream",
       "stream": "stdout",
       "text": [
        " EQCLOSE because it is constant\n",
        "Processing article:"
       ]
      },
      {
       "output_type": "stream",
       "stream": "stdout",
       "text": [
        " 59\n",
        "Processing article: 75\n",
        "no central variables"
       ]
      },
      {
       "output_type": "stream",
       "stream": "stdout",
       "text": [
        "\n",
        "no central variables"
       ]
      },
      {
       "output_type": "stream",
       "stream": "stdout",
       "text": [
        "\n",
        "no central variables"
       ]
      },
      {
       "output_type": "stream",
       "stream": "stdout",
       "text": [
        "\n",
        "no central variables"
       ]
      },
      {
       "output_type": "stream",
       "stream": "stdout",
       "text": [
        "\n",
        "no central variables"
       ]
      },
      {
       "output_type": "stream",
       "stream": "stdout",
       "text": [
        "\n",
        "Processing article: 98\n",
        "Processing article: 117\n",
        "Dropping column RELIG because it is constant\n",
        "Dropping column RELIG because it is constant\n",
        "Dropping column RELIG because it is constant\n",
        "Processing article: 122\n",
        "Processing article: 123\n",
        "Dropping column"
       ]
      },
      {
       "output_type": "stream",
       "stream": "stdout",
       "text": [
        " RELIG because it is constant\n",
        "Dropping column RELIG because it is constant\n",
        "Dropping column RELIG because it is constant\n",
        "Dropping column RELIG because it is constant\n",
        "Dropping column RELIG because it is constant\n",
        "Dropping column RELIG because it is constant\n",
        "Dropping column RELIG because it is constant\n",
        "Dropping column RELIG because it is constant\n",
        "Dropping column RELIG because it is constant\n",
        "Processing article: 175\n",
        "Processing article: 186\n",
        "Processing article:"
       ]
      },
      {
       "output_type": "stream",
       "stream": "stdout",
       "text": [
        " 196\n",
        "Dropping column MAWORK because it is constant\n",
        "Processing article: 212\n",
        "Dropping column MARITAL because it is constant\n",
        "Dropping column MARITAL because it is constant\n",
        "Dropping column MARITAL because it is constant\n",
        "Dropping column MARITAL because it is constant\n",
        "Dropping column MARITAL because it is constant\n",
        "Dropping column MARITAL because it is constant\n",
        "Dropping column MARITAL because it is constant\n",
        "Dropping column MARITAL because it is constant\n",
        "Dropping column MARITAL because it is constant\n",
        "Dropping column MARITAL because it is constant\n",
        "Dropping column MARITAL because it is constant\n",
        "Dropping column"
       ]
      },
      {
       "output_type": "stream",
       "stream": "stdout",
       "text": [
        " MARITAL because it is constant\n",
        "Dropping column MARITAL because it is constant\n",
        "Processing article: 224\n",
        "Either the  params or the R^2 is too high. Skipping."
       ]
      },
      {
       "output_type": "stream",
       "stream": "stdout",
       "text": [
        "\n",
        "Either the  params or the R^2 is too high. Skipping."
       ]
      },
      {
       "output_type": "stream",
       "stream": "stdout",
       "text": [
        "\n",
        "Either the  params or the R^2 is too high. Skipping."
       ]
      },
      {
       "output_type": "stream",
       "stream": "stdout",
       "text": [
        "\n",
        "Either the  params or the R^2 is too high. Skipping."
       ]
      },
      {
       "output_type": "stream",
       "stream": "stdout",
       "text": [
        "\n",
        "Processing article:"
       ]
      },
      {
       "output_type": "stream",
       "stream": "stdout",
       "text": [
        " 228\n",
        "Dropping column MARITAL because it is constant\n",
        "no IVs available. Skipping.\n",
        "Dropping column MARITAL because it is constant\n",
        "no IVs available. Skipping.\n",
        "Dropping column MARITAL because it is constant\n",
        "no IVs available. Skipping.\n",
        "Dropping column MARITAL because it is constant\n",
        "no IVs available. Skipping.\n",
        "Dropping column MARITAL because it is constant\n",
        "no IVs available. Skipping.\n",
        "Dropping column MARITAL because it is constant\n",
        "no IVs available. Skipping.\n",
        "Dropping column MARITAL because it is constant\n",
        "no IVs available. Skipping.\n",
        "Dropping column MARITAL because it is constant\n",
        "no IVs available. Skipping.\n",
        "Dropping column MARITAL because it is constant\n",
        "no IVs available. Skipping.\n",
        "Dropping column MARITAL because it is constant\n",
        "no IVs available. Skipping.\n",
        "Dropping column MARITAL because it is constant\n",
        "no IVs available. Skipping.\n",
        "Dropping column MARITAL because it is constant\n",
        "no IVs available. Skipping.\n",
        "Dropping column MARITAL because it is constant\n",
        "no IVs available. Skipping.\n",
        "Dropping column MARITAL because it is constant\n",
        "no IVs available. Skipping.\n",
        "Processing article: 269\n",
        "Dropping column DRINK because it is constant\n",
        "Dropping column DRINK "
       ]
      },
      {
       "output_type": "stream",
       "stream": "stdout",
       "text": [
        "because it is constant\n",
        "Dropping column DRINK because it is constant\n",
        "Dropping column DRINK because it is constant\n",
        "Dropping column DRINK because it is constant\n",
        "Dropping column DRINK because it is constant\n",
        "Dropping column DRINK because it is constant\n",
        "Dropping column DRINK because it is constant\n",
        "Dropping column DRINK because it is constant\n",
        "Processing article: 324\n",
        "Processing article: 325\n",
        "Processing article:"
       ]
      },
      {
       "output_type": "stream",
       "stream": "stdout",
       "text": [
        " 348\n",
        "Processing article:"
       ]
      },
      {
       "output_type": "stream",
       "stream": "stdout",
       "text": [
        " 356\n",
        "Processing article:"
       ]
      },
      {
       "output_type": "stream",
       "stream": "stdout",
       "text": [
        " 358\n",
        "Processing article:"
       ]
      },
      {
       "output_type": "stream",
       "stream": "stdout",
       "text": [
        " 396\n",
        "Processing article: 436\n",
        "Processing article: 445\n",
        "Processing article:"
       ]
      },
      {
       "output_type": "stream",
       "stream": "stdout",
       "text": [
        " 484\n",
        "Processing article: 486\n",
        "Dropping column RELIG because it is constant\n",
        "Dropping column RELIG because it is constant\n",
        "Dropping column"
       ]
      },
      {
       "output_type": "stream",
       "stream": "stdout",
       "text": [
        " RELIG because it is constant\n",
        "Dropping column RELIG because it is constant\n",
        "Dropping column RELIG because it is constant\n",
        "Dropping column RELIG because it is constant\n",
        "Dropping column RELIG because it is constant\n",
        "Dropping column RELIG because it is constant\n",
        "Dropping column RELIG because it is constant\n",
        "Dropping column RELIG because it is constant\n",
        "Dropping column RELIG because it is constant\n",
        "Dropping column RELIG because it is constant\n",
        "Dropping column RELIG because it is constant\n",
        "Dropping column RELIG because it is constant\n",
        "Dropping column"
       ]
      },
      {
       "output_type": "stream",
       "stream": "stdout",
       "text": [
        " RELIG because it is constant\n",
        "Dropping column RELIG because it is constant\n",
        "Dropping column RELIG because it is constant\n",
        "Dropping column RELIG because it is constant\n",
        "Dropping column RELIG because it is constant\n",
        "Dropping column RELIG because it is constant\n",
        "Dropping column RELIG because it is constant\n",
        "Dropping column RELIG because it is constant\n",
        "Dropping column RELIG because it is constant\n",
        "Dropping column RELIG because it is constant\n",
        "Dropping column RELIG because it is constant\n",
        "Dropping column RELIG because it is constant\n",
        "Dropping column"
       ]
      },
      {
       "output_type": "stream",
       "stream": "stdout",
       "text": [
        " RELIG because it is constant\n",
        "Dropping column RELIG because it is constant\n",
        "Dropping column RELIG because it is constant\n",
        "Dropping column RELIG because it is constant\n",
        "Dropping column RELIG because it is constant\n",
        "Dropping column RELIG because it is constant\n",
        "Dropping column RELIG because it is constant\n",
        "Dropping column RELIG because it is constant\n",
        "Dropping column RELIG because it is constant\n",
        "Dropping column RELIG because it is constant\n",
        "Dropping column RELIG because it is constant\n",
        "Dropping column RELIG because it is constant\n",
        "Dropping column RELIG because it is constant\n",
        "Dropping column"
       ]
      },
      {
       "output_type": "stream",
       "stream": "stdout",
       "text": [
        " RELIG because it is constant\n",
        "Dropping column RELIG because it is constant\n",
        "Dropping column RELIG because it is constant\n",
        "Dropping column RELIG because it is constant\n",
        "Dropping column RELIG because it is constant\n",
        "Dropping column RELIG because it is constant\n",
        "Processing article: 488\n",
        "Processing article:"
       ]
      },
      {
       "output_type": "stream",
       "stream": "stdout",
       "text": [
        " 509\n",
        "Processing article:"
       ]
      },
      {
       "output_type": "stream",
       "stream": "stdout",
       "text": [
        " 511\n",
        "Processing article: 528\n",
        "Not enough observations. Skipping...\n",
        "Not enough observations. Skipping...\n",
        "Not enough observations. Skipping...\n",
        "Not enough observations. Skipping...\n",
        "Not enough observations. Skipping...\n",
        "Not enough observations. Skipping...\n",
        "Not enough observations. Skipping..."
       ]
      },
      {
       "output_type": "stream",
       "stream": "stdout",
       "text": [
        "\n",
        "Not enough observations. Skipping...\n",
        "Processing article: 536\n",
        "Processing article:"
       ]
      },
      {
       "output_type": "stream",
       "stream": "stdout",
       "text": [
        " 545\n",
        "Processing article: 585\n",
        "no central variables"
       ]
      },
      {
       "output_type": "stream",
       "stream": "stdout",
       "text": [
        "\n",
        "no central variables\n",
        "no central variables"
       ]
      },
      {
       "output_type": "stream",
       "stream": "stdout",
       "text": [
        "\n",
        "no central variables\n",
        "no central variables"
       ]
      },
      {
       "output_type": "stream",
       "stream": "stdout",
       "text": [
        "\n",
        "no central variables\n",
        "no central variables"
       ]
      },
      {
       "output_type": "stream",
       "stream": "stdout",
       "text": [
        "\n",
        "no central variables"
       ]
      },
      {
       "output_type": "stream",
       "stream": "stdout",
       "text": [
        "\n",
        "no central variables"
       ]
      },
      {
       "output_type": "stream",
       "stream": "stdout",
       "text": [
        "\n",
        "no central variables"
       ]
      },
      {
       "output_type": "stream",
       "stream": "stdout",
       "text": [
        "\n",
        "no central variables\n",
        "no central variables"
       ]
      },
      {
       "output_type": "stream",
       "stream": "stdout",
       "text": [
        "\n",
        "no central variables\n",
        "Processing article: 593\n",
        "Processing article: 607\n",
        "Processing article:"
       ]
      },
      {
       "output_type": "stream",
       "stream": "stdout",
       "text": [
        " 619\n",
        "Processing article:"
       ]
      },
      {
       "output_type": "stream",
       "stream": "stdout",
       "text": [
        " 633\n",
        "Processing article: 635\n",
        "Processing article: 636\n",
        "Processing article:"
       ]
      },
      {
       "output_type": "stream",
       "stream": "stdout",
       "text": [
        " 640\n",
        "Processing article: 646\n",
        "Processing article:"
       ]
      },
      {
       "output_type": "stream",
       "stream": "stdout",
       "text": [
        " 657\n",
        "Not enough observations. Skipping...\n",
        "Not enough observations. Skipping...\n",
        "Processing article: 660\n",
        "Processing article:"
       ]
      },
      {
       "output_type": "stream",
       "stream": "stdout",
       "text": [
        " 686\n",
        "Processing article:"
       ]
      },
      {
       "output_type": "stream",
       "stream": "stdout",
       "text": [
        " 693\n",
        "Processing article:"
       ]
      },
      {
       "output_type": "stream",
       "stream": "stdout",
       "text": [
        " 703\n",
        "Processing article: 706\n",
        "Processing article:"
       ]
      },
      {
       "output_type": "stream",
       "stream": "stdout",
       "text": [
        " 715\n",
        "Dropping column RELIG because it is constant\n",
        "Dropping column RELIG because it is constant\n",
        "Dropping column RELIG because it is constant\n",
        "Dropping column RELIG because it is constant\n",
        "Dropping column RELIG because it is constant\n",
        "Dropping column RELIG because it is constant\n",
        "Processing article: 716\n",
        "Dropping column RELIG because it is constant\n",
        "Dropping column RELIG16 because it is constant\n",
        "Dropping column RELIG because it is constant\n",
        "Dropping column RELIG16 because it is constant\n",
        "Dropping column DENOM because it is constant\n",
        "Dropping column DENOM16 because it is constant\n",
        "Dropping column RELIG because it is constant\n",
        "Dropping column RELIG16 because it is constant\n",
        "Dropping column DENOM because it is constant\n",
        "Dropping column DENOM16 because it is constant\n",
        "Dropping column RELIG because it is constant\n",
        "Dropping column RELIG16 because it is constant\n",
        "Dropping column"
       ]
      },
      {
       "output_type": "stream",
       "stream": "stdout",
       "text": [
        " DENOM because it is constant\n",
        "Dropping column DENOM16 because it is constant\n",
        "Dropping column RELIG because it is constant\n",
        "Dropping column RELIG16 because it is constant\n",
        "Dropping column DENOM because it is constant\n",
        "Dropping column DENOM16 because it is constant\n",
        "Dropping column RELIG because it is constant\n",
        "Dropping column RELIG16 because it is constant\n",
        "Dropping column DENOM because it is constant\n",
        "Dropping column DENOM16 because it is constant\n",
        "Dropping column RELIG because it is constant\n",
        "Dropping column RELIG16 because it is constant\n",
        "Dropping column DENOM because it is constant\n",
        "Dropping column DENOM16 because it is constant\n",
        "Dropping column RELIG because it is constant\n",
        "Dropping column RELIG16 because it is constant\n",
        "Dropping column RELIG because it is constant\n",
        "Dropping column RELIG16 because it is constant\n",
        "Dropping column DENOM because it is constant\n",
        "Dropping column DENOM16 because it is constant\n",
        "Dropping column RELIG because it is constant\n",
        "Dropping column RELIG16 because it is constant\n",
        "Dropping column DENOM because it is constant\n",
        "Dropping column DENOM16 because it is constant\n",
        "Dropping column RELIG because it is constant\n",
        "Dropping column RELIG16 because it is constant\n",
        "Dropping column DENOM because it is constant\n",
        "Dropping column DENOM16 because it is constant\n",
        "Dropping column RELIG because it is constant\n",
        "Dropping column RELIG16 because it is constant\n",
        "Dropping column DENOM because it is constant\n",
        "Dropping column DENOM16 because it is constant\n",
        "Dropping column RELIG because it is constant\n",
        "Dropping column RELIG16 because it is constant\n",
        "Dropping column DENOM because it is constant\n",
        "Dropping column"
       ]
      },
      {
       "output_type": "stream",
       "stream": "stdout",
       "text": [
        " DENOM16 because it is constant\n",
        "Dropping column RELIG because it is constant\n",
        "Dropping column RELIG16 because it is constant\n",
        "Dropping column DENOM because it is constant\n",
        "Dropping column DENOM16 because it is constant\n",
        "Dropping column RELIG because it is constant\n",
        "Dropping column RELIG16 because it is constant\n",
        "Dropping column RELIG because it is constant\n",
        "Dropping column RELIG16 because it is constant\n",
        "Dropping column DENOM because it is constant\n",
        "Dropping column DENOM16 because it is constant\n",
        "Dropping column RELIG because it is constant\n",
        "Dropping column RELIG16 because it is constant\n",
        "Dropping column DENOM because it is constant\n",
        "Dropping column DENOM16 because it is constant\n",
        "Dropping column RELIG because it is constant\n",
        "Dropping column RELIG16 because it is constant\n",
        "Dropping column DENOM because it is constant\n",
        "Dropping column DENOM16 because it is constant\n",
        "Dropping column RELIG because it is constant\n",
        "Dropping column RELIG16 because it is constant\n",
        "Dropping column DENOM because it is constant\n",
        "Dropping column DENOM16 because it is constant\n",
        "Dropping column RELIG because it is constant\n",
        "Dropping column RELIG16 because it is constant\n",
        "Dropping column DENOM because it is constant\n",
        "Dropping column DENOM16 because it is constant\n",
        "Dropping column RELIG because it is constant\n",
        "Dropping column RELIG16 because it is constant\n",
        "Dropping column DENOM because it is constant\n",
        "Dropping column DENOM16 because it is constant\n",
        "Processing article: 730\n",
        "Processing article:"
       ]
      },
      {
       "output_type": "stream",
       "stream": "stdout",
       "text": [
        " 739\n",
        "Processing article:"
       ]
      },
      {
       "output_type": "stream",
       "stream": "stdout",
       "text": [
        " 742\n",
        "Processing article:"
       ]
      },
      {
       "output_type": "stream",
       "stream": "stdout",
       "text": [
        " 756\n",
        "Processing article: 758\n",
        "Processing article: 763\n",
        "Processing article: 801\n",
        "no central variables"
       ]
      },
      {
       "output_type": "stream",
       "stream": "stdout",
       "text": [
        "\n",
        "no central variables"
       ]
      },
      {
       "output_type": "stream",
       "stream": "stdout",
       "text": [
        "\n",
        "no central variables"
       ]
      },
      {
       "output_type": "stream",
       "stream": "stdout",
       "text": [
        "\n",
        "no central variables\n",
        "no central variables"
       ]
      },
      {
       "output_type": "stream",
       "stream": "stdout",
       "text": [
        "\n",
        "no central variables\n",
        "no central variables"
       ]
      },
      {
       "output_type": "stream",
       "stream": "stdout",
       "text": [
        "\n",
        "no central variables"
       ]
      },
      {
       "output_type": "stream",
       "stream": "stdout",
       "text": [
        "\n",
        "no central variables\n",
        "Processing article: 829\n",
        "Dropping column"
       ]
      },
      {
       "output_type": "stream",
       "stream": "stdout",
       "text": [
        " MARITAL because it is constant\n",
        "Processing article: 835\n",
        "Processing article:"
       ]
      },
      {
       "output_type": "stream",
       "stream": "stdout",
       "text": [
        " 861\n",
        "Processing article:"
       ]
      },
      {
       "output_type": "stream",
       "stream": "stdout",
       "text": [
        " 905\n",
        "Processing article:"
       ]
      },
      {
       "output_type": "stream",
       "stream": "stdout",
       "text": [
        " 906\n",
        "Processing article: 926\n",
        "no central variables\n",
        "no central variables"
       ]
      },
      {
       "output_type": "stream",
       "stream": "stdout",
       "text": [
        "\n",
        "no central variables"
       ]
      },
      {
       "output_type": "stream",
       "stream": "stdout",
       "text": [
        "\n",
        "no central variables"
       ]
      },
      {
       "output_type": "stream",
       "stream": "stdout",
       "text": [
        "\n",
        "Processing article: 932\n",
        "Processing article: 989\n",
        "Processing article:"
       ]
      },
      {
       "output_type": "stream",
       "stream": "stdout",
       "text": [
        " 1000\n",
        "no central variables\n",
        "no central variables"
       ]
      },
      {
       "output_type": "stream",
       "stream": "stdout",
       "text": [
        "\n",
        "Processing article: 1006\n",
        "Processing article:"
       ]
      },
      {
       "output_type": "stream",
       "stream": "stdout",
       "text": [
        " 1037\n",
        "Processing article:"
       ]
      },
      {
       "output_type": "stream",
       "stream": "stdout",
       "text": [
        " 1040\n",
        "Processing article: 1041\n",
        "Processing article:"
       ]
      },
      {
       "output_type": "stream",
       "stream": "stdout",
       "text": [
        " 1043\n",
        "Processing article: 1079\n",
        "Processing article: 1118\n",
        "Processing article:"
       ]
      },
      {
       "output_type": "stream",
       "stream": "stdout",
       "text": [
        " 1143\n",
        "Processing article: 1162\n",
        "Processing article:"
       ]
      },
      {
       "output_type": "stream",
       "stream": "stdout",
       "text": [
        " 1173\n",
        "Processing article: 1175\n",
        "Processing article:"
       ]
      },
      {
       "output_type": "stream",
       "stream": "stdout",
       "text": [
        " 1179\n",
        "Dropping column RELIG because it is constant\n",
        "Processing article: 1182\n",
        "Processing article: 1183\n",
        "Dropping column RELIG because it is constant\n",
        "Dropping column"
       ]
      },
      {
       "output_type": "stream",
       "stream": "stdout",
       "text": [
        " RELIG because it is constant\n",
        "Dropping column RELIG because it is constant\n",
        "Dropping column RELIG because it is constant\n",
        "Dropping column RELIG because it is constant\n",
        "Dropping column RELIG because it is constant\n",
        "Dropping column RELIG because it is constant\n",
        "Dropping column RELIG because it is constant\n",
        "Dropping column RELIG because it is constant\n",
        "Dropping column RELIG because it is constant\n",
        "Dropping column RELIG because it is constant\n",
        "Dropping column RELIG because it is constant\n",
        "Processing article: 1202\n",
        "Dropping column RELIG because it is constant\n",
        "Dropping column RELIG because it is constant\n",
        "Dropping column RELIG because it is constant\n",
        "Dropping column RELIG because it is constant\n",
        "Dropping column"
       ]
      },
      {
       "output_type": "stream",
       "stream": "stdout",
       "text": [
        " RELIG because it is constant\n",
        "Dropping column RELIG because it is constant\n",
        "Dropping column RELIG because it is constant\n",
        "Dropping column RELIG because it is constant\n",
        "Dropping column RELIG because it is constant\n",
        "Dropping column RELIG because it is constant\n",
        "Dropping column RELIG because it is constant\n",
        "Dropping column RELIG because it is constant\n",
        "Processing article: 1210\n",
        "Processing article:"
       ]
      },
      {
       "output_type": "stream",
       "stream": "stdout",
       "text": [
        " 1211\n",
        "Processing article: 1212\n",
        "Dropping column RELIG because it is constant\n",
        "Dropping column RELIG because it is constant\n",
        "Dropping column RELIG because it is constant\n",
        "Dropping column DENOM because it is constant\n",
        "Dropping column RELIG because it is constant\n",
        "Dropping column DENOM because it is constant\n",
        "Dropping column RELIG because it is constant\n",
        "Dropping column DENOM because it is constant\n",
        "Dropping column RELIG because it is constant\n",
        "Dropping column DENOM because it is constant\n",
        "Dropping column RELIG because it is constant\n",
        "Dropping column DENOM because it is constant\n",
        "Dropping column RELIG because it is constant\n",
        "Dropping column DENOM because it is constant\n",
        "Processing article: 1281\n",
        "Processing article:"
       ]
      },
      {
       "output_type": "stream",
       "stream": "stdout",
       "text": [
        " 1307\n",
        "Dropping column RELIG because it is constant\n",
        "Dropping column RELIG because it is constant\n",
        "Dropping column RELIG because it is constant\n",
        "Dropping column RELIG because it is constant\n",
        "Dropping column RELIG because it is constant\n",
        "Processing article: 1310\n",
        "Processing article:"
       ]
      },
      {
       "output_type": "stream",
       "stream": "stdout",
       "text": [
        " 1311\n",
        "Processing article:"
       ]
      },
      {
       "output_type": "stream",
       "stream": "stdout",
       "text": [
        " 1313\n",
        "Processing article: 1314\n",
        "Processing article: 1315\n",
        "Processing article: 1324\n",
        "no central variables"
       ]
      },
      {
       "output_type": "stream",
       "stream": "stdout",
       "text": [
        "\n",
        "no central variables"
       ]
      },
      {
       "output_type": "stream",
       "stream": "stdout",
       "text": [
        "\n",
        "Processing article: 1337\n",
        "no central variables\n",
        "no central variables"
       ]
      },
      {
       "output_type": "stream",
       "stream": "stdout",
       "text": [
        "\n",
        "no central variables\n",
        "Processing article: 1340\n",
        "Dropping column"
       ]
      },
      {
       "output_type": "stream",
       "stream": "stdout",
       "text": [
        " RELIG because it is constant\n",
        "Dropping column DENOM because it is constant\n",
        "Not enough observations. Skipping...\n",
        "Dropping column RELIG because it is constant\n",
        "Dropping column DENOM because it is constant\n",
        "Dropping column RELIG because it is constant\n",
        "Dropping column DENOM because it is constant\n",
        "Dropping column RELIG because it is constant\n",
        "Dropping column DENOM because it is constant\n",
        "Not enough observations. Skipping...\n",
        "Processing article: 1341\n",
        "Dropping column RELIG because it is constant\n",
        "Dropping column DENOM because it is constant\n",
        "Dropping column RELIG because it is constant\n",
        "Dropping column DENOM because it is constant\n",
        "Dropping column RELIG because it is constant\n",
        "Dropping column DENOM because it is constant\n",
        "Dropping column RELIG because it is constant\n",
        "Dropping column DENOM because it is constant\n",
        "Dropping column"
       ]
      },
      {
       "output_type": "stream",
       "stream": "stdout",
       "text": [
        " RELIG because it is constant\n",
        "Dropping column DENOM because it is constant\n",
        "Dropping column RELIG because it is constant\n",
        "Dropping column DENOM because it is constant\n",
        "Dropping column RELIG because it is constant\n",
        "Dropping column DENOM because it is constant\n",
        "Dropping column RELIG because it is constant\n",
        "Dropping column DENOM because it is constant\n",
        "Processing article: 1343\n",
        "Dropping column RELIG because it is constant\n",
        "Dropping column RELIG because it is constant\n",
        "Dropping column RELIG because it is constant\n",
        "Dropping column RELIG because it is constant\n",
        "Dropping column RELIG because it is constant\n",
        "Dropping column"
       ]
      },
      {
       "output_type": "stream",
       "stream": "stdout",
       "text": [
        " RELIG because it is constant\n",
        "Dropping column RELIG because it is constant\n",
        "Processing article: 1355\n",
        "Processing article:"
       ]
      },
      {
       "output_type": "stream",
       "stream": "stdout",
       "text": [
        " 1361\n",
        "Dropping column EVWORK because it is constant\n",
        "Processing article: 1362\n",
        "Processing article: 1365\n",
        "Dropping column RELIG because it is constant\n",
        "Dropping column DENOM because it is constant\n",
        "Dropping column RELIG because it is constant\n",
        "Dropping column DENOM because it is constant\n",
        "Dropping column RELIG because it is constant\n",
        "Dropping column DENOM because it is constant\n",
        "Dropping column RELIG because it is constant\n",
        "Dropping column DENOM because it is constant\n",
        "Dropping column RELIG because it is constant\n",
        "Dropping column DENOM because it is constant\n",
        "Dropping column RELIG because it is constant\n",
        "Dropping column DENOM because it is constant\n",
        "Dropping column RELIG because it is constant\n",
        "Dropping column DENOM because it is constant\n",
        "Dropping column"
       ]
      },
      {
       "output_type": "stream",
       "stream": "stdout",
       "text": [
        " RELIG because it is constant\n",
        "Dropping column DENOM because it is constant\n",
        "Dropping column RELIG because it is constant\n",
        "Dropping column DENOM because it is constant\n",
        "Dropping column RELIG because it is constant\n",
        "Dropping column DENOM because it is constant\n",
        "Dropping column RELIG because it is constant\n",
        "Dropping column DENOM because it is constant\n",
        "Dropping column RELIG because it is constant\n",
        "Dropping column DENOM because it is constant\n",
        "Dropping column RELIG because it is constant\n",
        "Dropping column DENOM because it is constant\n",
        "Dropping column RELIG because it is constant\n",
        "Dropping column DENOM because it is constant\n",
        "Dropping column RELIG because it is constant\n",
        "Dropping column DENOM because it is constant\n",
        "Dropping column RELIG because it is constant\n",
        "Dropping column DENOM because it is constant\n",
        "Dropping column RELIG because it is constant\n",
        "Dropping column DENOM because it is constant\n",
        "Dropping column RELIG because it is constant\n",
        "Dropping column"
       ]
      },
      {
       "output_type": "stream",
       "stream": "stdout",
       "text": [
        " DENOM because it is constant\n",
        "Dropping column RELIG because it is constant\n",
        "Dropping column DENOM because it is constant\n",
        "Dropping column RELIG because it is constant\n",
        "Dropping column DENOM because it is constant\n",
        "Dropping column RELIG because it is constant\n",
        "Dropping column DENOM because it is constant\n",
        "Dropping column RELIG because it is constant\n",
        "Dropping column DENOM because it is constant\n",
        "Dropping column RELIG because it is constant\n",
        "Dropping column DENOM because it is constant\n",
        "Dropping column RELIG because it is constant\n",
        "Dropping column DENOM because it is constant\n",
        "Dropping column RELIG because it is constant\n",
        "Dropping column DENOM because it is constant\n",
        "Dropping column RELIG because it is constant\n",
        "Dropping column DENOM because it is constant\n",
        "Dropping column RELIG because it is constant\n",
        "Dropping column DENOM because it is constant\n",
        "Dropping column RELIG because it is constant\n",
        "Dropping column"
       ]
      },
      {
       "output_type": "stream",
       "stream": "stdout",
       "text": [
        " DENOM because it is constant\n",
        "Dropping column RELIG because it is constant\n",
        "Dropping column DENOM because it is constant\n",
        "Dropping column RELIG because it is constant\n",
        "Dropping column DENOM because it is constant\n",
        "Dropping column RELIG because it is constant\n",
        "Dropping column DENOM because it is constant\n",
        "Dropping column RELIG because it is constant\n",
        "Dropping column DENOM because it is constant\n",
        "Dropping column RELIG because it is constant\n",
        "Dropping column DENOM because it is constant\n",
        "Dropping column RELIG because it is constant\n",
        "Dropping column DENOM because it is constant\n",
        "Dropping column RELIG because it is constant\n",
        "Dropping column DENOM because it is constant\n",
        "Dropping column RELIG because it is constant\n",
        "Dropping column DENOM because it is constant\n",
        "Processing article: 1370\n",
        "Processing article:"
       ]
      },
      {
       "output_type": "stream",
       "stream": "stdout",
       "text": [
        " 1390\n",
        "Dropping column RELIG because it is constant\n",
        "Dropping column RELIG because it is constant\n",
        "Dropping column RELIG because it is constant\n",
        "Dropping column RELIG because it is constant\n",
        "Dropping column RELIG because it is constant\n",
        "Dropping column RELIG because it is constant\n",
        "Processing article: 1404\n",
        "Processing article:"
       ]
      },
      {
       "output_type": "stream",
       "stream": "stdout",
       "text": [
        " 1474\n",
        "Not enough observations. Skipping...\n",
        "Not enough observations. Skipping...\n",
        "Not enough observations. Skipping...\n",
        "Processing article: 1482\n",
        "Processing article:"
       ]
      },
      {
       "output_type": "stream",
       "stream": "stdout",
       "text": [
        " 1484\n",
        "Dropping column MARITAL because it is constant\n",
        "Processing article: 1489\n",
        "Processing article:"
       ]
      },
      {
       "output_type": "stream",
       "stream": "stdout",
       "text": [
        " 1501\n",
        "Processing article: 1502\n",
        "Processing article:"
       ]
      },
      {
       "output_type": "stream",
       "stream": "stdout",
       "text": [
        " 1510\n",
        "Processing article: 1530\n",
        "Processing article:"
       ]
      },
      {
       "output_type": "stream",
       "stream": "stdout",
       "text": [
        " 1538\n",
        "no central variables"
       ]
      },
      {
       "output_type": "stream",
       "stream": "stdout",
       "text": [
        "\n",
        "no central variables"
       ]
      },
      {
       "output_type": "stream",
       "stream": "stdout",
       "text": [
        "\n",
        "no central variables"
       ]
      },
      {
       "output_type": "stream",
       "stream": "stdout",
       "text": [
        "\n",
        "no central variables"
       ]
      },
      {
       "output_type": "stream",
       "stream": "stdout",
       "text": [
        "\n",
        "no central variables"
       ]
      },
      {
       "output_type": "stream",
       "stream": "stdout",
       "text": [
        "\n",
        "no central variables"
       ]
      },
      {
       "output_type": "stream",
       "stream": "stdout",
       "text": [
        "\n",
        "no central variables"
       ]
      },
      {
       "output_type": "stream",
       "stream": "stdout",
       "text": [
        "\n",
        "no central variables"
       ]
      },
      {
       "output_type": "stream",
       "stream": "stdout",
       "text": [
        "\n",
        "no central variables"
       ]
      },
      {
       "output_type": "stream",
       "stream": "stdout",
       "text": [
        "\n",
        "no central variables"
       ]
      },
      {
       "output_type": "stream",
       "stream": "stdout",
       "text": [
        "\n",
        "no central variables"
       ]
      },
      {
       "output_type": "stream",
       "stream": "stdout",
       "text": [
        "\n",
        "no central variables"
       ]
      },
      {
       "output_type": "stream",
       "stream": "stdout",
       "text": [
        "\n",
        "no central variables"
       ]
      },
      {
       "output_type": "stream",
       "stream": "stdout",
       "text": [
        "\n",
        "no central variables"
       ]
      },
      {
       "output_type": "stream",
       "stream": "stdout",
       "text": [
        "\n",
        "no central variables"
       ]
      },
      {
       "output_type": "stream",
       "stream": "stdout",
       "text": [
        "\n",
        "no central variables"
       ]
      },
      {
       "output_type": "stream",
       "stream": "stdout",
       "text": [
        "\n",
        "no central variables"
       ]
      },
      {
       "output_type": "stream",
       "stream": "stdout",
       "text": [
        "\n",
        "no central variables"
       ]
      },
      {
       "output_type": "stream",
       "stream": "stdout",
       "text": [
        "\n",
        "no central variables"
       ]
      },
      {
       "output_type": "stream",
       "stream": "stdout",
       "text": [
        "\n",
        "no central variables"
       ]
      },
      {
       "output_type": "stream",
       "stream": "stdout",
       "text": [
        "\n",
        "no central variables"
       ]
      },
      {
       "output_type": "stream",
       "stream": "stdout",
       "text": [
        "\n",
        "no central variables"
       ]
      },
      {
       "output_type": "stream",
       "stream": "stdout",
       "text": [
        "\n",
        "no central variables"
       ]
      },
      {
       "output_type": "stream",
       "stream": "stdout",
       "text": [
        "\n",
        "no central variables"
       ]
      },
      {
       "output_type": "stream",
       "stream": "stdout",
       "text": [
        "\n",
        "no central variables"
       ]
      },
      {
       "output_type": "stream",
       "stream": "stdout",
       "text": [
        "\n",
        "no central variables"
       ]
      },
      {
       "output_type": "stream",
       "stream": "stdout",
       "text": [
        "\n",
        "no central variables"
       ]
      },
      {
       "output_type": "stream",
       "stream": "stdout",
       "text": [
        "\n",
        "no central variables"
       ]
      },
      {
       "output_type": "stream",
       "stream": "stdout",
       "text": [
        "\n",
        "no central variables"
       ]
      },
      {
       "output_type": "stream",
       "stream": "stdout",
       "text": [
        "\n",
        "no central variables"
       ]
      },
      {
       "output_type": "stream",
       "stream": "stdout",
       "text": [
        "\n",
        "no central variables"
       ]
      },
      {
       "output_type": "stream",
       "stream": "stdout",
       "text": [
        "\n",
        "no central variables"
       ]
      },
      {
       "output_type": "stream",
       "stream": "stdout",
       "text": [
        "\n",
        "no central variables"
       ]
      },
      {
       "output_type": "stream",
       "stream": "stdout",
       "text": [
        "\n",
        "no central variables"
       ]
      },
      {
       "output_type": "stream",
       "stream": "stdout",
       "text": [
        "\n",
        "no central variables"
       ]
      },
      {
       "output_type": "stream",
       "stream": "stdout",
       "text": [
        "\n",
        "no central variables"
       ]
      },
      {
       "output_type": "stream",
       "stream": "stdout",
       "text": [
        "\n",
        "Processing article: 1547\n",
        "Processing article:"
       ]
      },
      {
       "output_type": "stream",
       "stream": "stdout",
       "text": [
        " 1565\n",
        "Processing article:"
       ]
      },
      {
       "output_type": "stream",
       "stream": "stdout",
       "text": [
        " 1566\n",
        "Processing article:"
       ]
      },
      {
       "output_type": "stream",
       "stream": "stdout",
       "text": [
        " 1569\n",
        "Dropping column RELIG because it is constant\n",
        "Dropping column RELIG because it is constant\n",
        "Dropping column RELIG because it is constant\n",
        "Dropping column RELIG because it is constant\n",
        "Dropping column RELIG because it is constant\n",
        "Dropping column RELIG because it is constant\n",
        "Dropping column RELIG because it is constant\n",
        "Dropping column RELIG because it is constant\n",
        "Dropping column RELIG because it is constant\n",
        "Dropping column RELIG because it is constant\n",
        "Dropping column RELIG because it is constant\n",
        "Dropping column RELIG because it is constant\n",
        "Dropping column"
       ]
      },
      {
       "output_type": "stream",
       "stream": "stdout",
       "text": [
        " RELIG because it is constant\n",
        "Dropping column RELIG because it is constant\n",
        "Dropping column RELIG because it is constant\n",
        "Dropping column RELIG because it is constant\n",
        "Dropping column RELIG because it is constant\n",
        "Dropping column RELIG because it is constant\n",
        "Processing article: 1570\n",
        "Processing article:"
       ]
      },
      {
       "output_type": "stream",
       "stream": "stdout",
       "text": [
        " 1582\n",
        "Not enough observations. Skipping...\n",
        "Not enough observations. Skipping...\n",
        "Not enough observations. Skipping...\n",
        "Processing article: 1609\n",
        "Not enough observations. Skipping..."
       ]
      },
      {
       "output_type": "stream",
       "stream": "stdout",
       "text": [
        "\n",
        "Not enough observations. Skipping...\n",
        "Not enough observations. Skipping...\n",
        "Not enough observations. Skipping...\n",
        "Not enough observations. Skipping...\n",
        "Not enough observations. Skipping...\n",
        "Not enough observations. Skipping...\n",
        "Not enough observations. Skipping...\n",
        "Not enough observations. Skipping..."
       ]
      },
      {
       "output_type": "stream",
       "stream": "stdout",
       "text": [
        "\n",
        "Not enough observations. Skipping...\n",
        "Not enough observations. Skipping...\n",
        "Not enough observations. Skipping...\n",
        "Not enough observations. Skipping..."
       ]
      },
      {
       "output_type": "stream",
       "stream": "stdout",
       "text": [
        "\n",
        "Not enough observations. Skipping...\n",
        "Not enough observations. Skipping...\n",
        "Not enough observations. Skipping..."
       ]
      },
      {
       "output_type": "stream",
       "stream": "stdout",
       "text": [
        "\n",
        "Not enough observations. Skipping...\n",
        "Processing article: 1611\n",
        "Processing article:"
       ]
      },
      {
       "output_type": "stream",
       "stream": "stdout",
       "text": [
        " 1612\n",
        "Processing article:"
       ]
      },
      {
       "output_type": "stream",
       "stream": "stdout",
       "text": [
        " 1619\n",
        "Processing article: 1630\n",
        "Processing article:"
       ]
      },
      {
       "output_type": "stream",
       "stream": "stdout",
       "text": [
        " 1648\n",
        "Dropping column MARITAL because it is constant\n",
        "Dropping column MARITAL because it is constant\n",
        "Dropping column MARITAL because it is constant\n",
        "Dropping column MARITAL because it is constant\n",
        "Dropping column MARITAL because it is constant\n",
        "Dropping column MARITAL because it is constant\n",
        "Dropping column MARITAL because it is constant\n",
        "Dropping column MARITAL because it is constant\n",
        "Dropping column"
       ]
      },
      {
       "output_type": "stream",
       "stream": "stdout",
       "text": [
        " MARITAL because it is constant\n",
        "Dropping column MARITAL because it is constant\n",
        "Processing article: 1649\n",
        "Dropping column MARITAL because it is constant\n",
        "Dropping column MARITAL because it is constant\n",
        "Dropping column MARITAL because it is constant\n",
        "Dropping column MARITAL because it is constant\n",
        "Dropping column MARITAL because it is constant\n",
        "Dropping column MARITAL because it is constant\n",
        "Processing article: 1651\n",
        "Dropping column MARITAL because it is constant\n",
        "Dropping column MARITAL because it is constant\n",
        "Dropping column"
       ]
      },
      {
       "output_type": "stream",
       "stream": "stdout",
       "text": [
        " MARITAL because it is constant\n",
        "Dropping column MARITAL because it is constant\n",
        "Dropping column MARITAL because it is constant\n",
        "Dropping column MARITAL because it is constant\n",
        "Processing article: 1658\n",
        "Dropping column"
       ]
      },
      {
       "output_type": "stream",
       "stream": "stdout",
       "text": [
        " RACE because it is constant\n",
        "Dropping column OVERSAMP because it is constant\n",
        "Dropping column RACE because it is constant\n",
        "Dropping column OVERSAMP because it is constant\n",
        "Processing article:"
       ]
      },
      {
       "output_type": "stream",
       "stream": "stdout",
       "text": [
        " 1659\n",
        "Processing article:"
       ]
      },
      {
       "output_type": "stream",
       "stream": "stdout",
       "text": [
        " 1684\n",
        "Dropping column MARITAL because it is constant\n",
        "Processing article: 1685\n",
        "Processing article: 1686\n",
        "Processing article:"
       ]
      },
      {
       "output_type": "stream",
       "stream": "stdout",
       "text": [
        " 1689\n",
        "Dropping column HIT because it is constant\n",
        "Dropping column HIT because it is constant\n",
        "Dropping column HIT because it is constant\n",
        "Processing article: 1690\n",
        "Dropping column HIT because it is constant\n",
        "Dropping column HIT because it is constant\n",
        "Dropping column HIT because it is constant\n",
        "Processing article: 1692\n",
        "Dropping column HIT because it is constant\n",
        "Processing article:"
       ]
      },
      {
       "output_type": "stream",
       "stream": "stdout",
       "text": [
        " 1698\n",
        "Processing article: 1703\n",
        "Dropping column RELIG because it is constant\n",
        "Dropping column RELIG because it is constant\n",
        "Dropping column RELIG because it is constant\n",
        "Dropping column RELIG because it is constant\n",
        "Dropping column RELIG because it is constant\n",
        "Dropping column RELIG because it is constant\n",
        "Dropping column RELIG because it is constant\n",
        "Dropping column RELIG because it is constant\n",
        "Dropping column"
       ]
      },
      {
       "output_type": "stream",
       "stream": "stdout",
       "text": [
        " RELIG because it is constant\n",
        "Dropping column RELIG because it is constant\n",
        "Dropping column RELIG because it is constant\n",
        "Dropping column RELIG because it is constant\n",
        "Dropping column RELIG because it is constant\n",
        "Dropping column RELIG because it is constant\n",
        "Dropping column RELIG because it is constant\n",
        "Dropping column RELIG because it is constant\n",
        "Dropping column RELIG because it is constant\n",
        "Dropping column RELIG because it is constant\n",
        "Dropping column RELIG because it is constant\n",
        "Dropping column RELIG because it is constant\n",
        "Dropping column"
       ]
      },
      {
       "output_type": "stream",
       "stream": "stdout",
       "text": [
        " RELIG because it is constant\n",
        "Dropping column RELIG because it is constant\n",
        "Dropping column RELIG because it is constant\n",
        "Dropping column RELIG because it is constant\n",
        "Dropping column RELIG because it is constant\n",
        "Dropping column RELIG because it is constant\n",
        "Dropping column RELIG because it is constant\n",
        "Dropping column RELIG because it is constant\n",
        "Dropping column RELIG because it is constant\n",
        "Dropping column RELIG because it is constant\n",
        "Dropping column RELIG because it is constant\n",
        "Dropping column RELIG because it is constant\n",
        "Dropping column"
       ]
      },
      {
       "output_type": "stream",
       "stream": "stdout",
       "text": [
        " RELIG because it is constant\n",
        "Dropping column RELIG because it is constant\n",
        "Dropping column RELIG because it is constant\n",
        "Dropping column RELIG because it is constant\n",
        "Dropping column RELIG because it is constant\n",
        "Dropping column RELIG because it is constant\n",
        "Dropping column RELIG because it is constant\n",
        "Dropping column RELIG because it is constant\n",
        "Dropping column RELIG because it is constant\n",
        "Dropping column RELIG because it is constant\n",
        "Dropping column RELIG because it is constant\n",
        "Dropping column RELIG because it is constant\n",
        "Dropping column"
       ]
      },
      {
       "output_type": "stream",
       "stream": "stdout",
       "text": [
        " RELIG because it is constant\n",
        "Dropping column RELIG because it is constant\n",
        "Dropping column RELIG because it is constant\n",
        "Dropping column RELIG because it is constant\n",
        "Dropping column RELIG because it is constant\n",
        "Dropping column RELIG because it is constant\n",
        "Dropping column RELIG because it is constant\n",
        "Dropping column RELIG because it is constant\n",
        "Dropping column RELIG because it is constant\n",
        "Dropping column RELIG because it is constant\n",
        "Dropping column RELIG because it is constant\n",
        "Dropping column RELIG because it is constant\n",
        "Dropping column RELIG because it is constant\n",
        "Dropping column"
       ]
      },
      {
       "output_type": "stream",
       "stream": "stdout",
       "text": [
        " RELIG because it is constant\n",
        "Dropping column RELIG because it is constant\n",
        "Dropping column RELIG because it is constant\n",
        "Dropping column RELIG because it is constant\n",
        "Dropping column RELIG because it is constant\n",
        "Dropping column RELIG because it is constant\n",
        "Dropping column RELIG because it is constant\n",
        "Dropping column RELIG because it is constant\n",
        "Dropping column RELIG because it is constant\n",
        "Dropping column RELIG because it is constant\n",
        "Dropping column RELIG because it is constant\n",
        "Dropping column RELIG because it is constant\n",
        "Dropping column"
       ]
      },
      {
       "output_type": "stream",
       "stream": "stdout",
       "text": [
        " RELIG because it is constant\n",
        "Dropping column RELIG because it is constant\n",
        "Dropping column RELIG because it is constant\n",
        "Dropping column RELIG because it is constant\n",
        "Dropping column RELIG because it is constant\n",
        "Dropping column RELIG because it is constant\n",
        "Dropping column RELIG because it is constant\n",
        "Dropping column RELIG because it is constant\n",
        "Dropping column RELIG because it is constant\n",
        "Dropping column RELIG because it is constant\n",
        "Dropping column RELIG because it is constant\n",
        "Dropping column RELIG because it is constant\n",
        "Dropping column RELIG because it is constant\n",
        "Dropping column"
       ]
      },
      {
       "output_type": "stream",
       "stream": "stdout",
       "text": [
        " RELIG because it is constant\n",
        "Dropping column RELIG because it is constant\n",
        "Dropping column RELIG because it is constant\n",
        "Dropping column RELIG because it is constant\n",
        "Dropping column RELIG because it is constant\n",
        "Dropping column RELIG because it is constant\n",
        "Dropping column RELIG because it is constant\n",
        "Dropping column RELIG because it is constant\n",
        "Processing article: 1714\n",
        "Processing article:"
       ]
      },
      {
       "output_type": "stream",
       "stream": "stdout",
       "text": [
        " 1717\n",
        "Processing article: 1730\n",
        "Processing article:"
       ]
      },
      {
       "output_type": "stream",
       "stream": "stdout",
       "text": [
        " 1793\n",
        "Dropping column MARITAL because it is constant\n",
        "no IVs available. Skipping.\n",
        "Dropping column MARITAL because it is constant\n",
        "no IVs available. Skipping.\n",
        "Dropping column MARITAL because it is constant\n",
        "no IVs available. Skipping.\n",
        "Dropping column MARITAL because it is constant\n",
        "no IVs available. Skipping.\n",
        "Dropping column MARITAL because it is constant\n",
        "no IVs available. Skipping.\n",
        "Dropping column MARITAL because it is constant\n",
        "no IVs available. Skipping.\n",
        "Dropping column MARITAL because it is constant\n",
        "no IVs available. Skipping.\n",
        "Dropping column MARITAL because it is constant\n",
        "no IVs available. Skipping.\n",
        "Dropping column MARITAL because it is constant\n",
        "no IVs available. Skipping.\n",
        "Dropping column MARITAL because it is constant\n",
        "no IVs available. Skipping.\n",
        "Dropping column MARITAL because it is constant\n",
        "no IVs available. Skipping.\n",
        "Dropping column MARITAL because it is constant\n",
        "no IVs available. Skipping.\n",
        "Dropping column MARITAL because it is constant\n",
        "no IVs available. Skipping.\n",
        "Processing article: 1796\n",
        "Processing article: 1797\n",
        "Processing article:"
       ]
      },
      {
       "output_type": "stream",
       "stream": "stdout",
       "text": [
        " 1802\n",
        "Processing article: 1813\n",
        "Processing article:"
       ]
      },
      {
       "output_type": "stream",
       "stream": "stdout",
       "text": [
        " 1814\n",
        "Processing article: 1855\n",
        "Processing article:"
       ]
      },
      {
       "output_type": "stream",
       "stream": "stdout",
       "text": [
        " 1859\n",
        "Processing article: 1899\n",
        "Dropping column"
       ]
      },
      {
       "output_type": "stream",
       "stream": "stdout",
       "text": [
        " WKSUB because it is constant\n",
        "Dropping column WKSUP because it is constant\n",
        "Processing article: 1902\n",
        "Processing article:"
       ]
      },
      {
       "output_type": "stream",
       "stream": "stdout",
       "text": [
        " 1928\n",
        "Processing article:"
       ]
      },
      {
       "output_type": "stream",
       "stream": "stdout",
       "text": [
        " 1937\n",
        "Processing article:"
       ]
      },
      {
       "output_type": "stream",
       "stream": "stdout",
       "text": [
        " 1938\n",
        "Processing article: 1944\n",
        "Processing article: 1946\n",
        "Dropping column RELIG because it is constant\n",
        "Dropping column DENOM because it is constant\n",
        "Dropping column RELIG because it is constant\n",
        "Dropping column DENOM because it is constant\n",
        "Dropping column RELIG because it is constant\n",
        "Dropping column DENOM because it is constant\n",
        "Dropping column RELIG because it is constant\n",
        "Dropping column DENOM because it is constant\n",
        "Dropping column RELIG because it is constant\n",
        "Dropping column DENOM because it is constant\n",
        "Dropping column RELIG because it is constant\n",
        "Dropping column DENOM because it is constant\n",
        "Processing article: 1954\n",
        "Processing article:"
       ]
      },
      {
       "output_type": "stream",
       "stream": "stdout",
       "text": [
        " 1957\n",
        "Processing article: 1961\n",
        "Dropping column RELIG because it is constant\n",
        "Dropping column RELIG because it is constant\n",
        "Dropping column RELIG because it is constant\n",
        "Dropping column RELIG because it is constant\n",
        "Processing article: 1962\n",
        "Processing article:"
       ]
      },
      {
       "output_type": "stream",
       "stream": "stdout",
       "text": [
        " 1963\n",
        "Dropping column RELIG because it is constant\n",
        "Dropping column DENOM because it is constant\n",
        "Processing article: 1964\n",
        "Processing article:"
       ]
      },
      {
       "output_type": "stream",
       "stream": "stdout",
       "text": [
        " 1965\n",
        "Dropping column RELIG because it is constant\n",
        "Dropping column RELIG because it is constant\n",
        "Dropping column RELIG because it is constant\n",
        "Dropping column RELIG because it is constant\n",
        "Dropping column RELIG because it is constant\n",
        "Processing article: 1973\n",
        "Processing article:"
       ]
      },
      {
       "output_type": "stream",
       "stream": "stdout",
       "text": [
        " 1986\n",
        "Processing article:"
       ]
      },
      {
       "output_type": "stream",
       "stream": "stdout",
       "text": [
        " 1994\n",
        "Processing article: 2001\n",
        "Processing article:"
       ]
      },
      {
       "output_type": "stream",
       "stream": "stdout",
       "text": [
        " 2003\n",
        "Processing article:"
       ]
      },
      {
       "output_type": "stream",
       "stream": "stdout",
       "text": [
        " 2028\n",
        "no central variables"
       ]
      },
      {
       "output_type": "stream",
       "stream": "stdout",
       "text": [
        "\n",
        "no central variables"
       ]
      },
      {
       "output_type": "stream",
       "stream": "stdout",
       "text": [
        "\n",
        "no central variables"
       ]
      },
      {
       "output_type": "stream",
       "stream": "stdout",
       "text": [
        "\n",
        "no central variables"
       ]
      },
      {
       "output_type": "stream",
       "stream": "stdout",
       "text": [
        "\n",
        "Processing article: 2037\n",
        "Processing article: 2045\n",
        "Processing article:"
       ]
      },
      {
       "output_type": "stream",
       "stream": "stdout",
       "text": [
        " 2051\n",
        "Processing article:"
       ]
      },
      {
       "output_type": "stream",
       "stream": "stdout",
       "text": [
        " 2092\n",
        "Processing article:"
       ]
      },
      {
       "output_type": "stream",
       "stream": "stdout",
       "text": [
        " 2111\n",
        "Processing article: 2134\n",
        "Processing article: 2135\n",
        "Processing article:"
       ]
      },
      {
       "output_type": "stream",
       "stream": "stdout",
       "text": [
        " 2140\n",
        "Processing article:"
       ]
      },
      {
       "output_type": "stream",
       "stream": "stdout",
       "text": [
        " 2146\n",
        "Processing article: 2149\n",
        "Processing article: 2163\n",
        "Dropping column MARITAL because it is constant\n",
        "Dropping column MARITAL because it is constant\n",
        "Dropping column MARITAL because it is constant\n",
        "Dropping column MARITAL because it is constant\n",
        "Dropping column MARITAL because it is constant\n",
        "Dropping column"
       ]
      },
      {
       "output_type": "stream",
       "stream": "stdout",
       "text": [
        " MARITAL because it is constant\n",
        "Dropping column MARITAL because it is constant\n",
        "Dropping column MARITAL because it is constant\n",
        "Dropping column MARITAL because it is constant\n",
        "Dropping column MARITAL because it is constant\n",
        "Dropping column MARITAL because it is constant\n",
        "Dropping column MARITAL because it is constant\n",
        "Dropping column MARITAL because it is constant\n",
        "Processing article: 2174\n",
        "Processing article:"
       ]
      },
      {
       "output_type": "stream",
       "stream": "stdout",
       "text": [
        " 2179\n",
        "Processing article: 2205\n",
        "Processing article: 2207\n",
        "Processing article: 2223\n",
        "Processing article:"
       ]
      },
      {
       "output_type": "stream",
       "stream": "stdout",
       "text": [
        " 2231\n",
        "Processing article: 2235\n",
        "Processing article:"
       ]
      },
      {
       "output_type": "stream",
       "stream": "stdout",
       "text": [
        " 2243\n",
        "Processing article: 2253\n",
        "Processing article:"
       ]
      },
      {
       "output_type": "stream",
       "stream": "stdout",
       "text": [
        " 2254\n",
        "Processing article: 2255\n",
        "Processing article:"
       ]
      },
      {
       "output_type": "stream",
       "stream": "stdout",
       "text": [
        " 2256\n",
        "no central variables\n",
        "no central variables"
       ]
      },
      {
       "output_type": "stream",
       "stream": "stdout",
       "text": [
        "\n",
        "no central variables\n",
        "no central variables"
       ]
      },
      {
       "output_type": "stream",
       "stream": "stdout",
       "text": [
        "\n",
        "no central variables\n",
        "no central variables"
       ]
      },
      {
       "output_type": "stream",
       "stream": "stdout",
       "text": [
        "\n",
        "no central variables"
       ]
      },
      {
       "output_type": "stream",
       "stream": "stdout",
       "text": [
        "\n",
        "no central variables\n",
        "no central variables"
       ]
      },
      {
       "output_type": "stream",
       "stream": "stdout",
       "text": [
        "\n",
        "no central variables"
       ]
      },
      {
       "output_type": "stream",
       "stream": "stdout",
       "text": [
        "\n",
        "no central variables\n",
        "no central variables"
       ]
      },
      {
       "output_type": "stream",
       "stream": "stdout",
       "text": [
        "\n",
        "no central variables\n",
        "no central variables"
       ]
      },
      {
       "output_type": "stream",
       "stream": "stdout",
       "text": [
        "\n",
        "no central variables\n",
        "no central variables"
       ]
      },
      {
       "output_type": "stream",
       "stream": "stdout",
       "text": [
        "\n",
        "no central variables"
       ]
      },
      {
       "output_type": "stream",
       "stream": "stdout",
       "text": [
        "\n",
        "no central variables"
       ]
      },
      {
       "output_type": "stream",
       "stream": "stdout",
       "text": [
        "\n",
        "Processing article: 2285\n",
        "Processing article:"
       ]
      },
      {
       "output_type": "stream",
       "stream": "stdout",
       "text": [
        " 2291\n",
        "Processing article: 2308\n",
        "Dropping column RELIG because it is constant\n",
        "Dropping column RELIG because it is constant\n",
        "Dropping column RELIG because it is constant\n",
        "Dropping column RELIG because it is constant\n",
        "Dropping column RELIG because it is constant\n",
        "Dropping column RELIG because it is constant\n",
        "Dropping column"
       ]
      },
      {
       "output_type": "stream",
       "stream": "stdout",
       "text": [
        " RELIG because it is constant\n",
        "Dropping column RELIG because it is constant\n",
        "Processing article: 2312\n",
        "Processing article:"
       ]
      },
      {
       "output_type": "stream",
       "stream": "stdout",
       "text": [
        " 2328\n",
        "no central variables\n",
        "no central variables"
       ]
      },
      {
       "output_type": "stream",
       "stream": "stdout",
       "text": [
        "\n",
        "no central variables\n",
        "no central variables"
       ]
      },
      {
       "output_type": "stream",
       "stream": "stdout",
       "text": [
        "\n",
        "no central variables\n",
        "Processing article: 2345\n",
        "Processing article:"
       ]
      },
      {
       "output_type": "stream",
       "stream": "stdout",
       "text": [
        " 2354\n",
        "Processing article: 2429\n",
        "Dropping column RELIG because it is constant\n",
        "Dropping column RELIG because it is constant\n",
        "Dropping column RELIG because it is constant\n",
        "Dropping column RELIG because it is constant\n",
        "Dropping column RELIG because it is constant\n",
        "Dropping column RELIG because it is constant\n",
        "Dropping column RELIG because it is constant\n",
        "Dropping column RELIG because it is constant\n",
        "Dropping column RELIG because it is constant\n",
        "Dropping column RELIG because it is constant\n",
        "Dropping column"
       ]
      },
      {
       "output_type": "stream",
       "stream": "stdout",
       "text": [
        " RELIG because it is constant\n",
        "Dropping column RELIG because it is constant\n",
        "Dropping column RELIG because it is constant\n",
        "Dropping column RELIG because it is constant\n",
        "Dropping column RELIG because it is constant\n",
        "Dropping column RELIG because it is constant\n",
        "Dropping column RELIG because it is constant\n",
        "Dropping column RELIG because it is constant\n",
        "Dropping column RELIG because it is constant\n",
        "Dropping column RELIG because it is constant\n",
        "Dropping column RELIG because it is constant\n",
        "Dropping column RELIG because it is constant\n",
        "Dropping column"
       ]
      },
      {
       "output_type": "stream",
       "stream": "stdout",
       "text": [
        " RELIG because it is constant\n",
        "Dropping column RELIG because it is constant\n",
        "Dropping column RELIG because it is constant\n",
        "Dropping column RELIG because it is constant\n",
        "Dropping column RELIG because it is constant\n",
        "Dropping column RELIG because it is constant\n",
        "Dropping column RELIG because it is constant\n",
        "Dropping column RELIG because it is constant\n",
        "Dropping column RELIG because it is constant\n",
        "Dropping column RELIG because it is constant\n",
        "Dropping column RELIG because it is constant\n",
        "Dropping column RELIG because it is constant\n",
        "Dropping column"
       ]
      },
      {
       "output_type": "stream",
       "stream": "stdout",
       "text": [
        " RELIG because it is constant\n",
        "Dropping column RELIG because it is constant\n",
        "Dropping column RELIG because it is constant\n",
        "Dropping column RELIG because it is constant\n",
        "Dropping column RELIG because it is constant\n",
        "Processing article: 2430\n",
        "Dropping column RELIG because it is constant\n",
        "Dropping column RELIG because it is constant\n",
        "Dropping column RELIG because it is constant\n",
        "Dropping column RELIG because it is constant\n",
        "Dropping column RELIG because it is constant\n",
        "Dropping column RELIG because it is constant\n",
        "Dropping column RELIG because it is constant\n",
        "Dropping column RELIG because it is constant\n",
        "Dropping column RELIG because it is constant\n",
        "Dropping column RELIG because it is constant\n",
        "Dropping column"
       ]
      },
      {
       "output_type": "stream",
       "stream": "stdout",
       "text": [
        " RELIG because it is constant\n",
        "Dropping column RELIG because it is constant\n",
        "Dropping column RELIG because it is constant\n",
        "Dropping column RELIG because it is constant\n",
        "Dropping column RELIG because it is constant\n",
        "Dropping column RELIG because it is constant\n",
        "Dropping column RELIG because it is constant\n",
        "Dropping column RELIG because it is constant\n",
        "Dropping column RELIG because it is constant\n",
        "Dropping column RELIG because it is constant\n",
        "Dropping column RELIG because it is constant\n",
        "Dropping column RELIG because it is constant\n",
        "Dropping column RELIG because it is constant\n",
        "Dropping column RELIG because it is constant\n",
        "Dropping column RELIG because it is constant\n",
        "Dropping column"
       ]
      },
      {
       "output_type": "stream",
       "stream": "stdout",
       "text": [
        " RELIG because it is constant\n",
        "Dropping column RELIG because it is constant\n",
        "Dropping column RELIG because it is constant\n",
        "Dropping column RELIG because it is constant\n",
        "Dropping column RELIG because it is constant\n",
        "Dropping column RELIG because it is constant\n",
        "Dropping column RELIG because it is constant\n",
        "Dropping column RELIG because it is constant\n",
        "Dropping column RELIG because it is constant\n",
        "Dropping column RELIG because it is constant\n",
        "Dropping column RELIG because it is constant\n",
        "Dropping column RELIG because it is constant\n",
        "Dropping column RELIG because it is constant\n",
        "Dropping column"
       ]
      },
      {
       "output_type": "stream",
       "stream": "stdout",
       "text": [
        " RELIG because it is constant\n",
        "Dropping column RELIG because it is constant\n",
        "Dropping column RELIG because it is constant\n",
        "Dropping column RELIG because it is constant\n",
        "Dropping column RELIG because it is constant\n",
        "Dropping column RELIG because it is constant\n",
        "Dropping column RELIG because it is constant\n",
        "Dropping column RELIG because it is constant\n",
        "Dropping column RELIG because it is constant\n",
        "Dropping column RELIG because it is constant\n",
        "Dropping column RELIG because it is constant\n",
        "Dropping column RELIG because it is constant\n",
        "Dropping column RELIG because it is constant\n",
        "Dropping column RELIG because it is constant\n",
        "Dropping column"
       ]
      },
      {
       "output_type": "stream",
       "stream": "stdout",
       "text": [
        " RELIG because it is constant\n",
        "Dropping column RELIG because it is constant\n",
        "Dropping column RELIG because it is constant\n",
        "Dropping column RELIG because it is constant\n",
        "Dropping column RELIG because it is constant\n",
        "Dropping column RELIG because it is constant\n",
        "Dropping column RELIG because it is constant\n",
        "Dropping column RELIG because it is constant\n",
        "Dropping column RELIG because it is constant\n",
        "Dropping column RELIG because it is constant\n",
        "Dropping column RELIG because it is constant\n",
        "Dropping column RELIG because it is constant\n",
        "Dropping column"
       ]
      },
      {
       "output_type": "stream",
       "stream": "stdout",
       "text": [
        " RELIG because it is constant\n",
        "Dropping column RELIG because it is constant\n",
        "Processing article: 2436\n",
        "Dropping column MARITAL because it is constant\n",
        "Dropping column"
       ]
      },
      {
       "output_type": "stream",
       "stream": "stdout",
       "text": [
        " MARITAL because it is constant\n",
        "Dropping column"
       ]
      },
      {
       "output_type": "stream",
       "stream": "stdout",
       "text": [
        " MARITAL because it is constant\n",
        "Dropping column"
       ]
      },
      {
       "output_type": "stream",
       "stream": "stdout",
       "text": [
        " MARITAL because it is constant\n",
        "Dropping column"
       ]
      },
      {
       "output_type": "stream",
       "stream": "stdout",
       "text": [
        " MARITAL because it is constant\n",
        "Dropping column"
       ]
      },
      {
       "output_type": "stream",
       "stream": "stdout",
       "text": [
        " MARITAL because it is constant\n",
        "Processing article:"
       ]
      },
      {
       "output_type": "stream",
       "stream": "stdout",
       "text": [
        " 2446\n",
        "Processing article:"
       ]
      },
      {
       "output_type": "stream",
       "stream": "stdout",
       "text": [
        " 2453\n",
        "Dropping column"
       ]
      },
      {
       "output_type": "stream",
       "stream": "stdout",
       "text": [
        " MARITAL because it is constant\n",
        "Dropping column MARITAL because it is constant\n",
        "Dropping column MARITAL because it is constant\n",
        "Processing article: 2465\n",
        "Processing article:"
       ]
      },
      {
       "output_type": "stream",
       "stream": "stdout",
       "text": [
        " 2466\n",
        "Processing article:"
       ]
      },
      {
       "output_type": "stream",
       "stream": "stdout",
       "text": [
        " 2475\n",
        "Processing article:"
       ]
      },
      {
       "output_type": "stream",
       "stream": "stdout",
       "text": [
        " 2506\n",
        "Processing article:"
       ]
      },
      {
       "output_type": "stream",
       "stream": "stdout",
       "text": [
        " 2514\n",
        "Dropping column MARITAL because it is constant\n",
        "Dropping column"
       ]
      },
      {
       "output_type": "stream",
       "stream": "stdout",
       "text": [
        " MARITAL because it is constant\n",
        "Dropping column"
       ]
      },
      {
       "output_type": "stream",
       "stream": "stdout",
       "text": [
        " MARITAL because it is constant\n",
        "Dropping column"
       ]
      },
      {
       "output_type": "stream",
       "stream": "stdout",
       "text": [
        " MARITAL because it is constant\n",
        "Dropping column"
       ]
      },
      {
       "output_type": "stream",
       "stream": "stdout",
       "text": [
        " MARITAL because it is constant\n",
        "Dropping column"
       ]
      },
      {
       "output_type": "stream",
       "stream": "stdout",
       "text": [
        " MARITAL because it is constant\n",
        "Dropping column"
       ]
      },
      {
       "output_type": "stream",
       "stream": "stdout",
       "text": [
        " MARITAL because it is constant\n",
        "Dropping column"
       ]
      },
      {
       "output_type": "stream",
       "stream": "stdout",
       "text": [
        " MARITAL because it is constant\n",
        "Dropping column"
       ]
      },
      {
       "output_type": "stream",
       "stream": "stdout",
       "text": [
        " MARITAL because it is constant\n",
        "Dropping column"
       ]
      },
      {
       "output_type": "stream",
       "stream": "stdout",
       "text": [
        " MARITAL because it is constant\n",
        "Dropping column"
       ]
      },
      {
       "output_type": "stream",
       "stream": "stdout",
       "text": [
        " MARITAL because it is constant\n",
        "Dropping column"
       ]
      },
      {
       "output_type": "stream",
       "stream": "stdout",
       "text": [
        " MARITAL because it is constant\n",
        "Dropping column"
       ]
      },
      {
       "output_type": "stream",
       "stream": "stdout",
       "text": [
        " MARITAL because it is constant\n",
        "Dropping column"
       ]
      },
      {
       "output_type": "stream",
       "stream": "stdout",
       "text": [
        " MARITAL because it is constant\n",
        "Dropping column"
       ]
      },
      {
       "output_type": "stream",
       "stream": "stdout",
       "text": [
        " MARITAL because it is constant\n",
        "Processing article:"
       ]
      },
      {
       "output_type": "stream",
       "stream": "stdout",
       "text": [
        " 2515\n",
        "Dropping column ERAREAD because it is constant\n",
        "Dropping column MARITAL because it is constant\n",
        "Processing article: 2523\n",
        "Processing article:"
       ]
      },
      {
       "output_type": "stream",
       "stream": "stdout",
       "text": [
        " 2548\n",
        "Processing article:"
       ]
      },
      {
       "output_type": "stream",
       "stream": "stdout",
       "text": [
        " 2554\n",
        "Processing article: 2558\n",
        "Dropping column MARITAL because it is constant\n",
        "no central variables"
       ]
      },
      {
       "output_type": "stream",
       "stream": "stdout",
       "text": [
        "\n",
        "Processing article: 2571\n",
        "Processing article:"
       ]
      },
      {
       "output_type": "stream",
       "stream": "stdout",
       "text": [
        " 2576\n",
        "Processing article:"
       ]
      },
      {
       "output_type": "stream",
       "stream": "stdout",
       "text": [
        " 2581\n",
        "Processing article:"
       ]
      },
      {
       "output_type": "stream",
       "stream": "stdout",
       "text": [
        " 2586\n",
        "Processing article: 2591\n",
        "Processing article:"
       ]
      },
      {
       "output_type": "stream",
       "stream": "stdout",
       "text": [
        " 2594\n",
        "Processing article: 2596\n",
        "Processing article: 2606\n",
        "Processing article:"
       ]
      },
      {
       "output_type": "stream",
       "stream": "stdout",
       "text": [
        " 2608\n",
        "Processing article: 2611\n",
        "Processing article:"
       ]
      },
      {
       "output_type": "stream",
       "stream": "stdout",
       "text": [
        " 2612\n",
        "Processing article: 2617\n",
        "Processing article: 2626\n",
        "Processing article:"
       ]
      },
      {
       "output_type": "stream",
       "stream": "stdout",
       "text": [
        " 2637\n",
        "Processing article:"
       ]
      },
      {
       "output_type": "stream",
       "stream": "stdout",
       "text": [
        " 2642\n",
        "Processing article:"
       ]
      },
      {
       "output_type": "stream",
       "stream": "stdout",
       "text": [
        " 2648\n",
        "Processing article: 2665\n",
        "Processing article:"
       ]
      },
      {
       "output_type": "stream",
       "stream": "stdout",
       "text": [
        " 2671\n",
        "Processing article:"
       ]
      },
      {
       "output_type": "stream",
       "stream": "stdout",
       "text": [
        " 2697\n",
        "Processing article:"
       ]
      },
      {
       "output_type": "stream",
       "stream": "stdout",
       "text": [
        " 2740\n",
        "Processing article:"
       ]
      },
      {
       "output_type": "stream",
       "stream": "stdout",
       "text": [
        " 2753\n",
        "Dropping column RELIG because it is constant\n",
        "Dropping column RELIG16 because it is constant\n",
        "Dropping column MARITAL because it is constant\n",
        "Dropping column DENOM because it is constant\n",
        "Dropping column DENOM16 because it is constant\n",
        "Dropping column RELIG because it is constant\n",
        "Dropping column RELIG16 because it is constant\n",
        "Dropping column MARITAL because it is constant\n",
        "Dropping column DENOM because it is constant\n",
        "Dropping column DENOM16 because it is constant\n",
        "Dropping column RELIG because it is constant\n",
        "Dropping column RELIG16 because it is constant\n",
        "Dropping column MARITAL because it is constant\n",
        "Dropping column DENOM because it is constant\n",
        "Dropping column DENOM16 because it is constant\n",
        "Dropping column RELIG because it is constant\n",
        "Dropping column RELIG16 because it is constant\n",
        "Dropping column MARITAL because it is constant\n",
        "Dropping column DENOM because it is constant\n",
        "Dropping column DENOM16 because it is constant\n",
        "Dropping column RELIG because it is constant\n",
        "Dropping column RELIG16 because it is constant\n",
        "Dropping column MARITAL because it is constant\n",
        "Dropping column DENOM because it is constant\n",
        "Dropping column DENOM16 because it is constant\n",
        "Dropping column RELIG because it is constant\n",
        "Dropping column RELIG16 because it is constant\n",
        "Dropping column MARITAL because it is constant\n",
        "Dropping column DENOM because it is constant\n",
        "Dropping column DENOM16 because it is constant\n",
        "Dropping column RELIG because it is constant\n",
        "Dropping column"
       ]
      },
      {
       "output_type": "stream",
       "stream": "stdout",
       "text": [
        " RELIG16 because it is constant\n",
        "Dropping column MARITAL because it is constant\n",
        "Dropping column DENOM because it is constant\n",
        "Dropping column DENOM16 because it is constant\n",
        "Dropping column RELIG because it is constant\n",
        "Dropping column RELIG16 because it is constant\n",
        "Dropping column MARITAL because it is constant\n",
        "Dropping column DENOM because it is constant\n",
        "Dropping column DENOM16 because it is constant\n",
        "Dropping column RELIG because it is constant\n",
        "Dropping column RELIG16 because it is constant\n",
        "Dropping column MARITAL because it is constant\n",
        "Dropping column DENOM because it is constant\n",
        "Dropping column DENOM16 because it is constant\n",
        "Dropping column RELIG because it is constant\n",
        "Dropping column RELIG16 because it is constant\n",
        "Dropping column MARITAL because it is constant\n",
        "Dropping column DENOM because it is constant\n",
        "Dropping column DENOM16 because it is constant\n",
        "Dropping column RELIG because it is constant\n",
        "Dropping column RELIG16 because it is constant\n",
        "Dropping column MARITAL because it is constant\n",
        "Dropping column DENOM because it is constant\n",
        "Dropping column DENOM16 because it is constant\n",
        "Dropping column RELIG because it is constant\n",
        "Dropping column RELIG16 because it is constant\n",
        "Dropping column MARITAL because it is constant\n",
        "Dropping column DENOM because it is constant\n",
        "Dropping column DENOM16 because it is constant\n",
        "Dropping column RELIG because it is constant\n",
        "Dropping column RELIG16 because it is constant\n",
        "Dropping column"
       ]
      },
      {
       "output_type": "stream",
       "stream": "stdout",
       "text": [
        " MARITAL because it is constant\n",
        "Dropping column DENOM because it is constant\n",
        "Dropping column DENOM16 because it is constant\n",
        "Dropping column RELIG because it is constant\n",
        "Dropping column RELIG16 because it is constant\n",
        "Dropping column MARITAL because it is constant\n",
        "Dropping column DENOM because it is constant\n",
        "Dropping column DENOM16 because it is constant\n",
        "Dropping column RELIG because it is constant\n",
        "Dropping column RELIG16 because it is constant\n",
        "Dropping column MARITAL because it is constant\n",
        "Dropping column DENOM because it is constant\n",
        "Dropping column DENOM16 because it is constant\n",
        "Dropping column RELIG because it is constant\n",
        "Dropping column RELIG16 because it is constant\n",
        "Dropping column MARITAL because it is constant\n",
        "Dropping column DENOM because it is constant\n",
        "Dropping column DENOM16 because it is constant\n",
        "Dropping column RELIG because it is constant\n",
        "Dropping column RELIG16 because it is constant\n",
        "Dropping column MARITAL because it is constant\n",
        "Dropping column DENOM because it is constant\n",
        "Dropping column DENOM16 because it is constant\n",
        "Dropping column RELIG because it is constant\n",
        "Dropping column RELIG16 because it is constant\n",
        "Dropping column MARITAL because it is constant\n",
        "Dropping column DENOM because it is constant\n",
        "Dropping column DENOM16 because it is constant\n",
        "Dropping column"
       ]
      },
      {
       "output_type": "stream",
       "stream": "stdout",
       "text": [
        " RELIG because it is constant\n",
        "Dropping column RELIG16 because it is constant\n",
        "Dropping column MARITAL because it is constant\n",
        "Dropping column DENOM because it is constant\n",
        "Dropping column DENOM16 because it is constant\n",
        "Dropping column RELIG because it is constant\n",
        "Dropping column RELIG16 because it is constant\n",
        "Dropping column MARITAL because it is constant\n",
        "Dropping column DENOM because it is constant\n",
        "Dropping column DENOM16 because it is constant\n",
        "Dropping column RELIG because it is constant\n",
        "Dropping column RELIG16 because it is constant\n",
        "Dropping column MARITAL because it is constant\n",
        "Dropping column DENOM because it is constant\n",
        "Dropping column DENOM16 because it is constant\n",
        "Dropping column RELIG because it is constant\n",
        "Dropping column RELIG16 because it is constant\n",
        "Dropping column MARITAL because it is constant\n",
        "Dropping column DENOM because it is constant\n",
        "Dropping column DENOM16 because it is constant\n",
        "Dropping column RELIG because it is constant\n",
        "Dropping column RELIG16 because it is constant\n",
        "Dropping column MARITAL because it is constant\n",
        "Dropping column DENOM because it is constant\n",
        "Dropping column DENOM16 because it is constant\n",
        "Dropping column RELIG because it is constant\n",
        "Dropping column RELIG16 because it is constant\n",
        "Dropping column MARITAL because it is constant\n",
        "Dropping column DENOM because it is constant\n",
        "Dropping column DENOM16 because it is constant\n",
        "Dropping column"
       ]
      },
      {
       "output_type": "stream",
       "stream": "stdout",
       "text": [
        " RELIG because it is constant\n",
        "Dropping column RELIG16 because it is constant\n",
        "Dropping column MARITAL because it is constant\n",
        "Dropping column DENOM because it is constant\n",
        "Dropping column DENOM16 because it is constant\n",
        "Dropping column RELIG because it is constant\n",
        "Dropping column RELIG16 because it is constant\n",
        "Dropping column MARITAL because it is constant\n",
        "Dropping column DENOM because it is constant\n",
        "Dropping column DENOM16 because it is constant\n",
        "Dropping column RELIG because it is constant\n",
        "Dropping column RELIG16 because it is constant\n",
        "Dropping column MARITAL because it is constant\n",
        "Dropping column DENOM because it is constant\n",
        "Dropping column DENOM16 because it is constant\n",
        "Dropping column RELIG because it is constant\n",
        "Dropping column RELIG16 because it is constant\n",
        "Dropping column MARITAL because it is constant\n",
        "Dropping column DENOM because it is constant\n",
        "Dropping column DENOM16 because it is constant\n",
        "Dropping column RELIG because it is constant\n",
        "Dropping column RELIG16 because it is constant\n",
        "Dropping column MARITAL because it is constant\n",
        "Dropping column DENOM because it is constant\n",
        "Dropping column DENOM16 because it is constant\n",
        "Dropping column RELIG because it is constant\n",
        "Dropping column RELIG16 because it is constant\n",
        "Dropping column MARITAL because it is constant\n",
        "Dropping column DENOM because it is constant\n",
        "Dropping column DENOM16 because it is constant\n",
        "Dropping column RELIG because it is constant\n",
        "Dropping column RELIG16 because it is constant\n",
        "Dropping column MARITAL because it is constant\n",
        "Dropping column"
       ]
      },
      {
       "output_type": "stream",
       "stream": "stdout",
       "text": [
        " DENOM because it is constant\n",
        "Dropping column DENOM16 because it is constant\n",
        "Dropping column RELIG because it is constant\n",
        "Dropping column RELIG16 because it is constant\n",
        "Dropping column MARITAL because it is constant\n",
        "Dropping column DENOM because it is constant\n",
        "Dropping column DENOM16 because it is constant\n",
        "Dropping column RELIG because it is constant\n",
        "Dropping column RELIG16 because it is constant\n",
        "Dropping column MARITAL because it is constant\n",
        "Dropping column DENOM because it is constant\n",
        "Dropping column DENOM16 because it is constant\n",
        "Dropping column RELIG because it is constant\n",
        "Dropping column RELIG16 because it is constant\n",
        "Dropping column MARITAL because it is constant\n",
        "Dropping column DENOM because it is constant\n",
        "Dropping column DENOM16 because it is constant\n",
        "Dropping column RELIG because it is constant\n",
        "Dropping column RELIG16 because it is constant\n",
        "Dropping column MARITAL because it is constant\n",
        "Dropping column DENOM because it is constant\n",
        "Dropping column DENOM16 because it is constant\n",
        "Dropping column RELIG because it is constant\n",
        "Dropping column RELIG16 because it is constant\n",
        "Dropping column MARITAL because it is constant\n",
        "Dropping column DENOM because it is constant\n",
        "Dropping column DENOM16 because it is constant\n",
        "Dropping column RELIG because it is constant\n",
        "Dropping column RELIG16 because it is constant\n",
        "Dropping column MARITAL because it is constant\n",
        "Dropping column DENOM because it is constant\n",
        "Dropping column DENOM16 because it is constant\n",
        "Dropping column"
       ]
      },
      {
       "output_type": "stream",
       "stream": "stdout",
       "text": [
        " RELIG because it is constant\n",
        "Dropping column RELIG16 because it is constant\n",
        "Dropping column MARITAL because it is constant\n",
        "Dropping column DENOM because it is constant\n",
        "Dropping column DENOM16 because it is constant\n",
        "Dropping column RELIG because it is constant\n",
        "Dropping column RELIG16 because it is constant\n",
        "Dropping column MARITAL because it is constant\n",
        "Dropping column DENOM because it is constant\n",
        "Dropping column DENOM16 because it is constant\n",
        "Dropping column RELIG because it is constant\n",
        "Dropping column RELIG16 because it is constant\n",
        "Dropping column MARITAL because it is constant\n",
        "Dropping column DENOM because it is constant\n",
        "Dropping column DENOM16 because it is constant\n",
        "Dropping column RELIG because it is constant\n",
        "Dropping column RELIG16 because it is constant\n",
        "Dropping column MARITAL because it is constant\n",
        "Dropping column DENOM because it is constant\n",
        "Dropping column DENOM16 because it is constant\n",
        "Dropping column RELIG because it is constant\n",
        "Dropping column RELIG16 because it is constant\n",
        "Dropping column MARITAL because it is constant\n",
        "Dropping column DENOM because it is constant\n",
        "Dropping column DENOM16 because it is constant\n",
        "Dropping column RELIG because it is constant\n",
        "Dropping column RELIG16 because it is constant\n",
        "Dropping column MARITAL because it is constant\n",
        "Dropping column DENOM because it is constant\n",
        "Dropping column DENOM16 because it is constant\n",
        "Dropping column RELIG because it is constant\n",
        "Dropping column RELIG16 because it is constant\n",
        "Dropping column MARITAL because it is constant\n",
        "Dropping column DENOM because it is constant\n",
        "Dropping column"
       ]
      },
      {
       "output_type": "stream",
       "stream": "stdout",
       "text": [
        " DENOM16 because it is constant\n",
        "Dropping column RELIG because it is constant\n",
        "Dropping column RELIG16 because it is constant\n",
        "Dropping column MARITAL because it is constant\n",
        "Dropping column DENOM because it is constant\n",
        "Dropping column DENOM16 because it is constant\n",
        "Dropping column RELIG because it is constant\n",
        "Dropping column RELIG16 because it is constant\n",
        "Dropping column MARITAL because it is constant\n",
        "Dropping column DENOM because it is constant\n",
        "Dropping column DENOM16 because it is constant\n",
        "Dropping column RELIG because it is constant\n",
        "Dropping column RELIG16 because it is constant\n",
        "Dropping column MARITAL because it is constant\n",
        "Dropping column DENOM because it is constant\n",
        "Dropping column DENOM16 because it is constant\n",
        "Dropping column RELIG because it is constant\n",
        "Dropping column RELIG16 because it is constant\n",
        "Dropping column MARITAL because it is constant\n",
        "Dropping column DENOM because it is constant\n",
        "Dropping column DENOM16 because it is constant\n",
        "Dropping column RELIG because it is constant\n",
        "Dropping column RELIG16 because it is constant\n",
        "Dropping column MARITAL because it is constant\n",
        "Dropping column DENOM because it is constant\n",
        "Dropping column DENOM16 because it is constant\n",
        "Dropping column RELIG because it is constant\n",
        "Dropping column RELIG16 because it is constant\n",
        "Dropping column MARITAL because it is constant\n",
        "Dropping column DENOM because it is constant\n",
        "Dropping column DENOM16 because it is constant\n",
        "Dropping column"
       ]
      },
      {
       "output_type": "stream",
       "stream": "stdout",
       "text": [
        " RELIG because it is constant\n",
        "Dropping column RELIG16 because it is constant\n",
        "Dropping column MARITAL because it is constant\n",
        "Dropping column DENOM because it is constant\n",
        "Dropping column DENOM16 because it is constant\n",
        "Dropping column RELIG because it is constant\n",
        "Dropping column RELIG16 because it is constant\n",
        "Dropping column MARITAL because it is constant\n",
        "Dropping column DENOM because it is constant\n",
        "Dropping column DENOM16 because it is constant\n",
        "Dropping column RELIG because it is constant\n",
        "Dropping column RELIG16 because it is constant\n",
        "Dropping column MARITAL because it is constant\n",
        "Dropping column DENOM because it is constant\n",
        "Dropping column DENOM16 because it is constant\n",
        "Dropping column RELIG because it is constant\n",
        "Dropping column RELIG16 because it is constant\n",
        "Dropping column MARITAL because it is constant\n",
        "Dropping column DENOM because it is constant\n",
        "Dropping column DENOM16 because it is constant\n",
        "Dropping column RELIG because it is constant\n",
        "Dropping column RELIG16 because it is constant\n",
        "Dropping column MARITAL because it is constant\n",
        "Dropping column DENOM because it is constant\n",
        "Dropping column DENOM16 because it is constant\n",
        "Dropping column RELIG because it is constant\n",
        "Dropping column RELIG16 because it is constant\n",
        "Dropping column MARITAL because it is constant\n",
        "Dropping column DENOM because it is constant\n",
        "Dropping column DENOM16 because it is constant\n",
        "Dropping column RELIG because it is constant\n",
        "Dropping column RELIG16 because it is constant\n",
        "Dropping column MARITAL because it is constant\n",
        "Dropping column DENOM because it is constant\n",
        "Dropping column"
       ]
      },
      {
       "output_type": "stream",
       "stream": "stdout",
       "text": [
        " DENOM16 because it is constant\n",
        "Dropping column RELIG because it is constant\n",
        "Dropping column RELIG16 because it is constant\n",
        "Dropping column MARITAL because it is constant\n",
        "Dropping column DENOM because it is constant\n",
        "Dropping column DENOM16 because it is constant\n",
        "Dropping column RELIG because it is constant\n",
        "Dropping column RELIG16 because it is constant\n",
        "Dropping column MARITAL because it is constant\n",
        "Dropping column DENOM because it is constant\n",
        "Dropping column DENOM16 because it is constant\n",
        "Dropping column RELIG because it is constant\n",
        "Dropping column RELIG16 because it is constant\n",
        "Dropping column MARITAL because it is constant\n",
        "Dropping column DENOM because it is constant\n",
        "Dropping column DENOM16 because it is constant\n",
        "Dropping column RELIG because it is constant\n",
        "Dropping column RELIG16 because it is constant\n",
        "Dropping column MARITAL because it is constant\n",
        "Dropping column DENOM because it is constant\n",
        "Dropping column DENOM16 because it is constant\n",
        "Dropping column RELIG because it is constant\n",
        "Dropping column RELIG16 because it is constant\n",
        "Dropping column MARITAL because it is constant\n",
        "Dropping column DENOM because it is constant\n",
        "Dropping column DENOM16 because it is constant\n",
        "Dropping column RELIG because it is constant\n",
        "Dropping column RELIG16 because it is constant\n",
        "Dropping column MARITAL because it is constant\n",
        "Dropping column DENOM because it is constant\n",
        "Dropping column DENOM16 because it is constant\n",
        "Processing article: 2786\n",
        "Processing article:"
       ]
      },
      {
       "output_type": "stream",
       "stream": "stdout",
       "text": [
        " 2789\n",
        "Processing article: 2800\n",
        "Dropping column"
       ]
      },
      {
       "output_type": "stream",
       "stream": "stdout",
       "text": [
        " MARITAL because it is constant\n",
        "Dropping column MARITAL because it is constant\n",
        "Dropping column MARITAL because it is constant\n",
        "Dropping column MARITAL because it is constant\n",
        "Dropping column MARITAL because it is constant\n",
        "Dropping column MARITAL because it is constant\n",
        "Dropping column MARITAL because it is constant\n",
        "Dropping column MARITAL because it is constant\n",
        "Dropping column MARITAL because it is constant\n",
        "Dropping column MARITAL because it is constant\n",
        "Dropping column MARITAL because it is constant\n",
        "Dropping column MARITAL because it is constant\n",
        "Processing article:"
       ]
      },
      {
       "output_type": "stream",
       "stream": "stdout",
       "text": [
        " 2801\n",
        "Processing article: 2802\n",
        "Processing article:"
       ]
      },
      {
       "output_type": "stream",
       "stream": "stdout",
       "text": [
        " 2813\n",
        "Processing article:"
       ]
      },
      {
       "output_type": "stream",
       "stream": "stdout",
       "text": [
        " 2822\n",
        "Processing article:"
       ]
      },
      {
       "output_type": "stream",
       "stream": "stdout",
       "text": [
        " 2828\n",
        "Processing article: 2831\n",
        "Processing article:"
       ]
      },
      {
       "output_type": "stream",
       "stream": "stdout",
       "text": [
        " 2841\n",
        "Processing article:"
       ]
      },
      {
       "output_type": "stream",
       "stream": "stdout",
       "text": [
        " 2853\n",
        "Processing article: 2877\n",
        "Processing article:"
       ]
      },
      {
       "output_type": "stream",
       "stream": "stdout",
       "text": [
        " 2884\n",
        "Processing article: 2885\n",
        "Processing article:"
       ]
      },
      {
       "output_type": "stream",
       "stream": "stdout",
       "text": [
        " 2892\n",
        "Processing article: 2898\n",
        "Dropping column RELIG because it is constant\n",
        "Dropping column RELIG because it is constant\n",
        "Processing article: 2902\n",
        "Processing article:"
       ]
      },
      {
       "output_type": "stream",
       "stream": "stdout",
       "text": [
        " 2922\n",
        "Processing article:"
       ]
      },
      {
       "output_type": "stream",
       "stream": "stdout",
       "text": [
        " 2943\n",
        "Processing article: 2945\n",
        "Processing article:"
       ]
      },
      {
       "output_type": "stream",
       "stream": "stdout",
       "text": [
        " 2952\n",
        "Processing article: 2965\n",
        "Processing article: 2974\n",
        "Processing article:"
       ]
      },
      {
       "output_type": "stream",
       "stream": "stdout",
       "text": [
        " 2984\n",
        "Processing article: 3016\n",
        "Dropping column"
       ]
      },
      {
       "output_type": "stream",
       "stream": "stdout",
       "text": [
        " DENOM16 because it is constant\n",
        "Dropping column DENOM16 because it is constant\n",
        "Dropping column DENOM16 because it is constant\n",
        "Dropping column DENOM16 because it is constant\n",
        "Processing article: 3036\n",
        "Processing article: 3037\n",
        "Processing article: 3053\n",
        "Dropping column"
       ]
      },
      {
       "output_type": "stream",
       "stream": "stdout",
       "text": [
        " RELIG because it is constant\n",
        "Dropping column DENOM because it is constant\n",
        "Dropping column RELIG because it is constant\n",
        "Dropping column DENOM because it is constant\n",
        "Dropping column RELIG because it is constant\n",
        "Dropping column DENOM because it is constant\n",
        "Dropping column RELIG because it is constant\n",
        "Dropping column DENOM because it is constant\n",
        "Dropping column RELIG because it is constant\n",
        "Dropping column DENOM because it is constant\n",
        "Dropping column RELIG because it is constant\n",
        "Dropping column DENOM because it is constant\n",
        "Dropping column RELIG because it is constant\n",
        "Dropping column DENOM because it is constant\n",
        "Dropping column RELIG because it is constant\n",
        "Dropping column DENOM because it is constant\n",
        "Dropping column RELIG because it is constant\n",
        "Dropping column DENOM because it is constant\n",
        "Dropping column RELIG because it is constant\n",
        "Dropping column"
       ]
      },
      {
       "output_type": "stream",
       "stream": "stdout",
       "text": [
        " DENOM because it is constant\n",
        "Dropping column RELIG because it is constant\n",
        "Dropping column DENOM because it is constant\n",
        "Dropping column RELIG because it is constant\n",
        "Dropping column DENOM because it is constant\n",
        "Processing article: 3085\n",
        "Processing article:"
       ]
      },
      {
       "output_type": "stream",
       "stream": "stdout",
       "text": [
        " 3092\n",
        "Dropping column MARITAL because it is constant\n",
        "Dropping column MARITAL because it is constant\n",
        "Processing article:"
       ]
      },
      {
       "output_type": "stream",
       "stream": "stdout",
       "text": [
        " 3094\n",
        "Dropping column MARITAL because it is constant\n",
        "Dropping column MARITAL because it is constant\n",
        "Dropping column MARITAL because it is constant\n",
        "Dropping column MARITAL because it is constant\n",
        "Dropping column MARITAL because it is constant\n",
        "Processing article: 3095\n",
        "Processing article:"
       ]
      },
      {
       "output_type": "stream",
       "stream": "stdout",
       "text": [
        " 3141\n",
        "Processing article: 3164\n",
        "Processing article:"
       ]
      },
      {
       "output_type": "stream",
       "stream": "stdout",
       "text": [
        " 3191\n",
        "Processing article: 3203\n",
        "Dropping column HIT because it is constant\n",
        "Dropping column GUN because it is constant\n",
        "Dropping column HIT because it is constant\n",
        "Dropping column GUN because it is constant\n",
        "Dropping column HIT because it is constant\n",
        "Dropping column GUN because it is constant\n",
        "Not enough observations. Skipping...\n",
        "Dropping column HIT because it is constant\n",
        "Dropping column GUN because it is constant\n",
        "Dropping column HIT because it is constant\n",
        "Dropping column GUN because it is constant\n",
        "Dropping column HIT because it is constant\n",
        "Dropping column GUN because it is constant\n",
        "Not enough observations. Skipping...\n",
        "Dropping column"
       ]
      },
      {
       "output_type": "stream",
       "stream": "stdout",
       "text": [
        " HIT because it is constant\n",
        "Dropping column GUN because it is constant\n",
        "Dropping column HIT because it is constant\n",
        "Dropping column GUN because it is constant\n",
        "Dropping column HIT because it is constant\n",
        "Dropping column GUN because it is constant\n",
        "Not enough observations. Skipping...\n",
        "Dropping column HIT because it is constant\n",
        "Dropping column GUN because it is constant\n",
        "Dropping column HIT because it is constant\n",
        "Dropping column GUN because it is constant\n",
        "Dropping column HIT because it is constant\n",
        "Dropping column GUN because it is constant\n",
        "Not enough observations. Skipping...\n",
        "Dropping column HIT because it is constant\n",
        "Dropping column GUN because it is constant\n",
        "Dropping column"
       ]
      },
      {
       "output_type": "stream",
       "stream": "stdout",
       "text": [
        " HIT because it is constant\n",
        "Dropping column GUN because it is constant\n",
        "Dropping column HIT because it is constant\n",
        "Dropping column GUN because it is constant\n",
        "Not enough observations. Skipping...\n",
        "Dropping column HIT because it is constant\n",
        "Dropping column GUN because it is constant\n",
        "Dropping column HIT because it is constant\n",
        "Dropping column GUN because it is constant\n",
        "Not enough observations. Skipping...\n",
        "Dropping column HIT because it is constant\n",
        "Dropping column GUN because it is constant\n",
        "Dropping column HIT because it is constant\n",
        "Dropping column GUN because it is constant\n",
        "Dropping column HIT because it is constant\n",
        "Dropping column GUN because it is constant\n",
        "Dropping column HIT because it is constant\n",
        "Dropping column GUN because it is constant\n",
        "Dropping column"
       ]
      },
      {
       "output_type": "stream",
       "stream": "stdout",
       "text": [
        " HIT because it is constant\n",
        "Dropping column GUN because it is constant\n",
        "Dropping column HIT because it is constant\n",
        "Dropping column GUN because it is constant\n",
        "Dropping column HIT because it is constant\n",
        "Dropping column GUN because it is constant\n",
        "Dropping column HIT because it is constant\n",
        "Dropping column GUN because it is constant\n",
        "Dropping column HIT because it is constant\n",
        "Dropping column GUN because it is constant\n",
        "Dropping column HIT because it is constant\n",
        "Dropping column GUN because it is constant\n",
        "Processing article: 3205\n",
        "Processing article:"
       ]
      },
      {
       "output_type": "stream",
       "stream": "stdout",
       "text": [
        " 3206\n",
        "Dropping column MARITAL because it is constant\n",
        "Dropping column MARITAL because it is constant\n",
        "Dropping column MARITAL because it is constant\n",
        "Dropping column MARITAL because it is constant\n",
        "Dropping column MARITAL because it is constant\n",
        "Dropping column MARITAL because it is constant\n",
        "Processing article: 3210\n",
        "Processing article:"
       ]
      },
      {
       "output_type": "stream",
       "stream": "stdout",
       "text": [
        " 3231\n",
        "Processing article: 3232\n",
        "Processing article: 3250\n",
        "Dropping column RELIG because it is constant\n",
        "Dropping column WKSUP because it is constant\n",
        "Dropping column RELIG because it is constant\n",
        "Dropping column WKSUP because it is constant\n",
        "Dropping column"
       ]
      },
      {
       "output_type": "stream",
       "stream": "stdout",
       "text": [
        " RELIG because it is constant\n",
        "Dropping column WKSUP because it is constant\n",
        "Dropping column RELIG because it is constant\n",
        "Dropping column WKSUP because it is constant\n",
        "Dropping column RELIG because it is constant\n",
        "Dropping column WKSUP because it is constant\n",
        "Dropping column RELIG because it is constant\n",
        "Dropping column WKSUP because it is constant\n",
        "Dropping column RELIG because it is constant\n",
        "Dropping column WKSUP because it is constant\n",
        "Dropping column RELIG because it is constant\n",
        "Dropping column WKSUP because it is constant\n",
        "Dropping column RELIG because it is constant\n",
        "Dropping column WKSUP because it is constant\n",
        "Dropping column RELIG because it is constant\n",
        "Dropping column WKSUP because it is constant\n",
        "Dropping column RELIG because it is constant\n",
        "Dropping column WKSUP because it is constant\n",
        "Dropping column"
       ]
      },
      {
       "output_type": "stream",
       "stream": "stdout",
       "text": [
        " RELIG because it is constant\n",
        "Dropping column WKSUP because it is constant\n",
        "Dropping column RELIG because it is constant\n",
        "Dropping column WKSUP because it is constant\n",
        "Dropping column RELIG because it is constant\n",
        "Dropping column WKSUP because it is constant\n",
        "Dropping column RELIG because it is constant\n",
        "Dropping column WKSUP because it is constant\n",
        "Processing article: 3268\n",
        "Dropping column MARITAL because it is constant\n",
        "Dropping column MARITAL because it is constant\n",
        "Dropping column MARITAL because it is constant\n",
        "Processing article: 3283\n",
        "Processing article: 3287\n",
        "Processing article:"
       ]
      },
      {
       "output_type": "stream",
       "stream": "stdout",
       "text": [
        " 3298\n",
        "Processing article:"
       ]
      },
      {
       "output_type": "stream",
       "stream": "stdout",
       "text": [
        " 3300\n",
        "Processing article:"
       ]
      },
      {
       "output_type": "stream",
       "stream": "stdout",
       "text": [
        " 3313\n",
        "Processing article:"
       ]
      },
      {
       "output_type": "stream",
       "stream": "stdout",
       "text": [
        " 3323\n",
        "Processing article: 3333\n",
        "Dropping column WKSUB because it is constant\n",
        "Dropping column WKSUP because it is constant\n",
        "Dropping column WKSUB because it is constant\n",
        "Dropping column WKSUP because it is constant\n",
        "Dropping column"
       ]
      },
      {
       "output_type": "stream",
       "stream": "stdout",
       "text": [
        " WKSUB because it is constant\n",
        "Dropping column WKSUP because it is constant\n",
        "Dropping column WKSUB because it is constant\n",
        "Dropping column WKSUP because it is constant\n",
        "Dropping column WKSUB because it is constant\n",
        "Dropping column WKSUP because it is constant\n",
        "Dropping column WKSUB because it is constant\n",
        "Dropping column WKSUP because it is constant\n",
        "Dropping column WKSUB because it is constant\n",
        "Dropping column WKSUP because it is constant\n",
        "Dropping column WKSUB because it is constant\n",
        "Dropping column WKSUP because it is constant\n",
        "Dropping column WKSUB because it is constant\n",
        "Dropping column WKSUP because it is constant\n",
        "Dropping column WKSUB because it is constant\n",
        "Dropping column WKSUP because it is constant\n",
        "Dropping column"
       ]
      },
      {
       "output_type": "stream",
       "stream": "stdout",
       "text": [
        " WKSUB because it is constant\n",
        "Dropping column WKSUP because it is constant\n",
        "Dropping column WKSUB because it is constant\n",
        "Dropping column WKSUP because it is constant\n",
        "Dropping column WKSUB because it is constant\n",
        "Dropping column WKSUP because it is constant\n",
        "Processing article: 3350\n",
        "Processing article: 3394\n",
        "Dropping column RELIG because it is constant\n",
        "Dropping column RELIG because it is constant\n",
        "Dropping column RELIG because it is constant\n",
        "Dropping column RELIG because it is constant\n",
        "Dropping column RELIG because it is constant\n",
        "Dropping column"
       ]
      },
      {
       "output_type": "stream",
       "stream": "stdout",
       "text": [
        " RELIG because it is constant\n",
        "Dropping column RELIG because it is constant\n",
        "Dropping column RELIG because it is constant\n",
        "Dropping column RELIG because it is constant\n",
        "Dropping column RELIG because it is constant\n",
        "Dropping column RELIG because it is constant\n",
        "Dropping column RELIG because it is constant\n",
        "Processing article: 3400\n",
        "Processing article:"
       ]
      },
      {
       "output_type": "stream",
       "stream": "stdout",
       "text": [
        " 3419\n",
        "Dropping column RELIG because it is constant\n",
        "Dropping column CHURHMEM because it is constant\n",
        "Processing article: 3444\n",
        "Dropping column RELIG because it is constant\n",
        "Dropping column RELIG because it is constant\n",
        "Dropping column RELIG because it is constant\n",
        "Dropping column RELIG because it is constant\n",
        "Dropping column RELIG because it is constant\n",
        "Dropping column RELIG because it is constant\n",
        "Dropping column RELIG because it is constant\n",
        "Dropping column RELIG because it is constant\n",
        "Dropping column RELIG because it is constant\n",
        "Dropping column RELIG because it is constant\n",
        "Dropping column"
       ]
      },
      {
       "output_type": "stream",
       "stream": "stdout",
       "text": [
        " RELIG because it is constant\n",
        "Dropping column RELIG because it is constant\n",
        "Dropping column RELIG because it is constant\n",
        "Dropping column RELIG because it is constant\n",
        "Dropping column RELIG because it is constant\n",
        "Dropping column RELIG because it is constant\n",
        "Dropping column RELIG because it is constant\n",
        "Dropping column RELIG because it is constant\n",
        "Processing article: 3445\n",
        "Dropping column RELIG because it is constant\n",
        "Dropping column RELIG because it is constant\n",
        "Dropping column DENOM because it is constant\n",
        "Dropping column RELIG because it is constant\n",
        "Dropping column DENOM because it is constant\n",
        "Dropping column RELIG because it is constant\n",
        "Dropping column"
       ]
      },
      {
       "output_type": "stream",
       "stream": "stdout",
       "text": [
        " DENOM because it is constant\n",
        "Dropping column RELIG because it is constant\n",
        "Dropping column DENOM because it is constant\n",
        "Dropping column RELIG because it is constant\n",
        "Dropping column DENOM because it is constant\n",
        "Dropping column RELIG because it is constant\n",
        "Dropping column DENOM because it is constant\n",
        "Dropping column RELIG because it is constant\n",
        "Dropping column RELIG because it is constant\n",
        "Dropping column DENOM because it is constant\n",
        "Dropping column RELIG because it is constant\n",
        "Dropping column DENOM because it is constant\n",
        "Dropping column RELIG because it is constant\n",
        "Dropping column DENOM because it is constant\n",
        "Dropping column RELIG because it is constant\n",
        "Dropping column DENOM because it is constant\n",
        "Dropping column RELIG because it is constant\n",
        "Dropping column DENOM because it is constant\n",
        "Dropping column RELIG because it is constant\n",
        "Dropping column DENOM because it is constant\n",
        "Dropping column"
       ]
      },
      {
       "output_type": "stream",
       "stream": "stdout",
       "text": [
        " RELIG because it is constant\n",
        "Dropping column RELIG because it is constant\n",
        "Dropping column DENOM because it is constant\n",
        "Dropping column RELIG because it is constant\n",
        "Dropping column DENOM because it is constant\n",
        "Dropping column RELIG because it is constant\n",
        "Dropping column DENOM because it is constant\n",
        "Dropping column RELIG because it is constant\n",
        "Dropping column DENOM because it is constant\n",
        "Dropping column RELIG because it is constant\n",
        "Dropping column DENOM because it is constant\n",
        "Dropping column RELIG because it is constant\n",
        "Dropping column DENOM because it is constant\n",
        "Processing article: 3450\n",
        "Processing article:"
       ]
      },
      {
       "output_type": "stream",
       "stream": "stdout",
       "text": [
        " 3489\n",
        "Processing article:"
       ]
      },
      {
       "output_type": "stream",
       "stream": "stdout",
       "text": [
        " 3501\n",
        "Dropping column MARITAL because it is constant\n",
        "Dropping column MARITAL because it is constant\n",
        "Dropping column MARITAL because it is constant\n",
        "Dropping column MARITAL because it is constant\n",
        "Dropping column RACE because it is constant\n",
        "Dropping column MARITAL because it is constant\n",
        "Dropping column MARITAL because it is constant\n",
        "Dropping column MARITAL because it is constant\n",
        "Dropping column MARITAL because it is constant\n",
        "Dropping column MARITAL because it is constant\n",
        "Dropping column MARITAL because it is constant\n",
        "Dropping column"
       ]
      },
      {
       "output_type": "stream",
       "stream": "stdout",
       "text": [
        " RACE because it is constant\n",
        "Dropping column MARITAL because it is constant\n",
        "Dropping column MARITAL because it is constant\n",
        "Dropping column RACE because it is constant\n",
        "Dropping column MARITAL because it is constant\n",
        "Dropping column BORN because it is constant\n",
        "Dropping column RACE because it is constant\n",
        "Dropping column MARITAL because it is constant\n",
        "Dropping column MARITAL because it is constant\n",
        "Dropping column MARITAL because it is constant\n",
        "Dropping column BORN because it is constant\n",
        "Dropping column RACE because it is constant\n",
        "Dropping column MARITAL because it is constant\n",
        "Dropping column MARITAL because it is constant\n",
        "Dropping column RACE because it is constant\n",
        "Dropping column MARITAL because it is constant\n",
        "Dropping column BORN because it is constant\n",
        "Dropping column RACE because it is constant\n",
        "Dropping column MARITAL because it is constant\n",
        "Dropping column RACE because it is constant\n",
        "Dropping column"
       ]
      },
      {
       "output_type": "stream",
       "stream": "stdout",
       "text": [
        " MARITAL because it is constant\n",
        "Dropping column RACE because it is constant\n",
        "Dropping column MARITAL because it is constant\n",
        "Dropping column BORN because it is constant\n",
        "Dropping column RACE because it is constant\n",
        "Dropping column MARITAL because it is constant\n",
        "Dropping column MARITAL because it is constant\n",
        "Processing article: 3502\n",
        "Processing article:"
       ]
      },
      {
       "output_type": "stream",
       "stream": "stdout",
       "text": [
        " 3505\n",
        "Dropping column MARITAL because it is constant\n",
        "Dropping column MARITAL because it is constant\n",
        "Dropping column MARITAL because it is constant\n",
        "Dropping column MARITAL because it is constant\n",
        "Processing article: 3554\n",
        "Processing article:"
       ]
      },
      {
       "output_type": "stream",
       "stream": "stdout",
       "text": [
        " 3567\n",
        "Dropping column YEAR because it is constant\n",
        "Dropping column RELIG because it is constant\n",
        "Dropping column YEAR because it is constant\n",
        "Dropping column RELIG because it is constant\n",
        "Dropping column YEAR because it is constant\n",
        "Dropping column RELIG because it is constant\n",
        "Dropping column YEAR because it is constant\n",
        "Dropping column RELIG because it is constant\n",
        "Dropping column YEAR because it is constant\n",
        "Dropping column RELIG because it is constant\n",
        "Dropping column YEAR because it is constant\n",
        "Dropping column RELIG because it is constant\n",
        "Dropping column YEAR because it is constant\n",
        "Dropping column RELIG because it is constant\n",
        "Dropping column YEAR because it is constant\n",
        "Dropping column RELIG because it is constant\n",
        "Dropping column YEAR because it is constant\n",
        "Dropping column RELIG because it is constant\n",
        "Dropping column"
       ]
      },
      {
       "output_type": "stream",
       "stream": "stdout",
       "text": [
        " YEAR because it is constant\n",
        "Dropping column RELIG because it is constant\n",
        "Dropping column YEAR because it is constant\n",
        "Dropping column RELIG because it is constant\n",
        "Dropping column YEAR because it is constant\n",
        "Dropping column RELIG because it is constant\n",
        "Dropping column YEAR because it is constant\n",
        "Dropping column RELIG because it is constant\n",
        "Dropping column YEAR because it is constant\n",
        "Dropping column RELIG because it is constant\n",
        "Dropping column YEAR because it is constant\n",
        "Dropping column RELIG because it is constant\n",
        "Dropping column YEAR because it is constant\n",
        "Dropping column RELIG because it is constant\n",
        "Dropping column YEAR because it is constant\n",
        "Dropping column RELIG because it is constant\n",
        "Dropping column YEAR because it is constant\n",
        "Dropping column RELIG because it is constant\n",
        "Dropping column YEAR because it is constant\n",
        "Dropping column RELIG because it is constant\n",
        "Dropping column"
       ]
      },
      {
       "output_type": "stream",
       "stream": "stdout",
       "text": [
        " YEAR because it is constant\n",
        "Dropping column RELIG because it is constant\n",
        "Dropping column YEAR because it is constant\n",
        "Dropping column RELIG because it is constant\n",
        "Dropping column YEAR because it is constant\n",
        "Dropping column RELIG because it is constant\n",
        "Dropping column YEAR because it is constant\n",
        "Dropping column RELIG because it is constant\n",
        "Dropping column YEAR because it is constant\n",
        "Dropping column RELIG because it is constant\n",
        "Dropping column YEAR because it is constant\n",
        "Dropping column RELIG because it is constant\n",
        "Dropping column YEAR because it is constant\n",
        "Dropping column RELIG because it is constant\n",
        "Dropping column YEAR because it is constant\n",
        "Dropping column RELIG because it is constant\n",
        "Dropping column YEAR because it is constant\n",
        "Dropping column RELIG because it is constant\n",
        "Dropping column YEAR because it is constant\n",
        "Dropping column RELIG because it is constant\n",
        "Dropping column"
       ]
      },
      {
       "output_type": "stream",
       "stream": "stdout",
       "text": [
        " YEAR because it is constant\n",
        "Dropping column RELIG because it is constant\n",
        "Dropping column YEAR because it is constant\n",
        "Dropping column RELIG because it is constant\n",
        "Dropping column YEAR because it is constant\n",
        "Dropping column RELIG because it is constant\n",
        "Dropping column YEAR because it is constant\n",
        "Dropping column RELIG because it is constant\n",
        "Dropping column YEAR because it is constant\n",
        "Dropping column RELIG because it is constant\n",
        "Dropping column YEAR because it is constant\n",
        "Dropping column RELIG because it is constant\n",
        "Dropping column YEAR because it is constant\n",
        "Dropping column RELIG because it is constant\n",
        "Dropping column YEAR because it is constant\n",
        "Dropping column RELIG because it is constant\n",
        "Dropping column YEAR because it is constant\n",
        "Dropping column RELIG because it is constant\n",
        "Dropping column YEAR because it is constant\n",
        "Dropping column RELIG because it is constant\n",
        "Dropping column YEAR because it is constant\n",
        "Dropping column"
       ]
      },
      {
       "output_type": "stream",
       "stream": "stdout",
       "text": [
        " RELIG because it is constant\n",
        "Dropping column YEAR because it is constant\n",
        "Dropping column RELIG because it is constant\n",
        "Dropping column YEAR because it is constant\n",
        "Dropping column RELIG because it is constant\n",
        "Dropping column YEAR because it is constant\n",
        "Dropping column RELIG because it is constant\n",
        "Dropping column YEAR because it is constant\n",
        "Dropping column RELIG because it is constant\n",
        "Dropping column YEAR because it is constant\n",
        "Dropping column RELIG because it is constant\n",
        "Processing article: 3568\n",
        "Processing article:"
       ]
      },
      {
       "output_type": "stream",
       "stream": "stdout",
       "text": [
        " 3573\n",
        "Dropping column RELIG because it is constant\n",
        "Dropping column DENOM because it is constant\n",
        "Dropping column RELIG because it is constant\n",
        "Dropping column DENOM because it is constant\n",
        "Dropping column RELIG because it is constant\n",
        "Dropping column DENOM because it is constant\n",
        "Dropping column RELIG because it is constant\n",
        "Dropping column DENOM because it is constant\n",
        "Dropping column RELIG because it is constant\n",
        "Dropping column DENOM because it is constant\n",
        "Processing article: 3594\n",
        "Processing article:"
       ]
      },
      {
       "output_type": "stream",
       "stream": "stdout",
       "text": [
        " 3605\n",
        "Dropping column RELIG because it is constant\n",
        "Processing article: 3606\n",
        "Processing article: 3607\n",
        "Processing article:"
       ]
      },
      {
       "output_type": "stream",
       "stream": "stdout",
       "text": [
        " 3613\n",
        "Dropping column RELIG because it is constant\n",
        "Dropping column DENOM because it is constant\n",
        "Dropping column MARITAL because it is constant\n",
        "Dropping column SPREL because it is constant\n",
        "Dropping column SPDEN because it is constant\n",
        "Dropping column RELIG because it is constant\n",
        "Dropping column DENOM because it is constant\n",
        "Dropping column MARITAL because it is constant\n",
        "Dropping column SPREL because it is constant\n",
        "Dropping column SPDEN because it is constant\n",
        "Dropping column RELIG because it is constant\n",
        "Dropping column DENOM because it is constant\n",
        "Dropping column MARITAL because it is constant\n",
        "Dropping column SPREL because it is constant\n",
        "Dropping column SPDEN because it is constant\n",
        "Dropping column RELIG because it is constant\n",
        "Dropping column DENOM because it is constant\n",
        "Dropping column MARITAL because it is constant\n",
        "Dropping column SPREL because it is constant\n",
        "Dropping column SPDEN because it is constant\n",
        "Dropping column RELIG because it is constant\n",
        "Dropping column DENOM because it is constant\n",
        "Dropping column MARITAL because it is constant\n",
        "Dropping column SPREL because it is constant\n",
        "Dropping column SPDEN because it is constant\n",
        "Dropping column RELIG because it is constant\n",
        "Dropping column DENOM because it is constant\n",
        "Dropping column MARITAL because it is constant\n",
        "Dropping column SPREL because it is constant\n",
        "Dropping column SPDEN because it is constant\n",
        "Dropping column RELIG because it is constant\n",
        "Dropping column DENOM because it is constant\n",
        "Dropping column"
       ]
      },
      {
       "output_type": "stream",
       "stream": "stdout",
       "text": [
        " MARITAL because it is constant\n",
        "Dropping column SPREL because it is constant\n",
        "Dropping column SPDEN because it is constant\n",
        "Dropping column RELIG because it is constant\n",
        "Dropping column DENOM because it is constant\n",
        "Dropping column MARITAL because it is constant\n",
        "Dropping column SPREL because it is constant\n",
        "Dropping column SPDEN because it is constant\n",
        "Dropping column RELIG because it is constant\n",
        "Dropping column DENOM because it is constant\n",
        "Dropping column MARITAL because it is constant\n",
        "Dropping column SPREL because it is constant\n",
        "Dropping column SPDEN because it is constant\n",
        "Dropping column RELIG because it is constant\n",
        "Dropping column DENOM because it is constant\n",
        "Dropping column MARITAL because it is constant\n",
        "Dropping column SPREL because it is constant\n",
        "Dropping column SPDEN because it is constant\n",
        "Dropping column RELIG because it is constant\n",
        "Dropping column DENOM because it is constant\n",
        "Dropping column MARITAL because it is constant\n",
        "Dropping column SPREL because it is constant\n",
        "Dropping column SPDEN because it is constant\n",
        "Dropping column RELIG because it is constant\n",
        "Dropping column DENOM because it is constant\n",
        "Dropping column MARITAL because it is constant\n",
        "Dropping column SPREL because it is constant\n",
        "Dropping column SPDEN because it is constant\n",
        "Dropping column RELIG because it is constant\n",
        "Dropping column DENOM because it is constant\n",
        "Dropping column MARITAL because it is constant\n",
        "Dropping column SPREL because it is constant\n",
        "Dropping column SPDEN because it is constant\n",
        "Dropping column"
       ]
      },
      {
       "output_type": "stream",
       "stream": "stdout",
       "text": [
        " RELIG because it is constant\n",
        "Dropping column DENOM because it is constant\n",
        "Dropping column MARITAL because it is constant\n",
        "Dropping column SPREL because it is constant\n",
        "Dropping column SPDEN because it is constant\n",
        "Dropping column RELIG because it is constant\n",
        "Dropping column DENOM because it is constant\n",
        "Dropping column MARITAL because it is constant\n",
        "Dropping column SPREL because it is constant\n",
        "Dropping column SPDEN because it is constant\n",
        "Processing article: 3615\n",
        "Processing article:"
       ]
      },
      {
       "output_type": "stream",
       "stream": "stdout",
       "text": [
        " 3676\n",
        "Processing article: 3678\n",
        "Processing article:"
       ]
      },
      {
       "output_type": "stream",
       "stream": "stdout",
       "text": [
        " 3690\n",
        "Processing article: 3729\n",
        "Processing article: 3743\n",
        "Dropping column RELIG because it is constant\n",
        "Dropping column DENOM because it is constant\n",
        "Dropping column RELIG because it is constant\n",
        "Dropping column DENOM because it is constant\n",
        "Dropping column RELIG because it is constant\n",
        "Dropping column"
       ]
      },
      {
       "output_type": "stream",
       "stream": "stdout",
       "text": [
        " DENOM because it is constant\n",
        "Dropping column RELIG because it is constant\n",
        "Dropping column DENOM because it is constant\n",
        "Dropping column RELIG because it is constant\n",
        "Dropping column DENOM because it is constant\n",
        "Dropping column RELIG because it is constant\n",
        "Dropping column DENOM because it is constant\n",
        "Dropping column RELIG because it is constant\n",
        "Dropping column DENOM because it is constant\n",
        "Dropping column RELIG because it is constant\n",
        "Dropping column DENOM because it is constant\n",
        "Dropping column RELIG because it is constant\n",
        "Dropping column DENOM because it is constant\n",
        "Dropping column RELIG because it is constant\n",
        "Dropping column DENOM because it is constant\n",
        "Dropping column RELIG because it is constant\n",
        "Dropping column DENOM because it is constant\n",
        "Dropping column RELIG because it is constant\n",
        "Dropping column DENOM because it is constant\n",
        "Dropping column RELIG because it is constant\n",
        "Dropping column DENOM because it is constant\n",
        "Dropping column RELIG because it is constant\n",
        "Dropping column DENOM because it is constant\n",
        "Dropping column"
       ]
      },
      {
       "output_type": "stream",
       "stream": "stdout",
       "text": [
        " RELIG because it is constant\n",
        "Dropping column DENOM because it is constant\n",
        "Dropping column RELIG because it is constant\n",
        "Dropping column DENOM because it is constant\n",
        "Dropping column RELIG because it is constant\n",
        "Dropping column DENOM because it is constant\n",
        "Dropping column RELIG because it is constant\n",
        "Dropping column DENOM because it is constant\n",
        "Dropping column RELIG because it is constant\n",
        "Dropping column DENOM because it is constant\n",
        "Dropping column RELIG because it is constant\n",
        "Dropping column DENOM because it is constant\n",
        "Dropping column RELIG because it is constant\n",
        "Dropping column DENOM because it is constant\n",
        "Processing article: 3746\n",
        "Processing article:"
       ]
      },
      {
       "output_type": "stream",
       "stream": "stdout",
       "text": [
        " 3758\n",
        "Dropping column RELIG because it is constant\n",
        "Dropping column DENOM because it is constant\n",
        "Dropping column RELIG because it is constant\n",
        "Dropping column DENOM because it is constant\n",
        "Dropping column RELIG because it is constant\n",
        "Dropping column DENOM because it is constant\n",
        "Dropping column RELIG because it is constant\n",
        "Dropping column DENOM because it is constant\n",
        "Dropping column RELIG because it is constant\n",
        "Dropping column DENOM because it is constant\n",
        "Dropping column RELIG because it is constant\n",
        "Dropping column DENOM because it is constant\n",
        "Dropping column RELIG because it is constant\n",
        "Dropping column DENOM because it is constant\n",
        "Dropping column RELIG because it is constant\n",
        "Dropping column DENOM because it is constant\n",
        "Dropping column RELIG because it is constant\n",
        "Dropping column DENOM because it is constant\n",
        "Dropping column RELIG because it is constant\n",
        "Dropping column DENOM because it is constant\n",
        "Dropping column RELIG because it is constant\n",
        "Dropping column DENOM because it is constant\n",
        "Dropping column RELIG because it is constant\n",
        "Dropping column DENOM because it is constant\n",
        "Dropping column"
       ]
      },
      {
       "output_type": "stream",
       "stream": "stdout",
       "text": [
        " RELIG because it is constant\n",
        "Dropping column DENOM because it is constant\n",
        "Dropping column RELIG because it is constant\n",
        "Dropping column DENOM because it is constant\n",
        "Dropping column RELIG because it is constant\n",
        "Dropping column DENOM because it is constant\n",
        "Dropping column RELIG because it is constant\n",
        "Dropping column DENOM because it is constant\n",
        "Dropping column RELIG because it is constant\n",
        "Dropping column DENOM because it is constant\n",
        "Dropping column RELIG because it is constant\n",
        "Dropping column DENOM because it is constant\n",
        "Dropping column RELIG because it is constant\n",
        "Dropping column DENOM because it is constant\n",
        "Dropping column RELIG because it is constant\n",
        "Dropping column DENOM because it is constant\n",
        "Dropping column RELIG because it is constant\n",
        "Dropping column DENOM because it is constant\n",
        "Dropping column RELIG because it is constant\n",
        "Dropping column DENOM because it is constant\n",
        "Dropping column RELIG because it is constant\n",
        "Dropping column DENOM because it is constant\n",
        "Dropping column RELIG because it is constant\n",
        "Dropping column DENOM because it is constant\n",
        "Processing article: 3761\n",
        "Dropping column RELIG because it is constant\n",
        "Dropping column DENOM because it is constant\n",
        "Dropping column"
       ]
      },
      {
       "output_type": "stream",
       "stream": "stdout",
       "text": [
        " RELIG because it is constant\n",
        "Dropping column DENOM because it is constant\n",
        "Dropping column RELIG because it is constant\n",
        "Dropping column DENOM because it is constant\n",
        "Dropping column RELIG because it is constant\n",
        "Dropping column DENOM because it is constant\n",
        "Dropping column RELIG because it is constant\n",
        "Dropping column DENOM because it is constant\n",
        "Dropping column RELIG because it is constant\n",
        "Dropping column DENOM because it is constant\n",
        "Dropping column RELIG because it is constant\n",
        "Dropping column DENOM because it is constant\n",
        "Dropping column RELIG because it is constant\n",
        "Dropping column DENOM because it is constant\n",
        "Dropping column RELIG because it is constant\n",
        "Dropping column DENOM because it is constant\n",
        "Dropping column RELIG because it is constant\n",
        "Dropping column"
       ]
      },
      {
       "output_type": "stream",
       "stream": "stdout",
       "text": [
        " DENOM because it is constant\n",
        "Processing article: 3763\n",
        "Dropping column RELIG because it is constant\n",
        "Dropping column FUND because it is constant\n",
        "Processing article:"
       ]
      },
      {
       "output_type": "stream",
       "stream": "stdout",
       "text": [
        " 3771\n",
        "Dropping column RELIG because it is constant\n",
        "Dropping column DENOM because it is constant\n",
        "Dropping column RELIG because it is constant\n",
        "Dropping column DENOM because it is constant\n",
        "Dropping column RELIG because it is constant\n",
        "Dropping column DENOM because it is constant\n",
        "Dropping column RELIG because it is constant\n",
        "Dropping column DENOM because it is constant\n",
        "Dropping column RELIG because it is constant\n",
        "Dropping column DENOM because it is constant\n",
        "Dropping column RELIG because it is constant\n",
        "Dropping column DENOM because it is constant\n",
        "Dropping column"
       ]
      },
      {
       "output_type": "stream",
       "stream": "stdout",
       "text": [
        " RELIG because it is constant\n",
        "Dropping column DENOM because it is constant\n",
        "Dropping column RELIG because it is constant\n",
        "Dropping column DENOM because it is constant\n",
        "Dropping column RELIG because it is constant\n",
        "Dropping column DENOM because it is constant\n",
        "Dropping column RELIG because it is constant\n",
        "Dropping column DENOM because it is constant\n",
        "Dropping column RELIG because it is constant\n",
        "Dropping column DENOM because it is constant\n",
        "Dropping column RELIG because it is constant\n",
        "Dropping column DENOM because it is constant\n",
        "Dropping column RELIG because it is constant\n",
        "Dropping column DENOM because it is constant\n",
        "Dropping column RELIG because it is constant\n",
        "Dropping column DENOM because it is constant\n",
        "Dropping column"
       ]
      },
      {
       "output_type": "stream",
       "stream": "stdout",
       "text": [
        " RELIG because it is constant\n",
        "Dropping column DENOM because it is constant\n",
        "Dropping column RELIG because it is constant\n",
        "Dropping column DENOM because it is constant\n",
        "Dropping column RELIG because it is constant\n",
        "Dropping column DENOM because it is constant\n",
        "Dropping column RELIG because it is constant\n",
        "Dropping column DENOM because it is constant\n",
        "Dropping column RELIG because it is constant\n",
        "Dropping column DENOM because it is constant\n",
        "Dropping column RELIG because it is constant\n",
        "Dropping column DENOM because it is constant\n",
        "Dropping column RELIG because it is constant\n",
        "Dropping column DENOM because it is constant\n",
        "Dropping column RELIG because it is constant\n",
        "Dropping column DENOM because it is constant\n",
        "Dropping column RELIG because it is constant\n",
        "Dropping column"
       ]
      },
      {
       "output_type": "stream",
       "stream": "stdout",
       "text": [
        " DENOM because it is constant\n",
        "Dropping column RELIG because it is constant\n",
        "Dropping column DENOM because it is constant\n",
        "Dropping column RELIG because it is constant\n",
        "Dropping column DENOM because it is constant\n",
        "Dropping column RELIG because it is constant\n",
        "Dropping column DENOM because it is constant\n",
        "Dropping column RELIG because it is constant\n",
        "Dropping column DENOM because it is constant\n",
        "Dropping column RELIG because it is constant\n",
        "Dropping column DENOM because it is constant\n",
        "Processing article: 3772\n",
        "Dropping column RELIG because it is constant\n",
        "Dropping column DENOM because it is constant\n",
        "Dropping column RELIG because it is constant\n",
        "Dropping column DENOM because it is constant\n",
        "Dropping column RELIG because it is constant\n",
        "Dropping column DENOM because it is constant\n",
        "Dropping column RELIG because it is constant\n",
        "Dropping column"
       ]
      },
      {
       "output_type": "stream",
       "stream": "stdout",
       "text": [
        " DENOM because it is constant\n",
        "Not enough observations. Skipping...\n",
        "Not enough observations. Skipping...\n",
        "Not enough observations. Skipping...\n",
        "Not enough observations. Skipping...\n",
        "Processing article: 3793\n",
        "Processing article:"
       ]
      },
      {
       "output_type": "stream",
       "stream": "stdout",
       "text": [
        " 3805\n",
        "Processing article: 3825\n",
        "Processing article:"
       ]
      },
      {
       "output_type": "stream",
       "stream": "stdout",
       "text": [
        " 3831\n",
        "Processing article: 3832\n",
        "Dropping column MARITAL because it is constant\n",
        "Dropping column MARITAL because it is constant\n",
        "Dropping column MARITAL because it is constant\n",
        "Dropping column MARITAL because it is constant\n",
        "Processing article: 3846\n",
        "Processing article: 3887\n",
        "Processing article:"
       ]
      },
      {
       "output_type": "stream",
       "stream": "stdout",
       "text": [
        " 3895\n",
        "Processing article:"
       ]
      },
      {
       "output_type": "stream",
       "stream": "stdout",
       "text": [
        " 3896\n",
        "Processing article:"
       ]
      },
      {
       "output_type": "stream",
       "stream": "stdout",
       "text": [
        " 3952\n",
        "Processing article:"
       ]
      },
      {
       "output_type": "stream",
       "stream": "stdout",
       "text": [
        " 3959\n",
        "Processing article:"
       ]
      },
      {
       "output_type": "stream",
       "stream": "stdout",
       "text": [
        " 3966\n",
        "Processing article:"
       ]
      },
      {
       "output_type": "stream",
       "stream": "stdout",
       "text": [
        " 4003\n",
        "Processing article:"
       ]
      },
      {
       "output_type": "stream",
       "stream": "stdout",
       "text": [
        " 4007\n",
        "Processing article: 4055\n",
        "Processing article:"
       ]
      },
      {
       "output_type": "stream",
       "stream": "stdout",
       "text": [
        " 4056\n",
        "Processing article:"
       ]
      },
      {
       "output_type": "stream",
       "stream": "stdout",
       "text": [
        " 4088\n",
        "Processing article:"
       ]
      },
      {
       "output_type": "stream",
       "stream": "stdout",
       "text": [
        " 4110\n",
        "Processing article: 4112\n",
        "Processing article:"
       ]
      },
      {
       "output_type": "stream",
       "stream": "stdout",
       "text": [
        " 4116\n",
        "Processing article:"
       ]
      },
      {
       "output_type": "stream",
       "stream": "stdout",
       "text": [
        " 4124\n",
        "Processing article: 4131\n",
        "Processing article:"
       ]
      },
      {
       "output_type": "stream",
       "stream": "stdout",
       "text": [
        " 4133\n",
        "Processing article: 4134\n",
        "Not enough observations. Skipping...\n",
        "Not enough observations. Skipping...\n",
        "Processing article: 4152\n",
        "Not enough observations. Skipping...\n",
        "Not enough observations. Skipping...\n",
        "Not enough observations. Skipping..."
       ]
      },
      {
       "output_type": "stream",
       "stream": "stdout",
       "text": [
        "\n",
        "Not enough observations. Skipping...\n",
        "Not enough observations. Skipping...\n",
        "Not enough observations. Skipping...\n",
        "Not enough observations. Skipping...\n",
        "Not enough observations. Skipping...\n",
        "Not enough observations. Skipping...\n",
        "Not enough observations. Skipping..."
       ]
      },
      {
       "output_type": "stream",
       "stream": "stdout",
       "text": [
        "\n",
        "Not enough observations. Skipping...\n",
        "Not enough observations. Skipping...\n",
        "Processing article: 4154\n",
        "Processing article:"
       ]
      },
      {
       "output_type": "stream",
       "stream": "stdout",
       "text": [
        " 4160\n",
        "Processing article:"
       ]
      },
      {
       "output_type": "stream",
       "stream": "stdout",
       "text": [
        " 4173\n",
        "Processing article:"
       ]
      },
      {
       "output_type": "stream",
       "stream": "stdout",
       "text": [
        " 4273\n",
        "no central variables"
       ]
      },
      {
       "output_type": "stream",
       "stream": "stdout",
       "text": [
        "\n",
        "no central variables"
       ]
      },
      {
       "output_type": "stream",
       "stream": "stdout",
       "text": [
        "\n",
        "no central variables"
       ]
      },
      {
       "output_type": "stream",
       "stream": "stdout",
       "text": [
        "\n",
        "no central variables"
       ]
      },
      {
       "output_type": "stream",
       "stream": "stdout",
       "text": [
        "\n",
        "no central variables"
       ]
      },
      {
       "output_type": "stream",
       "stream": "stdout",
       "text": [
        "\n",
        "no central variables"
       ]
      },
      {
       "output_type": "stream",
       "stream": "stdout",
       "text": [
        "\n",
        "no central variables"
       ]
      },
      {
       "output_type": "stream",
       "stream": "stdout",
       "text": [
        "\n",
        "no central variables"
       ]
      },
      {
       "output_type": "stream",
       "stream": "stdout",
       "text": [
        "\n",
        "no central variables"
       ]
      },
      {
       "output_type": "stream",
       "stream": "stdout",
       "text": [
        "\n",
        "Processing article: 4274\n",
        "Dropping column RELIG because it is constant\n",
        "Processing article: 4280\n",
        "Processing article: 4291\n",
        "Processing article:"
       ]
      },
      {
       "output_type": "stream",
       "stream": "stdout",
       "text": [
        " 4297\n",
        "Processing article: 4302\n",
        "Processing article:"
       ]
      },
      {
       "output_type": "stream",
       "stream": "stdout",
       "text": [
        " 4310\n",
        "Processing article:"
       ]
      },
      {
       "output_type": "stream",
       "stream": "stdout",
       "text": [
        " 4328\n",
        "Processing article: 4363\n",
        "Processing article:"
       ]
      },
      {
       "output_type": "stream",
       "stream": "stdout",
       "text": [
        " 4374\n",
        "Processing article: 4376\n",
        "no central variables"
       ]
      },
      {
       "output_type": "stream",
       "stream": "stdout",
       "text": [
        "\n",
        "no central variables\n",
        "no central variables"
       ]
      },
      {
       "output_type": "stream",
       "stream": "stdout",
       "text": [
        "\n",
        "no central variables"
       ]
      },
      {
       "output_type": "stream",
       "stream": "stdout",
       "text": [
        "\n",
        "no central variables\n",
        "no central variables"
       ]
      },
      {
       "output_type": "stream",
       "stream": "stdout",
       "text": [
        "\n",
        "no central variables"
       ]
      },
      {
       "output_type": "stream",
       "stream": "stdout",
       "text": [
        "\n",
        "no central variables"
       ]
      },
      {
       "output_type": "stream",
       "stream": "stdout",
       "text": [
        "\n",
        "no central variables"
       ]
      },
      {
       "output_type": "stream",
       "stream": "stdout",
       "text": [
        "\n",
        "no central variables"
       ]
      },
      {
       "output_type": "stream",
       "stream": "stdout",
       "text": [
        "\n",
        "no central variables"
       ]
      },
      {
       "output_type": "stream",
       "stream": "stdout",
       "text": [
        "\n",
        "no central variables"
       ]
      },
      {
       "output_type": "stream",
       "stream": "stdout",
       "text": [
        "\n",
        "no central variables"
       ]
      },
      {
       "output_type": "stream",
       "stream": "stdout",
       "text": [
        "\n",
        "no central variables"
       ]
      },
      {
       "output_type": "stream",
       "stream": "stdout",
       "text": [
        "\n",
        "no central variables"
       ]
      },
      {
       "output_type": "stream",
       "stream": "stdout",
       "text": [
        "\n",
        "no central variables"
       ]
      },
      {
       "output_type": "stream",
       "stream": "stdout",
       "text": [
        "\n",
        "no central variables\n",
        "no central variables"
       ]
      },
      {
       "output_type": "stream",
       "stream": "stdout",
       "text": [
        "\n",
        "no central variables"
       ]
      },
      {
       "output_type": "stream",
       "stream": "stdout",
       "text": [
        "\n",
        "no central variables"
       ]
      },
      {
       "output_type": "stream",
       "stream": "stdout",
       "text": [
        "\n",
        "no central variables"
       ]
      },
      {
       "output_type": "stream",
       "stream": "stdout",
       "text": [
        "\n",
        "no central variables"
       ]
      },
      {
       "output_type": "stream",
       "stream": "stdout",
       "text": [
        "\n",
        "no central variables\n",
        "no central variables"
       ]
      },
      {
       "output_type": "stream",
       "stream": "stdout",
       "text": [
        "\n",
        "no central variables"
       ]
      },
      {
       "output_type": "stream",
       "stream": "stdout",
       "text": [
        "\n",
        "no central variables\n",
        "no central variables"
       ]
      },
      {
       "output_type": "stream",
       "stream": "stdout",
       "text": [
        "\n",
        "Processing article: 4397\n",
        "Processing article: 4400\n",
        "Processing article: 4430\n",
        "Processing article: 4434\n",
        "Processing article: 4436\n",
        "Dropping column MARITAL because it is constant\n",
        "Dropping column MARITAL because it is constant\n",
        "Dropping column"
       ]
      },
      {
       "output_type": "stream",
       "stream": "stdout",
       "text": [
        " MARITAL because it is constant\n",
        "Dropping column MARITAL because it is constant\n",
        "Dropping column MARITAL because it is constant\n",
        "Dropping column MARITAL because it is constant\n",
        "Dropping column MARITAL because it is constant\n",
        "Dropping column MARITAL because it is constant\n",
        "Dropping column MARITAL because it is constant\n",
        "Processing article: 4441\n",
        "Processing article:"
       ]
      },
      {
       "output_type": "stream",
       "stream": "stdout",
       "text": [
        " 4451\n",
        "Dropping column CHURHMEM because it is constant\n",
        "Dropping column CHURHMEM because it is constant\n",
        "Dropping column CHURHMEM because it is constant\n",
        "Dropping column CHURHMEM because it is constant\n",
        "Dropping column CHURHMEM because it is constant\n",
        "Processing article: 4454\n",
        "Processing article: 4456\n",
        "Dropping column MARITAL because it is constant\n",
        "Dropping column MARITAL because it is constant\n",
        "Dropping column"
       ]
      },
      {
       "output_type": "stream",
       "stream": "stdout",
       "text": [
        " MARITAL because it is constant\n",
        "Dropping column MARITAL because it is constant\n",
        "Dropping column MARITAL because it is constant\n",
        "Dropping column MARITAL because it is constant\n",
        "Dropping column MARITAL because it is constant\n",
        "Dropping column MARITAL because it is constant\n",
        "Dropping column MARITAL because it is constant\n",
        "Dropping column MARITAL because it is constant\n",
        "Dropping column MARITAL because it is constant\n",
        "Dropping column MARITAL because it is constant\n",
        "Processing article: 4477\n",
        "Processing article:"
       ]
      },
      {
       "output_type": "stream",
       "stream": "stdout",
       "text": [
        " 4483\n",
        "Processing article: 4484\n",
        "Processing article: 4528\n",
        "Processing article: 4580\n",
        "Processing article:"
       ]
      },
      {
       "output_type": "stream",
       "stream": "stdout",
       "text": [
        " 4596\n",
        "Processing article: 4599\n",
        "Processing article: 4614\n",
        "Dropping column FAMILY16 because it is constant\n",
        "Dropping column"
       ]
      },
      {
       "output_type": "stream",
       "stream": "stdout",
       "text": [
        " FAMILY16 because it is constant\n",
        "Processing article: 4617\n",
        "Processing article:"
       ]
      },
      {
       "output_type": "stream",
       "stream": "stdout",
       "text": [
        " 4618\n",
        "Processing article: 4619\n",
        "Processing article:"
       ]
      },
      {
       "output_type": "stream",
       "stream": "stdout",
       "text": [
        " 4620\n",
        "Processing article:"
       ]
      },
      {
       "output_type": "stream",
       "stream": "stdout",
       "text": [
        " 4651\n",
        "Processing article: 4684\n",
        "Dropping column RELIG because it is constant\n",
        "Dropping column RELIG because it is constant\n",
        "Dropping column RELIG because it is constant\n",
        "Dropping column"
       ]
      },
      {
       "output_type": "stream",
       "stream": "stdout",
       "text": [
        " RELIG because it is constant\n",
        "Dropping column RELIG because it is constant\n",
        "Processing article: 4685\n",
        "Processing article:"
       ]
      },
      {
       "output_type": "stream",
       "stream": "stdout",
       "text": [
        " 4715\n",
        "Processing article:"
       ]
      },
      {
       "output_type": "stream",
       "stream": "stdout",
       "text": [
        " 4743\n",
        "Dropping column MARITAL because it is constant\n",
        "Dropping column MARITAL because it is constant\n",
        "Dropping column MARITAL because it is constant\n",
        "Dropping column MARITAL because it is constant\n",
        "Dropping column MARITAL because it is constant\n",
        "Processing article: 4769\n",
        "Dropping column OVERSAMP because it is constant\n",
        "Dropping column OVERSAMP because it is constant\n",
        "Dropping column OVERSAMP because it is constant\n",
        "Dropping column"
       ]
      },
      {
       "output_type": "stream",
       "stream": "stdout",
       "text": [
        " OVERSAMP because it is constant\n",
        "Dropping column OVERSAMP because it is constant\n",
        "Dropping column OVERSAMP because it is constant\n",
        "Dropping column OVERSAMP because it is constant\n",
        "Dropping column OVERSAMP because it is constant\n",
        "Dropping column OVERSAMP because it is constant\n",
        "Dropping column"
       ]
      },
      {
       "output_type": "stream",
       "stream": "stdout",
       "text": [
        " OVERSAMP because it is constant\n",
        "Dropping column OVERSAMP because it is constant\n",
        "Dropping column OVERSAMP because it is constant\n",
        "Processing article: 4771\n",
        "Processing article:"
       ]
      },
      {
       "output_type": "stream",
       "stream": "stdout",
       "text": [
        " 4790\n",
        "Processing article:"
       ]
      },
      {
       "output_type": "stream",
       "stream": "stdout",
       "text": [
        " 4805\n",
        "Processing article: 4822\n",
        "Dropping column RACE because it is constant\n",
        "Processing article: 4828\n",
        "Processing article:"
       ]
      },
      {
       "output_type": "stream",
       "stream": "stdout",
       "text": [
        " 4836\n",
        "no central variables"
       ]
      },
      {
       "output_type": "stream",
       "stream": "stdout",
       "text": [
        "\n",
        "no central variables"
       ]
      },
      {
       "output_type": "stream",
       "stream": "stdout",
       "text": [
        "\n",
        "no central variables"
       ]
      },
      {
       "output_type": "stream",
       "stream": "stdout",
       "text": [
        "\n",
        "no central variables"
       ]
      },
      {
       "output_type": "stream",
       "stream": "stdout",
       "text": [
        "\n",
        "no central variables"
       ]
      },
      {
       "output_type": "stream",
       "stream": "stdout",
       "text": [
        "\n",
        "no central variables"
       ]
      },
      {
       "output_type": "stream",
       "stream": "stdout",
       "text": [
        "\n",
        "no central variables"
       ]
      },
      {
       "output_type": "stream",
       "stream": "stdout",
       "text": [
        "\n",
        "no central variables"
       ]
      },
      {
       "output_type": "stream",
       "stream": "stdout",
       "text": [
        "\n",
        "no central variables"
       ]
      },
      {
       "output_type": "stream",
       "stream": "stdout",
       "text": [
        "\n",
        "no central variables"
       ]
      },
      {
       "output_type": "stream",
       "stream": "stdout",
       "text": [
        "\n",
        "no central variables"
       ]
      },
      {
       "output_type": "stream",
       "stream": "stdout",
       "text": [
        "\n",
        "no central variables"
       ]
      },
      {
       "output_type": "stream",
       "stream": "stdout",
       "text": [
        "\n",
        "no central variables"
       ]
      },
      {
       "output_type": "stream",
       "stream": "stdout",
       "text": [
        "\n",
        "no central variables"
       ]
      },
      {
       "output_type": "stream",
       "stream": "stdout",
       "text": [
        "\n",
        "no central variables"
       ]
      },
      {
       "output_type": "stream",
       "stream": "stdout",
       "text": [
        "\n",
        "no central variables"
       ]
      },
      {
       "output_type": "stream",
       "stream": "stdout",
       "text": [
        "\n",
        "no central variables"
       ]
      },
      {
       "output_type": "stream",
       "stream": "stdout",
       "text": [
        "\n",
        "no central variables"
       ]
      },
      {
       "output_type": "stream",
       "stream": "stdout",
       "text": [
        "\n",
        "Processing article: 4854\n",
        "Processing article: 4887\n",
        "Processing article:"
       ]
      },
      {
       "output_type": "stream",
       "stream": "stdout",
       "text": [
        " 4929\n",
        "Processing article:"
       ]
      },
      {
       "output_type": "stream",
       "stream": "stdout",
       "text": [
        " 4935\n",
        "Processing article: 4936\n",
        "Processing article: 4948\n",
        "Processing article:"
       ]
      },
      {
       "output_type": "stream",
       "stream": "stdout",
       "text": [
        " 4950\n",
        "Dropping column"
       ]
      },
      {
       "output_type": "stream",
       "stream": "stdout",
       "text": [
        " MARITAL because it is constant\n",
        "Dropping column RELIG16 because it is constant\n",
        "Processing article:"
       ]
      },
      {
       "output_type": "stream",
       "stream": "stdout",
       "text": [
        " 4954\n",
        "Processing article:"
       ]
      },
      {
       "output_type": "stream",
       "stream": "stdout",
       "text": [
        " 4961\n",
        "Processing article:"
       ]
      },
      {
       "output_type": "stream",
       "stream": "stdout",
       "text": [
        " 4962\n",
        "Processing article:"
       ]
      },
      {
       "output_type": "stream",
       "stream": "stdout",
       "text": [
        " 4979\n",
        "Processing article:"
       ]
      },
      {
       "output_type": "stream",
       "stream": "stdout",
       "text": [
        " 4980\n",
        "Processing article: 4981\n",
        "Processing article: 5003\n",
        "Processing article:"
       ]
      },
      {
       "output_type": "stream",
       "stream": "stdout",
       "text": [
        " 5015\n",
        "Processing article:"
       ]
      },
      {
       "output_type": "stream",
       "stream": "stdout",
       "text": [
        " 5039\n",
        "Processing article:"
       ]
      },
      {
       "output_type": "stream",
       "stream": "stdout",
       "text": [
        " 5055\n",
        "Processing article: 5086\n",
        "Dropping column RACFEW because it is constant\n",
        "Dropping column RACHAF because it is constant\n",
        "Dropping column"
       ]
      },
      {
       "output_type": "stream",
       "stream": "stdout",
       "text": [
        " RACFEW because it is constant\n",
        "Dropping column RACHAF because it is constant\n",
        "Dropping column"
       ]
      },
      {
       "output_type": "stream",
       "stream": "stdout",
       "text": [
        " RACFEW because it is constant\n",
        "Dropping column RACHAF because it is constant\n",
        "Dropping column"
       ]
      },
      {
       "output_type": "stream",
       "stream": "stdout",
       "text": [
        " RACFEW because it is constant\n",
        "Dropping column RACHAF because it is constant\n",
        "Dropping column"
       ]
      },
      {
       "output_type": "stream",
       "stream": "stdout",
       "text": [
        " RACFEW because it is constant\n",
        "Dropping column RACHAF because it is constant\n",
        "Dropping column"
       ]
      },
      {
       "output_type": "stream",
       "stream": "stdout",
       "text": [
        " RACFEW because it is constant\n",
        "Dropping column RACHAF because it is constant\n",
        "Dropping column"
       ]
      },
      {
       "output_type": "stream",
       "stream": "stdout",
       "text": [
        " RACFEW because it is constant\n",
        "Dropping column RACHAF because it is constant\n",
        "Dropping column"
       ]
      },
      {
       "output_type": "stream",
       "stream": "stdout",
       "text": [
        " RACFEW because it is constant\n",
        "Dropping column RACHAF because it is constant\n",
        "Dropping column"
       ]
      },
      {
       "output_type": "stream",
       "stream": "stdout",
       "text": [
        " RACFEW because it is constant\n",
        "Dropping column RACHAF because it is constant\n",
        "Dropping column"
       ]
      },
      {
       "output_type": "stream",
       "stream": "stdout",
       "text": [
        " RACFEW because it is constant\n",
        "Dropping column RACHAF because it is constant\n",
        "Dropping column"
       ]
      },
      {
       "output_type": "stream",
       "stream": "stdout",
       "text": [
        " RACFEW because it is constant\n",
        "Dropping column RACHAF because it is constant\n",
        "Processing article:"
       ]
      },
      {
       "output_type": "stream",
       "stream": "stdout",
       "text": [
        " 5088\n",
        "Processing article:"
       ]
      },
      {
       "output_type": "stream",
       "stream": "stdout",
       "text": [
        " 5091\n",
        "Dropping column RELIG because it is constant\n",
        "Dropping column RELIG because it is constant\n",
        "Dropping column RELIG because it is constant\n",
        "Dropping column RELIG because it is constant\n",
        "Dropping column RELIG because it is constant\n",
        "Dropping column RELIG because it is constant\n",
        "Dropping column RELIG because it is constant\n",
        "Dropping column RELIG because it is constant\n",
        "Dropping column RELIG because it is constant\n",
        "Dropping column RELIG because it is constant\n",
        "Dropping column RELIG because it is constant\n",
        "Dropping column RELIG because it is constant\n",
        "Dropping column RELIG because it is constant\n",
        "Dropping column RELIG because it is constant\n",
        "Dropping column RELIG because it is constant\n",
        "Dropping column RELIG because it is constant\n",
        "Dropping column"
       ]
      },
      {
       "output_type": "stream",
       "stream": "stdout",
       "text": [
        " RELIG because it is constant\n",
        "Dropping column RELIG because it is constant\n",
        "Dropping column RELIG because it is constant\n",
        "Dropping column RELIG because it is constant\n",
        "Dropping column RELIG because it is constant\n",
        "Dropping column RELIG because it is constant\n",
        "Dropping column RELIG because it is constant\n",
        "Dropping column RELIG because it is constant\n",
        "Dropping column RELIG because it is constant\n",
        "Dropping column RELIG because it is constant\n",
        "Dropping column RELIG because it is constant\n",
        "Dropping column RELIG because it is constant\n",
        "Dropping column RELIG because it is constant\n",
        "Dropping column RELIG because it is constant\n",
        "Dropping column RELIG because it is constant\n",
        "Dropping column RELIG because it is constant\n",
        "Dropping column RELIG because it is constant\n",
        "Dropping column"
       ]
      },
      {
       "output_type": "stream",
       "stream": "stdout",
       "text": [
        " RELIG because it is constant\n",
        "Dropping column RELIG because it is constant\n",
        "Dropping column RELIG because it is constant\n",
        "Dropping column RELIG because it is constant\n",
        "Dropping column RELIG because it is constant\n",
        "Dropping column RELIG because it is constant\n",
        "Dropping column RELIG because it is constant\n",
        "Dropping column RELIG because it is constant\n",
        "Dropping column RELIG because it is constant\n",
        "Dropping column RELIG because it is constant\n",
        "Dropping column RELIG because it is constant\n",
        "Dropping column RELIG because it is constant\n",
        "Dropping column RELIG because it is constant\n",
        "Dropping column RELIG because it is constant\n",
        "Dropping column RELIG because it is constant\n",
        "Dropping column RELIG because it is constant\n",
        "Dropping column RELIG because it is constant\n",
        "Dropping column"
       ]
      },
      {
       "output_type": "stream",
       "stream": "stdout",
       "text": [
        " RELIG because it is constant\n",
        "Dropping column RELIG because it is constant\n",
        "Dropping column RELIG because it is constant\n",
        "Dropping column RELIG because it is constant\n",
        "Dropping column RELIG because it is constant\n",
        "Dropping column RELIG because it is constant\n",
        "Processing article: 5093\n",
        "Processing article:"
       ]
      },
      {
       "output_type": "stream",
       "stream": "stdout",
       "text": [
        " 5096\n",
        "Processing article:"
       ]
      },
      {
       "output_type": "stream",
       "stream": "stdout",
       "text": [
        " 5103\n",
        "Processing article: 5170\n",
        "Processing article:"
       ]
      },
      {
       "output_type": "stream",
       "stream": "stdout",
       "text": [
        " 5210\n",
        "Dropping column MARITAL because it is constant\n",
        "Dropping column MARITAL because it is constant\n",
        "Dropping column MARITAL because it is constant\n",
        "Dropping column MARITAL because it is constant\n",
        "Dropping column MARITAL because it is constant\n",
        "Dropping column MARITAL because it is constant\n",
        "Dropping column MARITAL because it is constant\n",
        "Dropping column"
       ]
      },
      {
       "output_type": "stream",
       "stream": "stdout",
       "text": [
        " MARITAL because it is constant\n",
        "Dropping column MARITAL because it is constant\n",
        "Dropping column MARITAL because it is constant\n",
        "Dropping column MARITAL because it is constant\n",
        "Dropping column MARITAL because it is constant\n",
        "Dropping column MARITAL because it is constant\n",
        "Dropping column MARITAL because it is constant\n",
        "Dropping column MARITAL because it is constant\n",
        "Dropping column MARITAL because it is constant\n",
        "Dropping column"
       ]
      },
      {
       "output_type": "stream",
       "stream": "stdout",
       "text": [
        " MARITAL because it is constant\n",
        "Dropping column MARITAL because it is constant\n",
        "Dropping column MARITAL because it is constant\n",
        "Dropping column MARITAL because it is constant\n",
        "Dropping column MARITAL because it is constant\n",
        "Dropping column MARITAL because it is constant\n",
        "Dropping column MARITAL because it is constant\n",
        "Dropping column MARITAL because it is constant\n",
        "Dropping column"
       ]
      },
      {
       "output_type": "stream",
       "stream": "stdout",
       "text": [
        " MARITAL because it is constant\n",
        "Dropping column MARITAL because it is constant\n",
        "Dropping column MARITAL because it is constant\n",
        "Dropping column MARITAL because it is constant\n",
        "Dropping column MARITAL because it is constant\n",
        "Dropping column MARITAL because it is constant\n",
        "Dropping column MARITAL because it is constant\n",
        "Dropping column MARITAL because it is constant\n",
        "Dropping column"
       ]
      },
      {
       "output_type": "stream",
       "stream": "stdout",
       "text": [
        " MARITAL because it is constant\n",
        "Dropping column MARITAL because it is constant\n",
        "Processing article: 5216\n",
        "Processing article: 5219\n",
        "Processing article:"
       ]
      },
      {
       "output_type": "stream",
       "stream": "stdout",
       "text": [
        " 5226\n",
        "Processing article: 5242\n",
        "Processing article:"
       ]
      },
      {
       "output_type": "stream",
       "stream": "stdout",
       "text": [
        " 5243\n",
        "Processing article:"
       ]
      },
      {
       "output_type": "stream",
       "stream": "stdout",
       "text": [
        " 5283\n",
        "Dropping column RELIG because it is constant\n",
        "Dropping column RELIG because it is constant\n",
        "Dropping column RELIG because it is constant\n",
        "Dropping column RELIG because it is constant\n",
        "Dropping column RELIG because it is constant\n",
        "Dropping column RELIG because it is constant\n",
        "Processing article: 5295\n",
        "Processing article:"
       ]
      },
      {
       "output_type": "stream",
       "stream": "stdout",
       "text": [
        " 5356\n",
        "Processing article:"
       ]
      },
      {
       "output_type": "stream",
       "stream": "stdout",
       "text": [
        " 5360\n",
        "Processing article:"
       ]
      },
      {
       "output_type": "stream",
       "stream": "stdout",
       "text": [
        " 5374\n",
        "Dropping column RELIG because it is constant\n",
        "Dropping column MARITAL because it is constant\n",
        "Dropping column RELIG because it is constant\n",
        "Dropping column MARITAL because it is constant\n",
        "Dropping column RELIG because it is constant\n",
        "Dropping column MARITAL because it is constant\n",
        "Dropping column RELIG because it is constant\n",
        "Dropping column MARITAL because it is constant\n",
        "Dropping column RELIG because it is constant\n",
        "Dropping column MARITAL because it is constant\n",
        "Dropping column RELIG because it is constant\n",
        "Dropping column MARITAL because it is constant\n",
        "Processing article: 5377\n",
        "Dropping column RELIG because it is constant\n",
        "Dropping column MARITAL because it is constant\n",
        "Dropping column RELIG because it is constant\n",
        "Dropping column MARITAL because it is constant\n",
        "Dropping column RELIG because it is constant\n",
        "Dropping column"
       ]
      },
      {
       "output_type": "stream",
       "stream": "stdout",
       "text": [
        " MARITAL because it is constant\n",
        "Dropping column RELIG because it is constant\n",
        "Dropping column MARITAL because it is constant\n",
        "Processing article: 5390\n",
        "Processing article: 5402\n",
        "Dropping column RELIG because it is constant\n",
        "Dropping column RELIG because it is constant\n",
        "Processing article: 5407\n",
        "Processing article:"
       ]
      },
      {
       "output_type": "stream",
       "stream": "stdout",
       "text": [
        " 5419\n",
        "Processing article: 5448\n",
        "Processing article:"
       ]
      },
      {
       "output_type": "stream",
       "stream": "stdout",
       "text": [
        " 5454\n",
        "Processing article:"
       ]
      },
      {
       "output_type": "stream",
       "stream": "stdout",
       "text": [
        " 5455\n",
        "Processing article: 5465\n",
        "Dropping column RELIG because it is constant\n",
        "Dropping column DENOM because it is constant\n",
        "Dropping column RELIG because it is constant\n",
        "Dropping column DENOM because it is constant\n",
        "Dropping column RELIG because it is constant\n",
        "Dropping column DENOM because it is constant\n",
        "Dropping column RELIG because it is constant\n",
        "Dropping column DENOM because it is constant\n",
        "Dropping column"
       ]
      },
      {
       "output_type": "stream",
       "stream": "stdout",
       "text": [
        " RELIG because it is constant\n",
        "Dropping column DENOM because it is constant\n",
        "Dropping column RELIG because it is constant\n",
        "Dropping column DENOM because it is constant\n",
        "Dropping column RELIG because it is constant\n",
        "Dropping column DENOM because it is constant\n",
        "Dropping column RELIG because it is constant\n",
        "Dropping column DENOM because it is constant\n",
        "Dropping column RELIG because it is constant\n",
        "Dropping column DENOM because it is constant\n",
        "Dropping column RELIG because it is constant\n",
        "Dropping column DENOM because it is constant\n",
        "Dropping column RELIG because it is constant\n",
        "Dropping column DENOM because it is constant\n",
        "Dropping column RELIG because it is constant\n",
        "Dropping column DENOM because it is constant\n",
        "Dropping column RELIG because it is constant\n",
        "Dropping column DENOM because it is constant\n",
        "Dropping column"
       ]
      },
      {
       "output_type": "stream",
       "stream": "stdout",
       "text": [
        " RELIG because it is constant\n",
        "Dropping column DENOM because it is constant\n",
        "Dropping column RELIG because it is constant\n",
        "Dropping column DENOM because it is constant\n",
        "Dropping column RELIG because it is constant\n",
        "Dropping column DENOM because it is constant\n",
        "Dropping column RELIG because it is constant\n",
        "Dropping column DENOM because it is constant\n",
        "Dropping column RELIG because it is constant\n",
        "Dropping column DENOM because it is constant\n",
        "Processing article: 5467\n",
        "Processing article:"
       ]
      },
      {
       "output_type": "stream",
       "stream": "stdout",
       "text": [
        " 5484\n",
        "Processing article:"
       ]
      },
      {
       "output_type": "stream",
       "stream": "stdout",
       "text": [
        " 5493\n",
        "Dropping column RELIG16 because it is constant\n",
        "Dropping column MARITAL because it is constant\n",
        "Dropping column SPREL because it is constant\n",
        "Dropping column RELIG16 because it is constant\n",
        "Dropping column MARITAL because it is constant\n",
        "Dropping column SPREL because it is constant\n",
        "Dropping column RELIG16 because it is constant\n",
        "Dropping column MARITAL because it is constant\n",
        "Dropping column SPREL because it is constant\n",
        "Dropping column RELIG16 because it is constant\n",
        "Dropping column MARITAL because it is constant\n",
        "Dropping column SPREL because it is constant\n",
        "Processing article: 5498\n",
        "Processing article:"
       ]
      },
      {
       "output_type": "stream",
       "stream": "stdout",
       "text": [
        " 5502\n",
        "Processing article: 5542\n",
        "Processing article: 5547\n",
        "Dropping column RELIG because it is constant\n",
        "Processing article: 5548\n",
        "Processing article: 5549\n",
        "Dropping column RELIG because it is constant\n",
        "Processing article: 5556\n",
        "Processing article:"
       ]
      },
      {
       "output_type": "stream",
       "stream": "stdout",
       "text": [
        " 5565\n",
        "Processing article: 5577\n",
        "Processing article:"
       ]
      },
      {
       "output_type": "stream",
       "stream": "stdout",
       "text": [
        " 5588\n",
        "Processing article:"
       ]
      },
      {
       "output_type": "stream",
       "stream": "stdout",
       "text": [
        " 5625\n",
        "Dropping column RELIG because it is constant\n",
        "Dropping column RELIG because it is constant\n",
        "Dropping column RELIG because it is constant\n",
        "Dropping column RELIG because it is constant\n",
        "Dropping column RELIG because it is constant\n",
        "Dropping column RELIG because it is constant\n",
        "Processing article: 5658\n",
        "Processing article:"
       ]
      },
      {
       "output_type": "stream",
       "stream": "stdout",
       "text": [
        " 5674\n",
        "Processing article: 5681\n",
        "Processing article: 5704\n",
        "Not enough observations. Skipping...\n",
        "Not enough observations. Skipping..."
       ]
      },
      {
       "output_type": "stream",
       "stream": "stdout",
       "text": [
        "\n",
        "Not enough observations. Skipping...\n",
        "Not enough observations. Skipping...\n",
        "Not enough observations. Skipping...\n",
        "Not enough observations. Skipping...\n",
        "Not enough observations. Skipping...\n",
        "Processing article: 5750\n",
        "Processing article:"
       ]
      },
      {
       "output_type": "stream",
       "stream": "stdout",
       "text": [
        " 5756\n",
        "Processing article:"
       ]
      },
      {
       "output_type": "stream",
       "stream": "stdout",
       "text": [
        " 5779\n",
        "Processing article:"
       ]
      },
      {
       "output_type": "stream",
       "stream": "stdout",
       "text": [
        " 5783\n",
        "Processing article:"
       ]
      },
      {
       "output_type": "stream",
       "stream": "stdout",
       "text": [
        " 5804\n",
        "Processing article: 5833\n",
        "Processing article: 5838\n",
        "Dropping column"
       ]
      },
      {
       "output_type": "stream",
       "stream": "stdout",
       "text": [
        " RELIG because it is constant\n",
        "Dropping column MARITAL because it is constant\n",
        "Dropping column RELIG because it is constant\n",
        "Dropping column MARITAL because it is constant\n",
        "Dropping column RELIG because it is constant\n",
        "Dropping column MARITAL because it is constant\n",
        "Dropping column RELIG because it is constant\n",
        "Dropping column MARITAL because it is constant\n",
        "Dropping column RELIG because it is constant\n",
        "Dropping column MARITAL because it is constant\n",
        "Dropping column RELIG because it is constant\n",
        "Dropping column MARITAL because it is constant\n",
        "Dropping column RELIG because it is constant\n",
        "Dropping column MARITAL because it is constant\n",
        "Dropping column RELIG because it is constant\n",
        "Dropping column MARITAL because it is constant\n",
        "Dropping column RELIG because it is constant\n",
        "Dropping column MARITAL because it is constant\n",
        "Dropping column RELIG because it is constant\n",
        "Dropping column MARITAL because it is constant\n",
        "Dropping column"
       ]
      },
      {
       "output_type": "stream",
       "stream": "stdout",
       "text": [
        " RELIG because it is constant\n",
        "Dropping column MARITAL because it is constant\n",
        "Dropping column RELIG because it is constant\n",
        "Dropping column MARITAL because it is constant\n",
        "Dropping column RELIG because it is constant\n",
        "Dropping column MARITAL because it is constant\n",
        "Dropping column RELIG because it is constant\n",
        "Dropping column MARITAL because it is constant\n",
        "Dropping column RELIG because it is constant\n",
        "Dropping column MARITAL because it is constant\n",
        "Dropping column RELIG because it is constant\n",
        "Dropping column MARITAL because it is constant\n",
        "Dropping column RELIG because it is constant\n",
        "Dropping column MARITAL because it is constant\n",
        "Processing article: 5839\n",
        "Not enough observations. Skipping...\n",
        "Not enough observations. Skipping...\n",
        "Not enough observations. Skipping...\n",
        "Not enough observations. Skipping..."
       ]
      },
      {
       "output_type": "stream",
       "stream": "stdout",
       "text": [
        "\n",
        "Not enough observations. Skipping...\n",
        "Not enough observations. Skipping...\n",
        "Not enough observations. Skipping...\n",
        "Not enough observations. Skipping...\n",
        "Not enough observations. Skipping...\n",
        "Not enough observations. Skipping...\n",
        "Not enough observations. Skipping...\n",
        "Not enough observations. Skipping...\n",
        "Not enough observations. Skipping...\n",
        "Not enough observations. Skipping...\n",
        "Not enough observations. Skipping...\n",
        "Not enough observations. Skipping..."
       ]
      },
      {
       "output_type": "stream",
       "stream": "stdout",
       "text": [
        "\n",
        "Not enough observations. Skipping...\n",
        "Processing article: 5850\n",
        "Processing article:"
       ]
      },
      {
       "output_type": "stream",
       "stream": "stdout",
       "text": [
        " 5862\n",
        "Processing article: 5877\n",
        "Dropping column RELIG because it is constant\n",
        "Dropping column RELIG because it is constant\n",
        "Dropping column RELIG because it is constant\n",
        "Dropping column RELIG because it is constant\n",
        "Dropping column RELIG because it is constant\n",
        "Dropping column RELIG because it is constant\n",
        "Dropping column RELIG because it is constant\n",
        "Dropping column RELIG because it is constant\n",
        "Processing article: 5926\n",
        "Processing article:"
       ]
      },
      {
       "output_type": "stream",
       "stream": "stdout",
       "text": [
        " 5936\n",
        "Processing article: 5944\n",
        "Processing article:"
       ]
      },
      {
       "output_type": "stream",
       "stream": "stdout",
       "text": [
        " 5949\n",
        "Processing article:"
       ]
      },
      {
       "output_type": "stream",
       "stream": "stdout",
       "text": [
        " 5953\n",
        "Processing article:"
       ]
      },
      {
       "output_type": "stream",
       "stream": "stdout",
       "text": [
        " 5973\n",
        "Dropping column MAWORK because it is constant\n",
        "Dropping column MAWORK because it is constant\n",
        "Dropping column MAWORK because it is constant\n",
        "Dropping column MAWORK because it is constant\n",
        "Dropping column"
       ]
      },
      {
       "output_type": "stream",
       "stream": "stdout",
       "text": [
        " MAWORK because it is constant\n",
        "Dropping column MAWORK because it is constant\n",
        "Dropping column MAWORK because it is constant\n",
        "Dropping column MAWORK because it is constant\n",
        "Dropping column MAWORK because it is constant\n",
        "Dropping column MAWORK because it is constant\n",
        "Dropping column MAWORK because it is constant\n",
        "Dropping column"
       ]
      },
      {
       "output_type": "stream",
       "stream": "stdout",
       "text": [
        " MAWORK because it is constant\n",
        "Dropping column MAWORK because it is constant\n",
        "Dropping column MAWORK because it is constant\n",
        "Dropping column MAWORK because it is constant\n",
        "Dropping column MAWORK because it is constant\n",
        "Processing article: 5982\n",
        "Processing article:"
       ]
      },
      {
       "output_type": "stream",
       "stream": "stdout",
       "text": [
        " 5985\n",
        "Processing article:"
       ]
      },
      {
       "output_type": "stream",
       "stream": "stdout",
       "text": [
        " 6007\n",
        "Processing article: 6060\n",
        "Processing article: 6074\n",
        "Not enough observations. Skipping...\n",
        "Processing article: 6081\n",
        "Processing article:"
       ]
      },
      {
       "output_type": "stream",
       "stream": "stdout",
       "text": [
        " 6101\n",
        "Processing article:"
       ]
      },
      {
       "output_type": "stream",
       "stream": "stdout",
       "text": [
        " 6112\n",
        "Processing article: 6113\n",
        "Dropping column WKSUB because it is constant\n",
        "Dropping column WKSUP because it is constant\n",
        "Dropping column WKSUB because it is constant\n",
        "Dropping column WKSUP because it is constant\n",
        "Dropping column WKSUB because it is constant\n",
        "Dropping column WKSUP because it is constant\n",
        "Dropping column WKSUB because it is constant\n",
        "Dropping column WKSUP because it is constant\n",
        "Dropping column WKSUB because it is constant\n",
        "Dropping column WKSUP because it is constant\n",
        "Dropping column WKSUB because it is constant\n",
        "Dropping column WKSUP because it is constant\n",
        "Dropping column WKSUB because it is constant\n",
        "Dropping column WKSUP because it is constant\n",
        "Dropping column WKSUB because it is constant\n",
        "Dropping column WKSUP because it is constant\n",
        "Dropping column WKSUB because it is constant\n",
        "Dropping column WKSUP because it is constant\n",
        "Dropping column WKSUB because it is constant\n",
        "Dropping column WKSUP because it is constant\n",
        "Processing article: 6136\n",
        "Processing article:"
       ]
      },
      {
       "output_type": "stream",
       "stream": "stdout",
       "text": [
        " 6156\n",
        "Processing article: 6160\n",
        "Dropping column WKSUB because it is constant\n",
        "Dropping column WKSUB because it is constant\n",
        "Dropping column WKSUB because it is constant\n",
        "Dropping column WKSUB because it is constant\n",
        "Dropping column WKSUB because it is constant\n",
        "Dropping column WKSUB because it is constant\n",
        "Processing article: 6161\n",
        "Dropping column"
       ]
      },
      {
       "output_type": "stream",
       "stream": "stdout",
       "text": [
        " WKSUB because it is constant\n",
        "Dropping column WKSUP because it is constant\n",
        "Dropping column WKSUB because it is constant\n",
        "Dropping column WKSUP because it is constant\n",
        "Processing article: 6188\n",
        "Dropping column RELIG because it is constant\n",
        "Dropping column RELIG because it is constant\n",
        "Dropping column RELIG because it is constant\n",
        "Dropping column RELIG because it is constant\n",
        "Processing article: 6190\n",
        "Dropping column RELIG because it is constant\n",
        "Dropping column RELIG because it is constant\n",
        "Dropping column RELIG because it is constant\n",
        "Dropping column RELIG because it is constant\n",
        "Dropping column RELIG because it is constant\n",
        "Dropping column RELIG because it is constant\n",
        "Dropping column RELIG because it is constant\n",
        "Processing article: 6197\n",
        "Not enough observations. Skipping..."
       ]
      },
      {
       "output_type": "stream",
       "stream": "stdout",
       "text": [
        "\n",
        "Not enough observations. Skipping...\n",
        "Not enough observations. Skipping...\n",
        "Processing article: 6202\n",
        "Processing article:"
       ]
      },
      {
       "output_type": "stream",
       "stream": "stdout",
       "text": [
        " 6268\n",
        "Processing article: 6285\n",
        "Processing article:"
       ]
      },
      {
       "output_type": "stream",
       "stream": "stdout",
       "text": [
        " 6306\n",
        "Processing article: 6332\n",
        "Dropping column RELIG16 because it is constant\n",
        "Dropping column DENOM16 because it is constant\n",
        "Dropping column RELIG because it is constant\n",
        "Dropping column DENOM because it is constant\n",
        "Dropping column RELIG16 because it is constant\n",
        "Dropping column DENOM16 because it is constant\n",
        "Dropping column RELIG because it is constant\n",
        "Dropping column DENOM because it is constant\n",
        "Dropping column"
       ]
      },
      {
       "output_type": "stream",
       "stream": "stdout",
       "text": [
        " RELIG16 because it is constant\n",
        "Dropping column DENOM16 because it is constant\n",
        "Dropping column RELIG because it is constant\n",
        "Dropping column DENOM because it is constant\n",
        "Dropping column RELIG16 because it is constant\n",
        "Dropping column DENOM16 because it is constant\n",
        "Dropping column RELIG because it is constant\n",
        "Dropping column DENOM because it is constant\n",
        "Dropping column RELIG16 because it is constant\n",
        "Dropping column DENOM16 because it is constant\n",
        "Dropping column RELIG because it is constant\n",
        "Dropping column DENOM because it is constant\n",
        "Dropping column RELIG16 because it is constant\n",
        "Dropping column DENOM16 because it is constant\n",
        "Dropping column RELIG because it is constant\n",
        "Dropping column DENOM because it is constant\n",
        "Dropping column RELIG16 because it is constant\n",
        "Dropping column DENOM16 because it is constant\n",
        "Dropping column RELIG because it is constant\n",
        "Dropping column DENOM because it is constant\n",
        "Dropping column RELIG16 because it is constant\n",
        "Dropping column DENOM16 because it is constant\n",
        "Dropping column RELIG because it is constant\n",
        "Dropping column DENOM because it is constant\n",
        "Dropping column RELIG16 because it is constant\n",
        "Dropping column DENOM16 because it is constant\n",
        "Dropping column RELIG because it is constant\n",
        "Dropping column DENOM because it is constant\n",
        "Dropping column"
       ]
      },
      {
       "output_type": "stream",
       "stream": "stdout",
       "text": [
        " RELIG16 because it is constant\n",
        "Dropping column DENOM16 because it is constant\n",
        "Dropping column RELIG because it is constant\n",
        "Dropping column DENOM because it is constant\n",
        "Dropping column RELIG16 because it is constant\n",
        "Dropping column DENOM16 because it is constant\n",
        "Dropping column RELIG because it is constant\n",
        "Dropping column DENOM because it is constant\n",
        "Dropping column RELIG16 because it is constant\n",
        "Dropping column DENOM16 because it is constant\n",
        "Dropping column RELIG because it is constant\n",
        "Dropping column DENOM because it is constant\n",
        "Dropping column RELIG16 because it is constant\n",
        "Dropping column DENOM16 because it is constant\n",
        "Dropping column RELIG because it is constant\n",
        "Dropping column DENOM because it is constant\n",
        "Dropping column RELIG16 because it is constant\n",
        "Dropping column DENOM16 because it is constant\n",
        "Dropping column RELIG because it is constant\n",
        "Dropping column DENOM because it is constant\n",
        "Dropping column RELIG16 because it is constant\n",
        "Dropping column DENOM16 because it is constant\n",
        "Dropping column RELIG because it is constant\n",
        "Dropping column DENOM because it is constant\n",
        "Processing article: 6333\n",
        "Dropping column RELIG16 because it is constant\n",
        "Dropping column SPREL because it is constant\n",
        "Dropping column SPDEN because it is constant\n",
        "Dropping column RELIG because it is constant\n",
        "Dropping column MARITAL because it is constant\n",
        "Dropping column RELIG16 because it is constant\n",
        "Dropping column DENOM16 because it is constant\n",
        "Dropping column SPREL because it is constant\n",
        "Dropping column SPDEN because it is constant\n",
        "Dropping column RELIG because it is constant\n",
        "Dropping column DENOM because it is constant\n",
        "Dropping column MARITAL because it is constant\n",
        "Dropping column"
       ]
      },
      {
       "output_type": "stream",
       "stream": "stdout",
       "text": [
        " RELIG16 because it is constant\n",
        "Dropping column DENOM16 because it is constant\n",
        "Dropping column SPREL because it is constant\n",
        "Dropping column SPDEN because it is constant\n",
        "Dropping column RELIG because it is constant\n",
        "Dropping column DENOM because it is constant\n",
        "Dropping column MARITAL because it is constant\n",
        "Dropping column RELIG16 because it is constant\n",
        "Dropping column DENOM16 because it is constant\n",
        "Dropping column SPREL because it is constant\n",
        "Dropping column SPDEN because it is constant\n",
        "Dropping column RELIG because it is constant\n",
        "Dropping column DENOM because it is constant\n",
        "Dropping column RACE because it is constant\n",
        "Dropping column MARITAL because it is constant\n",
        "Dropping column RELIG16 because it is constant\n",
        "Dropping column DENOM16 because it is constant\n",
        "Dropping column SPREL because it is constant\n",
        "Dropping column SPDEN because it is constant\n",
        "Dropping column RELIG because it is constant\n",
        "Dropping column DENOM because it is constant\n",
        "Dropping column RACE because it is constant\n",
        "Dropping column MARITAL because it is constant\n",
        "Dropping column RELIG16 because it is constant\n",
        "Dropping column DENOM16 because it is constant\n",
        "Dropping column SPREL because it is constant\n",
        "Dropping column SPDEN because it is constant\n",
        "Dropping column RELIG because it is constant\n",
        "Dropping column DENOM because it is constant\n",
        "Dropping column MARITAL because it is constant\n",
        "Dropping column RELIG16 because it is constant\n",
        "Dropping column DENOM16 because it is constant\n",
        "Dropping column SPREL because it is constant\n",
        "Dropping column SPDEN because it is constant\n",
        "Dropping column RELIG because it is constant\n",
        "Dropping column DENOM because it is constant\n",
        "Dropping column MARITAL because it is constant\n",
        "Dropping column"
       ]
      },
      {
       "output_type": "stream",
       "stream": "stdout",
       "text": [
        " RELIG16 because it is constant\n",
        "Dropping column DENOM16 because it is constant\n",
        "Dropping column SPREL because it is constant\n",
        "Dropping column SPDEN because it is constant\n",
        "Dropping column RELIG because it is constant\n",
        "Dropping column DENOM because it is constant\n",
        "Dropping column MARITAL because it is constant\n",
        "Dropping column RELIG16 because it is constant\n",
        "Dropping column DENOM16 because it is constant\n",
        "Dropping column SPREL because it is constant\n",
        "Dropping column SPDEN because it is constant\n",
        "Dropping column RELIG because it is constant\n",
        "Dropping column DENOM because it is constant\n",
        "Dropping column MARITAL because it is constant\n",
        "Dropping column RELIG16 because it is constant\n",
        "Dropping column DENOM16 because it is constant\n",
        "Dropping column SPREL because it is constant\n",
        "Dropping column SPDEN because it is constant\n",
        "Dropping column RELIG because it is constant\n",
        "Dropping column DENOM because it is constant\n",
        "Dropping column MARITAL because it is constant\n",
        "Dropping column RELIG16 because it is constant\n",
        "Dropping column DENOM16 because it is constant\n",
        "Dropping column SPREL because it is constant\n",
        "Dropping column SPDEN because it is constant\n",
        "Dropping column RELIG because it is constant\n",
        "Dropping column DENOM because it is constant\n",
        "Dropping column MARITAL because it is constant\n",
        "Dropping column RELIG16 because it is constant\n",
        "Dropping column DENOM16 because it is constant\n",
        "Dropping column SPREL because it is constant\n",
        "Dropping column SPDEN because it is constant\n",
        "Dropping column RELIG because it is constant\n",
        "Dropping column DENOM because it is constant\n",
        "Dropping column MARITAL because it is constant\n",
        "Dropping column RELIG16 because it is constant\n",
        "Dropping column DENOM16 because it is constant\n",
        "Dropping column SPREL because it is constant\n",
        "Dropping column SPDEN because it is constant\n",
        "Dropping column RELIG because it is constant\n",
        "Dropping column DENOM because it is constant\n",
        "Dropping column MARITAL because it is constant\n",
        "Dropping column"
       ]
      },
      {
       "output_type": "stream",
       "stream": "stdout",
       "text": [
        " RELIG16 because it is constant\n",
        "Dropping column DENOM16 because it is constant\n",
        "Dropping column SPREL because it is constant\n",
        "Dropping column SPDEN because it is constant\n",
        "Dropping column RELIG because it is constant\n",
        "Dropping column DENOM because it is constant\n",
        "Dropping column MARITAL because it is constant\n",
        "Dropping column RELIG16 because it is constant\n",
        "Dropping column DENOM16 because it is constant\n",
        "Dropping column SPREL because it is constant\n",
        "Dropping column SPDEN because it is constant\n",
        "Dropping column RELIG because it is constant\n",
        "Dropping column DENOM because it is constant\n",
        "Dropping column MARITAL because it is constant\n",
        "Processing article: 6336\n",
        "Dropping column RELIG because it is constant\n",
        "Dropping column RELIG because it is constant\n",
        "Dropping column RELIG because it is constant\n",
        "Dropping column RELIG because it is constant\n",
        "Dropping column RELIG because it is constant\n",
        "Dropping column RELIG because it is constant\n",
        "Dropping column RELIG because it is constant\n",
        "Processing article: 6340\n",
        "Processing article:"
       ]
      },
      {
       "output_type": "stream",
       "stream": "stdout",
       "text": [
        " 6342\n",
        "Processing article: 6343\n",
        "Processing article: 6345\n",
        "Dropping column RELIG16 because it is constant\n",
        "Dropping column RELIG16 because it is constant\n",
        "Dropping column DENOM16 because it is constant\n",
        "Dropping column"
       ]
      },
      {
       "output_type": "stream",
       "stream": "stdout",
       "text": [
        " RELIG16 because it is constant\n",
        "Dropping column DENOM16 because it is constant\n",
        "Dropping column RELIG16 because it is constant\n",
        "Dropping column DENOM16 because it is constant\n",
        "Dropping column RELIG16 because it is constant\n",
        "Dropping column RELIG16 because it is constant\n",
        "Dropping column DENOM16 because it is constant\n",
        "Dropping column RELIG16 because it is constant\n",
        "Dropping column DENOM16 because it is constant\n",
        "Dropping column RELIG16 because it is constant\n",
        "Dropping column DENOM16 because it is constant\n",
        "Dropping column RELIG16 because it is constant\n",
        "Dropping column RELIG16 because it is constant\n",
        "Dropping column DENOM16 because it is constant\n",
        "Dropping column RELIG16 because it is constant\n",
        "Dropping column DENOM16 because it is constant\n",
        "Dropping column RELIG16 because it is constant\n",
        "Dropping column DENOM16 because it is constant\n",
        "Processing article: 6363\n",
        "Processing article:"
       ]
      },
      {
       "output_type": "stream",
       "stream": "stdout",
       "text": [
        " 6364\n",
        "Processing article: 6439\n",
        "Dropping column RELIG because it is constant\n",
        "Dropping column RELIG because it is constant\n",
        "Dropping column RELIG because it is constant\n",
        "Dropping column"
       ]
      },
      {
       "output_type": "stream",
       "stream": "stdout",
       "text": [
        " RELIG because it is constant\n",
        "Dropping column RELIG because it is constant\n",
        "Dropping column RELIG because it is constant\n",
        "Dropping column RELIG because it is constant\n",
        "Dropping column RELIG because it is constant\n",
        "Dropping column RELIG because it is constant\n",
        "Dropping column RELIG because it is constant\n",
        "Dropping column RELIG because it is constant\n",
        "Dropping column RELIG because it is constant\n",
        "Dropping column RELIG because it is constant\n",
        "Dropping column RELIG because it is constant\n",
        "Dropping column"
       ]
      },
      {
       "output_type": "stream",
       "stream": "stdout",
       "text": [
        " RELIG because it is constant\n",
        "Dropping column RELIG because it is constant\n",
        "Dropping column RELIG because it is constant\n",
        "Dropping column RELIG because it is constant\n",
        "Dropping column RELIG because it is constant\n",
        "Dropping column RELIG because it is constant\n",
        "Dropping column RELIG because it is constant\n",
        "Dropping column RELIG because it is constant\n",
        "Dropping column RELIG because it is constant\n",
        "Dropping column RELIG because it is constant\n",
        "Dropping column RELIG because it is constant\n",
        "Dropping column RELIG because it is constant\n",
        "Dropping column"
       ]
      },
      {
       "output_type": "stream",
       "stream": "stdout",
       "text": [
        " RELIG because it is constant\n",
        "Dropping column RELIG because it is constant\n",
        "Dropping column RELIG because it is constant\n",
        "Dropping column"
       ]
      },
      {
       "output_type": "stream",
       "stream": "stdout",
       "text": [
        " RELIG because it is constant\n",
        "Dropping column RELIG because it is constant\n",
        "Dropping column RELIG because it is constant\n",
        "Dropping column RELIG because it is constant\n",
        "Dropping column RELIG because it is constant\n",
        "Dropping column"
       ]
      },
      {
       "output_type": "stream",
       "stream": "stdout",
       "text": [
        " RELIG because it is constant\n",
        "Dropping column RELIG because it is constant\n",
        "Dropping column RELIG because it is constant\n",
        "Dropping column RELIG because it is constant\n",
        "Dropping column RELIG because it is constant\n",
        "Dropping column RELIG because it is constant\n",
        "Dropping column RELIG because it is constant\n",
        "Dropping column RELIG because it is constant\n",
        "Dropping column RELIG because it is constant\n",
        "Dropping column RELIG because it is constant\n",
        "Dropping column RELIG because it is constant\n",
        "Dropping column"
       ]
      },
      {
       "output_type": "stream",
       "stream": "stdout",
       "text": [
        " RELIG because it is constant\n",
        "Dropping column RELIG because it is constant\n",
        "Dropping column RELIG because it is constant\n",
        "Dropping column RELIG because it is constant\n",
        "Dropping column RELIG because it is constant\n",
        "Dropping column RELIG because it is constant\n",
        "Dropping column RELIG because it is constant\n",
        "Dropping column RELIG because it is constant\n",
        "Dropping column RELIG because it is constant\n",
        "Dropping column RELIG because it is constant\n",
        "Dropping column RELIG because it is constant\n",
        "Dropping column RELIG because it is constant\n",
        "Dropping column RELIG because it is constant\n",
        "Dropping column"
       ]
      },
      {
       "output_type": "stream",
       "stream": "stdout",
       "text": [
        " RELIG because it is constant\n",
        "Dropping column RELIG because it is constant\n",
        "Dropping column RELIG because it is constant\n",
        "Dropping column RELIG because it is constant\n",
        "Dropping column RELIG because it is constant\n",
        "Dropping column RELIG because it is constant\n",
        "Dropping column RELIG because it is constant\n",
        "Dropping column RELIG because it is constant\n",
        "Dropping column RELIG because it is constant\n",
        "Dropping column RELIG because it is constant\n",
        "Processing article: 6460\n",
        "Processing article:"
       ]
      },
      {
       "output_type": "stream",
       "stream": "stdout",
       "text": [
        " 6463\n",
        "Processing article: 6464\n",
        "Dropping column RELIG because it is constant\n",
        "Dropping column RELIG because it is constant\n",
        "Dropping column RELIG because it is constant\n",
        "Processing article: 6465\n",
        "Processing article: 6489\n",
        "Processing article: 6521\n",
        "Processing article:"
       ]
      },
      {
       "output_type": "stream",
       "stream": "stdout",
       "text": [
        " 6526\n",
        "no central variables\n",
        "no central variables"
       ]
      },
      {
       "output_type": "stream",
       "stream": "stdout",
       "text": [
        "\n",
        "no central variables\n",
        "no central variables"
       ]
      },
      {
       "output_type": "stream",
       "stream": "stdout",
       "text": [
        "\n",
        "no central variables\n",
        "no central variables"
       ]
      },
      {
       "output_type": "stream",
       "stream": "stdout",
       "text": [
        "\n",
        "no central variables\n",
        "no central variables"
       ]
      },
      {
       "output_type": "stream",
       "stream": "stdout",
       "text": [
        "\n",
        "no central variables\n",
        "Processing article: 6536\n",
        "Dropping column RELIG because it is constant\n",
        "Dropping column RELIG because it is constant\n",
        "Dropping column RELIG because it is constant\n",
        "Dropping column RELIG because it is constant\n",
        "Dropping column"
       ]
      },
      {
       "output_type": "stream",
       "stream": "stdout",
       "text": [
        " RELIG because it is constant\n",
        "Dropping column RELIG because it is constant\n",
        "Dropping column RELIG because it is constant\n",
        "Dropping column RELIG because it is constant\n",
        "Dropping column RELIG because it is constant\n",
        "Dropping column RELIG because it is constant\n",
        "Dropping column RELIG because it is constant\n",
        "Dropping column RELIG because it is constant\n",
        "Dropping column RELIG because it is constant\n",
        "Dropping column RELIG because it is constant\n",
        "Dropping column RELIG because it is constant\n",
        "Dropping column RELIG because it is constant\n",
        "Dropping column RELIG because it is constant\n",
        "Dropping column"
       ]
      },
      {
       "output_type": "stream",
       "stream": "stdout",
       "text": [
        " RELIG because it is constant\n",
        "Dropping column RELIG because it is constant\n",
        "Dropping column RELIG because it is constant\n",
        "Dropping column RELIG because it is constant\n",
        "Dropping column RELIG because it is constant\n",
        "Dropping column RELIG because it is constant\n",
        "Dropping column RELIG because it is constant\n",
        "Processing article: 6537\n",
        "Processing article:"
       ]
      },
      {
       "output_type": "stream",
       "stream": "stdout",
       "text": [
        " 6538\n",
        "Dropping column RELIG because it is constant\n",
        "Dropping column RELIG because it is constant\n",
        "Dropping column RELIG because it is constant\n",
        "Dropping column RELIG because it is constant\n",
        "Dropping column RELIG because it is constant\n",
        "Processing article: 6540\n",
        "Dropping column HIT because it is constant\n",
        "Dropping column HIT because it is constant\n",
        "Dropping column HIT because it is constant\n",
        "Processing article: 6546\n",
        "Processing article:"
       ]
      },
      {
       "output_type": "stream",
       "stream": "stdout",
       "text": [
        " 6553\n",
        "Processing article:"
       ]
      },
      {
       "output_type": "stream",
       "stream": "stdout",
       "text": [
        " 6555\n",
        "Processing article: 6558\n",
        "Processing article: 6592\n",
        "Processing article:"
       ]
      },
      {
       "output_type": "stream",
       "stream": "stdout",
       "text": [
        " 6602\n",
        "Dropping column RACE because it is constant\n",
        "Processing article: 6604\n",
        "Processing article: 6642\n",
        "Processing article:"
       ]
      },
      {
       "output_type": "stream",
       "stream": "stdout",
       "text": [
        " 6664\n",
        "Dropping column MARITAL because it is constant\n",
        "Dropping column MARITAL because it is constant\n",
        "Dropping column MARITAL because it is constant\n",
        "Dropping column MARITAL because it is constant\n",
        "Processing article: 6679\n",
        "Processing article:"
       ]
      },
      {
       "output_type": "stream",
       "stream": "stdout",
       "text": [
        " 6685\n",
        "Processing article: 6686\n",
        "Dropping column MARITAL because it is constant\n",
        "Dropping column MARITAL because it is constant\n",
        "Processing article: 6692\n",
        "Dropping column DENOM16 because it is constant\n",
        "Dropping column RELIG16 because it is constant\n",
        "Dropping column RACE because it is constant\n",
        "Dropping column SPREL16 because it is constant\n",
        "Dropping column"
       ]
      },
      {
       "output_type": "stream",
       "stream": "stdout",
       "text": [
        " SPDEN16 because it is constant\n",
        "Dropping column MARITAL because it is constant\n",
        "Dropping column MARELIG because it is constant\n",
        "Dropping column MADEN because it is constant\n",
        "Dropping column PADEN because it is constant\n",
        "Processing article: 6712\n",
        "Processing article:"
       ]
      },
      {
       "output_type": "stream",
       "stream": "stdout",
       "text": [
        " 6724\n",
        "Processing article: 6725\n",
        "Processing article:"
       ]
      },
      {
       "output_type": "stream",
       "stream": "stdout",
       "text": [
        " 6731\n",
        "Processing article: 6732\n",
        "Processing article:"
       ]
      },
      {
       "output_type": "stream",
       "stream": "stdout",
       "text": [
        " 6734\n",
        "Processing article:"
       ]
      },
      {
       "output_type": "stream",
       "stream": "stdout",
       "text": [
        " 6746\n",
        "Dropping column WKSUB because it is constant\n",
        "Dropping column WKSUP because it is constant\n",
        "Dropping column MARITAL because it is constant\n",
        "Dropping column WKSUB because it is constant\n",
        "Dropping column WKSUP because it is constant\n",
        "Dropping column MARITAL because it is constant\n",
        "Dropping column WKSUB because it is constant\n",
        "Dropping column WKSUP because it is constant\n",
        "Dropping column MARITAL because it is constant\n",
        "Processing article: 6755\n",
        "Dropping column DENOM because it is constant\n",
        "Dropping column DENOM because it is constant\n",
        "Dropping column DENOM because it is constant\n",
        "Dropping column DENOM because it is constant\n",
        "Processing article: 6759\n",
        "Processing article:"
       ]
      },
      {
       "output_type": "stream",
       "stream": "stdout",
       "text": [
        " 6762\n",
        "Processing article: 6774\n",
        "Processing article: 6776\n",
        "Processing article: 6777\n",
        "Processing article:"
       ]
      },
      {
       "output_type": "stream",
       "stream": "stdout",
       "text": [
        " 6779\n",
        "Processing article:"
       ]
      },
      {
       "output_type": "stream",
       "stream": "stdout",
       "text": [
        " 6806\n",
        "Processing article:"
       ]
      },
      {
       "output_type": "stream",
       "stream": "stdout",
       "text": [
        " 6824\n",
        "Processing article: 6825\n",
        "Processing article:"
       ]
      },
      {
       "output_type": "stream",
       "stream": "stdout",
       "text": [
        " 6840\n",
        "Processing article: 6841\n",
        "Processing article: 6842\n",
        "Processing article:"
       ]
      },
      {
       "output_type": "stream",
       "stream": "stdout",
       "text": [
        " 6870\n",
        "Processing article: 6871\n",
        "Processing article:"
       ]
      },
      {
       "output_type": "stream",
       "stream": "stdout",
       "text": [
        " 6872\n",
        "Processing article:"
       ]
      },
      {
       "output_type": "stream",
       "stream": "stdout",
       "text": [
        " 6876\n",
        "Processing article:"
       ]
      },
      {
       "output_type": "stream",
       "stream": "stdout",
       "text": [
        " 6877\n",
        "Processing article: 6893\n",
        "Not enough observations. Skipping...\n",
        "Not enough observations. Skipping...\n",
        "Not enough observations. Skipping...\n",
        "Not enough observations. Skipping...\n",
        "Not enough observations. Skipping...\n",
        "Not enough observations. Skipping...\n",
        "Not enough observations. Skipping...\n",
        "Not enough observations. Skipping...\n",
        "Not enough observations. Skipping...\n",
        "Not enough observations. Skipping...\n",
        "Not enough observations. Skipping...\n",
        "Not enough observations. Skipping...\n",
        "Not enough observations. Skipping..."
       ]
      },
      {
       "output_type": "stream",
       "stream": "stdout",
       "text": [
        "\n",
        "Not enough observations. Skipping...\n",
        "Not enough observations. Skipping...\n",
        "Not enough observations. Skipping...\n",
        "Not enough observations. Skipping...\n",
        "Not enough observations. Skipping...\n",
        "Not enough observations. Skipping...\n",
        "Not enough observations. Skipping...\n",
        "Not enough observations. Skipping...\n",
        "Not enough observations. Skipping...\n",
        "Not enough observations. Skipping...\n",
        "Not enough observations. Skipping...\n",
        "Processing article: 6922\n",
        "Processing article:"
       ]
      },
      {
       "output_type": "stream",
       "stream": "stdout",
       "text": [
        " 6973\n",
        "Dropping column RELIG16 because it is constant\n",
        "Dropping column RELIG because it is constant\n",
        "Dropping column RELIG16 because it is constant\n",
        "Dropping column DENOM16 because it is constant\n",
        "Dropping column DENOM because it is constant\n",
        "Dropping column RELIG because it is constant\n",
        "Dropping column RELIG16 because it is constant\n",
        "Dropping column DENOM16 because it is constant\n",
        "Dropping column DENOM because it is constant\n",
        "Dropping column RELIG because it is constant\n",
        "Dropping column RELIG16 because it is constant\n",
        "Dropping column DENOM16 because it is constant\n",
        "Dropping column DENOM because it is constant\n",
        "Dropping column RELIG because it is constant\n",
        "Dropping column RELIG16 because it is constant\n",
        "Dropping column DENOM16 because it is constant\n",
        "Dropping column DENOM because it is constant\n",
        "Dropping column RELIG because it is constant\n",
        "Processing article: 6980\n",
        "Not enough observations. Skipping..."
       ]
      },
      {
       "output_type": "stream",
       "stream": "stdout",
       "text": [
        "\n",
        "Not enough observations. Skipping...\n",
        "Not enough observations. Skipping...\n",
        "Not enough observations. Skipping...\n",
        "Not enough observations. Skipping...\n",
        "Not enough observations. Skipping...\n",
        "Processing article:"
       ]
      },
      {
       "output_type": "stream",
       "stream": "stdout",
       "text": [
        " 6992\n",
        "Processing article:"
       ]
      },
      {
       "output_type": "stream",
       "stream": "stdout",
       "text": [
        " 7081\n",
        "Processing article:"
       ]
      },
      {
       "output_type": "stream",
       "stream": "stdout",
       "text": [
        " 7181\n",
        "Processing article: 7189\n",
        "Processing article: 7222\n",
        "Dropping column MARITAL because it is constant\n",
        "Dropping column MARITAL because it is constant\n",
        "Processing article: 7235\n",
        "Dropping column WKSUP because it is constant\n",
        "Dropping column WKSUB because it is constant\n",
        "Dropping column"
       ]
      },
      {
       "output_type": "stream",
       "stream": "stdout",
       "text": [
        " WKSUP because it is constant\n",
        "Dropping column WKSUB because it is constant\n",
        "Dropping column WKSUP because it is constant\n",
        "Dropping column WKSUB because it is constant\n",
        "Dropping column"
       ]
      },
      {
       "output_type": "stream",
       "stream": "stdout",
       "text": [
        " WKSUP because it is constant\n",
        "Dropping column WKSUB because it is constant\n",
        "Dropping column WKSUP because it is constant\n",
        "Dropping column WKSUB because it is constant\n",
        "Dropping column"
       ]
      },
      {
       "output_type": "stream",
       "stream": "stdout",
       "text": [
        " WKSUP because it is constant\n",
        "Dropping column WKSUB because it is constant\n",
        "Dropping column WKSUP because it is constant\n",
        "Dropping column"
       ]
      },
      {
       "output_type": "stream",
       "stream": "stdout",
       "text": [
        " WKSUB because it is constant\n",
        "Dropping column WKSUP because it is constant\n",
        "Dropping column WKSUB because it is constant\n",
        "Processing article:"
       ]
      },
      {
       "output_type": "stream",
       "stream": "stdout",
       "text": [
        " 7259\n",
        "Processing article:"
       ]
      },
      {
       "output_type": "stream",
       "stream": "stdout",
       "text": [
        " 7263\n",
        "Dropping column RELIG because it is constant\n",
        "Dropping column RELIG because it is constant\n",
        "Dropping column RELIG because it is constant\n",
        "Dropping column RELIG because it is constant\n",
        "Dropping column RELIG because it is constant\n",
        "Dropping column RELIG because it is constant\n",
        "Dropping column RELIG because it is constant\n",
        "Dropping column RELIG because it is constant\n",
        "Dropping column RELIG because it is constant\n",
        "Dropping column RELIG because it is constant\n",
        "Dropping column RELIG because it is constant\n",
        "Dropping column RELIG because it is constant\n",
        "Dropping column RELIG because it is constant\n",
        "Dropping column"
       ]
      },
      {
       "output_type": "stream",
       "stream": "stdout",
       "text": [
        " RELIG because it is constant\n",
        "Dropping column RELIG because it is constant\n",
        "Dropping column RELIG because it is constant\n",
        "Dropping column RELIG because it is constant\n",
        "Dropping column RELIG because it is constant\n",
        "Dropping column RELIG because it is constant\n",
        "Dropping column RELIG because it is constant\n",
        "Dropping column RELIG because it is constant\n",
        "Dropping column RELIG because it is constant\n",
        "Processing article: 7264\n",
        "Dropping column MARITAL because it is constant\n",
        "Processing article: 7270\n",
        "Processing article:"
       ]
      },
      {
       "output_type": "stream",
       "stream": "stdout",
       "text": [
        " 7282\n",
        "Processing article:"
       ]
      },
      {
       "output_type": "stream",
       "stream": "stdout",
       "text": [
        " 7291\n",
        "Processing article: 7295\n",
        "Dropping column MARITAL because it is constant\n",
        "Dropping column RELIG because it is constant\n",
        "Dropping column DENOM because it is constant\n",
        "Dropping column MARITAL because it is constant\n",
        "Dropping column RELIG because it is constant\n",
        "Dropping column DENOM because it is constant\n",
        "Dropping column MARITAL because it is constant\n",
        "Dropping column RELIG because it is constant\n",
        "Dropping column DENOM because it is constant\n",
        "Dropping column MARITAL because it is constant\n",
        "Dropping column RELIG because it is constant\n",
        "Dropping column DENOM because it is constant\n",
        "Dropping column MARITAL because it is constant\n",
        "Dropping column RELIG because it is constant\n",
        "Dropping column DENOM because it is constant\n",
        "Dropping column MARITAL because it is constant\n",
        "Dropping column RELIG because it is constant\n",
        "Dropping column DENOM because it is constant\n",
        "Dropping column"
       ]
      },
      {
       "output_type": "stream",
       "stream": "stdout",
       "text": [
        " MARITAL because it is constant\n",
        "Dropping column RELIG because it is constant\n",
        "Dropping column DENOM because it is constant\n",
        "Dropping column MARITAL because it is constant\n",
        "Dropping column RELIG because it is constant\n",
        "Dropping column DENOM because it is constant\n",
        "Dropping column MARITAL because it is constant\n",
        "Dropping column RELIG because it is constant\n",
        "Dropping column DENOM because it is constant\n",
        "Dropping column MARITAL because it is constant\n",
        "Dropping column RELIG because it is constant\n",
        "Dropping column DENOM because it is constant\n",
        "Dropping column MARITAL because it is constant\n",
        "Dropping column RELIG because it is constant\n",
        "Dropping column DENOM because it is constant\n",
        "Dropping column MARITAL because it is constant\n",
        "Dropping column RELIG because it is constant\n",
        "Dropping column DENOM because it is constant\n",
        "Processing article: 7320\n",
        "Processing article:"
       ]
      },
      {
       "output_type": "stream",
       "stream": "stdout",
       "text": [
        " 7339\n",
        "Processing article:"
       ]
      },
      {
       "output_type": "stream",
       "stream": "stdout",
       "text": [
        " 7362\n",
        "Processing article: 7384\n",
        "Dropping column RELIG because it is constant\n",
        "Dropping column RELIG because it is constant\n",
        "Processing article: 7431\n",
        "Dropping column RELIG because it is constant\n",
        "Dropping column RELIG because it is constant\n",
        "Dropping column RELIG because it is constant\n",
        "Dropping column RELIG because it is constant\n",
        "Dropping column RELIG because it is constant\n",
        "Dropping column RELIG because it is constant\n",
        "Dropping column RELIG because it is constant\n",
        "Dropping column RELIG because it is constant\n",
        "Dropping column"
       ]
      },
      {
       "output_type": "stream",
       "stream": "stdout",
       "text": [
        " RELIG because it is constant\n",
        "Dropping column RELIG because it is constant\n",
        "Dropping column RELIG because it is constant\n",
        "Dropping column RELIG because it is constant\n",
        "Dropping column RELIG because it is constant\n",
        "Dropping column RELIG because it is constant\n",
        "Dropping column RELIG because it is constant\n",
        "Dropping column RELIG because it is constant\n",
        "Processing article: 7432\n",
        "Processing article:"
       ]
      },
      {
       "output_type": "stream",
       "stream": "stdout",
       "text": [
        " 7433\n",
        "Processing article:"
       ]
      },
      {
       "output_type": "stream",
       "stream": "stdout",
       "text": [
        " 7448\n",
        "Dropping column SWITCHED because it is constant\n",
        "no IVs available. Skipping.\n",
        "Dropping column SWITCHED because it is constant\n",
        "no IVs available. Skipping.\n",
        "Processing article: 7449\n",
        "Dropping column RELIG16 because it is constant\n",
        "Dropping column RELIG16 because it is constant\n",
        "Dropping column DENOM16 because it is constant\n",
        "Dropping column RELIG16 because it is constant\n",
        "Dropping column DENOM16 because it is constant\n",
        "Dropping column RELIG16 because it is constant\n",
        "Dropping column DENOM16 because it is constant\n",
        "Dropping column RELIG16 because it is constant\n",
        "Dropping column DENOM16 because it is constant\n",
        "Dropping column RELIG16 because it is constant\n",
        "Dropping column DENOM16 because it is constant\n",
        "Dropping column RELIG16 because it is constant\n",
        "Dropping column DENOM16 because it is constant\n",
        "Dropping column RELIG16 because it is constant\n",
        "Dropping column DENOM16 because it is constant\n",
        "Dropping column RELIG16 because it is constant\n",
        "Dropping column DENOM16 because it is constant\n",
        "Dropping column RELIG16 because it is constant\n",
        "Dropping column DENOM16 because it is constant\n",
        "Dropping column RELIG16 because it is constant\n",
        "Dropping column DENOM16 because it is constant\n",
        "Dropping column"
       ]
      },
      {
       "output_type": "stream",
       "stream": "stdout",
       "text": [
        " RELIG16 because it is constant\n",
        "Dropping column DENOM16 because it is constant\n",
        "Dropping column RELIG16 because it is constant\n",
        "Dropping column DENOM16 because it is constant\n",
        "Dropping column RELIG16 because it is constant\n",
        "Dropping column DENOM16 because it is constant\n",
        "Dropping column RELIG16 because it is constant\n",
        "Dropping column DENOM16 because it is constant\n",
        "Dropping column RELIG16 because it is constant\n",
        "Dropping column DENOM16 because it is constant\n",
        "Dropping column RELIG16 because it is constant\n",
        "Dropping column RELIG16 because it is constant\n",
        "Dropping column DENOM16 because it is constant\n",
        "Dropping column RELIG16 because it is constant\n",
        "Dropping column DENOM16 because it is constant\n",
        "Dropping column RELIG16 because it is constant\n",
        "Dropping column DENOM16 because it is constant\n",
        "Dropping column RELIG16 because it is constant\n",
        "Dropping column DENOM16 because it is constant\n",
        "Dropping column RELIG16 because it is constant\n",
        "Dropping column DENOM16 because it is constant\n",
        "Dropping column RELIG16 because it is constant\n",
        "Dropping column DENOM16 because it is constant\n",
        "Dropping column RELIG16 because it is constant\n",
        "Dropping column DENOM16 because it is constant\n",
        "Dropping column"
       ]
      },
      {
       "output_type": "stream",
       "stream": "stdout",
       "text": [
        " RELIG16 because it is constant\n",
        "Dropping column DENOM16 because it is constant\n",
        "Dropping column RELIG16 because it is constant\n",
        "Dropping column DENOM16 because it is constant\n",
        "Dropping column RELIG16 because it is constant\n",
        "Dropping column DENOM16 because it is constant\n",
        "Dropping column RELIG16 because it is constant\n",
        "Dropping column DENOM16 because it is constant\n",
        "Dropping column RELIG16 because it is constant\n",
        "Dropping column DENOM16 because it is constant\n",
        "Dropping column RELIG16 because it is constant\n",
        "Dropping column DENOM16 because it is constant\n",
        "Dropping column RELIG16 because it is constant\n",
        "Dropping column DENOM16 because it is constant\n",
        "Dropping column RELIG16 because it is constant\n",
        "Dropping column DENOM16 because it is constant\n",
        "Dropping column RELIG16 because it is constant\n",
        "Dropping column RELIG16 because it is constant\n",
        "Dropping column DENOM16 because it is constant\n",
        "Dropping column RELIG16 because it is constant\n",
        "Dropping column DENOM16 because it is constant\n",
        "Dropping column RELIG16 because it is constant\n",
        "Dropping column DENOM16 because it is constant\n",
        "Dropping column"
       ]
      },
      {
       "output_type": "stream",
       "stream": "stdout",
       "text": [
        " RELIG16 because it is constant\n",
        "Dropping column DENOM16 because it is constant\n",
        "Dropping column RELIG16 because it is constant\n",
        "Dropping column DENOM16 because it is constant\n",
        "Dropping column RELIG16 because it is constant\n",
        "Dropping column DENOM16 because it is constant\n",
        "Dropping column RELIG16 because it is constant\n",
        "Dropping column DENOM16 because it is constant\n",
        "Dropping column RELIG16 because it is constant\n",
        "Dropping column DENOM16 because it is constant\n",
        "Dropping column RELIG16 because it is constant\n",
        "Dropping column DENOM16 because it is constant\n",
        "Dropping column RELIG16 because it is constant\n",
        "Dropping column DENOM16 because it is constant\n",
        "Dropping column RELIG16 because it is constant\n",
        "Dropping column DENOM16 because it is constant\n",
        "Dropping column RELIG16 because it is constant\n",
        "Dropping column DENOM16 because it is constant\n",
        "Dropping column RELIG16 because it is constant\n",
        "Dropping column DENOM16 because it is constant\n",
        "Dropping column RELIG16 because it is constant\n",
        "Dropping column DENOM16 because it is constant\n",
        "Dropping column RELIG16 because it is constant\n",
        "Dropping column DENOM16 because it is constant\n",
        "Processing article: 7507\n",
        "Dropping column RELIG because it is constant\n",
        "Dropping column"
       ]
      },
      {
       "output_type": "stream",
       "stream": "stdout",
       "text": [
        " RELIG because it is constant\n",
        "Dropping column RELIG because it is constant\n",
        "Dropping column RELIG because it is constant\n",
        "Dropping column RELIG because it is constant\n",
        "Dropping column RELIG because it is constant\n",
        "Dropping column RELIG because it is constant\n",
        "Dropping column RELIG because it is constant\n",
        "Dropping column RELIG because it is constant\n",
        "Dropping column RELIG because it is constant\n",
        "Dropping column RELIG because it is constant\n",
        "Dropping column RELIG because it is constant\n",
        "Dropping column"
       ]
      },
      {
       "output_type": "stream",
       "stream": "stdout",
       "text": [
        " RELIG because it is constant\n",
        "Dropping column RELIG because it is constant\n",
        "Dropping column RELIG because it is constant\n",
        "Dropping column RELIG because it is constant\n",
        "Processing article: 7508\n",
        "Processing article:"
       ]
      },
      {
       "output_type": "stream",
       "stream": "stdout",
       "text": [
        " 7525\n",
        "Dropping column RELIG because it is constant\n",
        "Dropping column RELIG16 because it is constant\n",
        "Dropping column DENOM16 because it is constant\n",
        "Dropping column DENOM because it is constant\n",
        "Dropping column RELIG because it is constant\n",
        "Dropping column RELIG16 because it is constant\n",
        "Dropping column BORN because it is constant\n",
        "Dropping column DENOM16 because it is constant\n",
        "Dropping column DENOM because it is constant\n",
        "Processing article: 7567\n",
        "Dropping column RELIG16 because it is constant\n",
        "Dropping column MARITAL because it is constant\n",
        "Dropping column RELIG16 because it is constant\n",
        "Dropping column MARITAL because it is constant\n",
        "Dropping column RELIG16 because it is constant\n",
        "Dropping column MARITAL because it is constant\n",
        "Dropping column RELIG16 because it is constant\n",
        "Dropping column MARITAL because it is constant\n",
        "Dropping column"
       ]
      },
      {
       "output_type": "stream",
       "stream": "stdout",
       "text": [
        " RELIG16 because it is constant\n",
        "Dropping column MARITAL because it is constant\n",
        "Dropping column RELIG16 because it is constant\n",
        "Dropping column MARITAL because it is constant\n",
        "Dropping column RELIG16 because it is constant\n",
        "Dropping column MARITAL because it is constant\n",
        "Dropping column RELIG16 because it is constant\n",
        "Dropping column MARITAL because it is constant\n",
        "Dropping column RELIG16 because it is constant\n",
        "Dropping column MARITAL because it is constant\n",
        "Dropping column RELIG16 because it is constant\n",
        "Dropping column MARITAL because it is constant\n",
        "Dropping column RELIG16 because it is constant\n",
        "Dropping column MARITAL because it is constant\n",
        "Dropping column RELIG16 because it is constant\n",
        "Dropping column MARITAL because it is constant\n",
        "Dropping column"
       ]
      },
      {
       "output_type": "stream",
       "stream": "stdout",
       "text": [
        " RELIG16 because it is constant\n",
        "Dropping column MARITAL because it is constant\n",
        "Dropping column RELIG16 because it is constant\n",
        "Dropping column MARITAL because it is constant\n",
        "Dropping column RELIG16 because it is constant\n",
        "Dropping column MARITAL because it is constant\n",
        "Dropping column RELIG16 because it is constant\n",
        "Dropping column MARITAL because it is constant\n",
        "Dropping column RELIG16 because it is constant\n",
        "Dropping column MARITAL because it is constant\n",
        "Dropping column RELIG16 because it is constant\n",
        "Dropping column MARITAL because it is constant\n",
        "Dropping column RELIG16 because it is constant\n",
        "Dropping column MARITAL because it is constant\n",
        "Dropping column RELIG16 because it is constant\n",
        "Dropping column MARITAL because it is constant\n",
        "Dropping column RELIG16 because it is constant\n",
        "Dropping column MARITAL because it is constant\n",
        "Dropping column"
       ]
      },
      {
       "output_type": "stream",
       "stream": "stdout",
       "text": [
        " RELIG16 because it is constant\n",
        "Dropping column MARITAL because it is constant\n",
        "Dropping column RELIG16 because it is constant\n",
        "Dropping column MARITAL because it is constant\n",
        "Dropping column DENOM16 because it is constant\n",
        "Dropping column RELIG16 because it is constant\n",
        "Dropping column MARITAL because it is constant\n",
        "Dropping column DENOM16 because it is constant\n",
        "Dropping column RELIG16 because it is constant\n",
        "Dropping column MARITAL because it is constant\n",
        "Dropping column DENOM16 because it is constant\n",
        "Dropping column RELIG16 because it is constant\n",
        "Dropping column MARITAL because it is constant\n",
        "Dropping column DENOM16 because it is constant\n",
        "Dropping column RELIG16 because it is constant\n",
        "Dropping column MARITAL because it is constant\n",
        "Dropping column DENOM16 because it is constant\n",
        "Dropping column RELIG16 because it is constant\n",
        "Dropping column MARITAL because it is constant\n",
        "Dropping column DENOM16 because it is constant\n",
        "Processing article: 7594\n",
        "Processing article:"
       ]
      },
      {
       "output_type": "stream",
       "stream": "stdout",
       "text": [
        " 7606\n",
        "Processing article:"
       ]
      },
      {
       "output_type": "stream",
       "stream": "stdout",
       "text": [
        " 7608\n",
        "Processing article:"
       ]
      },
      {
       "output_type": "stream",
       "stream": "stdout",
       "text": [
        " 7638\n",
        "Processing article: 7641\n",
        "Dropping column"
       ]
      },
      {
       "output_type": "stream",
       "stream": "stdout",
       "text": [
        " MARITAL because it is constant\n",
        "Dropping column MARITAL because it is constant\n",
        "Dropping column MARITAL because it is constant\n",
        "Dropping column MARITAL because it is constant\n",
        "Processing article: 7652\n",
        "Processing article:"
       ]
      },
      {
       "output_type": "stream",
       "stream": "stdout",
       "text": [
        " 7713\n",
        "Processing article: 7718\n",
        "Processing article: 7733\n",
        "Processing article:"
       ]
      },
      {
       "output_type": "stream",
       "stream": "stdout",
       "text": [
        " 7739\n",
        "Processing article: 7741\n",
        "Processing article:"
       ]
      },
      {
       "output_type": "stream",
       "stream": "stdout",
       "text": [
        " 7746\n",
        "Processing article: 7790\n",
        "Dropping column RELIG because it is constant\n",
        "Dropping column DENOM because it is constant\n",
        "Dropping column SPREL because it is constant\n",
        "Dropping column MARITAL because it is constant\n",
        "Processing article: 7791\n",
        "Dropping column RELIG because it is constant\n",
        "Dropping column MARITAL because it is constant\n",
        "Processing article: 7803\n"
       ]
      }
     ],
     "prompt_number": 159
    },
    {
     "cell_type": "markdown",
     "metadata": {},
     "source": [
      "#Create dataframe to store *output*"
     ]
    },
    {
     "cell_type": "code",
     "collapsed": false,
     "input": [
      "df_output = pd.DataFrame(output, index=output['article_id'])\n",
      "del df_output['numTotal']\n",
      "print len(df_output)\n",
      "print len(set(df_output.index))"
     ],
     "language": "python",
     "metadata": {},
     "outputs": [
      {
       "output_type": "stream",
       "stream": "stdout",
       "text": [
        "1713\n",
        "125\n"
       ]
      }
     ],
     "prompt_number": 160
    },
    {
     "cell_type": "markdown",
     "metadata": {},
     "source": [
      "#Plot outcome distributions"
     ]
    },
    {
     "cell_type": "code",
     "collapsed": false,
     "input": [
      "outcomeMap = {'propSig':\"% of Stat. Sign. Coeff's\", \n",
      "              'paramSizesNormed':\"Standard. Size of Coeff's\",\n",
      "              'Rs':'R-squared', \n",
      "              'adjRs':'Adj. R-squared',\n",
      "              'pvalues':\"Avg. P-Value of Coeff's\",\n",
      "              'propSig_CentralVars':\"Cent. Var's: % of Stat. Sign. Coeff's\",\n",
      "              'paramSizesNormed_CentralVars':\"Cent. Var's: Standard. Size of Coeff's\", \n",
      "              'pvalues_CentralVars':\"Cent. Var's: Avg. P-Value of Coeff's\"}\n",
      "\n",
      "for outcome in df_output.columns:\n",
      "    if outcome=='article_id': continue\n",
      "    figure(figsize=(4,4))\n",
      "    xticks(fontsize=15)\n",
      "    yticks(fontsize=15)\n",
      "    ylabel('Density', fontsize=17)\n",
      "\n",
      "\n",
      "    title(outcomeMap[outcome], fontsize=20)\n",
      "    print outcome + 'Mean: %0.3f, s.d.: %0.3f' % (df_output[outcome].mean(), df_output[outcome].std())\n",
      "\n",
      "    sns.kdeplot(df_output[outcome].dropna(), shade=False, color='black', legend=False)\n",
      "#     sns.kdeplot(df2_output[outcome].dropna(), shade=False, color='blue', legend=False)\n",
      "\n",
      "    if '%' in outcomeMap[outcome] or 'P-value' in outcomeMap[outcome] or 'Size' in outcomeMap[outcome]:\n",
      "        xlim((0,1))\n",
      "    elif 'R-' in outcomeMap[outcome]:\n",
      "        xlim(0,0.6)\n",
      "    else:\n",
      "        xlim(0, 1.05*df_output[outcome].max())\n",
      "    #     df_output[outcome].dropna().plot(kind='kde', color='black', linewidth=3)\n",
      "\n",
      "#     df_output[outcome].hist(bins=30)\n",
      "    savefig('../../Images/descriptives--' + outcome + '.svg', bbox_inches='tight')"
     ],
     "language": "python",
     "metadata": {},
     "outputs": [
      {
       "output_type": "stream",
       "stream": "stdout",
       "text": [
        "RsMean: 0.059, s.d.: 0.066\n",
        "adjRsMean: 0.053, s.d.: 0.062"
       ]
      },
      {
       "output_type": "stream",
       "stream": "stdout",
       "text": [
        "\n",
        "paramSizesNormedMean: 0.152, s.d.: 0.118"
       ]
      },
      {
       "output_type": "stream",
       "stream": "stdout",
       "text": [
        "\n",
        "paramSizesNormed_CentralVarsMean: 0.155, s.d.: 0.122"
       ]
      },
      {
       "output_type": "stream",
       "stream": "stdout",
       "text": [
        "\n",
        "propSigMean: 0.507, s.d.: 0.334"
       ]
      },
      {
       "output_type": "stream",
       "stream": "stdout",
       "text": [
        "\n",
        "propSig_CentralVarsMean: 0.496, s.d.: 0.383"
       ]
      },
      {
       "output_type": "stream",
       "stream": "stdout",
       "text": [
        "\n",
        "pvaluesMean: 0.220, s.d.: 0.188"
       ]
      },
      {
       "output_type": "stream",
       "stream": "stdout",
       "text": [
        "\n",
        "pvalues_CentralVarsMean: 0.224, s.d.: 0.219"
       ]
      },
      {
       "output_type": "stream",
       "stream": "stdout",
       "text": [
        "\n"
       ]
      },
      {
       "metadata": {},
       "output_type": "display_data",
       "png": "[encoded data removed]",
       "text": [
        "<matplotlib.figure.Figure at 0x7d4c510>"
       ]
      },
      {
       "metadata": {},
       "output_type": "display_data",
       "png": "[encoded data removed]",
       "text": [
        "<matplotlib.figure.Figure at 0x58bbf90>"
       ]
      },
      {
       "metadata": {},
       "output_type": "display_data",
       "png": "[encoded data removed]",
       "text": [
        "<matplotlib.figure.Figure at 0x70db990>"
       ]
      },
      {
       "metadata": {},
       "output_type": "display_data",
       "png": "[encoded data removed]",
       "text": [
        "<matplotlib.figure.Figure at 0x2b580e733f10>"
       ]
      },
      {
       "metadata": {},
       "output_type": "display_data",
       "png": "[encoded data removed]",
       "text": [
        "<matplotlib.figure.Figure at 0x6913210>"
       ]
      },
      {
       "metadata": {},
       "output_type": "display_data",
       "png": "[encoded data removed]",
       "text": [
        "<matplotlib.figure.Figure at 0x7748dd0>"
       ]
      },
      {
       "metadata": {},
       "output_type": "display_data",
       "png": "[encoded data removed]",
       "text": [
        "<matplotlib.figure.Figure at 0x7f1a110>"
       ]
      },
      {
       "metadata": {},
       "output_type": "display_data",
       "png": "[encoded data removed]",
       "text": [
        "<matplotlib.figure.Figure at 0x7ef8a90>"
       ]
      }
     ],
     "prompt_number": 156
    }
   ],
   "metadata": {}
  }
 ]
}