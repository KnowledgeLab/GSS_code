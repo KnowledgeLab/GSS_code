{
 "metadata": {
  "name": "",
  "signature": "sha256:ab769bcc6a8410e273e6dcfecb8fe268543e9f0965e1f7b2e6341818eeb8a341"
 },
 "nbformat": 3,
 "nbformat_minor": 0,
 "worksheets": [
  {
   "cells": [
    {
     "cell_type": "markdown",
     "metadata": {},
     "source": [
      "filename: cognateVariablesAnalysis.py\n",
      "\n",
      "description: Runs models as specified originally and again after replacing a central variable by a cognate var.\n",
      "It compares regressions on what was then the new data vs same regressions on future waves\n",
      "\n",
      "inputs:\n",
      "\n",
      "outputs:\n",
      "\n",
      "@author: Misha\n",
      "\n"
     ]
    },
    {
     "cell_type": "code",
     "collapsed": false,
     "input": [
      "from __future__ import division\n",
      "import pandas as pd\n",
      "#import cPickle as cp\n",
      "\n",
      "import sys\n",
      "sys.path.append('../')    \n",
      "import GSSUtility as GU\n",
      "\n",
      "import numpy as np\n",
      "import statsmodels.formula.api as smf \n",
      "import random\n",
      "from scipy.stats import pearsonr, ttest_ind, ttest_rel\n",
      "import time\n",
      "from collections import Counter\n",
      "from collections import defaultdict\n",
      "\n",
      "import seaborn"
     ],
     "language": "python",
     "metadata": {},
     "outputs": [],
     "prompt_number": 1
    },
    {
     "cell_type": "code",
     "collapsed": false,
     "input": [
      "# TO DO: TRY MEDIAN INSTEAD OF MEAN FOR PERCENT OF CENTRAL VARS STAT SIGN.\n",
      "\n",
      "if __name__ == \"__main__\":    \n",
      "    \n",
      "    pathToData = '../../Data/'\n",
      "    dataCont = GU.dataContainer(pathToData)\n",
      "    \n",
      "#     tempCognateOutput = open(pathToData + 'tempCognateOutput.txt', 'w')\n",
      "    \n",
      "    # contains for storing (variable, cognate) tuples in order to see what substitutions\n",
      "    #i'm most commonly making\n",
      "    variableCognateTuples = []\n",
      "    \n",
      "    # define the storage containers for outputs\n",
      "    group1 = 'original model'\n",
      "    group2 = 'cognate model'   \n",
      "    groups = [group1, group2]\n",
      "    outcomes = ['propSig', 'paramSizesNormed', 'Rs', 'adjRs', 'pvalues',  'numTotal', \\\n",
      "                'propSig_CentralVars', 'paramSizesNormed_CentralVars', 'pvalues_CentralVars']\n",
      "    output = defaultdict(dict)\n",
      "    output['metadata'] = {'article_id':[]}\n",
      "    for group in groups:\n",
      "        for outcome in outcomes:\n",
      "            output[group][outcome] = []\n",
      "            \n",
      "    \n",
      "    articlesToUse = GU.filterArticles(dataCont.articleClasses, GSSYearsUsed=True, GSSYearsPossible=False, centralIVs=True) #, \n",
      "#                                         linearModels=True)            \n",
      "    for article in random.sample(articlesToUse, 200):\n",
      "#    for article in articlesToUse:\n",
      "    #for article in [a for a in articleClasses if a.articleID == 6755]:\n",
      "    \n",
      "        print 'Processing article:', article.articleID\n",
      "\n",
      "##############################################\n",
      "# this is a data structure for the old way of saving results\n",
      "#\n",
      "#         define the outcomes I'm interseted in for the two groups. td = \"temp data\" \n",
      "#         and initialize them for both groups\n",
      "        td = defaultdict(dict)\n",
      "        for group in groups:             \n",
      "            td[group]['numTotal'] = 0.0\n",
      "    #        td[group]['coeffsSig'] = []\n",
      "            td[group]['numSig'] = 0.0   # proportions of significant coeffs\n",
      "    #        td[group]['paramSizes'] = []\n",
      "            td[group]['paramSizesNormed'] = []\n",
      "            td[group]['Rs'] = []\n",
      "            td[group]['adjRs'] = []\n",
      "            td[group]['pvalues'] = []\n",
      "\n",
      "\n",
      "        # let's see if this article is suitable for cognates analysis:\n",
      "        originalLHS = article.IVs + article.controls\n",
      "        identifyCognatesReturns = GU.identifyCognates(dataCont, originalLHS, article.centralIVs, article.GSSYearsUsed, corrThreshold=0.6)        \n",
      "        if not identifyCognatesReturns: \n",
      "            print 'No suitable cognates. Skipping.'            \n",
      "            continue        \n",
      "        else: \n",
      "            cIV, cognate, GSSYearsWithCognate = identifyCognatesReturns\n",
      "\n",
      "        # if we got this far, then this article does have suitable cognates, so let's estimate models       \n",
      "        # Now let's estimate the models\n",
      "        for DV in article.DVs:            \n",
      "            for year in GSSYearsWithCognate:        \n",
      "\n",
      "                # group 2 models (with cognates)\n",
      "                print 'Running cognate models'\n",
      "                \n",
      "                cognateLHS = originalLHS[:] # the \"[:]\" makes a deep copy ?\n",
      "                cognateLHS.remove(cIV)\n",
      "                cognateLHS.append(cognate) # need to put it in list otherwise it treats each letter as an element\n",
      "#                 print 'Substituting', cIV, 'with cognate', cognate\n",
      "                #time.sleep(2)\n",
      "                #raw_input('Press Enter')                \n",
      "                \n",
      "                result_cog = GU.runModel(dataCont, year, DV, cognateLHS)          \n",
      "                if not result_cog: continue # results will be None if the formula cant be estimated\n",
      "#                 print DV, '~', cognateLHS, 'on year', year\n",
      "                 \n",
      "                # RUN MODELS FROM GROUP 1 ############################################  \n",
      "                # group 1\n",
      "                print 'Running original models.'\n",
      "                \n",
      "#                 # make sure cIV is last in the list of variables\n",
      "#                 originalLHS.remove(cIV)\n",
      "#                 originalLHS.append(cIV) \n",
      "    \n",
      "                result_orig = GU.runModel(dataCont, year, DV, originalLHS)                     \n",
      "                if not result_orig: continue # results will be None if the formula cant be estimated\n",
      "\n",
      "                results = [result_orig, result_cog]\n",
      "                \n",
      "                # new change, 2015-01-05\n",
      "                # THIS BLOCK OF CODE BELOW IS ADDED FROM 'MINIANALYSIS__models_on_next_year, \n",
      "                centralVars = []            \n",
      "                for civ in article.centralIVs:\n",
      "                    if 'standardize(%s, ddof=1)' % (civ) in results[0].params.index:\n",
      "                        centralVars.append('standardize(%s, ddof=1)' % (civ))\n",
      "                    else: \n",
      "                        for col in results[0].params.index:\n",
      "                            if 'C(' + civ + ')' in col:\n",
      "                                centralVars.append(col)          \n",
      "                                \n",
      "                # the condition below means that i don't care about models in which orig var isn't stat. sig.\n",
      "                # A reason for this condition is that if this central variable isn't significant in the original model\n",
      "                # then the goal of the article may've been to show that this variable DOESN'T matter. In such a \"negative\" case,\n",
      "                # what does replacing it with a cognate accomplish?\n",
      "#                 if result_orig.pvalues[-1] > 0.05: continue\n",
      "                if np.all(results[0].pvalues[centralVars] > 0.05): \n",
      "                    print 'All \"central\" IVs are p > 0.05. Skipping.'\n",
      "                    continue                \n",
      "                \n",
      "                # Checks on which results to record                \n",
      "                if len(result_cog.params) != len(result_orig.params):\n",
      "                    print 'The number of variables in original model is different from the number in cognate model. Skipping.'                    \n",
      "                    continue\n",
      "\n",
      "                    \n",
      "############################################################################################                \n",
      "# new way of saving results\n",
      "# new change, 2015-01-05\n",
      "# THIS BLOCK OF CODE BELOW IS ADDED FROM 'MINIANALYSIS__models_on_next_year,                    \n",
      "#                 for i in range(2):                 \n",
      "#                     output[groups[i]]['Rs'].append(results[i].rsquared) \n",
      "#                     output[groups[i]]['adjRs'].append(results[i].rsquared_adj) \n",
      "#                     output[groups[i]]['propSig'].append(float(len([p for p in results[i].pvalues[1:] if p < 0.05]))/len(results[i].params[1:])) \n",
      "#                     output[groups[i]]['paramSizesNormed'].append(np.mean(results[i].params[1:].abs())) \n",
      "#                     output[groups[i]]['pvalues'].append(np.mean( results[i].pvalues[1:]))\n",
      "#                     output[groups[i]]['numTotal'].append( 1 ) #divide by len of R^2 array to get a mean of variables estimated PER model                           \n",
      "\n",
      "#                     output[groups[i]]['pvalues_CentralVars'].append(np.mean(results[i].pvalues[centralVars]))               \n",
      "#                     output[groups[i]]['propSig_CentralVars'].append(float(len([p for p in results[i].pvalues[centralVars] if p < 0.05])) \\\n",
      "#                                                             /len(results[i].params[centralVars])) \n",
      "#                     output[groups[i]]['paramSizesNormed_CentralVars'].append(np.mean(results[i].params[centralVars].abs()))                \n",
      "                \n",
      "#                 output['metadata']['article_id'].append(article.articleID)    \n",
      "\n",
      "\n",
      "########################################################################################                \n",
      "## this is the old ways of saving results.. now i'm doing it the way \"models_on_next_year\" does it\n",
      "    \n",
      "                # save the results                   \n",
      "                td[group2]['Rs'].append(result_cog.rsquared)\n",
      "                td[group2]['adjRs'].append(result_cog.rsquared_adj)\n",
      "                td[group2]['numTotal'] += len(result_cog.params[1:])\n",
      "                td[group2]['numSig'] += float(len([p for p in result_cog.pvalues[1:] if p < 0.05])) # start at 1 because don't want to count the constant\n",
      "                td[group2]['paramSizesNormed'].append(abs(result_cog.params[-1])) # get the absolute value of the standardized coefficients and take the mean \n",
      "                td[group2]['pvalues'].append(result_cog.pvalues[-1])\n",
      "            \n",
      "                # Intermediate output (for years, because will average across these)\n",
      "                td[group1]['Rs'].append(result_orig.rsquared)\n",
      "                td[group1]['adjRs'].append(result_orig.rsquared_adj)\n",
      "                td[group1]['numTotal'] += len(result_orig.params[1:])\n",
      "                td[group1]['numSig'] += float(len([p for p in result_orig.pvalues[1:] if p < 0.05])) # start at 1 because don't want to count the constant\n",
      "                td[group1]['paramSizesNormed'].append(abs(result_orig.params[-1])) # get the absolute value of the standardized coefficients and take the mean \n",
      "                td[group1]['pvalues'].append(result_orig.pvalues[-1])\n",
      "         \n",
      "\n",
      "                \n",
      "\n",
      "# #                 print >> tempCognateOutput, 'Orig:\\t', cIV, '\\t\\tCogn:\\t', cognate, '\\t\\t Coeffs:\\t', results.params[-1], results.pvalues[-1],resultsCognate.params[-1], resultsCognate.pvalues[-1] \n",
      "            \n",
      "            \n",
      "            \n",
      "            # The change I'm making is that the block below is now within the for loop\n",
      "            # of \"for DV in article.DVs\". So I'm averaging over years but not DVs   \n",
      "            \n",
      "            # if an article's model isn't run on both group 1 and group 2, skip it        \n",
      "            if td[group1]['numTotal'] == 0 or td[group2]['numTotal'] == 0: continue\n",
      "          \n",
      "            variableCognateTuples.append((cIV, cognate))\n",
      "            for group in groups:      \n",
      "                output[group]['Rs'].append( np.mean(td[group]['Rs'])) \n",
      "                output[group]['adjRs'].append(np.mean( td[group]['adjRs'])) \n",
      "                output[group]['propSig'].append( td[group]['numSig']/td[group]['numTotal']) \n",
      "                output[group]['paramSizesNormed'].append(np.mean( td[group]['paramSizesNormed'])) \n",
      "                output[group]['pvalues'].append(np.mean( td[group]['pvalues']))\n",
      "                output[group]['numTotal'].append(td[group]['numTotal'] / len(td[group]['Rs'])) #divide by len of R^2 array to get a mean of variables estimated PER model                           \n",
      "            output['metadata']['article_id'].append(article.articleID)   \n",
      "        \n",
      "        \n",
      "#     print 'TTests'\n",
      "#     for outcome in outcomes:\n",
      "#         print 'Means of group1 and group2:', np.mean(output[group1][outcome]), np.mean(output[group2][outcome]), 'Paired T-test of ' + outcome, ttest_rel(output[group1][outcome], output[group2][outcome])\n",
      "\n",
      "#     tempCognateOutput.close()    "
     ],
     "language": "python",
     "metadata": {},
     "outputs": [
      {
       "output_type": "stream",
       "stream": "stdout",
       "text": [
        "Loading DataFrame df. This may take a few minutes.\n",
        "Processing article:"
       ]
      },
      {
       "output_type": "stream",
       "stream": "stdout",
       "text": [
        " 2665\n",
        "No cognates for the specified central IVs\n",
        "No suitable cognates. Skipping.\n",
        "Processing article: 5454\n",
        "No cognates for the specified central IVs\n",
        "No suitable cognates. Skipping.\n",
        "Processing article: 6980\n",
        "Running cognate models\n",
        "Running cognate models\n",
        "Running cognate models\n",
        "Not enough observations. Skipping...\n",
        "Running cognate models\n",
        "Running cognate models\n",
        "Running cognate models\n",
        "Not enough observations. Skipping..."
       ]
      },
      {
       "output_type": "stream",
       "stream": "stdout",
       "text": [
        "\n",
        "Running cognate models\n",
        "Running cognate models\n",
        "Running cognate models\n",
        "Not enough observations. Skipping...\n",
        "Running cognate models\n",
        "Running cognate models\n",
        "Running cognate models\n",
        "Not enough observations. Skipping...\n",
        "Running cognate models\n",
        "Running cognate models\n",
        "Running cognate models\n",
        "Not enough observations. Skipping...\n",
        "Running cognate models\n",
        "Running cognate models\n",
        "Running cognate models\n",
        "Not enough observations. Skipping..."
       ]
      },
      {
       "output_type": "stream",
       "stream": "stdout",
       "text": [
        "\n",
        "Running cognate models\n",
        "Running cognate models\n",
        "Running cognate models\n",
        "Not enough observations. Skipping...\n",
        "Running cognate models\n",
        "Running cognate models\n",
        "Running cognate models\n",
        "Not enough observations. Skipping..."
       ]
      },
      {
       "output_type": "stream",
       "stream": "stdout",
       "text": [
        "\n",
        "Running cognate models\n",
        "Running cognate models\n",
        "Running cognate models\n",
        "Not enough observations. Skipping...\n",
        "Running cognate models\n",
        "Running cognate models\n",
        "Running cognate models\n",
        "Not enough observations. Skipping...\n",
        "Running cognate models\n",
        "Running cognate models\n",
        "Running cognate models\n",
        "Not enough observations. Skipping...\n",
        "Running cognate models\n",
        "Running cognate models\n",
        "Running cognate models\n",
        "Not enough observations. Skipping..."
       ]
      },
      {
       "output_type": "stream",
       "stream": "stdout",
       "text": [
        "\n",
        "Running cognate models\n",
        "Running cognate models\n",
        "Running cognate models\n",
        "Not enough observations. Skipping...\n",
        "Running cognate models\n",
        "Running cognate models\n",
        "Running cognate models\n",
        "Not enough observations. Skipping...\n",
        "Running cognate models\n",
        "Running cognate models\n",
        "Running cognate models\n",
        "Not enough observations. Skipping...\n",
        "Running cognate models\n",
        "Running cognate models\n",
        "Running cognate models\n",
        "Not enough observations. Skipping..."
       ]
      },
      {
       "output_type": "stream",
       "stream": "stdout",
       "text": [
        "\n",
        "Running cognate models\n",
        "Running cognate models\n",
        "Running cognate models\n",
        "Not enough observations. Skipping...\n",
        "Running cognate models\n",
        "Running cognate models\n",
        "Running cognate models\n",
        "Not enough observations. Skipping...\n",
        "Processing article: 2571\n",
        "No cognates for the specified central IVs\n",
        "No suitable cognates. Skipping.\n",
        "Processing article: 7594\n",
        "No cognates for the specified central IVs\n",
        "No suitable cognates. Skipping.\n",
        "Processing article: 5750\n",
        "No cognates for the specified central IVs\n",
        "No suitable cognates. Skipping.\n",
        "Processing article: 5015\n",
        "No cognates for the specified central IVs\n",
        "No suitable cognates. Skipping.\n",
        "Processing article: 3607\n",
        "No cognates for the specified central IVs\n",
        "No suitable cognates. Skipping.\n",
        "Processing article: 6992\n",
        "No cognates for the specified central IVs\n",
        "No suitable cognates. Skipping.\n",
        "Processing article: 5243\n",
        "No cognates for the specified central IVs\n",
        "No suitable cognates. Skipping.\n",
        "Processing article: 2548\n",
        "No cognates for the specified central IVs\n",
        "No suitable cognates. Skipping.\n",
        "Processing article: 2174\n",
        "Could not find suitable cognate. Skipping.\n",
        "No suitable cognates. Skipping.\n",
        "Processing article: 4769\n",
        "Could not find suitable cognate. Skipping."
       ]
      },
      {
       "output_type": "stream",
       "stream": "stdout",
       "text": [
        "\n",
        "No suitable cognates. Skipping.\n",
        "Processing article: 5783\n",
        "Running cognate models\n",
        "Running cognate models\n",
        "Running cognate models\n",
        "Running cognate models\n",
        "Running cognate models\n",
        "Running cognate models\n",
        "Running cognate models\n",
        "Running cognate models\n",
        "Running cognate models\n",
        "Running cognate models\n",
        "Running cognate models\n",
        "Running cognate models\n",
        "Running cognate models\n",
        "Running cognate models\n",
        "Running cognate models"
       ]
      },
      {
       "output_type": "stream",
       "stream": "stdout",
       "text": [
        "\n",
        "Running cognate models\n",
        "Running cognate models\n",
        "Processing article: 5926\n",
        "Could not find suitable cognate. Skipping.\n",
        "No suitable cognates. Skipping.\n",
        "Processing article: 2146\n",
        "Running cognate models\n",
        "Running cognate models\n",
        "Processing article:"
       ]
      },
      {
       "output_type": "stream",
       "stream": "stdout",
       "text": [
        " 5502\n",
        "No cognates for the specified central IVs\n",
        "No suitable cognates. Skipping.\n",
        "Processing article: 1212\n",
        "No cognates for the specified central IVs\n",
        "No suitable cognates. Skipping.\n",
        "Processing article: 28\n",
        "No cognates for the specified central IVs\n",
        "No suitable cognates. Skipping.\n",
        "Processing article: 1651\n",
        "Running cognate models\n",
        "Dropping column MARITAL because it is constant\n",
        "Running cognate models\n",
        "Dropping column MARITAL because it is constant\n",
        "Running cognate models\n",
        "Dropping column MARITAL because it is constant\n",
        "Running cognate models\n",
        "Dropping column MARITAL because it is constant\n",
        "Running cognate models\n",
        "Dropping column MARITAL because it is constant\n",
        "Running cognate models\n",
        "Dropping column MARITAL because it is constant\n",
        "Processing article: 3036\n",
        "Running cognate models\n",
        "Running cognate models\n",
        "Processing article: 6156\n",
        "No cognates for the specified central IVs\n",
        "No suitable cognates. Skipping.\n",
        "Processing article: 2312\n",
        "No cognates for the specified central IVs\n",
        "No suitable cognates. Skipping.\n",
        "Processing article: 1311\n",
        "No cognates for the specified central IVs\n",
        "No suitable cognates. Skipping.\n",
        "Processing article: 1210\n",
        "No cognates for the specified central IVs\n",
        "No suitable cognates. Skipping.\n",
        "Processing article: 1313\n",
        "No cognates for the specified central IVs\n",
        "No suitable cognates. Skipping.\n",
        "Processing article: 2111\n",
        "No cognates for the specified central IVs\n",
        "No suitable cognates. Skipping.\n",
        "Processing article: 1630\n",
        "Running cognate models"
       ]
      },
      {
       "output_type": "stream",
       "stream": "stdout",
       "text": [
        "\n",
        "Running original models."
       ]
      },
      {
       "output_type": "stream",
       "stream": "stdout",
       "text": [
        "\n",
        "All \"central\" IVs are p > 0.05. Skipping."
       ]
      },
      {
       "output_type": "stream",
       "stream": "stdout",
       "text": [
        "\n",
        "Processing article: 4055\n",
        "No cognates for the specified central IVs\n",
        "No suitable cognates. Skipping.\n",
        "Processing article: 1315\n",
        "No cognates for the specified central IVs\n",
        "No suitable cognates. Skipping.\n",
        "Processing article: 1962\n",
        "Running cognate models\n",
        "Running cognate models\n",
        "Running cognate models\n",
        "Running cognate models\n",
        "Running cognate models\n",
        "Running cognate models\n",
        "Running cognate models\n",
        "Running cognate models\n",
        "Running cognate models\n",
        "Running cognate models\n",
        "Running cognate models\n",
        "Running cognate models\n",
        "Running cognate models"
       ]
      },
      {
       "output_type": "stream",
       "stream": "stdout",
       "text": [
        "\n",
        "Running cognate models\n",
        "Running cognate models\n",
        "Processing article: 54\n",
        "No cognates for the specified central IVs\n",
        "No suitable cognates. Skipping.\n",
        "Processing article: 6363\n",
        "No cognates for the specified central IVs\n",
        "No suitable cognates. Skipping.\n",
        "Processing article: 2506\n",
        "Could not find suitable cognate. Skipping.\n",
        "No suitable cognates. Skipping.\n",
        "Processing article: 4962\n",
        "No cognates for the specified central IVs\n",
        "No suitable cognates. Skipping.\n",
        "Processing article: 5547\n",
        "No cognates for the specified central IVs\n",
        "No suitable cognates. Skipping.\n",
        "Processing article: 3283\n",
        "No cognates for the specified central IVs\n",
        "No suitable cognates. Skipping.\n",
        "Processing article: 636\n",
        "No cognates for the specified central IVs\n",
        "No suitable cognates. Skipping.\n",
        "Processing article: 7791\n",
        "Running cognate models\n",
        "Dropping column RELIG because it is constant\n",
        "Dropping column MARITAL because it is constant\n",
        "Processing article: 4430\n",
        "Running cognate models"
       ]
      },
      {
       "output_type": "stream",
       "stream": "stdout",
       "text": [
        "\n",
        "Dropping column MARITAL because it is constant\n",
        "Processing article: 6081\n",
        "No cognates for the specified central IVs\n",
        "No suitable cognates. Skipping.\n",
        "Processing article: 2465\n",
        "No cognates for the specified central IVs\n",
        "No suitable cognates. Skipping.\n",
        "Processing article: 5704\n",
        "Could not find suitable cognate. Skipping.\n",
        "No suitable cognates. Skipping.\n",
        "Processing article: 5170\n",
        "No cognates for the specified central IVs\n",
        "No suitable cognates. Skipping.\n",
        "Processing article: 5210\n",
        "Could not find suitable cognate. Skipping.\n",
        "No suitable cognates. Skipping.\n",
        "Processing article: 3400\n",
        "No cognates for the specified central IVs\n",
        "No suitable cognates. Skipping.\n",
        "Processing article: 5377\n",
        "Could not find suitable cognate. Skipping.\n",
        "No suitable cognates. Skipping.\n",
        "Processing article: 4580\n",
        "Running cognate models\n",
        "Running cognate models"
       ]
      },
      {
       "output_type": "stream",
       "stream": "stdout",
       "text": [
        "\n",
        "Running cognate models\n",
        "Running cognate models\n",
        "Running cognate models\n",
        "Running cognate models\n",
        "Running cognate models\n",
        "Processing article: 1686\n",
        "Could not find suitable cognate. Skipping.\n",
        "No suitable cognates. Skipping.\n",
        "Processing article: 4715\n",
        "No cognates for the specified central IVs\n",
        "No suitable cognates. Skipping.\n",
        "Processing article: 325\n",
        "Could not find suitable cognate. Skipping."
       ]
      },
      {
       "output_type": "stream",
       "stream": "stdout",
       "text": [
        "\n",
        "No suitable cognates. Skipping.\n",
        "Processing article: 861\n",
        "Running cognate models\n",
        "Running original models."
       ]
      },
      {
       "output_type": "stream",
       "stream": "stdout",
       "text": [
        "\n",
        "Processing article:"
       ]
      },
      {
       "output_type": "stream",
       "stream": "stdout",
       "text": [
        " 4790\n",
        "No cognates for the specified central IVs\n",
        "No suitable cognates. Skipping.\n",
        "Processing article: 3606\n",
        "No cognates for the specified central IVs\n",
        "No suitable cognates. Skipping.\n",
        "Processing article: 4828\n",
        "Running cognate models\n",
        "Running cognate models\n",
        "Running cognate models\n",
        "Running cognate models\n",
        "Running cognate models\n",
        "Running cognate models\n",
        "Running cognate models\n",
        "Running cognate models\n",
        "Running cognate models\n",
        "Running cognate models\n",
        "Running cognate models\n",
        "Running cognate models\n",
        "Running cognate models\n",
        "Running cognate models"
       ]
      },
      {
       "output_type": "stream",
       "stream": "stdout",
       "text": [
        "\n",
        "Running cognate models\n",
        "Running cognate models\n",
        "Running cognate models\n",
        "Running cognate models\n",
        "Running cognate models\n",
        "Running cognate models\n",
        "Processing article: 2149\n",
        "Could not find suitable cognate. Skipping.\n",
        "No suitable cognates. Skipping.\n",
        "Processing article: 1648\n",
        "Running cognate models"
       ]
      },
      {
       "output_type": "stream",
       "stream": "stdout",
       "text": [
        "\n",
        "Dropping column MARITAL because it is constant\n",
        "Running cognate models\n",
        "Dropping column MARITAL because it is constant\n",
        "Running cognate models\n",
        "Dropping column MARITAL because it is constant\n",
        "Running cognate models\n",
        "Dropping column MARITAL because it is constant\n",
        "Running cognate models\n",
        "Dropping column MARITAL because it is constant\n",
        "Running cognate models\n",
        "Dropping column MARITAL because it is constant\n",
        "Running cognate models\n",
        "Dropping column MARITAL because it is constant\n",
        "Running cognate models\n",
        "Dropping column MARITAL because it is constant\n",
        "Running cognate models\n",
        "Dropping column MARITAL because it is constant\n",
        "Running cognate models\n",
        "Dropping column MARITAL because it is constant\n",
        "Processing article: 2591\n",
        "No cognates for the specified central IVs\n",
        "No suitable cognates. Skipping.\n",
        "Processing article: 1362\n",
        "Running cognate models"
       ]
      },
      {
       "output_type": "stream",
       "stream": "stdout",
       "text": [
        "\n",
        "Running cognate models\n",
        "Running cognate models\n",
        "Processing article: 2231\n",
        "Could not find suitable cognate. Skipping.\n",
        "No suitable cognates. Skipping.\n",
        "Processing article: 356\n",
        "No cognates for the specified central IVs\n",
        "No suitable cognates. Skipping.\n",
        "Processing article: 2596\n",
        "No cognates for the specified central IVs\n",
        "No suitable cognates. Skipping.\n",
        "Processing article: 1281\n",
        "Running cognate models\n",
        "Running original models."
       ]
      },
      {
       "output_type": "stream",
       "stream": "stdout",
       "text": [
        "\n",
        "All \"central\" IVs are p > 0.05. Skipping."
       ]
      },
      {
       "output_type": "stream",
       "stream": "stdout",
       "text": [
        "\n",
        "Running cognate models\n",
        "Running original models.\n",
        "All \"central\" IVs are p > 0.05. Skipping."
       ]
      },
      {
       "output_type": "stream",
       "stream": "stdout",
       "text": [
        "\n",
        "Running cognate models\n",
        "Running original models."
       ]
      },
      {
       "output_type": "stream",
       "stream": "stdout",
       "text": [
        "\n",
        "All \"central\" IVs are p > 0.05. Skipping."
       ]
      },
      {
       "output_type": "stream",
       "stream": "stdout",
       "text": [
        "\n",
        "Running cognate models\n",
        "Running original models."
       ]
      },
      {
       "output_type": "stream",
       "stream": "stdout",
       "text": [
        "\n",
        "All \"central\" IVs are p > 0.05. Skipping."
       ]
      },
      {
       "output_type": "stream",
       "stream": "stdout",
       "text": [
        "\n",
        "Running cognate models\n",
        "Running original models."
       ]
      },
      {
       "output_type": "stream",
       "stream": "stdout",
       "text": [
        "\n",
        "All \"central\" IVs are p > 0.05. Skipping."
       ]
      },
      {
       "output_type": "stream",
       "stream": "stdout",
       "text": [
        "\n",
        "Running cognate models\n",
        "Running original models."
       ]
      },
      {
       "output_type": "stream",
       "stream": "stdout",
       "text": [
        "\n",
        "All \"central\" IVs are p > 0.05. Skipping."
       ]
      },
      {
       "output_type": "stream",
       "stream": "stdout",
       "text": [
        "\n",
        "Running cognate models\n",
        "Running original models."
       ]
      },
      {
       "output_type": "stream",
       "stream": "stdout",
       "text": [
        "\n",
        "All \"central\" IVs are p > 0.05. Skipping."
       ]
      },
      {
       "output_type": "stream",
       "stream": "stdout",
       "text": [
        "\n",
        "Processing article: 5862\n",
        "No cognates for the specified central IVs\n",
        "No suitable cognates. Skipping.\n",
        "Processing article: 5039\n",
        "No cognates for the specified central IVs\n",
        "No suitable cognates. Skipping.\n",
        "Processing article: 5577\n",
        "No cognates for the specified central IVs\n",
        "No suitable cognates. Skipping.\n",
        "Processing article: 1390\n",
        "No cognates for the specified central IVs\n",
        "No suitable cognates. Skipping.\n",
        "Processing article: 5091\n",
        "No cognates for the specified central IVs\n",
        "No suitable cognates. Skipping.\n",
        "Processing article: 6190\n",
        "No cognates for the specified central IVs\n",
        "No suitable cognates. Skipping.\n",
        "Processing article: 6136\n",
        "No cognates for the specified central IVs\n",
        "No suitable cognates. Skipping.\n",
        "Processing article: 4152\n",
        "Could not find suitable cognate. Skipping.\n",
        "No suitable cognates. Skipping.\n",
        "Processing article: 4297\n",
        "Running cognate models"
       ]
      },
      {
       "output_type": "stream",
       "stream": "stdout",
       "text": [
        "\n",
        "Running cognate models\n",
        "Running cognate models\n",
        "Running cognate models\n",
        "Running cognate models\n",
        "Running cognate models\n",
        "Running cognate models\n",
        "Running cognate models\n",
        "Processing article: 3743\n",
        "Could not find suitable cognate. Skipping.\n",
        "No suitable cognates. Skipping.\n",
        "Processing article: 4950\n",
        "Running cognate models"
       ]
      },
      {
       "output_type": "stream",
       "stream": "stdout",
       "text": [
        "\n",
        "Running cognate models\n",
        "Running cognate models\n",
        "Running cognate models\n",
        "Running cognate models\n",
        "Running cognate models\n",
        "Running cognate models\n",
        "Running cognate models\n",
        "Running cognate models\n",
        "Running cognate models\n",
        "Running cognate models\n",
        "Running cognate models\n",
        "Running cognate models\n",
        "Running cognate models\n",
        "Running cognate models\n",
        "Running cognate models\n",
        "Running cognate models\n",
        "Dropping column MARITAL because it is constant\n",
        "Dropping column RELIG16 because it is constant\n",
        "Running cognate models\n",
        "Running cognate models"
       ]
      },
      {
       "output_type": "stream",
       "stream": "stdout",
       "text": [
        "\n",
        "Running cognate models\n",
        "Running cognate models\n",
        "Running cognate models\n",
        "Running cognate models\n",
        "Running cognate models\n",
        "Running cognate models\n",
        "Running cognate models\n",
        "Running cognate models\n",
        "Running cognate models\n",
        "Running cognate models\n",
        "Running cognate models\n",
        "Running cognate models\n",
        "Running cognate models\n",
        "Running cognate models\n",
        "Running cognate models\n",
        "Running cognate models\n",
        "Running cognate models\n",
        "Running cognate models\n",
        "Running cognate models"
       ]
      },
      {
       "output_type": "stream",
       "stream": "stdout",
       "text": [
        "\n",
        "Running cognate models\n",
        "Running cognate models\n",
        "Running cognate models\n",
        "Running cognate models\n",
        "Running cognate models\n",
        "Running cognate models\n",
        "Running cognate models\n",
        "Running cognate models\n",
        "Running cognate models\n",
        "Running cognate models\n",
        "Processing article: 2877\n",
        "No cognates for the specified central IVs\n",
        "No suitable cognates. Skipping.\n",
        "Processing article: 5455\n",
        "No cognates for the specified central IVs\n",
        "No suitable cognates. Skipping.\n",
        "Processing article: 1310\n",
        "Running cognate models"
       ]
      },
      {
       "output_type": "stream",
       "stream": "stdout",
       "text": [
        "\n",
        "Running cognate models\n",
        "Running cognate models\n",
        "Running cognate models\n",
        "Running cognate models\n",
        "Running cognate models\n",
        "Running cognate models\n",
        "Running cognate models\n",
        "Running cognate models\n",
        "Running cognate models\n",
        "Running cognate models\n",
        "Running cognate models\n",
        "Running cognate models\n",
        "Running cognate models\n",
        "Running cognate models"
       ]
      },
      {
       "output_type": "stream",
       "stream": "stdout",
       "text": [
        "\n",
        "Running cognate models\n",
        "Running cognate models\n",
        "Running cognate models\n",
        "Running cognate models\n",
        "Running cognate models\n",
        "Processing article: 4980\n",
        "No cognates for the specified central IVs\n",
        "No suitable cognates. Skipping.\n",
        "Processing article: 4441\n",
        "Running cognate models\n",
        "Running cognate models\n",
        "Running cognate models\n",
        "Running cognate models\n",
        "Running cognate models\n",
        "Running cognate models\n",
        "Running cognate models\n",
        "Processing article: 6725\n",
        "Running cognate models"
       ]
      },
      {
       "output_type": "stream",
       "stream": "stdout",
       "text": [
        "\n",
        "Running cognate models\n",
        "Running cognate models\n",
        "Running cognate models\n",
        "Running cognate models\n",
        "Running cognate models\n",
        "Running cognate models\n",
        "Running cognate models\n",
        "Running cognate models\n",
        "Running cognate models\n",
        "Running cognate models\n",
        "Running cognate models\n",
        "Running cognate models\n",
        "Running cognate models\n",
        "Processing article: 6285\n",
        "No cognates for the specified central IVs\n",
        "No suitable cognates. Skipping.\n",
        "Processing article: 2581\n",
        "Could not find suitable cognate. Skipping."
       ]
      },
      {
       "output_type": "stream",
       "stream": "stdout",
       "text": [
        "\n",
        "No suitable cognates. Skipping.\n",
        "Processing article: 3729\n",
        "No cognates for the specified central IVs\n",
        "No suitable cognates. Skipping.\n",
        "Processing article: 545\n",
        "Running cognate models\n",
        "Running cognate models\n",
        "Processing article: 7282\n",
        "Running cognate models"
       ]
      },
      {
       "output_type": "stream",
       "stream": "stdout",
       "text": [
        "\n",
        "Running original models."
       ]
      },
      {
       "output_type": "stream",
       "stream": "stdout",
       "text": [
        "\n",
        "Running cognate models"
       ]
      },
      {
       "output_type": "stream",
       "stream": "stdout",
       "text": [
        "\n",
        "Running original models."
       ]
      },
      {
       "output_type": "stream",
       "stream": "stdout",
       "text": [
        "\n",
        "Running cognate models"
       ]
      },
      {
       "output_type": "stream",
       "stream": "stdout",
       "text": [
        "\n",
        "Running original models."
       ]
      },
      {
       "output_type": "stream",
       "stream": "stdout",
       "text": [
        "\n",
        "Running cognate models"
       ]
      },
      {
       "output_type": "stream",
       "stream": "stdout",
       "text": [
        "\n",
        "Running original models."
       ]
      },
      {
       "output_type": "stream",
       "stream": "stdout",
       "text": [
        "\n",
        "Running cognate models"
       ]
      },
      {
       "output_type": "stream",
       "stream": "stdout",
       "text": [
        "\n",
        "Running original models."
       ]
      },
      {
       "output_type": "stream",
       "stream": "stdout",
       "text": [
        "\n",
        "Running cognate models"
       ]
      },
      {
       "output_type": "stream",
       "stream": "stdout",
       "text": [
        "\n",
        "Running original models."
       ]
      },
      {
       "output_type": "stream",
       "stream": "stdout",
       "text": [
        "\n",
        "Running cognate models"
       ]
      },
      {
       "output_type": "stream",
       "stream": "stdout",
       "text": [
        "\n",
        "Running original models."
       ]
      },
      {
       "output_type": "stream",
       "stream": "stdout",
       "text": [
        "\n",
        "Running cognate models"
       ]
      },
      {
       "output_type": "stream",
       "stream": "stdout",
       "text": [
        "\n",
        "Running original models."
       ]
      },
      {
       "output_type": "stream",
       "stream": "stdout",
       "text": [
        "\n",
        "Running cognate models"
       ]
      },
      {
       "output_type": "stream",
       "stream": "stdout",
       "text": [
        "\n",
        "Running original models."
       ]
      },
      {
       "output_type": "stream",
       "stream": "stdout",
       "text": [
        "\n",
        "Processing article:"
       ]
      },
      {
       "output_type": "stream",
       "stream": "stdout",
       "text": [
        " 224\n",
        "Running cognate models"
       ]
      },
      {
       "output_type": "stream",
       "stream": "stdout",
       "text": [
        "\n",
        "Either the  params or the R^2 is too high. Skipping."
       ]
      },
      {
       "output_type": "stream",
       "stream": "stdout",
       "text": [
        "\n",
        "Running cognate models\n",
        "Either the  params or the R^2 is too high. Skipping."
       ]
      },
      {
       "output_type": "stream",
       "stream": "stdout",
       "text": [
        "\n",
        "Running cognate models\n",
        "Running original models."
       ]
      },
      {
       "output_type": "stream",
       "stream": "stdout",
       "text": [
        "\n",
        "Either the  params or the R^2 is too high. Skipping."
       ]
      },
      {
       "output_type": "stream",
       "stream": "stdout",
       "text": [
        "\n",
        "Running cognate models\n",
        "Either the  params or the R^2 is too high. Skipping."
       ]
      },
      {
       "output_type": "stream",
       "stream": "stdout",
       "text": [
        "\n",
        "Running cognate models\n",
        "Either the  params or the R^2 is too high. Skipping."
       ]
      },
      {
       "output_type": "stream",
       "stream": "stdout",
       "text": [
        "\n",
        "Running cognate models\n",
        "Either the  params or the R^2 is too high. Skipping."
       ]
      },
      {
       "output_type": "stream",
       "stream": "stdout",
       "text": [
        "\n",
        "Running cognate models\n",
        "Running original models.\n",
        "Running cognate models"
       ]
      },
      {
       "output_type": "stream",
       "stream": "stdout",
       "text": [
        "\n",
        "Running original models."
       ]
      },
      {
       "output_type": "stream",
       "stream": "stdout",
       "text": [
        "\n",
        "Running cognate models"
       ]
      },
      {
       "output_type": "stream",
       "stream": "stdout",
       "text": [
        "\n",
        "Running original models.\n",
        "Running cognate models"
       ]
      },
      {
       "output_type": "stream",
       "stream": "stdout",
       "text": [
        "\n",
        "Running original models.\n",
        "Running cognate models"
       ]
      },
      {
       "output_type": "stream",
       "stream": "stdout",
       "text": [
        "\n",
        "Running original models."
       ]
      },
      {
       "output_type": "stream",
       "stream": "stdout",
       "text": [
        "\n",
        "Running cognate models"
       ]
      },
      {
       "output_type": "stream",
       "stream": "stdout",
       "text": [
        "\n",
        "Running original models."
       ]
      },
      {
       "output_type": "stream",
       "stream": "stdout",
       "text": [
        "\n",
        "Either the  params or the R^2 is too high. Skipping."
       ]
      },
      {
       "output_type": "stream",
       "stream": "stdout",
       "text": [
        "\n",
        "Running cognate models\n",
        "Either the  params or the R^2 is too high. Skipping."
       ]
      },
      {
       "output_type": "stream",
       "stream": "stdout",
       "text": [
        "\n",
        "Processing article: 6642\n",
        "No cognates for the specified central IVs\n",
        "No suitable cognates. Skipping.\n",
        "Processing article: 4599\n",
        "No cognates for the specified central IVs\n",
        "No suitable cognates. Skipping.\n",
        "Processing article: 2974\n",
        "Running cognate models"
       ]
      },
      {
       "output_type": "stream",
       "stream": "stdout",
       "text": [
        "\n",
        "Running cognate models\n",
        "Running cognate models\n",
        "Running cognate models\n",
        "Running cognate models\n",
        "Running cognate models\n",
        "Running cognate models\n",
        "Running cognate models\n",
        "Running cognate models\n",
        "Running cognate models\n",
        "Running cognate models\n",
        "Running cognate models\n",
        "Running cognate models\n",
        "Running cognate models\n",
        "Running cognate models\n",
        "Running cognate models"
       ]
      },
      {
       "output_type": "stream",
       "stream": "stdout",
       "text": [
        "\n",
        "Running cognate models\n",
        "Running cognate models\n",
        "Running cognate models\n",
        "Running cognate models\n",
        "Running cognate models\n",
        "Running cognate models\n",
        "Running cognate models\n",
        "Running cognate models\n",
        "Running cognate models\n",
        "Running cognate models\n",
        "Running cognate models\n",
        "Running cognate models\n",
        "Running cognate models\n",
        "Running cognate models\n",
        "Running cognate models"
       ]
      },
      {
       "output_type": "stream",
       "stream": "stdout",
       "text": [
        "\n",
        "Running cognate models\n",
        "Running cognate models\n",
        "Running cognate models\n",
        "Running cognate models\n",
        "Running cognate models\n",
        "Running cognate models\n",
        "Running cognate models\n",
        "Running cognate models\n",
        "Running cognate models\n",
        "Running cognate models\n",
        "Running cognate models\n",
        "Processing article: 2092\n",
        "Running cognate models"
       ]
      },
      {
       "output_type": "stream",
       "stream": "stdout",
       "text": [
        "\n",
        "Running cognate models\n",
        "Running cognate models\n",
        "Running cognate models\n",
        "Running cognate models\n",
        "Running cognate models\n",
        "Running cognate models\n",
        "Running cognate models\n",
        "Running cognate models\n",
        "Running cognate models\n",
        "Running cognate models\n",
        "Running cognate models\n",
        "Running cognate models\n",
        "Running cognate models\n",
        "Running cognate models\n",
        "Running cognate models\n",
        "Running cognate models"
       ]
      },
      {
       "output_type": "stream",
       "stream": "stdout",
       "text": [
        "\n",
        "Running cognate models\n",
        "Processing article: 2671\n",
        "Running cognate models\n",
        "Running cognate models\n",
        "Running cognate models\n",
        "Running cognate models\n",
        "Running cognate models\n",
        "Running cognate models\n",
        "Running cognate models"
       ]
      },
      {
       "output_type": "stream",
       "stream": "stdout",
       "text": [
        "\n",
        "Running cognate models\n",
        "Running cognate models\n",
        "Running cognate models\n",
        "Running cognate models\n",
        "Running cognate models\n",
        "Running cognate models\n",
        "Processing article: 358\n",
        "Running cognate models\n",
        "Running original models."
       ]
      },
      {
       "output_type": "stream",
       "stream": "stdout",
       "text": [
        "\n",
        "Running cognate models"
       ]
      },
      {
       "output_type": "stream",
       "stream": "stdout",
       "text": [
        "\n",
        "Running original models."
       ]
      },
      {
       "output_type": "stream",
       "stream": "stdout",
       "text": [
        "\n",
        "Running cognate models"
       ]
      },
      {
       "output_type": "stream",
       "stream": "stdout",
       "text": [
        "\n",
        "Running original models."
       ]
      },
      {
       "output_type": "stream",
       "stream": "stdout",
       "text": [
        "\n",
        "Running cognate models"
       ]
      },
      {
       "output_type": "stream",
       "stream": "stdout",
       "text": [
        "\n",
        "Running original models."
       ]
      },
      {
       "output_type": "stream",
       "stream": "stdout",
       "text": [
        "\n",
        "Running cognate models"
       ]
      },
      {
       "output_type": "stream",
       "stream": "stdout",
       "text": [
        "\n",
        "Running original models."
       ]
      },
      {
       "output_type": "stream",
       "stream": "stdout",
       "text": [
        "\n",
        "Running cognate models"
       ]
      },
      {
       "output_type": "stream",
       "stream": "stdout",
       "text": [
        "\n",
        "Running original models."
       ]
      },
      {
       "output_type": "stream",
       "stream": "stdout",
       "text": [
        "\n",
        "Running cognate models"
       ]
      },
      {
       "output_type": "stream",
       "stream": "stdout",
       "text": [
        "\n",
        "Running original models."
       ]
      },
      {
       "output_type": "stream",
       "stream": "stdout",
       "text": [
        "\n",
        "Running cognate models"
       ]
      },
      {
       "output_type": "stream",
       "stream": "stdout",
       "text": [
        "\n",
        "Running original models."
       ]
      },
      {
       "output_type": "stream",
       "stream": "stdout",
       "text": [
        "\n",
        "Running cognate models"
       ]
      },
      {
       "output_type": "stream",
       "stream": "stdout",
       "text": [
        "\n",
        "Running original models."
       ]
      },
      {
       "output_type": "stream",
       "stream": "stdout",
       "text": [
        "\n",
        "Running cognate models"
       ]
      },
      {
       "output_type": "stream",
       "stream": "stdout",
       "text": [
        "\n",
        "Running original models."
       ]
      },
      {
       "output_type": "stream",
       "stream": "stdout",
       "text": [
        "\n",
        "Processing article:"
       ]
      },
      {
       "output_type": "stream",
       "stream": "stdout",
       "text": [
        " 3772\n",
        "Could not find suitable cognate. Skipping."
       ]
      },
      {
       "output_type": "stream",
       "stream": "stdout",
       "text": [
        "\n",
        "No suitable cognates. Skipping.\n",
        "Processing article: 7790\n",
        "No cognates for the specified central IVs\n",
        "No suitable cognates. Skipping.\n",
        "Processing article: 4291\n",
        "No cognates for the specified central IVs\n",
        "No suitable cognates. Skipping.\n",
        "Processing article: 7431\n",
        "No cognates for the specified central IVs\n",
        "No suitable cognates. Skipping.\n",
        "Processing article: 1341\n",
        "Could not find suitable cognate. Skipping.\n",
        "No suitable cognates. Skipping.\n",
        "Processing article: 4451\n",
        "Running cognate models\n",
        "Dropping column MARITAL because it is constant\n",
        "Dropping column CHURHMEM because it is constant\n",
        "Running cognate models\n",
        "Dropping column MARITAL because it is constant\n",
        "Dropping column CHURHMEM because it is constant\n",
        "Running cognate models\n",
        "Dropping column MARITAL because it is constant\n",
        "Dropping column CHURHMEM because it is constant\n",
        "Running cognate models\n",
        "Dropping column MARITAL because it is constant\n",
        "Dropping column CHURHMEM because it is constant\n",
        "Running cognate models\n",
        "Dropping column MARITAL because it is constant\n",
        "Dropping column CHURHMEM because it is constant\n",
        "Processing article: 2943\n",
        "No cognates for the specified central IVs\n",
        "No suitable cognates. Skipping.\n",
        "Processing article: 1730\n",
        "No cognates for the specified central IVs\n",
        "No suitable cognates. Skipping.\n",
        "Processing article: 348\n",
        "No cognates for the specified central IVs\n",
        "No suitable cognates. Skipping.\n",
        "Processing article: 7235\n",
        "No cognates for the specified central IVs\n",
        "No suitable cognates. Skipping.\n",
        "Processing article: 509\n",
        "No cognates for the specified central IVs\n",
        "No suitable cognates. Skipping.\n",
        "Processing article: 6268\n",
        "No cognates for the specified central IVs\n",
        "No suitable cognates. Skipping.\n",
        "Processing article: 4617\n",
        "Running cognate models"
       ]
      },
      {
       "output_type": "stream",
       "stream": "stdout",
       "text": [
        "\n",
        "Running cognate models\n",
        "Running cognate models\n",
        "Running cognate models\n",
        "Running cognate models\n",
        "Running cognate models\n",
        "Running cognate models\n",
        "Running cognate models\n",
        "Running cognate models\n",
        "Running cognate models\n",
        "Running cognate models\n",
        "Running cognate models\n",
        "Running cognate models\n",
        "Running cognate models\n",
        "Running cognate models\n",
        "Running cognate models\n",
        "Running cognate models\n",
        "Running cognate models\n",
        "Running cognate models"
       ]
      },
      {
       "output_type": "stream",
       "stream": "stdout",
       "text": [
        "\n",
        "Running cognate models\n",
        "Running cognate models\n",
        "Running cognate models\n",
        "Running cognate models\n",
        "Running cognate models\n",
        "Running cognate models\n",
        "Running cognate models\n",
        "Running cognate models\n",
        "Running cognate models\n",
        "Running cognate models\n",
        "Running cognate models\n",
        "Running cognate models\n",
        "Running cognate models\n",
        "Running cognate models\n",
        "Running cognate models\n",
        "Running cognate models\n",
        "Running cognate models"
       ]
      },
      {
       "output_type": "stream",
       "stream": "stdout",
       "text": [
        "\n",
        "Running cognate models\n",
        "Running cognate models\n",
        "Running cognate models\n",
        "Running cognate models\n",
        "Running cognate models\n",
        "Running cognate models\n",
        "Running cognate models\n",
        "Running cognate models\n",
        "Running cognate models\n",
        "Running cognate models\n",
        "Running cognate models\n",
        "Running cognate models\n",
        "Running cognate models\n",
        "Running cognate models\n",
        "Running cognate models\n",
        "Running cognate models\n",
        "Running cognate models\n",
        "Running cognate models"
       ]
      },
      {
       "output_type": "stream",
       "stream": "stdout",
       "text": [
        "\n",
        "Running cognate models\n",
        "Running cognate models\n",
        "Running cognate models\n",
        "Running cognate models\n",
        "Running cognate models\n",
        "Running cognate models\n",
        "Running cognate models\n",
        "Running cognate models\n",
        "Running cognate models\n",
        "Running cognate models\n",
        "Running cognate models\n",
        "Running cognate models\n",
        "Processing article: 1404\n",
        "No cognates for the specified central IVs\n",
        "No suitable cognates. Skipping.\n",
        "Processing article: 2051\n",
        "Could not find suitable cognate. Skipping.\n",
        "No suitable cognates. Skipping.\n",
        "Processing article: 1182\n",
        "No cognates for the specified central IVs\n",
        "No suitable cognates. Skipping.\n",
        "Processing article: 6464\n",
        "Could not find suitable cognate. Skipping."
       ]
      },
      {
       "output_type": "stream",
       "stream": "stdout",
       "text": [
        "\n",
        "No suitable cognates. Skipping.\n",
        "Processing article: 1582\n",
        "Could not find suitable cognate. Skipping."
       ]
      },
      {
       "output_type": "stream",
       "stream": "stdout",
       "text": [
        "\n",
        "No suitable cognates. Skipping.\n",
        "Processing article: 7339\n",
        "Could not find suitable cognate. Skipping.\n",
        "No suitable cognates. Skipping.\n",
        "Processing article: 6101\n",
        "No cognates for the specified central IVs\n",
        "No suitable cognates. Skipping.\n",
        "Processing article: 2697\n",
        "No cognates for the specified central IVs\n",
        "No suitable cognates. Skipping.\n",
        "Processing article: 4979\n",
        "Could not find suitable cognate. Skipping.\n",
        "No suitable cognates. Skipping.\n",
        "Processing article: 1689\n",
        "No cognates for the specified central IVs\n",
        "No suitable cognates. Skipping.\n",
        "Processing article: 2466\n",
        "No cognates for the specified central IVs\n",
        "No suitable cognates. Skipping.\n",
        "Processing article: 1703\n",
        "No cognates for the specified central IVs\n",
        "No suitable cognates. Skipping.\n",
        "Processing article: 7507\n",
        "Running cognate models"
       ]
      },
      {
       "output_type": "stream",
       "stream": "stdout",
       "text": [
        "\n",
        "Dropping column RELIG because it is constant\n",
        "Running cognate models\n",
        "Dropping column RELIG because it is constant\n",
        "Running cognate models\n",
        "Dropping column RELIG because it is constant\n",
        "Running cognate models\n",
        "Dropping column RELIG because it is constant\n",
        "Running cognate models\n",
        "Dropping column RELIG because it is constant\n",
        "Running cognate models\n",
        "Dropping column RELIG because it is constant\n",
        "Running cognate models\n",
        "Dropping column RELIG because it is constant\n",
        "Running cognate models\n",
        "Dropping column RELIG because it is constant\n",
        "Running cognate models\n",
        "Dropping column RELIG because it is constant\n",
        "Running cognate models\n",
        "Dropping column RELIG because it is constant\n",
        "Running cognate models\n",
        "Dropping column RELIG because it is constant\n",
        "Running cognate models\n",
        "Dropping column RELIG because it is constant\n",
        "Running cognate models"
       ]
      },
      {
       "output_type": "stream",
       "stream": "stdout",
       "text": [
        "\n",
        "Dropping column RELIG because it is constant\n",
        "Running cognate models\n",
        "Dropping column RELIG because it is constant\n",
        "Running cognate models\n",
        "Dropping column RELIG because it is constant\n",
        "Running cognate models\n",
        "Dropping column RELIG because it is constant\n",
        "Processing article: 4434\n",
        "Running cognate models\n",
        "Running cognate models\n",
        "Running cognate models\n",
        "Processing article: 2554\n",
        "No cognates for the specified central IVs\n",
        "No suitable cognates. Skipping.\n",
        "Processing article: 4822\n",
        "Could not find suitable cognate. Skipping.\n",
        "No suitable cognates. Skipping.\n",
        "Processing article: 905\n",
        "No cognates for the specified central IVs\n",
        "No suitable cognates. Skipping.\n",
        "Processing article: 2637\n",
        "Running cognate models"
       ]
      },
      {
       "output_type": "stream",
       "stream": "stdout",
       "text": [
        "\n",
        "Running cognate models\n",
        "Running cognate models\n",
        "Running cognate models\n",
        "Running cognate models\n",
        "Running cognate models\n",
        "Running cognate models\n",
        "Running cognate models\n",
        "Running cognate models\n",
        "Running cognate models\n",
        "Running cognate models\n",
        "Running cognate models\n",
        "Running cognate models\n",
        "Running cognate models\n",
        "Running cognate models\n",
        "Running cognate models\n",
        "Running cognate models"
       ]
      },
      {
       "output_type": "stream",
       "stream": "stdout",
       "text": [
        "\n",
        "Running cognate models\n",
        "Running cognate models\n",
        "Running cognate models\n",
        "Running cognate models\n",
        "Running cognate models\n",
        "Running cognate models\n",
        "Running cognate models\n",
        "Running cognate models\n",
        "Running cognate models\n",
        "Running cognate models\n",
        "Running cognate models\n",
        "Running cognate models\n",
        "Running cognate models\n",
        "Running cognate models\n",
        "Running cognate models\n",
        "Running cognate models"
       ]
      },
      {
       "output_type": "stream",
       "stream": "stdout",
       "text": [
        "\n",
        "Processing article: 5103\n",
        "No cognates for the specified central IVs\n",
        "No suitable cognates. Skipping.\n",
        "Processing article: 1370\n",
        "Running cognate models\n",
        "Dropping column MARITAL because it is constant\n",
        "Running original models."
       ]
      },
      {
       "output_type": "stream",
       "stream": "stdout",
       "text": [
        "\n",
        "Running cognate models\n",
        "Dropping column MARITAL because it is constant\n",
        "Running original models."
       ]
      },
      {
       "output_type": "stream",
       "stream": "stdout",
       "text": [
        "\n",
        "Running cognate models\n",
        "Dropping column MARITAL because it is constant\n",
        "Running original models."
       ]
      },
      {
       "output_type": "stream",
       "stream": "stdout",
       "text": [
        "\n",
        "Running cognate models\n",
        "Dropping column MARITAL because it is constant\n",
        "Running original models."
       ]
      },
      {
       "output_type": "stream",
       "stream": "stdout",
       "text": [
        "\n",
        "Running cognate models\n",
        "Dropping column MARITAL because it is constant\n",
        "Running original models."
       ]
      },
      {
       "output_type": "stream",
       "stream": "stdout",
       "text": [
        "\n",
        "Processing article: 6188\n",
        "No cognates for the specified central IVs\n",
        "No suitable cognates. Skipping.\n",
        "Processing article: 3094\n",
        "Running cognate models\n",
        "Dropping column"
       ]
      },
      {
       "output_type": "stream",
       "stream": "stdout",
       "text": [
        " MARITAL because it is constant\n",
        "Running cognate models\n",
        "Dropping column MARITAL because it is constant\n",
        "Running cognate models\n",
        "Dropping column MARITAL because it is constant\n",
        "Running cognate models\n",
        "Dropping column MARITAL because it is constant\n",
        "Running cognate models\n",
        "Dropping column MARITAL because it is constant\n",
        "Processing article: 5093\n",
        "No cognates for the specified central IVs\n",
        "No suitable cognates. Skipping.\n",
        "Processing article: 657\n",
        "No cognates for the specified central IVs\n",
        "No suitable cognates. Skipping.\n",
        "Processing article: 4160\n",
        "No cognates for the specified central IVs\n",
        "No suitable cognates. Skipping.\n",
        "Processing article: 3678\n",
        "No cognates for the specified central IVs\n",
        "No suitable cognates. Skipping.\n",
        "Processing article: 4124\n",
        "Running cognate models\n",
        "Running cognate models\n",
        "Processing article: 6841\n",
        "Running cognate models"
       ]
      },
      {
       "output_type": "stream",
       "stream": "stdout",
       "text": [
        "\n",
        "Running cognate models\n",
        "Running cognate models\n",
        "Running cognate models\n",
        "Running cognate models\n",
        "Running cognate models\n",
        "Running cognate models\n",
        "Running cognate models\n",
        "Running cognate models\n",
        "Running cognate models\n",
        "Running cognate models\n",
        "Running cognate models\n",
        "Processing article: 7713\n",
        "Running cognate models"
       ]
      },
      {
       "output_type": "stream",
       "stream": "stdout",
       "text": [
        "\n",
        "Dropping column MARITAL because it is constant\n",
        "Running cognate models\n",
        "Dropping column MARITAL because it is constant\n",
        "Running cognate models\n",
        "Dropping column MARITAL because it is constant\n",
        "Running cognate models\n",
        "Dropping column MARITAL because it is constant\n",
        "Processing article: 324\n",
        "No cognates for the specified central IVs\n",
        "No suitable cognates. Skipping.\n",
        "Processing article: 5219\n",
        "Running cognate models\n",
        "Dropping column MARITAL because it is constant\n",
        "Running original models."
       ]
      },
      {
       "output_type": "stream",
       "stream": "stdout",
       "text": [
        "\n",
        "Running cognate models\n",
        "Dropping column MARITAL because it is constant\n",
        "Running original models."
       ]
      },
      {
       "output_type": "stream",
       "stream": "stdout",
       "text": [
        "\n",
        "Running cognate models\n",
        "Dropping column MARITAL because it is constant\n",
        "Running original models."
       ]
      },
      {
       "output_type": "stream",
       "stream": "stdout",
       "text": [
        "\n",
        "Running cognate models\n",
        "Dropping column MARITAL because it is constant\n",
        "Running original models."
       ]
      },
      {
       "output_type": "stream",
       "stream": "stdout",
       "text": [
        "\n",
        "Running cognate models\n",
        "Dropping column MARITAL because it is constant\n",
        "Running original models."
       ]
      },
      {
       "output_type": "stream",
       "stream": "stdout",
       "text": [
        "\n",
        "Running cognate models\n",
        "Dropping column MARITAL because it is constant\n",
        "Running original models."
       ]
      },
      {
       "output_type": "stream",
       "stream": "stdout",
       "text": [
        "\n",
        "Processing article: 2800\n",
        "No cognates for the specified central IVs\n",
        "No suitable cognates. Skipping.\n",
        "Processing article: 5226\n",
        "Running cognate models\n",
        "Running cognate models\n",
        "Running cognate models\n",
        "Running cognate models\n",
        "Running cognate models\n",
        "Running cognate models\n",
        "Running cognate models\n",
        "Running cognate models\n",
        "Processing article: 2475\n",
        "No cognates for the specified central IVs\n",
        "No suitable cognates. Skipping.\n",
        "Processing article: 2884\n",
        "No cognates for the specified central IVs\n",
        "No suitable cognates. Skipping.\n",
        "Processing article: 1162\n",
        "No cognates for the specified central IVs\n",
        "No suitable cognates. Skipping.\n",
        "Processing article: 6340\n",
        "Running cognate models"
       ]
      },
      {
       "output_type": "stream",
       "stream": "stdout",
       "text": [
        "\n",
        "Running cognate models\n",
        "Running cognate models\n",
        "Running cognate models\n",
        "Running cognate models\n",
        "Running cognate models\n",
        "Running cognate models\n",
        "Running cognate models\n",
        "Running cognate models\n",
        "Running cognate models\n",
        "Running cognate models\n",
        "Running cognate models\n",
        "Processing article: 2612\n",
        "No cognates for the specified central IVs\n",
        "No suitable cognates. Skipping.\n",
        "Processing article: 6824\n",
        "Running cognate models"
       ]
      },
      {
       "output_type": "stream",
       "stream": "stdout",
       "text": [
        "\n",
        "Running cognate models\n",
        "Running cognate models\n",
        "Running cognate models\n",
        "Running cognate models\n",
        "Running cognate models\n",
        "Running cognate models\n",
        "Running cognate models\n",
        "Running cognate models\n",
        "Running cognate models\n",
        "Running cognate models\n",
        "Running cognate models\n",
        "Running cognate models\n",
        "Dropping column RACE because it is constant\n",
        "Running cognate models\n",
        "Running cognate models\n",
        "Processing article: 6774\n",
        "Running cognate models"
       ]
      },
      {
       "output_type": "stream",
       "stream": "stdout",
       "text": [
        "\n",
        "Processing article: 5779\n",
        "No cognates for the specified central IVs\n",
        "No suitable cognates. Skipping.\n",
        "Processing article: 3445\n",
        "Running cognate models\n",
        "Dropping column RELIG because it is constant\n",
        "Running cognate models\n",
        "Dropping column RELIG because it is constant\n",
        "Dropping column DENOM because it is constant\n",
        "Running cognate models\n",
        "Dropping column RELIG because it is constant\n",
        "Dropping column DENOM because it is constant\n",
        "Running cognate models\n",
        "Dropping column"
       ]
      },
      {
       "output_type": "stream",
       "stream": "stdout",
       "text": [
        " RELIG because it is constant\n",
        "Dropping column DENOM because it is constant\n",
        "Running cognate models\n",
        "Dropping column RELIG because it is constant\n",
        "Dropping column DENOM because it is constant\n",
        "Running cognate models\n",
        "Dropping column RELIG because it is constant\n",
        "Dropping column DENOM because it is constant\n",
        "Running cognate models\n",
        "Dropping column RELIG because it is constant\n",
        "Dropping column DENOM because it is constant\n",
        "Running cognate models\n",
        "Dropping column RELIG because it is constant\n",
        "Running cognate models\n",
        "Dropping column RELIG because it is constant\n",
        "Dropping column DENOM because it is constant\n",
        "Running cognate models\n",
        "Dropping column RELIG because it is constant\n",
        "Dropping column DENOM because it is constant\n",
        "Running cognate models\n",
        "Dropping column RELIG because it is constant\n",
        "Dropping column DENOM because it is constant\n",
        "Running cognate models\n",
        "Dropping column RELIG because it is constant\n",
        "Dropping column DENOM because it is constant\n",
        "Running cognate models\n",
        "Dropping column RELIG because it is constant\n",
        "Dropping column DENOM because it is constant\n",
        "Running cognate models\n",
        "Dropping column RELIG because it is constant\n",
        "Dropping column DENOM because it is constant\n",
        "Running cognate models\n",
        "Dropping column"
       ]
      },
      {
       "output_type": "stream",
       "stream": "stdout",
       "text": [
        " RELIG because it is constant\n",
        "Running cognate models\n",
        "Dropping column RELIG because it is constant\n",
        "Dropping column DENOM because it is constant\n",
        "Running cognate models\n",
        "Dropping column RELIG because it is constant\n",
        "Dropping column DENOM because it is constant\n",
        "Running cognate models\n",
        "Dropping column RELIG because it is constant\n",
        "Dropping column DENOM because it is constant\n",
        "Running cognate models\n",
        "Dropping column RELIG because it is constant\n",
        "Dropping column DENOM because it is constant\n",
        "Running cognate models\n",
        "Dropping column RELIG because it is constant\n",
        "Dropping column DENOM because it is constant\n",
        "Running cognate models\n",
        "Dropping column RELIG because it is constant\n",
        "Dropping column DENOM because it is constant\n",
        "Processing article: 6872\n",
        "Running cognate models\n",
        "Running original models."
       ]
      },
      {
       "output_type": "stream",
       "stream": "stdout",
       "text": [
        "\n",
        "Running cognate models"
       ]
      },
      {
       "output_type": "stream",
       "stream": "stdout",
       "text": [
        "\n",
        "Running original models.\n",
        "Running cognate models"
       ]
      },
      {
       "output_type": "stream",
       "stream": "stdout",
       "text": [
        "\n",
        "Running original models."
       ]
      },
      {
       "output_type": "stream",
       "stream": "stdout",
       "text": [
        "\n",
        "Running cognate models"
       ]
      },
      {
       "output_type": "stream",
       "stream": "stdout",
       "text": [
        "\n",
        "Running original models."
       ]
      },
      {
       "output_type": "stream",
       "stream": "stdout",
       "text": [
        "\n",
        "Processing article:"
       ]
      },
      {
       "output_type": "stream",
       "stream": "stdout",
       "text": [
        " 7384\n",
        "No cognates for the specified central IVs\n",
        "No suitable cognates. Skipping.\n",
        "Processing article: 2255\n",
        "No cognates for the specified central IVs\n",
        "No suitable cognates. Skipping.\n",
        "Processing article: 3205\n",
        "No cognates for the specified central IVs\n",
        "No suitable cognates. Skipping.\n",
        "Processing article: 6842\n",
        "Running cognate models\n",
        "Running cognate models\n",
        "Running cognate models\n",
        "Running cognate models\n",
        "Processing article: 6877\n",
        "No cognates for the specified central IVs\n",
        "No suitable cognates. Skipping.\n",
        "Processing article: 1482\n",
        "No cognates for the specified central IVs\n",
        "No suitable cognates. Skipping.\n",
        "Processing article: 5374\n",
        "Could not find suitable cognate. Skipping.\n",
        "No suitable cognates. Skipping.\n",
        "Processing article: 5565\n",
        "No cognates for the specified central IVs\n",
        "No suitable cognates. Skipping.\n",
        "Processing article: 6734\n",
        "No cognates for the specified central IVs\n",
        "No suitable cognates. Skipping.\n",
        "Processing article: 607\n",
        "No cognates for the specified central IVs\n",
        "No suitable cognates. Skipping.\n",
        "Processing article: 4936\n",
        "Running cognate models"
       ]
      },
      {
       "output_type": "stream",
       "stream": "stdout",
       "text": [
        "\n",
        "Running cognate models\n",
        "Running cognate models\n",
        "Processing article: 5936\n",
        "Running cognate models\n",
        "Running cognate models\n",
        "Running cognate models\n",
        "Running cognate models\n",
        "Running cognate models\n",
        "Running cognate models\n",
        "Processing article: 3615\n",
        "Running cognate models"
       ]
      },
      {
       "output_type": "stream",
       "stream": "stdout",
       "text": [
        "\n",
        "Running original models."
       ]
      },
      {
       "output_type": "stream",
       "stream": "stdout",
       "text": [
        "\n",
        "Running cognate models"
       ]
      },
      {
       "output_type": "stream",
       "stream": "stdout",
       "text": [
        "\n",
        "Running original models."
       ]
      },
      {
       "output_type": "stream",
       "stream": "stdout",
       "text": [
        "\n",
        "Running cognate models"
       ]
      },
      {
       "output_type": "stream",
       "stream": "stdout",
       "text": [
        "\n",
        "Running original models."
       ]
      },
      {
       "output_type": "stream",
       "stream": "stdout",
       "text": [
        "\n",
        "Running cognate models"
       ]
      },
      {
       "output_type": "stream",
       "stream": "stdout",
       "text": [
        "\n",
        "Running original models."
       ]
      },
      {
       "output_type": "stream",
       "stream": "stdout",
       "text": [
        "\n",
        "Running cognate models"
       ]
      },
      {
       "output_type": "stream",
       "stream": "stdout",
       "text": [
        "\n",
        "Running original models."
       ]
      },
      {
       "output_type": "stream",
       "stream": "stdout",
       "text": [
        "\n",
        "All \"central\" IVs are p > 0.05. Skipping."
       ]
      },
      {
       "output_type": "stream",
       "stream": "stdout",
       "text": [
        "\n",
        "Running cognate models\n",
        "Running original models."
       ]
      },
      {
       "output_type": "stream",
       "stream": "stdout",
       "text": [
        "\n",
        "All \"central\" IVs are p > 0.05. Skipping."
       ]
      },
      {
       "output_type": "stream",
       "stream": "stdout",
       "text": [
        "\n",
        "Processing article: 2254\n",
        "No cognates for the specified central IVs\n",
        "No suitable cognates. Skipping.\n",
        "Processing article: 5838\n",
        "No cognates for the specified central IVs\n",
        "No suitable cognates. Skipping.\n",
        "Processing article: 2813\n",
        "No cognates for the specified central IVs\n",
        "No suitable cognates. Skipping.\n",
        "Processing article: 1658\n",
        "Running cognate models\n",
        "Running cognate models\n",
        "Running cognate models\n",
        "Running cognate models\n",
        "Running cognate models\n",
        "Running cognate models\n",
        "Running cognate models\n",
        "Running cognate models\n",
        "Running cognate models\n",
        "Running cognate models\n",
        "Running cognate models\n",
        "Running cognate models\n",
        "Running cognate models\n",
        "Running cognate models\n",
        "Running cognate models"
       ]
      },
      {
       "output_type": "stream",
       "stream": "stdout",
       "text": [
        "\n",
        "Running cognate models\n",
        "Running cognate models\n",
        "Running cognate models\n",
        "Dropping column RACE because it is constant\n",
        "Dropping column OVERSAMP because it is constant\n",
        "Running original models.\n",
        "Dropping column RACE because it is constant\n",
        "Dropping column OVERSAMP because it is constant\n",
        "Running cognate models"
       ]
      },
      {
       "output_type": "stream",
       "stream": "stdout",
       "text": [
        "\n",
        "Dropping column RACE because it is constant\n",
        "Dropping column OVERSAMP because it is constant\n",
        "Running original models.\n",
        "Dropping column RACE because it is constant\n",
        "Dropping column OVERSAMP because it is constant\n",
        "All \"central\" IVs are p > 0.05. Skipping.\n",
        "Running cognate models\n",
        "Processing article:"
       ]
      },
      {
       "output_type": "stream",
       "stream": "stdout",
       "text": [
        " 1965\n",
        "Could not find suitable cognate. Skipping.\n",
        "No suitable cognates. Skipping.\n",
        "Processing article: 7641\n",
        "Running cognate models\n",
        "Dropping column MARITAL because it is constant\n",
        "Running cognate models\n",
        "Dropping column MARITAL because it is constant\n",
        "Running cognate models\n",
        "Dropping column MARITAL because it is constant\n",
        "Running cognate models\n",
        "Dropping column MARITAL because it is constant\n",
        "Running cognate models\n",
        "Dropping column MARITAL because it is constant\n",
        "Running cognate models\n",
        "Dropping column MARITAL because it is constant\n",
        "Running cognate models\n",
        "Dropping column MARITAL because it is constant\n",
        "Running cognate models\n",
        "Dropping column"
       ]
      },
      {
       "output_type": "stream",
       "stream": "stdout",
       "text": [
        " MARITAL because it is constant\n",
        "Running cognate models\n",
        "Dropping column MARITAL because it is constant\n",
        "Running cognate models\n",
        "Dropping column MARITAL because it is constant\n",
        "Running cognate models\n",
        "Dropping column MARITAL because it is constant\n",
        "Running cognate models\n",
        "Dropping column MARITAL because it is constant\n",
        "Running cognate models\n",
        "Dropping column MARITAL because it is constant\n",
        "Running cognate models\n",
        "Dropping column MARITAL because it is constant\n",
        "Running cognate models\n",
        "Dropping column MARITAL because it is constant\n",
        "Running cognate models\n",
        "Dropping column MARITAL because it is constant\n",
        "Running cognate models\n",
        "Dropping column MARITAL because it is constant\n",
        "Running cognate models\n",
        "Dropping column MARITAL because it is constant\n",
        "Running cognate models\n",
        "Dropping column MARITAL because it is constant\n",
        "Running cognate models\n",
        "Dropping column MARITAL because it is constant\n",
        "Running cognate models\n",
        "Dropping column MARITAL because it is constant\n",
        "Running cognate models\n",
        "Dropping column"
       ]
      },
      {
       "output_type": "stream",
       "stream": "stdout",
       "text": [
        " MARITAL because it is constant\n",
        "Running cognate models\n",
        "Dropping column MARITAL because it is constant\n",
        "Running cognate models\n",
        "Dropping column MARITAL because it is constant\n",
        "Running cognate models\n",
        "Dropping column MARITAL because it is constant\n",
        "Running cognate models\n",
        "Dropping column MARITAL because it is constant\n",
        "Running cognate models\n",
        "Dropping column MARITAL because it is constant\n",
        "Running cognate models\n",
        "Dropping column MARITAL because it is constant\n",
        "Running cognate models\n",
        "Dropping column MARITAL because it is constant\n",
        "Running cognate models\n",
        "Dropping column MARITAL because it is constant\n",
        "Running cognate models\n",
        "Dropping column MARITAL because it is constant\n",
        "Running cognate models\n",
        "Dropping column MARITAL because it is constant\n",
        "Running cognate models\n",
        "Dropping column MARITAL because it is constant\n",
        "Running cognate models\n",
        "Dropping column MARITAL because it is constant\n",
        "Running cognate models\n",
        "Dropping column MARITAL because it is constant\n",
        "Running cognate models\n",
        "Dropping column"
       ]
      },
      {
       "output_type": "stream",
       "stream": "stdout",
       "text": [
        " MARITAL because it is constant\n",
        "Running cognate models\n",
        "Dropping column MARITAL because it is constant\n",
        "Running cognate models\n",
        "Dropping column MARITAL because it is constant\n",
        "Running cognate models\n",
        "Dropping column MARITAL because it is constant\n",
        "Running cognate models\n",
        "Dropping column MARITAL because it is constant\n",
        "Running cognate models\n",
        "Dropping column MARITAL because it is constant\n",
        "Running cognate models\n",
        "Dropping column MARITAL because it is constant\n",
        "Running cognate models\n",
        "Dropping column MARITAL because it is constant\n",
        "Running cognate models\n",
        "Dropping column MARITAL because it is constant\n",
        "Running cognate models\n",
        "Dropping column MARITAL because it is constant\n",
        "Running cognate models\n",
        "Dropping column MARITAL because it is constant\n",
        "Running cognate models\n",
        "Dropping column MARITAL because it is constant\n",
        "Running cognate models\n",
        "Dropping column MARITAL because it is constant\n",
        "Running cognate models\n",
        "Dropping column MARITAL because it is constant\n",
        "Running cognate models\n",
        "Dropping column"
       ]
      },
      {
       "output_type": "stream",
       "stream": "stdout",
       "text": [
        " MARITAL because it is constant\n",
        "Running cognate models\n",
        "Dropping column MARITAL because it is constant\n",
        "Running cognate models\n",
        "Dropping column MARITAL because it is constant\n",
        "Running cognate models\n",
        "Dropping column MARITAL because it is constant\n",
        "Running cognate models\n",
        "Dropping column MARITAL because it is constant\n",
        "Running cognate models\n",
        "Dropping column MARITAL because it is constant\n",
        "Running cognate models\n",
        "Dropping column MARITAL because it is constant\n",
        "Processing article: 7567\n",
        "Running cognate models"
       ]
      },
      {
       "output_type": "stream",
       "stream": "stdout",
       "text": [
        "\n",
        "Dropping column RELIG16 because it is constant\n",
        "Dropping column MARITAL because it is constant\n",
        "Running cognate models\n",
        "Dropping column RELIG16 because it is constant\n",
        "Dropping column MARITAL because it is constant\n",
        "Running cognate models\n",
        "Dropping column RELIG16 because it is constant\n",
        "Dropping column MARITAL because it is constant\n",
        "Running cognate models\n",
        "Dropping column RELIG16 because it is constant\n",
        "Dropping column MARITAL because it is constant\n",
        "Dropping column DENOM16 because it is constant\n",
        "Processing article: 212\n",
        "No cognates for the specified central IVs\n",
        "No suitable cognates. Skipping.\n",
        "Processing article: 2611\n",
        "Running cognate models\n",
        "Running cognate models\n",
        "Running cognate models"
       ]
      },
      {
       "output_type": "stream",
       "stream": "stdout",
       "text": [
        "\n",
        "Running cognate models\n",
        "Running cognate models\n",
        "Running cognate models\n",
        "Running cognate models\n",
        "Running cognate models\n",
        "Running cognate models\n",
        "Running cognate models\n",
        "Running cognate models\n",
        "Running cognate models\n",
        "Running cognate models\n",
        "Running cognate models\n",
        "Running cognate models"
       ]
      },
      {
       "output_type": "stream",
       "stream": "stdout",
       "text": [
        "\n",
        "Running cognate models\n",
        "Running cognate models\n",
        "Running cognate models\n",
        "Running cognate models\n",
        "Running cognate models\n",
        "Running cognate models\n",
        "Running cognate models\n",
        "Running cognate models\n",
        "Running cognate models\n",
        "Running cognate models\n",
        "Running cognate models\n",
        "Running cognate models"
       ]
      },
      {
       "output_type": "stream",
       "stream": "stdout",
       "text": [
        "\n",
        "Running cognate models\n",
        "Running cognate models\n",
        "Running cognate models\n",
        "Running cognate models\n",
        "Running cognate models\n",
        "Processing article: 6364\n",
        "Running cognate models"
       ]
      },
      {
       "output_type": "stream",
       "stream": "stdout",
       "text": [
        "\n",
        "Running cognate models\n",
        "Running cognate models\n",
        "Running cognate models\n",
        "Processing article: 2243\n",
        "No cognates for the specified central IVs\n",
        "No suitable cognates. Skipping.\n",
        "Processing article: 2037\n",
        "Running cognate models"
       ]
      },
      {
       "output_type": "stream",
       "stream": "stdout",
       "text": [
        "\n",
        "Dropping column MARITAL because it is constant\n",
        "Running cognate models\n",
        "Dropping column MARITAL because it is constant\n",
        "Running cognate models\n",
        "Dropping column MARITAL because it is constant\n",
        "Running cognate models\n",
        "Dropping column MARITAL because it is constant\n",
        "Running cognate models\n",
        "Dropping column MARITAL because it is constant\n",
        "Running cognate models\n",
        "Dropping column MARITAL because it is constant\n",
        "Running cognate models\n",
        "Dropping column MARITAL because it is constant\n",
        "Running cognate models\n",
        "Dropping column MARITAL because it is constant\n",
        "Processing article: 3594\n",
        "No cognates for the specified central IVs\n",
        "No suitable cognates. Skipping.\n",
        "Processing article: 4619\n",
        "Running cognate models"
       ]
      },
      {
       "output_type": "stream",
       "stream": "stdout",
       "text": [
        "\n",
        "Running cognate models\n",
        "Running cognate models\n",
        "Running cognate models\n",
        "Running cognate models\n",
        "Running cognate models\n",
        "Running cognate models\n",
        "Running cognate models\n",
        "Running cognate models\n",
        "Running cognate models\n",
        "Running cognate models\n",
        "Running cognate models\n",
        "Running cognate models\n",
        "Running cognate models"
       ]
      },
      {
       "output_type": "stream",
       "stream": "stdout",
       "text": [
        "\n",
        "Running cognate models\n",
        "Running cognate models\n",
        "Running cognate models\n",
        "Running cognate models\n",
        "Running cognate models\n",
        "Running cognate models\n",
        "Running cognate models\n",
        "Running cognate models\n",
        "Running cognate models\n",
        "Running cognate models\n",
        "Running cognate models\n",
        "Running cognate models\n",
        "Running cognate models"
       ]
      },
      {
       "output_type": "stream",
       "stream": "stdout",
       "text": [
        "\n",
        "Running cognate models\n",
        "Running cognate models\n",
        "Running cognate models\n",
        "Running cognate models\n",
        "Running cognate models\n",
        "Running cognate models\n",
        "Running cognate models\n",
        "Running cognate models\n",
        "Running cognate models\n",
        "Running cognate models\n",
        "Running cognate models\n",
        "Running cognate models\n",
        "Running cognate models"
       ]
      },
      {
       "output_type": "stream",
       "stream": "stdout",
       "text": [
        "\n",
        "Running cognate models\n",
        "Running cognate models\n",
        "Running cognate models\n",
        "Running cognate models\n",
        "Running cognate models\n",
        "Running cognate models\n",
        "Running cognate models\n",
        "Running cognate models\n",
        "Running cognate models\n",
        "Running cognate models\n",
        "Running cognate models\n",
        "Running cognate models\n",
        "Running cognate models"
       ]
      },
      {
       "output_type": "stream",
       "stream": "stdout",
       "text": [
        "\n",
        "Running cognate models\n",
        "Running cognate models\n",
        "Processing article: 7189\n",
        "Running cognate models\n",
        "Processing article: 175\n",
        "No cognates for the specified central IVs\n",
        "No suitable cognates. Skipping.\n",
        "Processing article: 4954\n",
        "Running cognate models"
       ]
      },
      {
       "output_type": "stream",
       "stream": "stdout",
       "text": [
        "\n",
        "Running original models."
       ]
      },
      {
       "output_type": "stream",
       "stream": "stdout",
       "text": [
        "\n",
        "Running cognate models"
       ]
      },
      {
       "output_type": "stream",
       "stream": "stdout",
       "text": [
        "\n",
        "Running original models."
       ]
      },
      {
       "output_type": "stream",
       "stream": "stdout",
       "text": [
        "\n",
        "Running cognate models"
       ]
      },
      {
       "output_type": "stream",
       "stream": "stdout",
       "text": [
        "\n",
        "Running original models."
       ]
      },
      {
       "output_type": "stream",
       "stream": "stdout",
       "text": [
        "\n",
        "Running cognate models"
       ]
      },
      {
       "output_type": "stream",
       "stream": "stdout",
       "text": [
        "\n",
        "Running original models."
       ]
      },
      {
       "output_type": "stream",
       "stream": "stdout",
       "text": [
        "\n",
        "Running cognate models"
       ]
      },
      {
       "output_type": "stream",
       "stream": "stdout",
       "text": [
        "\n",
        "Running original models."
       ]
      },
      {
       "output_type": "stream",
       "stream": "stdout",
       "text": [
        "\n",
        "Running cognate models"
       ]
      },
      {
       "output_type": "stream",
       "stream": "stdout",
       "text": [
        "\n",
        "Running original models."
       ]
      },
      {
       "output_type": "stream",
       "stream": "stdout",
       "text": [
        "\n",
        "Running cognate models"
       ]
      },
      {
       "output_type": "stream",
       "stream": "stdout",
       "text": [
        "\n",
        "Running original models."
       ]
      },
      {
       "output_type": "stream",
       "stream": "stdout",
       "text": [
        "\n",
        "Running cognate models"
       ]
      },
      {
       "output_type": "stream",
       "stream": "stdout",
       "text": [
        "\n",
        "Running original models."
       ]
      },
      {
       "output_type": "stream",
       "stream": "stdout",
       "text": [
        "\n",
        "Running cognate models"
       ]
      },
      {
       "output_type": "stream",
       "stream": "stdout",
       "text": [
        "\n",
        "Running original models."
       ]
      },
      {
       "output_type": "stream",
       "stream": "stdout",
       "text": [
        "\n",
        "Running cognate models"
       ]
      },
      {
       "output_type": "stream",
       "stream": "stdout",
       "text": [
        "\n",
        "Running original models."
       ]
      },
      {
       "output_type": "stream",
       "stream": "stdout",
       "text": [
        "\n",
        "Running cognate models"
       ]
      },
      {
       "output_type": "stream",
       "stream": "stdout",
       "text": [
        "\n",
        "Running original models."
       ]
      },
      {
       "output_type": "stream",
       "stream": "stdout",
       "text": [
        "\n",
        "Running cognate models"
       ]
      },
      {
       "output_type": "stream",
       "stream": "stdout",
       "text": [
        "\n",
        "Running original models."
       ]
      },
      {
       "output_type": "stream",
       "stream": "stdout",
       "text": [
        "\n",
        "Running cognate models"
       ]
      },
      {
       "output_type": "stream",
       "stream": "stdout",
       "text": [
        "\n",
        "Running original models."
       ]
      },
      {
       "output_type": "stream",
       "stream": "stdout",
       "text": [
        "\n",
        "Running cognate models"
       ]
      },
      {
       "output_type": "stream",
       "stream": "stdout",
       "text": [
        "\n",
        "Running original models."
       ]
      },
      {
       "output_type": "stream",
       "stream": "stdout",
       "text": [
        "\n",
        "Running cognate models"
       ]
      },
      {
       "output_type": "stream",
       "stream": "stdout",
       "text": [
        "\n",
        "Running original models."
       ]
      },
      {
       "output_type": "stream",
       "stream": "stdout",
       "text": [
        "\n",
        "Running cognate models"
       ]
      },
      {
       "output_type": "stream",
       "stream": "stdout",
       "text": [
        "\n",
        "Running original models."
       ]
      },
      {
       "output_type": "stream",
       "stream": "stdout",
       "text": [
        "\n",
        "Running cognate models"
       ]
      },
      {
       "output_type": "stream",
       "stream": "stdout",
       "text": [
        "\n",
        "Running original models."
       ]
      },
      {
       "output_type": "stream",
       "stream": "stdout",
       "text": [
        "\n",
        "Running cognate models"
       ]
      },
      {
       "output_type": "stream",
       "stream": "stdout",
       "text": [
        "\n",
        "Running original models."
       ]
      },
      {
       "output_type": "stream",
       "stream": "stdout",
       "text": [
        "\n",
        "Running cognate models"
       ]
      },
      {
       "output_type": "stream",
       "stream": "stdout",
       "text": [
        "\n",
        "Running original models."
       ]
      },
      {
       "output_type": "stream",
       "stream": "stdout",
       "text": [
        "\n",
        "Running cognate models"
       ]
      },
      {
       "output_type": "stream",
       "stream": "stdout",
       "text": [
        "\n",
        "Running original models."
       ]
      },
      {
       "output_type": "stream",
       "stream": "stdout",
       "text": [
        "\n",
        "Running cognate models"
       ]
      },
      {
       "output_type": "stream",
       "stream": "stdout",
       "text": [
        "\n",
        "Running original models."
       ]
      },
      {
       "output_type": "stream",
       "stream": "stdout",
       "text": [
        "\n",
        "Running cognate models"
       ]
      },
      {
       "output_type": "stream",
       "stream": "stdout",
       "text": [
        "\n",
        "Running original models."
       ]
      },
      {
       "output_type": "stream",
       "stream": "stdout",
       "text": [
        "\n",
        "Running cognate models"
       ]
      },
      {
       "output_type": "stream",
       "stream": "stdout",
       "text": [
        "\n",
        "Running original models."
       ]
      },
      {
       "output_type": "stream",
       "stream": "stdout",
       "text": [
        "\n",
        "Running cognate models"
       ]
      },
      {
       "output_type": "stream",
       "stream": "stdout",
       "text": [
        "\n",
        "Running original models."
       ]
      },
      {
       "output_type": "stream",
       "stream": "stdout",
       "text": [
        "\n",
        "Running cognate models"
       ]
      },
      {
       "output_type": "stream",
       "stream": "stdout",
       "text": [
        "\n",
        "Running original models."
       ]
      },
      {
       "output_type": "stream",
       "stream": "stdout",
       "text": [
        "\n",
        "Running cognate models"
       ]
      },
      {
       "output_type": "stream",
       "stream": "stdout",
       "text": [
        "\n",
        "Running original models."
       ]
      },
      {
       "output_type": "stream",
       "stream": "stdout",
       "text": [
        "\n",
        "Running cognate models"
       ]
      },
      {
       "output_type": "stream",
       "stream": "stdout",
       "text": [
        "\n",
        "Running original models."
       ]
      },
      {
       "output_type": "stream",
       "stream": "stdout",
       "text": [
        "\n",
        "Running cognate models"
       ]
      },
      {
       "output_type": "stream",
       "stream": "stdout",
       "text": [
        "\n",
        "Running original models."
       ]
      },
      {
       "output_type": "stream",
       "stream": "stdout",
       "text": [
        "\n",
        "Running cognate models"
       ]
      },
      {
       "output_type": "stream",
       "stream": "stdout",
       "text": [
        "\n",
        "Running original models."
       ]
      },
      {
       "output_type": "stream",
       "stream": "stdout",
       "text": [
        "\n",
        "Running cognate models"
       ]
      },
      {
       "output_type": "stream",
       "stream": "stdout",
       "text": [
        "\n",
        "Running original models."
       ]
      },
      {
       "output_type": "stream",
       "stream": "stdout",
       "text": [
        "\n",
        "Processing article:"
       ]
      },
      {
       "output_type": "stream",
       "stream": "stdout",
       "text": [
        " 3568\n",
        "No cognates for the specified central IVs\n",
        "No suitable cognates. Skipping.\n",
        "Processing article: 536\n",
        "Running cognate models"
       ]
      },
      {
       "output_type": "stream",
       "stream": "stdout",
       "text": [
        "\n",
        "Running cognate models\n",
        "Running cognate models\n",
        "Running cognate models\n",
        "Running cognate models\n",
        "Running cognate models\n",
        "Running cognate models\n",
        "Running cognate models\n",
        "Running cognate models\n",
        "Running cognate models\n",
        "Running cognate models\n",
        "Running cognate models\n",
        "Running cognate models"
       ]
      },
      {
       "output_type": "stream",
       "stream": "stdout",
       "text": [
        "\n",
        "Running cognate models\n",
        "Running cognate models\n",
        "Running cognate models\n",
        "Running cognate models\n",
        "Running cognate models\n",
        "Running cognate models\n",
        "Running cognate models\n",
        "Running cognate models\n",
        "Running cognate models\n",
        "Running cognate models\n",
        "Running cognate models\n",
        "Running cognate models\n",
        "Running cognate models"
       ]
      },
      {
       "output_type": "stream",
       "stream": "stdout",
       "text": [
        "\n",
        "Running cognate models\n",
        "Processing article: 2430\n",
        "No cognates for the specified central IVs\n",
        "No suitable cognates. Skipping.\n",
        "Processing article: 1211\n",
        "No cognates for the specified central IVs\n",
        "No suitable cognates. Skipping.\n",
        "Processing article: 7270\n",
        "Could not find suitable cognate. Skipping.\n",
        "No suitable cognates. Skipping.\n",
        "Processing article: 7525\n",
        "No cognates for the specified central IVs\n",
        "No suitable cognates. Skipping.\n",
        "Processing article: 5003\n",
        "Running cognate models"
       ]
      },
      {
       "output_type": "stream",
       "stream": "stdout",
       "text": [
        "\n",
        "Running original models."
       ]
      },
      {
       "output_type": "stream",
       "stream": "stdout",
       "text": [
        "\n",
        "Running cognate models"
       ]
      },
      {
       "output_type": "stream",
       "stream": "stdout",
       "text": [
        "\n",
        "Running original models."
       ]
      },
      {
       "output_type": "stream",
       "stream": "stdout",
       "text": [
        "\n",
        "Running cognate models"
       ]
      },
      {
       "output_type": "stream",
       "stream": "stdout",
       "text": [
        "\n",
        "Running original models."
       ]
      },
      {
       "output_type": "stream",
       "stream": "stdout",
       "text": [
        "\n",
        "Running cognate models"
       ]
      },
      {
       "output_type": "stream",
       "stream": "stdout",
       "text": [
        "\n",
        "Running original models."
       ]
      },
      {
       "output_type": "stream",
       "stream": "stdout",
       "text": [
        "\n",
        "Running cognate models"
       ]
      },
      {
       "output_type": "stream",
       "stream": "stdout",
       "text": [
        "\n",
        "Running original models."
       ]
      },
      {
       "output_type": "stream",
       "stream": "stdout",
       "text": [
        "\n",
        "Running cognate models"
       ]
      },
      {
       "output_type": "stream",
       "stream": "stdout",
       "text": [
        "\n",
        "Running original models."
       ]
      },
      {
       "output_type": "stream",
       "stream": "stdout",
       "text": [
        "\n",
        "Running cognate models"
       ]
      },
      {
       "output_type": "stream",
       "stream": "stdout",
       "text": [
        "\n",
        "Running original models."
       ]
      },
      {
       "output_type": "stream",
       "stream": "stdout",
       "text": [
        "\n",
        "Running cognate models"
       ]
      },
      {
       "output_type": "stream",
       "stream": "stdout",
       "text": [
        "\n",
        "Running original models."
       ]
      },
      {
       "output_type": "stream",
       "stream": "stdout",
       "text": [
        "\n",
        "Running cognate models"
       ]
      },
      {
       "output_type": "stream",
       "stream": "stdout",
       "text": [
        "\n",
        "Running original models."
       ]
      },
      {
       "output_type": "stream",
       "stream": "stdout",
       "text": [
        "\n",
        "Running cognate models"
       ]
      },
      {
       "output_type": "stream",
       "stream": "stdout",
       "text": [
        "\n",
        "Running original models."
       ]
      },
      {
       "output_type": "stream",
       "stream": "stdout",
       "text": [
        "\n",
        "Running cognate models"
       ]
      },
      {
       "output_type": "stream",
       "stream": "stdout",
       "text": [
        "\n",
        "Running original models."
       ]
      },
      {
       "output_type": "stream",
       "stream": "stdout",
       "text": [
        "\n",
        "Running cognate models"
       ]
      },
      {
       "output_type": "stream",
       "stream": "stdout",
       "text": [
        "\n",
        "Running original models."
       ]
      },
      {
       "output_type": "stream",
       "stream": "stdout",
       "text": [
        "\n",
        "Running cognate models"
       ]
      },
      {
       "output_type": "stream",
       "stream": "stdout",
       "text": [
        "\n",
        "Running original models."
       ]
      },
      {
       "output_type": "stream",
       "stream": "stdout",
       "text": [
        "\n",
        "Running cognate models"
       ]
      },
      {
       "output_type": "stream",
       "stream": "stdout",
       "text": [
        "\n",
        "Running original models."
       ]
      },
      {
       "output_type": "stream",
       "stream": "stdout",
       "text": [
        "\n",
        "Running cognate models"
       ]
      },
      {
       "output_type": "stream",
       "stream": "stdout",
       "text": [
        "\n",
        "Running original models."
       ]
      },
      {
       "output_type": "stream",
       "stream": "stdout",
       "text": [
        "\n",
        "Running cognate models"
       ]
      },
      {
       "output_type": "stream",
       "stream": "stdout",
       "text": [
        "\n",
        "Running original models."
       ]
      },
      {
       "output_type": "stream",
       "stream": "stdout",
       "text": [
        "\n",
        "Running cognate models"
       ]
      },
      {
       "output_type": "stream",
       "stream": "stdout",
       "text": [
        "\n",
        "Running original models."
       ]
      },
      {
       "output_type": "stream",
       "stream": "stdout",
       "text": [
        "\n",
        "Running cognate models"
       ]
      },
      {
       "output_type": "stream",
       "stream": "stdout",
       "text": [
        "\n",
        "Running original models."
       ]
      },
      {
       "output_type": "stream",
       "stream": "stdout",
       "text": [
        "\n",
        "Running cognate models"
       ]
      },
      {
       "output_type": "stream",
       "stream": "stdout",
       "text": [
        "\n",
        "Running original models."
       ]
      },
      {
       "output_type": "stream",
       "stream": "stdout",
       "text": [
        "\n",
        "All \"central\" IVs are p > 0.05. Skipping."
       ]
      },
      {
       "output_type": "stream",
       "stream": "stdout",
       "text": [
        "\n",
        "Running cognate models\n",
        "Running original models."
       ]
      },
      {
       "output_type": "stream",
       "stream": "stdout",
       "text": [
        "\n",
        "Running cognate models"
       ]
      },
      {
       "output_type": "stream",
       "stream": "stdout",
       "text": [
        "\n",
        "Running original models."
       ]
      },
      {
       "output_type": "stream",
       "stream": "stdout",
       "text": [
        "\n",
        "All \"central\" IVs are p > 0.05. Skipping."
       ]
      },
      {
       "output_type": "stream",
       "stream": "stdout",
       "text": [
        "\n",
        "Running cognate models\n",
        "Running original models."
       ]
      },
      {
       "output_type": "stream",
       "stream": "stdout",
       "text": [
        "\n",
        "All \"central\" IVs are p > 0.05. Skipping."
       ]
      },
      {
       "output_type": "stream",
       "stream": "stdout",
       "text": [
        "\n",
        "Running cognate models\n",
        "Running original models."
       ]
      },
      {
       "output_type": "stream",
       "stream": "stdout",
       "text": [
        "\n",
        "All \"central\" IVs are p > 0.05. Skipping."
       ]
      },
      {
       "output_type": "stream",
       "stream": "stdout",
       "text": [
        "\n",
        "Running cognate models\n",
        "Running original models."
       ]
      },
      {
       "output_type": "stream",
       "stream": "stdout",
       "text": [
        "\n",
        "All \"central\" IVs are p > 0.05. Skipping."
       ]
      },
      {
       "output_type": "stream",
       "stream": "stdout",
       "text": [
        "\n",
        "Running cognate models\n",
        "Running original models."
       ]
      },
      {
       "output_type": "stream",
       "stream": "stdout",
       "text": [
        "\n",
        "All \"central\" IVs are p > 0.05. Skipping."
       ]
      },
      {
       "output_type": "stream",
       "stream": "stdout",
       "text": [
        "\n",
        "Running cognate models\n",
        "Running original models."
       ]
      },
      {
       "output_type": "stream",
       "stream": "stdout",
       "text": [
        "\n",
        "All \"central\" IVs are p > 0.05. Skipping."
       ]
      },
      {
       "output_type": "stream",
       "stream": "stdout",
       "text": [
        "\n",
        "Running cognate models\n",
        "Running original models."
       ]
      },
      {
       "output_type": "stream",
       "stream": "stdout",
       "text": [
        "\n",
        "All \"central\" IVs are p > 0.05. Skipping."
       ]
      },
      {
       "output_type": "stream",
       "stream": "stdout",
       "text": [
        "\n",
        "Running cognate models\n",
        "Running original models."
       ]
      },
      {
       "output_type": "stream",
       "stream": "stdout",
       "text": [
        "\n",
        "Running cognate models"
       ]
      },
      {
       "output_type": "stream",
       "stream": "stdout",
       "text": [
        "\n",
        "Running original models."
       ]
      },
      {
       "output_type": "stream",
       "stream": "stdout",
       "text": [
        "\n",
        "Running cognate models"
       ]
      },
      {
       "output_type": "stream",
       "stream": "stdout",
       "text": [
        "\n",
        "Running original models."
       ]
      },
      {
       "output_type": "stream",
       "stream": "stdout",
       "text": [
        "\n",
        "Running cognate models"
       ]
      },
      {
       "output_type": "stream",
       "stream": "stdout",
       "text": [
        "\n",
        "Running original models."
       ]
      },
      {
       "output_type": "stream",
       "stream": "stdout",
       "text": [
        "\n",
        "Running cognate models"
       ]
      },
      {
       "output_type": "stream",
       "stream": "stdout",
       "text": [
        "\n",
        "Running original models."
       ]
      },
      {
       "output_type": "stream",
       "stream": "stdout",
       "text": [
        "\n",
        "Running cognate models"
       ]
      },
      {
       "output_type": "stream",
       "stream": "stdout",
       "text": [
        "\n",
        "Running original models."
       ]
      },
      {
       "output_type": "stream",
       "stream": "stdout",
       "text": [
        "\n",
        "Running cognate models"
       ]
      },
      {
       "output_type": "stream",
       "stream": "stdout",
       "text": [
        "\n",
        "Running original models."
       ]
      },
      {
       "output_type": "stream",
       "stream": "stdout",
       "text": [
        "\n",
        "Running cognate models"
       ]
      },
      {
       "output_type": "stream",
       "stream": "stdout",
       "text": [
        "\n",
        "Running original models."
       ]
      },
      {
       "output_type": "stream",
       "stream": "stdout",
       "text": [
        "\n",
        "Running cognate models"
       ]
      },
      {
       "output_type": "stream",
       "stream": "stdout",
       "text": [
        "\n",
        "Running original models."
       ]
      },
      {
       "output_type": "stream",
       "stream": "stdout",
       "text": [
        "\n",
        "Running cognate models"
       ]
      },
      {
       "output_type": "stream",
       "stream": "stdout",
       "text": [
        "\n",
        "Running original models."
       ]
      },
      {
       "output_type": "stream",
       "stream": "stdout",
       "text": [
        "\n",
        "Running cognate models"
       ]
      },
      {
       "output_type": "stream",
       "stream": "stdout",
       "text": [
        "\n",
        "Running original models."
       ]
      },
      {
       "output_type": "stream",
       "stream": "stdout",
       "text": [
        "\n",
        "Running cognate models"
       ]
      },
      {
       "output_type": "stream",
       "stream": "stdout",
       "text": [
        "\n",
        "Running original models."
       ]
      },
      {
       "output_type": "stream",
       "stream": "stdout",
       "text": [
        "\n",
        "Running cognate models"
       ]
      },
      {
       "output_type": "stream",
       "stream": "stdout",
       "text": [
        "\n",
        "Running original models."
       ]
      },
      {
       "output_type": "stream",
       "stream": "stdout",
       "text": [
        "\n",
        "Running cognate models"
       ]
      },
      {
       "output_type": "stream",
       "stream": "stdout",
       "text": [
        "\n",
        "Running original models."
       ]
      },
      {
       "output_type": "stream",
       "stream": "stdout",
       "text": [
        "\n",
        "Running cognate models"
       ]
      },
      {
       "output_type": "stream",
       "stream": "stdout",
       "text": [
        "\n",
        "Running original models."
       ]
      },
      {
       "output_type": "stream",
       "stream": "stdout",
       "text": [
        "\n",
        "Running cognate models"
       ]
      },
      {
       "output_type": "stream",
       "stream": "stdout",
       "text": [
        "\n",
        "Running original models."
       ]
      },
      {
       "output_type": "stream",
       "stream": "stdout",
       "text": [
        "\n",
        "Running cognate models"
       ]
      },
      {
       "output_type": "stream",
       "stream": "stdout",
       "text": [
        "\n",
        "Running original models."
       ]
      },
      {
       "output_type": "stream",
       "stream": "stdout",
       "text": [
        "\n",
        "All \"central\" IVs are p > 0.05. Skipping."
       ]
      },
      {
       "output_type": "stream",
       "stream": "stdout",
       "text": [
        "\n",
        "Running cognate models\n",
        "Running original models."
       ]
      },
      {
       "output_type": "stream",
       "stream": "stdout",
       "text": [
        "\n",
        "Running cognate models"
       ]
      },
      {
       "output_type": "stream",
       "stream": "stdout",
       "text": [
        "\n",
        "Running original models."
       ]
      },
      {
       "output_type": "stream",
       "stream": "stdout",
       "text": [
        "\n",
        "Running cognate models"
       ]
      },
      {
       "output_type": "stream",
       "stream": "stdout",
       "text": [
        "\n",
        "Running original models."
       ]
      },
      {
       "output_type": "stream",
       "stream": "stdout",
       "text": [
        "\n",
        "Running cognate models"
       ]
      },
      {
       "output_type": "stream",
       "stream": "stdout",
       "text": [
        "\n",
        "Running original models."
       ]
      },
      {
       "output_type": "stream",
       "stream": "stdout",
       "text": [
        "\n",
        "Running cognate models"
       ]
      },
      {
       "output_type": "stream",
       "stream": "stdout",
       "text": [
        "\n",
        "Running original models."
       ]
      },
      {
       "output_type": "stream",
       "stream": "stdout",
       "text": [
        "\n",
        "Running cognate models"
       ]
      },
      {
       "output_type": "stream",
       "stream": "stdout",
       "text": [
        "\n",
        "Running original models."
       ]
      },
      {
       "output_type": "stream",
       "stream": "stdout",
       "text": [
        "\n",
        "Running cognate models"
       ]
      },
      {
       "output_type": "stream",
       "stream": "stdout",
       "text": [
        "\n",
        "Running original models."
       ]
      },
      {
       "output_type": "stream",
       "stream": "stdout",
       "text": [
        "\n",
        "Running cognate models"
       ]
      },
      {
       "output_type": "stream",
       "stream": "stdout",
       "text": [
        "\n",
        "Running original models."
       ]
      },
      {
       "output_type": "stream",
       "stream": "stdout",
       "text": [
        "\n",
        "Running cognate models"
       ]
      },
      {
       "output_type": "stream",
       "stream": "stdout",
       "text": [
        "\n",
        "Running original models."
       ]
      },
      {
       "output_type": "stream",
       "stream": "stdout",
       "text": [
        "\n",
        "Running cognate models"
       ]
      },
      {
       "output_type": "stream",
       "stream": "stdout",
       "text": [
        "\n",
        "Running original models."
       ]
      },
      {
       "output_type": "stream",
       "stream": "stdout",
       "text": [
        "\n",
        "Running cognate models"
       ]
      },
      {
       "output_type": "stream",
       "stream": "stdout",
       "text": [
        "\n",
        "Running original models."
       ]
      },
      {
       "output_type": "stream",
       "stream": "stdout",
       "text": [
        "\n",
        "Running cognate models"
       ]
      },
      {
       "output_type": "stream",
       "stream": "stdout",
       "text": [
        "\n",
        "Running original models."
       ]
      },
      {
       "output_type": "stream",
       "stream": "stdout",
       "text": [
        "\n",
        "Running cognate models"
       ]
      },
      {
       "output_type": "stream",
       "stream": "stdout",
       "text": [
        "\n",
        "Running original models."
       ]
      },
      {
       "output_type": "stream",
       "stream": "stdout",
       "text": [
        "\n",
        "Running cognate models"
       ]
      },
      {
       "output_type": "stream",
       "stream": "stdout",
       "text": [
        "\n",
        "Running original models."
       ]
      },
      {
       "output_type": "stream",
       "stream": "stdout",
       "text": [
        "\n",
        "Running cognate models"
       ]
      },
      {
       "output_type": "stream",
       "stream": "stdout",
       "text": [
        "\n",
        "Running original models."
       ]
      },
      {
       "output_type": "stream",
       "stream": "stdout",
       "text": [
        "\n",
        "Running cognate models"
       ]
      },
      {
       "output_type": "stream",
       "stream": "stdout",
       "text": [
        "\n",
        "Running original models."
       ]
      },
      {
       "output_type": "stream",
       "stream": "stdout",
       "text": [
        "\n",
        "Running cognate models"
       ]
      },
      {
       "output_type": "stream",
       "stream": "stdout",
       "text": [
        "\n",
        "Running original models."
       ]
      },
      {
       "output_type": "stream",
       "stream": "stdout",
       "text": [
        "\n",
        "Running cognate models"
       ]
      },
      {
       "output_type": "stream",
       "stream": "stdout",
       "text": [
        "\n",
        "Running original models."
       ]
      },
      {
       "output_type": "stream",
       "stream": "stdout",
       "text": [
        "\n",
        "Running cognate models"
       ]
      },
      {
       "output_type": "stream",
       "stream": "stdout",
       "text": [
        "\n",
        "Running original models."
       ]
      },
      {
       "output_type": "stream",
       "stream": "stdout",
       "text": [
        "\n",
        "Running cognate models"
       ]
      },
      {
       "output_type": "stream",
       "stream": "stdout",
       "text": [
        "\n",
        "Running original models."
       ]
      },
      {
       "output_type": "stream",
       "stream": "stdout",
       "text": [
        "\n",
        "Running cognate models"
       ]
      },
      {
       "output_type": "stream",
       "stream": "stdout",
       "text": [
        "\n",
        "Running original models."
       ]
      },
      {
       "output_type": "stream",
       "stream": "stdout",
       "text": [
        "\n",
        "Running cognate models"
       ]
      },
      {
       "output_type": "stream",
       "stream": "stdout",
       "text": [
        "\n",
        "Running original models."
       ]
      },
      {
       "output_type": "stream",
       "stream": "stdout",
       "text": [
        "\n",
        "Running cognate models"
       ]
      },
      {
       "output_type": "stream",
       "stream": "stdout",
       "text": [
        "\n",
        "Running original models."
       ]
      },
      {
       "output_type": "stream",
       "stream": "stdout",
       "text": [
        "\n",
        "Running cognate models"
       ]
      },
      {
       "output_type": "stream",
       "stream": "stdout",
       "text": [
        "\n",
        "Running original models."
       ]
      },
      {
       "output_type": "stream",
       "stream": "stdout",
       "text": [
        "\n",
        "Running cognate models"
       ]
      },
      {
       "output_type": "stream",
       "stream": "stdout",
       "text": [
        "\n",
        "Running original models."
       ]
      },
      {
       "output_type": "stream",
       "stream": "stdout",
       "text": [
        "\n",
        "Running cognate models"
       ]
      },
      {
       "output_type": "stream",
       "stream": "stdout",
       "text": [
        "\n",
        "Running original models."
       ]
      },
      {
       "output_type": "stream",
       "stream": "stdout",
       "text": [
        "\n",
        "Running cognate models"
       ]
      },
      {
       "output_type": "stream",
       "stream": "stdout",
       "text": [
        "\n",
        "Running original models."
       ]
      },
      {
       "output_type": "stream",
       "stream": "stdout",
       "text": [
        "\n",
        "Running cognate models"
       ]
      },
      {
       "output_type": "stream",
       "stream": "stdout",
       "text": [
        "\n",
        "Running original models."
       ]
      },
      {
       "output_type": "stream",
       "stream": "stdout",
       "text": [
        "\n",
        "Running cognate models"
       ]
      },
      {
       "output_type": "stream",
       "stream": "stdout",
       "text": [
        "\n",
        "Running original models."
       ]
      },
      {
       "output_type": "stream",
       "stream": "stdout",
       "text": [
        "\n",
        "Running cognate models"
       ]
      },
      {
       "output_type": "stream",
       "stream": "stdout",
       "text": [
        "\n",
        "Running original models."
       ]
      },
      {
       "output_type": "stream",
       "stream": "stdout",
       "text": [
        "\n",
        "Running cognate models"
       ]
      },
      {
       "output_type": "stream",
       "stream": "stdout",
       "text": [
        "\n",
        "Running original models."
       ]
      },
      {
       "output_type": "stream",
       "stream": "stdout",
       "text": [
        "\n",
        "Running cognate models"
       ]
      },
      {
       "output_type": "stream",
       "stream": "stdout",
       "text": [
        "\n",
        "Running original models."
       ]
      },
      {
       "output_type": "stream",
       "stream": "stdout",
       "text": [
        "\n",
        "All \"central\" IVs are p > 0.05. Skipping."
       ]
      },
      {
       "output_type": "stream",
       "stream": "stdout",
       "text": [
        "\n",
        "Running cognate models\n",
        "Running original models."
       ]
      },
      {
       "output_type": "stream",
       "stream": "stdout",
       "text": [
        "\n",
        "Running cognate models"
       ]
      },
      {
       "output_type": "stream",
       "stream": "stdout",
       "text": [
        "\n",
        "Running original models."
       ]
      },
      {
       "output_type": "stream",
       "stream": "stdout",
       "text": [
        "\n",
        "Running cognate models"
       ]
      },
      {
       "output_type": "stream",
       "stream": "stdout",
       "text": [
        "\n",
        "Running original models."
       ]
      },
      {
       "output_type": "stream",
       "stream": "stdout",
       "text": [
        "\n",
        "Running cognate models"
       ]
      },
      {
       "output_type": "stream",
       "stream": "stdout",
       "text": [
        "\n",
        "Running original models."
       ]
      },
      {
       "output_type": "stream",
       "stream": "stdout",
       "text": [
        "\n",
        "All \"central\" IVs are p > 0.05. Skipping."
       ]
      },
      {
       "output_type": "stream",
       "stream": "stdout",
       "text": [
        "\n",
        "Running cognate models\n",
        "Running original models."
       ]
      },
      {
       "output_type": "stream",
       "stream": "stdout",
       "text": [
        "\n",
        "Running cognate models"
       ]
      },
      {
       "output_type": "stream",
       "stream": "stdout",
       "text": [
        "\n",
        "Running original models."
       ]
      },
      {
       "output_type": "stream",
       "stream": "stdout",
       "text": [
        "\n",
        "Running cognate models"
       ]
      },
      {
       "output_type": "stream",
       "stream": "stdout",
       "text": [
        "\n",
        "Running original models."
       ]
      },
      {
       "output_type": "stream",
       "stream": "stdout",
       "text": [
        "\n",
        "Running cognate models"
       ]
      },
      {
       "output_type": "stream",
       "stream": "stdout",
       "text": [
        "\n",
        "Running original models."
       ]
      },
      {
       "output_type": "stream",
       "stream": "stdout",
       "text": [
        "\n",
        "Running cognate models"
       ]
      },
      {
       "output_type": "stream",
       "stream": "stdout",
       "text": [
        "\n",
        "Running original models."
       ]
      },
      {
       "output_type": "stream",
       "stream": "stdout",
       "text": [
        "\n",
        "Running cognate models"
       ]
      },
      {
       "output_type": "stream",
       "stream": "stdout",
       "text": [
        "\n",
        "Running original models."
       ]
      },
      {
       "output_type": "stream",
       "stream": "stdout",
       "text": [
        "\n",
        "Running cognate models"
       ]
      },
      {
       "output_type": "stream",
       "stream": "stdout",
       "text": [
        "\n",
        "Running original models."
       ]
      },
      {
       "output_type": "stream",
       "stream": "stdout",
       "text": [
        "\n",
        "Running cognate models"
       ]
      },
      {
       "output_type": "stream",
       "stream": "stdout",
       "text": [
        "\n",
        "Running original models."
       ]
      },
      {
       "output_type": "stream",
       "stream": "stdout",
       "text": [
        "\n",
        "Running cognate models"
       ]
      },
      {
       "output_type": "stream",
       "stream": "stdout",
       "text": [
        "\n",
        "Running original models."
       ]
      },
      {
       "output_type": "stream",
       "stream": "stdout",
       "text": [
        "\n",
        "Running cognate models"
       ]
      },
      {
       "output_type": "stream",
       "stream": "stdout",
       "text": [
        "\n",
        "Running original models."
       ]
      },
      {
       "output_type": "stream",
       "stream": "stdout",
       "text": [
        "\n",
        "Running cognate models"
       ]
      },
      {
       "output_type": "stream",
       "stream": "stdout",
       "text": [
        "\n",
        "Running original models."
       ]
      },
      {
       "output_type": "stream",
       "stream": "stdout",
       "text": [
        "\n",
        "All \"central\" IVs are p > 0.05. Skipping."
       ]
      },
      {
       "output_type": "stream",
       "stream": "stdout",
       "text": [
        "\n",
        "Running cognate models\n",
        "Running original models."
       ]
      },
      {
       "output_type": "stream",
       "stream": "stdout",
       "text": [
        "\n",
        "All \"central\" IVs are p > 0.05. Skipping."
       ]
      },
      {
       "output_type": "stream",
       "stream": "stdout",
       "text": [
        "\n",
        "Running cognate models\n",
        "Running original models."
       ]
      },
      {
       "output_type": "stream",
       "stream": "stdout",
       "text": [
        "\n",
        "Running cognate models"
       ]
      },
      {
       "output_type": "stream",
       "stream": "stdout",
       "text": [
        "\n",
        "Running original models."
       ]
      },
      {
       "output_type": "stream",
       "stream": "stdout",
       "text": [
        "\n",
        "All \"central\" IVs are p > 0.05. Skipping."
       ]
      },
      {
       "output_type": "stream",
       "stream": "stdout",
       "text": [
        "\n",
        "Running cognate models\n",
        "Running original models."
       ]
      },
      {
       "output_type": "stream",
       "stream": "stdout",
       "text": [
        "\n",
        "All \"central\" IVs are p > 0.05. Skipping."
       ]
      },
      {
       "output_type": "stream",
       "stream": "stdout",
       "text": [
        "\n",
        "Running cognate models\n",
        "Running original models."
       ]
      },
      {
       "output_type": "stream",
       "stream": "stdout",
       "text": [
        "\n",
        "All \"central\" IVs are p > 0.05. Skipping."
       ]
      },
      {
       "output_type": "stream",
       "stream": "stdout",
       "text": [
        "\n",
        "Running cognate models\n",
        "Running original models."
       ]
      },
      {
       "output_type": "stream",
       "stream": "stdout",
       "text": [
        "\n",
        "Running cognate models"
       ]
      },
      {
       "output_type": "stream",
       "stream": "stdout",
       "text": [
        "\n",
        "Running original models."
       ]
      },
      {
       "output_type": "stream",
       "stream": "stdout",
       "text": [
        "\n",
        "Running cognate models"
       ]
      },
      {
       "output_type": "stream",
       "stream": "stdout",
       "text": [
        "\n",
        "Running original models."
       ]
      },
      {
       "output_type": "stream",
       "stream": "stdout",
       "text": [
        "\n",
        "Running cognate models"
       ]
      },
      {
       "output_type": "stream",
       "stream": "stdout",
       "text": [
        "\n",
        "Running original models."
       ]
      },
      {
       "output_type": "stream",
       "stream": "stdout",
       "text": [
        "\n",
        "Running cognate models"
       ]
      },
      {
       "output_type": "stream",
       "stream": "stdout",
       "text": [
        "\n",
        "Running original models."
       ]
      },
      {
       "output_type": "stream",
       "stream": "stdout",
       "text": [
        "\n",
        "All \"central\" IVs are p > 0.05. Skipping."
       ]
      },
      {
       "output_type": "stream",
       "stream": "stdout",
       "text": [
        "\n",
        "Running cognate models\n",
        "Running original models."
       ]
      },
      {
       "output_type": "stream",
       "stream": "stdout",
       "text": [
        "\n",
        "Running cognate models"
       ]
      },
      {
       "output_type": "stream",
       "stream": "stdout",
       "text": [
        "\n",
        "Running original models."
       ]
      },
      {
       "output_type": "stream",
       "stream": "stdout",
       "text": [
        "\n",
        "All \"central\" IVs are p > 0.05. Skipping."
       ]
      },
      {
       "output_type": "stream",
       "stream": "stdout",
       "text": [
        "\n",
        "Running cognate models\n",
        "Running original models."
       ]
      },
      {
       "output_type": "stream",
       "stream": "stdout",
       "text": [
        "\n",
        "All \"central\" IVs are p > 0.05. Skipping."
       ]
      },
      {
       "output_type": "stream",
       "stream": "stdout",
       "text": [
        "\n",
        "Running cognate models\n",
        "Running original models."
       ]
      },
      {
       "output_type": "stream",
       "stream": "stdout",
       "text": [
        "\n",
        "Running cognate models"
       ]
      },
      {
       "output_type": "stream",
       "stream": "stdout",
       "text": [
        "\n",
        "Running original models."
       ]
      },
      {
       "output_type": "stream",
       "stream": "stdout",
       "text": [
        "\n",
        "All \"central\" IVs are p > 0.05. Skipping."
       ]
      },
      {
       "output_type": "stream",
       "stream": "stdout",
       "text": [
        "\n",
        "Running cognate models\n",
        "Running original models."
       ]
      },
      {
       "output_type": "stream",
       "stream": "stdout",
       "text": [
        "\n",
        "All \"central\" IVs are p > 0.05. Skipping."
       ]
      },
      {
       "output_type": "stream",
       "stream": "stdout",
       "text": [
        "\n",
        "Running cognate models\n",
        "Running original models."
       ]
      },
      {
       "output_type": "stream",
       "stream": "stdout",
       "text": [
        "\n",
        "All \"central\" IVs are p > 0.05. Skipping."
       ]
      },
      {
       "output_type": "stream",
       "stream": "stdout",
       "text": [
        "\n",
        "Running cognate models\n",
        "Running original models."
       ]
      },
      {
       "output_type": "stream",
       "stream": "stdout",
       "text": [
        "\n",
        "Running cognate models"
       ]
      },
      {
       "output_type": "stream",
       "stream": "stdout",
       "text": [
        "\n",
        "Running original models."
       ]
      },
      {
       "output_type": "stream",
       "stream": "stdout",
       "text": [
        "\n",
        "Running cognate models"
       ]
      },
      {
       "output_type": "stream",
       "stream": "stdout",
       "text": [
        "\n",
        "Running original models."
       ]
      },
      {
       "output_type": "stream",
       "stream": "stdout",
       "text": [
        "\n",
        "Running cognate models"
       ]
      },
      {
       "output_type": "stream",
       "stream": "stdout",
       "text": [
        "\n",
        "Running original models."
       ]
      },
      {
       "output_type": "stream",
       "stream": "stdout",
       "text": [
        "\n",
        "Running cognate models"
       ]
      },
      {
       "output_type": "stream",
       "stream": "stdout",
       "text": [
        "\n",
        "Running original models."
       ]
      },
      {
       "output_type": "stream",
       "stream": "stdout",
       "text": [
        "\n",
        "Running cognate models"
       ]
      },
      {
       "output_type": "stream",
       "stream": "stdout",
       "text": [
        "\n",
        "Running original models."
       ]
      },
      {
       "output_type": "stream",
       "stream": "stdout",
       "text": [
        "\n",
        "Running cognate models"
       ]
      },
      {
       "output_type": "stream",
       "stream": "stdout",
       "text": [
        "\n",
        "Running original models."
       ]
      },
      {
       "output_type": "stream",
       "stream": "stdout",
       "text": [
        "\n",
        "Running cognate models"
       ]
      },
      {
       "output_type": "stream",
       "stream": "stdout",
       "text": [
        "\n",
        "Running original models."
       ]
      },
      {
       "output_type": "stream",
       "stream": "stdout",
       "text": [
        "\n",
        "Running cognate models"
       ]
      },
      {
       "output_type": "stream",
       "stream": "stdout",
       "text": [
        "\n",
        "Running original models."
       ]
      },
      {
       "output_type": "stream",
       "stream": "stdout",
       "text": [
        "\n",
        "Running cognate models"
       ]
      },
      {
       "output_type": "stream",
       "stream": "stdout",
       "text": [
        "\n",
        "Running original models."
       ]
      },
      {
       "output_type": "stream",
       "stream": "stdout",
       "text": [
        "\n",
        "Running cognate models"
       ]
      },
      {
       "output_type": "stream",
       "stream": "stdout",
       "text": [
        "\n",
        "Running original models."
       ]
      },
      {
       "output_type": "stream",
       "stream": "stdout",
       "text": [
        "\n",
        "Running cognate models"
       ]
      },
      {
       "output_type": "stream",
       "stream": "stdout",
       "text": [
        "\n",
        "Running original models."
       ]
      },
      {
       "output_type": "stream",
       "stream": "stdout",
       "text": [
        "\n",
        "Running cognate models"
       ]
      },
      {
       "output_type": "stream",
       "stream": "stdout",
       "text": [
        "\n",
        "Running original models."
       ]
      },
      {
       "output_type": "stream",
       "stream": "stdout",
       "text": [
        "\n",
        "Running cognate models"
       ]
      },
      {
       "output_type": "stream",
       "stream": "stdout",
       "text": [
        "\n",
        "Running original models."
       ]
      },
      {
       "output_type": "stream",
       "stream": "stdout",
       "text": [
        "\n",
        "Running cognate models"
       ]
      },
      {
       "output_type": "stream",
       "stream": "stdout",
       "text": [
        "\n",
        "Running original models."
       ]
      },
      {
       "output_type": "stream",
       "stream": "stdout",
       "text": [
        "\n",
        "Running cognate models"
       ]
      },
      {
       "output_type": "stream",
       "stream": "stdout",
       "text": [
        "\n",
        "Running original models."
       ]
      },
      {
       "output_type": "stream",
       "stream": "stdout",
       "text": [
        "\n",
        "Running cognate models"
       ]
      },
      {
       "output_type": "stream",
       "stream": "stdout",
       "text": [
        "\n",
        "Running original models."
       ]
      },
      {
       "output_type": "stream",
       "stream": "stdout",
       "text": [
        "\n",
        "Running cognate models"
       ]
      },
      {
       "output_type": "stream",
       "stream": "stdout",
       "text": [
        "\n",
        "Running original models."
       ]
      },
      {
       "output_type": "stream",
       "stream": "stdout",
       "text": [
        "\n",
        "Running cognate models"
       ]
      },
      {
       "output_type": "stream",
       "stream": "stdout",
       "text": [
        "\n",
        "Running original models."
       ]
      },
      {
       "output_type": "stream",
       "stream": "stdout",
       "text": [
        "\n",
        "All \"central\" IVs are p > 0.05. Skipping."
       ]
      },
      {
       "output_type": "stream",
       "stream": "stdout",
       "text": [
        "\n",
        "Running cognate models\n",
        "Running original models."
       ]
      },
      {
       "output_type": "stream",
       "stream": "stdout",
       "text": [
        "\n",
        "Running cognate models"
       ]
      },
      {
       "output_type": "stream",
       "stream": "stdout",
       "text": [
        "\n",
        "Running original models."
       ]
      },
      {
       "output_type": "stream",
       "stream": "stdout",
       "text": [
        "\n",
        "Running cognate models"
       ]
      },
      {
       "output_type": "stream",
       "stream": "stdout",
       "text": [
        "\n",
        "Running original models."
       ]
      },
      {
       "output_type": "stream",
       "stream": "stdout",
       "text": [
        "\n",
        "Running cognate models"
       ]
      },
      {
       "output_type": "stream",
       "stream": "stdout",
       "text": [
        "\n",
        "Running original models."
       ]
      },
      {
       "output_type": "stream",
       "stream": "stdout",
       "text": [
        "\n",
        "All \"central\" IVs are p > 0.05. Skipping."
       ]
      },
      {
       "output_type": "stream",
       "stream": "stdout",
       "text": [
        "\n",
        "Running cognate models\n",
        "Running original models."
       ]
      },
      {
       "output_type": "stream",
       "stream": "stdout",
       "text": [
        "\n",
        "Running cognate models"
       ]
      },
      {
       "output_type": "stream",
       "stream": "stdout",
       "text": [
        "\n",
        "Running original models."
       ]
      },
      {
       "output_type": "stream",
       "stream": "stdout",
       "text": [
        "\n",
        "Running cognate models"
       ]
      },
      {
       "output_type": "stream",
       "stream": "stdout",
       "text": [
        "\n",
        "Running original models."
       ]
      },
      {
       "output_type": "stream",
       "stream": "stdout",
       "text": [
        "\n",
        "Running cognate models"
       ]
      },
      {
       "output_type": "stream",
       "stream": "stdout",
       "text": [
        "\n",
        "Running original models."
       ]
      },
      {
       "output_type": "stream",
       "stream": "stdout",
       "text": [
        "\n",
        "Running cognate models"
       ]
      },
      {
       "output_type": "stream",
       "stream": "stdout",
       "text": [
        "\n",
        "Running original models."
       ]
      },
      {
       "output_type": "stream",
       "stream": "stdout",
       "text": [
        "\n",
        "All \"central\" IVs are p > 0.05. Skipping."
       ]
      },
      {
       "output_type": "stream",
       "stream": "stdout",
       "text": [
        "\n",
        "Running cognate models\n",
        "Running original models."
       ]
      },
      {
       "output_type": "stream",
       "stream": "stdout",
       "text": [
        "\n",
        "Running cognate models"
       ]
      },
      {
       "output_type": "stream",
       "stream": "stdout",
       "text": [
        "\n",
        "Running original models."
       ]
      },
      {
       "output_type": "stream",
       "stream": "stdout",
       "text": [
        "\n",
        "Running cognate models"
       ]
      },
      {
       "output_type": "stream",
       "stream": "stdout",
       "text": [
        "\n",
        "Running original models."
       ]
      },
      {
       "output_type": "stream",
       "stream": "stdout",
       "text": [
        "\n",
        "Running cognate models"
       ]
      },
      {
       "output_type": "stream",
       "stream": "stdout",
       "text": [
        "\n",
        "Running original models."
       ]
      },
      {
       "output_type": "stream",
       "stream": "stdout",
       "text": [
        "\n",
        "All \"central\" IVs are p > 0.05. Skipping."
       ]
      },
      {
       "output_type": "stream",
       "stream": "stdout",
       "text": [
        "\n",
        "Running cognate models\n",
        "Running original models."
       ]
      },
      {
       "output_type": "stream",
       "stream": "stdout",
       "text": [
        "\n",
        "All \"central\" IVs are p > 0.05. Skipping."
       ]
      },
      {
       "output_type": "stream",
       "stream": "stdout",
       "text": [
        "\n",
        "Running cognate models\n",
        "Running original models."
       ]
      },
      {
       "output_type": "stream",
       "stream": "stdout",
       "text": [
        "\n",
        "Running cognate models"
       ]
      },
      {
       "output_type": "stream",
       "stream": "stdout",
       "text": [
        "\n",
        "Running original models."
       ]
      },
      {
       "output_type": "stream",
       "stream": "stdout",
       "text": [
        "\n",
        "All \"central\" IVs are p > 0.05. Skipping."
       ]
      },
      {
       "output_type": "stream",
       "stream": "stdout",
       "text": [
        "\n",
        "Running cognate models\n",
        "Running original models."
       ]
      },
      {
       "output_type": "stream",
       "stream": "stdout",
       "text": [
        "\n",
        "Processing article:"
       ]
      },
      {
       "output_type": "stream",
       "stream": "stdout",
       "text": [
        " 6777\n",
        "Running cognate models"
       ]
      },
      {
       "output_type": "stream",
       "stream": "stdout",
       "text": [
        "\n",
        "Running cognate models\n",
        "Running cognate models\n",
        "Processing article: 1530\n",
        "No cognates for the specified central IVs\n",
        "No suitable cognates. Skipping.\n",
        "Processing article: 3268\n",
        "Running cognate models"
       ]
      },
      {
       "output_type": "stream",
       "stream": "stdout",
       "text": [
        "\n",
        "Dropping column MARITAL because it is constant\n",
        "Running cognate models\n",
        "Dropping column MARITAL because it is constant\n",
        "Running cognate models\n",
        "Dropping column MARITAL because it is constant\n",
        "Processing article: 3952\n",
        "No cognates for the specified central IVs\n",
        "No suitable cognates. Skipping.\n",
        "Processing article: 2841\n",
        "No cognates for the specified central IVs\n",
        "No suitable cognates. Skipping.\n",
        "Processing article: 7433\n",
        "Running cognate models"
       ]
      },
      {
       "output_type": "stream",
       "stream": "stdout",
       "text": [
        "\n",
        "Running cognate models\n",
        "Running cognate models\n",
        "Running cognate models\n",
        "Running cognate models\n",
        "Running cognate models\n",
        "Running cognate models\n",
        "Processing article: 5985\n",
        "Running cognate models\n",
        "Running original models."
       ]
      },
      {
       "output_type": "stream",
       "stream": "stdout",
       "text": [
        "\n",
        "Processing article:"
       ]
      },
      {
       "output_type": "stream",
       "stream": "stdout",
       "text": [
        " 1547\n",
        "Running cognate models\n",
        "Running original models."
       ]
      },
      {
       "output_type": "stream",
       "stream": "stdout",
       "text": [
        "\n",
        "Running cognate models"
       ]
      },
      {
       "output_type": "stream",
       "stream": "stdout",
       "text": [
        "\n",
        "Running original models."
       ]
      },
      {
       "output_type": "stream",
       "stream": "stdout",
       "text": [
        "\n",
        "Processing article:"
       ]
      },
      {
       "output_type": "stream",
       "stream": "stdout",
       "text": [
        " 730\n",
        "No cognates for the specified central IVs\n",
        "No suitable cognates. Skipping.\n",
        "Processing article: 7733\n",
        "No cognates for the specified central IVs\n",
        "No suitable cognates. Skipping.\n",
        "Processing article: 5242\n",
        "No cognates for the specified central IVs\n",
        "No suitable cognates. Skipping.\n",
        "Processing article: 2001\n",
        "No cognates for the specified central IVs\n",
        "No suitable cognates. Skipping.\n",
        "Processing article: 4400\n",
        "No cognates for the specified central IVs\n",
        "No suitable cognates. Skipping.\n",
        "Processing article: 4112\n",
        "Running cognate models\n",
        "Running original models."
       ]
      },
      {
       "output_type": "stream",
       "stream": "stdout",
       "text": [
        "\n",
        "All \"central\" IVs are p > 0.05. Skipping."
       ]
      },
      {
       "output_type": "stream",
       "stream": "stdout",
       "text": [
        "\n",
        "Processing article: 5419\n",
        "No cognates for the specified central IVs\n",
        "No suitable cognates. Skipping.\n"
       ]
      },
      {
       "output_type": "stream",
       "stream": "stderr",
       "text": [
        "/home/misha/python/numpy-1.8.1-py2.7-linux-x86_64.egg/numpy/core/_methods.py:55: RuntimeWarning: Mean of empty slice.\n",
        "  warnings.warn(\"Mean of empty slice.\", RuntimeWarning)\n"
       ]
      }
     ],
     "prompt_number": 2
    },
    {
     "cell_type": "markdown",
     "metadata": {},
     "source": [
      "Create a Pandas DataFrame of the output\n",
      "--\n"
     ]
    },
    {
     "cell_type": "code",
     "collapsed": false,
     "input": [
      "df_output = pd.DataFrame(index=arange(len(output[group1]['propSig'])), columns=pd.MultiIndex.from_product([groups, outcomes]))\n",
      "df_output.columns.names = ['outcome','group']\n",
      "for outcome in outcomes:\n",
      "    for gp in groups:\n",
      "        df_output[gp, outcome] = output[gp][outcome]\n",
      "df_output['article_id'] = output['metadata']['article_id']\n",
      "del df_output[group1, 'numTotal']\n",
      "del df_output[group2, 'numTotal']\n",
      "print len(df_output)"
     ],
     "language": "python",
     "metadata": {},
     "outputs": [
      {
       "ename": "ValueError",
       "evalue": "Length of values does not match length of index",
       "output_type": "pyerr",
       "traceback": [
        "\u001b[1;31m---------------------------------------------------------------------------\u001b[0m\n\u001b[1;31mValueError\u001b[0m                                Traceback (most recent call last)",
        "\u001b[1;32m<ipython-input-3-609a3ec529a7>\u001b[0m in \u001b[0;36m<module>\u001b[1;34m()\u001b[0m\n\u001b[0;32m      3\u001b[0m \u001b[1;32mfor\u001b[0m \u001b[0moutcome\u001b[0m \u001b[1;32min\u001b[0m \u001b[0moutcomes\u001b[0m\u001b[1;33m:\u001b[0m\u001b[1;33m\u001b[0m\u001b[0m\n\u001b[0;32m      4\u001b[0m     \u001b[1;32mfor\u001b[0m \u001b[0mgp\u001b[0m \u001b[1;32min\u001b[0m \u001b[0mgroups\u001b[0m\u001b[1;33m:\u001b[0m\u001b[1;33m\u001b[0m\u001b[0m\n\u001b[1;32m----> 5\u001b[1;33m         \u001b[0mdf_output\u001b[0m\u001b[1;33m[\u001b[0m\u001b[0mgp\u001b[0m\u001b[1;33m,\u001b[0m \u001b[0moutcome\u001b[0m\u001b[1;33m]\u001b[0m \u001b[1;33m=\u001b[0m \u001b[0moutput\u001b[0m\u001b[1;33m[\u001b[0m\u001b[0mgp\u001b[0m\u001b[1;33m]\u001b[0m\u001b[1;33m[\u001b[0m\u001b[0moutcome\u001b[0m\u001b[1;33m]\u001b[0m\u001b[1;33m\u001b[0m\u001b[0m\n\u001b[0m\u001b[0;32m      6\u001b[0m \u001b[0mdf_output\u001b[0m\u001b[1;33m[\u001b[0m\u001b[1;34m'article_id'\u001b[0m\u001b[1;33m]\u001b[0m \u001b[1;33m=\u001b[0m \u001b[0moutput\u001b[0m\u001b[1;33m[\u001b[0m\u001b[1;34m'metadata'\u001b[0m\u001b[1;33m]\u001b[0m\u001b[1;33m[\u001b[0m\u001b[1;34m'article_id'\u001b[0m\u001b[1;33m]\u001b[0m\u001b[1;33m\u001b[0m\u001b[0m\n\u001b[0;32m      7\u001b[0m \u001b[1;32mdel\u001b[0m \u001b[0mdf_output\u001b[0m\u001b[1;33m[\u001b[0m\u001b[0mgroup1\u001b[0m\u001b[1;33m,\u001b[0m \u001b[1;34m'numTotal'\u001b[0m\u001b[1;33m]\u001b[0m\u001b[1;33m\u001b[0m\u001b[0m\n",
        "\u001b[1;32m/home/misha/python/pandas-0.14.1-py2.7-linux-x86_64.egg/pandas/core/frame.pyc\u001b[0m in \u001b[0;36m__setitem__\u001b[1;34m(self, key, value)\u001b[0m\n\u001b[0;32m   2005\u001b[0m         \u001b[1;32melse\u001b[0m\u001b[1;33m:\u001b[0m\u001b[1;33m\u001b[0m\u001b[0m\n\u001b[0;32m   2006\u001b[0m             \u001b[1;31m# set column\u001b[0m\u001b[1;33m\u001b[0m\u001b[1;33m\u001b[0m\u001b[0m\n\u001b[1;32m-> 2007\u001b[1;33m             \u001b[0mself\u001b[0m\u001b[1;33m.\u001b[0m\u001b[0m_set_item\u001b[0m\u001b[1;33m(\u001b[0m\u001b[0mkey\u001b[0m\u001b[1;33m,\u001b[0m \u001b[0mvalue\u001b[0m\u001b[1;33m)\u001b[0m\u001b[1;33m\u001b[0m\u001b[0m\n\u001b[0m\u001b[0;32m   2008\u001b[0m \u001b[1;33m\u001b[0m\u001b[0m\n\u001b[0;32m   2009\u001b[0m     \u001b[1;32mdef\u001b[0m \u001b[0m_setitem_slice\u001b[0m\u001b[1;33m(\u001b[0m\u001b[0mself\u001b[0m\u001b[1;33m,\u001b[0m \u001b[0mkey\u001b[0m\u001b[1;33m,\u001b[0m \u001b[0mvalue\u001b[0m\u001b[1;33m)\u001b[0m\u001b[1;33m:\u001b[0m\u001b[1;33m\u001b[0m\u001b[0m\n",
        "\u001b[1;32m/home/misha/python/pandas-0.14.1-py2.7-linux-x86_64.egg/pandas/core/frame.pyc\u001b[0m in \u001b[0;36m_set_item\u001b[1;34m(self, key, value)\u001b[0m\n\u001b[0;32m   2083\u001b[0m         \u001b[0mis_existing\u001b[0m \u001b[1;33m=\u001b[0m \u001b[0mkey\u001b[0m \u001b[1;32min\u001b[0m \u001b[0mself\u001b[0m\u001b[1;33m.\u001b[0m\u001b[0mcolumns\u001b[0m\u001b[1;33m\u001b[0m\u001b[0m\n\u001b[0;32m   2084\u001b[0m         \u001b[0mself\u001b[0m\u001b[1;33m.\u001b[0m\u001b[0m_ensure_valid_index\u001b[0m\u001b[1;33m(\u001b[0m\u001b[0mvalue\u001b[0m\u001b[1;33m)\u001b[0m\u001b[1;33m\u001b[0m\u001b[0m\n\u001b[1;32m-> 2085\u001b[1;33m         \u001b[0mvalue\u001b[0m \u001b[1;33m=\u001b[0m \u001b[0mself\u001b[0m\u001b[1;33m.\u001b[0m\u001b[0m_sanitize_column\u001b[0m\u001b[1;33m(\u001b[0m\u001b[0mkey\u001b[0m\u001b[1;33m,\u001b[0m \u001b[0mvalue\u001b[0m\u001b[1;33m)\u001b[0m\u001b[1;33m\u001b[0m\u001b[0m\n\u001b[0m\u001b[0;32m   2086\u001b[0m         \u001b[0mNDFrame\u001b[0m\u001b[1;33m.\u001b[0m\u001b[0m_set_item\u001b[0m\u001b[1;33m(\u001b[0m\u001b[0mself\u001b[0m\u001b[1;33m,\u001b[0m \u001b[0mkey\u001b[0m\u001b[1;33m,\u001b[0m \u001b[0mvalue\u001b[0m\u001b[1;33m)\u001b[0m\u001b[1;33m\u001b[0m\u001b[0m\n\u001b[0;32m   2087\u001b[0m \u001b[1;33m\u001b[0m\u001b[0m\n",
        "\u001b[1;32m/home/misha/python/pandas-0.14.1-py2.7-linux-x86_64.egg/pandas/core/frame.pyc\u001b[0m in \u001b[0;36m_sanitize_column\u001b[1;34m(self, key, value)\u001b[0m\n\u001b[0;32m   2139\u001b[0m         \u001b[1;32melif\u001b[0m \u001b[0misinstance\u001b[0m\u001b[1;33m(\u001b[0m\u001b[0mvalue\u001b[0m\u001b[1;33m,\u001b[0m \u001b[0mIndex\u001b[0m\u001b[1;33m)\u001b[0m \u001b[1;32mor\u001b[0m \u001b[0m_is_sequence\u001b[0m\u001b[1;33m(\u001b[0m\u001b[0mvalue\u001b[0m\u001b[1;33m)\u001b[0m\u001b[1;33m:\u001b[0m\u001b[1;33m\u001b[0m\u001b[0m\n\u001b[0;32m   2140\u001b[0m             \u001b[1;32mif\u001b[0m \u001b[0mlen\u001b[0m\u001b[1;33m(\u001b[0m\u001b[0mvalue\u001b[0m\u001b[1;33m)\u001b[0m \u001b[1;33m!=\u001b[0m \u001b[0mlen\u001b[0m\u001b[1;33m(\u001b[0m\u001b[0mself\u001b[0m\u001b[1;33m.\u001b[0m\u001b[0mindex\u001b[0m\u001b[1;33m)\u001b[0m\u001b[1;33m:\u001b[0m\u001b[1;33m\u001b[0m\u001b[0m\n\u001b[1;32m-> 2141\u001b[1;33m                 raise ValueError('Length of values does not match length of '\n\u001b[0m\u001b[0;32m   2142\u001b[0m                                  'index')\n\u001b[0;32m   2143\u001b[0m \u001b[1;33m\u001b[0m\u001b[0m\n",
        "\u001b[1;31mValueError\u001b[0m: Length of values does not match length of index"
       ]
      }
     ],
     "prompt_number": 3
    },
    {
     "cell_type": "code",
     "collapsed": false,
     "input": [
      "centralVars"
     ],
     "language": "python",
     "metadata": {},
     "outputs": [
      {
       "metadata": {},
       "output_type": "pyout",
       "prompt_number": 5,
       "text": [
        "['standardize(INCOME, ddof=1)', 'standardize(EDUC, ddof=1)']"
       ]
      }
     ],
     "prompt_number": 5
    },
    {
     "cell_type": "markdown",
     "metadata": {},
     "source": [
      "#Plot outcomes"
     ]
    },
    {
     "cell_type": "code",
     "collapsed": false,
     "input": [
      "figsize(12,8)\n",
      "outcomesToUse = df_output[group1].columns\n",
      "indices = np.arange(len(outcomesToUse))\n",
      "width = 0.35\n",
      "axes = figure().add_subplot(111)\n",
      "rects1 = bar(left=indices, width=width, height=df_output[group1].mean(), color='r')#, yerr=df_output['orig. models'].std()) #this is not relevant because we're not comparing groups\n",
      "rects2 = bar(left=indices+width, width=width, height=df_output[group2].mean(), color='y')#, yerr=df_output['cognate models'].std())\n",
      "\n",
      "# title, legend, etc\n",
      "title('Original vs. Cognate Models', fontsize=18)\n",
      "legend((rects1[0], rects2[0]), ('Original models', 'Cognate models'), fontsize=15)\n",
      "# legend((rects1[0], rects2[0]), ('Original models', 'Cognate models'), fontsize=15)\n",
      "xlim((-1*width, len(outcomesToUse)))\n",
      "\n",
      "# tick labels\n",
      "# a = outcomesToUse\n",
      "a = ['% of coeffs. stat. sign.', 'avg. coeff. size', 'R_sq.', 'adj. R_sq.', 'avg. p-value', \\\n",
      "     '\"central\" vars: % of coeffs. stat. sign.', '\"central\" vars: avg. coeff. size', '\"central\" vars: avg. p-value']\n",
      "axes.set_xticks(indices+width)\n",
      "axes.set_xticklabels(a, rotation=90, fontsize=15)\n",
      "\n",
      "# label the bars with the difference between them\n",
      "diffs = (df_output[group1] - df_output[group2]).mean().values\n",
      "def autolabel(rects):\n",
      "    # attach some text labels\n",
      "    for i, rect in enumerate(rects):\n",
      "        height = rect.get_height()\n",
      "        if i!=7 and i!=4:\n",
      "            axes.text(rect.get_x()+width, 1.02*height, '%0.3f'%diffs[i],\n",
      "                    ha='center', va='bottom', fontsize=15)\n",
      "        else: # this is for the p-value label, which has gone up\n",
      "            axes.text(rect.get_x()+width, 1.02*height+0.05, '%0.3f'%diffs[i],\n",
      "                    ha='center', va='bottom', fontsize=15)\n",
      "autolabel(rects1)\n",
      "\n",
      "# savefig('../../Images/ASA2015/original_vs_cognate_models.png', bbox_inches='tight')\n",
      "\n",
      "# THE CODE BELOW IS OLD -- I replaced it with the code above on 2015-01-06\n",
      "# figsize(5,5)\n",
      "\n",
      "# indices = np.arange(5)\n",
      "# width = 0.35\n",
      "# axes = figure().add_subplot(111)\n",
      "# rects1 = bar(left=indices, width=width, height=df_output['orig. models'].mean(), color='r')#, yerr=df_output['orig. models'].std()) #this is not relevant because we're not comparing groups\n",
      "# rects2 = bar(left=indices+width, width=width, height=df_output['cognate models'].mean(), color='y')#, yerr=df_output['cognate models'].std())\n",
      "\n",
      "# # title, legend, etc\n",
      "# title('Original vs. Cognate Models', fontsize=18)\n",
      "# legend((rects1[0], rects2[0]), ('Original models', 'Cognate models'), fontsize=15)\n",
      "# xlim((-1*width, 5))\n",
      "\n",
      "# # tick labels\n",
      "# a = ['% of coeffs. stat. sign.', 'stand. coeff. size', 'R_sq.', 'adj. R_sq.', 'p-value']\n",
      "# axes.set_xticks(indices+width)\n",
      "# axes.set_xticklabels(a, rotation=80, fontsize=15)\n",
      "\n",
      "# # label the bars with the difference between them\n",
      "# diffs = (df_output['orig. models'] - df_output['cognate models']).mean().values\n",
      "# def autolabel(rects):\n",
      "#     # attach some text labels\n",
      "#     for i, rect in enumerate(rects):\n",
      "#         height = rect.get_height()\n",
      "#         if i!=4:\n",
      "#             axes.text(rect.get_x()+width, 1.02*height, '%0.3f'%diffs[i],\n",
      "#                     ha='center', va='bottom')\n",
      "#         else: # this is for the p-value label, which has gone up\n",
      "#             axes.text(rect.get_x()+width, 1.02*height+0.05, '%0.3f'%diffs[i],\n",
      "#                     ha='center', va='bottom')\n",
      "# autolabel(rects1)\n",
      "\n",
      "# savefig('../../Images/9-10-2014--original_vs_cognate_models.png', bbox_inches='tight')"
     ],
     "language": "python",
     "metadata": {},
     "outputs": []
    },
    {
     "cell_type": "markdown",
     "metadata": {},
     "source": [
      "#Examine a particular outcome\n",
      "Examine the differences distribution"
     ]
    },
    {
     "cell_type": "code",
     "collapsed": false,
     "input": [
      "figsize(6,5)\n",
      "(df_output['orig. models']['paramSizesNormed'] - df_output['cognate models']['paramSizesNormed']).plot(kind='kde')\n",
      "plot([0,0], [0,20], '--')\n",
      "title('Differences in Stand. Coeff. Size. between orig. and cognate')"
     ],
     "language": "python",
     "metadata": {},
     "outputs": [
      {
       "metadata": {},
       "output_type": "pyout",
       "prompt_number": 225,
       "text": [
        "<matplotlib.text.Text at 0x984a990>"
       ]
      },
      {
       "metadata": {},
       "output_type": "display_data",
       "png": "[encoded data removed]",
       "text": [
        "<matplotlib.figure.Figure at 0x9e06590>"
       ]
      }
     ],
     "prompt_number": 225
    },
    {
     "cell_type": "code",
     "collapsed": false,
     "input": [
      "mn= np.mean((df_output['orig. models', 'Rs'] - df_output['cognate models', 'Rs']).values)\n",
      "sd= np.std((df_output['orig. models', 'Rs'] - df_output['cognate models', 'Rs']).values)\n",
      "print mn, sd, mn/(sd/sqrt(df_output.shape[0]))"
     ],
     "language": "python",
     "metadata": {},
     "outputs": [
      {
       "output_type": "stream",
       "stream": "stdout",
       "text": [
        "0.00652868056426 0.0169523029205 5.03610493767\n"
       ]
      }
     ],
     "prompt_number": 233
    },
    {
     "cell_type": "markdown",
     "metadata": {},
     "source": [
      "Perform t-tests and Tests using *clustered errors*\n",
      "--\n",
      "\n",
      "1. Perform related-sample t-test (samples must be of equal lengths)\n",
      "\n",
      "2. Perform independent samples t-test (just for kicks, to see how big our effects are)\n",
      "\n",
      "3. Perform clustered error tests. To do this I will do a hack by running a regression with clustered errors and using that as the t-test. Source/inspiration is: http://www.stata.com/statalist/archive/2010-05/msg00663.html\n",
      "\n",
      "Note: I am not using the 'df_correction' flag in get_robustcov_results() because that's apparently something HLM does, not canonical clustered errors:\n",
      "\"This method of correcting the standard errors to account for the intraclass correlation is a \"weaker\" form of correction than using a multilevel model, which not only accounts for the intraclass correlation, but also corrects the denominator degrees of freedom for the number of clusters.\"\n",
      "source: http://www.ats.ucla.edu/stat/stata/library/cpsu.htm\n",
      "\n",
      "Note\n",
      "--\n",
      "For some reason, I'm getting different clustered-errors-p-values when I use the 'cluster' flag in the \n",
      "fit() function vs. when I calculate the result normally and then use get_robustcov_results function on that result. The former method yields slightly smaller p-values.\n",
      "\n",
      "Outcome\n",
      "--\n",
      "The p-values are larger (for some outcomes, they are now > 0.05) but are still sufficiently small?\n"
     ]
    },
    {
     "cell_type": "code",
     "collapsed": false,
     "input": [
      "outcomes.remove('numTotal')"
     ],
     "language": "python",
     "metadata": {},
     "outputs": [],
     "prompt_number": 15
    },
    {
     "cell_type": "code",
     "collapsed": false,
     "input": [
      "# (df_output['adjRs','orig. models'] - df_output['adjRs','cognate models']).plot(kind='kde')\n",
      "\n",
      "from scipy.stats import ttest_1samp\n",
      "import statsmodels.formula.api as smf\n",
      "\n",
      "for outcome in outcomes:\n",
      "    print outcome\n",
      "    print 'Mean before substitution:', df_output[group1, outcome].mean()\n",
      "    print 'Mean after substitution:', df_output[group2, outcome].mean()\n",
      "    print 'Related samples t-test p-value:', np.around(ttest_rel(df_output[group1, outcome], df_output[group2, outcome])[1], 6)\n",
      " \n",
      "    # GET CLUSTERED ERRORS\n",
      "    # to do this run a regression Y ~ X where Y = outcomes, X = dummy {0=group1, 1=group2}\n",
      "    # 1. Define variables\n",
      "    outcomes_combined = list(df_output[group1, outcome]) + list(df_output[group2, outcome])\n",
      "    diffs = df_output[group1, outcome] - df_output[group2, outcome]\n",
      "    dummy = [0]*len(df_output[group1, outcome]) + [1]*len(df_output[group2, outcome])\n",
      "    article_ids = list(df_output.article_id) \n",
      "    \n",
      "    # 2. Fit models\n",
      "#     result = smf.ols(formula='y~x', data=pd.DataFrame({'y':outcomes_combined, 'x':dummy})).fit() # do I need a constant???\n",
      "#     result = smf.ols(formula='y~x-1', data=pd.DataFrame({'y':diffs, 'x':[1]*len(diffs)})).fit()\n",
      "    result_clustered = smf.ols(formula='y~x-1', \\\n",
      "                     data=pd.DataFrame({'y':diffs, 'x':[1]*len(diffs)})).fit(missing='drop', \\\n",
      "                                                                             cov_type='cluster', \\\n",
      "                                                                    cov_kwds=dict(groups=article_ids))\n",
      "                                                                                               \n",
      "# these two methods produce slightly different results. neither is necessary because i'm using parameters\n",
      "# of the model.fit() method above instead to use clustered standard errors.\n",
      "#     # 3. Get clustered standard errors\n",
      "#     robust_results = result.get_robustcov_results(cov_type='cluster', \n",
      "#                                                   use_correction=True,\n",
      "#                                                   groups=article_ids, # this is article_id doubled\n",
      "#                                                   df_correction=True) \n",
      "    \n",
      "#     # 3.1 Get clustered standard errors another way, by regression diffs ~ const and seeing if const!=0\n",
      "#     result_rob = result.get_robustcov_results(cov_type='cluster', \\\n",
      "#                                            groups=article_ids) # this is article_id singled\n",
      "    \n",
      "    print 'clustered errors p-value:', np.around(result_clustered.pvalues[0], 3)    \n",
      "#     print 'clustered errors p-value:', np.around(result_rob.pvalues[0], 3)\n",
      "    print"
     ],
     "language": "python",
     "metadata": {},
     "outputs": [
      {
       "output_type": "stream",
       "stream": "stdout",
       "text": [
        "propSig\n",
        "Mean before substitution: 0.612004511759\n",
        "Mean after substitution: 0.553257737461\n",
        "Related samples t-test p-value: 2e-06\n",
        "clustered errors p-value: 0.007\n",
        "\n",
        "paramSizesNormed\n",
        "Mean before substitution: 0.175514635158\n",
        "Mean after substitution: 0.156400598351\n",
        "Related samples t-test p-value: 0.0\n",
        "clustered errors p-value: 0.09\n",
        "\n",
        "Rs\n",
        "Mean before substitution: 0.100756791535\n",
        "Mean after substitution: 0.0948214808004\n",
        "Related samples t-test p-value: 1.4e-05\n",
        "clustered errors p-value: 0.074\n",
        "\n",
        "adjRs\n",
        "Mean before substitution: 0.090041598757\n",
        "Mean after substitution: 0.0832475398674\n",
        "Related samples t-test p-value: 1e-06\n",
        "clustered errors p-value: 0.043\n",
        "\n",
        "pvalues\n",
        "Mean before substitution: 0.00701112488537\n",
        "Mean after substitution: 0.0499859206444\n",
        "Related samples t-test p-value: 0.0\n",
        "clustered errors p-value: 0.081\n",
        "\n"
       ]
      }
     ],
     "prompt_number": 86
    },
    {
     "cell_type": "code",
     "collapsed": false,
     "input": [
      "df_output[group1, outcome]"
     ],
     "language": "python",
     "metadata": {},
     "outputs": [
      {
       "metadata": {},
       "output_type": "pyout",
       "prompt_number": 33,
       "text": [
        "0     1.000000\n",
        "1     0.750000\n",
        "2     0.625000\n",
        "3     0.583333\n",
        "4     0.571429\n",
        "5     0.592593\n",
        "6     0.600000\n",
        "7     0.600000\n",
        "8     0.600000\n",
        "9     0.333333\n",
        "10    1.000000\n",
        "11    0.400000\n",
        "12    0.640000\n",
        "13    0.416667\n",
        "14    0.428571\n",
        "...\n",
        "155    1.000000\n",
        "156    1.000000\n",
        "157    1.000000\n",
        "158    1.000000\n",
        "159    0.666667\n",
        "160    0.500000\n",
        "161    0.500000\n",
        "162    0.600000\n",
        "163    0.600000\n",
        "164    0.500000\n",
        "165    0.466667\n",
        "166    0.450000\n",
        "167    0.450000\n",
        "168    0.450000\n",
        "169    0.440000\n",
        "Name: (orig. models, propSig), Length: 170, dtype: float64"
       ]
      }
     ],
     "prompt_number": 33
    },
    {
     "cell_type": "code",
     "collapsed": false,
     "input": [],
     "language": "python",
     "metadata": {},
     "outputs": [
      {
       "ename": "TypeError",
       "evalue": "dict expected at most 1 arguments, got 2",
       "output_type": "pyerr",
       "traceback": [
        "\u001b[1;31m---------------------------------------------------------------------------\u001b[0m\n\u001b[1;31mTypeError\u001b[0m                                 Traceback (most recent call last)",
        "\u001b[1;32m<ipython-input-22-f6be0e2c9914>\u001b[0m in \u001b[0;36m<module>\u001b[1;34m()\u001b[0m\n\u001b[1;32m----> 1\u001b[1;33m \u001b[0mdict\u001b[0m\u001b[1;33m(\u001b[0m\u001b[1;33m(\u001b[0m\u001b[1;34m'y'\u001b[0m\u001b[1;33m,\u001b[0m\u001b[0moutcomes_combined\u001b[0m\u001b[1;33m)\u001b[0m\u001b[1;33m,\u001b[0m \u001b[1;33m(\u001b[0m\u001b[1;34m'x'\u001b[0m\u001b[1;33m,\u001b[0m\u001b[0mdummy\u001b[0m\u001b[1;33m)\u001b[0m\u001b[1;33m)\u001b[0m\u001b[1;33m\u001b[0m\u001b[0m\n\u001b[0m",
        "\u001b[1;31mTypeError\u001b[0m: dict expected at most 1 arguments, got 2"
       ]
      }
     ],
     "prompt_number": 22
    },
    {
     "cell_type": "code",
     "collapsed": false,
     "input": [
      "pd.MultiIndex.from_product([outcomes, ['orig. models', 'cognate models']])"
     ],
     "language": "python",
     "metadata": {},
     "outputs": [
      {
       "metadata": {},
       "output_type": "pyout",
       "prompt_number": 17,
       "text": [
        "MultiIndex(levels=[[u'Rs', u'adjRs', u'numTotal', u'paramSizesNormed', u'propSig', u'pvalues'], [u'cognate models', u'orig. models']],\n",
        "           labels=[[4, 4, 3, 3, 0, 0, 1, 1, 5, 5, 2, 2], [1, 0, 1, 0, 1, 0, 1, 0, 1, 0, 1, 0]])"
       ]
      }
     ],
     "prompt_number": 17
    },
    {
     "cell_type": "markdown",
     "metadata": {},
     "source": [
      "#How many models now have p > 0.05?"
     ]
    },
    {
     "cell_type": "code",
     "collapsed": false,
     "input": [
      "print 'count:', df_output['cognate models']['pvalues'][df_output['cognate models']['pvalues'] > 0.05].shape[0]\n",
      "print 'total:', df_output.shape[0]\n",
      "print 'percent:', df_output['cognate models']['pvalues'][df_output['cognate models']['pvalues'] > 0.05].shape[0]/ df_output.shape[0]"
     ],
     "language": "python",
     "metadata": {},
     "outputs": [
      {
       "output_type": "stream",
       "stream": "stdout",
       "text": [
        "count:"
       ]
      },
      {
       "ename": "NameError",
       "evalue": "name 'df_output' is not defined",
       "output_type": "pyerr",
       "traceback": [
        "\u001b[1;31m---------------------------------------------------------------------------\u001b[0m\n\u001b[1;31mNameError\u001b[0m                                 Traceback (most recent call last)",
        "\u001b[1;32m<ipython-input-2-81bb7741a153>\u001b[0m in \u001b[0;36m<module>\u001b[1;34m()\u001b[0m\n\u001b[1;32m----> 1\u001b[1;33m \u001b[1;32mprint\u001b[0m \u001b[1;34m'count:'\u001b[0m\u001b[1;33m,\u001b[0m \u001b[0mdf_output\u001b[0m\u001b[1;33m[\u001b[0m\u001b[1;34m'cognate models'\u001b[0m\u001b[1;33m]\u001b[0m\u001b[1;33m[\u001b[0m\u001b[1;34m'pvalues'\u001b[0m\u001b[1;33m]\u001b[0m\u001b[1;33m[\u001b[0m\u001b[0mdf_output\u001b[0m\u001b[1;33m[\u001b[0m\u001b[1;34m'cognate models'\u001b[0m\u001b[1;33m]\u001b[0m\u001b[1;33m[\u001b[0m\u001b[1;34m'pvalues'\u001b[0m\u001b[1;33m]\u001b[0m \u001b[1;33m>\u001b[0m \u001b[1;36m0.05\u001b[0m\u001b[1;33m]\u001b[0m\u001b[1;33m.\u001b[0m\u001b[0mshape\u001b[0m\u001b[1;33m[\u001b[0m\u001b[1;36m0\u001b[0m\u001b[1;33m]\u001b[0m\u001b[1;33m\u001b[0m\u001b[0m\n\u001b[0m\u001b[0;32m      2\u001b[0m \u001b[1;32mprint\u001b[0m \u001b[1;34m'total:'\u001b[0m\u001b[1;33m,\u001b[0m \u001b[0mdf_output\u001b[0m\u001b[1;33m.\u001b[0m\u001b[0mshape\u001b[0m\u001b[1;33m[\u001b[0m\u001b[1;36m0\u001b[0m\u001b[1;33m]\u001b[0m\u001b[1;33m\u001b[0m\u001b[0m\n\u001b[0;32m      3\u001b[0m \u001b[1;32mprint\u001b[0m \u001b[1;34m'percent:'\u001b[0m\u001b[1;33m,\u001b[0m \u001b[0mdf_output\u001b[0m\u001b[1;33m[\u001b[0m\u001b[1;34m'cognate models'\u001b[0m\u001b[1;33m]\u001b[0m\u001b[1;33m[\u001b[0m\u001b[1;34m'pvalues'\u001b[0m\u001b[1;33m]\u001b[0m\u001b[1;33m[\u001b[0m\u001b[0mdf_output\u001b[0m\u001b[1;33m[\u001b[0m\u001b[1;34m'cognate models'\u001b[0m\u001b[1;33m]\u001b[0m\u001b[1;33m[\u001b[0m\u001b[1;34m'pvalues'\u001b[0m\u001b[1;33m]\u001b[0m \u001b[1;33m>\u001b[0m \u001b[1;36m0.05\u001b[0m\u001b[1;33m]\u001b[0m\u001b[1;33m.\u001b[0m\u001b[0mshape\u001b[0m\u001b[1;33m[\u001b[0m\u001b[1;36m0\u001b[0m\u001b[1;33m]\u001b[0m\u001b[1;33m/\u001b[0m \u001b[0mdf_output\u001b[0m\u001b[1;33m.\u001b[0m\u001b[0mshape\u001b[0m\u001b[1;33m[\u001b[0m\u001b[1;36m0\u001b[0m\u001b[1;33m]\u001b[0m\u001b[1;33m\u001b[0m\u001b[0m\n",
        "\u001b[1;31mNameError\u001b[0m: name 'df_output' is not defined"
       ]
      }
     ],
     "prompt_number": 2
    }
   ],
   "metadata": {}
  }
 ]
}