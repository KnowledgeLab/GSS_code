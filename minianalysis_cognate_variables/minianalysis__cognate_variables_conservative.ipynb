{
 "cells": [
  {
   "cell_type": "code",
   "execution_count": 1,
   "metadata": {},
   "outputs": [],
   "source": [
    "# filename: minianalysis__cognate_variables.py\n",
    "# \n",
    "# description: Runs models as specified originally and again after replacing a central variable by a cognate variable.\n",
    "# It compares regressions on what was then the new data vs same regressions on future waves\n",
    "# \n",
    "# inputs:\n",
    "# \n",
    "# outputs:\n",
    "# \n",
    "# @author: Misha Teplitskiy, mishateplitskiy@gmail.com\n",
    "# \n",
    "# 2017-07-13 debugging z\n",
    "#   1. trying getting rid of 'ddof=1' for IVs and only kept it for DV, to see if that would make a difference\n",
    "#\n",
    "#\n",
    "#\n",
    "\n",
    "from __future__ import division\n",
    "\n",
    "\n",
    "import pandas as pd\n",
    "pd.set_option('use_inf_as_na', True) \n",
    "import pickle\n",
    "\n",
    "import sys\n",
    "sys.path.append('../')    \n",
    "import GSSUtility as GU # note, this imports the .PY file, so if I made changes to the IPYNB file, I first need to convert it \n",
    "                        # to PY for changes to actually take effect\n",
    "                        # conversion can be done with 'jupyter nbconvert --to script GSSUtility.py'\n",
    "import numpy as np\n",
    "from numpy import nan\n",
    "import statsmodels.formula.api as smf \n",
    "import random\n",
    "from scipy.stats import pearsonr, ttest_ind, ttest_rel\n",
    "import time\n",
    "from collections import Counter, defaultdict"
   ]
  },
  {
   "cell_type": "code",
   "execution_count": 2,
   "metadata": {},
   "outputs": [],
   "source": [
    "%rm ../GSSUtility_old.pyc"
   ]
  },
  {
   "cell_type": "code",
   "execution_count": 3,
   "metadata": {},
   "outputs": [
    {
     "data": {
      "text/plain": [
       "<module 'GSSUtility' from '../GSSUtility.py'>"
      ]
     },
     "execution_count": 3,
     "metadata": {},
     "output_type": "execute_result"
    }
   ],
   "source": [
    "%rm ../GSSUtility.pyc # remove this file because otherwise it will be used instead of the updated .py file\n",
    "reload(GU)"
   ]
  },
  {
   "cell_type": "code",
   "execution_count": 7,
   "metadata": {
    "scrolled": true
   },
   "outputs": [
    {
     "name": "stdout",
     "output_type": "stream",
     "text": [
      "Loading DataFrame df. This may take a few minutes.\n"
     ]
    },
    {
     "ename": "TypeError",
     "evalue": "exceptions must be old-style classes or derived from BaseException, not NoneType",
     "output_type": "error",
     "traceback": [
      "\u001b[0;31m---------------------------------------------------------------------------\u001b[0m",
      "\u001b[0;31mTypeError\u001b[0m                                 Traceback (most recent call last)",
      "\u001b[0;32m<ipython-input-7-579557702090>\u001b[0m in \u001b[0;36m<module>\u001b[0;34m()\u001b[0m\n\u001b[1;32m     28\u001b[0m             \u001b[0moutput\u001b[0m\u001b[0;34m[\u001b[0m\u001b[0moutcome\u001b[0m\u001b[0;34m]\u001b[0m\u001b[0;34m[\u001b[0m\u001b[0mgroup\u001b[0m\u001b[0;34m]\u001b[0m \u001b[0;34m=\u001b[0m \u001b[0;34m[\u001b[0m\u001b[0;34m]\u001b[0m\u001b[0;34m\u001b[0m\u001b[0m\n\u001b[1;32m     29\u001b[0m \u001b[0;34m\u001b[0m\u001b[0m\n\u001b[0;32m---> 30\u001b[0;31m     \u001b[0;32mraise\u001b[0m\u001b[0;34m\u001b[0m\u001b[0m\n\u001b[0m\u001b[1;32m     31\u001b[0m     articlesToUse = GU.filterArticles(dataCont.articleClasses, GSSYearsUsed=True, GSSYearsPossible=False,                                       centralIVs=True, \n\u001b[1;32m     32\u001b[0m                                       linearModels=True) \n",
      "\u001b[0;31mTypeError\u001b[0m: exceptions must be old-style classes or derived from BaseException, not NoneType"
     ]
    }
   ],
   "source": [
    "if __name__ == \"__main__\":    \n",
    "\n",
    "    try:\n",
    "        %rm ../GSSUtility.pyc # remove this file because otherwise it will be used instead of the updated .py file\n",
    "        reload(GU)\n",
    "    except:\n",
    "        pass\n",
    "    \n",
    "    pathToData = '../../Data/'\n",
    "    dataCont = GU.dataContainer(pathToData)\n",
    "    \n",
    "#     tempCognateOutput = open(pathToData + 'tempCognateOutput.txt', 'w')\n",
    "    \n",
    "    # contains for storing (variable, cognate) tuples in order to see what substitutions\n",
    "    #i'm most commonly making\n",
    "    variableCognateTuples = []\n",
    "    \n",
    "    # define the storage containers for outputs\n",
    "    group1 = 'original model'\n",
    "    group2 = 'cognate model'   \n",
    "    groups = [group1, group2]\n",
    "    outcomes = ['propSig_ControlVars', 'paramSizesNormed_ControlVars', 'Rs', 'adjRs', \n",
    "                'propSig_CentralVars', 'paramSizesNormed_CentralVars']\n",
    "    output = defaultdict(dict)\n",
    "    output['metadata'] = {'article_id':[]}\n",
    "    for outcome in outcomes:\n",
    "        for group in groups:\n",
    "            output[outcome][group] = []\n",
    "    \n",
    "    articlesToUse = GU.filterArticles(dataCont.articleClasses, GSSYearsUsed=True, GSSYearsPossible=False, \\\n",
    "                                      centralIVs=True, \n",
    "                                      linearModels=False) \n",
    "    \n",
    "    for article in articlesToUse:\n",
    "#     for article in random.sample(articlesToUse, 50):\n",
    "    \n",
    "#     for article in [a for a in articlesToUse if a.articleID == 1343]:\n",
    "    \n",
    "        print '\\n\\n\\==============================\\nProcessing article:', article.articleID\n",
    "\n",
    "        # let's see if this article is suitable for cognates analysis:\n",
    "        originalLHS = article.IVs + article.controls\n",
    "        identifyCognatesReturns = GU.identifyCognates(dataCont, originalLHS, article.centralIVs, article.GSSYearsUsed, corrThreshold=0.6 )        \n",
    "        if not identifyCognatesReturns: \n",
    "            print 'No suitable cognates. Skipping.'            \n",
    "            continue        \n",
    "        else: \n",
    "            cIV, cognate, GSSYearsWithCognate = identifyCognatesReturns\n",
    "#             cognate = str(cognate)\n",
    "#             print 'just identified cIV:', cIV, 'and cognate', cognate\n",
    "#             print article.centralIVs\n",
    "            \n",
    "        # if we got this far, then this article does have suitable cognates, so let's estimate models       \n",
    "        # Now let's estimate the models\n",
    "        print 'overall cIV is', cIV, 'and cognate is', cognate\n",
    "        for DV in article.DVs:            \n",
    "            \n",
    "            if cognate == DV: continue # sometimes the cognate suggested by GU.identifyCognates is the DV\n",
    "\n",
    "            cognateLHS = originalLHS[:] # the \"[:]\" makes a deep copy ?\n",
    "            cognateLHS.remove(cIV)\n",
    "            cognateLHS.append(cognate) # need to put it in list otherwise it treats each letter as an element\n",
    "#                 print 'Substituting', cIV, 'with cognate', cognate     \n",
    "            # make sure cIV is last in the list of variables\n",
    "            originalLHS.remove(cIV)\n",
    "            originalLHS.append(cIV) \n",
    "\n",
    "            # CHOOSE YEARS\n",
    "#             for year in GSSYearsWithCognate:  # This version calculates COGNATE - ORIGINAL difference for each year\n",
    "                                                # of GSSYearsUsed for each the chosen COGNATE appears\n",
    "            year = max(GSSYearsWithCognate) # let's instead run on last year only (?)\n",
    "\n",
    "\n",
    "            # RUN ORIGINAL (GROUP 1) MODEL, and COGNATE (GROUP 2) MODEL\n",
    "            result_orig = GU.runModel(dataCont, year, DV, originalLHS)                     \n",
    "            if not result_orig: continue # results will be None if the formula cant be estimated\n",
    "            result_cog = GU.runModel(dataCont, year, DV, cognateLHS)          \n",
    "            if not result_cog: continue # results will be None if the formula cant be estimated\n",
    "            results = [result_orig, result_cog]\n",
    "\n",
    "            # BUILD LIST OF CENTRAL VARIABLES\n",
    "            # first with the original model\n",
    "            centralVarsOrig, centralVarsCognate = [], []            \n",
    "        \n",
    "            for civ in article.centralIVs:\n",
    "                for param in results[0].params.index:\n",
    "                    if civ in param: centralVarsOrig.append(param)\n",
    "                        \n",
    "            # now the COGNATE model\n",
    "            cIVs_cognate = article.centralIVs[:]\n",
    "            try:\n",
    "                cIVs_cognate.remove(cIV)\n",
    "                cIVs_cognate.append(cognate)\n",
    "#                     print 'building cognate model'\n",
    "#                     print 'removing civ', cIV, 'and adding cognate', cognate\n",
    "            except:\n",
    "                print 'building model didnt work. tried to remove', cIV, 'and append', cognate, 'from\\n'\n",
    "                print cIVs\n",
    "                break\n",
    "\n",
    "            for civ in cIVs_cognate:\n",
    "                for param in results[1].params.index:\n",
    "                    if civ in param: centralVarsCognate.append(param)\n",
    "\n",
    "            centralVars = [centralVarsOrig, centralVarsCognate]\n",
    "\n",
    "            # identify variable names (exact strings) of CONTROL variables\n",
    "            controlVars = set(results[0].params.index) - set(centralVarsOrig + ['Intercept'])                        \n",
    "\n",
    "            # Checks on which results to record                \n",
    "            if len(result_cog.params) != len(result_orig.params):\n",
    "                print 'The number of variables in original model is different from the number in cognate model. Skipping.'                    \n",
    "                continue\n",
    "\n",
    "            for i in range(2):                 \n",
    "                # OVERALL MODEL FIT\n",
    "                output['Rs'][groups[i]].append(results[i].rsquared) \n",
    "                output['adjRs'][groups[i]].append(results[i].rsquared_adj) \n",
    "\n",
    "                # CONTROL variables\n",
    "                if len(controlVars)>0:\n",
    "                    output['propSig_ControlVars'][groups[i]].append(float(len([p for p in results[i].pvalues[controlVars] if p < 0.05])) \\\n",
    "                                                            /len(controlVars)) \n",
    "                    output['paramSizesNormed_ControlVars'][groups[i]].append(results[i].params[controlVars].abs().mean())\n",
    "                else:\n",
    "                    output['propSig_ControlVars'][groups[i]].append(np.nan)\n",
    "                    output['paramSizesNormed_ControlVars'][groups[i]].append(np.nan)\n",
    "\n",
    "                # CENTRAL variables\n",
    "                if len(centralVars[0])>0: # need to look into first element because even empty centralVars is 2-elements: [[], []]\n",
    "                    output['propSig_CentralVars'][groups[i]].append(float(len([p for p in results[i].pvalues[centralVars[i]] if p < 0.05])) \\\n",
    "                                                            /len(centralVars[i])) \n",
    "                    output['paramSizesNormed_CentralVars'][groups[i]].append(results[i].params[centralVars[i]].abs().mean())\n",
    "                else:\n",
    "                    output['propSig_CentralVars'][groups[i]].append(nan) \n",
    "                    output['paramSizesNormed_CentralVars'][groups[i]].append(nan)                \n",
    "\n",
    "            output['metadata']['article_id'].append(article.articleID)  \n",
    "                \n",
    "                \n",
    "    print '\\n\\n============================================\\nFINISHED RUNNING MODELS'\n",
    "\n",
    "# I dump the file here, because this allows me to run this script as a standalone .py file in command line...\n",
    "# it saves the output fine, and then crashes (intentionally) when it gets to the viz part further below\n",
    "pickle.dump(output, open('output.pickle', 'w'))"
   ]
  },
  {
   "cell_type": "markdown",
   "metadata": {
    "collapsed": true
   },
   "source": [
    "# Break\n",
    "This and the following cells are designed to do an intermediate output --> input step, so that I can run this script WITHOUT graphics (command line), and then just come to this notebook to VISUALIZE the results"
   ]
  },
  {
   "cell_type": "markdown",
   "metadata": {},
   "source": [
    "## Load the results of the analysis (output.pickle) and store them in convenient form (df_output)"
   ]
  },
  {
   "cell_type": "code",
   "execution_count": 33,
   "metadata": {},
   "outputs": [
    {
     "name": "stdout",
     "output_type": "stream",
     "text": [
      "Using 1469 models from 215 articles\n"
     ]
    }
   ],
   "source": [
    "# load the output pickle after running models\n",
    "output = pickle.load(open('output.pickle'))\n",
    "\n",
    "group1 = 'original model'\n",
    "group2 = 'cognate model'   \n",
    "groups = [group1, group2]\n",
    "outcomes = ['propSig_ControlVars', 'paramSizesNormed_ControlVars', 'Rs', 'adjRs', \n",
    "            'propSig_CentralVars', 'paramSizesNormed_CentralVars']\n",
    "\n",
    "df_output = pd.DataFrame(index=np.arange(len(output['Rs'][group1])), \n",
    "                         columns=pd.MultiIndex.from_product([outcomes, groups]))\n",
    "df_output.columns.names = ['outcome','group']\n",
    "for outcome in outcomes:\n",
    "    for gp in groups:\n",
    "        df_output[outcome, gp] = output[outcome][gp]\n",
    "df_output.index = output['metadata']['article_id']\n",
    "df_output['article_id'] = output['metadata']['article_id']\n",
    "\n",
    "print 'Using %d models from %d articles' % (len(df_output), len(df_output.index.unique()))"
   ]
  },
  {
   "cell_type": "code",
   "execution_count": 28,
   "metadata": {},
   "outputs": [
    {
     "data": {
      "text/plain": [
       "\"\\nfout = open('minianalysis_cognate_variables_list_of_articles_used.csv',  'wb')\\nfout.write(','.join(map(str, sorted(df_output.index.unique())))) # unique article IDs used, separated by commas\\nfout.close()\\n\""
      ]
     },
     "execution_count": 28,
     "metadata": {},
     "output_type": "execute_result"
    }
   ],
   "source": [
    "# output article IDs for use in replication project. 2016-06-07\n",
    "'''\n",
    "fout = open('minianalysis_cognate_variables_list_of_articles_used.csv',  'wb')\n",
    "fout.write(','.join(map(str, sorted(df_output.index.unique())))) # unique article IDs used, separated by commas\n",
    "fout.close()\n",
    "'''"
   ]
  },
  {
   "cell_type": "markdown",
   "metadata": {},
   "source": [
    "## The part below is where running command-line script should crash"
   ]
  },
  {
   "cell_type": "code",
   "execution_count": 23,
   "metadata": {},
   "outputs": [],
   "source": [
    "# %matplotlib inline\n",
    "# # #Plot outcomes - (new) distribution of differences approach\n",
    "\n",
    "# outcomeMap = {'propSig':\"% of Stat. Sign. Coeff's\", \n",
    "#               'paramSizesNormed':\"Standard. Size of Coeff's\",\n",
    "#               'Rs':'R-squared', \n",
    "#               'adjRs':'Adj. R-squared',\n",
    "#               'pvalues':\"Avg. P-Value of Coeff's\",\n",
    "#               'propSig_CentralVars':\"Central IVs: % of Stat. Sign. Coeff's\",\n",
    "#               'paramSizesNormed_CentralVars':\"Central IVs: Standard. Size of Coeff's\", \n",
    "#               'pvalues_CentralVars':\"Central IVs: Avg. P-Value of Coeff's\"}\n",
    "\n",
    "# outcomeXlimits = {'propSig':(-.2,.2), \n",
    "#               'paramSizesNormed':(-.04,.04),\n",
    "#               'Rs':(-.04, .06), \n",
    "#               'adjRs':(-.04, .06),\n",
    "#               'pvalues':(-.2, .2),\n",
    "#               'propSig_CentralVars':(-.2, .4),\n",
    "#               'paramSizesNormed_CentralVars':(-.1,.1), \n",
    "#               'pvalues_CentralVars':(-.2, .2)}\n",
    "\n",
    "# outcomeYlimits = {'propSig':80, \n",
    "#               'paramSizesNormed':100,\n",
    "#               'Rs':120, \n",
    "#               'adjRs':120,\n",
    "#               'pvalues':17,\n",
    "#               'propSig_CentralVars':8.5,\n",
    "#               'paramSizesNormed_CentralVars':40, \n",
    "#               'pvalues_CentralVars':11.5}\n",
    "\n",
    "# for outcome in outcomes:\n",
    "#     plt.figure(figsize=(3,3))\n",
    "#     if outcome=='article_id': continue\n",
    "#     if outcome=='numTotal':continue\n",
    "\n",
    "#     plt.xticks(fontsize=12)\n",
    "#     plt.locator_params(nbins=7)\n",
    "#     plt.yticks(fontsize=15)\n",
    "#     plt.ylabel('Density', fontsize=17)\n",
    "#     plt.title(outcomeMap[outcome], fontsize=20)\n",
    "#     plt.xlim(outcomeXlimits[outcome])    \n",
    "    \n",
    "#     sb.kdeplot((df_output[group1, outcome] - df_output[group2, outcome]), \n",
    "#                 color='black', legend=False, shade=True)\n",
    "#     plt.plot([0,0], [0,outcomeYlimits[outcome]], '--', color='black', linewidth=2)\n",
    "    \n",
    "# #     plt.savefig('images/cognate-differences--' + outcome + '.png', bbox_inches='tight')\n",
    "# #     break\n",
    "\n",
    "# # <markdowncell>"
   ]
  },
  {
   "cell_type": "code",
   "execution_count": 29,
   "metadata": {},
   "outputs": [],
   "source": [
    "import matplotlib.pyplot as plt\n",
    "%matplotlib inline\n",
    "\n",
    "import seaborn as sb\n",
    "custom_style = {'axes.facecolor': 'white',\n",
    "                'grid.color': '0.15',\n",
    "                'grid.linestyle':'-.'}\n",
    "sb.set_style(\"darkgrid\", rc=custom_style)"
   ]
  },
  {
   "cell_type": "code",
   "execution_count": 30,
   "metadata": {},
   "outputs": [
    {
     "data": {
      "text/plain": [
       "0.39977016872268883"
      ]
     },
     "execution_count": 30,
     "metadata": {},
     "output_type": "execute_result"
    }
   ],
   "source": [
    "df_output.groupby('article_id').mean()['propSig_CentralVars'][group1].mean()"
   ]
  },
  {
   "cell_type": "code",
   "execution_count": 34,
   "metadata": {},
   "outputs": [
    {
     "data": {
      "text/plain": [
       "(array([0. , 0.2, 0.4, 0.6, 0.8, 1. , 1.2, 1.4, 1.6, 1.8]),\n",
       " <a list of 10 Text yticklabel objects>)"
      ]
     },
     "execution_count": 34,
     "metadata": {},
     "output_type": "execute_result"
    },
    {
     "data": {
      "image/png": "[encoded data removed]",
      "text/plain": [
       "<Figure size 576x432 with 1 Axes>"
      ]
     },
     "metadata": {},
     "output_type": "display_data"
    }
   ],
   "source": [
    "# ONE EXAMPLE OF DIFFERENCES IN DISTRIBUTION: PROP OF STAT. SIGN. EFFECTS FOR CENTRAL VARS\n",
    "plt.figure(figsize=(8,6))\n",
    "sb.kdeplot(df_output.groupby('article_id').mean()['propSig_CentralVars'][group1], \n",
    "           color='0.3', shade=True, label='Original', linewidth=3)\n",
    "plt.plot([df_output.groupby('article_id').mean()['propSig_CentralVars'][group1].mean()]*2, [0,2], \n",
    "         '--', c='0.3', linewidth=3, label='Original mean')\n",
    "sb.kdeplot(df_output.groupby('article_id').mean()['propSig_CentralVars'][group2], \n",
    "           color='0.5', shade=True, label='Perturbed', linewidth=3)\n",
    "plt.plot([df_output.groupby('article_id').mean()['propSig_CentralVars'][group2].mean()]*2, [0,2], '--', c='0.5', linewidth=3, label='Perturbed mean')\n",
    "plt.legend(loc='best', fontsize=15)\n",
    "plt.title('Prop. of Central Effects with p < 0.05', fontsize=18)\n",
    "plt.xlabel('Proportion of Stat. Sign. Effects', fontsize=15)\n",
    "plt.ylabel('Density', fontsize=15)\n",
    "plt.xlim(0, 1)\n",
    "plt.xticks(fontsize=15)\n",
    "plt.yticks(fontsize=15)\n",
    "# plt.savefig('images/cognate-example-of-differences-in-distributions-prop-sign-of-central-effects.png', bbox_inches='tight', dpi=150)"
   ]
  },
  {
   "cell_type": "code",
   "execution_count": 34,
   "metadata": {
    "collapsed": true
   },
   "outputs": [],
   "source": [
    "# # #Plot outcomes - (old) bar chart approach\n",
    "# %matplotlib inline\n",
    "\n",
    "# plt.figure(figsize=(14,8))\n",
    "# outcomesToUse = df_output[group1].columns\n",
    "# indices = np.arange(len(outcomesToUse))\n",
    "# width = 0.35\n",
    "# error_config = {'ecolor': '0.3'}\n",
    "\n",
    "# axes = plt.figure().add_subplot(111)\n",
    "# rects1 = plt.bar(left=indices, width=width, height=df_output[group1].mean(), color='0.75', \n",
    "#              yerr=2*df_output[group1].std()/np.sqrt(len(df_output[group1])),\n",
    "#              error_kw=error_config) #this is not very relevant because we're not comparing independent groups\n",
    "# rects2 = plt.bar(left=indices+width, width=width, height=df_output[group2].mean(), color='0.5', \n",
    "#              yerr=2*df_output[group2].std()/np.sqrt(len(df_output[group2])),\n",
    "#              error_kw=error_config)\n",
    "\n",
    "# # title, legend, etc\n",
    "# plt.title('Original vs. Cognate Models', fontsize=18)\n",
    "# plt.legend((rects1[0], rects2[0]), ('Original models', 'Cognate models'), fontsize=15)\n",
    "# # legend((rects1[0], rects2[0]), ('Original models', 'Cognate models'), fontsize=15)\n",
    "# plt.xlim((-1*width, len(outcomesToUse)))\n",
    "\n",
    "# # tick labels\n",
    "# # a = outcomesToUse\n",
    "# a = ['% of coeffs. stat. sign.', 'avg. coeff. size', 'R_sq.', 'adj. R_sq.', 'avg. p-value', \\\n",
    "#      '\"central\" vars: % of coeffs. stat. sign.', '\"central\" vars: avg. coeff. size', '\"central\" vars: avg. p-value']\n",
    "# axes.set_xticks(indices+width)\n",
    "# axes.set_xticklabels(a, rotation=90, fontsize=15)\n",
    "\n",
    "# # label the bars with the difference between them\n",
    "# diffs = (df_output[group1] - df_output[group2]).mean().values\n",
    "# def autolabel(rects):\n",
    "#     # attach some text labels\n",
    "#     for i, rect in enumerate(rects):\n",
    "#         height = rect.get_height()\n",
    "#         if i!=7 and i!=4:\n",
    "#             axes.text(rect.get_x()+width, 1.03*height, '%0.3f'%diffs[i],\n",
    "#                     ha='center', va='bottom', fontsize=15)\n",
    "#         else: # this is for the p-value label, which has gone up\n",
    "#             axes.text(rect.get_x()+width, 1.03*height+0.05, '%0.3f'%diffs[i],\n",
    "#                     ha='center', va='bottom', fontsize=15)\n",
    "# autolabel(rects1)\n",
    "\n",
    "# # plt.figure(figsize=(6,5))\n",
    "# # (df_output[group1]['paramSizesNormed'] - df_output[group2]['paramSizesNormed']).plot(kind='kde')\n",
    "# # plt.plot([0,0], [0,20], '--')\n",
    "# # plt.title('Differences in Stand. Coeff. Size. between orig. and cognate')\n",
    "\n",
    "# # # <codecell>\n",
    "\n",
    "# # mn= np.mean((df_output[group1, 'Rs'] - df_output[group2, 'Rs']).values)\n",
    "# # sd= np.std((df_output[group1, 'Rs'] - df_output[group2, 'Rs']).values)\n",
    "# # print mn, sd, mn/(sd/np.sqrt(df_output.shape[0]))\n",
    "\n",
    "# # <markdowncell>"
   ]
  },
  {
   "cell_type": "code",
   "execution_count": 13,
   "metadata": {
    "collapsed": true
   },
   "outputs": [],
   "source": []
  },
  {
   "cell_type": "code",
   "execution_count": 35,
   "metadata": {
    "collapsed": true
   },
   "outputs": [],
   "source": [
    "# #temp fix to convert proportions into percentages\n",
    "# for group in [group1, group2]:\n",
    "#     for o in ['propSig', 'propSig_CentralVars']:\n",
    "#         df_output[group, o] = df_output[group, o]/100"
   ]
  },
  {
   "cell_type": "code",
   "execution_count": null,
   "metadata": {
    "collapsed": true
   },
   "outputs": [],
   "source": []
  },
  {
   "cell_type": "code",
   "execution_count": 35,
   "metadata": {},
   "outputs": [
    {
     "name": "stdout",
     "output_type": "stream",
     "text": [
      "adjRs\n",
      "-0.008065321576850274 Ttest_relResult(statistic=2.8288720813273462, pvalue=0.005115237617609277)\n",
      "Rs\n",
      "-0.003002532311317152 Ttest_relResult(statistic=2.191824882366803, pvalue=0.029470793824563562)\n",
      "paramSizesNormed_CentralVars\n",
      "0.0020460365756517647 Ttest_relResult(statistic=-0.9395229307947799, pvalue=0.34852156118473976)\n",
      "propSig_CentralVars\n",
      "-0.024066434865424948 Ttest_relResult(statistic=2.5767634977258433, pvalue=0.01064542553394616)\n",
      "paramSizesNormed_ControlVars\n",
      "0.009338907895667445 Ttest_relResult(statistic=-1.564114544229589, pvalue=0.12137984624243334)\n",
      "propSig_ControlVars\n",
      "-0.029116210508085213 Ttest_relResult(statistic=1.445073027998765, pvalue=0.15198899138616184)\n"
     ]
    },
    {
     "data": {
      "text/plain": [
       "Text(0.5,0,'Change (perturbed - original)')"
      ]
     },
     "execution_count": 35,
     "metadata": {},
     "output_type": "execute_result"
    },
    {
     "data": {
      "image/png": "[encoded data removed]",
      "text/plain": [
       "<Figure size 432x648 with 3 Axes>"
      ]
     },
     "metadata": {},
     "output_type": "display_data"
    }
   ],
   "source": [
    "%matplotlib inline\n",
    "\n",
    "# fig = plt.figure(figsize=(6,9))\n",
    "# note, the order below is reversed for each two outcomes because that's how numbering works for plotting purposes\n",
    "outcomesToUse = [u'adjRs',\n",
    "                 u'Rs',\n",
    "                 u'paramSizesNormed_CentralVars',                \n",
    "                 u'propSig_CentralVars', \n",
    "                 u'paramSizesNormed_ControlVars',\n",
    "                 u'propSig_ControlVars']\n",
    "\n",
    "outcomeMap = {'propSig_ControlVars':\"Prop. of Stat. Sign. Coeff's\", \n",
    "              'paramSizesNormed_ControlVars':\"Standard. Size of Coeff's\",\n",
    "              'Rs':'R-squared', \n",
    "              'adjRs':'Adj. R-squared',\n",
    "#               'pvalues':\"Avg. P-Value of Coeff's\",\n",
    "              'propSig_CentralVars':\"Prop. of Stat. Sign. Coeff's\",\n",
    "              'paramSizesNormed_CentralVars':\"Standard. Size of Coeff's\"}\n",
    "\n",
    "# indices = [1,2,4,5,7,8]\n",
    "width = 0.5\n",
    "error_config = dict(ecolor='0', lw=2, capsize=5, capthick=2)\n",
    "\n",
    "# diffs = [100*(df_output[group2, outcome] - df_output[group1, outcome]).mean()/df_output[group1, outcome].mean() for outcome in outcomesToUse]\n",
    "# diffs_strings = ['(%0.3f - %0.3f)' % (df_output[group1, outcome].mean(), df_output[group2, outcome].mean()) \n",
    "#                  for outcome in outcomesToUse]\n",
    "# diffs = np.array(diffs)\n",
    "\n",
    "# # naive SES\n",
    "# # ses = [(df_output[group1, outcome] - df_output[group2, outcome]).std()/np.sqrt(len(df_output)) for outcome in outcomesToUse]\n",
    "\n",
    "# # clustered SES\n",
    "# clusteredSES = []\n",
    "# article_ids = np.array(list(df_output.index)) \n",
    "# for outcome in outcomesToUse:\n",
    "#     diff = 100*(df_output[outcome, group2] - df_output[outcome, group1])\n",
    "#     mask = ~np.isnan(np.array(diff))\n",
    "#     result_clustered = smf.ols(formula='y~x-1', \\\n",
    "#                      data=pd.DataFrame({'y':diff[mask], 'x':[1]*len(diff[mask])})).fit(missing='drop', \\\n",
    "#                                                                              cov_type='cluster', \\\n",
    "#                                                                     cov_kwds=dict(groups=article_ids[mask]))\n",
    "#     clusteredSES.append(result_clustered.HC0_se[0])\n",
    "# clusteredSES = np.array(clusteredSES)\n",
    "\n",
    "# CONSERVATIVE TESTs\n",
    "# these will be based only on n. of articles\n",
    "conservativeSES = []\n",
    "diffs = []\n",
    "diffs_strings = []\n",
    "\n",
    "for outcome in outcomesToUse:\n",
    "\n",
    "#     df_output_copy['difference'] = 100*(df_output[outcome, group2] - df_output[outcome, group1])\n",
    "#     mean_difference = df_output_copy.groupby('article_id').difference.mean()\n",
    "#     se = np.std(mean_difference) / np.sqrt(len(mean_difference))\n",
    "\n",
    "    print outcome\n",
    "    group1outcome = df_output[outcome, group1].groupby(df_output.index).mean()\n",
    "    group2outcome = df_output[outcome, group2].groupby(df_output.index).mean()\n",
    "    diff = (group2outcome - group1outcome)\n",
    "#     perc_changes = 100*(group2outcome - group1outcome) / group1outcome\n",
    "\n",
    "    diffs.append(diff.mean())\n",
    "    diffs_strings.append('(%0.3f - %0.3f)' % (group2outcome.mean(), group1outcome.mean()))\n",
    "    \n",
    "    se = diff.std() / np.sqrt(len(group1outcome))\n",
    "    conservativeSES.append(se)\n",
    "    \n",
    "    # also do a t-test (related samples)\n",
    "    mask = group1outcome.notnull() & group2outcome.notnull()\n",
    "    print diff.mean(), ttest_rel(group1outcome[mask], group2outcome[mask])\n",
    "    \n",
    "diffs = np.array(diffs)\n",
    "conservativeSES = np.array(conservativeSES)\n",
    "\n",
    "\n",
    "colors = ['0.5' if el < 0 else '0.85' for el in diffs]\n",
    "\n",
    "# plt.barh(indices, diffs, xerr=2*np.array(clusteredSES), align='center', color=colors, error_kw=error_config)\n",
    "# axes.set_yticks(indices)\n",
    "# axes.set_yticklabels([outcomeMap[o] for o in outcomesToUse], fontsize=17)\n",
    "\n",
    "f, axarr = plt.subplots(3, sharex=True, figsize=(6,9))\n",
    "                        \n",
    "for i in range(3):\n",
    "    # bars\n",
    "#     xerr = 2*clusteredSES[i*2:i*2+2] / diffs[i*2:i*2+2] # i am dividing here because we want the SEs to be on the percent-change scale, not raw scale\n",
    "    xerr = 1.96*conservativeSES[i*2:i*2+2]\n",
    "    boxes = axarr[i].barh([0,1], diffs[i*2:i*2+2], xerr=xerr, \n",
    "             align='center', color=colors[i*2:i*2+2], error_kw=error_config)\n",
    "   \n",
    "    # annotate boxes: raw means\n",
    "    box0_xcoord = boxes[0].get_bbox().get_points()[1,0] + .01 # the indices here mean get the x-coord of 2nd box corner\n",
    "    box1_xcoord = boxes[1].get_bbox().get_points()[1,0] + .01\n",
    "\n",
    "    axarr[i].text(box0_xcoord + 0.02, 0, diffs_strings[i*2], fontsize=14,\n",
    "                 verticalalignment='center',\n",
    "                 bbox=dict(facecolor='white', alpha=1), style='italic')\n",
    "    axarr[i].text(box1_xcoord + 0.02, 1, diffs_strings[i*2+1], fontsize=14,\n",
    "                 verticalalignment='center',\n",
    "                 bbox=dict(facecolor='white', alpha=1), style='italic')\n",
    "\n",
    "    #labels for y-axis\n",
    "    axarr[i].set_yticks([0,1])\n",
    "    axarr[i].set_yticklabels([outcomeMap[o] for o in outcomesToUse[i*2:i*2+2]], fontsize=16)\n",
    "    axarr[i].plot([0,0], [-0.5,1.5], linewidth=2, c='black', alpha=.75)    \n",
    " \n",
    "    \n",
    "axarr[0].set_title('Variable Substitution: (Perturbed - Original)', fontsize=20)\n",
    "axarr[0].set_ylabel('Model Fit', fontsize=19)\n",
    "axarr[1].set_ylabel('Central IVs', fontsize=19)\n",
    "axarr[2].set_ylabel('Controls', fontsize=19)\n",
    "axarr[2].set_xlabel('Change (perturbed - original)', fontsize=18)\n",
    "# plt.xticks(fontsize=16)\n",
    "# plt.xlim(-0.01,0.03)\n",
    "\n",
    "# plt.title('Original vs. Cognate Models', fontsize=20)\n",
    "# plt.xlabel('% change from original to cognate', fontsize=17)\n",
    "# plt.xticks(fontsize=15)\n",
    "\n",
    "# plt.plot([0,0], [-0.5,7.5], linewidth=2, c='black', alpha=.75)\n",
    "\n",
    "# plt.savefig('images/cognate--original-minus-perturbed.png', bbox_inches='tight', dpi=150)"
   ]
  },
  {
   "cell_type": "code",
   "execution_count": null,
   "metadata": {
    "collapsed": true
   },
   "outputs": [],
   "source": [
    "# box = rects[0].get_bbox()\n",
    "# box."
   ]
  },
  {
   "cell_type": "code",
   "execution_count": null,
   "metadata": {
    "collapsed": true
   },
   "outputs": [],
   "source": [
    "# Perform t-tests and Tests using *clustered errors*\n",
    "# --\n",
    "# \n",
    "# 1. Perform related-sample t-test (samples must be of equal lengths)\n",
    "# \n",
    "# 2. Perform independent samples t-test (just for kicks, to see how big our effects are)\n",
    "# \n",
    "# 3. Perform clustered error tests. To do this I will do a hack by running a regression with clustered errors and using that as the t-test. Source/inspiration is: http://www.stata.com/statalist/archive/2010-05/msg00663.html\n",
    "# \n",
    "# Note: I am not using the 'df_correction' flag in get_robustcov_results() because that's apparently something HLM does, not canonical clustered errors:\n",
    "# \"This method of correcting the standard errors to account for the intraclass correlation is a \"weaker\" form of correction than using a multilevel model, which not only accounts for the intraclass correlation, but also corrects the denominator degrees of freedom for the number of clusters.\"\n",
    "# source: http://www.ats.ucla.edu/stat/stata/library/cpsu.htm\n",
    "# \n",
    "# Note\n",
    "# --\n",
    "# For some reason, I'm getting different clustered-errors-p-values when I use the 'cluster' flag in the \n",
    "# fit() function vs. when I calculate the result normally and then use get_robustcov_results function on that result. The former method yields slightly smaller p-values.\n",
    "# \n",
    "# Outcome\n",
    "# --\n",
    "# The p-values are larger (for some outcomes, they are now > 0.05) but are still sufficiently small?\n",
    "\n",
    "# <codecell>\n",
    "try: outcomes.remove('numTotal')\n",
    "except: pass\n",
    "\n",
    "# <codecell>\n",
    "\n",
    "# (df_output['adjRs','orig. models'] - df_output['adjRs','cognate models']).plot(kind='kde')\n",
    "\n",
    "from scipy.stats import ttest_1samp\n",
    "import statsmodels.formula.api as smf\n",
    "\n",
    "for outcome in outcomes:\n",
    "    print outcome\n",
    "    print 'Mean before substitution:', df_output[group1, outcome].mean()\n",
    "    print 'Mean after substitution:', df_output[group2, outcome].mean()\n",
    "    print 'Related samples t-test p-value:', np.around(ttest_rel(df_output[group1, outcome], df_output[group2, outcome])[1], 6)\n",
    " \n",
    "    # GET CLUSTERED ERRORS\n",
    "    # to do this run a regression Y ~ X where Y = outcomes, X = dummy {0=group1, 1=group2}\n",
    "    # 1. Define variables\n",
    "    outcomes_combined = list(df_output[group1, outcome]) + list(df_output[group2, outcome])\n",
    "    diffs = df_output[group1, outcome] - df_output[group2, outcome]\n",
    "    dummy = [0]*len(df_output[group1, outcome]) + [1]*len(df_output[group2, outcome])\n",
    "    article_ids = np.array(list(df_output.index)) \n",
    "    \n",
    "    # 2. Fit models\n",
    "#     result = smf.ols(formula='y~x', data=pd.DataFrame({'y':outcomes_combined, 'x':dummy})).fit() # do I need a constant???\n",
    "#     result = smf.ols(formula='y~x-1', data=pd.DataFrame({'y':diffs, 'x':[1]*len(diffs)})).fit()\n",
    "    mask = ~np.isnan(np.array(diffs))\n",
    "    result_clustered = smf.ols(formula='y~x-1', \\\n",
    "                     data=pd.DataFrame({'y':diffs[mask], 'x':[1]*len(diffs[mask])})).fit(missing='drop', \\\n",
    "                                                                             cov_type='cluster', \\\n",
    "                                                                    cov_kwds=dict(groups=article_ids[mask]))\n",
    "                                                                                               \n",
    "# these two methods produce slightly different results. neither is necessary because i'm using parameters\n",
    "# of the model.fit() method above instead to use clustered standard errors.\n",
    "#     # 3. Get clustered standard errors\n",
    "#     robust_results = result.get_robustcov_results(cov_type='cluster', \n",
    "#                                                   use_correction=True,\n",
    "#                                                   groups=article_ids, # this is article_id doubled\n",
    "#                                                   df_correction=True) \n",
    "    \n",
    "#     # 3.1 Get clustered standard errors another way, by regression diffs ~ const and seeing if const!=0\n",
    "#     result_rob = result.get_robustcov_results(cov_type='cluster', \\\n",
    "#                                            groups=article_ids) # this is article_id singled\n",
    "    \n",
    "    print 'clustered errors p-value:', np.around(result_clustered.pvalues[0], 3)    \n",
    "#     print 'clustered errors p-value:', np.around(result_rob.pvalues[0], 3)\n",
    "    print\n",
    "\n",
    "# <codecell>\n",
    "\n",
    "df_output[group1, outcome]\n",
    "\n",
    "# <codecell>\n",
    "\n",
    "\n",
    "# <codecell>\n",
    "\n",
    "pd.MultiIndex.from_product([outcomes, ['orig. models', 'cognate models']])\n",
    "\n",
    "# <markdowncell>\n",
    "\n",
    "# #How many models now have p > 0.05?\n",
    "\n",
    "# <codecell>\n",
    "\n",
    "print 'count:', df_output[group2, 'pvalues'][df_output[group2, 'pvalues'] > 0.05].shape[0]\n",
    "print 'total:', df_output.shape[0]\n",
    "print 'percent:', df_output[group2, 'pvalues'][df_output[group2, 'pvalues'] > 0.05].shape[0]/ df_output.shape[0]"
   ]
  },
  {
   "cell_type": "code",
   "execution_count": null,
   "metadata": {
    "collapsed": true
   },
   "outputs": [],
   "source": [
    "print outcome\n",
    "print result_clustered.HC0_se"
   ]
  },
  {
   "cell_type": "code",
   "execution_count": null,
   "metadata": {
    "collapsed": true
   },
   "outputs": [],
   "source": []
  }
 ],
 "metadata": {
  "kernelspec": {
   "display_name": "Python 2",
   "language": "python",
   "name": "python2"
  },
  "language_info": {
   "codemirror_mode": {
    "name": "ipython",
    "version": 2
   },
   "file_extension": ".py",
   "mimetype": "text/x-python",
   "name": "python",
   "nbconvert_exporter": "python",
   "pygments_lexer": "ipython2",
   "version": "2.7.5"
  }
 },
 "nbformat": 4,
 "nbformat_minor": 1
}
