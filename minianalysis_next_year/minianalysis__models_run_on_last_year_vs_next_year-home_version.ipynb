{
 "metadata": {
  "name": "",
  "signature": "sha256:a04a4ae3d62508ccc66647df39277edb2a0f89c32cb267ff89ef5733ad0b428d"
 },
 "nbformat": 3,
 "nbformat_minor": 0,
 "worksheets": [
  {
   "cells": [
    {
     "cell_type": "markdown",
     "metadata": {},
     "source": [
      "filename: :: no final filename yet. it's currently a notebook ::\n",
      "\n",
      "description: \n",
      "    last updated: 6/13/2014\n",
      "    Run model on last year of data used vs. next available year of data, as long as it is within a provided bound    \n",
      "    \n",
      "inputs:\n",
      "\n",
      "outputs:\n",
      "\n",
      "@author: Misha\n"
     ]
    },
    {
     "cell_type": "code",
     "collapsed": false,
     "input": [
      "from __future__ import division\n",
      "import pandas as pd\n",
      "#import cPickle as cp\n",
      "\n",
      "import sys\n",
      "sys.path.append('../')    \n",
      "import GSSUtility as GU\n",
      "\n",
      "import numpy as np\n",
      "import statsmodels.formula.api as smf \n",
      "import random\n",
      "from scipy.stats import pearsonr, ttest_ind, ttest_rel\n",
      "import time\n",
      "from collections import Counter\n",
      "from collections import defaultdict\n",
      "\n",
      "import seaborn"
     ],
     "language": "python",
     "metadata": {},
     "outputs": [],
     "prompt_number": 1
    },
    {
     "cell_type": "code",
     "collapsed": false,
     "input": [
      "%rm ../GSSUtility.pyc # remove this file because otherwise it will be used instead of the updated .py file\n",
      "reload(GU)"
     ],
     "language": "python",
     "metadata": {},
     "outputs": [
      {
       "metadata": {},
       "output_type": "pyout",
       "prompt_number": 2,
       "text": [
        "<module 'GSSUtility' from '../GSSUtility.py'>"
       ]
      }
     ],
     "prompt_number": 2
    },
    {
     "cell_type": "code",
     "collapsed": false,
     "input": [
      "#*********************************************************\n",
      "allPropsForYearsUsed = []\n",
      "allPropsForYearsPossible =[]\n",
      "allParamSizesForYearsUsed = []\n",
      "allParamSizesForYearsPossible = []\n",
      "allRsForYearsUsed, allRsForYearsPossible = [], []\n",
      "\n",
      " \n",
      "############################################################\n",
      "if __name__ == \"__main__\":    \n",
      "    \n",
      "    pathToData = '../../Data/'\n",
      "    dataCont = GU.dataContainer(pathToData)\n",
      "    \n",
      "    articlesToUse = GU.filterArticles(dataCont.articleClasses, GSSYearsUsed=True, GSSYearsPossible=True, \\\n",
      "                                        centralIVs=True, nextYearBound=3) #, linearModels=True)            \n",
      "    print 'len of articleClasses:', len(articlesToUse)\n",
      "#     raw_input('...')\n",
      "    \n",
      "    # define the storage containers for outputs\n",
      "    group1 = 'on last GSS year'\n",
      "    group2 = 'on first \"future\" GSS year'   \n",
      "    groups = [group1, group2]\n",
      "    outcomes = ['propSig', 'paramSizesNormed', 'Rs', 'adjRs', 'pvalues',  'numTotal', \\\n",
      "                'propSig_CentralVars', 'paramSizesNormed_CentralVars', 'pvalues_CentralVars']\n",
      "\n",
      "    output = defaultdict(dict)\n",
      "    output['metadata'] = {'article_id':[]}\n",
      "    for group in groups:\n",
      "        for outcome in outcomes:\n",
      "            output[group][outcome] = []\n",
      "            \n",
      "           \n",
      "#     for article in random.sample(articlesToUse, 50):\n",
      "    for article in articlesToUse:\n",
      "    #for article in [a for a in articlesToUse if a.articleID == 6755]:\n",
      "    \n",
      "        print 'Processing article:', article.articleID\n",
      "        \n",
      "        RHS = article.IVs + article.controls\n",
      "        \n",
      "        for DV in article.DVs:\n",
      "#             print DV, '~', RHS\n",
      "            maxYearUsed = max(article.GSSYearsUsed)\n",
      "            futureYearsPossible = [yr for yr in article.GSSYearsPossible if yr > maxYearUsed]\n",
      "            nextYear = min(futureYearsPossible) # the arguments of GU.filterArticles function ensure that there is a suitable future year (within bound)\n",
      "            \n",
      "            resOnDataUsed = GU.runModel(dataCont, maxYearUsed, DV, RHS) # models run on max year of data used\n",
      "            if not resOnDataUsed: continue\n",
      "            resOnNextYear = GU.runModel(dataCont, nextYear, DV, RHS) # models run on min year of future data\n",
      "            if not resOnNextYear: continue\n",
      "            \n",
      "            # Make sure same number of variables were used in both models                \n",
      "            if len(resOnDataUsed.params) != len(resOnNextYear.params):\n",
      "                print 'The number of variables in original model is different from the number in model on future years. Skipping.'                    \n",
      "                continue\n",
      "            \n",
      "            # the condition below means that i don't care about models in which orig var isn't stat. sig.\n",
      "#            if results.pvalues[-1] > 0.05: continue\n",
      "            results = [resOnDataUsed, resOnNextYear]\n",
      " \n",
      "            centralVars = []            \n",
      "            for civ in article.centralIVs:\n",
      "                if 'standardize(%s, ddof=1)' % (civ) in results[0].params.index:\n",
      "                    centralVars.append('standardize(%s, ddof=1)' % (civ))\n",
      "                else: \n",
      "                    for col in results[0].params.index:\n",
      "                        if 'C(' + civ + ')' in col:\n",
      "                            centralVars.append(col)\n",
      " \n",
      "#             print 'IVs:', article.IVs\n",
      "#             print 'centralVas:', centralVars\n",
      "#            raw_input('...')\n",
      "            '''                \n",
      "            centralVars = ['standardize(%s, ddof=1)' % (cv) for cv in article.centralIVs]\n",
      "            centralVars = set(centralVars).intersection(results[0].params.index) # need this step because some central                                                                                            # var columns may be removed when running model\n",
      "            '''\n",
      "\n",
      "            # The reasoning for the condition below is that authors make two types of arguments for \"central\" variables, \n",
      "            # (1) that the central variable is really important, p < 0.05, or (2) that the central variable is not important (p > 0.05). \n",
      "            # What we want to test by replacing the variable with a cognate are arguments of type (1). \n",
      "            # Arguments of type (2) are important and testable too, but if we test all of these together, we will obscure both effects.\n",
      "            # So the condition below ensures that at least one of the central variables was found to be \"important\" in the original \n",
      "            # article.\n",
      "            # This throws away 67 observations.\n",
      "#             if np.all(results[0].pvalues[centralVars] > 0.05): \n",
      "#                 print 'All \"central\" IVs are p > 0.05. Skipping.'\n",
      "#                 continue\n",
      "                \n",
      "            for i in range(2):                 \n",
      "                output[groups[i]]['Rs'].append(results[i].rsquared) \n",
      "                output[groups[i]]['adjRs'].append(results[i].rsquared_adj) \n",
      "                output[groups[i]]['propSig'].append(float(len([p for p in results[i].pvalues[1:] if p < 0.05]))/len(results[i].params[1:])) \n",
      "                output[groups[i]]['paramSizesNormed'].append(np.mean(results[i].params[1:].abs())) \n",
      "                output[groups[i]]['pvalues'].append(np.mean( results[i].pvalues[1:]))\n",
      "                output[groups[i]]['numTotal'].append( 1 ) #divide by len of R^2 array to get a mean of variables estimated PER model                           \n",
      "                \n",
      "                if len(centralVars)>0:\n",
      "                    output[groups[i]]['pvalues_CentralVars'].append(np.mean(results[i].pvalues[centralVars]))               \n",
      "                    output[groups[i]]['propSig_CentralVars'].append(float(len([p for p in results[i].pvalues[centralVars] if p < 0.05])) \\\n",
      "                                                            /len(results[i].params[centralVars])) \n",
      "                    output[groups[i]]['paramSizesNormed_CentralVars'].append(np.mean(results[i].params[centralVars].abs()))                \n",
      "                else:\n",
      "                    output[groups[i]]['pvalues_CentralVars'].append(nan)               \n",
      "                    output[groups[i]]['propSig_CentralVars'].append(nan) \n",
      "                    output[groups[i]]['paramSizesNormed_CentralVars'].append(nan)                \n",
      "                    \n",
      "            output['metadata']['article_id'].append(article.articleID)                 \n",
      "     \n",
      "   \n",
      "    \n",
      "#     print 'TTests'\n",
      "#     for outcome in outcomes:\n",
      "#         print 'Means of group1 and group2:', np.mean(output[group1][outcome]), np.mean(output[group2][outcome]), 'Paired T-test of ' + outcome, ttest_rel(output[group1][outcome], output[group2][outcome])\n"
     ],
     "language": "python",
     "metadata": {},
     "outputs": [
      {
       "output_type": "stream",
       "stream": "stdout",
       "text": [
        "len of articleClasses: 435\n",
        "Processing article: 9\n",
        "IV OCC is of type \"DONOTUSE\"\n",
        "IV WRKSTAT is of type \"DONOTUSE\"\n",
        "IV OCC is of type \"DONOTUSE\""
       ]
      },
      {
       "output_type": "stream",
       "stream": "stdout",
       "text": [
        "\n",
        "IV WRKSTAT is of type \"DONOTUSE\"\n",
        "IV OCC is of type \"DONOTUSE\""
       ]
      },
      {
       "output_type": "stream",
       "stream": "stdout",
       "text": [
        "\n",
        "IV WRKSTAT is of type \"DONOTUSE\"\n",
        "IV OCC is of type \"DONOTUSE\""
       ]
      },
      {
       "output_type": "stream",
       "stream": "stdout",
       "text": [
        "\n",
        "IV WRKSTAT is of type \"DONOTUSE\"\n",
        "IV OCC is of type \"DONOTUSE\""
       ]
      },
      {
       "output_type": "stream",
       "stream": "stdout",
       "text": [
        "\n",
        "IV WRKSTAT is of type \"DONOTUSE\"\n",
        "IV OCC is of type \"DONOTUSE\""
       ]
      },
      {
       "output_type": "stream",
       "stream": "stdout",
       "text": [
        "\n",
        "IV WRKSTAT is of type \"DONOTUSE\"\n",
        "IV OCC is of type \"DONOTUSE\""
       ]
      },
      {
       "output_type": "stream",
       "stream": "stdout",
       "text": [
        "\n",
        "IV WRKSTAT is of type \"DONOTUSE\"\n",
        "IV OCC is of type \"DONOTUSE\""
       ]
      },
      {
       "output_type": "stream",
       "stream": "stdout",
       "text": [
        "\n",
        "IV WRKSTAT is of type \"DONOTUSE\"\n",
        "IV OCC is of type \"DONOTUSE\""
       ]
      },
      {
       "output_type": "stream",
       "stream": "stdout",
       "text": [
        "\n",
        "IV WRKSTAT is of type \"DONOTUSE\"\n",
        "IV OCC is of type \"DONOTUSE\""
       ]
      },
      {
       "output_type": "stream",
       "stream": "stdout",
       "text": [
        "\n",
        "IV WRKSTAT is of type \"DONOTUSE\"\n",
        "Processing article:"
       ]
      },
      {
       "output_type": "stream",
       "stream": "stdout",
       "text": [
        " 18\n",
        "IV WRKSTAT is of type \"DONOTUSE\"\n",
        "IV WRKSTAT is of type \"DONOTUSE\""
       ]
      },
      {
       "output_type": "stream",
       "stream": "stdout",
       "text": [
        "\n",
        "The number of variables in original model is different from the number in model on future years. Skipping."
       ]
      },
      {
       "output_type": "stream",
       "stream": "stdout",
       "text": [
        "\n",
        "IV WRKSTAT is of type \"DONOTUSE\"\n",
        "IV WRKSTAT is of type \"DONOTUSE\""
       ]
      },
      {
       "output_type": "stream",
       "stream": "stdout",
       "text": [
        "\n",
        "The number of variables in original model is different from the number in model on future years. Skipping."
       ]
      },
      {
       "output_type": "stream",
       "stream": "stdout",
       "text": [
        "\n",
        "IV WRKSTAT is of type \"DONOTUSE\"\n",
        "IV WRKSTAT is of type \"DONOTUSE\""
       ]
      },
      {
       "output_type": "stream",
       "stream": "stdout",
       "text": [
        "\n",
        "The number of variables in original model is different from the number in model on future years. Skipping."
       ]
      },
      {
       "output_type": "stream",
       "stream": "stdout",
       "text": [
        "\n",
        "Processing article: 21\n",
        "categorical variable DENOM has more than 15 levels\n",
        "categorical variable DENOM has more than 15 levels"
       ]
      },
      {
       "output_type": "stream",
       "stream": "stdout",
       "text": [
        "\n",
        "categorical variable DENOM has more than 15 levels"
       ]
      },
      {
       "output_type": "stream",
       "stream": "stdout",
       "text": [
        "\n",
        "categorical variable DENOM has more than 15 levels"
       ]
      },
      {
       "output_type": "stream",
       "stream": "stdout",
       "text": [
        "\n",
        "Processing article:"
       ]
      },
      {
       "output_type": "stream",
       "stream": "stdout",
       "text": [
        " 22\n",
        "IV OCC is of type \"DONOTUSE\"\n",
        "IV OCC is of type \"DONOTUSE\""
       ]
      },
      {
       "output_type": "stream",
       "stream": "stdout",
       "text": [
        "\n",
        "Processing article:"
       ]
      },
      {
       "output_type": "stream",
       "stream": "stdout",
       "text": [
        " 25\n",
        "categorical variable DENOM has more than 15 levels\n",
        "categorical variable DENOM has more than 15 levels"
       ]
      },
      {
       "output_type": "stream",
       "stream": "stdout",
       "text": [
        "\n",
        "categorical variable DENOM has more than 15 levels"
       ]
      },
      {
       "output_type": "stream",
       "stream": "stdout",
       "text": [
        "\n",
        "categorical variable DENOM has more than 15 levels"
       ]
      },
      {
       "output_type": "stream",
       "stream": "stdout",
       "text": [
        "\n",
        "categorical variable DENOM has more than 15 levels"
       ]
      },
      {
       "output_type": "stream",
       "stream": "stdout",
       "text": [
        "\n",
        "categorical variable DENOM has more than 15 levels"
       ]
      },
      {
       "output_type": "stream",
       "stream": "stdout",
       "text": [
        "\n",
        "Processing article:"
       ]
      },
      {
       "output_type": "stream",
       "stream": "stdout",
       "text": [
        " 55\n",
        "The number of variables in original model is different from the number in model on future years. Skipping."
       ]
      },
      {
       "output_type": "stream",
       "stream": "stdout",
       "text": [
        "\n",
        "The number of variables in original model is different from the number in model on future years. Skipping."
       ]
      },
      {
       "output_type": "stream",
       "stream": "stdout",
       "text": [
        "\n",
        "The number of variables in original model is different from the number in model on future years. Skipping."
       ]
      },
      {
       "output_type": "stream",
       "stream": "stdout",
       "text": [
        "\n",
        "Couldnt construct a suitable formula\n",
        "Processing article: 59\n",
        "Processing article:"
       ]
      },
      {
       "output_type": "stream",
       "stream": "stdout",
       "text": [
        " 75\n",
        "Processing article:"
       ]
      },
      {
       "output_type": "stream",
       "stream": "stdout",
       "text": [
        " 80\n",
        "categorical variable DENOM has more than 15 levels\n",
        "categorical variable DENOM has more than 15 levels"
       ]
      },
      {
       "output_type": "stream",
       "stream": "stdout",
       "text": [
        "\n",
        "Processing article:"
       ]
      },
      {
       "output_type": "stream",
       "stream": "stdout",
       "text": [
        " 98\n",
        "categorical variable ETHNIC has more than 15 levels\n",
        "IV SRCBELT is of type \"DONOTUSE\"\n",
        "categorical variable ETHNIC has more than 15 levels"
       ]
      },
      {
       "output_type": "stream",
       "stream": "stdout",
       "text": [
        "\n",
        "IV SRCBELT is of type \"DONOTUSE\"\n",
        "The number of variables in original model is different from the number in model on future years. Skipping."
       ]
      },
      {
       "output_type": "stream",
       "stream": "stdout",
       "text": [
        "\n",
        "Processing article: 117\n",
        "categorical variable DENOM has more than 15 levels\n",
        "categorical variable DENOM has more than 15 levels"
       ]
      },
      {
       "output_type": "stream",
       "stream": "stdout",
       "text": [
        "\n",
        "categorical variable DENOM has more than 15 levels"
       ]
      },
      {
       "output_type": "stream",
       "stream": "stdout",
       "text": [
        "\n",
        "categorical variable DENOM has more than 15 levels"
       ]
      },
      {
       "output_type": "stream",
       "stream": "stdout",
       "text": [
        "\n",
        "categorical variable DENOM has more than 15 levels"
       ]
      },
      {
       "output_type": "stream",
       "stream": "stdout",
       "text": [
        "\n",
        "categorical variable DENOM has more than 15 levels"
       ]
      },
      {
       "output_type": "stream",
       "stream": "stdout",
       "text": [
        "\n",
        "Processing article:"
       ]
      },
      {
       "output_type": "stream",
       "stream": "stdout",
       "text": [
        " 119\n",
        "Couldnt construct a suitable formula\n",
        "IV PAOCC16 is of type \"DONOTUSE\""
       ]
      },
      {
       "output_type": "stream",
       "stream": "stdout",
       "text": [
        "\n",
        "IV PAOCC16 is of type \"DONOTUSE\""
       ]
      },
      {
       "output_type": "stream",
       "stream": "stdout",
       "text": [
        "\n",
        "Processing article:"
       ]
      },
      {
       "output_type": "stream",
       "stream": "stdout",
       "text": [
        " 122\n",
        "IV OCC is of type \"DONOTUSE\"\n",
        "IV SRCBELT is of type \"DONOTUSE\"\n",
        "IV OCC is of type \"DONOTUSE\""
       ]
      },
      {
       "output_type": "stream",
       "stream": "stdout",
       "text": [
        "\n",
        "IV SRCBELT is of type \"DONOTUSE\"\n",
        "IV OCC is of type \"DONOTUSE\""
       ]
      },
      {
       "output_type": "stream",
       "stream": "stdout",
       "text": [
        "\n",
        "IV SRCBELT is of type \"DONOTUSE\"\n",
        "IV OCC is of type \"DONOTUSE\""
       ]
      },
      {
       "output_type": "stream",
       "stream": "stdout",
       "text": [
        "\n",
        "IV SRCBELT is of type \"DONOTUSE\"\n",
        "IV OCC is of type \"DONOTUSE\""
       ]
      },
      {
       "output_type": "stream",
       "stream": "stdout",
       "text": [
        "\n",
        "IV SRCBELT is of type \"DONOTUSE\"\n",
        "IV OCC is of type \"DONOTUSE\""
       ]
      },
      {
       "output_type": "stream",
       "stream": "stdout",
       "text": [
        "\n",
        "IV SRCBELT is of type \"DONOTUSE\"\n",
        "Processing article:"
       ]
      },
      {
       "output_type": "stream",
       "stream": "stdout",
       "text": [
        " 123\n",
        "categorical variable DENOM has more than 15 levels\n",
        "categorical variable DENOM has more than 15 levels"
       ]
      },
      {
       "output_type": "stream",
       "stream": "stdout",
       "text": [
        "\n",
        "categorical variable DENOM has more than 15 levels"
       ]
      },
      {
       "output_type": "stream",
       "stream": "stdout",
       "text": [
        "\n",
        "categorical variable DENOM has more than 15 levels"
       ]
      },
      {
       "output_type": "stream",
       "stream": "stdout",
       "text": [
        "\n",
        "categorical variable DENOM has more than 15 levels"
       ]
      },
      {
       "output_type": "stream",
       "stream": "stdout",
       "text": [
        "\n",
        "categorical variable DENOM has more than 15 levels"
       ]
      },
      {
       "output_type": "stream",
       "stream": "stdout",
       "text": [
        "\n",
        "Processing article:"
       ]
      },
      {
       "output_type": "stream",
       "stream": "stdout",
       "text": [
        " 175\n",
        "IV OCC is of type \"DONOTUSE\"\n",
        "IV SRCBELT is of type \"DONOTUSE\"\n",
        "IV WRKSTAT is of type \"DONOTUSE\"\n",
        "IV OCC is of type \"DONOTUSE\""
       ]
      },
      {
       "output_type": "stream",
       "stream": "stdout",
       "text": [
        "\n",
        "IV SRCBELT is of type \"DONOTUSE\"\n",
        "IV WRKSTAT is of type \"DONOTUSE\"\n",
        "The number of variables in original model is different from the number in model on future years. Skipping."
       ]
      },
      {
       "output_type": "stream",
       "stream": "stdout",
       "text": [
        "\n",
        "Processing article: 224\n",
        "Either the  params or the R^2 is too high. Skipping."
       ]
      },
      {
       "output_type": "stream",
       "stream": "stdout",
       "text": [
        "\n",
        "Processing article: 324\n",
        "IV SRCBELT is of type \"DONOTUSE\"\n",
        "IV SRCBELT is of type \"DONOTUSE\""
       ]
      },
      {
       "output_type": "stream",
       "stream": "stdout",
       "text": [
        "\n",
        "The number of variables in original model is different from the number in model on future years. Skipping."
       ]
      },
      {
       "output_type": "stream",
       "stream": "stdout",
       "text": [
        "\n",
        "IV SRCBELT is of type \"DONOTUSE\"\n",
        "IV SRCBELT is of type \"DONOTUSE\""
       ]
      },
      {
       "output_type": "stream",
       "stream": "stdout",
       "text": [
        "\n",
        "The number of variables in original model is different from the number in model on future years. Skipping."
       ]
      },
      {
       "output_type": "stream",
       "stream": "stdout",
       "text": [
        "\n",
        "Couldnt construct a suitable formula\n",
        "Processing article: 325\n",
        "IV CLASS is of type \"DONOTUSE\"\n",
        "IV XNORCSIZ is of type \"DONOTUSE\"\n",
        "IV CLASS is of type \"DONOTUSE\""
       ]
      },
      {
       "output_type": "stream",
       "stream": "stdout",
       "text": [
        "\n",
        "IV XNORCSIZ is of type \"DONOTUSE\"\n",
        "Either the  params or the R^2 is too high. Skipping."
       ]
      },
      {
       "output_type": "stream",
       "stream": "stdout",
       "text": [
        "\n",
        "Processing article: 348\n",
        "IV PARTYID is of type \"DONOTUSE\"\n",
        "IV PARTYID is of type \"DONOTUSE\""
       ]
      },
      {
       "output_type": "stream",
       "stream": "stdout",
       "text": [
        "\n",
        "IV PARTYID is of type \"DONOTUSE\""
       ]
      },
      {
       "output_type": "stream",
       "stream": "stdout",
       "text": [
        "\n",
        "IV PARTYID is of type \"DONOTUSE\""
       ]
      },
      {
       "output_type": "stream",
       "stream": "stdout",
       "text": [
        "\n",
        "IV PARTYID is of type \"DONOTUSE\""
       ]
      },
      {
       "output_type": "stream",
       "stream": "stdout",
       "text": [
        "\n",
        "IV PARTYID is of type \"DONOTUSE\""
       ]
      },
      {
       "output_type": "stream",
       "stream": "stdout",
       "text": [
        "\n",
        "IV PARTYID is of type \"DONOTUSE\""
       ]
      },
      {
       "output_type": "stream",
       "stream": "stdout",
       "text": [
        "\n",
        "IV PARTYID is of type \"DONOTUSE\""
       ]
      },
      {
       "output_type": "stream",
       "stream": "stdout",
       "text": [
        "\n",
        "IV PARTYID is of type \"DONOTUSE\""
       ]
      },
      {
       "output_type": "stream",
       "stream": "stdout",
       "text": [
        "\n",
        "IV PARTYID is of type \"DONOTUSE\""
       ]
      },
      {
       "output_type": "stream",
       "stream": "stdout",
       "text": [
        "\n",
        "IV PARTYID is of type \"DONOTUSE\""
       ]
      },
      {
       "output_type": "stream",
       "stream": "stdout",
       "text": [
        "\n",
        "IV PARTYID is of type \"DONOTUSE\""
       ]
      },
      {
       "output_type": "stream",
       "stream": "stdout",
       "text": [
        "\n",
        "IV PARTYID is of type \"DONOTUSE\""
       ]
      },
      {
       "output_type": "stream",
       "stream": "stdout",
       "text": [
        "\n",
        "IV PARTYID is of type \"DONOTUSE\""
       ]
      },
      {
       "output_type": "stream",
       "stream": "stdout",
       "text": [
        "\n",
        "IV PARTYID is of type \"DONOTUSE\""
       ]
      },
      {
       "output_type": "stream",
       "stream": "stdout",
       "text": [
        "\n",
        "IV PARTYID is of type \"DONOTUSE\""
       ]
      },
      {
       "output_type": "stream",
       "stream": "stdout",
       "text": [
        "\n",
        "Processing article:"
       ]
      },
      {
       "output_type": "stream",
       "stream": "stdout",
       "text": [
        " 356\n",
        "Processing article:"
       ]
      },
      {
       "output_type": "stream",
       "stream": "stdout",
       "text": [
        " 396\n",
        "Couldnt construct a suitable formula\n",
        "Couldnt construct a suitable formula\n",
        "Processing article: 428\n",
        "IV WRKSTAT is of type \"DONOTUSE\""
       ]
      },
      {
       "output_type": "stream",
       "stream": "stdout",
       "text": [
        "\n",
        "IV WRKSTAT is of type \"DONOTUSE\""
       ]
      },
      {
       "output_type": "stream",
       "stream": "stdout",
       "text": [
        "\n",
        "The number of variables in original model is different from the number in model on future years. Skipping."
       ]
      },
      {
       "output_type": "stream",
       "stream": "stdout",
       "text": [
        "\n",
        "Processing article: 436\n",
        "The number of variables in original model is different from the number in model on future years. Skipping."
       ]
      },
      {
       "output_type": "stream",
       "stream": "stdout",
       "text": [
        "\n",
        "Processing article: 486\n",
        "categorical variable DENOM has more than 15 levels\n",
        "IV PAOCC16 is of type \"DONOTUSE\"\n",
        "categorical variable DENOM has more than 15 levels"
       ]
      },
      {
       "output_type": "stream",
       "stream": "stdout",
       "text": [
        "\n",
        "IV PAOCC16 is of type \"DONOTUSE\"\n",
        "categorical variable DENOM has more than 15 levels"
       ]
      },
      {
       "output_type": "stream",
       "stream": "stdout",
       "text": [
        "\n",
        "IV PAOCC16 is of type \"DONOTUSE\"\n",
        "categorical variable DENOM has more than 15 levels"
       ]
      },
      {
       "output_type": "stream",
       "stream": "stdout",
       "text": [
        "\n",
        "IV PAOCC16 is of type \"DONOTUSE\"\n",
        "categorical variable DENOM has more than 15 levels"
       ]
      },
      {
       "output_type": "stream",
       "stream": "stdout",
       "text": [
        "\n",
        "IV PAOCC16 is of type \"DONOTUSE\"\n",
        "categorical variable DENOM has more than 15 levels"
       ]
      },
      {
       "output_type": "stream",
       "stream": "stdout",
       "text": [
        "\n",
        "IV PAOCC16 is of type \"DONOTUSE\"\n",
        "categorical variable DENOM has more than 15 levels"
       ]
      },
      {
       "output_type": "stream",
       "stream": "stdout",
       "text": [
        "\n",
        "IV PAOCC16 is of type \"DONOTUSE\"\n",
        "categorical variable DENOM has more than 15 levels"
       ]
      },
      {
       "output_type": "stream",
       "stream": "stdout",
       "text": [
        "\n",
        "IV PAOCC16 is of type \"DONOTUSE\"\n",
        "categorical variable DENOM has more than 15 levels"
       ]
      },
      {
       "output_type": "stream",
       "stream": "stdout",
       "text": [
        "\n",
        "IV PAOCC16 is of type \"DONOTUSE\"\n",
        "categorical variable DENOM has more than 15 levels"
       ]
      },
      {
       "output_type": "stream",
       "stream": "stdout",
       "text": [
        "\n",
        "IV PAOCC16 is of type \"DONOTUSE\"\n",
        "categorical variable DENOM has more than 15 levels"
       ]
      },
      {
       "output_type": "stream",
       "stream": "stdout",
       "text": [
        "\n",
        "IV PAOCC16 is of type \"DONOTUSE\"\n",
        "categorical variable DENOM has more than 15 levels"
       ]
      },
      {
       "output_type": "stream",
       "stream": "stdout",
       "text": [
        "\n",
        "IV PAOCC16 is of type \"DONOTUSE\"\n",
        "categorical variable DENOM has more than 15 levels"
       ]
      },
      {
       "output_type": "stream",
       "stream": "stdout",
       "text": [
        "\n",
        "IV PAOCC16 is of type \"DONOTUSE\"\n",
        "categorical variable DENOM has more than 15 levels"
       ]
      },
      {
       "output_type": "stream",
       "stream": "stdout",
       "text": [
        "\n",
        "IV PAOCC16 is of type \"DONOTUSE\"\n",
        "categorical variable DENOM has more than 15 levels"
       ]
      },
      {
       "output_type": "stream",
       "stream": "stdout",
       "text": [
        "\n",
        "IV PAOCC16 is of type \"DONOTUSE\"\n",
        "categorical variable DENOM has more than 15 levels"
       ]
      },
      {
       "output_type": "stream",
       "stream": "stdout",
       "text": [
        "\n",
        "IV PAOCC16 is of type \"DONOTUSE\"\n",
        "categorical variable DENOM has more than 15 levels"
       ]
      },
      {
       "output_type": "stream",
       "stream": "stdout",
       "text": [
        "\n",
        "IV PAOCC16 is of type \"DONOTUSE\"\n",
        "categorical variable DENOM has more than 15 levels"
       ]
      },
      {
       "output_type": "stream",
       "stream": "stdout",
       "text": [
        "\n",
        "IV PAOCC16 is of type \"DONOTUSE\"\n",
        "categorical variable DENOM has more than 15 levels"
       ]
      },
      {
       "output_type": "stream",
       "stream": "stdout",
       "text": [
        "\n",
        "IV PAOCC16 is of type \"DONOTUSE\"\n",
        "categorical variable DENOM has more than 15 levels"
       ]
      },
      {
       "output_type": "stream",
       "stream": "stdout",
       "text": [
        "\n",
        "IV PAOCC16 is of type \"DONOTUSE\"\n",
        "categorical variable DENOM has more than 15 levels"
       ]
      },
      {
       "output_type": "stream",
       "stream": "stdout",
       "text": [
        "\n",
        "IV PAOCC16 is of type \"DONOTUSE\"\n",
        "categorical variable DENOM has more than 15 levels"
       ]
      },
      {
       "output_type": "stream",
       "stream": "stdout",
       "text": [
        "\n",
        "IV PAOCC16 is of type \"DONOTUSE\"\n",
        "categorical variable DENOM has more than 15 levels"
       ]
      },
      {
       "output_type": "stream",
       "stream": "stdout",
       "text": [
        "\n",
        "IV PAOCC16 is of type \"DONOTUSE\"\n",
        "categorical variable DENOM has more than 15 levels"
       ]
      },
      {
       "output_type": "stream",
       "stream": "stdout",
       "text": [
        "\n",
        "IV PAOCC16 is of type \"DONOTUSE\"\n",
        "categorical variable DENOM has more than 15 levels"
       ]
      },
      {
       "output_type": "stream",
       "stream": "stdout",
       "text": [
        "\n",
        "IV PAOCC16 is of type \"DONOTUSE\"\n",
        "categorical variable DENOM has more than 15 levels"
       ]
      },
      {
       "output_type": "stream",
       "stream": "stdout",
       "text": [
        "\n",
        "IV PAOCC16 is of type \"DONOTUSE\"\n",
        "categorical variable DENOM has more than 15 levels"
       ]
      },
      {
       "output_type": "stream",
       "stream": "stdout",
       "text": [
        "\n",
        "IV PAOCC16 is of type \"DONOTUSE\"\n",
        "categorical variable DENOM has more than 15 levels"
       ]
      },
      {
       "output_type": "stream",
       "stream": "stdout",
       "text": [
        "\n",
        "IV PAOCC16 is of type \"DONOTUSE\"\n",
        "categorical variable DENOM has more than 15 levels"
       ]
      },
      {
       "output_type": "stream",
       "stream": "stdout",
       "text": [
        "\n",
        "IV PAOCC16 is of type \"DONOTUSE\"\n",
        "categorical variable DENOM has more than 15 levels"
       ]
      },
      {
       "output_type": "stream",
       "stream": "stdout",
       "text": [
        "\n",
        "IV PAOCC16 is of type \"DONOTUSE\"\n",
        "Processing article:"
       ]
      },
      {
       "output_type": "stream",
       "stream": "stdout",
       "text": [
        " 492\n",
        "IV INDUSTRY is of type \"DONOTUSE\"\n",
        "IV WRKSTAT is of type \"DONOTUSE\"\n",
        "IV INDUSTRY is of type \"DONOTUSE\""
       ]
      },
      {
       "output_type": "stream",
       "stream": "stdout",
       "text": [
        "\n",
        "IV WRKSTAT is of type \"DONOTUSE\"\n",
        "Processing article:"
       ]
      },
      {
       "output_type": "stream",
       "stream": "stdout",
       "text": [
        " 509\n",
        "Couldnt construct a suitable formula"
       ]
      },
      {
       "output_type": "stream",
       "stream": "stdout",
       "text": [
        "\n",
        "Couldnt construct a suitable formula"
       ]
      },
      {
       "output_type": "stream",
       "stream": "stdout",
       "text": [
        "\n",
        "Couldnt construct a suitable formula"
       ]
      },
      {
       "output_type": "stream",
       "stream": "stdout",
       "text": [
        "\n",
        "Processing article: 511\n",
        "IV XNORCSIZ is of type \"DONOTUSE\"\n",
        "IV XNORCSIZ is of type \"DONOTUSE\""
       ]
      },
      {
       "output_type": "stream",
       "stream": "stdout",
       "text": [
        "\n",
        "Processing article:"
       ]
      },
      {
       "output_type": "stream",
       "stream": "stdout",
       "text": [
        " 536\n",
        "Couldnt construct a suitable formula\n",
        "IV OCC is of type \"DONOTUSE\"\n",
        "IV PARTYID is of type \"DONOTUSE\"\n",
        "IV OCC is of type \"DONOTUSE\""
       ]
      },
      {
       "output_type": "stream",
       "stream": "stdout",
       "text": [
        "\n",
        "IV PARTYID is of type \"DONOTUSE\"\n",
        "The number of variables in original model is different from the number in model on future years. Skipping."
       ]
      },
      {
       "output_type": "stream",
       "stream": "stdout",
       "text": [
        "\n",
        "IV OCC is of type \"DONOTUSE\"\n",
        "IV PARTYID is of type \"DONOTUSE\"\n",
        "IV OCC is of type \"DONOTUSE\""
       ]
      },
      {
       "output_type": "stream",
       "stream": "stdout",
       "text": [
        "\n",
        "IV PARTYID is of type \"DONOTUSE\"\n",
        "The number of variables in original model is different from the number in model on future years. Skipping."
       ]
      },
      {
       "output_type": "stream",
       "stream": "stdout",
       "text": [
        "\n",
        "Processing article: 593\n",
        "Couldnt construct a suitable formula\n",
        "Couldnt construct a suitable formula\n",
        "Processing article: 602\n",
        "Couldnt construct a suitable formula"
       ]
      },
      {
       "output_type": "stream",
       "stream": "stdout",
       "text": [
        "\n",
        "Processing article:"
       ]
      },
      {
       "output_type": "stream",
       "stream": "stdout",
       "text": [
        " 604\n",
        "Processing article:"
       ]
      },
      {
       "output_type": "stream",
       "stream": "stdout",
       "text": [
        " 633\n",
        "IV XNORCSIZ is of type \"DONOTUSE\"\n",
        "IV XNORCSIZ is of type \"DONOTUSE\""
       ]
      },
      {
       "output_type": "stream",
       "stream": "stdout",
       "text": [
        "\n",
        "The number of variables in original model is different from the number in model on future years. Skipping."
       ]
      },
      {
       "output_type": "stream",
       "stream": "stdout",
       "text": [
        "\n",
        "Processing article: 635\n",
        "The number of variables in original model is different from the number in model on future years. Skipping."
       ]
      },
      {
       "output_type": "stream",
       "stream": "stdout",
       "text": [
        "\n",
        "Processing article: 636\n",
        "IV PAOCC16 is of type \"DONOTUSE\"\n",
        "IV PAOCC16 is of type \"DONOTUSE\""
       ]
      },
      {
       "output_type": "stream",
       "stream": "stdout",
       "text": [
        "\n",
        "The number of variables in original model is different from the number in model on future years. Skipping."
       ]
      },
      {
       "output_type": "stream",
       "stream": "stdout",
       "text": [
        "\n",
        "Processing article: 638\n",
        "Processing article:"
       ]
      },
      {
       "output_type": "stream",
       "stream": "stdout",
       "text": [
        " 646\n",
        "Couldnt construct a suitable formula\n",
        "Processing article: 655\n",
        "Processing article:"
       ]
      },
      {
       "output_type": "stream",
       "stream": "stdout",
       "text": [
        " 657\n",
        "IV OCC80 is of type \"DONOTUSE\"\n",
        "IV WRKSTAT is of type \"DONOTUSE\"\n",
        "IV OCC80 is of type \"DONOTUSE\""
       ]
      },
      {
       "output_type": "stream",
       "stream": "stdout",
       "text": [
        "\n",
        "IV WRKSTAT is of type \"DONOTUSE\"\n",
        "The number of variables in original model is different from the number in model on future years. Skipping."
       ]
      },
      {
       "output_type": "stream",
       "stream": "stdout",
       "text": [
        "\n",
        "Processing article: 686\n",
        "Processing article:"
       ]
      },
      {
       "output_type": "stream",
       "stream": "stdout",
       "text": [
        " 715\n",
        "categorical variable DENOM has more than 15 levels\n",
        "IV XNORCSIZ is of type \"DONOTUSE\"\n",
        "categorical variable DENOM has more than 15 levels"
       ]
      },
      {
       "output_type": "stream",
       "stream": "stdout",
       "text": [
        "\n",
        "IV XNORCSIZ is of type \"DONOTUSE\"\n",
        "categorical variable DENOM has more than 15 levels"
       ]
      },
      {
       "output_type": "stream",
       "stream": "stdout",
       "text": [
        "\n",
        "IV XNORCSIZ is of type \"DONOTUSE\"\n",
        "categorical variable DENOM has more than 15 levels"
       ]
      },
      {
       "output_type": "stream",
       "stream": "stdout",
       "text": [
        "\n",
        "IV XNORCSIZ is of type \"DONOTUSE\"\n",
        "Processing article:"
       ]
      },
      {
       "output_type": "stream",
       "stream": "stdout",
       "text": [
        " 716\n",
        "categorical variable DENOM has more than 15 levels\n",
        "categorical variable DENOM16 has more than 15 levels\n",
        "IV OTH16 is of type \"DONOTUSE\"\n",
        "IV OTHER is of type \"DONOTUSE\"\n",
        "categorical variable DENOM has more than 15 levels"
       ]
      },
      {
       "output_type": "stream",
       "stream": "stdout",
       "text": [
        "\n",
        "categorical variable DENOM16 has more than 15 levels\n",
        "IV OTH16 is of type \"DONOTUSE\"\n",
        "IV OTHER is of type \"DONOTUSE\"\n",
        "categorical variable DENOM has more than 15 levels"
       ]
      },
      {
       "output_type": "stream",
       "stream": "stdout",
       "text": [
        "\n",
        "categorical variable DENOM16 has more than 15 levels\n",
        "IV OTH16 is of type \"DONOTUSE\"\n",
        "IV OTHER is of type \"DONOTUSE\"\n",
        "categorical variable DENOM has more than 15 levels"
       ]
      },
      {
       "output_type": "stream",
       "stream": "stdout",
       "text": [
        "\n",
        "categorical variable DENOM16 has more than 15 levels\n",
        "IV OTH16 is of type \"DONOTUSE\"\n",
        "IV OTHER is of type \"DONOTUSE\"\n",
        "Couldnt construct a suitable formula"
       ]
      },
      {
       "output_type": "stream",
       "stream": "stdout",
       "text": [
        "\n",
        "Processing article: 739\n",
        "categorical variable ETHNIC has more than 15 levels\n",
        "IV XNORCSIZ is of type \"DONOTUSE\"\n",
        "categorical variable ETHNIC has more than 15 levels"
       ]
      },
      {
       "output_type": "stream",
       "stream": "stdout",
       "text": [
        "\n",
        "IV XNORCSIZ is of type \"DONOTUSE\"\n",
        "The number of variables in original model is different from the number in model on future years. Skipping."
       ]
      },
      {
       "output_type": "stream",
       "stream": "stdout",
       "text": [
        "\n",
        "categorical variable ETHNIC has more than 15 levels\n",
        "IV XNORCSIZ is of type \"DONOTUSE\"\n",
        "categorical variable ETHNIC has more than 15 levels"
       ]
      },
      {
       "output_type": "stream",
       "stream": "stdout",
       "text": [
        "\n",
        "IV XNORCSIZ is of type \"DONOTUSE\"\n",
        "The number of variables in original model is different from the number in model on future years. Skipping."
       ]
      },
      {
       "output_type": "stream",
       "stream": "stdout",
       "text": [
        "\n",
        "categorical variable ETHNIC has more than 15 levels\n",
        "IV XNORCSIZ is of type \"DONOTUSE\"\n",
        "categorical variable ETHNIC has more than 15 levels"
       ]
      },
      {
       "output_type": "stream",
       "stream": "stdout",
       "text": [
        "\n",
        "IV XNORCSIZ is of type \"DONOTUSE\"\n",
        "The number of variables in original model is different from the number in model on future years. Skipping."
       ]
      },
      {
       "output_type": "stream",
       "stream": "stdout",
       "text": [
        "\n",
        "categorical variable ETHNIC has more than 15 levels\n",
        "IV XNORCSIZ is of type \"DONOTUSE\"\n",
        "categorical variable ETHNIC has more than 15 levels"
       ]
      },
      {
       "output_type": "stream",
       "stream": "stdout",
       "text": [
        "\n",
        "IV XNORCSIZ is of type \"DONOTUSE\"\n",
        "The number of variables in original model is different from the number in model on future years. Skipping."
       ]
      },
      {
       "output_type": "stream",
       "stream": "stdout",
       "text": [
        "\n",
        "categorical variable ETHNIC has more than 15 levels\n",
        "IV XNORCSIZ is of type \"DONOTUSE\"\n",
        "categorical variable ETHNIC has more than 15 levels"
       ]
      },
      {
       "output_type": "stream",
       "stream": "stdout",
       "text": [
        "\n",
        "IV XNORCSIZ is of type \"DONOTUSE\"\n",
        "The number of variables in original model is different from the number in model on future years. Skipping."
       ]
      },
      {
       "output_type": "stream",
       "stream": "stdout",
       "text": [
        "\n",
        "categorical variable ETHNIC has more than 15 levels\n",
        "IV XNORCSIZ is of type \"DONOTUSE\"\n",
        "categorical variable ETHNIC has more than 15 levels"
       ]
      },
      {
       "output_type": "stream",
       "stream": "stdout",
       "text": [
        "\n",
        "IV XNORCSIZ is of type \"DONOTUSE\"\n",
        "The number of variables in original model is different from the number in model on future years. Skipping."
       ]
      },
      {
       "output_type": "stream",
       "stream": "stdout",
       "text": [
        "\n",
        "categorical variable ETHNIC has more than 15 levels\n",
        "IV XNORCSIZ is of type \"DONOTUSE\"\n",
        "categorical variable ETHNIC has more than 15 levels"
       ]
      },
      {
       "output_type": "stream",
       "stream": "stdout",
       "text": [
        "\n",
        "IV XNORCSIZ is of type \"DONOTUSE\"\n",
        "The number of variables in original model is different from the number in model on future years. Skipping."
       ]
      },
      {
       "output_type": "stream",
       "stream": "stdout",
       "text": [
        "\n",
        "categorical variable ETHNIC has more than 15 levels\n",
        "IV XNORCSIZ is of type \"DONOTUSE\"\n",
        "categorical variable ETHNIC has more than 15 levels"
       ]
      },
      {
       "output_type": "stream",
       "stream": "stdout",
       "text": [
        "\n",
        "IV XNORCSIZ is of type \"DONOTUSE\"\n",
        "The number of variables in original model is different from the number in model on future years. Skipping."
       ]
      },
      {
       "output_type": "stream",
       "stream": "stdout",
       "text": [
        "\n",
        "categorical variable ETHNIC has more than 15 levels\n",
        "IV XNORCSIZ is of type \"DONOTUSE\"\n",
        "categorical variable ETHNIC has more than 15 levels"
       ]
      },
      {
       "output_type": "stream",
       "stream": "stdout",
       "text": [
        "\n",
        "IV XNORCSIZ is of type \"DONOTUSE\"\n",
        "The number of variables in original model is different from the number in model on future years. Skipping."
       ]
      },
      {
       "output_type": "stream",
       "stream": "stdout",
       "text": [
        "\n",
        "categorical variable ETHNIC has more than 15 levels\n",
        "IV XNORCSIZ is of type \"DONOTUSE\"\n",
        "categorical variable ETHNIC has more than 15 levels"
       ]
      },
      {
       "output_type": "stream",
       "stream": "stdout",
       "text": [
        "\n",
        "IV XNORCSIZ is of type \"DONOTUSE\"\n",
        "The number of variables in original model is different from the number in model on future years. Skipping."
       ]
      },
      {
       "output_type": "stream",
       "stream": "stdout",
       "text": [
        "\n",
        "categorical variable ETHNIC has more than 15 levels\n",
        "IV XNORCSIZ is of type \"DONOTUSE\"\n",
        "categorical variable ETHNIC has more than 15 levels"
       ]
      },
      {
       "output_type": "stream",
       "stream": "stdout",
       "text": [
        "\n",
        "IV XNORCSIZ is of type \"DONOTUSE\"\n",
        "The number of variables in original model is different from the number in model on future years. Skipping."
       ]
      },
      {
       "output_type": "stream",
       "stream": "stdout",
       "text": [
        "\n",
        "categorical variable ETHNIC has more than 15 levels\n",
        "IV XNORCSIZ is of type \"DONOTUSE\"\n",
        "categorical variable ETHNIC has more than 15 levels"
       ]
      },
      {
       "output_type": "stream",
       "stream": "stdout",
       "text": [
        "\n",
        "IV XNORCSIZ is of type \"DONOTUSE\"\n",
        "The number of variables in original model is different from the number in model on future years. Skipping."
       ]
      },
      {
       "output_type": "stream",
       "stream": "stdout",
       "text": [
        "\n",
        "categorical variable ETHNIC has more than 15 levels\n",
        "IV XNORCSIZ is of type \"DONOTUSE\"\n",
        "categorical variable ETHNIC has more than 15 levels"
       ]
      },
      {
       "output_type": "stream",
       "stream": "stdout",
       "text": [
        "\n",
        "IV XNORCSIZ is of type \"DONOTUSE\"\n",
        "The number of variables in original model is different from the number in model on future years. Skipping."
       ]
      },
      {
       "output_type": "stream",
       "stream": "stdout",
       "text": [
        "\n",
        "categorical variable ETHNIC has more than 15 levels\n",
        "IV XNORCSIZ is of type \"DONOTUSE\"\n",
        "categorical variable ETHNIC has more than 15 levels"
       ]
      },
      {
       "output_type": "stream",
       "stream": "stdout",
       "text": [
        "\n",
        "IV XNORCSIZ is of type \"DONOTUSE\"\n",
        "The number of variables in original model is different from the number in model on future years. Skipping."
       ]
      },
      {
       "output_type": "stream",
       "stream": "stdout",
       "text": [
        "\n",
        "categorical variable ETHNIC has more than 15 levels\n",
        "IV XNORCSIZ is of type \"DONOTUSE\"\n",
        "categorical variable ETHNIC has more than 15 levels"
       ]
      },
      {
       "output_type": "stream",
       "stream": "stdout",
       "text": [
        "\n",
        "IV XNORCSIZ is of type \"DONOTUSE\"\n",
        "The number of variables in original model is different from the number in model on future years. Skipping."
       ]
      },
      {
       "output_type": "stream",
       "stream": "stdout",
       "text": [
        "\n",
        "categorical variable ETHNIC has more than 15 levels\n",
        "IV XNORCSIZ is of type \"DONOTUSE\"\n",
        "categorical variable ETHNIC has more than 15 levels"
       ]
      },
      {
       "output_type": "stream",
       "stream": "stdout",
       "text": [
        "\n",
        "IV XNORCSIZ is of type \"DONOTUSE\"\n",
        "The number of variables in original model is different from the number in model on future years. Skipping."
       ]
      },
      {
       "output_type": "stream",
       "stream": "stdout",
       "text": [
        "\n",
        "categorical variable ETHNIC has more than 15 levels\n",
        "IV XNORCSIZ is of type \"DONOTUSE\"\n",
        "categorical variable ETHNIC has more than 15 levels"
       ]
      },
      {
       "output_type": "stream",
       "stream": "stdout",
       "text": [
        "\n",
        "IV XNORCSIZ is of type \"DONOTUSE\"\n",
        "The number of variables in original model is different from the number in model on future years. Skipping."
       ]
      },
      {
       "output_type": "stream",
       "stream": "stdout",
       "text": [
        "\n",
        "categorical variable ETHNIC has more than 15 levels\n",
        "IV XNORCSIZ is of type \"DONOTUSE\"\n",
        "categorical variable ETHNIC has more than 15 levels"
       ]
      },
      {
       "output_type": "stream",
       "stream": "stdout",
       "text": [
        "\n",
        "IV XNORCSIZ is of type \"DONOTUSE\"\n",
        "The number of variables in original model is different from the number in model on future years. Skipping."
       ]
      },
      {
       "output_type": "stream",
       "stream": "stdout",
       "text": [
        "\n",
        "categorical variable ETHNIC has more than 15 levels\n",
        "IV XNORCSIZ is of type \"DONOTUSE\"\n",
        "categorical variable ETHNIC has more than 15 levels"
       ]
      },
      {
       "output_type": "stream",
       "stream": "stdout",
       "text": [
        "\n",
        "IV XNORCSIZ is of type \"DONOTUSE\"\n",
        "The number of variables in original model is different from the number in model on future years. Skipping."
       ]
      },
      {
       "output_type": "stream",
       "stream": "stdout",
       "text": [
        "\n",
        "categorical variable ETHNIC has more than 15 levels\n",
        "IV XNORCSIZ is of type \"DONOTUSE\"\n",
        "categorical variable ETHNIC has more than 15 levels"
       ]
      },
      {
       "output_type": "stream",
       "stream": "stdout",
       "text": [
        "\n",
        "IV XNORCSIZ is of type \"DONOTUSE\"\n",
        "The number of variables in original model is different from the number in model on future years. Skipping."
       ]
      },
      {
       "output_type": "stream",
       "stream": "stdout",
       "text": [
        "\n",
        "categorical variable ETHNIC has more than 15 levels\n",
        "IV XNORCSIZ is of type \"DONOTUSE\"\n",
        "categorical variable ETHNIC has more than 15 levels"
       ]
      },
      {
       "output_type": "stream",
       "stream": "stdout",
       "text": [
        "\n",
        "IV XNORCSIZ is of type \"DONOTUSE\"\n",
        "The number of variables in original model is different from the number in model on future years. Skipping."
       ]
      },
      {
       "output_type": "stream",
       "stream": "stdout",
       "text": [
        "\n",
        "categorical variable ETHNIC has more than 15 levels\n",
        "IV XNORCSIZ is of type \"DONOTUSE\"\n",
        "categorical variable ETHNIC has more than 15 levels"
       ]
      },
      {
       "output_type": "stream",
       "stream": "stdout",
       "text": [
        "\n",
        "IV XNORCSIZ is of type \"DONOTUSE\"\n",
        "The number of variables in original model is different from the number in model on future years. Skipping."
       ]
      },
      {
       "output_type": "stream",
       "stream": "stdout",
       "text": [
        "\n",
        "Processing article: 742\n",
        "Processing article:"
       ]
      },
      {
       "output_type": "stream",
       "stream": "stdout",
       "text": [
        " 790\n",
        "Processing article:"
       ]
      },
      {
       "output_type": "stream",
       "stream": "stdout",
       "text": [
        " 829\n",
        "Couldnt construct a suitable formula\n",
        "Processing article: 835\n",
        "Processing article:"
       ]
      },
      {
       "output_type": "stream",
       "stream": "stdout",
       "text": [
        " 861\n",
        "Processing article:"
       ]
      },
      {
       "output_type": "stream",
       "stream": "stdout",
       "text": [
        " 905\n",
        "Processing article:"
       ]
      },
      {
       "output_type": "stream",
       "stream": "stdout",
       "text": [
        " 906\n",
        "IV XNORCSIZ is of type \"DONOTUSE\"\n",
        "IV XNORCSIZ is of type \"DONOTUSE\""
       ]
      },
      {
       "output_type": "stream",
       "stream": "stdout",
       "text": [
        "\n",
        "Processing article:"
       ]
      },
      {
       "output_type": "stream",
       "stream": "stdout",
       "text": [
        " 926\n",
        "Processing article:"
       ]
      },
      {
       "output_type": "stream",
       "stream": "stdout",
       "text": [
        " 932\n",
        "IV OCC is of type \"DONOTUSE\"\n",
        "IV WRKSTAT is of type \"DONOTUSE\"\n",
        "IV OCC is of type \"DONOTUSE\""
       ]
      },
      {
       "output_type": "stream",
       "stream": "stdout",
       "text": [
        "\n",
        "IV WRKSTAT is of type \"DONOTUSE\"\n",
        "IV OCC is of type \"DONOTUSE\""
       ]
      },
      {
       "output_type": "stream",
       "stream": "stdout",
       "text": [
        "\n",
        "IV WRKSTAT is of type \"DONOTUSE\"\n",
        "IV OCC is of type \"DONOTUSE\""
       ]
      },
      {
       "output_type": "stream",
       "stream": "stdout",
       "text": [
        "\n",
        "IV WRKSTAT is of type \"DONOTUSE\"\n",
        "IV OCC is of type \"DONOTUSE\""
       ]
      },
      {
       "output_type": "stream",
       "stream": "stdout",
       "text": [
        "\n",
        "IV WRKSTAT is of type \"DONOTUSE\"\n",
        "IV OCC is of type \"DONOTUSE\""
       ]
      },
      {
       "output_type": "stream",
       "stream": "stdout",
       "text": [
        "\n",
        "IV WRKSTAT is of type \"DONOTUSE\"\n",
        "IV OCC is of type \"DONOTUSE\""
       ]
      },
      {
       "output_type": "stream",
       "stream": "stdout",
       "text": [
        "\n",
        "IV WRKSTAT is of type \"DONOTUSE\"\n",
        "IV OCC is of type \"DONOTUSE\""
       ]
      },
      {
       "output_type": "stream",
       "stream": "stdout",
       "text": [
        "\n",
        "IV WRKSTAT is of type \"DONOTUSE\"\n",
        "IV OCC is of type \"DONOTUSE\""
       ]
      },
      {
       "output_type": "stream",
       "stream": "stdout",
       "text": [
        "\n",
        "IV WRKSTAT is of type \"DONOTUSE\"\n",
        "IV OCC is of type \"DONOTUSE\""
       ]
      },
      {
       "output_type": "stream",
       "stream": "stdout",
       "text": [
        "\n",
        "IV WRKSTAT is of type \"DONOTUSE\"\n",
        "Processing article:"
       ]
      },
      {
       "output_type": "stream",
       "stream": "stdout",
       "text": [
        " 1000\n",
        "Couldnt construct a suitable formula"
       ]
      },
      {
       "output_type": "stream",
       "stream": "stdout",
       "text": [
        "\n",
        "Processing article: 1006\n",
        "IV PARTYID is of type \"DONOTUSE\"\n",
        "IV WRKSTAT is of type \"DONOTUSE\"\n",
        "IV PARTYID is of type \"DONOTUSE\""
       ]
      },
      {
       "output_type": "stream",
       "stream": "stdout",
       "text": [
        "\n",
        "IV WRKSTAT is of type \"DONOTUSE\"\n",
        "IV PARTYID is of type \"DONOTUSE\""
       ]
      },
      {
       "output_type": "stream",
       "stream": "stdout",
       "text": [
        "\n",
        "IV WRKSTAT is of type \"DONOTUSE\"\n",
        "IV PARTYID is of type \"DONOTUSE\""
       ]
      },
      {
       "output_type": "stream",
       "stream": "stdout",
       "text": [
        "\n",
        "IV WRKSTAT is of type \"DONOTUSE\"\n",
        "IV PARTYID is of type \"DONOTUSE\""
       ]
      },
      {
       "output_type": "stream",
       "stream": "stdout",
       "text": [
        "\n",
        "IV WRKSTAT is of type \"DONOTUSE\"\n",
        "IV PARTYID is of type \"DONOTUSE\""
       ]
      },
      {
       "output_type": "stream",
       "stream": "stdout",
       "text": [
        "\n",
        "IV WRKSTAT is of type \"DONOTUSE\"\n",
        "IV PARTYID is of type \"DONOTUSE\""
       ]
      },
      {
       "output_type": "stream",
       "stream": "stdout",
       "text": [
        "\n",
        "IV WRKSTAT is of type \"DONOTUSE\"\n",
        "IV PARTYID is of type \"DONOTUSE\""
       ]
      },
      {
       "output_type": "stream",
       "stream": "stdout",
       "text": [
        "\n",
        "IV WRKSTAT is of type \"DONOTUSE\"\n",
        "IV PARTYID is of type \"DONOTUSE\""
       ]
      },
      {
       "output_type": "stream",
       "stream": "stdout",
       "text": [
        "\n",
        "IV WRKSTAT is of type \"DONOTUSE\"\n",
        "IV PARTYID is of type \"DONOTUSE\""
       ]
      },
      {
       "output_type": "stream",
       "stream": "stdout",
       "text": [
        "\n",
        "IV WRKSTAT is of type \"DONOTUSE\"\n",
        "IV PARTYID is of type \"DONOTUSE\""
       ]
      },
      {
       "output_type": "stream",
       "stream": "stdout",
       "text": [
        "\n",
        "IV WRKSTAT is of type \"DONOTUSE\"\n",
        "IV PARTYID is of type \"DONOTUSE\""
       ]
      },
      {
       "output_type": "stream",
       "stream": "stdout",
       "text": [
        "\n",
        "IV WRKSTAT is of type \"DONOTUSE\"\n",
        "IV PARTYID is of type \"DONOTUSE\""
       ]
      },
      {
       "output_type": "stream",
       "stream": "stdout",
       "text": [
        "\n",
        "IV WRKSTAT is of type \"DONOTUSE\"\n",
        "IV PARTYID is of type \"DONOTUSE\""
       ]
      },
      {
       "output_type": "stream",
       "stream": "stdout",
       "text": [
        "\n",
        "IV WRKSTAT is of type \"DONOTUSE\"\n",
        "Processing article:"
       ]
      },
      {
       "output_type": "stream",
       "stream": "stdout",
       "text": [
        " 1037\n",
        "IV WRKSTAT is of type \"DONOTUSE\"\n",
        "IV XNORCSIZ is of type \"DONOTUSE\"\n",
        "IV WRKSTAT is of type \"DONOTUSE\""
       ]
      },
      {
       "output_type": "stream",
       "stream": "stdout",
       "text": [
        "\n",
        "IV XNORCSIZ is of type \"DONOTUSE\"\n",
        "The number of variables in original model is different from the number in model on future years. Skipping."
       ]
      },
      {
       "output_type": "stream",
       "stream": "stdout",
       "text": [
        "\n",
        "IV WRKSTAT is of type \"DONOTUSE\"\n",
        "IV XNORCSIZ is of type \"DONOTUSE\"\n",
        "IV WRKSTAT is of type \"DONOTUSE\""
       ]
      },
      {
       "output_type": "stream",
       "stream": "stdout",
       "text": [
        "\n",
        "IV XNORCSIZ is of type \"DONOTUSE\"\n",
        "The number of variables in original model is different from the number in model on future years. Skipping."
       ]
      },
      {
       "output_type": "stream",
       "stream": "stdout",
       "text": [
        "\n",
        "IV WRKSTAT is of type \"DONOTUSE\"\n",
        "IV XNORCSIZ is of type \"DONOTUSE\"\n",
        "IV WRKSTAT is of type \"DONOTUSE\""
       ]
      },
      {
       "output_type": "stream",
       "stream": "stdout",
       "text": [
        "\n",
        "IV XNORCSIZ is of type \"DONOTUSE\"\n",
        "The number of variables in original model is different from the number in model on future years. Skipping."
       ]
      },
      {
       "output_type": "stream",
       "stream": "stdout",
       "text": [
        "\n",
        "IV WRKSTAT is of type \"DONOTUSE\"\n",
        "IV XNORCSIZ is of type \"DONOTUSE\"\n",
        "IV WRKSTAT is of type \"DONOTUSE\""
       ]
      },
      {
       "output_type": "stream",
       "stream": "stdout",
       "text": [
        "\n",
        "IV XNORCSIZ is of type \"DONOTUSE\"\n",
        "The number of variables in original model is different from the number in model on future years. Skipping."
       ]
      },
      {
       "output_type": "stream",
       "stream": "stdout",
       "text": [
        "\n",
        "Processing article: 1041\n",
        "Couldnt construct a suitable formula\n",
        "categorical variable ETHNIC has more than 15 levels\n",
        "categorical variable ETHNIC has more than 15 levels"
       ]
      },
      {
       "output_type": "stream",
       "stream": "stdout",
       "text": [
        "\n",
        "Processing article:"
       ]
      },
      {
       "output_type": "stream",
       "stream": "stdout",
       "text": [
        " 1043\n",
        "categorical variable ETH1 has more than 15 levels\n",
        "categorical variable ETHNIC has more than 15 levels\n",
        "categorical variable REG16 has more than 15 levels\n",
        "categorical variable ETH1 has more than 15 levels"
       ]
      },
      {
       "output_type": "stream",
       "stream": "stdout",
       "text": [
        "\n",
        "categorical variable ETHNIC has more than 15 levels\n",
        "categorical variable REG16 has more than 15 levels\n",
        "The number of variables in original model is different from the number in model on future years. Skipping."
       ]
      },
      {
       "output_type": "stream",
       "stream": "stdout",
       "text": [
        "\n",
        "Processing article: 1079\n",
        "IV OCC is of type \"DONOTUSE\"\n",
        "IV PAOCC16 is of type \"DONOTUSE\"\n",
        "IV OCC is of type \"DONOTUSE\""
       ]
      },
      {
       "output_type": "stream",
       "stream": "stdout",
       "text": [
        "\n",
        "IV PAOCC16 is of type \"DONOTUSE\"\n",
        "Processing article:"
       ]
      },
      {
       "output_type": "stream",
       "stream": "stdout",
       "text": [
        " 1118\n",
        "IV PAOCC16 is of type \"DONOTUSE\"\n",
        "IV PAOCC16 is of type \"DONOTUSE\""
       ]
      },
      {
       "output_type": "stream",
       "stream": "stdout",
       "text": [
        "\n",
        "Processing article:"
       ]
      },
      {
       "output_type": "stream",
       "stream": "stdout",
       "text": [
        " 1173\n",
        "IV OCC is of type \"DONOTUSE\"\n",
        "IV OCC is of type \"DONOTUSE\""
       ]
      },
      {
       "output_type": "stream",
       "stream": "stdout",
       "text": [
        "\n",
        "Processing article:"
       ]
      },
      {
       "output_type": "stream",
       "stream": "stdout",
       "text": [
        " 1179\n",
        "categorical variable DENOM has more than 15 levels"
       ]
      },
      {
       "output_type": "stream",
       "stream": "stdout",
       "text": [
        "\n",
        "categorical variable DENOM has more than 15 levels"
       ]
      },
      {
       "output_type": "stream",
       "stream": "stdout",
       "text": [
        "\n",
        "Processing article:"
       ]
      },
      {
       "output_type": "stream",
       "stream": "stdout",
       "text": [
        " 1182\n",
        "IV XNORCSIZ is of type \"DONOTUSE\"\n",
        "IV XNORCSIZ is of type \"DONOTUSE\""
       ]
      },
      {
       "output_type": "stream",
       "stream": "stdout",
       "text": [
        "\n",
        "Couldnt construct a suitable formula"
       ]
      },
      {
       "output_type": "stream",
       "stream": "stdout",
       "text": [
        "\n",
        "IV XNORCSIZ is of type \"DONOTUSE\"\n",
        "IV XNORCSIZ is of type \"DONOTUSE\""
       ]
      },
      {
       "output_type": "stream",
       "stream": "stdout",
       "text": [
        "\n",
        "IV XNORCSIZ is of type \"DONOTUSE\""
       ]
      },
      {
       "output_type": "stream",
       "stream": "stdout",
       "text": [
        "\n",
        "IV XNORCSIZ is of type \"DONOTUSE\""
       ]
      },
      {
       "output_type": "stream",
       "stream": "stdout",
       "text": [
        "\n",
        "Processing article:"
       ]
      },
      {
       "output_type": "stream",
       "stream": "stdout",
       "text": [
        " 1210\n",
        "The number of variables in original model is different from the number in model on future years. Skipping."
       ]
      },
      {
       "output_type": "stream",
       "stream": "stdout",
       "text": [
        "\n",
        "Processing article: 1211\n",
        "Processing article:"
       ]
      },
      {
       "output_type": "stream",
       "stream": "stdout",
       "text": [
        " 1212\n",
        "categorical variable DENOM has more than 15 levels\n",
        "IV OTHER is of type \"DONOTUSE\"\n",
        "categorical variable DENOM has more than 15 levels"
       ]
      },
      {
       "output_type": "stream",
       "stream": "stdout",
       "text": [
        "\n",
        "IV OTHER is of type \"DONOTUSE\"\n",
        "Processing article:"
       ]
      },
      {
       "output_type": "stream",
       "stream": "stdout",
       "text": [
        " 1223\n",
        "Processing article:"
       ]
      },
      {
       "output_type": "stream",
       "stream": "stdout",
       "text": [
        " 1224\n",
        "Processing article:"
       ]
      },
      {
       "output_type": "stream",
       "stream": "stdout",
       "text": [
        " 1281\n",
        "Processing article:"
       ]
      },
      {
       "output_type": "stream",
       "stream": "stdout",
       "text": [
        " 1307\n",
        "IV CLASS is of type \"DONOTUSE\"\n",
        "categorical variable DENOM has more than 15 levels\n",
        "IV XNORCSIZ is of type \"DONOTUSE\"\n",
        "IV CLASS is of type \"DONOTUSE\""
       ]
      },
      {
       "output_type": "stream",
       "stream": "stdout",
       "text": [
        "\n",
        "categorical variable DENOM has more than 15 levels\n",
        "IV XNORCSIZ is of type \"DONOTUSE\"\n",
        "The number of variables in original model is different from the number in model on future years. Skipping."
       ]
      },
      {
       "output_type": "stream",
       "stream": "stdout",
       "text": [
        "\n",
        "Processing article: 1310\n",
        "IV PARTYID is of type \"DONOTUSE\"\n",
        "IV XNORCSIZ is of type \"DONOTUSE\"\n",
        "IV PARTYID is of type \"DONOTUSE\""
       ]
      },
      {
       "output_type": "stream",
       "stream": "stdout",
       "text": [
        "\n",
        "IV XNORCSIZ is of type \"DONOTUSE\"\n",
        "IV PARTYID is of type \"DONOTUSE\""
       ]
      },
      {
       "output_type": "stream",
       "stream": "stdout",
       "text": [
        "\n",
        "IV XNORCSIZ is of type \"DONOTUSE\"\n",
        "IV PARTYID is of type \"DONOTUSE\""
       ]
      },
      {
       "output_type": "stream",
       "stream": "stdout",
       "text": [
        "\n",
        "IV XNORCSIZ is of type \"DONOTUSE\"\n",
        "IV PARTYID is of type \"DONOTUSE\""
       ]
      },
      {
       "output_type": "stream",
       "stream": "stdout",
       "text": [
        "\n",
        "IV XNORCSIZ is of type \"DONOTUSE\"\n",
        "IV PARTYID is of type \"DONOTUSE\""
       ]
      },
      {
       "output_type": "stream",
       "stream": "stdout",
       "text": [
        "\n",
        "IV XNORCSIZ is of type \"DONOTUSE\"\n",
        "IV PARTYID is of type \"DONOTUSE\""
       ]
      },
      {
       "output_type": "stream",
       "stream": "stdout",
       "text": [
        "\n",
        "IV XNORCSIZ is of type \"DONOTUSE\"\n",
        "IV PARTYID is of type \"DONOTUSE\""
       ]
      },
      {
       "output_type": "stream",
       "stream": "stdout",
       "text": [
        "\n",
        "IV XNORCSIZ is of type \"DONOTUSE\"\n",
        "IV PARTYID is of type \"DONOTUSE\""
       ]
      },
      {
       "output_type": "stream",
       "stream": "stdout",
       "text": [
        "\n",
        "IV XNORCSIZ is of type \"DONOTUSE\"\n",
        "IV PARTYID is of type \"DONOTUSE\""
       ]
      },
      {
       "output_type": "stream",
       "stream": "stdout",
       "text": [
        "\n",
        "IV XNORCSIZ is of type \"DONOTUSE\"\n",
        "Processing article:"
       ]
      },
      {
       "output_type": "stream",
       "stream": "stdout",
       "text": [
        " 1311\n",
        "Processing article:"
       ]
      },
      {
       "output_type": "stream",
       "stream": "stdout",
       "text": [
        " 1312\n",
        "IV XNORCSIZ is of type \"DONOTUSE\"\n",
        "IV XNORCSIZ is of type \"DONOTUSE\""
       ]
      },
      {
       "output_type": "stream",
       "stream": "stdout",
       "text": [
        "\n",
        "Processing article:"
       ]
      },
      {
       "output_type": "stream",
       "stream": "stdout",
       "text": [
        " 1313\n",
        "IV XNORCSIZ is of type \"DONOTUSE\"\n",
        "IV XNORCSIZ is of type \"DONOTUSE\""
       ]
      },
      {
       "output_type": "stream",
       "stream": "stdout",
       "text": [
        "\n",
        "Processing article:"
       ]
      },
      {
       "output_type": "stream",
       "stream": "stdout",
       "text": [
        " 1314\n",
        "IV XNORCSIZ is of type \"DONOTUSE\"\n",
        "IV XNORCSIZ is of type \"DONOTUSE\""
       ]
      },
      {
       "output_type": "stream",
       "stream": "stdout",
       "text": [
        "\n",
        "The number of variables in original model is different from the number in model on future years. Skipping."
       ]
      },
      {
       "output_type": "stream",
       "stream": "stdout",
       "text": [
        "\n",
        "IV XNORCSIZ is of type \"DONOTUSE\"\n",
        "IV XNORCSIZ is of type \"DONOTUSE\""
       ]
      },
      {
       "output_type": "stream",
       "stream": "stdout",
       "text": [
        "\n",
        "The number of variables in original model is different from the number in model on future years. Skipping."
       ]
      },
      {
       "output_type": "stream",
       "stream": "stdout",
       "text": [
        "\n",
        "IV XNORCSIZ is of type \"DONOTUSE\"\n",
        "IV XNORCSIZ is of type \"DONOTUSE\""
       ]
      },
      {
       "output_type": "stream",
       "stream": "stdout",
       "text": [
        "\n",
        "The number of variables in original model is different from the number in model on future years. Skipping."
       ]
      },
      {
       "output_type": "stream",
       "stream": "stdout",
       "text": [
        "\n",
        "IV XNORCSIZ is of type \"DONOTUSE\"\n",
        "IV XNORCSIZ is of type \"DONOTUSE\""
       ]
      },
      {
       "output_type": "stream",
       "stream": "stdout",
       "text": [
        "\n",
        "The number of variables in original model is different from the number in model on future years. Skipping."
       ]
      },
      {
       "output_type": "stream",
       "stream": "stdout",
       "text": [
        "\n",
        "IV XNORCSIZ is of type \"DONOTUSE\"\n",
        "IV XNORCSIZ is of type \"DONOTUSE\""
       ]
      },
      {
       "output_type": "stream",
       "stream": "stdout",
       "text": [
        "\n",
        "The number of variables in original model is different from the number in model on future years. Skipping."
       ]
      },
      {
       "output_type": "stream",
       "stream": "stdout",
       "text": [
        "\n",
        "Processing article: 1315\n",
        "Processing article:"
       ]
      },
      {
       "output_type": "stream",
       "stream": "stdout",
       "text": [
        " 1324\n",
        "Processing article:"
       ]
      },
      {
       "output_type": "stream",
       "stream": "stdout",
       "text": [
        " 1340\n",
        "categorical variable DENOM has more than 15 levels\n",
        "IV OTHER is of type \"DONOTUSE\"\n",
        "IV XNORCSIZ is of type \"DONOTUSE\"\n",
        "categorical variable DENOM has more than 15 levels"
       ]
      },
      {
       "output_type": "stream",
       "stream": "stdout",
       "text": [
        "\n",
        "IV OTHER is of type \"DONOTUSE\"\n",
        "IV XNORCSIZ is of type \"DONOTUSE\"\n",
        "The number of variables in original model is different from the number in model on future years. Skipping."
       ]
      },
      {
       "output_type": "stream",
       "stream": "stdout",
       "text": [
        "\n",
        "categorical variable DENOM has more than 15 levels\n",
        "IV OTHER is of type \"DONOTUSE\"\n",
        "IV XNORCSIZ is of type \"DONOTUSE\"\n",
        "categorical variable DENOM has more than 15 levels"
       ]
      },
      {
       "output_type": "stream",
       "stream": "stdout",
       "text": [
        "\n",
        "IV OTHER is of type \"DONOTUSE\"\n",
        "IV XNORCSIZ is of type \"DONOTUSE\"\n",
        "The number of variables in original model is different from the number in model on future years. Skipping."
       ]
      },
      {
       "output_type": "stream",
       "stream": "stdout",
       "text": [
        "\n",
        "categorical variable DENOM has more than 15 levels\n",
        "IV OTHER is of type \"DONOTUSE\"\n",
        "IV XNORCSIZ is of type \"DONOTUSE\"\n",
        "categorical variable DENOM has more than 15 levels"
       ]
      },
      {
       "output_type": "stream",
       "stream": "stdout",
       "text": [
        "\n",
        "IV OTHER is of type \"DONOTUSE\"\n",
        "IV XNORCSIZ is of type \"DONOTUSE\"\n",
        "The number of variables in original model is different from the number in model on future years. Skipping."
       ]
      },
      {
       "output_type": "stream",
       "stream": "stdout",
       "text": [
        "\n",
        "Processing article: 1341\n",
        "categorical variable DENOM has more than 15 levels\n",
        "IV OTHER is of type \"DONOTUSE\"\n",
        "IV SRCBELT is of type \"DONOTUSE\"\n",
        "categorical variable DENOM has more than 15 levels"
       ]
      },
      {
       "output_type": "stream",
       "stream": "stdout",
       "text": [
        "\n",
        "IV OTHER is of type \"DONOTUSE\"\n",
        "IV SRCBELT is of type \"DONOTUSE\"\n",
        "categorical variable DENOM has more than 15 levels"
       ]
      },
      {
       "output_type": "stream",
       "stream": "stdout",
       "text": [
        "\n",
        "IV OTHER is of type \"DONOTUSE\"\n",
        "IV SRCBELT is of type \"DONOTUSE\"\n",
        "categorical variable DENOM has more than 15 levels"
       ]
      },
      {
       "output_type": "stream",
       "stream": "stdout",
       "text": [
        "\n",
        "IV OTHER is of type \"DONOTUSE\"\n",
        "IV SRCBELT is of type \"DONOTUSE\"\n",
        "Processing article:"
       ]
      },
      {
       "output_type": "stream",
       "stream": "stdout",
       "text": [
        " 1346\n",
        "The number of variables in original model is different from the number in model on future years. Skipping."
       ]
      },
      {
       "output_type": "stream",
       "stream": "stdout",
       "text": [
        "\n",
        "The number of variables in original model is different from the number in model on future years. Skipping."
       ]
      },
      {
       "output_type": "stream",
       "stream": "stdout",
       "text": [
        "\n",
        "The number of variables in original model is different from the number in model on future years. Skipping."
       ]
      },
      {
       "output_type": "stream",
       "stream": "stdout",
       "text": [
        "\n",
        "The number of variables in original model is different from the number in model on future years. Skipping."
       ]
      },
      {
       "output_type": "stream",
       "stream": "stdout",
       "text": [
        "\n",
        "The number of variables in original model is different from the number in model on future years. Skipping."
       ]
      },
      {
       "output_type": "stream",
       "stream": "stdout",
       "text": [
        "\n",
        "The number of variables in original model is different from the number in model on future years. Skipping."
       ]
      },
      {
       "output_type": "stream",
       "stream": "stdout",
       "text": [
        "\n",
        "The number of variables in original model is different from the number in model on future years. Skipping."
       ]
      },
      {
       "output_type": "stream",
       "stream": "stdout",
       "text": [
        "\n",
        "The number of variables in original model is different from the number in model on future years. Skipping."
       ]
      },
      {
       "output_type": "stream",
       "stream": "stdout",
       "text": [
        "\n",
        "The number of variables in original model is different from the number in model on future years. Skipping."
       ]
      },
      {
       "output_type": "stream",
       "stream": "stdout",
       "text": [
        "\n",
        "The number of variables in original model is different from the number in model on future years. Skipping."
       ]
      },
      {
       "output_type": "stream",
       "stream": "stdout",
       "text": [
        "\n",
        "The number of variables in original model is different from the number in model on future years. Skipping."
       ]
      },
      {
       "output_type": "stream",
       "stream": "stdout",
       "text": [
        "\n",
        "Processing article: 1347\n",
        "Processing article:"
       ]
      },
      {
       "output_type": "stream",
       "stream": "stdout",
       "text": [
        " 1355\n",
        "Processing article:"
       ]
      },
      {
       "output_type": "stream",
       "stream": "stdout",
       "text": [
        " 1361\n",
        "The number of variables in original model is different from the number in model on future years. Skipping."
       ]
      },
      {
       "output_type": "stream",
       "stream": "stdout",
       "text": [
        "\n",
        "The number of variables in original model is different from the number in model on future years. Skipping."
       ]
      },
      {
       "output_type": "stream",
       "stream": "stdout",
       "text": [
        "\n",
        "Processing article: 1362\n",
        "The number of variables in original model is different from the number in model on future years. Skipping."
       ]
      },
      {
       "output_type": "stream",
       "stream": "stdout",
       "text": [
        "\n",
        "The number of variables in original model is different from the number in model on future years. Skipping."
       ]
      },
      {
       "output_type": "stream",
       "stream": "stdout",
       "text": [
        "\n",
        "Couldnt construct a suitable formula\n",
        "Processing article: 1365\n",
        "categorical variable DENOM has more than 15 levels\n",
        "IV OTHER is of type \"DONOTUSE\"\n",
        "IV XNORCSIZ is of type \"DONOTUSE\"\n",
        "categorical variable DENOM has more than 15 levels"
       ]
      },
      {
       "output_type": "stream",
       "stream": "stdout",
       "text": [
        "\n",
        "IV OTHER is of type \"DONOTUSE\"\n",
        "IV XNORCSIZ is of type \"DONOTUSE\"\n",
        "categorical variable DENOM has more than 15 levels"
       ]
      },
      {
       "output_type": "stream",
       "stream": "stdout",
       "text": [
        "\n",
        "IV OTHER is of type \"DONOTUSE\"\n",
        "IV XNORCSIZ is of type \"DONOTUSE\"\n",
        "categorical variable DENOM has more than 15 levels"
       ]
      },
      {
       "output_type": "stream",
       "stream": "stdout",
       "text": [
        "\n",
        "IV OTHER is of type \"DONOTUSE\"\n",
        "IV XNORCSIZ is of type \"DONOTUSE\"\n",
        "categorical variable DENOM has more than 15 levels"
       ]
      },
      {
       "output_type": "stream",
       "stream": "stdout",
       "text": [
        "\n",
        "IV OTHER is of type \"DONOTUSE\"\n",
        "IV XNORCSIZ is of type \"DONOTUSE\"\n",
        "categorical variable DENOM has more than 15 levels"
       ]
      },
      {
       "output_type": "stream",
       "stream": "stdout",
       "text": [
        "\n",
        "IV OTHER is of type \"DONOTUSE\"\n",
        "IV XNORCSIZ is of type \"DONOTUSE\"\n",
        "categorical variable DENOM has more than 15 levels"
       ]
      },
      {
       "output_type": "stream",
       "stream": "stdout",
       "text": [
        "\n",
        "IV OTHER is of type \"DONOTUSE\"\n",
        "IV XNORCSIZ is of type \"DONOTUSE\"\n",
        "categorical variable DENOM has more than 15 levels"
       ]
      },
      {
       "output_type": "stream",
       "stream": "stdout",
       "text": [
        "\n",
        "IV OTHER is of type \"DONOTUSE\"\n",
        "IV XNORCSIZ is of type \"DONOTUSE\"\n",
        "categorical variable DENOM has more than 15 levels"
       ]
      },
      {
       "output_type": "stream",
       "stream": "stdout",
       "text": [
        "\n",
        "IV OTHER is of type \"DONOTUSE\"\n",
        "IV XNORCSIZ is of type \"DONOTUSE\"\n",
        "categorical variable DENOM has more than 15 levels"
       ]
      },
      {
       "output_type": "stream",
       "stream": "stdout",
       "text": [
        "\n",
        "IV OTHER is of type \"DONOTUSE\"\n",
        "IV XNORCSIZ is of type \"DONOTUSE\"\n",
        "categorical variable DENOM has more than 15 levels"
       ]
      },
      {
       "output_type": "stream",
       "stream": "stdout",
       "text": [
        "\n",
        "IV OTHER is of type \"DONOTUSE\"\n",
        "IV XNORCSIZ is of type \"DONOTUSE\"\n",
        "categorical variable DENOM has more than 15 levels"
       ]
      },
      {
       "output_type": "stream",
       "stream": "stdout",
       "text": [
        "\n",
        "IV OTHER is of type \"DONOTUSE\"\n",
        "IV XNORCSIZ is of type \"DONOTUSE\"\n",
        "Processing article:"
       ]
      },
      {
       "output_type": "stream",
       "stream": "stdout",
       "text": [
        " 1370\n",
        "Couldnt construct a suitable formula\n",
        "Processing article: 1390\n",
        "IV BIBLE is of type \"DONOTUSE\"\n",
        "categorical variable DENOM has more than 15 levels\n",
        "IV PARTYID is of type \"DONOTUSE\"\n",
        "IV SRCBELT is of type \"DONOTUSE\"\n",
        "IV BIBLE is of type \"DONOTUSE\""
       ]
      },
      {
       "output_type": "stream",
       "stream": "stdout",
       "text": [
        "\n",
        "categorical variable DENOM has more than 15 levels\n",
        "IV PARTYID is of type \"DONOTUSE\"\n",
        "IV SRCBELT is of type \"DONOTUSE\"\n",
        "IV BIBLE is of type \"DONOTUSE\""
       ]
      },
      {
       "output_type": "stream",
       "stream": "stdout",
       "text": [
        "\n",
        "categorical variable DENOM has more than 15 levels\n",
        "IV PARTYID is of type \"DONOTUSE\"\n",
        "IV SRCBELT is of type \"DONOTUSE\"\n",
        "IV BIBLE is of type \"DONOTUSE\""
       ]
      },
      {
       "output_type": "stream",
       "stream": "stdout",
       "text": [
        "\n",
        "categorical variable DENOM has more than 15 levels\n",
        "IV PARTYID is of type \"DONOTUSE\"\n",
        "IV SRCBELT is of type \"DONOTUSE\"\n",
        "IV BIBLE is of type \"DONOTUSE\""
       ]
      },
      {
       "output_type": "stream",
       "stream": "stdout",
       "text": [
        "\n",
        "categorical variable DENOM has more than 15 levels\n",
        "IV PARTYID is of type \"DONOTUSE\"\n",
        "IV SRCBELT is of type \"DONOTUSE\"\n",
        "IV BIBLE is of type \"DONOTUSE\""
       ]
      },
      {
       "output_type": "stream",
       "stream": "stdout",
       "text": [
        "\n",
        "categorical variable DENOM has more than 15 levels\n",
        "IV PARTYID is of type \"DONOTUSE\"\n",
        "IV SRCBELT is of type \"DONOTUSE\"\n",
        "IV BIBLE is of type \"DONOTUSE\""
       ]
      },
      {
       "output_type": "stream",
       "stream": "stdout",
       "text": [
        "\n",
        "categorical variable DENOM has more than 15 levels\n",
        "IV PARTYID is of type \"DONOTUSE\"\n",
        "IV SRCBELT is of type \"DONOTUSE\"\n",
        "IV BIBLE is of type \"DONOTUSE\""
       ]
      },
      {
       "output_type": "stream",
       "stream": "stdout",
       "text": [
        "\n",
        "categorical variable DENOM has more than 15 levels\n",
        "IV PARTYID is of type \"DONOTUSE\"\n",
        "IV SRCBELT is of type \"DONOTUSE\"\n",
        "IV BIBLE is of type \"DONOTUSE\""
       ]
      },
      {
       "output_type": "stream",
       "stream": "stdout",
       "text": [
        "\n",
        "categorical variable DENOM has more than 15 levels\n",
        "IV PARTYID is of type \"DONOTUSE\"\n",
        "IV SRCBELT is of type \"DONOTUSE\"\n",
        "IV BIBLE is of type \"DONOTUSE\""
       ]
      },
      {
       "output_type": "stream",
       "stream": "stdout",
       "text": [
        "\n",
        "categorical variable DENOM has more than 15 levels\n",
        "IV PARTYID is of type \"DONOTUSE\"\n",
        "IV SRCBELT is of type \"DONOTUSE\"\n",
        "IV BIBLE is of type \"DONOTUSE\""
       ]
      },
      {
       "output_type": "stream",
       "stream": "stdout",
       "text": [
        "\n",
        "categorical variable DENOM has more than 15 levels\n",
        "IV PARTYID is of type \"DONOTUSE\"\n",
        "IV SRCBELT is of type \"DONOTUSE\"\n",
        "IV BIBLE is of type \"DONOTUSE\""
       ]
      },
      {
       "output_type": "stream",
       "stream": "stdout",
       "text": [
        "\n",
        "categorical variable DENOM has more than 15 levels\n",
        "IV PARTYID is of type \"DONOTUSE\"\n",
        "IV SRCBELT is of type \"DONOTUSE\"\n",
        "Processing article:"
       ]
      },
      {
       "output_type": "stream",
       "stream": "stdout",
       "text": [
        " 1404\n",
        "Processing article:"
       ]
      },
      {
       "output_type": "stream",
       "stream": "stdout",
       "text": [
        " 1447\n",
        "categorical variable REG16 has more than 15 levels\n",
        "categorical variable REG16 has more than 15 levels"
       ]
      },
      {
       "output_type": "stream",
       "stream": "stdout",
       "text": [
        "\n",
        "categorical variable REG16 has more than 15 levels"
       ]
      },
      {
       "output_type": "stream",
       "stream": "stdout",
       "text": [
        "\n",
        "categorical variable REG16 has more than 15 levels"
       ]
      },
      {
       "output_type": "stream",
       "stream": "stdout",
       "text": [
        "\n",
        "categorical variable REG16 has more than 15 levels"
       ]
      },
      {
       "output_type": "stream",
       "stream": "stdout",
       "text": [
        "\n",
        "categorical variable REG16 has more than 15 levels"
       ]
      },
      {
       "output_type": "stream",
       "stream": "stdout",
       "text": [
        "\n",
        "Processing article:"
       ]
      },
      {
       "output_type": "stream",
       "stream": "stdout",
       "text": [
        " 1484\n",
        "IV OCC is of type \"DONOTUSE\"\n",
        "IV OCC is of type \"DONOTUSE\""
       ]
      },
      {
       "output_type": "stream",
       "stream": "stdout",
       "text": [
        "\n",
        "IV OCC is of type \"DONOTUSE\""
       ]
      },
      {
       "output_type": "stream",
       "stream": "stdout",
       "text": [
        "\n",
        "IV OCC is of type \"DONOTUSE\""
       ]
      },
      {
       "output_type": "stream",
       "stream": "stdout",
       "text": [
        "\n",
        "IV OCC is of type \"DONOTUSE\""
       ]
      },
      {
       "output_type": "stream",
       "stream": "stdout",
       "text": [
        "\n",
        "IV OCC is of type \"DONOTUSE\""
       ]
      },
      {
       "output_type": "stream",
       "stream": "stdout",
       "text": [
        "\n",
        "IV OCC is of type \"DONOTUSE\""
       ]
      },
      {
       "output_type": "stream",
       "stream": "stdout",
       "text": [
        "\n",
        "IV OCC is of type \"DONOTUSE\""
       ]
      },
      {
       "output_type": "stream",
       "stream": "stdout",
       "text": [
        "\n",
        "IV OCC is of type \"DONOTUSE\""
       ]
      },
      {
       "output_type": "stream",
       "stream": "stdout",
       "text": [
        "\n",
        "IV OCC is of type \"DONOTUSE\""
       ]
      },
      {
       "output_type": "stream",
       "stream": "stdout",
       "text": [
        "\n",
        "IV OCC is of type \"DONOTUSE\""
       ]
      },
      {
       "output_type": "stream",
       "stream": "stdout",
       "text": [
        "\n",
        "IV OCC is of type \"DONOTUSE\""
       ]
      },
      {
       "output_type": "stream",
       "stream": "stdout",
       "text": [
        "\n",
        "IV OCC is of type \"DONOTUSE\""
       ]
      },
      {
       "output_type": "stream",
       "stream": "stdout",
       "text": [
        "\n",
        "IV OCC is of type \"DONOTUSE\""
       ]
      },
      {
       "output_type": "stream",
       "stream": "stdout",
       "text": [
        "\n",
        "IV OCC is of type \"DONOTUSE\""
       ]
      },
      {
       "output_type": "stream",
       "stream": "stdout",
       "text": [
        "\n",
        "IV OCC is of type \"DONOTUSE\""
       ]
      },
      {
       "output_type": "stream",
       "stream": "stdout",
       "text": [
        "\n",
        "IV OCC is of type \"DONOTUSE\""
       ]
      },
      {
       "output_type": "stream",
       "stream": "stdout",
       "text": [
        "\n",
        "IV OCC is of type \"DONOTUSE\""
       ]
      },
      {
       "output_type": "stream",
       "stream": "stdout",
       "text": [
        "\n",
        "IV OCC is of type \"DONOTUSE\""
       ]
      },
      {
       "output_type": "stream",
       "stream": "stdout",
       "text": [
        "\n",
        "IV OCC is of type \"DONOTUSE\""
       ]
      },
      {
       "output_type": "stream",
       "stream": "stdout",
       "text": [
        "\n",
        "Processing article:"
       ]
      },
      {
       "output_type": "stream",
       "stream": "stdout",
       "text": [
        " 1510\n",
        "IV WRKSTAT is of type \"DONOTUSE\"\n",
        "IV XNORCSIZ is of type \"DONOTUSE\"\n",
        "IV WRKSTAT is of type \"DONOTUSE\""
       ]
      },
      {
       "output_type": "stream",
       "stream": "stdout",
       "text": [
        "\n",
        "IV XNORCSIZ is of type \"DONOTUSE\"\n",
        "Processing article:"
       ]
      },
      {
       "output_type": "stream",
       "stream": "stdout",
       "text": [
        " 1521\n",
        "Processing article:"
       ]
      },
      {
       "output_type": "stream",
       "stream": "stdout",
       "text": [
        " 1525\n",
        "IV OCC is of type \"DONOTUSE\"\n",
        "IV OCC is of type \"DONOTUSE\""
       ]
      },
      {
       "output_type": "stream",
       "stream": "stdout",
       "text": [
        "\n",
        "IV OCC is of type \"DONOTUSE\""
       ]
      },
      {
       "output_type": "stream",
       "stream": "stdout",
       "text": [
        "\n",
        "IV OCC is of type \"DONOTUSE\""
       ]
      },
      {
       "output_type": "stream",
       "stream": "stdout",
       "text": [
        "\n",
        "IV OCC is of type \"DONOTUSE\""
       ]
      },
      {
       "output_type": "stream",
       "stream": "stdout",
       "text": [
        "\n",
        "IV OCC is of type \"DONOTUSE\""
       ]
      },
      {
       "output_type": "stream",
       "stream": "stdout",
       "text": [
        "\n",
        "IV OCC is of type \"DONOTUSE\""
       ]
      },
      {
       "output_type": "stream",
       "stream": "stdout",
       "text": [
        "\n",
        "IV OCC is of type \"DONOTUSE\""
       ]
      },
      {
       "output_type": "stream",
       "stream": "stdout",
       "text": [
        "\n",
        "IV OCC is of type \"DONOTUSE\""
       ]
      },
      {
       "output_type": "stream",
       "stream": "stdout",
       "text": [
        "\n",
        "IV OCC is of type \"DONOTUSE\""
       ]
      },
      {
       "output_type": "stream",
       "stream": "stdout",
       "text": [
        "\n",
        "IV OCC is of type \"DONOTUSE\""
       ]
      },
      {
       "output_type": "stream",
       "stream": "stdout",
       "text": [
        "\n",
        "IV OCC is of type \"DONOTUSE\""
       ]
      },
      {
       "output_type": "stream",
       "stream": "stdout",
       "text": [
        "\n",
        "IV OCC is of type \"DONOTUSE\""
       ]
      },
      {
       "output_type": "stream",
       "stream": "stdout",
       "text": [
        "\n",
        "IV OCC is of type \"DONOTUSE\""
       ]
      },
      {
       "output_type": "stream",
       "stream": "stdout",
       "text": [
        "\n",
        "IV OCC is of type \"DONOTUSE\""
       ]
      },
      {
       "output_type": "stream",
       "stream": "stdout",
       "text": [
        "\n",
        "IV OCC is of type \"DONOTUSE\""
       ]
      },
      {
       "output_type": "stream",
       "stream": "stdout",
       "text": [
        "\n",
        "IV OCC is of type \"DONOTUSE\""
       ]
      },
      {
       "output_type": "stream",
       "stream": "stdout",
       "text": [
        "\n",
        "IV OCC is of type \"DONOTUSE\""
       ]
      },
      {
       "output_type": "stream",
       "stream": "stdout",
       "text": [
        "\n",
        "IV OCC is of type \"DONOTUSE\""
       ]
      },
      {
       "output_type": "stream",
       "stream": "stdout",
       "text": [
        "\n",
        "IV OCC is of type \"DONOTUSE\""
       ]
      },
      {
       "output_type": "stream",
       "stream": "stdout",
       "text": [
        "\n",
        "IV OCC is of type \"DONOTUSE\""
       ]
      },
      {
       "output_type": "stream",
       "stream": "stdout",
       "text": [
        "\n",
        "IV OCC is of type \"DONOTUSE\""
       ]
      },
      {
       "output_type": "stream",
       "stream": "stdout",
       "text": [
        "\n",
        "IV OCC is of type \"DONOTUSE\""
       ]
      },
      {
       "output_type": "stream",
       "stream": "stdout",
       "text": [
        "\n",
        "IV OCC is of type \"DONOTUSE\""
       ]
      },
      {
       "output_type": "stream",
       "stream": "stdout",
       "text": [
        "\n",
        "IV OCC is of type \"DONOTUSE\""
       ]
      },
      {
       "output_type": "stream",
       "stream": "stdout",
       "text": [
        "\n",
        "IV OCC is of type \"DONOTUSE\""
       ]
      },
      {
       "output_type": "stream",
       "stream": "stdout",
       "text": [
        "\n",
        "IV OCC is of type \"DONOTUSE\""
       ]
      },
      {
       "output_type": "stream",
       "stream": "stdout",
       "text": [
        "\n",
        "IV OCC is of type \"DONOTUSE\""
       ]
      },
      {
       "output_type": "stream",
       "stream": "stdout",
       "text": [
        "\n",
        "IV OCC is of type \"DONOTUSE\""
       ]
      },
      {
       "output_type": "stream",
       "stream": "stdout",
       "text": [
        "\n",
        "IV OCC is of type \"DONOTUSE\""
       ]
      },
      {
       "output_type": "stream",
       "stream": "stdout",
       "text": [
        "\n",
        "IV OCC is of type \"DONOTUSE\""
       ]
      },
      {
       "output_type": "stream",
       "stream": "stdout",
       "text": [
        "\n",
        "IV OCC is of type \"DONOTUSE\""
       ]
      },
      {
       "output_type": "stream",
       "stream": "stdout",
       "text": [
        "\n",
        "Processing article:"
       ]
      },
      {
       "output_type": "stream",
       "stream": "stdout",
       "text": [
        " 1530\n",
        "Processing article:"
       ]
      },
      {
       "output_type": "stream",
       "stream": "stdout",
       "text": [
        " 1538\n",
        "Processing article:"
       ]
      },
      {
       "output_type": "stream",
       "stream": "stdout",
       "text": [
        " 1547\n",
        "Processing article:"
       ]
      },
      {
       "output_type": "stream",
       "stream": "stdout",
       "text": [
        " 1565\n",
        "Processing article:"
       ]
      },
      {
       "output_type": "stream",
       "stream": "stdout",
       "text": [
        " 1569\n",
        "categorical variable DENOM has more than 15 levels\n",
        "IV SRCBELT is of type \"DONOTUSE\"\n",
        "categorical variable DENOM has more than 15 levels"
       ]
      },
      {
       "output_type": "stream",
       "stream": "stdout",
       "text": [
        "\n",
        "IV SRCBELT is of type \"DONOTUSE\"\n",
        "categorical variable DENOM has more than 15 levels"
       ]
      },
      {
       "output_type": "stream",
       "stream": "stdout",
       "text": [
        "\n",
        "IV SRCBELT is of type \"DONOTUSE\"\n",
        "categorical variable DENOM has more than 15 levels"
       ]
      },
      {
       "output_type": "stream",
       "stream": "stdout",
       "text": [
        "\n",
        "IV SRCBELT is of type \"DONOTUSE\"\n",
        "categorical variable DENOM has more than 15 levels"
       ]
      },
      {
       "output_type": "stream",
       "stream": "stdout",
       "text": [
        "\n",
        "IV SRCBELT is of type \"DONOTUSE\"\n",
        "categorical variable DENOM has more than 15 levels"
       ]
      },
      {
       "output_type": "stream",
       "stream": "stdout",
       "text": [
        "\n",
        "IV SRCBELT is of type \"DONOTUSE\"\n",
        "categorical variable DENOM has more than 15 levels"
       ]
      },
      {
       "output_type": "stream",
       "stream": "stdout",
       "text": [
        "\n",
        "IV SRCBELT is of type \"DONOTUSE\"\n",
        "categorical variable DENOM has more than 15 levels"
       ]
      },
      {
       "output_type": "stream",
       "stream": "stdout",
       "text": [
        "\n",
        "IV SRCBELT is of type \"DONOTUSE\"\n",
        "categorical variable DENOM has more than 15 levels"
       ]
      },
      {
       "output_type": "stream",
       "stream": "stdout",
       "text": [
        "\n",
        "IV SRCBELT is of type \"DONOTUSE\"\n",
        "categorical variable DENOM has more than 15 levels"
       ]
      },
      {
       "output_type": "stream",
       "stream": "stdout",
       "text": [
        "\n",
        "IV SRCBELT is of type \"DONOTUSE\"\n",
        "categorical variable DENOM has more than 15 levels"
       ]
      },
      {
       "output_type": "stream",
       "stream": "stdout",
       "text": [
        "\n",
        "IV SRCBELT is of type \"DONOTUSE\"\n",
        "categorical variable DENOM has more than 15 levels"
       ]
      },
      {
       "output_type": "stream",
       "stream": "stdout",
       "text": [
        "\n",
        "IV SRCBELT is of type \"DONOTUSE\"\n",
        "Processing article:"
       ]
      },
      {
       "output_type": "stream",
       "stream": "stdout",
       "text": [
        " 1570\n",
        "Couldnt construct a suitable formula\n",
        "Processing article:"
       ]
      },
      {
       "output_type": "stream",
       "stream": "stdout",
       "text": [
        " 1605\n",
        "Processing article:"
       ]
      },
      {
       "output_type": "stream",
       "stream": "stdout",
       "text": [
        " 1609\n",
        "IV PARTYID is of type \"DONOTUSE\"\n",
        "IV PARTYID is of type \"DONOTUSE\""
       ]
      },
      {
       "output_type": "stream",
       "stream": "stdout",
       "text": [
        "\n",
        "The number of variables in original model is different from the number in model on future years. Skipping."
       ]
      },
      {
       "output_type": "stream",
       "stream": "stdout",
       "text": [
        "\n",
        "IV PARTYID is of type \"DONOTUSE\"\n",
        "IV PARTYID is of type \"DONOTUSE\""
       ]
      },
      {
       "output_type": "stream",
       "stream": "stdout",
       "text": [
        "\n",
        "The number of variables in original model is different from the number in model on future years. Skipping."
       ]
      },
      {
       "output_type": "stream",
       "stream": "stdout",
       "text": [
        "\n",
        "IV PARTYID is of type \"DONOTUSE\"\n",
        "IV PARTYID is of type \"DONOTUSE\""
       ]
      },
      {
       "output_type": "stream",
       "stream": "stdout",
       "text": [
        "\n",
        "The number of variables in original model is different from the number in model on future years. Skipping."
       ]
      },
      {
       "output_type": "stream",
       "stream": "stdout",
       "text": [
        "\n",
        "IV PARTYID is of type \"DONOTUSE\"\n",
        "IV PARTYID is of type \"DONOTUSE\""
       ]
      },
      {
       "output_type": "stream",
       "stream": "stdout",
       "text": [
        "\n",
        "The number of variables in original model is different from the number in model on future years. Skipping."
       ]
      },
      {
       "output_type": "stream",
       "stream": "stdout",
       "text": [
        "\n",
        "IV PARTYID is of type \"DONOTUSE\"\n",
        "IV PARTYID is of type \"DONOTUSE\""
       ]
      },
      {
       "output_type": "stream",
       "stream": "stdout",
       "text": [
        "\n",
        "The number of variables in original model is different from the number in model on future years. Skipping."
       ]
      },
      {
       "output_type": "stream",
       "stream": "stdout",
       "text": [
        "\n",
        "IV PARTYID is of type \"DONOTUSE\"\n",
        "IV PARTYID is of type \"DONOTUSE\""
       ]
      },
      {
       "output_type": "stream",
       "stream": "stdout",
       "text": [
        "\n",
        "The number of variables in original model is different from the number in model on future years. Skipping."
       ]
      },
      {
       "output_type": "stream",
       "stream": "stdout",
       "text": [
        "\n",
        "IV PARTYID is of type \"DONOTUSE\"\n",
        "IV PARTYID is of type \"DONOTUSE\""
       ]
      },
      {
       "output_type": "stream",
       "stream": "stdout",
       "text": [
        "\n",
        "The number of variables in original model is different from the number in model on future years. Skipping."
       ]
      },
      {
       "output_type": "stream",
       "stream": "stdout",
       "text": [
        "\n",
        "IV PARTYID is of type \"DONOTUSE\"\n",
        "IV PARTYID is of type \"DONOTUSE\""
       ]
      },
      {
       "output_type": "stream",
       "stream": "stdout",
       "text": [
        "\n",
        "The number of variables in original model is different from the number in model on future years. Skipping."
       ]
      },
      {
       "output_type": "stream",
       "stream": "stdout",
       "text": [
        "\n",
        "Couldnt construct a suitable formula\n",
        "IV PARTYID is of type \"DONOTUSE\"\n",
        "IV PARTYID is of type \"DONOTUSE\""
       ]
      },
      {
       "output_type": "stream",
       "stream": "stdout",
       "text": [
        "\n",
        "The number of variables in original model is different from the number in model on future years. Skipping."
       ]
      },
      {
       "output_type": "stream",
       "stream": "stdout",
       "text": [
        "\n",
        "IV PARTYID is of type \"DONOTUSE\"\n",
        "IV PARTYID is of type \"DONOTUSE\""
       ]
      },
      {
       "output_type": "stream",
       "stream": "stdout",
       "text": [
        "\n",
        "The number of variables in original model is different from the number in model on future years. Skipping."
       ]
      },
      {
       "output_type": "stream",
       "stream": "stdout",
       "text": [
        "\n",
        "IV PARTYID is of type \"DONOTUSE\"\n",
        "IV PARTYID is of type \"DONOTUSE\""
       ]
      },
      {
       "output_type": "stream",
       "stream": "stdout",
       "text": [
        "\n",
        "The number of variables in original model is different from the number in model on future years. Skipping."
       ]
      },
      {
       "output_type": "stream",
       "stream": "stdout",
       "text": [
        "\n",
        "IV PARTYID is of type \"DONOTUSE\"\n",
        "IV PARTYID is of type \"DONOTUSE\""
       ]
      },
      {
       "output_type": "stream",
       "stream": "stdout",
       "text": [
        "\n",
        "The number of variables in original model is different from the number in model on future years. Skipping."
       ]
      },
      {
       "output_type": "stream",
       "stream": "stdout",
       "text": [
        "\n",
        "IV PARTYID is of type \"DONOTUSE\"\n",
        "IV PARTYID is of type \"DONOTUSE\""
       ]
      },
      {
       "output_type": "stream",
       "stream": "stdout",
       "text": [
        "\n",
        "The number of variables in original model is different from the number in model on future years. Skipping."
       ]
      },
      {
       "output_type": "stream",
       "stream": "stdout",
       "text": [
        "\n",
        "IV PARTYID is of type \"DONOTUSE\"\n",
        "IV PARTYID is of type \"DONOTUSE\""
       ]
      },
      {
       "output_type": "stream",
       "stream": "stdout",
       "text": [
        "\n",
        "The number of variables in original model is different from the number in model on future years. Skipping."
       ]
      },
      {
       "output_type": "stream",
       "stream": "stdout",
       "text": [
        "\n",
        "IV PARTYID is of type \"DONOTUSE\"\n",
        "IV PARTYID is of type \"DONOTUSE\""
       ]
      },
      {
       "output_type": "stream",
       "stream": "stdout",
       "text": [
        "\n",
        "The number of variables in original model is different from the number in model on future years. Skipping."
       ]
      },
      {
       "output_type": "stream",
       "stream": "stdout",
       "text": [
        "\n",
        "IV PARTYID is of type \"DONOTUSE\"\n",
        "IV PARTYID is of type \"DONOTUSE\""
       ]
      },
      {
       "output_type": "stream",
       "stream": "stdout",
       "text": [
        "\n",
        "The number of variables in original model is different from the number in model on future years. Skipping."
       ]
      },
      {
       "output_type": "stream",
       "stream": "stdout",
       "text": [
        "\n",
        "IV PARTYID is of type \"DONOTUSE\"\n",
        "IV PARTYID is of type \"DONOTUSE\""
       ]
      },
      {
       "output_type": "stream",
       "stream": "stdout",
       "text": [
        "\n",
        "The number of variables in original model is different from the number in model on future years. Skipping."
       ]
      },
      {
       "output_type": "stream",
       "stream": "stdout",
       "text": [
        "\n",
        "IV PARTYID is of type \"DONOTUSE\"\n",
        "IV PARTYID is of type \"DONOTUSE\""
       ]
      },
      {
       "output_type": "stream",
       "stream": "stdout",
       "text": [
        "\n",
        "The number of variables in original model is different from the number in model on future years. Skipping."
       ]
      },
      {
       "output_type": "stream",
       "stream": "stdout",
       "text": [
        "\n",
        "IV PARTYID is of type \"DONOTUSE\"\n",
        "IV PARTYID is of type \"DONOTUSE\""
       ]
      },
      {
       "output_type": "stream",
       "stream": "stdout",
       "text": [
        "\n",
        "The number of variables in original model is different from the number in model on future years. Skipping."
       ]
      },
      {
       "output_type": "stream",
       "stream": "stdout",
       "text": [
        "\n",
        "IV PARTYID is of type \"DONOTUSE\"\n",
        "IV PARTYID is of type \"DONOTUSE\""
       ]
      },
      {
       "output_type": "stream",
       "stream": "stdout",
       "text": [
        "\n",
        "The number of variables in original model is different from the number in model on future years. Skipping."
       ]
      },
      {
       "output_type": "stream",
       "stream": "stdout",
       "text": [
        "\n",
        "IV PARTYID is of type \"DONOTUSE\"\n",
        "IV PARTYID is of type \"DONOTUSE\""
       ]
      },
      {
       "output_type": "stream",
       "stream": "stdout",
       "text": [
        "\n",
        "The number of variables in original model is different from the number in model on future years. Skipping."
       ]
      },
      {
       "output_type": "stream",
       "stream": "stdout",
       "text": [
        "\n",
        "IV PARTYID is of type \"DONOTUSE\"\n",
        "IV PARTYID is of type \"DONOTUSE\""
       ]
      },
      {
       "output_type": "stream",
       "stream": "stdout",
       "text": [
        "\n",
        "The number of variables in original model is different from the number in model on future years. Skipping."
       ]
      },
      {
       "output_type": "stream",
       "stream": "stdout",
       "text": [
        "\n",
        "IV PARTYID is of type \"DONOTUSE\"\n",
        "IV PARTYID is of type \"DONOTUSE\""
       ]
      },
      {
       "output_type": "stream",
       "stream": "stdout",
       "text": [
        "\n",
        "The number of variables in original model is different from the number in model on future years. Skipping."
       ]
      },
      {
       "output_type": "stream",
       "stream": "stdout",
       "text": [
        "\n",
        "IV PARTYID is of type \"DONOTUSE\"\n",
        "IV PARTYID is of type \"DONOTUSE\""
       ]
      },
      {
       "output_type": "stream",
       "stream": "stdout",
       "text": [
        "\n",
        "The number of variables in original model is different from the number in model on future years. Skipping."
       ]
      },
      {
       "output_type": "stream",
       "stream": "stdout",
       "text": [
        "\n",
        "IV PARTYID is of type \"DONOTUSE\"\n",
        "IV PARTYID is of type \"DONOTUSE\""
       ]
      },
      {
       "output_type": "stream",
       "stream": "stdout",
       "text": [
        "\n",
        "The number of variables in original model is different from the number in model on future years. Skipping."
       ]
      },
      {
       "output_type": "stream",
       "stream": "stdout",
       "text": [
        "\n",
        "IV PARTYID is of type \"DONOTUSE\"\n",
        "IV PARTYID is of type \"DONOTUSE\""
       ]
      },
      {
       "output_type": "stream",
       "stream": "stdout",
       "text": [
        "\n",
        "The number of variables in original model is different from the number in model on future years. Skipping."
       ]
      },
      {
       "output_type": "stream",
       "stream": "stdout",
       "text": [
        "\n",
        "Couldnt construct a suitable formula\n",
        "Couldnt construct a suitable formula\n",
        "IV PARTYID is of type \"DONOTUSE\"\n",
        "IV PARTYID is of type \"DONOTUSE\""
       ]
      },
      {
       "output_type": "stream",
       "stream": "stdout",
       "text": [
        "\n",
        "The number of variables in original model is different from the number in model on future years. Skipping."
       ]
      },
      {
       "output_type": "stream",
       "stream": "stdout",
       "text": [
        "\n",
        "IV PARTYID is of type \"DONOTUSE\"\n",
        "IV PARTYID is of type \"DONOTUSE\""
       ]
      },
      {
       "output_type": "stream",
       "stream": "stdout",
       "text": [
        "\n",
        "The number of variables in original model is different from the number in model on future years. Skipping."
       ]
      },
      {
       "output_type": "stream",
       "stream": "stdout",
       "text": [
        "\n",
        "Couldnt construct a suitable formula\n",
        "IV PARTYID is of type \"DONOTUSE\"\n",
        "IV PARTYID is of type \"DONOTUSE\""
       ]
      },
      {
       "output_type": "stream",
       "stream": "stdout",
       "text": [
        "\n",
        "The number of variables in original model is different from the number in model on future years. Skipping."
       ]
      },
      {
       "output_type": "stream",
       "stream": "stdout",
       "text": [
        "\n",
        "IV PARTYID is of type \"DONOTUSE\"\n",
        "IV PARTYID is of type \"DONOTUSE\""
       ]
      },
      {
       "output_type": "stream",
       "stream": "stdout",
       "text": [
        "\n",
        "The number of variables in original model is different from the number in model on future years. Skipping."
       ]
      },
      {
       "output_type": "stream",
       "stream": "stdout",
       "text": [
        "\n",
        "IV PARTYID is of type \"DONOTUSE\"\n",
        "IV PARTYID is of type \"DONOTUSE\""
       ]
      },
      {
       "output_type": "stream",
       "stream": "stdout",
       "text": [
        "\n",
        "The number of variables in original model is different from the number in model on future years. Skipping."
       ]
      },
      {
       "output_type": "stream",
       "stream": "stdout",
       "text": [
        "\n",
        "IV PARTYID is of type \"DONOTUSE\"\n",
        "IV PARTYID is of type \"DONOTUSE\""
       ]
      },
      {
       "output_type": "stream",
       "stream": "stdout",
       "text": [
        "\n",
        "The number of variables in original model is different from the number in model on future years. Skipping."
       ]
      },
      {
       "output_type": "stream",
       "stream": "stdout",
       "text": [
        "\n",
        "IV PARTYID is of type \"DONOTUSE\"\n",
        "IV PARTYID is of type \"DONOTUSE\""
       ]
      },
      {
       "output_type": "stream",
       "stream": "stdout",
       "text": [
        "\n",
        "The number of variables in original model is different from the number in model on future years. Skipping."
       ]
      },
      {
       "output_type": "stream",
       "stream": "stdout",
       "text": [
        "\n",
        "IV PARTYID is of type \"DONOTUSE\"\n",
        "IV PARTYID is of type \"DONOTUSE\""
       ]
      },
      {
       "output_type": "stream",
       "stream": "stdout",
       "text": [
        "\n",
        "The number of variables in original model is different from the number in model on future years. Skipping."
       ]
      },
      {
       "output_type": "stream",
       "stream": "stdout",
       "text": [
        "\n",
        "Processing article: 1611\n",
        "Processing article:"
       ]
      },
      {
       "output_type": "stream",
       "stream": "stdout",
       "text": [
        " 1618\n",
        "IV PAOCC16 is of type \"DONOTUSE\"\n",
        "IV PAOCC16 is of type \"DONOTUSE\""
       ]
      },
      {
       "output_type": "stream",
       "stream": "stdout",
       "text": [
        "\n",
        "IV PAOCC16 is of type \"DONOTUSE\""
       ]
      },
      {
       "output_type": "stream",
       "stream": "stdout",
       "text": [
        "\n",
        "IV PAOCC16 is of type \"DONOTUSE\""
       ]
      },
      {
       "output_type": "stream",
       "stream": "stdout",
       "text": [
        "\n",
        "IV PAOCC16 is of type \"DONOTUSE\""
       ]
      },
      {
       "output_type": "stream",
       "stream": "stdout",
       "text": [
        "\n",
        "IV PAOCC16 is of type \"DONOTUSE\""
       ]
      },
      {
       "output_type": "stream",
       "stream": "stdout",
       "text": [
        "\n",
        "Processing article:"
       ]
      },
      {
       "output_type": "stream",
       "stream": "stdout",
       "text": [
        " 1619\n",
        "IV PAOCC16 is of type \"DONOTUSE\"\n",
        "IV PAOCC16 is of type \"DONOTUSE\""
       ]
      },
      {
       "output_type": "stream",
       "stream": "stdout",
       "text": [
        "\n",
        "Processing article:"
       ]
      },
      {
       "output_type": "stream",
       "stream": "stdout",
       "text": [
        " 1620\n",
        "categorical variable DENOM has more than 15 levels\n",
        "categorical variable DENOM has more than 15 levels"
       ]
      },
      {
       "output_type": "stream",
       "stream": "stdout",
       "text": [
        "\n",
        "categorical variable DENOM has more than 15 levels"
       ]
      },
      {
       "output_type": "stream",
       "stream": "stdout",
       "text": [
        "\n",
        "categorical variable DENOM has more than 15 levels"
       ]
      },
      {
       "output_type": "stream",
       "stream": "stdout",
       "text": [
        "\n",
        "categorical variable DENOM has more than 15 levels"
       ]
      },
      {
       "output_type": "stream",
       "stream": "stdout",
       "text": [
        "\n",
        "categorical variable DENOM has more than 15 levels"
       ]
      },
      {
       "output_type": "stream",
       "stream": "stdout",
       "text": [
        "\n",
        "categorical variable DENOM has more than 15 levels"
       ]
      },
      {
       "output_type": "stream",
       "stream": "stdout",
       "text": [
        "\n",
        "categorical variable DENOM has more than 15 levels"
       ]
      },
      {
       "output_type": "stream",
       "stream": "stdout",
       "text": [
        "\n",
        "categorical variable DENOM has more than 15 levels"
       ]
      },
      {
       "output_type": "stream",
       "stream": "stdout",
       "text": [
        "\n",
        "categorical variable DENOM has more than 15 levels"
       ]
      },
      {
       "output_type": "stream",
       "stream": "stdout",
       "text": [
        "\n",
        "categorical variable DENOM has more than 15 levels"
       ]
      },
      {
       "output_type": "stream",
       "stream": "stdout",
       "text": [
        "\n",
        "categorical variable DENOM has more than 15 levels"
       ]
      },
      {
       "output_type": "stream",
       "stream": "stdout",
       "text": [
        "\n",
        "Couldnt construct a suitable formula"
       ]
      },
      {
       "output_type": "stream",
       "stream": "stdout",
       "text": [
        "\n",
        "Couldnt construct a suitable formula\n",
        "categorical variable DENOM has more than 15 levels\n",
        "categorical variable DENOM has more than 15 levels"
       ]
      },
      {
       "output_type": "stream",
       "stream": "stdout",
       "text": [
        "\n",
        "categorical variable DENOM has more than 15 levels"
       ]
      },
      {
       "output_type": "stream",
       "stream": "stdout",
       "text": [
        "\n",
        "categorical variable DENOM has more than 15 levels"
       ]
      },
      {
       "output_type": "stream",
       "stream": "stdout",
       "text": [
        "\n",
        "categorical variable DENOM has more than 15 levels"
       ]
      },
      {
       "output_type": "stream",
       "stream": "stdout",
       "text": [
        "\n",
        "categorical variable DENOM has more than 15 levels"
       ]
      },
      {
       "output_type": "stream",
       "stream": "stdout",
       "text": [
        "\n",
        "categorical variable DENOM has more than 15 levels"
       ]
      },
      {
       "output_type": "stream",
       "stream": "stdout",
       "text": [
        "\n",
        "categorical variable DENOM has more than 15 levels"
       ]
      },
      {
       "output_type": "stream",
       "stream": "stdout",
       "text": [
        "\n",
        "categorical variable DENOM has more than 15 levels"
       ]
      },
      {
       "output_type": "stream",
       "stream": "stdout",
       "text": [
        "\n",
        "categorical variable DENOM has more than 15 levels"
       ]
      },
      {
       "output_type": "stream",
       "stream": "stdout",
       "text": [
        "\n",
        "categorical variable DENOM has more than 15 levels"
       ]
      },
      {
       "output_type": "stream",
       "stream": "stdout",
       "text": [
        "\n",
        "categorical variable DENOM has more than 15 levels"
       ]
      },
      {
       "output_type": "stream",
       "stream": "stdout",
       "text": [
        "\n",
        "categorical variable DENOM has more than 15 levels"
       ]
      },
      {
       "output_type": "stream",
       "stream": "stdout",
       "text": [
        "\n",
        "categorical variable DENOM has more than 15 levels"
       ]
      },
      {
       "output_type": "stream",
       "stream": "stdout",
       "text": [
        "\n",
        "categorical variable DENOM has more than 15 levels"
       ]
      },
      {
       "output_type": "stream",
       "stream": "stdout",
       "text": [
        "\n",
        "categorical variable DENOM has more than 15 levels"
       ]
      },
      {
       "output_type": "stream",
       "stream": "stdout",
       "text": [
        "\n",
        "categorical variable DENOM has more than 15 levels"
       ]
      },
      {
       "output_type": "stream",
       "stream": "stdout",
       "text": [
        "\n",
        "categorical variable DENOM has more than 15 levels"
       ]
      },
      {
       "output_type": "stream",
       "stream": "stdout",
       "text": [
        "\n",
        "Couldnt construct a suitable formula"
       ]
      },
      {
       "output_type": "stream",
       "stream": "stdout",
       "text": [
        "\n",
        "categorical variable DENOM has more than 15 levels\n",
        "categorical variable DENOM has more than 15 levels"
       ]
      },
      {
       "output_type": "stream",
       "stream": "stdout",
       "text": [
        "\n",
        "categorical variable DENOM has more than 15 levels"
       ]
      },
      {
       "output_type": "stream",
       "stream": "stdout",
       "text": [
        "\n",
        "categorical variable DENOM has more than 15 levels"
       ]
      },
      {
       "output_type": "stream",
       "stream": "stdout",
       "text": [
        "\n",
        "categorical variable DENOM has more than 15 levels"
       ]
      },
      {
       "output_type": "stream",
       "stream": "stdout",
       "text": [
        "\n",
        "categorical variable DENOM has more than 15 levels"
       ]
      },
      {
       "output_type": "stream",
       "stream": "stdout",
       "text": [
        "\n",
        "Couldnt construct a suitable formula"
       ]
      },
      {
       "output_type": "stream",
       "stream": "stdout",
       "text": [
        "\n",
        "categorical variable DENOM has more than 15 levels\n",
        "categorical variable DENOM has more than 15 levels"
       ]
      },
      {
       "output_type": "stream",
       "stream": "stdout",
       "text": [
        "\n",
        "categorical variable DENOM has more than 15 levels"
       ]
      },
      {
       "output_type": "stream",
       "stream": "stdout",
       "text": [
        "\n",
        "categorical variable DENOM has more than 15 levels"
       ]
      },
      {
       "output_type": "stream",
       "stream": "stdout",
       "text": [
        "\n",
        "Processing article:"
       ]
      },
      {
       "output_type": "stream",
       "stream": "stdout",
       "text": [
        " 1648\n",
        "Couldnt construct a suitable formula\n",
        "Processing article: 1649\n",
        "Couldnt construct a suitable formula"
       ]
      },
      {
       "output_type": "stream",
       "stream": "stdout",
       "text": [
        "\n",
        "Processing article: 1659\n",
        "The number of variables in original model is different from the number in model on future years. Skipping."
       ]
      },
      {
       "output_type": "stream",
       "stream": "stdout",
       "text": [
        "\n",
        "The number of variables in original model is different from the number in model on future years. Skipping."
       ]
      },
      {
       "output_type": "stream",
       "stream": "stdout",
       "text": [
        "\n",
        "Processing article: 1684\n",
        "Couldnt construct a suitable formula\n",
        "Processing article: 1685\n",
        "Couldnt construct a suitable formula\n",
        "Couldnt construct a suitable formula\n",
        "Processing article: 1686\n",
        "IV SRCBELT is of type \"DONOTUSE\"\n",
        "IV XNORCSIZ is of type \"DONOTUSE\"\n",
        "IV SRCBELT is of type \"DONOTUSE\""
       ]
      },
      {
       "output_type": "stream",
       "stream": "stdout",
       "text": [
        "\n",
        "IV XNORCSIZ is of type \"DONOTUSE\"\n",
        "IV SRCBELT is of type \"DONOTUSE\""
       ]
      },
      {
       "output_type": "stream",
       "stream": "stdout",
       "text": [
        "\n",
        "IV XNORCSIZ is of type \"DONOTUSE\"\n",
        "IV SRCBELT is of type \"DONOTUSE\""
       ]
      },
      {
       "output_type": "stream",
       "stream": "stdout",
       "text": [
        "\n",
        "IV XNORCSIZ is of type \"DONOTUSE\"\n",
        "IV SRCBELT is of type \"DONOTUSE\""
       ]
      },
      {
       "output_type": "stream",
       "stream": "stdout",
       "text": [
        "\n",
        "IV XNORCSIZ is of type \"DONOTUSE\"\n",
        "IV SRCBELT is of type \"DONOTUSE\""
       ]
      },
      {
       "output_type": "stream",
       "stream": "stdout",
       "text": [
        "\n",
        "IV XNORCSIZ is of type \"DONOTUSE\"\n",
        "Processing article:"
       ]
      },
      {
       "output_type": "stream",
       "stream": "stdout",
       "text": [
        " 1692\n",
        "Processing article:"
       ]
      },
      {
       "output_type": "stream",
       "stream": "stdout",
       "text": [
        " 1703\n",
        "categorical variable DENOM has more than 15 levels\n",
        "IV SRCBELT is of type \"DONOTUSE\"\n",
        "categorical variable DENOM has more than 15 levels"
       ]
      },
      {
       "output_type": "stream",
       "stream": "stdout",
       "text": [
        "\n",
        "IV SRCBELT is of type \"DONOTUSE\"\n",
        "categorical variable DENOM has more than 15 levels"
       ]
      },
      {
       "output_type": "stream",
       "stream": "stdout",
       "text": [
        "\n",
        "IV SRCBELT is of type \"DONOTUSE\"\n",
        "categorical variable DENOM has more than 15 levels"
       ]
      },
      {
       "output_type": "stream",
       "stream": "stdout",
       "text": [
        "\n",
        "IV SRCBELT is of type \"DONOTUSE\"\n",
        "categorical variable DENOM has more than 15 levels"
       ]
      },
      {
       "output_type": "stream",
       "stream": "stdout",
       "text": [
        "\n",
        "IV SRCBELT is of type \"DONOTUSE\"\n",
        "categorical variable DENOM has more than 15 levels"
       ]
      },
      {
       "output_type": "stream",
       "stream": "stdout",
       "text": [
        "\n",
        "IV SRCBELT is of type \"DONOTUSE\"\n",
        "categorical variable DENOM has more than 15 levels"
       ]
      },
      {
       "output_type": "stream",
       "stream": "stdout",
       "text": [
        "\n",
        "IV SRCBELT is of type \"DONOTUSE\"\n",
        "categorical variable DENOM has more than 15 levels"
       ]
      },
      {
       "output_type": "stream",
       "stream": "stdout",
       "text": [
        "\n",
        "IV SRCBELT is of type \"DONOTUSE\"\n",
        "categorical variable DENOM has more than 15 levels"
       ]
      },
      {
       "output_type": "stream",
       "stream": "stdout",
       "text": [
        "\n",
        "IV SRCBELT is of type \"DONOTUSE\"\n",
        "categorical variable DENOM has more than 15 levels"
       ]
      },
      {
       "output_type": "stream",
       "stream": "stdout",
       "text": [
        "\n",
        "IV SRCBELT is of type \"DONOTUSE\"\n",
        "categorical variable DENOM has more than 15 levels"
       ]
      },
      {
       "output_type": "stream",
       "stream": "stdout",
       "text": [
        "\n",
        "IV SRCBELT is of type \"DONOTUSE\"\n",
        "categorical variable DENOM has more than 15 levels"
       ]
      },
      {
       "output_type": "stream",
       "stream": "stdout",
       "text": [
        "\n",
        "IV SRCBELT is of type \"DONOTUSE\"\n",
        "categorical variable DENOM has more than 15 levels"
       ]
      },
      {
       "output_type": "stream",
       "stream": "stdout",
       "text": [
        "\n",
        "IV SRCBELT is of type \"DONOTUSE\"\n",
        "categorical variable DENOM has more than 15 levels"
       ]
      },
      {
       "output_type": "stream",
       "stream": "stdout",
       "text": [
        "\n",
        "IV SRCBELT is of type \"DONOTUSE\"\n",
        "categorical variable DENOM has more than 15 levels"
       ]
      },
      {
       "output_type": "stream",
       "stream": "stdout",
       "text": [
        "\n",
        "IV SRCBELT is of type \"DONOTUSE\"\n",
        "categorical variable DENOM has more than 15 levels"
       ]
      },
      {
       "output_type": "stream",
       "stream": "stdout",
       "text": [
        "\n",
        "IV SRCBELT is of type \"DONOTUSE\"\n",
        "categorical variable DENOM has more than 15 levels"
       ]
      },
      {
       "output_type": "stream",
       "stream": "stdout",
       "text": [
        "\n",
        "IV SRCBELT is of type \"DONOTUSE\"\n",
        "categorical variable DENOM has more than 15 levels"
       ]
      },
      {
       "output_type": "stream",
       "stream": "stdout",
       "text": [
        "\n",
        "IV SRCBELT is of type \"DONOTUSE\"\n",
        "categorical variable DENOM has more than 15 levels"
       ]
      },
      {
       "output_type": "stream",
       "stream": "stdout",
       "text": [
        "\n",
        "IV SRCBELT is of type \"DONOTUSE\"\n",
        "categorical variable DENOM has more than 15 levels"
       ]
      },
      {
       "output_type": "stream",
       "stream": "stdout",
       "text": [
        "\n",
        "IV SRCBELT is of type \"DONOTUSE\"\n",
        "Processing article:"
       ]
      },
      {
       "output_type": "stream",
       "stream": "stdout",
       "text": [
        " 1709\n",
        "Processing article:"
       ]
      },
      {
       "output_type": "stream",
       "stream": "stdout",
       "text": [
        " 1717\n",
        "IV XNORCSIZ is of type \"DONOTUSE\"\n",
        "IV XNORCSIZ is of type \"DONOTUSE\""
       ]
      },
      {
       "output_type": "stream",
       "stream": "stdout",
       "text": [
        "\n",
        "Processing article:"
       ]
      },
      {
       "output_type": "stream",
       "stream": "stdout",
       "text": [
        " 1793\n",
        "The number of variables in original model is different from the number in model on future years. Skipping."
       ]
      },
      {
       "output_type": "stream",
       "stream": "stdout",
       "text": [
        "\n",
        "Processing article: 1796\n",
        "categorical variable REG16 has more than 15 levels\n",
        "categorical variable REG16 has more than 15 levels"
       ]
      },
      {
       "output_type": "stream",
       "stream": "stdout",
       "text": [
        "\n",
        "Processing article:"
       ]
      },
      {
       "output_type": "stream",
       "stream": "stdout",
       "text": [
        " 1797\n",
        "categorical variable REG16 has more than 15 levels\n",
        "IV XNORCSIZ is of type \"DONOTUSE\"\n",
        "categorical variable REG16 has more than 15 levels"
       ]
      },
      {
       "output_type": "stream",
       "stream": "stdout",
       "text": [
        "\n",
        "IV XNORCSIZ is of type \"DONOTUSE\"\n",
        "categorical variable REG16 has more than 15 levels"
       ]
      },
      {
       "output_type": "stream",
       "stream": "stdout",
       "text": [
        "\n",
        "IV XNORCSIZ is of type \"DONOTUSE\"\n",
        "categorical variable REG16 has more than 15 levels"
       ]
      },
      {
       "output_type": "stream",
       "stream": "stdout",
       "text": [
        "\n",
        "IV XNORCSIZ is of type \"DONOTUSE\"\n",
        "categorical variable REG16 has more than 15 levels"
       ]
      },
      {
       "output_type": "stream",
       "stream": "stdout",
       "text": [
        "\n",
        "IV XNORCSIZ is of type \"DONOTUSE\"\n",
        "categorical variable REG16 has more than 15 levels"
       ]
      },
      {
       "output_type": "stream",
       "stream": "stdout",
       "text": [
        "\n",
        "IV XNORCSIZ is of type \"DONOTUSE\"\n",
        "categorical variable REG16 has more than 15 levels"
       ]
      },
      {
       "output_type": "stream",
       "stream": "stdout",
       "text": [
        "\n",
        "IV XNORCSIZ is of type \"DONOTUSE\"\n",
        "categorical variable REG16 has more than 15 levels"
       ]
      },
      {
       "output_type": "stream",
       "stream": "stdout",
       "text": [
        "\n",
        "IV XNORCSIZ is of type \"DONOTUSE\"\n",
        "categorical variable REG16 has more than 15 levels"
       ]
      },
      {
       "output_type": "stream",
       "stream": "stdout",
       "text": [
        "\n",
        "IV XNORCSIZ is of type \"DONOTUSE\"\n",
        "categorical variable REG16 has more than 15 levels"
       ]
      },
      {
       "output_type": "stream",
       "stream": "stdout",
       "text": [
        "\n",
        "IV XNORCSIZ is of type \"DONOTUSE\"\n",
        "categorical variable REG16 has more than 15 levels"
       ]
      },
      {
       "output_type": "stream",
       "stream": "stdout",
       "text": [
        "\n",
        "IV XNORCSIZ is of type \"DONOTUSE\"\n",
        "categorical variable REG16 has more than 15 levels"
       ]
      },
      {
       "output_type": "stream",
       "stream": "stdout",
       "text": [
        "\n",
        "IV XNORCSIZ is of type \"DONOTUSE\"\n",
        "categorical variable REG16 has more than 15 levels"
       ]
      },
      {
       "output_type": "stream",
       "stream": "stdout",
       "text": [
        "\n",
        "IV XNORCSIZ is of type \"DONOTUSE\"\n",
        "categorical variable REG16 has more than 15 levels"
       ]
      },
      {
       "output_type": "stream",
       "stream": "stdout",
       "text": [
        "\n",
        "IV XNORCSIZ is of type \"DONOTUSE\"\n",
        "categorical variable REG16 has more than 15 levels"
       ]
      },
      {
       "output_type": "stream",
       "stream": "stdout",
       "text": [
        "\n",
        "IV XNORCSIZ is of type \"DONOTUSE\"\n",
        "categorical variable REG16 has more than 15 levels"
       ]
      },
      {
       "output_type": "stream",
       "stream": "stdout",
       "text": [
        "\n",
        "IV XNORCSIZ is of type \"DONOTUSE\"\n",
        "categorical variable REG16 has more than 15 levels"
       ]
      },
      {
       "output_type": "stream",
       "stream": "stdout",
       "text": [
        "\n",
        "IV XNORCSIZ is of type \"DONOTUSE\"\n",
        "categorical variable REG16 has more than 15 levels"
       ]
      },
      {
       "output_type": "stream",
       "stream": "stdout",
       "text": [
        "\n",
        "IV XNORCSIZ is of type \"DONOTUSE\"\n",
        "Processing article:"
       ]
      },
      {
       "output_type": "stream",
       "stream": "stdout",
       "text": [
        " 1855\n",
        "Couldnt construct a suitable formula\n",
        "Processing article: 1859\n",
        "IV PARTYID is of type \"DONOTUSE\"\n",
        "IV PARTYID is of type \"DONOTUSE\""
       ]
      },
      {
       "output_type": "stream",
       "stream": "stdout",
       "text": [
        "\n",
        "IV PARTYID is of type \"DONOTUSE\""
       ]
      },
      {
       "output_type": "stream",
       "stream": "stdout",
       "text": [
        "\n",
        "IV PARTYID is of type \"DONOTUSE\""
       ]
      },
      {
       "output_type": "stream",
       "stream": "stdout",
       "text": [
        "\n",
        "IV PARTYID is of type \"DONOTUSE\""
       ]
      },
      {
       "output_type": "stream",
       "stream": "stdout",
       "text": [
        "\n",
        "IV PARTYID is of type \"DONOTUSE\""
       ]
      },
      {
       "output_type": "stream",
       "stream": "stdout",
       "text": [
        "\n",
        "IV PARTYID is of type \"DONOTUSE\""
       ]
      },
      {
       "output_type": "stream",
       "stream": "stdout",
       "text": [
        "\n",
        "IV PARTYID is of type \"DONOTUSE\""
       ]
      },
      {
       "output_type": "stream",
       "stream": "stdout",
       "text": [
        "\n",
        "IV PARTYID is of type \"DONOTUSE\""
       ]
      },
      {
       "output_type": "stream",
       "stream": "stdout",
       "text": [
        "\n",
        "IV PARTYID is of type \"DONOTUSE\""
       ]
      },
      {
       "output_type": "stream",
       "stream": "stdout",
       "text": [
        "\n",
        "IV PARTYID is of type \"DONOTUSE\""
       ]
      },
      {
       "output_type": "stream",
       "stream": "stdout",
       "text": [
        "\n",
        "IV PARTYID is of type \"DONOTUSE\""
       ]
      },
      {
       "output_type": "stream",
       "stream": "stdout",
       "text": [
        "\n",
        "IV PARTYID is of type \"DONOTUSE\""
       ]
      },
      {
       "output_type": "stream",
       "stream": "stdout",
       "text": [
        "\n",
        "IV PARTYID is of type \"DONOTUSE\""
       ]
      },
      {
       "output_type": "stream",
       "stream": "stdout",
       "text": [
        "\n",
        "IV PARTYID is of type \"DONOTUSE\""
       ]
      },
      {
       "output_type": "stream",
       "stream": "stdout",
       "text": [
        "\n",
        "IV PARTYID is of type \"DONOTUSE\""
       ]
      },
      {
       "output_type": "stream",
       "stream": "stdout",
       "text": [
        "\n",
        "Processing article:"
       ]
      },
      {
       "output_type": "stream",
       "stream": "stdout",
       "text": [
        " 1902\n",
        "IV OCC80 is of type \"DONOTUSE\"\n",
        "IV OCC80 is of type \"DONOTUSE\""
       ]
      },
      {
       "output_type": "stream",
       "stream": "stdout",
       "text": [
        "\n",
        "IV OCC80 is of type \"DONOTUSE\""
       ]
      },
      {
       "output_type": "stream",
       "stream": "stdout",
       "text": [
        "\n",
        "IV OCC80 is of type \"DONOTUSE\""
       ]
      },
      {
       "output_type": "stream",
       "stream": "stdout",
       "text": [
        "\n",
        "IV OCC80 is of type \"DONOTUSE\""
       ]
      },
      {
       "output_type": "stream",
       "stream": "stdout",
       "text": [
        "\n",
        "IV OCC80 is of type \"DONOTUSE\""
       ]
      },
      {
       "output_type": "stream",
       "stream": "stdout",
       "text": [
        "\n",
        "IV OCC80 is of type \"DONOTUSE\""
       ]
      },
      {
       "output_type": "stream",
       "stream": "stdout",
       "text": [
        "\n",
        "IV OCC80 is of type \"DONOTUSE\""
       ]
      },
      {
       "output_type": "stream",
       "stream": "stdout",
       "text": [
        "\n",
        "IV OCC80 is of type \"DONOTUSE\""
       ]
      },
      {
       "output_type": "stream",
       "stream": "stdout",
       "text": [
        "\n",
        "IV OCC80 is of type \"DONOTUSE\""
       ]
      },
      {
       "output_type": "stream",
       "stream": "stdout",
       "text": [
        "\n",
        "IV OCC80 is of type \"DONOTUSE\""
       ]
      },
      {
       "output_type": "stream",
       "stream": "stdout",
       "text": [
        "\n",
        "IV OCC80 is of type \"DONOTUSE\""
       ]
      },
      {
       "output_type": "stream",
       "stream": "stdout",
       "text": [
        "\n",
        "IV OCC80 is of type \"DONOTUSE\""
       ]
      },
      {
       "output_type": "stream",
       "stream": "stdout",
       "text": [
        "\n",
        "IV OCC80 is of type \"DONOTUSE\""
       ]
      },
      {
       "output_type": "stream",
       "stream": "stdout",
       "text": [
        "\n",
        "IV OCC80 is of type \"DONOTUSE\""
       ]
      },
      {
       "output_type": "stream",
       "stream": "stdout",
       "text": [
        "\n",
        "IV OCC80 is of type \"DONOTUSE\""
       ]
      },
      {
       "output_type": "stream",
       "stream": "stdout",
       "text": [
        "\n",
        "IV OCC80 is of type \"DONOTUSE\""
       ]
      },
      {
       "output_type": "stream",
       "stream": "stdout",
       "text": [
        "\n",
        "IV OCC80 is of type \"DONOTUSE\""
       ]
      },
      {
       "output_type": "stream",
       "stream": "stdout",
       "text": [
        "\n",
        "IV OCC80 is of type \"DONOTUSE\""
       ]
      },
      {
       "output_type": "stream",
       "stream": "stdout",
       "text": [
        "\n",
        "IV OCC80 is of type \"DONOTUSE\""
       ]
      },
      {
       "output_type": "stream",
       "stream": "stdout",
       "text": [
        "\n",
        "IV OCC80 is of type \"DONOTUSE\""
       ]
      },
      {
       "output_type": "stream",
       "stream": "stdout",
       "text": [
        "\n",
        "IV OCC80 is of type \"DONOTUSE\""
       ]
      },
      {
       "output_type": "stream",
       "stream": "stdout",
       "text": [
        "\n",
        "IV OCC80 is of type \"DONOTUSE\""
       ]
      },
      {
       "output_type": "stream",
       "stream": "stdout",
       "text": [
        "\n",
        "IV OCC80 is of type \"DONOTUSE\""
       ]
      },
      {
       "output_type": "stream",
       "stream": "stdout",
       "text": [
        "\n",
        "IV OCC80 is of type \"DONOTUSE\""
       ]
      },
      {
       "output_type": "stream",
       "stream": "stdout",
       "text": [
        "\n",
        "IV OCC80 is of type \"DONOTUSE\""
       ]
      },
      {
       "output_type": "stream",
       "stream": "stdout",
       "text": [
        "\n",
        "IV OCC80 is of type \"DONOTUSE\""
       ]
      },
      {
       "output_type": "stream",
       "stream": "stdout",
       "text": [
        "\n",
        "IV OCC80 is of type \"DONOTUSE\""
       ]
      },
      {
       "output_type": "stream",
       "stream": "stdout",
       "text": [
        "\n",
        "IV OCC80 is of type \"DONOTUSE\""
       ]
      },
      {
       "output_type": "stream",
       "stream": "stdout",
       "text": [
        "\n",
        "IV OCC80 is of type \"DONOTUSE\""
       ]
      },
      {
       "output_type": "stream",
       "stream": "stdout",
       "text": [
        "\n",
        "IV OCC80 is of type \"DONOTUSE\""
       ]
      },
      {
       "output_type": "stream",
       "stream": "stdout",
       "text": [
        "\n",
        "IV OCC80 is of type \"DONOTUSE\""
       ]
      },
      {
       "output_type": "stream",
       "stream": "stdout",
       "text": [
        "\n",
        "IV OCC80 is of type \"DONOTUSE\""
       ]
      },
      {
       "output_type": "stream",
       "stream": "stdout",
       "text": [
        "\n",
        "IV OCC80 is of type \"DONOTUSE\""
       ]
      },
      {
       "output_type": "stream",
       "stream": "stdout",
       "text": [
        "\n",
        "IV OCC80 is of type \"DONOTUSE\""
       ]
      },
      {
       "output_type": "stream",
       "stream": "stdout",
       "text": [
        "\n",
        "IV OCC80 is of type \"DONOTUSE\""
       ]
      },
      {
       "output_type": "stream",
       "stream": "stdout",
       "text": [
        "\n",
        "IV OCC80 is of type \"DONOTUSE\""
       ]
      },
      {
       "output_type": "stream",
       "stream": "stdout",
       "text": [
        "\n",
        "IV OCC80 is of type \"DONOTUSE\""
       ]
      },
      {
       "output_type": "stream",
       "stream": "stdout",
       "text": [
        "\n",
        "IV OCC80 is of type \"DONOTUSE\""
       ]
      },
      {
       "output_type": "stream",
       "stream": "stdout",
       "text": [
        "\n",
        "IV OCC80 is of type \"DONOTUSE\""
       ]
      },
      {
       "output_type": "stream",
       "stream": "stdout",
       "text": [
        "\n",
        "IV OCC80 is of type \"DONOTUSE\""
       ]
      },
      {
       "output_type": "stream",
       "stream": "stdout",
       "text": [
        "\n",
        "IV OCC80 is of type \"DONOTUSE\""
       ]
      },
      {
       "output_type": "stream",
       "stream": "stdout",
       "text": [
        "\n",
        "IV OCC80 is of type \"DONOTUSE\""
       ]
      },
      {
       "output_type": "stream",
       "stream": "stdout",
       "text": [
        "\n",
        "IV OCC80 is of type \"DONOTUSE\""
       ]
      },
      {
       "output_type": "stream",
       "stream": "stdout",
       "text": [
        "\n",
        "IV OCC80 is of type \"DONOTUSE\""
       ]
      },
      {
       "output_type": "stream",
       "stream": "stdout",
       "text": [
        "\n",
        "IV OCC80 is of type \"DONOTUSE\""
       ]
      },
      {
       "output_type": "stream",
       "stream": "stdout",
       "text": [
        "\n",
        "IV OCC80 is of type \"DONOTUSE\""
       ]
      },
      {
       "output_type": "stream",
       "stream": "stdout",
       "text": [
        "\n",
        "IV OCC80 is of type \"DONOTUSE\""
       ]
      },
      {
       "output_type": "stream",
       "stream": "stdout",
       "text": [
        "\n",
        "IV OCC80 is of type \"DONOTUSE\""
       ]
      },
      {
       "output_type": "stream",
       "stream": "stdout",
       "text": [
        "\n",
        "IV OCC80 is of type \"DONOTUSE\""
       ]
      },
      {
       "output_type": "stream",
       "stream": "stdout",
       "text": [
        "\n",
        "IV OCC80 is of type \"DONOTUSE\""
       ]
      },
      {
       "output_type": "stream",
       "stream": "stdout",
       "text": [
        "\n",
        "IV OCC80 is of type \"DONOTUSE\""
       ]
      },
      {
       "output_type": "stream",
       "stream": "stdout",
       "text": [
        "\n",
        "IV OCC80 is of type \"DONOTUSE\""
       ]
      },
      {
       "output_type": "stream",
       "stream": "stdout",
       "text": [
        "\n",
        "IV OCC80 is of type \"DONOTUSE\""
       ]
      },
      {
       "output_type": "stream",
       "stream": "stdout",
       "text": [
        "\n",
        "IV OCC80 is of type \"DONOTUSE\""
       ]
      },
      {
       "output_type": "stream",
       "stream": "stdout",
       "text": [
        "\n",
        "IV OCC80 is of type \"DONOTUSE\""
       ]
      },
      {
       "output_type": "stream",
       "stream": "stdout",
       "text": [
        "\n",
        "IV OCC80 is of type \"DONOTUSE\""
       ]
      },
      {
       "output_type": "stream",
       "stream": "stdout",
       "text": [
        "\n",
        "IV OCC80 is of type \"DONOTUSE\""
       ]
      },
      {
       "output_type": "stream",
       "stream": "stdout",
       "text": [
        "\n",
        "IV OCC80 is of type \"DONOTUSE\""
       ]
      },
      {
       "output_type": "stream",
       "stream": "stdout",
       "text": [
        "\n",
        "IV OCC80 is of type \"DONOTUSE\""
       ]
      },
      {
       "output_type": "stream",
       "stream": "stdout",
       "text": [
        "\n",
        "IV OCC80 is of type \"DONOTUSE\""
       ]
      },
      {
       "output_type": "stream",
       "stream": "stdout",
       "text": [
        "\n",
        "IV OCC80 is of type \"DONOTUSE\""
       ]
      },
      {
       "output_type": "stream",
       "stream": "stdout",
       "text": [
        "\n",
        "IV OCC80 is of type \"DONOTUSE\""
       ]
      },
      {
       "output_type": "stream",
       "stream": "stdout",
       "text": [
        "\n",
        "IV OCC80 is of type \"DONOTUSE\""
       ]
      },
      {
       "output_type": "stream",
       "stream": "stdout",
       "text": [
        "\n",
        "IV OCC80 is of type \"DONOTUSE\""
       ]
      },
      {
       "output_type": "stream",
       "stream": "stdout",
       "text": [
        "\n",
        "IV OCC80 is of type \"DONOTUSE\""
       ]
      },
      {
       "output_type": "stream",
       "stream": "stdout",
       "text": [
        "\n",
        "IV OCC80 is of type \"DONOTUSE\""
       ]
      },
      {
       "output_type": "stream",
       "stream": "stdout",
       "text": [
        "\n",
        "IV OCC80 is of type \"DONOTUSE\""
       ]
      },
      {
       "output_type": "stream",
       "stream": "stdout",
       "text": [
        "\n",
        "IV OCC80 is of type \"DONOTUSE\""
       ]
      },
      {
       "output_type": "stream",
       "stream": "stdout",
       "text": [
        "\n",
        "IV OCC80 is of type \"DONOTUSE\""
       ]
      },
      {
       "output_type": "stream",
       "stream": "stdout",
       "text": [
        "\n",
        "IV OCC80 is of type \"DONOTUSE\""
       ]
      },
      {
       "output_type": "stream",
       "stream": "stdout",
       "text": [
        "\n",
        "IV OCC80 is of type \"DONOTUSE\""
       ]
      },
      {
       "output_type": "stream",
       "stream": "stdout",
       "text": [
        "\n",
        "IV OCC80 is of type \"DONOTUSE\""
       ]
      },
      {
       "output_type": "stream",
       "stream": "stdout",
       "text": [
        "\n",
        "IV OCC80 is of type \"DONOTUSE\""
       ]
      },
      {
       "output_type": "stream",
       "stream": "stdout",
       "text": [
        "\n",
        "IV OCC80 is of type \"DONOTUSE\""
       ]
      },
      {
       "output_type": "stream",
       "stream": "stdout",
       "text": [
        "\n",
        "IV OCC80 is of type \"DONOTUSE\""
       ]
      },
      {
       "output_type": "stream",
       "stream": "stdout",
       "text": [
        "\n",
        "Processing article:"
       ]
      },
      {
       "output_type": "stream",
       "stream": "stdout",
       "text": [
        " 1937\n",
        "IV PARTYID is of type \"DONOTUSE\"\n",
        "Couldnt construct a suitable formula\n",
        "IV PARTYID is of type \"DONOTUSE\"\n",
        "Couldnt construct a suitable formula\n",
        "IV PARTYID is of type \"DONOTUSE\"\n",
        "Couldnt construct a suitable formula\n",
        "IV PARTYID is of type \"DONOTUSE\"\n",
        "Couldnt construct a suitable formula\n",
        "IV PARTYID is of type \"DONOTUSE\"\n",
        "Couldnt construct a suitable formula\n",
        "IV PARTYID is of type \"DONOTUSE\"\n",
        "Couldnt construct a suitable formula\n",
        "Processing article: 1954\n",
        "Processing article:"
       ]
      },
      {
       "output_type": "stream",
       "stream": "stdout",
       "text": [
        " 1957\n",
        "categorical variable REG16 has more than 15 levels\n",
        "categorical variable REG16 has more than 15 levels"
       ]
      },
      {
       "output_type": "stream",
       "stream": "stdout",
       "text": [
        "\n",
        "Processing article:"
       ]
      },
      {
       "output_type": "stream",
       "stream": "stdout",
       "text": [
        " 1964\n",
        "Processing article:"
       ]
      },
      {
       "output_type": "stream",
       "stream": "stdout",
       "text": [
        " 1966\n",
        "Couldnt construct a suitable formula\n",
        "Couldnt construct a suitable formula\n",
        "Couldnt construct a suitable formula\n",
        "Couldnt construct a suitable formula\n",
        "Processing article: 1972\n",
        "categorical variable DENOM has more than 15 levels\n",
        "categorical variable DENOM has more than 15 levels"
       ]
      },
      {
       "output_type": "stream",
       "stream": "stdout",
       "text": [
        "\n",
        "Couldnt construct a suitable formula"
       ]
      },
      {
       "output_type": "stream",
       "stream": "stdout",
       "text": [
        "\n",
        "Processing article: 1973\n",
        "IV CLASS is of type \"DONOTUSE\"\n",
        "IV PARTYID is of type \"DONOTUSE\"\n",
        "IV XNORCSIZ is of type \"DONOTUSE\"\n",
        "IV CLASS is of type \"DONOTUSE\""
       ]
      },
      {
       "output_type": "stream",
       "stream": "stdout",
       "text": [
        "\n",
        "IV PARTYID is of type \"DONOTUSE\"\n",
        "IV XNORCSIZ is of type \"DONOTUSE\"\n",
        "Processing article:"
       ]
      },
      {
       "output_type": "stream",
       "stream": "stdout",
       "text": [
        " 1994\n",
        "Processing article:"
       ]
      },
      {
       "output_type": "stream",
       "stream": "stdout",
       "text": [
        " 2001\n",
        "The number of variables in original model is different from the number in model on future years. Skipping."
       ]
      },
      {
       "output_type": "stream",
       "stream": "stdout",
       "text": [
        "\n",
        "The number of variables in original model is different from the number in model on future years. Skipping."
       ]
      },
      {
       "output_type": "stream",
       "stream": "stdout",
       "text": [
        "\n",
        "The number of variables in original model is different from the number in model on future years. Skipping."
       ]
      },
      {
       "output_type": "stream",
       "stream": "stdout",
       "text": [
        "\n",
        "The number of variables in original model is different from the number in model on future years. Skipping."
       ]
      },
      {
       "output_type": "stream",
       "stream": "stdout",
       "text": [
        "\n",
        "The number of variables in original model is different from the number in model on future years. Skipping."
       ]
      },
      {
       "output_type": "stream",
       "stream": "stdout",
       "text": [
        "\n",
        "The number of variables in original model is different from the number in model on future years. Skipping."
       ]
      },
      {
       "output_type": "stream",
       "stream": "stdout",
       "text": [
        "\n",
        "The number of variables in original model is different from the number in model on future years. Skipping."
       ]
      },
      {
       "output_type": "stream",
       "stream": "stdout",
       "text": [
        "\n",
        "The number of variables in original model is different from the number in model on future years. Skipping."
       ]
      },
      {
       "output_type": "stream",
       "stream": "stdout",
       "text": [
        "\n",
        "The number of variables in original model is different from the number in model on future years. Skipping."
       ]
      },
      {
       "output_type": "stream",
       "stream": "stdout",
       "text": [
        "\n",
        "The number of variables in original model is different from the number in model on future years. Skipping."
       ]
      },
      {
       "output_type": "stream",
       "stream": "stdout",
       "text": [
        "\n",
        "The number of variables in original model is different from the number in model on future years. Skipping."
       ]
      },
      {
       "output_type": "stream",
       "stream": "stdout",
       "text": [
        "\n",
        "The number of variables in original model is different from the number in model on future years. Skipping."
       ]
      },
      {
       "output_type": "stream",
       "stream": "stdout",
       "text": [
        "\n",
        "The number of variables in original model is different from the number in model on future years. Skipping."
       ]
      },
      {
       "output_type": "stream",
       "stream": "stdout",
       "text": [
        "\n",
        "The number of variables in original model is different from the number in model on future years. Skipping."
       ]
      },
      {
       "output_type": "stream",
       "stream": "stdout",
       "text": [
        "\n",
        "The number of variables in original model is different from the number in model on future years. Skipping."
       ]
      },
      {
       "output_type": "stream",
       "stream": "stdout",
       "text": [
        "\n",
        "Processing article: 2003\n",
        "Processing article:"
       ]
      },
      {
       "output_type": "stream",
       "stream": "stdout",
       "text": [
        " 2037\n",
        "IV WRKSTAT is of type \"DONOTUSE\"\n",
        "IV WRKSTAT is of type \"DONOTUSE\""
       ]
      },
      {
       "output_type": "stream",
       "stream": "stdout",
       "text": [
        "\n",
        "IV WRKSTAT is of type \"DONOTUSE\""
       ]
      },
      {
       "output_type": "stream",
       "stream": "stdout",
       "text": [
        "\n",
        "IV WRKSTAT is of type \"DONOTUSE\""
       ]
      },
      {
       "output_type": "stream",
       "stream": "stdout",
       "text": [
        "\n",
        "IV WRKSTAT is of type \"DONOTUSE\""
       ]
      },
      {
       "output_type": "stream",
       "stream": "stdout",
       "text": [
        "\n",
        "IV WRKSTAT is of type \"DONOTUSE\""
       ]
      },
      {
       "output_type": "stream",
       "stream": "stdout",
       "text": [
        "\n",
        "IV WRKSTAT is of type \"DONOTUSE\""
       ]
      },
      {
       "output_type": "stream",
       "stream": "stdout",
       "text": [
        "\n",
        "IV WRKSTAT is of type \"DONOTUSE\""
       ]
      },
      {
       "output_type": "stream",
       "stream": "stdout",
       "text": [
        "\n",
        "Processing article:"
       ]
      },
      {
       "output_type": "stream",
       "stream": "stdout",
       "text": [
        " 2045\n",
        "The number of variables in original model is different from the number in model on future years. Skipping."
       ]
      },
      {
       "output_type": "stream",
       "stream": "stdout",
       "text": [
        "\n",
        "The number of variables in original model is different from the number in model on future years. Skipping."
       ]
      },
      {
       "output_type": "stream",
       "stream": "stdout",
       "text": [
        "\n",
        "The number of variables in original model is different from the number in model on future years. Skipping."
       ]
      },
      {
       "output_type": "stream",
       "stream": "stdout",
       "text": [
        "\n",
        "The number of variables in original model is different from the number in model on future years. Skipping."
       ]
      },
      {
       "output_type": "stream",
       "stream": "stdout",
       "text": [
        "\n",
        "Processing article: 2092\n",
        "Processing article:"
       ]
      },
      {
       "output_type": "stream",
       "stream": "stdout",
       "text": [
        " 2111\n",
        "Processing article:"
       ]
      },
      {
       "output_type": "stream",
       "stream": "stdout",
       "text": [
        " 2134\n",
        "Couldnt construct a suitable formula\n",
        "Processing article: 2135\n",
        "Processing article:"
       ]
      },
      {
       "output_type": "stream",
       "stream": "stdout",
       "text": [
        " 2140\n",
        "IV OCC is of type \"DONOTUSE\"\n",
        "IV OCC is of type \"DONOTUSE\""
       ]
      },
      {
       "output_type": "stream",
       "stream": "stdout",
       "text": [
        "\n",
        "IV OCC is of type \"DONOTUSE\""
       ]
      },
      {
       "output_type": "stream",
       "stream": "stdout",
       "text": [
        "\n",
        "IV OCC is of type \"DONOTUSE\""
       ]
      },
      {
       "output_type": "stream",
       "stream": "stdout",
       "text": [
        "\n",
        "IV OCC is of type \"DONOTUSE\""
       ]
      },
      {
       "output_type": "stream",
       "stream": "stdout",
       "text": [
        "\n",
        "IV OCC is of type \"DONOTUSE\""
       ]
      },
      {
       "output_type": "stream",
       "stream": "stdout",
       "text": [
        "\n",
        "IV OCC is of type \"DONOTUSE\""
       ]
      },
      {
       "output_type": "stream",
       "stream": "stdout",
       "text": [
        "\n",
        "IV OCC is of type \"DONOTUSE\""
       ]
      },
      {
       "output_type": "stream",
       "stream": "stdout",
       "text": [
        "\n",
        "IV OCC is of type \"DONOTUSE\""
       ]
      },
      {
       "output_type": "stream",
       "stream": "stdout",
       "text": [
        "\n",
        "IV OCC is of type \"DONOTUSE\""
       ]
      },
      {
       "output_type": "stream",
       "stream": "stdout",
       "text": [
        "\n",
        "IV OCC is of type \"DONOTUSE\""
       ]
      },
      {
       "output_type": "stream",
       "stream": "stdout",
       "text": [
        "\n",
        "IV OCC is of type \"DONOTUSE\""
       ]
      },
      {
       "output_type": "stream",
       "stream": "stdout",
       "text": [
        "\n",
        "IV OCC is of type \"DONOTUSE\""
       ]
      },
      {
       "output_type": "stream",
       "stream": "stdout",
       "text": [
        "\n",
        "IV OCC is of type \"DONOTUSE\""
       ]
      },
      {
       "output_type": "stream",
       "stream": "stdout",
       "text": [
        "\n",
        "IV OCC is of type \"DONOTUSE\""
       ]
      },
      {
       "output_type": "stream",
       "stream": "stdout",
       "text": [
        "\n",
        "IV OCC is of type \"DONOTUSE\""
       ]
      },
      {
       "output_type": "stream",
       "stream": "stdout",
       "text": [
        "\n",
        "IV OCC is of type \"DONOTUSE\""
       ]
      },
      {
       "output_type": "stream",
       "stream": "stdout",
       "text": [
        "\n",
        "IV OCC is of type \"DONOTUSE\""
       ]
      },
      {
       "output_type": "stream",
       "stream": "stdout",
       "text": [
        "\n",
        "Processing article:"
       ]
      },
      {
       "output_type": "stream",
       "stream": "stdout",
       "text": [
        " 2146\n",
        "Processing article:"
       ]
      },
      {
       "output_type": "stream",
       "stream": "stdout",
       "text": [
        " 2149\n",
        "categorical variable ETHNIC has more than 15 levels\n",
        "categorical variable ETHNIC has more than 15 levels"
       ]
      },
      {
       "output_type": "stream",
       "stream": "stdout",
       "text": [
        "\n",
        "categorical variable ETHNIC has more than 15 levels"
       ]
      },
      {
       "output_type": "stream",
       "stream": "stdout",
       "text": [
        "\n",
        "categorical variable ETHNIC has more than 15 levels"
       ]
      },
      {
       "output_type": "stream",
       "stream": "stdout",
       "text": [
        "\n",
        "Processing article:"
       ]
      },
      {
       "output_type": "stream",
       "stream": "stdout",
       "text": [
        " 2161\n",
        "Processing article:"
       ]
      },
      {
       "output_type": "stream",
       "stream": "stdout",
       "text": [
        " 2163\n",
        "categorical variable ETHNIC has more than 15 levels\n",
        "IV SPPRES is of type \"DONOTUSE\"\n",
        "categorical variable ETHNIC has more than 15 levels"
       ]
      },
      {
       "output_type": "stream",
       "stream": "stdout",
       "text": [
        "\n",
        "IV SPPRES is of type \"DONOTUSE\"\n",
        "The number of variables in original model is different from the number in model on future years. Skipping."
       ]
      },
      {
       "output_type": "stream",
       "stream": "stdout",
       "text": [
        "\n",
        "Processing article: 2179\n",
        "IV WRKSTAT is of type \"DONOTUSE\"\n",
        "IV WRKSTAT is of type \"DONOTUSE\""
       ]
      },
      {
       "output_type": "stream",
       "stream": "stdout",
       "text": [
        "\n",
        "Processing article:"
       ]
      },
      {
       "output_type": "stream",
       "stream": "stdout",
       "text": [
        " 2205\n",
        "IV SRCBELT is of type \"DONOTUSE\"\n",
        "IV SRCBELT is of type \"DONOTUSE\""
       ]
      },
      {
       "output_type": "stream",
       "stream": "stdout",
       "text": [
        "\n",
        "Processing article:"
       ]
      },
      {
       "output_type": "stream",
       "stream": "stdout",
       "text": [
        " 2207\n",
        "IV PARTYID is of type \"DONOTUSE\"\n",
        "IV XNORCSIZ is of type \"DONOTUSE\"\n",
        "IV PARTYID is of type \"DONOTUSE\""
       ]
      },
      {
       "output_type": "stream",
       "stream": "stdout",
       "text": [
        "\n",
        "IV XNORCSIZ is of type \"DONOTUSE\"\n",
        "IV PARTYID is of type \"DONOTUSE\""
       ]
      },
      {
       "output_type": "stream",
       "stream": "stdout",
       "text": [
        "\n",
        "IV XNORCSIZ is of type \"DONOTUSE\"\n",
        "IV PARTYID is of type \"DONOTUSE\""
       ]
      },
      {
       "output_type": "stream",
       "stream": "stdout",
       "text": [
        "\n",
        "IV XNORCSIZ is of type \"DONOTUSE\"\n",
        "Processing article:"
       ]
      },
      {
       "output_type": "stream",
       "stream": "stdout",
       "text": [
        " 2231\n",
        "Processing article:"
       ]
      },
      {
       "output_type": "stream",
       "stream": "stdout",
       "text": [
        " 2235\n",
        "Processing article:"
       ]
      },
      {
       "output_type": "stream",
       "stream": "stdout",
       "text": [
        " 2250\n",
        "Processing article:"
       ]
      },
      {
       "output_type": "stream",
       "stream": "stdout",
       "text": [
        " 2253\n",
        "categorical variable REG16 has more than 15 levels\n",
        "categorical variable REG16 has more than 15 levels"
       ]
      },
      {
       "output_type": "stream",
       "stream": "stdout",
       "text": [
        "\n",
        "categorical variable REG16 has more than 15 levels"
       ]
      },
      {
       "output_type": "stream",
       "stream": "stdout",
       "text": [
        "\n",
        "categorical variable REG16 has more than 15 levels"
       ]
      },
      {
       "output_type": "stream",
       "stream": "stdout",
       "text": [
        "\n",
        "categorical variable REG16 has more than 15 levels"
       ]
      },
      {
       "output_type": "stream",
       "stream": "stdout",
       "text": [
        "\n",
        "categorical variable REG16 has more than 15 levels"
       ]
      },
      {
       "output_type": "stream",
       "stream": "stdout",
       "text": [
        "\n",
        "categorical variable REG16 has more than 15 levels"
       ]
      },
      {
       "output_type": "stream",
       "stream": "stdout",
       "text": [
        "\n",
        "categorical variable REG16 has more than 15 levels"
       ]
      },
      {
       "output_type": "stream",
       "stream": "stdout",
       "text": [
        "\n",
        "Processing article:"
       ]
      },
      {
       "output_type": "stream",
       "stream": "stdout",
       "text": [
        " 2255\n",
        "Processing article:"
       ]
      },
      {
       "output_type": "stream",
       "stream": "stdout",
       "text": [
        " 2280\n",
        "Processing article:"
       ]
      },
      {
       "output_type": "stream",
       "stream": "stdout",
       "text": [
        " 2285\n",
        "Couldnt construct a suitable formula"
       ]
      },
      {
       "output_type": "stream",
       "stream": "stdout",
       "text": [
        "\n",
        "Processing article: 2308\n",
        "categorical variable DENOM has more than 15 levels\n",
        "categorical variable REG16 has more than 15 levels\n",
        "categorical variable DENOM has more than 15 levels"
       ]
      },
      {
       "output_type": "stream",
       "stream": "stdout",
       "text": [
        "\n",
        "categorical variable REG16 has more than 15 levels\n",
        "categorical variable DENOM has more than 15 levels"
       ]
      },
      {
       "output_type": "stream",
       "stream": "stdout",
       "text": [
        "\n",
        "categorical variable REG16 has more than 15 levels\n",
        "categorical variable DENOM has more than 15 levels"
       ]
      },
      {
       "output_type": "stream",
       "stream": "stdout",
       "text": [
        "\n",
        "categorical variable REG16 has more than 15 levels\n",
        "categorical variable DENOM has more than 15 levels"
       ]
      },
      {
       "output_type": "stream",
       "stream": "stdout",
       "text": [
        "\n",
        "categorical variable REG16 has more than 15 levels\n",
        "categorical variable DENOM has more than 15 levels"
       ]
      },
      {
       "output_type": "stream",
       "stream": "stdout",
       "text": [
        "\n",
        "categorical variable REG16 has more than 15 levels\n",
        "categorical variable DENOM has more than 15 levels"
       ]
      },
      {
       "output_type": "stream",
       "stream": "stdout",
       "text": [
        "\n",
        "categorical variable REG16 has more than 15 levels\n",
        "categorical variable DENOM has more than 15 levels"
       ]
      },
      {
       "output_type": "stream",
       "stream": "stdout",
       "text": [
        "\n",
        "categorical variable REG16 has more than 15 levels\n",
        "Processing article:"
       ]
      },
      {
       "output_type": "stream",
       "stream": "stdout",
       "text": [
        " 2312\n",
        "IV OCC is of type \"DONOTUSE\"\n",
        "IV WRKSTAT is of type \"DONOTUSE\"\n",
        "IV OCC is of type \"DONOTUSE\""
       ]
      },
      {
       "output_type": "stream",
       "stream": "stdout",
       "text": [
        "\n",
        "IV WRKSTAT is of type \"DONOTUSE\"\n",
        "IV OCC is of type \"DONOTUSE\""
       ]
      },
      {
       "output_type": "stream",
       "stream": "stdout",
       "text": [
        "\n",
        "IV WRKSTAT is of type \"DONOTUSE\"\n",
        "IV OCC is of type \"DONOTUSE\""
       ]
      },
      {
       "output_type": "stream",
       "stream": "stdout",
       "text": [
        "\n",
        "IV WRKSTAT is of type \"DONOTUSE\"\n",
        "IV OCC is of type \"DONOTUSE\""
       ]
      },
      {
       "output_type": "stream",
       "stream": "stdout",
       "text": [
        "\n",
        "IV WRKSTAT is of type \"DONOTUSE\"\n",
        "IV OCC is of type \"DONOTUSE\""
       ]
      },
      {
       "output_type": "stream",
       "stream": "stdout",
       "text": [
        "\n",
        "IV WRKSTAT is of type \"DONOTUSE\"\n",
        "IV OCC is of type \"DONOTUSE\""
       ]
      },
      {
       "output_type": "stream",
       "stream": "stdout",
       "text": [
        "\n",
        "IV WRKSTAT is of type \"DONOTUSE\"\n",
        "IV OCC is of type \"DONOTUSE\""
       ]
      },
      {
       "output_type": "stream",
       "stream": "stdout",
       "text": [
        "\n",
        "IV WRKSTAT is of type \"DONOTUSE\"\n",
        "IV OCC is of type \"DONOTUSE\""
       ]
      },
      {
       "output_type": "stream",
       "stream": "stdout",
       "text": [
        "\n",
        "IV WRKSTAT is of type \"DONOTUSE\"\n",
        "IV OCC is of type \"DONOTUSE\""
       ]
      },
      {
       "output_type": "stream",
       "stream": "stdout",
       "text": [
        "\n",
        "IV WRKSTAT is of type \"DONOTUSE\"\n",
        "IV OCC is of type \"DONOTUSE\""
       ]
      },
      {
       "output_type": "stream",
       "stream": "stdout",
       "text": [
        "\n",
        "IV WRKSTAT is of type \"DONOTUSE\"\n",
        "IV OCC is of type \"DONOTUSE\""
       ]
      },
      {
       "output_type": "stream",
       "stream": "stdout",
       "text": [
        "\n",
        "IV WRKSTAT is of type \"DONOTUSE\"\n",
        "IV OCC is of type \"DONOTUSE\""
       ]
      },
      {
       "output_type": "stream",
       "stream": "stdout",
       "text": [
        "\n",
        "IV WRKSTAT is of type \"DONOTUSE\"\n",
        "IV OCC is of type \"DONOTUSE\""
       ]
      },
      {
       "output_type": "stream",
       "stream": "stdout",
       "text": [
        "\n",
        "IV WRKSTAT is of type \"DONOTUSE\"\n",
        "IV OCC is of type \"DONOTUSE\""
       ]
      },
      {
       "output_type": "stream",
       "stream": "stdout",
       "text": [
        "\n",
        "IV WRKSTAT is of type \"DONOTUSE\"\n",
        "IV OCC is of type \"DONOTUSE\""
       ]
      },
      {
       "output_type": "stream",
       "stream": "stdout",
       "text": [
        "\n",
        "IV WRKSTAT is of type \"DONOTUSE\"\n",
        "IV OCC is of type \"DONOTUSE\""
       ]
      },
      {
       "output_type": "stream",
       "stream": "stdout",
       "text": [
        "\n",
        "IV WRKSTAT is of type \"DONOTUSE\"\n",
        "IV OCC is of type \"DONOTUSE\""
       ]
      },
      {
       "output_type": "stream",
       "stream": "stdout",
       "text": [
        "\n",
        "IV WRKSTAT is of type \"DONOTUSE\"\n",
        "IV OCC is of type \"DONOTUSE\""
       ]
      },
      {
       "output_type": "stream",
       "stream": "stdout",
       "text": [
        "\n",
        "IV WRKSTAT is of type \"DONOTUSE\"\n",
        "IV OCC is of type \"DONOTUSE\""
       ]
      },
      {
       "output_type": "stream",
       "stream": "stdout",
       "text": [
        "\n",
        "IV WRKSTAT is of type \"DONOTUSE\"\n",
        "IV OCC is of type \"DONOTUSE\""
       ]
      },
      {
       "output_type": "stream",
       "stream": "stdout",
       "text": [
        "\n",
        "IV WRKSTAT is of type \"DONOTUSE\"\n",
        "IV OCC is of type \"DONOTUSE\""
       ]
      },
      {
       "output_type": "stream",
       "stream": "stdout",
       "text": [
        "\n",
        "IV WRKSTAT is of type \"DONOTUSE\"\n",
        "IV OCC is of type \"DONOTUSE\""
       ]
      },
      {
       "output_type": "stream",
       "stream": "stdout",
       "text": [
        "\n",
        "IV WRKSTAT is of type \"DONOTUSE\"\n",
        "IV OCC is of type \"DONOTUSE\""
       ]
      },
      {
       "output_type": "stream",
       "stream": "stdout",
       "text": [
        "\n",
        "IV WRKSTAT is of type \"DONOTUSE\"\n",
        "IV OCC is of type \"DONOTUSE\""
       ]
      },
      {
       "output_type": "stream",
       "stream": "stdout",
       "text": [
        "\n",
        "IV WRKSTAT is of type \"DONOTUSE\"\n",
        "IV OCC is of type \"DONOTUSE\""
       ]
      },
      {
       "output_type": "stream",
       "stream": "stdout",
       "text": [
        "\n",
        "IV WRKSTAT is of type \"DONOTUSE\"\n",
        "Processing article:"
       ]
      },
      {
       "output_type": "stream",
       "stream": "stdout",
       "text": [
        " 2345\n",
        "categorical variable REG16 has more than 15 levels\n",
        "categorical variable REG16 has more than 15 levels"
       ]
      },
      {
       "output_type": "stream",
       "stream": "stdout",
       "text": [
        "\n",
        "categorical variable REG16 has more than 15 levels"
       ]
      },
      {
       "output_type": "stream",
       "stream": "stdout",
       "text": [
        "\n",
        "categorical variable REG16 has more than 15 levels"
       ]
      },
      {
       "output_type": "stream",
       "stream": "stdout",
       "text": [
        "\n",
        "categorical variable REG16 has more than 15 levels"
       ]
      },
      {
       "output_type": "stream",
       "stream": "stdout",
       "text": [
        "\n",
        "categorical variable REG16 has more than 15 levels"
       ]
      },
      {
       "output_type": "stream",
       "stream": "stdout",
       "text": [
        "\n",
        "categorical variable REG16 has more than 15 levels"
       ]
      },
      {
       "output_type": "stream",
       "stream": "stdout",
       "text": [
        "\n",
        "categorical variable REG16 has more than 15 levels"
       ]
      },
      {
       "output_type": "stream",
       "stream": "stdout",
       "text": [
        "\n",
        "categorical variable REG16 has more than 15 levels"
       ]
      },
      {
       "output_type": "stream",
       "stream": "stdout",
       "text": [
        "\n",
        "categorical variable REG16 has more than 15 levels"
       ]
      },
      {
       "output_type": "stream",
       "stream": "stdout",
       "text": [
        "\n",
        "categorical variable REG16 has more than 15 levels"
       ]
      },
      {
       "output_type": "stream",
       "stream": "stdout",
       "text": [
        "\n",
        "categorical variable REG16 has more than 15 levels"
       ]
      },
      {
       "output_type": "stream",
       "stream": "stdout",
       "text": [
        "\n",
        "categorical variable REG16 has more than 15 levels"
       ]
      },
      {
       "output_type": "stream",
       "stream": "stdout",
       "text": [
        "\n",
        "categorical variable REG16 has more than 15 levels"
       ]
      },
      {
       "output_type": "stream",
       "stream": "stdout",
       "text": [
        "\n",
        "categorical variable REG16 has more than 15 levels"
       ]
      },
      {
       "output_type": "stream",
       "stream": "stdout",
       "text": [
        "\n",
        "categorical variable REG16 has more than 15 levels"
       ]
      },
      {
       "output_type": "stream",
       "stream": "stdout",
       "text": [
        "\n",
        "categorical variable REG16 has more than 15 levels"
       ]
      },
      {
       "output_type": "stream",
       "stream": "stdout",
       "text": [
        "\n",
        "categorical variable REG16 has more than 15 levels"
       ]
      },
      {
       "output_type": "stream",
       "stream": "stdout",
       "text": [
        "\n",
        "categorical variable REG16 has more than 15 levels"
       ]
      },
      {
       "output_type": "stream",
       "stream": "stdout",
       "text": [
        "\n",
        "categorical variable REG16 has more than 15 levels"
       ]
      },
      {
       "output_type": "stream",
       "stream": "stdout",
       "text": [
        "\n",
        "categorical variable REG16 has more than 15 levels"
       ]
      },
      {
       "output_type": "stream",
       "stream": "stdout",
       "text": [
        "\n",
        "categorical variable REG16 has more than 15 levels"
       ]
      },
      {
       "output_type": "stream",
       "stream": "stdout",
       "text": [
        "\n",
        "categorical variable REG16 has more than 15 levels"
       ]
      },
      {
       "output_type": "stream",
       "stream": "stdout",
       "text": [
        "\n",
        "categorical variable REG16 has more than 15 levels"
       ]
      },
      {
       "output_type": "stream",
       "stream": "stdout",
       "text": [
        "\n",
        "categorical variable REG16 has more than 15 levels"
       ]
      },
      {
       "output_type": "stream",
       "stream": "stdout",
       "text": [
        "\n",
        "categorical variable REG16 has more than 15 levels"
       ]
      },
      {
       "output_type": "stream",
       "stream": "stdout",
       "text": [
        "\n",
        "categorical variable REG16 has more than 15 levels"
       ]
      },
      {
       "output_type": "stream",
       "stream": "stdout",
       "text": [
        "\n",
        "categorical variable REG16 has more than 15 levels"
       ]
      },
      {
       "output_type": "stream",
       "stream": "stdout",
       "text": [
        "\n",
        "categorical variable REG16 has more than 15 levels"
       ]
      },
      {
       "output_type": "stream",
       "stream": "stdout",
       "text": [
        "\n",
        "categorical variable REG16 has more than 15 levels"
       ]
      },
      {
       "output_type": "stream",
       "stream": "stdout",
       "text": [
        "\n",
        "categorical variable REG16 has more than 15 levels"
       ]
      },
      {
       "output_type": "stream",
       "stream": "stdout",
       "text": [
        "\n",
        "categorical variable REG16 has more than 15 levels"
       ]
      },
      {
       "output_type": "stream",
       "stream": "stdout",
       "text": [
        "\n",
        "categorical variable REG16 has more than 15 levels"
       ]
      },
      {
       "output_type": "stream",
       "stream": "stdout",
       "text": [
        "\n",
        "categorical variable REG16 has more than 15 levels"
       ]
      },
      {
       "output_type": "stream",
       "stream": "stdout",
       "text": [
        "\n",
        "categorical variable REG16 has more than 15 levels"
       ]
      },
      {
       "output_type": "stream",
       "stream": "stdout",
       "text": [
        "\n",
        "categorical variable REG16 has more than 15 levels"
       ]
      },
      {
       "output_type": "stream",
       "stream": "stdout",
       "text": [
        "\n",
        "categorical variable REG16 has more than 15 levels"
       ]
      },
      {
       "output_type": "stream",
       "stream": "stdout",
       "text": [
        "\n",
        "categorical variable REG16 has more than 15 levels"
       ]
      },
      {
       "output_type": "stream",
       "stream": "stdout",
       "text": [
        "\n",
        "categorical variable REG16 has more than 15 levels"
       ]
      },
      {
       "output_type": "stream",
       "stream": "stdout",
       "text": [
        "\n",
        "categorical variable REG16 has more than 15 levels"
       ]
      },
      {
       "output_type": "stream",
       "stream": "stdout",
       "text": [
        "\n",
        "categorical variable REG16 has more than 15 levels"
       ]
      },
      {
       "output_type": "stream",
       "stream": "stdout",
       "text": [
        "\n",
        "categorical variable REG16 has more than 15 levels"
       ]
      },
      {
       "output_type": "stream",
       "stream": "stdout",
       "text": [
        "\n",
        "categorical variable REG16 has more than 15 levels"
       ]
      },
      {
       "output_type": "stream",
       "stream": "stdout",
       "text": [
        "\n",
        "categorical variable REG16 has more than 15 levels"
       ]
      },
      {
       "output_type": "stream",
       "stream": "stdout",
       "text": [
        "\n",
        "categorical variable REG16 has more than 15 levels"
       ]
      },
      {
       "output_type": "stream",
       "stream": "stdout",
       "text": [
        "\n",
        "categorical variable REG16 has more than 15 levels"
       ]
      },
      {
       "output_type": "stream",
       "stream": "stdout",
       "text": [
        "\n",
        "categorical variable REG16 has more than 15 levels"
       ]
      },
      {
       "output_type": "stream",
       "stream": "stdout",
       "text": [
        "\n",
        "categorical variable REG16 has more than 15 levels"
       ]
      },
      {
       "output_type": "stream",
       "stream": "stdout",
       "text": [
        "\n",
        "Processing article:"
       ]
      },
      {
       "output_type": "stream",
       "stream": "stdout",
       "text": [
        " 2354\n",
        "IV OCC is of type \"DONOTUSE\"\n",
        "IV SRCBELT is of type \"DONOTUSE\"\n",
        "IV OCC is of type \"DONOTUSE\""
       ]
      },
      {
       "output_type": "stream",
       "stream": "stdout",
       "text": [
        "\n",
        "IV SRCBELT is of type \"DONOTUSE\"\n",
        "Processing article:"
       ]
      },
      {
       "output_type": "stream",
       "stream": "stdout",
       "text": [
        " 2364\n",
        "Couldnt construct a suitable formula\n",
        "Processing article: 2429\n",
        "categorical variable DENOM has more than 15 levels\n",
        "IV XNORCSIZ is of type \"DONOTUSE\"\n",
        "categorical variable DENOM has more than 15 levels"
       ]
      },
      {
       "output_type": "stream",
       "stream": "stdout",
       "text": [
        "\n",
        "IV XNORCSIZ is of type \"DONOTUSE\"\n",
        "categorical variable DENOM has more than 15 levels"
       ]
      },
      {
       "output_type": "stream",
       "stream": "stdout",
       "text": [
        "\n",
        "IV XNORCSIZ is of type \"DONOTUSE\"\n",
        "categorical variable DENOM has more than 15 levels"
       ]
      },
      {
       "output_type": "stream",
       "stream": "stdout",
       "text": [
        "\n",
        "IV XNORCSIZ is of type \"DONOTUSE\"\n",
        "categorical variable DENOM has more than 15 levels"
       ]
      },
      {
       "output_type": "stream",
       "stream": "stdout",
       "text": [
        "\n",
        "IV XNORCSIZ is of type \"DONOTUSE\"\n",
        "categorical variable DENOM has more than 15 levels"
       ]
      },
      {
       "output_type": "stream",
       "stream": "stdout",
       "text": [
        "\n",
        "IV XNORCSIZ is of type \"DONOTUSE\"\n",
        "categorical variable DENOM has more than 15 levels"
       ]
      },
      {
       "output_type": "stream",
       "stream": "stdout",
       "text": [
        "\n",
        "IV XNORCSIZ is of type \"DONOTUSE\"\n",
        "categorical variable DENOM has more than 15 levels"
       ]
      },
      {
       "output_type": "stream",
       "stream": "stdout",
       "text": [
        "\n",
        "IV XNORCSIZ is of type \"DONOTUSE\"\n",
        "categorical variable DENOM has more than 15 levels"
       ]
      },
      {
       "output_type": "stream",
       "stream": "stdout",
       "text": [
        "\n",
        "IV XNORCSIZ is of type \"DONOTUSE\"\n",
        "categorical variable DENOM has more than 15 levels"
       ]
      },
      {
       "output_type": "stream",
       "stream": "stdout",
       "text": [
        "\n",
        "IV XNORCSIZ is of type \"DONOTUSE\"\n",
        "categorical variable DENOM has more than 15 levels"
       ]
      },
      {
       "output_type": "stream",
       "stream": "stdout",
       "text": [
        "\n",
        "IV XNORCSIZ is of type \"DONOTUSE\"\n",
        "categorical variable DENOM has more than 15 levels"
       ]
      },
      {
       "output_type": "stream",
       "stream": "stdout",
       "text": [
        "\n",
        "IV XNORCSIZ is of type \"DONOTUSE\"\n",
        "categorical variable DENOM has more than 15 levels"
       ]
      },
      {
       "output_type": "stream",
       "stream": "stdout",
       "text": [
        "\n",
        "IV XNORCSIZ is of type \"DONOTUSE\"\n",
        "categorical variable DENOM has more than 15 levels"
       ]
      },
      {
       "output_type": "stream",
       "stream": "stdout",
       "text": [
        "\n",
        "IV XNORCSIZ is of type \"DONOTUSE\"\n",
        "categorical variable DENOM has more than 15 levels"
       ]
      },
      {
       "output_type": "stream",
       "stream": "stdout",
       "text": [
        "\n",
        "IV XNORCSIZ is of type \"DONOTUSE\"\n",
        "categorical variable DENOM has more than 15 levels"
       ]
      },
      {
       "output_type": "stream",
       "stream": "stdout",
       "text": [
        "\n",
        "IV XNORCSIZ is of type \"DONOTUSE\"\n",
        "categorical variable DENOM has more than 15 levels"
       ]
      },
      {
       "output_type": "stream",
       "stream": "stdout",
       "text": [
        "\n",
        "IV XNORCSIZ is of type \"DONOTUSE\"\n",
        "categorical variable DENOM has more than 15 levels"
       ]
      },
      {
       "output_type": "stream",
       "stream": "stdout",
       "text": [
        "\n",
        "IV XNORCSIZ is of type \"DONOTUSE\"\n",
        "categorical variable DENOM has more than 15 levels"
       ]
      },
      {
       "output_type": "stream",
       "stream": "stdout",
       "text": [
        "\n",
        "IV XNORCSIZ is of type \"DONOTUSE\"\n",
        "categorical variable DENOM has more than 15 levels"
       ]
      },
      {
       "output_type": "stream",
       "stream": "stdout",
       "text": [
        "\n",
        "IV XNORCSIZ is of type \"DONOTUSE\"\n",
        "categorical variable DENOM has more than 15 levels"
       ]
      },
      {
       "output_type": "stream",
       "stream": "stdout",
       "text": [
        "\n",
        "IV XNORCSIZ is of type \"DONOTUSE\"\n",
        "categorical variable DENOM has more than 15 levels"
       ]
      },
      {
       "output_type": "stream",
       "stream": "stdout",
       "text": [
        "\n",
        "IV XNORCSIZ is of type \"DONOTUSE\"\n",
        "categorical variable DENOM has more than 15 levels"
       ]
      },
      {
       "output_type": "stream",
       "stream": "stdout",
       "text": [
        "\n",
        "IV XNORCSIZ is of type \"DONOTUSE\"\n",
        "categorical variable DENOM has more than 15 levels"
       ]
      },
      {
       "output_type": "stream",
       "stream": "stdout",
       "text": [
        "\n",
        "IV XNORCSIZ is of type \"DONOTUSE\"\n",
        "categorical variable DENOM has more than 15 levels"
       ]
      },
      {
       "output_type": "stream",
       "stream": "stdout",
       "text": [
        "\n",
        "IV XNORCSIZ is of type \"DONOTUSE\"\n",
        "categorical variable DENOM has more than 15 levels"
       ]
      },
      {
       "output_type": "stream",
       "stream": "stdout",
       "text": [
        "\n",
        "IV XNORCSIZ is of type \"DONOTUSE\"\n",
        "Processing article:"
       ]
      },
      {
       "output_type": "stream",
       "stream": "stdout",
       "text": [
        " 2430\n",
        "categorical variable DENOM has more than 15 levels\n",
        "categorical variable DENOM has more than 15 levels"
       ]
      },
      {
       "output_type": "stream",
       "stream": "stdout",
       "text": [
        "\n",
        "categorical variable DENOM has more than 15 levels"
       ]
      },
      {
       "output_type": "stream",
       "stream": "stdout",
       "text": [
        "\n",
        "categorical variable DENOM has more than 15 levels"
       ]
      },
      {
       "output_type": "stream",
       "stream": "stdout",
       "text": [
        "\n",
        "categorical variable DENOM has more than 15 levels"
       ]
      },
      {
       "output_type": "stream",
       "stream": "stdout",
       "text": [
        "\n",
        "categorical variable DENOM has more than 15 levels"
       ]
      },
      {
       "output_type": "stream",
       "stream": "stdout",
       "text": [
        "\n",
        "categorical variable DENOM has more than 15 levels"
       ]
      },
      {
       "output_type": "stream",
       "stream": "stdout",
       "text": [
        "\n",
        "categorical variable DENOM has more than 15 levels"
       ]
      },
      {
       "output_type": "stream",
       "stream": "stdout",
       "text": [
        "\n",
        "categorical variable DENOM has more than 15 levels"
       ]
      },
      {
       "output_type": "stream",
       "stream": "stdout",
       "text": [
        "\n",
        "categorical variable DENOM has more than 15 levels"
       ]
      },
      {
       "output_type": "stream",
       "stream": "stdout",
       "text": [
        "\n",
        "Couldnt construct a suitable formula"
       ]
      },
      {
       "output_type": "stream",
       "stream": "stdout",
       "text": [
        "\n",
        "categorical variable DENOM has more than 15 levels\n",
        "categorical variable DENOM has more than 15 levels"
       ]
      },
      {
       "output_type": "stream",
       "stream": "stdout",
       "text": [
        "\n",
        "categorical variable DENOM has more than 15 levels"
       ]
      },
      {
       "output_type": "stream",
       "stream": "stdout",
       "text": [
        "\n",
        "categorical variable DENOM has more than 15 levels"
       ]
      },
      {
       "output_type": "stream",
       "stream": "stdout",
       "text": [
        "\n",
        "categorical variable DENOM has more than 15 levels"
       ]
      },
      {
       "output_type": "stream",
       "stream": "stdout",
       "text": [
        "\n",
        "categorical variable DENOM has more than 15 levels"
       ]
      },
      {
       "output_type": "stream",
       "stream": "stdout",
       "text": [
        "\n",
        "categorical variable DENOM has more than 15 levels"
       ]
      },
      {
       "output_type": "stream",
       "stream": "stdout",
       "text": [
        "\n",
        "categorical variable DENOM has more than 15 levels"
       ]
      },
      {
       "output_type": "stream",
       "stream": "stdout",
       "text": [
        "\n",
        "categorical variable DENOM has more than 15 levels"
       ]
      },
      {
       "output_type": "stream",
       "stream": "stdout",
       "text": [
        "\n",
        "categorical variable DENOM has more than 15 levels"
       ]
      },
      {
       "output_type": "stream",
       "stream": "stdout",
       "text": [
        "\n",
        "Processing article:"
       ]
      },
      {
       "output_type": "stream",
       "stream": "stdout",
       "text": [
        " 2436\n",
        "The number of variables in original model is different from the number in model on future years. Skipping."
       ]
      },
      {
       "output_type": "stream",
       "stream": "stdout",
       "text": [
        "\n",
        "The number of variables in original model is different from the number in model on future years. Skipping."
       ]
      },
      {
       "output_type": "stream",
       "stream": "stdout",
       "text": [
        "\n",
        "Processing article: 2446\n",
        "Processing article:"
       ]
      },
      {
       "output_type": "stream",
       "stream": "stdout",
       "text": [
        " 2465\n",
        "Couldnt construct a suitable formula\n",
        "Processing article: 2466\n",
        "Couldnt construct a suitable formula\n",
        "Couldnt construct a suitable formula\n",
        "Couldnt construct a suitable formula"
       ]
      },
      {
       "output_type": "stream",
       "stream": "stdout",
       "text": [
        "\n",
        "Processing article: 2470\n",
        "Processing article:"
       ]
      },
      {
       "output_type": "stream",
       "stream": "stdout",
       "text": [
        " 2473\n",
        "IV XNORCSIZ is of type \"DONOTUSE\"\n",
        "IV XNORCSIZ is of type \"DONOTUSE\""
       ]
      },
      {
       "output_type": "stream",
       "stream": "stdout",
       "text": [
        "\n",
        "IV XNORCSIZ is of type \"DONOTUSE\""
       ]
      },
      {
       "output_type": "stream",
       "stream": "stdout",
       "text": [
        "\n",
        "IV XNORCSIZ is of type \"DONOTUSE\""
       ]
      },
      {
       "output_type": "stream",
       "stream": "stdout",
       "text": [
        "\n",
        "IV XNORCSIZ is of type \"DONOTUSE\""
       ]
      },
      {
       "output_type": "stream",
       "stream": "stdout",
       "text": [
        "\n",
        "IV XNORCSIZ is of type \"DONOTUSE\""
       ]
      },
      {
       "output_type": "stream",
       "stream": "stdout",
       "text": [
        "\n",
        "IV XNORCSIZ is of type \"DONOTUSE\""
       ]
      },
      {
       "output_type": "stream",
       "stream": "stdout",
       "text": [
        "\n",
        "IV XNORCSIZ is of type \"DONOTUSE\""
       ]
      },
      {
       "output_type": "stream",
       "stream": "stdout",
       "text": [
        "\n",
        "Processing article:"
       ]
      },
      {
       "output_type": "stream",
       "stream": "stdout",
       "text": [
        " 2475\n",
        "Processing article:"
       ]
      },
      {
       "output_type": "stream",
       "stream": "stdout",
       "text": [
        " 2506\n",
        "IV PARTYID is of type \"DONOTUSE\"\n",
        "IV PARTYID is of type \"DONOTUSE\""
       ]
      },
      {
       "output_type": "stream",
       "stream": "stdout",
       "text": [
        "\n",
        "IV PARTYID is of type \"DONOTUSE\""
       ]
      },
      {
       "output_type": "stream",
       "stream": "stdout",
       "text": [
        "\n",
        "IV PARTYID is of type \"DONOTUSE\""
       ]
      },
      {
       "output_type": "stream",
       "stream": "stdout",
       "text": [
        "\n",
        "IV PARTYID is of type \"DONOTUSE\""
       ]
      },
      {
       "output_type": "stream",
       "stream": "stdout",
       "text": [
        "\n",
        "IV PARTYID is of type \"DONOTUSE\""
       ]
      },
      {
       "output_type": "stream",
       "stream": "stdout",
       "text": [
        "\n",
        "Couldnt construct a suitable formula"
       ]
      },
      {
       "output_type": "stream",
       "stream": "stdout",
       "text": [
        "\n",
        "IV PARTYID is of type \"DONOTUSE\"\n",
        "IV PARTYID is of type \"DONOTUSE\""
       ]
      },
      {
       "output_type": "stream",
       "stream": "stdout",
       "text": [
        "\n",
        "IV PARTYID is of type \"DONOTUSE\""
       ]
      },
      {
       "output_type": "stream",
       "stream": "stdout",
       "text": [
        "\n",
        "IV PARTYID is of type \"DONOTUSE\""
       ]
      },
      {
       "output_type": "stream",
       "stream": "stdout",
       "text": [
        "\n",
        "IV PARTYID is of type \"DONOTUSE\""
       ]
      },
      {
       "output_type": "stream",
       "stream": "stdout",
       "text": [
        "\n",
        "IV PARTYID is of type \"DONOTUSE\""
       ]
      },
      {
       "output_type": "stream",
       "stream": "stdout",
       "text": [
        "\n",
        "IV PARTYID is of type \"DONOTUSE\""
       ]
      },
      {
       "output_type": "stream",
       "stream": "stdout",
       "text": [
        "\n",
        "IV PARTYID is of type \"DONOTUSE\""
       ]
      },
      {
       "output_type": "stream",
       "stream": "stdout",
       "text": [
        "\n",
        "IV PARTYID is of type \"DONOTUSE\""
       ]
      },
      {
       "output_type": "stream",
       "stream": "stdout",
       "text": [
        "\n",
        "IV PARTYID is of type \"DONOTUSE\""
       ]
      },
      {
       "output_type": "stream",
       "stream": "stdout",
       "text": [
        "\n",
        "IV PARTYID is of type \"DONOTUSE\""
       ]
      },
      {
       "output_type": "stream",
       "stream": "stdout",
       "text": [
        "\n",
        "IV PARTYID is of type \"DONOTUSE\""
       ]
      },
      {
       "output_type": "stream",
       "stream": "stdout",
       "text": [
        "\n",
        "IV PARTYID is of type \"DONOTUSE\""
       ]
      },
      {
       "output_type": "stream",
       "stream": "stdout",
       "text": [
        "\n",
        "IV PARTYID is of type \"DONOTUSE\""
       ]
      },
      {
       "output_type": "stream",
       "stream": "stdout",
       "text": [
        "\n",
        "IV PARTYID is of type \"DONOTUSE\""
       ]
      },
      {
       "output_type": "stream",
       "stream": "stdout",
       "text": [
        "\n",
        "IV PARTYID is of type \"DONOTUSE\""
       ]
      },
      {
       "output_type": "stream",
       "stream": "stdout",
       "text": [
        "\n",
        "IV PARTYID is of type \"DONOTUSE\""
       ]
      },
      {
       "output_type": "stream",
       "stream": "stdout",
       "text": [
        "\n",
        "IV PARTYID is of type \"DONOTUSE\""
       ]
      },
      {
       "output_type": "stream",
       "stream": "stdout",
       "text": [
        "\n",
        "IV PARTYID is of type \"DONOTUSE\""
       ]
      },
      {
       "output_type": "stream",
       "stream": "stdout",
       "text": [
        "\n",
        "IV PARTYID is of type \"DONOTUSE\""
       ]
      },
      {
       "output_type": "stream",
       "stream": "stdout",
       "text": [
        "\n",
        "IV PARTYID is of type \"DONOTUSE\""
       ]
      },
      {
       "output_type": "stream",
       "stream": "stdout",
       "text": [
        "\n",
        "IV PARTYID is of type \"DONOTUSE\""
       ]
      },
      {
       "output_type": "stream",
       "stream": "stdout",
       "text": [
        "\n",
        "IV PARTYID is of type \"DONOTUSE\""
       ]
      },
      {
       "output_type": "stream",
       "stream": "stdout",
       "text": [
        "\n",
        "IV PARTYID is of type \"DONOTUSE\""
       ]
      },
      {
       "output_type": "stream",
       "stream": "stdout",
       "text": [
        "\n",
        "IV PARTYID is of type \"DONOTUSE\""
       ]
      },
      {
       "output_type": "stream",
       "stream": "stdout",
       "text": [
        "\n",
        "IV PARTYID is of type \"DONOTUSE\""
       ]
      },
      {
       "output_type": "stream",
       "stream": "stdout",
       "text": [
        "\n",
        "IV PARTYID is of type \"DONOTUSE\""
       ]
      },
      {
       "output_type": "stream",
       "stream": "stdout",
       "text": [
        "\n",
        "IV PARTYID is of type \"DONOTUSE\""
       ]
      },
      {
       "output_type": "stream",
       "stream": "stdout",
       "text": [
        "\n",
        "IV PARTYID is of type \"DONOTUSE\""
       ]
      },
      {
       "output_type": "stream",
       "stream": "stdout",
       "text": [
        "\n",
        "IV PARTYID is of type \"DONOTUSE\""
       ]
      },
      {
       "output_type": "stream",
       "stream": "stdout",
       "text": [
        "\n",
        "IV PARTYID is of type \"DONOTUSE\""
       ]
      },
      {
       "output_type": "stream",
       "stream": "stdout",
       "text": [
        "\n",
        "IV PARTYID is of type \"DONOTUSE\""
       ]
      },
      {
       "output_type": "stream",
       "stream": "stdout",
       "text": [
        "\n",
        "IV PARTYID is of type \"DONOTUSE\""
       ]
      },
      {
       "output_type": "stream",
       "stream": "stdout",
       "text": [
        "\n",
        "IV PARTYID is of type \"DONOTUSE\""
       ]
      },
      {
       "output_type": "stream",
       "stream": "stdout",
       "text": [
        "\n",
        "IV PARTYID is of type \"DONOTUSE\""
       ]
      },
      {
       "output_type": "stream",
       "stream": "stdout",
       "text": [
        "\n",
        "IV PARTYID is of type \"DONOTUSE\""
       ]
      },
      {
       "output_type": "stream",
       "stream": "stdout",
       "text": [
        "\n",
        "IV PARTYID is of type \"DONOTUSE\""
       ]
      },
      {
       "output_type": "stream",
       "stream": "stdout",
       "text": [
        "\n",
        "IV PARTYID is of type \"DONOTUSE\""
       ]
      },
      {
       "output_type": "stream",
       "stream": "stdout",
       "text": [
        "\n",
        "IV PARTYID is of type \"DONOTUSE\""
       ]
      },
      {
       "output_type": "stream",
       "stream": "stdout",
       "text": [
        "\n",
        "IV PARTYID is of type \"DONOTUSE\""
       ]
      },
      {
       "output_type": "stream",
       "stream": "stdout",
       "text": [
        "\n",
        "IV PARTYID is of type \"DONOTUSE\""
       ]
      },
      {
       "output_type": "stream",
       "stream": "stdout",
       "text": [
        "\n",
        "IV PARTYID is of type \"DONOTUSE\""
       ]
      },
      {
       "output_type": "stream",
       "stream": "stdout",
       "text": [
        "\n",
        "Processing article:"
       ]
      },
      {
       "output_type": "stream",
       "stream": "stdout",
       "text": [
        " 2514\n",
        "The number of variables in original model is different from the number in model on future years. Skipping."
       ]
      },
      {
       "output_type": "stream",
       "stream": "stdout",
       "text": [
        "\n",
        "Processing article: 2523\n",
        "IV PARTYID is of type \"DONOTUSE\"\n",
        "IV XNORCSIZ is of type \"DONOTUSE\"\n",
        "IV PARTYID is of type \"DONOTUSE\""
       ]
      },
      {
       "output_type": "stream",
       "stream": "stdout",
       "text": [
        "\n",
        "IV XNORCSIZ is of type \"DONOTUSE\"\n",
        "IV PARTYID is of type \"DONOTUSE\""
       ]
      },
      {
       "output_type": "stream",
       "stream": "stdout",
       "text": [
        "\n",
        "IV XNORCSIZ is of type \"DONOTUSE\"\n",
        "IV PARTYID is of type \"DONOTUSE\""
       ]
      },
      {
       "output_type": "stream",
       "stream": "stdout",
       "text": [
        "\n",
        "IV XNORCSIZ is of type \"DONOTUSE\"\n",
        "IV PARTYID is of type \"DONOTUSE\""
       ]
      },
      {
       "output_type": "stream",
       "stream": "stdout",
       "text": [
        "\n",
        "IV XNORCSIZ is of type \"DONOTUSE\"\n",
        "IV PARTYID is of type \"DONOTUSE\""
       ]
      },
      {
       "output_type": "stream",
       "stream": "stdout",
       "text": [
        "\n",
        "IV XNORCSIZ is of type \"DONOTUSE\"\n",
        "IV PARTYID is of type \"DONOTUSE\""
       ]
      },
      {
       "output_type": "stream",
       "stream": "stdout",
       "text": [
        "\n",
        "IV XNORCSIZ is of type \"DONOTUSE\"\n",
        "IV PARTYID is of type \"DONOTUSE\""
       ]
      },
      {
       "output_type": "stream",
       "stream": "stdout",
       "text": [
        "\n",
        "IV XNORCSIZ is of type \"DONOTUSE\"\n",
        "IV PARTYID is of type \"DONOTUSE\""
       ]
      },
      {
       "output_type": "stream",
       "stream": "stdout",
       "text": [
        "\n",
        "IV XNORCSIZ is of type \"DONOTUSE\"\n",
        "IV PARTYID is of type \"DONOTUSE\""
       ]
      },
      {
       "output_type": "stream",
       "stream": "stdout",
       "text": [
        "\n",
        "IV XNORCSIZ is of type \"DONOTUSE\"\n",
        "IV PARTYID is of type \"DONOTUSE\""
       ]
      },
      {
       "output_type": "stream",
       "stream": "stdout",
       "text": [
        "\n",
        "IV XNORCSIZ is of type \"DONOTUSE\"\n",
        "IV PARTYID is of type \"DONOTUSE\""
       ]
      },
      {
       "output_type": "stream",
       "stream": "stdout",
       "text": [
        "\n",
        "IV XNORCSIZ is of type \"DONOTUSE\"\n",
        "IV PARTYID is of type \"DONOTUSE\""
       ]
      },
      {
       "output_type": "stream",
       "stream": "stdout",
       "text": [
        "\n",
        "IV XNORCSIZ is of type \"DONOTUSE\"\n",
        "IV PARTYID is of type \"DONOTUSE\""
       ]
      },
      {
       "output_type": "stream",
       "stream": "stdout",
       "text": [
        "\n",
        "IV XNORCSIZ is of type \"DONOTUSE\"\n",
        "Processing article:"
       ]
      },
      {
       "output_type": "stream",
       "stream": "stdout",
       "text": [
        " 2548\n",
        "categorical variable REG16 has more than 15 levels\n",
        "IV XNORCSIZ is of type \"DONOTUSE\"\n",
        "categorical variable REG16 has more than 15 levels"
       ]
      },
      {
       "output_type": "stream",
       "stream": "stdout",
       "text": [
        "\n",
        "IV XNORCSIZ is of type \"DONOTUSE\"\n",
        "categorical variable REG16 has more than 15 levels"
       ]
      },
      {
       "output_type": "stream",
       "stream": "stdout",
       "text": [
        "\n",
        "IV XNORCSIZ is of type \"DONOTUSE\"\n",
        "categorical variable REG16 has more than 15 levels"
       ]
      },
      {
       "output_type": "stream",
       "stream": "stdout",
       "text": [
        "\n",
        "IV XNORCSIZ is of type \"DONOTUSE\"\n",
        "categorical variable REG16 has more than 15 levels"
       ]
      },
      {
       "output_type": "stream",
       "stream": "stdout",
       "text": [
        "\n",
        "IV XNORCSIZ is of type \"DONOTUSE\"\n",
        "categorical variable REG16 has more than 15 levels"
       ]
      },
      {
       "output_type": "stream",
       "stream": "stdout",
       "text": [
        "\n",
        "IV XNORCSIZ is of type \"DONOTUSE\"\n",
        "categorical variable REG16 has more than 15 levels"
       ]
      },
      {
       "output_type": "stream",
       "stream": "stdout",
       "text": [
        "\n",
        "IV XNORCSIZ is of type \"DONOTUSE\"\n",
        "categorical variable REG16 has more than 15 levels"
       ]
      },
      {
       "output_type": "stream",
       "stream": "stdout",
       "text": [
        "\n",
        "IV XNORCSIZ is of type \"DONOTUSE\"\n",
        "categorical variable REG16 has more than 15 levels"
       ]
      },
      {
       "output_type": "stream",
       "stream": "stdout",
       "text": [
        "\n",
        "IV XNORCSIZ is of type \"DONOTUSE\"\n",
        "categorical variable REG16 has more than 15 levels"
       ]
      },
      {
       "output_type": "stream",
       "stream": "stdout",
       "text": [
        "\n",
        "IV XNORCSIZ is of type \"DONOTUSE\"\n",
        "categorical variable REG16 has more than 15 levels"
       ]
      },
      {
       "output_type": "stream",
       "stream": "stdout",
       "text": [
        "\n",
        "IV XNORCSIZ is of type \"DONOTUSE\"\n",
        "categorical variable REG16 has more than 15 levels"
       ]
      },
      {
       "output_type": "stream",
       "stream": "stdout",
       "text": [
        "\n",
        "IV XNORCSIZ is of type \"DONOTUSE\"\n",
        "Couldnt construct a suitable formula"
       ]
      },
      {
       "output_type": "stream",
       "stream": "stdout",
       "text": [
        "\n",
        "categorical variable REG16 has more than 15 levels\n",
        "IV XNORCSIZ is of type \"DONOTUSE\"\n",
        "categorical variable REG16 has more than 15 levels"
       ]
      },
      {
       "output_type": "stream",
       "stream": "stdout",
       "text": [
        "\n",
        "IV XNORCSIZ is of type \"DONOTUSE\"\n",
        "Processing article:"
       ]
      },
      {
       "output_type": "stream",
       "stream": "stdout",
       "text": [
        " 2554\n",
        "The number of variables in original model is different from the number in model on future years. Skipping."
       ]
      },
      {
       "output_type": "stream",
       "stream": "stdout",
       "text": [
        "\n",
        "Processing article: 2558\n",
        "The number of variables in original model is different from the number in model on future years. Skipping."
       ]
      },
      {
       "output_type": "stream",
       "stream": "stdout",
       "text": [
        "\n",
        "Processing article: 2565\n",
        "The number of variables in original model is different from the number in model on future years. Skipping."
       ]
      },
      {
       "output_type": "stream",
       "stream": "stdout",
       "text": [
        "\n",
        "Processing article: 2576\n",
        "Couldnt construct a suitable formula\n",
        "Processing article: 2581\n",
        "Processing article:"
       ]
      },
      {
       "output_type": "stream",
       "stream": "stdout",
       "text": [
        " 2586\n",
        "IV SPPRES is of type \"DONOTUSE\"\n",
        "IV SPPRES is of type \"DONOTUSE\""
       ]
      },
      {
       "output_type": "stream",
       "stream": "stdout",
       "text": [
        "\n",
        "IV SPPRES is of type \"DONOTUSE\""
       ]
      },
      {
       "output_type": "stream",
       "stream": "stdout",
       "text": [
        "\n",
        "IV SPPRES is of type \"DONOTUSE\""
       ]
      },
      {
       "output_type": "stream",
       "stream": "stdout",
       "text": [
        "\n",
        "Processing article:"
       ]
      },
      {
       "output_type": "stream",
       "stream": "stdout",
       "text": [
        " 2591\n",
        "The number of variables in original model is different from the number in model on future years. Skipping."
       ]
      },
      {
       "output_type": "stream",
       "stream": "stdout",
       "text": [
        "\n",
        "Processing article: 2594\n",
        "Processing article:"
       ]
      },
      {
       "output_type": "stream",
       "stream": "stdout",
       "text": [
        " 2601\n",
        "Couldnt construct a suitable formula\n",
        "Couldnt construct a suitable formula\n",
        "Couldnt construct a suitable formula\n",
        "Processing article: 2606\n",
        "Processing article:"
       ]
      },
      {
       "output_type": "stream",
       "stream": "stdout",
       "text": [
        " 2611\n",
        "IV WRKSTAT is of type \"DONOTUSE\"\n",
        "IV WRKSTAT is of type \"DONOTUSE\""
       ]
      },
      {
       "output_type": "stream",
       "stream": "stdout",
       "text": [
        "\n",
        "IV WRKSTAT is of type \"DONOTUSE\""
       ]
      },
      {
       "output_type": "stream",
       "stream": "stdout",
       "text": [
        "\n",
        "IV WRKSTAT is of type \"DONOTUSE\""
       ]
      },
      {
       "output_type": "stream",
       "stream": "stdout",
       "text": [
        "\n",
        "IV WRKSTAT is of type \"DONOTUSE\""
       ]
      },
      {
       "output_type": "stream",
       "stream": "stdout",
       "text": [
        "\n",
        "IV WRKSTAT is of type \"DONOTUSE\""
       ]
      },
      {
       "output_type": "stream",
       "stream": "stdout",
       "text": [
        "\n",
        "IV WRKSTAT is of type \"DONOTUSE\""
       ]
      },
      {
       "output_type": "stream",
       "stream": "stdout",
       "text": [
        "\n",
        "IV WRKSTAT is of type \"DONOTUSE\""
       ]
      },
      {
       "output_type": "stream",
       "stream": "stdout",
       "text": [
        "\n",
        "IV WRKSTAT is of type \"DONOTUSE\""
       ]
      },
      {
       "output_type": "stream",
       "stream": "stdout",
       "text": [
        "\n",
        "IV WRKSTAT is of type \"DONOTUSE\""
       ]
      },
      {
       "output_type": "stream",
       "stream": "stdout",
       "text": [
        "\n",
        "IV WRKSTAT is of type \"DONOTUSE\""
       ]
      },
      {
       "output_type": "stream",
       "stream": "stdout",
       "text": [
        "\n",
        "IV WRKSTAT is of type \"DONOTUSE\""
       ]
      },
      {
       "output_type": "stream",
       "stream": "stdout",
       "text": [
        "\n",
        "IV WRKSTAT is of type \"DONOTUSE\""
       ]
      },
      {
       "output_type": "stream",
       "stream": "stdout",
       "text": [
        "\n",
        "IV WRKSTAT is of type \"DONOTUSE\""
       ]
      },
      {
       "output_type": "stream",
       "stream": "stdout",
       "text": [
        "\n",
        "IV WRKSTAT is of type \"DONOTUSE\""
       ]
      },
      {
       "output_type": "stream",
       "stream": "stdout",
       "text": [
        "\n",
        "IV WRKSTAT is of type \"DONOTUSE\""
       ]
      },
      {
       "output_type": "stream",
       "stream": "stdout",
       "text": [
        "\n",
        "Processing article:"
       ]
      },
      {
       "output_type": "stream",
       "stream": "stdout",
       "text": [
        " 2612\n",
        "Processing article:"
       ]
      },
      {
       "output_type": "stream",
       "stream": "stdout",
       "text": [
        " 2616\n",
        "IV OCC is of type \"DONOTUSE\"\n",
        "IV PAOCC16 is of type \"DONOTUSE\"\n",
        "categorical variable REG16 has more than 15 levels\n",
        "IV OCC is of type \"DONOTUSE\""
       ]
      },
      {
       "output_type": "stream",
       "stream": "stdout",
       "text": [
        "\n",
        "IV PAOCC16 is of type \"DONOTUSE\"\n",
        "categorical variable REG16 has more than 15 levels\n",
        "IV OCC is of type \"DONOTUSE\""
       ]
      },
      {
       "output_type": "stream",
       "stream": "stdout",
       "text": [
        "\n",
        "IV PAOCC16 is of type \"DONOTUSE\"\n",
        "categorical variable REG16 has more than 15 levels\n",
        "IV OCC is of type \"DONOTUSE\""
       ]
      },
      {
       "output_type": "stream",
       "stream": "stdout",
       "text": [
        "\n",
        "IV PAOCC16 is of type \"DONOTUSE\"\n",
        "categorical variable REG16 has more than 15 levels\n",
        "IV OCC is of type \"DONOTUSE\""
       ]
      },
      {
       "output_type": "stream",
       "stream": "stdout",
       "text": [
        "\n",
        "IV PAOCC16 is of type \"DONOTUSE\"\n",
        "categorical variable REG16 has more than 15 levels\n",
        "IV OCC is of type \"DONOTUSE\""
       ]
      },
      {
       "output_type": "stream",
       "stream": "stdout",
       "text": [
        "\n",
        "IV PAOCC16 is of type \"DONOTUSE\"\n",
        "categorical variable REG16 has more than 15 levels\n",
        "Couldnt construct a suitable formula"
       ]
      },
      {
       "output_type": "stream",
       "stream": "stdout",
       "text": [
        "\n",
        "IV OCC is of type \"DONOTUSE\"\n",
        "IV PAOCC16 is of type \"DONOTUSE\"\n",
        "categorical variable REG16 has more than 15 levels\n",
        "IV OCC is of type \"DONOTUSE\""
       ]
      },
      {
       "output_type": "stream",
       "stream": "stdout",
       "text": [
        "\n",
        "IV PAOCC16 is of type \"DONOTUSE\"\n",
        "categorical variable REG16 has more than 15 levels\n",
        "IV OCC is of type \"DONOTUSE\""
       ]
      },
      {
       "output_type": "stream",
       "stream": "stdout",
       "text": [
        "\n",
        "IV PAOCC16 is of type \"DONOTUSE\"\n",
        "categorical variable REG16 has more than 15 levels\n",
        "IV OCC is of type \"DONOTUSE\""
       ]
      },
      {
       "output_type": "stream",
       "stream": "stdout",
       "text": [
        "\n",
        "IV PAOCC16 is of type \"DONOTUSE\"\n",
        "categorical variable REG16 has more than 15 levels\n",
        "IV OCC is of type \"DONOTUSE\""
       ]
      },
      {
       "output_type": "stream",
       "stream": "stdout",
       "text": [
        "\n",
        "IV PAOCC16 is of type \"DONOTUSE\"\n",
        "categorical variable REG16 has more than 15 levels\n",
        "IV OCC is of type \"DONOTUSE\""
       ]
      },
      {
       "output_type": "stream",
       "stream": "stdout",
       "text": [
        "\n",
        "IV PAOCC16 is of type \"DONOTUSE\"\n",
        "categorical variable REG16 has more than 15 levels\n",
        "IV OCC is of type \"DONOTUSE\""
       ]
      },
      {
       "output_type": "stream",
       "stream": "stdout",
       "text": [
        "\n",
        "IV PAOCC16 is of type \"DONOTUSE\"\n",
        "categorical variable REG16 has more than 15 levels\n",
        "IV OCC is of type \"DONOTUSE\""
       ]
      },
      {
       "output_type": "stream",
       "stream": "stdout",
       "text": [
        "\n",
        "IV PAOCC16 is of type \"DONOTUSE\"\n",
        "categorical variable REG16 has more than 15 levels\n",
        "Processing article:"
       ]
      },
      {
       "output_type": "stream",
       "stream": "stdout",
       "text": [
        " 2617\n",
        "IV WRKSTAT is of type \"DONOTUSE\"\n",
        "IV WRKSTAT is of type \"DONOTUSE\""
       ]
      },
      {
       "output_type": "stream",
       "stream": "stdout",
       "text": [
        "\n",
        "IV WRKSTAT is of type \"DONOTUSE\""
       ]
      },
      {
       "output_type": "stream",
       "stream": "stdout",
       "text": [
        "\n",
        "IV WRKSTAT is of type \"DONOTUSE\""
       ]
      },
      {
       "output_type": "stream",
       "stream": "stdout",
       "text": [
        "\n",
        "Processing article:"
       ]
      },
      {
       "output_type": "stream",
       "stream": "stdout",
       "text": [
        " 2642\n",
        "Couldnt construct a suitable formula\n",
        "Processing article: 2648\n",
        "categorical variable ETHNIC has more than 15 levels\n",
        "categorical variable ETHNIC has more than 15 levels"
       ]
      },
      {
       "output_type": "stream",
       "stream": "stdout",
       "text": [
        "\n",
        "Processing article:"
       ]
      },
      {
       "output_type": "stream",
       "stream": "stdout",
       "text": [
        " 2671\n",
        "categorical variable ETHNIC has more than 15 levels\n",
        "IV OCC is of type \"DONOTUSE\"\n",
        "IV SPOCC is of type \"DONOTUSE\"\n",
        "IV XNORCSIZ is of type \"DONOTUSE\"\n",
        "categorical variable ETHNIC has more than 15 levels"
       ]
      },
      {
       "output_type": "stream",
       "stream": "stdout",
       "text": [
        "\n",
        "IV OCC is of type \"DONOTUSE\"\n",
        "IV SPOCC is of type \"DONOTUSE\"\n",
        "IV XNORCSIZ is of type \"DONOTUSE\"\n",
        "categorical variable ETHNIC has more than 15 levels"
       ]
      },
      {
       "output_type": "stream",
       "stream": "stdout",
       "text": [
        "\n",
        "IV OCC is of type \"DONOTUSE\"\n",
        "IV SPOCC is of type \"DONOTUSE\"\n",
        "IV XNORCSIZ is of type \"DONOTUSE\"\n",
        "categorical variable ETHNIC has more than 15 levels"
       ]
      },
      {
       "output_type": "stream",
       "stream": "stdout",
       "text": [
        "\n",
        "IV OCC is of type \"DONOTUSE\"\n",
        "IV SPOCC is of type \"DONOTUSE\"\n",
        "IV XNORCSIZ is of type \"DONOTUSE\"\n",
        "categorical variable ETHNIC has more than 15 levels"
       ]
      },
      {
       "output_type": "stream",
       "stream": "stdout",
       "text": [
        "\n",
        "IV OCC is of type \"DONOTUSE\"\n",
        "IV SPOCC is of type \"DONOTUSE\"\n",
        "IV XNORCSIZ is of type \"DONOTUSE\"\n",
        "categorical variable ETHNIC has more than 15 levels"
       ]
      },
      {
       "output_type": "stream",
       "stream": "stdout",
       "text": [
        "\n",
        "IV OCC is of type \"DONOTUSE\"\n",
        "IV SPOCC is of type \"DONOTUSE\"\n",
        "IV XNORCSIZ is of type \"DONOTUSE\"\n",
        "categorical variable ETHNIC has more than 15 levels"
       ]
      },
      {
       "output_type": "stream",
       "stream": "stdout",
       "text": [
        "\n",
        "IV OCC is of type \"DONOTUSE\"\n",
        "IV SPOCC is of type \"DONOTUSE\"\n",
        "IV XNORCSIZ is of type \"DONOTUSE\"\n",
        "categorical variable ETHNIC has more than 15 levels"
       ]
      },
      {
       "output_type": "stream",
       "stream": "stdout",
       "text": [
        "\n",
        "IV OCC is of type \"DONOTUSE\"\n",
        "IV SPOCC is of type \"DONOTUSE\"\n",
        "IV XNORCSIZ is of type \"DONOTUSE\"\n",
        "categorical variable ETHNIC has more than 15 levels"
       ]
      },
      {
       "output_type": "stream",
       "stream": "stdout",
       "text": [
        "\n",
        "IV OCC is of type \"DONOTUSE\"\n",
        "IV SPOCC is of type \"DONOTUSE\"\n",
        "IV XNORCSIZ is of type \"DONOTUSE\"\n",
        "categorical variable ETHNIC has more than 15 levels"
       ]
      },
      {
       "output_type": "stream",
       "stream": "stdout",
       "text": [
        "\n",
        "IV OCC is of type \"DONOTUSE\"\n",
        "IV SPOCC is of type \"DONOTUSE\"\n",
        "IV XNORCSIZ is of type \"DONOTUSE\"\n",
        "categorical variable ETHNIC has more than 15 levels"
       ]
      },
      {
       "output_type": "stream",
       "stream": "stdout",
       "text": [
        "\n",
        "IV OCC is of type \"DONOTUSE\"\n",
        "IV SPOCC is of type \"DONOTUSE\"\n",
        "IV XNORCSIZ is of type \"DONOTUSE\"\n",
        "categorical variable ETHNIC has more than 15 levels"
       ]
      },
      {
       "output_type": "stream",
       "stream": "stdout",
       "text": [
        "\n",
        "IV OCC is of type \"DONOTUSE\"\n",
        "IV SPOCC is of type \"DONOTUSE\"\n",
        "IV XNORCSIZ is of type \"DONOTUSE\"\n",
        "categorical variable ETHNIC has more than 15 levels"
       ]
      },
      {
       "output_type": "stream",
       "stream": "stdout",
       "text": [
        "\n",
        "IV OCC is of type \"DONOTUSE\"\n",
        "IV SPOCC is of type \"DONOTUSE\"\n",
        "IV XNORCSIZ is of type \"DONOTUSE\"\n",
        "categorical variable ETHNIC has more than 15 levels"
       ]
      },
      {
       "output_type": "stream",
       "stream": "stdout",
       "text": [
        "\n",
        "IV OCC is of type \"DONOTUSE\"\n",
        "IV SPOCC is of type \"DONOTUSE\"\n",
        "IV XNORCSIZ is of type \"DONOTUSE\"\n",
        "categorical variable ETHNIC has more than 15 levels"
       ]
      },
      {
       "output_type": "stream",
       "stream": "stdout",
       "text": [
        "\n",
        "IV OCC is of type \"DONOTUSE\"\n",
        "IV SPOCC is of type \"DONOTUSE\"\n",
        "IV XNORCSIZ is of type \"DONOTUSE\"\n",
        "categorical variable ETHNIC has more than 15 levels"
       ]
      },
      {
       "output_type": "stream",
       "stream": "stdout",
       "text": [
        "\n",
        "IV OCC is of type \"DONOTUSE\"\n",
        "IV SPOCC is of type \"DONOTUSE\"\n",
        "IV XNORCSIZ is of type \"DONOTUSE\"\n",
        "categorical variable ETHNIC has more than 15 levels"
       ]
      },
      {
       "output_type": "stream",
       "stream": "stdout",
       "text": [
        "\n",
        "IV OCC is of type \"DONOTUSE\"\n",
        "IV SPOCC is of type \"DONOTUSE\"\n",
        "IV XNORCSIZ is of type \"DONOTUSE\"\n",
        "categorical variable ETHNIC has more than 15 levels"
       ]
      },
      {
       "output_type": "stream",
       "stream": "stdout",
       "text": [
        "\n",
        "IV OCC is of type \"DONOTUSE\"\n",
        "IV SPOCC is of type \"DONOTUSE\"\n",
        "IV XNORCSIZ is of type \"DONOTUSE\"\n",
        "categorical variable ETHNIC has more than 15 levels"
       ]
      },
      {
       "output_type": "stream",
       "stream": "stdout",
       "text": [
        "\n",
        "IV OCC is of type \"DONOTUSE\"\n",
        "IV SPOCC is of type \"DONOTUSE\"\n",
        "IV XNORCSIZ is of type \"DONOTUSE\"\n",
        "categorical variable ETHNIC has more than 15 levels"
       ]
      },
      {
       "output_type": "stream",
       "stream": "stdout",
       "text": [
        "\n",
        "IV OCC is of type \"DONOTUSE\"\n",
        "IV SPOCC is of type \"DONOTUSE\"\n",
        "IV XNORCSIZ is of type \"DONOTUSE\"\n",
        "categorical variable ETHNIC has more than 15 levels"
       ]
      },
      {
       "output_type": "stream",
       "stream": "stdout",
       "text": [
        "\n",
        "IV OCC is of type \"DONOTUSE\"\n",
        "IV SPOCC is of type \"DONOTUSE\"\n",
        "IV XNORCSIZ is of type \"DONOTUSE\"\n",
        "categorical variable ETHNIC has more than 15 levels"
       ]
      },
      {
       "output_type": "stream",
       "stream": "stdout",
       "text": [
        "\n",
        "IV OCC is of type \"DONOTUSE\"\n",
        "IV SPOCC is of type \"DONOTUSE\"\n",
        "IV XNORCSIZ is of type \"DONOTUSE\"\n",
        "categorical variable ETHNIC has more than 15 levels"
       ]
      },
      {
       "output_type": "stream",
       "stream": "stdout",
       "text": [
        "\n",
        "IV OCC is of type \"DONOTUSE\"\n",
        "IV SPOCC is of type \"DONOTUSE\"\n",
        "IV XNORCSIZ is of type \"DONOTUSE\"\n",
        "categorical variable ETHNIC has more than 15 levels"
       ]
      },
      {
       "output_type": "stream",
       "stream": "stdout",
       "text": [
        "\n",
        "IV OCC is of type \"DONOTUSE\"\n",
        "IV SPOCC is of type \"DONOTUSE\"\n",
        "IV XNORCSIZ is of type \"DONOTUSE\"\n",
        "categorical variable ETHNIC has more than 15 levels"
       ]
      },
      {
       "output_type": "stream",
       "stream": "stdout",
       "text": [
        "\n",
        "IV OCC is of type \"DONOTUSE\"\n",
        "IV SPOCC is of type \"DONOTUSE\"\n",
        "IV XNORCSIZ is of type \"DONOTUSE\"\n",
        "categorical variable ETHNIC has more than 15 levels"
       ]
      },
      {
       "output_type": "stream",
       "stream": "stdout",
       "text": [
        "\n",
        "IV OCC is of type \"DONOTUSE\"\n",
        "IV SPOCC is of type \"DONOTUSE\"\n",
        "IV XNORCSIZ is of type \"DONOTUSE\"\n",
        "Processing article:"
       ]
      },
      {
       "output_type": "stream",
       "stream": "stdout",
       "text": [
        " 2697\n",
        "Couldnt construct a suitable formula"
       ]
      },
      {
       "output_type": "stream",
       "stream": "stdout",
       "text": [
        "\n",
        "Couldnt construct a suitable formula"
       ]
      },
      {
       "output_type": "stream",
       "stream": "stdout",
       "text": [
        "\n",
        "Processing article:"
       ]
      },
      {
       "output_type": "stream",
       "stream": "stdout",
       "text": [
        " 2740\n",
        "IV OCC is of type \"DONOTUSE\"\n",
        "IV WRKSTAT is of type \"DONOTUSE\"\n",
        "IV OCC is of type \"DONOTUSE\""
       ]
      },
      {
       "output_type": "stream",
       "stream": "stdout",
       "text": [
        "\n",
        "IV WRKSTAT is of type \"DONOTUSE\"\n",
        "IV OCC is of type \"DONOTUSE\""
       ]
      },
      {
       "output_type": "stream",
       "stream": "stdout",
       "text": [
        "\n",
        "IV WRKSTAT is of type \"DONOTUSE\"\n",
        "IV OCC is of type \"DONOTUSE\""
       ]
      },
      {
       "output_type": "stream",
       "stream": "stdout",
       "text": [
        "\n",
        "IV WRKSTAT is of type \"DONOTUSE\"\n",
        "IV OCC is of type \"DONOTUSE\""
       ]
      },
      {
       "output_type": "stream",
       "stream": "stdout",
       "text": [
        "\n",
        "IV WRKSTAT is of type \"DONOTUSE\"\n",
        "IV OCC is of type \"DONOTUSE\""
       ]
      },
      {
       "output_type": "stream",
       "stream": "stdout",
       "text": [
        "\n",
        "IV WRKSTAT is of type \"DONOTUSE\"\n",
        "IV OCC is of type \"DONOTUSE\""
       ]
      },
      {
       "output_type": "stream",
       "stream": "stdout",
       "text": [
        "\n",
        "IV WRKSTAT is of type \"DONOTUSE\"\n",
        "IV OCC is of type \"DONOTUSE\""
       ]
      },
      {
       "output_type": "stream",
       "stream": "stdout",
       "text": [
        "\n",
        "IV WRKSTAT is of type \"DONOTUSE\"\n",
        "IV OCC is of type \"DONOTUSE\""
       ]
      },
      {
       "output_type": "stream",
       "stream": "stdout",
       "text": [
        "\n",
        "IV WRKSTAT is of type \"DONOTUSE\"\n",
        "IV OCC is of type \"DONOTUSE\""
       ]
      },
      {
       "output_type": "stream",
       "stream": "stdout",
       "text": [
        "\n",
        "IV WRKSTAT is of type \"DONOTUSE\"\n",
        "IV OCC is of type \"DONOTUSE\""
       ]
      },
      {
       "output_type": "stream",
       "stream": "stdout",
       "text": [
        "\n",
        "IV WRKSTAT is of type \"DONOTUSE\"\n",
        "IV OCC is of type \"DONOTUSE\""
       ]
      },
      {
       "output_type": "stream",
       "stream": "stdout",
       "text": [
        "\n",
        "IV WRKSTAT is of type \"DONOTUSE\"\n",
        "IV OCC is of type \"DONOTUSE\""
       ]
      },
      {
       "output_type": "stream",
       "stream": "stdout",
       "text": [
        "\n",
        "IV WRKSTAT is of type \"DONOTUSE\"\n",
        "IV OCC is of type \"DONOTUSE\""
       ]
      },
      {
       "output_type": "stream",
       "stream": "stdout",
       "text": [
        "\n",
        "IV WRKSTAT is of type \"DONOTUSE\"\n",
        "IV OCC is of type \"DONOTUSE\""
       ]
      },
      {
       "output_type": "stream",
       "stream": "stdout",
       "text": [
        "\n",
        "IV WRKSTAT is of type \"DONOTUSE\"\n",
        "IV OCC is of type \"DONOTUSE\""
       ]
      },
      {
       "output_type": "stream",
       "stream": "stdout",
       "text": [
        "\n",
        "IV WRKSTAT is of type \"DONOTUSE\"\n",
        "IV OCC is of type \"DONOTUSE\""
       ]
      },
      {
       "output_type": "stream",
       "stream": "stdout",
       "text": [
        "\n",
        "IV WRKSTAT is of type \"DONOTUSE\"\n",
        "IV OCC is of type \"DONOTUSE\""
       ]
      },
      {
       "output_type": "stream",
       "stream": "stdout",
       "text": [
        "\n",
        "IV WRKSTAT is of type \"DONOTUSE\"\n",
        "Processing article:"
       ]
      },
      {
       "output_type": "stream",
       "stream": "stdout",
       "text": [
        " 2753\n",
        "categorical variable DENOM has more than 15 levels\n",
        "categorical variable DENOM16 has more than 15 levels\n",
        "IV OTH16 is of type \"DONOTUSE\"\n",
        "IV OTHER is of type \"DONOTUSE\"\n",
        "Either the  params or the R^2 is too high. Skipping."
       ]
      },
      {
       "output_type": "stream",
       "stream": "stdout",
       "text": [
        "\n",
        "categorical variable DENOM has more than 15 levels\n",
        "categorical variable DENOM16 has more than 15 levels\n",
        "IV OTH16 is of type \"DONOTUSE\"\n",
        "IV OTHER is of type \"DONOTUSE\"\n",
        "Either the  params or the R^2 is too high. Skipping."
       ]
      },
      {
       "output_type": "stream",
       "stream": "stdout",
       "text": [
        "\n",
        "categorical variable DENOM has more than 15 levels\n",
        "categorical variable DENOM16 has more than 15 levels\n",
        "IV OTH16 is of type \"DONOTUSE\"\n",
        "IV OTHER is of type \"DONOTUSE\"\n",
        "Either the  params or the R^2 is too high. Skipping."
       ]
      },
      {
       "output_type": "stream",
       "stream": "stdout",
       "text": [
        "\n",
        "categorical variable DENOM has more than 15 levels\n",
        "categorical variable DENOM16 has more than 15 levels\n",
        "IV OTH16 is of type \"DONOTUSE\"\n",
        "IV OTHER is of type \"DONOTUSE\"\n",
        "Either the  params or the R^2 is too high. Skipping."
       ]
      },
      {
       "output_type": "stream",
       "stream": "stdout",
       "text": [
        "\n",
        "categorical variable DENOM has more than 15 levels\n",
        "categorical variable DENOM16 has more than 15 levels\n",
        "IV OTH16 is of type \"DONOTUSE\"\n",
        "IV OTHER is of type \"DONOTUSE\"\n",
        "Either the  params or the R^2 is too high. Skipping."
       ]
      },
      {
       "output_type": "stream",
       "stream": "stdout",
       "text": [
        "\n",
        "categorical variable DENOM has more than 15 levels\n",
        "categorical variable DENOM16 has more than 15 levels\n",
        "IV OTH16 is of type \"DONOTUSE\"\n",
        "IV OTHER is of type \"DONOTUSE\"\n",
        "Either the  params or the R^2 is too high. Skipping."
       ]
      },
      {
       "output_type": "stream",
       "stream": "stdout",
       "text": [
        "\n",
        "categorical variable DENOM has more than 15 levels\n",
        "categorical variable DENOM16 has more than 15 levels\n",
        "IV OTH16 is of type \"DONOTUSE\"\n",
        "IV OTHER is of type \"DONOTUSE\"\n",
        "Either the  params or the R^2 is too high. Skipping."
       ]
      },
      {
       "output_type": "stream",
       "stream": "stdout",
       "text": [
        "\n",
        "Processing article: 2783\n",
        "Dropping column YEAR because it is constant\n",
        "Couldnt construct a suitable formula\n",
        "Dropping column YEAR because it is constant\n",
        "Either the  params or the R^2 is too high. Skipping."
       ]
      },
      {
       "output_type": "stream",
       "stream": "stdout",
       "text": [
        "\n",
        "Processing article: 2789\n",
        "IV CLASS is of type \"DONOTUSE\"\n",
        "categorical variable ETHNIC has more than 15 levels\n",
        "IV OCC is of type \"DONOTUSE\"\n",
        "IV XNORCSIZ is of type \"DONOTUSE\"\n",
        "IV CLASS is of type \"DONOTUSE\""
       ]
      },
      {
       "output_type": "stream",
       "stream": "stdout",
       "text": [
        "\n",
        "categorical variable ETHNIC has more than 15 levels\n",
        "IV OCC is of type \"DONOTUSE\"\n",
        "IV XNORCSIZ is of type \"DONOTUSE\"\n",
        "The number of variables in original model is different from the number in model on future years. Skipping."
       ]
      },
      {
       "output_type": "stream",
       "stream": "stdout",
       "text": [
        "\n",
        "Processing article: 2800\n",
        "IV WRKSTAT is of type \"DONOTUSE\"\n",
        "IV WRKSTAT is of type \"DONOTUSE\""
       ]
      },
      {
       "output_type": "stream",
       "stream": "stdout",
       "text": [
        "\n",
        "IV WRKSTAT is of type \"DONOTUSE\""
       ]
      },
      {
       "output_type": "stream",
       "stream": "stdout",
       "text": [
        "\n",
        "IV WRKSTAT is of type \"DONOTUSE\""
       ]
      },
      {
       "output_type": "stream",
       "stream": "stdout",
       "text": [
        "\n",
        "IV WRKSTAT is of type \"DONOTUSE\""
       ]
      },
      {
       "output_type": "stream",
       "stream": "stdout",
       "text": [
        "\n",
        "IV WRKSTAT is of type \"DONOTUSE\""
       ]
      },
      {
       "output_type": "stream",
       "stream": "stdout",
       "text": [
        "\n",
        "IV WRKSTAT is of type \"DONOTUSE\""
       ]
      },
      {
       "output_type": "stream",
       "stream": "stdout",
       "text": [
        "\n",
        "IV WRKSTAT is of type \"DONOTUSE\""
       ]
      },
      {
       "output_type": "stream",
       "stream": "stdout",
       "text": [
        "\n",
        "IV WRKSTAT is of type \"DONOTUSE\""
       ]
      },
      {
       "output_type": "stream",
       "stream": "stdout",
       "text": [
        "\n",
        "IV WRKSTAT is of type \"DONOTUSE\""
       ]
      },
      {
       "output_type": "stream",
       "stream": "stdout",
       "text": [
        "\n",
        "Processing article:"
       ]
      },
      {
       "output_type": "stream",
       "stream": "stdout",
       "text": [
        " 2801\n",
        "Couldnt construct a suitable formula\n",
        "Processing article: 2822\n",
        "Couldnt construct a suitable formula"
       ]
      },
      {
       "output_type": "stream",
       "stream": "stdout",
       "text": [
        "\n",
        "Processing article: 2824\n",
        "Processing article:"
       ]
      },
      {
       "output_type": "stream",
       "stream": "stdout",
       "text": [
        " 2853\n",
        "IV BIBLE is of type \"DONOTUSE\"\n",
        "IV BIBLE is of type \"DONOTUSE\""
       ]
      },
      {
       "output_type": "stream",
       "stream": "stdout",
       "text": [
        "\n",
        "Processing article:"
       ]
      },
      {
       "output_type": "stream",
       "stream": "stdout",
       "text": [
        " 2877\n",
        "Processing article:"
       ]
      },
      {
       "output_type": "stream",
       "stream": "stdout",
       "text": [
        " 2884\n",
        "Couldnt construct a suitable formula\n",
        "Processing article: 2892\n",
        "Processing article:"
       ]
      },
      {
       "output_type": "stream",
       "stream": "stdout",
       "text": [
        " 2902\n",
        "Couldnt construct a suitable formula\n",
        "Couldnt construct a suitable formula\n",
        "Processing article: 2943\n",
        "IV OCC is of type \"DONOTUSE\""
       ]
      },
      {
       "output_type": "stream",
       "stream": "stdout",
       "text": [
        "\n",
        "IV OCC is of type \"DONOTUSE\""
       ]
      },
      {
       "output_type": "stream",
       "stream": "stdout",
       "text": [
        "\n",
        "Processing article:"
       ]
      },
      {
       "output_type": "stream",
       "stream": "stdout",
       "text": [
        " 2952\n",
        "Couldnt construct a suitable formula"
       ]
      },
      {
       "output_type": "stream",
       "stream": "stdout",
       "text": [
        "\n",
        "Processing article:"
       ]
      },
      {
       "output_type": "stream",
       "stream": "stdout",
       "text": [
        " 2974\n",
        "IV PAOCC16 is of type \"DONOTUSE\"\n",
        "IV SPOCC is of type \"DONOTUSE\"\n",
        "IV PAOCC16 is of type \"DONOTUSE\""
       ]
      },
      {
       "output_type": "stream",
       "stream": "stdout",
       "text": [
        "\n",
        "IV SPOCC is of type \"DONOTUSE\"\n",
        "Couldnt construct a suitable formula"
       ]
      },
      {
       "output_type": "stream",
       "stream": "stdout",
       "text": [
        "\n",
        "Couldnt construct a suitable formula\n",
        "Processing article: 2984\n",
        "IV WRKSTAT is of type \"DONOTUSE\"\n",
        "IV WRKSTAT is of type \"DONOTUSE\""
       ]
      },
      {
       "output_type": "stream",
       "stream": "stdout",
       "text": [
        "\n",
        "Processing article:"
       ]
      },
      {
       "output_type": "stream",
       "stream": "stdout",
       "text": [
        " 3011\n",
        "Couldnt construct a suitable formula\n",
        "Processing article: 3016\n",
        "categorical variable DENOM16 has more than 15 levels\n",
        "categorical variable REG16 has more than 15 levels\n",
        "categorical variable DENOM16 has more than 15 levels"
       ]
      },
      {
       "output_type": "stream",
       "stream": "stdout",
       "text": [
        "\n",
        "categorical variable REG16 has more than 15 levels\n",
        "Couldnt construct a suitable formula"
       ]
      },
      {
       "output_type": "stream",
       "stream": "stdout",
       "text": [
        "\n",
        "Couldnt construct a suitable formula\n",
        "Couldnt construct a suitable formula\n",
        "Couldnt construct a suitable formula\n",
        "Processing article: 3017\n",
        "Couldnt construct a suitable formula\n",
        "Processing article: 3027\n",
        "categorical variable DENOM has more than 15 levels"
       ]
      },
      {
       "output_type": "stream",
       "stream": "stdout",
       "text": [
        "\n",
        "categorical variable DENOM has more than 15 levels"
       ]
      },
      {
       "output_type": "stream",
       "stream": "stdout",
       "text": [
        "\n",
        "Processing article:"
       ]
      },
      {
       "output_type": "stream",
       "stream": "stdout",
       "text": [
        " 3037\n",
        "The number of variables in original model is different from the number in model on future years. Skipping."
       ]
      },
      {
       "output_type": "stream",
       "stream": "stdout",
       "text": [
        "\n",
        "The number of variables in original model is different from the number in model on future years. Skipping."
       ]
      },
      {
       "output_type": "stream",
       "stream": "stdout",
       "text": [
        "\n",
        "The number of variables in original model is different from the number in model on future years. Skipping."
       ]
      },
      {
       "output_type": "stream",
       "stream": "stdout",
       "text": [
        "\n",
        "The number of variables in original model is different from the number in model on future years. Skipping."
       ]
      },
      {
       "output_type": "stream",
       "stream": "stdout",
       "text": [
        "\n",
        "Processing article: 3094\n",
        "Couldnt construct a suitable formula\n",
        "Processing article: 3141\n",
        "Couldnt construct a suitable formula\n",
        "Processing article: 3164\n",
        "Processing article:"
       ]
      },
      {
       "output_type": "stream",
       "stream": "stdout",
       "text": [
        " 3184\n",
        "Processing article:"
       ]
      },
      {
       "output_type": "stream",
       "stream": "stdout",
       "text": [
        " 3191\n",
        "Couldnt construct a suitable formula\n",
        "Processing article: 3231\n",
        "Processing article:"
       ]
      },
      {
       "output_type": "stream",
       "stream": "stdout",
       "text": [
        " 3250\n",
        "categorical variable DENOM has more than 15 levels\n",
        "categorical variable REG16 has more than 15 levels\n",
        "categorical variable DENOM has more than 15 levels"
       ]
      },
      {
       "output_type": "stream",
       "stream": "stdout",
       "text": [
        "\n",
        "categorical variable REG16 has more than 15 levels\n",
        "categorical variable DENOM has more than 15 levels"
       ]
      },
      {
       "output_type": "stream",
       "stream": "stdout",
       "text": [
        "\n",
        "categorical variable REG16 has more than 15 levels\n",
        "categorical variable DENOM has more than 15 levels"
       ]
      },
      {
       "output_type": "stream",
       "stream": "stdout",
       "text": [
        "\n",
        "categorical variable REG16 has more than 15 levels\n",
        "categorical variable DENOM has more than 15 levels"
       ]
      },
      {
       "output_type": "stream",
       "stream": "stdout",
       "text": [
        "\n",
        "categorical variable REG16 has more than 15 levels\n",
        "categorical variable DENOM has more than 15 levels"
       ]
      },
      {
       "output_type": "stream",
       "stream": "stdout",
       "text": [
        "\n",
        "categorical variable REG16 has more than 15 levels\n",
        "categorical variable DENOM has more than 15 levels"
       ]
      },
      {
       "output_type": "stream",
       "stream": "stdout",
       "text": [
        "\n",
        "categorical variable REG16 has more than 15 levels\n",
        "categorical variable DENOM has more than 15 levels"
       ]
      },
      {
       "output_type": "stream",
       "stream": "stdout",
       "text": [
        "\n",
        "categorical variable REG16 has more than 15 levels\n",
        "categorical variable DENOM has more than 15 levels"
       ]
      },
      {
       "output_type": "stream",
       "stream": "stdout",
       "text": [
        "\n",
        "categorical variable REG16 has more than 15 levels\n",
        "categorical variable DENOM has more than 15 levels"
       ]
      },
      {
       "output_type": "stream",
       "stream": "stdout",
       "text": [
        "\n",
        "categorical variable REG16 has more than 15 levels\n",
        "categorical variable DENOM has more than 15 levels"
       ]
      },
      {
       "output_type": "stream",
       "stream": "stdout",
       "text": [
        "\n",
        "categorical variable REG16 has more than 15 levels\n",
        "categorical variable DENOM has more than 15 levels"
       ]
      },
      {
       "output_type": "stream",
       "stream": "stdout",
       "text": [
        "\n",
        "categorical variable REG16 has more than 15 levels\n",
        "categorical variable DENOM has more than 15 levels"
       ]
      },
      {
       "output_type": "stream",
       "stream": "stdout",
       "text": [
        "\n",
        "categorical variable REG16 has more than 15 levels\n",
        "categorical variable DENOM has more than 15 levels"
       ]
      },
      {
       "output_type": "stream",
       "stream": "stdout",
       "text": [
        "\n",
        "categorical variable REG16 has more than 15 levels\n",
        "Couldnt construct a suitable formula"
       ]
      },
      {
       "output_type": "stream",
       "stream": "stdout",
       "text": [
        "\n",
        "Couldnt construct a suitable formula\n",
        "categorical variable DENOM has more than 15 levels\n",
        "categorical variable REG16 has more than 15 levels\n",
        "categorical variable DENOM has more than 15 levels"
       ]
      },
      {
       "output_type": "stream",
       "stream": "stdout",
       "text": [
        "\n",
        "categorical variable REG16 has more than 15 levels\n",
        "categorical variable DENOM has more than 15 levels"
       ]
      },
      {
       "output_type": "stream",
       "stream": "stdout",
       "text": [
        "\n",
        "categorical variable REG16 has more than 15 levels\n",
        "categorical variable DENOM has more than 15 levels"
       ]
      },
      {
       "output_type": "stream",
       "stream": "stdout",
       "text": [
        "\n",
        "categorical variable REG16 has more than 15 levels\n",
        "categorical variable DENOM has more than 15 levels"
       ]
      },
      {
       "output_type": "stream",
       "stream": "stdout",
       "text": [
        "\n",
        "categorical variable REG16 has more than 15 levels\n",
        "categorical variable DENOM has more than 15 levels"
       ]
      },
      {
       "output_type": "stream",
       "stream": "stdout",
       "text": [
        "\n",
        "categorical variable REG16 has more than 15 levels\n",
        "categorical variable DENOM has more than 15 levels"
       ]
      },
      {
       "output_type": "stream",
       "stream": "stdout",
       "text": [
        "\n",
        "categorical variable REG16 has more than 15 levels\n",
        "categorical variable DENOM has more than 15 levels"
       ]
      },
      {
       "output_type": "stream",
       "stream": "stdout",
       "text": [
        "\n",
        "categorical variable REG16 has more than 15 levels\n",
        "Couldnt construct a suitable formula"
       ]
      },
      {
       "output_type": "stream",
       "stream": "stdout",
       "text": [
        "\n",
        "categorical variable DENOM has more than 15 levels\n",
        "categorical variable REG16 has more than 15 levels\n",
        "categorical variable DENOM has more than 15 levels"
       ]
      },
      {
       "output_type": "stream",
       "stream": "stdout",
       "text": [
        "\n",
        "categorical variable REG16 has more than 15 levels\n",
        "Processing article:"
       ]
      },
      {
       "output_type": "stream",
       "stream": "stdout",
       "text": [
        " 3268\n",
        "IV OCC is of type \"DONOTUSE\"\n",
        "IV PAOCC16 is of type \"DONOTUSE\"\n",
        "IV WRKSTAT is of type \"DONOTUSE\"\n",
        "IV OCC is of type \"DONOTUSE\""
       ]
      },
      {
       "output_type": "stream",
       "stream": "stdout",
       "text": [
        "\n",
        "IV PAOCC16 is of type \"DONOTUSE\"\n",
        "IV WRKSTAT is of type \"DONOTUSE\"\n",
        "Processing article:"
       ]
      },
      {
       "output_type": "stream",
       "stream": "stdout",
       "text": [
        " 3287\n",
        "categorical variable ETHNIC has more than 15 levels\n",
        "IV XNORCSIZ is of type \"DONOTUSE\"\n",
        "categorical variable ETHNIC has more than 15 levels"
       ]
      },
      {
       "output_type": "stream",
       "stream": "stdout",
       "text": [
        "\n",
        "IV XNORCSIZ is of type \"DONOTUSE\"\n",
        "categorical variable ETHNIC has more than 15 levels"
       ]
      },
      {
       "output_type": "stream",
       "stream": "stdout",
       "text": [
        "\n",
        "IV XNORCSIZ is of type \"DONOTUSE\"\n",
        "categorical variable ETHNIC has more than 15 levels"
       ]
      },
      {
       "output_type": "stream",
       "stream": "stdout",
       "text": [
        "\n",
        "IV XNORCSIZ is of type \"DONOTUSE\"\n",
        "categorical variable ETHNIC has more than 15 levels"
       ]
      },
      {
       "output_type": "stream",
       "stream": "stdout",
       "text": [
        "\n",
        "IV XNORCSIZ is of type \"DONOTUSE\"\n",
        "categorical variable ETHNIC has more than 15 levels"
       ]
      },
      {
       "output_type": "stream",
       "stream": "stdout",
       "text": [
        "\n",
        "IV XNORCSIZ is of type \"DONOTUSE\"\n",
        "categorical variable ETHNIC has more than 15 levels"
       ]
      },
      {
       "output_type": "stream",
       "stream": "stdout",
       "text": [
        "\n",
        "IV XNORCSIZ is of type \"DONOTUSE\"\n",
        "categorical variable ETHNIC has more than 15 levels"
       ]
      },
      {
       "output_type": "stream",
       "stream": "stdout",
       "text": [
        "\n",
        "IV XNORCSIZ is of type \"DONOTUSE\"\n",
        "categorical variable ETHNIC has more than 15 levels"
       ]
      },
      {
       "output_type": "stream",
       "stream": "stdout",
       "text": [
        "\n",
        "IV XNORCSIZ is of type \"DONOTUSE\"\n",
        "categorical variable ETHNIC has more than 15 levels"
       ]
      },
      {
       "output_type": "stream",
       "stream": "stdout",
       "text": [
        "\n",
        "IV XNORCSIZ is of type \"DONOTUSE\"\n",
        "categorical variable ETHNIC has more than 15 levels"
       ]
      },
      {
       "output_type": "stream",
       "stream": "stdout",
       "text": [
        "\n",
        "IV XNORCSIZ is of type \"DONOTUSE\"\n",
        "categorical variable ETHNIC has more than 15 levels"
       ]
      },
      {
       "output_type": "stream",
       "stream": "stdout",
       "text": [
        "\n",
        "IV XNORCSIZ is of type \"DONOTUSE\"\n",
        "Processing article:"
       ]
      },
      {
       "output_type": "stream",
       "stream": "stdout",
       "text": [
        " 3298\n",
        "Processing article:"
       ]
      },
      {
       "output_type": "stream",
       "stream": "stdout",
       "text": [
        " 3300\n",
        "Processing article:"
       ]
      },
      {
       "output_type": "stream",
       "stream": "stdout",
       "text": [
        " 3313\n",
        "IV WRKSTAT is of type \"DONOTUSE\"\n",
        "IV XNORCSIZ is of type \"DONOTUSE\"\n",
        "IV WRKSTAT is of type \"DONOTUSE\""
       ]
      },
      {
       "output_type": "stream",
       "stream": "stdout",
       "text": [
        "\n",
        "IV XNORCSIZ is of type \"DONOTUSE\"\n",
        "IV WRKSTAT is of type \"DONOTUSE\""
       ]
      },
      {
       "output_type": "stream",
       "stream": "stdout",
       "text": [
        "\n",
        "IV XNORCSIZ is of type \"DONOTUSE\"\n",
        "IV WRKSTAT is of type \"DONOTUSE\""
       ]
      },
      {
       "output_type": "stream",
       "stream": "stdout",
       "text": [
        "\n",
        "IV XNORCSIZ is of type \"DONOTUSE\"\n",
        "IV WRKSTAT is of type \"DONOTUSE\""
       ]
      },
      {
       "output_type": "stream",
       "stream": "stdout",
       "text": [
        "\n",
        "IV XNORCSIZ is of type \"DONOTUSE\"\n",
        "IV WRKSTAT is of type \"DONOTUSE\""
       ]
      },
      {
       "output_type": "stream",
       "stream": "stdout",
       "text": [
        "\n",
        "IV XNORCSIZ is of type \"DONOTUSE\"\n",
        "IV WRKSTAT is of type \"DONOTUSE\""
       ]
      },
      {
       "output_type": "stream",
       "stream": "stdout",
       "text": [
        "\n",
        "IV XNORCSIZ is of type \"DONOTUSE\"\n",
        "IV WRKSTAT is of type \"DONOTUSE\""
       ]
      },
      {
       "output_type": "stream",
       "stream": "stdout",
       "text": [
        "\n",
        "IV XNORCSIZ is of type \"DONOTUSE\"\n",
        "IV WRKSTAT is of type \"DONOTUSE\""
       ]
      },
      {
       "output_type": "stream",
       "stream": "stdout",
       "text": [
        "\n",
        "IV XNORCSIZ is of type \"DONOTUSE\"\n",
        "IV WRKSTAT is of type \"DONOTUSE\""
       ]
      },
      {
       "output_type": "stream",
       "stream": "stdout",
       "text": [
        "\n",
        "IV XNORCSIZ is of type \"DONOTUSE\"\n",
        "IV WRKSTAT is of type \"DONOTUSE\""
       ]
      },
      {
       "output_type": "stream",
       "stream": "stdout",
       "text": [
        "\n",
        "IV XNORCSIZ is of type \"DONOTUSE\"\n",
        "IV WRKSTAT is of type \"DONOTUSE\""
       ]
      },
      {
       "output_type": "stream",
       "stream": "stdout",
       "text": [
        "\n",
        "IV XNORCSIZ is of type \"DONOTUSE\"\n",
        "Processing article:"
       ]
      },
      {
       "output_type": "stream",
       "stream": "stdout",
       "text": [
        " 3323\n",
        "IV SRCBELT is of type \"DONOTUSE\"\n",
        "IV SRCBELT is of type \"DONOTUSE\""
       ]
      },
      {
       "output_type": "stream",
       "stream": "stdout",
       "text": [
        "\n",
        "IV SRCBELT is of type \"DONOTUSE\""
       ]
      },
      {
       "output_type": "stream",
       "stream": "stdout",
       "text": [
        "\n",
        "IV SRCBELT is of type \"DONOTUSE\""
       ]
      },
      {
       "output_type": "stream",
       "stream": "stdout",
       "text": [
        "\n",
        "IV SRCBELT is of type \"DONOTUSE\""
       ]
      },
      {
       "output_type": "stream",
       "stream": "stdout",
       "text": [
        "\n",
        "IV SRCBELT is of type \"DONOTUSE\""
       ]
      },
      {
       "output_type": "stream",
       "stream": "stdout",
       "text": [
        "\n",
        "IV SRCBELT is of type \"DONOTUSE\""
       ]
      },
      {
       "output_type": "stream",
       "stream": "stdout",
       "text": [
        "\n",
        "IV SRCBELT is of type \"DONOTUSE\""
       ]
      },
      {
       "output_type": "stream",
       "stream": "stdout",
       "text": [
        "\n",
        "IV SRCBELT is of type \"DONOTUSE\""
       ]
      },
      {
       "output_type": "stream",
       "stream": "stdout",
       "text": [
        "\n",
        "IV SRCBELT is of type \"DONOTUSE\""
       ]
      },
      {
       "output_type": "stream",
       "stream": "stdout",
       "text": [
        "\n",
        "IV SRCBELT is of type \"DONOTUSE\""
       ]
      },
      {
       "output_type": "stream",
       "stream": "stdout",
       "text": [
        "\n",
        "IV SRCBELT is of type \"DONOTUSE\""
       ]
      },
      {
       "output_type": "stream",
       "stream": "stdout",
       "text": [
        "\n",
        "Processing article:"
       ]
      },
      {
       "output_type": "stream",
       "stream": "stdout",
       "text": [
        " 3347\n",
        "Processing article:"
       ]
      },
      {
       "output_type": "stream",
       "stream": "stdout",
       "text": [
        " 3350\n",
        "categorical variable ETHNIC has more than 15 levels\n",
        "categorical variable ETHNIC has more than 15 levels"
       ]
      },
      {
       "output_type": "stream",
       "stream": "stdout",
       "text": [
        "\n",
        "The number of variables in original model is different from the number in model on future years. Skipping."
       ]
      },
      {
       "output_type": "stream",
       "stream": "stdout",
       "text": [
        "\n",
        "categorical variable ETHNIC has more than 15 levels\n",
        "categorical variable ETHNIC has more than 15 levels"
       ]
      },
      {
       "output_type": "stream",
       "stream": "stdout",
       "text": [
        "\n",
        "The number of variables in original model is different from the number in model on future years. Skipping."
       ]
      },
      {
       "output_type": "stream",
       "stream": "stdout",
       "text": [
        "\n",
        "categorical variable ETHNIC has more than 15 levels\n",
        "categorical variable ETHNIC has more than 15 levels"
       ]
      },
      {
       "output_type": "stream",
       "stream": "stdout",
       "text": [
        "\n",
        "The number of variables in original model is different from the number in model on future years. Skipping."
       ]
      },
      {
       "output_type": "stream",
       "stream": "stdout",
       "text": [
        "\n",
        "categorical variable ETHNIC has more than 15 levels\n",
        "categorical variable ETHNIC has more than 15 levels"
       ]
      },
      {
       "output_type": "stream",
       "stream": "stdout",
       "text": [
        "\n",
        "The number of variables in original model is different from the number in model on future years. Skipping."
       ]
      },
      {
       "output_type": "stream",
       "stream": "stdout",
       "text": [
        "\n",
        "categorical variable ETHNIC has more than 15 levels\n",
        "categorical variable ETHNIC has more than 15 levels"
       ]
      },
      {
       "output_type": "stream",
       "stream": "stdout",
       "text": [
        "\n",
        "The number of variables in original model is different from the number in model on future years. Skipping."
       ]
      },
      {
       "output_type": "stream",
       "stream": "stdout",
       "text": [
        "\n",
        "categorical variable ETHNIC has more than 15 levels\n",
        "categorical variable ETHNIC has more than 15 levels"
       ]
      },
      {
       "output_type": "stream",
       "stream": "stdout",
       "text": [
        "\n",
        "The number of variables in original model is different from the number in model on future years. Skipping."
       ]
      },
      {
       "output_type": "stream",
       "stream": "stdout",
       "text": [
        "\n",
        "Processing article: 3400\n",
        "categorical variable ETHNIC has more than 15 levels\n",
        "IV PARTYID is of type \"DONOTUSE\"\n",
        "categorical variable ETHNIC has more than 15 levels"
       ]
      },
      {
       "output_type": "stream",
       "stream": "stdout",
       "text": [
        "\n",
        "IV PARTYID is of type \"DONOTUSE\"\n",
        "categorical variable ETHNIC has more than 15 levels"
       ]
      },
      {
       "output_type": "stream",
       "stream": "stdout",
       "text": [
        "\n",
        "IV PARTYID is of type \"DONOTUSE\"\n",
        "categorical variable ETHNIC has more than 15 levels"
       ]
      },
      {
       "output_type": "stream",
       "stream": "stdout",
       "text": [
        "\n",
        "IV PARTYID is of type \"DONOTUSE\"\n",
        "categorical variable ETHNIC has more than 15 levels"
       ]
      },
      {
       "output_type": "stream",
       "stream": "stdout",
       "text": [
        "\n",
        "IV PARTYID is of type \"DONOTUSE\"\n",
        "categorical variable ETHNIC has more than 15 levels"
       ]
      },
      {
       "output_type": "stream",
       "stream": "stdout",
       "text": [
        "\n",
        "IV PARTYID is of type \"DONOTUSE\"\n",
        "categorical variable ETHNIC has more than 15 levels"
       ]
      },
      {
       "output_type": "stream",
       "stream": "stdout",
       "text": [
        "\n",
        "IV PARTYID is of type \"DONOTUSE\"\n",
        "categorical variable ETHNIC has more than 15 levels"
       ]
      },
      {
       "output_type": "stream",
       "stream": "stdout",
       "text": [
        "\n",
        "IV PARTYID is of type \"DONOTUSE\"\n",
        "categorical variable ETHNIC has more than 15 levels"
       ]
      },
      {
       "output_type": "stream",
       "stream": "stdout",
       "text": [
        "\n",
        "IV PARTYID is of type \"DONOTUSE\"\n",
        "categorical variable ETHNIC has more than 15 levels"
       ]
      },
      {
       "output_type": "stream",
       "stream": "stdout",
       "text": [
        "\n",
        "IV PARTYID is of type \"DONOTUSE\"\n",
        "categorical variable ETHNIC has more than 15 levels"
       ]
      },
      {
       "output_type": "stream",
       "stream": "stdout",
       "text": [
        "\n",
        "IV PARTYID is of type \"DONOTUSE\"\n",
        "categorical variable ETHNIC has more than 15 levels"
       ]
      },
      {
       "output_type": "stream",
       "stream": "stdout",
       "text": [
        "\n",
        "IV PARTYID is of type \"DONOTUSE\"\n",
        "categorical variable ETHNIC has more than 15 levels"
       ]
      },
      {
       "output_type": "stream",
       "stream": "stdout",
       "text": [
        "\n",
        "IV PARTYID is of type \"DONOTUSE\"\n",
        "categorical variable ETHNIC has more than 15 levels"
       ]
      },
      {
       "output_type": "stream",
       "stream": "stdout",
       "text": [
        "\n",
        "IV PARTYID is of type \"DONOTUSE\"\n",
        "categorical variable ETHNIC has more than 15 levels"
       ]
      },
      {
       "output_type": "stream",
       "stream": "stdout",
       "text": [
        "\n",
        "IV PARTYID is of type \"DONOTUSE\"\n",
        "categorical variable ETHNIC has more than 15 levels"
       ]
      },
      {
       "output_type": "stream",
       "stream": "stdout",
       "text": [
        "\n",
        "IV PARTYID is of type \"DONOTUSE\"\n",
        "Processing article:"
       ]
      },
      {
       "output_type": "stream",
       "stream": "stdout",
       "text": [
        " 3401\n",
        "categorical variable ETHNIC has more than 15 levels\n",
        "IV PARTYID is of type \"DONOTUSE\"\n",
        "categorical variable ETHNIC has more than 15 levels"
       ]
      },
      {
       "output_type": "stream",
       "stream": "stdout",
       "text": [
        "\n",
        "IV PARTYID is of type \"DONOTUSE\"\n",
        "categorical variable ETHNIC has more than 15 levels"
       ]
      },
      {
       "output_type": "stream",
       "stream": "stdout",
       "text": [
        "\n",
        "IV PARTYID is of type \"DONOTUSE\"\n",
        "categorical variable ETHNIC has more than 15 levels"
       ]
      },
      {
       "output_type": "stream",
       "stream": "stdout",
       "text": [
        "\n",
        "IV PARTYID is of type \"DONOTUSE\"\n",
        "categorical variable ETHNIC has more than 15 levels"
       ]
      },
      {
       "output_type": "stream",
       "stream": "stdout",
       "text": [
        "\n",
        "IV PARTYID is of type \"DONOTUSE\"\n",
        "categorical variable ETHNIC has more than 15 levels"
       ]
      },
      {
       "output_type": "stream",
       "stream": "stdout",
       "text": [
        "\n",
        "IV PARTYID is of type \"DONOTUSE\"\n",
        "categorical variable ETHNIC has more than 15 levels"
       ]
      },
      {
       "output_type": "stream",
       "stream": "stdout",
       "text": [
        "\n",
        "IV PARTYID is of type \"DONOTUSE\"\n",
        "categorical variable ETHNIC has more than 15 levels"
       ]
      },
      {
       "output_type": "stream",
       "stream": "stdout",
       "text": [
        "\n",
        "IV PARTYID is of type \"DONOTUSE\"\n",
        "categorical variable ETHNIC has more than 15 levels"
       ]
      },
      {
       "output_type": "stream",
       "stream": "stdout",
       "text": [
        "\n",
        "IV PARTYID is of type \"DONOTUSE\"\n",
        "categorical variable ETHNIC has more than 15 levels"
       ]
      },
      {
       "output_type": "stream",
       "stream": "stdout",
       "text": [
        "\n",
        "IV PARTYID is of type \"DONOTUSE\"\n",
        "categorical variable ETHNIC has more than 15 levels"
       ]
      },
      {
       "output_type": "stream",
       "stream": "stdout",
       "text": [
        "\n",
        "IV PARTYID is of type \"DONOTUSE\"\n",
        "categorical variable ETHNIC has more than 15 levels"
       ]
      },
      {
       "output_type": "stream",
       "stream": "stdout",
       "text": [
        "\n",
        "IV PARTYID is of type \"DONOTUSE\"\n",
        "categorical variable ETHNIC has more than 15 levels"
       ]
      },
      {
       "output_type": "stream",
       "stream": "stdout",
       "text": [
        "\n",
        "IV PARTYID is of type \"DONOTUSE\"\n",
        "categorical variable ETHNIC has more than 15 levels"
       ]
      },
      {
       "output_type": "stream",
       "stream": "stdout",
       "text": [
        "\n",
        "IV PARTYID is of type \"DONOTUSE\"\n",
        "categorical variable ETHNIC has more than 15 levels"
       ]
      },
      {
       "output_type": "stream",
       "stream": "stdout",
       "text": [
        "\n",
        "IV PARTYID is of type \"DONOTUSE\"\n",
        "categorical variable ETHNIC has more than 15 levels"
       ]
      },
      {
       "output_type": "stream",
       "stream": "stdout",
       "text": [
        "\n",
        "IV PARTYID is of type \"DONOTUSE\"\n",
        "Processing article:"
       ]
      },
      {
       "output_type": "stream",
       "stream": "stdout",
       "text": [
        " 3444\n",
        "categorical variable DENOM has more than 15 levels\n",
        "categorical variable ETHNIC has more than 15 levels\n",
        "IV XNORCSIZ is of type \"DONOTUSE\"\n",
        "categorical variable DENOM has more than 15 levels"
       ]
      },
      {
       "output_type": "stream",
       "stream": "stdout",
       "text": [
        "\n",
        "categorical variable ETHNIC has more than 15 levels\n",
        "IV XNORCSIZ is of type \"DONOTUSE\"\n",
        "categorical variable DENOM has more than 15 levels"
       ]
      },
      {
       "output_type": "stream",
       "stream": "stdout",
       "text": [
        "\n",
        "categorical variable ETHNIC has more than 15 levels\n",
        "IV XNORCSIZ is of type \"DONOTUSE\"\n",
        "categorical variable DENOM has more than 15 levels"
       ]
      },
      {
       "output_type": "stream",
       "stream": "stdout",
       "text": [
        "\n",
        "categorical variable ETHNIC has more than 15 levels\n",
        "IV XNORCSIZ is of type \"DONOTUSE\"\n",
        "categorical variable DENOM has more than 15 levels"
       ]
      },
      {
       "output_type": "stream",
       "stream": "stdout",
       "text": [
        "\n",
        "categorical variable ETHNIC has more than 15 levels\n",
        "IV XNORCSIZ is of type \"DONOTUSE\"\n",
        "categorical variable DENOM has more than 15 levels"
       ]
      },
      {
       "output_type": "stream",
       "stream": "stdout",
       "text": [
        "\n",
        "categorical variable ETHNIC has more than 15 levels\n",
        "IV XNORCSIZ is of type \"DONOTUSE\"\n",
        "Processing article:"
       ]
      },
      {
       "output_type": "stream",
       "stream": "stdout",
       "text": [
        " 3445\n",
        "categorical variable DENOM has more than 15 levels\n",
        "categorical variable ETHNIC has more than 15 levels\n",
        "IV OTHER is of type \"DONOTUSE\"\n",
        "IV SRCBELT is of type \"DONOTUSE\"\n",
        "categorical variable DENOM has more than 15 levels"
       ]
      },
      {
       "output_type": "stream",
       "stream": "stdout",
       "text": [
        "\n",
        "categorical variable ETHNIC has more than 15 levels\n",
        "IV OTHER is of type \"DONOTUSE\"\n",
        "IV SRCBELT is of type \"DONOTUSE\"\n",
        "categorical variable DENOM has more than 15 levels"
       ]
      },
      {
       "output_type": "stream",
       "stream": "stdout",
       "text": [
        "\n",
        "categorical variable ETHNIC has more than 15 levels\n",
        "IV OTHER is of type \"DONOTUSE\"\n",
        "IV SRCBELT is of type \"DONOTUSE\"\n",
        "categorical variable DENOM has more than 15 levels"
       ]
      },
      {
       "output_type": "stream",
       "stream": "stdout",
       "text": [
        "\n",
        "categorical variable ETHNIC has more than 15 levels\n",
        "IV OTHER is of type \"DONOTUSE\"\n",
        "IV SRCBELT is of type \"DONOTUSE\"\n",
        "Couldnt construct a suitable formula"
       ]
      },
      {
       "output_type": "stream",
       "stream": "stdout",
       "text": [
        "\n",
        "Processing article: 3450\n",
        "Processing article:"
       ]
      },
      {
       "output_type": "stream",
       "stream": "stdout",
       "text": [
        " 3489\n",
        "Couldnt construct a suitable formula\n",
        "Couldnt construct a suitable formula\n",
        "Processing article: 3501\n",
        "categorical variable ETH1 has more than 15 levels\n",
        "categorical variable ETHNIC has more than 15 levels\n",
        "categorical variable ETH1 has more than 15 levels"
       ]
      },
      {
       "output_type": "stream",
       "stream": "stdout",
       "text": [
        "\n",
        "categorical variable ETHNIC has more than 15 levels\n",
        "The number of variables in original model is different from the number in model on future years. Skipping."
       ]
      },
      {
       "output_type": "stream",
       "stream": "stdout",
       "text": [
        "\n",
        "categorical variable ETH1 has more than 15 levels\n",
        "categorical variable ETHNIC has more than 15 levels\n",
        "categorical variable ETH1 has more than 15 levels"
       ]
      },
      {
       "output_type": "stream",
       "stream": "stdout",
       "text": [
        "\n",
        "categorical variable ETHNIC has more than 15 levels\n",
        "The number of variables in original model is different from the number in model on future years. Skipping."
       ]
      },
      {
       "output_type": "stream",
       "stream": "stdout",
       "text": [
        "\n",
        "categorical variable ETH1 has more than 15 levels\n",
        "categorical variable ETHNIC has more than 15 levels\n",
        "categorical variable ETH1 has more than 15 levels"
       ]
      },
      {
       "output_type": "stream",
       "stream": "stdout",
       "text": [
        "\n",
        "categorical variable ETHNIC has more than 15 levels\n",
        "The number of variables in original model is different from the number in model on future years. Skipping."
       ]
      },
      {
       "output_type": "stream",
       "stream": "stdout",
       "text": [
        "\n",
        "categorical variable ETH1 has more than 15 levels\n",
        "categorical variable ETHNIC has more than 15 levels\n",
        "categorical variable ETH1 has more than 15 levels"
       ]
      },
      {
       "output_type": "stream",
       "stream": "stdout",
       "text": [
        "\n",
        "categorical variable ETHNIC has more than 15 levels\n",
        "The number of variables in original model is different from the number in model on future years. Skipping."
       ]
      },
      {
       "output_type": "stream",
       "stream": "stdout",
       "text": [
        "\n",
        "Processing article: 3503\n",
        "Processing article:"
       ]
      },
      {
       "output_type": "stream",
       "stream": "stdout",
       "text": [
        " 3568\n",
        "Couldnt construct a suitable formula"
       ]
      },
      {
       "output_type": "stream",
       "stream": "stdout",
       "text": [
        "\n",
        "Couldnt construct a suitable formula\n",
        "Processing article: 3573\n",
        "categorical variable DENOM has more than 15 levels\n",
        "IV OTHER is of type \"DONOTUSE\"\n",
        "categorical variable DENOM has more than 15 levels"
       ]
      },
      {
       "output_type": "stream",
       "stream": "stdout",
       "text": [
        "\n",
        "IV OTHER is of type \"DONOTUSE\"\n",
        "categorical variable DENOM has more than 15 levels"
       ]
      },
      {
       "output_type": "stream",
       "stream": "stdout",
       "text": [
        "\n",
        "IV OTHER is of type \"DONOTUSE\"\n",
        "categorical variable DENOM has more than 15 levels"
       ]
      },
      {
       "output_type": "stream",
       "stream": "stdout",
       "text": [
        "\n",
        "IV OTHER is of type \"DONOTUSE\"\n",
        "categorical variable DENOM has more than 15 levels"
       ]
      },
      {
       "output_type": "stream",
       "stream": "stdout",
       "text": [
        "\n",
        "IV OTHER is of type \"DONOTUSE\"\n",
        "categorical variable DENOM has more than 15 levels"
       ]
      },
      {
       "output_type": "stream",
       "stream": "stdout",
       "text": [
        "\n",
        "IV OTHER is of type \"DONOTUSE\"\n",
        "categorical variable DENOM has more than 15 levels"
       ]
      },
      {
       "output_type": "stream",
       "stream": "stdout",
       "text": [
        "\n",
        "IV OTHER is of type \"DONOTUSE\"\n",
        "categorical variable DENOM has more than 15 levels"
       ]
      },
      {
       "output_type": "stream",
       "stream": "stdout",
       "text": [
        "\n",
        "IV OTHER is of type \"DONOTUSE\"\n",
        "categorical variable DENOM has more than 15 levels"
       ]
      },
      {
       "output_type": "stream",
       "stream": "stdout",
       "text": [
        "\n",
        "IV OTHER is of type \"DONOTUSE\"\n",
        "categorical variable DENOM has more than 15 levels"
       ]
      },
      {
       "output_type": "stream",
       "stream": "stdout",
       "text": [
        "\n",
        "IV OTHER is of type \"DONOTUSE\"\n",
        "Processing article:"
       ]
      },
      {
       "output_type": "stream",
       "stream": "stdout",
       "text": [
        " 3605\n",
        "Couldnt construct a suitable formula\n",
        "Processing article: 3607\n",
        "IV OCC is of type \"DONOTUSE\"\n",
        "IV WRKSTAT is of type \"DONOTUSE\"\n",
        "IV XNORCSIZ is of type \"DONOTUSE\"\n",
        "Couldnt construct a suitable formula\n",
        "IV OCC is of type \"DONOTUSE\"\n",
        "IV WRKSTAT is of type \"DONOTUSE\"\n",
        "IV XNORCSIZ is of type \"DONOTUSE\"\n",
        "Couldnt construct a suitable formula\n",
        "IV OCC is of type \"DONOTUSE\"\n",
        "IV WRKSTAT is of type \"DONOTUSE\"\n",
        "IV XNORCSIZ is of type \"DONOTUSE\"\n",
        "Couldnt construct a suitable formula\n",
        "IV OCC is of type \"DONOTUSE\"\n",
        "IV WRKSTAT is of type \"DONOTUSE\"\n",
        "IV XNORCSIZ is of type \"DONOTUSE\"\n",
        "Couldnt construct a suitable formula\n",
        "IV OCC is of type \"DONOTUSE\"\n",
        "IV WRKSTAT is of type \"DONOTUSE\"\n",
        "IV XNORCSIZ is of type \"DONOTUSE\"\n",
        "Couldnt construct a suitable formula\n",
        "IV OCC is of type \"DONOTUSE\""
       ]
      },
      {
       "output_type": "stream",
       "stream": "stdout",
       "text": [
        "\n",
        "IV WRKSTAT is of type \"DONOTUSE\"\n",
        "IV XNORCSIZ is of type \"DONOTUSE\"\n",
        "Couldnt construct a suitable formula\n",
        "IV OCC is of type \"DONOTUSE\"\n",
        "IV WRKSTAT is of type \"DONOTUSE\"\n",
        "IV XNORCSIZ is of type \"DONOTUSE\"\n",
        "Couldnt construct a suitable formula\n",
        "IV OCC is of type \"DONOTUSE\"\n",
        "IV WRKSTAT is of type \"DONOTUSE\"\n",
        "IV XNORCSIZ is of type \"DONOTUSE\"\n",
        "Couldnt construct a suitable formula\n",
        "IV OCC is of type \"DONOTUSE\"\n",
        "IV WRKSTAT is of type \"DONOTUSE\"\n",
        "IV XNORCSIZ is of type \"DONOTUSE\"\n",
        "Couldnt construct a suitable formula\n",
        "IV OCC is of type \"DONOTUSE\"\n",
        "IV WRKSTAT is of type \"DONOTUSE\"\n",
        "IV XNORCSIZ is of type \"DONOTUSE\"\n",
        "Couldnt construct a suitable formula\n",
        "IV OCC is of type \"DONOTUSE\"\n",
        "IV WRKSTAT is of type \"DONOTUSE\"\n",
        "IV XNORCSIZ is of type \"DONOTUSE\"\n",
        "Couldnt construct a suitable formula\n",
        "IV OCC is of type \"DONOTUSE\"\n",
        "IV WRKSTAT is of type \"DONOTUSE\"\n",
        "IV XNORCSIZ is of type \"DONOTUSE\"\n",
        "Couldnt construct a suitable formula\n",
        "IV OCC is of type \"DONOTUSE\"\n",
        "IV WRKSTAT is of type \"DONOTUSE\"\n",
        "IV XNORCSIZ is of type \"DONOTUSE\"\n",
        "Couldnt construct a suitable formula\n",
        "Processing article: 3690\n",
        "IV OCC is of type \"DONOTUSE\""
       ]
      },
      {
       "output_type": "stream",
       "stream": "stdout",
       "text": [
        "\n",
        "IV WRKSTAT is of type \"DONOTUSE\"\n",
        "IV OCC is of type \"DONOTUSE\""
       ]
      },
      {
       "output_type": "stream",
       "stream": "stdout",
       "text": [
        "\n",
        "IV WRKSTAT is of type \"DONOTUSE\"\n",
        "The number of variables in original model is different from the number in model on future years. Skipping."
       ]
      },
      {
       "output_type": "stream",
       "stream": "stdout",
       "text": [
        "\n",
        "Processing article: 3729\n",
        "Couldnt construct a suitable formula\n",
        "categorical variable REG16 has more than 15 levels\n",
        "IV SRCBELT is of type \"DONOTUSE\"\n",
        "IV XNORCSIZ is of type \"DONOTUSE\"\n",
        "categorical variable REG16 has more than 15 levels"
       ]
      },
      {
       "output_type": "stream",
       "stream": "stdout",
       "text": [
        "\n",
        "IV SRCBELT is of type \"DONOTUSE\"\n",
        "IV XNORCSIZ is of type \"DONOTUSE\"\n",
        "Couldnt construct a suitable formula"
       ]
      },
      {
       "output_type": "stream",
       "stream": "stdout",
       "text": [
        "\n",
        "categorical variable REG16 has more than 15 levels\n",
        "IV SRCBELT is of type \"DONOTUSE\"\n",
        "IV XNORCSIZ is of type \"DONOTUSE\"\n",
        "categorical variable REG16 has more than 15 levels"
       ]
      },
      {
       "output_type": "stream",
       "stream": "stdout",
       "text": [
        "\n",
        "IV SRCBELT is of type \"DONOTUSE\"\n",
        "IV XNORCSIZ is of type \"DONOTUSE\"\n",
        "Processing article:"
       ]
      },
      {
       "output_type": "stream",
       "stream": "stdout",
       "text": [
        " 3743\n",
        "categorical variable DENOM has more than 15 levels\n",
        "IV OTHER is of type \"DONOTUSE\"\n",
        "categorical variable DENOM has more than 15 levels"
       ]
      },
      {
       "output_type": "stream",
       "stream": "stdout",
       "text": [
        "\n",
        "IV OTHER is of type \"DONOTUSE\"\n",
        "categorical variable DENOM has more than 15 levels"
       ]
      },
      {
       "output_type": "stream",
       "stream": "stdout",
       "text": [
        "\n",
        "IV OTHER is of type \"DONOTUSE\"\n",
        "categorical variable DENOM has more than 15 levels"
       ]
      },
      {
       "output_type": "stream",
       "stream": "stdout",
       "text": [
        "\n",
        "IV OTHER is of type \"DONOTUSE\"\n",
        "categorical variable DENOM has more than 15 levels"
       ]
      },
      {
       "output_type": "stream",
       "stream": "stdout",
       "text": [
        "\n",
        "IV OTHER is of type \"DONOTUSE\"\n",
        "categorical variable DENOM has more than 15 levels"
       ]
      },
      {
       "output_type": "stream",
       "stream": "stdout",
       "text": [
        "\n",
        "IV OTHER is of type \"DONOTUSE\"\n",
        "categorical variable DENOM has more than 15 levels"
       ]
      },
      {
       "output_type": "stream",
       "stream": "stdout",
       "text": [
        "\n",
        "IV OTHER is of type \"DONOTUSE\"\n",
        "categorical variable DENOM has more than 15 levels"
       ]
      },
      {
       "output_type": "stream",
       "stream": "stdout",
       "text": [
        "\n",
        "IV OTHER is of type \"DONOTUSE\"\n",
        "categorical variable DENOM has more than 15 levels"
       ]
      },
      {
       "output_type": "stream",
       "stream": "stdout",
       "text": [
        "\n",
        "IV OTHER is of type \"DONOTUSE\"\n",
        "categorical variable DENOM has more than 15 levels"
       ]
      },
      {
       "output_type": "stream",
       "stream": "stdout",
       "text": [
        "\n",
        "IV OTHER is of type \"DONOTUSE\"\n",
        "categorical variable DENOM has more than 15 levels"
       ]
      },
      {
       "output_type": "stream",
       "stream": "stdout",
       "text": [
        "\n",
        "IV OTHER is of type \"DONOTUSE\"\n",
        "categorical variable DENOM has more than 15 levels"
       ]
      },
      {
       "output_type": "stream",
       "stream": "stdout",
       "text": [
        "\n",
        "IV OTHER is of type \"DONOTUSE\"\n",
        "categorical variable DENOM has more than 15 levels"
       ]
      },
      {
       "output_type": "stream",
       "stream": "stdout",
       "text": [
        "\n",
        "IV OTHER is of type \"DONOTUSE\"\n",
        "categorical variable DENOM has more than 15 levels"
       ]
      },
      {
       "output_type": "stream",
       "stream": "stdout",
       "text": [
        "\n",
        "IV OTHER is of type \"DONOTUSE\"\n",
        "Processing article:"
       ]
      },
      {
       "output_type": "stream",
       "stream": "stdout",
       "text": [
        " 3746\n",
        "IV PARTYID is of type \"DONOTUSE\"\n",
        "IV WRKSTAT is of type \"DONOTUSE\"\n",
        "IV PARTYID is of type \"DONOTUSE\""
       ]
      },
      {
       "output_type": "stream",
       "stream": "stdout",
       "text": [
        "\n",
        "IV WRKSTAT is of type \"DONOTUSE\"\n",
        "IV PARTYID is of type \"DONOTUSE\""
       ]
      },
      {
       "output_type": "stream",
       "stream": "stdout",
       "text": [
        "\n",
        "IV WRKSTAT is of type \"DONOTUSE\"\n",
        "IV PARTYID is of type \"DONOTUSE\""
       ]
      },
      {
       "output_type": "stream",
       "stream": "stdout",
       "text": [
        "\n",
        "IV WRKSTAT is of type \"DONOTUSE\"\n",
        "IV PARTYID is of type \"DONOTUSE\""
       ]
      },
      {
       "output_type": "stream",
       "stream": "stdout",
       "text": [
        "\n",
        "IV WRKSTAT is of type \"DONOTUSE\"\n",
        "IV PARTYID is of type \"DONOTUSE\""
       ]
      },
      {
       "output_type": "stream",
       "stream": "stdout",
       "text": [
        "\n",
        "IV WRKSTAT is of type \"DONOTUSE\"\n",
        "IV PARTYID is of type \"DONOTUSE\""
       ]
      },
      {
       "output_type": "stream",
       "stream": "stdout",
       "text": [
        "\n",
        "IV WRKSTAT is of type \"DONOTUSE\"\n",
        "IV PARTYID is of type \"DONOTUSE\""
       ]
      },
      {
       "output_type": "stream",
       "stream": "stdout",
       "text": [
        "\n",
        "IV WRKSTAT is of type \"DONOTUSE\"\n",
        "IV PARTYID is of type \"DONOTUSE\""
       ]
      },
      {
       "output_type": "stream",
       "stream": "stdout",
       "text": [
        "\n",
        "IV WRKSTAT is of type \"DONOTUSE\"\n",
        "IV PARTYID is of type \"DONOTUSE\""
       ]
      },
      {
       "output_type": "stream",
       "stream": "stdout",
       "text": [
        "\n",
        "IV WRKSTAT is of type \"DONOTUSE\"\n",
        "IV PARTYID is of type \"DONOTUSE\""
       ]
      },
      {
       "output_type": "stream",
       "stream": "stdout",
       "text": [
        "\n",
        "IV WRKSTAT is of type \"DONOTUSE\"\n",
        "IV PARTYID is of type \"DONOTUSE\""
       ]
      },
      {
       "output_type": "stream",
       "stream": "stdout",
       "text": [
        "\n",
        "IV WRKSTAT is of type \"DONOTUSE\"\n",
        "IV PARTYID is of type \"DONOTUSE\""
       ]
      },
      {
       "output_type": "stream",
       "stream": "stdout",
       "text": [
        "\n",
        "IV WRKSTAT is of type \"DONOTUSE\"\n",
        "IV PARTYID is of type \"DONOTUSE\""
       ]
      },
      {
       "output_type": "stream",
       "stream": "stdout",
       "text": [
        "\n",
        "IV WRKSTAT is of type \"DONOTUSE\"\n",
        "IV PARTYID is of type \"DONOTUSE\""
       ]
      },
      {
       "output_type": "stream",
       "stream": "stdout",
       "text": [
        "\n",
        "IV WRKSTAT is of type \"DONOTUSE\"\n",
        "IV PARTYID is of type \"DONOTUSE\""
       ]
      },
      {
       "output_type": "stream",
       "stream": "stdout",
       "text": [
        "\n",
        "IV WRKSTAT is of type \"DONOTUSE\"\n",
        "Couldnt construct a suitable formula"
       ]
      },
      {
       "output_type": "stream",
       "stream": "stdout",
       "text": [
        "\n",
        "IV PARTYID is of type \"DONOTUSE\"\n",
        "IV WRKSTAT is of type \"DONOTUSE\"\n",
        "IV PARTYID is of type \"DONOTUSE\""
       ]
      },
      {
       "output_type": "stream",
       "stream": "stdout",
       "text": [
        "\n",
        "IV WRKSTAT is of type \"DONOTUSE\"\n",
        "IV PARTYID is of type \"DONOTUSE\""
       ]
      },
      {
       "output_type": "stream",
       "stream": "stdout",
       "text": [
        "\n",
        "IV WRKSTAT is of type \"DONOTUSE\"\n",
        "IV PARTYID is of type \"DONOTUSE\""
       ]
      },
      {
       "output_type": "stream",
       "stream": "stdout",
       "text": [
        "\n",
        "IV WRKSTAT is of type \"DONOTUSE\"\n",
        "IV PARTYID is of type \"DONOTUSE\""
       ]
      },
      {
       "output_type": "stream",
       "stream": "stdout",
       "text": [
        "\n",
        "IV WRKSTAT is of type \"DONOTUSE\"\n",
        "IV PARTYID is of type \"DONOTUSE\""
       ]
      },
      {
       "output_type": "stream",
       "stream": "stdout",
       "text": [
        "\n",
        "IV WRKSTAT is of type \"DONOTUSE\"\n",
        "IV PARTYID is of type \"DONOTUSE\""
       ]
      },
      {
       "output_type": "stream",
       "stream": "stdout",
       "text": [
        "\n",
        "IV WRKSTAT is of type \"DONOTUSE\"\n",
        "IV PARTYID is of type \"DONOTUSE\""
       ]
      },
      {
       "output_type": "stream",
       "stream": "stdout",
       "text": [
        "\n",
        "IV WRKSTAT is of type \"DONOTUSE\"\n",
        "Processing article:"
       ]
      },
      {
       "output_type": "stream",
       "stream": "stdout",
       "text": [
        " 3758\n",
        "categorical variable DENOM has more than 15 levels\n",
        "IV OTHER is of type \"DONOTUSE\"\n",
        "categorical variable DENOM has more than 15 levels"
       ]
      },
      {
       "output_type": "stream",
       "stream": "stdout",
       "text": [
        "\n",
        "IV OTHER is of type \"DONOTUSE\"\n",
        "categorical variable DENOM has more than 15 levels"
       ]
      },
      {
       "output_type": "stream",
       "stream": "stdout",
       "text": [
        "\n",
        "IV OTHER is of type \"DONOTUSE\"\n",
        "categorical variable DENOM has more than 15 levels"
       ]
      },
      {
       "output_type": "stream",
       "stream": "stdout",
       "text": [
        "\n",
        "IV OTHER is of type \"DONOTUSE\"\n",
        "categorical variable DENOM has more than 15 levels"
       ]
      },
      {
       "output_type": "stream",
       "stream": "stdout",
       "text": [
        "\n",
        "IV OTHER is of type \"DONOTUSE\"\n",
        "categorical variable DENOM has more than 15 levels"
       ]
      },
      {
       "output_type": "stream",
       "stream": "stdout",
       "text": [
        "\n",
        "IV OTHER is of type \"DONOTUSE\"\n",
        "categorical variable DENOM has more than 15 levels"
       ]
      },
      {
       "output_type": "stream",
       "stream": "stdout",
       "text": [
        "\n",
        "IV OTHER is of type \"DONOTUSE\"\n",
        "categorical variable DENOM has more than 15 levels"
       ]
      },
      {
       "output_type": "stream",
       "stream": "stdout",
       "text": [
        "\n",
        "IV OTHER is of type \"DONOTUSE\"\n",
        "categorical variable DENOM has more than 15 levels"
       ]
      },
      {
       "output_type": "stream",
       "stream": "stdout",
       "text": [
        "\n",
        "IV OTHER is of type \"DONOTUSE\"\n",
        "categorical variable DENOM has more than 15 levels"
       ]
      },
      {
       "output_type": "stream",
       "stream": "stdout",
       "text": [
        "\n",
        "IV OTHER is of type \"DONOTUSE\"\n",
        "categorical variable DENOM has more than 15 levels"
       ]
      },
      {
       "output_type": "stream",
       "stream": "stdout",
       "text": [
        "\n",
        "IV OTHER is of type \"DONOTUSE\"\n",
        "categorical variable DENOM has more than 15 levels"
       ]
      },
      {
       "output_type": "stream",
       "stream": "stdout",
       "text": [
        "\n",
        "IV OTHER is of type \"DONOTUSE\"\n",
        "categorical variable DENOM has more than 15 levels"
       ]
      },
      {
       "output_type": "stream",
       "stream": "stdout",
       "text": [
        "\n",
        "IV OTHER is of type \"DONOTUSE\"\n",
        "categorical variable DENOM has more than 15 levels"
       ]
      },
      {
       "output_type": "stream",
       "stream": "stdout",
       "text": [
        "\n",
        "IV OTHER is of type \"DONOTUSE\"\n",
        "categorical variable DENOM has more than 15 levels"
       ]
      },
      {
       "output_type": "stream",
       "stream": "stdout",
       "text": [
        "\n",
        "IV OTHER is of type \"DONOTUSE\"\n",
        "categorical variable DENOM has more than 15 levels"
       ]
      },
      {
       "output_type": "stream",
       "stream": "stdout",
       "text": [
        "\n",
        "IV OTHER is of type \"DONOTUSE\"\n",
        "categorical variable DENOM has more than 15 levels"
       ]
      },
      {
       "output_type": "stream",
       "stream": "stdout",
       "text": [
        "\n",
        "IV OTHER is of type \"DONOTUSE\"\n",
        "categorical variable DENOM has more than 15 levels"
       ]
      },
      {
       "output_type": "stream",
       "stream": "stdout",
       "text": [
        "\n",
        "IV OTHER is of type \"DONOTUSE\"\n",
        "Couldnt construct a suitable formula"
       ]
      },
      {
       "output_type": "stream",
       "stream": "stdout",
       "text": [
        "\n",
        "categorical variable DENOM has more than 15 levels\n",
        "IV OTHER is of type \"DONOTUSE\"\n",
        "categorical variable DENOM has more than 15 levels"
       ]
      },
      {
       "output_type": "stream",
       "stream": "stdout",
       "text": [
        "\n",
        "IV OTHER is of type \"DONOTUSE\"\n",
        "categorical variable DENOM has more than 15 levels"
       ]
      },
      {
       "output_type": "stream",
       "stream": "stdout",
       "text": [
        "\n",
        "IV OTHER is of type \"DONOTUSE\"\n",
        "categorical variable DENOM has more than 15 levels"
       ]
      },
      {
       "output_type": "stream",
       "stream": "stdout",
       "text": [
        "\n",
        "IV OTHER is of type \"DONOTUSE\"\n",
        "categorical variable DENOM has more than 15 levels"
       ]
      },
      {
       "output_type": "stream",
       "stream": "stdout",
       "text": [
        "\n",
        "IV OTHER is of type \"DONOTUSE\"\n",
        "categorical variable DENOM has more than 15 levels"
       ]
      },
      {
       "output_type": "stream",
       "stream": "stdout",
       "text": [
        "\n",
        "IV OTHER is of type \"DONOTUSE\"\n",
        "categorical variable DENOM has more than 15 levels"
       ]
      },
      {
       "output_type": "stream",
       "stream": "stdout",
       "text": [
        "\n",
        "IV OTHER is of type \"DONOTUSE\"\n",
        "categorical variable DENOM has more than 15 levels"
       ]
      },
      {
       "output_type": "stream",
       "stream": "stdout",
       "text": [
        "\n",
        "IV OTHER is of type \"DONOTUSE\"\n",
        "categorical variable DENOM has more than 15 levels"
       ]
      },
      {
       "output_type": "stream",
       "stream": "stdout",
       "text": [
        "\n",
        "IV OTHER is of type \"DONOTUSE\"\n",
        "categorical variable DENOM has more than 15 levels"
       ]
      },
      {
       "output_type": "stream",
       "stream": "stdout",
       "text": [
        "\n",
        "IV OTHER is of type \"DONOTUSE\"\n",
        "categorical variable DENOM has more than 15 levels"
       ]
      },
      {
       "output_type": "stream",
       "stream": "stdout",
       "text": [
        "\n",
        "IV OTHER is of type \"DONOTUSE\"\n",
        "categorical variable DENOM has more than 15 levels"
       ]
      },
      {
       "output_type": "stream",
       "stream": "stdout",
       "text": [
        "\n",
        "IV OTHER is of type \"DONOTUSE\"\n",
        "categorical variable DENOM has more than 15 levels"
       ]
      },
      {
       "output_type": "stream",
       "stream": "stdout",
       "text": [
        "\n",
        "IV OTHER is of type \"DONOTUSE\"\n",
        "categorical variable DENOM has more than 15 levels"
       ]
      },
      {
       "output_type": "stream",
       "stream": "stdout",
       "text": [
        "\n",
        "IV OTHER is of type \"DONOTUSE\"\n",
        "categorical variable DENOM has more than 15 levels"
       ]
      },
      {
       "output_type": "stream",
       "stream": "stdout",
       "text": [
        "\n",
        "IV OTHER is of type \"DONOTUSE\"\n",
        "categorical variable DENOM has more than 15 levels"
       ]
      },
      {
       "output_type": "stream",
       "stream": "stdout",
       "text": [
        "\n",
        "IV OTHER is of type \"DONOTUSE\"\n",
        "categorical variable DENOM has more than 15 levels"
       ]
      },
      {
       "output_type": "stream",
       "stream": "stdout",
       "text": [
        "\n",
        "IV OTHER is of type \"DONOTUSE\"\n",
        "categorical variable DENOM has more than 15 levels"
       ]
      },
      {
       "output_type": "stream",
       "stream": "stdout",
       "text": [
        "\n",
        "IV OTHER is of type \"DONOTUSE\"\n",
        "categorical variable DENOM has more than 15 levels"
       ]
      },
      {
       "output_type": "stream",
       "stream": "stdout",
       "text": [
        "\n",
        "IV OTHER is of type \"DONOTUSE\"\n",
        "categorical variable DENOM has more than 15 levels"
       ]
      },
      {
       "output_type": "stream",
       "stream": "stdout",
       "text": [
        "\n",
        "IV OTHER is of type \"DONOTUSE\"\n",
        "categorical variable DENOM has more than 15 levels"
       ]
      },
      {
       "output_type": "stream",
       "stream": "stdout",
       "text": [
        "\n",
        "IV OTHER is of type \"DONOTUSE\"\n",
        "categorical variable DENOM has more than 15 levels"
       ]
      },
      {
       "output_type": "stream",
       "stream": "stdout",
       "text": [
        "\n",
        "IV OTHER is of type \"DONOTUSE\"\n",
        "categorical variable DENOM has more than 15 levels"
       ]
      },
      {
       "output_type": "stream",
       "stream": "stdout",
       "text": [
        "\n",
        "IV OTHER is of type \"DONOTUSE\"\n",
        "categorical variable DENOM has more than 15 levels"
       ]
      },
      {
       "output_type": "stream",
       "stream": "stdout",
       "text": [
        "\n",
        "IV OTHER is of type \"DONOTUSE\"\n",
        "categorical variable DENOM has more than 15 levels"
       ]
      },
      {
       "output_type": "stream",
       "stream": "stdout",
       "text": [
        "\n",
        "IV OTHER is of type \"DONOTUSE\"\n",
        "categorical variable DENOM has more than 15 levels"
       ]
      },
      {
       "output_type": "stream",
       "stream": "stdout",
       "text": [
        "\n",
        "IV OTHER is of type \"DONOTUSE\"\n",
        "categorical variable DENOM has more than 15 levels"
       ]
      },
      {
       "output_type": "stream",
       "stream": "stdout",
       "text": [
        "\n",
        "IV OTHER is of type \"DONOTUSE\"\n",
        "categorical variable DENOM has more than 15 levels"
       ]
      },
      {
       "output_type": "stream",
       "stream": "stdout",
       "text": [
        "\n",
        "IV OTHER is of type \"DONOTUSE\"\n",
        "Processing article:"
       ]
      },
      {
       "output_type": "stream",
       "stream": "stdout",
       "text": [
        " 3793\n",
        "IV XNORCSIZ is of type \"DONOTUSE\"\n",
        "IV XNORCSIZ is of type \"DONOTUSE\""
       ]
      },
      {
       "output_type": "stream",
       "stream": "stdout",
       "text": [
        "\n",
        "The number of variables in original model is different from the number in model on future years. Skipping."
       ]
      },
      {
       "output_type": "stream",
       "stream": "stdout",
       "text": [
        "\n",
        "Processing article: 3831\n",
        "IV OCC is of type \"DONOTUSE\"\n",
        "IV OCC is of type \"DONOTUSE\""
       ]
      },
      {
       "output_type": "stream",
       "stream": "stdout",
       "text": [
        "\n",
        "The number of variables in original model is different from the number in model on future years. Skipping."
       ]
      },
      {
       "output_type": "stream",
       "stream": "stdout",
       "text": [
        "\n",
        "IV OCC is of type \"DONOTUSE\"\n",
        "IV OCC is of type \"DONOTUSE\""
       ]
      },
      {
       "output_type": "stream",
       "stream": "stdout",
       "text": [
        "\n",
        "The number of variables in original model is different from the number in model on future years. Skipping."
       ]
      },
      {
       "output_type": "stream",
       "stream": "stdout",
       "text": [
        "\n",
        "IV OCC is of type \"DONOTUSE\"\n",
        "IV OCC is of type \"DONOTUSE\""
       ]
      },
      {
       "output_type": "stream",
       "stream": "stdout",
       "text": [
        "\n",
        "The number of variables in original model is different from the number in model on future years. Skipping."
       ]
      },
      {
       "output_type": "stream",
       "stream": "stdout",
       "text": [
        "\n",
        "IV OCC is of type \"DONOTUSE\"\n",
        "IV OCC is of type \"DONOTUSE\""
       ]
      },
      {
       "output_type": "stream",
       "stream": "stdout",
       "text": [
        "\n",
        "The number of variables in original model is different from the number in model on future years. Skipping."
       ]
      },
      {
       "output_type": "stream",
       "stream": "stdout",
       "text": [
        "\n",
        "IV OCC is of type \"DONOTUSE\"\n",
        "IV OCC is of type \"DONOTUSE\""
       ]
      },
      {
       "output_type": "stream",
       "stream": "stdout",
       "text": [
        "\n",
        "The number of variables in original model is different from the number in model on future years. Skipping."
       ]
      },
      {
       "output_type": "stream",
       "stream": "stdout",
       "text": [
        "\n",
        "IV OCC is of type \"DONOTUSE\"\n",
        "IV OCC is of type \"DONOTUSE\""
       ]
      },
      {
       "output_type": "stream",
       "stream": "stdout",
       "text": [
        "\n",
        "The number of variables in original model is different from the number in model on future years. Skipping."
       ]
      },
      {
       "output_type": "stream",
       "stream": "stdout",
       "text": [
        "\n",
        "Processing article: 3846\n",
        "Processing article:"
       ]
      },
      {
       "output_type": "stream",
       "stream": "stdout",
       "text": [
        " 3895\n",
        "categorical variable REG16 has more than 15 levels\n",
        "categorical variable REG16 has more than 15 levels"
       ]
      },
      {
       "output_type": "stream",
       "stream": "stdout",
       "text": [
        "\n",
        "Processing article:"
       ]
      },
      {
       "output_type": "stream",
       "stream": "stdout",
       "text": [
        " 3952\n",
        "Processing article:"
       ]
      },
      {
       "output_type": "stream",
       "stream": "stdout",
       "text": [
        " 3959\n",
        "Processing article:"
       ]
      },
      {
       "output_type": "stream",
       "stream": "stdout",
       "text": [
        " 3966\n",
        "IV PARTYID is of type \"DONOTUSE\"\n",
        "IV PARTYID is of type \"DONOTUSE\""
       ]
      },
      {
       "output_type": "stream",
       "stream": "stdout",
       "text": [
        "\n",
        "IV PARTYID is of type \"DONOTUSE\""
       ]
      },
      {
       "output_type": "stream",
       "stream": "stdout",
       "text": [
        "\n",
        "IV PARTYID is of type \"DONOTUSE\""
       ]
      },
      {
       "output_type": "stream",
       "stream": "stdout",
       "text": [
        "\n",
        "IV PARTYID is of type \"DONOTUSE\""
       ]
      },
      {
       "output_type": "stream",
       "stream": "stdout",
       "text": [
        "\n",
        "IV PARTYID is of type \"DONOTUSE\""
       ]
      },
      {
       "output_type": "stream",
       "stream": "stdout",
       "text": [
        "\n",
        "IV PARTYID is of type \"DONOTUSE\""
       ]
      },
      {
       "output_type": "stream",
       "stream": "stdout",
       "text": [
        "\n",
        "IV PARTYID is of type \"DONOTUSE\""
       ]
      },
      {
       "output_type": "stream",
       "stream": "stdout",
       "text": [
        "\n",
        "Processing article:"
       ]
      },
      {
       "output_type": "stream",
       "stream": "stdout",
       "text": [
        " 4045\n",
        "categorical variable DENOM has more than 15 levels\n",
        "categorical variable DENOM has more than 15 levels"
       ]
      },
      {
       "output_type": "stream",
       "stream": "stdout",
       "text": [
        "\n",
        "categorical variable DENOM has more than 15 levels"
       ]
      },
      {
       "output_type": "stream",
       "stream": "stdout",
       "text": [
        "\n",
        "categorical variable DENOM has more than 15 levels"
       ]
      },
      {
       "output_type": "stream",
       "stream": "stdout",
       "text": [
        "\n",
        "categorical variable DENOM has more than 15 levels"
       ]
      },
      {
       "output_type": "stream",
       "stream": "stdout",
       "text": [
        "\n",
        "categorical variable DENOM has more than 15 levels"
       ]
      },
      {
       "output_type": "stream",
       "stream": "stdout",
       "text": [
        "\n",
        "categorical variable DENOM has more than 15 levels"
       ]
      },
      {
       "output_type": "stream",
       "stream": "stdout",
       "text": [
        "\n",
        "categorical variable DENOM has more than 15 levels"
       ]
      },
      {
       "output_type": "stream",
       "stream": "stdout",
       "text": [
        "\n",
        "categorical variable DENOM has more than 15 levels"
       ]
      },
      {
       "output_type": "stream",
       "stream": "stdout",
       "text": [
        "\n",
        "categorical variable DENOM has more than 15 levels"
       ]
      },
      {
       "output_type": "stream",
       "stream": "stdout",
       "text": [
        "\n",
        "categorical variable DENOM has more than 15 levels"
       ]
      },
      {
       "output_type": "stream",
       "stream": "stdout",
       "text": [
        "\n",
        "categorical variable DENOM has more than 15 levels"
       ]
      },
      {
       "output_type": "stream",
       "stream": "stdout",
       "text": [
        "\n",
        "Processing article:"
       ]
      },
      {
       "output_type": "stream",
       "stream": "stdout",
       "text": [
        " 4112\n",
        "Processing article:"
       ]
      },
      {
       "output_type": "stream",
       "stream": "stdout",
       "text": [
        " 4116\n",
        "Processing article:"
       ]
      },
      {
       "output_type": "stream",
       "stream": "stdout",
       "text": [
        " 4117\n",
        "Processing article:"
       ]
      },
      {
       "output_type": "stream",
       "stream": "stdout",
       "text": [
        " 4124\n",
        "Couldnt construct a suitable formula\n",
        "IV XNORCSIZ is of type \"DONOTUSE\"\n",
        "IV XNORCSIZ is of type \"DONOTUSE\""
       ]
      },
      {
       "output_type": "stream",
       "stream": "stdout",
       "text": [
        "\n",
        "Processing article:"
       ]
      },
      {
       "output_type": "stream",
       "stream": "stdout",
       "text": [
        " 4133\n",
        "IV CLASS is of type \"DONOTUSE\"\n",
        "IV WRKSTAT is of type \"DONOTUSE\"\n",
        "IV CLASS is of type \"DONOTUSE\""
       ]
      },
      {
       "output_type": "stream",
       "stream": "stdout",
       "text": [
        "\n",
        "IV WRKSTAT is of type \"DONOTUSE\"\n",
        "Processing article:"
       ]
      },
      {
       "output_type": "stream",
       "stream": "stdout",
       "text": [
        " 4134\n",
        "IV BIBLE is of type \"DONOTUSE\"\n",
        "IV BIBLE is of type \"DONOTUSE\""
       ]
      },
      {
       "output_type": "stream",
       "stream": "stdout",
       "text": [
        "\n",
        "IV BIBLE is of type \"DONOTUSE\""
       ]
      },
      {
       "output_type": "stream",
       "stream": "stdout",
       "text": [
        "\n",
        "IV BIBLE is of type \"DONOTUSE\""
       ]
      },
      {
       "output_type": "stream",
       "stream": "stdout",
       "text": [
        "\n",
        "Processing article:"
       ]
      },
      {
       "output_type": "stream",
       "stream": "stdout",
       "text": [
        " 4160\n",
        "Processing article:"
       ]
      },
      {
       "output_type": "stream",
       "stream": "stdout",
       "text": [
        " 4173\n",
        "Processing article:"
       ]
      },
      {
       "output_type": "stream",
       "stream": "stdout",
       "text": [
        " 4215\n",
        "IV WRKSTAT is of type \"DONOTUSE\"\n",
        "IV WRKSTAT is of type \"DONOTUSE\""
       ]
      },
      {
       "output_type": "stream",
       "stream": "stdout",
       "text": [
        "\n",
        "The number of variables in original model is different from the number in model on future years. Skipping."
       ]
      },
      {
       "output_type": "stream",
       "stream": "stdout",
       "text": [
        "\n",
        "IV WRKSTAT is of type \"DONOTUSE\"\n",
        "IV WRKSTAT is of type \"DONOTUSE\""
       ]
      },
      {
       "output_type": "stream",
       "stream": "stdout",
       "text": [
        "\n",
        "The number of variables in original model is different from the number in model on future years. Skipping."
       ]
      },
      {
       "output_type": "stream",
       "stream": "stdout",
       "text": [
        "\n",
        "IV WRKSTAT is of type \"DONOTUSE\"\n",
        "IV WRKSTAT is of type \"DONOTUSE\""
       ]
      },
      {
       "output_type": "stream",
       "stream": "stdout",
       "text": [
        "\n",
        "The number of variables in original model is different from the number in model on future years. Skipping."
       ]
      },
      {
       "output_type": "stream",
       "stream": "stdout",
       "text": [
        "\n",
        "IV WRKSTAT is of type \"DONOTUSE\"\n",
        "IV WRKSTAT is of type \"DONOTUSE\""
       ]
      },
      {
       "output_type": "stream",
       "stream": "stdout",
       "text": [
        "\n",
        "The number of variables in original model is different from the number in model on future years. Skipping."
       ]
      },
      {
       "output_type": "stream",
       "stream": "stdout",
       "text": [
        "\n",
        "IV WRKSTAT is of type \"DONOTUSE\"\n",
        "IV WRKSTAT is of type \"DONOTUSE\""
       ]
      },
      {
       "output_type": "stream",
       "stream": "stdout",
       "text": [
        "\n",
        "The number of variables in original model is different from the number in model on future years. Skipping."
       ]
      },
      {
       "output_type": "stream",
       "stream": "stdout",
       "text": [
        "\n",
        "IV WRKSTAT is of type \"DONOTUSE\"\n",
        "IV WRKSTAT is of type \"DONOTUSE\""
       ]
      },
      {
       "output_type": "stream",
       "stream": "stdout",
       "text": [
        "\n",
        "The number of variables in original model is different from the number in model on future years. Skipping."
       ]
      },
      {
       "output_type": "stream",
       "stream": "stdout",
       "text": [
        "\n",
        "IV WRKSTAT is of type \"DONOTUSE\"\n",
        "IV WRKSTAT is of type \"DONOTUSE\""
       ]
      },
      {
       "output_type": "stream",
       "stream": "stdout",
       "text": [
        "\n",
        "The number of variables in original model is different from the number in model on future years. Skipping."
       ]
      },
      {
       "output_type": "stream",
       "stream": "stdout",
       "text": [
        "\n",
        "Couldnt construct a suitable formula\n",
        "Processing article: 4227\n",
        "Couldnt construct a suitable formula\n",
        "Processing article: 4266\n",
        "Either the  params or the R^2 is too high. Skipping."
       ]
      },
      {
       "output_type": "stream",
       "stream": "stdout",
       "text": [
        "\n",
        "Either the  params or the R^2 is too high. Skipping."
       ]
      },
      {
       "output_type": "stream",
       "stream": "stdout",
       "text": [
        "\n",
        "Either the  params or the R^2 is too high. Skipping."
       ]
      },
      {
       "output_type": "stream",
       "stream": "stdout",
       "text": [
        "\n",
        "Processing article: 4290\n",
        "Processing article:"
       ]
      },
      {
       "output_type": "stream",
       "stream": "stdout",
       "text": [
        " 4291\n",
        "Couldnt construct a suitable formula\n",
        "Processing article: 4297\n",
        "Processing article:"
       ]
      },
      {
       "output_type": "stream",
       "stream": "stdout",
       "text": [
        " 4302\n",
        "Processing article:"
       ]
      },
      {
       "output_type": "stream",
       "stream": "stdout",
       "text": [
        " 4310\n",
        "Couldnt construct a suitable formula\n",
        "Processing article: 4347\n",
        "Processing article:"
       ]
      },
      {
       "output_type": "stream",
       "stream": "stdout",
       "text": [
        " 4363\n",
        "Processing article:"
       ]
      },
      {
       "output_type": "stream",
       "stream": "stdout",
       "text": [
        " 4374\n",
        "IV OCC is of type \"DONOTUSE\"\n",
        "IV WRKSTAT is of type \"DONOTUSE\"\n",
        "IV OCC is of type \"DONOTUSE\""
       ]
      },
      {
       "output_type": "stream",
       "stream": "stdout",
       "text": [
        "\n",
        "IV WRKSTAT is of type \"DONOTUSE\"\n",
        "Processing article:"
       ]
      },
      {
       "output_type": "stream",
       "stream": "stdout",
       "text": [
        " 4376\n",
        "Processing article:"
       ]
      },
      {
       "output_type": "stream",
       "stream": "stdout",
       "text": [
        " 4397\n",
        "Couldnt construct a suitable formula\n",
        "Processing article: 4400\n",
        "IV XNORCSIZ is of type \"DONOTUSE\"\n",
        "IV XNORCSIZ is of type \"DONOTUSE\""
       ]
      },
      {
       "output_type": "stream",
       "stream": "stdout",
       "text": [
        "\n",
        "Processing article:"
       ]
      },
      {
       "output_type": "stream",
       "stream": "stdout",
       "text": [
        " 4441\n",
        "Processing article:"
       ]
      },
      {
       "output_type": "stream",
       "stream": "stdout",
       "text": [
        " 4454\n",
        "Processing article:"
       ]
      },
      {
       "output_type": "stream",
       "stream": "stdout",
       "text": [
        " 4469\n",
        "IV INDUSTRY is of type \"DONOTUSE\"\n",
        "IV INDUSTRY is of type \"DONOTUSE\""
       ]
      },
      {
       "output_type": "stream",
       "stream": "stdout",
       "text": [
        "\n",
        "Processing article:"
       ]
      },
      {
       "output_type": "stream",
       "stream": "stdout",
       "text": [
        " 4483\n",
        "The number of variables in original model is different from the number in model on future years. Skipping."
       ]
      },
      {
       "output_type": "stream",
       "stream": "stdout",
       "text": [
        "\n",
        "Processing article: 4528\n",
        "The number of variables in original model is different from the number in model on future years. Skipping."
       ]
      },
      {
       "output_type": "stream",
       "stream": "stdout",
       "text": [
        "\n",
        "Processing article: 4580\n",
        "Couldnt construct a suitable formula\n",
        "Processing article: 4596\n",
        "IV OCC is of type \"DONOTUSE\"\n",
        "IV OCC is of type \"DONOTUSE\""
       ]
      },
      {
       "output_type": "stream",
       "stream": "stdout",
       "text": [
        "\n",
        "Processing article:"
       ]
      },
      {
       "output_type": "stream",
       "stream": "stdout",
       "text": [
        " 4599\n",
        "The number of variables in original model is different from the number in model on future years. Skipping."
       ]
      },
      {
       "output_type": "stream",
       "stream": "stdout",
       "text": [
        "\n",
        "Processing article: 4614\n",
        "categorical variable REG16 has more than 15 levels\n",
        "IV XNORCSIZ is of type \"DONOTUSE\"\n",
        "categorical variable REG16 has more than 15 levels"
       ]
      },
      {
       "output_type": "stream",
       "stream": "stdout",
       "text": [
        "\n",
        "IV XNORCSIZ is of type \"DONOTUSE\"\n",
        "The number of variables in original model is different from the number in model on future years. Skipping."
       ]
      },
      {
       "output_type": "stream",
       "stream": "stdout",
       "text": [
        "\n",
        "Processing article: 4617\n",
        "IV OCC is of type \"DONOTUSE\"\n",
        "IV SPOCC is of type \"DONOTUSE\"\n",
        "IV OCC is of type \"DONOTUSE\""
       ]
      },
      {
       "output_type": "stream",
       "stream": "stdout",
       "text": [
        "\n",
        "IV SPOCC is of type \"DONOTUSE\"\n",
        "IV OCC is of type \"DONOTUSE\""
       ]
      },
      {
       "output_type": "stream",
       "stream": "stdout",
       "text": [
        "\n",
        "IV SPOCC is of type \"DONOTUSE\"\n",
        "IV OCC is of type \"DONOTUSE\""
       ]
      },
      {
       "output_type": "stream",
       "stream": "stdout",
       "text": [
        "\n",
        "IV SPOCC is of type \"DONOTUSE\"\n",
        "IV OCC is of type \"DONOTUSE\""
       ]
      },
      {
       "output_type": "stream",
       "stream": "stdout",
       "text": [
        "\n",
        "IV SPOCC is of type \"DONOTUSE\"\n",
        "IV OCC is of type \"DONOTUSE\""
       ]
      },
      {
       "output_type": "stream",
       "stream": "stdout",
       "text": [
        "\n",
        "IV SPOCC is of type \"DONOTUSE\"\n",
        "IV OCC is of type \"DONOTUSE\""
       ]
      },
      {
       "output_type": "stream",
       "stream": "stdout",
       "text": [
        "\n",
        "IV SPOCC is of type \"DONOTUSE\"\n",
        "IV OCC is of type \"DONOTUSE\""
       ]
      },
      {
       "output_type": "stream",
       "stream": "stdout",
       "text": [
        "\n",
        "IV SPOCC is of type \"DONOTUSE\"\n",
        "IV OCC is of type \"DONOTUSE\""
       ]
      },
      {
       "output_type": "stream",
       "stream": "stdout",
       "text": [
        "\n",
        "IV SPOCC is of type \"DONOTUSE\"\n",
        "IV OCC is of type \"DONOTUSE\""
       ]
      },
      {
       "output_type": "stream",
       "stream": "stdout",
       "text": [
        "\n",
        "IV SPOCC is of type \"DONOTUSE\"\n",
        "IV OCC is of type \"DONOTUSE\""
       ]
      },
      {
       "output_type": "stream",
       "stream": "stdout",
       "text": [
        "\n",
        "IV SPOCC is of type \"DONOTUSE\"\n",
        "IV OCC is of type \"DONOTUSE\""
       ]
      },
      {
       "output_type": "stream",
       "stream": "stdout",
       "text": [
        "\n",
        "IV SPOCC is of type \"DONOTUSE\"\n",
        "IV OCC is of type \"DONOTUSE\""
       ]
      },
      {
       "output_type": "stream",
       "stream": "stdout",
       "text": [
        "\n",
        "IV SPOCC is of type \"DONOTUSE\"\n",
        "IV OCC is of type \"DONOTUSE\""
       ]
      },
      {
       "output_type": "stream",
       "stream": "stdout",
       "text": [
        "\n",
        "IV SPOCC is of type \"DONOTUSE\"\n",
        "IV OCC is of type \"DONOTUSE\""
       ]
      },
      {
       "output_type": "stream",
       "stream": "stdout",
       "text": [
        "\n",
        "IV SPOCC is of type \"DONOTUSE\"\n",
        "IV OCC is of type \"DONOTUSE\""
       ]
      },
      {
       "output_type": "stream",
       "stream": "stdout",
       "text": [
        "\n",
        "IV SPOCC is of type \"DONOTUSE\"\n",
        "IV OCC is of type \"DONOTUSE\""
       ]
      },
      {
       "output_type": "stream",
       "stream": "stdout",
       "text": [
        "\n",
        "IV SPOCC is of type \"DONOTUSE\"\n",
        "IV OCC is of type \"DONOTUSE\""
       ]
      },
      {
       "output_type": "stream",
       "stream": "stdout",
       "text": [
        "\n",
        "IV SPOCC is of type \"DONOTUSE\"\n",
        "IV OCC is of type \"DONOTUSE\""
       ]
      },
      {
       "output_type": "stream",
       "stream": "stdout",
       "text": [
        "\n",
        "IV SPOCC is of type \"DONOTUSE\"\n",
        "IV OCC is of type \"DONOTUSE\""
       ]
      },
      {
       "output_type": "stream",
       "stream": "stdout",
       "text": [
        "\n",
        "IV SPOCC is of type \"DONOTUSE\"\n",
        "IV OCC is of type \"DONOTUSE\""
       ]
      },
      {
       "output_type": "stream",
       "stream": "stdout",
       "text": [
        "\n",
        "IV SPOCC is of type \"DONOTUSE\"\n",
        "IV OCC is of type \"DONOTUSE\""
       ]
      },
      {
       "output_type": "stream",
       "stream": "stdout",
       "text": [
        "\n",
        "IV SPOCC is of type \"DONOTUSE\"\n",
        "Processing article:"
       ]
      },
      {
       "output_type": "stream",
       "stream": "stdout",
       "text": [
        " 4618\n",
        "IV OCC is of type \"DONOTUSE\"\n",
        "IV PAOCC16 is of type \"DONOTUSE\"\n",
        "IV PARTYID is of type \"DONOTUSE\"\n",
        "IV SPOCC is of type \"DONOTUSE\"\n",
        "IV OCC is of type \"DONOTUSE\""
       ]
      },
      {
       "output_type": "stream",
       "stream": "stdout",
       "text": [
        "\n",
        "IV PAOCC16 is of type \"DONOTUSE\"\n",
        "IV PARTYID is of type \"DONOTUSE\"\n",
        "IV SPOCC is of type \"DONOTUSE\"\n",
        "Processing article:"
       ]
      },
      {
       "output_type": "stream",
       "stream": "stdout",
       "text": [
        " 4619\n",
        "IV INDUSTRY is of type \"DONOTUSE\"\n",
        "IV SPPRES is of type \"DONOTUSE\"\n",
        "IV WRKSTAT is of type \"DONOTUSE\"\n",
        "IV XNORCSIZ is of type \"DONOTUSE\"\n",
        "IV INDUSTRY is of type \"DONOTUSE\""
       ]
      },
      {
       "output_type": "stream",
       "stream": "stdout",
       "text": [
        "\n",
        "IV SPPRES is of type \"DONOTUSE\"\n",
        "IV WRKSTAT is of type \"DONOTUSE\"\n",
        "IV XNORCSIZ is of type \"DONOTUSE\"\n",
        "IV INDUSTRY is of type \"DONOTUSE\""
       ]
      },
      {
       "output_type": "stream",
       "stream": "stdout",
       "text": [
        "\n",
        "IV SPPRES is of type \"DONOTUSE\"\n",
        "IV WRKSTAT is of type \"DONOTUSE\"\n",
        "IV XNORCSIZ is of type \"DONOTUSE\"\n",
        "IV INDUSTRY is of type \"DONOTUSE\""
       ]
      },
      {
       "output_type": "stream",
       "stream": "stdout",
       "text": [
        "\n",
        "IV SPPRES is of type \"DONOTUSE\"\n",
        "IV WRKSTAT is of type \"DONOTUSE\"\n",
        "IV XNORCSIZ is of type \"DONOTUSE\"\n",
        "IV INDUSTRY is of type \"DONOTUSE\""
       ]
      },
      {
       "output_type": "stream",
       "stream": "stdout",
       "text": [
        "\n",
        "IV SPPRES is of type \"DONOTUSE\"\n",
        "IV WRKSTAT is of type \"DONOTUSE\"\n",
        "IV XNORCSIZ is of type \"DONOTUSE\"\n",
        "IV INDUSTRY is of type \"DONOTUSE\""
       ]
      },
      {
       "output_type": "stream",
       "stream": "stdout",
       "text": [
        "\n",
        "IV SPPRES is of type \"DONOTUSE\"\n",
        "IV WRKSTAT is of type \"DONOTUSE\"\n",
        "IV XNORCSIZ is of type \"DONOTUSE\"\n",
        "IV INDUSTRY is of type \"DONOTUSE\""
       ]
      },
      {
       "output_type": "stream",
       "stream": "stdout",
       "text": [
        "\n",
        "IV SPPRES is of type \"DONOTUSE\"\n",
        "IV WRKSTAT is of type \"DONOTUSE\"\n",
        "IV XNORCSIZ is of type \"DONOTUSE\"\n",
        "IV INDUSTRY is of type \"DONOTUSE\""
       ]
      },
      {
       "output_type": "stream",
       "stream": "stdout",
       "text": [
        "\n",
        "IV SPPRES is of type \"DONOTUSE\"\n",
        "IV WRKSTAT is of type \"DONOTUSE\"\n",
        "IV XNORCSIZ is of type \"DONOTUSE\"\n",
        "IV INDUSTRY is of type \"DONOTUSE\""
       ]
      },
      {
       "output_type": "stream",
       "stream": "stdout",
       "text": [
        "\n",
        "IV SPPRES is of type \"DONOTUSE\"\n",
        "IV WRKSTAT is of type \"DONOTUSE\"\n",
        "IV XNORCSIZ is of type \"DONOTUSE\"\n",
        "IV INDUSTRY is of type \"DONOTUSE\""
       ]
      },
      {
       "output_type": "stream",
       "stream": "stdout",
       "text": [
        "\n",
        "IV SPPRES is of type \"DONOTUSE\"\n",
        "IV WRKSTAT is of type \"DONOTUSE\"\n",
        "IV XNORCSIZ is of type \"DONOTUSE\"\n",
        "IV INDUSTRY is of type \"DONOTUSE\""
       ]
      },
      {
       "output_type": "stream",
       "stream": "stdout",
       "text": [
        "\n",
        "IV SPPRES is of type \"DONOTUSE\"\n",
        "IV WRKSTAT is of type \"DONOTUSE\"\n",
        "IV XNORCSIZ is of type \"DONOTUSE\"\n",
        "IV INDUSTRY is of type \"DONOTUSE\""
       ]
      },
      {
       "output_type": "stream",
       "stream": "stdout",
       "text": [
        "\n",
        "IV SPPRES is of type \"DONOTUSE\"\n",
        "IV WRKSTAT is of type \"DONOTUSE\"\n",
        "IV XNORCSIZ is of type \"DONOTUSE\"\n",
        "IV INDUSTRY is of type \"DONOTUSE\""
       ]
      },
      {
       "output_type": "stream",
       "stream": "stdout",
       "text": [
        "\n",
        "IV SPPRES is of type \"DONOTUSE\"\n",
        "IV WRKSTAT is of type \"DONOTUSE\"\n",
        "IV XNORCSIZ is of type \"DONOTUSE\"\n",
        "IV INDUSTRY is of type \"DONOTUSE\""
       ]
      },
      {
       "output_type": "stream",
       "stream": "stdout",
       "text": [
        "\n",
        "IV SPPRES is of type \"DONOTUSE\"\n",
        "IV WRKSTAT is of type \"DONOTUSE\"\n",
        "IV XNORCSIZ is of type \"DONOTUSE\"\n",
        "IV INDUSTRY is of type \"DONOTUSE\""
       ]
      },
      {
       "output_type": "stream",
       "stream": "stdout",
       "text": [
        "\n",
        "IV SPPRES is of type \"DONOTUSE\"\n",
        "IV WRKSTAT is of type \"DONOTUSE\"\n",
        "IV XNORCSIZ is of type \"DONOTUSE\"\n",
        "IV INDUSTRY is of type \"DONOTUSE\""
       ]
      },
      {
       "output_type": "stream",
       "stream": "stdout",
       "text": [
        "\n",
        "IV SPPRES is of type \"DONOTUSE\"\n",
        "IV WRKSTAT is of type \"DONOTUSE\"\n",
        "IV XNORCSIZ is of type \"DONOTUSE\"\n",
        "IV INDUSTRY is of type \"DONOTUSE\""
       ]
      },
      {
       "output_type": "stream",
       "stream": "stdout",
       "text": [
        "\n",
        "IV SPPRES is of type \"DONOTUSE\"\n",
        "IV WRKSTAT is of type \"DONOTUSE\"\n",
        "IV XNORCSIZ is of type \"DONOTUSE\"\n",
        "IV INDUSTRY is of type \"DONOTUSE\""
       ]
      },
      {
       "output_type": "stream",
       "stream": "stdout",
       "text": [
        "\n",
        "IV SPPRES is of type \"DONOTUSE\"\n",
        "IV WRKSTAT is of type \"DONOTUSE\"\n",
        "IV XNORCSIZ is of type \"DONOTUSE\"\n",
        "IV INDUSTRY is of type \"DONOTUSE\""
       ]
      },
      {
       "output_type": "stream",
       "stream": "stdout",
       "text": [
        "\n",
        "IV SPPRES is of type \"DONOTUSE\"\n",
        "IV WRKSTAT is of type \"DONOTUSE\"\n",
        "IV XNORCSIZ is of type \"DONOTUSE\"\n",
        "IV INDUSTRY is of type \"DONOTUSE\""
       ]
      },
      {
       "output_type": "stream",
       "stream": "stdout",
       "text": [
        "\n",
        "IV SPPRES is of type \"DONOTUSE\"\n",
        "IV WRKSTAT is of type \"DONOTUSE\"\n",
        "IV XNORCSIZ is of type \"DONOTUSE\"\n",
        "IV INDUSTRY is of type \"DONOTUSE\""
       ]
      },
      {
       "output_type": "stream",
       "stream": "stdout",
       "text": [
        "\n",
        "IV SPPRES is of type \"DONOTUSE\"\n",
        "IV WRKSTAT is of type \"DONOTUSE\"\n",
        "IV XNORCSIZ is of type \"DONOTUSE\"\n",
        "IV INDUSTRY is of type \"DONOTUSE\""
       ]
      },
      {
       "output_type": "stream",
       "stream": "stdout",
       "text": [
        "\n",
        "IV SPPRES is of type \"DONOTUSE\"\n",
        "IV WRKSTAT is of type \"DONOTUSE\"\n",
        "IV XNORCSIZ is of type \"DONOTUSE\"\n",
        "Processing article:"
       ]
      },
      {
       "output_type": "stream",
       "stream": "stdout",
       "text": [
        " 4620\n",
        "Processing article:"
       ]
      },
      {
       "output_type": "stream",
       "stream": "stdout",
       "text": [
        " 4715\n",
        "Processing article:"
       ]
      },
      {
       "output_type": "stream",
       "stream": "stdout",
       "text": [
        " 4743\n",
        "IV WRKSTAT is of type \"DONOTUSE\"\n",
        "IV XNORCSIZ is of type \"DONOTUSE\"\n",
        "Either the  params or the R^2 is too high. Skipping."
       ]
      },
      {
       "output_type": "stream",
       "stream": "stdout",
       "text": [
        "\n",
        "IV WRKSTAT is of type \"DONOTUSE\"\n",
        "IV XNORCSIZ is of type \"DONOTUSE\"\n",
        "Either the  params or the R^2 is too high. Skipping."
       ]
      },
      {
       "output_type": "stream",
       "stream": "stdout",
       "text": [
        "\n",
        "IV WRKSTAT is of type \"DONOTUSE\"\n",
        "IV XNORCSIZ is of type \"DONOTUSE\"\n",
        "Either the  params or the R^2 is too high. Skipping."
       ]
      },
      {
       "output_type": "stream",
       "stream": "stdout",
       "text": [
        "\n",
        "IV WRKSTAT is of type \"DONOTUSE\"\n",
        "IV XNORCSIZ is of type \"DONOTUSE\"\n",
        "Either the  params or the R^2 is too high. Skipping."
       ]
      },
      {
       "output_type": "stream",
       "stream": "stdout",
       "text": [
        "\n",
        "IV WRKSTAT is of type \"DONOTUSE\"\n",
        "IV XNORCSIZ is of type \"DONOTUSE\"\n",
        "Either the  params or the R^2 is too high. Skipping."
       ]
      },
      {
       "output_type": "stream",
       "stream": "stdout",
       "text": [
        "\n",
        "Processing article: 4769\n",
        "categorical variable OVERSAMP has more than 15 levels\n",
        "IV SRCBELT is of type \"DONOTUSE\"\n",
        "Dropping column"
       ]
      },
      {
       "output_type": "stream",
       "stream": "stdout",
       "text": [
        " OVERSAMP because it is constant\n",
        "IV SRCBELT is of type \"DONOTUSE\"\n",
        "The number of variables in original model is different from the number in model on future years. Skipping."
       ]
      },
      {
       "output_type": "stream",
       "stream": "stdout",
       "text": [
        "\n",
        "categorical variable OVERSAMP has more than 15 levels\n",
        "IV SRCBELT is of type \"DONOTUSE\"\n",
        "Dropping column"
       ]
      },
      {
       "output_type": "stream",
       "stream": "stdout",
       "text": [
        " OVERSAMP because it is constant\n",
        "IV SRCBELT is of type \"DONOTUSE\"\n",
        "The number of variables in original model is different from the number in model on future years. Skipping."
       ]
      },
      {
       "output_type": "stream",
       "stream": "stdout",
       "text": [
        "\n",
        "categorical variable OVERSAMP has more than 15 levels\n",
        "IV SRCBELT is of type \"DONOTUSE\"\n",
        "Dropping column"
       ]
      },
      {
       "output_type": "stream",
       "stream": "stdout",
       "text": [
        " OVERSAMP because it is constant\n",
        "IV SRCBELT is of type \"DONOTUSE\"\n",
        "The number of variables in original model is different from the number in model on future years. Skipping."
       ]
      },
      {
       "output_type": "stream",
       "stream": "stdout",
       "text": [
        "\n",
        "Processing article: 4790\n",
        "categorical variable SPDEN has more than 15 levels\n",
        "categorical variable SPDEN has more than 15 levels"
       ]
      },
      {
       "output_type": "stream",
       "stream": "stdout",
       "text": [
        "\n",
        "Processing article:"
       ]
      },
      {
       "output_type": "stream",
       "stream": "stdout",
       "text": [
        " 4796\n",
        "The number of variables in original model is different from the number in model on future years. Skipping."
       ]
      },
      {
       "output_type": "stream",
       "stream": "stdout",
       "text": [
        "\n",
        "Processing article: 4811\n",
        "Couldnt construct a suitable formula\n",
        "Processing article: 4854\n",
        "IV WRKSTAT is of type \"DONOTUSE\"\n",
        "IV WRKSTAT is of type \"DONOTUSE\""
       ]
      },
      {
       "output_type": "stream",
       "stream": "stdout",
       "text": [
        "\n",
        "IV WRKSTAT is of type \"DONOTUSE\""
       ]
      },
      {
       "output_type": "stream",
       "stream": "stdout",
       "text": [
        "\n",
        "IV WRKSTAT is of type \"DONOTUSE\""
       ]
      },
      {
       "output_type": "stream",
       "stream": "stdout",
       "text": [
        "\n",
        "IV WRKSTAT is of type \"DONOTUSE\""
       ]
      },
      {
       "output_type": "stream",
       "stream": "stdout",
       "text": [
        "\n",
        "IV WRKSTAT is of type \"DONOTUSE\""
       ]
      },
      {
       "output_type": "stream",
       "stream": "stdout",
       "text": [
        "\n",
        "IV WRKSTAT is of type \"DONOTUSE\""
       ]
      },
      {
       "output_type": "stream",
       "stream": "stdout",
       "text": [
        "\n",
        "IV WRKSTAT is of type \"DONOTUSE\""
       ]
      },
      {
       "output_type": "stream",
       "stream": "stdout",
       "text": [
        "\n",
        "Processing article:"
       ]
      },
      {
       "output_type": "stream",
       "stream": "stdout",
       "text": [
        " 4880\n",
        "IV VETYEARS is of type \"DONOTUSE\"\n",
        "IV VETYEARS is of type \"DONOTUSE\""
       ]
      },
      {
       "output_type": "stream",
       "stream": "stdout",
       "text": [
        "\n",
        "Processing article:"
       ]
      },
      {
       "output_type": "stream",
       "stream": "stdout",
       "text": [
        " 4924\n",
        "Processing article:"
       ]
      },
      {
       "output_type": "stream",
       "stream": "stdout",
       "text": [
        " 4929\n",
        "Couldnt construct a suitable formula"
       ]
      },
      {
       "output_type": "stream",
       "stream": "stdout",
       "text": [
        "\n",
        "Processing article:"
       ]
      },
      {
       "output_type": "stream",
       "stream": "stdout",
       "text": [
        " 4935\n",
        "Couldnt construct a suitable formula\n",
        "Processing article: 4936\n",
        "Couldnt construct a suitable formula\n",
        "Processing article: 4948\n",
        "Processing article:"
       ]
      },
      {
       "output_type": "stream",
       "stream": "stdout",
       "text": [
        " 4950\n",
        "Couldnt construct a suitable formula\n",
        "Couldnt construct a suitable formula\n",
        "Processing article: 4954\n",
        "Processing article:"
       ]
      },
      {
       "output_type": "stream",
       "stream": "stdout",
       "text": [
        " 4961\n",
        "Processing article:"
       ]
      },
      {
       "output_type": "stream",
       "stream": "stdout",
       "text": [
        " 4979\n",
        "categorical variable ETHNIC has more than 15 levels\n",
        "IV XNORCSIZ is of type \"DONOTUSE\"\n",
        "categorical variable ETHNIC has more than 15 levels"
       ]
      },
      {
       "output_type": "stream",
       "stream": "stdout",
       "text": [
        "\n",
        "IV XNORCSIZ is of type \"DONOTUSE\"\n",
        "categorical variable ETHNIC has more than 15 levels"
       ]
      },
      {
       "output_type": "stream",
       "stream": "stdout",
       "text": [
        "\n",
        "IV XNORCSIZ is of type \"DONOTUSE\"\n",
        "categorical variable ETHNIC has more than 15 levels"
       ]
      },
      {
       "output_type": "stream",
       "stream": "stdout",
       "text": [
        "\n",
        "IV XNORCSIZ is of type \"DONOTUSE\"\n",
        "categorical variable ETHNIC has more than 15 levels"
       ]
      },
      {
       "output_type": "stream",
       "stream": "stdout",
       "text": [
        "\n",
        "IV XNORCSIZ is of type \"DONOTUSE\"\n",
        "categorical variable ETHNIC has more than 15 levels"
       ]
      },
      {
       "output_type": "stream",
       "stream": "stdout",
       "text": [
        "\n",
        "IV XNORCSIZ is of type \"DONOTUSE\"\n",
        "categorical variable ETHNIC has more than 15 levels"
       ]
      },
      {
       "output_type": "stream",
       "stream": "stdout",
       "text": [
        "\n",
        "IV XNORCSIZ is of type \"DONOTUSE\"\n",
        "categorical variable ETHNIC has more than 15 levels"
       ]
      },
      {
       "output_type": "stream",
       "stream": "stdout",
       "text": [
        "\n",
        "IV XNORCSIZ is of type \"DONOTUSE\"\n",
        "categorical variable ETHNIC has more than 15 levels"
       ]
      },
      {
       "output_type": "stream",
       "stream": "stdout",
       "text": [
        "\n",
        "IV XNORCSIZ is of type \"DONOTUSE\"\n",
        "categorical variable ETHNIC has more than 15 levels"
       ]
      },
      {
       "output_type": "stream",
       "stream": "stdout",
       "text": [
        "\n",
        "IV XNORCSIZ is of type \"DONOTUSE\"\n",
        "categorical variable ETHNIC has more than 15 levels"
       ]
      },
      {
       "output_type": "stream",
       "stream": "stdout",
       "text": [
        "\n",
        "IV XNORCSIZ is of type \"DONOTUSE\"\n",
        "categorical variable ETHNIC has more than 15 levels"
       ]
      },
      {
       "output_type": "stream",
       "stream": "stdout",
       "text": [
        "\n",
        "IV XNORCSIZ is of type \"DONOTUSE\"\n",
        "categorical variable ETHNIC has more than 15 levels"
       ]
      },
      {
       "output_type": "stream",
       "stream": "stdout",
       "text": [
        "\n",
        "IV XNORCSIZ is of type \"DONOTUSE\"\n",
        "categorical variable ETHNIC has more than 15 levels"
       ]
      },
      {
       "output_type": "stream",
       "stream": "stdout",
       "text": [
        "\n",
        "IV XNORCSIZ is of type \"DONOTUSE\"\n",
        "categorical variable ETHNIC has more than 15 levels"
       ]
      },
      {
       "output_type": "stream",
       "stream": "stdout",
       "text": [
        "\n",
        "IV XNORCSIZ is of type \"DONOTUSE\"\n",
        "categorical variable ETHNIC has more than 15 levels"
       ]
      },
      {
       "output_type": "stream",
       "stream": "stdout",
       "text": [
        "\n",
        "IV XNORCSIZ is of type \"DONOTUSE\"\n",
        "categorical variable ETHNIC has more than 15 levels"
       ]
      },
      {
       "output_type": "stream",
       "stream": "stdout",
       "text": [
        "\n",
        "IV XNORCSIZ is of type \"DONOTUSE\"\n",
        "categorical variable ETHNIC has more than 15 levels"
       ]
      },
      {
       "output_type": "stream",
       "stream": "stdout",
       "text": [
        "\n",
        "IV XNORCSIZ is of type \"DONOTUSE\"\n",
        "categorical variable ETHNIC has more than 15 levels"
       ]
      },
      {
       "output_type": "stream",
       "stream": "stdout",
       "text": [
        "\n",
        "IV XNORCSIZ is of type \"DONOTUSE\"\n",
        "categorical variable ETHNIC has more than 15 levels"
       ]
      },
      {
       "output_type": "stream",
       "stream": "stdout",
       "text": [
        "\n",
        "IV XNORCSIZ is of type \"DONOTUSE\"\n",
        "Processing article:"
       ]
      },
      {
       "output_type": "stream",
       "stream": "stdout",
       "text": [
        " 4980\n",
        "Processing article:"
       ]
      },
      {
       "output_type": "stream",
       "stream": "stdout",
       "text": [
        " 4981\n",
        "categorical variable DENOM has more than 15 levels\n",
        "IV OTHER is of type \"DONOTUSE\"\n",
        "categorical variable DENOM has more than 15 levels"
       ]
      },
      {
       "output_type": "stream",
       "stream": "stdout",
       "text": [
        "\n",
        "IV OTHER is of type \"DONOTUSE\"\n",
        "categorical variable DENOM has more than 15 levels"
       ]
      },
      {
       "output_type": "stream",
       "stream": "stdout",
       "text": [
        "\n",
        "IV OTHER is of type \"DONOTUSE\"\n",
        "categorical variable DENOM has more than 15 levels"
       ]
      },
      {
       "output_type": "stream",
       "stream": "stdout",
       "text": [
        "\n",
        "IV OTHER is of type \"DONOTUSE\"\n",
        "categorical variable DENOM has more than 15 levels"
       ]
      },
      {
       "output_type": "stream",
       "stream": "stdout",
       "text": [
        "\n",
        "IV OTHER is of type \"DONOTUSE\"\n",
        "categorical variable DENOM has more than 15 levels"
       ]
      },
      {
       "output_type": "stream",
       "stream": "stdout",
       "text": [
        "\n",
        "IV OTHER is of type \"DONOTUSE\"\n",
        "categorical variable DENOM has more than 15 levels"
       ]
      },
      {
       "output_type": "stream",
       "stream": "stdout",
       "text": [
        "\n",
        "IV OTHER is of type \"DONOTUSE\"\n",
        "categorical variable DENOM has more than 15 levels"
       ]
      },
      {
       "output_type": "stream",
       "stream": "stdout",
       "text": [
        "\n",
        "IV OTHER is of type \"DONOTUSE\"\n",
        "categorical variable DENOM has more than 15 levels"
       ]
      },
      {
       "output_type": "stream",
       "stream": "stdout",
       "text": [
        "\n",
        "IV OTHER is of type \"DONOTUSE\"\n",
        "categorical variable DENOM has more than 15 levels"
       ]
      },
      {
       "output_type": "stream",
       "stream": "stdout",
       "text": [
        "\n",
        "IV OTHER is of type \"DONOTUSE\"\n",
        "categorical variable DENOM has more than 15 levels"
       ]
      },
      {
       "output_type": "stream",
       "stream": "stdout",
       "text": [
        "\n",
        "IV OTHER is of type \"DONOTUSE\"\n",
        "categorical variable DENOM has more than 15 levels"
       ]
      },
      {
       "output_type": "stream",
       "stream": "stdout",
       "text": [
        "\n",
        "IV OTHER is of type \"DONOTUSE\"\n",
        "Processing article:"
       ]
      },
      {
       "output_type": "stream",
       "stream": "stdout",
       "text": [
        " 5003\n",
        "Processing article:"
       ]
      },
      {
       "output_type": "stream",
       "stream": "stdout",
       "text": [
        " 5015\n",
        "Processing article:"
       ]
      },
      {
       "output_type": "stream",
       "stream": "stdout",
       "text": [
        " 5039\n",
        "Processing article:"
       ]
      },
      {
       "output_type": "stream",
       "stream": "stdout",
       "text": [
        " 5055\n",
        "Couldnt construct a suitable formula\n",
        "Processing article: 5091\n",
        "categorical variable DENOM has more than 15 levels\n",
        "categorical variable DENOM has more than 15 levels"
       ]
      },
      {
       "output_type": "stream",
       "stream": "stdout",
       "text": [
        "\n",
        "categorical variable DENOM has more than 15 levels"
       ]
      },
      {
       "output_type": "stream",
       "stream": "stdout",
       "text": [
        "\n",
        "categorical variable DENOM has more than 15 levels"
       ]
      },
      {
       "output_type": "stream",
       "stream": "stdout",
       "text": [
        "\n",
        "Couldnt construct a suitable formula"
       ]
      },
      {
       "output_type": "stream",
       "stream": "stdout",
       "text": [
        "\n",
        "categorical variable DENOM has more than 15 levels\n",
        "categorical variable DENOM has more than 15 levels"
       ]
      },
      {
       "output_type": "stream",
       "stream": "stdout",
       "text": [
        "\n",
        "categorical variable DENOM has more than 15 levels"
       ]
      },
      {
       "output_type": "stream",
       "stream": "stdout",
       "text": [
        "\n",
        "categorical variable DENOM has more than 15 levels"
       ]
      },
      {
       "output_type": "stream",
       "stream": "stdout",
       "text": [
        "\n",
        "categorical variable DENOM has more than 15 levels"
       ]
      },
      {
       "output_type": "stream",
       "stream": "stdout",
       "text": [
        "\n",
        "categorical variable DENOM has more than 15 levels"
       ]
      },
      {
       "output_type": "stream",
       "stream": "stdout",
       "text": [
        "\n",
        "categorical variable DENOM has more than 15 levels"
       ]
      },
      {
       "output_type": "stream",
       "stream": "stdout",
       "text": [
        "\n",
        "categorical variable DENOM has more than 15 levels"
       ]
      },
      {
       "output_type": "stream",
       "stream": "stdout",
       "text": [
        "\n",
        "categorical variable DENOM has more than 15 levels"
       ]
      },
      {
       "output_type": "stream",
       "stream": "stdout",
       "text": [
        "\n",
        "categorical variable DENOM has more than 15 levels"
       ]
      },
      {
       "output_type": "stream",
       "stream": "stdout",
       "text": [
        "\n",
        "categorical variable DENOM has more than 15 levels"
       ]
      },
      {
       "output_type": "stream",
       "stream": "stdout",
       "text": [
        "\n",
        "categorical variable DENOM has more than 15 levels"
       ]
      },
      {
       "output_type": "stream",
       "stream": "stdout",
       "text": [
        "\n",
        "categorical variable DENOM has more than 15 levels"
       ]
      },
      {
       "output_type": "stream",
       "stream": "stdout",
       "text": [
        "\n",
        "categorical variable DENOM has more than 15 levels"
       ]
      },
      {
       "output_type": "stream",
       "stream": "stdout",
       "text": [
        "\n",
        "categorical variable DENOM has more than 15 levels"
       ]
      },
      {
       "output_type": "stream",
       "stream": "stdout",
       "text": [
        "\n",
        "categorical variable DENOM has more than 15 levels"
       ]
      },
      {
       "output_type": "stream",
       "stream": "stdout",
       "text": [
        "\n",
        "categorical variable DENOM has more than 15 levels"
       ]
      },
      {
       "output_type": "stream",
       "stream": "stdout",
       "text": [
        "\n",
        "categorical variable DENOM has more than 15 levels"
       ]
      },
      {
       "output_type": "stream",
       "stream": "stdout",
       "text": [
        "\n",
        "Couldnt construct a suitable formula"
       ]
      },
      {
       "output_type": "stream",
       "stream": "stdout",
       "text": [
        "\n",
        "categorical variable DENOM has more than 15 levels\n",
        "categorical variable DENOM has more than 15 levels"
       ]
      },
      {
       "output_type": "stream",
       "stream": "stdout",
       "text": [
        "\n",
        "Processing article:"
       ]
      },
      {
       "output_type": "stream",
       "stream": "stdout",
       "text": [
        " 5093\n",
        "Couldnt construct a suitable formula"
       ]
      },
      {
       "output_type": "stream",
       "stream": "stdout",
       "text": [
        "\n",
        "Processing article:"
       ]
      },
      {
       "output_type": "stream",
       "stream": "stdout",
       "text": [
        " 5096\n",
        "Processing article:"
       ]
      },
      {
       "output_type": "stream",
       "stream": "stdout",
       "text": [
        " 5170\n",
        "Processing article:"
       ]
      },
      {
       "output_type": "stream",
       "stream": "stdout",
       "text": [
        " 5175\n",
        "Couldnt construct a suitable formula\n",
        "Processing article: 5183\n",
        "Processing article:"
       ]
      },
      {
       "output_type": "stream",
       "stream": "stdout",
       "text": [
        " 5216\n",
        "Processing article:"
       ]
      },
      {
       "output_type": "stream",
       "stream": "stdout",
       "text": [
        " 5226\n",
        "Couldnt construct a suitable formula"
       ]
      },
      {
       "output_type": "stream",
       "stream": "stdout",
       "text": [
        "\n",
        "Processing article: 5283\n",
        "categorical variable DENOM has more than 15 levels\n",
        "categorical variable ETHNIC has more than 15 levels\n",
        "IV PAOCC16 is of type \"DONOTUSE\"\n",
        "categorical variable REG16 has more than 15 levels\n",
        "IV XNORCSIZ is of type \"DONOTUSE\"\n",
        "categorical variable DENOM has more than 15 levels"
       ]
      },
      {
       "output_type": "stream",
       "stream": "stdout",
       "text": [
        "\n",
        "categorical variable ETHNIC has more than 15 levels\n",
        "IV PAOCC16 is of type \"DONOTUSE\"\n",
        "categorical variable REG16 has more than 15 levels\n",
        "IV XNORCSIZ is of type \"DONOTUSE\"\n",
        "The number of variables in original model is different from the number in model on future years. Skipping."
       ]
      },
      {
       "output_type": "stream",
       "stream": "stdout",
       "text": [
        "\n",
        "Processing article: 5295\n",
        "The number of variables in original model is different from the number in model on future years. Skipping."
       ]
      },
      {
       "output_type": "stream",
       "stream": "stdout",
       "text": [
        "\n",
        "The number of variables in original model is different from the number in model on future years. Skipping."
       ]
      },
      {
       "output_type": "stream",
       "stream": "stdout",
       "text": [
        "\n",
        "The number of variables in original model is different from the number in model on future years. Skipping."
       ]
      },
      {
       "output_type": "stream",
       "stream": "stdout",
       "text": [
        "\n",
        "The number of variables in original model is different from the number in model on future years. Skipping."
       ]
      },
      {
       "output_type": "stream",
       "stream": "stdout",
       "text": [
        "\n",
        "The number of variables in original model is different from the number in model on future years. Skipping."
       ]
      },
      {
       "output_type": "stream",
       "stream": "stdout",
       "text": [
        "\n",
        "The number of variables in original model is different from the number in model on future years. Skipping."
       ]
      },
      {
       "output_type": "stream",
       "stream": "stdout",
       "text": [
        "\n",
        "The number of variables in original model is different from the number in model on future years. Skipping."
       ]
      },
      {
       "output_type": "stream",
       "stream": "stdout",
       "text": [
        "\n",
        "Processing article: 5305\n",
        "Couldnt construct a suitable formula\n",
        "Processing article: 5360\n",
        "Processing article:"
       ]
      },
      {
       "output_type": "stream",
       "stream": "stdout",
       "text": [
        " 5374\n",
        "categorical variable DENOM has more than 15 levels\n",
        "categorical variable DENOM has more than 15 levels"
       ]
      },
      {
       "output_type": "stream",
       "stream": "stdout",
       "text": [
        "\n",
        "categorical variable DENOM has more than 15 levels"
       ]
      },
      {
       "output_type": "stream",
       "stream": "stdout",
       "text": [
        "\n",
        "categorical variable DENOM has more than 15 levels"
       ]
      },
      {
       "output_type": "stream",
       "stream": "stdout",
       "text": [
        "\n",
        "categorical variable DENOM has more than 15 levels"
       ]
      },
      {
       "output_type": "stream",
       "stream": "stdout",
       "text": [
        "\n",
        "categorical variable DENOM has more than 15 levels"
       ]
      },
      {
       "output_type": "stream",
       "stream": "stdout",
       "text": [
        "\n",
        "Processing article:"
       ]
      },
      {
       "output_type": "stream",
       "stream": "stdout",
       "text": [
        " 5377\n",
        "Couldnt construct a suitable formula\n",
        "IV CLASS is of type \"DONOTUSE\"\n",
        "categorical variable DENOM has more than 15 levels\n",
        "IV SRCBELT is of type \"DONOTUSE\"\n",
        "IV XNORCSIZ is of type \"DONOTUSE\"\n",
        "IV CLASS is of type \"DONOTUSE\""
       ]
      },
      {
       "output_type": "stream",
       "stream": "stdout",
       "text": [
        "\n",
        "categorical variable DENOM has more than 15 levels\n",
        "IV SRCBELT is of type \"DONOTUSE\"\n",
        "IV XNORCSIZ is of type \"DONOTUSE\"\n",
        "Processing article:"
       ]
      },
      {
       "output_type": "stream",
       "stream": "stdout",
       "text": [
        " 5390\n",
        "Couldnt construct a suitable formula\n",
        "IV PAOCC16 is of type \"DONOTUSE\"\n",
        "IV WRKSTAT is of type \"DONOTUSE\"\n",
        "IV PAOCC16 is of type \"DONOTUSE\""
       ]
      },
      {
       "output_type": "stream",
       "stream": "stdout",
       "text": [
        "\n",
        "IV WRKSTAT is of type \"DONOTUSE\"\n",
        "The number of variables in original model is different from the number in model on future years. Skipping."
       ]
      },
      {
       "output_type": "stream",
       "stream": "stdout",
       "text": [
        "\n",
        "Processing article: 5395\n",
        "Processing article:"
       ]
      },
      {
       "output_type": "stream",
       "stream": "stdout",
       "text": [
        " 5413\n",
        "Processing article:"
       ]
      },
      {
       "output_type": "stream",
       "stream": "stdout",
       "text": [
        " 5419\n",
        "IV CLASS is of type \"DONOTUSE\"\n",
        "IV CLASS is of type \"DONOTUSE\""
       ]
      },
      {
       "output_type": "stream",
       "stream": "stdout",
       "text": [
        "\n",
        "Processing article:"
       ]
      },
      {
       "output_type": "stream",
       "stream": "stdout",
       "text": [
        " 5454\n",
        "Couldnt construct a suitable formula\n",
        "Processing article: 5455\n",
        "categorical variable DENOM has more than 15 levels\n",
        "categorical variable DENOM has more than 15 levels"
       ]
      },
      {
       "output_type": "stream",
       "stream": "stdout",
       "text": [
        "\n",
        "Processing article:"
       ]
      },
      {
       "output_type": "stream",
       "stream": "stdout",
       "text": [
        " 5457\n",
        "Processing article:"
       ]
      },
      {
       "output_type": "stream",
       "stream": "stdout",
       "text": [
        " 5465\n",
        "Couldnt construct a suitable formula\n",
        "categorical variable DENOM has more than 15 levels\n",
        "IV OTHER is of type \"DONOTUSE\"\n",
        "categorical variable REG16 has more than 15 levels\n",
        "categorical variable DENOM has more than 15 levels"
       ]
      },
      {
       "output_type": "stream",
       "stream": "stdout",
       "text": [
        "\n",
        "IV OTHER is of type \"DONOTUSE\"\n",
        "categorical variable REG16 has more than 15 levels\n",
        "categorical variable DENOM has more than 15 levels"
       ]
      },
      {
       "output_type": "stream",
       "stream": "stdout",
       "text": [
        "\n",
        "IV OTHER is of type \"DONOTUSE\"\n",
        "categorical variable REG16 has more than 15 levels\n",
        "categorical variable DENOM has more than 15 levels"
       ]
      },
      {
       "output_type": "stream",
       "stream": "stdout",
       "text": [
        "\n",
        "IV OTHER is of type \"DONOTUSE\"\n",
        "categorical variable REG16 has more than 15 levels\n",
        "Processing article:"
       ]
      },
      {
       "output_type": "stream",
       "stream": "stdout",
       "text": [
        " 5493\n",
        "Couldnt construct a suitable formula\n",
        "Couldnt construct a suitable formula\n",
        "Processing article: 5498\n",
        "categorical variable ETHNIC has more than 15 levels\n",
        "IV SRCBELT is of type \"DONOTUSE\"\n",
        "categorical variable ETHNIC has more than 15 levels"
       ]
      },
      {
       "output_type": "stream",
       "stream": "stdout",
       "text": [
        "\n",
        "IV SRCBELT is of type \"DONOTUSE\"\n",
        "The number of variables in original model is different from the number in model on future years. Skipping."
       ]
      },
      {
       "output_type": "stream",
       "stream": "stdout",
       "text": [
        "\n",
        "categorical variable ETHNIC has more than 15 levels\n",
        "IV SRCBELT is of type \"DONOTUSE\"\n",
        "categorical variable ETHNIC has more than 15 levels"
       ]
      },
      {
       "output_type": "stream",
       "stream": "stdout",
       "text": [
        "\n",
        "IV SRCBELT is of type \"DONOTUSE\"\n",
        "The number of variables in original model is different from the number in model on future years. Skipping."
       ]
      },
      {
       "output_type": "stream",
       "stream": "stdout",
       "text": [
        "\n",
        "Processing article: 5547\n",
        "categorical variable DENOM has more than 15 levels\n",
        "IV OCC is of type \"DONOTUSE\"\n",
        "categorical variable DENOM has more than 15 levels"
       ]
      },
      {
       "output_type": "stream",
       "stream": "stdout",
       "text": [
        "\n",
        "IV OCC is of type \"DONOTUSE\"\n",
        "Processing article:"
       ]
      },
      {
       "output_type": "stream",
       "stream": "stdout",
       "text": [
        " 5548\n",
        "IV OCC is of type \"DONOTUSE\"\n",
        "IV OCC is of type \"DONOTUSE\""
       ]
      },
      {
       "output_type": "stream",
       "stream": "stdout",
       "text": [
        "\n",
        "The number of variables in original model is different from the number in model on future years. Skipping."
       ]
      },
      {
       "output_type": "stream",
       "stream": "stdout",
       "text": [
        "\n",
        "Processing article: 5549\n",
        "categorical variable DENOM has more than 15 levels\n",
        "IV XNORCSIZ is of type \"DONOTUSE\"\n",
        "categorical variable DENOM has more than 15 levels"
       ]
      },
      {
       "output_type": "stream",
       "stream": "stdout",
       "text": [
        "\n",
        "IV XNORCSIZ is of type \"DONOTUSE\"\n",
        "Processing article:"
       ]
      },
      {
       "output_type": "stream",
       "stream": "stdout",
       "text": [
        " 5556\n",
        "Processing article:"
       ]
      },
      {
       "output_type": "stream",
       "stream": "stdout",
       "text": [
        " 5565\n",
        "categorical variable REG16 has more than 15 levels\n",
        "IV VETYEARS is of type \"DONOTUSE\"\n",
        "categorical variable REG16 has more than 15 levels"
       ]
      },
      {
       "output_type": "stream",
       "stream": "stdout",
       "text": [
        "\n",
        "IV VETYEARS is of type \"DONOTUSE\"\n",
        "categorical variable REG16 has more than 15 levels"
       ]
      },
      {
       "output_type": "stream",
       "stream": "stdout",
       "text": [
        "\n",
        "IV VETYEARS is of type \"DONOTUSE\"\n",
        "categorical variable REG16 has more than 15 levels"
       ]
      },
      {
       "output_type": "stream",
       "stream": "stdout",
       "text": [
        "\n",
        "IV VETYEARS is of type \"DONOTUSE\"\n",
        "Processing article:"
       ]
      },
      {
       "output_type": "stream",
       "stream": "stdout",
       "text": [
        " 5577\n",
        "Processing article:"
       ]
      },
      {
       "output_type": "stream",
       "stream": "stdout",
       "text": [
        " 5624\n",
        "Processing article:"
       ]
      },
      {
       "output_type": "stream",
       "stream": "stdout",
       "text": [
        " 5625\n",
        "categorical variable DENOM has more than 15 levels\n",
        "categorical variable DENOM has more than 15 levels"
       ]
      },
      {
       "output_type": "stream",
       "stream": "stdout",
       "text": [
        "\n",
        "categorical variable DENOM has more than 15 levels"
       ]
      },
      {
       "output_type": "stream",
       "stream": "stdout",
       "text": [
        "\n",
        "categorical variable DENOM has more than 15 levels"
       ]
      },
      {
       "output_type": "stream",
       "stream": "stdout",
       "text": [
        "\n",
        "categorical variable DENOM has more than 15 levels"
       ]
      },
      {
       "output_type": "stream",
       "stream": "stdout",
       "text": [
        "\n",
        "categorical variable DENOM has more than 15 levels"
       ]
      },
      {
       "output_type": "stream",
       "stream": "stdout",
       "text": [
        "\n",
        "categorical variable DENOM has more than 15 levels"
       ]
      },
      {
       "output_type": "stream",
       "stream": "stdout",
       "text": [
        "\n",
        "categorical variable DENOM has more than 15 levels"
       ]
      },
      {
       "output_type": "stream",
       "stream": "stdout",
       "text": [
        "\n",
        "categorical variable DENOM has more than 15 levels"
       ]
      },
      {
       "output_type": "stream",
       "stream": "stdout",
       "text": [
        "\n",
        "categorical variable DENOM has more than 15 levels"
       ]
      },
      {
       "output_type": "stream",
       "stream": "stdout",
       "text": [
        "\n",
        "categorical variable DENOM has more than 15 levels"
       ]
      },
      {
       "output_type": "stream",
       "stream": "stdout",
       "text": [
        "\n",
        "categorical variable DENOM has more than 15 levels"
       ]
      },
      {
       "output_type": "stream",
       "stream": "stdout",
       "text": [
        "\n",
        "Processing article:"
       ]
      },
      {
       "output_type": "stream",
       "stream": "stdout",
       "text": [
        " 5651\n",
        "IV WRKSTAT is of type \"DONOTUSE\"\n",
        "IV WRKSTAT is of type \"DONOTUSE\""
       ]
      },
      {
       "output_type": "stream",
       "stream": "stdout",
       "text": [
        "\n",
        "The number of variables in original model is different from the number in model on future years. Skipping."
       ]
      },
      {
       "output_type": "stream",
       "stream": "stdout",
       "text": [
        "\n",
        "Processing article: 5658\n",
        "Processing article:"
       ]
      },
      {
       "output_type": "stream",
       "stream": "stdout",
       "text": [
        " 5750\n",
        "IV XNORCSIZ is of type \"DONOTUSE\"\n",
        "IV XNORCSIZ is of type \"DONOTUSE\""
       ]
      },
      {
       "output_type": "stream",
       "stream": "stdout",
       "text": [
        "\n",
        "IV XNORCSIZ is of type \"DONOTUSE\""
       ]
      },
      {
       "output_type": "stream",
       "stream": "stdout",
       "text": [
        "\n",
        "IV XNORCSIZ is of type \"DONOTUSE\""
       ]
      },
      {
       "output_type": "stream",
       "stream": "stdout",
       "text": [
        "\n",
        "IV XNORCSIZ is of type \"DONOTUSE\""
       ]
      },
      {
       "output_type": "stream",
       "stream": "stdout",
       "text": [
        "\n",
        "IV XNORCSIZ is of type \"DONOTUSE\""
       ]
      },
      {
       "output_type": "stream",
       "stream": "stdout",
       "text": [
        "\n",
        "IV XNORCSIZ is of type \"DONOTUSE\""
       ]
      },
      {
       "output_type": "stream",
       "stream": "stdout",
       "text": [
        "\n",
        "IV XNORCSIZ is of type \"DONOTUSE\""
       ]
      },
      {
       "output_type": "stream",
       "stream": "stdout",
       "text": [
        "\n",
        "Processing article:"
       ]
      },
      {
       "output_type": "stream",
       "stream": "stdout",
       "text": [
        " 5754\n",
        "categorical variable DENOM has more than 15 levels\n",
        "categorical variable DENOM has more than 15 levels"
       ]
      },
      {
       "output_type": "stream",
       "stream": "stdout",
       "text": [
        "\n",
        "Processing article:"
       ]
      },
      {
       "output_type": "stream",
       "stream": "stdout",
       "text": [
        " 5776\n",
        "Couldnt construct a suitable formula"
       ]
      },
      {
       "output_type": "stream",
       "stream": "stdout",
       "text": [
        "\n",
        "Couldnt construct a suitable formula"
       ]
      },
      {
       "output_type": "stream",
       "stream": "stdout",
       "text": [
        "\n",
        "Processing article:"
       ]
      },
      {
       "output_type": "stream",
       "stream": "stdout",
       "text": [
        " 5807\n",
        "IV WRKSTAT is of type \"DONOTUSE\"\n",
        "IV WRKSTAT is of type \"DONOTUSE\""
       ]
      },
      {
       "output_type": "stream",
       "stream": "stdout",
       "text": [
        "\n",
        "IV WRKSTAT is of type \"DONOTUSE\""
       ]
      },
      {
       "output_type": "stream",
       "stream": "stdout",
       "text": [
        "\n",
        "IV WRKSTAT is of type \"DONOTUSE\""
       ]
      },
      {
       "output_type": "stream",
       "stream": "stdout",
       "text": [
        "\n",
        "IV WRKSTAT is of type \"DONOTUSE\""
       ]
      },
      {
       "output_type": "stream",
       "stream": "stdout",
       "text": [
        "\n",
        "IV WRKSTAT is of type \"DONOTUSE\""
       ]
      },
      {
       "output_type": "stream",
       "stream": "stdout",
       "text": [
        "\n",
        "IV WRKSTAT is of type \"DONOTUSE\""
       ]
      },
      {
       "output_type": "stream",
       "stream": "stdout",
       "text": [
        "\n",
        "IV WRKSTAT is of type \"DONOTUSE\""
       ]
      },
      {
       "output_type": "stream",
       "stream": "stdout",
       "text": [
        "\n",
        "IV WRKSTAT is of type \"DONOTUSE\""
       ]
      },
      {
       "output_type": "stream",
       "stream": "stdout",
       "text": [
        "\n",
        "IV WRKSTAT is of type \"DONOTUSE\""
       ]
      },
      {
       "output_type": "stream",
       "stream": "stdout",
       "text": [
        "\n",
        "Processing article:"
       ]
      },
      {
       "output_type": "stream",
       "stream": "stdout",
       "text": [
        " 5825\n",
        "Processing article:"
       ]
      },
      {
       "output_type": "stream",
       "stream": "stdout",
       "text": [
        " 5832\n",
        "The number of variables in original model is different from the number in model on future years. Skipping."
       ]
      },
      {
       "output_type": "stream",
       "stream": "stdout",
       "text": [
        "\n",
        "Processing article: 5833\n",
        "Processing article:"
       ]
      },
      {
       "output_type": "stream",
       "stream": "stdout",
       "text": [
        " 5840\n",
        "Processing article:"
       ]
      },
      {
       "output_type": "stream",
       "stream": "stdout",
       "text": [
        " 5859\n",
        "Processing article:"
       ]
      },
      {
       "output_type": "stream",
       "stream": "stdout",
       "text": [
        " 5862\n",
        "Processing article:"
       ]
      },
      {
       "output_type": "stream",
       "stream": "stdout",
       "text": [
        " 5873\n",
        "Processing article:"
       ]
      },
      {
       "output_type": "stream",
       "stream": "stdout",
       "text": [
        " 5949\n",
        "Couldnt construct a suitable formula\n",
        "Processing article:"
       ]
      },
      {
       "output_type": "stream",
       "stream": "stdout",
       "text": [
        " 5950\n",
        "Couldnt construct a suitable formula"
       ]
      },
      {
       "output_type": "stream",
       "stream": "stdout",
       "text": [
        "\n",
        "Couldnt construct a suitable formula\n",
        "Couldnt construct a suitable formula"
       ]
      },
      {
       "output_type": "stream",
       "stream": "stdout",
       "text": [
        "\n",
        "Couldnt construct a suitable formula"
       ]
      },
      {
       "output_type": "stream",
       "stream": "stdout",
       "text": [
        "\n",
        "Processing article:"
       ]
      },
      {
       "output_type": "stream",
       "stream": "stdout",
       "text": [
        " 6156\n",
        "IV PAOCC16 is of type \"DONOTUSE\"\n",
        "IV WRKSTAT is of type \"DONOTUSE\"\n",
        "IV PAOCC16 is of type \"DONOTUSE\""
       ]
      },
      {
       "output_type": "stream",
       "stream": "stdout",
       "text": [
        "\n",
        "IV WRKSTAT is of type \"DONOTUSE\"\n",
        "Couldnt construct a suitable formula"
       ]
      },
      {
       "output_type": "stream",
       "stream": "stdout",
       "text": [
        "\n",
        "IV PAOCC16 is of type \"DONOTUSE\"\n",
        "IV WRKSTAT is of type \"DONOTUSE\"\n",
        "IV PAOCC16 is of type \"DONOTUSE\""
       ]
      },
      {
       "output_type": "stream",
       "stream": "stdout",
       "text": [
        "\n",
        "IV WRKSTAT is of type \"DONOTUSE\"\n",
        "IV PAOCC16 is of type \"DONOTUSE\""
       ]
      },
      {
       "output_type": "stream",
       "stream": "stdout",
       "text": [
        "\n",
        "IV WRKSTAT is of type \"DONOTUSE\"\n",
        "IV PAOCC16 is of type \"DONOTUSE\""
       ]
      },
      {
       "output_type": "stream",
       "stream": "stdout",
       "text": [
        "\n",
        "IV WRKSTAT is of type \"DONOTUSE\"\n",
        "Processing article:"
       ]
      },
      {
       "output_type": "stream",
       "stream": "stdout",
       "text": [
        " 6160\n",
        "IV CLASS is of type \"DONOTUSE\"\n",
        "IV OCC is of type \"DONOTUSE\"\n",
        "IV PAOCC16 is of type \"DONOTUSE\"\n",
        "IV WRKSTAT is of type \"DONOTUSE\"\n",
        "IV CLASS is of type \"DONOTUSE\""
       ]
      },
      {
       "output_type": "stream",
       "stream": "stdout",
       "text": [
        "\n",
        "IV OCC is of type \"DONOTUSE\"\n",
        "IV PAOCC16 is of type \"DONOTUSE\"\n",
        "IV WRKSTAT is of type \"DONOTUSE\"\n",
        "Couldnt construct a suitable formula"
       ]
      },
      {
       "output_type": "stream",
       "stream": "stdout",
       "text": [
        "\n",
        "IV CLASS is of type \"DONOTUSE\"\n",
        "IV OCC is of type \"DONOTUSE\"\n",
        "IV PAOCC16 is of type \"DONOTUSE\"\n",
        "IV WRKSTAT is of type \"DONOTUSE\"\n",
        "IV CLASS is of type \"DONOTUSE\""
       ]
      },
      {
       "output_type": "stream",
       "stream": "stdout",
       "text": [
        "\n",
        "IV OCC is of type \"DONOTUSE\"\n",
        "IV PAOCC16 is of type \"DONOTUSE\"\n",
        "IV WRKSTAT is of type \"DONOTUSE\"\n",
        "Processing article:"
       ]
      },
      {
       "output_type": "stream",
       "stream": "stdout",
       "text": [
        " 6161\n",
        "IV OCC is of type \"DONOTUSE\"\n",
        "IV WRKSTAT is of type \"DONOTUSE\"\n",
        "IV OCC is of type \"DONOTUSE\""
       ]
      },
      {
       "output_type": "stream",
       "stream": "stdout",
       "text": [
        "\n",
        "IV WRKSTAT is of type \"DONOTUSE\"\n",
        "IV OCC is of type \"DONOTUSE\""
       ]
      },
      {
       "output_type": "stream",
       "stream": "stdout",
       "text": [
        "\n",
        "IV WRKSTAT is of type \"DONOTUSE\"\n",
        "IV OCC is of type \"DONOTUSE\""
       ]
      },
      {
       "output_type": "stream",
       "stream": "stdout",
       "text": [
        "\n",
        "IV WRKSTAT is of type \"DONOTUSE\"\n",
        "Processing article:"
       ]
      },
      {
       "output_type": "stream",
       "stream": "stdout",
       "text": [
        " 6188\n",
        "categorical variable DENOM has more than 15 levels\n",
        "categorical variable ETHNIC has more than 15 levels\n",
        "IV SRCBELT is of type \"DONOTUSE\"\n",
        "IV XNORCSIZ is of type \"DONOTUSE\"\n",
        "categorical variable DENOM has more than 15 levels"
       ]
      },
      {
       "output_type": "stream",
       "stream": "stdout",
       "text": [
        "\n",
        "categorical variable ETHNIC has more than 15 levels\n",
        "IV SRCBELT is of type \"DONOTUSE\"\n",
        "IV XNORCSIZ is of type \"DONOTUSE\"\n",
        "Processing article:"
       ]
      },
      {
       "output_type": "stream",
       "stream": "stdout",
       "text": [
        " 6190\n",
        "IV CLASS is of type \"DONOTUSE\"\n",
        "categorical variable DENOM has more than 15 levels\n",
        "categorical variable ETHNIC has more than 15 levels\n",
        "IV OCC is of type \"DONOTUSE\"\n",
        "IV WRKSTAT is of type \"DONOTUSE\"\n",
        "IV XNORCSIZ is of type \"DONOTUSE\"\n",
        "IV CLASS is of type \"DONOTUSE\""
       ]
      },
      {
       "output_type": "stream",
       "stream": "stdout",
       "text": [
        "\n",
        "categorical variable DENOM has more than 15 levels\n",
        "categorical variable ETHNIC has more than 15 levels\n",
        "IV OCC is of type \"DONOTUSE\"\n",
        "IV WRKSTAT is of type \"DONOTUSE\"\n",
        "IV XNORCSIZ is of type \"DONOTUSE\"\n",
        "Processing article:"
       ]
      },
      {
       "output_type": "stream",
       "stream": "stdout",
       "text": [
        " 6191\n",
        "categorical variable DENOM has more than 15 levels\n",
        "categorical variable ETHNIC has more than 15 levels\n",
        "IV XNORCSIZ is of type \"DONOTUSE\"\n",
        "categorical variable DENOM has more than 15 levels"
       ]
      },
      {
       "output_type": "stream",
       "stream": "stdout",
       "text": [
        "\n",
        "categorical variable ETHNIC has more than 15 levels\n",
        "IV XNORCSIZ is of type \"DONOTUSE\"\n",
        "categorical variable DENOM has more than 15 levels"
       ]
      },
      {
       "output_type": "stream",
       "stream": "stdout",
       "text": [
        "\n",
        "categorical variable ETHNIC has more than 15 levels\n",
        "IV XNORCSIZ is of type \"DONOTUSE\"\n",
        "categorical variable DENOM has more than 15 levels"
       ]
      },
      {
       "output_type": "stream",
       "stream": "stdout",
       "text": [
        "\n",
        "categorical variable ETHNIC has more than 15 levels\n",
        "IV XNORCSIZ is of type \"DONOTUSE\"\n",
        "categorical variable DENOM has more than 15 levels"
       ]
      },
      {
       "output_type": "stream",
       "stream": "stdout",
       "text": [
        "\n",
        "categorical variable ETHNIC has more than 15 levels\n",
        "IV XNORCSIZ is of type \"DONOTUSE\"\n",
        "categorical variable DENOM has more than 15 levels"
       ]
      },
      {
       "output_type": "stream",
       "stream": "stdout",
       "text": [
        "\n",
        "categorical variable ETHNIC has more than 15 levels\n",
        "IV XNORCSIZ is of type \"DONOTUSE\"\n",
        "categorical variable DENOM has more than 15 levels"
       ]
      },
      {
       "output_type": "stream",
       "stream": "stdout",
       "text": [
        "\n",
        "categorical variable ETHNIC has more than 15 levels\n",
        "IV XNORCSIZ is of type \"DONOTUSE\"\n",
        "categorical variable DENOM has more than 15 levels"
       ]
      },
      {
       "output_type": "stream",
       "stream": "stdout",
       "text": [
        "\n",
        "categorical variable ETHNIC has more than 15 levels\n",
        "IV XNORCSIZ is of type \"DONOTUSE\"\n",
        "categorical variable DENOM has more than 15 levels"
       ]
      },
      {
       "output_type": "stream",
       "stream": "stdout",
       "text": [
        "\n",
        "categorical variable ETHNIC has more than 15 levels\n",
        "IV XNORCSIZ is of type \"DONOTUSE\"\n",
        "categorical variable DENOM has more than 15 levels"
       ]
      },
      {
       "output_type": "stream",
       "stream": "stdout",
       "text": [
        "\n",
        "categorical variable ETHNIC has more than 15 levels\n",
        "IV XNORCSIZ is of type \"DONOTUSE\"\n",
        "Processing article:"
       ]
      },
      {
       "output_type": "stream",
       "stream": "stdout",
       "text": [
        " 6197\n",
        "IV INDUSTRY is of type \"DONOTUSE\"\n",
        "IV OCC is of type \"DONOTUSE\"\n",
        "IV WRKSTAT is of type \"DONOTUSE\"\n",
        "IV INDUSTRY is of type \"DONOTUSE\""
       ]
      },
      {
       "output_type": "stream",
       "stream": "stdout",
       "text": [
        "\n",
        "IV OCC is of type \"DONOTUSE\"\n",
        "IV WRKSTAT is of type \"DONOTUSE\"\n",
        "Processing article:"
       ]
      },
      {
       "output_type": "stream",
       "stream": "stdout",
       "text": [
        " 6202\n",
        "categorical variable DENOM has more than 15 levels\n",
        "IV OTHER is of type \"DONOTUSE\"\n",
        "categorical variable DENOM has more than 15 levels"
       ]
      },
      {
       "output_type": "stream",
       "stream": "stdout",
       "text": [
        "\n",
        "IV OTHER is of type \"DONOTUSE\"\n",
        "Processing article:"
       ]
      },
      {
       "output_type": "stream",
       "stream": "stdout",
       "text": [
        " 6285\n",
        "Couldnt construct a suitable formula\n",
        "Processing article: 6306\n",
        "Couldnt construct a suitable formula\n",
        "Processing article: 6332\n",
        "categorical variable DENOM has more than 15 levels\n",
        "categorical variable DENOM16 has more than 15 levels\n",
        "categorical variable ETHNIC has more than 15 levels\n",
        "IV OTH16 is of type \"DONOTUSE\"\n",
        "IV OTHER is of type \"DONOTUSE\"\n",
        "categorical variable REG16 has more than 15 levels\n",
        "categorical variable DENOM has more than 15 levels"
       ]
      },
      {
       "output_type": "stream",
       "stream": "stdout",
       "text": [
        "\n",
        "categorical variable DENOM16 has more than 15 levels\n",
        "categorical variable ETHNIC has more than 15 levels\n",
        "IV OTH16 is of type \"DONOTUSE\"\n",
        "IV OTHER is of type \"DONOTUSE\"\n",
        "categorical variable REG16 has more than 15 levels\n",
        "categorical variable DENOM has more than 15 levels"
       ]
      },
      {
       "output_type": "stream",
       "stream": "stdout",
       "text": [
        "\n",
        "categorical variable DENOM16 has more than 15 levels\n",
        "categorical variable ETHNIC has more than 15 levels\n",
        "IV OTH16 is of type \"DONOTUSE\"\n",
        "IV OTHER is of type \"DONOTUSE\"\n",
        "categorical variable REG16 has more than 15 levels\n",
        "categorical variable DENOM has more than 15 levels"
       ]
      },
      {
       "output_type": "stream",
       "stream": "stdout",
       "text": [
        "\n",
        "categorical variable DENOM16 has more than 15 levels\n",
        "categorical variable ETHNIC has more than 15 levels\n",
        "IV OTH16 is of type \"DONOTUSE\"\n",
        "IV OTHER is of type \"DONOTUSE\"\n",
        "categorical variable REG16 has more than 15 levels\n",
        "Processing article:"
       ]
      },
      {
       "output_type": "stream",
       "stream": "stdout",
       "text": [
        " 6333\n",
        "categorical variable DENOM has more than 15 levels\n",
        "categorical variable DENOM16 has more than 15 levels\n",
        "IV OTH16 is of type \"DONOTUSE\"\n",
        "IV OTHER is of type \"DONOTUSE\"\n",
        "categorical variable SPDEN has more than 15 levels\n",
        "IV SPOCC is of type \"DONOTUSE\"\n",
        "categorical variable SPOTH16 has more than 15 levels\n",
        "categorical variable SPOTHER has more than 15 levels\n",
        "categorical variable DENOM has more than 15 levels"
       ]
      },
      {
       "output_type": "stream",
       "stream": "stdout",
       "text": [
        "\n",
        "categorical variable DENOM16 has more than 15 levels\n",
        "IV OTH16 is of type \"DONOTUSE\"\n",
        "IV OTHER is of type \"DONOTUSE\"\n",
        "categorical variable SPDEN has more than 15 levels\n",
        "IV SPOCC is of type \"DONOTUSE\"\n",
        "categorical variable SPOTH16 has more than 15 levels\n",
        "categorical variable SPOTHER has more than 15 levels\n",
        "The number of variables in original model is different from the number in model on future years. Skipping."
       ]
      },
      {
       "output_type": "stream",
       "stream": "stdout",
       "text": [
        "\n",
        "Processing article: 6336\n",
        "categorical variable DENOM has more than 15 levels\n",
        "IV XNORCSIZ is of type \"DONOTUSE\"\n",
        "categorical variable DENOM has more than 15 levels"
       ]
      },
      {
       "output_type": "stream",
       "stream": "stdout",
       "text": [
        "\n",
        "IV XNORCSIZ is of type \"DONOTUSE\"\n",
        "Processing article:"
       ]
      },
      {
       "output_type": "stream",
       "stream": "stdout",
       "text": [
        " 6340\n",
        "categorical variable REG16 has more than 15 levels\n",
        "IV XNORCSIZ is of type \"DONOTUSE\"\n",
        "categorical variable REG16 has more than 15 levels"
       ]
      },
      {
       "output_type": "stream",
       "stream": "stdout",
       "text": [
        "\n",
        "IV XNORCSIZ is of type \"DONOTUSE\"\n",
        "categorical variable REG16 has more than 15 levels"
       ]
      },
      {
       "output_type": "stream",
       "stream": "stdout",
       "text": [
        "\n",
        "IV XNORCSIZ is of type \"DONOTUSE\"\n",
        "categorical variable REG16 has more than 15 levels"
       ]
      },
      {
       "output_type": "stream",
       "stream": "stdout",
       "text": [
        "\n",
        "IV XNORCSIZ is of type \"DONOTUSE\"\n",
        "Processing article:"
       ]
      },
      {
       "output_type": "stream",
       "stream": "stdout",
       "text": [
        " 6345\n",
        "Couldnt construct a suitable formula\n",
        "Couldnt construct a suitable formula\n",
        "Couldnt construct a suitable formula\n",
        "Processing article: 6350\n",
        "Processing article:"
       ]
      },
      {
       "output_type": "stream",
       "stream": "stdout",
       "text": [
        " 6363\n",
        "IV WRKSTAT is of type \"DONOTUSE\"\n",
        "IV XNORCSIZ is of type \"DONOTUSE\"\n",
        "IV WRKSTAT is of type \"DONOTUSE\""
       ]
      },
      {
       "output_type": "stream",
       "stream": "stdout",
       "text": [
        "\n",
        "IV XNORCSIZ is of type \"DONOTUSE\"\n",
        "The number of variables in original model is different from the number in model on future years. Skipping."
       ]
      },
      {
       "output_type": "stream",
       "stream": "stdout",
       "text": [
        "\n",
        "IV WRKSTAT is of type \"DONOTUSE\"\n",
        "IV XNORCSIZ is of type \"DONOTUSE\"\n",
        "IV WRKSTAT is of type \"DONOTUSE\""
       ]
      },
      {
       "output_type": "stream",
       "stream": "stdout",
       "text": [
        "\n",
        "IV XNORCSIZ is of type \"DONOTUSE\"\n",
        "The number of variables in original model is different from the number in model on future years. Skipping."
       ]
      },
      {
       "output_type": "stream",
       "stream": "stdout",
       "text": [
        "\n",
        "IV WRKSTAT is of type \"DONOTUSE\"\n",
        "IV XNORCSIZ is of type \"DONOTUSE\"\n",
        "IV WRKSTAT is of type \"DONOTUSE\""
       ]
      },
      {
       "output_type": "stream",
       "stream": "stdout",
       "text": [
        "\n",
        "IV XNORCSIZ is of type \"DONOTUSE\"\n",
        "The number of variables in original model is different from the number in model on future years. Skipping."
       ]
      },
      {
       "output_type": "stream",
       "stream": "stdout",
       "text": [
        "\n",
        "IV WRKSTAT is of type \"DONOTUSE\"\n",
        "IV XNORCSIZ is of type \"DONOTUSE\"\n",
        "IV WRKSTAT is of type \"DONOTUSE\""
       ]
      },
      {
       "output_type": "stream",
       "stream": "stdout",
       "text": [
        "\n",
        "IV XNORCSIZ is of type \"DONOTUSE\"\n",
        "The number of variables in original model is different from the number in model on future years. Skipping."
       ]
      },
      {
       "output_type": "stream",
       "stream": "stdout",
       "text": [
        "\n",
        "IV WRKSTAT is of type \"DONOTUSE\"\n",
        "IV XNORCSIZ is of type \"DONOTUSE\"\n",
        "IV WRKSTAT is of type \"DONOTUSE\""
       ]
      },
      {
       "output_type": "stream",
       "stream": "stdout",
       "text": [
        "\n",
        "IV XNORCSIZ is of type \"DONOTUSE\"\n",
        "The number of variables in original model is different from the number in model on future years. Skipping."
       ]
      },
      {
       "output_type": "stream",
       "stream": "stdout",
       "text": [
        "\n",
        "IV WRKSTAT is of type \"DONOTUSE\"\n",
        "IV XNORCSIZ is of type \"DONOTUSE\"\n",
        "IV WRKSTAT is of type \"DONOTUSE\""
       ]
      },
      {
       "output_type": "stream",
       "stream": "stdout",
       "text": [
        "\n",
        "IV XNORCSIZ is of type \"DONOTUSE\"\n",
        "The number of variables in original model is different from the number in model on future years. Skipping."
       ]
      },
      {
       "output_type": "stream",
       "stream": "stdout",
       "text": [
        "\n",
        "Processing article: 6439\n",
        "categorical variable DENOM has more than 15 levels\n",
        "IV OCC is of type \"DONOTUSE\"\n",
        "IV XNORCSIZ is of type \"DONOTUSE\"\n",
        "categorical variable DENOM has more than 15 levels"
       ]
      },
      {
       "output_type": "stream",
       "stream": "stdout",
       "text": [
        "\n",
        "IV OCC is of type \"DONOTUSE\"\n",
        "IV XNORCSIZ is of type \"DONOTUSE\"\n",
        "categorical variable DENOM has more than 15 levels"
       ]
      },
      {
       "output_type": "stream",
       "stream": "stdout",
       "text": [
        "\n",
        "IV OCC is of type \"DONOTUSE\"\n",
        "IV XNORCSIZ is of type \"DONOTUSE\"\n",
        "categorical variable DENOM has more than 15 levels"
       ]
      },
      {
       "output_type": "stream",
       "stream": "stdout",
       "text": [
        "\n",
        "IV OCC is of type \"DONOTUSE\"\n",
        "IV XNORCSIZ is of type \"DONOTUSE\"\n",
        "categorical variable DENOM has more than 15 levels"
       ]
      },
      {
       "output_type": "stream",
       "stream": "stdout",
       "text": [
        "\n",
        "IV OCC is of type \"DONOTUSE\"\n",
        "IV XNORCSIZ is of type \"DONOTUSE\"\n",
        "categorical variable DENOM has more than 15 levels"
       ]
      },
      {
       "output_type": "stream",
       "stream": "stdout",
       "text": [
        "\n",
        "IV OCC is of type \"DONOTUSE\"\n",
        "IV XNORCSIZ is of type \"DONOTUSE\"\n",
        "categorical variable DENOM has more than 15 levels"
       ]
      },
      {
       "output_type": "stream",
       "stream": "stdout",
       "text": [
        "\n",
        "IV OCC is of type \"DONOTUSE\"\n",
        "IV XNORCSIZ is of type \"DONOTUSE\"\n",
        "categorical variable DENOM has more than 15 levels"
       ]
      },
      {
       "output_type": "stream",
       "stream": "stdout",
       "text": [
        "\n",
        "IV OCC is of type \"DONOTUSE\"\n",
        "IV XNORCSIZ is of type \"DONOTUSE\"\n",
        "categorical variable DENOM has more than 15 levels"
       ]
      },
      {
       "output_type": "stream",
       "stream": "stdout",
       "text": [
        "\n",
        "IV OCC is of type \"DONOTUSE\"\n",
        "IV XNORCSIZ is of type \"DONOTUSE\"\n",
        "categorical variable DENOM has more than 15 levels"
       ]
      },
      {
       "output_type": "stream",
       "stream": "stdout",
       "text": [
        "\n",
        "IV OCC is of type \"DONOTUSE\"\n",
        "IV XNORCSIZ is of type \"DONOTUSE\"\n",
        "categorical variable DENOM has more than 15 levels"
       ]
      },
      {
       "output_type": "stream",
       "stream": "stdout",
       "text": [
        "\n",
        "IV OCC is of type \"DONOTUSE\"\n",
        "IV XNORCSIZ is of type \"DONOTUSE\"\n",
        "categorical variable DENOM has more than 15 levels"
       ]
      },
      {
       "output_type": "stream",
       "stream": "stdout",
       "text": [
        "\n",
        "IV OCC is of type \"DONOTUSE\"\n",
        "IV XNORCSIZ is of type \"DONOTUSE\"\n",
        "categorical variable DENOM has more than 15 levels"
       ]
      },
      {
       "output_type": "stream",
       "stream": "stdout",
       "text": [
        "\n",
        "IV OCC is of type \"DONOTUSE\"\n",
        "IV XNORCSIZ is of type \"DONOTUSE\"\n",
        "categorical variable DENOM has more than 15 levels"
       ]
      },
      {
       "output_type": "stream",
       "stream": "stdout",
       "text": [
        "\n",
        "IV OCC is of type \"DONOTUSE\"\n",
        "IV XNORCSIZ is of type \"DONOTUSE\"\n",
        "categorical variable DENOM has more than 15 levels"
       ]
      },
      {
       "output_type": "stream",
       "stream": "stdout",
       "text": [
        "\n",
        "IV OCC is of type \"DONOTUSE\"\n",
        "IV XNORCSIZ is of type \"DONOTUSE\"\n",
        "categorical variable DENOM has more than 15 levels"
       ]
      },
      {
       "output_type": "stream",
       "stream": "stdout",
       "text": [
        "\n",
        "IV OCC is of type \"DONOTUSE\"\n",
        "IV XNORCSIZ is of type \"DONOTUSE\"\n",
        "categorical variable DENOM has more than 15 levels"
       ]
      },
      {
       "output_type": "stream",
       "stream": "stdout",
       "text": [
        "\n",
        "IV OCC is of type \"DONOTUSE\"\n",
        "IV XNORCSIZ is of type \"DONOTUSE\"\n",
        "categorical variable DENOM has more than 15 levels"
       ]
      },
      {
       "output_type": "stream",
       "stream": "stdout",
       "text": [
        "\n",
        "IV OCC is of type \"DONOTUSE\"\n",
        "IV XNORCSIZ is of type \"DONOTUSE\"\n",
        "categorical variable DENOM has more than 15 levels"
       ]
      },
      {
       "output_type": "stream",
       "stream": "stdout",
       "text": [
        "\n",
        "IV OCC is of type \"DONOTUSE\"\n",
        "IV XNORCSIZ is of type \"DONOTUSE\"\n",
        "categorical variable DENOM has more than 15 levels"
       ]
      },
      {
       "output_type": "stream",
       "stream": "stdout",
       "text": [
        "\n",
        "IV OCC is of type \"DONOTUSE\"\n",
        "IV XNORCSIZ is of type \"DONOTUSE\"\n",
        "categorical variable DENOM has more than 15 levels"
       ]
      },
      {
       "output_type": "stream",
       "stream": "stdout",
       "text": [
        "\n",
        "IV OCC is of type \"DONOTUSE\"\n",
        "IV XNORCSIZ is of type \"DONOTUSE\"\n",
        "categorical variable DENOM has more than 15 levels"
       ]
      },
      {
       "output_type": "stream",
       "stream": "stdout",
       "text": [
        "\n",
        "IV OCC is of type \"DONOTUSE\"\n",
        "IV XNORCSIZ is of type \"DONOTUSE\"\n",
        "categorical variable DENOM has more than 15 levels"
       ]
      },
      {
       "output_type": "stream",
       "stream": "stdout",
       "text": [
        "\n",
        "IV OCC is of type \"DONOTUSE\"\n",
        "IV XNORCSIZ is of type \"DONOTUSE\"\n",
        "categorical variable DENOM has more than 15 levels"
       ]
      },
      {
       "output_type": "stream",
       "stream": "stdout",
       "text": [
        "\n",
        "IV OCC is of type \"DONOTUSE\"\n",
        "IV XNORCSIZ is of type \"DONOTUSE\"\n",
        "categorical variable DENOM has more than 15 levels"
       ]
      },
      {
       "output_type": "stream",
       "stream": "stdout",
       "text": [
        "\n",
        "IV OCC is of type \"DONOTUSE\"\n",
        "IV XNORCSIZ is of type \"DONOTUSE\"\n",
        "categorical variable DENOM has more than 15 levels"
       ]
      },
      {
       "output_type": "stream",
       "stream": "stdout",
       "text": [
        "\n",
        "IV OCC is of type \"DONOTUSE\"\n",
        "IV XNORCSIZ is of type \"DONOTUSE\"\n",
        "categorical variable DENOM has more than 15 levels"
       ]
      },
      {
       "output_type": "stream",
       "stream": "stdout",
       "text": [
        "\n",
        "IV OCC is of type \"DONOTUSE\"\n",
        "IV XNORCSIZ is of type \"DONOTUSE\"\n",
        "categorical variable DENOM has more than 15 levels"
       ]
      },
      {
       "output_type": "stream",
       "stream": "stdout",
       "text": [
        "\n",
        "IV OCC is of type \"DONOTUSE\"\n",
        "IV XNORCSIZ is of type \"DONOTUSE\"\n",
        "categorical variable DENOM has more than 15 levels"
       ]
      },
      {
       "output_type": "stream",
       "stream": "stdout",
       "text": [
        "\n",
        "IV OCC is of type \"DONOTUSE\"\n",
        "IV XNORCSIZ is of type \"DONOTUSE\"\n",
        "categorical variable DENOM has more than 15 levels"
       ]
      },
      {
       "output_type": "stream",
       "stream": "stdout",
       "text": [
        "\n",
        "IV OCC is of type \"DONOTUSE\"\n",
        "IV XNORCSIZ is of type \"DONOTUSE\"\n",
        "categorical variable DENOM has more than 15 levels"
       ]
      },
      {
       "output_type": "stream",
       "stream": "stdout",
       "text": [
        "\n",
        "IV OCC is of type \"DONOTUSE\"\n",
        "IV XNORCSIZ is of type \"DONOTUSE\"\n",
        "categorical variable DENOM has more than 15 levels"
       ]
      },
      {
       "output_type": "stream",
       "stream": "stdout",
       "text": [
        "\n",
        "IV OCC is of type \"DONOTUSE\"\n",
        "IV XNORCSIZ is of type \"DONOTUSE\"\n",
        "categorical variable DENOM has more than 15 levels"
       ]
      },
      {
       "output_type": "stream",
       "stream": "stdout",
       "text": [
        "\n",
        "IV OCC is of type \"DONOTUSE\"\n",
        "IV XNORCSIZ is of type \"DONOTUSE\"\n",
        "categorical variable DENOM has more than 15 levels"
       ]
      },
      {
       "output_type": "stream",
       "stream": "stdout",
       "text": [
        "\n",
        "IV OCC is of type \"DONOTUSE\"\n",
        "IV XNORCSIZ is of type \"DONOTUSE\"\n",
        "Processing article:"
       ]
      },
      {
       "output_type": "stream",
       "stream": "stdout",
       "text": [
        " 6464\n",
        "Couldnt construct a suitable formula\n",
        "Couldnt construct a suitable formula\n",
        "Couldnt construct a suitable formula\n",
        "Processing article: 6521\n",
        "Processing article:"
       ]
      },
      {
       "output_type": "stream",
       "stream": "stdout",
       "text": [
        " 6536\n",
        "categorical variable DENOM has more than 15 levels\n",
        "IV OCC is of type \"DONOTUSE\"\n",
        "categorical variable DENOM has more than 15 levels"
       ]
      },
      {
       "output_type": "stream",
       "stream": "stdout",
       "text": [
        "\n",
        "IV OCC is of type \"DONOTUSE\"\n",
        "categorical variable DENOM has more than 15 levels"
       ]
      },
      {
       "output_type": "stream",
       "stream": "stdout",
       "text": [
        "\n",
        "IV OCC is of type \"DONOTUSE\"\n",
        "categorical variable DENOM has more than 15 levels"
       ]
      },
      {
       "output_type": "stream",
       "stream": "stdout",
       "text": [
        "\n",
        "IV OCC is of type \"DONOTUSE\"\n",
        "categorical variable DENOM has more than 15 levels"
       ]
      },
      {
       "output_type": "stream",
       "stream": "stdout",
       "text": [
        "\n",
        "IV OCC is of type \"DONOTUSE\"\n",
        "categorical variable DENOM has more than 15 levels"
       ]
      },
      {
       "output_type": "stream",
       "stream": "stdout",
       "text": [
        "\n",
        "IV OCC is of type \"DONOTUSE\"\n",
        "categorical variable DENOM has more than 15 levels"
       ]
      },
      {
       "output_type": "stream",
       "stream": "stdout",
       "text": [
        "\n",
        "IV OCC is of type \"DONOTUSE\"\n",
        "categorical variable DENOM has more than 15 levels"
       ]
      },
      {
       "output_type": "stream",
       "stream": "stdout",
       "text": [
        "\n",
        "IV OCC is of type \"DONOTUSE\"\n",
        "categorical variable DENOM has more than 15 levels"
       ]
      },
      {
       "output_type": "stream",
       "stream": "stdout",
       "text": [
        "\n",
        "IV OCC is of type \"DONOTUSE\"\n",
        "categorical variable DENOM has more than 15 levels"
       ]
      },
      {
       "output_type": "stream",
       "stream": "stdout",
       "text": [
        "\n",
        "IV OCC is of type \"DONOTUSE\"\n",
        "categorical variable DENOM has more than 15 levels"
       ]
      },
      {
       "output_type": "stream",
       "stream": "stdout",
       "text": [
        "\n",
        "IV OCC is of type \"DONOTUSE\"\n",
        "categorical variable DENOM has more than 15 levels"
       ]
      },
      {
       "output_type": "stream",
       "stream": "stdout",
       "text": [
        "\n",
        "IV OCC is of type \"DONOTUSE\"\n",
        "Processing article:"
       ]
      },
      {
       "output_type": "stream",
       "stream": "stdout",
       "text": [
        " 6537\n",
        "IV OCC is of type \"DONOTUSE\"\n",
        "IV PARTYID is of type \"DONOTUSE\"\n",
        "IV WRKSTAT is of type \"DONOTUSE\"\n",
        "IV XNORCSIZ is of type \"DONOTUSE\"\n",
        "IV OCC is of type \"DONOTUSE\""
       ]
      },
      {
       "output_type": "stream",
       "stream": "stdout",
       "text": [
        "\n",
        "IV PARTYID is of type \"DONOTUSE\"\n",
        "IV WRKSTAT is of type \"DONOTUSE\"\n",
        "IV XNORCSIZ is of type \"DONOTUSE\"\n",
        "IV OCC is of type \"DONOTUSE\""
       ]
      },
      {
       "output_type": "stream",
       "stream": "stdout",
       "text": [
        "\n",
        "IV PARTYID is of type \"DONOTUSE\"\n",
        "IV WRKSTAT is of type \"DONOTUSE\"\n",
        "IV XNORCSIZ is of type \"DONOTUSE\"\n",
        "IV OCC is of type \"DONOTUSE\""
       ]
      },
      {
       "output_type": "stream",
       "stream": "stdout",
       "text": [
        "\n",
        "IV PARTYID is of type \"DONOTUSE\"\n",
        "IV WRKSTAT is of type \"DONOTUSE\"\n",
        "IV XNORCSIZ is of type \"DONOTUSE\"\n",
        "IV OCC is of type \"DONOTUSE\""
       ]
      },
      {
       "output_type": "stream",
       "stream": "stdout",
       "text": [
        "\n",
        "IV PARTYID is of type \"DONOTUSE\"\n",
        "IV WRKSTAT is of type \"DONOTUSE\"\n",
        "IV XNORCSIZ is of type \"DONOTUSE\"\n",
        "IV OCC is of type \"DONOTUSE\""
       ]
      },
      {
       "output_type": "stream",
       "stream": "stdout",
       "text": [
        "\n",
        "IV PARTYID is of type \"DONOTUSE\"\n",
        "IV WRKSTAT is of type \"DONOTUSE\"\n",
        "IV XNORCSIZ is of type \"DONOTUSE\"\n",
        "IV OCC is of type \"DONOTUSE\""
       ]
      },
      {
       "output_type": "stream",
       "stream": "stdout",
       "text": [
        "\n",
        "IV PARTYID is of type \"DONOTUSE\"\n",
        "IV WRKSTAT is of type \"DONOTUSE\"\n",
        "IV XNORCSIZ is of type \"DONOTUSE\"\n",
        "IV OCC is of type \"DONOTUSE\""
       ]
      },
      {
       "output_type": "stream",
       "stream": "stdout",
       "text": [
        "\n",
        "IV PARTYID is of type \"DONOTUSE\"\n",
        "IV WRKSTAT is of type \"DONOTUSE\"\n",
        "IV XNORCSIZ is of type \"DONOTUSE\"\n",
        "IV OCC is of type \"DONOTUSE\""
       ]
      },
      {
       "output_type": "stream",
       "stream": "stdout",
       "text": [
        "\n",
        "IV PARTYID is of type \"DONOTUSE\"\n",
        "IV WRKSTAT is of type \"DONOTUSE\"\n",
        "IV XNORCSIZ is of type \"DONOTUSE\"\n",
        "IV OCC is of type \"DONOTUSE\""
       ]
      },
      {
       "output_type": "stream",
       "stream": "stdout",
       "text": [
        "\n",
        "IV PARTYID is of type \"DONOTUSE\"\n",
        "IV WRKSTAT is of type \"DONOTUSE\"\n",
        "IV XNORCSIZ is of type \"DONOTUSE\"\n",
        "Processing article:"
       ]
      },
      {
       "output_type": "stream",
       "stream": "stdout",
       "text": [
        " 6538\n",
        "Couldnt construct a suitable formula\n",
        "Processing article: 6540\n",
        "IV CLASS is of type \"DONOTUSE\"\n",
        "IV CLASS is of type \"DONOTUSE\""
       ]
      },
      {
       "output_type": "stream",
       "stream": "stdout",
       "text": [
        "\n",
        "The number of variables in original model is different from the number in model on future years. Skipping."
       ]
      },
      {
       "output_type": "stream",
       "stream": "stdout",
       "text": [
        "\n",
        "IV CLASS is of type \"DONOTUSE\"\n",
        "IV CLASS is of type \"DONOTUSE\""
       ]
      },
      {
       "output_type": "stream",
       "stream": "stdout",
       "text": [
        "\n",
        "The number of variables in original model is different from the number in model on future years. Skipping."
       ]
      },
      {
       "output_type": "stream",
       "stream": "stdout",
       "text": [
        "\n",
        "IV CLASS is of type \"DONOTUSE\"\n",
        "IV CLASS is of type \"DONOTUSE\""
       ]
      },
      {
       "output_type": "stream",
       "stream": "stdout",
       "text": [
        "\n",
        "The number of variables in original model is different from the number in model on future years. Skipping."
       ]
      },
      {
       "output_type": "stream",
       "stream": "stdout",
       "text": [
        "\n",
        "Processing article: 6546\n",
        "Couldnt construct a suitable formula"
       ]
      },
      {
       "output_type": "stream",
       "stream": "stdout",
       "text": [
        "\n",
        "Processing article: 6553\n",
        "Processing article:"
       ]
      },
      {
       "output_type": "stream",
       "stream": "stdout",
       "text": [
        " 6555\n",
        "IV XNORCSIZ is of type \"DONOTUSE\"\n",
        "IV XNORCSIZ is of type \"DONOTUSE\""
       ]
      },
      {
       "output_type": "stream",
       "stream": "stdout",
       "text": [
        "\n",
        "IV XNORCSIZ is of type \"DONOTUSE\""
       ]
      },
      {
       "output_type": "stream",
       "stream": "stdout",
       "text": [
        "\n",
        "IV XNORCSIZ is of type \"DONOTUSE\""
       ]
      },
      {
       "output_type": "stream",
       "stream": "stdout",
       "text": [
        "\n",
        "IV XNORCSIZ is of type \"DONOTUSE\""
       ]
      },
      {
       "output_type": "stream",
       "stream": "stdout",
       "text": [
        "\n",
        "IV XNORCSIZ is of type \"DONOTUSE\""
       ]
      },
      {
       "output_type": "stream",
       "stream": "stdout",
       "text": [
        "\n",
        "IV XNORCSIZ is of type \"DONOTUSE\""
       ]
      },
      {
       "output_type": "stream",
       "stream": "stdout",
       "text": [
        "\n",
        "IV XNORCSIZ is of type \"DONOTUSE\""
       ]
      },
      {
       "output_type": "stream",
       "stream": "stdout",
       "text": [
        "\n",
        "IV XNORCSIZ is of type \"DONOTUSE\""
       ]
      },
      {
       "output_type": "stream",
       "stream": "stdout",
       "text": [
        "\n",
        "IV XNORCSIZ is of type \"DONOTUSE\""
       ]
      },
      {
       "output_type": "stream",
       "stream": "stdout",
       "text": [
        "\n",
        "IV XNORCSIZ is of type \"DONOTUSE\""
       ]
      },
      {
       "output_type": "stream",
       "stream": "stdout",
       "text": [
        "\n",
        "IV XNORCSIZ is of type \"DONOTUSE\""
       ]
      },
      {
       "output_type": "stream",
       "stream": "stdout",
       "text": [
        "\n",
        "Processing article:"
       ]
      },
      {
       "output_type": "stream",
       "stream": "stdout",
       "text": [
        " 6592\n",
        "IV XNORCSIZ is of type \"DONOTUSE\"\n",
        "IV XNORCSIZ is of type \"DONOTUSE\""
       ]
      },
      {
       "output_type": "stream",
       "stream": "stdout",
       "text": [
        "\n",
        "The number of variables in original model is different from the number in model on future years. Skipping."
       ]
      },
      {
       "output_type": "stream",
       "stream": "stdout",
       "text": [
        "\n",
        "Processing article: 6604\n",
        "categorical variable REG16 has more than 15 levels\n",
        "categorical variable REG16 has more than 15 levels"
       ]
      },
      {
       "output_type": "stream",
       "stream": "stdout",
       "text": [
        "\n",
        "categorical variable REG16 has more than 15 levels"
       ]
      },
      {
       "output_type": "stream",
       "stream": "stdout",
       "text": [
        "\n",
        "categorical variable REG16 has more than 15 levels"
       ]
      },
      {
       "output_type": "stream",
       "stream": "stdout",
       "text": [
        "\n",
        "categorical variable REG16 has more than 15 levels"
       ]
      },
      {
       "output_type": "stream",
       "stream": "stdout",
       "text": [
        "\n",
        "categorical variable REG16 has more than 15 levels"
       ]
      },
      {
       "output_type": "stream",
       "stream": "stdout",
       "text": [
        "\n",
        "categorical variable REG16 has more than 15 levels"
       ]
      },
      {
       "output_type": "stream",
       "stream": "stdout",
       "text": [
        "\n",
        "categorical variable REG16 has more than 15 levels"
       ]
      },
      {
       "output_type": "stream",
       "stream": "stdout",
       "text": [
        "\n",
        "categorical variable REG16 has more than 15 levels"
       ]
      },
      {
       "output_type": "stream",
       "stream": "stdout",
       "text": [
        "\n",
        "categorical variable REG16 has more than 15 levels"
       ]
      },
      {
       "output_type": "stream",
       "stream": "stdout",
       "text": [
        "\n",
        "categorical variable REG16 has more than 15 levels"
       ]
      },
      {
       "output_type": "stream",
       "stream": "stdout",
       "text": [
        "\n",
        "categorical variable REG16 has more than 15 levels"
       ]
      },
      {
       "output_type": "stream",
       "stream": "stdout",
       "text": [
        "\n",
        "categorical variable REG16 has more than 15 levels"
       ]
      },
      {
       "output_type": "stream",
       "stream": "stdout",
       "text": [
        "\n",
        "categorical variable REG16 has more than 15 levels"
       ]
      },
      {
       "output_type": "stream",
       "stream": "stdout",
       "text": [
        "\n",
        "categorical variable REG16 has more than 15 levels"
       ]
      },
      {
       "output_type": "stream",
       "stream": "stdout",
       "text": [
        "\n",
        "categorical variable REG16 has more than 15 levels"
       ]
      },
      {
       "output_type": "stream",
       "stream": "stdout",
       "text": [
        "\n",
        "categorical variable REG16 has more than 15 levels"
       ]
      },
      {
       "output_type": "stream",
       "stream": "stdout",
       "text": [
        "\n",
        "categorical variable REG16 has more than 15 levels"
       ]
      },
      {
       "output_type": "stream",
       "stream": "stdout",
       "text": [
        "\n",
        "categorical variable REG16 has more than 15 levels"
       ]
      },
      {
       "output_type": "stream",
       "stream": "stdout",
       "text": [
        "\n",
        "categorical variable REG16 has more than 15 levels"
       ]
      },
      {
       "output_type": "stream",
       "stream": "stdout",
       "text": [
        "\n",
        "categorical variable REG16 has more than 15 levels"
       ]
      },
      {
       "output_type": "stream",
       "stream": "stdout",
       "text": [
        "\n",
        "categorical variable REG16 has more than 15 levels"
       ]
      },
      {
       "output_type": "stream",
       "stream": "stdout",
       "text": [
        "\n",
        "categorical variable REG16 has more than 15 levels"
       ]
      },
      {
       "output_type": "stream",
       "stream": "stdout",
       "text": [
        "\n",
        "categorical variable REG16 has more than 15 levels"
       ]
      },
      {
       "output_type": "stream",
       "stream": "stdout",
       "text": [
        "\n",
        "categorical variable REG16 has more than 15 levels"
       ]
      },
      {
       "output_type": "stream",
       "stream": "stdout",
       "text": [
        "\n",
        "categorical variable REG16 has more than 15 levels"
       ]
      },
      {
       "output_type": "stream",
       "stream": "stdout",
       "text": [
        "\n",
        "categorical variable REG16 has more than 15 levels"
       ]
      },
      {
       "output_type": "stream",
       "stream": "stdout",
       "text": [
        "\n",
        "categorical variable REG16 has more than 15 levels"
       ]
      },
      {
       "output_type": "stream",
       "stream": "stdout",
       "text": [
        "\n",
        "categorical variable REG16 has more than 15 levels"
       ]
      },
      {
       "output_type": "stream",
       "stream": "stdout",
       "text": [
        "\n",
        "categorical variable REG16 has more than 15 levels"
       ]
      },
      {
       "output_type": "stream",
       "stream": "stdout",
       "text": [
        "\n",
        "Processing article:"
       ]
      },
      {
       "output_type": "stream",
       "stream": "stdout",
       "text": [
        " 6624\n",
        "IV SRCBELT is of type \"DONOTUSE\"\n",
        "IV SRCBELT is of type \"DONOTUSE\""
       ]
      },
      {
       "output_type": "stream",
       "stream": "stdout",
       "text": [
        "\n",
        "IV SRCBELT is of type \"DONOTUSE\""
       ]
      },
      {
       "output_type": "stream",
       "stream": "stdout",
       "text": [
        "\n",
        "IV SRCBELT is of type \"DONOTUSE\""
       ]
      },
      {
       "output_type": "stream",
       "stream": "stdout",
       "text": [
        "\n",
        "IV SRCBELT is of type \"DONOTUSE\""
       ]
      },
      {
       "output_type": "stream",
       "stream": "stdout",
       "text": [
        "\n",
        "IV SRCBELT is of type \"DONOTUSE\""
       ]
      },
      {
       "output_type": "stream",
       "stream": "stdout",
       "text": [
        "\n",
        "IV SRCBELT is of type \"DONOTUSE\""
       ]
      },
      {
       "output_type": "stream",
       "stream": "stdout",
       "text": [
        "\n",
        "IV SRCBELT is of type \"DONOTUSE\""
       ]
      },
      {
       "output_type": "stream",
       "stream": "stdout",
       "text": [
        "\n",
        "IV SRCBELT is of type \"DONOTUSE\""
       ]
      },
      {
       "output_type": "stream",
       "stream": "stdout",
       "text": [
        "\n",
        "IV SRCBELT is of type \"DONOTUSE\""
       ]
      },
      {
       "output_type": "stream",
       "stream": "stdout",
       "text": [
        "\n",
        "IV SRCBELT is of type \"DONOTUSE\""
       ]
      },
      {
       "output_type": "stream",
       "stream": "stdout",
       "text": [
        "\n",
        "IV SRCBELT is of type \"DONOTUSE\""
       ]
      },
      {
       "output_type": "stream",
       "stream": "stdout",
       "text": [
        "\n",
        "IV SRCBELT is of type \"DONOTUSE\""
       ]
      },
      {
       "output_type": "stream",
       "stream": "stdout",
       "text": [
        "\n",
        "IV SRCBELT is of type \"DONOTUSE\""
       ]
      },
      {
       "output_type": "stream",
       "stream": "stdout",
       "text": [
        "\n",
        "Processing article:"
       ]
      },
      {
       "output_type": "stream",
       "stream": "stdout",
       "text": [
        " 6642\n",
        "IV WRKSTAT is of type \"DONOTUSE\"\n",
        "IV WRKSTAT is of type \"DONOTUSE\""
       ]
      },
      {
       "output_type": "stream",
       "stream": "stdout",
       "text": [
        "\n",
        "IV WRKSTAT is of type \"DONOTUSE\""
       ]
      },
      {
       "output_type": "stream",
       "stream": "stdout",
       "text": [
        "\n",
        "IV WRKSTAT is of type \"DONOTUSE\""
       ]
      },
      {
       "output_type": "stream",
       "stream": "stdout",
       "text": [
        "\n",
        "IV WRKSTAT is of type \"DONOTUSE\""
       ]
      },
      {
       "output_type": "stream",
       "stream": "stdout",
       "text": [
        "\n",
        "IV WRKSTAT is of type \"DONOTUSE\""
       ]
      },
      {
       "output_type": "stream",
       "stream": "stdout",
       "text": [
        "\n",
        "IV WRKSTAT is of type \"DONOTUSE\""
       ]
      },
      {
       "output_type": "stream",
       "stream": "stdout",
       "text": [
        "\n",
        "IV WRKSTAT is of type \"DONOTUSE\""
       ]
      },
      {
       "output_type": "stream",
       "stream": "stdout",
       "text": [
        "\n",
        "Processing article:"
       ]
      },
      {
       "output_type": "stream",
       "stream": "stdout",
       "text": [
        " 6679\n",
        "categorical variable REG16 has more than 15 levels\n",
        "IV XNORCSIZ is of type \"DONOTUSE\"\n",
        "categorical variable REG16 has more than 15 levels"
       ]
      },
      {
       "output_type": "stream",
       "stream": "stdout",
       "text": [
        "\n",
        "IV XNORCSIZ is of type \"DONOTUSE\"\n",
        "Either the  params or the R^2 is too high. Skipping."
       ]
      },
      {
       "output_type": "stream",
       "stream": "stdout",
       "text": [
        "\n",
        "categorical variable REG16 has more than 15 levels\n",
        "IV XNORCSIZ is of type \"DONOTUSE\"\n",
        "categorical variable REG16 has more than 15 levels"
       ]
      },
      {
       "output_type": "stream",
       "stream": "stdout",
       "text": [
        "\n",
        "IV XNORCSIZ is of type \"DONOTUSE\"\n",
        "Either the  params or the R^2 is too high. Skipping."
       ]
      },
      {
       "output_type": "stream",
       "stream": "stdout",
       "text": [
        "\n",
        "categorical variable REG16 has more than 15 levels\n",
        "IV XNORCSIZ is of type \"DONOTUSE\"\n",
        "categorical variable REG16 has more than 15 levels"
       ]
      },
      {
       "output_type": "stream",
       "stream": "stdout",
       "text": [
        "\n",
        "IV XNORCSIZ is of type \"DONOTUSE\"\n",
        "Either the  params or the R^2 is too high. Skipping."
       ]
      },
      {
       "output_type": "stream",
       "stream": "stdout",
       "text": [
        "\n",
        "Processing article: 6686\n",
        "IV OCC is of type \"DONOTUSE\"\n",
        "IV SPOCC is of type \"DONOTUSE\"\n",
        "IV OCC is of type \"DONOTUSE\""
       ]
      },
      {
       "output_type": "stream",
       "stream": "stdout",
       "text": [
        "\n",
        "IV SPOCC is of type \"DONOTUSE\"\n",
        "The number of variables in original model is different from the number in model on future years. Skipping."
       ]
      },
      {
       "output_type": "stream",
       "stream": "stdout",
       "text": [
        "\n",
        "Processing article: 6712\n",
        "categorical variable ETHNIC has more than 15 levels\n",
        "IV SRCBELT is of type \"DONOTUSE\"\n",
        "categorical variable ETHNIC has more than 15 levels"
       ]
      },
      {
       "output_type": "stream",
       "stream": "stdout",
       "text": [
        "\n",
        "IV SRCBELT is of type \"DONOTUSE\"\n",
        "categorical variable ETHNIC has more than 15 levels"
       ]
      },
      {
       "output_type": "stream",
       "stream": "stdout",
       "text": [
        "\n",
        "IV SRCBELT is of type \"DONOTUSE\"\n",
        "categorical variable ETHNIC has more than 15 levels"
       ]
      },
      {
       "output_type": "stream",
       "stream": "stdout",
       "text": [
        "\n",
        "IV SRCBELT is of type \"DONOTUSE\"\n",
        "categorical variable ETHNIC has more than 15 levels"
       ]
      },
      {
       "output_type": "stream",
       "stream": "stdout",
       "text": [
        "\n",
        "IV SRCBELT is of type \"DONOTUSE\"\n",
        "categorical variable ETHNIC has more than 15 levels"
       ]
      },
      {
       "output_type": "stream",
       "stream": "stdout",
       "text": [
        "\n",
        "IV SRCBELT is of type \"DONOTUSE\"\n",
        "categorical variable ETHNIC has more than 15 levels"
       ]
      },
      {
       "output_type": "stream",
       "stream": "stdout",
       "text": [
        "\n",
        "IV SRCBELT is of type \"DONOTUSE\"\n",
        "categorical variable ETHNIC has more than 15 levels"
       ]
      },
      {
       "output_type": "stream",
       "stream": "stdout",
       "text": [
        "\n",
        "IV SRCBELT is of type \"DONOTUSE\"\n",
        "categorical variable ETHNIC has more than 15 levels"
       ]
      },
      {
       "output_type": "stream",
       "stream": "stdout",
       "text": [
        "\n",
        "IV SRCBELT is of type \"DONOTUSE\"\n",
        "categorical variable ETHNIC has more than 15 levels"
       ]
      },
      {
       "output_type": "stream",
       "stream": "stdout",
       "text": [
        "\n",
        "IV SRCBELT is of type \"DONOTUSE\"\n",
        "categorical variable ETHNIC has more than 15 levels"
       ]
      },
      {
       "output_type": "stream",
       "stream": "stdout",
       "text": [
        "\n",
        "IV SRCBELT is of type \"DONOTUSE\"\n",
        "categorical variable ETHNIC has more than 15 levels"
       ]
      },
      {
       "output_type": "stream",
       "stream": "stdout",
       "text": [
        "\n",
        "IV SRCBELT is of type \"DONOTUSE\"\n",
        "categorical variable ETHNIC has more than 15 levels"
       ]
      },
      {
       "output_type": "stream",
       "stream": "stdout",
       "text": [
        "\n",
        "IV SRCBELT is of type \"DONOTUSE\"\n",
        "categorical variable ETHNIC has more than 15 levels"
       ]
      },
      {
       "output_type": "stream",
       "stream": "stdout",
       "text": [
        "\n",
        "IV SRCBELT is of type \"DONOTUSE\"\n",
        "Processing article:"
       ]
      },
      {
       "output_type": "stream",
       "stream": "stdout",
       "text": [
        " 6720\n",
        "Couldnt construct a suitable formula\n",
        "Processing article: 6724\n",
        "IV PARTYID is of type \"DONOTUSE\"\n",
        "IV PARTYID is of type \"DONOTUSE\""
       ]
      },
      {
       "output_type": "stream",
       "stream": "stdout",
       "text": [
        "\n",
        "Processing article:"
       ]
      },
      {
       "output_type": "stream",
       "stream": "stdout",
       "text": [
        " 6725\n",
        "Processing article:"
       ]
      },
      {
       "output_type": "stream",
       "stream": "stdout",
       "text": [
        " 6732\n",
        "Processing article:"
       ]
      },
      {
       "output_type": "stream",
       "stream": "stdout",
       "text": [
        " 6734\n",
        "Couldnt construct a suitable formula\n",
        "IV CLASS is of type \"DONOTUSE\"\n",
        "IV OCC is of type \"DONOTUSE\"\n",
        "IV CLASS is of type \"DONOTUSE\""
       ]
      },
      {
       "output_type": "stream",
       "stream": "stdout",
       "text": [
        "\n",
        "IV OCC is of type \"DONOTUSE\"\n",
        "IV CLASS is of type \"DONOTUSE\""
       ]
      },
      {
       "output_type": "stream",
       "stream": "stdout",
       "text": [
        "\n",
        "IV OCC is of type \"DONOTUSE\"\n",
        "IV CLASS is of type \"DONOTUSE\""
       ]
      },
      {
       "output_type": "stream",
       "stream": "stdout",
       "text": [
        "\n",
        "IV OCC is of type \"DONOTUSE\"\n",
        "IV CLASS is of type \"DONOTUSE\""
       ]
      },
      {
       "output_type": "stream",
       "stream": "stdout",
       "text": [
        "\n",
        "IV OCC is of type \"DONOTUSE\"\n",
        "IV CLASS is of type \"DONOTUSE\""
       ]
      },
      {
       "output_type": "stream",
       "stream": "stdout",
       "text": [
        "\n",
        "IV OCC is of type \"DONOTUSE\"\n",
        "Processing article:"
       ]
      },
      {
       "output_type": "stream",
       "stream": "stdout",
       "text": [
        " 6776\n",
        "Processing article:"
       ]
      },
      {
       "output_type": "stream",
       "stream": "stdout",
       "text": [
        " 6779\n",
        "Processing article:"
       ]
      },
      {
       "output_type": "stream",
       "stream": "stdout",
       "text": [
        " 6812\n",
        "Processing article:"
       ]
      },
      {
       "output_type": "stream",
       "stream": "stdout",
       "text": [
        " 6825\n",
        "Couldnt construct a suitable formula\n",
        "Couldnt construct a suitable formula\n",
        "Processing article:"
       ]
      },
      {
       "output_type": "stream",
       "stream": "stdout",
       "text": [
        " 6840\n",
        "Processing article:"
       ]
      },
      {
       "output_type": "stream",
       "stream": "stdout",
       "text": [
        " 6841\n",
        "IV XNORCSIZ is of type \"DONOTUSE\"\n",
        "IV XNORCSIZ is of type \"DONOTUSE\""
       ]
      },
      {
       "output_type": "stream",
       "stream": "stdout",
       "text": [
        "\n",
        "Processing article:"
       ]
      },
      {
       "output_type": "stream",
       "stream": "stdout",
       "text": [
        " 6842\n",
        "Processing article:"
       ]
      },
      {
       "output_type": "stream",
       "stream": "stdout",
       "text": [
        " 6870\n",
        "Processing article:"
       ]
      },
      {
       "output_type": "stream",
       "stream": "stdout",
       "text": [
        " 6871\n",
        "Processing article:"
       ]
      },
      {
       "output_type": "stream",
       "stream": "stdout",
       "text": [
        " 6872\n",
        "Processing article:"
       ]
      },
      {
       "output_type": "stream",
       "stream": "stdout",
       "text": [
        " 6877\n",
        "IV INDUSTRY is of type \"DONOTUSE\"\n",
        "IV OCC is of type \"DONOTUSE\"\n",
        "IV INDUSTRY is of type \"DONOTUSE\""
       ]
      },
      {
       "output_type": "stream",
       "stream": "stdout",
       "text": [
        "\n",
        "IV OCC is of type \"DONOTUSE\"\n",
        "IV INDUSTRY is of type \"DONOTUSE\""
       ]
      },
      {
       "output_type": "stream",
       "stream": "stdout",
       "text": [
        "\n",
        "IV OCC is of type \"DONOTUSE\"\n",
        "IV INDUSTRY is of type \"DONOTUSE\""
       ]
      },
      {
       "output_type": "stream",
       "stream": "stdout",
       "text": [
        "\n",
        "IV OCC is of type \"DONOTUSE\"\n",
        "IV INDUSTRY is of type \"DONOTUSE\""
       ]
      },
      {
       "output_type": "stream",
       "stream": "stdout",
       "text": [
        "\n",
        "IV OCC is of type \"DONOTUSE\"\n",
        "IV INDUSTRY is of type \"DONOTUSE\""
       ]
      },
      {
       "output_type": "stream",
       "stream": "stdout",
       "text": [
        "\n",
        "IV OCC is of type \"DONOTUSE\"\n",
        "IV INDUSTRY is of type \"DONOTUSE\""
       ]
      },
      {
       "output_type": "stream",
       "stream": "stdout",
       "text": [
        "\n",
        "IV OCC is of type \"DONOTUSE\"\n",
        "IV INDUSTRY is of type \"DONOTUSE\""
       ]
      },
      {
       "output_type": "stream",
       "stream": "stdout",
       "text": [
        "\n",
        "IV OCC is of type \"DONOTUSE\"\n",
        "IV INDUSTRY is of type \"DONOTUSE\""
       ]
      },
      {
       "output_type": "stream",
       "stream": "stdout",
       "text": [
        "\n",
        "IV OCC is of type \"DONOTUSE\"\n",
        "IV INDUSTRY is of type \"DONOTUSE\""
       ]
      },
      {
       "output_type": "stream",
       "stream": "stdout",
       "text": [
        "\n",
        "IV OCC is of type \"DONOTUSE\"\n",
        "IV INDUSTRY is of type \"DONOTUSE\""
       ]
      },
      {
       "output_type": "stream",
       "stream": "stdout",
       "text": [
        "\n",
        "IV OCC is of type \"DONOTUSE\"\n",
        "IV INDUSTRY is of type \"DONOTUSE\""
       ]
      },
      {
       "output_type": "stream",
       "stream": "stdout",
       "text": [
        "\n",
        "IV OCC is of type \"DONOTUSE\"\n",
        "IV INDUSTRY is of type \"DONOTUSE\""
       ]
      },
      {
       "output_type": "stream",
       "stream": "stdout",
       "text": [
        "\n",
        "IV OCC is of type \"DONOTUSE\"\n",
        "IV INDUSTRY is of type \"DONOTUSE\""
       ]
      },
      {
       "output_type": "stream",
       "stream": "stdout",
       "text": [
        "\n",
        "IV OCC is of type \"DONOTUSE\"\n",
        "IV INDUSTRY is of type \"DONOTUSE\""
       ]
      },
      {
       "output_type": "stream",
       "stream": "stdout",
       "text": [
        "\n",
        "IV OCC is of type \"DONOTUSE\"\n",
        "IV INDUSTRY is of type \"DONOTUSE\""
       ]
      },
      {
       "output_type": "stream",
       "stream": "stdout",
       "text": [
        "\n",
        "IV OCC is of type \"DONOTUSE\"\n",
        "Processing article:"
       ]
      },
      {
       "output_type": "stream",
       "stream": "stdout",
       "text": [
        " 6910\n",
        "The number of variables in original model is different from the number in model on future years. Skipping."
       ]
      },
      {
       "output_type": "stream",
       "stream": "stdout",
       "text": [
        "\n",
        "The number of variables in original model is different from the number in model on future years. Skipping."
       ]
      },
      {
       "output_type": "stream",
       "stream": "stdout",
       "text": [
        "\n",
        "The number of variables in original model is different from the number in model on future years. Skipping."
       ]
      },
      {
       "output_type": "stream",
       "stream": "stdout",
       "text": [
        "\n",
        "The number of variables in original model is different from the number in model on future years. Skipping."
       ]
      },
      {
       "output_type": "stream",
       "stream": "stdout",
       "text": [
        "\n",
        "The number of variables in original model is different from the number in model on future years. Skipping."
       ]
      },
      {
       "output_type": "stream",
       "stream": "stdout",
       "text": [
        "\n",
        "Processing article: 6922\n",
        "categorical variable ETHNIC has more than 15 levels\n",
        "IV XNORCSIZ is of type \"DONOTUSE\"\n",
        "categorical variable ETHNIC has more than 15 levels"
       ]
      },
      {
       "output_type": "stream",
       "stream": "stdout",
       "text": [
        "\n",
        "IV XNORCSIZ is of type \"DONOTUSE\"\n",
        "categorical variable ETHNIC has more than 15 levels"
       ]
      },
      {
       "output_type": "stream",
       "stream": "stdout",
       "text": [
        "\n",
        "IV XNORCSIZ is of type \"DONOTUSE\"\n",
        "categorical variable ETHNIC has more than 15 levels"
       ]
      },
      {
       "output_type": "stream",
       "stream": "stdout",
       "text": [
        "\n",
        "IV XNORCSIZ is of type \"DONOTUSE\"\n",
        "categorical variable ETHNIC has more than 15 levels"
       ]
      },
      {
       "output_type": "stream",
       "stream": "stdout",
       "text": [
        "\n",
        "IV XNORCSIZ is of type \"DONOTUSE\"\n",
        "categorical variable ETHNIC has more than 15 levels"
       ]
      },
      {
       "output_type": "stream",
       "stream": "stdout",
       "text": [
        "\n",
        "IV XNORCSIZ is of type \"DONOTUSE\"\n",
        "categorical variable ETHNIC has more than 15 levels"
       ]
      },
      {
       "output_type": "stream",
       "stream": "stdout",
       "text": [
        "\n",
        "IV XNORCSIZ is of type \"DONOTUSE\"\n",
        "categorical variable ETHNIC has more than 15 levels"
       ]
      },
      {
       "output_type": "stream",
       "stream": "stdout",
       "text": [
        "\n",
        "IV XNORCSIZ is of type \"DONOTUSE\"\n",
        "categorical variable ETHNIC has more than 15 levels"
       ]
      },
      {
       "output_type": "stream",
       "stream": "stdout",
       "text": [
        "\n",
        "IV XNORCSIZ is of type \"DONOTUSE\"\n",
        "categorical variable ETHNIC has more than 15 levels"
       ]
      },
      {
       "output_type": "stream",
       "stream": "stdout",
       "text": [
        "\n",
        "IV XNORCSIZ is of type \"DONOTUSE\"\n",
        "categorical variable ETHNIC has more than 15 levels"
       ]
      },
      {
       "output_type": "stream",
       "stream": "stdout",
       "text": [
        "\n",
        "IV XNORCSIZ is of type \"DONOTUSE\"\n",
        "categorical variable ETHNIC has more than 15 levels"
       ]
      },
      {
       "output_type": "stream",
       "stream": "stdout",
       "text": [
        "\n",
        "IV XNORCSIZ is of type \"DONOTUSE\"\n",
        "categorical variable ETHNIC has more than 15 levels"
       ]
      },
      {
       "output_type": "stream",
       "stream": "stdout",
       "text": [
        "\n",
        "IV XNORCSIZ is of type \"DONOTUSE\"\n",
        "categorical variable ETHNIC has more than 15 levels"
       ]
      },
      {
       "output_type": "stream",
       "stream": "stdout",
       "text": [
        "\n",
        "IV XNORCSIZ is of type \"DONOTUSE\"\n",
        "Processing article:"
       ]
      },
      {
       "output_type": "stream",
       "stream": "stdout",
       "text": [
        " 6926\n",
        "Processing article:"
       ]
      },
      {
       "output_type": "stream",
       "stream": "stdout",
       "text": [
        " 6933\n",
        "Processing article:"
       ]
      },
      {
       "output_type": "stream",
       "stream": "stdout",
       "text": [
        " 6973\n",
        "categorical variable DENOM has more than 15 levels\n",
        "categorical variable DENOM16 has more than 15 levels\n",
        "IV INDUSTRY is of type \"DONOTUSE\"\n",
        "IV OTH16 is of type \"DONOTUSE\"\n",
        "IV OTHER is of type \"DONOTUSE\"\n",
        "IV PAOCC16 is of type \"DONOTUSE\"\n",
        "categorical variable REG16 has more than 15 levels\n",
        "IV XNORCSIZ is of type \"DONOTUSE\"\n",
        "categorical variable DENOM has more than 15 levels"
       ]
      },
      {
       "output_type": "stream",
       "stream": "stdout",
       "text": [
        "\n",
        "categorical variable DENOM16 has more than 15 levels\n",
        "IV INDUSTRY is of type \"DONOTUSE\"\n",
        "IV OTH16 is of type \"DONOTUSE\"\n",
        "IV OTHER is of type \"DONOTUSE\"\n",
        "IV PAOCC16 is of type \"DONOTUSE\"\n",
        "categorical variable REG16 has more than 15 levels\n",
        "IV XNORCSIZ is of type \"DONOTUSE\"\n",
        "The number of variables in original model is different from the number in model on future years. Skipping."
       ]
      },
      {
       "output_type": "stream",
       "stream": "stdout",
       "text": [
        "\n",
        "Processing article: 6992\n",
        "The number of variables in original model is different from the number in model on future years. Skipping."
       ]
      },
      {
       "output_type": "stream",
       "stream": "stdout",
       "text": [
        "\n",
        "The number of variables in original model is different from the number in model on future years. Skipping."
       ]
      },
      {
       "output_type": "stream",
       "stream": "stdout",
       "text": [
        "\n",
        "The number of variables in original model is different from the number in model on future years. Skipping."
       ]
      },
      {
       "output_type": "stream",
       "stream": "stdout",
       "text": [
        "\n",
        "Processing article: 6998\n",
        "Couldnt construct a suitable formula\n",
        "Processing article: 7081\n",
        "Processing article:"
       ]
      },
      {
       "output_type": "stream",
       "stream": "stdout",
       "text": [
        " 7181\n",
        "Processing article:"
       ]
      },
      {
       "output_type": "stream",
       "stream": "stdout",
       "text": [
        " 7235\n",
        "Couldnt construct a suitable formula\n",
        "Couldnt construct a suitable formula\n",
        "Processing article: 7264\n",
        "IV WRKSTAT is of type \"DONOTUSE\"\n",
        "IV WRKSTAT is of type \"DONOTUSE\""
       ]
      },
      {
       "output_type": "stream",
       "stream": "stdout",
       "text": [
        "\n",
        "IV WRKSTAT is of type \"DONOTUSE\""
       ]
      },
      {
       "output_type": "stream",
       "stream": "stdout",
       "text": [
        "\n",
        "IV WRKSTAT is of type \"DONOTUSE\""
       ]
      },
      {
       "output_type": "stream",
       "stream": "stdout",
       "text": [
        "\n",
        "IV WRKSTAT is of type \"DONOTUSE\""
       ]
      },
      {
       "output_type": "stream",
       "stream": "stdout",
       "text": [
        "\n",
        "IV WRKSTAT is of type \"DONOTUSE\""
       ]
      },
      {
       "output_type": "stream",
       "stream": "stdout",
       "text": [
        "\n",
        "Processing article:"
       ]
      },
      {
       "output_type": "stream",
       "stream": "stdout",
       "text": [
        " 7270\n",
        "Processing article:"
       ]
      },
      {
       "output_type": "stream",
       "stream": "stdout",
       "text": [
        " 7291\n",
        "IV SRCBELT is of type \"DONOTUSE\"\n",
        "IV SRCBELT is of type \"DONOTUSE\""
       ]
      },
      {
       "output_type": "stream",
       "stream": "stdout",
       "text": [
        "\n",
        "The number of variables in original model is different from the number in model on future years. Skipping."
       ]
      },
      {
       "output_type": "stream",
       "stream": "stdout",
       "text": [
        "\n",
        "IV SRCBELT is of type \"DONOTUSE\"\n",
        "IV SRCBELT is of type \"DONOTUSE\""
       ]
      },
      {
       "output_type": "stream",
       "stream": "stdout",
       "text": [
        "\n",
        "The number of variables in original model is different from the number in model on future years. Skipping."
       ]
      },
      {
       "output_type": "stream",
       "stream": "stdout",
       "text": [
        "\n",
        "Processing article: 7320\n",
        "Processing article:"
       ]
      },
      {
       "output_type": "stream",
       "stream": "stdout",
       "text": [
        " 7358\n",
        "Couldnt construct a suitable formula\n",
        "Processing article: 7397\n",
        "Processing article:"
       ]
      },
      {
       "output_type": "stream",
       "stream": "stdout",
       "text": [
        " 7431\n",
        "categorical variable DENOM has more than 15 levels\n",
        "categorical variable REG16 has more than 15 levels\n",
        "categorical variable DENOM has more than 15 levels"
       ]
      },
      {
       "output_type": "stream",
       "stream": "stdout",
       "text": [
        "\n",
        "categorical variable REG16 has more than 15 levels\n",
        "categorical variable DENOM has more than 15 levels"
       ]
      },
      {
       "output_type": "stream",
       "stream": "stdout",
       "text": [
        "\n",
        "categorical variable REG16 has more than 15 levels\n",
        "categorical variable DENOM has more than 15 levels"
       ]
      },
      {
       "output_type": "stream",
       "stream": "stdout",
       "text": [
        "\n",
        "categorical variable REG16 has more than 15 levels\n",
        "Processing article:"
       ]
      },
      {
       "output_type": "stream",
       "stream": "stdout",
       "text": [
        " 7432\n",
        "Couldnt construct a suitable formula\n",
        "Couldnt construct a suitable formula\n",
        "Couldnt construct a suitable formula\n",
        "Couldnt construct a suitable formula\n",
        "Couldnt construct a suitable formula\n",
        "Couldnt construct a suitable formula\n",
        "Processing article: 7433\n",
        "Processing article:"
       ]
      },
      {
       "output_type": "stream",
       "stream": "stdout",
       "text": [
        " 7449\n",
        "Couldnt construct a suitable formula\n",
        "categorical variable DENOM16 has more than 15 levels\n",
        "IV OTH16 is of type \"DONOTUSE\"\n",
        "categorical variable DENOM16 has more than 15 levels"
       ]
      },
      {
       "output_type": "stream",
       "stream": "stdout",
       "text": [
        "\n",
        "IV OTH16 is of type \"DONOTUSE\"\n",
        "Couldnt construct a suitable formula"
       ]
      },
      {
       "output_type": "stream",
       "stream": "stdout",
       "text": [
        "\n",
        "Processing article: 7507\n",
        "categorical variable DENOM has more than 15 levels\n",
        "categorical variable DENOM has more than 15 levels"
       ]
      },
      {
       "output_type": "stream",
       "stream": "stdout",
       "text": [
        "\n",
        "categorical variable DENOM has more than 15 levels"
       ]
      },
      {
       "output_type": "stream",
       "stream": "stdout",
       "text": [
        "\n",
        "categorical variable DENOM has more than 15 levels"
       ]
      },
      {
       "output_type": "stream",
       "stream": "stdout",
       "text": [
        "\n",
        "categorical variable DENOM has more than 15 levels"
       ]
      },
      {
       "output_type": "stream",
       "stream": "stdout",
       "text": [
        "\n",
        "categorical variable DENOM has more than 15 levels"
       ]
      },
      {
       "output_type": "stream",
       "stream": "stdout",
       "text": [
        "\n",
        "categorical variable DENOM has more than 15 levels"
       ]
      },
      {
       "output_type": "stream",
       "stream": "stdout",
       "text": [
        "\n",
        "categorical variable DENOM has more than 15 levels"
       ]
      },
      {
       "output_type": "stream",
       "stream": "stdout",
       "text": [
        "\n",
        "Processing article:"
       ]
      },
      {
       "output_type": "stream",
       "stream": "stdout",
       "text": [
        " 7525\n",
        "categorical variable DENOM has more than 15 levels\n",
        "categorical variable DENOM16 has more than 15 levels\n",
        "categorical variable ETHNIC has more than 15 levels\n",
        "IV OTH16 is of type \"DONOTUSE\"\n",
        "IV OTHER is of type \"DONOTUSE\"\n",
        "IV PAOCC16 is of type \"DONOTUSE\"\n",
        "IV XNORCSIZ is of type \"DONOTUSE\"\n",
        "categorical variable DENOM has more than 15 levels"
       ]
      },
      {
       "output_type": "stream",
       "stream": "stdout",
       "text": [
        "\n",
        "categorical variable DENOM16 has more than 15 levels\n",
        "categorical variable ETHNIC has more than 15 levels\n",
        "IV OTH16 is of type \"DONOTUSE\"\n",
        "IV OTHER is of type \"DONOTUSE\"\n",
        "IV PAOCC16 is of type \"DONOTUSE\"\n",
        "IV XNORCSIZ is of type \"DONOTUSE\"\n",
        "Processing article:"
       ]
      },
      {
       "output_type": "stream",
       "stream": "stdout",
       "text": [
        " 7567\n",
        "Couldnt construct a suitable formula\n",
        "Couldnt construct a suitable formula\n",
        "Couldnt construct a suitable formula\n",
        "Couldnt construct a suitable formula"
       ]
      },
      {
       "output_type": "stream",
       "stream": "stdout",
       "text": [
        "\n",
        "Processing article: 7594\n",
        "IV SRCBELT is of type \"DONOTUSE\"\n",
        "IV XNORCSIZ is of type \"DONOTUSE\"\n",
        "IV SRCBELT is of type \"DONOTUSE\""
       ]
      },
      {
       "output_type": "stream",
       "stream": "stdout",
       "text": [
        "\n",
        "IV XNORCSIZ is of type \"DONOTUSE\"\n",
        "IV SRCBELT is of type \"DONOTUSE\""
       ]
      },
      {
       "output_type": "stream",
       "stream": "stdout",
       "text": [
        "\n",
        "IV XNORCSIZ is of type \"DONOTUSE\"\n",
        "IV SRCBELT is of type \"DONOTUSE\""
       ]
      },
      {
       "output_type": "stream",
       "stream": "stdout",
       "text": [
        "\n",
        "IV XNORCSIZ is of type \"DONOTUSE\"\n",
        "IV SRCBELT is of type \"DONOTUSE\""
       ]
      },
      {
       "output_type": "stream",
       "stream": "stdout",
       "text": [
        "\n",
        "IV XNORCSIZ is of type \"DONOTUSE\"\n",
        "IV SRCBELT is of type \"DONOTUSE\""
       ]
      },
      {
       "output_type": "stream",
       "stream": "stdout",
       "text": [
        "\n",
        "IV XNORCSIZ is of type \"DONOTUSE\"\n",
        "Processing article:"
       ]
      },
      {
       "output_type": "stream",
       "stream": "stdout",
       "text": [
        " 7619\n",
        "Processing article:"
       ]
      },
      {
       "output_type": "stream",
       "stream": "stdout",
       "text": [
        " 7638\n",
        "IV OCC is of type \"DONOTUSE\"\n",
        "IV OCC is of type \"DONOTUSE\""
       ]
      },
      {
       "output_type": "stream",
       "stream": "stdout",
       "text": [
        "\n",
        "Processing article:"
       ]
      },
      {
       "output_type": "stream",
       "stream": "stdout",
       "text": [
        " 7641\n",
        "IV WRKSTAT is of type \"DONOTUSE\"\n",
        "IV WRKSTAT is of type \"DONOTUSE\""
       ]
      },
      {
       "output_type": "stream",
       "stream": "stdout",
       "text": [
        "\n",
        "The number of variables in original model is different from the number in model on future years. Skipping."
       ]
      },
      {
       "output_type": "stream",
       "stream": "stdout",
       "text": [
        "\n",
        "IV WRKSTAT is of type \"DONOTUSE\"\n",
        "IV WRKSTAT is of type \"DONOTUSE\""
       ]
      },
      {
       "output_type": "stream",
       "stream": "stdout",
       "text": [
        "\n",
        "The number of variables in original model is different from the number in model on future years. Skipping."
       ]
      },
      {
       "output_type": "stream",
       "stream": "stdout",
       "text": [
        "\n",
        "IV WRKSTAT is of type \"DONOTUSE\"\n",
        "IV WRKSTAT is of type \"DONOTUSE\""
       ]
      },
      {
       "output_type": "stream",
       "stream": "stdout",
       "text": [
        "\n",
        "The number of variables in original model is different from the number in model on future years. Skipping."
       ]
      },
      {
       "output_type": "stream",
       "stream": "stdout",
       "text": [
        "\n",
        "Couldnt construct a suitable formula\n",
        "IV WRKSTAT is of type \"DONOTUSE\"\n",
        "IV WRKSTAT is of type \"DONOTUSE\""
       ]
      },
      {
       "output_type": "stream",
       "stream": "stdout",
       "text": [
        "\n",
        "The number of variables in original model is different from the number in model on future years. Skipping."
       ]
      },
      {
       "output_type": "stream",
       "stream": "stdout",
       "text": [
        "\n",
        "IV WRKSTAT is of type \"DONOTUSE\"\n",
        "IV WRKSTAT is of type \"DONOTUSE\""
       ]
      },
      {
       "output_type": "stream",
       "stream": "stdout",
       "text": [
        "\n",
        "The number of variables in original model is different from the number in model on future years. Skipping."
       ]
      },
      {
       "output_type": "stream",
       "stream": "stdout",
       "text": [
        "\n",
        "IV WRKSTAT is of type \"DONOTUSE\"\n",
        "IV WRKSTAT is of type \"DONOTUSE\""
       ]
      },
      {
       "output_type": "stream",
       "stream": "stdout",
       "text": [
        "\n",
        "The number of variables in original model is different from the number in model on future years. Skipping."
       ]
      },
      {
       "output_type": "stream",
       "stream": "stdout",
       "text": [
        "\n",
        "Couldnt construct a suitable formula\n",
        "IV WRKSTAT is of type \"DONOTUSE\"\n",
        "IV WRKSTAT is of type \"DONOTUSE\""
       ]
      },
      {
       "output_type": "stream",
       "stream": "stdout",
       "text": [
        "\n",
        "The number of variables in original model is different from the number in model on future years. Skipping."
       ]
      },
      {
       "output_type": "stream",
       "stream": "stdout",
       "text": [
        "\n",
        "IV WRKSTAT is of type \"DONOTUSE\"\n",
        "IV WRKSTAT is of type \"DONOTUSE\""
       ]
      },
      {
       "output_type": "stream",
       "stream": "stdout",
       "text": [
        "\n",
        "The number of variables in original model is different from the number in model on future years. Skipping."
       ]
      },
      {
       "output_type": "stream",
       "stream": "stdout",
       "text": [
        "\n",
        "IV WRKSTAT is of type \"DONOTUSE\"\n",
        "IV WRKSTAT is of type \"DONOTUSE\""
       ]
      },
      {
       "output_type": "stream",
       "stream": "stdout",
       "text": [
        "\n",
        "The number of variables in original model is different from the number in model on future years. Skipping."
       ]
      },
      {
       "output_type": "stream",
       "stream": "stdout",
       "text": [
        "\n",
        "IV WRKSTAT is of type \"DONOTUSE\"\n",
        "IV WRKSTAT is of type \"DONOTUSE\""
       ]
      },
      {
       "output_type": "stream",
       "stream": "stdout",
       "text": [
        "\n",
        "The number of variables in original model is different from the number in model on future years. Skipping."
       ]
      },
      {
       "output_type": "stream",
       "stream": "stdout",
       "text": [
        "\n",
        "IV WRKSTAT is of type \"DONOTUSE\"\n",
        "IV WRKSTAT is of type \"DONOTUSE\""
       ]
      },
      {
       "output_type": "stream",
       "stream": "stdout",
       "text": [
        "\n",
        "The number of variables in original model is different from the number in model on future years. Skipping."
       ]
      },
      {
       "output_type": "stream",
       "stream": "stdout",
       "text": [
        "\n",
        "Couldnt construct a suitable formula\n",
        "Processing article: 7692\n",
        "Processing article:"
       ]
      },
      {
       "output_type": "stream",
       "stream": "stdout",
       "text": [
        " 7700\n",
        "categorical variable ETHNIC has more than 15 levels\n",
        "categorical variable ETHNIC has more than 15 levels"
       ]
      },
      {
       "output_type": "stream",
       "stream": "stdout",
       "text": [
        "\n",
        "Processing article:"
       ]
      },
      {
       "output_type": "stream",
       "stream": "stdout",
       "text": [
        " 7713\n",
        "IV OCC is of type \"DONOTUSE\"\n",
        "IV WRKSTAT is of type \"DONOTUSE\"\n",
        "IV OCC is of type \"DONOTUSE\""
       ]
      },
      {
       "output_type": "stream",
       "stream": "stdout",
       "text": [
        "\n",
        "IV WRKSTAT is of type \"DONOTUSE\"\n",
        "The number of variables in original model is different from the number in model on future years. Skipping."
       ]
      },
      {
       "output_type": "stream",
       "stream": "stdout",
       "text": [
        "\n",
        "Processing article: 7718\n",
        "The number of variables in original model is different from the number in model on future years. Skipping."
       ]
      },
      {
       "output_type": "stream",
       "stream": "stdout",
       "text": [
        "\n",
        "The number of variables in original model is different from the number in model on future years. Skipping."
       ]
      },
      {
       "output_type": "stream",
       "stream": "stdout",
       "text": [
        "\n",
        "Couldnt construct a suitable formula\n",
        "Processing article: 7746\n",
        "IV OCC is of type \"DONOTUSE\"\n",
        "IV XNORCSIZ is of type \"DONOTUSE\"\n",
        "Either the  params or the R^2 is too high. Skipping."
       ]
      },
      {
       "output_type": "stream",
       "stream": "stdout",
       "text": [
        "\n"
       ]
      }
     ],
     "prompt_number": 46
    },
    {
     "cell_type": "markdown",
     "metadata": {},
     "source": [
      "Create dataframe that contains the output \n",
      "--"
     ]
    },
    {
     "cell_type": "code",
     "collapsed": false,
     "input": [
      "df_output = pd.DataFrame(index=arange(len(output[group1]['propSig'])), columns=pd.MultiIndex.from_product([groups, outcomes]))\n",
      "df_output.columns.names = ['outcome','group']\n",
      "for outcome in outcomes:\n",
      "    for gp in groups:\n",
      "        df_output[gp, outcome] = output[gp][outcome]\n",
      "df_output['article_id'] = output['metadata']['article_id']\n",
      "del df_output[group1, 'numTotal']\n",
      "del df_output[group2, 'numTotal']\n",
      "# df_output"
     ],
     "language": "python",
     "metadata": {},
     "outputs": [
      {
       "ename": "KeyError",
       "evalue": "('on last GSS year', 'numTotal')",
       "output_type": "pyerr",
       "traceback": [
        "\u001b[1;31m---------------------------------------------------------------------------\u001b[0m\n\u001b[1;31mKeyError\u001b[0m                                  Traceback (most recent call last)",
        "\u001b[1;32m<ipython-input-50-0695d6702065>\u001b[0m in \u001b[0;36m<module>\u001b[1;34m()\u001b[0m\n\u001b[0;32m      5\u001b[0m         \u001b[0mdf_output\u001b[0m\u001b[1;33m[\u001b[0m\u001b[0mgp\u001b[0m\u001b[1;33m,\u001b[0m \u001b[0moutcome\u001b[0m\u001b[1;33m]\u001b[0m \u001b[1;33m=\u001b[0m \u001b[0moutput\u001b[0m\u001b[1;33m[\u001b[0m\u001b[0mgp\u001b[0m\u001b[1;33m]\u001b[0m\u001b[1;33m[\u001b[0m\u001b[0moutcome\u001b[0m\u001b[1;33m]\u001b[0m\u001b[1;33m\u001b[0m\u001b[0m\n\u001b[0;32m      6\u001b[0m \u001b[0mdf_output\u001b[0m\u001b[1;33m[\u001b[0m\u001b[1;34m'article_id'\u001b[0m\u001b[1;33m]\u001b[0m \u001b[1;33m=\u001b[0m \u001b[0moutput\u001b[0m\u001b[1;33m[\u001b[0m\u001b[1;34m'metadata'\u001b[0m\u001b[1;33m]\u001b[0m\u001b[1;33m[\u001b[0m\u001b[1;34m'article_id'\u001b[0m\u001b[1;33m]\u001b[0m\u001b[1;33m\u001b[0m\u001b[0m\n\u001b[1;32m----> 7\u001b[1;33m \u001b[1;32mdel\u001b[0m \u001b[0mdf_output\u001b[0m\u001b[1;33m[\u001b[0m\u001b[0mgroup1\u001b[0m\u001b[1;33m,\u001b[0m \u001b[1;34m'numTotal'\u001b[0m\u001b[1;33m]\u001b[0m\u001b[1;33m\u001b[0m\u001b[0m\n\u001b[0m\u001b[0;32m      8\u001b[0m \u001b[1;32mdel\u001b[0m \u001b[0mdf_output\u001b[0m\u001b[1;33m[\u001b[0m\u001b[0mgroup2\u001b[0m\u001b[1;33m,\u001b[0m \u001b[1;34m'numTotal'\u001b[0m\u001b[1;33m]\u001b[0m\u001b[1;33m\u001b[0m\u001b[0m\n\u001b[0;32m      9\u001b[0m \u001b[1;31m# df_output\u001b[0m\u001b[1;33m\u001b[0m\u001b[1;33m\u001b[0m\u001b[0m\n",
        "\u001b[1;32m/home/misha/python/pandas-0.14.1-py2.7-linux-x86_64.egg/pandas/core/generic.pyc\u001b[0m in \u001b[0;36m__delitem__\u001b[1;34m(self, key)\u001b[0m\n\u001b[0;32m   1208\u001b[0m             \u001b[1;31m# there was no match, this call should raise the appropriate\u001b[0m\u001b[1;33m\u001b[0m\u001b[1;33m\u001b[0m\u001b[0m\n\u001b[0;32m   1209\u001b[0m             \u001b[1;31m# exception:\u001b[0m\u001b[1;33m\u001b[0m\u001b[1;33m\u001b[0m\u001b[0m\n\u001b[1;32m-> 1210\u001b[1;33m             \u001b[0mself\u001b[0m\u001b[1;33m.\u001b[0m\u001b[0m_data\u001b[0m\u001b[1;33m.\u001b[0m\u001b[0mdelete\u001b[0m\u001b[1;33m(\u001b[0m\u001b[0mkey\u001b[0m\u001b[1;33m)\u001b[0m\u001b[1;33m\u001b[0m\u001b[0m\n\u001b[0m\u001b[0;32m   1211\u001b[0m \u001b[1;33m\u001b[0m\u001b[0m\n\u001b[0;32m   1212\u001b[0m         \u001b[1;32mtry\u001b[0m\u001b[1;33m:\u001b[0m\u001b[1;33m\u001b[0m\u001b[0m\n",
        "\u001b[1;32m/home/misha/python/pandas-0.14.1-py2.7-linux-x86_64.egg/pandas/core/internals.pyc\u001b[0m in \u001b[0;36mdelete\u001b[1;34m(self, item)\u001b[0m\n\u001b[0;32m   2620\u001b[0m         \u001b[0mDelete\u001b[0m \u001b[0mselected\u001b[0m \u001b[0mitem\u001b[0m \u001b[1;33m(\u001b[0m\u001b[0mitems\u001b[0m \u001b[1;32mif\u001b[0m \u001b[0mnon\u001b[0m\u001b[1;33m-\u001b[0m\u001b[0munique\u001b[0m\u001b[1;33m)\u001b[0m \u001b[1;32min\u001b[0m\u001b[1;33m-\u001b[0m\u001b[0mplace\u001b[0m\u001b[1;33m.\u001b[0m\u001b[1;33m\u001b[0m\u001b[0m\n\u001b[0;32m   2621\u001b[0m         \"\"\"\n\u001b[1;32m-> 2622\u001b[1;33m         \u001b[0mindexer\u001b[0m \u001b[1;33m=\u001b[0m \u001b[0mself\u001b[0m\u001b[1;33m.\u001b[0m\u001b[0mitems\u001b[0m\u001b[1;33m.\u001b[0m\u001b[0mget_loc\u001b[0m\u001b[1;33m(\u001b[0m\u001b[0mitem\u001b[0m\u001b[1;33m)\u001b[0m\u001b[1;33m\u001b[0m\u001b[0m\n\u001b[0m\u001b[0;32m   2623\u001b[0m \u001b[1;33m\u001b[0m\u001b[0m\n\u001b[0;32m   2624\u001b[0m         \u001b[0mis_deleted\u001b[0m \u001b[1;33m=\u001b[0m \u001b[0mnp\u001b[0m\u001b[1;33m.\u001b[0m\u001b[0mzeros\u001b[0m\u001b[1;33m(\u001b[0m\u001b[0mself\u001b[0m\u001b[1;33m.\u001b[0m\u001b[0mshape\u001b[0m\u001b[1;33m[\u001b[0m\u001b[1;36m0\u001b[0m\u001b[1;33m]\u001b[0m\u001b[1;33m,\u001b[0m \u001b[0mdtype\u001b[0m\u001b[1;33m=\u001b[0m\u001b[0mnp\u001b[0m\u001b[1;33m.\u001b[0m\u001b[0mbool_\u001b[0m\u001b[1;33m)\u001b[0m\u001b[1;33m\u001b[0m\u001b[0m\n",
        "\u001b[1;32m/home/misha/python/pandas-0.14.1-py2.7-linux-x86_64.egg/pandas/core/index.pyc\u001b[0m in \u001b[0;36mget_loc\u001b[1;34m(self, key)\u001b[0m\n\u001b[0;32m   3399\u001b[0m             \u001b[1;32mif\u001b[0m \u001b[0mlen\u001b[0m\u001b[1;33m(\u001b[0m\u001b[0mkey\u001b[0m\u001b[1;33m)\u001b[0m \u001b[1;33m==\u001b[0m \u001b[0mself\u001b[0m\u001b[1;33m.\u001b[0m\u001b[0mnlevels\u001b[0m\u001b[1;33m:\u001b[0m\u001b[1;33m\u001b[0m\u001b[0m\n\u001b[0;32m   3400\u001b[0m                 \u001b[1;32mif\u001b[0m \u001b[0mself\u001b[0m\u001b[1;33m.\u001b[0m\u001b[0mis_unique\u001b[0m\u001b[1;33m:\u001b[0m\u001b[1;33m\u001b[0m\u001b[0m\n\u001b[1;32m-> 3401\u001b[1;33m                     \u001b[1;32mreturn\u001b[0m \u001b[0mself\u001b[0m\u001b[1;33m.\u001b[0m\u001b[0m_engine\u001b[0m\u001b[1;33m.\u001b[0m\u001b[0mget_loc\u001b[0m\u001b[1;33m(\u001b[0m\u001b[0m_values_from_object\u001b[0m\u001b[1;33m(\u001b[0m\u001b[0mkey\u001b[0m\u001b[1;33m)\u001b[0m\u001b[1;33m)\u001b[0m\u001b[1;33m\u001b[0m\u001b[0m\n\u001b[0m\u001b[0;32m   3402\u001b[0m                 \u001b[1;32melse\u001b[0m\u001b[1;33m:\u001b[0m\u001b[1;33m\u001b[0m\u001b[0m\n\u001b[0;32m   3403\u001b[0m                     \u001b[1;32mreturn\u001b[0m \u001b[0mslice\u001b[0m\u001b[1;33m(\u001b[0m\u001b[1;33m*\u001b[0m\u001b[0mself\u001b[0m\u001b[1;33m.\u001b[0m\u001b[0mslice_locs\u001b[0m\u001b[1;33m(\u001b[0m\u001b[0mkey\u001b[0m\u001b[1;33m,\u001b[0m \u001b[0mkey\u001b[0m\u001b[1;33m)\u001b[0m\u001b[1;33m)\u001b[0m\u001b[1;33m\u001b[0m\u001b[0m\n",
        "\u001b[1;32m/home/misha/python/pandas-0.14.1-py2.7-linux-x86_64.egg/pandas/index.so\u001b[0m in \u001b[0;36mpandas.index.IndexEngine.get_loc (pandas/index.c:3354)\u001b[1;34m()\u001b[0m\n",
        "\u001b[1;32m/home/misha/python/pandas-0.14.1-py2.7-linux-x86_64.egg/pandas/index.so\u001b[0m in \u001b[0;36mpandas.index.IndexEngine.get_loc (pandas/index.c:3234)\u001b[1;34m()\u001b[0m\n",
        "\u001b[1;32m/home/misha/python/pandas-0.14.1-py2.7-linux-x86_64.egg/pandas/hashtable.so\u001b[0m in \u001b[0;36mpandas.hashtable.PyObjectHashTable.get_item (pandas/hashtable.c:11148)\u001b[1;34m()\u001b[0m\n",
        "\u001b[1;32m/home/misha/python/pandas-0.14.1-py2.7-linux-x86_64.egg/pandas/hashtable.so\u001b[0m in \u001b[0;36mpandas.hashtable.PyObjectHashTable.get_item (pandas/hashtable.c:11101)\u001b[1;34m()\u001b[0m\n",
        "\u001b[1;31mKeyError\u001b[0m: ('on last GSS year', 'numTotal')"
       ]
      }
     ],
     "prompt_number": 50
    },
    {
     "cell_type": "code",
     "collapsed": false,
     "input": [
      "outcomes.remove('numTotal')"
     ],
     "language": "python",
     "metadata": {},
     "outputs": [
      {
       "ename": "ValueError",
       "evalue": "list.remove(x): x not in list",
       "output_type": "pyerr",
       "traceback": [
        "\u001b[1;31m---------------------------------------------------------------------------\u001b[0m\n\u001b[1;31mValueError\u001b[0m                                Traceback (most recent call last)",
        "\u001b[1;32m<ipython-input-51-9b5d5e30c333>\u001b[0m in \u001b[0;36m<module>\u001b[1;34m()\u001b[0m\n\u001b[1;32m----> 1\u001b[1;33m \u001b[0moutcomes\u001b[0m\u001b[1;33m.\u001b[0m\u001b[0mremove\u001b[0m\u001b[1;33m(\u001b[0m\u001b[1;34m'numTotal'\u001b[0m\u001b[1;33m)\u001b[0m\u001b[1;33m\u001b[0m\u001b[0m\n\u001b[0m",
        "\u001b[1;31mValueError\u001b[0m: list.remove(x): x not in list"
       ]
      }
     ],
     "prompt_number": 51
    },
    {
     "cell_type": "markdown",
     "metadata": {},
     "source": [
      "###Number of unique articles used"
     ]
    },
    {
     "cell_type": "code",
     "collapsed": false,
     "input": [
      "len(df_output['article_id'].unique())"
     ],
     "language": "python",
     "metadata": {},
     "outputs": [
      {
       "metadata": {},
       "output_type": "pyout",
       "prompt_number": 52,
       "text": [
        "305"
       ]
      }
     ],
     "prompt_number": 52
    },
    {
     "cell_type": "markdown",
     "metadata": {},
     "source": [
      "Plot the output\n",
      "--"
     ]
    },
    {
     "cell_type": "code",
     "collapsed": false,
     "input": [
      "outcomesToUse"
     ],
     "language": "python",
     "metadata": {},
     "outputs": [
      {
       "metadata": {},
       "output_type": "pyout",
       "prompt_number": 53,
       "text": [
        "Index([u'propSig', u'paramSizesNormed', u'Rs', u'adjRs', u'pvalues', u'propSig_CentralVars', u'paramSizesNormed_CentralVars', u'pvalues_CentralVars'], dtype='object')"
       ]
      }
     ],
     "prompt_number": 53
    },
    {
     "cell_type": "code",
     "collapsed": false,
     "input": [
      "figsize(12,8)\n",
      "outcomesToUse = df_output[group1].columns\n",
      "indices = np.arange(len(outcomesToUse))\n",
      "width = 0.35\n",
      "axes = figure().add_subplot(111)\n",
      "rects1 = bar(left=indices, width=width, height=df_output[group1].mean(), color='r')#, yerr=df_output['orig. models'].std()) #this is not relevant because we're not comparing groups\n",
      "rects2 = bar(left=indices+width, width=width, height=df_output[group2].mean(), color='y')#, yerr=df_output['cognate models'].std())\n",
      "\n",
      "# title, legend, etc\n",
      "title('Models Using Last GSS Year vs. First \"Future\" Year', fontsize=18)\n",
      "legend((rects1[0], rects2[0]), ('Last Yr.', '1st Future Yr.'), fontsize=15)\n",
      "xlim((-1*width, len(outcomesToUse)))\n",
      "\n",
      "# tick labels\n",
      "# a = outcomesToUse\n",
      "a = ['% of coeffs. stat. sign.', 'avg. coeff. size', 'R_sq.', 'adj. R_sq.', 'avg. p-value', \\\n",
      "     '\"central\" vars: % of coeffs. stat. sign.', '\"central\" vars: avg. coeff. size', '\"central\" vars: avg. p-value']\n",
      "axes.set_xticks(indices+width)\n",
      "axes.set_xticklabels(a, rotation=90, fontsize=15)\n",
      "\n",
      "# label the bars with the difference between them\n",
      "diffs = (df_output[group1] - df_output[group2]).mean().values\n",
      "def autolabel(rects):\n",
      "    # attach some text labels\n",
      "    for i, rect in enumerate(rects):\n",
      "        height = rect.get_height()\n",
      "        if i!=7 and i!=4:\n",
      "            axes.text(rect.get_x()+width, 1.02*height, '%0.3f'%diffs[i],\n",
      "                    ha='center', va='bottom', fontsize=15)\n",
      "        else: # this is for the p-value label, which has gone up\n",
      "            axes.text(rect.get_x()+width, 1.02*height+0.05, '%0.3f'%diffs[i],\n",
      "                    ha='center', va='bottom', fontsize=15)\n",
      "autolabel(rects1)\n",
      "\n",
      "# savefig('../../Images/ASA2015/models_using_last_gss_year_vs_first_future_year.png', bbox_inches='tight')"
     ],
     "language": "python",
     "metadata": {},
     "outputs": [
      {
       "metadata": {},
       "output_type": "display_data",
       "png": "[encoded data removed]",
       "text": [
        "<matplotlib.figure.Figure at 0x4243250>"
       ]
      }
     ],
     "prompt_number": 54
    },
    {
     "cell_type": "markdown",
     "metadata": {},
     "source": [
      "Perform t-tests\n",
      "--"
     ]
    },
    {
     "cell_type": "code",
     "collapsed": false,
     "input": [
      "# (df_output['adjRs','orig. models'] - df_output['adjRs','cognate models']).plot(kind='kde')\n",
      "\n",
      "from scipy.stats import ttest_1samp\n",
      "for outcome in outcomes:\n",
      "    print outcome\n",
      "    print 'mean group 1', df_output[group1, outcome].mean()\n",
      "    print 'mean group 2', df_output[group2, outcome].mean()\n",
      "    print ttest_rel(df_output[group1, outcome], df_output[group2, outcome])[1]\n",
      "    print"
     ],
     "language": "python",
     "metadata": {},
     "outputs": []
    },
    {
     "cell_type": "markdown",
     "metadata": {},
     "source": [
      "Perform t-tests and Tests using *clustered errors*\n",
      "--\n",
      "\n",
      "1. Perform related-sample t-test (samples must be of equal lengths)\n",
      "\n",
      "2. Perform independent samples t-test (just for kicks, to see how big our effects are)\n",
      "\n",
      "3. Perform clustered error tests. To do this I will do a hack by running a regression with clustered errors and using that as the t-test. Source/inspiration is: http://www.stata.com/statalist/archive/2010-05/msg00663.html\n",
      "\n",
      "Note: I am not using the 'df_correction' flag in get_robustcov_results() because that's apparently something HLM does, not canonical clustered errors:\n",
      "\"This method of correcting the standard errors to account for the intraclass correlation is a \"weaker\" form of correction than using a multilevel model, which not only accounts for the intraclass correlation, but also corrects the denominator degrees of freedom for the number of clusters.\"\n",
      "source: http://www.ats.ucla.edu/stat/stata/library/cpsu.htm\n",
      "\n",
      "Note\n",
      "--\n",
      "For some reason, I'm getting different clustered-errors-p-values when I use the 'cluster' flag in the \n",
      "fit() function vs. when I calculate the result normally and then use get_robustcov_results function on that result. The former method yields slightly smaller p-values.\n",
      "\n",
      "Outcome\n",
      "--\n",
      "The p-values are larger (for some outcomes, they are now > 0.05) but are still sufficiently small?\n"
     ]
    },
    {
     "cell_type": "code",
     "collapsed": false,
     "input": [
      "# (df_output['adjRs','orig. models'] - df_output['adjRs','cognate models']).plot(kind='kde')\n",
      "\n",
      "from scipy.stats import ttest_rel\n",
      "import statsmodels.formula.api as smf\n",
      "\n",
      "for outcome in outcomes:\n",
      "    print outcome\n",
      "    print 'Mean before substitution:', np.around(df_output[group1, outcome].mean(), 3)\n",
      "    print 'Mean after substitution:', np.around(df_output[group2, outcome].mean(), 3)\n",
      "    print 'Related samples t-test p-value:', np.around(ttest_rel(df_output[group1, outcome], df_output[group2, outcome])[1], 6)\n",
      " \n",
      "    # GET CLUSTERED ERRORS\n",
      "    # to do this run a regression Y ~ X where Y = outcomes, X = dummy {0=group1, 1=group2}\n",
      "    # 1. Define variables\n",
      "    outcomes_combined = list(df_output[group1, outcome]) + list(df_output[group2, outcome])\n",
      "    diffs = df_output[group1, outcome] - df_output[group2, outcome]\n",
      "    dummy = [0]*len(df_output[group1, outcome]) + [1]*len(df_output[group2, outcome])\n",
      "    \n",
      "    # 2. Fit models\n",
      "#     result = smf.ols(formula='y~x', data=pd.DataFrame({'y':outcomes_combined, 'x':dummy})).fit() # do I need a constant???\n",
      "#     result = smf.ols(formula='y~x-1', data=pd.DataFrame({'y':diffs, 'x':[1]*len(diffs)})).fit()\n",
      "    result_clustered = smf.ols(formula='y~x-1', \\\n",
      "                     data=pd.DataFrame({'y':diffs, 'x':[1]*len(diffs)})).fit(missing='drop', \\\n",
      "                                                                             cov_type='cluster', \\\n",
      "                                                            cov_kwds=dict(groups=df_output.article_id))\n",
      "                                                                                               \n",
      "# these two methods produce slightly different results. neither is necessary because i'm using parameters\n",
      "# of the model.fit() method above instead to use clustered standard errors.\n",
      "#     # 3. Get clustered standard errors\n",
      "#     robust_results = result.get_robustcov_results(cov_type='cluster', \n",
      "#                                                   use_correction=True,\n",
      "#                                                   groups=article_ids, # this is article_id doubled\n",
      "#                                                   df_correction=True) \n",
      "    \n",
      "#     # 3.1 Get clustered standard errors another way, by regression diffs ~ const and seeing if const!=0\n",
      "#     result_rob = result.get_robustcov_results(cov_type='cluster', \\\n",
      "#                                            groups=article_ids) # this is article_id singled\n",
      "    \n",
      "    print 'Clustered errors p-value:', np.around(result_clustered.pvalues[0], 3)    \n",
      "#     print 'clustered errors p-value:', np.around(result_rob.pvalues[0], 3)\n",
      "    print"
     ],
     "language": "python",
     "metadata": {},
     "outputs": []
    },
    {
     "cell_type": "code",
     "collapsed": false,
     "input": [],
     "language": "python",
     "metadata": {},
     "outputs": []
    },
    {
     "cell_type": "markdown",
     "metadata": {},
     "source": [
      "How many models' avg p-value is above 0.05?\n",
      "--"
     ]
    },
    {
     "cell_type": "code",
     "collapsed": false,
     "input": [
      "# need to see tally up how switched from being below to being above\n",
      "# i.e. need to condition on being below beforehand, and how many of those are above now\n",
      "\n",
      "print 'count:', df_output[group2]['pvalues'][df_output[group2]['pvalues'] > 0.05].shape[0]\n",
      "print 'total:', df_output.shape[0]\n",
      "print 'percent:', df_output[]['pvalues'][df_output['cognate models']['pvalues'] > 0.05].shape[0]/ df_output.shape[0]"
     ],
     "language": "python",
     "metadata": {},
     "outputs": []
    },
    {
     "cell_type": "code",
     "collapsed": false,
     "input": [],
     "language": "python",
     "metadata": {},
     "outputs": []
    }
   ],
   "metadata": {}
  }
 ]
}