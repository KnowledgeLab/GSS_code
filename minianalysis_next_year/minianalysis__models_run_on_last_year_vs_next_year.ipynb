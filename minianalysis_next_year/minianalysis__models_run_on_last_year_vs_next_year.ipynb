{
 "metadata": {
  "name": "",
  "signature": "sha256:c901a1da768b92ac81833a871d30370ffcb4dee6be85624bc58d8a7253270b16"
 },
 "nbformat": 3,
 "nbformat_minor": 0,
 "worksheets": [
  {
   "cells": [
    {
     "cell_type": "markdown",
     "metadata": {},
     "source": [
      "filename: minianalysis__models_run_on_last_year_vs_next_year.py\n",
      "\n",
      "description: \n",
      "    last updated: 6/13/2014\n",
      "    Run model on last year of data used vs. next available year of data, as long as it is within a provided bound    \n",
      "    \n",
      "inputs:\n",
      "\n",
      "outputs:\n",
      "\n",
      "@author: Misha\n"
     ]
    },
    {
     "cell_type": "code",
     "collapsed": false,
     "input": [
      "from __future__ import division\n",
      "import pandas as pd\n",
      "#import cPickle as cp\n",
      "\n",
      "import sys\n",
      "sys.path.append('../')    \n",
      "import GSSUtility as GU\n",
      "\n",
      "import numpy as np\n",
      "import statsmodels.formula.api as smf \n",
      "import random\n",
      "from scipy.stats import pearsonr, ttest_ind, ttest_rel\n",
      "import time\n",
      "from collections import Counter\n",
      "from collections import defaultdict\n",
      "\n",
      "import seaborn"
     ],
     "language": "python",
     "metadata": {},
     "outputs": [],
     "prompt_number": 21
    },
    {
     "cell_type": "code",
     "collapsed": false,
     "input": [
      "%rm ../GSSUtility.pyc # remove this file because otherwise it will be used instead of the updated .py file\n",
      "reload(GU)"
     ],
     "language": "python",
     "metadata": {},
     "outputs": [
      {
       "metadata": {},
       "output_type": "pyout",
       "prompt_number": 22,
       "text": [
        "<module 'GSSUtility' from '../GSSUtility.py'>"
       ]
      }
     ],
     "prompt_number": 22
    },
    {
     "cell_type": "code",
     "collapsed": false,
     "input": [
      "#*********************************************************\n",
      "allPropsForYearsUsed = []\n",
      "allPropsForYearsPossible =[]\n",
      "allParamSizesForYearsUsed = []\n",
      "allParamSizesForYearsPossible = []\n",
      "allRsForYearsUsed, allRsForYearsPossible = [], []\n",
      "\n",
      " \n",
      "############################################################\n",
      "if __name__ == \"__main__\":    \n",
      "    \n",
      "    pathToData = '../../Data/'\n",
      "    dataCont = GU.dataContainer(pathToData)\n",
      "    \n",
      "    articlesToUse = GU.filterArticles(dataCont.articleClasses, GSSYearsUsed=True, GSSYearsPossible=True, \\\n",
      "                                        centralIVs=True, nextYearBound=3) #, linearModels=True)            \n",
      "    print 'len of articleClasses:', len(articlesToUse)\n",
      "#     raw_input('...')\n",
      "    \n",
      "    # define the storage containers for outputs\n",
      "    group1 = 'on last GSS year'\n",
      "    group2 = 'on first \"future\" GSS year'   \n",
      "    groups = [group1, group2]\n",
      "    outcomes = ['propSig', 'paramSizesNormed', 'Rs', 'adjRs', 'pvalues',  'numTotal', \\\n",
      "                'propSig_CentralVars', 'paramSizesNormed_CentralVars', 'pvalues_CentralVars']\n",
      "\n",
      "    output = defaultdict(dict)\n",
      "    output['metadata'] = {'article_id':[]}\n",
      "    for group in groups:\n",
      "        for outcome in outcomes:\n",
      "            output[group][outcome] = []\n",
      "            \n",
      "           \n",
      "#     for article in random.sample(articlesToUse, 50):\n",
      "    for article in articlesToUse:\n",
      "    #for article in [a for a in articlesToUse if a.articleID == 6755]:\n",
      "    \n",
      "        print 'Processing article:', article.articleID\n",
      "        \n",
      "        RHS = article.IVs + article.controls\n",
      "        \n",
      "        for DV in article.DVs:\n",
      "#             print DV, '~', RHS\n",
      "            maxYearUsed = max(article.GSSYearsUsed)\n",
      "            futureYearsPossible = [yr for yr in article.GSSYearsPossible if yr > maxYearUsed]\n",
      "            nextYear = min(futureYearsPossible) # the arguments of GU.filterArticles function ensure that there is a suitable future year (within bound)\n",
      "            \n",
      "            resOnDataUsed = GU.runModel(dataCont, maxYearUsed, DV, RHS) # models run on max year of data used\n",
      "            if not resOnDataUsed: continue\n",
      "            resOnNextYear = GU.runModel(dataCont, nextYear, DV, RHS) # models run on min year of future data\n",
      "            if not resOnNextYear: continue\n",
      "            \n",
      "            # Checks on which results to record                \n",
      "            if len(resOnDataUsed.params) != len(resOnNextYear.params):\n",
      "                print 'The number of variables in original model is different from the number in model on future years. Skipping.'                    \n",
      "                continue\n",
      "            \n",
      "            # the condition below means that i don't care about models in which orig var isn't stat. sig.\n",
      "#            if results.pvalues[-1] > 0.05: continue\n",
      "            results = [resOnDataUsed, resOnNextYear]\n",
      " \n",
      "            centralVars = []            \n",
      "            for civ in article.centralIVs:\n",
      "                if 'standardize(%s, ddof=1)' % (civ) in results[0].params.index:\n",
      "                    centralVars.append('standardize(%s, ddof=1)' % (civ))\n",
      "                else: \n",
      "                    for col in results[0].params.index:\n",
      "                        if 'C(' + civ + ')' in col:\n",
      "                            centralVars.append(col)\n",
      " \n",
      "#             print 'IVs:', article.IVs\n",
      "#             print 'centralVas:', centralVars\n",
      "#            raw_input('...')\n",
      "            '''                \n",
      "            centralVars = ['standardize(%s, ddof=1)' % (cv) for cv in article.centralIVs]\n",
      "            centralVars = set(centralVars).intersection(results[0].params.index) # need this step because some central                                                                                            # var columns may be removed when running model\n",
      "            '''\n",
      "\n",
      "            # The reasoning for the condition below is that authors make two types of arguments for \"central\" variables, \n",
      "            # (1) that the central variable is really important, p < 0.05, or (2) that the central variable is not important (p > 0.05). \n",
      "            # What we want to test by replacing the variable with a cognate are arguments of type (1). \n",
      "            # Arguments of type (2) are important and testable too, but if we test all of these together, we will obscure both effects.\n",
      "            # So the condition below ensures that at least one of the central variables was found to be \"important\" in the original \n",
      "            # article.\n",
      "            # This throws away 67 observations.\n",
      "#             if np.all(results[0].pvalues[centralVars] > 0.05): \n",
      "#                 print 'All \"central\" IVs are p > 0.05. Skipping.'\n",
      "#                 continue\n",
      "                \n",
      "            for i in range(2):                 \n",
      "                output[groups[i]]['Rs'].append(results[i].rsquared) \n",
      "                output[groups[i]]['adjRs'].append(results[i].rsquared_adj) \n",
      "                output[groups[i]]['propSig'].append(float(len([p for p in results[i].pvalues[1:] if p < 0.05]))/len(results[i].params[1:])) \n",
      "                output[groups[i]]['paramSizesNormed'].append(np.mean(results[i].params[1:].abs())) \n",
      "                output[groups[i]]['pvalues'].append(np.mean( results[i].pvalues[1:]))\n",
      "                output[groups[i]]['numTotal'].append( 1 ) #divide by len of R^2 array to get a mean of variables estimated PER model                           \n",
      "                \n",
      "#                 if len(centralVars)>0:\n",
      "                output[groups[i]]['pvalues_CentralVars'].append(np.mean(results[i].pvalues[centralVars]))               \n",
      "                output[groups[i]]['propSig_CentralVars'].append(float(len([p for p in results[i].pvalues[centralVars] if p < 0.05])) \\\n",
      "                                                        /len(results[i].params[centralVars])) \n",
      "                output[groups[i]]['paramSizesNormed_CentralVars'].append(np.mean(results[i].params[centralVars].abs()))                \n",
      "        \n",
      "            output['metadata']['article_id'].append(article.articleID)                 \n",
      "     \n",
      "   \n",
      "    \n",
      "#     print 'TTests'\n",
      "#     for outcome in outcomes:\n",
      "#         print 'Means of group1 and group2:', np.mean(output[group1][outcome]), np.mean(output[group2][outcome]), 'Paired T-test of ' + outcome, ttest_rel(output[group1][outcome], output[group2][outcome])\n"
     ],
     "language": "python",
     "metadata": {},
     "outputs": [
      {
       "output_type": "stream",
       "stream": "stdout",
       "text": [
        "len of articleClasses: 435\n",
        "Processing article: 9\n",
        "IV OCC is of type \"DONOTUSE\"\n",
        "IV WRKSTAT is of type \"DONOTUSE\"\n",
        "IV OCC is of type \"DONOTUSE\""
       ]
      },
      {
       "output_type": "stream",
       "stream": "stdout",
       "text": [
        "\n",
        "IV WRKSTAT is of type \"DONOTUSE\"\n",
        "IV OCC is of type \"DONOTUSE\""
       ]
      },
      {
       "output_type": "stream",
       "stream": "stdout",
       "text": [
        "\n",
        "IV WRKSTAT is of type \"DONOTUSE\"\n",
        "IV OCC is of type \"DONOTUSE\""
       ]
      },
      {
       "output_type": "stream",
       "stream": "stdout",
       "text": [
        "\n",
        "IV WRKSTAT is of type \"DONOTUSE\"\n",
        "IV OCC is of type \"DONOTUSE\""
       ]
      },
      {
       "output_type": "stream",
       "stream": "stdout",
       "text": [
        "\n",
        "IV WRKSTAT is of type \"DONOTUSE\"\n",
        "IV OCC is of type \"DONOTUSE\""
       ]
      },
      {
       "output_type": "stream",
       "stream": "stdout",
       "text": [
        "\n",
        "IV WRKSTAT is of type \"DONOTUSE\"\n",
        "IV OCC is of type \"DONOTUSE\""
       ]
      },
      {
       "output_type": "stream",
       "stream": "stdout",
       "text": [
        "\n",
        "IV WRKSTAT is of type \"DONOTUSE\"\n",
        "IV OCC is of type \"DONOTUSE\""
       ]
      },
      {
       "output_type": "stream",
       "stream": "stdout",
       "text": [
        "\n",
        "IV WRKSTAT is of type \"DONOTUSE\"\n",
        "IV OCC is of type \"DONOTUSE\""
       ]
      },
      {
       "output_type": "stream",
       "stream": "stdout",
       "text": [
        "\n",
        "IV WRKSTAT is of type \"DONOTUSE\"\n",
        "IV OCC is of type \"DONOTUSE\""
       ]
      }
     ]
    },
    {
     "cell_type": "markdown",
     "metadata": {},
     "source": [
      "Create dataframe that contains the output \n",
      "--"
     ]
    },
    {
     "cell_type": "code",
     "collapsed": false,
     "input": [
      "df_output = pd.DataFrame(index=arange(len(output[group1]['propSig'])), columns=pd.MultiIndex.from_product([groups, outcomes]))\n",
      "df_output.columns.names = ['outcome','group']\n",
      "for outcome in outcomes:\n",
      "    for gp in groups:\n",
      "        df_output[gp, outcome] = output[gp][outcome]\n",
      "df_output['article_id'] = output['metadata']['article_id']\n",
      "del df_output[group1, 'numTotal']\n",
      "del df_output[group2, 'numTotal']\n",
      "# df_output"
     ],
     "language": "python",
     "metadata": {},
     "outputs": [
      {
       "ename": "ValueError",
       "evalue": "Length of values does not match length of index",
       "output_type": "pyerr",
       "traceback": [
        "\u001b[1;31m---------------------------------------------------------------------------\u001b[0m\n\u001b[1;31mValueError\u001b[0m                                Traceback (most recent call last)",
        "\u001b[1;32m<ipython-input-23-0695d6702065>\u001b[0m in \u001b[0;36m<module>\u001b[1;34m()\u001b[0m\n\u001b[0;32m      3\u001b[0m \u001b[1;32mfor\u001b[0m \u001b[0moutcome\u001b[0m \u001b[1;32min\u001b[0m \u001b[0moutcomes\u001b[0m\u001b[1;33m:\u001b[0m\u001b[1;33m\u001b[0m\u001b[0m\n\u001b[0;32m      4\u001b[0m     \u001b[1;32mfor\u001b[0m \u001b[0mgp\u001b[0m \u001b[1;32min\u001b[0m \u001b[0mgroups\u001b[0m\u001b[1;33m:\u001b[0m\u001b[1;33m\u001b[0m\u001b[0m\n\u001b[1;32m----> 5\u001b[1;33m         \u001b[0mdf_output\u001b[0m\u001b[1;33m[\u001b[0m\u001b[0mgp\u001b[0m\u001b[1;33m,\u001b[0m \u001b[0moutcome\u001b[0m\u001b[1;33m]\u001b[0m \u001b[1;33m=\u001b[0m \u001b[0moutput\u001b[0m\u001b[1;33m[\u001b[0m\u001b[0mgp\u001b[0m\u001b[1;33m]\u001b[0m\u001b[1;33m[\u001b[0m\u001b[0moutcome\u001b[0m\u001b[1;33m]\u001b[0m\u001b[1;33m\u001b[0m\u001b[0m\n\u001b[0m\u001b[0;32m      6\u001b[0m \u001b[0mdf_output\u001b[0m\u001b[1;33m[\u001b[0m\u001b[1;34m'article_id'\u001b[0m\u001b[1;33m]\u001b[0m \u001b[1;33m=\u001b[0m \u001b[0moutput\u001b[0m\u001b[1;33m[\u001b[0m\u001b[1;34m'metadata'\u001b[0m\u001b[1;33m]\u001b[0m\u001b[1;33m[\u001b[0m\u001b[1;34m'article_id'\u001b[0m\u001b[1;33m]\u001b[0m\u001b[1;33m\u001b[0m\u001b[0m\n\u001b[0;32m      7\u001b[0m \u001b[1;32mdel\u001b[0m \u001b[0mdf_output\u001b[0m\u001b[1;33m[\u001b[0m\u001b[0mgroup1\u001b[0m\u001b[1;33m,\u001b[0m \u001b[1;34m'numTotal'\u001b[0m\u001b[1;33m]\u001b[0m\u001b[1;33m\u001b[0m\u001b[0m\n",
        "\u001b[1;32m/home/misha/python/pandas-0.14.1-py2.7-linux-x86_64.egg/pandas/core/frame.pyc\u001b[0m in \u001b[0;36m__setitem__\u001b[1;34m(self, key, value)\u001b[0m\n\u001b[0;32m   2005\u001b[0m         \u001b[1;32melse\u001b[0m\u001b[1;33m:\u001b[0m\u001b[1;33m\u001b[0m\u001b[0m\n\u001b[0;32m   2006\u001b[0m             \u001b[1;31m# set column\u001b[0m\u001b[1;33m\u001b[0m\u001b[1;33m\u001b[0m\u001b[0m\n\u001b[1;32m-> 2007\u001b[1;33m             \u001b[0mself\u001b[0m\u001b[1;33m.\u001b[0m\u001b[0m_set_item\u001b[0m\u001b[1;33m(\u001b[0m\u001b[0mkey\u001b[0m\u001b[1;33m,\u001b[0m \u001b[0mvalue\u001b[0m\u001b[1;33m)\u001b[0m\u001b[1;33m\u001b[0m\u001b[0m\n\u001b[0m\u001b[0;32m   2008\u001b[0m \u001b[1;33m\u001b[0m\u001b[0m\n\u001b[0;32m   2009\u001b[0m     \u001b[1;32mdef\u001b[0m \u001b[0m_setitem_slice\u001b[0m\u001b[1;33m(\u001b[0m\u001b[0mself\u001b[0m\u001b[1;33m,\u001b[0m \u001b[0mkey\u001b[0m\u001b[1;33m,\u001b[0m \u001b[0mvalue\u001b[0m\u001b[1;33m)\u001b[0m\u001b[1;33m:\u001b[0m\u001b[1;33m\u001b[0m\u001b[0m\n",
        "\u001b[1;32m/home/misha/python/pandas-0.14.1-py2.7-linux-x86_64.egg/pandas/core/frame.pyc\u001b[0m in \u001b[0;36m_set_item\u001b[1;34m(self, key, value)\u001b[0m\n\u001b[0;32m   2083\u001b[0m         \u001b[0mis_existing\u001b[0m \u001b[1;33m=\u001b[0m \u001b[0mkey\u001b[0m \u001b[1;32min\u001b[0m \u001b[0mself\u001b[0m\u001b[1;33m.\u001b[0m\u001b[0mcolumns\u001b[0m\u001b[1;33m\u001b[0m\u001b[0m\n\u001b[0;32m   2084\u001b[0m         \u001b[0mself\u001b[0m\u001b[1;33m.\u001b[0m\u001b[0m_ensure_valid_index\u001b[0m\u001b[1;33m(\u001b[0m\u001b[0mvalue\u001b[0m\u001b[1;33m)\u001b[0m\u001b[1;33m\u001b[0m\u001b[0m\n\u001b[1;32m-> 2085\u001b[1;33m         \u001b[0mvalue\u001b[0m \u001b[1;33m=\u001b[0m \u001b[0mself\u001b[0m\u001b[1;33m.\u001b[0m\u001b[0m_sanitize_column\u001b[0m\u001b[1;33m(\u001b[0m\u001b[0mkey\u001b[0m\u001b[1;33m,\u001b[0m \u001b[0mvalue\u001b[0m\u001b[1;33m)\u001b[0m\u001b[1;33m\u001b[0m\u001b[0m\n\u001b[0m\u001b[0;32m   2086\u001b[0m         \u001b[0mNDFrame\u001b[0m\u001b[1;33m.\u001b[0m\u001b[0m_set_item\u001b[0m\u001b[1;33m(\u001b[0m\u001b[0mself\u001b[0m\u001b[1;33m,\u001b[0m \u001b[0mkey\u001b[0m\u001b[1;33m,\u001b[0m \u001b[0mvalue\u001b[0m\u001b[1;33m)\u001b[0m\u001b[1;33m\u001b[0m\u001b[0m\n\u001b[0;32m   2087\u001b[0m \u001b[1;33m\u001b[0m\u001b[0m\n",
        "\u001b[1;32m/home/misha/python/pandas-0.14.1-py2.7-linux-x86_64.egg/pandas/core/frame.pyc\u001b[0m in \u001b[0;36m_sanitize_column\u001b[1;34m(self, key, value)\u001b[0m\n\u001b[0;32m   2139\u001b[0m         \u001b[1;32melif\u001b[0m \u001b[0misinstance\u001b[0m\u001b[1;33m(\u001b[0m\u001b[0mvalue\u001b[0m\u001b[1;33m,\u001b[0m \u001b[0mIndex\u001b[0m\u001b[1;33m)\u001b[0m \u001b[1;32mor\u001b[0m \u001b[0m_is_sequence\u001b[0m\u001b[1;33m(\u001b[0m\u001b[0mvalue\u001b[0m\u001b[1;33m)\u001b[0m\u001b[1;33m:\u001b[0m\u001b[1;33m\u001b[0m\u001b[0m\n\u001b[0;32m   2140\u001b[0m             \u001b[1;32mif\u001b[0m \u001b[0mlen\u001b[0m\u001b[1;33m(\u001b[0m\u001b[0mvalue\u001b[0m\u001b[1;33m)\u001b[0m \u001b[1;33m!=\u001b[0m \u001b[0mlen\u001b[0m\u001b[1;33m(\u001b[0m\u001b[0mself\u001b[0m\u001b[1;33m.\u001b[0m\u001b[0mindex\u001b[0m\u001b[1;33m)\u001b[0m\u001b[1;33m:\u001b[0m\u001b[1;33m\u001b[0m\u001b[0m\n\u001b[1;32m-> 2141\u001b[1;33m                 raise ValueError('Length of values does not match length of '\n\u001b[0m\u001b[0;32m   2142\u001b[0m                                  'index')\n\u001b[0;32m   2143\u001b[0m \u001b[1;33m\u001b[0m\u001b[0m\n",
        "\u001b[1;31mValueError\u001b[0m: Length of values does not match length of index"
       ]
      }
     ],
     "prompt_number": 23
    },
    {
     "cell_type": "code",
     "collapsed": false,
     "input": [
      "outcomes.remove('numTotal')"
     ],
     "language": "python",
     "metadata": {},
     "outputs": [],
     "prompt_number": 24
    },
    {
     "cell_type": "markdown",
     "metadata": {},
     "source": [
      "###Number of unique articles used"
     ]
    },
    {
     "cell_type": "code",
     "collapsed": false,
     "input": [
      "len(df_output['article_id'].unique())"
     ],
     "language": "python",
     "metadata": {},
     "outputs": [
      {
       "metadata": {},
       "output_type": "pyout",
       "prompt_number": 15,
       "text": [
        "13"
       ]
      }
     ],
     "prompt_number": 15
    },
    {
     "cell_type": "markdown",
     "metadata": {},
     "source": [
      "Plot the output\n",
      "--"
     ]
    },
    {
     "cell_type": "code",
     "collapsed": false,
     "input": [
      "outcomesToUse"
     ],
     "language": "python",
     "metadata": {},
     "outputs": [
      {
       "ename": "NameError",
       "evalue": "name 'outcomesToUse' is not defined",
       "output_type": "pyerr",
       "traceback": [
        "\u001b[1;31m---------------------------------------------------------------------------\u001b[0m\n\u001b[1;31mNameError\u001b[0m                                 Traceback (most recent call last)",
        "\u001b[1;32m<ipython-input-16-6771a5711dce>\u001b[0m in \u001b[0;36m<module>\u001b[1;34m()\u001b[0m\n\u001b[1;32m----> 1\u001b[1;33m \u001b[0moutcomesToUse\u001b[0m\u001b[1;33m\u001b[0m\u001b[0m\n\u001b[0m",
        "\u001b[1;31mNameError\u001b[0m: name 'outcomesToUse' is not defined"
       ]
      }
     ],
     "prompt_number": 16
    },
    {
     "cell_type": "code",
     "collapsed": false,
     "input": [
      "figsize(12,8)\n",
      "outcomesToUse = df_output[group1].columns\n",
      "indices = np.arange(len(outcomesToUse))\n",
      "width = 0.35\n",
      "axes = figure().add_subplot(111)\n",
      "rects1 = bar(left=indices, width=width, height=df_output[group1].mean(), color='r')#, yerr=df_output['orig. models'].std()) #this is not relevant because we're not comparing groups\n",
      "rects2 = bar(left=indices+width, width=width, height=df_output[group2].mean(), color='y')#, yerr=df_output['cognate models'].std())\n",
      "\n",
      "# title, legend, etc\n",
      "title('Models Using Last GSS Year vs. First \"Future\" Year', fontsize=18)\n",
      "legend((rects1[0], rects2[0]), ('Last Yr.', '1st Future Yr.'), fontsize=15)\n",
      "xlim((-1*width, len(outcomesToUse)))\n",
      "\n",
      "# tick labels\n",
      "# a = outcomesToUse\n",
      "a = ['% of coeffs. stat. sign.', 'avg. coeff. size', 'R_sq.', 'adj. R_sq.', 'avg. p-value', \\\n",
      "     '\"central\" vars: % of coeffs. stat. sign.', '\"central\" vars: avg. coeff. size', '\"central\" vars: avg. p-value']\n",
      "axes.set_xticks(indices+width)\n",
      "axes.set_xticklabels(a, rotation=90, fontsize=15)\n",
      "\n",
      "# label the bars with the difference between them\n",
      "diffs = (df_output[group1] - df_output[group2]).mean().values\n",
      "def autolabel(rects):\n",
      "    # attach some text labels\n",
      "    for i, rect in enumerate(rects):\n",
      "        height = rect.get_height()\n",
      "        if i!=7 and i!=4:\n",
      "            axes.text(rect.get_x()+width, 1.02*height, '%0.3f'%diffs[i],\n",
      "                    ha='center', va='bottom', fontsize=15)\n",
      "        else: # this is for the p-value label, which has gone up\n",
      "            axes.text(rect.get_x()+width, 1.02*height+0.05, '%0.3f'%diffs[i],\n",
      "                    ha='center', va='bottom', fontsize=15)\n",
      "autolabel(rects1)\n",
      "\n",
      "# savefig('../../Images/ASA2015/models_using_last_gss_year_vs_first_future_year.png', bbox_inches='tight')"
     ],
     "language": "python",
     "metadata": {},
     "outputs": [
      {
       "metadata": {},
       "output_type": "display_data",
       "png": "[encoded data removed]",
       "text": [
        "<matplotlib.figure.Figure at 0x5f78910>"
       ]
      }
     ],
     "prompt_number": 17
    },
    {
     "cell_type": "markdown",
     "metadata": {},
     "source": [
      "Perform t-tests\n",
      "--"
     ]
    },
    {
     "cell_type": "code",
     "collapsed": false,
     "input": [
      "# (df_output['adjRs','orig. models'] - df_output['adjRs','cognate models']).plot(kind='kde')\n",
      "\n",
      "from scipy.stats import ttest_1samp\n",
      "for outcome in outcomes:\n",
      "    print outcome\n",
      "    print 'mean group 1', df_output[group1, outcome].mean()\n",
      "    print 'mean group 2', df_output[group2, outcome].mean()\n",
      "    print ttest_rel(df_output[group1, outcome], df_output[group2, outcome])[1]\n",
      "    print"
     ],
     "language": "python",
     "metadata": {},
     "outputs": []
    },
    {
     "cell_type": "markdown",
     "metadata": {},
     "source": [
      "Perform t-tests and Tests using *clustered errors*\n",
      "--\n",
      "\n",
      "1. Perform related-sample t-test (samples must be of equal lengths)\n",
      "\n",
      "2. Perform independent samples t-test (just for kicks, to see how big our effects are)\n",
      "\n",
      "3. Perform clustered error tests. To do this I will do a hack by running a regression with clustered errors and using that as the t-test. Source/inspiration is: http://www.stata.com/statalist/archive/2010-05/msg00663.html\n",
      "\n",
      "Note: I am not using the 'df_correction' flag in get_robustcov_results() because that's apparently something HLM does, not canonical clustered errors:\n",
      "\"This method of correcting the standard errors to account for the intraclass correlation is a \"weaker\" form of correction than using a multilevel model, which not only accounts for the intraclass correlation, but also corrects the denominator degrees of freedom for the number of clusters.\"\n",
      "source: http://www.ats.ucla.edu/stat/stata/library/cpsu.htm\n",
      "\n",
      "Note\n",
      "--\n",
      "For some reason, I'm getting different clustered-errors-p-values when I use the 'cluster' flag in the \n",
      "fit() function vs. when I calculate the result normally and then use get_robustcov_results function on that result. The former method yields slightly smaller p-values.\n",
      "\n",
      "Outcome\n",
      "--\n",
      "The p-values are larger (for some outcomes, they are now > 0.05) but are still sufficiently small?\n"
     ]
    },
    {
     "cell_type": "code",
     "collapsed": false,
     "input": [
      "# (df_output['adjRs','orig. models'] - df_output['adjRs','cognate models']).plot(kind='kde')\n",
      "\n",
      "from scipy.stats import ttest_rel\n",
      "import statsmodels.formula.api as smf\n",
      "\n",
      "for outcome in outcomes:\n",
      "    print outcome\n",
      "    print 'Mean before substitution:', np.around(df_output[group1, outcome].mean(), 3)\n",
      "    print 'Mean after substitution:', np.around(df_output[group2, outcome].mean(), 3)\n",
      "    print 'Related samples t-test p-value:', np.around(ttest_rel(df_output[group1, outcome], df_output[group2, outcome])[1], 6)\n",
      " \n",
      "    # GET CLUSTERED ERRORS\n",
      "    # to do this run a regression Y ~ X where Y = outcomes, X = dummy {0=group1, 1=group2}\n",
      "    # 1. Define variables\n",
      "    outcomes_combined = list(df_output[group1, outcome]) + list(df_output[group2, outcome])\n",
      "    diffs = df_output[group1, outcome] - df_output[group2, outcome]\n",
      "    dummy = [0]*len(df_output[group1, outcome]) + [1]*len(df_output[group2, outcome])\n",
      "    \n",
      "    # 2. Fit models\n",
      "#     result = smf.ols(formula='y~x', data=pd.DataFrame({'y':outcomes_combined, 'x':dummy})).fit() # do I need a constant???\n",
      "#     result = smf.ols(formula='y~x-1', data=pd.DataFrame({'y':diffs, 'x':[1]*len(diffs)})).fit()\n",
      "    result_clustered = smf.ols(formula='y~x-1', \\\n",
      "                     data=pd.DataFrame({'y':diffs, 'x':[1]*len(diffs)})).fit(missing='drop', \\\n",
      "                                                                             cov_type='cluster', \\\n",
      "                                                            cov_kwds=dict(groups=df_output.article_id))\n",
      "                                                                                               \n",
      "# these two methods produce slightly different results. neither is necessary because i'm using parameters\n",
      "# of the model.fit() method above instead to use clustered standard errors.\n",
      "#     # 3. Get clustered standard errors\n",
      "#     robust_results = result.get_robustcov_results(cov_type='cluster', \n",
      "#                                                   use_correction=True,\n",
      "#                                                   groups=article_ids, # this is article_id doubled\n",
      "#                                                   df_correction=True) \n",
      "    \n",
      "#     # 3.1 Get clustered standard errors another way, by regression diffs ~ const and seeing if const!=0\n",
      "#     result_rob = result.get_robustcov_results(cov_type='cluster', \\\n",
      "#                                            groups=article_ids) # this is article_id singled\n",
      "    \n",
      "    print 'Clustered errors p-value:', np.around(result_clustered.pvalues[0], 3)    \n",
      "#     print 'clustered errors p-value:', np.around(result_rob.pvalues[0], 3)\n",
      "    print"
     ],
     "language": "python",
     "metadata": {},
     "outputs": []
    },
    {
     "cell_type": "code",
     "collapsed": false,
     "input": [],
     "language": "python",
     "metadata": {},
     "outputs": []
    },
    {
     "cell_type": "markdown",
     "metadata": {},
     "source": [
      "How many models' avg p-value is above 0.05?\n",
      "--"
     ]
    },
    {
     "cell_type": "code",
     "collapsed": false,
     "input": [
      "# need to see tally up how switched from being below to being above\n",
      "# i.e. need to condition on being below beforehand, and how many of those are above now\n",
      "\n",
      "print 'count:', df_output[group2]['pvalues'][df_output[group2]['pvalues'] > 0.05].shape[0]\n",
      "print 'total:', df_output.shape[0]\n",
      "print 'percent:', df_output[]['pvalues'][df_output['cognate models']['pvalues'] > 0.05].shape[0]/ df_output.shape[0]"
     ],
     "language": "python",
     "metadata": {},
     "outputs": []
    },
    {
     "cell_type": "code",
     "collapsed": false,
     "input": [],
     "language": "python",
     "metadata": {},
     "outputs": []
    }
   ],
   "metadata": {}
  }
 ]
}