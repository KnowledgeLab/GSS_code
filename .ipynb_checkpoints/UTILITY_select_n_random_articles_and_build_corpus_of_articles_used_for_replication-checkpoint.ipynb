{
 "cells": [
  {
   "cell_type": "code",
   "execution_count": null,
   "metadata": {
    "collapsed": true
   },
   "outputs": [],
   "source": [
    "#######################\n",
    "# this is an improvement over the code: GSSproject/Code/DEPRECATED--get-random-articles-from-articleClasses-pickle.py"
   ]
  },
  {
   "cell_type": "code",
   "execution_count": 2,
   "metadata": {
    "collapsed": false
   },
   "outputs": [],
   "source": [
    "import cPickle as cp\n",
    "from random import sample\n",
    "import sys\n",
    "import pandas as pd\n",
    "import pickle\n",
    "\n",
    "sys.path.append('../')    \n",
    "import GSSUtility as GU\n",
    "sys.path.append('../Code/')\n",
    "from articleClass import *"
   ]
  },
  {
   "cell_type": "code",
   "execution_count": null,
   "metadata": {
    "collapsed": true
   },
   "outputs": [],
   "source": [
    "pathToData = '../Data/'\n",
    "articleClasses = cp.load(open(pathToData + 'articleClasses.pickle', 'rb'))\n"
   ]
  },
  {
   "cell_type": "code",
   "execution_count": 13,
   "metadata": {
    "collapsed": false
   },
   "outputs": [],
   "source": [
    "def filterArticles(articleClasses, GSSYearsUsed=True, GSSYearsPossible=False, unusedGSSYears=False, noIVs=True, noDVs=True, \\\n",
    "                    centralIVs=False, nextYearBound=0, yearPublished=False, linearModels=False, GSSCentralVariable=False):\n",
    "    '''\n",
    "    This function filters the articleClasses list according to the following criteria.\n",
    "    arguments:\n",
    "     - noIVs: skip if no IVs specified\n",
    "     - noDVs: skip if no DVs specified\n",
    "     - GSSYearsPossible: skip if there are no GSS years possible besides the ones the article used\n",
    "     - unusedGSSYears=False: If True, then keep only those articles which have some GSS Years they could have used, but didn't\n",
    "     - centralIV: skip if there is no IV(s) designated as \"central\"\n",
    "     - nextYearBound = int: skip if next future year of data is not within \"int\" of last year used\n",
    "                     = 0 by default, in which case it's not used\n",
    "     - yearPublished=False: if set to True, yearPublished is required to be not None\n",
    "     - GSSCentralVariable=False: if True, keep only those articles where GSSCentralVariable is True in the mysql\n",
    "                                 table gss_question\n",
    "     - linearModels=False: if True, keep only those articles where model type is .. and I should think about what to use here.\n",
    "     - TODO: ADD AN \"UNUSED YEARS\" filter\n",
    "    '''\n",
    "    indicesToKeep = []\n",
    "    \n",
    "    pathToData = '../Data/'\n",
    "    if GSSCentralVariable:\n",
    "        gssCentral = cp.load(open(pathToData + 'ARTICLEID_GSS_CENTRAL_VARIABLE.pickle', 'rb'))\n",
    "\n",
    "    if linearModels:\n",
    "        modelUsed = pd.read_pickle(pathToData + 'ARTICLEID_AND_TRUE_IF_LINEAR_NONLINEAR.pickle')\n",
    "\n",
    "    for ind, a in enumerate(articleClasses):  # a = article\n",
    "        \n",
    "        # skip article if there is no info on DVs or IVs\n",
    "        # Should we change this to skip only if BOTH controls AND IVs are not there?\n",
    "        if noDVs:\n",
    "            if len(a.DVs) < 1: continue\n",
    "        \n",
    "        if noIVs: \n",
    "            if len(a.IVs) < 1: continue\n",
    "\n",
    "        if GSSYearsUsed:         \n",
    "            # if there is no used years of GSS possible to run the data on, then just skip this article\n",
    "            if len(a.GSSYearsUsed) < 1: continue\n",
    "            \n",
    "        if GSSYearsPossible:         \n",
    "            # if there is no un-used years of GSS possible to run the data on, then just skip this article\n",
    "            if len(a.GSSYearsPossible) < 1: continue\n",
    "\n",
    "        if unusedGSSYears:\n",
    "            unusedEarlyYears = [yr for yr in a.GSSYearsPossible if yr <= max(a.GSSYearsUsed)]\n",
    "            if len(unusedEarlyYears)==0: continue\n",
    "            \n",
    "        if centralIVs:    \n",
    "            # if GSS is not the central dataset used then skip\n",
    "            if len(a.centralIVs) < 1: continue\n",
    "                   \n",
    "        if nextYearBound:\n",
    "            # nextYear is an integer that specifies how soon the next available year of data is supposed to be.\n",
    "            # e.g. if nextYearBound = 4, then the new future year of data is to occur within 4 years of the last year of data\n",
    "            # actually used. \n",
    "            maxYearUsed = max(a.GSSYearsUsed)\n",
    "            futureYearsPossible = [yr for yr in a.GSSYearsPossible if yr > maxYearUsed]\n",
    "            if not futureYearsPossible or min(futureYearsPossible) > maxYearUsed + nextYearBound: continue\n",
    "                   \n",
    "        if yearPublished:\n",
    "            if not a.yearPublished: continue\n",
    "                        \n",
    "        if GSSCentralVariable:\n",
    "            if a.articleID not in gssCentral or gssCentral[a.articleID]==False: continue\n",
    "        \n",
    "        if linearModels:\n",
    "            if a.articleID not in modelUsed: continue            \n",
    "            \n",
    "            \n",
    "            \n",
    "                \n",
    "        # if the article survived all of the checks above add it to the list\n",
    "        indicesToKeep.append(ind)\n",
    "    \n",
    "    return [articleClasses[ind] for ind in indicesToKeep] # return elements that have survived\n",
    "                                                            # the filtering\n",
    "\n",
    "\n",
    "articlesToUse = filterArticles(articleClasses, GSSYearsUsed=True, GSSYearsPossible=True, \\\n",
    "                                    centralIVs=True, nextYearBound=3, linearModels=True)            \n"
   ]
  },
  {
   "cell_type": "code",
   "execution_count": 15,
   "metadata": {
    "collapsed": false
   },
   "outputs": [
    {
     "name": "stdout",
     "output_type": "stream",
     "text": [
      "[3298, 1717, 4979, 6776, 5374, 3846, 6160, 7567, 1307, 657, 2943, 4374, 1569, 6734, 356, 3568, 5377, 1957, 2179, 2308]\n"
     ]
    }
   ],
   "source": [
    "print sample([int(el.articleID) for el in articlesToUse], 20)"
   ]
  },
  {
   "cell_type": "code",
   "execution_count": null,
   "metadata": {
    "collapsed": true
   },
   "outputs": [],
   "source": []
  }
 ],
 "metadata": {
  "kernelspec": {
   "display_name": "Python 2",
   "language": "python",
   "name": "python2"
  },
  "language_info": {
   "codemirror_mode": {
    "name": "ipython",
    "version": 2
   },
   "file_extension": ".py",
   "mimetype": "text/x-python",
   "name": "python",
   "nbconvert_exporter": "python",
   "pygments_lexer": "ipython2",
   "version": "2.7.3"
  }
 },
 "nbformat": 4,
 "nbformat_minor": 0
}
