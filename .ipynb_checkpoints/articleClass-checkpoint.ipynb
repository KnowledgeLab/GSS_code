{
 "metadata": {
  "name": "",
  "signature": "sha256:2a8f71526d73207a1d6c0e3573e0c548a81c03dcb107eefdd040cb79c42724ab"
 },
 "nbformat": 3,
 "nbformat_minor": 0,
 "worksheets": []
}