{
 "metadata": {
  "name": "",
  "signature": "sha256:3347a993fd9b22067a82108dca5f57068b071a0a52f90fdfcdb7e10d28cabfdc"
 },
 "nbformat": 3,
 "nbformat_minor": 0,
 "worksheets": [
  {
   "cells": [
    {
     "cell_type": "code",
     "collapsed": false,
     "input": [
      "# -*- coding: utf-8 -*-\n",
      "\"\"\"\n",
      "Created on Mon Sep 09 13:57:25 2013\n",
      "\n",
      "@author: Misha\n",
      "\"\"\"\n",
      "\n",
      "class articleClass():\n",
      "    # attributes\n",
      "    articleID = None\n",
      "    IVs = []\n",
      "    DV = []\n",
      "    controls = []\n",
      "    centralIVs = []\n",
      "    GSSYearsUsed = []\n",
      "    GSSYearsPossible = []\n",
      "    missingValues = [] #? \n",
      "    '''there's a missingValues dict in the data file missingValues = {\"someNumvar1\": {\"values\": [999, -1, -2]},  # discrete values\n",
      "                 \"someNumvar2\": {\"lower\": -9, \"upper\": -1}, # range, cf. MISSING VALUES x (-9 THRU -1)\n",
      "                 \"someNumvar3\": {\"lower\": -9, \"upper\": -1, \"value\": 999},\n",
      "                 \"someStrvar1\": {\"values\": [\"foo\", \"bar\", \"baz\"]},\n",
      "                 \"someStrvar2\": {\"values': \"bletch\"}}\n",
      "                 '''\n",
      "    yearPublished = None\n",
      "    \n",
      "    # methods\n",
      "    def __init__(self, articleID=None, IVs=[], DVs=[], controls=[], centralIVs=[], GSSYearsUsed=[], GSSYearsPossible=[], yearPublished=None):\n",
      "        self.articleID = articleID\n",
      "        self.IVs = IVs\n",
      "        self.DVs = DVs\n",
      "        self.controls = controls\n",
      "        self.centralIVs = centralIVs\n",
      "        self.GSSYearsUsed = GSSYearsUsed\n",
      "        self.GSSYearsPossible = GSSYearsPossible\n",
      "        self.yearPublished = yearPublished\n"
     ],
     "language": "python",
     "metadata": {},
     "outputs": []
    }
   ],
   "metadata": {}
  }
 ]
}