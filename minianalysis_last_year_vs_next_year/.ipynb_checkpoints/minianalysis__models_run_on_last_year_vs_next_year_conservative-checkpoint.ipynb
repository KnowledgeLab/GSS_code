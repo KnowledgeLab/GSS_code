{
 "cells": [
  {
   "cell_type": "markdown",
   "metadata": {},
   "source": [
    "filename: minianalysis__models_run_on_last_year_vs_next_year_conservative_SEs\n",
    "\n",
    "description: \n",
    "- updated 2018/05/03\n",
    "        The \"conservative SEs\" part of this script refers to the fact that earlier versions treated each regression (for each DV) as a separate observation (and then clustered SEs at article level). The conservative SEs version averages all regressions (for each DV) for an article, so that one article --> one observation. I guess the clustered SEs part of the script is still here, but it shouldn't have any effect\n",
    "        \n",
    "- updated: 6/13/2014\n",
    "        Run model on last year of data used vs. next available year of data, as long as it is within a provided bound    \n",
    "    \n",
    "inputs:\n",
    "\n",
    "outputs:"
   ]
  },
  {
   "cell_type": "code",
   "execution_count": 1,
   "metadata": {},
   "outputs": [],
   "source": [
    "from __future__ import division\n",
    "\n",
    "import numpy as np\n",
    "\n",
    "# setting the option below makes Pandas treat inf as NA. This is important when we calculate percent change, and divide a non-zero value by zero\n",
    "import pandas as pd\n",
    "pd.set_option('use_inf_as_na', True) \n",
    "\n",
    "import pickle\n",
    "import sys\n",
    "sys.path.append('../')    \n",
    "import GSSUtility as GU # note, this imports the .PY file, so if I made changes to the IPYNB file, I first need to convert it \n",
    "                        # to PY for changes to actually take effect\n",
    "                        # conversion can be done with 'jupyter nbconvert --to script GSSUtility.py'import numpy as np\n",
    "from numpy import nan\n",
    "import statsmodels.formula.api as smf \n",
    "import random\n",
    "from scipy.stats import pearsonr, ttest_ind, ttest_rel\n",
    "import time\n",
    "from collections import Counter\n",
    "from collections import defaultdict"
   ]
  },
  {
   "cell_type": "code",
   "execution_count": 2,
   "metadata": {},
   "outputs": [],
   "source": [
    "try: \n",
    "    %rm ../GSSUtility.pyc # remove this file because otherwise it will be used instead of the updated .py file\n",
    "    reload(GU)\n",
    "except:\n",
    "    pass"
   ]
  },
  {
   "cell_type": "code",
   "execution_count": 3,
   "metadata": {
    "scrolled": true
   },
   "outputs": [
    {
     "name": "stdout",
     "output_type": "stream",
     "text": [
      "Loading DataFrame df. This may take a few minutes.\n"
     ]
    },
    {
     "ename": "KeyboardInterrupt",
     "evalue": "(None, <function _new_Index at 0x3ae90c8>, (<class 'pandas.core.indexes.base.Index'>, {'data': array(['YEARSJOB', 'USETECH', 'NTWKHARD'], dtype=object), 'name': None}))",
     "output_type": "error",
     "traceback": [
      "\u001b[0;31m---------------------------------------------------------------------------\u001b[0m",
      "\u001b[0;31mKeyboardInterrupt\u001b[0m                         Traceback (most recent call last)",
      "\u001b[0;32m<ipython-input-3-1bf541ecd45a>\u001b[0m in \u001b[0;36m<module>\u001b[0;34m()\u001b[0m\n\u001b[1;32m     17\u001b[0m \u001b[0;34m\u001b[0m\u001b[0m\n\u001b[1;32m     18\u001b[0m     \u001b[0mpathToData\u001b[0m \u001b[0;34m=\u001b[0m \u001b[0;34m'../../Data/'\u001b[0m\u001b[0;34m\u001b[0m\u001b[0m\n\u001b[0;32m---> 19\u001b[0;31m     \u001b[0mdataCont\u001b[0m \u001b[0;34m=\u001b[0m \u001b[0mGU\u001b[0m\u001b[0;34m.\u001b[0m\u001b[0mdataContainer\u001b[0m\u001b[0;34m(\u001b[0m\u001b[0mpathToData\u001b[0m\u001b[0;34m)\u001b[0m\u001b[0;34m\u001b[0m\u001b[0m\n\u001b[0m\u001b[1;32m     20\u001b[0m \u001b[0;34m\u001b[0m\u001b[0m\n\u001b[1;32m     21\u001b[0m     articlesToUse = GU.filterArticles(dataCont.articleClasses, GSSYearsUsed=True, GSSYearsPossible=True,                                       centralIVs=False, nextYearBound=3, \n",
      "\u001b[0;32m/home/t-9tepli/GSSproject/code/GSSUtility.py\u001b[0m in \u001b[0;36m__init__\u001b[0;34m(self, pathToData)\u001b[0m\n\u001b[1;32m    168\u001b[0m             \u001b[0;31m# this cPickle file is created with the script UTILITY_random_tasks.ipynb\u001b[0m\u001b[0;34m\u001b[0m\u001b[0;34m\u001b[0m\u001b[0m\n\u001b[1;32m    169\u001b[0m             \u001b[0;31m# i believe the various types of missing values are automatically recoded as NA\u001b[0m\u001b[0;34m\u001b[0m\u001b[0;34m\u001b[0m\u001b[0m\n\u001b[0;32m--> 170\u001b[0;31m             \u001b[0mdf\u001b[0m \u001b[0;34m=\u001b[0m \u001b[0mpd\u001b[0m\u001b[0;34m.\u001b[0m\u001b[0mread_pickle\u001b[0m\u001b[0;34m(\u001b[0m\u001b[0mpathToDf\u001b[0m \u001b[0;34m+\u001b[0m \u001b[0;34m'GSS7216_R3.cpickle'\u001b[0m\u001b[0;34m)\u001b[0m\u001b[0;34m\u001b[0m\u001b[0m\n\u001b[0m\u001b[1;32m    171\u001b[0m             \u001b[0mglobals\u001b[0m\u001b[0;34m(\u001b[0m\u001b[0;34m)\u001b[0m\u001b[0;34m[\u001b[0m\u001b[0;34m'df'\u001b[0m\u001b[0;34m]\u001b[0m \u001b[0;34m=\u001b[0m \u001b[0mdf\u001b[0m\u001b[0;34m\u001b[0m\u001b[0m\n\u001b[1;32m    172\u001b[0m             \u001b[0mself\u001b[0m\u001b[0;34m.\u001b[0m\u001b[0mdf\u001b[0m \u001b[0;34m=\u001b[0m \u001b[0mdf\u001b[0m\u001b[0;34m\u001b[0m\u001b[0m\n",
      "\u001b[0;32m/home/t-9tepli/.local/lib/python2.7/site-packages/pandas/io/pickle.pyc\u001b[0m in \u001b[0;36mread_pickle\u001b[0;34m(path, compression)\u001b[0m\n\u001b[1;32m    108\u001b[0m                     lambda f: pc.load(f, encoding=encoding, compat=True))\n\u001b[1;32m    109\u001b[0m     \u001b[0;32mtry\u001b[0m\u001b[0;34m:\u001b[0m\u001b[0;34m\u001b[0m\u001b[0m\n\u001b[0;32m--> 110\u001b[0;31m         \u001b[0;32mreturn\u001b[0m \u001b[0mtry_read\u001b[0m\u001b[0;34m(\u001b[0m\u001b[0mpath\u001b[0m\u001b[0;34m)\u001b[0m\u001b[0;34m\u001b[0m\u001b[0m\n\u001b[0m\u001b[1;32m    111\u001b[0m     \u001b[0;32mexcept\u001b[0m\u001b[0;34m:\u001b[0m\u001b[0;34m\u001b[0m\u001b[0m\n\u001b[1;32m    112\u001b[0m         \u001b[0;32mif\u001b[0m \u001b[0mPY3\u001b[0m\u001b[0;34m:\u001b[0m\u001b[0;34m\u001b[0m\u001b[0m\n",
      "\u001b[0;32m/home/t-9tepli/.local/lib/python2.7/site-packages/pandas/io/pickle.pyc\u001b[0m in \u001b[0;36mtry_read\u001b[0;34m(path, encoding)\u001b[0m\n\u001b[1;32m     97\u001b[0m         \u001b[0;31m# GH 6899\u001b[0m\u001b[0;34m\u001b[0m\u001b[0;34m\u001b[0m\u001b[0m\n\u001b[1;32m     98\u001b[0m         \u001b[0;32mtry\u001b[0m\u001b[0;34m:\u001b[0m\u001b[0;34m\u001b[0m\u001b[0m\n\u001b[0;32m---> 99\u001b[0;31m             \u001b[0;32mreturn\u001b[0m \u001b[0mread_wrapper\u001b[0m\u001b[0;34m(\u001b[0m\u001b[0;32mlambda\u001b[0m \u001b[0mf\u001b[0m\u001b[0;34m:\u001b[0m \u001b[0mpkl\u001b[0m\u001b[0;34m.\u001b[0m\u001b[0mload\u001b[0m\u001b[0;34m(\u001b[0m\u001b[0mf\u001b[0m\u001b[0;34m)\u001b[0m\u001b[0;34m)\u001b[0m\u001b[0;34m\u001b[0m\u001b[0m\n\u001b[0m\u001b[1;32m    100\u001b[0m         \u001b[0;32mexcept\u001b[0m \u001b[0mException\u001b[0m\u001b[0;34m:\u001b[0m\u001b[0;34m\u001b[0m\u001b[0m\n\u001b[1;32m    101\u001b[0m             \u001b[0;31m# reg/patched pickle\u001b[0m\u001b[0;34m\u001b[0m\u001b[0;34m\u001b[0m\u001b[0m\n",
      "\u001b[0;32m/home/t-9tepli/.local/lib/python2.7/site-packages/pandas/io/pickle.pyc\u001b[0m in \u001b[0;36mread_wrapper\u001b[0;34m(func)\u001b[0m\n\u001b[1;32m     82\u001b[0m                             is_text=False)\n\u001b[1;32m     83\u001b[0m         \u001b[0;32mtry\u001b[0m\u001b[0;34m:\u001b[0m\u001b[0;34m\u001b[0m\u001b[0m\n\u001b[0;32m---> 84\u001b[0;31m             \u001b[0;32mreturn\u001b[0m \u001b[0mfunc\u001b[0m\u001b[0;34m(\u001b[0m\u001b[0mf\u001b[0m\u001b[0;34m)\u001b[0m\u001b[0;34m\u001b[0m\u001b[0m\n\u001b[0m\u001b[1;32m     85\u001b[0m         \u001b[0;32mfinally\u001b[0m\u001b[0;34m:\u001b[0m\u001b[0;34m\u001b[0m\u001b[0m\n\u001b[1;32m     86\u001b[0m             \u001b[0;32mfor\u001b[0m \u001b[0m_f\u001b[0m \u001b[0;32min\u001b[0m \u001b[0mfh\u001b[0m\u001b[0;34m:\u001b[0m\u001b[0;34m\u001b[0m\u001b[0m\n",
      "\u001b[0;32m/home/t-9tepli/.local/lib/python2.7/site-packages/pandas/io/pickle.pyc\u001b[0m in \u001b[0;36m<lambda>\u001b[0;34m(f)\u001b[0m\n\u001b[1;32m     97\u001b[0m         \u001b[0;31m# GH 6899\u001b[0m\u001b[0;34m\u001b[0m\u001b[0;34m\u001b[0m\u001b[0m\n\u001b[1;32m     98\u001b[0m         \u001b[0;32mtry\u001b[0m\u001b[0;34m:\u001b[0m\u001b[0;34m\u001b[0m\u001b[0m\n\u001b[0;32m---> 99\u001b[0;31m             \u001b[0;32mreturn\u001b[0m \u001b[0mread_wrapper\u001b[0m\u001b[0;34m(\u001b[0m\u001b[0;32mlambda\u001b[0m \u001b[0mf\u001b[0m\u001b[0;34m:\u001b[0m \u001b[0mpkl\u001b[0m\u001b[0;34m.\u001b[0m\u001b[0mload\u001b[0m\u001b[0;34m(\u001b[0m\u001b[0mf\u001b[0m\u001b[0;34m)\u001b[0m\u001b[0;34m)\u001b[0m\u001b[0;34m\u001b[0m\u001b[0m\n\u001b[0m\u001b[1;32m    100\u001b[0m         \u001b[0;32mexcept\u001b[0m \u001b[0mException\u001b[0m\u001b[0;34m:\u001b[0m\u001b[0;34m\u001b[0m\u001b[0m\n\u001b[1;32m    101\u001b[0m             \u001b[0;31m# reg/patched pickle\u001b[0m\u001b[0;34m\u001b[0m\u001b[0;34m\u001b[0m\u001b[0m\n",
      "\u001b[0;32m/home/t-9tepli/.local/lib/python2.7/site-packages/pandas/core/indexes/base.pyc\u001b[0m in \u001b[0;36m_new_Index\u001b[0;34m(cls, d)\u001b[0m\n\u001b[1;32m     92\u001b[0m \u001b[0;34m\u001b[0m\u001b[0m\n\u001b[1;32m     93\u001b[0m \u001b[0;34m\u001b[0m\u001b[0m\n\u001b[0;32m---> 94\u001b[0;31m \u001b[0;32mdef\u001b[0m \u001b[0m_new_Index\u001b[0m\u001b[0;34m(\u001b[0m\u001b[0mcls\u001b[0m\u001b[0;34m,\u001b[0m \u001b[0md\u001b[0m\u001b[0;34m)\u001b[0m\u001b[0;34m:\u001b[0m\u001b[0;34m\u001b[0m\u001b[0m\n\u001b[0m\u001b[1;32m     95\u001b[0m     \"\"\" This is called upon unpickling, rather than the default which doesn't\n\u001b[1;32m     96\u001b[0m     \u001b[0mhave\u001b[0m \u001b[0marguments\u001b[0m \u001b[0;32mand\u001b[0m \u001b[0mbreaks\u001b[0m \u001b[0m__new__\u001b[0m\u001b[0;34m\u001b[0m\u001b[0m\n",
      "\u001b[0;31mKeyboardInterrupt\u001b[0m: (None, <function _new_Index at 0x3ae90c8>, (<class 'pandas.core.indexes.base.Index'>, {'data': array(['YEARSJOB', 'USETECH', 'NTWKHARD'], dtype=object), 'name': None}))"
     ]
    }
   ],
   "source": [
    "#*********************************************************\n",
    "allPropsForYearsUsed = []\n",
    "allPropsForYearsPossible =[]\n",
    "allParamSizesForYearsUsed = []\n",
    "allParamSizesForYearsPossible = []\n",
    "allRsForYearsUsed, allRsForYearsPossible = [], []\n",
    "\n",
    " \n",
    "############################################################\n",
    "if __name__ == \"__main__\":    \n",
    "\n",
    "    try:\n",
    "        %rm ../GSSUtility.pyc # remove this file because otherwise it will be used instead of the updated .py file\n",
    "        reload(GU)\n",
    "    except:\n",
    "        pass\n",
    "    \n",
    "    pathToData = '../../Data/'\n",
    "    dataCont = GU.dataContainer(pathToData)\n",
    "    \n",
    "    articlesToUse = GU.filterArticles(dataCont.articleClasses, GSSYearsUsed=True, GSSYearsPossible=True, \\\n",
    "                                      centralIVs=False, nextYearBound=3, \n",
    "                                      linearModels=False)            \n",
    "    print 'len of articleClasses:', len(articlesToUse)\n",
    "#     raw_input('...')\n",
    "    \n",
    "    # define the storage containers for outputs\n",
    "    group1 = 'on last GSS year'\n",
    "    group2 = 'on first \"future\" GSS year'   \n",
    "    groups = [group1, group2]\n",
    "    outcomes = ['propSig_ControlVars', 'paramSizesNormed_ControlVars', 'Rs', 'adjRs', \n",
    "                'propSig_CentralVars', 'paramSizesNormed_CentralVars']\n",
    "\n",
    "    output = defaultdict(dict)\n",
    "    output['metadata'] = {'article_id':[]}\n",
    "    for outcome in outcomes:\n",
    "        for group in groups:\n",
    "            output[outcome][group] = []\n",
    "\n",
    "    for article in articlesToUse:\n",
    "#     log=open('log_file.txt', 'w')       \n",
    "#     for article in random.sample(articlesToUse, 10):\n",
    "#     for article in [a for a in articlesToUse if a.articleID == 6755]:\n",
    "        print '\\n===================\\nProcessing article:', article.articleID\n",
    "        \n",
    "        RHS = article.IVs + article.controls\n",
    "        \n",
    "        for DV in article.DVs:\n",
    "#             print DV, '~', RHS\n",
    "            maxYearUsed = max(article.GSSYearsUsed)\n",
    "            futureYearsPossible = [yr for yr in article.GSSYearsPossible if yr > maxYearUsed]\n",
    "            nextYear = min(futureYearsPossible) # the arguments of GU.filterArticles function ensure that there is a suitable future year (within bound)\n",
    "            \n",
    "#             log.write('id'+str(article.articleID)+' year '+str(maxYearUsed))\n",
    "            \n",
    "            resOnDataUsed = GU.runModel(dataCont, maxYearUsed, DV, RHS); # models run on max year of data used\n",
    "            if not resOnDataUsed: continue\n",
    "            \n",
    "#             log.write('id'+str(article.articleID)+' year '+str(nextYear))           \n",
    "            resOnNextYear = GU.runModel(dataCont, nextYear, DV, RHS); # models run on min year of future data\n",
    "            if not resOnNextYear: continue\n",
    "            \n",
    "            # Checks on which results to record                \n",
    "            if len(resOnDataUsed.params) != len(resOnNextYear.params):\n",
    "                print 'The number of variables in original model is different from the number in model on future years. Skipping.'                    \n",
    "                continue\n",
    "            \n",
    "            results = [resOnDataUsed, resOnNextYear]\n",
    " \n",
    "            # identify coefficients of CENTRAL and CONTROL variables\n",
    "            centralVars = []            \n",
    "            for civ in article.centralIVs:\n",
    "                for param in results[0].params.index:\n",
    "                    if civ in param: centralVars.append(param)\n",
    "                        \n",
    "            controlVars = set(results[0].params.index) - set(centralVars + ['Intercept'])\n",
    "            \n",
    "            # NOW \"RECORD\" THE OUTPUTS FROM THESE MODELS\n",
    "            for i in range(2):    \n",
    "                # output general model fit stuff\n",
    "                output['Rs'][groups[i]].append(results[i].rsquared) \n",
    "                output['adjRs'][groups[i]].append(results[i].rsquared_adj) \n",
    "                \n",
    "                # output CONTROL variable coefficients\n",
    "                if len(controlVars)>0:\n",
    "                    output['propSig_ControlVars'][groups[i]].append(float(len([p for p in results[i].pvalues[controlVars] if p < 0.05])) \\\n",
    "                                                            /len(results[i].params[controlVars])) \n",
    "                    output['paramSizesNormed_ControlVars'][groups[i]].append(results[i].params[controlVars].abs().mean())                \n",
    "                else:\n",
    "                    output['propSig_ControlVars'][groups[i]].append(np.nan)\n",
    "                    output['paramSizesNormed_ControlVars'][groups[i]].append(np.nan)\n",
    "                \n",
    "                # output CENTRAL variable coefficients\n",
    "                if len(centralVars)>0:\n",
    "                    output['propSig_CentralVars'][groups[i]].append(float(len([p for p in results[i].pvalues[centralVars] if p < 0.05])) \\\n",
    "                                                            /len(results[i].params[centralVars])) \n",
    "                    output['paramSizesNormed_CentralVars'][groups[i]].append(results[i].params[centralVars].abs().mean())                \n",
    "                else:\n",
    "                    output['propSig_CentralVars'][groups[i]].append(np.nan)\n",
    "                    output['paramSizesNormed_CentralVars'][groups[i]].append(np.nan)\n",
    "                    \n",
    "            output['metadata']['article_id'].append(article.articleID)                 \n",
    "     \n",
    "   \n",
    "pickle.dump(output, open('output.pickle', 'w'))    \n",
    "#     print 'TTests'\n",
    "#     for outcome in outcomes:\n",
    "#         print 'Means of group1 and group2:', np.mean(output[group1][outcome]), np.mean(output[group2][outcome]), 'Paired T-test of ' + outcome, ttest_rel(output[group1][outcome], output[group2][outcome])\n"
   ]
  },
  {
   "cell_type": "markdown",
   "metadata": {},
   "source": [
    "Create dataframe that contains the output \n",
    "--"
   ]
  },
  {
   "cell_type": "code",
   "execution_count": 22,
   "metadata": {},
   "outputs": [
    {
     "name": "stdout",
     "output_type": "stream",
     "text": [
      "Number of unique articles used: 183\n",
      "Total number of regressions: 801\n"
     ]
    }
   ],
   "source": [
    "output = pickle.load(open('output.pickle'))\n",
    "group1 = 'on last GSS year'\n",
    "group2 = 'on first \"future\" GSS year'   \n",
    "groups = [group1, group2]\n",
    "outcomes = ['propSig_ControlVars', 'paramSizesNormed_ControlVars', 'Rs', 'adjRs', \n",
    "            'propSig_CentralVars', 'paramSizesNormed_CentralVars']\n",
    "\n",
    "df_output = pd.DataFrame(index=np.arange(len(output['Rs'][group1])), \n",
    "                         columns=pd.MultiIndex.from_product([outcomes, groups]))\n",
    "df_output.columns.names = ['outcome','group']\n",
    "for outcome in outcomes:\n",
    "    for gp in groups:\n",
    "        df_output[outcome, gp] = output[outcome][gp]\n",
    "df_output['article_id'] = output['metadata']['article_id']\n",
    "df_output.index = df_output['article_id']\n",
    "df_output.head()\n",
    "\n",
    "print 'Number of unique articles used:', len(df_output['article_id'].unique())\n",
    "print 'Total number of regressions:', len(df_output)"
   ]
  },
  {
   "cell_type": "code",
   "execution_count": 29,
   "metadata": {},
   "outputs": [],
   "source": [
    "# df_output.head()"
   ]
  },
  {
   "cell_type": "code",
   "execution_count": 30,
   "metadata": {},
   "outputs": [],
   "source": [
    "# # output article IDs for use in replication project. 2016-06-07\n",
    "# fout = open('minianalysis_next_year_list_of_articles_used.csv',  'wb')\n",
    "# fout.write(','.join(map(str, sorted(df_output.article_id.unique())))) # unique article IDs used, separated by commas\n",
    "# fout.close()"
   ]
  },
  {
   "cell_type": "markdown",
   "metadata": {},
   "source": [
    "Plot the output\n",
    "--"
   ]
  },
  {
   "cell_type": "code",
   "execution_count": 10,
   "metadata": {},
   "outputs": [],
   "source": [
    "import matplotlib.pyplot as plt\n",
    "import seaborn as sb\n",
    "custom_style = {'axes.facecolor': 'white',\n",
    "                'grid.color': '0.15',\n",
    "                'grid.linestyle':'-.'}\n",
    "sb.set_style(\"darkgrid\", rc=custom_style)\n",
    "%matplotlib inline"
   ]
  },
  {
   "cell_type": "code",
   "execution_count": 15,
   "metadata": {},
   "outputs": [],
   "source": [
    "# %matplotlib inline\n",
    "\n",
    "# outcomesToUse = df_output[group1].columns\n",
    "# indices = np.arange(len(outcomesToUse))\n",
    "# width = 0.35\n",
    "# axes = plt.figure(figsize=(12,8)).add_subplot(111)\n",
    "# error_config = {'ecolor': '0.3'}\n",
    "# rects1 = plt.bar(left=indices, width=width, height=df_output[group1].mean(), color='r', \n",
    "#                  yerr=df_output[group1].std()/np.sqrt(len(df_output[group1])), error_kw=error_config) \n",
    "# rects2 = plt.bar(left=indices+width, width=width, height=df_output[group2].mean(), color='y', \n",
    "#                  yerr=df_output[group2].std()/np.sqrt(len(df_output[group2])), error_kw=error_config)\n",
    "\n",
    "# # title, legend, etc\n",
    "# plt.title('Models Using Last GSS Year vs. First \"Future\" Year', fontsize=18)\n",
    "# plt.legend((rects1[0], rects2[0]), ('Last Yr.', '1st Future Yr.'), fontsize=15)\n",
    "# plt.xlim((-1*width, len(outcomesToUse)))\n",
    "\n",
    "# # tick labels\n",
    "# # a = outcomesToUse\n",
    "# a = ['% of coeffs. stat. sign.', 'avg. coeff. size', 'R_sq.', 'adj. R_sq.', 'avg. p-value', \\\n",
    "#      '\"central\" vars: % of coeffs. stat. sign.', '\"central\" vars: avg. coeff. size', '\"central\" vars: avg. p-value']\n",
    "# axes.set_xticks(indices+width)\n",
    "# axes.set_xticklabels(a, rotation=90, fontsize=15)\n",
    "\n",
    "# # label the bars with the difference between them\n",
    "# diffs = (df_output[group1] - df_output[group2]).mean().values\n",
    "# def autolabel(rects):\n",
    "#     # attach some text labels\n",
    "#     for i, rect in enumerate(rects):\n",
    "#         height = rect.get_height()\n",
    "#         if i!=7 and i!=4:\n",
    "#             axes.text(rect.get_x()+width, 1.02*height, '%0.3f'%diffs[i],\n",
    "#                     ha='center', va='bottom', fontsize=15)\n",
    "#         else: # this is for the p-value label, which has gone up\n",
    "#             axes.text(rect.get_x()+width, 1.02*height+0.05, '%0.3f'%diffs[i],\n",
    "#                     ha='center', va='bottom', fontsize=15)\n",
    "# autolabel(rects1)\n",
    "\n",
    "# # savefig('../../Images/ASA2015/models_using_last_gss_year_vs_first_future_year.png', bbox_inches='tight')"
   ]
  },
  {
   "cell_type": "code",
   "execution_count": 23,
   "metadata": {},
   "outputs": [
    {
     "name": "stdout",
     "output_type": "stream",
     "text": [
      "adjRs\n",
      "Ttest_relResult(statistic=0.044148876387008325, pvalue=0.9648341335275141)\n",
      "Rs\n",
      "Ttest_relResult(statistic=0.0020936405184632505, pvalue=0.9983318108131813)\n",
      "paramSizesNormed_CentralVars\n",
      "Ttest_relResult(statistic=0.5883451859482296, pvalue=0.5571002519371884)\n",
      "propSig_CentralVars\n",
      "Ttest_relResult(statistic=1.002129579999401, pvalue=0.3177395638069995)\n",
      "paramSizesNormed_ControlVars\n",
      "Ttest_relResult(statistic=0.5963746896403938, pvalue=0.5519781910420616)\n",
      "propSig_ControlVars\n",
      "Ttest_relResult(statistic=0.775079424926717, pvalue=0.439722247276083)\n"
     ]
    }
   ],
   "source": [
    "# fig = plt.figure(figsize=(6,9))\n",
    "outcomesToUse = [u'adjRs',\n",
    "                 u'Rs',\n",
    "                 u'paramSizesNormed_CentralVars',                \n",
    "                 u'propSig_CentralVars', \n",
    "                 u'paramSizesNormed_ControlVars',\n",
    "                 u'propSig_ControlVars']\n",
    "\n",
    "outcomeMap = {'propSig_ControlVars':\"Prop. of Stat. Sign. Coeff's\", \n",
    "              'paramSizesNormed_ControlVars':\"Standard. Size of Coeff's\",\n",
    "              'Rs':'R-squared', \n",
    "              'adjRs':'Adj. R-squared',\n",
    "#               'pvalues':\"Avg. P-Value of Coeff's\",\n",
    "              'propSig_CentralVars':\"Prop. of Stat. Sign. Coeff's\",\n",
    "              'paramSizesNormed_CentralVars':\"Standard. Size of Coeff's\", \n",
    "              'pvalues_CentralVars':\"Avg. P-Value of Coeff's\"}\n",
    "\n",
    "# indices = [1,2,4,5,7,8]\n",
    "\n",
    "# #############################################################################\n",
    "# # CALCULATE DIFFERENCES WHERE EACH DV FROM EACH ARTICLE IS ITS OWN OBSERVATION, AND CLUSTERED SEs ON ARTICLE\n",
    "# diffs = [100*(df_output[group2, outcome] - df_output[group1, outcome]).mean()/df_output[group1, outcome].mean() for outcome in outcomesToUse]\n",
    "# diffs_strings = ['(%0.3f - %0.3f)' % (df_output[group2, outcome].mean(), df_output[group1, outcome].mean()) \n",
    "#                  for outcome in outcomesToUse]\n",
    "# diffs = np.array(diffs)\n",
    "\n",
    "# # naive SES\n",
    "# # ses = [(df_output[group1, outcome] - df_output[group2, outcome]).std()/np.sqrt(len(df_output)) for outcome in outcomesToUse]\n",
    "\n",
    "# # clustered SES\n",
    "# clusteredSES = []\n",
    "# article_ids = np.array(list(df_output.index)) \n",
    "# for outcome in outcomesToUse:\n",
    "#     diff = 100*(df_output[group2, outcome] - df_output[group1, outcome])\n",
    "#     mask = ~np.isnan(np.array(diff))\n",
    "#     result_clustered = smf.ols(formula='y~x-1', \\\n",
    "#                      data=pd.DataFrame({'y':diff[mask], 'x':[1]*len(diff[mask])})).fit(missing='drop', \\\n",
    "#                                                                              cov_type='cluster', \\\n",
    "#                                                                     cov_kwds=dict(groups=article_ids[mask]))\n",
    "#     clusteredSES.append(result_clustered.HC0_se[0])   \n",
    "# clusteredSES = np.array(clusteredSES)\n",
    "\n",
    "##############################################################################\n",
    "# CALCULATE DIFFERENCES WHERE EACH *ARTICLE* IS *ONE* OBSERVATION (i.e. we'll average all observations at article level first),\n",
    "# AND NO CLUSTERING OF SEs\n",
    "from scipy.stats import ttest_rel\n",
    "\n",
    "conservativeSES = []\n",
    "diffs = []\n",
    "diffs_strings = []\n",
    "\n",
    "for outcome in outcomesToUse:\n",
    "    print outcome\n",
    "    group1outcome = df_output[outcome, group1].groupby('article_id').mean()\n",
    "    group2outcome = df_output[outcome, group2].groupby('article_id').mean()\n",
    "    diff = (group2outcome - group1outcome)\n",
    "#     perc_changes = 100*(group2outcome - group1outcome) / group1outcome\n",
    "\n",
    "    diffs.append(diff.mean())\n",
    "    diffs_strings.append('(%0.3f - %0.3f)' % (group2outcome.mean(), group1outcome.mean()))\n",
    "    \n",
    "    se = diff.std() / np.sqrt(len(group1outcome))\n",
    "    conservativeSES.append(se)\n",
    "    \n",
    "    # also do a t-test (related samples)\n",
    "    mask = group1outcome.notnull() & group2outcome.notnull()\n",
    "    print ttest_rel(group1outcome[mask], group2outcome[mask])\n",
    "    \n",
    "diffs = np.array(diffs)\n",
    "conservativeSES = np.array(conservativeSES)"
   ]
  },
  {
   "cell_type": "code",
   "execution_count": 40,
   "metadata": {},
   "outputs": [
    {
     "name": "stdout",
     "output_type": "stream",
     "text": [
      "0.13012316268950225 0.12949176850251973 12.90864580598204\n"
     ]
    },
    {
     "data": {
      "text/plain": [
       "Text(0,0.5,'numerator (future year - last year)')"
      ]
     },
     "execution_count": 40,
     "metadata": {},
     "output_type": "execute_result"
    },
    {
     "data": {
      "image/png": "[encoded data removed]",
      "text/plain": [
       "<Figure size 432x288 with 1 Axes>"
      ]
     },
     "metadata": {},
     "output_type": "display_data"
    }
   ],
   "source": [
    "outcome = 'adjRs'\n",
    "\n",
    "group1outcome = df_output[outcome, group1].groupby('article_id').mean()\n",
    "group2outcome = df_output[outcome, group2].groupby('article_id').mean()\n",
    "    \n",
    "perc_changes = 100*(group2outcome - group1outcome)/ group1outcome\n",
    "print group1outcome.mean(), group2outcome.mean(),  perc_changes.mean()\n",
    "\n",
    "dftemp = pd.concat([group1outcome, group2outcome, (group2outcome-group1outcome), (group2outcome-group1outcome)/group1outcome], axis=1)\n",
    "dftemp.plot.scatter(x=(outcome, u'on last GSS year'), y=0)\n",
    "plt.title('Percent change problem')\n",
    "plt.xlabel('denom. (outcome on last year)')\n",
    "plt.ylabel('numerator (future year - last year)')"
   ]
  },
  {
   "cell_type": "code",
   "execution_count": 41,
   "metadata": {},
   "outputs": [
    {
     "name": "stdout",
     "output_type": "stream",
     "text": [
      "0.44533794676642 0.43286406187877263 -2.1637313384860963\n"
     ]
    },
    {
     "data": {
      "text/plain": [
       "Text(0,0.5,'numerator (future year - last year)')"
      ]
     },
     "execution_count": 41,
     "metadata": {},
     "output_type": "execute_result"
    },
    {
     "data": {
      "image/png": "[encoded data removed]",
      "text/plain": [
       "<Figure size 432x288 with 1 Axes>"
      ]
     },
     "metadata": {},
     "output_type": "display_data"
    }
   ],
   "source": [
    "outcome = 'propSig_CentralVars'\n",
    "\n",
    "group1outcome = df_output[outcome, group1].groupby('article_id').mean()\n",
    "group2outcome = df_output[outcome, group2].groupby('article_id').mean()\n",
    "    \n",
    "perc_changes = 100*(group2outcome - group1outcome)/ group1outcome\n",
    "print group1outcome.mean(), group2outcome.mean(),  perc_changes.mean()\n",
    "\n",
    "dftemp = pd.concat([group1outcome, group2outcome, (group2outcome-group1outcome), (group2outcome-group1outcome)/group1outcome], axis=1)\n",
    "dftemp.plot.scatter(x=(u'propSig_CentralVars', u'on last GSS year'), y=0)\n",
    "plt.title('Percent change problem')\n",
    "plt.xlabel('denom. (outcome on last year)')\n",
    "plt.ylabel('numerator (future year - last year)')"
   ]
  },
  {
   "cell_type": "code",
   "execution_count": 70,
   "metadata": {},
   "outputs": [
    {
     "name": "stdout",
     "output_type": "stream",
     "text": [
      "0.4260437179194374 0.41085028729029405 3.0919793480364666\n"
     ]
    },
    {
     "data": {
      "text/plain": [
       "Text(0,0.5,'numerator (future year - last year)')"
      ]
     },
     "execution_count": 70,
     "metadata": {},
     "output_type": "execute_result"
    },
    {
     "data": {
      "image/png": "[encoded data removed]",
      "text/plain": [
       "<Figure size 432x288 with 1 Axes>"
      ]
     },
     "metadata": {},
     "output_type": "display_data"
    }
   ],
   "source": [
    "outcome = 'propSig'\n",
    "\n",
    "group1outcome = df_output[outcome, group1].groupby(df_output.index).mean()\n",
    "group2outcome = df_output[outcome, group2].groupby(df_output.index).mean()\n",
    "    \n",
    "perc_changes = 100*(group2outcome - group1outcome)/ group1outcome\n",
    "print group1outcome.mean(), group2outcome.mean(),  perc_changes.mean()\n",
    "\n",
    "dftemp = pd.concat([group1outcome, group2outcome, (group2outcome-group1outcome), (group2outcome-group1outcome)/group1outcome], axis=1)\n",
    "dftemp.plot.scatter(x=(u'propSig', u'on last GSS year'), y=1)\n",
    "plt.title('Percent change problem')\n",
    "plt.xlabel('denom. (outcome on last year)')\n",
    "plt.ylabel('numerator (future year - last year)')"
   ]
  },
  {
   "cell_type": "code",
   "execution_count": 24,
   "metadata": {},
   "outputs": [
    {
     "data": {
      "text/plain": [
       "Text(0.5,0,'Change')"
      ]
     },
     "execution_count": 24,
     "metadata": {},
     "output_type": "execute_result"
    },
    {
     "data": {
      "image/png": "[encoded data removed]",
      "text/plain": [
       "<Figure size 432x648 with 3 Axes>"
      ]
     },
     "metadata": {},
     "output_type": "display_data"
    }
   ],
   "source": [
    "######################################################################################\n",
    "width = 0.5\n",
    "error_config = dict(ecolor='0', lw=2, capsize=5, capthick=2)\n",
    "colors = ['0.5' if el < 0 else '0.85' for el in diffs]\n",
    "\n",
    "# plt.barh(indices, diffs, xerr=2*np.array(clusteredSES), align='center', color=colors, error_kw=error_config)\n",
    "# axes.set_yticks(indices)\n",
    "# axes.set_yticklabels([outcomeMap[o] for o in outcomesToUse], fontsize=17)\n",
    "\n",
    "f, axarr = plt.subplots(3, sharex=True, figsize=(6,9))\n",
    "                        \n",
    "for i in range(3):\n",
    "    # bars\n",
    "#     xerr = 2*clusteredSES[i*2:i*2+2] / diffs[i*2:i*2+2] # i am dividing here because we want the SEs to be on the percent-change scale, not raw scale\n",
    "    xerr = 1.96*conservativeSES[i*2:i*2+2]\n",
    "    boxes = axarr[i].barh([0,1], diffs[i*2:i*2+2], xerr=xerr, \n",
    "             align='center', color=colors[i*2:i*2+2], error_kw=error_config)\n",
    "\n",
    "    # annotate boxes: raw means\n",
    "    box0_xcoord = boxes[0].get_bbox().get_points()[1,0] + .05 # the indices here mean get the x-coord of bottom-right box corner\n",
    "    box1_xcoord = boxes[1].get_bbox().get_points()[1,0] + .05\n",
    "    axarr[i].text(box0_xcoord, 0, diffs_strings[i*2], fontsize=14,\n",
    "                 verticalalignment='center',\n",
    "                 bbox=dict(facecolor='white', alpha=1), style='italic')\n",
    "    axarr[i].text(box1_xcoord, 1, diffs_strings[i*2+1], fontsize=14,\n",
    "                 verticalalignment='center',\n",
    "                 bbox=dict(facecolor='white', alpha=1), style='italic')\n",
    "\n",
    "    #labels for y-axis\n",
    "    axarr[i].set_yticks([0,1])\n",
    "    axarr[i].set_yticklabels([outcomeMap[o] for o in outcomesToUse[i*2:i*2+2]], fontsize=16)\n",
    "    axarr[i].plot([0,0], [-0.5,1.5], linewidth=2, c='black', alpha=.75)        \n",
    "    \n",
    "axarr[0].set_title('Data Substitution, Last Year vs. Next Year: (Perturbed - Original)', fontsize=20)\n",
    "axarr[0].set_ylabel('Model Fit', fontsize=19)\n",
    "axarr[1].set_ylabel('Central IVs', fontsize=19)\n",
    "axarr[2].set_ylabel('Controls', fontsize=19)\n",
    "axarr[2].set_xlabel('Change', fontsize=18)\n",
    "# plt.xticks(fontsize=16)\n",
    "# plt.xlim(-10, 50)\n",
    "\n",
    "# plt.title('Original vs. Cognate Models', fontsize=20)\n",
    "# plt.xlabel('% change from original to cognate', fontsize=17)\n",
    "# plt.xticks(fontsize=15)\n",
    "\n",
    "# plt.plot([0,0], [-0.5,7.5], linewidth=2, c='black', alpha=.75)\n",
    "\n",
    "# plt.savefig('images/last-vs-next--original-minus-perturbed.svg', bbox_inches='tight', dpi=150)"
   ]
  },
  {
   "cell_type": "code",
   "execution_count": 43,
   "metadata": {},
   "outputs": [
    {
     "data": {
      "text/plain": [
       "0.037030345642859154"
      ]
     },
     "execution_count": 43,
     "metadata": {},
     "output_type": "execute_result"
    }
   ],
   "source": []
  },
  {
   "cell_type": "code",
   "execution_count": 13,
   "metadata": {},
   "outputs": [
    {
     "data": {
      "text/html": [
       "<div>\n",
       "<style scoped>\n",
       "    .dataframe tbody tr th:only-of-type {\n",
       "        vertical-align: middle;\n",
       "    }\n",
       "\n",
       "    .dataframe tbody tr th {\n",
       "        vertical-align: top;\n",
       "    }\n",
       "\n",
       "    .dataframe thead tr th {\n",
       "        text-align: left;\n",
       "    }\n",
       "</style>\n",
       "<table border=\"1\" class=\"dataframe\">\n",
       "  <thead>\n",
       "    <tr>\n",
       "      <th>outcome</th>\n",
       "      <th colspan=\"8\" halign=\"left\">on last GSS year</th>\n",
       "      <th colspan=\"8\" halign=\"left\">on first \"future\" GSS year</th>\n",
       "      <th>article_id</th>\n",
       "    </tr>\n",
       "    <tr>\n",
       "      <th>group</th>\n",
       "      <th>propSig</th>\n",
       "      <th>paramSizesNormed</th>\n",
       "      <th>Rs</th>\n",
       "      <th>adjRs</th>\n",
       "      <th>pvalues</th>\n",
       "      <th>propSig_CentralVars</th>\n",
       "      <th>paramSizesNormed_CentralVars</th>\n",
       "      <th>pvalues_CentralVars</th>\n",
       "      <th>propSig</th>\n",
       "      <th>paramSizesNormed</th>\n",
       "      <th>Rs</th>\n",
       "      <th>adjRs</th>\n",
       "      <th>pvalues</th>\n",
       "      <th>propSig_CentralVars</th>\n",
       "      <th>paramSizesNormed_CentralVars</th>\n",
       "      <th>pvalues_CentralVars</th>\n",
       "      <th></th>\n",
       "    </tr>\n",
       "  </thead>\n",
       "  <tbody>\n",
       "    <tr>\n",
       "      <th>0</th>\n",
       "      <td>0.6</td>\n",
       "      <td>0.130022</td>\n",
       "      <td>0.032214</td>\n",
       "      <td>0.028940</td>\n",
       "      <td>0.303931</td>\n",
       "      <td>0.5</td>\n",
       "      <td>0.251664</td>\n",
       "      <td>0.487490</td>\n",
       "      <td>0.2</td>\n",
       "      <td>0.202874</td>\n",
       "      <td>0.025772</td>\n",
       "      <td>0.022509</td>\n",
       "      <td>0.136581</td>\n",
       "      <td>0.5</td>\n",
       "      <td>0.442520</td>\n",
       "      <td>0.101430</td>\n",
       "      <td>6642</td>\n",
       "    </tr>\n",
       "    <tr>\n",
       "      <th>1</th>\n",
       "      <td>0.8</td>\n",
       "      <td>0.129544</td>\n",
       "      <td>0.060203</td>\n",
       "      <td>0.057024</td>\n",
       "      <td>0.156770</td>\n",
       "      <td>0.5</td>\n",
       "      <td>0.189065</td>\n",
       "      <td>0.379908</td>\n",
       "      <td>0.6</td>\n",
       "      <td>0.226900</td>\n",
       "      <td>0.078751</td>\n",
       "      <td>0.075666</td>\n",
       "      <td>0.092240</td>\n",
       "      <td>0.5</td>\n",
       "      <td>0.419860</td>\n",
       "      <td>0.047124</td>\n",
       "      <td>6642</td>\n",
       "    </tr>\n",
       "    <tr>\n",
       "      <th>2</th>\n",
       "      <td>0.4</td>\n",
       "      <td>0.080410</td>\n",
       "      <td>0.008040</td>\n",
       "      <td>0.004684</td>\n",
       "      <td>0.349825</td>\n",
       "      <td>0.0</td>\n",
       "      <td>0.094482</td>\n",
       "      <td>0.763988</td>\n",
       "      <td>0.0</td>\n",
       "      <td>0.160381</td>\n",
       "      <td>0.005100</td>\n",
       "      <td>0.001768</td>\n",
       "      <td>0.225383</td>\n",
       "      <td>0.0</td>\n",
       "      <td>0.347282</td>\n",
       "      <td>0.175013</td>\n",
       "      <td>6642</td>\n",
       "    </tr>\n",
       "    <tr>\n",
       "      <th>3</th>\n",
       "      <td>0.6</td>\n",
       "      <td>0.192286</td>\n",
       "      <td>0.135295</td>\n",
       "      <td>0.132370</td>\n",
       "      <td>0.290748</td>\n",
       "      <td>0.5</td>\n",
       "      <td>0.328620</td>\n",
       "      <td>0.481901</td>\n",
       "      <td>0.6</td>\n",
       "      <td>0.232311</td>\n",
       "      <td>0.132956</td>\n",
       "      <td>0.130052</td>\n",
       "      <td>0.124524</td>\n",
       "      <td>0.5</td>\n",
       "      <td>0.408552</td>\n",
       "      <td>0.283578</td>\n",
       "      <td>6642</td>\n",
       "    </tr>\n",
       "    <tr>\n",
       "      <th>4</th>\n",
       "      <td>0.0</td>\n",
       "      <td>0.095582</td>\n",
       "      <td>0.002846</td>\n",
       "      <td>-0.000528</td>\n",
       "      <td>0.301788</td>\n",
       "      <td>0.0</td>\n",
       "      <td>0.184570</td>\n",
       "      <td>0.362165</td>\n",
       "      <td>0.0</td>\n",
       "      <td>0.164381</td>\n",
       "      <td>0.004643</td>\n",
       "      <td>0.001309</td>\n",
       "      <td>0.399256</td>\n",
       "      <td>0.0</td>\n",
       "      <td>0.386811</td>\n",
       "      <td>0.080059</td>\n",
       "      <td>6642</td>\n",
       "    </tr>\n",
       "  </tbody>\n",
       "</table>\n",
       "</div>"
      ],
      "text/plain": [
       "outcome on last GSS year                                                 \\\n",
       "group            propSig paramSizesNormed        Rs     adjRs   pvalues   \n",
       "0                    0.6         0.130022  0.032214  0.028940  0.303931   \n",
       "1                    0.8         0.129544  0.060203  0.057024  0.156770   \n",
       "2                    0.4         0.080410  0.008040  0.004684  0.349825   \n",
       "3                    0.6         0.192286  0.135295  0.132370  0.290748   \n",
       "4                    0.0         0.095582  0.002846 -0.000528  0.301788   \n",
       "\n",
       "outcome                                                                       \\\n",
       "group   propSig_CentralVars paramSizesNormed_CentralVars pvalues_CentralVars   \n",
       "0                       0.5                     0.251664            0.487490   \n",
       "1                       0.5                     0.189065            0.379908   \n",
       "2                       0.0                     0.094482            0.763988   \n",
       "3                       0.5                     0.328620            0.481901   \n",
       "4                       0.0                     0.184570            0.362165   \n",
       "\n",
       "outcome on first \"future\" GSS year                                       \\\n",
       "group                      propSig paramSizesNormed        Rs     adjRs   \n",
       "0                              0.2         0.202874  0.025772  0.022509   \n",
       "1                              0.6         0.226900  0.078751  0.075666   \n",
       "2                              0.0         0.160381  0.005100  0.001768   \n",
       "3                              0.6         0.232311  0.132956  0.130052   \n",
       "4                              0.0         0.164381  0.004643  0.001309   \n",
       "\n",
       "outcome                                                             \\\n",
       "group     pvalues propSig_CentralVars paramSizesNormed_CentralVars   \n",
       "0        0.136581                 0.5                     0.442520   \n",
       "1        0.092240                 0.5                     0.419860   \n",
       "2        0.225383                 0.0                     0.347282   \n",
       "3        0.124524                 0.5                     0.408552   \n",
       "4        0.399256                 0.0                     0.386811   \n",
       "\n",
       "outcome                     article_id  \n",
       "group   pvalues_CentralVars             \n",
       "0                  0.101430       6642  \n",
       "1                  0.047124       6642  \n",
       "2                  0.175013       6642  \n",
       "3                  0.283578       6642  \n",
       "4                  0.080059       6642  "
      ]
     },
     "execution_count": 13,
     "metadata": {},
     "output_type": "execute_result"
    }
   ],
   "source": [
    "df_output.head()"
   ]
  },
  {
   "cell_type": "code",
   "execution_count": 75,
   "metadata": {},
   "outputs": [
    {
     "data": {
      "text/plain": [
       "Ttest_1sampResult(statistic=-1.1651712150853109, pvalue=0.24539523819694023)"
      ]
     },
     "execution_count": 75,
     "metadata": {},
     "output_type": "execute_result"
    }
   ],
   "source": [
    "from scipy.stats import ttest_1samp\n",
    "\n",
    "df_output_copy = df_output.copy()\n",
    "df_output_copy['difference'] = 100*(df_output[group2, outcome] - df_output[group1, outcome])\n",
    "\n",
    "# mask = df_output_copy.loc[:,(slice(None), outcome)].notnull().all(axis=1)\n",
    "mean_diff = df_output_copy.groupby('article_id').difference.mean()\n",
    "\n",
    "ttest_1samp(mean_diff, 0)\n",
    "se = mean_diff / np.std(mean_diff) / sqrt(len(mean_diff))\n",
    "\n"
   ]
  },
  {
   "cell_type": "markdown",
   "metadata": {},
   "source": [
    "Perform t-tests\n",
    "--"
   ]
  },
  {
   "cell_type": "code",
   "execution_count": null,
   "metadata": {},
   "outputs": [],
   "source": [
    "# # (df_output['adjRs','orig. models'] - df_output['adjRs','cognate models']).plot(kind='kde')\n",
    "\n",
    "from scipy.stats import ttest_1samp\n",
    "for outcome in outcomes:\n",
    "    print outcome\n",
    "    print 'mean group 1', df_output[group1, outcome].mean()\n",
    "    print 'mean group 2', df_output[group2, outcome].mean()\n",
    "    print ttest_rel(df_output[group1, outcome], df_output[group2, outcome])[1]\n",
    "    print"
   ]
  },
  {
   "cell_type": "code",
   "execution_count": null,
   "metadata": {},
   "outputs": [],
   "source": []
  },
  {
   "cell_type": "markdown",
   "metadata": {},
   "source": [
    "Perform t-tests and Tests using *clustered errors*\n",
    "--\n",
    "\n",
    "1. Perform related-sample t-test (samples must be of equal lengths)\n",
    "\n",
    "2. Perform independent samples t-test (just for kicks, to see how big our effects are)\n",
    "\n",
    "3. Perform clustered error tests. To do this I will do a hack by running a regression with clustered errors and using that as the t-test. Source/inspiration is: http://www.stata.com/statalist/archive/2010-05/msg00663.html\n",
    "\n",
    "Note: I am not using the 'df_correction' flag in get_robustcov_results() because that's apparently something HLM does, not canonical clustered errors:\n",
    "\"This method of correcting the standard errors to account for the intraclass correlation is a \"weaker\" form of correction than using a multilevel model, which not only accounts for the intraclass correlation, but also corrects the denominator degrees of freedom for the number of clusters.\"\n",
    "source: http://www.ats.ucla.edu/stat/stata/library/cpsu.htm\n",
    "\n",
    "Note\n",
    "--\n",
    "For some reason, I'm getting different clustered-errors-p-values when I use the 'cluster' flag in the \n",
    "fit() function vs. when I calculate the result normally and then use get_robustcov_results function on that result. The former method yields slightly smaller p-values.\n",
    "\n",
    "Outcome\n",
    "--\n",
    "The p-values are larger (for some outcomes, they are now > 0.05) but are still sufficiently small?\n"
   ]
  },
  {
   "cell_type": "code",
   "execution_count": null,
   "metadata": {},
   "outputs": [],
   "source": [
    "# (df_output['adjRs','orig. models'] - df_output['adjRs','cognate models']).plot(kind='kde')\n",
    "\n",
    "from scipy.stats import ttest_rel\n",
    "import statsmodels.formula.api as smf\n",
    "\n",
    "for outcome in outcomes:\n",
    "    print outcome\n",
    "    print 'Mean before substitution:', np.around(df_output[group1, outcome].mean(), 3)\n",
    "    print 'Mean after substitution:', np.around(df_output[group2, outcome].mean(), 3)\n",
    "    print 'Related samples t-test p-value:', np.around(ttest_rel(df_output[group1, outcome], df_output[group2, outcome])[1], 6)\n",
    " \n",
    "    # GET CLUSTERED ERRORS\n",
    "    # to do this run a regression Y ~ X where Y = outcomes, X = dummy {0=group1, 1=group2}\n",
    "    # 1. Define variables\n",
    "    outcomes_combined = list(df_output[group1, outcome]) + list(df_output[group2, outcome])\n",
    "    diffs = df_output[group1, outcome] - df_output[group2, outcome]\n",
    "    dummy = [0]*len(df_output[group1, outcome]) + [1]*len(df_output[group2, outcome])\n",
    "    \n",
    "    # 2. Fit models\n",
    "#     result = smf.ols(formula='y~x', data=pd.DataFrame({'y':outcomes_combined, 'x':dummy})).fit() # do I need a constant???\n",
    "#     result = smf.ols(formula='y~x-1', data=pd.DataFrame({'y':diffs, 'x':[1]*len(diffs)})).fit()\n",
    "    result_clustered = smf.ols(formula='y~x-1', \\\n",
    "                     data=pd.DataFrame({'y':diffs, 'x':[1]*len(diffs)})).fit(missing='drop', \\\n",
    "                                                                             cov_type='cluster', \\\n",
    "                                                            cov_kwds=dict(groups=df_output.article_id))\n",
    "                                                                                               \n",
    "# these two methods produce slightly different results. neither is necessary because i'm using parameters\n",
    "# of the model.fit() method above instead to use clustered standard errors.\n",
    "#     # 3. Get clustered standard errors\n",
    "#     robust_results = result.get_robustcov_results(cov_type='cluster', \n",
    "#                                                   use_correction=True,\n",
    "#                                                   groups=article_ids, # this is article_id doubled\n",
    "#                                                   df_correction=True) \n",
    "    \n",
    "#     # 3.1 Get clustered standard errors another way, by regression diffs ~ const and seeing if const!=0\n",
    "#     result_rob = result.get_robustcov_results(cov_type='cluster', \\\n",
    "#                                            groups=article_ids) # this is article_id singled\n",
    "    \n",
    "    print 'Clustered errors p-value:', np.around(result_clustered.pvalues[0], 3)    \n",
    "#     print 'clustered errors p-value:', np.around(result_rob.pvalues[0], 3)\n",
    "    print"
   ]
  },
  {
   "cell_type": "code",
   "execution_count": null,
   "metadata": {},
   "outputs": [],
   "source": []
  },
  {
   "cell_type": "markdown",
   "metadata": {},
   "source": [
    "How many models' avg p-value is above 0.05?\n",
    "--"
   ]
  },
  {
   "cell_type": "code",
   "execution_count": null,
   "metadata": {},
   "outputs": [],
   "source": [
    "# # need to see tally up how switched from being below to being above\n",
    "# # i.e. need to condition on being below beforehand, and how many of those are above now\n",
    "\n",
    "# print 'count:', df_output[group2]['pvalues'][df_output[group2]['pvalues'] > 0.05].shape[0]\n",
    "# print 'total:', df_output.shape[0]\n",
    "# print 'percent:', df_output[]['pvalues'][df_output['cognate models']['pvalues'] > 0.05].shape[0]/ df_output.shape[0]"
   ]
  },
  {
   "cell_type": "code",
   "execution_count": null,
   "metadata": {},
   "outputs": [],
   "source": []
  }
 ],
 "metadata": {
  "kernelspec": {
   "display_name": "Python 2",
   "language": "python",
   "name": "python2"
  },
  "language_info": {
   "codemirror_mode": {
    "name": "ipython",
    "version": 2
   },
   "file_extension": ".py",
   "mimetype": "text/x-python",
   "name": "python",
   "nbconvert_exporter": "python",
   "pygments_lexer": "ipython2",
   "version": "2.7.5"
  }
 },
 "nbformat": 4,
 "nbformat_minor": 1
}
