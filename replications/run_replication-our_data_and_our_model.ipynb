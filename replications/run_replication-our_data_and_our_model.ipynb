{
 "cells": [
  {
   "cell_type": "markdown",
   "metadata": {},
   "source": [
    "###filename: run_replication.ipynb\n",
    "\n",
    "###description: \n",
    "    last updated: 2016-07-08\n",
    "    Run models from an article for the purposes of comparing results to \"manual/gold standard\" replications by Julianna. \n",
    "    \n",
    "\n",
    "###inputs:\n",
    "\n",
    "###outputs:\n",
    "\n",
    "##TO-DOs:\n",
    "    \n",
    "    \n",
    "@author: Misha\n"
   ]
  },
  {
   "cell_type": "code",
   "execution_count": 257,
   "metadata": {
    "collapsed": true
   },
   "outputs": [],
   "source": [
    "# the article we are running\n",
    "ARTICLE_ID = 6686"
   ]
  },
  {
   "cell_type": "code",
   "execution_count": 258,
   "metadata": {},
   "outputs": [],
   "source": [
    "from __future__ import division\n",
    "import pandas as pd\n",
    "import pickle\n",
    "import sys\n",
    "sys.path.append('../')    \n",
    "import GSSUtility as GU\n",
    "import numpy as np\n",
    "import statsmodels.formula.api as smf \n",
    "import random\n",
    "from scipy.stats import pearsonr, ttest_ind, ttest_rel\n",
    "import time\n",
    "from collections import Counter\n",
    "from collections import defaultdict\n",
    "\n",
    "import matplotlib.pyplot as plt\n",
    "import seaborn as sb\n",
    "custom_style = {'axes.facecolor': 'white',\n",
    "                'grid.color': '0.15',\n",
    "                'grid.linestyle':'-.'}\n",
    "sb.set_style(\"darkgrid\", rc=custom_style)"
   ]
  },
  {
   "cell_type": "code",
   "execution_count": 259,
   "metadata": {},
   "outputs": [
    {
     "data": {
      "text/plain": [
       "<module 'GSSUtility' from '../GSSUtility.py'>"
      ]
     },
     "execution_count": 259,
     "metadata": {},
     "output_type": "execute_result"
    }
   ],
   "source": [
    "%rm ../GSSUtility.pyc # remove this file because otherwise it will be used instead of the updated .py file\n",
    "reload(GU)"
   ]
  },
  {
   "cell_type": "code",
   "execution_count": 260,
   "metadata": {},
   "outputs": [],
   "source": [
    "pathToData = '../../Data/'\n",
    "dataCont = GU.dataContainer(pathToData)"
   ]
  },
  {
   "cell_type": "code",
   "execution_count": 261,
   "metadata": {
    "collapsed": true
   },
   "outputs": [],
   "source": [
    "# small_set = [a for a in articlesToUse if \n",
    "#              a.articleID in [1651, 1944, 2506, 3567, 3613, 5754]]"
   ]
  },
  {
   "cell_type": "code",
   "execution_count": 262,
   "metadata": {
    "collapsed": true
   },
   "outputs": [],
   "source": [
    "# for article in small_set:\n",
    "#     print 'id:', article.articleID\n",
    "#     print 'used:', article.GSSYearsUsed\n",
    "#     print 'possible:', article.GSSYearsPossible"
   ]
  },
  {
   "cell_type": "code",
   "execution_count": 263,
   "metadata": {
    "collapsed": true
   },
   "outputs": [],
   "source": [
    "# custom_data.astype(float) # doesn't work because stata has files in numerical and string formats, unlike the file I used which was all numerical"
   ]
  },
  {
   "cell_type": "code",
   "execution_count": 264,
   "metadata": {},
   "outputs": [
    {
     "name": "stdout",
     "output_type": "stream",
     "text": [
      "article id: 6686\n",
      "\n",
      "GSS Years Used: [1977, 1978]\n",
      "\n",
      "DVs: ['INCOME']\n",
      "\n",
      "IVs: ['MARITAL', 'SEX', 'RACE', 'CHILDS', 'OCC', 'DEGREE', 'AGE', 'SPDEG', 'SPOCC']\n",
      "\n",
      "Controls: []\n",
      "\n",
      "Central IVs: ['MARITAL', 'SEX', 'RACE', 'CHILDS', 'OCC', 'DEGREE', 'AGE', 'SPDEG', 'SPOCC']\n"
     ]
    }
   ],
   "source": [
    "################################\n",
    "# ANALYSIS\n",
    "\n",
    "articlesToUse = GU.filterArticles(dataCont.articleClasses, GSSYearsUsed=True, GSSYearsPossible=False, \\\n",
    "                                    centralIVs=False, nextYearBound=0, linearModels=False)            \n",
    "article = [a for a in articlesToUse if a.articleID == ARTICLE_ID][0]\n",
    "maxYearUsed = max(article.GSSYearsUsed)\n",
    "\n",
    "print 'article id:', article.articleID\n",
    "print\n",
    "print 'GSS Years Used:', article.GSSYearsUsed\n",
    "print\n",
    "print 'DVs:', article.DVs\n",
    "print\n",
    "print 'IVs:', article.IVs\n",
    "print\n",
    "print 'Controls:', article.controls\n",
    "print\n",
    "print 'Central IVs:', article.centralIVs"
   ]
  },
  {
   "cell_type": "code",
   "execution_count": 265,
   "metadata": {
    "collapsed": true
   },
   "outputs": [],
   "source": [
    "# define the storage containers for outputs\n",
    "group1 = 'on last GSS year'\n",
    "group2 = 'on first \"future\" GSS year'   \n",
    "groups = [group1, group2]\n",
    "outcomes = ['propSig', 'paramSizesNormed', 'Rs', 'adjRs', 'pvalues',  'numTotal', \\\n",
    "            'propSig_CentralVars', 'paramSizesNormed_CentralVars', 'pvalues_CentralVars']\n",
    "\n",
    "output = defaultdict(dict)\n",
    "output['metadata'] = {'article_id':[]}\n",
    "for group in groups:\n",
    "    for outcome in outcomes:\n",
    "        output[group][outcome] = []\n",
    "\n",
    "RHS = article.IVs + article.controls\n",
    "dfoutput = pd.DataFrame(index=article.DVs)"
   ]
  },
  {
   "cell_type": "code",
   "execution_count": 266,
   "metadata": {
    "scrolled": true
   },
   "outputs": [
    {
     "name": "stdout",
     "output_type": "stream",
     "text": [
      "Running article: 6686\n",
      "INCOME ~ ['MARITAL', 'SEX', 'RACE', 'CHILDS', 'OCC', 'DEGREE', 'AGE', 'SPDEG', 'SPOCC']\n",
      "['MARITAL', 'SEX', 'RACE', 'CHILDS', 'OCC', 'DEGREE', 'AGE', 'SPDEG', 'SPOCC']\n",
      "IV OCC is of type \"DONOTUSE\"\n",
      "IV SPOCC is of type \"DONOTUSE\"\n",
      "IV OCC is of type \"DONOTUSE\"\n",
      "IV SPOCC is of type \"DONOTUSE\"\n"
     ]
    }
   ],
   "source": [
    "print 'Running article:', article.articleID\n",
    "\n",
    "for DV in article.DVs:\n",
    "    print DV, '~', RHS\n",
    "    print RHS\n",
    "#     RHS.remove('AGEWED')\n",
    "\n",
    "#         futureYearsPossible = [yr for yr in article.GSSYearsPossible if yr > maxYearUsed]\n",
    "#         nextYear = min(futureYearsPossible) # the arguments of GU.filterArticles function ensure that there is a suitable future year (within bound)\n",
    "\n",
    "#             log.write('id'+str(article.articleID)+' year '+str(maxYearUsed))\n",
    "\n",
    "    resOnDataUsed = GU.runModel(dataCont, max(article.GSSYearsUsed), DV, RHS, \n",
    "#                                 custom_data=custom_data,\n",
    "                                standardized=False) # models run on max year of data used\n",
    "    if not resOnDataUsed: continue\n",
    "\n",
    "# #             log.write('id'+str(article.articleID)+' year '+str(nextYear))           \n",
    "#         resOnNextYear = GU.runModel(dataCont, nextYear, DV, RHS); # models run on min year of future data\n",
    "#         if not resOnNextYear: continue\n",
    "\n",
    "#         # Checks on which results to record                \n",
    "#         if len(resOnDataUsed.params) != len(resOnNextYear.params):\n",
    "#             print 'The number of variables in original model is different from the number in model on future years. Skipping.'                    \n",
    "#             continue\n",
    "\n",
    "    # the condition below means that i don't care about models in which orig var isn't stat. sig.\n",
    "#            if results.pvalues[-1] > 0.05: continue\n",
    "#         results = [resOnDataUsed, resOnNextYear]\n",
    "\n",
    "    centralVars = []            \n",
    "    for civ in article.centralIVs:\n",
    "        if civ in resOnDataUsed.params.index:\n",
    "            centralVars.append(civ)\n",
    "        else: \n",
    "            for col in resOnDataUsed.params.index:\n",
    "                if 'C(' + civ + ')' in col:\n",
    "                    centralVars.append(col)\n",
    "\n",
    "#             print 'IVs:', article.IVs\n",
    "#             print 'centralVas:', centralVars\n",
    "#            raw_input('...')\n",
    "    '''                \n",
    "    centralVars = ['standardize(%s, ddof=1)' % (cv) for cv in article.centralIVs]\n",
    "    centralVars = set(centralVars).intersection(results[0].params.index) # need this step because some central                                                                                            # var columns may be removed when running model\n",
    "    '''\n",
    "\n",
    "    dfoutput.loc[DV, 'Rs'] = resOnDataUsed.rsquared\n",
    "    dfoutput.loc[DV, 'adjRs'] = resOnDataUsed.rsquared_adj\n",
    "\n",
    "    for col in resOnDataUsed.params.index:          \n",
    "        dfoutput.loc[DV, col] = resOnDataUsed.params[col]\n"
   ]
  },
  {
   "cell_type": "code",
   "execution_count": 267,
   "metadata": {
    "collapsed": true
   },
   "outputs": [],
   "source": [
    "#2506\n",
    "# dfoutput.loc[['SPKRAC', 'ANTIREL', 'LIBHOMO', 'COLRAC'], :].mean().T\n",
    "# MARITAL AVG = [6:10].mean()\n",
    "# race avg = [3:5].mean()\n",
    "# dfoutput.loc[['FEPOLY', 'FEPRES', 'FEFAM'], :].mean().T\n",
    "# dfoutput.loc[['HOMOSEX', 'PREMARSX', 'XMARSEX'], :].mean().T\n",
    "# dfoutput.loc[['NATENVIR','NATHEAL','NATEDUC', 'NATSOC'], :].mean().T\n",
    "# dfoutput.loc[['NATRACE', 'NATCITY', 'NATFARE'], :].mean().T\n",
    "# dfoutput.loc[['COMMUN', 'CHINA', 'RUSSIA'], :].mean().T[3:5].mean()"
   ]
  },
  {
   "cell_type": "code",
   "execution_count": 268,
   "metadata": {},
   "outputs": [
    {
     "data": {
      "text/plain": [
       "Index([u'Rs', u'adjRs', u'Intercept', u'C(MARITAL)[T.2.0]', u'C(MARITAL)[T.3.0]', u'C(MARITAL)[T.4.0]', u'C(MARITAL)[T.5.0]', u'C(SEX)[T.2.0]', u'C(RACE)[T.2.0]', u'C(RACE)[T.3.0]', u'CHILDS', u'DEGREE', u'AGE', u'SPDEG'], dtype='object')"
      ]
     },
     "execution_count": 268,
     "metadata": {},
     "output_type": "execute_result"
    }
   ],
   "source": [
    "dfoutput.columns"
   ]
  },
  {
   "cell_type": "code",
   "execution_count": 269,
   "metadata": {},
   "outputs": [],
   "source": [
    "dfoutput.to_csv('%d_output.csv' % ARTICLE_ID)"
   ]
  },
  {
   "cell_type": "code",
   "execution_count": 270,
   "metadata": {},
   "outputs": [
    {
     "data": {
      "text/plain": [
       "(1.0, 0.0)"
      ]
     },
     "execution_count": 270,
     "metadata": {},
     "output_type": "execute_result"
    }
   ],
   "source": [
    "from scipy.stats import pearsonr\n",
    "pearsonr([0.359, 0.469], [0.215, 1.166])"
   ]
  },
  {
   "cell_type": "code",
   "execution_count": 271,
   "metadata": {},
   "outputs": [
    {
     "data": {
      "text/plain": [
       "0.01065"
      ]
     },
     "execution_count": 271,
     "metadata": {},
     "output_type": "execute_result"
    }
   ],
   "source": [
    "np.mean([0.0089, 0.0124])"
   ]
  },
  {
   "cell_type": "code",
   "execution_count": null,
   "metadata": {
    "collapsed": true
   },
   "outputs": [],
   "source": []
  },
  {
   "cell_type": "code",
   "execution_count": null,
   "metadata": {
    "collapsed": true
   },
   "outputs": [],
   "source": []
  }
 ],
 "metadata": {
  "kernelspec": {
   "display_name": "Python 2",
   "language": "python",
   "name": "python2"
  },
  "language_info": {
   "codemirror_mode": {
    "name": "ipython",
    "version": 2
   },
   "file_extension": ".py",
   "mimetype": "text/x-python",
   "name": "python",
   "nbconvert_exporter": "python",
   "pygments_lexer": "ipython2",
   "version": "2.7.3"
  }
 },
 "nbformat": 4,
 "nbformat_minor": 1
}
