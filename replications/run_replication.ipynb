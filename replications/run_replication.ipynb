{
 "cells": [
  {
   "cell_type": "markdown",
   "metadata": {},
   "source": [
    "###filename: run_replication.ipynb\n",
    "\n",
    "###description: \n",
    "    last updated: 2016-07-08\n",
    "    Run models from an article for the purposes of comparing results to \"manual/gold standard\" replications by Julianna. \n",
    "    \n",
    "\n",
    "###inputs:\n",
    "\n",
    "###outputs:\n",
    "\n",
    "##TO-DOs:\n",
    "    \n",
    "    \n",
    "@author: Misha\n"
   ]
  },
  {
   "cell_type": "code",
   "execution_count": 87,
   "metadata": {
    "collapsed": true
   },
   "outputs": [],
   "source": [
    "# the article we are running\n",
    "ARTICLE_ID = 6686"
   ]
  },
  {
   "cell_type": "code",
   "execution_count": 52,
   "metadata": {
    "collapsed": false
   },
   "outputs": [],
   "source": [
    "from __future__ import division\n",
    "import pandas as pd\n",
    "import pickle\n",
    "import sys\n",
    "sys.path.append('../')    \n",
    "import GSSUtility as GU\n",
    "import numpy as np\n",
    "import statsmodels.formula.api as smf \n",
    "import random\n",
    "from scipy.stats import pearsonr, ttest_ind, ttest_rel\n",
    "import time\n",
    "from collections import Counter\n",
    "from collections import defaultdict\n",
    "\n",
    "import matplotlib.pyplot as plt\n",
    "import seaborn as sb\n",
    "custom_style = {'axes.facecolor': 'white',\n",
    "                'grid.color': '0.15',\n",
    "                'grid.linestyle':'-.'}\n",
    "sb.set_style(\"darkgrid\", rc=custom_style)"
   ]
  },
  {
   "cell_type": "code",
   "execution_count": 79,
   "metadata": {
    "collapsed": false
   },
   "outputs": [
    {
     "data": {
      "text/plain": [
       "<module 'GSSUtility' from '../GSSUtility.py'>"
      ]
     },
     "execution_count": 79,
     "metadata": {},
     "output_type": "execute_result"
    }
   ],
   "source": [
    "%rm ../GSSUtility.pyc # remove this file because otherwise it will be used instead of the updated .py file\n",
    "reload(GU)"
   ]
  },
  {
   "cell_type": "code",
   "execution_count": null,
   "metadata": {
    "collapsed": false
   },
   "outputs": [],
   "source": []
  },
  {
   "cell_type": "code",
   "execution_count": null,
   "metadata": {
    "collapsed": false
   },
   "outputs": [],
   "source": []
  },
  {
   "cell_type": "code",
   "execution_count": 80,
   "metadata": {
    "collapsed": false
   },
   "outputs": [],
   "source": [
    "# custom_data.astype(float) # doesn't work because stata has files in numerical and string formats, unlike the file I used which was all numerical"
   ]
  },
  {
   "cell_type": "code",
   "execution_count": 91,
   "metadata": {
    "collapsed": false
   },
   "outputs": [
    {
     "name": "stdout",
     "output_type": "stream",
     "text": [
      "len of articleClasses: 769\n"
     ]
    }
   ],
   "source": [
    "pathToData = '../../Data/'\n",
    "dataCont = GU.dataContainer(pathToData)\n",
    "\n",
    "articlesToUse = GU.filterArticles(dataCont.articleClasses, GSSYearsUsed=True, GSSYearsPossible=False, \\\n",
    "                                    centralIVs=False, nextYearBound=0, linearModels=False)            \n",
    "print 'len of articleClasses:', len(articlesToUse)\n",
    "#     raw_input('...')\n",
    "\n",
    "\n",
    "# define the storage containers for outputs\n",
    "group1 = 'on last GSS year'\n",
    "group2 = 'on first \"future\" GSS year'   \n",
    "groups = [group1, group2]\n",
    "outcomes = ['propSig', 'paramSizesNormed', 'Rs', 'adjRs', 'pvalues',  'numTotal', \\\n",
    "            'propSig_CentralVars', 'paramSizesNormed_CentralVars', 'pvalues_CentralVars']\n",
    "\n",
    "output = defaultdict(dict)\n",
    "output['metadata'] = {'article_id':[]}\n",
    "for group in groups:\n",
    "    for outcome in outcomes:\n",
    "        output[group][outcome] = []\n",
    "\n",
    "\n",
    "article = [a for a in articlesToUse if a.articleID == ARTICLE_ID][0]\n",
    "maxYearUsed = max(article.GSSYearsUsed)\n",
    "\n",
    "maxYearUsed = 1986\n",
    "\n",
    "# load custom data\n",
    "custom_data = pd.read_csv('../../Data/juliana_replications/%d/%d_%d.csv' % (ARTICLE_ID, ARTICLE_ID, 1986), index_col=0)  \n",
    "custom_data.columns = map(str.upper, custom_data.columns)\n",
    "\n",
    "custom_data = custom_data.replace({'.i':np.nan, # i should probably check to make sure all these answers are legitimately NaNs\n",
    "                                   '.a':np.nan, \n",
    "                                   '.n':np.nan,\n",
    "                                   '.d':np.nan,\n",
    "                                   'dk':np.nan, \n",
    "                                   'dk,na,iap':np.nan})\n",
    "\n",
    "RHS = article.IVs + article.controls\n",
    "\n",
    "dfoutput = pd.DataFrame(index=article.DVs)"
   ]
  },
  {
   "cell_type": "code",
   "execution_count": 89,
   "metadata": {
    "collapsed": false
   },
   "outputs": [
    {
     "data": {
      "text/plain": [
       "[1977, 1978]"
      ]
     },
     "execution_count": 89,
     "metadata": {},
     "output_type": "execute_result"
    }
   ],
   "source": [
    "article.GSSYearsUsed"
   ]
  },
  {
   "cell_type": "code",
   "execution_count": 92,
   "metadata": {
    "collapsed": false,
    "scrolled": true
   },
   "outputs": [
    {
     "name": "stdout",
     "output_type": "stream",
     "text": [
      "Running article: 6686\n",
      "INCOME ~ ['MARITAL', 'SEX', 'RACE', 'CHILDS', 'OCC', 'DEGREE', 'AGE', 'SPDEG', 'SPOCC']\n",
      "IV OCC is of type \"DONOTUSE\"\n",
      "IV SPOCC is of type \"DONOTUSE\"\n",
      "IV OCC is of type \"DONOTUSE\"\n",
      "IV SPOCC is of type \"DONOTUSE\"\n"
     ]
    }
   ],
   "source": [
    "print 'Running article:', article.articleID\n",
    "\n",
    "for DV in article.DVs:\n",
    "    print DV, '~', RHS\n",
    "#     RHS.remove('AGEWED')\n",
    "\n",
    "#         futureYearsPossible = [yr for yr in article.GSSYearsPossible if yr > maxYearUsed]\n",
    "#         nextYear = min(futureYearsPossible) # the arguments of GU.filterArticles function ensure that there is a suitable future year (within bound)\n",
    "\n",
    "#             log.write('id'+str(article.articleID)+' year '+str(maxYearUsed))\n",
    "\n",
    "    resOnDataUsed = GU.runModel(dataCont, maxYearUsed, DV, RHS, custom_data=custom_data, standardize=False) # models run on max year of data used\n",
    "    if not resOnDataUsed: continue\n",
    "\n",
    "# #             log.write('id'+str(article.articleID)+' year '+str(nextYear))           \n",
    "#         resOnNextYear = GU.runModel(dataCont, nextYear, DV, RHS); # models run on min year of future data\n",
    "#         if not resOnNextYear: continue\n",
    "\n",
    "#         # Checks on which results to record                \n",
    "#         if len(resOnDataUsed.params) != len(resOnNextYear.params):\n",
    "#             print 'The number of variables in original model is different from the number in model on future years. Skipping.'                    \n",
    "#             continue\n",
    "\n",
    "    # the condition below means that i don't care about models in which orig var isn't stat. sig.\n",
    "#            if results.pvalues[-1] > 0.05: continue\n",
    "#         results = [resOnDataUsed, resOnNextYear]\n",
    "\n",
    "    centralVars = []            \n",
    "    for civ in article.centralIVs:\n",
    "        if civ in resOnDataUsed.params.index:\n",
    "            centralVars.append(civ)\n",
    "        else: \n",
    "            for col in resOnDataUsed.params.index:\n",
    "                if 'C(' + civ + ')' in col:\n",
    "                    centralVars.append(col)\n",
    "\n",
    "#             print 'IVs:', article.IVs\n",
    "#             print 'centralVas:', centralVars\n",
    "#            raw_input('...')\n",
    "    '''                \n",
    "    centralVars = ['standardize(%s, ddof=1)' % (cv) for cv in article.centralIVs]\n",
    "    centralVars = set(centralVars).intersection(results[0].params.index) # need this step because some central                                                                                            # var columns may be removed when running model\n",
    "    '''\n",
    "\n",
    "    dfoutput.loc[DV, 'Rs'] = resOnDataUsed.rsquared\n",
    "    dfoutput.loc[DV, 'adjRs'] = resOnDataUsed.rsquared_adj\n",
    "\n",
    "    for col in resOnDataUsed.params.index:          \n",
    "        dfoutput.loc[DV, col] = resOnDataUsed.params[col]\n"
   ]
  },
  {
   "cell_type": "code",
   "execution_count": 93,
   "metadata": {
    "collapsed": false
   },
   "outputs": [
    {
     "data": {
      "text/html": [
       "<div style=\"max-height:1000px;max-width:1500px;overflow:auto;\">\n",
       "<table border=\"1\" class=\"dataframe\">\n",
       "  <thead>\n",
       "    <tr style=\"text-align: right;\">\n",
       "      <th></th>\n",
       "      <th>Rs</th>\n",
       "      <th>adjRs</th>\n",
       "      <th>Intercept</th>\n",
       "      <th>C(MARITAL)[T.2.0]</th>\n",
       "      <th>C(MARITAL)[T.3.0]</th>\n",
       "      <th>C(MARITAL)[T.4.0]</th>\n",
       "      <th>C(MARITAL)[T.5.0]</th>\n",
       "      <th>C(SEX)[T.2.0]</th>\n",
       "      <th>C(RACE)[T.1.0]</th>\n",
       "      <th>CHILDS</th>\n",
       "      <th>DEGREE</th>\n",
       "      <th>AGE</th>\n",
       "      <th>SPDEG</th>\n",
       "    </tr>\n",
       "  </thead>\n",
       "  <tbody>\n",
       "    <tr>\n",
       "      <th>INCOME</th>\n",
       "      <td>0.274994</td>\n",
       "      <td>0.270025</td>\n",
       "      <td>10.98972</td>\n",
       "      <td>-1.998274</td>\n",
       "      <td>-1.775246</td>\n",
       "      <td>-2.720919</td>\n",
       "      <td>-2.160691</td>\n",
       "      <td>-0.462026</td>\n",
       "      <td>-0.756157</td>\n",
       "      <td>-0.067649</td>\n",
       "      <td>0.525494</td>\n",
       "      <td>-0.014683</td>\n",
       "      <td>0.176163</td>\n",
       "    </tr>\n",
       "  </tbody>\n",
       "</table>\n",
       "</div>"
      ],
      "text/plain": [
       "              Rs     adjRs  Intercept  C(MARITAL)[T.2.0]  C(MARITAL)[T.3.0]  \\\n",
       "INCOME  0.274994  0.270025   10.98972          -1.998274          -1.775246   \n",
       "\n",
       "        C(MARITAL)[T.4.0]  C(MARITAL)[T.5.0]  C(SEX)[T.2.0]  C(RACE)[T.1.0]  \\\n",
       "INCOME          -2.720919          -2.160691      -0.462026       -0.756157   \n",
       "\n",
       "          CHILDS    DEGREE       AGE     SPDEG  \n",
       "INCOME -0.067649  0.525494 -0.014683  0.176163  "
      ]
     },
     "execution_count": 93,
     "metadata": {},
     "output_type": "execute_result"
    }
   ],
   "source": [
    "dfoutput"
   ]
  },
  {
   "cell_type": "code",
   "execution_count": 95,
   "metadata": {
    "collapsed": false
   },
   "outputs": [
    {
     "data": {
      "text/plain": [
       "['MARITAL', 'SEX', 'RACE', 'CHILDS', 'OCC', 'DEGREE', 'AGE', 'SPDEG', 'SPOCC']"
      ]
     },
     "execution_count": 95,
     "metadata": {},
     "output_type": "execute_result"
    }
   ],
   "source": [
    "article.IVs"
   ]
  },
  {
   "cell_type": "code",
   "execution_count": null,
   "metadata": {
    "collapsed": true
   },
   "outputs": [],
   "source": []
  }
 ],
 "metadata": {
  "kernelspec": {
   "display_name": "Python 2",
   "language": "python",
   "name": "python2"
  },
  "language_info": {
   "codemirror_mode": {
    "name": "ipython",
    "version": 2
   },
   "file_extension": ".py",
   "mimetype": "text/x-python",
   "name": "python",
   "nbconvert_exporter": "python",
   "pygments_lexer": "ipython2",
   "version": "2.7.3"
  }
 },
 "nbformat": 4,
 "nbformat_minor": 0
}
