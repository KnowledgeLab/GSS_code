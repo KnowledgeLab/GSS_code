{
 "cells": [
  {
   "cell_type": "markdown",
   "metadata": {},
   "source": [
    "###filename: run_replication.ipynb\n",
    "\n",
    "###description: \n",
    "    last updated: 2016-07-08\n",
    "    Run models from an article for the purposes of comparing results to \"manual/gold standard\" replications by Julianna. \n",
    "    \n",
    "\n",
    "###inputs:\n",
    "\n",
    "###outputs:\n",
    "\n",
    "##TO-DOs:\n",
    "    \n",
    "    \n",
    "@author: Misha\n"
   ]
  },
  {
   "cell_type": "code",
   "execution_count": 30,
   "metadata": {
    "collapsed": true
   },
   "outputs": [],
   "source": [
    "# the article we are running\n",
    "ARTICLE_ID = 2506"
   ]
  },
  {
   "cell_type": "code",
   "execution_count": 2,
   "metadata": {
    "collapsed": false
   },
   "outputs": [],
   "source": [
    "from __future__ import division\n",
    "import pandas as pd\n",
    "import pickle\n",
    "import sys\n",
    "sys.path.append('../')    \n",
    "import GSSUtility as GU\n",
    "import numpy as np\n",
    "import statsmodels.formula.api as smf \n",
    "import random\n",
    "from scipy.stats import pearsonr, ttest_ind, ttest_rel\n",
    "import time\n",
    "from collections import Counter\n",
    "from collections import defaultdict\n",
    "\n",
    "import matplotlib.pyplot as plt\n",
    "import seaborn as sb\n",
    "custom_style = {'axes.facecolor': 'white',\n",
    "                'grid.color': '0.15',\n",
    "                'grid.linestyle':'-.'}\n",
    "sb.set_style(\"darkgrid\", rc=custom_style)"
   ]
  },
  {
   "cell_type": "code",
   "execution_count": 9,
   "metadata": {
    "collapsed": false
   },
   "outputs": [
    {
     "data": {
      "text/plain": [
       "<module 'GSSUtility' from '../GSSUtility.py'>"
      ]
     },
     "execution_count": 9,
     "metadata": {},
     "output_type": "execute_result"
    }
   ],
   "source": [
    "%rm ../GSSUtility.pyc # remove this file because otherwise it will be used instead of the updated .py file\n",
    "reload(GU)"
   ]
  },
  {
   "cell_type": "code",
   "execution_count": null,
   "metadata": {
    "collapsed": false
   },
   "outputs": [],
   "source": [
    "pathToData = '../../Data/'\n",
    "dataCont = GU.dataContainer(pathToData)"
   ]
  },
  {
   "cell_type": "code",
   "execution_count": 10,
   "metadata": {
    "collapsed": false
   },
   "outputs": [],
   "source": [
    "# small_set = [a for a in articlesToUse if \n",
    "#              a.articleID in [1651, 1944, 2506, 3567, 3613, 5754]]"
   ]
  },
  {
   "cell_type": "code",
   "execution_count": 11,
   "metadata": {
    "collapsed": false
   },
   "outputs": [],
   "source": [
    "# for article in small_set:\n",
    "#     print 'id:', article.articleID\n",
    "#     print 'used:', article.GSSYearsUsed\n",
    "#     print 'possible:', article.GSSYearsPossible"
   ]
  },
  {
   "cell_type": "code",
   "execution_count": 12,
   "metadata": {
    "collapsed": false
   },
   "outputs": [],
   "source": [
    "# custom_data.astype(float) # doesn't work because stata has files in numerical and string formats, unlike the file I used which was all numerical"
   ]
  },
  {
   "cell_type": "code",
   "execution_count": 44,
   "metadata": {
    "collapsed": false
   },
   "outputs": [
    {
     "name": "stdout",
     "output_type": "stream",
     "text": [
      "article id: 2506\n",
      "\n",
      "GSS Years Used: [1993]\n",
      "\n",
      "DVs: ['SPKATH', 'LIBATH', 'SPKRAC', 'LIBHOMO', 'COLATH', 'FEPRES', 'XMARSEX', 'HOMOSEX', 'PREMARSX', 'FEHOME', 'FEPOL', 'NATSOC', 'NATHEAL', 'NATENVIR', 'NATEDUC', 'NATFARE', 'NATCITY', 'NATRACE', 'CHINA', 'RUSSIA', 'COMMUN', 'PRES92', 'NATPARK', 'NATCRIME', 'NATDRUG']\n",
      "\n",
      "IVs: ['PARTYID', 'CHILDS', 'AGE', 'INCOME', 'DWELLING', 'EDUC', 'RACDIS', 'RACE', 'SEX', 'MARITAL', 'SIZE', 'DWELOWN', 'RES16']\n",
      "\n",
      "Controls: ['PRESTG80', 'REGION', 'RELIG']\n",
      "\n",
      "Central IVs: ['DWELOWN']\n"
     ]
    }
   ],
   "source": [
    "################################\n",
    "# ANALYSIS\n",
    "\n",
    "articlesToUse = GU.filterArticles(dataCont.articleClasses, GSSYearsUsed=True, GSSYearsPossible=False, \\\n",
    "                                    centralIVs=False, nextYearBound=0, linearModels=False)            \n",
    "article = [a for a in articlesToUse if a.articleID == ARTICLE_ID][0]\n",
    "maxYearUsed = max(article.GSSYearsUsed)\n",
    "\n",
    "print 'article id:', article.articleID\n",
    "print\n",
    "print 'GSS Years Used:', article.GSSYearsUsed\n",
    "print\n",
    "print 'DVs:', article.DVs\n",
    "print\n",
    "print 'IVs:', article.IVs\n",
    "print\n",
    "print 'Controls:', article.controls\n",
    "print\n",
    "print 'Central IVs:', article.centralIVs"
   ]
  },
  {
   "cell_type": "code",
   "execution_count": 35,
   "metadata": {
    "collapsed": true
   },
   "outputs": [],
   "source": [
    "# maxYearUsed = 1993\n",
    "\n",
    "# define the storage containers for outputs\n",
    "group1 = 'on last GSS year'\n",
    "group2 = 'on first \"future\" GSS year'   \n",
    "groups = [group1, group2]\n",
    "outcomes = ['propSig', 'paramSizesNormed', 'Rs', 'adjRs', 'pvalues',  'numTotal', \\\n",
    "            'propSig_CentralVars', 'paramSizesNormed_CentralVars', 'pvalues_CentralVars']\n",
    "\n",
    "output = defaultdict(dict)\n",
    "output['metadata'] = {'article_id':[]}\n",
    "for group in groups:\n",
    "    for outcome in outcomes:\n",
    "        output[group][outcome] = []\n",
    "\n",
    "RHS = article.IVs + article.controls\n",
    "dfoutput = pd.DataFrame(index=article.DVs)\n"
   ]
  },
  {
   "cell_type": "code",
   "execution_count": 37,
   "metadata": {
    "collapsed": false
   },
   "outputs": [
    {
     "name": "stdout",
     "output_type": "stream",
     "text": [
      "loading ../../Data/juliana_replications/2506/2506_1993.csv\n",
      "(1606, 5630)\n"
     ]
    },
    {
     "name": "stderr",
     "output_type": "stream",
     "text": [
      "/home/misha/python/pandas-0.16.0-py2.7-linux-x86_64.egg/pandas/io/parsers.py:1164: DtypeWarning: Columns (21,60,61,62,64,68,92,94,102,103,104,107,108,112,150,169,187,296,303,350,443,577,581,582,583,593,700,702,704,705,1385,1386,1394,1395,1398,1403,1414,1415,1416,1417,1418,1419,1420,1421,1422,1423,1424,1425,1426,1427,1428,1429,1430,1440,1441,1443,1444,1445,1446,1447,1448,1449,1450,1451,1453,1454,5015,5205,5276,5300,5343,5344,5439,5440,5442,5443,5445,5476,5528,5530,5531) have mixed types. Specify dtype option on import or set low_memory=False.\n",
      "  data = self._reader.read(nrows)\n"
     ]
    }
   ],
   "source": [
    "# load custom data\n",
    "print 'loading ../../Data/juliana_replications/%d/%d_%d.csv' % (ARTICLE_ID, ARTICLE_ID, max(article.GSSYearsUsed))\n",
    "custom_data = pd.read_csv('../../Data/juliana_replications/%d/%d_%d.csv' % (ARTICLE_ID, ARTICLE_ID, max(article.GSSYearsUsed)), index_col=0)  \n",
    "custom_data.columns = map(str.upper, custom_data.columns)\n",
    "\n",
    "custom_data = custom_data.replace({'.i':np.nan, # i should probably check to make sure all these answers are legitimately NaNs\n",
    "                                   '.a':np.nan, \n",
    "                                   '.n':np.nan,\n",
    "                                   '.d':np.nan,\n",
    "                                   '.c':np.nan,\n",
    "                                   'dk':np.nan, \n",
    "                                   'dk,na,iap':np.nan})\n",
    "\n",
    "print custom_data.shape"
   ]
  },
  {
   "cell_type": "code",
   "execution_count": 40,
   "metadata": {
    "collapsed": false,
    "scrolled": true
   },
   "outputs": [
    {
     "name": "stdout",
     "output_type": "stream",
     "text": [
      "Running article: 2506\n",
      "SPKATH ~ ['PARTYID', 'CHILDS', 'AGE', 'INCOME', 'DWELLING', 'EDUC', 'RACDIS', 'RACE', 'SEX', 'MARITAL', 'SIZE', 'DWELOWN', 'RES16', 'PRESTG80', 'REGION', 'RELIG']\n",
      "IV PARTYID is of type \"DONOTUSE\"\n",
      "categorical variable RELIG has more than 10 levels\n",
      "IV PARTYID is of type \"DONOTUSE\"\n",
      "categorical variable RELIG has more than 10 levels\n",
      "LIBATH ~ ['PARTYID', 'CHILDS', 'AGE', 'INCOME', 'DWELLING', 'EDUC', 'RACDIS', 'RACE', 'SEX', 'MARITAL', 'SIZE', 'DWELOWN', 'RES16', 'PRESTG80', 'REGION', 'RELIG']\n",
      "IV PARTYID is of type \"DONOTUSE\"\n",
      "categorical variable RELIG has more than 10 levels\n",
      "IV PARTYID is of type \"DONOTUSE\"\n",
      "categorical variable RELIG has more than 10 levels\n",
      "SPKRAC ~ ['PARTYID', 'CHILDS', 'AGE', 'INCOME', 'DWELLING', 'EDUC', 'RACDIS', 'RACE', 'SEX', 'MARITAL', 'SIZE', 'DWELOWN', 'RES16', 'PRESTG80', 'REGION', 'RELIG']\n",
      "IV PARTYID is of type \"DONOTUSE\"\n",
      "categorical variable RELIG has more than 10 levels\n",
      "IV PARTYID is of type \"DONOTUSE\"\n",
      "categorical variable RELIG has more than 10 levels\n",
      "LIBHOMO ~ ['PARTYID', 'CHILDS', 'AGE', 'INCOME', 'DWELLING', 'EDUC', 'RACDIS', 'RACE', 'SEX', 'MARITAL', 'SIZE', 'DWELOWN', 'RES16', 'PRESTG80', 'REGION', 'RELIG']\n",
      "IV PARTYID is of type \"DONOTUSE\"\n",
      "categorical variable RELIG has more than 10 levels\n",
      "IV PARTYID is of type \"DONOTUSE\"\n",
      "categorical variable RELIG has more than 10 levels\n",
      "COLATH ~ ['PARTYID', 'CHILDS', 'AGE', 'INCOME', 'DWELLING', 'EDUC', 'RACDIS', 'RACE', 'SEX', 'MARITAL', 'SIZE', 'DWELOWN', 'RES16', 'PRESTG80', 'REGION', 'RELIG']\n",
      "IV PARTYID is of type \"DONOTUSE\"\n",
      "categorical variable RELIG has more than 10 levels\n",
      "IV PARTYID is of type \"DONOTUSE\"\n",
      "categorical variable RELIG has more than 10 levels\n",
      "FEPRES ~ ['PARTYID', 'CHILDS', 'AGE', 'INCOME', 'DWELLING', 'EDUC', 'RACDIS', 'RACE', 'SEX', 'MARITAL', 'SIZE', 'DWELOWN', 'RES16', 'PRESTG80', 'REGION', 'RELIG']\n",
      "IV PARTYID is of type \"DONOTUSE\"\n",
      "categorical variable RELIG has more than 10 levels\n",
      "IV PARTYID is of type \"DONOTUSE\"\n",
      "categorical variable RELIG has more than 10 levels\n",
      "XMARSEX ~ ['PARTYID', 'CHILDS', 'AGE', 'INCOME', 'DWELLING', 'EDUC', 'RACDIS', 'RACE', 'SEX', 'MARITAL', 'SIZE', 'DWELOWN', 'RES16', 'PRESTG80', 'REGION', 'RELIG']\n",
      "IV PARTYID is of type \"DONOTUSE\"\n",
      "categorical variable RELIG has more than 10 levels\n",
      "IV PARTYID is of type \"DONOTUSE\"\n",
      "categorical variable RELIG has more than 10 levels\n",
      "HOMOSEX ~ ['PARTYID', 'CHILDS', 'AGE', 'INCOME', 'DWELLING', 'EDUC', 'RACDIS', 'RACE', 'SEX', 'MARITAL', 'SIZE', 'DWELOWN', 'RES16', 'PRESTG80', 'REGION', 'RELIG']\n",
      "IV PARTYID is of type \"DONOTUSE\"\n",
      "categorical variable RELIG has more than 10 levels\n",
      "IV PARTYID is of type \"DONOTUSE\"\n",
      "categorical variable RELIG has more than 10 levels\n",
      "PREMARSX ~ ['PARTYID', 'CHILDS', 'AGE', 'INCOME', 'DWELLING', 'EDUC', 'RACDIS', 'RACE', 'SEX', 'MARITAL', 'SIZE', 'DWELOWN', 'RES16', 'PRESTG80', 'REGION', 'RELIG']\n",
      "IV PARTYID is of type \"DONOTUSE\"\n",
      "categorical variable RELIG has more than 10 levels\n",
      "IV PARTYID is of type \"DONOTUSE\"\n",
      "categorical variable RELIG has more than 10 levels\n",
      "FEHOME ~ ['PARTYID', 'CHILDS', 'AGE', 'INCOME', 'DWELLING', 'EDUC', 'RACDIS', 'RACE', 'SEX', 'MARITAL', 'SIZE', 'DWELOWN', 'RES16', 'PRESTG80', 'REGION', 'RELIG']\n",
      "IV PARTYID is of type \"DONOTUSE\"\n",
      "categorical variable RELIG has more than 10 levels\n",
      "DV FEHOME is categorical with more than 2 categories\n",
      "Couldnt construct a suitable formula\n",
      "FEPOL ~ ['PARTYID', 'CHILDS', 'AGE', 'INCOME', 'DWELLING', 'EDUC', 'RACDIS', 'RACE', 'SEX', 'MARITAL', 'SIZE', 'DWELOWN', 'RES16', 'PRESTG80', 'REGION', 'RELIG']\n",
      "IV PARTYID is of type \"DONOTUSE\"\n",
      "categorical variable RELIG has more than 10 levels\n",
      "IV PARTYID is of type \"DONOTUSE\"\n",
      "categorical variable RELIG has more than 10 levels\n",
      "NATSOC ~ ['PARTYID', 'CHILDS', 'AGE', 'INCOME', 'DWELLING', 'EDUC', 'RACDIS', 'RACE', 'SEX', 'MARITAL', 'SIZE', 'DWELOWN', 'RES16', 'PRESTG80', 'REGION', 'RELIG']\n",
      "IV PARTYID is of type \"DONOTUSE\"\n",
      "categorical variable RELIG has more than 10 levels\n",
      "IV PARTYID is of type \"DONOTUSE\"\n",
      "categorical variable RELIG has more than 10 levels\n",
      "NATHEAL ~ ['PARTYID', 'CHILDS', 'AGE', 'INCOME', 'DWELLING', 'EDUC', 'RACDIS', 'RACE', 'SEX', 'MARITAL', 'SIZE', 'DWELOWN', 'RES16', 'PRESTG80', 'REGION', 'RELIG']\n",
      "IV PARTYID is of type \"DONOTUSE\"\n",
      "categorical variable RELIG has more than 10 levels\n",
      "IV PARTYID is of type \"DONOTUSE\"\n",
      "categorical variable RELIG has more than 10 levels\n",
      "NATENVIR ~ ['PARTYID', 'CHILDS', 'AGE', 'INCOME', 'DWELLING', 'EDUC', 'RACDIS', 'RACE', 'SEX', 'MARITAL', 'SIZE', 'DWELOWN', 'RES16', 'PRESTG80', 'REGION', 'RELIG']\n",
      "IV PARTYID is of type \"DONOTUSE\"\n",
      "categorical variable RELIG has more than 10 levels\n",
      "IV PARTYID is of type \"DONOTUSE\"\n",
      "categorical variable RELIG has more than 10 levels\n",
      "NATEDUC ~ ['PARTYID', 'CHILDS', 'AGE', 'INCOME', 'DWELLING', 'EDUC', 'RACDIS', 'RACE', 'SEX', 'MARITAL', 'SIZE', 'DWELOWN', 'RES16', 'PRESTG80', 'REGION', 'RELIG']\n",
      "IV PARTYID is of type \"DONOTUSE\"\n",
      "categorical variable RELIG has more than 10 levels\n",
      "IV PARTYID is of type \"DONOTUSE\"\n",
      "categorical variable RELIG has more than 10 levels\n",
      "NATFARE ~ ['PARTYID', 'CHILDS', 'AGE', 'INCOME', 'DWELLING', 'EDUC', 'RACDIS', 'RACE', 'SEX', 'MARITAL', 'SIZE', 'DWELOWN', 'RES16', 'PRESTG80', 'REGION', 'RELIG']\n",
      "IV PARTYID is of type \"DONOTUSE\"\n",
      "categorical variable RELIG has more than 10 levels\n",
      "IV PARTYID is of type \"DONOTUSE\"\n",
      "categorical variable RELIG has more than 10 levels\n",
      "NATCITY ~ ['PARTYID', 'CHILDS', 'AGE', 'INCOME', 'DWELLING', 'EDUC', 'RACDIS', 'RACE', 'SEX', 'MARITAL', 'SIZE', 'DWELOWN', 'RES16', 'PRESTG80', 'REGION', 'RELIG']\n",
      "IV PARTYID is of type \"DONOTUSE\"\n",
      "categorical variable RELIG has more than 10 levels\n",
      "IV PARTYID is of type \"DONOTUSE\"\n",
      "categorical variable RELIG has more than 10 levels\n",
      "NATRACE ~ ['PARTYID', 'CHILDS', 'AGE', 'INCOME', 'DWELLING', 'EDUC', 'RACDIS', 'RACE', 'SEX', 'MARITAL', 'SIZE', 'DWELOWN', 'RES16', 'PRESTG80', 'REGION', 'RELIG']\n",
      "IV PARTYID is of type \"DONOTUSE\"\n",
      "categorical variable RELIG has more than 10 levels\n",
      "IV PARTYID is of type \"DONOTUSE\"\n",
      "categorical variable RELIG has more than 10 levels\n",
      "CHINA ~ ['PARTYID', 'CHILDS', 'AGE', 'INCOME', 'DWELLING', 'EDUC', 'RACDIS', 'RACE', 'SEX', 'MARITAL', 'SIZE', 'DWELOWN', 'RES16', 'PRESTG80', 'REGION', 'RELIG']\n",
      "IV PARTYID is of type \"DONOTUSE\"\n",
      "categorical variable RELIG has more than 10 levels\n",
      "IV PARTYID is of type \"DONOTUSE\"\n",
      "categorical variable RELIG has more than 10 levels\n",
      "RUSSIA ~ ['PARTYID', 'CHILDS', 'AGE', 'INCOME', 'DWELLING', 'EDUC', 'RACDIS', 'RACE', 'SEX', 'MARITAL', 'SIZE', 'DWELOWN', 'RES16', 'PRESTG80', 'REGION', 'RELIG']\n",
      "IV PARTYID is of type \"DONOTUSE\"\n",
      "categorical variable RELIG has more than 10 levels\n",
      "IV PARTYID is of type \"DONOTUSE\"\n",
      "categorical variable RELIG has more than 10 levels\n",
      "COMMUN ~ ['PARTYID', 'CHILDS', 'AGE', 'INCOME', 'DWELLING', 'EDUC', 'RACDIS', 'RACE', 'SEX', 'MARITAL', 'SIZE', 'DWELOWN', 'RES16', 'PRESTG80', 'REGION', 'RELIG']\n",
      "IV PARTYID is of type \"DONOTUSE\"\n",
      "categorical variable RELIG has more than 10 levels\n",
      "IV PARTYID is of type \"DONOTUSE\"\n",
      "categorical variable RELIG has more than 10 levels\n",
      "PRES92 ~ ['PARTYID', 'CHILDS', 'AGE', 'INCOME', 'DWELLING', 'EDUC', 'RACDIS', 'RACE', 'SEX', 'MARITAL', 'SIZE', 'DWELOWN', 'RES16', 'PRESTG80', 'REGION', 'RELIG']\n",
      "IV PARTYID is of type \"DONOTUSE\"\n",
      "categorical variable RELIG has more than 10 levels\n",
      "IV PARTYID is of type \"DONOTUSE\"\n",
      "categorical variable RELIG has more than 10 levels\n",
      "NATPARK ~ ['PARTYID', 'CHILDS', 'AGE', 'INCOME', 'DWELLING', 'EDUC', 'RACDIS', 'RACE', 'SEX', 'MARITAL', 'SIZE', 'DWELOWN', 'RES16', 'PRESTG80', 'REGION', 'RELIG']\n",
      "IV PARTYID is of type \"DONOTUSE\"\n",
      "categorical variable RELIG has more than 10 levels\n",
      "IV PARTYID is of type \"DONOTUSE\"\n",
      "categorical variable RELIG has more than 10 levels\n",
      "NATCRIME ~ ['PARTYID', 'CHILDS', 'AGE', 'INCOME', 'DWELLING', 'EDUC', 'RACDIS', 'RACE', 'SEX', 'MARITAL', 'SIZE', 'DWELOWN', 'RES16', 'PRESTG80', 'REGION', 'RELIG']\n",
      "IV PARTYID is of type \"DONOTUSE\"\n",
      "categorical variable RELIG has more than 10 levels\n",
      "IV PARTYID is of type \"DONOTUSE\"\n",
      "categorical variable RELIG has more than 10 levels\n",
      "NATDRUG ~ ['PARTYID', 'CHILDS', 'AGE', 'INCOME', 'DWELLING', 'EDUC', 'RACDIS', 'RACE', 'SEX', 'MARITAL', 'SIZE', 'DWELOWN', 'RES16', 'PRESTG80', 'REGION', 'RELIG']\n",
      "IV PARTYID is of type \"DONOTUSE\"\n",
      "categorical variable RELIG has more than 10 levels\n",
      "IV PARTYID is of type \"DONOTUSE\"\n",
      "categorical variable RELIG has more than 10 levels\n"
     ]
    }
   ],
   "source": [
    "print 'Running article:', article.articleID\n",
    "\n",
    "for DV in article.DVs:\n",
    "    print DV, '~', RHS\n",
    "#     RHS.remove('AGEWED')\n",
    "\n",
    "#         futureYearsPossible = [yr for yr in article.GSSYearsPossible if yr > maxYearUsed]\n",
    "#         nextYear = min(futureYearsPossible) # the arguments of GU.filterArticles function ensure that there is a suitable future year (within bound)\n",
    "\n",
    "#             log.write('id'+str(article.articleID)+' year '+str(maxYearUsed))\n",
    "\n",
    "    resOnDataUsed = GU.runModel(dataCont, max(article.GSSYearsUsed), DV, RHS, \n",
    "                                custom_data=custom_data,\n",
    "                                standardized=False) # models run on max year of data used\n",
    "    if not resOnDataUsed: continue\n",
    "\n",
    "# #             log.write('id'+str(article.articleID)+' year '+str(nextYear))           \n",
    "#         resOnNextYear = GU.runModel(dataCont, nextYear, DV, RHS); # models run on min year of future data\n",
    "#         if not resOnNextYear: continue\n",
    "\n",
    "#         # Checks on which results to record                \n",
    "#         if len(resOnDataUsed.params) != len(resOnNextYear.params):\n",
    "#             print 'The number of variables in original model is different from the number in model on future years. Skipping.'                    \n",
    "#             continue\n",
    "\n",
    "    # the condition below means that i don't care about models in which orig var isn't stat. sig.\n",
    "#            if results.pvalues[-1] > 0.05: continue\n",
    "#         results = [resOnDataUsed, resOnNextYear]\n",
    "\n",
    "    centralVars = []            \n",
    "    for civ in article.centralIVs:\n",
    "        if civ in resOnDataUsed.params.index:\n",
    "            centralVars.append(civ)\n",
    "        else: \n",
    "            for col in resOnDataUsed.params.index:\n",
    "                if 'C(' + civ + ')' in col:\n",
    "                    centralVars.append(col)\n",
    "\n",
    "#             print 'IVs:', article.IVs\n",
    "#             print 'centralVas:', centralVars\n",
    "#            raw_input('...')\n",
    "    '''                \n",
    "    centralVars = ['standardize(%s, ddof=1)' % (cv) for cv in article.centralIVs]\n",
    "    centralVars = set(centralVars).intersection(results[0].params.index) # need this step because some central                                                                                            # var columns may be removed when running model\n",
    "    '''\n",
    "\n",
    "    dfoutput.loc[DV, 'Rs'] = resOnDataUsed.rsquared\n",
    "    dfoutput.loc[DV, 'adjRs'] = resOnDataUsed.rsquared_adj\n",
    "\n",
    "    for col in resOnDataUsed.params.index:          \n",
    "        dfoutput.loc[DV, col] = resOnDataUsed.params[col]\n"
   ]
  },
  {
   "cell_type": "code",
   "execution_count": 76,
   "metadata": {
    "collapsed": false
   },
   "outputs": [
    {
     "data": {
      "text/plain": [
       "Rs                   0.103261\n",
       "adjRs                0.089064\n",
       "Intercept            1.826223\n",
       "C(RACE)[T.2.0]      -0.046453\n",
       "C(RACE)[T.3.0]      -0.026214\n",
       "C(SEX)[T.1.0]        0.025628\n",
       "C(MARITAL)[T.2.0]    0.023884\n",
       "C(MARITAL)[T.3.0]    0.221985\n",
       "C(MARITAL)[T.4.0]    0.192199\n",
       "C(MARITAL)[T.5.0]    0.145508\n",
       "C(REGION)[T.2.0]    -0.125745\n",
       "C(REGION)[T.3.0]    -0.307343\n",
       "C(REGION)[T.4.0]    -0.463770\n",
       "C(REGION)[T.5.0]    -0.312689\n",
       "C(REGION)[T.6.0]    -0.370159\n",
       "C(REGION)[T.7.0]    -0.415532\n",
       "C(REGION)[T.8.0]    -0.262914\n",
       "C(REGION)[T.9.0]    -0.192945\n",
       "CHILDS              -0.001630\n",
       "AGE                 -0.005128\n",
       "INCOME              -0.001973\n",
       "DWELLING             0.008350\n",
       "EDUC                 0.024137\n",
       "RACDIS               0.000883\n",
       "SIZE                -0.000003\n",
       "DWELOWN              0.027767\n",
       "RES16                0.051605\n",
       "PRESTG80             0.001657\n",
       "dtype: float64"
      ]
     },
     "execution_count": 76,
     "metadata": {},
     "output_type": "execute_result"
    }
   ],
   "source": [
    "# dfoutput.loc[['SPKRAC', 'ANTIREL', 'LIBHOMO', 'COLRAC'], :].mean().T\n",
    "# MARITAL AVG = [6:10].mean()\n",
    "# race avg = [3:5].mean()\n",
    "# dfoutput.loc[['FEPOLY', 'FEPRES', 'FEFAM'], :].mean().T\n",
    "dfoutput.loc[['HOMOSEX', 'PREMARSX', 'XMARSEX'], :].mean().T\n",
    "dfoutput.loc[['HOMOSEX', 'PREMARSX', 'XMARSEX'], :].mean().T"
   ]
  },
  {
   "cell_type": "code",
   "execution_count": 17,
   "metadata": {
    "collapsed": false
   },
   "outputs": [
    {
     "data": {
      "text/html": [
       "<table class=\"simpletable\">\n",
       "<caption>OLS Regression Results</caption>\n",
       "<tr>\n",
       "  <th>Dep. Variable:</th>        <td>RACSCHOL</td>     <th>  R-squared:         </th> <td>   0.136</td>\n",
       "</tr>\n",
       "<tr>\n",
       "  <th>Model:</th>                   <td>OLS</td>       <th>  Adj. R-squared:    </th> <td>   0.125</td>\n",
       "</tr>\n",
       "<tr>\n",
       "  <th>Method:</th>             <td>Least Squares</td>  <th>  F-statistic:       </th> <td>   12.75</td>\n",
       "</tr>\n",
       "<tr>\n",
       "  <th>Date:</th>             <td>Thu, 19 Jan 2017</td> <th>  Prob (F-statistic):</th> <td>6.69e-32</td>\n",
       "</tr>\n",
       "<tr>\n",
       "  <th>Time:</th>                 <td>08:51:11</td>     <th>  Log-Likelihood:    </th> <td> -282.73</td>\n",
       "</tr>\n",
       "<tr>\n",
       "  <th>No. Observations:</th>      <td>  1318</td>      <th>  AIC:               </th> <td>   599.5</td>\n",
       "</tr>\n",
       "<tr>\n",
       "  <th>Df Residuals:</th>          <td>  1301</td>      <th>  BIC:               </th> <td>   687.6</td>\n",
       "</tr>\n",
       "<tr>\n",
       "  <th>Df Model:</th>              <td>    16</td>      <th>                     </th>     <td> </td>   \n",
       "</tr>\n",
       "<tr>\n",
       "  <th>Covariance Type:</th>      <td>nonrobust</td>    <th>                     </th>     <td> </td>   \n",
       "</tr>\n",
       "</table>\n",
       "<table class=\"simpletable\">\n",
       "<tr>\n",
       "          <td></td>            <th>coef</th>     <th>std err</th>      <th>t</th>      <th>P>|t|</th> <th>[95.0% Conf. Int.]</th> \n",
       "</tr>\n",
       "<tr>\n",
       "  <th>Intercept</th>        <td>    0.2079</td> <td>    0.082</td> <td>    2.537</td> <td> 0.011</td> <td>    0.047     0.369</td>\n",
       "</tr>\n",
       "<tr>\n",
       "  <th>C(REGION)[T.2.0]</th> <td>   -0.0076</td> <td>    0.049</td> <td>   -0.155</td> <td> 0.877</td> <td>   -0.104     0.089</td>\n",
       "</tr>\n",
       "<tr>\n",
       "  <th>C(REGION)[T.3.0]</th> <td>    0.0404</td> <td>    0.047</td> <td>    0.854</td> <td> 0.393</td> <td>   -0.052     0.133</td>\n",
       "</tr>\n",
       "<tr>\n",
       "  <th>C(REGION)[T.4.0]</th> <td>    0.0252</td> <td>    0.054</td> <td>    0.467</td> <td> 0.640</td> <td>   -0.081     0.131</td>\n",
       "</tr>\n",
       "<tr>\n",
       "  <th>C(REGION)[T.5.0]</th> <td>    0.1739</td> <td>    0.048</td> <td>    3.592</td> <td> 0.000</td> <td>    0.079     0.269</td>\n",
       "</tr>\n",
       "<tr>\n",
       "  <th>C(REGION)[T.6.0]</th> <td>    0.2867</td> <td>    0.054</td> <td>    5.343</td> <td> 0.000</td> <td>    0.181     0.392</td>\n",
       "</tr>\n",
       "<tr>\n",
       "  <th>C(REGION)[T.7.0]</th> <td>    0.1089</td> <td>    0.053</td> <td>    2.055</td> <td> 0.040</td> <td>    0.005     0.213</td>\n",
       "</tr>\n",
       "<tr>\n",
       "  <th>C(REGION)[T.8.0]</th> <td>    0.0305</td> <td>    0.056</td> <td>    0.549</td> <td> 0.583</td> <td>   -0.079     0.140</td>\n",
       "</tr>\n",
       "<tr>\n",
       "  <th>C(REGION)[T.9.0]</th> <td>    0.0070</td> <td>    0.049</td> <td>    0.143</td> <td> 0.887</td> <td>   -0.090     0.104</td>\n",
       "</tr>\n",
       "<tr>\n",
       "  <th>C(SEX)[T.2.0]</th>    <td>    0.0023</td> <td>    0.017</td> <td>    0.136</td> <td> 0.892</td> <td>   -0.031     0.036</td>\n",
       "</tr>\n",
       "<tr>\n",
       "  <th>RACDIS</th>           <td>    0.0089</td> <td>    0.018</td> <td>    0.492</td> <td> 0.623</td> <td>   -0.027     0.044</td>\n",
       "</tr>\n",
       "<tr>\n",
       "  <th>RACCLOS</th>          <td>    0.0124</td> <td>    0.034</td> <td>    0.366</td> <td> 0.714</td> <td>   -0.054     0.079</td>\n",
       "</tr>\n",
       "<tr>\n",
       "  <th>AGE</th>              <td>    0.0017</td> <td>    0.001</td> <td>    3.367</td> <td> 0.001</td> <td>    0.001     0.003</td>\n",
       "</tr>\n",
       "<tr>\n",
       "  <th>INCOME</th>           <td>   -0.0041</td> <td>    0.003</td> <td>   -1.204</td> <td> 0.229</td> <td>   -0.011     0.003</td>\n",
       "</tr>\n",
       "<tr>\n",
       "  <th>PRESTIGE</th>         <td>   -0.0010</td> <td>    0.001</td> <td>   -1.258</td> <td> 0.209</td> <td>   -0.002     0.001</td>\n",
       "</tr>\n",
       "<tr>\n",
       "  <th>EDUC</th>             <td>   -0.0159</td> <td>    0.003</td> <td>   -4.694</td> <td> 0.000</td> <td>   -0.022    -0.009</td>\n",
       "</tr>\n",
       "<tr>\n",
       "  <th>SIZE</th>             <td> 6.984e-07</td> <td> 6.93e-06</td> <td>    0.101</td> <td> 0.920</td> <td>-1.29e-05  1.43e-05</td>\n",
       "</tr>\n",
       "</table>\n",
       "<table class=\"simpletable\">\n",
       "<tr>\n",
       "  <th>Omnibus:</th>       <td>471.161</td> <th>  Durbin-Watson:     </th> <td>   1.820</td> \n",
       "</tr>\n",
       "<tr>\n",
       "  <th>Prob(Omnibus):</th> <td> 0.000</td>  <th>  Jarque-Bera (JB):  </th> <td>1264.896</td> \n",
       "</tr>\n",
       "<tr>\n",
       "  <th>Skew:</th>          <td> 1.917</td>  <th>  Prob(JB):          </th> <td>2.14e-275</td>\n",
       "</tr>\n",
       "<tr>\n",
       "  <th>Kurtosis:</th>      <td> 5.886</td>  <th>  Cond. No.          </th> <td>2.23e+04</td> \n",
       "</tr>\n",
       "</table>"
      ],
      "text/plain": [
       "<class 'statsmodels.iolib.summary.Summary'>\n",
       "\"\"\"\n",
       "                            OLS Regression Results                            \n",
       "==============================================================================\n",
       "Dep. Variable:               RACSCHOL   R-squared:                       0.136\n",
       "Model:                            OLS   Adj. R-squared:                  0.125\n",
       "Method:                 Least Squares   F-statistic:                     12.75\n",
       "Date:                Thu, 19 Jan 2017   Prob (F-statistic):           6.69e-32\n",
       "Time:                        08:51:11   Log-Likelihood:                -282.73\n",
       "No. Observations:                1318   AIC:                             599.5\n",
       "Df Residuals:                    1301   BIC:                             687.6\n",
       "Df Model:                          16                                         \n",
       "Covariance Type:            nonrobust                                         \n",
       "====================================================================================\n",
       "                       coef    std err          t      P>|t|      [95.0% Conf. Int.]\n",
       "------------------------------------------------------------------------------------\n",
       "Intercept            0.2079      0.082      2.537      0.011         0.047     0.369\n",
       "C(REGION)[T.2.0]    -0.0076      0.049     -0.155      0.877        -0.104     0.089\n",
       "C(REGION)[T.3.0]     0.0404      0.047      0.854      0.393        -0.052     0.133\n",
       "C(REGION)[T.4.0]     0.0252      0.054      0.467      0.640        -0.081     0.131\n",
       "C(REGION)[T.5.0]     0.1739      0.048      3.592      0.000         0.079     0.269\n",
       "C(REGION)[T.6.0]     0.2867      0.054      5.343      0.000         0.181     0.392\n",
       "C(REGION)[T.7.0]     0.1089      0.053      2.055      0.040         0.005     0.213\n",
       "C(REGION)[T.8.0]     0.0305      0.056      0.549      0.583        -0.079     0.140\n",
       "C(REGION)[T.9.0]     0.0070      0.049      0.143      0.887        -0.090     0.104\n",
       "C(SEX)[T.2.0]        0.0023      0.017      0.136      0.892        -0.031     0.036\n",
       "RACDIS               0.0089      0.018      0.492      0.623        -0.027     0.044\n",
       "RACCLOS              0.0124      0.034      0.366      0.714        -0.054     0.079\n",
       "AGE                  0.0017      0.001      3.367      0.001         0.001     0.003\n",
       "INCOME              -0.0041      0.003     -1.204      0.229        -0.011     0.003\n",
       "PRESTIGE            -0.0010      0.001     -1.258      0.209        -0.002     0.001\n",
       "EDUC                -0.0159      0.003     -4.694      0.000        -0.022    -0.009\n",
       "SIZE              6.984e-07   6.93e-06      0.101      0.920     -1.29e-05  1.43e-05\n",
       "==============================================================================\n",
       "Omnibus:                      471.161   Durbin-Watson:                   1.820\n",
       "Prob(Omnibus):                  0.000   Jarque-Bera (JB):             1264.896\n",
       "Skew:                           1.917   Prob(JB):                    2.14e-275\n",
       "Kurtosis:                       5.886   Cond. No.                     2.23e+04\n",
       "==============================================================================\n",
       "\n",
       "Warnings:\n",
       "[1] Standard Errors assume that the covariance matrix of the errors is correctly specified.\n",
       "[2] The condition number is large, 2.23e+04. This might indicate that there are\n",
       "strong multicollinearity or other numerical problems.\n",
       "\"\"\""
      ]
     },
     "execution_count": 17,
     "metadata": {},
     "output_type": "execute_result"
    }
   ],
   "source": [
    "resOnDataUsed.summary()"
   ]
  },
  {
   "cell_type": "code",
   "execution_count": 29,
   "metadata": {
    "collapsed": false
   },
   "outputs": [
    {
     "data": {
      "text/plain": [
       "0.01065"
      ]
     },
     "execution_count": 29,
     "metadata": {},
     "output_type": "execute_result"
    }
   ],
   "source": [
    "np.mean([0.0089, 0.0124])"
   ]
  }
 ],
 "metadata": {
  "kernelspec": {
   "display_name": "Python 2",
   "language": "python",
   "name": "python2"
  },
  "language_info": {
   "codemirror_mode": {
    "name": "ipython",
    "version": 2
   },
   "file_extension": ".py",
   "mimetype": "text/x-python",
   "name": "python",
   "nbconvert_exporter": "python",
   "pygments_lexer": "ipython2",
   "version": "2.7.3"
  }
 },
 "nbformat": 4,
 "nbformat_minor": 0
}
