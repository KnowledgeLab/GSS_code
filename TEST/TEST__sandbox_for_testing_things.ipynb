{
 "cells": [
  {
   "cell_type": "code",
   "execution_count": 12,
   "metadata": {
    "collapsed": false
   },
   "outputs": [],
   "source": [
    "%matplotlib inline\n",
    "import matplotlib.pyplot as plt\n",
    "import pandas as pd\n",
    "import numpy as np\n",
    "import sys\n",
    "sys.path.append('../')    \n",
    "import GSSUtility as GU\n",
    "import statsmodels.formula.api as smf"
   ]
  },
  {
   "cell_type": "code",
   "execution_count": 3,
   "metadata": {
    "collapsed": false
   },
   "outputs": [
    {
     "name": "stdout",
     "output_type": "stream",
     "text": [
      "Loading DataFrame df. This may take a few minutes.\n"
     ]
    }
   ],
   "source": [
    "pathToData = '../../Data/'\n",
    "dataCont = GU.dataContainer(pathToData)"
   ]
  },
  {
   "cell_type": "code",
   "execution_count": 6,
   "metadata": {
    "collapsed": false
   },
   "outputs": [],
   "source": [
    "# import pandas as pd\n",
    "# import numpy as np\n",
    "# import rpy2.robjects as robjects\n",
    "# r = robjects.r\n",
    "# from rpy2.robjects import pandas2ri\n",
    "# pandas2ri.activate()\n",
    "# import pandas.rpy.common as com\n",
    "# # import GSSUtility as GU\n",
    "# from rpy2.robjects.packages import importr\n",
    "# # R's \"base\" package\n",
    "# amelia = importr('Amelia')\n",
    "df = pd.read_csv('../../Data/test_collinear.csv', index_col=0)\n",
    "# df.index = range(len(df))"
   ]
  },
  {
   "cell_type": "code",
   "execution_count": 7,
   "metadata": {
    "collapsed": false
   },
   "outputs": [],
   "source": [
    "articlesToUse = GU.filterArticles(dataCont.articleClasses, GSSYearsUsed=True, GSSYearsPossible=False, centralIVs=True)\n",
    "article = [a for a in articlesToUse if a.articleID == 7746][0]"
   ]
  },
  {
   "cell_type": "code",
   "execution_count": 9,
   "metadata": {
    "collapsed": false
   },
   "outputs": [
    {
     "data": {
      "text/plain": [
       "(['AGE',\n",
       "  'EDUC',\n",
       "  'JOBHOUR',\n",
       "  'JOBINC',\n",
       "  'JOBMEANS',\n",
       "  'JOBPROMO',\n",
       "  'JOBSEC',\n",
       "  'OCC',\n",
       "  'RACE',\n",
       "  'REGION',\n",
       "  'RINCOME',\n",
       "  'SEX',\n",
       "  'WKSUB',\n",
       "  'WKSUP',\n",
       "  'XNORCSIZ'],\n",
       " [1985, 1987, 1988, 1989])"
      ]
     },
     "execution_count": 9,
     "metadata": {},
     "output_type": "execute_result"
    }
   ],
   "source": [
    "article.IVs, article.GSSYearsUsed"
   ]
  },
  {
   "cell_type": "code",
   "execution_count": 11,
   "metadata": {
    "collapsed": false
   },
   "outputs": [
    {
     "name": "stdout",
     "output_type": "stream",
     "text": [
      "IV OCC is of type \"DONOTUSE\"\n",
      "IV XNORCSIZ is of type \"DONOTUSE\"\n",
      "Either the  params or the R^2 is too high. Skipping.\n",
      "standardize(SATJOB, ddof=1) ~ standardize(AGE, ddof=1) + standardize(EDUC, ddof=1) + standardize(JOBHOUR, ddof=1) + standardize(JOBINC, ddof=1) + standardize(JOBMEANS, ddof=1) + standardize(JOBPROMO, ddof=1) + standardize(JOBSEC, ddof=1) + C(RACE) + C(REGION) + standardize(RINCOME, ddof=1) + C(SEX) + C(WKSUB) + C(WKSUP)\n"
     ]
    }
   ],
   "source": [
    "GU.runModel(dataCont, 1989, 'SATJOB', article.IVs)"
   ]
  },
  {
   "cell_type": "code",
   "execution_count": 17,
   "metadata": {
    "collapsed": false
   },
   "outputs": [
    {
     "data": {
      "text/plain": [
       "(544, 16)"
      ]
     },
     "execution_count": 17,
     "metadata": {},
     "output_type": "execute_result"
    }
   ],
   "source": []
  },
  {
   "cell_type": "code",
   "execution_count": 21,
   "metadata": {
    "collapsed": false
   },
   "outputs": [
    {
     "name": "stdout",
     "output_type": "stream",
     "text": [
      "IV OCC is of type \"DONOTUSE\"\n",
      "IV XNORCSIZ is of type \"DONOTUSE\"\n"
     ]
    },
    {
     "data": {
      "text/html": [
       "<table class=\"simpletable\">\n",
       "<caption>OLS Regression Results</caption>\n",
       "<tr>\n",
       "  <th>Dep. Variable:</th>    <td>standardize(SATJOB, ddof=1)</td> <th>  R-squared:         </th> <td>   0.121</td>\n",
       "</tr>\n",
       "<tr>\n",
       "  <th>Model:</th>                        <td>OLS</td>             <th>  Adj. R-squared:    </th> <td>   0.087</td>\n",
       "</tr>\n",
       "<tr>\n",
       "  <th>Method:</th>                  <td>Least Squares</td>        <th>  F-statistic:       </th> <td>   3.600</td>\n",
       "</tr>\n",
       "<tr>\n",
       "  <th>Date:</th>                  <td>Thu, 09 Apr 2015</td>       <th>  Prob (F-statistic):</th> <td>3.08e-07</td>\n",
       "</tr>\n",
       "<tr>\n",
       "  <th>Time:</th>                      <td>11:39:12</td>           <th>  Log-Likelihood:    </th> <td> -736.32</td>\n",
       "</tr>\n",
       "<tr>\n",
       "  <th>No. Observations:</th>           <td>   544</td>            <th>  AIC:               </th> <td>   1515.</td>\n",
       "</tr>\n",
       "<tr>\n",
       "  <th>Df Residuals:</th>               <td>   523</td>            <th>  BIC:               </th> <td>   1605.</td>\n",
       "</tr>\n",
       "<tr>\n",
       "  <th>Df Model:</th>                   <td>    20</td>            <th>                     </th>     <td> </td>   \n",
       "</tr>\n",
       "<tr>\n",
       "  <th>Covariance Type:</th>           <td>nonrobust</td>          <th>                     </th>     <td> </td>   \n",
       "</tr>\n",
       "</table>\n",
       "<table class=\"simpletable\">\n",
       "<tr>\n",
       "                <td></td>                   <th>coef</th>     <th>std err</th>      <th>t</th>      <th>P>|t|</th> <th>[95.0% Conf. Int.]</th> \n",
       "</tr>\n",
       "<tr>\n",
       "  <th>Intercept</th>                     <td>    0.1498</td> <td>    0.185</td> <td>    0.809</td> <td> 0.419</td> <td>   -0.214     0.514</td>\n",
       "</tr>\n",
       "<tr>\n",
       "  <th>C(RACE)[T.2]</th>                  <td>    0.5378</td> <td>    0.145</td> <td>    3.706</td> <td> 0.000</td> <td>    0.253     0.823</td>\n",
       "</tr>\n",
       "<tr>\n",
       "  <th>C(RACE)[T.3]</th>                  <td>    0.2211</td> <td>    0.234</td> <td>    0.944</td> <td> 0.346</td> <td>   -0.239     0.681</td>\n",
       "</tr>\n",
       "<tr>\n",
       "  <th>C(REGION)[T.2]</th>                <td>   -0.1024</td> <td>    0.207</td> <td>   -0.495</td> <td> 0.621</td> <td>   -0.508     0.304</td>\n",
       "</tr>\n",
       "<tr>\n",
       "  <th>C(REGION)[T.3]</th>                <td>   -0.1030</td> <td>    0.200</td> <td>   -0.516</td> <td> 0.606</td> <td>   -0.495     0.289</td>\n",
       "</tr>\n",
       "<tr>\n",
       "  <th>C(REGION)[T.4]</th>                <td>    0.0850</td> <td>    0.218</td> <td>    0.389</td> <td> 0.697</td> <td>   -0.344     0.514</td>\n",
       "</tr>\n",
       "<tr>\n",
       "  <th>C(REGION)[T.5]</th>                <td>   -0.0688</td> <td>    0.201</td> <td>   -0.343</td> <td> 0.732</td> <td>   -0.463     0.325</td>\n",
       "</tr>\n",
       "<tr>\n",
       "  <th>C(REGION)[T.6]</th>                <td>   -0.2083</td> <td>    0.231</td> <td>   -0.902</td> <td> 0.367</td> <td>   -0.662     0.245</td>\n",
       "</tr>\n",
       "<tr>\n",
       "  <th>C(REGION)[T.7]</th>                <td>    0.0393</td> <td>    0.223</td> <td>    0.176</td> <td> 0.860</td> <td>   -0.398     0.476</td>\n",
       "</tr>\n",
       "<tr>\n",
       "  <th>C(REGION)[T.8]</th>                <td>    0.1103</td> <td>    0.249</td> <td>    0.442</td> <td> 0.658</td> <td>   -0.380     0.600</td>\n",
       "</tr>\n",
       "<tr>\n",
       "  <th>C(REGION)[T.9]</th>                <td>   -0.0242</td> <td>    0.202</td> <td>   -0.120</td> <td> 0.905</td> <td>   -0.421     0.373</td>\n",
       "</tr>\n",
       "<tr>\n",
       "  <th>C(SEX)[T.2]</th>                   <td>   -0.2151</td> <td>    0.089</td> <td>   -2.414</td> <td> 0.016</td> <td>   -0.390    -0.040</td>\n",
       "</tr>\n",
       "<tr>\n",
       "  <th>C(WKSUB)[T.2.0]</th>               <td>   -0.4233</td> <td>    0.111</td> <td>   -3.821</td> <td> 0.000</td> <td>   -0.641    -0.206</td>\n",
       "</tr>\n",
       "<tr>\n",
       "  <th>C(WKSUP)[T.2.0]</th>               <td>    0.0200</td> <td>    0.089</td> <td>    0.224</td> <td> 0.823</td> <td>   -0.155     0.195</td>\n",
       "</tr>\n",
       "<tr>\n",
       "  <th>standardize(AGE, ddof=1)</th>      <td>   -0.0931</td> <td>    0.043</td> <td>   -2.176</td> <td> 0.030</td> <td>   -0.177    -0.009</td>\n",
       "</tr>\n",
       "<tr>\n",
       "  <th>standardize(EDUC, ddof=1)</th>     <td>   -0.0332</td> <td>    0.046</td> <td>   -0.717</td> <td> 0.474</td> <td>   -0.124     0.058</td>\n",
       "</tr>\n",
       "<tr>\n",
       "  <th>standardize(JOBHOUR, ddof=1)</th>  <td>   -0.0944</td> <td>    0.035</td> <td>   -2.676</td> <td> 0.008</td> <td>   -0.164    -0.025</td>\n",
       "</tr>\n",
       "<tr>\n",
       "  <th>standardize(JOBINC, ddof=1)</th>   <td>   -0.0507</td> <td>    0.035</td> <td>   -1.432</td> <td> 0.153</td> <td>   -0.120     0.019</td>\n",
       "</tr>\n",
       "<tr>\n",
       "  <th>standardize(JOBMEANS, ddof=1)</th> <td>    0.0166</td> <td>    0.036</td> <td>    0.465</td> <td> 0.642</td> <td>   -0.054     0.087</td>\n",
       "</tr>\n",
       "<tr>\n",
       "  <th>standardize(JOBPROMO, ddof=1)</th> <td>    0.0711</td> <td>    0.034</td> <td>    2.094</td> <td> 0.037</td> <td>    0.004     0.138</td>\n",
       "</tr>\n",
       "<tr>\n",
       "  <th>standardize(JOBSEC, ddof=1)</th>   <td>    0.0539</td> <td>    0.034</td> <td>    1.570</td> <td> 0.117</td> <td>   -0.014     0.121</td>\n",
       "</tr>\n",
       "<tr>\n",
       "  <th>standardize(RINCOME, ddof=1)</th>  <td>   -0.0857</td> <td>    0.047</td> <td>   -1.814</td> <td> 0.070</td> <td>   -0.179     0.007</td>\n",
       "</tr>\n",
       "</table>\n",
       "<table class=\"simpletable\">\n",
       "<tr>\n",
       "  <th>Omnibus:</th>       <td>58.619</td> <th>  Durbin-Watson:     </th> <td>   1.921</td>\n",
       "</tr>\n",
       "<tr>\n",
       "  <th>Prob(Omnibus):</th> <td> 0.000</td> <th>  Jarque-Bera (JB):  </th> <td>  74.850</td>\n",
       "</tr>\n",
       "<tr>\n",
       "  <th>Skew:</th>          <td> 0.869</td> <th>  Prob(JB):          </th> <td>5.58e-17</td>\n",
       "</tr>\n",
       "<tr>\n",
       "  <th>Kurtosis:</th>      <td> 3.529</td> <th>  Cond. No.          </th> <td>1.01e+15</td>\n",
       "</tr>\n",
       "</table>"
      ],
      "text/plain": [
       "<class 'statsmodels.iolib.summary.Summary'>\n",
       "\"\"\"\n",
       "                                 OLS Regression Results                                \n",
       "=======================================================================================\n",
       "Dep. Variable:     standardize(SATJOB, ddof=1)   R-squared:                       0.121\n",
       "Model:                                     OLS   Adj. R-squared:                  0.087\n",
       "Method:                          Least Squares   F-statistic:                     3.600\n",
       "Date:                         Thu, 09 Apr 2015   Prob (F-statistic):           3.08e-07\n",
       "Time:                                 11:39:12   Log-Likelihood:                -736.32\n",
       "No. Observations:                          544   AIC:                             1515.\n",
       "Df Residuals:                              523   BIC:                             1605.\n",
       "Df Model:                                   20                                         \n",
       "Covariance Type:                     nonrobust                                         \n",
       "=================================================================================================\n",
       "                                    coef    std err          t      P>|t|      [95.0% Conf. Int.]\n",
       "-------------------------------------------------------------------------------------------------\n",
       "Intercept                         0.1498      0.185      0.809      0.419        -0.214     0.514\n",
       "C(RACE)[T.2]                      0.5378      0.145      3.706      0.000         0.253     0.823\n",
       "C(RACE)[T.3]                      0.2211      0.234      0.944      0.346        -0.239     0.681\n",
       "C(REGION)[T.2]                   -0.1024      0.207     -0.495      0.621        -0.508     0.304\n",
       "C(REGION)[T.3]                   -0.1030      0.200     -0.516      0.606        -0.495     0.289\n",
       "C(REGION)[T.4]                    0.0850      0.218      0.389      0.697        -0.344     0.514\n",
       "C(REGION)[T.5]                   -0.0688      0.201     -0.343      0.732        -0.463     0.325\n",
       "C(REGION)[T.6]                   -0.2083      0.231     -0.902      0.367        -0.662     0.245\n",
       "C(REGION)[T.7]                    0.0393      0.223      0.176      0.860        -0.398     0.476\n",
       "C(REGION)[T.8]                    0.1103      0.249      0.442      0.658        -0.380     0.600\n",
       "C(REGION)[T.9]                   -0.0242      0.202     -0.120      0.905        -0.421     0.373\n",
       "C(SEX)[T.2]                      -0.2151      0.089     -2.414      0.016        -0.390    -0.040\n",
       "C(WKSUB)[T.2.0]                  -0.4233      0.111     -3.821      0.000        -0.641    -0.206\n",
       "C(WKSUP)[T.2.0]                   0.0200      0.089      0.224      0.823        -0.155     0.195\n",
       "standardize(AGE, ddof=1)         -0.0931      0.043     -2.176      0.030        -0.177    -0.009\n",
       "standardize(EDUC, ddof=1)        -0.0332      0.046     -0.717      0.474        -0.124     0.058\n",
       "standardize(JOBHOUR, ddof=1)     -0.0944      0.035     -2.676      0.008        -0.164    -0.025\n",
       "standardize(JOBINC, ddof=1)      -0.0507      0.035     -1.432      0.153        -0.120     0.019\n",
       "standardize(JOBMEANS, ddof=1)     0.0166      0.036      0.465      0.642        -0.054     0.087\n",
       "standardize(JOBPROMO, ddof=1)     0.0711      0.034      2.094      0.037         0.004     0.138\n",
       "standardize(JOBSEC, ddof=1)       0.0539      0.034      1.570      0.117        -0.014     0.121\n",
       "standardize(RINCOME, ddof=1)     -0.0857      0.047     -1.814      0.070        -0.179     0.007\n",
       "==============================================================================\n",
       "Omnibus:                       58.619   Durbin-Watson:                   1.921\n",
       "Prob(Omnibus):                  0.000   Jarque-Bera (JB):               74.850\n",
       "Skew:                           0.869   Prob(JB):                     5.58e-17\n",
       "Kurtosis:                       3.529   Cond. No.                     1.01e+15\n",
       "==============================================================================\n",
       "\n",
       "Warnings:\n",
       "[1] Standard Errors assume that the covariance matrix of the errors is correctly specified.\n",
       "[2] The smallest eigenvalue is 9.95e-28. This might indicate that there are\n",
       "strong multicollinearity problems or that the design matrix is singular.\n",
       "\"\"\""
      ]
     },
     "execution_count": 21,
     "metadata": {},
     "output_type": "execute_result"
    }
   ],
   "source": [
    "design = dataCont.df.loc[1989, ['SATJOB'] + article.IVs]\n",
    "formula = GU.createFormula(dataCont, design)\n",
    "results = smf.ols(formula, data=design.dropna()).fit()\n",
    "results.summary()"
   ]
  },
  {
   "cell_type": "code",
   "execution_count": 30,
   "metadata": {
    "collapsed": false
   },
   "outputs": [],
   "source": [
    "def independent_columns(A, tol = 1e-05):\n",
    "    \"\"\"\n",
    "    Return an array composed of independent columns of A.\n",
    "\n",
    "    Note the answer may not be unique; this function returns one of many\n",
    "    possible answers.\n",
    "\n",
    "    http://stackoverflow.com/q/13312498/190597 (user1812712)\n",
    "    http://math.stackexchange.com/a/199132/1140 (Gerry Myerson)\n",
    "    http://mail.scipy.org/pipermail/numpy-discussion/2008-November/038705.html\n",
    "        (Anne Archibald)\n",
    "\n",
    "    >>> A = np.array([(2,4,1,3),(-1,-2,1,0),(0,0,2,2),(3,6,2,5)])\n",
    "    >>> independent_columns(A)\n",
    "    np.array([[1, 4],\n",
    "              [2, 5],\n",
    "              [3, 6]])\n",
    "    \"\"\"\n",
    "    Q, R = np.linalg.qr(A.dropna())\n",
    "    independent = np.where(np.abs(R.diagonal()) > tol)[0]\n",
    "    print independent\n",
    "    return A.iloc[:, independent]"
   ]
  },
  {
   "cell_type": "code",
   "execution_count": 4,
   "metadata": {
    "collapsed": false
   },
   "outputs": [],
   "source": [
    "import pandas as pd\n",
    "import numpy as np\n",
    "df = pd.read_csv('../Data/test_collinear.csv', index_col=0)\n",
    "from scipy.stats import pearsonr"
   ]
  },
  {
   "cell_type": "code",
   "execution_count": 5,
   "metadata": {
    "collapsed": false
   },
   "outputs": [
    {
     "data": {
      "text/html": [
       "<div style=\"max-height:1000px;max-width:1500px;overflow:auto;\">\n",
       "<table border=\"1\" class=\"dataframe\">\n",
       "  <thead>\n",
       "    <tr style=\"text-align: right;\">\n",
       "      <th></th>\n",
       "      <th>HAPMAR</th>\n",
       "      <th>AGE</th>\n",
       "      <th>AGEWED</th>\n",
       "      <th>ATTEND</th>\n",
       "      <th>CHILDS</th>\n",
       "      <th>DIVORCE</th>\n",
       "      <th>EARNRS</th>\n",
       "      <th>EDUC</th>\n",
       "      <th>HOMPOP</th>\n",
       "      <th>INCOME</th>\n",
       "      <th>MARITAL</th>\n",
       "      <th>PRESTIGE</th>\n",
       "      <th>RACE</th>\n",
       "      <th>RINCOME</th>\n",
       "      <th>SEX</th>\n",
       "      <th>SPEDUC</th>\n",
       "      <th>SPWRKSTA</th>\n",
       "      <th>VOTE72</th>\n",
       "      <th>WRKSTAT</th>\n",
       "      <th>XNORCSIZ</th>\n",
       "    </tr>\n",
       "  </thead>\n",
       "  <tbody>\n",
       "    <tr>\n",
       "      <th>0</th>\n",
       "      <td>1</td>\n",
       "      <td>56</td>\n",
       "      <td>23</td>\n",
       "      <td>7</td>\n",
       "      <td>1</td>\n",
       "      <td>2</td>\n",
       "      <td>2</td>\n",
       "      <td>12</td>\n",
       "      <td>2</td>\n",
       "      <td>NaN</td>\n",
       "      <td>1</td>\n",
       "      <td>46</td>\n",
       "      <td>1</td>\n",
       "      <td>NaN</td>\n",
       "      <td>2</td>\n",
       "      <td>12</td>\n",
       "      <td>1</td>\n",
       "      <td>1</td>\n",
       "      <td>2</td>\n",
       "      <td>3</td>\n",
       "    </tr>\n",
       "    <tr>\n",
       "      <th>1</th>\n",
       "      <td>2</td>\n",
       "      <td>51</td>\n",
       "      <td>20</td>\n",
       "      <td>1</td>\n",
       "      <td>1</td>\n",
       "      <td>2</td>\n",
       "      <td>1</td>\n",
       "      <td>12</td>\n",
       "      <td>2</td>\n",
       "      <td>12</td>\n",
       "      <td>1</td>\n",
       "      <td>45</td>\n",
       "      <td>1</td>\n",
       "      <td>NaN</td>\n",
       "      <td>2</td>\n",
       "      <td>12</td>\n",
       "      <td>1</td>\n",
       "      <td>2</td>\n",
       "      <td>7</td>\n",
       "      <td>3</td>\n",
       "    </tr>\n",
       "    <tr>\n",
       "      <th>2</th>\n",
       "      <td>2</td>\n",
       "      <td>41</td>\n",
       "      <td>23</td>\n",
       "      <td>3</td>\n",
       "      <td>3</td>\n",
       "      <td>2</td>\n",
       "      <td>3</td>\n",
       "      <td>16</td>\n",
       "      <td>5</td>\n",
       "      <td>12</td>\n",
       "      <td>1</td>\n",
       "      <td>69</td>\n",
       "      <td>1</td>\n",
       "      <td>12</td>\n",
       "      <td>1</td>\n",
       "      <td>12</td>\n",
       "      <td>2</td>\n",
       "      <td>1</td>\n",
       "      <td>1</td>\n",
       "      <td>3</td>\n",
       "    </tr>\n",
       "    <tr>\n",
       "      <th>3</th>\n",
       "      <td>1</td>\n",
       "      <td>55</td>\n",
       "      <td>21</td>\n",
       "      <td>1</td>\n",
       "      <td>2</td>\n",
       "      <td>2</td>\n",
       "      <td>2</td>\n",
       "      <td>12</td>\n",
       "      <td>5</td>\n",
       "      <td>10</td>\n",
       "      <td>1</td>\n",
       "      <td>44</td>\n",
       "      <td>1</td>\n",
       "      <td>9</td>\n",
       "      <td>1</td>\n",
       "      <td>12</td>\n",
       "      <td>7</td>\n",
       "      <td>1</td>\n",
       "      <td>1</td>\n",
       "      <td>3</td>\n",
       "    </tr>\n",
       "    <tr>\n",
       "      <th>4</th>\n",
       "      <td>1</td>\n",
       "      <td>32</td>\n",
       "      <td>24</td>\n",
       "      <td>3</td>\n",
       "      <td>3</td>\n",
       "      <td>2</td>\n",
       "      <td>1</td>\n",
       "      <td>18</td>\n",
       "      <td>5</td>\n",
       "      <td>11</td>\n",
       "      <td>1</td>\n",
       "      <td>60</td>\n",
       "      <td>1</td>\n",
       "      <td>11</td>\n",
       "      <td>1</td>\n",
       "      <td>12</td>\n",
       "      <td>7</td>\n",
       "      <td>1</td>\n",
       "      <td>1</td>\n",
       "      <td>3</td>\n",
       "    </tr>\n",
       "  </tbody>\n",
       "</table>\n",
       "</div>"
      ],
      "text/plain": [
       "   HAPMAR  AGE  AGEWED  ATTEND  CHILDS  DIVORCE  EARNRS  EDUC  HOMPOP  INCOME  \\\n",
       "0       1   56      23       7       1        2       2    12       2     NaN   \n",
       "1       2   51      20       1       1        2       1    12       2      12   \n",
       "2       2   41      23       3       3        2       3    16       5      12   \n",
       "3       1   55      21       1       2        2       2    12       5      10   \n",
       "4       1   32      24       3       3        2       1    18       5      11   \n",
       "\n",
       "   MARITAL  PRESTIGE  RACE  RINCOME  SEX  SPEDUC  SPWRKSTA  VOTE72  WRKSTAT  \\\n",
       "0        1        46     1      NaN    2      12         1       1        2   \n",
       "1        1        45     1      NaN    2      12         1       2        7   \n",
       "2        1        69     1       12    1      12         2       1        1   \n",
       "3        1        44     1        9    1      12         7       1        1   \n",
       "4        1        60     1       11    1      12         7       1        1   \n",
       "\n",
       "   XNORCSIZ  \n",
       "0         3  \n",
       "1         3  \n",
       "2         3  \n",
       "3         3  \n",
       "4         3  "
      ]
     },
     "execution_count": 5,
     "metadata": {},
     "output_type": "execute_result"
    }
   ],
   "source": [
    "df.head()"
   ]
  },
  {
   "cell_type": "code",
   "execution_count": 176,
   "metadata": {
    "collapsed": false
   },
   "outputs": [
    {
     "data": {
      "text/plain": [
       "array([ 1.])"
      ]
     },
     "execution_count": 176,
     "metadata": {},
     "output_type": "execute_result"
    }
   ],
   "source": []
  },
  {
   "cell_type": "code",
   "execution_count": 177,
   "metadata": {
    "collapsed": false
   },
   "outputs": [],
   "source": []
  }
 ],
 "metadata": {
  "kernelspec": {
   "display_name": "Python 2",
   "language": "python",
   "name": "python2"
  },
  "language_info": {
   "codemirror_mode": {
    "name": "ipython",
    "version": 2
   },
   "file_extension": ".py",
   "mimetype": "text/x-python",
   "name": "python",
   "nbconvert_exporter": "python",
   "pygments_lexer": "ipython2",
   "version": "2.7.3"
  }
 },
 "nbformat": 4,
 "nbformat_minor": 0
}
