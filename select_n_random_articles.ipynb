{
 "cells": [
  {
   "cell_type": "code",
   "execution_count": 2,
   "metadata": {
    "collapsed": true
   },
   "outputs": [],
   "source": [
    "#######################\n",
    "# this is an improvement over the code: GSSproject/Code/DEPRECATED--get-random-articles-from-articleClasses-pickle.py"
   ]
  },
  {
   "cell_type": "code",
   "execution_count": 3,
   "metadata": {
    "collapsed": false
   },
   "outputs": [],
   "source": [
    "import cPickle as cp\n",
    "from random import sample\n",
    "import sys\n",
    "import pandas as pd\n",
    "import pickle\n",
    "\n",
    "sys.path.append('../')    \n",
    "import GSSUtility as GU\n",
    "sys.path.append('../Code/')\n",
    "from articleClass import *"
   ]
  },
  {
   "cell_type": "code",
   "execution_count": 4,
   "metadata": {
    "collapsed": true
   },
   "outputs": [],
   "source": [
    "pathToData = '../Data/'\n",
    "articleClasses = cp.load(open(pathToData + 'articleClasses.pickle', 'rb'))\n"
   ]
  },
  {
   "cell_type": "code",
   "execution_count": 9,
   "metadata": {
    "collapsed": false
   },
   "outputs": [],
   "source": [
    "def filterArticles(articleClasses, GSSYearsUsed=True, GSSYearsPossible=False, unusedGSSYears=False, noIVs=True, noDVs=True, \\\n",
    "                    centralIVs=True, nextYearBound=0, yearPublished=False, linearModels=True, GSSCentralVariable=False):\n",
    "    '''\n",
    "    This function filters the articleClasses list according to the following criteria.\n",
    "    arguments:\n",
    "     - noIVs: skip if no IVs specified\n",
    "     - noDVs: skip if no DVs specified\n",
    "     - GSSYearsPossible: skip if there are no GSS years possible besides the ones the article used\n",
    "     - unusedGSSYears=False: If True, then keep only those articles which have some GSS Years they could have used, but didn't\n",
    "     - centralIV: skip if there is no IV(s) designated as \"central\"\n",
    "     - nextYearBound = int: skip if next future year of data is not within \"int\" of last year used\n",
    "                     = 0 by default, in which case it's not used\n",
    "     - yearPublished=False: if set to True, yearPublished is required to be not None\n",
    "     - GSSCentralVariable=False: if True, keep only those articles where GSSCentralVariable is True in the mysql\n",
    "                                 table gss_question\n",
    "     - linearModels=False: if True, keep only those articles where model type is .. and I should think about what to use here.\n",
    "     - TODO: ADD AN \"UNUSED YEARS\" filter\n",
    "\n",
    "    '''\n",
    "    indicesToKeep = []\n",
    "    \n",
    "    pathToData = '../Data/'\n",
    "    if GSSCentralVariable:\n",
    "        gssCentral = cp.load(open(pathToData + 'ARTICLEID_GSS_CENTRAL_VARIABLE.pickle', 'rb'))\n",
    "\n",
    "    if linearModels:\n",
    "        modelUsed = pd.read_pickle(pathToData + 'ARTICLEID_AND_TRUE_IF_LINEAR_NONLINEAR.pickle')\n",
    "\n",
    "    for ind, a in enumerate(articleClasses):  # a = article\n",
    "        \n",
    "        # skip article if there is no info on DVs or IVs\n",
    "        # Should we change this to skip only if BOTH controls AND IVs are not there?\n",
    "        if noDVs:\n",
    "            if len(a.DVs) < 1: continue\n",
    "        \n",
    "        if noIVs: \n",
    "            if len(a.IVs) < 1: continue\n",
    "\n",
    "        if GSSYearsUsed:         \n",
    "            # if there is no used years of GSS possible to run the data on, then just skip this article\n",
    "            if len(a.GSSYearsUsed) < 1: continue\n",
    "            \n",
    "        if GSSYearsPossible:         \n",
    "            # if there is no un-used years of GSS possible to run the data on, then just skip this article\n",
    "            if len(a.GSSYearsPossible) < 1: continue\n",
    "\n",
    "        if unusedGSSYears:\n",
    "            unusedEarlyYears = [yr for yr in a.GSSYearsPossible if yr <= max(a.GSSYearsUsed)]\n",
    "            if len(unusedEarlyYears)==0: continue\n",
    "            \n",
    "        if centralIVs:    \n",
    "            # if GSS is not the central dataset used then skip\n",
    "            if len(a.centralIVs) < 1: continue\n",
    "                   \n",
    "        if nextYearBound:\n",
    "            # nextYear is an integer that specifies how soon the next available year of data is supposed to be.\n",
    "            # e.g. if nextYearBound = 4, then the new future year of data is to occur within 4 years of the last year of data\n",
    "            # actually used. \n",
    "            maxYearUsed = max(a.GSSYearsUsed)\n",
    "            futureYearsPossible = [yr for yr in a.GSSYearsPossible if yr > maxYearUsed]\n",
    "            if not futureYearsPossible or min(futureYearsPossible) > maxYearUsed + nextYearBound: continue\n",
    "                   \n",
    "        if yearPublished:\n",
    "            if not a.yearPublished: continue\n",
    "                        \n",
    "        if GSSCentralVariable:\n",
    "            if a.articleID not in gssCentral or gssCentral[a.articleID]==False: continue\n",
    "        \n",
    "        if linearModels:\n",
    "            if a.articleID not in modelUsed: continue            \n",
    "            \n",
    "        # if the article survived all of the checks above, add it to the list\n",
    "        indicesToKeep.append(ind)\n",
    "    \n",
    "    return [articleClasses[ind] for ind in indicesToKeep] # return elements that have survived\n",
    "                                                            # the filtering"
   ]
  },
  {
   "cell_type": "code",
   "execution_count": 17,
   "metadata": {
    "collapsed": false
   },
   "outputs": [],
   "source": [
    "# note, nextYearBound = 40 essentially requires that there's at least one future year\n",
    "articlesToUse = filterArticles(articleClasses, GSSYearsUsed=True, GSSYearsPossible=True, \\\n",
    "                                    centralIVs=True, nextYearBound=40, linearModels=False)        \n",
    "\n",
    "suitable_articles = []\n",
    "for article in articlesToUse:\n",
    "    maxYearUsed = max(article.GSSYearsUsed)\n",
    "    futureYearsPossible = [yr for yr in article.GSSYearsPossible if yr > maxYearUsed]\n",
    "    suitable_articles.append( (article.articleID, futureYearsPossible) )  \n",
    "    \n",
    "sample_i = sample(suitable_articles, 50)"
   ]
  },
  {
   "cell_type": "code",
   "execution_count": 23,
   "metadata": {
    "collapsed": false
   },
   "outputs": [
    {
     "data": {
      "text/plain": [
       "'5407, 4599, 4665, 1937, 3758, 1307, 5625, 1340, 2824, 6724, 1796, 5015, 1899, 2974, 2308, 1525, 1570, 4441, 2902, 4274, 1964, 6734, 3606, 6603, 2001, 5498, 3027, 2554, 21, 640, 1954, 6577, 3017, 6922, 1793, 6841, 1973, 1533, 3846, 2697, 3401, 5556, 6992, 2898, 6363, 2253, 3489, 1404, 1813, 6686'"
      ]
     },
     "execution_count": 23,
     "metadata": {},
     "output_type": "execute_result"
    }
   ],
   "source": [
    "', '.join([str(el[0]) for el in sample_i])"
   ]
  },
  {
   "cell_type": "code",
   "execution_count": null,
   "metadata": {
    "collapsed": true
   },
   "outputs": [],
   "source": []
  }
 ],
 "metadata": {
  "kernelspec": {
   "display_name": "Python 2",
   "language": "python",
   "name": "python2"
  }
 },
 "nbformat": 4,
 "nbformat_minor": 0
}
